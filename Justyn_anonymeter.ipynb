{
 "cells": [
  {
   "cell_type": "code",
   "execution_count": 25,
   "metadata": {},
   "outputs": [
    {
     "name": "stdout",
     "output_type": "stream",
     "text": [
      "Now is [Adult]: [Adt Income] adult.csv comparision.\n",
      "Now is [Adult] original data been load: [Adt Income] adult.csv.\n",
      "Bootstrap df: 3 times is done.\n",
      "Now is [Adult] by library SDV.\n",
      "Now is [Adult] by method GaussianCoupula in library SDV.\n",
      "Metafile loading time: 0.032 sec.\n",
      "We are execute SingleTable - GaussianCoupula.\n",
      "Model training time: 23.5003 sec.\n",
      "Sample as same as raw data: # 48842 rows data by GaussianCoupula in 4.188 秒\n"
     ]
    }
   ],
   "source": [
    "import os\n",
    "import PETs_Tool\n",
    "from anonymeter import evaluators\n",
    "\n",
    "\n",
    "folder_raw = '.\\\\data'\n",
    "folder_SD  = '.\\\\data_dpsd'\n",
    "\n",
    "\n",
    "\n",
    "dict_PETs_setting = {'adult' : {'filename'    : '[Adult]'\n",
    "                               ,'read_params' : {'downcast'       : 'N' # 'Y'\n",
    "                                                ,'label_encoding' : 'Y'}\n",
    "                            #    ,'describe_params' : {'data': {'?'}}\n",
    "                               }\n",
    "                    }\n",
    "dict_filename = {'adult': {'raw' : '[Adt Income] adult.csv'\n",
    "                          }\n",
    "                }\n",
    "dict_filename = {key: {**value, 'params': dict_PETs_setting.get(key, {})} \n",
    "                 for key, value in dict_filename.items()}\n",
    "# print(dict_filename)\n",
    "\n",
    "\n",
    "\n",
    "# update default in SDV\n",
    "list_adult_SD_SDV_train = ['GaussianCoupula'\n",
    "                        #    'CoupulaGAN'\n",
    "                        #   ,'CTGAN'\n",
    "                        #   ,'GaussianCoupula'\n",
    "                        #   ,'TVAE'\n",
    "                          ]\n",
    "dict_adult_SD_SDV_train = {k: {'sd_params': {'model': k}} for k in list_adult_SD_SDV_train}\n",
    "dict_filename = {key: PETs_Tool.PETs_util.update_append_nested(value\n",
    "                                                              ,{'SD_train': dict_adult_SD_SDV_train}\n",
    "                                                              ) \n",
    "                 for key, value in dict_filename.items()}\n",
    "dict_adult_SD_SDV_train_default = {'sd_params': {'save_model': 'N'}\n",
    "                                  ,'sample'   : 'Y'\n",
    "                                  ,'sample_params' : {'sample_rows_as_raw' : 'Y'\n",
    "                                                     ,'save_data' : 'N'}\n",
    "                                  }\n",
    "dict_adult_SD_train = {'SDV' : {key: PETs_Tool.PETs_util.update_append_nested(dict_adult_SD_SDV_train_default\n",
    "                                                                       ,dict_adult_SD_SDV_train.get(key ,{})\n",
    "                                                                       )\n",
    "                                for key in dict_adult_SD_SDV_train\n",
    "                               }\n",
    "                      }\n",
    "dict_filename = {k1: {k2: dict_adult_SD_train if k2 == 'SD_train' else v2\n",
    "                      for k2 ,v2 in dict_filename[k1].items()\n",
    "                     } \n",
    "                 for k1 in dict_filename\n",
    "                }\n",
    "# print(dict_filename)\n",
    "\n",
    "\n",
    "\n",
    "dict_bootstrap = {'bootstrap_params' : {'bootstrap_time' : 3\n",
    "                                       ,'sample_ratio'   : 0.8\n",
    "                                       ,'random_state'   : None\n",
    "                                       }\n",
    "                 ,'index_params' : {'index_save'      : 'N'\n",
    "                                   ,'index_save_data' : 'N'\n",
    "                                   ,'index_filename'  : 'Anomymeter'\n",
    "                                   }\n",
    "                 }\n",
    "# import json\n",
    "# print(json.dumps(dict_bootstrap ,indent=4))\n",
    "\n",
    "\n",
    "\n",
    "for __dataset ,v in dict_filename.items():\n",
    "    __filename = v['params']['filename']\n",
    "    print(f\"Now is {__filename}: {v['raw']} comparision.\")\n",
    "\n",
    "    __Loader = PETs_Tool.PETs_Loader(os.path.join(folder_raw ,v['raw'])\n",
    "                                    ,v['params']\n",
    "                                    )\n",
    "    __df_ori = __Loader.data\n",
    "    print(f\"Now is {__filename} original data been load: {v['raw']}.\")\n",
    "\n",
    "    dict_boostrap_index = PETs_Tool.PETs_util.df_bootstrap(__df_ori ,dict_bootstrap)\n",
    "\n",
    "    for __library ,__dict_sd in v['SD_train'].items():\n",
    "        print(f\"Now is {__filename} by library {__library}.\")\n",
    "\n",
    "        for __method ,__params in __dict_sd.items():\n",
    "            print(f\"Now is {__filename} by method {__method} in library {__library}.\")\n",
    "\n",
    "            import copy\n",
    "            __Loader_bkup = copy.deepcopy(__Loader)\n",
    "            for time ,dict_idx in dict_boostrap_index.items():\n",
    "                __df_control  = __Loader.data.loc[dict_boostrap_index[time]['idx_validation']].reset_index(drop=True)\n",
    "                __Loader.data = __Loader.data.loc[dict_boostrap_index[time]['idx_train'     ]].reset_index(drop=True)\n",
    "                __df_syn = PETs_Tool.PETs_SD_SDV(__Loader ,__params).synthetic_data\n",
    "\n",
    "                # recover\n",
    "                __Loader = __Loader_bkup\n",
    "                break\n",
    "\n",
    "                # 20231116, Justyn: refer to\n",
    "                # https://github.com/statice/anonymeter/blob/main/notebooks/anonymeter_example.ipynb\n",
    "                # https://storage.googleapis.com/statice-public/anonymeter-datasets\n",
    "\n"
   ]
  },
  {
   "cell_type": "code",
   "execution_count": 2,
   "metadata": {},
   "outputs": [
    {
     "data": {
      "text/plain": [
       "(48842, 15)"
      ]
     },
     "execution_count": 2,
     "metadata": {},
     "output_type": "execute_result"
    }
   ],
   "source": [
    "__Loader.data.shape"
   ]
  },
  {
   "cell_type": "code",
   "execution_count": 3,
   "metadata": {},
   "outputs": [
    {
     "data": {
      "text/plain": [
       "(48842, 15)"
      ]
     },
     "execution_count": 3,
     "metadata": {},
     "output_type": "execute_result"
    }
   ],
   "source": [
    "__Loader_bkup.data.shape"
   ]
  },
  {
   "cell_type": "code",
   "execution_count": 26,
   "metadata": {},
   "outputs": [
    {
     "name": "stdout",
     "output_type": "stream",
     "text": [
      "Metafile loading time: 0.065 sec.\n",
      "We are execute SingleTable - GaussianCoupula.\n",
      "Model training time: 20.4795 sec.\n",
      "Sample as same as raw data: # 48842 rows data by GaussianCoupula in 2.4595 秒\n"
     ]
    }
   ],
   "source": [
    "class anonymeter():\n",
    "    import PETs_Tool\n",
    "    # from .PETs_Tool           import PETs_SD_SDV\n",
    "    # from .PETs_Tool.PETs_util import update_append_nested\n",
    "\n",
    "    def __init__(self ,loader ,idx_ori ,idx_control ,params={}):\n",
    "        ####### ####### #######\n",
    "        # init - params       #\n",
    "        ####### ####### #######\n",
    "        # input > loader > default\n",
    "        default_params = {'sd_params': {'metadata'    : 'SingleTable'\n",
    "                                       ,'save_model': 'N'}\n",
    "                         ,'sample'   : 'Y'\n",
    "                         ,'sample_params' : {'sample_rows_as_raw' : 'Y'\n",
    "                                            ,'save_data' : 'N'}\n",
    "                         ,'evaluate_params' : {'anonymeter': {'SinglingOut': {'univariate'   : 'Y'\n",
    "                                                                             ,'multivariate' : 'Y'\n",
    "                                                                             }\n",
    "                                                             ,'SinglingOut_params' : {'evaluate_mode' : 'univariate'\n",
    "                                                                                     ,'n_attacks'     : 500\n",
    "                                                                                     ,'n_cols'        : 2\n",
    "                                                                                     }\n",
    "                                                             ,'SinglingOut_Multi': 'Y'\n",
    "                                                             }\n",
    "                                              }\n",
    "                         }\n",
    "        self.params = update_append_nested(default_params\n",
    "                                          ,update_append_nested(loader.params ,params))\n",
    "        ####### ####### #######\n",
    "        # init - ori ,ctrl ,syn #\n",
    "        ####### ####### #######\n",
    "        __data = loader.data.copy()\n",
    "        self.data_ori     = __data.loc[idx_ori    ].reset_index(drop=True)\n",
    "        self.data_control = __data.loc[idx_control].reset_index(drop=True)\n",
    "        loader.data       = self.data_ori\n",
    "        self.data_syn     = PETs_Tool.PETs_SD_SDV(loader ,params).synthetic_data\n",
    "        self.data = __data\n",
    "\n",
    "\n",
    "\n",
    "\n",
    "    def __SinglingOutEvaluator(self\n",
    "                              ,n_attacks = 500\n",
    "                              ):\n",
    "        # anonymeter\\evaluators\\singling_out_evaluator.py:97:\n",
    "        # FutureWarning: is_categorical_dtype is deprecated and will be removed in a future version.\n",
    "        # Use isinstance(dtype, CategoricalDtype) instead elif is_categorical_dtype(values)\n",
    "        import warnings\n",
    "        warnings.filterwarnings(\"ignore\" ,category=FutureWarning)\n",
    "\n",
    "        __evaluator = evaluators.SinglingOutEvaluator(ori       = self.data_ori\n",
    "                                                     ,syn       = self.data_syn\n",
    "                                                     ,control   = self.data_control\n",
    "                                                     ,n_attacks = n_attacks\n",
    "                                                     )\n",
    "        \n",
    "\n",
    "\n",
    "\n",
    "from PETs_Tool.PETs_util import update_append_nested\n",
    "test = anonymeter(__Loader\n",
    "          ,idx_ori     = dict_boostrap_index[time]['idx_train'     ]\n",
    "          ,idx_control = dict_boostrap_index[time]['idx_validation']\n",
    "          ,params = update_append_nested(__params\n",
    "                                        ,{'evaluate_params' : {'anonymeter': {'SinglingOut': {'univariate'   : 'Y'\n",
    "                                                                                             ,'multivariate' : 'N'\n",
    "                                                                                             }}}})\n",
    "          )"
   ]
  },
  {
   "cell_type": "code",
   "execution_count": 27,
   "metadata": {},
   "outputs": [
    {
     "name": "stdout",
     "output_type": "stream",
     "text": [
      "{\n",
      "    \"sd_params\": {\n",
      "        \"metadata\": \"SingleTable\",\n",
      "        \"save_model\": \"N\",\n",
      "        \"model\": \"GaussianCoupula\"\n",
      "    },\n",
      "    \"sample\": \"Y\",\n",
      "    \"sample_params\": {\n",
      "        \"sample_rows_as_raw\": \"Y\",\n",
      "        \"save_data\": \"N\"\n",
      "    },\n",
      "    \"evaluate_params\": {\n",
      "        \"anonymeter\": {\n",
      "            \"SinglingOut\": {\n",
      "                \"univariate\": \"Y\",\n",
      "                \"multivariate\": \"N\"\n",
      "            },\n",
      "            \"SinglingOut_params\": {\n",
      "                \"evaluate_mode\": \"univariate\",\n",
      "                \"n_attacks\": 500,\n",
      "                \"n_cols\": 2\n",
      "            },\n",
      "            \"SinglingOut_Multi\": \"Y\"\n",
      "        }\n",
      "    },\n",
      "    \"filename\": \"[Adult]\",\n",
      "    \"read_method\": \"pandas_csv\",\n",
      "    \"read_params\": {\n",
      "        \"downcast\": \"N\",\n",
      "        \"label_encoding\": \"Y\",\n",
      "        \"str_col\": [],\n",
      "        \"header_exist\": \"Y\",\n",
      "        \"header\": [],\n",
      "        \"sheet_name\": \"\"\n",
      "    }\n",
      "}\n"
     ]
    }
   ],
   "source": [
    "\n",
    "import json\n",
    "print(json.dumps(test.params ,indent=4))"
   ]
  },
  {
   "cell_type": "code",
   "execution_count": 8,
   "metadata": {},
   "outputs": [
    {
     "name": "stderr",
     "output_type": "stream",
     "text": [
      "Found 203 failed queries out of 500. Check DEBUG messages for more details.\n"
     ]
    },
    {
     "name": "stdout",
     "output_type": "stream",
     "text": [
      "PrivacyRisk(value=0.0, ci=(0.0, 0.02097573058876182))\n",
      "Successs rate of main attack: SuccessRate(value=0.0593852071649292, error=0.020359586481777707)\n",
      "Successs rate of baseline attack: SuccessRate(value=0.0038121702307761206, error=0.00381217023077612)\n",
      "Successs rate of control attack: SuccessRate(value=0.07007466034343092, error=0.022045564284939794)\n"
     ]
    }
   ],
   "source": [
    "\n",
    "\n",
    "__evaluator = {}\n",
    "__evaluator['SinglingOutEvaluator'] = {}\n",
    "\n",
    "__evaluator['SinglingOutEvaluator']['univariate'] =\\\n",
    "    evaluators.SinglingOutEvaluator(ori       = __Loader.data\n",
    "                                   ,syn       = __df_syn\n",
    "                                   ,control   = __df_control\n",
    "                                   ,n_attacks = 500 # 100 # 500\n",
    "                                   )\n",
    "\n",
    "try:\n",
    "    __evaluator['SinglingOutEvaluator']['univariate'].evaluate(mode='univariate')\n",
    "    print(__evaluator['SinglingOutEvaluator']['univariate'].risk())\n",
    "    print(\"Successs rate of main attack:\"     ,__evaluator['SinglingOutEvaluator']['univariate'].results().attack_rate)\n",
    "    print(\"Successs rate of baseline attack:\" ,__evaluator['SinglingOutEvaluator']['univariate'].results().baseline_rate)\n",
    "    print(\"Successs rate of control attack:\"  ,__evaluator['SinglingOutEvaluator']['univariate'].results().control_rate)\n",
    "except RuntimeError as ex:\n",
    "    print(f\"Singling out evaluation failed with {ex}. Please re-run this cell.\"\n",
    "          \"For more stable results increase `n_attacks`. Note that this will \"\n",
    "          \"make the evaluation slower.\")"
   ]
  },
  {
   "cell_type": "code",
   "execution_count": 6,
   "metadata": {},
   "outputs": [
    {
     "name": "stderr",
     "output_type": "stream",
     "text": [
      "Found 92 failed queries out of 100. Check DEBUG messages for more details.\n"
     ]
    },
    {
     "ename": "KeyboardInterrupt",
     "evalue": "",
     "output_type": "error",
     "traceback": [
      "\u001b[1;31m---------------------------------------------------------------------------\u001b[0m",
      "\u001b[1;31mKeyboardInterrupt\u001b[0m                         Traceback (most recent call last)",
      "Cell \u001b[1;32mIn[6], line 16\u001b[0m\n\u001b[0;32m      8\u001b[0m __evaluator \u001b[39m=\u001b[39m evaluators\u001b[39m.\u001b[39mSinglingOutEvaluator(ori     \u001b[39m=\u001b[39m __Loader\u001b[39m.\u001b[39mdata\n\u001b[0;32m      9\u001b[0m                                              ,syn     \u001b[39m=\u001b[39m __df_syn\n\u001b[0;32m     10\u001b[0m                                              ,control \u001b[39m=\u001b[39m __df_control\n\u001b[0;32m     11\u001b[0m                                              ,n_attacks\u001b[39m=\u001b[39m\u001b[39m100\u001b[39m \u001b[39m# 500\u001b[39;00m\n\u001b[0;32m     12\u001b[0m                                              ,n_cols\u001b[39m=\u001b[39m\u001b[39m4\u001b[39m\n\u001b[0;32m     13\u001b[0m                                              )\n\u001b[0;32m     15\u001b[0m \u001b[39mtry\u001b[39;00m:\n\u001b[1;32m---> 16\u001b[0m     __evaluator\u001b[39m.\u001b[39;49mevaluate(mode\u001b[39m=\u001b[39;49m\u001b[39m'\u001b[39;49m\u001b[39mmultivariate\u001b[39;49m\u001b[39m'\u001b[39;49m)\n\u001b[0;32m     17\u001b[0m     __risk \u001b[39m=\u001b[39m __evaluator\u001b[39m.\u001b[39mrisk()\n\u001b[0;32m     18\u001b[0m     \u001b[39mprint\u001b[39m(__risk)\n",
      "File \u001b[1;32mc:\\Program Files\\Python310\\lib\\site-packages\\anonymeter\\evaluators\\singling_out_evaluator.py:474\u001b[0m, in \u001b[0;36mSinglingOutEvaluator.evaluate\u001b[1;34m(self, mode)\u001b[0m\n\u001b[0;32m    471\u001b[0m \u001b[39mself\u001b[39m\u001b[39m.\u001b[39m_baseline_queries \u001b[39m=\u001b[39m _evaluate_queries(df\u001b[39m=\u001b[39m\u001b[39mself\u001b[39m\u001b[39m.\u001b[39m_ori, queries\u001b[39m=\u001b[39mbaseline_queries)\n\u001b[0;32m    472\u001b[0m \u001b[39mself\u001b[39m\u001b[39m.\u001b[39m_n_baseline \u001b[39m=\u001b[39m \u001b[39mlen\u001b[39m(\u001b[39mself\u001b[39m\u001b[39m.\u001b[39m_baseline_queries)\n\u001b[1;32m--> 474\u001b[0m queries \u001b[39m=\u001b[39m _generate_singling_out_queries(\n\u001b[0;32m    475\u001b[0m     df\u001b[39m=\u001b[39;49m\u001b[39mself\u001b[39;49m\u001b[39m.\u001b[39;49m_syn, n_attacks\u001b[39m=\u001b[39;49m\u001b[39mself\u001b[39;49m\u001b[39m.\u001b[39;49m_n_attacks, n_cols\u001b[39m=\u001b[39;49m\u001b[39mself\u001b[39;49m\u001b[39m.\u001b[39;49m_n_cols, mode\u001b[39m=\u001b[39;49mmode\n\u001b[0;32m    476\u001b[0m )\n\u001b[0;32m    477\u001b[0m \u001b[39mself\u001b[39m\u001b[39m.\u001b[39m_queries \u001b[39m=\u001b[39m _evaluate_queries(df\u001b[39m=\u001b[39m\u001b[39mself\u001b[39m\u001b[39m.\u001b[39m_ori, queries\u001b[39m=\u001b[39mqueries)\n\u001b[0;32m    478\u001b[0m \u001b[39mself\u001b[39m\u001b[39m.\u001b[39m_n_success \u001b[39m=\u001b[39m \u001b[39mlen\u001b[39m(\u001b[39mself\u001b[39m\u001b[39m.\u001b[39m_queries)\n",
      "File \u001b[1;32mc:\\Program Files\\Python310\\lib\\site-packages\\anonymeter\\evaluators\\singling_out_evaluator.py:364\u001b[0m, in \u001b[0;36m_generate_singling_out_queries\u001b[1;34m(df, mode, n_attacks, n_cols)\u001b[0m\n\u001b[0;32m    361\u001b[0m     queries \u001b[39m=\u001b[39m univariate_singling_out_queries(df\u001b[39m=\u001b[39mdf, n_queries\u001b[39m=\u001b[39mn_attacks)\n\u001b[0;32m    363\u001b[0m \u001b[39melif\u001b[39;00m mode \u001b[39m==\u001b[39m \u001b[39m\"\u001b[39m\u001b[39mmultivariate\u001b[39m\u001b[39m\"\u001b[39m:\n\u001b[1;32m--> 364\u001b[0m     queries \u001b[39m=\u001b[39m multivariate_singling_out_queries(df\u001b[39m=\u001b[39;49mdf, n_queries\u001b[39m=\u001b[39;49mn_attacks, n_cols\u001b[39m=\u001b[39;49mn_cols)\n\u001b[0;32m    366\u001b[0m \u001b[39melse\u001b[39;00m:\n\u001b[0;32m    367\u001b[0m     \u001b[39mraise\u001b[39;00m \u001b[39mRuntimeError\u001b[39;00m(\u001b[39mf\u001b[39m\u001b[39m\"\u001b[39m\u001b[39mParameter `mode` can be either `univariate` or `multivariate`. Got \u001b[39m\u001b[39m{\u001b[39;00mmode\u001b[39m}\u001b[39;00m\u001b[39m instead.\u001b[39m\u001b[39m\"\u001b[39m)\n",
      "File \u001b[1;32mc:\\Program Files\\Python310\\lib\\site-packages\\anonymeter\\evaluators\\singling_out_evaluator.py:341\u001b[0m, in \u001b[0;36mmultivariate_singling_out_queries\u001b[1;34m(df, n_queries, n_cols)\u001b[0m\n\u001b[0;32m    337\u001b[0m     columns \u001b[39m=\u001b[39m rng\u001b[39m.\u001b[39mchoice(df\u001b[39m.\u001b[39mcolumns, size\u001b[39m=\u001b[39mn_cols, replace\u001b[39m=\u001b[39m\u001b[39mFalse\u001b[39;00m)\u001b[39m.\u001b[39mtolist()\n\u001b[0;32m    339\u001b[0m     query \u001b[39m=\u001b[39m _query_from_record(record\u001b[39m=\u001b[39mrecord, dtypes\u001b[39m=\u001b[39mdf\u001b[39m.\u001b[39mdtypes, columns\u001b[39m=\u001b[39mcolumns, medians\u001b[39m=\u001b[39mmedians)\n\u001b[1;32m--> 341\u001b[0m     so_queries\u001b[39m.\u001b[39;49mcheck_and_append(query\u001b[39m=\u001b[39;49mquery, df\u001b[39m=\u001b[39;49mdf)\n\u001b[0;32m    343\u001b[0m \u001b[39mreturn\u001b[39;00m so_queries\u001b[39m.\u001b[39mqueries\n",
      "File \u001b[1;32mc:\\Program Files\\Python310\\lib\\site-packages\\anonymeter\\evaluators\\singling_out_evaluator.py:249\u001b[0m, in \u001b[0;36mUniqueSinglingOutQueries.check_and_append\u001b[1;34m(self, query, df)\u001b[0m\n\u001b[0;32m    245\u001b[0m sorted_query \u001b[39m=\u001b[39m \u001b[39m\"\u001b[39m\u001b[39m\"\u001b[39m\u001b[39m.\u001b[39mjoin(\u001b[39msorted\u001b[39m(query))\n\u001b[0;32m    247\u001b[0m \u001b[39mif\u001b[39;00m sorted_query \u001b[39mnot\u001b[39;00m \u001b[39min\u001b[39;00m \u001b[39mself\u001b[39m\u001b[39m.\u001b[39m_set:\n\u001b[1;32m--> 249\u001b[0m     counts \u001b[39m=\u001b[39m safe_query_counts(query\u001b[39m=\u001b[39;49mquery, df\u001b[39m=\u001b[39;49mdf)\n\u001b[0;32m    251\u001b[0m     \u001b[39mif\u001b[39;00m counts \u001b[39mis\u001b[39;00m \u001b[39mnot\u001b[39;00m \u001b[39mNone\u001b[39;00m \u001b[39mand\u001b[39;00m counts \u001b[39m==\u001b[39m \u001b[39m1\u001b[39m:\n\u001b[0;32m    252\u001b[0m         \u001b[39mself\u001b[39m\u001b[39m.\u001b[39m_set\u001b[39m.\u001b[39madd(sorted_query)\n",
      "File \u001b[1;32mc:\\Program Files\\Python310\\lib\\site-packages\\anonymeter\\evaluators\\singling_out_evaluator.py:124\u001b[0m, in \u001b[0;36msafe_query_counts\u001b[1;34m(query, df)\u001b[0m\n\u001b[0;32m    122\u001b[0m \u001b[39m\u001b[39m\u001b[39m\"\"\"Return number of elements satisfying a given query.\"\"\"\u001b[39;00m\n\u001b[0;32m    123\u001b[0m \u001b[39mtry\u001b[39;00m:\n\u001b[1;32m--> 124\u001b[0m     \u001b[39mreturn\u001b[39;00m \u001b[39mlen\u001b[39m(df\u001b[39m.\u001b[39;49mquery(query, engine\u001b[39m=\u001b[39;49m\u001b[39m\"\u001b[39;49m\u001b[39mpython\u001b[39;49m\u001b[39m\"\u001b[39;49m))\n\u001b[0;32m    125\u001b[0m \u001b[39mexcept\u001b[39;00m \u001b[39mException\u001b[39;00m \u001b[39mas\u001b[39;00m ex:\n\u001b[0;32m    126\u001b[0m     logger\u001b[39m.\u001b[39mdebug(\u001b[39mf\u001b[39m\u001b[39m\"\u001b[39m\u001b[39mQuery \u001b[39m\u001b[39m{\u001b[39;00mquery\u001b[39m}\u001b[39;00m\u001b[39m failed with \u001b[39m\u001b[39m{\u001b[39;00mex\u001b[39m}\u001b[39;00m\u001b[39m.\u001b[39m\u001b[39m\"\u001b[39m)\n",
      "File \u001b[1;32mc:\\Program Files\\Python310\\lib\\site-packages\\pandas\\core\\frame.py:4599\u001b[0m, in \u001b[0;36mDataFrame.query\u001b[1;34m(self, expr, inplace, **kwargs)\u001b[0m\n\u001b[0;32m   4597\u001b[0m kwargs[\u001b[39m\"\u001b[39m\u001b[39mlevel\u001b[39m\u001b[39m\"\u001b[39m] \u001b[39m=\u001b[39m kwargs\u001b[39m.\u001b[39mpop(\u001b[39m\"\u001b[39m\u001b[39mlevel\u001b[39m\u001b[39m\"\u001b[39m, \u001b[39m0\u001b[39m) \u001b[39m+\u001b[39m \u001b[39m1\u001b[39m\n\u001b[0;32m   4598\u001b[0m kwargs[\u001b[39m\"\u001b[39m\u001b[39mtarget\u001b[39m\u001b[39m\"\u001b[39m] \u001b[39m=\u001b[39m \u001b[39mNone\u001b[39;00m\n\u001b[1;32m-> 4599\u001b[0m res \u001b[39m=\u001b[39m \u001b[39mself\u001b[39m\u001b[39m.\u001b[39meval(expr, \u001b[39m*\u001b[39m\u001b[39m*\u001b[39mkwargs)\n\u001b[0;32m   4601\u001b[0m \u001b[39mtry\u001b[39;00m:\n\u001b[0;32m   4602\u001b[0m     result \u001b[39m=\u001b[39m \u001b[39mself\u001b[39m\u001b[39m.\u001b[39mloc[res]\n",
      "File \u001b[1;32mc:\\Program Files\\Python310\\lib\\site-packages\\pandas\\core\\frame.py:4725\u001b[0m, in \u001b[0;36mDataFrame.eval\u001b[1;34m(self, expr, inplace, **kwargs)\u001b[0m\n\u001b[0;32m   4722\u001b[0m     kwargs[\u001b[39m\"\u001b[39m\u001b[39mtarget\u001b[39m\u001b[39m\"\u001b[39m] \u001b[39m=\u001b[39m \u001b[39mself\u001b[39m\n\u001b[0;32m   4723\u001b[0m kwargs[\u001b[39m\"\u001b[39m\u001b[39mresolvers\u001b[39m\u001b[39m\"\u001b[39m] \u001b[39m=\u001b[39m \u001b[39mtuple\u001b[39m(kwargs\u001b[39m.\u001b[39mget(\u001b[39m\"\u001b[39m\u001b[39mresolvers\u001b[39m\u001b[39m\"\u001b[39m, ())) \u001b[39m+\u001b[39m resolvers\n\u001b[1;32m-> 4725\u001b[0m \u001b[39mreturn\u001b[39;00m _eval(expr, inplace\u001b[39m=\u001b[39minplace, \u001b[39m*\u001b[39m\u001b[39m*\u001b[39mkwargs)\n",
      "File \u001b[1;32mc:\\Program Files\\Python310\\lib\\site-packages\\pandas\\core\\computation\\eval.py:357\u001b[0m, in \u001b[0;36meval\u001b[1;34m(expr, parser, engine, local_dict, global_dict, resolvers, level, target, inplace)\u001b[0m\n\u001b[0;32m    355\u001b[0m eng \u001b[39m=\u001b[39m ENGINES[engine]\n\u001b[0;32m    356\u001b[0m eng_inst \u001b[39m=\u001b[39m eng(parsed_expr)\n\u001b[1;32m--> 357\u001b[0m ret \u001b[39m=\u001b[39m eng_inst\u001b[39m.\u001b[39;49mevaluate()\n\u001b[0;32m    359\u001b[0m \u001b[39mif\u001b[39;00m parsed_expr\u001b[39m.\u001b[39massigner \u001b[39mis\u001b[39;00m \u001b[39mNone\u001b[39;00m:\n\u001b[0;32m    360\u001b[0m     \u001b[39mif\u001b[39;00m multi_line:\n",
      "File \u001b[1;32mc:\\Program Files\\Python310\\lib\\site-packages\\pandas\\core\\computation\\engines.py:134\u001b[0m, in \u001b[0;36mPythonEngine.evaluate\u001b[1;34m(self)\u001b[0m\n\u001b[0;32m    133\u001b[0m \u001b[39mdef\u001b[39;00m \u001b[39mevaluate\u001b[39m(\u001b[39mself\u001b[39m):\n\u001b[1;32m--> 134\u001b[0m     \u001b[39mreturn\u001b[39;00m \u001b[39mself\u001b[39;49m\u001b[39m.\u001b[39;49mexpr()\n",
      "File \u001b[1;32mc:\\Program Files\\Python310\\lib\\site-packages\\pandas\\core\\computation\\expr.py:815\u001b[0m, in \u001b[0;36mExpr.__call__\u001b[1;34m(self)\u001b[0m\n\u001b[0;32m    814\u001b[0m \u001b[39mdef\u001b[39;00m \u001b[39m__call__\u001b[39m(\u001b[39mself\u001b[39m):\n\u001b[1;32m--> 815\u001b[0m     \u001b[39mreturn\u001b[39;00m \u001b[39mself\u001b[39;49m\u001b[39m.\u001b[39;49mterms(\u001b[39mself\u001b[39;49m\u001b[39m.\u001b[39;49menv)\n",
      "File \u001b[1;32mc:\\Program Files\\Python310\\lib\\site-packages\\pandas\\core\\computation\\ops.py:407\u001b[0m, in \u001b[0;36mBinOp.__call__\u001b[1;34m(self, env)\u001b[0m\n\u001b[0;32m    394\u001b[0m \u001b[39m\u001b[39m\u001b[39m\"\"\"\u001b[39;00m\n\u001b[0;32m    395\u001b[0m \u001b[39mRecursively evaluate an expression in Python space.\u001b[39;00m\n\u001b[0;32m    396\u001b[0m \n\u001b[1;32m   (...)\u001b[0m\n\u001b[0;32m    404\u001b[0m \u001b[39m    The result of an evaluated expression.\u001b[39;00m\n\u001b[0;32m    405\u001b[0m \u001b[39m\"\"\"\u001b[39;00m\n\u001b[0;32m    406\u001b[0m \u001b[39m# recurse over the left/right nodes\u001b[39;00m\n\u001b[1;32m--> 407\u001b[0m left \u001b[39m=\u001b[39m \u001b[39mself\u001b[39;49m\u001b[39m.\u001b[39;49mlhs(env)\n\u001b[0;32m    408\u001b[0m right \u001b[39m=\u001b[39m \u001b[39mself\u001b[39m\u001b[39m.\u001b[39mrhs(env)\n\u001b[0;32m    410\u001b[0m \u001b[39mreturn\u001b[39;00m \u001b[39mself\u001b[39m\u001b[39m.\u001b[39mfunc(left, right)\n",
      "File \u001b[1;32mc:\\Program Files\\Python310\\lib\\site-packages\\pandas\\core\\computation\\ops.py:407\u001b[0m, in \u001b[0;36mBinOp.__call__\u001b[1;34m(self, env)\u001b[0m\n\u001b[0;32m    394\u001b[0m \u001b[39m\u001b[39m\u001b[39m\"\"\"\u001b[39;00m\n\u001b[0;32m    395\u001b[0m \u001b[39mRecursively evaluate an expression in Python space.\u001b[39;00m\n\u001b[0;32m    396\u001b[0m \n\u001b[1;32m   (...)\u001b[0m\n\u001b[0;32m    404\u001b[0m \u001b[39m    The result of an evaluated expression.\u001b[39;00m\n\u001b[0;32m    405\u001b[0m \u001b[39m\"\"\"\u001b[39;00m\n\u001b[0;32m    406\u001b[0m \u001b[39m# recurse over the left/right nodes\u001b[39;00m\n\u001b[1;32m--> 407\u001b[0m left \u001b[39m=\u001b[39m \u001b[39mself\u001b[39;49m\u001b[39m.\u001b[39;49mlhs(env)\n\u001b[0;32m    408\u001b[0m right \u001b[39m=\u001b[39m \u001b[39mself\u001b[39m\u001b[39m.\u001b[39mrhs(env)\n\u001b[0;32m    410\u001b[0m \u001b[39mreturn\u001b[39;00m \u001b[39mself\u001b[39m\u001b[39m.\u001b[39mfunc(left, right)\n",
      "File \u001b[1;32mc:\\Program Files\\Python310\\lib\\site-packages\\pandas\\core\\computation\\ops.py:407\u001b[0m, in \u001b[0;36mBinOp.__call__\u001b[1;34m(self, env)\u001b[0m\n\u001b[0;32m    394\u001b[0m \u001b[39m\u001b[39m\u001b[39m\"\"\"\u001b[39;00m\n\u001b[0;32m    395\u001b[0m \u001b[39mRecursively evaluate an expression in Python space.\u001b[39;00m\n\u001b[0;32m    396\u001b[0m \n\u001b[1;32m   (...)\u001b[0m\n\u001b[0;32m    404\u001b[0m \u001b[39m    The result of an evaluated expression.\u001b[39;00m\n\u001b[0;32m    405\u001b[0m \u001b[39m\"\"\"\u001b[39;00m\n\u001b[0;32m    406\u001b[0m \u001b[39m# recurse over the left/right nodes\u001b[39;00m\n\u001b[1;32m--> 407\u001b[0m left \u001b[39m=\u001b[39m \u001b[39mself\u001b[39;49m\u001b[39m.\u001b[39;49mlhs(env)\n\u001b[0;32m    408\u001b[0m right \u001b[39m=\u001b[39m \u001b[39mself\u001b[39m\u001b[39m.\u001b[39mrhs(env)\n\u001b[0;32m    410\u001b[0m \u001b[39mreturn\u001b[39;00m \u001b[39mself\u001b[39m\u001b[39m.\u001b[39mfunc(left, right)\n",
      "File \u001b[1;32mc:\\Program Files\\Python310\\lib\\site-packages\\pandas\\core\\computation\\ops.py:410\u001b[0m, in \u001b[0;36mBinOp.__call__\u001b[1;34m(self, env)\u001b[0m\n\u001b[0;32m    407\u001b[0m left \u001b[39m=\u001b[39m \u001b[39mself\u001b[39m\u001b[39m.\u001b[39mlhs(env)\n\u001b[0;32m    408\u001b[0m right \u001b[39m=\u001b[39m \u001b[39mself\u001b[39m\u001b[39m.\u001b[39mrhs(env)\n\u001b[1;32m--> 410\u001b[0m \u001b[39mreturn\u001b[39;00m \u001b[39mself\u001b[39;49m\u001b[39m.\u001b[39;49mfunc(left, right)\n",
      "File \u001b[1;32mc:\\Program Files\\Python310\\lib\\site-packages\\pandas\\core\\ops\\common.py:76\u001b[0m, in \u001b[0;36m_unpack_zerodim_and_defer.<locals>.new_method\u001b[1;34m(self, other)\u001b[0m\n\u001b[0;32m     72\u001b[0m             \u001b[39mreturn\u001b[39;00m \u001b[39mNotImplemented\u001b[39m\n\u001b[0;32m     74\u001b[0m other \u001b[39m=\u001b[39m item_from_zerodim(other)\n\u001b[1;32m---> 76\u001b[0m \u001b[39mreturn\u001b[39;00m method(\u001b[39mself\u001b[39;49m, other)\n",
      "File \u001b[1;32mc:\\Program Files\\Python310\\lib\\site-packages\\pandas\\core\\arraylike.py:52\u001b[0m, in \u001b[0;36mOpsMixin.__le__\u001b[1;34m(self, other)\u001b[0m\n\u001b[0;32m     50\u001b[0m \u001b[39m@unpack_zerodim_and_defer\u001b[39m(\u001b[39m\"\u001b[39m\u001b[39m__le__\u001b[39m\u001b[39m\"\u001b[39m)\n\u001b[0;32m     51\u001b[0m \u001b[39mdef\u001b[39;00m \u001b[39m__le__\u001b[39m(\u001b[39mself\u001b[39m, other):\n\u001b[1;32m---> 52\u001b[0m     \u001b[39mreturn\u001b[39;00m \u001b[39mself\u001b[39;49m\u001b[39m.\u001b[39;49m_cmp_method(other, operator\u001b[39m.\u001b[39;49mle)\n",
      "File \u001b[1;32mc:\\Program Files\\Python310\\lib\\site-packages\\pandas\\core\\series.py:5799\u001b[0m, in \u001b[0;36mSeries._cmp_method\u001b[1;34m(self, other, op)\u001b[0m\n\u001b[0;32m   5796\u001b[0m lvalues \u001b[39m=\u001b[39m \u001b[39mself\u001b[39m\u001b[39m.\u001b[39m_values\n\u001b[0;32m   5797\u001b[0m rvalues \u001b[39m=\u001b[39m extract_array(other, extract_numpy\u001b[39m=\u001b[39m\u001b[39mTrue\u001b[39;00m, extract_range\u001b[39m=\u001b[39m\u001b[39mTrue\u001b[39;00m)\n\u001b[1;32m-> 5799\u001b[0m res_values \u001b[39m=\u001b[39m ops\u001b[39m.\u001b[39;49mcomparison_op(lvalues, rvalues, op)\n\u001b[0;32m   5801\u001b[0m \u001b[39mreturn\u001b[39;00m \u001b[39mself\u001b[39m\u001b[39m.\u001b[39m_construct_result(res_values, name\u001b[39m=\u001b[39mres_name)\n",
      "File \u001b[1;32mc:\\Program Files\\Python310\\lib\\site-packages\\pandas\\core\\ops\\array_ops.py:349\u001b[0m, in \u001b[0;36mcomparison_op\u001b[1;34m(left, right, op)\u001b[0m\n\u001b[0;32m    346\u001b[0m     res_values \u001b[39m=\u001b[39m comp_method_OBJECT_ARRAY(op, lvalues, rvalues)\n\u001b[0;32m    348\u001b[0m \u001b[39melse\u001b[39;00m:\n\u001b[1;32m--> 349\u001b[0m     res_values \u001b[39m=\u001b[39m _na_arithmetic_op(lvalues, rvalues, op, is_cmp\u001b[39m=\u001b[39;49m\u001b[39mTrue\u001b[39;49;00m)\n\u001b[0;32m    351\u001b[0m \u001b[39mreturn\u001b[39;00m res_values\n",
      "File \u001b[1;32mc:\\Program Files\\Python310\\lib\\site-packages\\pandas\\core\\ops\\array_ops.py:220\u001b[0m, in \u001b[0;36m_na_arithmetic_op\u001b[1;34m(left, right, op, is_cmp)\u001b[0m\n\u001b[0;32m    217\u001b[0m     func \u001b[39m=\u001b[39m partial(expressions\u001b[39m.\u001b[39mevaluate, op)\n\u001b[0;32m    219\u001b[0m \u001b[39mtry\u001b[39;00m:\n\u001b[1;32m--> 220\u001b[0m     result \u001b[39m=\u001b[39m func(left, right)\n\u001b[0;32m    221\u001b[0m \u001b[39mexcept\u001b[39;00m \u001b[39mTypeError\u001b[39;00m:\n\u001b[0;32m    222\u001b[0m     \u001b[39mif\u001b[39;00m \u001b[39mnot\u001b[39;00m is_cmp \u001b[39mand\u001b[39;00m (\n\u001b[0;32m    223\u001b[0m         left\u001b[39m.\u001b[39mdtype \u001b[39m==\u001b[39m \u001b[39mobject\u001b[39m \u001b[39mor\u001b[39;00m \u001b[39mgetattr\u001b[39m(right, \u001b[39m\"\u001b[39m\u001b[39mdtype\u001b[39m\u001b[39m\"\u001b[39m, \u001b[39mNone\u001b[39;00m) \u001b[39m==\u001b[39m \u001b[39mobject\u001b[39m\n\u001b[0;32m    224\u001b[0m     ):\n\u001b[1;32m   (...)\u001b[0m\n\u001b[0;32m    227\u001b[0m         \u001b[39m# Don't do this for comparisons, as that will handle complex numbers\u001b[39;00m\n\u001b[0;32m    228\u001b[0m         \u001b[39m#  incorrectly, see GH#32047\u001b[39;00m\n",
      "File \u001b[1;32mc:\\Program Files\\Python310\\lib\\site-packages\\pandas\\core\\computation\\expressions.py:242\u001b[0m, in \u001b[0;36mevaluate\u001b[1;34m(op, a, b, use_numexpr)\u001b[0m\n\u001b[0;32m    239\u001b[0m \u001b[39mif\u001b[39;00m op_str \u001b[39mis\u001b[39;00m \u001b[39mnot\u001b[39;00m \u001b[39mNone\u001b[39;00m:\n\u001b[0;32m    240\u001b[0m     \u001b[39mif\u001b[39;00m use_numexpr:\n\u001b[0;32m    241\u001b[0m         \u001b[39m# error: \"None\" not callable\u001b[39;00m\n\u001b[1;32m--> 242\u001b[0m         \u001b[39mreturn\u001b[39;00m _evaluate(op, op_str, a, b)  \u001b[39m# type: ignore[misc]\u001b[39;00m\n\u001b[0;32m    243\u001b[0m \u001b[39mreturn\u001b[39;00m _evaluate_standard(op, op_str, a, b)\n",
      "File \u001b[1;32mc:\\Program Files\\Python310\\lib\\site-packages\\pandas\\core\\computation\\expressions.py:131\u001b[0m, in \u001b[0;36m_evaluate_numexpr\u001b[1;34m(op, op_str, a, b)\u001b[0m\n\u001b[0;32m    128\u001b[0m     _store_test_result(result \u001b[39mis\u001b[39;00m \u001b[39mnot\u001b[39;00m \u001b[39mNone\u001b[39;00m)\n\u001b[0;32m    130\u001b[0m \u001b[39mif\u001b[39;00m result \u001b[39mis\u001b[39;00m \u001b[39mNone\u001b[39;00m:\n\u001b[1;32m--> 131\u001b[0m     result \u001b[39m=\u001b[39m _evaluate_standard(op, op_str, a, b)\n\u001b[0;32m    133\u001b[0m \u001b[39mreturn\u001b[39;00m result\n",
      "File \u001b[1;32mc:\\Program Files\\Python310\\lib\\site-packages\\pandas\\core\\computation\\expressions.py:73\u001b[0m, in \u001b[0;36m_evaluate_standard\u001b[1;34m(op, op_str, a, b)\u001b[0m\n\u001b[0;32m     71\u001b[0m \u001b[39mif\u001b[39;00m _TEST_MODE:\n\u001b[0;32m     72\u001b[0m     _store_test_result(\u001b[39mFalse\u001b[39;00m)\n\u001b[1;32m---> 73\u001b[0m \u001b[39mreturn\u001b[39;00m op(a, b)\n",
      "\u001b[1;31mKeyboardInterrupt\u001b[0m: "
     ]
    }
   ],
   "source": [
    "# anonymeter\\evaluators\\singling_out_evaluator.py:97:\n",
    "# FutureWarning: is_categorical_dtype is deprecated and will be removed in a future version.\n",
    "# Use isinstance(dtype, CategoricalDtype) instead elif is_categorical_dtype(values)\n",
    "import warnings\n",
    "warnings.filterwarnings(\"ignore\" ,category=FutureWarning)\n",
    "\n",
    "\n",
    "__evaluator = evaluators.SinglingOutEvaluator(ori     = __Loader.data\n",
    "                                             ,syn     = __df_syn\n",
    "                                             ,control = __df_control\n",
    "                                             ,n_attacks=100 # 500\n",
    "                                             ,n_cols=2 # 4\n",
    "                                             )\n",
    "\n",
    "try:\n",
    "    __evaluator.evaluate(mode='multivariate')\n",
    "    __risk = __evaluator.risk()\n",
    "    print(__risk)\n",
    "    res = __evaluator.results()\n",
    "    print(__evaluator.queries()[:3])\n",
    "except RuntimeError as ex:\n",
    "    print(f\"Singling out evaluation failed with {ex}. Please re-run this cell.\"\n",
    "          \"For more stable results increase `n_attacks`. Note that this will \"\n",
    "          \"make the evaluation slower.\")"
   ]
  },
  {
   "cell_type": "code",
   "execution_count": 7,
   "metadata": {},
   "outputs": [
    {
     "name": "stdout",
     "output_type": "stream",
     "text": [
      "PrivacyRisk(value=0.0, ci=(0.0, 0.002089093912743931))\n",
      "Successs rate of main attack: SuccessRate(value=0.002455648069704588, error=0.0019453844860661056)\n",
      "Successs rate of baseline attack: SuccessRate(value=0.003453731022423335, error=0.00238542229400942)\n",
      "Successs rate of control attack: SuccessRate(value=0.003453731022423335, error=0.00238542229400942)\n",
      "PrivacyRisk(value=0.0, ci=(0.0, 0.0020787144160350946))\n"
     ]
    },
    {
     "name": "stderr",
     "output_type": "stream",
     "text": [
      "c:\\Program Files\\Python310\\lib\\site-packages\\anonymeter\\stats\\confidence.py:215: UserWarning: Attack is as good or worse as baseline model. Estimated rates: attack = 0.002455648069704588, baseline = 0.003453731022423335. Analysis results cannot be trusted.\n",
      "  self._sanity_check()\n",
      "c:\\Program Files\\Python310\\lib\\site-packages\\anonymeter\\stats\\confidence.py:215: UserWarning: Attack is as good or worse as baseline model. Estimated rates: attack = 0.001956606593345214, baseline = 0.001956606593345214. Analysis results cannot be trusted.\n",
      "  self._sanity_check()\n"
     ]
    }
   ],
   "source": [
    "aux_cols = [['age' ,'fnlwgt' ,'race' ,'gender' ,'native-country']\n",
    "           ,['workclass' ,'education' ,'capital-gain' ,'capital-loss' ,'hours-per-week']\n",
    "           ]\n",
    "\n",
    "__evaluator['LinkabilityEvaluator'] =\\\n",
    "    evaluators.LinkabilityEvaluator(ori         = __Loader.data\n",
    "                                   ,syn         = __df_syn\n",
    "                                   ,control     = __df_control\n",
    "                                   ,n_attacks   = 2000 # 100 # 2000\n",
    "                                   ,aux_cols    = aux_cols\n",
    "                                   ,n_neighbors = 10)\n",
    "\n",
    "__evaluator['LinkabilityEvaluator'].evaluate(n_jobs=-2)  # n_jobs follow joblib convention. -1 = all cores, -2 = all execept one\n",
    "print(__evaluator['LinkabilityEvaluator'].risk())\n",
    "print(\"Successs rate of main attack:\"     ,__evaluator['LinkabilityEvaluator'].results().attack_rate)\n",
    "print(\"Successs rate of baseline attack:\" ,__evaluator['LinkabilityEvaluator'].results().baseline_rate)\n",
    "print(\"Successs rate of control attack:\"  ,__evaluator['LinkabilityEvaluator'].results().control_rate)\n",
    "print(__evaluator['LinkabilityEvaluator'].risk(n_neighbors=7))"
   ]
  },
  {
   "cell_type": "code",
   "execution_count": 6,
   "metadata": {},
   "outputs": [
    {
     "name": "stderr",
     "output_type": "stream",
     "text": [
      "c:\\Program Files\\Python310\\lib\\site-packages\\anonymeter\\stats\\confidence.py:215: UserWarning: Attack is as good or worse as baseline model. Estimated rates: attack = 0.047737348352442026, baseline = 0.05271821456001425. Analysis results cannot be trusted.\n",
      "  self._sanity_check()\n",
      "c:\\Program Files\\Python310\\lib\\site-packages\\anonymeter\\stats\\confidence.py:215: UserWarning: Attack is as good or worse as baseline model. Estimated rates: attack = 0.012871284899436456, baseline = 0.016855977865494236. Analysis results cannot be trusted.\n",
      "  self._sanity_check()\n",
      "c:\\Program Files\\Python310\\lib\\site-packages\\anonymeter\\stats\\confidence.py:215: UserWarning: Attack is as good or worse as baseline model. Estimated rates: attack = 0.07662637235636093, baseline = 0.11248860905088094. Analysis results cannot be trusted.\n",
      "  self._sanity_check()\n"
     ]
    },
    {
     "data": {
      "image/png": "[encoded data removed]",
      "text/plain": [
       "<Figure size 640x480 with 1 Axes>"
      ]
     },
     "metadata": {},
     "output_type": "display_data"
    }
   ],
   "source": [
    "columns = __Loader.data.columns\n",
    "results = []\n",
    "__evaluator['InferenceEvaluator'] = {}\n",
    "\n",
    "for secret in columns:\n",
    "    \n",
    "    aux_cols = [col for col in columns if col != secret]\n",
    "    \n",
    "    __evaluator['InferenceEvaluator'][secret]\\\n",
    "        = evaluators.InferenceEvaluator(ori       = __Loader.data\n",
    "                                       ,syn       = __df_syn\n",
    "                                       ,control   = __df_control\n",
    "                                       ,aux_cols  = aux_cols\n",
    "                                       ,secret    = secret\n",
    "                                       ,n_attacks = 1000 # 100# 1000\n",
    "                                       )\n",
    "    __evaluator['InferenceEvaluator'][secret].evaluate(n_jobs=-2)\n",
    "    results.append((secret ,__evaluator['InferenceEvaluator'][secret].results()))\n",
    "\n",
    "\n",
    "\n",
    "import matplotlib.pyplot as plt\n",
    "fig, ax = plt.subplots()\n",
    "\n",
    "risks = [res[1].risk().value for res in results]\n",
    "columns = [res[0] for res in results]\n",
    "\n",
    "ax.bar(x=columns, height=risks, alpha=0.5, ecolor='black', capsize=10)\n",
    "\n",
    "plt.xticks(rotation=45, ha='right')\n",
    "ax.set_ylabel(\"Measured inference risk\")\n",
    "_ = ax.set_xlabel(\"Secret column\")"
   ]
  },
  {
   "cell_type": "markdown",
   "metadata": {},
   "source": [
    "- 這是已經有檔案的做法 (Unfinished)"
   ]
  },
  {
   "cell_type": "code",
   "execution_count": null,
   "metadata": {},
   "outputs": [],
   "source": [
    "dict_adult_SD_SDV = {'CoupulaGAN'      : ['[Adt Income]_[SDV]_[CoupulaGAN]_20231106_113038_Asia_Taipei_10000.csv']\n",
    "                    ,'CTGAN'           : ['[Adt Income]_[SDV]_[CTGAN]_20231106_093702_Asia_Taipei_10000.csv']\n",
    "                    ,'GaussianCoupula' : ['[Adt Income]_[SDV]_[GaussianCoupula]_20231106_093622_Asia_Taipei_10000.csv']\n",
    "                    ,'TVAE'            : ['[Adt Income]_[SDV]_[TVAE]_20231106_105252_Asia_Taipei_10000.csv']\n",
    "                    }\n",
    "dict_filename = {key: {**value ,'SDV': dict_adult_SD_SDV} \n",
    "                 for key, value in dict_filename.items()}\n",
    "\n",
    "\n",
    "\n",
    "for __dataset ,v in dict_filename.items():\n",
    "    __filename = v['params']['filename']\n",
    "    print(f\"Now is {__filename}: {v['raw']} comparision.\")\n",
    "\n",
    "    __df_ori = PETs_Tool.PETs_Loader(os.path.join(folder_raw ,v['raw'])\n",
    "                                    ,v['params']\n",
    "                                    ).data\n",
    "    print(f\"Now is {__filename} original data been load: {v['raw']}.\")\n",
    "\n",
    "    for __library ,__dict_sd in v['SD'].items():\n",
    "        print(f\"Now is {__filename} by library {__library}.\")\n",
    "\n",
    "        for __method ,__list_sd in __dict_sd.items():\n",
    "            print(f\"Now is {__filename} by method {__method} in library {__library}.\")\n",
    "            __list_sd = [__list_sd] if isinstance(__list_sd ,str) else __list_sd\n",
    "            for __filename_sd in __list_sd:\n",
    "                # 20231116, Justyn: 這裡是合成資料有落地\n",
    "                #                   如果必要，可以直接調用 PETs_SD_* 結果的.synthetic_data\n",
    "                __df_syn = PETs_Tool.PETs_Loader(os.path.join(folder_SD ,__filename_sd)\n",
    "                                                ,v['params']\n",
    "                                                ).data\n",
    "                print(f\"Now is {__filename} synthetic data been load: {__filename_sd}.\")\n",
    "\n",
    "                # 20231116, Justyn: refer to\n",
    "                # https://github.com/statice/anonymeter/blob/main/notebooks/anonymeter_example.ipynb\n",
    "                # https://storage.googleapis.com/statice-public/anonymeter-datasets\n",
    "\n"
   ]
  }
 ],
 "metadata": {
  "kernelspec": {
   "display_name": "Python 3",
   "language": "python",
   "name": "python3"
  },
  "language_info": {
   "codemirror_mode": {
    "name": "ipython",
    "version": 3
   },
   "file_extension": ".py",
   "mimetype": "text/x-python",
   "name": "python",
   "nbconvert_exporter": "python",
   "pygments_lexer": "ipython3",
   "version": "3.10.9"
  },
  "orig_nbformat": 4
 },
 "nbformat": 4,
 "nbformat_minor": 2
}
