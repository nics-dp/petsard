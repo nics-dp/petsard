{
 "cells": [
  {
   "cell_type": "code",
   "execution_count": 1,
   "metadata": {},
   "outputs": [],
   "source": [
    "import os\n",
    "os.chdir('D:\\\\Dropbox\\\\89_其他應用\\\\GitHub\\\\PETs-Experiment')\n",
    "\n",
    "import PETs_Experiment"
   ]
  },
  {
   "cell_type": "code",
   "execution_count": 2,
   "metadata": {},
   "outputs": [
    {
     "name": "stdout",
     "output_type": "stream",
     "text": [
      "age as int8\n",
      "workclass as category\n",
      "fnlwgt as int32\n",
      "education as category\n",
      "educational-num as int8\n",
      "marital-status as category\n",
      "occupation as category\n",
      "relationship as category\n",
      "race as category\n",
      "gender as category\n",
      "capital-gain as int32\n",
      "capital-loss as int16\n",
      "hours-per-week as int8\n",
      "native-country as category\n",
      "income as category\n",
      "   age workclass  fnlwgt education  educational-num marital-status  \\\n",
      "0   25   Private  226802      11th                7  Never-married   \n",
      "\n",
      "          occupation relationship   race gender  capital-gain  capital-loss  \\\n",
      "0  Machine-op-inspct    Own-child  Black   Male             0             0   \n",
      "\n",
      "   hours-per-week native-country income  \n",
      "0              40  United-States  <=50K  \n"
     ]
    }
   ],
   "source": [
    "Loader = PETs_Experiment.Loader(filepath = 'data/[Adt Income] adult.csv'\n",
    "                               ,na_values = {k : '?' for k in ['workclass'\n",
    "                                                              ,'occupation'\n",
    "                                                              ,'native-country'\n",
    "                                                              ]\n",
    "                                            }\n",
    "                               )\n",
    "print(Loader.data.head(1))"
   ]
  },
  {
   "cell_type": "code",
   "execution_count": 3,
   "metadata": {},
   "outputs": [
    {
     "name": "stdout",
     "output_type": "stream",
     "text": [
      "Preprocessor - Missingist (Drop): Dropped 3620 rows.\n",
      "Preprocessor - Outlierist (IQR): Dropped   269 rows on age            . Kept [-0.5, 75.5] only.\n",
      "Preprocessor - Outlierist (IQR): Dropped  1331 rows on fnlwgt         . Kept [-63418.375, 418732.625] only.\n",
      "Preprocessor - Outlierist (IQR): Dropped  3790 rows on capital-gain   . Kept [0.0, 0.0] only.\n",
      "Preprocessor - Outlierist (IQR): Dropped  2140 rows on capital-loss   . Kept [0.0, 0.0] only.\n",
      "Preprocessor - Outlierist (IQR): Dropped   294 rows on educational-num. Kept [3.0, 19.0] only.\n",
      "Preprocessor - Outlierist (IQR): Totally Dropped  7569 in 45222 rows.\n",
      "Preprocessor - Encoder (Label): Column education       been labelized from 0 to 13.\n",
      "Preprocessor - Encoder (Label): Column occupation      been labelized from 0 to 13.\n",
      "Preprocessor - Encoder (Label): Column native-country  been labelized from 0 to 39.\n",
      "Preprocessor - Encoder (Label): Column relationship    been labelized from 0 to  5.\n",
      "Preprocessor - Encoder (Label): Column race            been labelized from 0 to  4.\n",
      "Preprocessor - Encoder (Label): Column marital-status  been labelized from 0 to  6.\n",
      "Preprocessor - Encoder (Label): Column workclass       been labelized from 0 to  6.\n",
      "Preprocessor - Encoder (Label): Column income          been labelized from 0 to  1.\n",
      "Preprocessor - Encoder (Label): Column gender          been labelized from 0 to  1.\n",
      "Preprocessor - Scaler (Standard): Column age             been standardized.\n",
      "Preprocessor - Scaler (Standard): Column education       been standardized.\n",
      "Preprocessor - Scaler (Standard): Column fnlwgt          been standardized.\n",
      "Preprocessor - Scaler (Standard): Column capital-gain    been standardized.\n",
      "Preprocessor - Scaler (Standard): Column occupation      been standardized.\n",
      "Preprocessor - Scaler (Standard): Column native-country  been standardized.\n",
      "Preprocessor - Scaler (Standard): Column relationship    been standardized.\n",
      "Preprocessor - Scaler (Standard): Column race            been standardized.\n",
      "Preprocessor - Scaler (Standard): Column marital-status  been standardized.\n",
      "Preprocessor - Scaler (Standard): Column hours-per-week  been standardized.\n",
      "Preprocessor - Scaler (Standard): Column workclass       been standardized.\n",
      "Preprocessor - Scaler (Standard): Column income          been standardized.\n",
      "Preprocessor - Scaler (Standard): Column capital-loss    been standardized.\n",
      "Preprocessor - Scaler (Standard): Column gender          been standardized.\n",
      "Preprocessor - Scaler (Standard): Column educational-num been standardized.\n",
      "\n",
      "\n",
      "\n",
      "\n",
      "   age  workclass  fnlwgt  education  educational-num  marital-status  \\\n",
      "0  0.0        0.0     0.0        0.0              0.0             0.0   \n",
      "\n",
      "   occupation  relationship  race  gender  capital-gain  capital-loss  \\\n",
      "0         0.0           0.0   0.0     0.0           0.0           0.0   \n",
      "\n",
      "   hours-per-week  native-country  income  \n",
      "0             0.0             0.0     0.0  \n",
      "\n",
      "\n",
      "\n",
      "\n",
      "{'education': LabelEncoder(), 'occupation': LabelEncoder(), 'native-country': LabelEncoder(), 'relationship': LabelEncoder(), 'race': LabelEncoder(), 'marital-status': LabelEncoder(), 'workclass': LabelEncoder(), 'income': LabelEncoder(), 'gender': LabelEncoder()}\n",
      "\n",
      "\n",
      "\n",
      "\n",
      "{'age': StandardScaler(), 'education': StandardScaler(), 'fnlwgt': StandardScaler(), 'capital-gain': StandardScaler(), 'occupation': StandardScaler(), 'native-country': StandardScaler(), 'relationship': StandardScaler(), 'race': StandardScaler(), 'marital-status': StandardScaler(), 'hours-per-week': StandardScaler(), 'workclass': StandardScaler(), 'income': StandardScaler(), 'capital-loss': StandardScaler(), 'gender': StandardScaler(), 'educational-num': StandardScaler()}\n"
     ]
    }
   ],
   "source": [
    "Preprocessor = PETs_Experiment.Preprocessor(\n",
    "     data = Loader.data\n",
    "    ,missing=True\n",
    "        ,missing_method  = 'drop'\n",
    "        ,missing_columns = None\n",
    "    ,outlier=True\n",
    "        ,outlier_method  = 'IQR'\n",
    "        ,outlier_columns = {'ignore': ['hours-per-week']}\n",
    "    ,encoding=True\n",
    "        ,encoding_method  = 'Label'\n",
    "        ,encoding_columns = None\n",
    "    ,scaling=True\n",
    "        ,scaling_method  = 'Standard'\n",
    "        ,scaling_columns = None\n",
    ")\n",
    "print('\\n\\n\\n')\n",
    "print(Preprocessor.data.head(1))\n",
    "print('\\n\\n\\n')\n",
    "print(Preprocessor.encoder)\n",
    "print('\\n\\n\\n')\n",
    "print(Preprocessor.scaler)"
   ]
  },
  {
   "cell_type": "code",
   "execution_count": 4,
   "metadata": {},
   "outputs": [
    {
     "ename": "NameError",
     "evalue": "name 'test' is not defined",
     "output_type": "error",
     "traceback": [
      "\u001b[1;31m---------------------------------------------------------------------------\u001b[0m",
      "\u001b[1;31mNameError\u001b[0m                                 Traceback (most recent call last)",
      "Cell \u001b[1;32mIn[4], line 2\u001b[0m\n\u001b[0;32m      1\u001b[0m df_data \u001b[39m=\u001b[39m Loader\u001b[39m.\u001b[39mdata\u001b[39m.\u001b[39mcopy()\n\u001b[1;32m----> 2\u001b[0m scaling_columns_action \u001b[39m=\u001b[39m test\u001b[39m.\u001b[39mcolumns\u001b[39m.\u001b[39mto_list()\n\u001b[0;32m      6\u001b[0m \u001b[39mfrom\u001b[39;00m \u001b[39mpandas\u001b[39;00m\u001b[39m.\u001b[39;00m\u001b[39mapi\u001b[39;00m\u001b[39m.\u001b[39;00m\u001b[39mtypes\u001b[39;00m      \u001b[39mimport\u001b[39;00m is_numeric_dtype\n\u001b[0;32m      7\u001b[0m \u001b[39mfrom\u001b[39;00m \u001b[39msklearn\u001b[39;00m\u001b[39m.\u001b[39;00m\u001b[39mpreprocessing\u001b[39;00m \u001b[39mimport\u001b[39;00m StandardScaler\n",
      "\u001b[1;31mNameError\u001b[0m: name 'test' is not defined"
     ]
    }
   ],
   "source": [
    "df_data = Loader.data.copy()\n",
    "scaling_columns_action = test.columns.to_list()\n",
    "\n",
    "\n",
    "\n",
    "from pandas.api.types      import is_numeric_dtype\n",
    "from sklearn.preprocessing import StandardScaler\n",
    "\n",
    "dict_scaler = {}\n",
    "_digits_longest_colname = len(max(scaling_columns_action, key=len))\n",
    "for _col_name in scaling_columns_action:\n",
    "    _col_data = df_data[_col_name]\n",
    "    if is_numeric_dtype(_col_data):\n",
    "        dict_scaler[_col_name] = StandardScaler()\n",
    "        temp = dict_scaler[_col_name].fit_transform(_col_data.values.reshape(1, -1))\n",
    "        print(type(temp))\n",
    "        print(temp[0])\n",
    "        # df_data[_col_name] = \n",
    "\n",
    "        print(f'Preprocessor - Scaler (Standard): Column {_col_name:<{_digits_longest_colname}} been standardized.')\n",
    "\n"
   ]
  },
  {
   "cell_type": "code",
   "execution_count": null,
   "metadata": {},
   "outputs": [],
   "source": []
  }
 ],
 "metadata": {
  "kernelspec": {
   "display_name": "Python 3",
   "language": "python",
   "name": "python3"
  },
  "language_info": {
   "codemirror_mode": {
    "name": "ipython",
    "version": 3
   },
   "file_extension": ".py",
   "mimetype": "text/x-python",
   "name": "python",
   "nbconvert_exporter": "python",
   "pygments_lexer": "ipython3",
   "version": "3.10.13"
  },
  "orig_nbformat": 4
 },
 "nbformat": 4,
 "nbformat_minor": 2
}
