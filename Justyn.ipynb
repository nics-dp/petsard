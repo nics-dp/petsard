{
 "cells": [
  {
   "cell_type": "code",
   "execution_count": null,
   "metadata": {},
   "outputs": [],
   "source": [
    "# reload during dev\n",
    "from importlib import reload\n",
    "import PET_raw_data\n",
    "PET_raw_data = reload(PET_raw_data)\n",
    "\n",
    "\n",
    "import PET_raw_data\n",
    "dict_load = {\n",
    "             '.\\data\\[Adt Income] adult.csv'      : {'describe_params' : {'missing_level' : {'data': {'?'}}}}\n",
    "            ,'.\\data\\[Census] adult.data'         : {'read_params'     : {'header_exist' : 'N'\n",
    "                                                                         ,'header'       : ['age','workclass','fnlwgt','education','education-num','marital-status','occupation','relationship','race','sex','capital-gain','capital-loss','hours-per-week','native-country','income']\n",
    "                                                                         }\n",
    "                                                    ,'describe_params' : {'missing_level' : {'data': {'?'}}}\n",
    "                                                    }\n",
    "            ,'.\\data\\[NHANES] B.csv'              : {'read_params'     : {'header_exist' : 'N'\n",
    "                                                                         ,'header'       : ['gen','age','race','edu','mar','bmi','dep','pir','gh','mets','qm','dia']\n",
    "                                                                         }\n",
    "                                                    }\n",
    "            ,'.\\data\\[Retail] Online Retail.xlsx' : {'read_method'     : 'pandas_xlsx'\n",
    "                                                    ,'read_params'     : {'sheet_name' : 'Online Retail'\n",
    "                                                                         ,'str_col'    : ['InvoiceNo','StockCode','InvoiceDate','CustomerID']\n",
    "                                                                         }\n",
    "                                                    }\n",
    "            ,'.\\data\\[UK-US PF] va_household_ver_1_9_instance_2.csv' : {'read_params' : {'str_col' : ['hid','rlid','admin1','admin2']}}\n",
    "            ,'.\\data\\[UK-US PF] va_person_ver_1_9_instance_2.csv'    : {'read_params' : {'str_col' : ['hid','pid','person_number','sex']}}\n",
    "            }\n",
    "\n",
    "__temp = {}\n",
    "for filepath ,file_params in dict_load.items():\n",
    "    file_params_init = {'read_params'     : {'label_encoding' : 'Y'}\n",
    "                       ,'describe'        : 'N'\n",
    "                       ,'describe_params' : {'correlation'   : 'Y'\n",
    "                                            ,'collinearity'  : 'Y'}\n",
    "                       ,'report'          : 'N'\n",
    "                       ,'report_params'   : {'print_report' : 'N'\n",
    "                                            ,'save_report'  : 'Y'}\n",
    "                       }\n",
    "    file_params_init.update(file_params)\n",
    "    print(f\"Now is {filepath}\")\n",
    "    __temp[filepath] = PET_raw_data.load_data(filepath ,file_params_init)\n",
    "    break"
   ]
  },
  {
   "cell_type": "code",
   "execution_count": null,
   "metadata": {},
   "outputs": [],
   "source": [
    "__temp['.\\data\\[Adt Income] adult.csv'].data_oricast.dtypes"
   ]
  },
  {
   "cell_type": "code",
   "execution_count": null,
   "metadata": {},
   "outputs": [],
   "source": [
    "__temp['.\\data\\[Adt Income] adult.csv'].data_label_encoding.head(6)"
   ]
  },
  {
   "cell_type": "code",
   "execution_count": 28,
   "metadata": {},
   "outputs": [
    {
     "name": "stdout",
     "output_type": "stream",
     "text": [
      "訓練時間 7016.4251 秒\n"
     ]
    },
    {
     "name": "stderr",
     "output_type": "stream",
     "text": [
      "Sampling rows: : 49000it [00:17, 2729.33it/s]                         \n",
      "Sampling rows: : 49000it [00:16, 2947.39it/s]                         \n",
      "Sampling rows: : 49000it [00:17, 2783.27it/s]                         \n",
      "Sampling rows: : 49000it [00:16, 2956.05it/s]                         \n",
      "Sampling rows: : 49000it [00:17, 2788.52it/s]                         \n",
      "Sampling rows: : 49000it [00:16, 2969.39it/s]                         \n",
      "Sampling rows: : 49000it [00:16, 3009.53it/s]                         \n",
      "Sampling rows: : 49000it [00:16, 2957.37it/s]                         \n",
      "Sampling rows: : 49000it [00:18, 2685.68it/s]                         \n",
      "Sampling rows: : 49000it [00:16, 2910.27it/s]                         \n"
     ]
    },
    {
     "name": "stdout",
     "output_type": "stream",
     "text": [
      "合成 10 次時間 170.8687 秒\n"
     ]
    }
   ],
   "source": [
    "# import time\n",
    "# from datetime import datetime\n",
    "# import pytz\n",
    "# from sdv.metadata import SingleTableMetadata\n",
    "# from sdv.single_table import GaussianCopulaSynthesizer ,CTGANSynthesizer ,TVAESynthesizer ,CopulaGANSynthesizer\n",
    "n_sample = 10\n",
    "library_name = 'SDV'\n",
    "\n",
    "\n",
    "\n",
    "filename     = '[Adt Income] adult.csv'\n",
    "out_filename = '[Adt Income]'\n",
    "\n",
    "\n",
    "\n",
    "time_start = time.time()\n",
    "__data         = __temp[f\".\\data\\{filename}\"].data.copy()\n",
    "__data_row_num = __data.shape[0]\n",
    "metadata       = SingleTableMetadata()\n",
    "metadata.detect_from_dataframe(__data)\n",
    "##\n",
    "__data_oricast   = __temp[f\".\\data\\{filename}\"].data_oricast.copy()\n",
    "metadata_oricast = SingleTableMetadata()\n",
    "metadata_oricast.detect_from_dataframe(__data)\n",
    "##\n",
    "__data_label_encoding   = __temp[f\".\\data\\{filename}\"].data_label_encoding.copy()\n",
    "metadata_label_encoding = SingleTableMetadata()\n",
    "metadata_label_encoding.detect_from_dataframe(__data_label_encoding)\n",
    "print(f\"讀 2*metafile 時間 {round(time.time()-time_start ,4)} 秒\")\n",
    "\n",
    "\n",
    "\n",
    "# method_name = 'GaussianCoupula'\n",
    "# method_name = 'CTGAN'\n",
    "# method_name = 'TVAE'\n",
    "method_name = 'CoupulaGAN'\n",
    "\n",
    "\n",
    "\n",
    "print(f\"現在套件是{method_name}\")\n",
    "time_start = time.time()\n",
    "if   method_name == 'GaussianCoupula':\n",
    "    synthesizer = GaussianCopulaSynthesizer(metadata)\n",
    "    synthesizer.fit(__data)\n",
    "elif method_name == 'CTGAN':\n",
    "    synthesizer = CTGANSynthesizer(metadata)\n",
    "    synthesizer.fit(__data_oricast) # _label_encoding)\n",
    "elif method_name == 'TVAE':\n",
    "    synthesizer = TVAESynthesizer(metadata)\n",
    "    synthesizer.fit(__data_label_encoding)\n",
    "elif method_name == 'CoupulaGAN':\n",
    "    synthesizer = CopulaGANSynthesizer(metadata)\n",
    "    synthesizer.fit(__data_label_encoding)\n",
    "# else:\n",
    "#     break\n",
    "print(f\"訓練時間 {round(time.time()-time_start ,4)} 秒\")\n",
    "\n",
    "\n",
    "\n",
    "\n",
    "time_start = time.time()\n",
    "for i in range(n_sample):\n",
    "    synthesizer.reset_sampling()\n",
    "    synthetic_data = synthesizer.sample(num_rows   = __data_row_num\n",
    "                                        ,batch_size = 1000\n",
    "                                        )\n",
    "print(f\"合成 {n_sample} 次時間 {round(time.time()-time_start ,4)} 秒\")\n",
    "\n",
    "\n",
    "\n",
    "synthetic_data.head(6)\n",
    "\n",
    "exectime = datetime.now().astimezone(pytz.timezone('Asia/Taipei'))\n",
    "synthetic_data.to_csv(f\".\\data_dpsd\\{out_filename}_[{library_name}]_[{method_name}]_{exectime.strftime('%Y%m%d_%H%M%S')}_{exectime.tzinfo.zone.replace('/' ,'_')}.csv\")"
   ]
  },
  {
   "cell_type": "code",
   "execution_count": null,
   "metadata": {},
   "outputs": [],
   "source": []
  }
 ],
 "metadata": {
  "kernelspec": {
   "display_name": "Python 3",
   "language": "python",
   "name": "python3"
  },
  "language_info": {
   "codemirror_mode": {
    "name": "ipython",
    "version": 3
   },
   "file_extension": ".py",
   "mimetype": "text/x-python",
   "name": "python",
   "nbconvert_exporter": "python",
   "pygments_lexer": "ipython3",
   "version": "3.11.6"
  }
 },
 "nbformat": 4,
 "nbformat_minor": 2
}
