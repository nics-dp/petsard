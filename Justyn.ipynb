{
 "cells": [
  {
   "cell_type": "code",
   "execution_count": 7,
   "metadata": {},
   "outputs": [
    {
     "name": "stdout",
     "output_type": "stream",
     "text": [
      "Now is [Retail] Online Retail.xlsx\n"
     ]
    },
    {
     "name": "stdout",
     "output_type": "stream",
     "text": [
      "讀 3*metafile 時間 0.6815 秒\n",
      "現在套件是TVAE\n"
     ]
    },
    {
     "name": "stderr",
     "output_type": "stream",
     "text": [
      "C:\\Users\\justyn.chen\\AppData\\Local\\Packages\\PythonSoftwareFoundation.Python.3.11_qbz5n2kfra8p0\\LocalCache\\local-packages\\Python311\\site-packages\\rdt\\transformers\\numerical.py:112: UserWarning: No rounding scheme detected for column 'UnitPrice'. Data will not be rounded.\n",
      "  warnings.warn(\n"
     ]
    },
    {
     "name": "stdout",
     "output_type": "stream",
     "text": [
      "訓練時間 22726.3077 秒\n"
     ]
    },
    {
     "name": "stderr",
     "output_type": "stream",
     "text": [
      "Sampling rows: 100%|██████████| 10000/10000 [00:00<00:00, 10080.67it/s]\n",
      "Sampling rows: 100%|██████████| 10000/10000 [00:00<00:00, 11248.67it/s]\n",
      "Sampling rows: 100%|██████████| 10000/10000 [00:00<00:00, 13020.90it/s]\n",
      "Sampling rows: 100%|██████████| 10000/10000 [00:00<00:00, 13850.43it/s]\n",
      "Sampling rows: 100%|██████████| 10000/10000 [00:00<00:00, 14347.26it/s]\n",
      "Sampling rows: 100%|██████████| 10000/10000 [00:00<00:00, 14104.47it/s]\n",
      "Sampling rows: 100%|██████████| 10000/10000 [00:00<00:00, 13297.94it/s]\n",
      "Sampling rows: 100%|██████████| 10000/10000 [00:00<00:00, 13140.70it/s]\n",
      "Sampling rows: 100%|██████████| 10000/10000 [00:00<00:00, 13812.23it/s]\n",
      "Sampling rows: 100%|██████████| 10000/10000 [00:00<00:00, 13793.16it/s]\n"
     ]
    },
    {
     "name": "stdout",
     "output_type": "stream",
     "text": [
      "合成 10 次 10K 筆時間 8.3129 秒\n"
     ]
    },
    {
     "name": "stderr",
     "output_type": "stream",
     "text": [
      "Sampling rows: : 542000it [00:36, 14793.48it/s]                          \n"
     ]
    },
    {
     "name": "stdout",
     "output_type": "stream",
     "text": [
      "合成一次同筆數時間 38.3623 秒\n",
      "Done: [Retail]_[SDV]_[TVAE]_20231106_165107_Asia_Taipei\n",
      "現在套件是CoupulaGAN\n"
     ]
    },
    {
     "name": "stderr",
     "output_type": "stream",
     "text": [
      "C:\\Users\\justyn.chen\\AppData\\Local\\Packages\\PythonSoftwareFoundation.Python.3.11_qbz5n2kfra8p0\\LocalCache\\local-packages\\Python311\\site-packages\\rdt\\transformers\\numerical.py:112: UserWarning: No rounding scheme detected for column 'UnitPrice'. Data will not be rounded.\n",
      "  warnings.warn(\n"
     ]
    },
    {
     "name": "stdout",
     "output_type": "stream",
     "text": [
      "訓練時間 271893.3004 秒\n"
     ]
    },
    {
     "name": "stderr",
     "output_type": "stream",
     "text": [
      "Sampling rows: 100%|██████████| 10000/10000 [00:18<00:00, 528.99it/s]\n",
      "Sampling rows: 100%|██████████| 10000/10000 [00:19<00:00, 508.56it/s]\n",
      "Sampling rows: 100%|██████████| 10000/10000 [00:21<00:00, 474.25it/s]\n",
      "Sampling rows: 100%|██████████| 10000/10000 [00:19<00:00, 506.69it/s]\n",
      "Sampling rows: 100%|██████████| 10000/10000 [00:19<00:00, 502.14it/s]\n",
      "Sampling rows: 100%|██████████| 10000/10000 [00:18<00:00, 539.84it/s]\n",
      "Sampling rows: 100%|██████████| 10000/10000 [00:19<00:00, 515.59it/s]\n",
      "Sampling rows: 100%|██████████| 10000/10000 [00:18<00:00, 541.87it/s]\n",
      "Sampling rows: 100%|██████████| 10000/10000 [00:19<00:00, 504.43it/s]\n",
      "Sampling rows: 100%|██████████| 10000/10000 [00:19<00:00, 519.35it/s]\n"
     ]
    },
    {
     "name": "stdout",
     "output_type": "stream",
     "text": [
      "合成 10 次 10K 筆時間 202.1911 秒\n"
     ]
    },
    {
     "name": "stderr",
     "output_type": "stream",
     "text": [
      "Sampling rows: : 542000it [15:17, 590.89it/s]                           \n"
     ]
    },
    {
     "name": "stdout",
     "output_type": "stream",
     "text": [
      "合成一次同筆數時間 918.997 秒\n",
      "Done: [Retail]_[SDV]_[CoupulaGAN]_20231106_231040_Asia_Taipei\n",
      "Now is [UK-US PF] va_household_ver_1_9_instance_2.csv\n",
      "讀 3*metafile 時間 5.81 秒\n",
      "現在套件是GaussianCoupula\n",
      "訓練時間 3374.5124 秒\n"
     ]
    },
    {
     "name": "stderr",
     "output_type": "stream",
     "text": [
      "Sampling rows: 100%|██████████| 10000/10000 [04:37<00:00, 36.05it/s] \n",
      "Sampling rows: 100%|██████████| 10000/10000 [04:42<00:00, 35.39it/s] \n",
      "Sampling rows: 100%|██████████| 10000/10000 [05:58<00:00, 27.92it/s] \n",
      "Sampling rows: 100%|██████████| 10000/10000 [05:19<00:00, 31.28it/s] \n",
      "Sampling rows: 100%|██████████| 10000/10000 [05:12<00:00, 32.02it/s] \n",
      "Sampling rows: 100%|██████████| 10000/10000 [04:34<00:00, 36.43it/s] \n",
      "Sampling rows: 100%|██████████| 10000/10000 [04:52<00:00, 34.24it/s] \n",
      "Sampling rows: 100%|██████████| 10000/10000 [04:51<00:00, 34.33it/s] \n",
      "Sampling rows: 100%|██████████| 10000/10000 [04:51<00:00, 34.33it/s] \n",
      "Sampling rows: 100%|██████████| 10000/10000 [05:00<00:00, 33.32it/s] \n"
     ]
    },
    {
     "name": "stdout",
     "output_type": "stream",
     "text": [
      "合成 10 次 10K 筆時間 3035.5302 秒\n"
     ]
    },
    {
     "name": "stderr",
     "output_type": "stream",
     "text": [
      "Sampling rows: : 3095000it [1:34:05, 475.94it/s]                           "
     ]
    }
   ],
   "source": [
    "# reload during dev\n",
    "from importlib import reload\n",
    "import PET_raw_data\n",
    "PET_raw_data = reload(PET_raw_data)\n",
    "\n",
    "\n",
    "\n",
    "dict_load = {\n",
    "            #  '[Adt Income] adult.csv'      : {'describe_params' : {'missing_level' : {'data': {'?'}}}}\n",
    "            # ,'[Census] adult.data'         : {'read_params'     : {'label_encoding' : 'Y'\n",
    "            #                                                       ,'header_exist' : 'N'\n",
    "            #                                                       ,'header'       : ['age','workclass','fnlwgt','education','education-num','marital-status','occupation','relationship','race','sex','capital-gain','capital-loss','hours-per-week','native-country','income']\n",
    "            #                                                       }\n",
    "            #                                  ,'describe_params' : {'missing_level' : {'data': {'?'}}}\n",
    "            #                                  }\n",
    "            # ,'[NHANES] B.csv'              : {'read_params'     : {'label_encoding' : 'Y'\n",
    "            #                                                       ,'header_exist' : 'N'\n",
    "            #                                                       ,'header'       : ['gen','age','race','edu','mar','bmi','dep','pir','gh','mets','qm','dia']\n",
    "            #                                                       }\n",
    "            #                                  }\n",
    "            # ,\n",
    "             '[Retail] Online Retail.xlsx' : {'read_method'     : 'pandas_xlsx'\n",
    "                                             ,'read_params'     : {'label_encoding' : 'Y'\n",
    "                                                                  ,'sheet_name' : 'Online Retail'\n",
    "                                                                  ,'str_col'    : ['InvoiceNo','StockCode','InvoiceDate','CustomerID']\n",
    "                                                                  }\n",
    "                                             }\n",
    "            ,'[UK-US PF] va_household_ver_1_9_instance_2.csv' : {'read_params' : {'label_encoding' : 'Y'\n",
    "                                                                                 ,'str_col' : ['hid','rlid','admin1','admin2']}}\n",
    "            ,'[UK-US PF] va_person_ver_1_9_instance_2.csv'    : {'read_params' : {'label_encoding' : 'Y'\n",
    "                                                                                 ,'str_col' : ['hid','pid','person_number','sex']}}\n",
    "            }\n",
    "dict_out  = {'[Adt Income] adult.csv'      : \"[Adt Income]\"\n",
    "            ,'[Census] adult.data'         : \"[Census]\"\n",
    "            ,'[NHANES] B.csv'              : \"[NHANES]\"\n",
    "            ,'[Retail] Online Retail.xlsx' : \"[Retail]\"\n",
    "            ,'[UK-US PF] va_household_ver_1_9_instance_2.csv' : \"[UK-US PF] Household\"\n",
    "            ,'[UK-US PF] va_person_ver_1_9_instance_2.csv'    : \"[UK-US PF] Person\"\n",
    "            }\n",
    "\n",
    "\n",
    "\n",
    "import time\n",
    "from datetime import datetime\n",
    "import pytz\n",
    "from sdv.metadata import SingleTableMetadata\n",
    "# 231103, Justyn: 如果是跑 VSCode 失敗的話，檢查能否 import torch，不行的話可能需要裝 Microsoft Visual C++ Redistributable：Microsoft 官網下載即可\n",
    "from sdv.single_table import GaussianCopulaSynthesizer ,CTGANSynthesizer ,TVAESynthesizer ,CopulaGANSynthesizer\n",
    "n_sample = 10\n",
    "library_name = 'SDV'\n",
    "\n",
    "\n",
    "__temp = {}\n",
    "for filename ,file_params in dict_load.items():\n",
    "    file_params_init = {'read_params'     : {'label_encoding' : 'Y'}\n",
    "                       ,'describe'        : 'N'\n",
    "                       ,'describe_params' : {'correlation'   : 'N'\n",
    "                                            ,'collinearity'  : 'N'}\n",
    "                       ,'report'          : 'N'\n",
    "                       ,'report_params'   : {'print_report' : 'N'\n",
    "                                            ,'save_report'  : 'Y'}\n",
    "                       }\n",
    "    file_params_init.update(file_params)\n",
    "    print(f\"Now is {filename}\")\n",
    "    __temp[filename] = PET_raw_data.load_data(f\".\\data\\{filename}\" ,file_params_init)\n",
    "\n",
    "\n",
    "\n",
    "    time_start = time.time()\n",
    "    __data         = __temp[filename].data.copy()\n",
    "    __data_row_num = __data.shape[0]\n",
    "    metadata       = SingleTableMetadata()\n",
    "    metadata.detect_from_dataframe(__data)\n",
    "    ##\n",
    "    __data_oricast   = __temp[filename].data_oricast.copy()\n",
    "    metadata_oricast = SingleTableMetadata()\n",
    "    metadata_oricast.detect_from_dataframe(__data)\n",
    "    ##\n",
    "    __data_label_encoding   = __temp[filename].data_label_encoding.copy()\n",
    "    metadata_label_encoding = SingleTableMetadata()\n",
    "    metadata_label_encoding.detect_from_dataframe(__data_label_encoding)\n",
    "    print(f\"讀 3*metafile 時間 {round(time.time()-time_start ,4)} 秒\")\n",
    "\n",
    "    for method_name in ['GaussianCoupula'\n",
    "                       ,'CTGAN'\n",
    "                       ,'TVAE'\n",
    "                       ,'CoupulaGAN']:\n",
    "\n",
    "        if filename == '[Retail] Online Retail.xlsx' and method_name == 'GaussianCoupula':\n",
    "            continue\n",
    "        elif filename == '[Retail] Online Retail.xlsx' and method_name == 'CTGAN':\n",
    "            continue\n",
    "\n",
    "        exectime = datetime.now().astimezone(pytz.timezone('Asia/Taipei'))\n",
    "        exec_out = f\"{dict_out[filename]}_[{library_name}]_[{method_name}]_{exectime.strftime('%Y%m%d_%H%M%S')}_{exectime.tzinfo.zone.replace('/' ,'_')}\"\n",
    "\n",
    "        print(f\"現在套件是{method_name}\")\n",
    "        time_start = time.time()\n",
    "        if   method_name == 'GaussianCoupula':\n",
    "            synthesizer = GaussianCopulaSynthesizer(metadata)\n",
    "            synthesizer.fit(__data)\n",
    "        elif method_name == 'CTGAN':\n",
    "            synthesizer = CTGANSynthesizer(metadata_oricast)\n",
    "            synthesizer.fit(__data_oricast)\n",
    "        elif method_name == 'TVAE':\n",
    "            synthesizer = TVAESynthesizer(metadata_label_encoding)\n",
    "            synthesizer.fit(__data_label_encoding)\n",
    "        elif method_name == 'CoupulaGAN':\n",
    "            synthesizer = CopulaGANSynthesizer(metadata_label_encoding)\n",
    "            synthesizer.fit(__data_label_encoding)\n",
    "        else:\n",
    "            continue\n",
    "        print(f\"訓練時間 {round(time.time()-time_start ,4)} 秒\")\n",
    "        synthesizer.save(f\".\\model_dpsd\\{exec_out}.pkl\")\n",
    "\n",
    "\n",
    "        time_start = time.time()\n",
    "        for i in range(n_sample):\n",
    "            synthesizer.reset_sampling()\n",
    "            synthetic_data = synthesizer.sample(num_rows   = 10000\n",
    "                                            ,batch_size = 1000\n",
    "                                            )\n",
    "            synthetic_data.to_csv(f\".\\data_dpsd\\{exec_out}_10000.csv\")\n",
    "        print(f\"合成 {n_sample} 次 10K 筆時間 {round(time.time()-time_start ,4)} 秒\")\n",
    "\n",
    "        time_start = time.time()\n",
    "        synthetic_data = synthesizer.sample(num_rows   = __data_row_num\n",
    "                                        ,batch_size = 1000\n",
    "                                        )\n",
    "        synthetic_data.to_csv(f\".\\data_dpsd\\{exec_out}_{__data_row_num}.csv\")\n",
    "        print(f\"合成一次同筆數時間 {round(time.time()-time_start ,4)} 秒\")\n",
    "\n",
    "\n",
    "\n",
    "        print(f\"Done: {exec_out}\")"
   ]
  }
 ],
 "metadata": {
  "kernelspec": {
   "display_name": "Python 3",
   "language": "python",
   "name": "python3"
  },
  "language_info": {
   "codemirror_mode": {
    "name": "ipython",
    "version": 3
   },
   "file_extension": ".py",
   "mimetype": "text/x-python",
   "name": "python",
   "nbconvert_exporter": "python",
   "pygments_lexer": "ipython3",
   "version": "3.11.6"
  }
 },
 "nbformat": 4,
 "nbformat_minor": 2
}
