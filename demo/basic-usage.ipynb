{
 "cells": [
  {
   "cell_type": "markdown",
   "metadata": {},
   "source": [
    "# Environment setting\n",
    "環境設定"
   ]
  },
  {
   "cell_type": "code",
   "execution_count": 1,
   "metadata": {},
   "outputs": [],
   "source": [
    "import os\n",
    "import requests\n",
    "from pathlib import Path\n",
    "\n",
    "\n",
    "# determine branch, default is main\n",
    "branch = '628-guide---tutorial'  # 'main'\n",
    "\n",
    "# Check if running in Google Colab\n",
    "is_colab = 'COLAB_GPU' in os.environ\n",
    "\n",
    "if is_colab:\n",
    "    # Download the utils.py file from GitHub\n",
    "    utils_url = f\"https://raw.githubusercontent.com/nics-tw/petsard/{branch}/demo/utils.py\"\n",
    "    response = requests.get(utils_url)\n",
    "\n",
    "    if response.status_code == 200:\n",
    "        # Save the utils.py file\n",
    "        with open('utils.py', 'w') as f:\n",
    "            f.write(response.text)\n",
    "\n",
    "        # Create an empty __init__.py\n",
    "        Path('__init__.py').touch()\n",
    "    else:\n",
    "        raise RuntimeError(f\"Failed to download utils.py. Status code: {response.status_code}\")"
   ]
  },
  {
   "cell_type": "code",
   "execution_count": 2,
   "metadata": {},
   "outputs": [
    {
     "name": "stdout",
     "output_type": "stream",
     "text": [
      "Requirement already satisfied: pip in /Users/justyn.chen/Dropbox/310_Career_工作/20231016_NICS_資安院/41_PETsARD/petsard/.venv/lib/python3.10/site-packages (24.3.1)\n",
      "Obtaining file:///Users/justyn.chen/Dropbox/310_Career_%E5%B7%A5%E4%BD%9C/20231016_NICS_%E8%B3%87%E5%AE%89%E9%99%A2/41_PETsARD/petsard\n",
      "  Installing build dependencies: started\n",
      "  Installing build dependencies: finished with status 'done'\n",
      "  Checking if build backend supports build_editable: started\n",
      "  Checking if build backend supports build_editable: finished with status 'done'\n",
      "  Getting requirements to build editable: started\n",
      "  Getting requirements to build editable: finished with status 'done'\n",
      "  Installing backend dependencies: started\n",
      "  Installing backend dependencies: finished with status 'done'\n",
      "  Preparing editable metadata (pyproject.toml): started\n",
      "  Preparing editable metadata (pyproject.toml): finished with status 'done'\n",
      "Requirement already satisfied: anonymeter<2,>=1.0.0 in /Users/justyn.chen/Dropbox/310_Career_工作/20231016_NICS_資安院/41_PETsARD/petsard/.venv/lib/python3.10/site-packages (from petsard==1.0.0) (1.0.0)\n",
      "Requirement already satisfied: certifi>=2024.7.4 in /Users/justyn.chen/Dropbox/310_Career_工作/20231016_NICS_資安院/41_PETsARD/petsard/.venv/lib/python3.10/site-packages (from petsard==1.0.0) (2024.12.14)\n",
      "Requirement already satisfied: pyyaml>=6.0.2 in /Users/justyn.chen/Dropbox/310_Career_工作/20231016_NICS_資安院/41_PETsARD/petsard/.venv/lib/python3.10/site-packages (from petsard==1.0.0) (6.0.2)\n",
      "Requirement already satisfied: requests>=2.32.3 in /Users/justyn.chen/Dropbox/310_Career_工作/20231016_NICS_資安院/41_PETsARD/petsard/.venv/lib/python3.10/site-packages (from petsard==1.0.0) (2.32.3)\n",
      "Requirement already satisfied: scikit-learn>=1.6.0 in /Users/justyn.chen/Dropbox/310_Career_工作/20231016_NICS_資安院/41_PETsARD/petsard/.venv/lib/python3.10/site-packages (from petsard==1.0.0) (1.6.1)\n",
      "Requirement already satisfied: sdmetrics<1,>=0.16.0 in /Users/justyn.chen/Dropbox/310_Career_工作/20231016_NICS_資安院/41_PETsARD/petsard/.venv/lib/python3.10/site-packages (from petsard==1.0.0) (0.18.0)\n",
      "Requirement already satisfied: sdv<2,>=1.17.1 in /Users/justyn.chen/Dropbox/310_Career_工作/20231016_NICS_資安院/41_PETsARD/petsard/.venv/lib/python3.10/site-packages (from petsard==1.0.0) (1.17.4)\n",
      "Requirement already satisfied: urllib3>=2.2.2 in /Users/justyn.chen/Dropbox/310_Career_工作/20231016_NICS_資安院/41_PETsARD/petsard/.venv/lib/python3.10/site-packages (from petsard==1.0.0) (2.3.0)\n",
      "Requirement already satisfied: wheel>=0.43.0 in /Users/justyn.chen/Dropbox/310_Career_工作/20231016_NICS_資安院/41_PETsARD/petsard/.venv/lib/python3.10/site-packages (from petsard==1.0.0) (0.45.1)\n",
      "Requirement already satisfied: numpy<1.27,>=1.22 in /Users/justyn.chen/Dropbox/310_Career_工作/20231016_NICS_資安院/41_PETsARD/petsard/.venv/lib/python3.10/site-packages (from anonymeter<2,>=1.0.0->petsard==1.0.0) (1.26.4)\n",
      "Requirement already satisfied: pandas>=1.4 in /Users/justyn.chen/Dropbox/310_Career_工作/20231016_NICS_資安院/41_PETsARD/petsard/.venv/lib/python3.10/site-packages (from anonymeter<2,>=1.0.0->petsard==1.0.0) (2.2.3)\n",
      "Requirement already satisfied: joblib~=1.2 in /Users/justyn.chen/Dropbox/310_Career_工作/20231016_NICS_資安院/41_PETsARD/petsard/.venv/lib/python3.10/site-packages (from anonymeter<2,>=1.0.0->petsard==1.0.0) (1.4.2)\n",
      "Requirement already satisfied: numba~=0.58 in /Users/justyn.chen/Dropbox/310_Career_工作/20231016_NICS_資安院/41_PETsARD/petsard/.venv/lib/python3.10/site-packages (from anonymeter<2,>=1.0.0->petsard==1.0.0) (0.61.0)\n",
      "Requirement already satisfied: charset-normalizer<4,>=2 in /Users/justyn.chen/Dropbox/310_Career_工作/20231016_NICS_資安院/41_PETsARD/petsard/.venv/lib/python3.10/site-packages (from requests>=2.32.3->petsard==1.0.0) (3.4.1)\n",
      "Requirement already satisfied: idna<4,>=2.5 in /Users/justyn.chen/Dropbox/310_Career_工作/20231016_NICS_資安院/41_PETsARD/petsard/.venv/lib/python3.10/site-packages (from requests>=2.32.3->petsard==1.0.0) (3.10)\n",
      "Requirement already satisfied: scipy>=1.6.0 in /Users/justyn.chen/Dropbox/310_Career_工作/20231016_NICS_資安院/41_PETsARD/petsard/.venv/lib/python3.10/site-packages (from scikit-learn>=1.6.0->petsard==1.0.0) (1.15.1)\n",
      "Requirement already satisfied: threadpoolctl>=3.1.0 in /Users/justyn.chen/Dropbox/310_Career_工作/20231016_NICS_資安院/41_PETsARD/petsard/.venv/lib/python3.10/site-packages (from scikit-learn>=1.6.0->petsard==1.0.0) (3.5.0)\n",
      "Requirement already satisfied: copulas>=0.11.0 in /Users/justyn.chen/Dropbox/310_Career_工作/20231016_NICS_資安院/41_PETsARD/petsard/.venv/lib/python3.10/site-packages (from sdmetrics<1,>=0.16.0->petsard==1.0.0) (0.12.1)\n",
      "Requirement already satisfied: tqdm>=4.29 in /Users/justyn.chen/Dropbox/310_Career_工作/20231016_NICS_資安院/41_PETsARD/petsard/.venv/lib/python3.10/site-packages (from sdmetrics<1,>=0.16.0->petsard==1.0.0) (4.67.1)\n",
      "Requirement already satisfied: plotly>=5.19.0 in /Users/justyn.chen/Dropbox/310_Career_工作/20231016_NICS_資安院/41_PETsARD/petsard/.venv/lib/python3.10/site-packages (from sdmetrics<1,>=0.16.0->petsard==1.0.0) (5.24.1)\n",
      "Requirement already satisfied: boto3<2.0.0,>=1.28 in /Users/justyn.chen/Dropbox/310_Career_工作/20231016_NICS_資安院/41_PETsARD/petsard/.venv/lib/python3.10/site-packages (from sdv<2,>=1.17.1->petsard==1.0.0) (1.36.2)\n",
      "Requirement already satisfied: botocore<2.0.0,>=1.31 in /Users/justyn.chen/Dropbox/310_Career_工作/20231016_NICS_資安院/41_PETsARD/petsard/.venv/lib/python3.10/site-packages (from sdv<2,>=1.17.1->petsard==1.0.0) (1.36.2)\n",
      "Requirement already satisfied: cloudpickle>=2.1.0 in /Users/justyn.chen/Dropbox/310_Career_工作/20231016_NICS_資安院/41_PETsARD/petsard/.venv/lib/python3.10/site-packages (from sdv<2,>=1.17.1->petsard==1.0.0) (3.1.1)\n",
      "Requirement already satisfied: graphviz>=0.13.2 in /Users/justyn.chen/Dropbox/310_Career_工作/20231016_NICS_資安院/41_PETsARD/petsard/.venv/lib/python3.10/site-packages (from sdv<2,>=1.17.1->petsard==1.0.0) (0.20.3)\n",
      "Requirement already satisfied: ctgan>=0.10.2 in /Users/justyn.chen/Dropbox/310_Career_工作/20231016_NICS_資安院/41_PETsARD/petsard/.venv/lib/python3.10/site-packages (from sdv<2,>=1.17.1->petsard==1.0.0) (0.10.2)\n",
      "Requirement already satisfied: deepecho>=0.6.1 in /Users/justyn.chen/Dropbox/310_Career_工作/20231016_NICS_資安院/41_PETsARD/petsard/.venv/lib/python3.10/site-packages (from sdv<2,>=1.17.1->petsard==1.0.0) (0.6.1)\n",
      "Requirement already satisfied: rdt>=1.13.2 in /Users/justyn.chen/Dropbox/310_Career_工作/20231016_NICS_資安院/41_PETsARD/petsard/.venv/lib/python3.10/site-packages (from sdv<2,>=1.17.1->petsard==1.0.0) (1.13.2)\n",
      "Requirement already satisfied: platformdirs>=4.0 in /Users/justyn.chen/Dropbox/310_Career_工作/20231016_NICS_資安院/41_PETsARD/petsard/.venv/lib/python3.10/site-packages (from sdv<2,>=1.17.1->petsard==1.0.0) (4.3.6)\n",
      "Requirement already satisfied: jmespath<2.0.0,>=0.7.1 in /Users/justyn.chen/Dropbox/310_Career_工作/20231016_NICS_資安院/41_PETsARD/petsard/.venv/lib/python3.10/site-packages (from boto3<2.0.0,>=1.28->sdv<2,>=1.17.1->petsard==1.0.0) (1.0.1)\n",
      "Requirement already satisfied: s3transfer<0.12.0,>=0.11.0 in /Users/justyn.chen/Dropbox/310_Career_工作/20231016_NICS_資安院/41_PETsARD/petsard/.venv/lib/python3.10/site-packages (from boto3<2.0.0,>=1.28->sdv<2,>=1.17.1->petsard==1.0.0) (0.11.1)\n",
      "Requirement already satisfied: python-dateutil<3.0.0,>=2.1 in /Users/justyn.chen/Dropbox/310_Career_工作/20231016_NICS_資安院/41_PETsARD/petsard/.venv/lib/python3.10/site-packages (from botocore<2.0.0,>=1.31->sdv<2,>=1.17.1->petsard==1.0.0) (2.9.0.post0)\n",
      "Requirement already satisfied: torch>=1.11.0 in /Users/justyn.chen/Dropbox/310_Career_工作/20231016_NICS_資安院/41_PETsARD/petsard/.venv/lib/python3.10/site-packages (from ctgan>=0.10.2->sdv<2,>=1.17.1->petsard==1.0.0) (2.5.1)\n",
      "Requirement already satisfied: llvmlite<0.45,>=0.44.0dev0 in /Users/justyn.chen/Dropbox/310_Career_工作/20231016_NICS_資安院/41_PETsARD/petsard/.venv/lib/python3.10/site-packages (from numba~=0.58->anonymeter<2,>=1.0.0->petsard==1.0.0) (0.44.0)\n",
      "Requirement already satisfied: pytz>=2020.1 in /Users/justyn.chen/Dropbox/310_Career_工作/20231016_NICS_資安院/41_PETsARD/petsard/.venv/lib/python3.10/site-packages (from pandas>=1.4->anonymeter<2,>=1.0.0->petsard==1.0.0) (2024.2)\n",
      "Requirement already satisfied: tzdata>=2022.7 in /Users/justyn.chen/Dropbox/310_Career_工作/20231016_NICS_資安院/41_PETsARD/petsard/.venv/lib/python3.10/site-packages (from pandas>=1.4->anonymeter<2,>=1.0.0->petsard==1.0.0) (2024.2)\n",
      "Requirement already satisfied: tenacity>=6.2.0 in /Users/justyn.chen/Dropbox/310_Career_工作/20231016_NICS_資安院/41_PETsARD/petsard/.venv/lib/python3.10/site-packages (from plotly>=5.19.0->sdmetrics<1,>=0.16.0->petsard==1.0.0) (9.0.0)\n",
      "Requirement already satisfied: packaging in /Users/justyn.chen/Dropbox/310_Career_工作/20231016_NICS_資安院/41_PETsARD/petsard/.venv/lib/python3.10/site-packages (from plotly>=5.19.0->sdmetrics<1,>=0.16.0->petsard==1.0.0) (24.2)\n",
      "Requirement already satisfied: Faker>=17 in /Users/justyn.chen/Dropbox/310_Career_工作/20231016_NICS_資安院/41_PETsARD/petsard/.venv/lib/python3.10/site-packages (from rdt>=1.13.2->sdv<2,>=1.17.1->petsard==1.0.0) (33.3.1)\n",
      "Requirement already satisfied: typing-extensions in /Users/justyn.chen/Dropbox/310_Career_工作/20231016_NICS_資安院/41_PETsARD/petsard/.venv/lib/python3.10/site-packages (from Faker>=17->rdt>=1.13.2->sdv<2,>=1.17.1->petsard==1.0.0) (4.12.2)\n",
      "Requirement already satisfied: six>=1.5 in /Users/justyn.chen/Dropbox/310_Career_工作/20231016_NICS_資安院/41_PETsARD/petsard/.venv/lib/python3.10/site-packages (from python-dateutil<3.0.0,>=2.1->botocore<2.0.0,>=1.31->sdv<2,>=1.17.1->petsard==1.0.0) (1.17.0)\n",
      "Requirement already satisfied: filelock in /Users/justyn.chen/Dropbox/310_Career_工作/20231016_NICS_資安院/41_PETsARD/petsard/.venv/lib/python3.10/site-packages (from torch>=1.11.0->ctgan>=0.10.2->sdv<2,>=1.17.1->petsard==1.0.0) (3.16.1)\n",
      "Requirement already satisfied: networkx in /Users/justyn.chen/Dropbox/310_Career_工作/20231016_NICS_資安院/41_PETsARD/petsard/.venv/lib/python3.10/site-packages (from torch>=1.11.0->ctgan>=0.10.2->sdv<2,>=1.17.1->petsard==1.0.0) (3.4.2)\n",
      "Requirement already satisfied: jinja2 in /Users/justyn.chen/Dropbox/310_Career_工作/20231016_NICS_資安院/41_PETsARD/petsard/.venv/lib/python3.10/site-packages (from torch>=1.11.0->ctgan>=0.10.2->sdv<2,>=1.17.1->petsard==1.0.0) (3.1.5)\n",
      "Requirement already satisfied: fsspec in /Users/justyn.chen/Dropbox/310_Career_工作/20231016_NICS_資安院/41_PETsARD/petsard/.venv/lib/python3.10/site-packages (from torch>=1.11.0->ctgan>=0.10.2->sdv<2,>=1.17.1->petsard==1.0.0) (2024.12.0)\n",
      "Requirement already satisfied: sympy==1.13.1 in /Users/justyn.chen/Dropbox/310_Career_工作/20231016_NICS_資安院/41_PETsARD/petsard/.venv/lib/python3.10/site-packages (from torch>=1.11.0->ctgan>=0.10.2->sdv<2,>=1.17.1->petsard==1.0.0) (1.13.1)\n",
      "Requirement already satisfied: mpmath<1.4,>=1.1.0 in /Users/justyn.chen/Dropbox/310_Career_工作/20231016_NICS_資安院/41_PETsARD/petsard/.venv/lib/python3.10/site-packages (from sympy==1.13.1->torch>=1.11.0->ctgan>=0.10.2->sdv<2,>=1.17.1->petsard==1.0.0) (1.3.0)\n",
      "Requirement already satisfied: MarkupSafe>=2.0 in /Users/justyn.chen/Dropbox/310_Career_工作/20231016_NICS_資安院/41_PETsARD/petsard/.venv/lib/python3.10/site-packages (from jinja2->torch>=1.11.0->ctgan>=0.10.2->sdv<2,>=1.17.1->petsard==1.0.0) (3.0.2)\n",
      "Building wheels for collected packages: petsard\n",
      "  Building editable for petsard (pyproject.toml): started\n",
      "  Building editable for petsard (pyproject.toml): finished with status 'done'\n",
      "  Created wheel for petsard: filename=petsard-1.0.0-py3-none-any.whl size=6548 sha256=13facca854a5c5475ff8308cf7734db07ee0719f42e7c989dc2a1bdd492f002c\n",
      "  Stored in directory: /private/var/folders/lb/lwjvbr314wj7bt1k63plw4bw0000gn/T/pip-ephem-wheel-cache-a4wnns1n/wheels/ab/96/ec/cdd91dfcc79f31f24983d15f91fa827013e923195ac3157aed\n",
      "Successfully built petsard\n",
      "Installing collected packages: petsard\n",
      "  Attempting uninstall: petsard\n",
      "    Found existing installation: petsard 1.0.0\n",
      "    Uninstalling petsard-1.0.0:\n",
      "      Successfully uninstalled petsard-1.0.0\n",
      "Successfully installed petsard-1.0.0\n",
      "Installation complete!\n",
      "Loader - Benchmarker: file benchmark/adult-income.csv already exist and match SHA-256.\n",
      "                      petsard will ignore download and use local data directly.\n",
      "Successful loading benchmark data: adult-income\n"
     ]
    }
   ],
   "source": [
    "# Now import and run the setup\n",
    "from utils import (\n",
    "    get_yaml_path,\n",
    "    setup_environment,\n",
    ")\n",
    "\n",
    "\n",
    "setup_environment(is_colab, branch, benchmark_data=['adult-income'])"
   ]
  },
  {
   "cell_type": "markdown",
   "metadata": {},
   "source": [
    "# YAML Configuration for PETsARD\n",
    "PETsARD 的 YAML 設定"
   ]
  },
  {
   "cell_type": "markdown",
   "metadata": {},
   "source": [
    "## Case 1: Default Synthesis\n",
    "情境一：預設合成"
   ]
  },
  {
   "cell_type": "code",
   "execution_count": 3,
   "metadata": {},
   "outputs": [
    {
     "name": "stdout",
     "output_type": "stream",
     "text": [
      "Configuration content:\n",
      "---\n",
      "Loader:\n",
      "    data:\n",
      "        filepath: 'benchmark/adult-income.csv'\n",
      "Synthesizer:\n",
      "    demo:\n",
      "        method: 'default'\n",
      "Reporter:\n",
      "    output:\n",
      "        method: 'save_data'\n",
      "        output: 'result'\n",
      "        source: 'Synthesizer'\n",
      "...\n"
     ]
    }
   ],
   "source": [
    "yaml_file: str = 'basic-usage_case-1_default-synthesis.yaml'\n",
    "\n",
    "config_path: str = get_yaml_path(\n",
    "    is_colab,\n",
    "    yaml_file ,\n",
    "    branch,\n",
    ")"
   ]
  },
  {
   "cell_type": "markdown",
   "metadata": {},
   "source": [
    "### Execution and Result\n",
    "執行與結果"
   ]
  },
  {
   "cell_type": "code",
   "execution_count": 4,
   "metadata": {},
   "outputs": [
    {
     "name": "stdout",
     "output_type": "stream",
     "text": [
      "Synthesizer (SDV): Fitting GaussianCopula.\n"
     ]
    },
    {
     "name": "stderr",
     "output_type": "stream",
     "text": [
      "/Users/justyn.chen/Dropbox/310_Career_工作/20231016_NICS_資安院/41_PETsARD/petsard/.venv/lib/python3.10/site-packages/sdv/single_table/base.py:119: FutureWarning: The 'SingleTableMetadata' is deprecated. Please use the new 'Metadata' class for synthesizers.\n",
      "  warnings.warn(DEPRECATION_MSG, FutureWarning)\n"
     ]
    },
    {
     "name": "stdout",
     "output_type": "stream",
     "text": [
      "Synthesizer (SDV): Fitting GaussianCopula spent 4.2739 sec.\n",
      "Synthesizer (SDV): Sampling GaussianCopula # 48842 rows (same as Loader data) in 0.5742 sec.\n",
      "Now is result_Loader[data]_Synthesizer[demo] save to csv...\n"
     ]
    }
   ],
   "source": [
    "from petsard import Executor\n",
    "\n",
    "\n",
    "# Initialize and run executor\n",
    "exec = Executor(config=config_path)\n",
    "exec.run()"
   ]
  },
  {
   "cell_type": "code",
   "execution_count": 5,
   "metadata": {},
   "outputs": [
    {
     "name": "stdout",
     "output_type": "stream",
     "text": [
      "Loader[data]_Synthesizer[demo]_Reporter[output]\n",
      "\n",
      "Loader[data]_Synthesizer[demo]\n",
      "\n",
      "       age     workclass  fnlwgt     education  educational-num  \\\n",
      "0       48     Local-gov  106603     Bachelors                9   \n",
      "1       30  Never-worked  238044          11th               11   \n",
      "2       25  Never-worked   66497       HS-grad               12   \n",
      "3       28     Local-gov  177494     Bachelors               12   \n",
      "4       32     Local-gov  173047  Some-college               11   \n",
      "...    ...           ...     ...           ...              ...   \n",
      "48837   33     Local-gov  299965  Some-college               11   \n",
      "48838   23     Local-gov  102776       HS-grad                4   \n",
      "48839   27     Local-gov  205362     Bachelors               12   \n",
      "48840   42     Local-gov  207269       Masters               13   \n",
      "48841   43     Local-gov  322014       HS-grad               11   \n",
      "\n",
      "           marital-status         occupation    relationship   race  gender  \\\n",
      "0      Married-civ-spouse     Prof-specialty         Husband  White    Male   \n",
      "1      Married-civ-spouse       Craft-repair         Husband  White    Male   \n",
      "2      Married-civ-spouse       Adm-clerical   Not-in-family  White    Male   \n",
      "3      Married-civ-spouse       Adm-clerical       Own-child  White    Male   \n",
      "4      Married-civ-spouse       Adm-clerical  Other-relative  White    Male   \n",
      "...                   ...                ...             ...    ...     ...   \n",
      "48837  Married-civ-spouse   Transport-moving   Not-in-family  White    Male   \n",
      "48838  Married-civ-spouse  Handlers-cleaners         Husband  White  Female   \n",
      "48839  Married-civ-spouse    Protective-serv   Not-in-family  White    Male   \n",
      "48840  Married-civ-spouse              Sales   Not-in-family  White    Male   \n",
      "48841  Married-civ-spouse  Handlers-cleaners         Husband  White    Male   \n",
      "\n",
      "       capital-gain  capital-loss  hours-per-week native-country income  \n",
      "0             90003             0              48  United-States  <=50K  \n",
      "1             96819             5              47  United-States  <=50K  \n",
      "2             13562             0              26  United-States  <=50K  \n",
      "3             19071             0              42  United-States  <=50K  \n",
      "4               106             0              23  United-States  <=50K  \n",
      "...             ...           ...             ...            ...    ...  \n",
      "48837          8632             0              44  United-States  <=50K  \n",
      "48838         99989             0              46  United-States  <=50K  \n",
      "48839         88306             0              43  United-States  <=50K  \n",
      "48840         31290             0              53  United-States  <=50K  \n",
      "48841         10909             0              43  United-States  <=50K  \n",
      "\n",
      "[48842 rows x 15 columns]\n"
     ]
    }
   ],
   "source": [
    "for k, v in exec.get_result().items():\n",
    "    print(f\"{k}\\n\")\n",
    "    for inner_k, inner_v in v.items():\n",
    "        print(f\"{inner_k}\\n\")\n",
    "        print(inner_v)"
   ]
  }
 ],
 "metadata": {
  "kernelspec": {
   "display_name": ".venv",
   "language": "python",
   "name": "python3"
  },
  "language_info": {
   "codemirror_mode": {
    "name": "ipython",
    "version": 3
   },
   "file_extension": ".py",
   "mimetype": "text/x-python",
   "name": "python",
   "nbconvert_exporter": "python",
   "pygments_lexer": "ipython3",
   "version": "3.10.15"
  }
 },
 "nbformat": 4,
 "nbformat_minor": 2
}
