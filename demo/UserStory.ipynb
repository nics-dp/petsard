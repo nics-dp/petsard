{
 "cells": [
  {
   "cell_type": "markdown",
   "metadata": {},
   "source": [
    "# User Story\n",
    "\n",
    "This demo is checklist for \"User Stories\" of PETsARD Spec. Also it can help users to set their own config file. Enjoy : )\n",
    "\n",
    "本示例為【資料生成演算法分析與評估系統 Spec】當中【用戶故事 User Stories】的檢查清單。它還可以幫助用戶設置自己的配置文件。祝您使用愉快 : )"
   ]
  },
  {
   "cell_type": "markdown",
   "metadata": {},
   "source": [
    "## Stocktaking\n",
    "\n",
    "Type 1: Generation\n",
    "\n",
    "1. User Story 1: Describing - **Incompleted**\n",
    "   - 缺 Reporter method = 'save_report'\n",
    "\n",
    "2. User Story 2: Synthesizing - **Completed**\n",
    "\n",
    "3. User Story 3: Default Synthesizing - **Completed**\n",
    "\n",
    "4. User Story 4: Evaluating - **Incompleted**\n",
    "   - 缺 Reporter method = 'save_report'\n",
    "\n",
    "5. User Story 5: Customized Evaluating - **Incompleted**\n",
    "   - 缺 Reporter method = 'save_report'\n",
    "\n",
    "Type 2: Evaluating data\n",
    "\n",
    "6. User Story 6: Given data evaluating - **Incompleted**\n",
    "   - 缺 Reporter method = 'save_report'\n",
    "\n",
    "7. User Story 7: Given data customized evaluating - **Incompleted**\n",
    "   - 缺 Reporter method = 'save_report'\n",
    "\n",
    "Type 3: Evaluating algorithm\n",
    "\n",
    "1. User Story 8: Synthesizing on default data - **Completed**\n",
    "\n",
    "2. User Story 9: Synthesizing on multiple data - **Completed**\n",
    "\n",
    "3.  User Story 8: Synthesizing and Evaluating on default data - **Incompleted**\n",
    "   - 缺 Reporter method = 'save_report'\n",
    "\n",
    "\n"
   ]
  },
  {
   "cell_type": "markdown",
   "metadata": {},
   "source": [
    "## Environment"
   ]
  },
  {
   "cell_type": "code",
   "execution_count": 1,
   "metadata": {},
   "outputs": [
    {
     "name": "stdout",
     "output_type": "stream",
     "text": [
      "d:\\Dropbox\\89_other_application\\GitHub\\PETsARD\n"
     ]
    }
   ],
   "source": [
    "import os\n",
    "import sys\n",
    "\n",
    "path_petsard = os.path.dirname(os.getcwd())\n",
    "print(path_petsard)\n",
    "sys.path.append(path_petsard)\n",
    "\n",
    "\n",
    "###### ###### ###### ###### ###### ######\n",
    "\n",
    "import pprint\n",
    "\n",
    "import yaml\n",
    "\n",
    "from PETsARD import Executor\n",
    "\n",
    "\n",
    "def DevTest_UserStory(config_file: str):\n",
    "    print(f\"YAML file {config_file} is ...\")\n",
    "    print(f\"\")\n",
    "    pp = pprint.PrettyPrinter(depth=3)\n",
    "    with open(config_file, 'r') as yaml_file:\n",
    "        yaml_raw: dict = yaml.safe_load(yaml_file)\n",
    "    pp.pprint(yaml_raw)\n",
    "\n",
    "    print(f\"\")\n",
    "    print(f\"\")\n",
    "    print(f\"Here's the result...\")\n",
    "    print(f\"\")\n",
    "    exec = Executor(config=config_file)\n",
    "    exec.run()\n",
    "\n",
    "    print(f\"\")\n",
    "    print(f\"\")\n",
    "    print(f\"Here's the result...\")\n",
    "    print(f\"\")\n",
    "    pp.pprint(exec.get_result())"
   ]
  },
  {
   "cell_type": "markdown",
   "metadata": {},
   "source": [
    "# Type 1: Generation\n",
    "\n",
    "> Type 1: Generate a privacy enhanced dataset along with reports\n",
    ">\n",
    "> 類型一：生成一個隱私強化資料集、與提供相關報告"
   ]
  },
  {
   "cell_type": "markdown",
   "metadata": {},
   "source": [
    "## User Story 1: Describing\n",
    "\n",
    "> Given a dataset as an input, the pipeline can go through the \"describe\" module to get a summary of the dataset. \n",
    ">\n",
    "> 給定一個資料集做輸入，該流程可以藉由調用 \"describe\" 模組而得到該資料集的摘要"
   ]
  },
  {
   "cell_type": "code",
   "execution_count": 2,
   "metadata": {},
   "outputs": [
    {
     "name": "stdout",
     "output_type": "stream",
     "text": [
      "YAML file UserStory_01.yaml is ...\n",
      "\n",
      "{'Loader': {'adult': {'filepath': 'benchmark://adult', 'na_values': {...}}}}\n",
      "\n",
      "\n",
      "Here's execution...\n",
      "\n",
      "Now is Loader with adult...\n",
      "Loader - Benchmarker: file benchmark\\adult.csv already exist and match SHA-256.\n",
      "                      PETsARD will ignore download and use local data directly.\n",
      "{'Loader[adult]':        age     workclass  fnlwgt     education  educational-num  \\\n",
      "0       25       Private  226802          11th                7   \n",
      "1       38       Private   89814       HS-grad                9   \n",
      "2       28     Local-gov  336951    Assoc-acdm               12   \n",
      "3       44       Private  160323  Some-college               10   \n",
      "4       18           NaN  103497  Some-college               10   \n",
      "...    ...           ...     ...           ...              ...   \n",
      "48837   27       Private  257302    Assoc-acdm               12   \n",
      "48838   40       Private  154374       HS-grad                9   \n",
      "48839   58       Private  151910       HS-grad                9   \n",
      "48840   22       Private  201490       HS-grad                9   \n",
      "48841   52  Self-emp-inc  287927       HS-grad                9   \n",
      "\n",
      "           marital-status         occupation relationship   race  gender  \\\n",
      "0           Never-married  Machine-op-inspct    Own-child  Black    Male   \n",
      "1      Married-civ-spouse    Farming-fishing      Husband  White    Male   \n",
      "2      Married-civ-spouse    Protective-serv      Husband  White    Male   \n",
      "3      Married-civ-spouse  Machine-op-inspct      Husband  Black    Male   \n",
      "4           Never-married                NaN    Own-child  White  Female   \n",
      "...                   ...                ...          ...    ...     ...   \n",
      "48837  Married-civ-spouse       Tech-support         Wife  White  Female   \n",
      "48838  Married-civ-spouse  Machine-op-inspct      Husband  White    Male   \n",
      "48839             Widowed       Adm-clerical    Unmarried  White  Female   \n",
      "48840       Never-married       Adm-clerical    Own-child  White    Male   \n",
      "48841  Married-civ-spouse    Exec-managerial         Wife  White  Female   \n",
      "\n",
      "       capital-gain  capital-loss  hours-per-week native-country income  \n",
      "0                 0             0              40  United-States  <=50K  \n",
      "1                 0             0              50  United-States  <=50K  \n",
      "2                 0             0              40  United-States   >50K  \n",
      "3              7688             0              40  United-States   >50K  \n",
      "4                 0             0              30  United-States  <=50K  \n",
      "...             ...           ...             ...            ...    ...  \n",
      "48837             0             0              38  United-States  <=50K  \n",
      "48838             0             0              40  United-States   >50K  \n",
      "48839             0             0              40  United-States  <=50K  \n",
      "48840             0             0              20  United-States  <=50K  \n",
      "48841         15024             0              40  United-States   >50K  \n",
      "\n",
      "[48842 rows x 15 columns]}\n"
     ]
    }
   ],
   "source": [
    "config_file = 'UserStory_01.yaml'\n",
    "\n",
    "DevTest_UserStory(config_file = config_file)"
   ]
  },
  {
   "cell_type": "markdown",
   "metadata": {},
   "source": [
    "## User Story 2: Synthesizing\n",
    "\n",
    "> Given an original dataset, specified privacy enhancing data generation algorithms and parameters, the pipeline will generate a privacy enhanced dataset.\n",
    ">\n",
    "> 給定一個原始資料集，並指定隱私強化技術生成演算法與參數，該流程會依此產生隱私強化資料集。"
   ]
  },
  {
   "cell_type": "code",
   "execution_count": 3,
   "metadata": {},
   "outputs": [
    {
     "name": "stdout",
     "output_type": "stream",
     "text": [
      "YAML file UserStory_02.yaml is ...\n",
      "\n",
      "{'Loader': {'adult': {'filepath': 'benchmark://adult', 'na_values': {...}}},\n",
      " 'Postprocessor': {'demo': {'method': 'default'}},\n",
      " 'Preprocessor': {'demo': {'method': 'default'}},\n",
      " 'Reporter': {'save_data': {'method': 'save_data',\n",
      "                            'output': 'UserStory_02',\n",
      "                            'source': 'Postprocessor'}},\n",
      " 'Synthesizer': {'sdv-gaussian': {'method': 'sdv-single_table-gaussiancopula'}}}\n",
      "\n",
      "\n",
      "Here's execution...\n",
      "\n",
      "Now is Loader with adult...\n",
      "Loader - Benchmarker: file benchmark\\adult.csv already exist and match SHA-256.\n",
      "                      PETsARD will ignore download and use local data directly.\n",
      "Now is Preprocessor with demo...\n",
      "Now is Synthesizer with sdv-gaussian...\n",
      "Synthesizer (SDV - SingleTable): Metafile loading time: 0.0705 sec.\n",
      "Synthesizer (SDV - SingleTable): Fitting GaussianCopula.\n",
      "Synthesizer (SDV - SingleTable): Fitting  GaussianCopula spent 9.6871 sec.\n",
      "Synthesizer (SDV - SingleTable): Sampling GaussianCopula # 26933 rows (same as raw) in 2.1011 sec.\n",
      "Now is Postprocessor with demo...\n",
      "Now is Reporter with save_data...\n",
      "Now is UserStory_02_Loader[adult]_Preprocessor[demo]_Synthesizer[sdv-gaussian]_Postprocessor[demo] save to csv...\n",
      "{'Loader[adult]_Preprocessor[demo]_Synthesizer[sdv-gaussian]_Postprocessor[demo]_Reporter[save_data]': None}\n"
     ]
    }
   ],
   "source": [
    "config_file = 'UserStory_02.yaml'\n",
    "\n",
    "DevTest_UserStory(config_file = config_file)"
   ]
  },
  {
   "cell_type": "markdown",
   "metadata": {},
   "source": [
    "## User Story 3: Default Synthesizing\n",
    "\n",
    "> Given an original dataset without specified algorithm, the pipeline will generate a list of privacy enhanced datasets using the default algorithms.\n",
    ">\n",
    "> 給定一個原始資料集、但未指定演算法，該流程會利用預設的演算法生成一組隱私強化資料集。"
   ]
  },
  {
   "cell_type": "code",
   "execution_count": 4,
   "metadata": {},
   "outputs": [
    {
     "name": "stdout",
     "output_type": "stream",
     "text": [
      "YAML file UserStory_03.yaml is ...\n",
      "\n",
      "{'Loader': {'adult': {'filepath': 'benchmark://adult', 'na_values': {...}}},\n",
      " 'Postprocessor': {'demo': {'method': 'default'}},\n",
      " 'Preprocessor': {'demo': {'method': 'default'}},\n",
      " 'Reporter': {'save_data': {'method': 'save_data',\n",
      "                            'output': 'UserStory_03',\n",
      "                            'source': 'Postprocessor'}},\n",
      " 'Synthesizer': {'demo': {'method': 'default'}}}\n",
      "\n",
      "\n",
      "Here's execution...\n",
      "\n",
      "Now is Loader with adult...\n",
      "Loader - Benchmarker: file benchmark\\adult.csv already exist and match SHA-256.\n",
      "                      PETsARD will ignore download and use local data directly.\n",
      "Now is Preprocessor with demo...\n",
      "Now is Synthesizer with demo...\n",
      "Synthesizer (SDV - SingleTable): Metafile loading time: 0.0345 sec.\n",
      "Synthesizer (SDV - SingleTable): Fitting GaussianCopula.\n",
      "Synthesizer (SDV - SingleTable): Fitting  GaussianCopula spent 11.8687 sec.\n",
      "Synthesizer (SDV - SingleTable): Sampling GaussianCopula # 26933 rows (same as raw) in 1.9742 sec.\n",
      "Now is Postprocessor with demo...\n",
      "Now is Reporter with save_data...\n",
      "Now is UserStory_03_Loader[adult]_Preprocessor[demo]_Synthesizer[demo]_Postprocessor[demo] save to csv...\n",
      "{'Loader[adult]_Preprocessor[demo]_Synthesizer[demo]_Postprocessor[demo]_Reporter[save_data]': None}\n"
     ]
    }
   ],
   "source": [
    "config_file = 'UserStory_03.yaml'\n",
    "\n",
    "DevTest_UserStory(config_file = config_file)"
   ]
  },
  {
   "cell_type": "markdown",
   "metadata": {},
   "source": [
    "## User Story 4: Evaluating\n",
    "\n",
    "> Following User Story 2 and 3, if users enable the \"evaluate\" step ,  the evaluation module will create a report covering default privacy risk and utility metrics.\n",
    ">\n",
    "> 根據用戶故事 2 跟 3，如果使用者啟用了 \"evaluate\"  步驟，評估模組會產生涵蓋預設的隱私風險與效用指標的報告。"
   ]
  },
  {
   "cell_type": "code",
   "execution_count": 5,
   "metadata": {},
   "outputs": [
    {
     "name": "stdout",
     "output_type": "stream",
     "text": [
      "YAML file UserStory_04.yaml is ...\n",
      "\n",
      "{'Evaluator': {'demo': {'method': 'default'}},\n",
      " 'Loader': {'adult': {'filepath': 'benchmark://adult', 'na_values': {...}}},\n",
      " 'Postprocessor': {'demo': {'method': 'default'}},\n",
      " 'Preprocessor': {'demo': {'method': 'default'}},\n",
      " 'Synthesizer': {'demo': {'method': 'default'}}}\n",
      "\n",
      "\n",
      "Here's execution...\n",
      "\n",
      "Now is Loader with adult...\n",
      "Loader - Benchmarker: file benchmark\\adult.csv already exist and match SHA-256.\n",
      "                      PETsARD will ignore download and use local data directly.\n",
      "Now is Preprocessor with demo...\n",
      "Now is Synthesizer with demo...\n",
      "Synthesizer (SDV - SingleTable): Metafile loading time: 0.0525 sec.\n",
      "Synthesizer (SDV - SingleTable): Fitting GaussianCopula.\n",
      "Synthesizer (SDV - SingleTable): Fitting  GaussianCopula spent 11.2195 sec.\n",
      "Synthesizer (SDV - SingleTable): Sampling GaussianCopula # 26933 rows (same as raw) in 2.3087 sec.\n",
      "Now is Postprocessor with demo...\n",
      "Now is Evaluator with demo...\n",
      "Generating report ...\n",
      "(1/2) Evaluating Column Shapes: : 100%|██████████| 15/15 [00:00<00:00, 32.30it/s]\n",
      "(2/2) Evaluating Column Pair Trends: : 100%|██████████| 105/105 [00:07<00:00, 14.25it/s]\n",
      "\n",
      "Overall Score: 77.84%\n",
      "\n",
      "Properties:\n",
      "- Column Shapes: 94.07%\n",
      "- Column Pair Trends: 61.61%\n",
      "{'Loader[adult]_Preprocessor[demo]_Synthesizer[demo]_Postprocessor[demo]_Evaluator[demo]': {'columnwise':                       Property        Metric     Score\n",
      "age              Column Shapes  KSComplement  0.941238\n",
      "workclass        Column Shapes  TVComplement  0.995441\n",
      "fnlwgt           Column Shapes  KSComplement  0.949475\n",
      "education        Column Shapes  TVComplement  0.951593\n",
      "educational-num  Column Shapes  KSComplement  0.782726\n",
      "marital-status   Column Shapes  TVComplement  0.984707\n",
      "occupation       Column Shapes  TVComplement  0.982136\n",
      "relationship     Column Shapes  TVComplement  0.992983\n",
      "race             Column Shapes  TVComplement  0.995884\n",
      "gender           Column Shapes  TVComplement  0.998598\n",
      "capital-gain     Column Shapes  KSComplement  0.917387\n",
      "capital-loss     Column Shapes  KSComplement  0.953278\n",
      "hours-per-week   Column Shapes  KSComplement  0.684556\n",
      "native-country   Column Shapes  TVComplement  0.993655\n",
      "income           Column Shapes  TVComplement  0.986129,\n",
      "                                                                                            'global':            Score  Column Shapes  Column Pair Trends\n",
      "result  0.778372       0.940652            0.616092,\n",
      "                                                                                            'pairwise':                                             Property                 Metric  \\\n",
      "(age, workclass)                  Column Pair Trends  ContingencySimilarity   \n",
      "(age, fnlwgt)                     Column Pair Trends  CorrelationSimilarity   \n",
      "(age, education)                  Column Pair Trends  ContingencySimilarity   \n",
      "(age, educational-num)            Column Pair Trends  CorrelationSimilarity   \n",
      "(age, marital-status)             Column Pair Trends  ContingencySimilarity   \n",
      "...                                              ...                    ...   \n",
      "(capital-loss, native-country)    Column Pair Trends  ContingencySimilarity   \n",
      "(capital-loss, income)            Column Pair Trends  ContingencySimilarity   \n",
      "(hours-per-week, native-country)  Column Pair Trends  ContingencySimilarity   \n",
      "(hours-per-week, income)          Column Pair Trends  ContingencySimilarity   \n",
      "(native-country, income)          Column Pair Trends  ContingencySimilarity   \n",
      "\n",
      "                                     Score  Real Correlation  \\\n",
      "(age, workclass)                  0.858941               NaN   \n",
      "(age, fnlwgt)                     0.990447         -0.076628   \n",
      "(age, education)                  0.831631               NaN   \n",
      "(age, educational-num)            0.981559          0.030940   \n",
      "(age, marital-status)             0.755048               NaN   \n",
      "...                                    ...               ...   \n",
      "(capital-loss, native-country)    0.006265               NaN   \n",
      "(capital-loss, income)            0.006286               NaN   \n",
      "(hours-per-week, native-country)  0.646825               NaN   \n",
      "(hours-per-week, income)          0.632728               NaN   \n",
      "(native-country, income)          0.971468               NaN   \n",
      "\n",
      "                                  Synthetic Correlation Error  \n",
      "(age, workclass)                                    NaN  None  \n",
      "(age, fnlwgt)                                 -0.057522  None  \n",
      "(age, education)                                    NaN  None  \n",
      "(age, educational-num)                         0.067822  None  \n",
      "(age, marital-status)                               NaN  None  \n",
      "...                                                 ...   ...  \n",
      "(capital-loss, native-country)                      NaN  None  \n",
      "(capital-loss, income)                              NaN  None  \n",
      "(hours-per-week, native-country)                    NaN  None  \n",
      "(hours-per-week, income)                            NaN  None  \n",
      "(native-country, income)                            NaN  None  \n",
      "\n",
      "[105 rows x 6 columns]}}\n"
     ]
    }
   ],
   "source": [
    "config_file = 'UserStory_04.yaml'\n",
    "\n",
    "DevTest_UserStory(config_file = config_file)"
   ]
  },
  {
   "cell_type": "markdown",
   "metadata": {},
   "source": [
    "## User Story 5: Customized Evaluating\n",
    "\n",
    "> Following User Story 4, if specific types of metrics are set or a customized evaluation script is provided, the module will create a customized evaluation report.\n",
    "> \n",
    "> 根據用戶故事 4，如果指定特定的指標、或是提供用戶自定義的評估腳本，模組會產生客製化的評估報告。"
   ]
  },
  {
   "cell_type": "code",
   "execution_count": 6,
   "metadata": {},
   "outputs": [
    {
     "name": "stdout",
     "output_type": "stream",
     "text": [
      "YAML file UserStory_05.yaml is ...\n",
      "\n",
      "{'Evaluator': {'custom': {'custom_method': {...}, 'method': 'custom_method'}},\n",
      " 'Loader': {'adult': {'filepath': 'benchmark://adult', 'na_values': {...}}},\n",
      " 'Postprocessor': {'demo': {'method': 'default'}},\n",
      " 'Preprocessor': {'demo': {'method': 'default'}},\n",
      " 'Synthesizer': {'demo': {'method': 'default'}}}\n",
      "\n",
      "\n",
      "Here's execution...\n",
      "\n",
      "Now is Loader with adult...\n",
      "Loader - Benchmarker: file benchmark\\adult.csv already exist and match SHA-256.\n",
      "                      PETsARD will ignore download and use local data directly.\n",
      "Now is Preprocessor with demo...\n",
      "Now is Synthesizer with demo...\n",
      "Synthesizer (SDV - SingleTable): Metafile loading time: 0.0444 sec.\n",
      "Synthesizer (SDV - SingleTable): Fitting GaussianCopula.\n",
      "Synthesizer (SDV - SingleTable): Fitting  GaussianCopula spent 10.4844 sec.\n",
      "Synthesizer (SDV - SingleTable): Sampling GaussianCopula # 26933 rows (same as raw) in 2.332 sec.\n",
      "Now is Postprocessor with demo...\n",
      "Now is Evaluator with custom...\n",
      "{'Loader[adult]_Preprocessor[demo]_Synthesizer[demo]_Postprocessor[demo]_Evaluator[custom]': {'columnwise':                  score\n",
      "age                100\n",
      "workclass          100\n",
      "fnlwgt             100\n",
      "education          100\n",
      "educational-num    100\n",
      "marital-status     100\n",
      "occupation         100\n",
      "relationship       100\n",
      "race               100\n",
      "gender             100\n",
      "capital-gain       100\n",
      "capital-loss       100\n",
      "hours-per-week     100\n",
      "native-country     100\n",
      "income             100,\n",
      "                                                                                              'global':         score\n",
      "result    100,\n",
      "                                                                                              'pairwise':                           score\n",
      "(age, age)                  100\n",
      "(age, workclass)            100\n",
      "(age, fnlwgt)               100\n",
      "(age, education)            100\n",
      "(age, educational-num)      100\n",
      "...                         ...\n",
      "(income, capital-gain)      100\n",
      "(income, capital-loss)      100\n",
      "(income, hours-per-week)    100\n",
      "(income, native-country)    100\n",
      "(income, income)            100\n",
      "\n",
      "[225 rows x 1 columns]}}\n"
     ]
    }
   ],
   "source": [
    "config_file = 'UserStory_05.yaml'\n",
    "\n",
    "DevTest_UserStory(config_file = config_file)"
   ]
  },
  {
   "cell_type": "markdown",
   "metadata": {},
   "source": [
    "# Type 2: Evaluating data\n",
    "\n",
    "> Type 2: Evaluate privacy enhanced dataset\n",
    ">\n",
    "> 類型二：評估隱私強化資料集"
   ]
  },
  {
   "cell_type": "markdown",
   "metadata": {},
   "source": [
    "## User Story 6: Given data evaluating\n",
    "\n",
    "> Given an original dataset and a privacy enhanced dataset to the evaluation module, the pipeline will create a report covering default/general metrics of privacy risk and utility.\n",
    ">\n",
    "> 給定原始資料集與對應的隱私強化資料集到評估模組中，該流程會產生一份涵蓋預設/一般指標的隱私風險與效用的報告。"
   ]
  },
  {
   "cell_type": "code",
   "execution_count": 8,
   "metadata": {},
   "outputs": [
    {
     "name": "stdout",
     "output_type": "stream",
     "text": [
      "YAML file UserStory_06-1.yaml is ...\n",
      "\n",
      "{'Evaluator': {'demo': {'method': 'default'}},\n",
      " 'Loader': {'custom': {'filepath': 'ori.csv'}},\n",
      " 'Synthesizer': {'custom': {'filepath': 'syn.csv', 'method': 'custom_data'}}}\n",
      "\n",
      "\n",
      "Here's execution...\n",
      "\n",
      "Now is Loader with custom...\n",
      "Now is Synthesizer with custom...\n",
      "Now is Evaluator with demo...\n",
      "Generating report ...\n",
      "(1/2) Evaluating Column Shapes: : 100%|██████████| 15/15 [00:00<00:00, 57.59it/s]\n",
      "(2/2) Evaluating Column Pair Trends: : 100%|██████████| 105/105 [00:06<00:00, 15.58it/s]\n",
      "\n",
      "Overall Score: 78.22%\n",
      "\n",
      "Properties:\n",
      "- Column Shapes: 95.42%\n",
      "- Column Pair Trends: 61.03%\n",
      "{'Loader[custom]_Synthesizer[custom]_Evaluator[demo]': {'columnwise':                       Property        Metric     Score\n",
      "age              Column Shapes  KSComplement  0.953697\n",
      "workclass        Column Shapes  TVComplement  0.993424\n",
      "fnlwgt           Column Shapes  KSComplement  0.961962\n",
      "education        Column Shapes  TVComplement  0.953049\n",
      "educational-num  Column Shapes  KSComplement  0.854475\n",
      "marital-status   Column Shapes  TVComplement  0.982433\n",
      "occupation       Column Shapes  TVComplement  0.981856\n",
      "relationship     Column Shapes  TVComplement  0.993252\n",
      "race             Column Shapes  TVComplement  0.999069\n",
      "gender           Column Shapes  TVComplement  0.997989\n",
      "capital-gain     Column Shapes  KSComplement  0.916899\n",
      "capital-loss     Column Shapes  KSComplement  0.953651\n",
      "hours-per-week   Column Shapes  KSComplement  0.789380\n",
      "native-country   Column Shapes  TVComplement  0.993816\n",
      "income           Column Shapes  TVComplement  0.987842,\n",
      "                                                        'global':            Score  Column Shapes  Column Pair Trends\n",
      "result  0.782221       0.954186            0.610256,\n",
      "                                                        'pairwise':                                             Property                 Metric  \\\n",
      "(age, workclass)                  Column Pair Trends  ContingencySimilarity   \n",
      "(age, fnlwgt)                     Column Pair Trends  CorrelationSimilarity   \n",
      "(age, education)                  Column Pair Trends  ContingencySimilarity   \n",
      "(age, educational-num)            Column Pair Trends  CorrelationSimilarity   \n",
      "(age, marital-status)             Column Pair Trends  ContingencySimilarity   \n",
      "...                                              ...                    ...   \n",
      "(capital-loss, native-country)    Column Pair Trends  ContingencySimilarity   \n",
      "(capital-loss, income)            Column Pair Trends  ContingencySimilarity   \n",
      "(hours-per-week, native-country)  Column Pair Trends  ContingencySimilarity   \n",
      "(hours-per-week, income)          Column Pair Trends  ContingencySimilarity   \n",
      "(native-country, income)          Column Pair Trends  ContingencySimilarity   \n",
      "\n",
      "                                     Score  Real Correlation  \\\n",
      "(age, workclass)                  0.853869               NaN   \n",
      "(age, fnlwgt)                     0.989805         -0.072849   \n",
      "(age, education)                  0.824405               NaN   \n",
      "(age, educational-num)            0.981785          0.026055   \n",
      "(age, marital-status)             0.746895               NaN   \n",
      "...                                    ...               ...   \n",
      "(capital-loss, native-country)    0.006347               NaN   \n",
      "(capital-loss, income)            0.006347               NaN   \n",
      "(hours-per-week, native-country)  0.655900               NaN   \n",
      "(hours-per-week, income)          0.639542               NaN   \n",
      "(native-country, income)          0.971149               NaN   \n",
      "\n",
      "                                  Synthetic Correlation Error  \n",
      "(age, workclass)                                    NaN  None  \n",
      "(age, fnlwgt)                                 -0.052460  None  \n",
      "(age, education)                                    NaN  None  \n",
      "(age, educational-num)                         0.062486  None  \n",
      "(age, marital-status)                               NaN  None  \n",
      "...                                                 ...   ...  \n",
      "(capital-loss, native-country)                      NaN  None  \n",
      "(capital-loss, income)                              NaN  None  \n",
      "(hours-per-week, native-country)                    NaN  None  \n",
      "(hours-per-week, income)                            NaN  None  \n",
      "(native-country, income)                            NaN  None  \n",
      "\n",
      "[105 rows x 6 columns]}}\n"
     ]
    }
   ],
   "source": [
    "config_file = 'UserStory_06-1.yaml'\n",
    "\n",
    "DevTest_UserStory(config_file = config_file)"
   ]
  },
  {
   "cell_type": "code",
   "execution_count": 9,
   "metadata": {},
   "outputs": [
    {
     "name": "stdout",
     "output_type": "stream",
     "text": [
      "YAML file UserStory_06-2.yaml is ...\n",
      "\n",
      "{'Evaluator': {'anony-singling': {'method': 'anonymeter-singlingout_univariate',\n",
      "                                  'n_attack': 2},\n",
      "               'demo': {'method': 'default'}},\n",
      " 'Splitter': {'custom': {'filepath': {...}, 'method': 'custom_data'}},\n",
      " 'Synthesizer': {'custom': {'filepath': 'syn.csv', 'method': 'custom_data'}}}\n",
      "\n",
      "\n",
      "Here's execution...\n",
      "\n"
     ]
    },
    {
     "ename": "ConfigError",
     "evalue": "",
     "output_type": "error",
     "traceback": [
      "\u001b[1;31m---------------------------------------------------------------------------\u001b[0m",
      "\u001b[1;31mConfigError\u001b[0m                               Traceback (most recent call last)",
      "Cell \u001b[1;32mIn[9], line 3\u001b[0m\n\u001b[0;32m      1\u001b[0m config_file \u001b[38;5;241m=\u001b[39m \u001b[38;5;124m'\u001b[39m\u001b[38;5;124mUserStory_06-2.yaml\u001b[39m\u001b[38;5;124m'\u001b[39m\n\u001b[1;32m----> 3\u001b[0m \u001b[43mDevTest_UserStory\u001b[49m\u001b[43m(\u001b[49m\u001b[43mconfig_file\u001b[49m\u001b[43m \u001b[49m\u001b[38;5;241;43m=\u001b[39;49m\u001b[43m \u001b[49m\u001b[43mconfig_file\u001b[49m\u001b[43m)\u001b[49m\n",
      "Cell \u001b[1;32mIn[1], line 30\u001b[0m, in \u001b[0;36mDevTest_UserStory\u001b[1;34m(config_file)\u001b[0m\n\u001b[0;32m     28\u001b[0m \u001b[38;5;28mprint\u001b[39m(\u001b[38;5;124mf\u001b[39m\u001b[38;5;124m\"\u001b[39m\u001b[38;5;124mHere\u001b[39m\u001b[38;5;124m'\u001b[39m\u001b[38;5;124ms execution...\u001b[39m\u001b[38;5;124m\"\u001b[39m)\n\u001b[0;32m     29\u001b[0m \u001b[38;5;28mprint\u001b[39m(\u001b[38;5;124mf\u001b[39m\u001b[38;5;124m\"\u001b[39m\u001b[38;5;124m\"\u001b[39m)\n\u001b[1;32m---> 30\u001b[0m exec \u001b[38;5;241m=\u001b[39m \u001b[43mExecutor\u001b[49m\u001b[43m(\u001b[49m\u001b[43mconfig\u001b[49m\u001b[38;5;241;43m=\u001b[39;49m\u001b[43mconfig_file\u001b[49m\u001b[43m)\u001b[49m\n\u001b[0;32m     31\u001b[0m exec\u001b[38;5;241m.\u001b[39mrun()\n\u001b[0;32m     32\u001b[0m pp\u001b[38;5;241m.\u001b[39mpprint(exec\u001b[38;5;241m.\u001b[39mget_result())\n",
      "File \u001b[1;32md:\\Dropbox\\89_other_application\\GitHub\\PETsARD\\PETsARD\\executor.py:21\u001b[0m, in \u001b[0;36mExecutor.__init__\u001b[1;34m(self, config)\u001b[0m\n\u001b[0;32m      9\u001b[0m \u001b[38;5;28;01mdef\u001b[39;00m \u001b[38;5;21m__init__\u001b[39m(\u001b[38;5;28mself\u001b[39m, config: \u001b[38;5;28mstr\u001b[39m):\n\u001b[0;32m     10\u001b[0m \u001b[38;5;250m    \u001b[39m\u001b[38;5;124;03m\"\"\"\u001b[39;00m\n\u001b[0;32m     11\u001b[0m \u001b[38;5;124;03m    Initialize the executor object.\u001b[39;00m\n\u001b[0;32m     12\u001b[0m \n\u001b[1;32m   (...)\u001b[0m\n\u001b[0;32m     19\u001b[0m \u001b[38;5;124;03m        result (dict): The result of the executor.\u001b[39;00m\n\u001b[0;32m     20\u001b[0m \u001b[38;5;124;03m    \"\"\"\u001b[39;00m\n\u001b[1;32m---> 21\u001b[0m     \u001b[38;5;28mself\u001b[39m\u001b[38;5;241m.\u001b[39mconfig \u001b[38;5;241m=\u001b[39m \u001b[43mConfig\u001b[49m\u001b[43m(\u001b[49m\u001b[43mfilename\u001b[49m\u001b[38;5;241;43m=\u001b[39;49m\u001b[43mconfig\u001b[49m\u001b[43m)\u001b[49m\n\u001b[0;32m     22\u001b[0m     \u001b[38;5;28mself\u001b[39m\u001b[38;5;241m.\u001b[39msequence \u001b[38;5;241m=\u001b[39m \u001b[38;5;28mself\u001b[39m\u001b[38;5;241m.\u001b[39mconfig\u001b[38;5;241m.\u001b[39msequence  \u001b[38;5;66;03m# sequence default in Config\u001b[39;00m\n\u001b[0;32m     23\u001b[0m     \u001b[38;5;28mself\u001b[39m\u001b[38;5;241m.\u001b[39mstatus \u001b[38;5;241m=\u001b[39m Status(config\u001b[38;5;241m=\u001b[39m\u001b[38;5;28mself\u001b[39m\u001b[38;5;241m.\u001b[39mconfig)\n",
      "File \u001b[1;32md:\\Dropbox\\89_other_application\\GitHub\\PETsARD\\PETsARD\\config.py:68\u001b[0m, in \u001b[0;36mConfig.__init__\u001b[1;34m(self, filename)\u001b[0m\n\u001b[0;32m     63\u001b[0m     \u001b[38;5;28;01mif\u001b[39;00m \u001b[38;5;124m'\u001b[39m\u001b[38;5;124mmethod\u001b[39m\u001b[38;5;124m'\u001b[39m \u001b[38;5;129;01mnot\u001b[39;00m \u001b[38;5;129;01min\u001b[39;00m \u001b[38;5;28mself\u001b[39m\u001b[38;5;241m.\u001b[39myaml[\u001b[38;5;124m'\u001b[39m\u001b[38;5;124mSplitter\u001b[39m\u001b[38;5;124m'\u001b[39m]:\n\u001b[0;32m     64\u001b[0m         \u001b[38;5;28mself\u001b[39m\u001b[38;5;241m.\u001b[39myaml[\u001b[38;5;124m'\u001b[39m\u001b[38;5;124mSplitter\u001b[39m\u001b[38;5;124m'\u001b[39m] \u001b[38;5;241m=\u001b[39m \u001b[38;5;28mself\u001b[39m\u001b[38;5;241m.\u001b[39m_splitter_handler(\n\u001b[0;32m     65\u001b[0m             deepcopy(\u001b[38;5;28mself\u001b[39m\u001b[38;5;241m.\u001b[39myaml[\u001b[38;5;124m'\u001b[39m\u001b[38;5;124mSplitter\u001b[39m\u001b[38;5;124m'\u001b[39m])\n\u001b[0;32m     66\u001b[0m         )\n\u001b[1;32m---> 68\u001b[0m \u001b[38;5;28mself\u001b[39m\u001b[38;5;241m.\u001b[39mconfig, \u001b[38;5;28mself\u001b[39m\u001b[38;5;241m.\u001b[39mmodule_flow, \u001b[38;5;28mself\u001b[39m\u001b[38;5;241m.\u001b[39mexpt_flow \u001b[38;5;241m=\u001b[39m \u001b[38;5;28;43mself\u001b[39;49m\u001b[38;5;241;43m.\u001b[39;49m\u001b[43m_set_flow\u001b[49m\u001b[43m(\u001b[49m\u001b[43m)\u001b[49m\n",
      "File \u001b[1;32md:\\Dropbox\\89_other_application\\GitHub\\PETsARD\\PETsARD\\config.py:104\u001b[0m, in \u001b[0;36mConfig._set_flow\u001b[1;34m(self)\u001b[0m\n\u001b[0;32m    101\u001b[0m             expt_flow\u001b[38;5;241m.\u001b[39mput(expt_name)\n\u001b[0;32m    102\u001b[0m             _set_flow_dfs(remaining_modules)\n\u001b[1;32m--> 104\u001b[0m \u001b[43m_set_flow_dfs\u001b[49m\u001b[43m(\u001b[49m\u001b[38;5;28;43mself\u001b[39;49m\u001b[38;5;241;43m.\u001b[39;49m\u001b[43msequence\u001b[49m\u001b[43m)\u001b[49m\n\u001b[0;32m    105\u001b[0m \u001b[38;5;28;01mreturn\u001b[39;00m flow, module_flow, expt_flow\n",
      "File \u001b[1;32md:\\Dropbox\\89_other_application\\GitHub\\PETsARD\\PETsARD\\config.py:99\u001b[0m, in \u001b[0;36mConfig._set_flow.<locals>._set_flow_dfs\u001b[1;34m(modules)\u001b[0m\n\u001b[0;32m     97\u001b[0m \u001b[38;5;28;01mif\u001b[39;00m module \u001b[38;5;129;01min\u001b[39;00m \u001b[38;5;28mself\u001b[39m\u001b[38;5;241m.\u001b[39myaml:\n\u001b[0;32m     98\u001b[0m     \u001b[38;5;28;01mfor\u001b[39;00m expt_name, expt_config \u001b[38;5;129;01min\u001b[39;00m \u001b[38;5;28mself\u001b[39m\u001b[38;5;241m.\u001b[39myaml[module]\u001b[38;5;241m.\u001b[39mitems():\n\u001b[1;32m---> 99\u001b[0m         flow\u001b[38;5;241m.\u001b[39mput(\u001b[38;5;28;43meval\u001b[39;49m\u001b[43m(\u001b[49m\u001b[38;5;124;43mf\u001b[39;49m\u001b[38;5;124;43m\"\u001b[39;49m\u001b[38;5;132;43;01m{\u001b[39;49;00m\u001b[43mmodule\u001b[49m\u001b[38;5;132;43;01m}\u001b[39;49;00m\u001b[38;5;124;43mOperator(expt_config)\u001b[39;49m\u001b[38;5;124;43m\"\u001b[39;49m\u001b[43m)\u001b[49m)\n\u001b[0;32m    100\u001b[0m         module_flow\u001b[38;5;241m.\u001b[39mput(module)\n\u001b[0;32m    101\u001b[0m         expt_flow\u001b[38;5;241m.\u001b[39mput(expt_name)\n",
      "File \u001b[1;32m<string>:1\u001b[0m\n",
      "File \u001b[1;32md:\\Dropbox\\89_other_application\\GitHub\\PETsARD\\PETsARD\\operator.py:127\u001b[0m, in \u001b[0;36mSplitterOperator.__init__\u001b[1;34m(self, config)\u001b[0m\n\u001b[0;32m    118\u001b[0m \u001b[38;5;250m\u001b[39m\u001b[38;5;124;03m\"\"\"\u001b[39;00m\n\u001b[0;32m    119\u001b[0m \u001b[38;5;124;03mArgs:\u001b[39;00m\n\u001b[0;32m    120\u001b[0m \u001b[38;5;124;03m    config (dict): Configuration parameters for the Splitter.\u001b[39;00m\n\u001b[1;32m   (...)\u001b[0m\n\u001b[0;32m    124\u001b[0m \u001b[38;5;124;03m        An instance of the Splitter class initialized with the provided configuration.\u001b[39;00m\n\u001b[0;32m    125\u001b[0m \u001b[38;5;124;03m\"\"\"\u001b[39;00m\n\u001b[0;32m    126\u001b[0m \u001b[38;5;28msuper\u001b[39m()\u001b[38;5;241m.\u001b[39m\u001b[38;5;21m__init__\u001b[39m(config)\n\u001b[1;32m--> 127\u001b[0m \u001b[38;5;28mself\u001b[39m\u001b[38;5;241m.\u001b[39msplitter \u001b[38;5;241m=\u001b[39m Splitter(\u001b[38;5;241m*\u001b[39m\u001b[38;5;241m*\u001b[39mconfig)\n",
      "File \u001b[1;32md:\\Dropbox\\89_other_application\\GitHub\\PETsARD\\PETsARD\\loader\\splitter.py:56\u001b[0m, in \u001b[0;36mSplitter.__init__\u001b[1;34m(self, method, num_samples, train_split_ratio, random_state, **kwargs)\u001b[0m\n\u001b[0;32m     54\u001b[0m filepath \u001b[38;5;241m=\u001b[39m kwargs\u001b[38;5;241m.\u001b[39mget(\u001b[38;5;124m'\u001b[39m\u001b[38;5;124mfilepath\u001b[39m\u001b[38;5;124m'\u001b[39m, \u001b[38;5;28;01mNone\u001b[39;00m)\n\u001b[0;32m     55\u001b[0m \u001b[38;5;28;01mif\u001b[39;00m filepath \u001b[38;5;129;01mis\u001b[39;00m \u001b[38;5;28;01mNone\u001b[39;00m \u001b[38;5;129;01mor\u001b[39;00m \u001b[38;5;28misinstance\u001b[39m(filepath, \u001b[38;5;28mdict\u001b[39m):\n\u001b[1;32m---> 56\u001b[0m     \u001b[38;5;28;01mraise\u001b[39;00m ConfigError\n\u001b[0;32m     57\u001b[0m \u001b[38;5;28;01mif\u001b[39;00m \u001b[38;5;124m'\u001b[39m\u001b[38;5;124mori\u001b[39m\u001b[38;5;124m'\u001b[39m \u001b[38;5;129;01mnot\u001b[39;00m \u001b[38;5;129;01min\u001b[39;00m filepath \u001b[38;5;129;01mor\u001b[39;00m \u001b[38;5;124m'\u001b[39m\u001b[38;5;124mcontrol\u001b[39m\u001b[38;5;124m'\u001b[39m \u001b[38;5;129;01mnot\u001b[39;00m \u001b[38;5;129;01min\u001b[39;00m filepath:\n\u001b[0;32m     58\u001b[0m     \u001b[38;5;28;01mraise\u001b[39;00m ConfigError\n",
      "\u001b[1;31mConfigError\u001b[0m: "
     ]
    }
   ],
   "source": [
    "config_file = 'UserStory_06-2.yaml'\n",
    "\n",
    "DevTest_UserStory(config_file = config_file)"
   ]
  },
  {
   "cell_type": "markdown",
   "metadata": {},
   "source": [
    "## User Story 7: Given data customized evaluating\n",
    "\n",
    "> Following User Story 6, if specific types of metrics are set or a customized evaluation script is provided, the module will create a customized evaluation report.\n",
    ">\n",
    "> 根據用戶故事 6，如果指定特定的指標、或是提供用戶自定義的評估腳本，模組會產生客製化的評估報告。"
   ]
  },
  {
   "cell_type": "code",
   "execution_count": null,
   "metadata": {},
   "outputs": [],
   "source": [
    "config_file = 'UserStory_07.yaml'\n",
    "\n",
    "DevTest_UserStory(config_file = config_file)"
   ]
  },
  {
   "cell_type": "markdown",
   "metadata": {},
   "source": [
    "# Type 3: Evaluating algorithm\n",
    "\n",
    "> Type 3: Evaluate a data generation algorithm (incl. data processing)\n",
    ">\n",
    "> 類型三：評估資料生成演算法（與資料處理流程）"
   ]
  },
  {
   "cell_type": "markdown",
   "metadata": {},
   "source": [
    "## User Story 8: Synthesizing on default data\n",
    "\n",
    "> With a specified data generation algorithm, a default benchmark dataset collection will serve as inputs, and the pipeline will generate the corresponding privacy enhanced datasets as output, using the selected algorithm.\n",
    ">\n",
    "> 指定資料生成演算法後，預設的經典資料集會用作輸入，並且該流程將使用該演算法輸出對應的隱私強化資料集。"
   ]
  },
  {
   "cell_type": "code",
   "execution_count": null,
   "metadata": {},
   "outputs": [
    {
     "name": "stdout",
     "output_type": "stream",
     "text": [
      "YAML file UserStory_8.yaml is ...\n",
      "\n",
      "{'Loader': {'demo': {'method': 'default'}},\n",
      " 'Postprocessor': {'demo': {'method': 'default'}},\n",
      " 'Preprocessor': {'demo': {'method': 'default'}},\n",
      " 'Reporter': {'save_data': {'method': 'save_data',\n",
      "                            'output': 'UserStory_8',\n",
      "                            'source': 'Postprocessor'}},\n",
      " 'Synthesizer': {'sdv-gaussian': {'method': 'sdv-single_table-gaussiancopula'}}}\n",
      "\n",
      "\n",
      "Here's execution...\n",
      "\n",
      "Now is Loader with demo...\n",
      "Loader - Benchmarker: file benchmark\\adult.csv already exist and match SHA-256.\n",
      "                      PETsARD will ignore download and use local data directly.\n",
      "Now is Preprocessor with demo...\n",
      "Now is Synthesizer with sdv-gaussian...\n",
      "Synthesizer (SDV - SingleTable): Metafile loading time: 0.0396 sec.\n",
      "Synthesizer (SDV - SingleTable): Fitting GaussianCopula.\n",
      "Synthesizer (SDV - SingleTable): Fitting  GaussianCopula spent 10.9613 sec.\n",
      "Synthesizer (SDV - SingleTable): Sampling GaussianCopula # 28558 rows (same as raw) in 1.9267 sec.\n",
      "Now is Postprocessor with demo...\n",
      "Now is Reporter with save_data...\n",
      "Now is UserStory_8_Loader[demo]_Preprocessor[demo]_Synthesizer[sdv-gaussian]_Postprocessor[demo] save to csv...\n",
      "{'Loader[demo]_Preprocessor[demo]_Synthesizer[sdv-gaussian]_Postprocessor[demo]_Reporter[save_data]': None}\n"
     ]
    }
   ],
   "source": [
    "config_file = 'UserStory_08.yaml'\n",
    "\n",
    "DevTest_UserStory(config_file = config_file)"
   ]
  },
  {
   "cell_type": "markdown",
   "metadata": {},
   "source": [
    "## User Story 9: Synthesizing on multiple data\n",
    "\n",
    ">Following User Story 8, the user can specify a list of datasets instead.\n",
    ">\n",
    "> 根據用戶故事 8，使用者可以改為指定一個資料集列表。\n"
   ]
  },
  {
   "cell_type": "code",
   "execution_count": 10,
   "metadata": {},
   "outputs": [
    {
     "name": "stdout",
     "output_type": "stream",
     "text": [
      "YAML file UserStory_09.yaml is ...\n",
      "\n",
      "{'Loader': {'adult_local': {'filepath': 'benchmark://adult',\n",
      "                            'na_values': {...}},\n",
      "            'demo': {'method': 'default'}},\n",
      " 'Postprocessor': {'demo': {'method': 'default'}},\n",
      " 'Preprocessor': {'demo': {'method': 'default'}},\n",
      " 'Reporter': {'save_data': {'method': 'save_data',\n",
      "                            'output': 'UserStory_09',\n",
      "                            'source': 'Postprocessor'}},\n",
      " 'Synthesizer': {'sdv-gaussian': {'method': 'sdv-single_table-gaussiancopula'}}}\n",
      "\n",
      "\n",
      "Here's execution...\n",
      "\n",
      "Now is Loader with demo...\n",
      "Loader - Benchmarker: file benchmark\\adult.csv already exist and match SHA-256.\n",
      "                      PETsARD will ignore download and use local data directly.\n",
      "Now is Preprocessor with demo...\n",
      "Now is Synthesizer with sdv-gaussian...\n",
      "Synthesizer (SDV - SingleTable): Metafile loading time: 0.0613 sec.\n",
      "Synthesizer (SDV - SingleTable): Fitting GaussianCopula.\n",
      "Synthesizer (SDV - SingleTable): Fitting  GaussianCopula spent 12.0238 sec.\n",
      "Synthesizer (SDV - SingleTable): Sampling GaussianCopula # 28558 rows (same as raw) in 2.0565 sec.\n",
      "Now is Postprocessor with demo...\n",
      "Now is Reporter with save_data...\n",
      "Now is UserStory_09_Loader[demo]_Preprocessor[demo]_Synthesizer[sdv-gaussian]_Postprocessor[demo] save to csv...\n",
      "Now is Loader with adult_local...\n",
      "Loader - Benchmarker: file benchmark\\adult.csv already exist and match SHA-256.\n",
      "                      PETsARD will ignore download and use local data directly.\n",
      "Now is Preprocessor with demo...\n",
      "Now is Synthesizer with sdv-gaussian...\n",
      "Synthesizer (SDV - SingleTable): Metafile loading time: 0.0399 sec.\n",
      "Synthesizer (SDV - SingleTable): Fitting GaussianCopula.\n",
      "Synthesizer (SDV - SingleTable): Fitting  GaussianCopula spent 8.8757 sec.\n",
      "Synthesizer (SDV - SingleTable): Sampling GaussianCopula # 26933 rows (same as raw) in 2.1219 sec.\n",
      "Now is Postprocessor with demo...\n",
      "Now is Reporter with save_data...\n",
      "Now is UserStory_09_Loader[adult_local]_Preprocessor[demo]_Synthesizer[sdv-gaussian]_Postprocessor[demo] save to csv...\n",
      "{'Loader[adult_local]_Preprocessor[demo]_Synthesizer[sdv-gaussian]_Postprocessor[demo]_Reporter[save_data]': None,\n",
      " 'Loader[demo]_Preprocessor[demo]_Synthesizer[sdv-gaussian]_Postprocessor[demo]_Reporter[save_data]': None}\n"
     ]
    }
   ],
   "source": [
    "config_file = 'UserStory_09.yaml'\n",
    "\n",
    "DevTest_UserStory(config_file = config_file)"
   ]
  },
  {
   "cell_type": "markdown",
   "metadata": {},
   "source": [
    "## User Story 10: Synthesizing and Evaluating on default data\n",
    "\n",
    "> Following User Story 8, if users enable the evaluation step,  the evaluation module will create a report covering default privacy risk and utility metrics for all datasets.\n",
    ">\n",
    "> 根據用戶故事 8，如果使用者啟用評估步驟，評估模組將會產生一份涵蓋所有資料集的隱私風險與效用指標報告。"
   ]
  },
  {
   "cell_type": "code",
   "execution_count": 11,
   "metadata": {},
   "outputs": [
    {
     "name": "stdout",
     "output_type": "stream",
     "text": [
      "YAML file UserStory_10.yaml is ...\n",
      "\n",
      "{'Loader': {'demo': {'method': 'default'}},\n",
      " 'Postprocessor': {'demo': {'method': 'default'}},\n",
      " 'Preprocessor': {'demo': {'method': 'default'}},\n",
      " 'Reporter': {'save_data': {'method': 'save_data',\n",
      "                            'output': 'UserStory_10',\n",
      "                            'source': 'Postprocessor'}},\n",
      " 'Synthesizer': {'sdv-gaussian': {'method': 'sdv-single_table-gaussiancopula'}}}\n",
      "\n",
      "\n",
      "Here's execution...\n",
      "\n",
      "Now is Loader with demo...\n",
      "Loader - Benchmarker: file benchmark\\adult.csv already exist and match SHA-256.\n",
      "                      PETsARD will ignore download and use local data directly.\n",
      "Now is Preprocessor with demo...\n",
      "Now is Synthesizer with sdv-gaussian...\n",
      "Synthesizer (SDV - SingleTable): Metafile loading time: 0.0464 sec.\n",
      "Synthesizer (SDV - SingleTable): Fitting GaussianCopula.\n",
      "Synthesizer (SDV - SingleTable): Fitting  GaussianCopula spent 10.9673 sec.\n",
      "Synthesizer (SDV - SingleTable): Sampling GaussianCopula # 28558 rows (same as raw) in 2.097 sec.\n",
      "Now is Postprocessor with demo...\n",
      "Now is Reporter with save_data...\n",
      "Now is UserStory_10_Loader[demo]_Preprocessor[demo]_Synthesizer[sdv-gaussian]_Postprocessor[demo] save to csv...\n",
      "{'Loader[demo]_Preprocessor[demo]_Synthesizer[sdv-gaussian]_Postprocessor[demo]_Reporter[save_data]': None}\n"
     ]
    }
   ],
   "source": [
    "config_file = 'UserStory_10.yaml'\n",
    "\n",
    "DevTest_UserStory(config_file = config_file)"
   ]
  }
 ],
 "metadata": {
  "kernelspec": {
   "display_name": ".venv",
   "language": "python",
   "name": "python3"
  },
  "language_info": {
   "codemirror_mode": {
    "name": "ipython",
    "version": 3
   },
   "file_extension": ".py",
   "mimetype": "text/x-python",
   "name": "python",
   "nbconvert_exporter": "python",
   "pygments_lexer": "ipython3",
   "version": "3.10.11"
  }
 },
 "nbformat": 4,
 "nbformat_minor": 2
}
