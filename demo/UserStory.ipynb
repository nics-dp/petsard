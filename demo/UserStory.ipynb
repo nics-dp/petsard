{
 "cells": [
  {
   "cell_type": "markdown",
   "metadata": {},
   "source": [
    "# User Story\n",
    "\n",
    "This demo is checklist for \"User Stories\" of PETsARD Spec. Also it can help users to set their own config file. Enjoy : )\n",
    "\n",
    "本示例為【資料生成演算法分析與評估系統 Spec】當中【用戶故事 User Stories】的檢查清單。它還可以幫助用戶設置自己的配置文件。祝您使用愉快 : )"
   ]
  },
  {
   "cell_type": "markdown",
   "metadata": {},
   "source": [
    "## Stocktaking\n",
    "\n",
    "Type 1: Generation\n",
    "\n",
    "1. User Story 1: Describing - **Incompleted**\n",
    "   - 缺 DescriberOperator\n",
    "   - 缺 Reporter, ReporterOperator, 與 method = 'save'\n",
    "\n",
    "2. User Story 2: Synthesizing - **Incompleted**\n",
    "   - 缺 Reporter, ReporterOperator, 與 method = 'save'\n",
    "\n",
    "3. User Story 3: Default Synthesizing - **Incompleted**\n",
    "   - 缺 Reporter, ReporterOperator, 與 method = 'save'\n",
    "\n",
    "4. User Story 4: Evaluating - **Incompleted**\n",
    "   - 缺 Evaluator method = 'default'\n",
    "   - 缺 Reporter, ReporterOperator, 與 method = 'save'\n",
    "\n",
    "5. User Story 5: Customized Evaluating - **Incompleted**\n",
    "   - 缺 Evaluator method = 'custom_method'\n",
    "   - 缺 Reporter, ReporterOperator, 與 method = 'save'\n",
    "\n",
    "Type 2: Evaluating data\n",
    "\n",
    "6. User Story 6: Given data evaluating - **Incompleted**\n",
    "   - 缺 Splitter method = 'custom_data'\n",
    "\n",
    "7. User Story 7: Given data customized evaluating - **Incompleted**\n",
    "   - 缺 Splitter method = 'custom_data'\n",
    "\n",
    "Type 3: Evaluating algorithm\n",
    "\n",
    "8. User Story 8: Synthesizing on default data - **Incompleted**\n",
    "\n",
    "\n"
   ]
  },
  {
   "cell_type": "markdown",
   "metadata": {},
   "source": [
    "## Environment"
   ]
  },
  {
   "cell_type": "code",
   "execution_count": 1,
   "metadata": {},
   "outputs": [
    {
     "name": "stdout",
     "output_type": "stream",
     "text": [
      "d:\\Dropbox\\89_other_application\\GitHub\\PETsARD\n"
     ]
    }
   ],
   "source": [
    "import os\n",
    "import sys\n",
    "\n",
    "path_petsard = os.path.dirname(os.getcwd())\n",
    "print(path_petsard)\n",
    "sys.path.append(path_petsard)\n",
    "\n",
    "\n",
    "###### ###### ###### ###### ###### ######\n",
    "\n",
    "import pprint\n",
    "from typing import List\n",
    "\n",
    "import yaml\n",
    "\n",
    "from PETsARD import Executor\n",
    "\n",
    "\n",
    "def DevTest_UserStory(config_file: str):\n",
    "    print(f\"YAML file {config_file} is ...\")\n",
    "    print(f\"\")\n",
    "    pp = pprint.PrettyPrinter(depth=3)\n",
    "    with open(config_file, 'r') as yaml_file:\n",
    "        yaml_raw: dict = yaml.safe_load(yaml_file)\n",
    "    pp.pprint(yaml_raw)\n",
    "\n",
    "    print(f\"\")\n",
    "    print(f\"\")\n",
    "    print(f\"Here's execution...\")\n",
    "    print(f\"\")\n",
    "    exec = Executor(config=config_file)\n",
    "    exec.run()\n",
    "    pp.pprint(exec.get_result())"
   ]
  },
  {
   "cell_type": "markdown",
   "metadata": {},
   "source": [
    "# Type 1: Generation\n",
    "\n",
    "> Type 1: Generate a privacy enhanced dataset along with reports\n",
    ">\n",
    "> 類型一：生成一個隱私強化資料集、與提供相關報告"
   ]
  },
  {
   "cell_type": "markdown",
   "metadata": {},
   "source": [
    "## User Story 1: Describing\n",
    "\n",
    "> Given a dataset as an input, the pipeline can go through the \"describe\" module to get a summary of the dataset. \n",
    ">\n",
    "> 給定一個資料集做輸入，該流程可以藉由調用 \"describe\" 模組而得到該資料集的摘要"
   ]
  },
  {
   "cell_type": "code",
   "execution_count": 2,
   "metadata": {},
   "outputs": [
    {
     "name": "stdout",
     "output_type": "stream",
     "text": [
      "YAML file UserStory_1.yaml is ...\n",
      "\n",
      "{'Loader': {'adult': {'filepath': 'benchmark://adult', 'na_values': {...}}}}\n",
      "\n",
      "\n",
      "Here's execution...\n",
      "\n",
      "Now is Loader with adult...\n",
      "Loader - Benchmarker: file benchmark\\adult.csv already exist and match SHA-256.\n",
      "                      PETsARD will ignore download and use local data directly.\n",
      "{'None[adult]':        age     workclass  fnlwgt     education  educational-num  \\\n",
      "0       25       Private  226802          11th                7   \n",
      "1       38       Private   89814       HS-grad                9   \n",
      "2       28     Local-gov  336951    Assoc-acdm               12   \n",
      "3       44       Private  160323  Some-college               10   \n",
      "4       18           NaN  103497  Some-college               10   \n",
      "...    ...           ...     ...           ...              ...   \n",
      "48837   27       Private  257302    Assoc-acdm               12   \n",
      "48838   40       Private  154374       HS-grad                9   \n",
      "48839   58       Private  151910       HS-grad                9   \n",
      "48840   22       Private  201490       HS-grad                9   \n",
      "48841   52  Self-emp-inc  287927       HS-grad                9   \n",
      "\n",
      "           marital-status         occupation relationship   race  gender  \\\n",
      "0           Never-married  Machine-op-inspct    Own-child  Black    Male   \n",
      "1      Married-civ-spouse    Farming-fishing      Husband  White    Male   \n",
      "2      Married-civ-spouse    Protective-serv      Husband  White    Male   \n",
      "3      Married-civ-spouse  Machine-op-inspct      Husband  Black    Male   \n",
      "4           Never-married                NaN    Own-child  White  Female   \n",
      "...                   ...                ...          ...    ...     ...   \n",
      "48837  Married-civ-spouse       Tech-support         Wife  White  Female   \n",
      "48838  Married-civ-spouse  Machine-op-inspct      Husband  White    Male   \n",
      "48839             Widowed       Adm-clerical    Unmarried  White  Female   \n",
      "48840       Never-married       Adm-clerical    Own-child  White    Male   \n",
      "48841  Married-civ-spouse    Exec-managerial         Wife  White  Female   \n",
      "\n",
      "       capital-gain  capital-loss  hours-per-week native-country income  \n",
      "0                 0             0              40  United-States  <=50K  \n",
      "1                 0             0              50  United-States  <=50K  \n",
      "2                 0             0              40  United-States   >50K  \n",
      "3              7688             0              40  United-States   >50K  \n",
      "4                 0             0              30  United-States  <=50K  \n",
      "...             ...           ...             ...            ...    ...  \n",
      "48837             0             0              38  United-States  <=50K  \n",
      "48838             0             0              40  United-States   >50K  \n",
      "48839             0             0              40  United-States  <=50K  \n",
      "48840             0             0              20  United-States  <=50K  \n",
      "48841         15024             0              40  United-States   >50K  \n",
      "\n",
      "[48842 rows x 15 columns]}\n"
     ]
    }
   ],
   "source": [
    "config_file = 'UserStory_1.yaml'\n",
    "\n",
    "DevTest_UserStory(config_file = config_file)"
   ]
  },
  {
   "cell_type": "markdown",
   "metadata": {},
   "source": [
    "## User Story 2: Synthesizing\n",
    "\n",
    "> Given an original dataset, specified privacy enhancing data generation algorithms and parameters, the pipeline will generate a privacy enhanced dataset.\n",
    ">\n",
    "> 給定一個原始資料集，並指定隱私強化技術生成演算法與參數，該流程會依此產生隱私強化資料集。"
   ]
  },
  {
   "cell_type": "code",
   "execution_count": 2,
   "metadata": {},
   "outputs": [
    {
     "name": "stdout",
     "output_type": "stream",
     "text": [
      "YAML file UserStory_2.yaml is ...\n",
      "\n",
      "{'Loader': {'adult': {'filepath': 'benchmark://adult', 'na_values': {...}}},\n",
      " 'Postprocessor': {'demo': {'method': 'default'}},\n",
      " 'Preprocessor': {'demo': {'method': 'default'}},\n",
      " 'Reporter': {'save_data': {'method': 'save_data',\n",
      "                            'output': 'UserStory_2',\n",
      "                            'source': 'Postprocessor'}},\n",
      " 'Synthesizer': {'sdv-gaussian': {'method': 'sdv-single_table-gaussiancopula'}}}\n",
      "\n",
      "\n",
      "Here's execution...\n",
      "\n",
      "Now is Loader with adult...\n",
      "Loader - Benchmarker: file benchmark\\adult.csv already exist and match SHA-256.\n",
      "                      PETsARD will ignore download and use local data directly.\n",
      "Now is Preprocessor with demo...\n",
      "Now is Synthesizer with sdv-gaussian...\n",
      "Synthesizer (SDV - SingleTable): Metafile loading time: 0.0313 sec.\n",
      "Synthesizer (SDV - SingleTable): Fitting GaussianCopula.\n",
      "Synthesizer (SDV - SingleTable): Fitting  GaussianCopula spent 9.9199 sec.\n",
      "Synthesizer (SDV - SingleTable): Sampling GaussianCopula # 26933 rows (same as raw) in 2.1823 sec.\n",
      "Now is Postprocessor with demo...\n",
      "Now is Reporter with save_data...\n",
      "Now is UserStory_2_Loader[adult]_Preprocessor[demo]_Synthesizer[sdv-gaussian]_Postprocessor[demo] save to csv...\n",
      "{'Loader[adult]_Preprocessor[demo]_Synthesizer[sdv-gaussian]_Postprocessor[demo]_Reporter[save_data]': None}\n"
     ]
    }
   ],
   "source": [
    "config_file = 'UserStory_2.yaml'\n",
    "\n",
    "DevTest_UserStory(config_file = config_file)"
   ]
  },
  {
   "cell_type": "markdown",
   "metadata": {},
   "source": [
    "## User Story 3: Default Synthesizing\n",
    "\n",
    "> Given an original dataset without specified algorithm, the pipeline will generate a list of privacy enhanced datasets using the default algorithms.\n",
    ">\n",
    "> 給定一個原始資料集、但未指定演算法，該流程會利用預設的演算法生成一組隱私強化資料集。"
   ]
  },
  {
   "cell_type": "code",
   "execution_count": 3,
   "metadata": {},
   "outputs": [
    {
     "name": "stdout",
     "output_type": "stream",
     "text": [
      "YAML file UserStory_3.yaml is ...\n",
      "\n",
      "{'Loader': {'adult': {'filepath': 'benchmark://adult', 'na_values': {...}}},\n",
      " 'Postprocessor': {'demo': {'method': 'default'}},\n",
      " 'Preprocessor': {'demo': {'method': 'default'}},\n",
      " 'Reporter': {'save_data': {'method': 'save_data',\n",
      "                            'output': 'UserStory_3',\n",
      "                            'source': 'Postprocessor'}},\n",
      " 'Synthesizer': {'demo': {'method': 'default'}}}\n",
      "\n",
      "\n",
      "Here's execution...\n",
      "\n",
      "Now is Loader with adult...\n",
      "Loader - Benchmarker: file benchmark\\adult.csv already exist and match SHA-256.\n",
      "                      PETsARD will ignore download and use local data directly.\n",
      "Now is Preprocessor with demo...\n",
      "Now is Synthesizer with demo...\n",
      "Synthesizer (SDV - SingleTable): Metafile loading time: 0.0312 sec.\n",
      "Synthesizer (SDV - SingleTable): Fitting GaussianCopula.\n",
      "Synthesizer (SDV - SingleTable): Fitting  GaussianCopula spent 10.1578 sec.\n",
      "Synthesizer (SDV - SingleTable): Sampling GaussianCopula # 26933 rows (same as raw) in 2.0282 sec.\n",
      "Now is Postprocessor with demo...\n",
      "Now is Reporter with save_data...\n",
      "Now is UserStory_3_Loader[adult]_Preprocessor[demo]_Synthesizer[demo]_Postprocessor[demo] save to csv...\n",
      "{'Loader[adult]_Preprocessor[demo]_Synthesizer[demo]_Postprocessor[demo]_Reporter[save_data]': None}\n"
     ]
    }
   ],
   "source": [
    "config_file = 'UserStory_3.yaml'\n",
    "\n",
    "DevTest_UserStory(config_file = config_file)"
   ]
  },
  {
   "cell_type": "markdown",
   "metadata": {},
   "source": [
    "## User Story 4: Evaluating\n",
    "\n",
    "> Following User Story 2 and 3, if users enable the \"evaluate\" step ,  the evaluation module will create a report covering default privacy risk and utility metrics.\n",
    ">\n",
    "> 根據用戶故事 2 跟 3，如果使用者啟用了 \"evaluate\"  步驟，評估模組會產生涵蓋預設的隱私風險與效用指標的報告。"
   ]
  },
  {
   "cell_type": "code",
   "execution_count": 3,
   "metadata": {},
   "outputs": [
    {
     "name": "stdout",
     "output_type": "stream",
     "text": [
      "{'Evaluator': {'demo': {'method': 'default'}},\n",
      " 'Loader': {'adult': {'filepath': 'benchmark://adult', 'na_values': {...}}},\n",
      " 'Postprocessor': {'demo': {'method': 'default'}},\n",
      " 'Preprocessor': {'demo': {'method': 'default'}},\n",
      " 'Synthesizer': {'demo': {'method': 'default'}}}\n",
      "Now is Loader with adult...\n",
      "Loader - Benchmarker: file benchmark\\adult.csv already exist and match SHA-256.\n",
      "                      PETsARD will ignore download and use local data directly.\n",
      "Now is Preprocessor with demo...\n",
      "Now is Synthesizer with demo...\n",
      "Synthesizer (SDV - SingleTable): Metafile loading time: 0.0236 sec.\n",
      "Synthesizer (SDV - SingleTable): Fitting GaussianCopula.\n",
      "Synthesizer (SDV - SingleTable): Fitting  GaussianCopula spent 8.9238 sec.\n",
      "Synthesizer (SDV - SingleTable): Sampling GaussianCopula # 26933 rows (same as raw) in 1.8667 sec.\n",
      "Now is Postprocessor with demo...\n",
      "Now is Evaluator with demo...\n",
      "Generating report ...\n",
      "(1/2) Evaluating Column Shapes: : 100%|██████████| 15/15 [00:00<00:00, 50.02it/s]\n",
      "(2/2) Evaluating Column Pair Trends: : 100%|██████████| 105/105 [00:05<00:00, 20.13it/s]\n",
      "\n",
      "Overall Score: 77.87%\n",
      "\n",
      "Properties:\n",
      "- Column Shapes: 94.15%\n",
      "- Column Pair Trends: 61.6%\n",
      "{'Loader[adult]_Preprocessor[demo]_Synthesizer[demo]_Postprocessor[demo]_Evaluator[demo]': {'columnwise':                       Property        Metric     Score\n",
      "age              Column Shapes  KSComplement  0.939083\n",
      "workclass        Column Shapes  TVComplement  0.991417\n",
      "fnlwgt           Column Shapes  KSComplement  0.951108\n",
      "education        Column Shapes  TVComplement  0.953495\n",
      "educational-num  Column Shapes  KSComplement  0.785363\n",
      "marital-status   Column Shapes  TVComplement  0.987953\n",
      "occupation       Column Shapes  TVComplement  0.982416\n",
      "relationship     Column Shapes  TVComplement  0.993557\n",
      "race             Column Shapes  TVComplement  0.998311\n",
      "gender           Column Shapes  TVComplement  0.996964\n",
      "capital-gain     Column Shapes  KSComplement  0.917387\n",
      "capital-loss     Column Shapes  KSComplement  0.953278\n",
      "hours-per-week   Column Shapes  KSComplement  0.687860\n",
      "native-country   Column Shapes  TVComplement  0.996155\n",
      "income           Column Shapes  TVComplement  0.987429,\n",
      "                                                                                            'global':            Score  Column Shapes  Column Pair Trends\n",
      "result  0.778736       0.941452            0.616021,\n",
      "                                                                                            'pairwise':                                             Property                 Metric  \\\n",
      "(age, workclass)                  Column Pair Trends  ContingencySimilarity   \n",
      "(age, fnlwgt)                     Column Pair Trends  CorrelationSimilarity   \n",
      "(age, education)                  Column Pair Trends  ContingencySimilarity   \n",
      "(age, educational-num)            Column Pair Trends  CorrelationSimilarity   \n",
      "(age, marital-status)             Column Pair Trends  ContingencySimilarity   \n",
      "...                                              ...                    ...   \n",
      "(capital-loss, native-country)    Column Pair Trends  ContingencySimilarity   \n",
      "(capital-loss, income)            Column Pair Trends  ContingencySimilarity   \n",
      "(hours-per-week, native-country)  Column Pair Trends  ContingencySimilarity   \n",
      "(hours-per-week, income)          Column Pair Trends  ContingencySimilarity   \n",
      "(native-country, income)          Column Pair Trends  ContingencySimilarity   \n",
      "\n",
      "                                     Score  Real Correlation  \\\n",
      "(age, workclass)                  0.859876               NaN   \n",
      "(age, fnlwgt)                     0.987815         -0.076628   \n",
      "(age, education)                  0.828661               NaN   \n",
      "(age, educational-num)            0.978236          0.030940   \n",
      "(age, marital-status)             0.749169               NaN   \n",
      "...                                    ...               ...   \n",
      "(capital-loss, native-country)    0.006265               NaN   \n",
      "(capital-loss, income)            0.006286               NaN   \n",
      "(hours-per-week, native-country)  0.644063               NaN   \n",
      "(hours-per-week, income)          0.627615               NaN   \n",
      "(native-country, income)          0.972906               NaN   \n",
      "\n",
      "                                  Synthetic Correlation Error  \n",
      "(age, workclass)                                    NaN  None  \n",
      "(age, fnlwgt)                                 -0.052258  None  \n",
      "(age, education)                                    NaN  None  \n",
      "(age, educational-num)                         0.074469  None  \n",
      "(age, marital-status)                               NaN  None  \n",
      "...                                                 ...   ...  \n",
      "(capital-loss, native-country)                      NaN  None  \n",
      "(capital-loss, income)                              NaN  None  \n",
      "(hours-per-week, native-country)                    NaN  None  \n",
      "(hours-per-week, income)                            NaN  None  \n",
      "(native-country, income)                            NaN  None  \n",
      "\n",
      "[105 rows x 6 columns]}}\n"
     ]
    }
   ],
   "source": [
    "config_file = 'UserStory_4.yaml'\n",
    "\n",
    "DevTest_UserStory(config_file = config_file)"
   ]
  },
  {
   "cell_type": "markdown",
   "metadata": {},
   "source": [
    "## User Story 5: Customized Evaluating\n",
    "\n",
    "> Following User Story 4, if specific types of metrics are set or a customized evaluation script is provided, the module will create a customized evaluation report.\n",
    "> \n",
    "> 根據用戶故事 4，如果指定特定的指標、或是提供用戶自定義的評估腳本，模組會產生客製化的評估報告。"
   ]
  },
  {
   "cell_type": "code",
   "execution_count": 3,
   "metadata": {},
   "outputs": [
    {
     "name": "stdout",
     "output_type": "stream",
     "text": [
      "{'Evaluator': {'custom': {'custom_method': {...}, 'method': 'custom_method'}},\n",
      " 'Loader': {'adult': {'filepath': 'benchmark://adult', 'na_values': {...}}},\n",
      " 'Postprocessor': {'demo': {'method': 'default'}},\n",
      " 'Preprocessor': {'demo': {'method': 'default'}},\n",
      " 'Synthesizer': {'demo': {'method': 'default'}}}\n",
      "Now is Loader with adult...\n",
      "Loader - Benchmarker: file benchmark\\adult.csv already exist and match SHA-256.\n",
      "                      PETsARD will ignore download and use local data directly.\n",
      "Now is Preprocessor with demo...\n",
      "Now is Synthesizer with demo...\n",
      "Synthesizer (SDV - SingleTable): Metafile loading time: 0.0849 sec.\n",
      "Synthesizer (SDV - SingleTable): Fitting GaussianCopula.\n",
      "Synthesizer (SDV - SingleTable): Fitting  GaussianCopula spent 9.438 sec.\n",
      "Synthesizer (SDV - SingleTable): Sampling GaussianCopula # 26933 rows (same as raw) in 1.91 sec.\n",
      "Now is Postprocessor with demo...\n",
      "Now is Evaluator with custom...\n",
      "{'Loader[adult]_Preprocessor[demo]_Synthesizer[demo]_Postprocessor[demo]_Evaluator[custom]': {'columnwise':                  score\n",
      "age                100\n",
      "workclass          100\n",
      "fnlwgt             100\n",
      "education          100\n",
      "educational-num    100\n",
      "marital-status     100\n",
      "occupation         100\n",
      "relationship       100\n",
      "race               100\n",
      "gender             100\n",
      "capital-gain       100\n",
      "capital-loss       100\n",
      "hours-per-week     100\n",
      "native-country     100\n",
      "income             100,\n",
      "                                                                                              'global':         score\n",
      "result    100,\n",
      "                                                                                              'pairwise':                           score\n",
      "(age, age)                  100\n",
      "(age, workclass)            100\n",
      "(age, fnlwgt)               100\n",
      "(age, education)            100\n",
      "(age, educational-num)      100\n",
      "...                         ...\n",
      "(income, capital-gain)      100\n",
      "(income, capital-loss)      100\n",
      "(income, hours-per-week)    100\n",
      "(income, native-country)    100\n",
      "(income, income)            100\n",
      "\n",
      "[225 rows x 1 columns]}}\n"
     ]
    }
   ],
   "source": [
    "config_file = 'UserStory_5.yaml'\n",
    "\n",
    "DevTest_UserStory(config_file = config_file)"
   ]
  },
  {
   "cell_type": "markdown",
   "metadata": {},
   "source": [
    "# Type 2: Evaluating data\n",
    "\n",
    "> Type 2: Evaluate privacy enhanced dataset\n",
    ">\n",
    "> 類型二：評估隱私強化資料集"
   ]
  },
  {
   "cell_type": "markdown",
   "metadata": {},
   "source": [
    "## User Story 6: Given data evaluating\n",
    "\n",
    "> Given an original dataset and a privacy enhanced dataset to the evaluation module, the pipeline will create a report covering default/general metrics of privacy risk and utility.\n",
    ">\n",
    "> 給定原始資料集與對應的隱私強化資料集到評估模組中，該流程會產生一份涵蓋預設/一般指標的隱私風險與效用的報告。"
   ]
  },
  {
   "cell_type": "code",
   "execution_count": 5,
   "metadata": {},
   "outputs": [
    {
     "name": "stdout",
     "output_type": "stream",
     "text": [
      "{'Evaluator': {'demo': {'method': 'sdmetrics-qualityreport'}},\n",
      " 'Loader': {'adult_ori': {'filepath': 'ori.csv'}},\n",
      " 'Synthesizer': {'custom': {'filepath': 'syn.csv', 'method': 'custom_data'}}}\n",
      "Now is Loader with adult_ori...\n",
      "Now is Synthesizer with custom...\n",
      "Now is Evaluator with demo...\n",
      "Generating report ...\n",
      "(1/2) Evaluating Column Shapes: : 100%|██████████| 15/15 [00:00<00:00, 78.50it/s]\n",
      "(2/2) Evaluating Column Pair Trends: : 100%|██████████| 105/105 [00:04<00:00, 21.21it/s]\n",
      "\n",
      "Overall Score: 78.22%\n",
      "\n",
      "Properties:\n",
      "- Column Shapes: 95.42%\n",
      "- Column Pair Trends: 61.03%\n",
      "{'Loader[adult_ori]_Synthesizer[custom]_Evaluator[demo]': {'columnwise':                       Property        Metric     Score\n",
      "age              Column Shapes  KSComplement  0.953697\n",
      "workclass        Column Shapes  TVComplement  0.993424\n",
      "fnlwgt           Column Shapes  KSComplement  0.961962\n",
      "education        Column Shapes  TVComplement  0.953049\n",
      "educational-num  Column Shapes  KSComplement  0.854475\n",
      "marital-status   Column Shapes  TVComplement  0.982433\n",
      "occupation       Column Shapes  TVComplement  0.981856\n",
      "relationship     Column Shapes  TVComplement  0.993252\n",
      "race             Column Shapes  TVComplement  0.999069\n",
      "gender           Column Shapes  TVComplement  0.997989\n",
      "capital-gain     Column Shapes  KSComplement  0.916899\n",
      "capital-loss     Column Shapes  KSComplement  0.953651\n",
      "hours-per-week   Column Shapes  KSComplement  0.789380\n",
      "native-country   Column Shapes  TVComplement  0.993816\n",
      "income           Column Shapes  TVComplement  0.987842,\n",
      "                                                           'global':            Score  Column Shapes  Column Pair Trends\n",
      "result  0.782221       0.954186            0.610256,\n",
      "                                                           'pairwise':                                             Property                 Metric  \\\n",
      "(age, workclass)                  Column Pair Trends  ContingencySimilarity   \n",
      "(age, fnlwgt)                     Column Pair Trends  CorrelationSimilarity   \n",
      "(age, education)                  Column Pair Trends  ContingencySimilarity   \n",
      "(age, educational-num)            Column Pair Trends  CorrelationSimilarity   \n",
      "(age, marital-status)             Column Pair Trends  ContingencySimilarity   \n",
      "...                                              ...                    ...   \n",
      "(capital-loss, native-country)    Column Pair Trends  ContingencySimilarity   \n",
      "(capital-loss, income)            Column Pair Trends  ContingencySimilarity   \n",
      "(hours-per-week, native-country)  Column Pair Trends  ContingencySimilarity   \n",
      "(hours-per-week, income)          Column Pair Trends  ContingencySimilarity   \n",
      "(native-country, income)          Column Pair Trends  ContingencySimilarity   \n",
      "\n",
      "                                     Score  Real Correlation  \\\n",
      "(age, workclass)                  0.853869               NaN   \n",
      "(age, fnlwgt)                     0.989805         -0.072849   \n",
      "(age, education)                  0.824405               NaN   \n",
      "(age, educational-num)            0.981785          0.026055   \n",
      "(age, marital-status)             0.746895               NaN   \n",
      "...                                    ...               ...   \n",
      "(capital-loss, native-country)    0.006347               NaN   \n",
      "(capital-loss, income)            0.006347               NaN   \n",
      "(hours-per-week, native-country)  0.655900               NaN   \n",
      "(hours-per-week, income)          0.639542               NaN   \n",
      "(native-country, income)          0.971149               NaN   \n",
      "\n",
      "                                  Synthetic Correlation Error  \n",
      "(age, workclass)                                    NaN  None  \n",
      "(age, fnlwgt)                                 -0.052460  None  \n",
      "(age, education)                                    NaN  None  \n",
      "(age, educational-num)                         0.062486  None  \n",
      "(age, marital-status)                               NaN  None  \n",
      "...                                                 ...   ...  \n",
      "(capital-loss, native-country)                      NaN  None  \n",
      "(capital-loss, income)                              NaN  None  \n",
      "(hours-per-week, native-country)                    NaN  None  \n",
      "(hours-per-week, income)                            NaN  None  \n",
      "(native-country, income)                            NaN  None  \n",
      "\n",
      "[105 rows x 6 columns]}}\n"
     ]
    }
   ],
   "source": [
    "config_file = 'UserStory_6.yaml'\n",
    "\n",
    "DevTest_UserStory(config_file = config_file)"
   ]
  },
  {
   "cell_type": "markdown",
   "metadata": {},
   "source": [
    "## User Story 7: Given data customized evaluating\n",
    "\n",
    "> Following User Story 6, if specific types of metrics are set or a customized evaluation script is provided, the module will create a customized evaluation report.\n",
    ">\n",
    "> 根據用戶故事 6，如果指定特定的指標、或是提供用戶自定義的評估腳本，模組會產生客製化的評估報告。"
   ]
  },
  {
   "cell_type": "code",
   "execution_count": null,
   "metadata": {},
   "outputs": [],
   "source": [
    "config_file = 'UserStory_7.yaml'\n",
    "\n",
    "DevTest_UserStory(config_file = config_file)"
   ]
  },
  {
   "cell_type": "markdown",
   "metadata": {},
   "source": [
    "# Type 3: Evaluating algorithm\n",
    "\n",
    "> Type 3: Evaluate a data generation algorithm (incl. data processing)\n",
    ">\n",
    "> 類型三：評估資料生成演算法（與資料處理流程）"
   ]
  },
  {
   "cell_type": "markdown",
   "metadata": {},
   "source": [
    "## User Story 8: Synthesizing on default data\n",
    "\n",
    "> With a specified data generation algorithm, a default benchmark dataset collection will serve as inputs, and the pipeline will generate the corresponding privacy enhanced datasets as output, using the selected algorithm.\n",
    ">\n",
    "> 指定資料生成演算法後，預設的經典資料集會用作輸入，並且該流程將使用該演算法輸出對應的隱私強化資料集。"
   ]
  },
  {
   "cell_type": "code",
   "execution_count": 4,
   "metadata": {},
   "outputs": [
    {
     "name": "stdout",
     "output_type": "stream",
     "text": [
      "YAML file UserStory_8.yaml is ...\n",
      "\n",
      "{'Loader': {'demo': {'method': 'default'}},\n",
      " 'Postprocessor': {'demo': {'method': 'default'}},\n",
      " 'Preprocessor': {'demo': {'method': 'default'}},\n",
      " 'Reporter': {'save_data': {'method': 'save_data',\n",
      "                            'output': 'UserStory_8',\n",
      "                            'source': 'Postprocessor'}},\n",
      " 'Synthesizer': {'sdv-gaussian': {'method': 'sdv-single_table-gaussiancopula'}}}\n",
      "\n",
      "\n",
      "Here's execution...\n",
      "\n",
      "Now is Loader with demo...\n",
      "Loader - Benchmarker: file benchmark\\adult.csv already exist and match SHA-256.\n",
      "                      PETsARD will ignore download and use local data directly.\n",
      "Now is Preprocessor with demo...\n",
      "Now is Synthesizer with sdv-gaussian...\n",
      "Synthesizer (SDV - SingleTable): Metafile loading time: 0.0396 sec.\n",
      "Synthesizer (SDV - SingleTable): Fitting GaussianCopula.\n",
      "Synthesizer (SDV - SingleTable): Fitting  GaussianCopula spent 10.9613 sec.\n",
      "Synthesizer (SDV - SingleTable): Sampling GaussianCopula # 28558 rows (same as raw) in 1.9267 sec.\n",
      "Now is Postprocessor with demo...\n",
      "Now is Reporter with save_data...\n",
      "Now is UserStory_8_Loader[demo]_Preprocessor[demo]_Synthesizer[sdv-gaussian]_Postprocessor[demo] save to csv...\n",
      "{'Loader[demo]_Preprocessor[demo]_Synthesizer[sdv-gaussian]_Postprocessor[demo]_Reporter[save_data]': None}\n"
     ]
    }
   ],
   "source": [
    "config_file = 'UserStory_8.yaml'\n",
    "\n",
    "DevTest_UserStory(config_file = config_file)"
   ]
  }
 ],
 "metadata": {
  "kernelspec": {
   "display_name": ".venv",
   "language": "python",
   "name": "python3"
  },
  "language_info": {
   "codemirror_mode": {
    "name": "ipython",
    "version": 3
   },
   "file_extension": ".py",
   "mimetype": "text/x-python",
   "name": "python",
   "nbconvert_exporter": "python",
   "pygments_lexer": "ipython3",
   "version": "3.10.11"
  }
 },
 "nbformat": 4,
 "nbformat_minor": 2
}
