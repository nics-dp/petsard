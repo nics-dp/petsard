{
 "cells": [
  {
   "cell_type": "code",
   "execution_count": 1,
   "metadata": {},
   "outputs": [],
   "source": [
    "import os\n",
    "import sys\n",
    "\n",
    "sys.path.append('D:\\\\Dropbox\\\\89_其他應用\\\\GitHub\\\\PETsARD')\n",
    "os.chdir('D:\\\\Dropbox\\\\89_其他應用\\\\GitHub\\\\PETsARD\\\\demo')\n",
    "# sys.path.append('/home/ec2-user/SageMaker/PETs-Experiment')\n",
    "# os.chdir('/home/ec2-user/SageMaker/PETs-Experiment/demo')\n",
    "\n",
    "import PETsARD"
   ]
  },
  {
   "cell_type": "code",
   "execution_count": 2,
   "metadata": {},
   "outputs": [
    {
     "name": "stdout",
     "output_type": "stream",
     "text": [
      "{'benchmark_datasets': {'adult': {'filename': 'adult.csv',\n",
      "                                  'public': 'public',\n",
      "                                  'sha256': '1f13ee2bf9d7c66098429281ab91fa1b51cbabd3b805cc365b3c6b44491ea2c0'},\n",
      "                        'adult-private': {'filename': 'adult_private_for_demo.csv',\n",
      "                                          'public': 'private',\n",
      "                                          'sha256': '1f13ee2bf9d7c66098429281ab91fa1b51cbabd3b805cc365b3c6b44491ea2c0'}},\n",
      " 'loader': {'benchmark_bucket_name': {'private': 'petsard-benchmark-private',\n",
      "                                      'public': 'petsard-benchmark'},\n",
      "            'benchmark_region_name': 'ap-southeast-1',\n",
      "            'file_ext': {'LoaderPandasCsv': ['csv'],\n",
      "                         'LoaderPandasExcel': ['xls',\n",
      "                                               'xlsx',\n",
      "                                               'xlsm',\n",
      "                                               'xlsb',\n",
      "                                               'odf',\n",
      "                                               'ods',\n",
      "                                               'odt']}}}\n"
     ]
    }
   ],
   "source": [
    "from importlib import resources\n",
    "\n",
    "import yaml\n",
    "\n",
    "# organized yaml\n",
    "PETSARD_CONFIG = {}\n",
    "LIST_YAML = [\n",
    "    ('loader_config.yaml', 'loader'),\n",
    "    ('benchmark_datasets.yaml', 'benchmark_datasets')\n",
    "]\n",
    "for yaml_name, config_name in LIST_YAML:\n",
    "    with resources.open_text('PETsARD.Loader', yaml_name) as file:\n",
    "        PETSARD_CONFIG[config_name] = yaml.safe_load(file)\n",
    "\n",
    "from pprint import pprint\n",
    "pprint(PETSARD_CONFIG)"
   ]
  },
  {
   "cell_type": "code",
   "execution_count": 3,
   "metadata": {},
   "outputs": [
    {
     "name": "stdout",
     "output_type": "stream",
     "text": [
      "{'adult': {'bucket_name': 'petsard-benchmark',\n",
      "           'filename': 'adult.csv',\n",
      "           'public': 'public',\n",
      "           'region_name': 'ap-southeast-1',\n",
      "           'sha256': '1f13ee2bf9d7c66098429281ab91fa1b51cbabd3b805cc365b3c6b44491ea2c0'},\n",
      " 'adult-private': {'bucket_name': 'petsard-benchmark-private',\n",
      "                   'filename': 'adult_private_for_demo.csv',\n",
      "                   'public': 'private',\n",
      "                   'region_name': 'ap-southeast-1',\n",
      "                   'sha256': '1f13ee2bf9d7c66098429281ab91fa1b51cbabd3b805cc365b3c6b44491ea2c0'}}\n"
     ]
    }
   ],
   "source": [
    "REGION_NAME = PETSARD_CONFIG['loader']['benchmark_region_name']\n",
    "BUCKET_NAME = PETSARD_CONFIG['loader']['benchmark_bucket_name']\n",
    "PETSARD_CONFIG['benchmark_datasets'] = {\n",
    "    key: {\n",
    "        'filename':    value['filename'],\n",
    "        'public':      value['public'],\n",
    "        'region_name': REGION_NAME,\n",
    "        'bucket_name': BUCKET_NAME[value['public']],\n",
    "        'sha256':      value['sha256']\n",
    "    }\n",
    "    for key, value in PETSARD_CONFIG['benchmark_datasets'].items()\n",
    "}\n",
    "\n",
    "pprint(PETSARD_CONFIG['benchmark_datasets'])"
   ]
  },
  {
   "cell_type": "code",
   "execution_count": 4,
   "metadata": {},
   "outputs": [
    {
     "data": {
      "text/plain": [
       "{'LoaderPandasCsv': ['csv'],\n",
       " 'LoaderPandasExcel': ['xls', 'xlsx', 'xlsm', 'xlsb', 'odf', 'ods', 'odt']}"
      ]
     },
     "execution_count": 4,
     "metadata": {},
     "output_type": "execute_result"
    }
   ],
   "source": [
    "PETSARD_CONFIG['loader']['file_ext']"
   ]
  },
  {
   "cell_type": "code",
   "execution_count": 5,
   "metadata": {},
   "outputs": [
    {
     "name": "stdout",
     "output_type": "stream",
     "text": [
      "{'benchmark_datasets': {'adult': {'bucket_name': 'petsard-benchmark',\n",
      "                                  'filename': 'adult.csv',\n",
      "                                  'public': 'public',\n",
      "                                  'region_name': 'ap-southeast-1',\n",
      "                                  'sha256': '1f13ee2bf9d7c66098429281ab91fa1b51cbabd3b805cc365b3c6b44491ea2c0'},\n",
      "                        'adult-private': {'bucket_name': 'petsard-benchmark-private',\n",
      "                                          'filename': 'adult_private_for_demo.csv',\n",
      "                                          'public': 'private',\n",
      "                                          'region_name': 'ap-southeast-1',\n",
      "                                          'sha256': '1f13ee2bf9d7c66098429281ab91fa1b51cbabd3b805cc365b3c6b44491ea2c0'}},\n",
      " 'loader': {'Loader': {'csv': <class 'PETsARD.Loader.LoaderPandas.LoaderPandasCsv'>,\n",
      "                       'odf': <class 'PETsARD.Loader.LoaderPandas.LoaderPandasExcel'>,\n",
      "                       'ods': <class 'PETsARD.Loader.LoaderPandas.LoaderPandasExcel'>,\n",
      "                       'odt': <class 'PETsARD.Loader.LoaderPandas.LoaderPandasExcel'>,\n",
      "                       'xls': <class 'PETsARD.Loader.LoaderPandas.LoaderPandasExcel'>,\n",
      "                       'xlsb': <class 'PETsARD.Loader.LoaderPandas.LoaderPandasExcel'>,\n",
      "                       'xlsm': <class 'PETsARD.Loader.LoaderPandas.LoaderPandasExcel'>,\n",
      "                       'xlsx': <class 'PETsARD.Loader.LoaderPandas.LoaderPandasExcel'>},\n",
      "            'benchmark_bucket_name': {'private': 'petsard-benchmark-private',\n",
      "                                      'public': 'petsard-benchmark'},\n",
      "            'benchmark_region_name': 'ap-southeast-1',\n",
      "            'file_ext': {'LoaderPandasCsv': ['csv'],\n",
      "                         'LoaderPandasExcel': ['xls',\n",
      "                                               'xlsx',\n",
      "                                               'xlsm',\n",
      "                                               'xlsb',\n",
      "                                               'odf',\n",
      "                                               'ods',\n",
      "                                               'odt']}}}\n"
     ]
    }
   ],
   "source": [
    "from PETsARD.Loader.LoaderPandas import (\n",
    "    LoaderPandasCsv,\n",
    "    LoaderPandasExcel,\n",
    ")\n",
    "\n",
    "FILE_EXT = PETSARD_CONFIG['loader']['file_ext']\n",
    "LOADER_MAP = {\n",
    "    'LoaderPandasCsv': LoaderPandasCsv,\n",
    "    'LoaderPandasExcel': LoaderPandasExcel\n",
    "}\n",
    "PETSARD_CONFIG['loader']['Loader'] = {\n",
    "    file_ext: LOADER_MAP[key]\n",
    "    for key, file_exts in FILE_EXT.items()\n",
    "    for file_ext in file_exts\n",
    "}\n",
    "\n",
    "pprint(PETSARD_CONFIG)"
   ]
  },
  {
   "cell_type": "code",
   "execution_count": 6,
   "metadata": {},
   "outputs": [
    {
     "name": "stdout",
     "output_type": "stream",
     "text": [
      "   age workclass  fnlwgt education  educational-num marital-status  \\\n",
      "0   25   Private  226802      11th                7  Never-married   \n",
      "\n",
      "          occupation relationship   race gender  capital-gain  capital-loss  \\\n",
      "0  Machine-op-inspct    Own-child  Black   Male             0             0   \n",
      "\n",
      "   hours-per-week native-country income  \n",
      "0              40  United-States  <=50K  \n"
     ]
    }
   ],
   "source": [
    "loader = PETsARD.Loader(\n",
    "    filepath='../[sunset]/data/[Adt Income] adult.csv',\n",
    "    na_values={\n",
    "        k: '?' for k in [\n",
    "            'workclass',\n",
    "            'occupation',\n",
    "            'native-country'\n",
    "        ]\n",
    "    }\n",
    ")\n",
    "print(loader.data.head(1))\n"
   ]
  },
  {
   "cell_type": "code",
   "execution_count": 7,
   "metadata": {},
   "outputs": [],
   "source": [
    "# import boto3\n",
    "# s3 = boto3.client('s3')\n",
    "# for bucket in s3.list_buckets()[\"Buckets\"]:\n",
    "#     print(bucket[\"Name\"])"
   ]
  },
  {
   "cell_type": "code",
   "execution_count": 8,
   "metadata": {},
   "outputs": [],
   "source": [
    "# import hashlib\n",
    "\n",
    "\n",
    "# def calculate_sha256(file_path):\n",
    "#     sha256_hash = hashlib.sha256()\n",
    "#     with open(file_path, \"rb\") as f:\n",
    "#         for byte_block in iter(lambda: f.read(4096), b\"\"):\n",
    "#             sha256_hash.update(byte_block)\n",
    "#     return sha256_hash.hexdigest()\n",
    "\n",
    "# calculate_sha256('benchmark/adult_private_for_demo.csv')"
   ]
  },
  {
   "cell_type": "code",
   "execution_count": 9,
   "metadata": {},
   "outputs": [
    {
     "name": "stdout",
     "output_type": "stream",
     "text": [
      "Loader - Benchmarker : Success download the benchmark dataset in https://petsard-benchmark.s3.amazonaws.com/adult.csv.\n",
      "   age workclass  fnlwgt education  educational-num marital-status  \\\n",
      "0   25   Private  226802      11th                7  Never-married   \n",
      "\n",
      "          occupation relationship   race gender  capital-gain  capital-loss  \\\n",
      "0  Machine-op-inspct    Own-child  Black   Male             0             0   \n",
      "\n",
      "   hours-per-week native-country income  \n",
      "0              40  United-States  <=50K  \n"
     ]
    }
   ],
   "source": [
    "loader = PETsARD.Loader(\n",
    "    filepath='benchmark://adult',\n",
    ")\n",
    "print(loader.data.head(1))"
   ]
  },
  {
   "cell_type": "code",
   "execution_count": 10,
   "metadata": {},
   "outputs": [
    {
     "name": "stdout",
     "output_type": "stream",
     "text": [
      "   age workclass  fnlwgt education  educational-num marital-status  \\\n",
      "0   25   Private  226802      11th                7  Never-married   \n",
      "\n",
      "          occupation relationship   race gender  capital-gain  capital-loss  \\\n",
      "0  Machine-op-inspct    Own-child  Black   Male             0             0   \n",
      "\n",
      "   hours-per-week native-country income  \n",
      "0              40  United-States  <=50K  \n"
     ]
    }
   ],
   "source": [
    "loader = PETsARD.Loader(\n",
    "    filepath='benchmark://adult-private',\n",
    ")\n",
    "print(loader.data.head(1))"
   ]
  }
 ],
 "metadata": {
  "kernelspec": {
   "display_name": ".venv",
   "language": "python",
   "name": "python3"
  },
  "language_info": {
   "codemirror_mode": {
    "name": "ipython",
    "version": 3
   },
   "file_extension": ".py",
   "mimetype": "text/x-python",
   "name": "python",
   "nbconvert_exporter": "python",
   "pygments_lexer": "ipython3",
   "version": "3.10.13"
  },
  "orig_nbformat": 4
 },
 "nbformat": 4,
 "nbformat_minor": 2
}
