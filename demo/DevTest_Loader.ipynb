{
 "cells": [
  {
   "cell_type": "code",
   "execution_count": 1,
   "metadata": {},
   "outputs": [],
   "source": [
    "import os\n",
    "import sys\n",
    "\n",
    "sys.path.append('D:\\\\Dropbox\\\\89_其他應用\\\\GitHub\\\\PETsARD')\n",
    "os.chdir('D:\\\\Dropbox\\\\89_其他應用\\\\GitHub\\\\PETsARD\\\\demo')\n",
    "# sys.path.append('/home/ec2-user/SageMaker/PETs-Experiment')\n",
    "# os.chdir('/home/ec2-user/SageMaker/PETs-Experiment/demo')\n",
    "\n",
    "import PETsARD"
   ]
  },
  {
   "cell_type": "code",
   "execution_count": 2,
   "metadata": {},
   "outputs": [
    {
     "name": "stdout",
     "output_type": "stream",
     "text": [
      "Loader - Benchmarker: file benchmark\\adult.csv already exist and match SHA-256.\n",
      "                      PETsARD will ignore download and use local data directly.\n",
      "   age workclass  fnlwgt education  educational-num marital-status  \\\n",
      "0   25   Private  226802      11th                7  Never-married   \n",
      "\n",
      "          occupation relationship   race gender  capital-gain  capital-loss  \\\n",
      "0  Machine-op-inspct    Own-child  Black   Male             0             0   \n",
      "\n",
      "   hours-per-week native-country income  \n",
      "0              40  United-States  <=50K  \n"
     ]
    }
   ],
   "source": [
    "loader = PETsARD.Loader(\n",
    "    filepath='benchmark://adult',\n",
    "    na_values={\n",
    "        k: '?' for k in [\n",
    "            'workclass',\n",
    "            'occupation',\n",
    "            'native-country'\n",
    "        ]\n",
    "    }\n",
    ")\n",
    "print(loader.data.head(1))\n"
   ]
  },
  {
   "cell_type": "code",
   "execution_count": 3,
   "metadata": {},
   "outputs": [
    {
     "data": {
      "text/plain": [
       "{'metadata_col': {'age': {'dtype': dtype('int8'),\n",
       "   'na_percentage': 0.0,\n",
       "   'infer_dtype': 'numerical'},\n",
       "  'workclass': {'dtype': CategoricalDtype(categories=['Federal-gov', 'Local-gov', 'Never-worked', 'Private',\n",
       "                     'Self-emp-inc', 'Self-emp-not-inc', 'State-gov',\n",
       "                     'Without-pay'],\n",
       "   , ordered=False),\n",
       "   'na_percentage': 0.05730723557593874,\n",
       "   'infer_dtype': 'categorical'},\n",
       "  'fnlwgt': {'dtype': dtype('int32'),\n",
       "   'na_percentage': 0.0,\n",
       "   'infer_dtype': 'numerical'},\n",
       "  'education': {'dtype': CategoricalDtype(categories=['10th', '11th', '12th', '1st-4th', '5th-6th', '7th-8th',\n",
       "                     '9th', 'Assoc-acdm', 'Assoc-voc', 'Bachelors', 'Doctorate',\n",
       "                     'HS-grad', 'Masters', 'Preschool', 'Prof-school',\n",
       "                     'Some-college'],\n",
       "   , ordered=False),\n",
       "   'na_percentage': 0.0,\n",
       "   'infer_dtype': 'categorical'},\n",
       "  'educational-num': {'dtype': dtype('int8'),\n",
       "   'na_percentage': 0.0,\n",
       "   'infer_dtype': 'numerical'},\n",
       "  'marital-status': {'dtype': CategoricalDtype(categories=['Divorced', 'Married-AF-spouse', 'Married-civ-spouse',\n",
       "                     'Married-spouse-absent', 'Never-married', 'Separated',\n",
       "                     'Widowed'],\n",
       "   , ordered=False),\n",
       "   'na_percentage': 0.0,\n",
       "   'infer_dtype': 'categorical'},\n",
       "  'occupation': {'dtype': CategoricalDtype(categories=['Adm-clerical', 'Armed-Forces', 'Craft-repair',\n",
       "                     'Exec-managerial', 'Farming-fishing', 'Handlers-cleaners',\n",
       "                     'Machine-op-inspct', 'Other-service', 'Priv-house-serv',\n",
       "                     'Prof-specialty', 'Protective-serv', 'Sales', 'Tech-support',\n",
       "                     'Transport-moving'],\n",
       "   , ordered=False),\n",
       "   'na_percentage': 0.05751197739650301,\n",
       "   'infer_dtype': 'categorical'},\n",
       "  'relationship': {'dtype': CategoricalDtype(categories=['Husband', 'Not-in-family', 'Other-relative', 'Own-child',\n",
       "                     'Unmarried', 'Wife'],\n",
       "   , ordered=False),\n",
       "   'na_percentage': 0.0,\n",
       "   'infer_dtype': 'categorical'},\n",
       "  'race': {'dtype': CategoricalDtype(categories=['Amer-Indian-Eskimo', 'Asian-Pac-Islander', 'Black', 'Other',\n",
       "                     'White'],\n",
       "   , ordered=False),\n",
       "   'na_percentage': 0.0,\n",
       "   'infer_dtype': 'categorical'},\n",
       "  'gender': {'dtype': CategoricalDtype(categories=['Female', 'Male'], ordered=False),\n",
       "   'na_percentage': 0.0,\n",
       "   'infer_dtype': 'categorical'},\n",
       "  'capital-gain': {'dtype': dtype('int32'),\n",
       "   'na_percentage': 0.0,\n",
       "   'infer_dtype': 'numerical'},\n",
       "  'capital-loss': {'dtype': dtype('int16'),\n",
       "   'na_percentage': 0.0,\n",
       "   'infer_dtype': 'numerical'},\n",
       "  'hours-per-week': {'dtype': dtype('int8'),\n",
       "   'na_percentage': 0.0,\n",
       "   'infer_dtype': 'numerical'},\n",
       "  'native-country': {'dtype': CategoricalDtype(categories=['Cambodia', 'Canada', 'China', 'Columbia', 'Cuba',\n",
       "                     'Dominican-Republic', 'Ecuador', 'El-Salvador', 'England',\n",
       "                     'France', 'Germany', 'Greece', 'Guatemala', 'Haiti',\n",
       "                     'Holand-Netherlands', 'Honduras', 'Hong', 'Hungary', 'India',\n",
       "                     'Iran', 'Ireland', 'Italy', 'Jamaica', 'Japan', 'Laos',\n",
       "                     'Mexico', 'Nicaragua', 'Outlying-US(Guam-USVI-etc)', 'Peru',\n",
       "                     'Philippines', 'Poland', 'Portugal', 'Puerto-Rico',\n",
       "                     'Scotland', 'South', 'Taiwan', 'Thailand', 'Trinadad&Tobago',\n",
       "                     'United-States', 'Vietnam', 'Yugoslavia'],\n",
       "   , ordered=False),\n",
       "   'na_percentage': 0.017546374022357807,\n",
       "   'infer_dtype': 'categorical'},\n",
       "  'income': {'dtype': CategoricalDtype(categories=['<=50K', '>50K'], ordered=False),\n",
       "   'na_percentage': 0.0,\n",
       "   'infer_dtype': 'categorical'}},\n",
       " 'metadata_global': {'row_num': 48842,\n",
       "  'col_num': 15,\n",
       "  'na_percentage': 0.07411653904426518}}"
      ]
     },
     "execution_count": 3,
     "metadata": {},
     "output_type": "execute_result"
    }
   ],
   "source": [
    "from PETsARD.loader.metadata import Metadata\n",
    "\n",
    "metadata = Metadata()\n",
    "metadata.build_metadata(data=loader.data)\n",
    "metadata.metadata"
   ]
  },
  {
   "cell_type": "code",
   "execution_count": 5,
   "metadata": {},
   "outputs": [
    {
     "name": "stdout",
     "output_type": "stream",
     "text": [
      "{'metadata_col': {'age': {'dtype': dtype('int8'),\n",
      "                          'infer_dtype': 'numerical',\n",
      "                          'na_percentage': 0.0},\n",
      "                  'capital-gain': {'dtype': dtype('int32'),\n",
      "                                   'infer_dtype': 'numerical',\n",
      "                                   'na_percentage': 0.0},\n",
      "                  'capital-loss': {'dtype': dtype('int16'),\n",
      "                                   'infer_dtype': 'numerical',\n",
      "                                   'na_percentage': 0.0},\n",
      "                  'education': {'dtype': CategoricalDtype(categories=['10th', '11th', '12th', '1st-4th', '5th-6th', '7th-8th',\n",
      "                  '9th', 'Assoc-acdm', 'Assoc-voc', 'Bachelors', 'Doctorate',\n",
      "                  'HS-grad', 'Masters', 'Preschool', 'Prof-school',\n",
      "                  'Some-college'],\n",
      ", ordered=False),\n",
      "                                'infer_dtype': 'categorical',\n",
      "                                'na_percentage': 0.0},\n",
      "                  'educational-num': {'dtype': dtype('int8'),\n",
      "                                      'infer_dtype': 'numerical',\n",
      "                                      'na_percentage': 0.0},\n",
      "                  'fnlwgt': {'dtype': dtype('int32'),\n",
      "                             'infer_dtype': 'numerical',\n",
      "                             'na_percentage': 0.0},\n",
      "                  'gender': {'dtype': CategoricalDtype(categories=['Female', 'Male'], ordered=False),\n",
      "                             'infer_dtype': 'categorical',\n",
      "                             'na_percentage': 0.0},\n",
      "                  'hours-per-week': {'dtype': dtype('int8'),\n",
      "                                     'infer_dtype': 'numerical',\n",
      "                                     'na_percentage': 0.0},\n",
      "                  'income': {'dtype': CategoricalDtype(categories=['<=50K', '>50K'], ordered=False),\n",
      "                             'infer_dtype': 'categorical',\n",
      "                             'na_percentage': 0.0},\n",
      "                  'marital-status': {'dtype': CategoricalDtype(categories=['Divorced', 'Married-AF-spouse', 'Married-civ-spouse',\n",
      "                  'Married-spouse-absent', 'Never-married', 'Separated',\n",
      "                  'Widowed'],\n",
      ", ordered=False),\n",
      "                                     'infer_dtype': 'categorical',\n",
      "                                     'na_percentage': 0.0},\n",
      "                  'native-country': {'dtype': CategoricalDtype(categories=['Cambodia', 'Canada', 'China', 'Columbia', 'Cuba',\n",
      "                  'Dominican-Republic', 'Ecuador', 'El-Salvador', 'England',\n",
      "                  'France', 'Germany', 'Greece', 'Guatemala', 'Haiti',\n",
      "                  'Holand-Netherlands', 'Honduras', 'Hong', 'Hungary', 'India',\n",
      "                  'Iran', 'Ireland', 'Italy', 'Jamaica', 'Japan', 'Laos',\n",
      "                  'Mexico', 'Nicaragua', 'Outlying-US(Guam-USVI-etc)', 'Peru',\n",
      "                  'Philippines', 'Poland', 'Portugal', 'Puerto-Rico',\n",
      "                  'Scotland', 'South', 'Taiwan', 'Thailand', 'Trinadad&Tobago',\n",
      "                  'United-States', 'Vietnam', 'Yugoslavia'],\n",
      ", ordered=False),\n",
      "                                     'infer_dtype': 'categorical',\n",
      "                                     'na_percentage': 0.017546374022357807},\n",
      "                  'occupation': {'dtype': CategoricalDtype(categories=['Adm-clerical', 'Armed-Forces', 'Craft-repair',\n",
      "                  'Exec-managerial', 'Farming-fishing', 'Handlers-cleaners',\n",
      "                  'Machine-op-inspct', 'Other-service', 'Priv-house-serv',\n",
      "                  'Prof-specialty', 'Protective-serv', 'Sales', 'Tech-support',\n",
      "                  'Transport-moving'],\n",
      ", ordered=False),\n",
      "                                 'infer_dtype': 'categorical',\n",
      "                                 'na_percentage': 0.05751197739650301},\n",
      "                  'race': {'dtype': CategoricalDtype(categories=['Amer-Indian-Eskimo', 'Asian-Pac-Islander', 'Black', 'Other',\n",
      "                  'White'],\n",
      ", ordered=False),\n",
      "                           'infer_dtype': 'categorical',\n",
      "                           'na_percentage': 0.0},\n",
      "                  'relationship': {'dtype': CategoricalDtype(categories=['Husband', 'Not-in-family', 'Other-relative', 'Own-child',\n",
      "                  'Unmarried', 'Wife'],\n",
      ", ordered=False),\n",
      "                                   'infer_dtype': 'categorical',\n",
      "                                   'na_percentage': 0.0},\n",
      "                  'workclass': {'dtype': CategoricalDtype(categories=['Federal-gov', 'Local-gov', 'Never-worked', 'Private',\n",
      "                  'Self-emp-inc', 'Self-emp-not-inc', 'State-gov',\n",
      "                  'Without-pay'],\n",
      ", ordered=False),\n",
      "                                'infer_dtype': 'categorical',\n",
      "                                'na_percentage': 0.05730723557593874}},\n",
      " 'metadata_global': {'col_num': 15,\n",
      "                     'na_percentage': 0.07411653904426518,\n",
      "                     'row_num': 48842}}\n"
     ]
    }
   ],
   "source": [
    "from pprint import pprint\n",
    "pprint(loader.metadata)"
   ]
  },
  {
   "cell_type": "code",
   "execution_count": 3,
   "metadata": {},
   "outputs": [
    {
     "name": "stdout",
     "output_type": "stream",
     "text": [
      "cw-syn-results-319617166344-ap-northeast-1\n",
      "pets-experiment\n",
      "petsard-benchmark\n",
      "petsard-benchmark-private\n",
      "sagemaker-ap-northeast-1-319617166344\n",
      "sagemaker-studio-319617166344-2h0qv3ot5q7\n",
      "sagemaker-studio-319617166344-3plrsofl2jr\n"
     ]
    }
   ],
   "source": [
    "import boto3\n",
    "s3 = boto3.client('s3')\n",
    "for bucket in s3.list_buckets()[\"Buckets\"]:\n",
    "    print(bucket[\"Name\"])"
   ]
  },
  {
   "cell_type": "code",
   "execution_count": 4,
   "metadata": {},
   "outputs": [
    {
     "name": "stdout",
     "output_type": "stream",
     "text": [
      "benchmark/adult.csv\n",
      "1f13ee2bf9d7c66098429281ab91fa1b51cbabd3b805cc365b3c6b44491ea2c0\n",
      "benchmark/adult_private_for_demo.csv\n",
      "1f13ee2bf9d7c66098429281ab91fa1b51cbabd3b805cc365b3c6b44491ea2c0\n"
     ]
    }
   ],
   "source": [
    "import hashlib\n",
    "\n",
    "def calculate_sha256(file_path):\n",
    "    sha256_hash = hashlib.sha256()\n",
    "    with open(file_path, \"rb\") as f:\n",
    "        for byte_block in iter(lambda: f.read(4096), b\"\"):\n",
    "            sha256_hash.update(byte_block)\n",
    "    return sha256_hash.hexdigest()\n",
    "\n",
    "print('benchmark/adult.csv')\n",
    "print(calculate_sha256('benchmark/adult.csv'))\n",
    "print('benchmark/adult_private_for_demo.csv')\n",
    "print(calculate_sha256('benchmark/adult_private_for_demo.csv'))"
   ]
  },
  {
   "cell_type": "code",
   "execution_count": 5,
   "metadata": {},
   "outputs": [
    {
     "name": "stdout",
     "output_type": "stream",
     "text": [
      "Loader - Benchmarker: file benchmark\\adult.csv already exist and match SHA-256.\n",
      "                      PETsARD will ignore download and use local data directly.\n",
      "   age workclass  fnlwgt education  educational-num marital-status  \\\n",
      "0   25   Private  226802      11th                7  Never-married   \n",
      "\n",
      "          occupation relationship   race gender  capital-gain  capital-loss  \\\n",
      "0  Machine-op-inspct    Own-child  Black   Male             0             0   \n",
      "\n",
      "   hours-per-week native-country income  \n",
      "0              40  United-States  <=50K  \n"
     ]
    }
   ],
   "source": [
    "loader = PETsARD.Loader(\n",
    "    filepath='benchmark://adult',\n",
    ")\n",
    "print(loader.data.head(1))"
   ]
  },
  {
   "cell_type": "code",
   "execution_count": 6,
   "metadata": {},
   "outputs": [
    {
     "name": "stdout",
     "output_type": "stream",
     "text": [
      "Loader - Benchmarker: file benchmark\\adult_private_for_demo.csv already exist and match SHA-256.\n",
      "                      PETsARD will ignore download and use local data directly.\n",
      "   age workclass  fnlwgt education  educational-num marital-status  \\\n",
      "0   25   Private  226802      11th                7  Never-married   \n",
      "\n",
      "          occupation relationship   race gender  capital-gain  capital-loss  \\\n",
      "0  Machine-op-inspct    Own-child  Black   Male             0             0   \n",
      "\n",
      "   hours-per-week native-country income  \n",
      "0              40  United-States  <=50K  \n"
     ]
    }
   ],
   "source": [
    "loader = PETsARD.Loader(\n",
    "    filepath='benchmark://adult-private',\n",
    ")\n",
    "print(loader.data.head(1))"
   ]
  }
 ],
 "metadata": {
  "kernelspec": {
   "display_name": ".venv",
   "language": "python",
   "name": "python3"
  },
  "language_info": {
   "codemirror_mode": {
    "name": "ipython",
    "version": 3
   },
   "file_extension": ".py",
   "mimetype": "text/x-python",
   "name": "python",
   "nbconvert_exporter": "python",
   "pygments_lexer": "ipython3",
   "version": "3.10.11"
  },
  "orig_nbformat": 4
 },
 "nbformat": 4,
 "nbformat_minor": 2
}
