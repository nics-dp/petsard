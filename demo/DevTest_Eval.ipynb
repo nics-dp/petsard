{
 "cells": [
  {
   "cell_type": "code",
   "execution_count": 1,
   "metadata": {
    "tags": []
   },
   "outputs": [],
   "source": [
    "import os\n",
    "import sys\n",
    "\n",
    "sys.path.append('D:\\\\Dropbox\\\\89_其他應用\\\\GitHub\\\\PETsARD')\n",
    "os.chdir('D:\\\\Dropbox\\\\89_其他應用\\\\GitHub\\\\PETsARD\\\\demo')\n",
    "# sys.path.append('/home/ec2-user/SageMaker/PETs-Experiment')\n",
    "# os.chdir('/home/ec2-user/SageMaker/PETs-Experiment/demo')\n",
    "\n",
    "import PETsARD"
   ]
  },
  {
   "cell_type": "code",
   "execution_count": 2,
   "metadata": {
    "tags": []
   },
   "outputs": [
    {
     "name": "stdout",
     "output_type": "stream",
     "text": [
      "   age workclass  fnlwgt education  educational-num marital-status  \\\n",
      "0   25   Private  226802      11th                7  Never-married   \n",
      "\n",
      "          occupation relationship   race gender  capital-gain  capital-loss  \\\n",
      "0  Machine-op-inspct    Own-child  Black   Male             0             0   \n",
      "\n",
      "   hours-per-week native-country income  \n",
      "0              40  United-States  <=50K  \n"
     ]
    }
   ],
   "source": [
    "loader = PETsARD.Loader(\n",
    "    filepath='../[sunset]/data/[Adt Income] adult.csv',\n",
    "    na_values={k: '?' for k in [\n",
    "        'workclass',\n",
    "        'occupation',\n",
    "        'native-country'\n",
    "    ]}\n",
    ")\n",
    "print(loader.data.head(1))\n"
   ]
  },
  {
   "cell_type": "code",
   "execution_count": 3,
   "metadata": {
    "tags": []
   },
   "outputs": [
    {
     "name": "stdout",
     "output_type": "stream",
     "text": [
      "39073\n",
      "9769\n",
      "   age workclass  fnlwgt education  educational-num marital-status  \\\n",
      "0   25   Private  226802      11th                7  Never-married   \n",
      "\n",
      "          occupation relationship   race gender  capital-gain  capital-loss  \\\n",
      "0  Machine-op-inspct    Own-child  Black   Male             0             0   \n",
      "\n",
      "   hours-per-week native-country income  \n",
      "0              40  United-States  <=50K  \n",
      "   age workclass  fnlwgt education  educational-num      marital-status  \\\n",
      "0   27   Private  205145   HS-grad                9  Married-civ-spouse   \n",
      "\n",
      "          occupation relationship   race gender  capital-gain  capital-loss  \\\n",
      "0  Machine-op-inspct      Husband  White   Male             0             0   \n",
      "\n",
      "   hours-per-week native-country income  \n",
      "0              40  United-States  <=50K  \n"
     ]
    }
   ],
   "source": [
    "splitter = PETsARD.Splitter(\n",
    "    data=loader.data,\n",
    "    num_samples=1,  # 30,\n",
    "    train_split_ratio=0.8\n",
    ")\n",
    "print(splitter.data[1]['train'].shape[0])\n",
    "print(splitter.data[1]['validation'].shape[0])\n",
    "print(splitter.data[1]['train'].head(1))\n",
    "print(splitter.data[1]['validation'].head(1))\n"
   ]
  },
  {
   "cell_type": "code",
   "execution_count": 4,
   "metadata": {
    "tags": []
   },
   "outputs": [
    {
     "name": "stdout",
     "output_type": "stream",
     "text": [
      "Preprocessor - Outlierist (IQR): Dropped  3028 rows on capital-gain   . Kept [0.0, 0.0] only.\n",
      "Preprocessor - Outlierist (IQR): Dropped   224 rows on age            . Kept [-0.5, 75.5] only.\n",
      "Preprocessor - Outlierist (IQR): Dropped  1742 rows on capital-loss   . Kept [0.0, 0.0] only.\n",
      "Preprocessor - Outlierist (IQR): Dropped  1068 rows on fnlwgt         . Kept [-63123.0, 417765.0] only.\n",
      "Preprocessor - Outlierist (IQR): Dropped   235 rows on educational-num. Kept [3.0, 19.0] only.\n",
      "Preprocessor - Outlierist (IQR): Totally Dropped  6089 in 36205 rows.\n",
      "Preprocessor - Encoder (Label): Column education       been labelized from 0 to 13.\n",
      "Preprocessor - Encoder (Label): Column native-country  been labelized from 0 to 39.\n",
      "Preprocessor - Encoder (Label): Column marital-status  been labelized from 0 to  6.\n",
      "Preprocessor - Encoder (Label): Column income          been labelized from 0 to  1.\n",
      "Preprocessor - Encoder (Label): Column race            been labelized from 0 to  4.\n",
      "Preprocessor - Encoder (Label): Column workclass       been labelized from 0 to  6.\n",
      "Preprocessor - Encoder (Label): Column gender          been labelized from 0 to  1.\n",
      "Preprocessor - Encoder (Label): Column relationship    been labelized from 0 to  5.\n",
      "Preprocessor - Encoder (Label): Column occupation      been labelized from 0 to 13.\n",
      "Preprocessor - Scaler (Standard): Column fnlwgt been standardized.\n",
      "\n",
      "\n",
      "\n",
      "\n",
      "   age  workclass    fnlwgt  education  educational-num  marital-status  \\\n",
      "0   25          2  0.540826          1                7               4   \n",
      "\n",
      "   occupation  relationship  race  gender  capital-gain  capital-loss  \\\n",
      "0           6             3     2       1             0             0   \n",
      "\n",
      "   hours-per-week  native-country  income  \n",
      "0              40              37       0  \n",
      "\n",
      "\n",
      "\n",
      "\n",
      "{'education': LabelEncoder(), 'native-country': LabelEncoder(), 'marital-status': LabelEncoder(), 'income': LabelEncoder(), 'race': LabelEncoder(), 'workclass': LabelEncoder(), 'gender': LabelEncoder(), 'relationship': LabelEncoder(), 'occupation': LabelEncoder()}\n",
      "\n",
      "\n",
      "\n",
      "\n",
      "{'fnlwgt': StandardScaler()}\n"
     ]
    }
   ],
   "source": [
    "preproc = PETsARD.Preprocessor(\n",
    "    data=splitter.data[1]['train'],\n",
    "    missing=True,\n",
    "    missing_method='drop',\n",
    "    missing_columns=None,\n",
    "    outlier=True,\n",
    "    outlier_method='IQR',\n",
    "    outlier_columns={'ignore': ['hours-per-week']},\n",
    "    encoding=True,\n",
    "    encoding_method='Label',\n",
    "    encoding_columns=None,\n",
    "    scaling=True,\n",
    "    scaling_method='Standard',\n",
    "    scaling_columns={'focus': 'fnlwgt'}\n",
    ")\n",
    "print('\\n\\n\\n')\n",
    "print(preproc.data.head(1))\n",
    "print('\\n\\n\\n')\n",
    "print(preproc.encoder)\n",
    "print('\\n\\n\\n')\n",
    "print(preproc.scaler)\n"
   ]
  },
  {
   "cell_type": "code",
   "execution_count": 5,
   "metadata": {
    "tags": []
   },
   "outputs": [
    {
     "name": "stdout",
     "output_type": "stream",
     "text": [
      "Synthesizer (SDV - SingleTable): Metafile loading time: 0.037 sec.\n",
      "Synthesizer (SDV - SingleTable): Fitting GaussianCopula.\n",
      "Synthesizer (SDV - SingleTable): Fitting  GaussianCopula spent 14.8843 sec.\n",
      "Synthesizer (SDV - SingleTable): Sampling GaussianCopula # 30116 rows (same as raw) in 1.4872 sec.\n",
      "   age  workclass    fnlwgt  education  educational-num  marital-status  \\\n",
      "0   49          2 -1.503732          8               10               0   \n",
      "\n",
      "   occupation  relationship  race  gender  capital-gain  capital-loss  \\\n",
      "0           4             1     2       1             0             0   \n",
      "\n",
      "   hours-per-week  native-country  income  \n",
      "0              38              29       0  \n"
     ]
    }
   ],
   "source": [
    "synthesizer = PETsARD.Synthesizer(\n",
    "    data=preproc.data,\n",
    "    synthesizing_method='sdv-singletable-gaussiancopula'\n",
    ")\n",
    "synthesizer.fit_sample()\n",
    "print(synthesizer.data_syn.head(1))\n"
   ]
  },
  {
   "cell_type": "code",
   "execution_count": 6,
   "metadata": {
    "tags": []
   },
   "outputs": [
    {
     "name": "stdout",
     "output_type": "stream",
     "text": [
      "Postprocessor - Scaler (StandardScaler): Decoding fnlwgt.\n",
      "Postprocessor - Encoder (LabelEncoder): Decoding education.\n",
      "Postprocessor - Encoder (LabelEncoder): Decoding native-country.\n",
      "Postprocessor - Encoder (LabelEncoder): Decoding marital-status.\n",
      "Postprocessor - Encoder (LabelEncoder): Decoding income.\n",
      "Postprocessor - Encoder (LabelEncoder): Decoding race.\n",
      "Postprocessor - Encoder (LabelEncoder): Decoding workclass.\n",
      "Postprocessor - Encoder (LabelEncoder): Decoding gender.\n",
      "Postprocessor - Encoder (LabelEncoder): Decoding relationship.\n",
      "Postprocessor - Encoder (LabelEncoder): Decoding occupation.\n",
      "Postprocessor - Missingist (<PETsARD.Preprocessor.Missingist_Drop.Missingist_Drop object at 0x00000128A424FE80>): Decoding capital-gain.\n",
      "Postprocessor - Missingist (<PETsARD.Preprocessor.Missingist_Drop.Missingist_Drop object at 0x00000128A42CD450>): Decoding age.\n",
      "Postprocessor - Missingist (<PETsARD.Preprocessor.Missingist_Drop.Missingist_Drop object at 0x00000128A42CD300>): Decoding education.\n",
      "Postprocessor - Missingist (<PETsARD.Preprocessor.Missingist_Drop.Missingist_Drop object at 0x00000128A424FF40>): Decoding capital-loss.\n",
      "Postprocessor - Missingist (<PETsARD.Preprocessor.Missingist_Drop.Missingist_Drop object at 0x00000128A42CD570>): Decoding hours-per-week.\n",
      "Postprocessor - Missingist (<PETsARD.Preprocessor.Missingist_Drop.Missingist_Drop object at 0x00000128A42CC460>): Decoding native-country.\n",
      "Postprocessor - Missingist (<PETsARD.Preprocessor.Missingist_Drop.Missingist_Drop object at 0x00000128A42CCC70>): Decoding marital-status.\n",
      "Postprocessor - Missingist (<PETsARD.Preprocessor.Missingist_Drop.Missingist_Drop object at 0x00000128A42CCAC0>): Decoding fnlwgt.\n",
      "Postprocessor - Missingist (<PETsARD.Preprocessor.Missingist_Drop.Missingist_Drop object at 0x00000128A42CC910>): Decoding income.\n",
      "Postprocessor - Missingist (<PETsARD.Preprocessor.Missingist_Drop.Missingist_Drop object at 0x00000128A42CD720>): Decoding race.\n",
      "Postprocessor - Missingist (<PETsARD.Preprocessor.Missingist_Drop.Missingist_Drop object at 0x00000128A42CC610>): Decoding workclass.\n",
      "Postprocessor - Missingist (<PETsARD.Preprocessor.Missingist_Drop.Missingist_Drop object at 0x00000128A42CC580>): Decoding gender.\n",
      "Postprocessor - Missingist (<PETsARD.Preprocessor.Missingist_Drop.Missingist_Drop object at 0x00000128A42CD960>): Decoding educational-num.\n",
      "Postprocessor - Missingist (<PETsARD.Preprocessor.Missingist_Drop.Missingist_Drop object at 0x00000128A42CDB10>): Decoding relationship.\n",
      "Postprocessor - Missingist (<PETsARD.Preprocessor.Missingist_Drop.Missingist_Drop object at 0x00000128A42CDCC0>): Decoding occupation.\n",
      "    age workclass        fnlwgt  education  educational-num marital-status  \\\n",
      "0  49.0   Private  47564.647242  Bachelors             10.0       Divorced   \n",
      "\n",
      "        occupation   relationship   race gender  capital-gain  capital-loss  \\\n",
      "0  Farming-fishing  Not-in-family  Black   Male           0.0           0.0   \n",
      "\n",
      "   hours-per-week native-country income  \n",
      "0            38.0         Poland  <=50K  \n"
     ]
    }
   ],
   "source": [
    "# File D:\\Dropbox\\89_其他應用\\GitHub\\PETs-Experiment\\PETsARD\\Preprocessor\\Missingist.py:27, in Missingist.inverse_transform(self, col_data)\n",
    "#      25 _col_data = col_data.copy()\n",
    "#      26 print(_col_data)\n",
    "# ---> 27 _col_data[_na_mask] = np.nan\n",
    "#      28 return _col_data\n",
    "\n",
    "# ValueError: cannot convert float NaN to integer\n",
    "\n",
    "postproc = PETsARD.Postprocessor(\n",
    "    data=synthesizer.data_syn,\n",
    "    missingist = getattr(preproc ,'missingist' ,None),\n",
    "    encoder=getattr(preproc, 'encoder', None),\n",
    "    scaler=getattr(preproc, 'scaler', None)\n",
    ")\n",
    "print(postproc.data.head(1))\n"
   ]
  },
  {
   "cell_type": "code",
   "execution_count": 7,
   "metadata": {
    "tags": []
   },
   "outputs": [
    {
     "name": "stdout",
     "output_type": "stream",
     "text": [
      "Evaluator (Anonymeter - SinglingOut - Univariate): Now is SinglingOut - Univariate Evaluator\n",
      "Evaluator (Anonymeter - SinglingOut - Univariate): Evaluator time: 0.0816 sec.\n",
      "Evaluator (Anonymeter): Evaluating  SinglingOut - Univariate.\n"
     ]
    },
    {
     "data": {
      "text/plain": [
       "{'Risk': 0.0,\n",
       " 'Risk_CI_btm': 0.0,\n",
       " 'Risk_CI_top': 0.0013568577126237004,\n",
       " 'Attack_Rate': 0.0009585236406264672,\n",
       " 'Attack_Rate_err': 0.0009585236406264671,\n",
       " 'Baseline_Rate': 0.0009585236406264672,\n",
       " 'Baseline_Rate_err': 0.0009585236406264671,\n",
       " 'Control_Rate': 0.0009585236406264672,\n",
       " 'Control_Rate_err': 0.0009585236406264671}"
      ]
     },
     "execution_count": 7,
     "metadata": {},
     "output_type": "execute_result"
    }
   ],
   "source": [
    "eval = PETsARD.Evaluator(evaluating_method='anonymeter-singlingout-univariate', data={'ori': splitter.data[1]['train'], 'syn': postproc.data, 'control': splitter.data[1]['validation']\n",
    "                                                                                      }, anonymeter_n_attacks=2000\n",
    "                         )\n",
    "eval.eval()\n",
    "eval.Evaluator.evaluation\n"
   ]
  },
  {
   "cell_type": "code",
   "execution_count": 8,
   "metadata": {
    "tags": []
   },
   "outputs": [
    {
     "name": "stdout",
     "output_type": "stream",
     "text": [
      "Evaluator (Anonymeter - Linkability): Now is Linkability Evaluator\n",
      "Evaluator (Anonymeter - Linkability): aux_cols are [age, fnlwgt, race, gender, native-country]\n",
      "                                      and [workclass, education, capital-gain, capital-loss, hours-per-week].\n",
      "Evaluator (Anonymeter - Linkability): Evaluator time: 0.0 sec.\n",
      "Evaluator (Anonymeter): Evaluating  Linkability.\n",
      "Evaluator (Anonymeter): Evaluating Linkability spent 13.7814 sec.\n"
     ]
    },
    {
     "data": {
      "text/plain": [
       "{'Risk': 0.0015113953698751466,\n",
       " 'Risk_CI_btm': 0.0,\n",
       " 'Risk_CI_top': 0.007640001127268101,\n",
       " 'Attack_Rate': 0.010939353167813939,\n",
       " 'Attack_Rate_err': 0.004456585291261251,\n",
       " 'Baseline_Rate': 0.001956606593345214,\n",
       " 'Baseline_Rate_err': 0.00168232767569318,\n",
       " 'Control_Rate': 0.00944222873873582,\n",
       " 'Control_Rate_err': 0.004128460999050264}"
      ]
     },
     "execution_count": 8,
     "metadata": {},
     "output_type": "execute_result"
    }
   ],
   "source": [
    "eval = PETsARD.Evaluator(evaluating_method='anonymeter-linkability', data={'ori': splitter.data[1]['train'], 'syn': postproc.data, 'control': splitter.data[1]['validation']\n",
    "                                                                           }, anonymeter_n_attacks=2000, anonymeter_n_neighbors=10, anonymeter_n_jobs=-1, anonymeter_aux_cols=[['age', 'fnlwgt', 'race', 'gender', 'native-country'], ['workclass', 'education', 'capital-gain', 'capital-loss', 'hours-per-week']\n",
    "                                                                                                                                                                               ]\n",
    "                         )\n",
    "eval.eval()\n",
    "eval.Evaluator.evaluation\n"
   ]
  },
  {
   "cell_type": "code",
   "execution_count": 9,
   "metadata": {
    "tags": []
   },
   "outputs": [
    {
     "name": "stdout",
     "output_type": "stream",
     "text": [
      "Evaluator (Anonymeter - Inference): Now is Inference Evaluator\n",
      "Evaluator (Anonymeter - Inference): Evaluator time: 0.0 sec.\n",
      "Evaluator (Anonymeter): Evaluating  Inference.\n",
      "Evaluator (Anonymeter): Evaluating Inference spent 0.8025 sec.\n"
     ]
    },
    {
     "data": {
      "text/plain": [
       "{'Risk': 0.026148306735715394,\n",
       " 'Risk_CI_btm': 0.0,\n",
       " 'Risk_CI_top': 0.06623361606884481,\n",
       " 'Attack_Rate': 0.11297349278000537,\n",
       " 'Attack_Rate_err': 0.027482077623402282,\n",
       " 'Baseline_Rate': 0.0593852071649292,\n",
       " 'Baseline_Rate_err': 0.020359586481777707,\n",
       " 'Control_Rate': 0.08915647695108263,\n",
       " 'Control_Rate_err': 0.024683334547474907}"
      ]
     },
     "execution_count": 9,
     "metadata": {},
     "output_type": "execute_result"
    }
   ],
   "source": [
    "eval = PETsARD.Evaluator(evaluating_method='anonymeter-inference', data={'ori': splitter.data[1]['train'], 'syn': postproc.data, 'control': splitter.data[1]['validation']\n",
    "                                                                         }, anonymeter_n_attacks=2000, anonymeter_n_jobs=-1, anonymeter_secret='age'\n",
    "                         )\n",
    "eval.eval()\n",
    "eval.Evaluator.evaluation\n"
   ]
  }
 ],
 "metadata": {
  "kernelspec": {
   "display_name": "Python 3",
   "language": "python",
   "name": "python3"
  },
  "language_info": {
   "codemirror_mode": {
    "name": "ipython",
    "version": 3
   },
   "file_extension": ".py",
   "mimetype": "text/x-python",
   "name": "python",
   "nbconvert_exporter": "python",
   "pygments_lexer": "ipython3",
   "version": "3.10.11"
  }
 },
 "nbformat": 4,
 "nbformat_minor": 4
}
