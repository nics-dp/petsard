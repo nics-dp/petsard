{
 "cells": [
  {
   "cell_type": "markdown",
   "metadata": {},
   "source": [
    "# PETsARD Adapter 測試\n",
    "\n",
    "這個 notebook 用來測試各個 Adapter 的功能，按照 test.ipynb 的設定進行調整。"
   ]
  },
  {
   "cell_type": "markdown",
   "metadata": {},
   "source": [
    "## LoaderAdapter 測試"
   ]
  },
  {
   "cell_type": "code",
   "execution_count": 1,
   "metadata": {},
   "outputs": [
    {
     "name": "stdout",
     "output_type": "stream",
     "text": [
      "data: <class 'pandas.core.frame.DataFrame'>, meta: <class 'petsard.metadater.metadata.Schema'>\n",
      "data shape: (48842, 15)\n",
      "Schema id: adult-income\n",
      "Schema name: adult-income.csv\n"
     ]
    }
   ],
   "source": [
    "from petsard.adapter import LoaderAdapter\n",
    "\n",
    "# 測試 benchmark 資料載入\n",
    "loader_adpt = LoaderAdapter(config={\"filepath\": \"benchmark://adult-income\"})\n",
    "\n",
    "# 執行載入\n",
    "loader_adpt.run(input={})\n",
    "\n",
    "# 取得結果\n",
    "data = loader_adpt.get_result()\n",
    "meta = loader_adpt.get_metadata()\n",
    "\n",
    "print(f\"data: {type(data)}, meta: {type(meta)}\")\n",
    "print(f\"data shape: {data.shape}\")\n",
    "print(f\"Schema id: {meta.id}\")\n",
    "print(f\"Schema name: {meta.name}\")"
   ]
  },
  {
   "cell_type": "code",
   "execution_count": 2,
   "metadata": {},
   "outputs": [
    {
     "name": "stdout",
     "output_type": "stream",
     "text": [
      "data: <class 'pandas.core.frame.DataFrame'>, meta: <class 'petsard.metadater.metadata.Schema'>\n",
      "data shape: (48842, 15)\n"
     ]
    }
   ],
   "source": [
    "# 測試本地檔案載入\n",
    "loader_adpt_local = LoaderAdapter(config={\"filepath\": \"benchmark/adult-income.csv\"})\n",
    "\n",
    "loader_adpt_local.run(input={})\n",
    "\n",
    "data_local = loader_adpt_local.get_result()\n",
    "meta_local = loader_adpt_local.get_metadata()\n",
    "\n",
    "print(f\"data: {type(data_local)}, meta: {type(meta_local)}\")\n",
    "print(f\"data shape: {data_local.shape}\")"
   ]
  },
  {
   "cell_type": "markdown",
   "metadata": {},
   "source": [
    "# Just simplify"
   ]
  },
  {
   "cell_type": "code",
   "execution_count": 3,
   "metadata": {},
   "outputs": [
    {
     "data": {
      "text/plain": [
       "(100, 15)"
      ]
     },
     "execution_count": 3,
     "metadata": {},
     "output_type": "execute_result"
    }
   ],
   "source": [
    "data = data.loc[0:99, :]\n",
    "data.shape"
   ]
  },
  {
   "cell_type": "markdown",
   "metadata": {},
   "source": [
    "## SplitterAdapter 測試"
   ]
  },
  {
   "cell_type": "code",
   "execution_count": 4,
   "metadata": {},
   "outputs": [
    {
     "name": "stdout",
     "output_type": "stream",
     "text": [
      "train_data: <class 'pandas.core.frame.DataFrame'>, test_data: <class 'pandas.core.frame.DataFrame'>\n",
      "train_data shape: (80, 15), test_data shape: (20, 15)\n"
     ]
    }
   ],
   "source": [
    "from petsard.adapter import SplitterAdapter\n",
    "\n",
    "# 測試資料分割 - 使用與 test.ipynb 相同的配置\n",
    "splitter_adpt = SplitterAdapter(config={\"num_samples\": 5, \"train_split_ratio\": 0.8})\n",
    "\n",
    "# 準備輸入資料\n",
    "splitter_input = {\"data\": data, \"metadata\": meta, \"exclude_index\": []}\n",
    "\n",
    "splitter_adpt.run(input=splitter_input)\n",
    "\n",
    "# 取得分割結果 - 使用第一次分割\n",
    "split_results = splitter_adpt.get_result()\n",
    "split_meta = splitter_adpt.get_metadata()\n",
    "\n",
    "# 取得第一次分割的訓練集和測試集 - 限制只能取第一個\n",
    "train_data = split_results[\"train\"]\n",
    "test_data = split_results[\"validation\"]\n",
    "\n",
    "print(f\"train_data: {type(train_data)}, test_data: {type(test_data)}\")\n",
    "print(f\"train_data shape: {train_data.shape}, test_data shape: {test_data.shape}\")"
   ]
  },
  {
   "cell_type": "code",
   "execution_count": 5,
   "metadata": {},
   "outputs": [
    {
     "name": "stdout",
     "output_type": "stream",
     "text": [
      "Custom split result keys: dict_keys(['train', 'validation'])\n"
     ]
    }
   ],
   "source": [
    "# 測試自定義資料分割\n",
    "splitter_adpt_custom = SplitterAdapter(\n",
    "    config={\n",
    "        \"method\": \"custom_data\",\n",
    "        \"filepath\": {\n",
    "            \"ori\": \"benchmark://adult-income_ori\",\n",
    "            \"control\": \"benchmark://adult-income_control\",\n",
    "        },\n",
    "    }\n",
    ")\n",
    "\n",
    "# 自定義資料不需要輸入資料\n",
    "splitter_adpt_custom.run(input={\"exclude_index\": []})\n",
    "\n",
    "custom_split_result = splitter_adpt_custom.get_result()\n",
    "print(f\"Custom split result keys: {custom_split_result.keys()}\")"
   ]
  },
  {
   "cell_type": "markdown",
   "metadata": {},
   "source": [
    "## PreprocessorAdapter 測試"
   ]
  },
  {
   "cell_type": "code",
   "execution_count": 6,
   "metadata": {},
   "outputs": [
    {
     "name": "stdout",
     "output_type": "stream",
     "text": [
      "default_preproc_data shape: (36, 15)\n"
     ]
    }
   ],
   "source": [
    "from petsard.adapter import PreprocessorAdapter\n",
    "\n",
    "# 測試預設預處理\n",
    "preproc_adpt = PreprocessorAdapter(config={\"method\": \"default\"})\n",
    "\n",
    "preproc_input = {\"data\": train_data, \"metadata\": meta}\n",
    "\n",
    "preproc_adpt.run(input=preproc_input)\n",
    "\n",
    "default_preproc_data = preproc_adpt.get_result()\n",
    "preproc_meta = preproc_adpt.get_metadata()\n",
    "\n",
    "print(f\"default_preproc_data shape: {default_preproc_data.shape}\")"
   ]
  },
  {
   "cell_type": "code",
   "execution_count": 7,
   "metadata": {},
   "outputs": [
    {
     "name": "stdout",
     "output_type": "stream",
     "text": [
      "missing_preproc_data shape: (80, 15)\n",
      "Age column after missing value processing:\n",
      "0    25\n",
      "1    38\n",
      "2    28\n",
      "3    44\n",
      "4    18\n",
      "5    29\n",
      "6    63\n",
      "7    24\n",
      "8    55\n",
      "9    65\n",
      "Name: age, dtype: int64\n"
     ]
    }
   ],
   "source": [
    "# 測試僅處理缺失值\n",
    "preproc_adpt_missing = PreprocessorAdapter(\n",
    "    config={\n",
    "        \"method\": \"custom\",\n",
    "        \"config\": {\n",
    "            \"missing\": {\n",
    "                \"age\": \"missing_mean\",\n",
    "            },\n",
    "        },\n",
    "        \"sequence\": [\"missing\"],\n",
    "    }\n",
    ")\n",
    "\n",
    "preproc_adpt_missing.run(input=preproc_input)\n",
    "\n",
    "missing_preproc_data = preproc_adpt_missing.get_result()\n",
    "\n",
    "print(f\"missing_preproc_data shape: {missing_preproc_data.shape}\")\n",
    "print(\"Age column after missing value processing:\")\n",
    "print(missing_preproc_data[\"age\"].head(10))"
   ]
  },
  {
   "cell_type": "code",
   "execution_count": 8,
   "metadata": {},
   "outputs": [
    {
     "name": "stdout",
     "output_type": "stream",
     "text": [
      "outlier_preproc_data shape: (36, 15)\n",
      "Age column after outlier processing:\n",
      "0    38\n",
      "1    18\n",
      "2    29\n",
      "3    24\n",
      "4    26\n",
      "5    58\n",
      "6    43\n",
      "7    34\n",
      "8    54\n",
      "9    23\n",
      "Name: age, dtype: int64\n"
     ]
    }
   ],
   "source": [
    "# 測試僅處理離群值\n",
    "preproc_adpt_outlier = PreprocessorAdapter(\n",
    "    config={\n",
    "        \"method\": \"custom\",\n",
    "        \"config\": {\n",
    "            \"outlier\": {\n",
    "                \"age\": \"outlier_zscore\",\n",
    "            },\n",
    "        },\n",
    "        \"sequence\": [\"outlier\"],\n",
    "    }\n",
    ")\n",
    "\n",
    "preproc_adpt_outlier.run(input=preproc_input)\n",
    "\n",
    "outlier_preproc_data = preproc_adpt_outlier.get_result()\n",
    "\n",
    "print(f\"outlier_preproc_data shape: {outlier_preproc_data.shape}\")\n",
    "print(\"Age column after outlier processing:\")\n",
    "print(outlier_preproc_data[\"age\"].head(10))"
   ]
  },
  {
   "cell_type": "code",
   "execution_count": 9,
   "metadata": {},
   "outputs": [
    {
     "name": "stdout",
     "output_type": "stream",
     "text": [
      "encoder_preproc_data shape: (80, 20)\n",
      "Workclass columns after encoding:\n",
      "   workclass_Federal-gov  workclass_Local-gov  workclass_Private  \\\n",
      "0                    0.0                  0.0                1.0   \n",
      "1                    0.0                  0.0                1.0   \n",
      "2                    0.0                  1.0                0.0   \n",
      "3                    0.0                  0.0                1.0   \n",
      "4                    0.0                  0.0                0.0   \n",
      "5                    0.0                  0.0                0.0   \n",
      "6                    0.0                  0.0                0.0   \n",
      "7                    0.0                  0.0                1.0   \n",
      "8                    0.0                  0.0                1.0   \n",
      "9                    0.0                  0.0                1.0   \n",
      "\n",
      "   workclass_Self-emp-inc  workclass_Self-emp-not-inc  workclass_State-gov  \n",
      "0                     0.0                         0.0                  0.0  \n",
      "1                     0.0                         0.0                  0.0  \n",
      "2                     0.0                         0.0                  0.0  \n",
      "3                     0.0                         0.0                  0.0  \n",
      "4                     0.0                         0.0                  0.0  \n",
      "5                     0.0                         0.0                  0.0  \n",
      "6                     0.0                         1.0                  0.0  \n",
      "7                     0.0                         0.0                  0.0  \n",
      "8                     0.0                         0.0                  0.0  \n",
      "9                     0.0                         0.0                  0.0  \n"
     ]
    }
   ],
   "source": [
    "# 測試僅編碼處理\n",
    "preproc_adpt_encoder = PreprocessorAdapter(\n",
    "    config={\n",
    "        \"method\": \"custom\",\n",
    "        \"config\": {\n",
    "            \"encoder\": {\n",
    "                \"workclass\": \"encoder_onehot\",\n",
    "            },\n",
    "        },\n",
    "        \"sequence\": [\"encoder\"],\n",
    "    }\n",
    ")\n",
    "\n",
    "preproc_adpt_encoder.run(input=preproc_input)\n",
    "\n",
    "encoder_preproc_data = preproc_adpt_encoder.get_result()\n",
    "\n",
    "print(f\"encoder_preproc_data shape: {encoder_preproc_data.shape}\")\n",
    "print(\"Workclass columns after encoding:\")\n",
    "workclass_cols = [\n",
    "    col for col in encoder_preproc_data.columns if col.startswith(\"workclass_\")\n",
    "]\n",
    "print(encoder_preproc_data[workclass_cols].head(10))"
   ]
  },
  {
   "cell_type": "code",
   "execution_count": 10,
   "metadata": {},
   "outputs": [
    {
     "name": "stdout",
     "output_type": "stream",
     "text": [
      "scaler_preproc_data shape: (80, 15)\n",
      "Age column after scaling:\n",
      "0    0.145455\n",
      "1    0.381818\n",
      "2    0.200000\n",
      "3    0.490909\n",
      "4    0.018182\n",
      "5    0.218182\n",
      "6    0.836364\n",
      "7    0.127273\n",
      "8    0.690909\n",
      "9    0.872727\n",
      "Name: age, dtype: float64\n"
     ]
    }
   ],
   "source": [
    "# 測試僅縮放處理\n",
    "preproc_adpt_scaler = PreprocessorAdapter(\n",
    "    config={\n",
    "        \"method\": \"custom\",\n",
    "        \"config\": {\n",
    "            \"scaler\": {\n",
    "                \"age\": \"scaler_minmax\",\n",
    "            },\n",
    "        },\n",
    "        \"sequence\": [\"scaler\"],\n",
    "    }\n",
    ")\n",
    "\n",
    "preproc_adpt_scaler.run(input=preproc_input)\n",
    "\n",
    "scaler_preproc_data = preproc_adpt_scaler.get_result()\n",
    "\n",
    "print(f\"scaler_preproc_data shape: {scaler_preproc_data.shape}\")\n",
    "print(\"Age column after scaling:\")\n",
    "print(scaler_preproc_data[\"age\"].head(10))"
   ]
  },
  {
   "cell_type": "markdown",
   "metadata": {},
   "source": [
    "## SynthesizerAdapter 測試"
   ]
  },
  {
   "cell_type": "code",
   "execution_count": 11,
   "metadata": {},
   "outputs": [
    {
     "name": "stdout",
     "output_type": "stream",
     "text": [
      "syn_data shape: (36, 15)\n",
      "syn_data type: <class 'pandas.core.frame.DataFrame'>\n"
     ]
    }
   ],
   "source": [
    "from petsard.adapter import SynthesizerAdapter\n",
    "\n",
    "# 測試合成器 - 使用預設方法\n",
    "synth_adpt = SynthesizerAdapter(config={\"method\": \"default\"})\n",
    "\n",
    "synth_input = {\"data\": default_preproc_data, \"metadata\": preproc_meta}\n",
    "\n",
    "synth_adpt.run(input=synth_input)\n",
    "\n",
    "syn_data = synth_adpt.get_result()\n",
    "\n",
    "print(f\"syn_data shape: {syn_data.shape}\")\n",
    "print(f\"syn_data type: {type(syn_data)}\")"
   ]
  },
  {
   "cell_type": "markdown",
   "metadata": {},
   "source": [
    "## PostprocessorAdapter 測試"
   ]
  },
  {
   "cell_type": "code",
   "execution_count": 12,
   "metadata": {},
   "outputs": [
    {
     "name": "stdout",
     "output_type": "stream",
     "text": [
      "postproc_data shape: (36, 15)\n",
      "postproc_data type: <class 'pandas.core.frame.DataFrame'>\n"
     ]
    }
   ],
   "source": [
    "from petsard.adapter import PostprocessorAdapter\n",
    "\n",
    "\n",
    "# 測試後處理\n",
    "postproc_adpt = PostprocessorAdapter(config={\"method\": \"default\"})\n",
    "\n",
    "postproc_input = {\n",
    "    \"data\": syn_data,\n",
    "    \"preprocessor\": preproc_adpt.processor,\n",
    "}\n",
    "\n",
    "postproc_adpt.run(input=postproc_input)\n",
    "\n",
    "postproc_data = postproc_adpt.get_result()\n",
    "\n",
    "print(f\"postproc_data shape: {postproc_data.shape}\")\n",
    "print(f\"postproc_data type: {type(postproc_data)}\")"
   ]
  },
  {
   "cell_type": "code",
   "execution_count": 13,
   "metadata": {},
   "outputs": [
    {
     "data": {
      "text/html": [
       "<div>\n",
       "<style scoped>\n",
       "    .dataframe tbody tr th:only-of-type {\n",
       "        vertical-align: middle;\n",
       "    }\n",
       "\n",
       "    .dataframe tbody tr th {\n",
       "        vertical-align: top;\n",
       "    }\n",
       "\n",
       "    .dataframe thead th {\n",
       "        text-align: right;\n",
       "    }\n",
       "</style>\n",
       "<table border=\"1\" class=\"dataframe\">\n",
       "  <thead>\n",
       "    <tr style=\"text-align: right;\">\n",
       "      <th></th>\n",
       "      <th>age</th>\n",
       "      <th>workclass</th>\n",
       "      <th>fnlwgt</th>\n",
       "      <th>education</th>\n",
       "      <th>educational-num</th>\n",
       "      <th>marital-status</th>\n",
       "      <th>occupation</th>\n",
       "      <th>relationship</th>\n",
       "      <th>race</th>\n",
       "      <th>gender</th>\n",
       "      <th>capital-gain</th>\n",
       "      <th>capital-loss</th>\n",
       "      <th>hours-per-week</th>\n",
       "      <th>native-country</th>\n",
       "      <th>income</th>\n",
       "    </tr>\n",
       "  </thead>\n",
       "  <tbody>\n",
       "    <tr>\n",
       "      <th>0</th>\n",
       "      <td>0.913254</td>\n",
       "      <td>0.673565</td>\n",
       "      <td>-1.024775</td>\n",
       "      <td>0.466603</td>\n",
       "      <td>-0.264644</td>\n",
       "      <td>0.073394</td>\n",
       "      <td>0.197632</td>\n",
       "      <td>0.337092</td>\n",
       "      <td>0.499877</td>\n",
       "      <td>0.185104</td>\n",
       "      <td>-0.217504</td>\n",
       "      <td>-0.159976</td>\n",
       "      <td>0.432721</td>\n",
       "      <td>0.358330</td>\n",
       "      <td>0.602581</td>\n",
       "    </tr>\n",
       "    <tr>\n",
       "      <th>1</th>\n",
       "      <td>-0.725734</td>\n",
       "      <td>0.672424</td>\n",
       "      <td>-0.279136</td>\n",
       "      <td>0.029068</td>\n",
       "      <td>-0.201147</td>\n",
       "      <td>0.974733</td>\n",
       "      <td>0.879128</td>\n",
       "      <td>0.641729</td>\n",
       "      <td>0.576991</td>\n",
       "      <td>0.120438</td>\n",
       "      <td>-0.217504</td>\n",
       "      <td>-0.159976</td>\n",
       "      <td>-0.294678</td>\n",
       "      <td>0.715396</td>\n",
       "      <td>0.658453</td>\n",
       "    </tr>\n",
       "    <tr>\n",
       "      <th>2</th>\n",
       "      <td>-0.728964</td>\n",
       "      <td>0.416220</td>\n",
       "      <td>-0.783290</td>\n",
       "      <td>0.302730</td>\n",
       "      <td>-0.284395</td>\n",
       "      <td>0.261122</td>\n",
       "      <td>0.533611</td>\n",
       "      <td>0.966404</td>\n",
       "      <td>0.426766</td>\n",
       "      <td>0.852466</td>\n",
       "      <td>-0.217504</td>\n",
       "      <td>-0.159976</td>\n",
       "      <td>0.090753</td>\n",
       "      <td>0.554545</td>\n",
       "      <td>0.489115</td>\n",
       "    </tr>\n",
       "    <tr>\n",
       "      <th>3</th>\n",
       "      <td>-0.449832</td>\n",
       "      <td>0.164328</td>\n",
       "      <td>-0.087526</td>\n",
       "      <td>0.061820</td>\n",
       "      <td>0.036762</td>\n",
       "      <td>0.865627</td>\n",
       "      <td>0.731836</td>\n",
       "      <td>0.547222</td>\n",
       "      <td>0.715001</td>\n",
       "      <td>0.674690</td>\n",
       "      <td>-0.217504</td>\n",
       "      <td>-0.159976</td>\n",
       "      <td>-0.433621</td>\n",
       "      <td>0.759178</td>\n",
       "      <td>0.580296</td>\n",
       "    </tr>\n",
       "    <tr>\n",
       "      <th>4</th>\n",
       "      <td>-0.417914</td>\n",
       "      <td>0.445507</td>\n",
       "      <td>-1.094346</td>\n",
       "      <td>0.352991</td>\n",
       "      <td>-0.128099</td>\n",
       "      <td>0.793666</td>\n",
       "      <td>0.702938</td>\n",
       "      <td>0.982634</td>\n",
       "      <td>0.592641</td>\n",
       "      <td>0.780008</td>\n",
       "      <td>-0.217504</td>\n",
       "      <td>-0.159976</td>\n",
       "      <td>0.828925</td>\n",
       "      <td>0.258612</td>\n",
       "      <td>0.822281</td>\n",
       "    </tr>\n",
       "    <tr>\n",
       "      <th>5</th>\n",
       "      <td>-0.771809</td>\n",
       "      <td>0.476712</td>\n",
       "      <td>1.996355</td>\n",
       "      <td>0.499627</td>\n",
       "      <td>-0.045113</td>\n",
       "      <td>0.700339</td>\n",
       "      <td>0.170444</td>\n",
       "      <td>0.528623</td>\n",
       "      <td>0.174414</td>\n",
       "      <td>0.967114</td>\n",
       "      <td>-0.217504</td>\n",
       "      <td>-0.159976</td>\n",
       "      <td>-0.558408</td>\n",
       "      <td>0.588573</td>\n",
       "      <td>0.661112</td>\n",
       "    </tr>\n",
       "  </tbody>\n",
       "</table>\n",
       "</div>"
      ],
      "text/plain": [
       "        age  workclass    fnlwgt  education  educational-num  marital-status  \\\n",
       "0  0.913254   0.673565 -1.024775   0.466603        -0.264644        0.073394   \n",
       "1 -0.725734   0.672424 -0.279136   0.029068        -0.201147        0.974733   \n",
       "2 -0.728964   0.416220 -0.783290   0.302730        -0.284395        0.261122   \n",
       "3 -0.449832   0.164328 -0.087526   0.061820         0.036762        0.865627   \n",
       "4 -0.417914   0.445507 -1.094346   0.352991        -0.128099        0.793666   \n",
       "5 -0.771809   0.476712  1.996355   0.499627        -0.045113        0.700339   \n",
       "\n",
       "   occupation  relationship      race    gender  capital-gain  capital-loss  \\\n",
       "0    0.197632      0.337092  0.499877  0.185104     -0.217504     -0.159976   \n",
       "1    0.879128      0.641729  0.576991  0.120438     -0.217504     -0.159976   \n",
       "2    0.533611      0.966404  0.426766  0.852466     -0.217504     -0.159976   \n",
       "3    0.731836      0.547222  0.715001  0.674690     -0.217504     -0.159976   \n",
       "4    0.702938      0.982634  0.592641  0.780008     -0.217504     -0.159976   \n",
       "5    0.170444      0.528623  0.174414  0.967114     -0.217504     -0.159976   \n",
       "\n",
       "   hours-per-week  native-country    income  \n",
       "0        0.432721        0.358330  0.602581  \n",
       "1       -0.294678        0.715396  0.658453  \n",
       "2        0.090753        0.554545  0.489115  \n",
       "3       -0.433621        0.759178  0.580296  \n",
       "4        0.828925        0.258612  0.822281  \n",
       "5       -0.558408        0.588573  0.661112  "
      ]
     },
     "execution_count": 13,
     "metadata": {},
     "output_type": "execute_result"
    }
   ],
   "source": [
    "syn_data.head(6)"
   ]
  },
  {
   "cell_type": "code",
   "execution_count": 14,
   "metadata": {},
   "outputs": [
    {
     "data": {
      "text/html": [
       "<div>\n",
       "<style scoped>\n",
       "    .dataframe tbody tr th:only-of-type {\n",
       "        vertical-align: middle;\n",
       "    }\n",
       "\n",
       "    .dataframe tbody tr th {\n",
       "        vertical-align: top;\n",
       "    }\n",
       "\n",
       "    .dataframe thead th {\n",
       "        text-align: right;\n",
       "    }\n",
       "</style>\n",
       "<table border=\"1\" class=\"dataframe\">\n",
       "  <thead>\n",
       "    <tr style=\"text-align: right;\">\n",
       "      <th></th>\n",
       "      <th>age</th>\n",
       "      <th>workclass</th>\n",
       "      <th>fnlwgt</th>\n",
       "      <th>education</th>\n",
       "      <th>educational-num</th>\n",
       "      <th>marital-status</th>\n",
       "      <th>occupation</th>\n",
       "      <th>relationship</th>\n",
       "      <th>race</th>\n",
       "      <th>gender</th>\n",
       "      <th>capital-gain</th>\n",
       "      <th>capital-loss</th>\n",
       "      <th>hours-per-week</th>\n",
       "      <th>native-country</th>\n",
       "      <th>income</th>\n",
       "    </tr>\n",
       "  </thead>\n",
       "  <tbody>\n",
       "    <tr>\n",
       "      <th>0</th>\n",
       "      <td>50</td>\n",
       "      <td>Self-emp-inc</td>\n",
       "      <td>90828</td>\n",
       "      <td>Some-college</td>\n",
       "      <td>9</td>\n",
       "      <td>Married-civ-spouse</td>\n",
       "      <td>Machine-op-inspct</td>\n",
       "      <td>Husband</td>\n",
       "      <td>White</td>\n",
       "      <td>Male</td>\n",
       "      <td>0</td>\n",
       "      <td>0</td>\n",
       "      <td>45</td>\n",
       "      <td>United-States</td>\n",
       "      <td>&lt;=50K</td>\n",
       "    </tr>\n",
       "    <tr>\n",
       "      <th>1</th>\n",
       "      <td>27</td>\n",
       "      <td>Self-emp-inc</td>\n",
       "      <td>172278</td>\n",
       "      <td>HS-grad</td>\n",
       "      <td>9</td>\n",
       "      <td>Widowed</td>\n",
       "      <td>Handlers-cleaners</td>\n",
       "      <td>Not-in-family</td>\n",
       "      <td>White</td>\n",
       "      <td>Male</td>\n",
       "      <td>0</td>\n",
       "      <td>0</td>\n",
       "      <td>36</td>\n",
       "      <td>United-States</td>\n",
       "      <td>&lt;=50K</td>\n",
       "    </tr>\n",
       "    <tr>\n",
       "      <th>2</th>\n",
       "      <td>27</td>\n",
       "      <td>Private</td>\n",
       "      <td>117206</td>\n",
       "      <td>HS-grad</td>\n",
       "      <td>9</td>\n",
       "      <td>Married-civ-spouse</td>\n",
       "      <td>Adm-clerical</td>\n",
       "      <td>Wife</td>\n",
       "      <td>White</td>\n",
       "      <td>Female</td>\n",
       "      <td>0</td>\n",
       "      <td>0</td>\n",
       "      <td>41</td>\n",
       "      <td>United-States</td>\n",
       "      <td>&lt;=50K</td>\n",
       "    </tr>\n",
       "    <tr>\n",
       "      <th>3</th>\n",
       "      <td>31</td>\n",
       "      <td>Private</td>\n",
       "      <td>193208</td>\n",
       "      <td>HS-grad</td>\n",
       "      <td>9</td>\n",
       "      <td>Divorced</td>\n",
       "      <td>Sales</td>\n",
       "      <td>Not-in-family</td>\n",
       "      <td>White</td>\n",
       "      <td>Male</td>\n",
       "      <td>0</td>\n",
       "      <td>0</td>\n",
       "      <td>34</td>\n",
       "      <td>United-States</td>\n",
       "      <td>&lt;=50K</td>\n",
       "    </tr>\n",
       "    <tr>\n",
       "      <th>4</th>\n",
       "      <td>31</td>\n",
       "      <td>Private</td>\n",
       "      <td>83228</td>\n",
       "      <td>Some-college</td>\n",
       "      <td>9</td>\n",
       "      <td>Never-married</td>\n",
       "      <td>Prof-specialty</td>\n",
       "      <td>Wife</td>\n",
       "      <td>White</td>\n",
       "      <td>Female</td>\n",
       "      <td>0</td>\n",
       "      <td>0</td>\n",
       "      <td>49</td>\n",
       "      <td>United-States</td>\n",
       "      <td>&gt;50K</td>\n",
       "    </tr>\n",
       "    <tr>\n",
       "      <th>5</th>\n",
       "      <td>26</td>\n",
       "      <td>Private</td>\n",
       "      <td>420842</td>\n",
       "      <td>Some-college</td>\n",
       "      <td>9</td>\n",
       "      <td>Never-married</td>\n",
       "      <td>Machine-op-inspct</td>\n",
       "      <td>Not-in-family</td>\n",
       "      <td>White</td>\n",
       "      <td>Female</td>\n",
       "      <td>0</td>\n",
       "      <td>0</td>\n",
       "      <td>33</td>\n",
       "      <td>United-States</td>\n",
       "      <td>&lt;=50K</td>\n",
       "    </tr>\n",
       "  </tbody>\n",
       "</table>\n",
       "</div>"
      ],
      "text/plain": [
       "   age     workclass  fnlwgt     education  educational-num  \\\n",
       "0   50  Self-emp-inc   90828  Some-college                9   \n",
       "1   27  Self-emp-inc  172278       HS-grad                9   \n",
       "2   27       Private  117206       HS-grad                9   \n",
       "3   31       Private  193208       HS-grad                9   \n",
       "4   31       Private   83228  Some-college                9   \n",
       "5   26       Private  420842  Some-college                9   \n",
       "\n",
       "       marital-status         occupation   relationship   race  gender  \\\n",
       "0  Married-civ-spouse  Machine-op-inspct        Husband  White    Male   \n",
       "1             Widowed  Handlers-cleaners  Not-in-family  White    Male   \n",
       "2  Married-civ-spouse       Adm-clerical           Wife  White  Female   \n",
       "3            Divorced              Sales  Not-in-family  White    Male   \n",
       "4       Never-married     Prof-specialty           Wife  White  Female   \n",
       "5       Never-married  Machine-op-inspct  Not-in-family  White  Female   \n",
       "\n",
       "   capital-gain  capital-loss  hours-per-week native-country income  \n",
       "0             0             0              45  United-States  <=50K  \n",
       "1             0             0              36  United-States  <=50K  \n",
       "2             0             0              41  United-States  <=50K  \n",
       "3             0             0              34  United-States  <=50K  \n",
       "4             0             0              49  United-States   >50K  \n",
       "5             0             0              33  United-States  <=50K  "
      ]
     },
     "execution_count": 14,
     "metadata": {},
     "output_type": "execute_result"
    }
   ],
   "source": [
    "postproc_data.head(6)"
   ]
  },
  {
   "cell_type": "markdown",
   "metadata": {},
   "source": [
    "## ConstrainerAdapter 測試"
   ]
  },
  {
   "cell_type": "code",
   "execution_count": 15,
   "metadata": {},
   "outputs": [
    {
     "name": "stdout",
     "output_type": "stream",
     "text": [
      "cnst_data shape: (36, 15)\n",
      "cnst_data type: <class 'pandas.core.frame.DataFrame'>\n"
     ]
    }
   ],
   "source": [
    "from petsard.adapter import ConstrainerAdapter\n",
    "\n",
    "\n",
    "# 測試約束器 - 空配置\n",
    "constr_adpt = ConstrainerAdapter(config={})\n",
    "\n",
    "constr_input = {\"data\": postproc_data}\n",
    "\n",
    "constr_adpt.run(input=constr_input)\n",
    "\n",
    "cnst_data = constr_adpt.get_result()\n",
    "\n",
    "print(f\"cnst_data shape: {cnst_data.shape}\")\n",
    "print(f\"cnst_data type: {type(cnst_data)}\")"
   ]
  },
  {
   "cell_type": "code",
   "execution_count": 16,
   "metadata": {},
   "outputs": [
    {
     "name": "stdout",
     "output_type": "stream",
     "text": [
      "satisfy_data shape: (36, 15)\n"
     ]
    }
   ],
   "source": [
    "# 測試約束器 - 使用 resample_until_satisfy\n",
    "satisfy_data = constr_adpt.constrainer.resample_until_satisfy(\n",
    "    data=postproc_data,\n",
    "    target_rows=postproc_data.shape[0],\n",
    "    synthesizer=synth_adpt.synthesizer,\n",
    "    max_trials=300,\n",
    "    sampling_ratio=10.0,\n",
    "    verbose_step=10,\n",
    ")\n",
    "\n",
    "print(f\"satisfy_data shape: {satisfy_data.shape}\")"
   ]
  },
  {
   "cell_type": "markdown",
   "metadata": {},
   "source": [
    "## EvaluatorOperator 測試"
   ]
  },
  {
   "cell_type": "code",
   "execution_count": 17,
   "metadata": {},
   "outputs": [
    {
     "name": "stdout",
     "output_type": "stream",
     "text": [
      "Generating report ...\n",
      "\n",
      "(1/2) Evaluating Column Shapes: |██████████| 15/15 [00:00<00:00, 2291.05it/s]|\n",
      "Column Shapes Score: 80.85%\n",
      "\n",
      "(2/2) Evaluating Column Pair Trends: |          | 0/105 [00:00<?, ?it/s]|"
     ]
    },
    {
     "name": "stdout",
     "output_type": "stream",
     "text": [
      "(2/2) Evaluating Column Pair Trends: |██████████| 105/105 [00:00<00:00, 959.06it/s]|\n",
      "Column Pair Trends Score: 47.66%\n",
      "\n",
      "Overall Score (Average): 64.26%\n",
      "\n",
      "Evaluation result keys: dict_keys(['global', 'columnwise', 'pairwise'])\n",
      "\n",
      "Global evaluation results:\n",
      "        Score  Column Shapes  Column Pair Trends\n",
      "result   0.64           0.81                0.48\n",
      "\n",
      "Columnwise evaluation results:\n",
      "          Property        Metric     Score\n",
      "age  Column Shapes  KSComplement  0.804167\n",
      "\n",
      "Pairwise evaluation results:\n",
      "                         Property                 Metric  Score  \\\n",
      "age workclass  Column Pair Trends  ContingencySimilarity  0.475   \n",
      "\n",
      "               Real Correlation  Synthetic Correlation Error  \n",
      "age workclass               NaN                    NaN  None  \n"
     ]
    }
   ],
   "source": [
    "from petsard.adapter import EvaluatorAdapter\n",
    "\n",
    "# 測試評估器 - 預設方法\n",
    "eval_adpt = EvaluatorAdapter(config={\"method\": \"default\"})\n",
    "\n",
    "eval_input = {\n",
    "    \"data\": {\n",
    "        \"ori\": train_data,\n",
    "        \"control\": test_data,\n",
    "        \"syn\": satisfy_data,\n",
    "    },\n",
    "    \"schema\": meta,\n",
    "}\n",
    "\n",
    "eval_adpt.run(input=eval_input)\n",
    "\n",
    "eval_result = eval_adpt.get_result()\n",
    "\n",
    "print(f\"Evaluation result keys: {eval_result.keys()}\")\n",
    "print(\"\\nGlobal evaluation results:\")\n",
    "print(eval_result[\"global\"].head(1))\n",
    "print(\"\\nColumnwise evaluation results:\")\n",
    "print(eval_result[\"columnwise\"].head(1))\n",
    "print(\"\\nPairwise evaluation results:\")\n",
    "print(eval_result[\"pairwise\"].head(1))"
   ]
  },
  {
   "cell_type": "code",
   "execution_count": 18,
   "metadata": {},
   "outputs": [
    {
     "name": "stderr",
     "output_type": "stream",
     "text": [
      "The cardinality of the column workclass is too high. Ori: Over row numbers 80, column cardinality 7. Syn: Over row numbers 36, column cardinality 4. The column workclass is removed.\n",
      "The cardinality of the column education is too high. Ori: Over row numbers 80, column cardinality 11. Syn: Over row numbers 36, column cardinality 3. The column education is removed.\n",
      "The cardinality of the column marital-status is too high. Ori: Over row numbers 80, column cardinality 5. Syn: Over row numbers 36, column cardinality 5. The column marital-status is removed.\n",
      "The cardinality of the column occupation is too high. Ori: Over row numbers 80, column cardinality 15. Syn: Over row numbers 36, column cardinality 13. The column occupation is removed.\n",
      "The cardinality of the column relationship is too high. Ori: Over row numbers 80, column cardinality 5. Syn: Over row numbers 36, column cardinality 5. The column relationship is removed.\n"
     ]
    },
    {
     "name": "stdout",
     "output_type": "stream",
     "text": [
      "   ori_mean  ori_std  syn_mean  syn_std  diff\n",
      "0      0.82     0.02      0.81     0.02 -0.01\n"
     ]
    }
   ],
   "source": [
    "# 測試評估器 - MLUtility Classification\n",
    "eval_adpt_mlutility = EvaluatorAdapter(\n",
    "    config={\n",
    "        \"method\": \"mlutility-classification\",\n",
    "        \"target\": \"income\",\n",
    "    }\n",
    ")\n",
    "\n",
    "eval_input_anon = {\n",
    "    \"data\": {\n",
    "        \"ori\": train_data,\n",
    "        \"control\": test_data,\n",
    "        \"syn\": satisfy_data,\n",
    "    },\n",
    "    \"schema\": meta,\n",
    "}\n",
    "\n",
    "eval_adpt_mlutility.run(input=eval_input_anon)\n",
    "\n",
    "eval_result_mlutility = eval_adpt_mlutility.get_result()\n",
    "\n",
    "print(eval_result_mlutility[\"global\"].head(1))"
   ]
  },
  {
   "cell_type": "markdown",
   "metadata": {},
   "source": [
    "## DescriberOperator 測試"
   ]
  },
  {
   "cell_type": "code",
   "execution_count": 19,
   "metadata": {},
   "outputs": [
    {
     "name": "stdout",
     "output_type": "stream",
     "text": [
      "Description result type: <class 'dict'>\n",
      "Description result keys: dict_keys(['global', 'columnwise', 'pairwise'])\n",
      "   row_count  col_count  na_count\n",
      "0         36         15         0\n",
      "      mean  median    std   min   max  kurtosis  skew    q1    q3  na_count  \\\n",
      "age  36.36    30.0  16.03  19.0  68.0     -0.73  0.78  24.5  48.5         0   \n",
      "\n",
      "    nunique  \n",
      "age    <NA>  \n",
      "  column1 column2  corr\n",
      "0     age     age   1.0\n"
     ]
    }
   ],
   "source": [
    "from petsard.adapter import DescriberAdapter\n",
    "\n",
    "# 測試描述器\n",
    "desc_op = DescriberAdapter(config={\"method\": \"default\"})\n",
    "\n",
    "desc_input = {\"data\": {\"data\": satisfy_data}}\n",
    "\n",
    "desc_op.run(input=desc_input)\n",
    "\n",
    "desc_result = desc_op.get_result()\n",
    "\n",
    "print(f\"Description result type: {type(desc_result)}\")\n",
    "if isinstance(desc_result, dict):\n",
    "    print(f\"Description result keys: {desc_result.keys()}\")\n",
    "\n",
    "    print(desc_result[\"global\"].head(1))\n",
    "    print(desc_result[\"columnwise\"].head(1))\n",
    "    print(desc_result[\"pairwise\"].head(1))"
   ]
  },
  {
   "cell_type": "markdown",
   "metadata": {},
   "source": [
    "## ReporterOperator 測試"
   ]
  },
  {
   "cell_type": "code",
   "execution_count": 20,
   "metadata": {},
   "outputs": [
    {
     "name": "stdout",
     "output_type": "stream",
     "text": [
      "Save data report result: {'Postprocessor[exp1]':     age     workclass  fnlwgt     education  educational-num  \\\n",
      "0    38       Private   81181       HS-grad                9   \n",
      "1    67       Private  118677  Some-college                9   \n",
      "2    26  Self-emp-inc  130242       HS-grad                9   \n",
      "3    23       Private  151466  Some-college               10   \n",
      "4    25       Private   71763       HS-grad                9   \n",
      "5    40       Private  122953       HS-grad                9   \n",
      "6    68       Private  201689  Some-college                9   \n",
      "7    65       Private  231029       HS-grad                9   \n",
      "8    35       Private  294721       HS-grad               10   \n",
      "9    29       Private  155757       HS-grad                9   \n",
      "10   22             ?   79720       HS-grad                9   \n",
      "11   45             ?  163877       HS-grad                9   \n",
      "12   50  Self-emp-inc   90828  Some-college                9   \n",
      "13   31       Private   83228  Some-college                9   \n",
      "14   21   Federal-gov  332363       HS-grad                9   \n",
      "15   58       Private   71313       HS-grad                9   \n",
      "16   50       Private  191312       HS-grad                9   \n",
      "17   26       Private  420842  Some-college                9   \n",
      "18   19             ?  151563  Some-college               10   \n",
      "19   27  Self-emp-inc  172278       HS-grad                9   \n",
      "20   50       Private  101342  Some-college                9   \n",
      "21   27       Private  117206       HS-grad                9   \n",
      "22   28   Federal-gov  217368       HS-grad                9   \n",
      "23   31       Private  193208       HS-grad                9   \n",
      "24   19       Private  101409       HS-grad               10   \n",
      "25   47  Self-emp-inc  282499     Assoc-voc                9   \n",
      "26   26       Private  244624  Some-college               10   \n",
      "27   64  Self-emp-inc  321765  Some-college                9   \n",
      "28   48       Private   99363  Some-college               10   \n",
      "29   20             ?  207282       HS-grad                9   \n",
      "30   66       Private  100306       HS-grad                9   \n",
      "31   31       Private   74785  Some-college                9   \n",
      "32   21  Self-emp-inc   92764       HS-grad               10   \n",
      "33   27             ?  257700  Some-college                9   \n",
      "34   19             ?   76259  Some-college               10   \n",
      "35   20       Private  132345       HS-grad               10   \n",
      "\n",
      "        marital-status         occupation   relationship   race  gender  \\\n",
      "0   Married-civ-spouse   Transport-moving  Not-in-family  White  Female   \n",
      "1   Married-civ-spouse  Handlers-cleaners        Husband  White    Male   \n",
      "2             Divorced       Craft-repair      Own-child  White    Male   \n",
      "3        Never-married  Machine-op-inspct      Own-child  White  Female   \n",
      "4              Widowed       Adm-clerical        Husband  White  Female   \n",
      "5            Separated  Machine-op-inspct  Not-in-family  White  Female   \n",
      "6        Never-married  Machine-op-inspct        Husband  White    Male   \n",
      "7   Married-civ-spouse   Transport-moving      Own-child  White    Male   \n",
      "8            Separated   Transport-moving  Not-in-family  White    Male   \n",
      "9   Married-civ-spouse       Adm-clerical  Not-in-family  White    Male   \n",
      "10  Married-civ-spouse       Adm-clerical  Not-in-family  Black  Female   \n",
      "11       Never-married                  ?      Unmarried  White  Female   \n",
      "12  Married-civ-spouse  Machine-op-inspct        Husband  White    Male   \n",
      "13       Never-married     Prof-specialty           Wife  White  Female   \n",
      "14           Separated       Armed-Forces  Not-in-family  White    Male   \n",
      "15             Widowed    Farming-fishing      Own-child  White    Male   \n",
      "16  Married-civ-spouse  Handlers-cleaners  Not-in-family  White    Male   \n",
      "17       Never-married  Machine-op-inspct  Not-in-family  White  Female   \n",
      "18       Never-married       Adm-clerical      Unmarried  White  Female   \n",
      "19             Widowed  Handlers-cleaners  Not-in-family  White    Male   \n",
      "20       Never-married       Adm-clerical           Wife  White  Female   \n",
      "21  Married-civ-spouse       Adm-clerical           Wife  White  Female   \n",
      "22       Never-married  Handlers-cleaners  Not-in-family  White    Male   \n",
      "23            Divorced              Sales  Not-in-family  White    Male   \n",
      "24  Married-civ-spouse      Other-service      Own-child  White    Male   \n",
      "25  Married-civ-spouse    Farming-fishing        Husband  White  Female   \n",
      "26       Never-married    Protective-serv        Husband  Black    Male   \n",
      "27       Never-married  Machine-op-inspct        Husband  White    Male   \n",
      "28  Married-civ-spouse  Handlers-cleaners        Husband  White  Female   \n",
      "29       Never-married       Adm-clerical        Husband  White  Female   \n",
      "30       Never-married       Adm-clerical  Not-in-family  White  Female   \n",
      "31  Married-civ-spouse       Adm-clerical      Own-child  White    Male   \n",
      "32  Married-civ-spouse  Machine-op-inspct        Husband  White    Male   \n",
      "33       Never-married       Adm-clerical           Wife  White  Female   \n",
      "34       Never-married                  ?      Unmarried  White    Male   \n",
      "35  Married-civ-spouse    Exec-managerial           Wife  White    Male   \n",
      "\n",
      "    capital-gain  capital-loss  hours-per-week      native-country income  \n",
      "0              0             0              34       United-States  <=50K  \n",
      "1              0             0              35  Dominican-Republic  <=50K  \n",
      "2              0             0              48       United-States  <=50K  \n",
      "3              0             0              46       United-States  <=50K  \n",
      "4              0             0              46       United-States  <=50K  \n",
      "5              0             0              35       United-States  <=50K  \n",
      "6              0             0              41       United-States  <=50K  \n",
      "7              0             0              45       United-States   >50K  \n",
      "8              0             0              38       United-States  <=50K  \n",
      "9              0             0              49       United-States  <=50K  \n",
      "10             0             0              49       United-States  <=50K  \n",
      "11             0             0              49       United-States  <=50K  \n",
      "12             0             0              45       United-States  <=50K  \n",
      "13             0             0              49       United-States   >50K  \n",
      "14             0             0              34       United-States  <=50K  \n",
      "15             0             0              49       United-States  <=50K  \n",
      "16             0             0              48  Dominican-Republic  <=50K  \n",
      "17             0             0              33       United-States  <=50K  \n",
      "18             0             0              42       United-States  <=50K  \n",
      "19             0             0              36       United-States  <=50K  \n",
      "20             0             0              44       United-States  <=50K  \n",
      "21             0             0              41       United-States  <=50K  \n",
      "22             0             0              35       United-States  <=50K  \n",
      "23             0             0              34       United-States  <=50K  \n",
      "24             0             0              40       United-States  <=50K  \n",
      "25             0             0              37       United-States  <=50K  \n",
      "26             0             0              45       United-States  <=50K  \n",
      "27             0             0              37       United-States  <=50K  \n",
      "28             0             0              43       United-States  <=50K  \n",
      "29             0             0              30       United-States  <=50K  \n",
      "30             0             0              48       United-States  <=50K  \n",
      "31             0             0              47       United-States  <=50K  \n",
      "32             0             0              42       United-States  <=50K  \n",
      "33             0             0              46       United-States  <=50K  \n",
      "34             0             0              48       United-States  <=50K  \n",
      "35             0             0              30       United-States  <=50K  }\n"
     ]
    }
   ],
   "source": [
    "from petsard.adapter import ReporterAdapter\n",
    "\n",
    "# 測試報告器 - Save Data\n",
    "reporter_op_data = ReporterAdapter(\n",
    "    config={\n",
    "        \"method\": \"save_data\",\n",
    "        \"source\": \"Postprocessor\",\n",
    "    }\n",
    ")\n",
    "\n",
    "report_data_input = {\"data\": {(\"Postprocessor\", \"exp1\"): satisfy_data}}\n",
    "\n",
    "reporter_op_data.run(input=report_data_input)\n",
    "\n",
    "report_result_data = reporter_op_data.get_result()\n",
    "\n",
    "print(f\"Save data report result: {report_result_data}\")"
   ]
  },
  {
   "cell_type": "code",
   "execution_count": 21,
   "metadata": {},
   "outputs": [
    {
     "name": "stdout",
     "output_type": "stream",
     "text": [
      "Save report result: {'[global]':       full_expt_name Evaluator  eval1_row_count  eval1_col_count  \\\n",
      "0  Evaluator[global]  [global]               36               15   \n",
      "\n",
      "   eval1_na_count  \n",
      "0               0  }\n"
     ]
    }
   ],
   "source": [
    "# 測試報告器 - Save Report\n",
    "reporter_op_report = ReporterAdapter(\n",
    "    config={\n",
    "        \"method\": \"save_report\",\n",
    "        \"granularity\": \"global\",\n",
    "    }\n",
    ")\n",
    "\n",
    "report_report_input = {\n",
    "    \"data\": {\n",
    "        (\"Evaluator\", \"eval1_[global]\"): desc_result[\"global\"],\n",
    "    }\n",
    "}\n",
    "\n",
    "reporter_op_report.run(input=report_report_input)\n",
    "\n",
    "report_result_report = reporter_op_report.get_result()\n",
    "\n",
    "print(f\"Save report result: {report_result_report}\")"
   ]
  },
  {
   "cell_type": "markdown",
   "metadata": {},
   "source": [
    "## 總結\n",
    "\n",
    "這個 notebook 展示了如何使用各個 Operator 類別來執行 PETsARD 的功能，按照 test.ipynb 的設定進行調整：\n",
    "\n",
    "1. **LoaderOperator**: 載入資料和元資料\n",
    "2. **SplitterOperator**: 分割資料為訓練集和測試集\n",
    "3. **PreprocessorOperator**: 資料預處理（缺失值、離群值、編碼、縮放）\n",
    "4. **SynthesizerOperator**: 合成資料\n",
    "5. **PostprocessorOperator**: 後處理合成資料\n",
    "6. **ConstrainerOperator**: 應用資料約束\n",
    "7. **EvaluatorOperator**: 評估合成資料品質\n",
    "8. **DescriberOperator**: 描述資料特性\n",
    "9. **ReporterOperator**: 生成報告\n",
    "\n",
    "每個 Operator 都遵循相同的模式：\n",
    "- 使用配置初始化\n",
    "- 準備輸入資料\n",
    "- 執行 `run()` 方法\n",
    "- 使用 `get_result()` 取得結果\n",
    "- 使用 `get_metadata()` 取得元資料（如果適用）\n",
    "\n",
    "這種設計讓每個模組都可以獨立測試，不需要依賴 Status 物件。"
   ]
  }
 ],
 "metadata": {
  "kernelspec": {
   "display_name": "petsard",
   "language": "python",
   "name": "python3"
  },
  "language_info": {
   "codemirror_mode": {
    "name": "ipython",
    "version": 3
   },
   "file_extension": ".py",
   "mimetype": "text/x-python",
   "name": "python",
   "nbconvert_exporter": "python",
   "pygments_lexer": "ipython3",
   "version": "3.11.12"
  }
 },
 "nbformat": 4,
 "nbformat_minor": 4
}
