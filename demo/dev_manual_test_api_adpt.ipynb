{
 "cells": [
  {
   "cell_type": "markdown",
   "metadata": {},
   "source": [
    "# PETsARD Adapter 測試\n",
    "\n",
    "這個 notebook 用來測試各個 Adapter 的功能，按照 test.ipynb 的設定進行調整。"
   ]
  },
  {
   "cell_type": "markdown",
   "metadata": {},
   "source": [
    "## LoaderAdapter 測試"
   ]
  },
  {
   "cell_type": "code",
   "execution_count": 22,
   "metadata": {},
   "outputs": [
    {
     "name": "stdout",
     "output_type": "stream",
     "text": [
      "data: <class 'pandas.core.frame.DataFrame'>, meta: <class 'petsard.metadater.metadata.Schema'>\n",
      "data shape: (48842, 15)\n",
      "Schema id: adult-income\n",
      "Schema name: adult-income.csv\n"
     ]
    }
   ],
   "source": [
    "from petsard.adapter import LoaderAdapter\n",
    "\n",
    "# 測試 benchmark 資料載入\n",
    "loader_adpt = LoaderAdapter(config={\"filepath\": \"benchmark://adult-income\"})\n",
    "\n",
    "# 執行載入\n",
    "loader_adpt.run(input={})\n",
    "\n",
    "# 取得結果\n",
    "data = loader_adpt.get_result()\n",
    "meta = loader_adpt.get_metadata()\n",
    "\n",
    "print(f\"data: {type(data)}, meta: {type(meta)}\")\n",
    "print(f\"data shape: {data.shape}\")\n",
    "print(f\"Schema id: {meta.id}\")\n",
    "print(f\"Schema name: {meta.name}\")"
   ]
  },
  {
   "cell_type": "code",
   "execution_count": 23,
   "metadata": {},
   "outputs": [
    {
     "name": "stdout",
     "output_type": "stream",
     "text": [
      "data: <class 'pandas.core.frame.DataFrame'>, meta: <class 'petsard.metadater.metadata.Schema'>\n",
      "data shape: (48842, 15)\n"
     ]
    }
   ],
   "source": [
    "# 測試本地檔案載入\n",
    "loader_adpt_local = LoaderAdapter(config={\"filepath\": \"benchmark/adult-income.csv\"})\n",
    "\n",
    "loader_adpt_local.run(input={})\n",
    "\n",
    "data_local = loader_adpt_local.get_result()\n",
    "meta_local = loader_adpt_local.get_metadata()\n",
    "\n",
    "print(f\"data: {type(data_local)}, meta: {type(meta_local)}\")\n",
    "print(f\"data shape: {data_local.shape}\")"
   ]
  },
  {
   "cell_type": "markdown",
   "metadata": {},
   "source": [
    "# Just simplify"
   ]
  },
  {
   "cell_type": "code",
   "execution_count": 24,
   "metadata": {},
   "outputs": [
    {
     "data": {
      "text/plain": [
       "(100, 15)"
      ]
     },
     "execution_count": 24,
     "metadata": {},
     "output_type": "execute_result"
    }
   ],
   "source": [
    "data = data.loc[0:99, :]\n",
    "data.shape"
   ]
  },
  {
   "cell_type": "markdown",
   "metadata": {},
   "source": [
    "## SplitterAdapter 測試"
   ]
  },
  {
   "cell_type": "code",
   "execution_count": 25,
   "metadata": {},
   "outputs": [
    {
     "name": "stdout",
     "output_type": "stream",
     "text": [
      "train_data: <class 'pandas.core.frame.DataFrame'>, test_data: <class 'pandas.core.frame.DataFrame'>\n",
      "train_data shape: (80, 15), test_data shape: (20, 15)\n"
     ]
    }
   ],
   "source": [
    "from petsard.adapter import SplitterAdapter\n",
    "\n",
    "# 測試資料分割 - 使用與 test.ipynb 相同的配置\n",
    "splitter_adpt = SplitterAdapter(config={\"num_samples\": 5, \"train_split_ratio\": 0.8})\n",
    "\n",
    "# 準備輸入資料\n",
    "splitter_input = {\"data\": data, \"metadata\": meta, \"exclude_index\": []}\n",
    "\n",
    "splitter_adpt.run(input=splitter_input)\n",
    "\n",
    "# 取得分割結果 - 使用第一次分割\n",
    "split_results = splitter_adpt.get_result()\n",
    "split_meta = splitter_adpt.get_metadata()\n",
    "\n",
    "# 取得第一次分割的訓練集和測試集 - 限制只能取第一個\n",
    "train_data = split_results[\"train\"]\n",
    "test_data = split_results[\"validation\"]\n",
    "\n",
    "print(f\"train_data: {type(train_data)}, test_data: {type(test_data)}\")\n",
    "print(f\"train_data shape: {train_data.shape}, test_data shape: {test_data.shape}\")"
   ]
  },
  {
   "cell_type": "code",
   "execution_count": 26,
   "metadata": {},
   "outputs": [
    {
     "name": "stdout",
     "output_type": "stream",
     "text": [
      "Custom split result keys: dict_keys(['train', 'validation'])\n"
     ]
    }
   ],
   "source": [
    "# 測試自定義資料分割\n",
    "splitter_adpt_custom = SplitterAdapter(\n",
    "    config={\n",
    "        \"method\": \"custom_data\",\n",
    "        \"filepath\": {\n",
    "            \"ori\": \"benchmark://adult-income_ori\",\n",
    "            \"control\": \"benchmark://adult-income_control\",\n",
    "        },\n",
    "    }\n",
    ")\n",
    "\n",
    "# 自定義資料不需要輸入資料\n",
    "splitter_adpt_custom.run(input={\"exclude_index\": []})\n",
    "\n",
    "custom_split_result = splitter_adpt_custom.get_result()\n",
    "print(f\"Custom split result keys: {custom_split_result.keys()}\")"
   ]
  },
  {
   "cell_type": "markdown",
   "metadata": {},
   "source": [
    "## PreprocessorAdapter 測試"
   ]
  },
  {
   "cell_type": "code",
   "execution_count": 27,
   "metadata": {},
   "outputs": [
    {
     "name": "stdout",
     "output_type": "stream",
     "text": [
      "default_preproc_data shape: (39, 15)\n"
     ]
    }
   ],
   "source": [
    "from petsard.adapter import PreprocessorAdapter\n",
    "\n",
    "# 測試預設預處理\n",
    "preproc_adpt = PreprocessorAdapter(config={\"method\": \"default\"})\n",
    "\n",
    "preproc_input = {\"data\": train_data, \"metadata\": meta}\n",
    "\n",
    "preproc_adpt.run(input=preproc_input)\n",
    "\n",
    "default_preproc_data = preproc_adpt.get_result()\n",
    "preproc_meta = preproc_adpt.get_metadata()\n",
    "\n",
    "print(f\"default_preproc_data shape: {default_preproc_data.shape}\")"
   ]
  },
  {
   "cell_type": "code",
   "execution_count": 28,
   "metadata": {},
   "outputs": [
    {
     "name": "stdout",
     "output_type": "stream",
     "text": [
      "missing_preproc_data shape: (80, 15)\n",
      "Age column after missing value processing:\n",
      "0    25\n",
      "1    38\n",
      "2    18\n",
      "3    63\n",
      "4    24\n",
      "5    55\n",
      "6    65\n",
      "7    36\n",
      "8    26\n",
      "9    58\n",
      "Name: age, dtype: int64\n"
     ]
    }
   ],
   "source": [
    "# 測試僅處理缺失值\n",
    "preproc_adpt_missing = PreprocessorAdapter(\n",
    "    config={\n",
    "        \"method\": \"custom\",\n",
    "        \"config\": {\n",
    "            \"missing\": {\n",
    "                \"age\": \"missing_mean\",\n",
    "            },\n",
    "        },\n",
    "        \"sequence\": [\"missing\"],\n",
    "    }\n",
    ")\n",
    "\n",
    "preproc_adpt_missing.run(input=preproc_input)\n",
    "\n",
    "missing_preproc_data = preproc_adpt_missing.get_result()\n",
    "\n",
    "print(f\"missing_preproc_data shape: {missing_preproc_data.shape}\")\n",
    "print(\"Age column after missing value processing:\")\n",
    "print(missing_preproc_data[\"age\"].head(10))"
   ]
  },
  {
   "cell_type": "code",
   "execution_count": 29,
   "metadata": {},
   "outputs": [
    {
     "name": "stdout",
     "output_type": "stream",
     "text": [
      "outlier_preproc_data shape: (39, 15)\n",
      "Age column after outlier processing:\n",
      "0    25\n",
      "1    38\n",
      "2    18\n",
      "3    24\n",
      "4    26\n",
      "5    58\n",
      "6    20\n",
      "7    43\n",
      "8    37\n",
      "9    34\n",
      "Name: age, dtype: int64\n"
     ]
    }
   ],
   "source": [
    "# 測試僅處理離群值\n",
    "preproc_adpt_outlier = PreprocessorAdapter(\n",
    "    config={\n",
    "        \"method\": \"custom\",\n",
    "        \"config\": {\n",
    "            \"outlier\": {\n",
    "                \"age\": \"outlier_zscore\",\n",
    "            },\n",
    "        },\n",
    "        \"sequence\": [\"outlier\"],\n",
    "    }\n",
    ")\n",
    "\n",
    "preproc_adpt_outlier.run(input=preproc_input)\n",
    "\n",
    "outlier_preproc_data = preproc_adpt_outlier.get_result()\n",
    "\n",
    "print(f\"outlier_preproc_data shape: {outlier_preproc_data.shape}\")\n",
    "print(\"Age column after outlier processing:\")\n",
    "print(outlier_preproc_data[\"age\"].head(10))"
   ]
  },
  {
   "cell_type": "code",
   "execution_count": 30,
   "metadata": {},
   "outputs": [
    {
     "name": "stdout",
     "output_type": "stream",
     "text": [
      "encoder_preproc_data shape: (80, 20)\n",
      "Workclass columns after encoding:\n",
      "   workclass_Federal-gov  workclass_Local-gov  workclass_Private  \\\n",
      "0                    0.0                  0.0                1.0   \n",
      "1                    0.0                  0.0                1.0   \n",
      "2                    0.0                  0.0                0.0   \n",
      "3                    0.0                  0.0                0.0   \n",
      "4                    0.0                  0.0                1.0   \n",
      "5                    0.0                  0.0                1.0   \n",
      "6                    0.0                  0.0                1.0   \n",
      "7                    1.0                  0.0                0.0   \n",
      "8                    0.0                  0.0                1.0   \n",
      "9                    0.0                  0.0                0.0   \n",
      "\n",
      "   workclass_Self-emp-inc  workclass_Self-emp-not-inc  workclass_State-gov  \n",
      "0                     0.0                         0.0                  0.0  \n",
      "1                     0.0                         0.0                  0.0  \n",
      "2                     0.0                         0.0                  0.0  \n",
      "3                     0.0                         1.0                  0.0  \n",
      "4                     0.0                         0.0                  0.0  \n",
      "5                     0.0                         0.0                  0.0  \n",
      "6                     0.0                         0.0                  0.0  \n",
      "7                     0.0                         0.0                  0.0  \n",
      "8                     0.0                         0.0                  0.0  \n",
      "9                     0.0                         0.0                  0.0  \n"
     ]
    }
   ],
   "source": [
    "# 測試僅編碼處理\n",
    "preproc_adpt_encoder = PreprocessorAdapter(\n",
    "    config={\n",
    "        \"method\": \"custom\",\n",
    "        \"config\": {\n",
    "            \"encoder\": {\n",
    "                \"workclass\": \"encoder_onehot\",\n",
    "            },\n",
    "        },\n",
    "        \"sequence\": [\"encoder\"],\n",
    "    }\n",
    ")\n",
    "\n",
    "preproc_adpt_encoder.run(input=preproc_input)\n",
    "\n",
    "encoder_preproc_data = preproc_adpt_encoder.get_result()\n",
    "\n",
    "print(f\"encoder_preproc_data shape: {encoder_preproc_data.shape}\")\n",
    "print(\"Workclass columns after encoding:\")\n",
    "workclass_cols = [\n",
    "    col for col in encoder_preproc_data.columns if col.startswith(\"workclass_\")\n",
    "]\n",
    "print(encoder_preproc_data[workclass_cols].head(10))"
   ]
  },
  {
   "cell_type": "code",
   "execution_count": 31,
   "metadata": {},
   "outputs": [
    {
     "name": "stdout",
     "output_type": "stream",
     "text": [
      "scaler_preproc_data shape: (80, 15)\n",
      "Age column after scaling:\n",
      "0    0.145455\n",
      "1    0.381818\n",
      "2    0.018182\n",
      "3    0.836364\n",
      "4    0.127273\n",
      "5    0.690909\n",
      "6    0.872727\n",
      "7    0.345455\n",
      "8    0.163636\n",
      "9    0.745455\n",
      "Name: age, dtype: float64\n"
     ]
    }
   ],
   "source": [
    "# 測試僅縮放處理\n",
    "preproc_adpt_scaler = PreprocessorAdapter(\n",
    "    config={\n",
    "        \"method\": \"custom\",\n",
    "        \"config\": {\n",
    "            \"scaler\": {\n",
    "                \"age\": \"scaler_minmax\",\n",
    "            },\n",
    "        },\n",
    "        \"sequence\": [\"scaler\"],\n",
    "    }\n",
    ")\n",
    "\n",
    "preproc_adpt_scaler.run(input=preproc_input)\n",
    "\n",
    "scaler_preproc_data = preproc_adpt_scaler.get_result()\n",
    "\n",
    "print(f\"scaler_preproc_data shape: {scaler_preproc_data.shape}\")\n",
    "print(\"Age column after scaling:\")\n",
    "print(scaler_preproc_data[\"age\"].head(10))"
   ]
  },
  {
   "cell_type": "markdown",
   "metadata": {},
   "source": [
    "## SynthesizerAdapter 測試"
   ]
  },
  {
   "cell_type": "code",
   "execution_count": 32,
   "metadata": {},
   "outputs": [
    {
     "name": "stdout",
     "output_type": "stream",
     "text": [
      "syn_data shape: (39, 15)\n",
      "syn_data type: <class 'pandas.core.frame.DataFrame'>\n"
     ]
    }
   ],
   "source": [
    "from petsard.adapter import SynthesizerAdapter\n",
    "\n",
    "# 測試合成器 - 使用預設方法\n",
    "synth_adpt = SynthesizerAdapter(config={\"method\": \"default\"})\n",
    "\n",
    "synth_input = {\"data\": default_preproc_data, \"metadata\": preproc_meta}\n",
    "\n",
    "synth_adpt.run(input=synth_input)\n",
    "\n",
    "syn_data = synth_adpt.get_result()\n",
    "\n",
    "print(f\"syn_data shape: {syn_data.shape}\")\n",
    "print(f\"syn_data type: {type(syn_data)}\")"
   ]
  },
  {
   "cell_type": "markdown",
   "metadata": {},
   "source": [
    "## PostprocessorAdapter 測試"
   ]
  },
  {
   "cell_type": "code",
   "execution_count": 33,
   "metadata": {},
   "outputs": [
    {
     "name": "stdout",
     "output_type": "stream",
     "text": [
      "postproc_data shape: (39, 15)\n",
      "postproc_data type: <class 'pandas.core.frame.DataFrame'>\n"
     ]
    }
   ],
   "source": [
    "from petsard.adapter import PostprocessorAdapter\n",
    "\n",
    "\n",
    "# 測試後處理\n",
    "postproc_adpt = PostprocessorAdapter(config={\"method\": \"default\"})\n",
    "\n",
    "postproc_input = {\n",
    "    \"data\": syn_data,\n",
    "    \"preprocessor\": preproc_adpt.processor,\n",
    "}\n",
    "\n",
    "postproc_adpt.run(input=postproc_input)\n",
    "\n",
    "postproc_data = postproc_adpt.get_result()\n",
    "\n",
    "print(f\"postproc_data shape: {postproc_data.shape}\")\n",
    "print(f\"postproc_data type: {type(postproc_data)}\")"
   ]
  },
  {
   "cell_type": "code",
   "execution_count": 34,
   "metadata": {},
   "outputs": [
    {
     "data": {
      "text/html": [
       "<div>\n",
       "<style scoped>\n",
       "    .dataframe tbody tr th:only-of-type {\n",
       "        vertical-align: middle;\n",
       "    }\n",
       "\n",
       "    .dataframe tbody tr th {\n",
       "        vertical-align: top;\n",
       "    }\n",
       "\n",
       "    .dataframe thead th {\n",
       "        text-align: right;\n",
       "    }\n",
       "</style>\n",
       "<table border=\"1\" class=\"dataframe\">\n",
       "  <thead>\n",
       "    <tr style=\"text-align: right;\">\n",
       "      <th></th>\n",
       "      <th>age</th>\n",
       "      <th>workclass</th>\n",
       "      <th>fnlwgt</th>\n",
       "      <th>education</th>\n",
       "      <th>educational-num</th>\n",
       "      <th>marital-status</th>\n",
       "      <th>occupation</th>\n",
       "      <th>relationship</th>\n",
       "      <th>race</th>\n",
       "      <th>gender</th>\n",
       "      <th>capital-gain</th>\n",
       "      <th>capital-loss</th>\n",
       "      <th>hours-per-week</th>\n",
       "      <th>native-country</th>\n",
       "      <th>income</th>\n",
       "    </tr>\n",
       "  </thead>\n",
       "  <tbody>\n",
       "    <tr>\n",
       "      <th>0</th>\n",
       "      <td>0.926637</td>\n",
       "      <td>0.359285</td>\n",
       "      <td>-0.641638</td>\n",
       "      <td>0.192437</td>\n",
       "      <td>-0.367067</td>\n",
       "      <td>0.311414</td>\n",
       "      <td>0.374914</td>\n",
       "      <td>0.239188</td>\n",
       "      <td>0.064783</td>\n",
       "      <td>0.178628</td>\n",
       "      <td>-0.206788</td>\n",
       "      <td>-0.159976</td>\n",
       "      <td>0.417968</td>\n",
       "      <td>0.118736</td>\n",
       "      <td>0.218596</td>\n",
       "    </tr>\n",
       "    <tr>\n",
       "      <th>1</th>\n",
       "      <td>-1.234750</td>\n",
       "      <td>0.958577</td>\n",
       "      <td>-1.076748</td>\n",
       "      <td>0.409309</td>\n",
       "      <td>-0.016214</td>\n",
       "      <td>0.954452</td>\n",
       "      <td>0.099444</td>\n",
       "      <td>0.331003</td>\n",
       "      <td>0.691053</td>\n",
       "      <td>0.037320</td>\n",
       "      <td>-0.206788</td>\n",
       "      <td>-0.159976</td>\n",
       "      <td>-0.442144</td>\n",
       "      <td>0.001253</td>\n",
       "      <td>0.480117</td>\n",
       "    </tr>\n",
       "    <tr>\n",
       "      <th>2</th>\n",
       "      <td>-0.474929</td>\n",
       "      <td>0.475705</td>\n",
       "      <td>-1.134067</td>\n",
       "      <td>0.546928</td>\n",
       "      <td>-0.469547</td>\n",
       "      <td>0.647718</td>\n",
       "      <td>0.584887</td>\n",
       "      <td>0.984289</td>\n",
       "      <td>0.170130</td>\n",
       "      <td>0.747837</td>\n",
       "      <td>-0.206788</td>\n",
       "      <td>-0.159976</td>\n",
       "      <td>-0.538532</td>\n",
       "      <td>0.140874</td>\n",
       "      <td>0.263473</td>\n",
       "    </tr>\n",
       "    <tr>\n",
       "      <th>3</th>\n",
       "      <td>-1.324611</td>\n",
       "      <td>0.501470</td>\n",
       "      <td>-0.895602</td>\n",
       "      <td>0.516445</td>\n",
       "      <td>0.069241</td>\n",
       "      <td>0.210802</td>\n",
       "      <td>0.564291</td>\n",
       "      <td>0.807002</td>\n",
       "      <td>0.147331</td>\n",
       "      <td>0.183251</td>\n",
       "      <td>-0.206788</td>\n",
       "      <td>-0.159976</td>\n",
       "      <td>-0.077975</td>\n",
       "      <td>0.631607</td>\n",
       "      <td>0.342356</td>\n",
       "    </tr>\n",
       "    <tr>\n",
       "      <th>4</th>\n",
       "      <td>0.786360</td>\n",
       "      <td>0.138399</td>\n",
       "      <td>1.790982</td>\n",
       "      <td>0.035266</td>\n",
       "      <td>-1.059852</td>\n",
       "      <td>0.688465</td>\n",
       "      <td>0.767122</td>\n",
       "      <td>0.091359</td>\n",
       "      <td>0.505370</td>\n",
       "      <td>0.025802</td>\n",
       "      <td>-0.206788</td>\n",
       "      <td>-0.159976</td>\n",
       "      <td>-0.438297</td>\n",
       "      <td>0.072877</td>\n",
       "      <td>0.498143</td>\n",
       "    </tr>\n",
       "    <tr>\n",
       "      <th>5</th>\n",
       "      <td>-1.352420</td>\n",
       "      <td>0.699954</td>\n",
       "      <td>-1.237256</td>\n",
       "      <td>0.559875</td>\n",
       "      <td>0.037777</td>\n",
       "      <td>0.773665</td>\n",
       "      <td>0.327584</td>\n",
       "      <td>0.231884</td>\n",
       "      <td>0.767578</td>\n",
       "      <td>0.078699</td>\n",
       "      <td>-0.206788</td>\n",
       "      <td>-0.159976</td>\n",
       "      <td>-0.692270</td>\n",
       "      <td>0.401531</td>\n",
       "      <td>0.223814</td>\n",
       "    </tr>\n",
       "  </tbody>\n",
       "</table>\n",
       "</div>"
      ],
      "text/plain": [
       "        age  workclass    fnlwgt  education  educational-num  marital-status  \\\n",
       "0  0.926637   0.359285 -0.641638   0.192437        -0.367067        0.311414   \n",
       "1 -1.234750   0.958577 -1.076748   0.409309        -0.016214        0.954452   \n",
       "2 -0.474929   0.475705 -1.134067   0.546928        -0.469547        0.647718   \n",
       "3 -1.324611   0.501470 -0.895602   0.516445         0.069241        0.210802   \n",
       "4  0.786360   0.138399  1.790982   0.035266        -1.059852        0.688465   \n",
       "5 -1.352420   0.699954 -1.237256   0.559875         0.037777        0.773665   \n",
       "\n",
       "   occupation  relationship      race    gender  capital-gain  capital-loss  \\\n",
       "0    0.374914      0.239188  0.064783  0.178628     -0.206788     -0.159976   \n",
       "1    0.099444      0.331003  0.691053  0.037320     -0.206788     -0.159976   \n",
       "2    0.584887      0.984289  0.170130  0.747837     -0.206788     -0.159976   \n",
       "3    0.564291      0.807002  0.147331  0.183251     -0.206788     -0.159976   \n",
       "4    0.767122      0.091359  0.505370  0.025802     -0.206788     -0.159976   \n",
       "5    0.327584      0.231884  0.767578  0.078699     -0.206788     -0.159976   \n",
       "\n",
       "   hours-per-week  native-country    income  \n",
       "0        0.417968        0.118736  0.218596  \n",
       "1       -0.442144        0.001253  0.480117  \n",
       "2       -0.538532        0.140874  0.263473  \n",
       "3       -0.077975        0.631607  0.342356  \n",
       "4       -0.438297        0.072877  0.498143  \n",
       "5       -0.692270        0.401531  0.223814  "
      ]
     },
     "execution_count": 34,
     "metadata": {},
     "output_type": "execute_result"
    }
   ],
   "source": [
    "syn_data.head(6)"
   ]
  },
  {
   "cell_type": "code",
   "execution_count": 35,
   "metadata": {},
   "outputs": [
    {
     "data": {
      "text/html": [
       "<div>\n",
       "<style scoped>\n",
       "    .dataframe tbody tr th:only-of-type {\n",
       "        vertical-align: middle;\n",
       "    }\n",
       "\n",
       "    .dataframe tbody tr th {\n",
       "        vertical-align: top;\n",
       "    }\n",
       "\n",
       "    .dataframe thead th {\n",
       "        text-align: right;\n",
       "    }\n",
       "</style>\n",
       "<table border=\"1\" class=\"dataframe\">\n",
       "  <thead>\n",
       "    <tr style=\"text-align: right;\">\n",
       "      <th></th>\n",
       "      <th>age</th>\n",
       "      <th>workclass</th>\n",
       "      <th>fnlwgt</th>\n",
       "      <th>education</th>\n",
       "      <th>educational-num</th>\n",
       "      <th>marital-status</th>\n",
       "      <th>occupation</th>\n",
       "      <th>relationship</th>\n",
       "      <th>race</th>\n",
       "      <th>gender</th>\n",
       "      <th>capital-gain</th>\n",
       "      <th>capital-loss</th>\n",
       "      <th>hours-per-week</th>\n",
       "      <th>native-country</th>\n",
       "      <th>income</th>\n",
       "    </tr>\n",
       "  </thead>\n",
       "  <tbody>\n",
       "    <tr>\n",
       "      <th>0</th>\n",
       "      <td>51</td>\n",
       "      <td>Private</td>\n",
       "      <td>127358</td>\n",
       "      <td>HS-grad</td>\n",
       "      <td>8</td>\n",
       "      <td>Married-civ-spouse</td>\n",
       "      <td>Machine-op-inspct</td>\n",
       "      <td>Husband</td>\n",
       "      <td>White</td>\n",
       "      <td>Male</td>\n",
       "      <td>0</td>\n",
       "      <td>0</td>\n",
       "      <td>44</td>\n",
       "      <td>United-States</td>\n",
       "      <td>&lt;=50K</td>\n",
       "    </tr>\n",
       "    <tr>\n",
       "      <th>1</th>\n",
       "      <td>19</td>\n",
       "      <td>State-gov</td>\n",
       "      <td>82475</td>\n",
       "      <td>Some-college</td>\n",
       "      <td>9</td>\n",
       "      <td>Widowed</td>\n",
       "      <td>Other-service</td>\n",
       "      <td>Husband</td>\n",
       "      <td>White</td>\n",
       "      <td>Male</td>\n",
       "      <td>0</td>\n",
       "      <td>0</td>\n",
       "      <td>33</td>\n",
       "      <td>United-States</td>\n",
       "      <td>&lt;=50K</td>\n",
       "    </tr>\n",
       "    <tr>\n",
       "      <th>2</th>\n",
       "      <td>30</td>\n",
       "      <td>Private</td>\n",
       "      <td>76562</td>\n",
       "      <td>Some-college</td>\n",
       "      <td>8</td>\n",
       "      <td>Never-married</td>\n",
       "      <td>Adm-clerical</td>\n",
       "      <td>Wife</td>\n",
       "      <td>White</td>\n",
       "      <td>Female</td>\n",
       "      <td>0</td>\n",
       "      <td>0</td>\n",
       "      <td>32</td>\n",
       "      <td>United-States</td>\n",
       "      <td>&lt;=50K</td>\n",
       "    </tr>\n",
       "    <tr>\n",
       "      <th>3</th>\n",
       "      <td>18</td>\n",
       "      <td>Private</td>\n",
       "      <td>101161</td>\n",
       "      <td>Some-college</td>\n",
       "      <td>9</td>\n",
       "      <td>Married-civ-spouse</td>\n",
       "      <td>Adm-clerical</td>\n",
       "      <td>Own-child</td>\n",
       "      <td>White</td>\n",
       "      <td>Male</td>\n",
       "      <td>0</td>\n",
       "      <td>0</td>\n",
       "      <td>38</td>\n",
       "      <td>United-States</td>\n",
       "      <td>&lt;=50K</td>\n",
       "    </tr>\n",
       "    <tr>\n",
       "      <th>4</th>\n",
       "      <td>49</td>\n",
       "      <td>Private</td>\n",
       "      <td>378293</td>\n",
       "      <td>HS-grad</td>\n",
       "      <td>7</td>\n",
       "      <td>Never-married</td>\n",
       "      <td>?</td>\n",
       "      <td>Husband</td>\n",
       "      <td>White</td>\n",
       "      <td>Male</td>\n",
       "      <td>0</td>\n",
       "      <td>0</td>\n",
       "      <td>33</td>\n",
       "      <td>United-States</td>\n",
       "      <td>&lt;=50K</td>\n",
       "    </tr>\n",
       "    <tr>\n",
       "      <th>5</th>\n",
       "      <td>18</td>\n",
       "      <td>Self-emp-inc</td>\n",
       "      <td>65918</td>\n",
       "      <td>Some-college</td>\n",
       "      <td>9</td>\n",
       "      <td>Never-married</td>\n",
       "      <td>Machine-op-inspct</td>\n",
       "      <td>Husband</td>\n",
       "      <td>White</td>\n",
       "      <td>Male</td>\n",
       "      <td>0</td>\n",
       "      <td>0</td>\n",
       "      <td>30</td>\n",
       "      <td>United-States</td>\n",
       "      <td>&lt;=50K</td>\n",
       "    </tr>\n",
       "  </tbody>\n",
       "</table>\n",
       "</div>"
      ],
      "text/plain": [
       "   age     workclass  fnlwgt     education  educational-num  \\\n",
       "0   51       Private  127358       HS-grad                8   \n",
       "1   19     State-gov   82475  Some-college                9   \n",
       "2   30       Private   76562  Some-college                8   \n",
       "3   18       Private  101161  Some-college                9   \n",
       "4   49       Private  378293       HS-grad                7   \n",
       "5   18  Self-emp-inc   65918  Some-college                9   \n",
       "\n",
       "       marital-status         occupation relationship   race  gender  \\\n",
       "0  Married-civ-spouse  Machine-op-inspct      Husband  White    Male   \n",
       "1             Widowed      Other-service      Husband  White    Male   \n",
       "2       Never-married       Adm-clerical         Wife  White  Female   \n",
       "3  Married-civ-spouse       Adm-clerical    Own-child  White    Male   \n",
       "4       Never-married                  ?      Husband  White    Male   \n",
       "5       Never-married  Machine-op-inspct      Husband  White    Male   \n",
       "\n",
       "   capital-gain  capital-loss  hours-per-week native-country income  \n",
       "0             0             0              44  United-States  <=50K  \n",
       "1             0             0              33  United-States  <=50K  \n",
       "2             0             0              32  United-States  <=50K  \n",
       "3             0             0              38  United-States  <=50K  \n",
       "4             0             0              33  United-States  <=50K  \n",
       "5             0             0              30  United-States  <=50K  "
      ]
     },
     "execution_count": 35,
     "metadata": {},
     "output_type": "execute_result"
    }
   ],
   "source": [
    "postproc_data.head(6)"
   ]
  },
  {
   "cell_type": "markdown",
   "metadata": {},
   "source": [
    "## ConstrainerAdapter 測試"
   ]
  },
  {
   "cell_type": "code",
   "execution_count": 36,
   "metadata": {},
   "outputs": [
    {
     "name": "stdout",
     "output_type": "stream",
     "text": [
      "cnst_data shape: (39, 15)\n",
      "cnst_data type: <class 'pandas.core.frame.DataFrame'>\n"
     ]
    }
   ],
   "source": [
    "from petsard.adapter import ConstrainerAdapter\n",
    "\n",
    "\n",
    "# 測試約束器 - 空配置\n",
    "constr_adpt = ConstrainerAdapter(config={})\n",
    "\n",
    "constr_input = {\"data\": postproc_data}\n",
    "\n",
    "constr_adpt.run(input=constr_input)\n",
    "\n",
    "cnst_data = constr_adpt.get_result()\n",
    "\n",
    "print(f\"cnst_data shape: {cnst_data.shape}\")\n",
    "print(f\"cnst_data type: {type(cnst_data)}\")"
   ]
  },
  {
   "cell_type": "code",
   "execution_count": 37,
   "metadata": {},
   "outputs": [
    {
     "name": "stdout",
     "output_type": "stream",
     "text": [
      "satisfy_data shape: (39, 15)\n"
     ]
    }
   ],
   "source": [
    "# 測試約束器 - 使用 resample_until_satisfy\n",
    "satisfy_data = constr_adpt.constrainer.resample_until_satisfy(\n",
    "    data=postproc_data,\n",
    "    target_rows=postproc_data.shape[0],\n",
    "    synthesizer=synth_adpt.synthesizer,\n",
    "    max_trials=300,\n",
    "    sampling_ratio=10.0,\n",
    "    verbose_step=10,\n",
    ")\n",
    "\n",
    "print(f\"satisfy_data shape: {satisfy_data.shape}\")"
   ]
  },
  {
   "cell_type": "markdown",
   "metadata": {},
   "source": [
    "## EvaluatorOperator 測試"
   ]
  },
  {
   "cell_type": "code",
   "execution_count": 38,
   "metadata": {},
   "outputs": [
    {
     "name": "stdout",
     "output_type": "stream",
     "text": [
      "Generating report ...\n",
      "\n",
      "(1/2) Evaluating Column Shapes: |██████████| 15/15 [00:00<00:00, 2367.79it/s]|\n",
      "Column Shapes Score: 78.58%\n",
      "\n",
      "(2/2) Evaluating Column Pair Trends: |██████████| 105/105 [00:00<00:00, 821.12it/s]|\n",
      "Column Pair Trends Score: 49.82%\n",
      "\n",
      "Overall Score (Average): 64.2%\n",
      "\n",
      "Evaluation result keys: dict_keys(['global', 'columnwise', 'pairwise'])\n",
      "\n",
      "Global evaluation results:\n",
      "        Score  Column Shapes  Column Pair Trends\n",
      "result   0.64           0.79                 0.5\n",
      "\n",
      "Columnwise evaluation results:\n",
      "          Property        Metric     Score\n",
      "age  Column Shapes  KSComplement  0.652244\n",
      "\n",
      "Pairwise evaluation results:\n",
      "                         Property                 Metric     Score  \\\n",
      "age workclass  Column Pair Trends  ContingencySimilarity  0.544551   \n",
      "\n",
      "               Real Correlation  Synthetic Correlation Error  \n",
      "age workclass               NaN                    NaN  None  \n"
     ]
    }
   ],
   "source": [
    "from petsard.adapter import EvaluatorAdapter\n",
    "\n",
    "# 測試評估器 - 預設方法\n",
    "eval_adpt = EvaluatorAdapter(config={\"method\": \"default\"})\n",
    "\n",
    "eval_input = {\n",
    "    \"data\": {\n",
    "        \"ori\": train_data,\n",
    "        \"control\": test_data,\n",
    "        \"syn\": satisfy_data,\n",
    "    },\n",
    "    \"schema\": meta,\n",
    "}\n",
    "\n",
    "eval_adpt.run(input=eval_input)\n",
    "\n",
    "eval_result = eval_adpt.get_result()\n",
    "\n",
    "print(f\"Evaluation result keys: {eval_result.keys()}\")\n",
    "print(\"\\nGlobal evaluation results:\")\n",
    "print(eval_result[\"global\"].head(1))\n",
    "print(\"\\nColumnwise evaluation results:\")\n",
    "print(eval_result[\"columnwise\"].head(1))\n",
    "print(\"\\nPairwise evaluation results:\")\n",
    "print(eval_result[\"pairwise\"].head(1))"
   ]
  },
  {
   "cell_type": "code",
   "execution_count": 39,
   "metadata": {},
   "outputs": [
    {
     "name": "stderr",
     "output_type": "stream",
     "text": [
      "The cardinality of the column workclass is too high. Ori: Over row numbers 80, column cardinality 7. Syn: Over row numbers 39, column cardinality 6. The column workclass is removed.\n",
      "The cardinality of the column education is too high. Ori: Over row numbers 80, column cardinality 12. Syn: Over row numbers 39, column cardinality 3. The column education is removed.\n",
      "The cardinality of the column marital-status is too high. Ori: Over row numbers 80, column cardinality 6. Syn: Over row numbers 39, column cardinality 5. The column marital-status is removed.\n",
      "The cardinality of the column occupation is too high. Ori: Over row numbers 80, column cardinality 13. Syn: Over row numbers 39, column cardinality 9. The column occupation is removed.\n",
      "The cardinality of the column relationship is too high. Ori: Over row numbers 80, column cardinality 5. Syn: Over row numbers 39, column cardinality 5. The column relationship is removed.\n"
     ]
    },
    {
     "name": "stdout",
     "output_type": "stream",
     "text": [
      "   ori_mean  ori_std  syn_mean  syn_std  diff\n",
      "0      0.76     0.04       0.7      0.0 -0.06\n"
     ]
    }
   ],
   "source": [
    "# 測試評估器 - MLUtility Classification\n",
    "eval_adpt_mlutility = EvaluatorAdapter(\n",
    "    config={\n",
    "        \"method\": \"mlutility-classification\",\n",
    "        \"target\": \"income\",\n",
    "    }\n",
    ")\n",
    "\n",
    "eval_input_anon = {\n",
    "    \"data\": {\n",
    "        \"ori\": train_data,\n",
    "        \"control\": test_data,\n",
    "        \"syn\": satisfy_data,\n",
    "    },\n",
    "    \"schema\": meta,\n",
    "}\n",
    "\n",
    "eval_adpt_mlutility.run(input=eval_input_anon)\n",
    "\n",
    "eval_result_mlutility = eval_adpt_mlutility.get_result()\n",
    "\n",
    "print(eval_result_mlutility[\"global\"].head(1))"
   ]
  },
  {
   "cell_type": "markdown",
   "metadata": {},
   "source": [
    "## DescriberOperator 測試"
   ]
  },
  {
   "cell_type": "code",
   "execution_count": 40,
   "metadata": {},
   "outputs": [
    {
     "name": "stdout",
     "output_type": "stream",
     "text": [
      "Description result type: <class 'dict'>\n",
      "Description result keys: dict_keys(['global', 'columnwise', 'pairwise'])\n",
      "   row_count  col_count  na_count\n",
      "0         39         15         0\n",
      "      mean  median   std   min   max  kurtosis  skew    q1    q3  na_count  \\\n",
      "age  28.74    23.0  13.7  18.0  69.0      1.89  1.52  18.0  33.5         0   \n",
      "\n",
      "    nunique  \n",
      "age    <NA>  \n",
      "  column1 column2  corr\n",
      "0     age     age   1.0\n"
     ]
    }
   ],
   "source": [
    "from petsard.adapter import DescriberAdapter\n",
    "\n",
    "# 測試描述器\n",
    "desc_op = DescriberAdapter(config={\"method\": \"default\"})\n",
    "\n",
    "desc_input = {\"data\": {\"data\": satisfy_data}}\n",
    "\n",
    "desc_op.run(input=desc_input)\n",
    "\n",
    "desc_result = desc_op.get_result()\n",
    "\n",
    "print(f\"Description result type: {type(desc_result)}\")\n",
    "if isinstance(desc_result, dict):\n",
    "    print(f\"Description result keys: {desc_result.keys()}\")\n",
    "\n",
    "    print(desc_result[\"global\"].head(1))\n",
    "    print(desc_result[\"columnwise\"].head(1))\n",
    "    print(desc_result[\"pairwise\"].head(1))"
   ]
  },
  {
   "cell_type": "markdown",
   "metadata": {},
   "source": [
    "## ReporterOperator 測試"
   ]
  },
  {
   "cell_type": "code",
   "execution_count": 41,
   "metadata": {},
   "outputs": [
    {
     "name": "stdout",
     "output_type": "stream",
     "text": [
      "Save data report result: {'Postprocessor[exp1]':     age         workclass  fnlwgt     education  educational-num  \\\n",
      "0    19           Private   79828       HS-grad                9   \n",
      "1    24           Private   76979  Some-college                9   \n",
      "2    49           Private  378293       HS-grad                7   \n",
      "3    34           Private   88681       HS-grad                9   \n",
      "4    18           Private  213215       HS-grad                9   \n",
      "5    29           Private  149181  Some-college                7   \n",
      "6    48           Private  190957       HS-grad                8   \n",
      "7    18           Private  179257  Some-college                9   \n",
      "8    42           Private   99869       HS-grad                8   \n",
      "9    68  Self-emp-not-inc  265063          11th                7   \n",
      "10   19                 ?  259700       HS-grad                8   \n",
      "11   18           Private  152910  Some-college                9   \n",
      "12   39           Private  249446       HS-grad                9   \n",
      "13   28           Private  104063       HS-grad                8   \n",
      "14   33           Private  101740       HS-grad                7   \n",
      "15   30           Private  308379       HS-grad                8   \n",
      "16   18           Private  227873       HS-grad                9   \n",
      "17   51           Private  127358       HS-grad                8   \n",
      "18   69           Private   73990  Some-college                7   \n",
      "19   18      Self-emp-inc   65918  Some-college                9   \n",
      "20   18           Private  223297  Some-college                9   \n",
      "21   19         State-gov   82475  Some-college                9   \n",
      "22   23           Private  111329       HS-grad                9   \n",
      "23   24           Private   93627  Some-college                9   \n",
      "24   30           Private   76562  Some-college                8   \n",
      "25   18           Private   70648  Some-college                9   \n",
      "26   41           Private  100685       HS-grad                9   \n",
      "27   18           Private  101161  Some-college                9   \n",
      "28   32                 ?  104772  Some-college                7   \n",
      "29   18  Self-emp-not-inc   89884       HS-grad                9   \n",
      "30   23      Self-emp-inc  126685  Some-college                9   \n",
      "31   18           Private   87170       HS-grad                9   \n",
      "32   26         Local-gov  214435  Some-college                9   \n",
      "33   18           Private   58548       HS-grad                9   \n",
      "34   22           Private  224722  Some-college                9   \n",
      "35   18           Private  165685       HS-grad                9   \n",
      "36   22                 ?  331436       HS-grad                9   \n",
      "37   18                 ?   98869       HS-grad                9   \n",
      "38   43           Private  159875  Some-college                7   \n",
      "\n",
      "        marital-status         occupation   relationship   race  gender  \\\n",
      "0        Never-married   Transport-moving  Not-in-family  White    Male   \n",
      "1   Married-civ-spouse  Machine-op-inspct        Husband  White  Female   \n",
      "2        Never-married                  ?        Husband  White    Male   \n",
      "3   Married-civ-spouse      Other-service      Own-child  White  Female   \n",
      "4   Married-civ-spouse  Handlers-cleaners      Own-child  Black    Male   \n",
      "5   Married-civ-spouse    Priv-house-serv      Own-child  White  Female   \n",
      "6              Widowed    Priv-house-serv      Own-child  White    Male   \n",
      "7        Never-married       Adm-clerical      Own-child  Black    Male   \n",
      "8              Widowed       Adm-clerical      Own-child  White    Male   \n",
      "9        Never-married      Other-service  Not-in-family  White    Male   \n",
      "10       Never-married                  ?        Husband  White    Male   \n",
      "11           Separated  Handlers-cleaners        Husband  White  Female   \n",
      "12           Separated    Priv-house-serv      Own-child  White  Female   \n",
      "13       Never-married       Adm-clerical        Husband  White  Female   \n",
      "14  Married-civ-spouse      Other-service      Own-child  White    Male   \n",
      "15       Never-married                  ?  Not-in-family  White  Female   \n",
      "16  Married-civ-spouse  Machine-op-inspct           Wife  White  Female   \n",
      "17  Married-civ-spouse  Machine-op-inspct        Husband  White    Male   \n",
      "18           Separated  Handlers-cleaners        Husband  Black  Female   \n",
      "19       Never-married  Machine-op-inspct        Husband  White    Male   \n",
      "20       Never-married       Adm-clerical      Unmarried  White  Female   \n",
      "21             Widowed      Other-service        Husband  White    Male   \n",
      "22       Never-married       Adm-clerical      Own-child  White    Male   \n",
      "23  Married-civ-spouse  Machine-op-inspct        Husband  White    Male   \n",
      "24       Never-married       Adm-clerical           Wife  White  Female   \n",
      "25  Married-civ-spouse  Machine-op-inspct        Husband  White  Female   \n",
      "26            Divorced  Handlers-cleaners  Not-in-family  White    Male   \n",
      "27  Married-civ-spouse       Adm-clerical      Own-child  White    Male   \n",
      "28       Never-married                  ?      Own-child  White  Female   \n",
      "29  Married-civ-spouse                  ?  Not-in-family  White  Female   \n",
      "30           Separated  Machine-op-inspct        Husband  White    Male   \n",
      "31  Married-civ-spouse  Machine-op-inspct        Husband  White    Male   \n",
      "32  Married-civ-spouse              Sales  Not-in-family  White    Male   \n",
      "33       Never-married       Adm-clerical      Own-child  White    Male   \n",
      "34       Never-married  Machine-op-inspct        Husband  White    Male   \n",
      "35       Never-married       Adm-clerical      Own-child  White    Male   \n",
      "36       Never-married                  ?      Own-child  White  Female   \n",
      "37       Never-married       Craft-repair        Husband  White    Male   \n",
      "38           Separated      Other-service  Not-in-family  White  Female   \n",
      "\n",
      "    capital-gain  capital-loss  hours-per-week      native-country income  \n",
      "0              0             0              31       United-States   >50K  \n",
      "1              0             0              25       United-States  <=50K  \n",
      "2              0             0              33       United-States  <=50K  \n",
      "3              0             0              56       United-States  <=50K  \n",
      "4              0             0              29       United-States  <=50K  \n",
      "5              0             0              29       United-States  <=50K  \n",
      "6              0             0              36       United-States  <=50K  \n",
      "7              0             0              34       United-States  <=50K  \n",
      "8              0             0              47       United-States  <=50K  \n",
      "9              0             0              51       United-States  <=50K  \n",
      "10             0             0              36       United-States  <=50K  \n",
      "11             0             0              42              Mexico  <=50K  \n",
      "12             0             0              33       United-States  <=50K  \n",
      "13             0             0              50       United-States  <=50K  \n",
      "14             0             0              42       United-States  <=50K  \n",
      "15             0             0              29       United-States  <=50K  \n",
      "16             0             0              25       United-States  <=50K  \n",
      "17             0             0              44       United-States  <=50K  \n",
      "18             0             0              50       United-States  <=50K  \n",
      "19             0             0              30       United-States  <=50K  \n",
      "20             0             0              26       United-States  <=50K  \n",
      "21             0             0              33       United-States  <=50K  \n",
      "22             0             0              41       United-States  <=50K  \n",
      "23             0             0              56  Dominican-Republic  <=50K  \n",
      "24             0             0              32       United-States  <=50K  \n",
      "25             0             0              23       United-States  <=50K  \n",
      "26             0             0              41       United-States  <=50K  \n",
      "27             0             0              38       United-States  <=50K  \n",
      "28             0             0              42       United-States  <=50K  \n",
      "29             0             0              47       United-States  <=50K  \n",
      "30             0             0              42       United-States  <=50K  \n",
      "31             0             0              54       United-States  <=50K  \n",
      "32             0             0              48       United-States  <=50K  \n",
      "33             0             0              25       United-States  <=50K  \n",
      "34             0             0              28  Dominican-Republic  <=50K  \n",
      "35             0             0              35       United-States  <=50K  \n",
      "36             0             0              27       United-States  <=50K  \n",
      "37             0             0              30       United-States  <=50K  \n",
      "38             0             0              55       United-States  <=50K  }\n"
     ]
    }
   ],
   "source": [
    "from petsard.adapter import ReporterAdapter\n",
    "\n",
    "# 測試報告器 - Save Data\n",
    "reporter_op_data = ReporterAdapter(\n",
    "    config={\n",
    "        \"method\": \"save_data\",\n",
    "        \"source\": \"Postprocessor\",\n",
    "    }\n",
    ")\n",
    "\n",
    "report_data_input = {\"data\": {(\"Postprocessor\", \"exp1\"): satisfy_data}}\n",
    "\n",
    "reporter_op_data.run(input=report_data_input)\n",
    "\n",
    "report_result_data = reporter_op_data.get_result()\n",
    "\n",
    "print(f\"Save data report result: {report_result_data}\")"
   ]
  },
  {
   "cell_type": "code",
   "execution_count": 42,
   "metadata": {},
   "outputs": [
    {
     "name": "stdout",
     "output_type": "stream",
     "text": [
      "Save report result: {'[global]':       full_expt_name Evaluator  eval1_row_count  eval1_col_count  \\\n",
      "0  Evaluator[global]  [global]               39               15   \n",
      "\n",
      "   eval1_na_count  \n",
      "0               0  }\n"
     ]
    }
   ],
   "source": [
    "# 測試報告器 - Save Report\n",
    "reporter_op_report = ReporterAdapter(\n",
    "    config={\n",
    "        \"method\": \"save_report\",\n",
    "        \"granularity\": \"global\",\n",
    "    }\n",
    ")\n",
    "\n",
    "report_report_input = {\n",
    "    \"data\": {\n",
    "        (\"Evaluator\", \"eval1_[global]\"): desc_result[\"global\"],\n",
    "    }\n",
    "}\n",
    "\n",
    "reporter_op_report.run(input=report_report_input)\n",
    "\n",
    "report_result_report = reporter_op_report.get_result()\n",
    "\n",
    "print(f\"Save report result: {report_result_report}\")"
   ]
  },
  {
   "cell_type": "markdown",
   "metadata": {},
   "source": [
    "## 總結\n",
    "\n",
    "這個 notebook 展示了如何使用各個 Operator 類別來執行 PETsARD 的功能，按照 test.ipynb 的設定進行調整：\n",
    "\n",
    "1. **LoaderOperator**: 載入資料和元資料\n",
    "2. **SplitterOperator**: 分割資料為訓練集和測試集\n",
    "3. **PreprocessorOperator**: 資料預處理（缺失值、離群值、編碼、縮放）\n",
    "4. **SynthesizerOperator**: 合成資料\n",
    "5. **PostprocessorOperator**: 後處理合成資料\n",
    "6. **ConstrainerOperator**: 應用資料約束\n",
    "7. **EvaluatorOperator**: 評估合成資料品質\n",
    "8. **DescriberOperator**: 描述資料特性\n",
    "9. **ReporterOperator**: 生成報告\n",
    "\n",
    "每個 Operator 都遵循相同的模式：\n",
    "- 使用配置初始化\n",
    "- 準備輸入資料\n",
    "- 執行 `run()` 方法\n",
    "- 使用 `get_result()` 取得結果\n",
    "- 使用 `get_metadata()` 取得元資料（如果適用）\n",
    "\n",
    "這種設計讓每個模組都可以獨立測試，不需要依賴 Status 物件。"
   ]
  }
 ],
 "metadata": {
  "kernelspec": {
   "display_name": "petsard",
   "language": "python",
   "name": "python3"
  },
  "language_info": {
   "codemirror_mode": {
    "name": "ipython",
    "version": 3
   },
   "file_extension": ".py",
   "mimetype": "text/x-python",
   "name": "python",
   "nbconvert_exporter": "python",
   "pygments_lexer": "ipython3",
   "version": "3.11.12"
  }
 },
 "nbformat": 4,
 "nbformat_minor": 4
}
