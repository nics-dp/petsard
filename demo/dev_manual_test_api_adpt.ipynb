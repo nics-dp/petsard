{
 "cells": [
  {
   "cell_type": "markdown",
   "metadata": {},
   "source": [
    "# PETsARD Adapter 測試\n",
    "\n",
    "這個 notebook 用來測試各個 Adapter 的功能，按照 test.ipynb 的設定進行調整。"
   ]
  },
  {
   "cell_type": "markdown",
   "metadata": {},
   "source": [
    "## LoaderAdapter 測試"
   ]
  },
  {
   "cell_type": "code",
   "execution_count": 1,
   "metadata": {},
   "outputs": [
    {
     "name": "stdout",
     "output_type": "stream",
     "text": [
      "data: <class 'pandas.core.frame.DataFrame'>, meta: <class 'petsard.metadater.metadata.Schema'>\n",
      "data shape: (48842, 15)\n",
      "Schema id: adult-income\n",
      "Schema name: adult-income.csv\n"
     ]
    }
   ],
   "source": [
    "from petsard.adapter import LoaderAdapter\n",
    "\n",
    "# 測試 benchmark 資料載入\n",
    "loader_adpt = LoaderAdapter(config={\"filepath\": \"benchmark://adult-income\"})\n",
    "\n",
    "# 執行載入\n",
    "loader_adpt.run(input={})\n",
    "\n",
    "# 取得結果\n",
    "data = loader_adpt.get_result()\n",
    "meta = loader_adpt.get_metadata()\n",
    "\n",
    "print(f\"data: {type(data)}, meta: {type(meta)}\")\n",
    "print(f\"data shape: {data.shape}\")\n",
    "print(f\"Schema id: {meta.id}\")\n",
    "print(f\"Schema name: {meta.name}\")"
   ]
  },
  {
   "cell_type": "code",
   "execution_count": 2,
   "metadata": {},
   "outputs": [
    {
     "name": "stdout",
     "output_type": "stream",
     "text": [
      "data: <class 'pandas.core.frame.DataFrame'>, meta: <class 'petsard.metadater.metadata.Schema'>\n",
      "data shape: (48842, 15)\n"
     ]
    }
   ],
   "source": [
    "# 測試本地檔案載入\n",
    "loader_adpt_local = LoaderAdapter(config={\"filepath\": \"benchmark/adult-income.csv\"})\n",
    "\n",
    "loader_adpt_local.run(input={})\n",
    "\n",
    "data_local = loader_adpt_local.get_result()\n",
    "meta_local = loader_adpt_local.get_metadata()\n",
    "\n",
    "print(f\"data: {type(data_local)}, meta: {type(meta_local)}\")\n",
    "print(f\"data shape: {data_local.shape}\")"
   ]
  },
  {
   "cell_type": "markdown",
   "metadata": {},
   "source": [
    "# Just simplify"
   ]
  },
  {
   "cell_type": "code",
   "execution_count": 3,
   "metadata": {},
   "outputs": [
    {
     "data": {
      "text/plain": [
       "(100, 15)"
      ]
     },
     "execution_count": 3,
     "metadata": {},
     "output_type": "execute_result"
    }
   ],
   "source": [
    "data = data.loc[0:99, :]\n",
    "data.shape"
   ]
  },
  {
   "cell_type": "markdown",
   "metadata": {},
   "source": [
    "## SplitterAdapter 測試"
   ]
  },
  {
   "cell_type": "code",
   "execution_count": 4,
   "metadata": {},
   "outputs": [
    {
     "name": "stdout",
     "output_type": "stream",
     "text": [
      "train_data: <class 'pandas.core.frame.DataFrame'>, test_data: <class 'pandas.core.frame.DataFrame'>\n",
      "train_data shape: (80, 15), test_data shape: (20, 15)\n"
     ]
    }
   ],
   "source": [
    "from petsard.adapter import SplitterAdapter\n",
    "\n",
    "# 測試資料分割 - 使用與 test.ipynb 相同的配置\n",
    "splitter_adpt = SplitterAdapter(config={\"num_samples\": 5, \"train_split_ratio\": 0.8})\n",
    "\n",
    "# 準備輸入資料\n",
    "splitter_input = {\"data\": data, \"metadata\": meta, \"exclude_index\": []}\n",
    "\n",
    "splitter_adpt.run(input=splitter_input)\n",
    "\n",
    "# 取得分割結果 - 使用第一次分割\n",
    "split_results = splitter_adpt.get_result()\n",
    "split_meta = splitter_adpt.get_metadata()\n",
    "\n",
    "# 取得第一次分割的訓練集和測試集 - 限制只能取第一個\n",
    "train_data = split_results[\"train\"]\n",
    "test_data = split_results[\"validation\"]\n",
    "\n",
    "print(f\"train_data: {type(train_data)}, test_data: {type(test_data)}\")\n",
    "print(f\"train_data shape: {train_data.shape}, test_data shape: {test_data.shape}\")"
   ]
  },
  {
   "cell_type": "code",
   "execution_count": 5,
   "metadata": {},
   "outputs": [
    {
     "name": "stdout",
     "output_type": "stream",
     "text": [
      "Custom split result keys: dict_keys(['train', 'validation'])\n"
     ]
    }
   ],
   "source": [
    "# 測試自定義資料分割\n",
    "splitter_adpt_custom = SplitterAdapter(\n",
    "    config={\n",
    "        \"method\": \"custom_data\",\n",
    "        \"filepath\": {\n",
    "            \"ori\": \"benchmark://adult-income_ori\",\n",
    "            \"control\": \"benchmark://adult-income_control\",\n",
    "        },\n",
    "    }\n",
    ")\n",
    "\n",
    "# 自定義資料不需要輸入資料\n",
    "splitter_adpt_custom.run(input={\"exclude_index\": []})\n",
    "\n",
    "custom_split_result = splitter_adpt_custom.get_result()\n",
    "print(f\"Custom split result keys: {custom_split_result.keys()}\")"
   ]
  },
  {
   "cell_type": "markdown",
   "metadata": {},
   "source": [
    "## PreprocessorAdapter 測試"
   ]
  },
  {
   "cell_type": "code",
   "execution_count": 6,
   "metadata": {},
   "outputs": [
    {
     "name": "stdout",
     "output_type": "stream",
     "text": [
      "default_preproc_data shape: (54, 15)\n"
     ]
    }
   ],
   "source": [
    "from petsard.adapter import PreprocessorAdapter\n",
    "\n",
    "# 測試預設預處理\n",
    "preproc_adpt = PreprocessorAdapter(config={\"method\": \"default\"})\n",
    "\n",
    "preproc_input = {\"data\": train_data, \"metadata\": meta}\n",
    "\n",
    "preproc_adpt.run(input=preproc_input)\n",
    "\n",
    "default_preproc_data = preproc_adpt.get_result()\n",
    "preproc_meta = preproc_adpt.get_metadata()\n",
    "\n",
    "print(f\"default_preproc_data shape: {default_preproc_data.shape}\")"
   ]
  },
  {
   "cell_type": "code",
   "execution_count": 7,
   "metadata": {},
   "outputs": [
    {
     "name": "stdout",
     "output_type": "stream",
     "text": [
      "missing_preproc_data shape: (80, 15)\n",
      "Age column after missing value processing:\n",
      "0    38\n",
      "1    28\n",
      "2    44\n",
      "3    18\n",
      "4    34\n",
      "5    29\n",
      "6    65\n",
      "7    58\n",
      "8    48\n",
      "9    43\n",
      "Name: age, dtype: int64\n"
     ]
    }
   ],
   "source": [
    "# 測試僅處理缺失值\n",
    "preproc_adpt_missing = PreprocessorAdapter(\n",
    "    config={\n",
    "        \"method\": \"custom\",\n",
    "        \"config\": {\n",
    "            \"missing\": {\n",
    "                \"age\": \"missing_mean\",\n",
    "            },\n",
    "        },\n",
    "        \"sequence\": [\"missing\"],\n",
    "    }\n",
    ")\n",
    "\n",
    "preproc_adpt_missing.run(input=preproc_input)\n",
    "\n",
    "missing_preproc_data = preproc_adpt_missing.get_result()\n",
    "\n",
    "print(f\"missing_preproc_data shape: {missing_preproc_data.shape}\")\n",
    "print(\"Age column after missing value processing:\")\n",
    "print(missing_preproc_data[\"age\"].head(10))"
   ]
  },
  {
   "cell_type": "code",
   "execution_count": 8,
   "metadata": {},
   "outputs": [
    {
     "name": "stdout",
     "output_type": "stream",
     "text": [
      "outlier_preproc_data shape: (54, 15)\n",
      "Age column after outlier processing:\n",
      "0    38\n",
      "1    28\n",
      "2    18\n",
      "3    34\n",
      "4    29\n",
      "5    58\n",
      "6    43\n",
      "7    43\n",
      "8    34\n",
      "9    34\n",
      "Name: age, dtype: int64\n"
     ]
    }
   ],
   "source": [
    "# 測試僅處理離群值\n",
    "preproc_adpt_outlier = PreprocessorAdapter(\n",
    "    config={\n",
    "        \"method\": \"custom\",\n",
    "        \"config\": {\n",
    "            \"outlier\": {\n",
    "                \"age\": \"outlier_zscore\",\n",
    "            },\n",
    "        },\n",
    "        \"sequence\": [\"outlier\"],\n",
    "    }\n",
    ")\n",
    "\n",
    "preproc_adpt_outlier.run(input=preproc_input)\n",
    "\n",
    "outlier_preproc_data = preproc_adpt_outlier.get_result()\n",
    "\n",
    "print(f\"outlier_preproc_data shape: {outlier_preproc_data.shape}\")\n",
    "print(\"Age column after outlier processing:\")\n",
    "print(outlier_preproc_data[\"age\"].head(10))"
   ]
  },
  {
   "cell_type": "code",
   "execution_count": 9,
   "metadata": {},
   "outputs": [
    {
     "name": "stdout",
     "output_type": "stream",
     "text": [
      "encoder_preproc_data shape: (80, 19)\n",
      "Workclass columns after encoding:\n",
      "   workclass_Local-gov  workclass_Private  workclass_Self-emp-inc  \\\n",
      "0                  0.0                1.0                     0.0   \n",
      "1                  1.0                0.0                     0.0   \n",
      "2                  0.0                1.0                     0.0   \n",
      "3                  0.0                0.0                     0.0   \n",
      "4                  0.0                1.0                     0.0   \n",
      "5                  0.0                0.0                     0.0   \n",
      "6                  0.0                1.0                     0.0   \n",
      "7                  0.0                0.0                     0.0   \n",
      "8                  0.0                1.0                     0.0   \n",
      "9                  0.0                1.0                     0.0   \n",
      "\n",
      "   workclass_Self-emp-not-inc  workclass_State-gov  \n",
      "0                         0.0                  0.0  \n",
      "1                         0.0                  0.0  \n",
      "2                         0.0                  0.0  \n",
      "3                         0.0                  0.0  \n",
      "4                         0.0                  0.0  \n",
      "5                         0.0                  0.0  \n",
      "6                         0.0                  0.0  \n",
      "7                         0.0                  0.0  \n",
      "8                         0.0                  0.0  \n",
      "9                         0.0                  0.0  \n"
     ]
    }
   ],
   "source": [
    "# 測試僅編碼處理\n",
    "preproc_adpt_encoder = PreprocessorAdapter(\n",
    "    config={\n",
    "        \"method\": \"custom\",\n",
    "        \"config\": {\n",
    "            \"encoder\": {\n",
    "                \"workclass\": \"encoder_onehot\",\n",
    "            },\n",
    "        },\n",
    "        \"sequence\": [\"encoder\"],\n",
    "    }\n",
    ")\n",
    "\n",
    "preproc_adpt_encoder.run(input=preproc_input)\n",
    "\n",
    "encoder_preproc_data = preproc_adpt_encoder.get_result()\n",
    "\n",
    "print(f\"encoder_preproc_data shape: {encoder_preproc_data.shape}\")\n",
    "print(\"Workclass columns after encoding:\")\n",
    "workclass_cols = [\n",
    "    col for col in encoder_preproc_data.columns if col.startswith(\"workclass_\")\n",
    "]\n",
    "print(encoder_preproc_data[workclass_cols].head(10))"
   ]
  },
  {
   "cell_type": "code",
   "execution_count": 10,
   "metadata": {},
   "outputs": [
    {
     "name": "stdout",
     "output_type": "stream",
     "text": [
      "scaler_preproc_data shape: (80, 15)\n",
      "Age column after scaling:\n",
      "0    0.381818\n",
      "1    0.200000\n",
      "2    0.490909\n",
      "3    0.018182\n",
      "4    0.309091\n",
      "5    0.218182\n",
      "6    0.872727\n",
      "7    0.745455\n",
      "8    0.563636\n",
      "9    0.472727\n",
      "Name: age, dtype: float64\n"
     ]
    }
   ],
   "source": [
    "# 測試僅縮放處理\n",
    "preproc_adpt_scaler = PreprocessorAdapter(\n",
    "    config={\n",
    "        \"method\": \"custom\",\n",
    "        \"config\": {\n",
    "            \"scaler\": {\n",
    "                \"age\": \"scaler_minmax\",\n",
    "            },\n",
    "        },\n",
    "        \"sequence\": [\"scaler\"],\n",
    "    }\n",
    ")\n",
    "\n",
    "preproc_adpt_scaler.run(input=preproc_input)\n",
    "\n",
    "scaler_preproc_data = preproc_adpt_scaler.get_result()\n",
    "\n",
    "print(f\"scaler_preproc_data shape: {scaler_preproc_data.shape}\")\n",
    "print(\"Age column after scaling:\")\n",
    "print(scaler_preproc_data[\"age\"].head(10))"
   ]
  },
  {
   "cell_type": "markdown",
   "metadata": {},
   "source": [
    "## SynthesizerAdapter 測試"
   ]
  },
  {
   "cell_type": "code",
   "execution_count": 11,
   "metadata": {},
   "outputs": [
    {
     "name": "stdout",
     "output_type": "stream",
     "text": [
      "syn_data shape: (54, 15)\n",
      "syn_data type: <class 'pandas.core.frame.DataFrame'>\n"
     ]
    }
   ],
   "source": [
    "from petsard.adapter import SynthesizerAdapter\n",
    "\n",
    "# 測試合成器 - 使用預設方法\n",
    "synth_adpt = SynthesizerAdapter(config={\"method\": \"default\"})\n",
    "\n",
    "synth_input = {\"data\": default_preproc_data, \"metadata\": preproc_meta}\n",
    "\n",
    "synth_adpt.run(input=synth_input)\n",
    "\n",
    "syn_data = synth_adpt.get_result()\n",
    "\n",
    "print(f\"syn_data shape: {syn_data.shape}\")\n",
    "print(f\"syn_data type: {type(syn_data)}\")"
   ]
  },
  {
   "cell_type": "markdown",
   "metadata": {},
   "source": [
    "## PostprocessorAdapter 測試"
   ]
  },
  {
   "cell_type": "code",
   "execution_count": 12,
   "metadata": {},
   "outputs": [
    {
     "name": "stdout",
     "output_type": "stream",
     "text": [
      "postproc_data shape: (54, 15)\n",
      "postproc_data type: <class 'pandas.core.frame.DataFrame'>\n"
     ]
    }
   ],
   "source": [
    "from petsard.adapter import PostprocessorAdapter\n",
    "\n",
    "\n",
    "# 測試後處理\n",
    "postproc_adpt = PostprocessorAdapter(config={\"method\": \"default\"})\n",
    "\n",
    "postproc_input = {\n",
    "    \"data\": syn_data,\n",
    "    \"preprocessor\": preproc_adpt.processor,\n",
    "}\n",
    "\n",
    "postproc_adpt.run(input=postproc_input)\n",
    "\n",
    "postproc_data = postproc_adpt.get_result()\n",
    "\n",
    "print(f\"postproc_data shape: {postproc_data.shape}\")\n",
    "print(f\"postproc_data type: {type(postproc_data)}\")"
   ]
  },
  {
   "cell_type": "code",
   "execution_count": 13,
   "metadata": {},
   "outputs": [
    {
     "data": {
      "text/html": [
       "<div>\n",
       "<style scoped>\n",
       "    .dataframe tbody tr th:only-of-type {\n",
       "        vertical-align: middle;\n",
       "    }\n",
       "\n",
       "    .dataframe tbody tr th {\n",
       "        vertical-align: top;\n",
       "    }\n",
       "\n",
       "    .dataframe thead th {\n",
       "        text-align: right;\n",
       "    }\n",
       "</style>\n",
       "<table border=\"1\" class=\"dataframe\">\n",
       "  <thead>\n",
       "    <tr style=\"text-align: right;\">\n",
       "      <th></th>\n",
       "      <th>age</th>\n",
       "      <th>workclass</th>\n",
       "      <th>fnlwgt</th>\n",
       "      <th>education</th>\n",
       "      <th>educational-num</th>\n",
       "      <th>marital-status</th>\n",
       "      <th>occupation</th>\n",
       "      <th>relationship</th>\n",
       "      <th>race</th>\n",
       "      <th>gender</th>\n",
       "      <th>capital-gain</th>\n",
       "      <th>capital-loss</th>\n",
       "      <th>hours-per-week</th>\n",
       "      <th>native-country</th>\n",
       "      <th>income</th>\n",
       "    </tr>\n",
       "  </thead>\n",
       "  <tbody>\n",
       "    <tr>\n",
       "      <th>0</th>\n",
       "      <td>1.565035</td>\n",
       "      <td>0.842944</td>\n",
       "      <td>-0.017571</td>\n",
       "      <td>0.471425</td>\n",
       "      <td>0.329513</td>\n",
       "      <td>0.405965</td>\n",
       "      <td>0.608966</td>\n",
       "      <td>0.620807</td>\n",
       "      <td>0.474309</td>\n",
       "      <td>0.253546</td>\n",
       "      <td>-0.354941</td>\n",
       "      <td>-0.159976</td>\n",
       "      <td>0.292883</td>\n",
       "      <td>0.214628</td>\n",
       "      <td>0.512787</td>\n",
       "    </tr>\n",
       "    <tr>\n",
       "      <th>1</th>\n",
       "      <td>0.110907</td>\n",
       "      <td>0.977954</td>\n",
       "      <td>0.105864</td>\n",
       "      <td>0.583357</td>\n",
       "      <td>-1.012026</td>\n",
       "      <td>0.214973</td>\n",
       "      <td>0.817060</td>\n",
       "      <td>0.129007</td>\n",
       "      <td>0.885031</td>\n",
       "      <td>0.575418</td>\n",
       "      <td>-0.354941</td>\n",
       "      <td>-0.159976</td>\n",
       "      <td>-0.248389</td>\n",
       "      <td>0.856323</td>\n",
       "      <td>0.088782</td>\n",
       "    </tr>\n",
       "    <tr>\n",
       "      <th>2</th>\n",
       "      <td>1.664051</td>\n",
       "      <td>0.662265</td>\n",
       "      <td>-0.048130</td>\n",
       "      <td>0.557299</td>\n",
       "      <td>-0.637325</td>\n",
       "      <td>0.277570</td>\n",
       "      <td>0.955109</td>\n",
       "      <td>0.670856</td>\n",
       "      <td>0.386097</td>\n",
       "      <td>0.811941</td>\n",
       "      <td>-0.354941</td>\n",
       "      <td>-0.159976</td>\n",
       "      <td>-0.313965</td>\n",
       "      <td>0.414228</td>\n",
       "      <td>0.323169</td>\n",
       "    </tr>\n",
       "    <tr>\n",
       "      <th>3</th>\n",
       "      <td>-0.904587</td>\n",
       "      <td>0.605662</td>\n",
       "      <td>0.345490</td>\n",
       "      <td>0.406794</td>\n",
       "      <td>-0.957813</td>\n",
       "      <td>0.402990</td>\n",
       "      <td>0.251461</td>\n",
       "      <td>0.655380</td>\n",
       "      <td>0.135938</td>\n",
       "      <td>0.276309</td>\n",
       "      <td>-0.354941</td>\n",
       "      <td>-0.159976</td>\n",
       "      <td>-0.027601</td>\n",
       "      <td>0.887132</td>\n",
       "      <td>0.556160</td>\n",
       "    </tr>\n",
       "    <tr>\n",
       "      <th>4</th>\n",
       "      <td>1.174652</td>\n",
       "      <td>0.919621</td>\n",
       "      <td>-1.384106</td>\n",
       "      <td>0.755349</td>\n",
       "      <td>1.685963</td>\n",
       "      <td>0.425807</td>\n",
       "      <td>0.415748</td>\n",
       "      <td>0.054421</td>\n",
       "      <td>0.610286</td>\n",
       "      <td>0.243771</td>\n",
       "      <td>-0.354941</td>\n",
       "      <td>-0.159976</td>\n",
       "      <td>0.035073</td>\n",
       "      <td>0.439762</td>\n",
       "      <td>0.907129</td>\n",
       "    </tr>\n",
       "    <tr>\n",
       "      <th>5</th>\n",
       "      <td>-1.263698</td>\n",
       "      <td>0.391152</td>\n",
       "      <td>0.275300</td>\n",
       "      <td>0.072462</td>\n",
       "      <td>-1.172983</td>\n",
       "      <td>0.193654</td>\n",
       "      <td>0.758696</td>\n",
       "      <td>0.567789</td>\n",
       "      <td>0.159096</td>\n",
       "      <td>0.075747</td>\n",
       "      <td>-0.354941</td>\n",
       "      <td>-0.159976</td>\n",
       "      <td>-0.692459</td>\n",
       "      <td>0.544846</td>\n",
       "      <td>0.225947</td>\n",
       "    </tr>\n",
       "  </tbody>\n",
       "</table>\n",
       "</div>"
      ],
      "text/plain": [
       "        age  workclass    fnlwgt  education  educational-num  marital-status  \\\n",
       "0  1.565035   0.842944 -0.017571   0.471425         0.329513        0.405965   \n",
       "1  0.110907   0.977954  0.105864   0.583357        -1.012026        0.214973   \n",
       "2  1.664051   0.662265 -0.048130   0.557299        -0.637325        0.277570   \n",
       "3 -0.904587   0.605662  0.345490   0.406794        -0.957813        0.402990   \n",
       "4  1.174652   0.919621 -1.384106   0.755349         1.685963        0.425807   \n",
       "5 -1.263698   0.391152  0.275300   0.072462        -1.172983        0.193654   \n",
       "\n",
       "   occupation  relationship      race    gender  capital-gain  capital-loss  \\\n",
       "0    0.608966      0.620807  0.474309  0.253546     -0.354941     -0.159976   \n",
       "1    0.817060      0.129007  0.885031  0.575418     -0.354941     -0.159976   \n",
       "2    0.955109      0.670856  0.386097  0.811941     -0.354941     -0.159976   \n",
       "3    0.251461      0.655380  0.135938  0.276309     -0.354941     -0.159976   \n",
       "4    0.415748      0.054421  0.610286  0.243771     -0.354941     -0.159976   \n",
       "5    0.758696      0.567789  0.159096  0.075747     -0.354941     -0.159976   \n",
       "\n",
       "   hours-per-week  native-country    income  \n",
       "0        0.292883        0.214628  0.512787  \n",
       "1       -0.248389        0.856323  0.088782  \n",
       "2       -0.313965        0.414228  0.323169  \n",
       "3       -0.027601        0.887132  0.556160  \n",
       "4        0.035073        0.439762  0.907129  \n",
       "5       -0.692459        0.544846  0.225947  "
      ]
     },
     "execution_count": 13,
     "metadata": {},
     "output_type": "execute_result"
    }
   ],
   "source": [
    "syn_data.head(6)"
   ]
  },
  {
   "cell_type": "code",
   "execution_count": 14,
   "metadata": {},
   "outputs": [
    {
     "data": {
      "text/html": [
       "<div>\n",
       "<style scoped>\n",
       "    .dataframe tbody tr th:only-of-type {\n",
       "        vertical-align: middle;\n",
       "    }\n",
       "\n",
       "    .dataframe tbody tr th {\n",
       "        vertical-align: top;\n",
       "    }\n",
       "\n",
       "    .dataframe thead th {\n",
       "        text-align: right;\n",
       "    }\n",
       "</style>\n",
       "<table border=\"1\" class=\"dataframe\">\n",
       "  <thead>\n",
       "    <tr style=\"text-align: right;\">\n",
       "      <th></th>\n",
       "      <th>age</th>\n",
       "      <th>workclass</th>\n",
       "      <th>fnlwgt</th>\n",
       "      <th>education</th>\n",
       "      <th>educational-num</th>\n",
       "      <th>marital-status</th>\n",
       "      <th>occupation</th>\n",
       "      <th>relationship</th>\n",
       "      <th>race</th>\n",
       "      <th>gender</th>\n",
       "      <th>capital-gain</th>\n",
       "      <th>capital-loss</th>\n",
       "      <th>hours-per-week</th>\n",
       "      <th>native-country</th>\n",
       "      <th>income</th>\n",
       "    </tr>\n",
       "  </thead>\n",
       "  <tbody>\n",
       "    <tr>\n",
       "      <th>0</th>\n",
       "      <td>59</td>\n",
       "      <td>Self-emp-inc</td>\n",
       "      <td>190045</td>\n",
       "      <td>Some-college</td>\n",
       "      <td>10</td>\n",
       "      <td>Married-civ-spouse</td>\n",
       "      <td>Adm-clerical</td>\n",
       "      <td>Not-in-family</td>\n",
       "      <td>White</td>\n",
       "      <td>Male</td>\n",
       "      <td>0</td>\n",
       "      <td>0</td>\n",
       "      <td>43</td>\n",
       "      <td>United-States</td>\n",
       "      <td>&lt;=50K</td>\n",
       "    </tr>\n",
       "    <tr>\n",
       "      <th>1</th>\n",
       "      <td>39</td>\n",
       "      <td>State-gov</td>\n",
       "      <td>202868</td>\n",
       "      <td>Some-college</td>\n",
       "      <td>7</td>\n",
       "      <td>Married-civ-spouse</td>\n",
       "      <td>Farming-fishing</td>\n",
       "      <td>Husband</td>\n",
       "      <td>White</td>\n",
       "      <td>Male</td>\n",
       "      <td>0</td>\n",
       "      <td>0</td>\n",
       "      <td>37</td>\n",
       "      <td>United-States</td>\n",
       "      <td>&lt;=50K</td>\n",
       "    </tr>\n",
       "    <tr>\n",
       "      <th>2</th>\n",
       "      <td>61</td>\n",
       "      <td>Private</td>\n",
       "      <td>186870</td>\n",
       "      <td>Some-college</td>\n",
       "      <td>8</td>\n",
       "      <td>Married-civ-spouse</td>\n",
       "      <td>Tech-support</td>\n",
       "      <td>Not-in-family</td>\n",
       "      <td>White</td>\n",
       "      <td>Female</td>\n",
       "      <td>0</td>\n",
       "      <td>0</td>\n",
       "      <td>36</td>\n",
       "      <td>United-States</td>\n",
       "      <td>&lt;=50K</td>\n",
       "    </tr>\n",
       "    <tr>\n",
       "      <th>3</th>\n",
       "      <td>25</td>\n",
       "      <td>Private</td>\n",
       "      <td>227762</td>\n",
       "      <td>Some-college</td>\n",
       "      <td>7</td>\n",
       "      <td>Married-civ-spouse</td>\n",
       "      <td>Exec-managerial</td>\n",
       "      <td>Not-in-family</td>\n",
       "      <td>White</td>\n",
       "      <td>Male</td>\n",
       "      <td>0</td>\n",
       "      <td>0</td>\n",
       "      <td>39</td>\n",
       "      <td>United-States</td>\n",
       "      <td>&lt;=50K</td>\n",
       "    </tr>\n",
       "    <tr>\n",
       "      <th>4</th>\n",
       "      <td>54</td>\n",
       "      <td>Local-gov</td>\n",
       "      <td>48078</td>\n",
       "      <td>Masters</td>\n",
       "      <td>13</td>\n",
       "      <td>Married-civ-spouse</td>\n",
       "      <td>Prof-specialty</td>\n",
       "      <td>Husband</td>\n",
       "      <td>White</td>\n",
       "      <td>Male</td>\n",
       "      <td>0</td>\n",
       "      <td>0</td>\n",
       "      <td>40</td>\n",
       "      <td>United-States</td>\n",
       "      <td>&gt;50K</td>\n",
       "    </tr>\n",
       "    <tr>\n",
       "      <th>5</th>\n",
       "      <td>20</td>\n",
       "      <td>Private</td>\n",
       "      <td>220470</td>\n",
       "      <td>HS-grad</td>\n",
       "      <td>6</td>\n",
       "      <td>Married-civ-spouse</td>\n",
       "      <td>Sales</td>\n",
       "      <td>Not-in-family</td>\n",
       "      <td>White</td>\n",
       "      <td>Male</td>\n",
       "      <td>0</td>\n",
       "      <td>0</td>\n",
       "      <td>31</td>\n",
       "      <td>United-States</td>\n",
       "      <td>&lt;=50K</td>\n",
       "    </tr>\n",
       "  </tbody>\n",
       "</table>\n",
       "</div>"
      ],
      "text/plain": [
       "   age     workclass  fnlwgt     education  educational-num  \\\n",
       "0   59  Self-emp-inc  190045  Some-college               10   \n",
       "1   39     State-gov  202868  Some-college                7   \n",
       "2   61       Private  186870  Some-college                8   \n",
       "3   25       Private  227762  Some-college                7   \n",
       "4   54     Local-gov   48078       Masters               13   \n",
       "5   20       Private  220470       HS-grad                6   \n",
       "\n",
       "       marital-status       occupation   relationship   race  gender  \\\n",
       "0  Married-civ-spouse     Adm-clerical  Not-in-family  White    Male   \n",
       "1  Married-civ-spouse  Farming-fishing        Husband  White    Male   \n",
       "2  Married-civ-spouse     Tech-support  Not-in-family  White  Female   \n",
       "3  Married-civ-spouse  Exec-managerial  Not-in-family  White    Male   \n",
       "4  Married-civ-spouse   Prof-specialty        Husband  White    Male   \n",
       "5  Married-civ-spouse            Sales  Not-in-family  White    Male   \n",
       "\n",
       "   capital-gain  capital-loss  hours-per-week native-country income  \n",
       "0             0             0              43  United-States  <=50K  \n",
       "1             0             0              37  United-States  <=50K  \n",
       "2             0             0              36  United-States  <=50K  \n",
       "3             0             0              39  United-States  <=50K  \n",
       "4             0             0              40  United-States   >50K  \n",
       "5             0             0              31  United-States  <=50K  "
      ]
     },
     "execution_count": 14,
     "metadata": {},
     "output_type": "execute_result"
    }
   ],
   "source": [
    "postproc_data.head(6)"
   ]
  },
  {
   "cell_type": "markdown",
   "metadata": {},
   "source": [
    "## ConstrainerAdapter 測試"
   ]
  },
  {
   "cell_type": "code",
   "execution_count": 15,
   "metadata": {},
   "outputs": [
    {
     "name": "stdout",
     "output_type": "stream",
     "text": [
      "cnst_data shape: (54, 15)\n",
      "cnst_data type: <class 'pandas.core.frame.DataFrame'>\n"
     ]
    }
   ],
   "source": [
    "from petsard.adapter import ConstrainerAdapter\n",
    "\n",
    "\n",
    "# 測試約束器 - 空配置\n",
    "constr_adpt = ConstrainerAdapter(config={})\n",
    "\n",
    "constr_input = {\"data\": postproc_data}\n",
    "\n",
    "constr_adpt.run(input=constr_input)\n",
    "\n",
    "cnst_data = constr_adpt.get_result()\n",
    "\n",
    "print(f\"cnst_data shape: {cnst_data.shape}\")\n",
    "print(f\"cnst_data type: {type(cnst_data)}\")"
   ]
  },
  {
   "cell_type": "code",
   "execution_count": 16,
   "metadata": {},
   "outputs": [
    {
     "name": "stdout",
     "output_type": "stream",
     "text": [
      "satisfy_data shape: (54, 15)\n"
     ]
    }
   ],
   "source": [
    "# 測試約束器 - 使用 resample_until_satisfy\n",
    "satisfy_data = constr_adpt.constrainer.resample_until_satisfy(\n",
    "    data=postproc_data,\n",
    "    target_rows=postproc_data.shape[0],\n",
    "    synthesizer=synth_adpt.synthesizer,\n",
    "    max_trials=300,\n",
    "    sampling_ratio=10.0,\n",
    "    verbose_step=10,\n",
    ")\n",
    "\n",
    "print(f\"satisfy_data shape: {satisfy_data.shape}\")"
   ]
  },
  {
   "cell_type": "markdown",
   "metadata": {},
   "source": [
    "## EvaluatorOperator 測試"
   ]
  },
  {
   "cell_type": "code",
   "execution_count": null,
   "metadata": {},
   "outputs": [
    {
     "name": "stdout",
     "output_type": "stream",
     "text": [
      "Generating report ...\n",
      "\n",
      "(1/2) Evaluating Column Shapes: |██████████| 15/15 [00:00<00:00, 2350.36it/s]|\n",
      "Column Shapes Score: 88.16%\n",
      "\n",
      "(2/2) Evaluating Column Pair Trends: |██████████| 105/105 [00:00<00:00, 1038.40it/s]|\n",
      "Column Pair Trends Score: 59.28%\n",
      "\n",
      "Overall Score (Average): 73.72%\n",
      "\n",
      "Evaluation result keys: dict_keys(['global', 'columnwise', 'pairwise'])\n",
      "\n",
      "Global evaluation results:\n",
      "        Score  Column Shapes  Column Pair Trends\n",
      "result   0.74           0.88                0.59\n",
      "\n",
      "Columnwise evaluation results:\n",
      "          Property        Metric     Score\n",
      "age  Column Shapes  KSComplement  0.866667\n",
      "\n",
      "Pairwise evaluation results:\n",
      "                         Property                 Metric     Score  \\\n",
      "age workclass  Column Pair Trends  ContingencySimilarity  0.602315   \n",
      "\n",
      "               Real Correlation  Synthetic Correlation Error  \n",
      "age workclass               NaN                    NaN  None  \n"
     ]
    }
   ],
   "source": [
    "from petsard.adapter import EvaluatorAdapter\n",
    "\n",
    "# 測試評估器 - 預設方法\n",
    "eval_adpt = EvaluatorAdapter(config={\"method\": \"default\"})\n",
    "\n",
    "eval_input = {\n",
    "    \"data\": {\n",
    "        \"ori\": train_data,\n",
    "        \"control\": test_data,\n",
    "        \"syn\": satisfy_data,\n",
    "    },\n",
    "    \"schema\": meta,\n",
    "}\n",
    "\n",
    "eval_adpt.run(input=eval_input)\n",
    "\n",
    "eval_result = eval_adpt.get_result()\n",
    "\n",
    "print(f\"Evaluation result keys: {eval_result.keys()}\")\n",
    "print(\"\\nGlobal evaluation results:\")\n",
    "print(eval_result[\"global\"].head(1))\n",
    "print(\"\\nColumnwise evaluation results:\")\n",
    "print(eval_result[\"columnwise\"].head(1))\n",
    "print(\"\\nPairwise evaluation results:\")\n",
    "print(eval_result[\"pairwise\"].head(1))"
   ]
  },
  {
   "cell_type": "code",
   "execution_count": null,
   "metadata": {},
   "outputs": [
    {
     "name": "stderr",
     "output_type": "stream",
     "text": [
      "The cardinality of the column workclass is too high. Ori: Over row numbers 80, column cardinality 6. Syn: Over row numbers 54, column cardinality 6. The column workclass is removed.\n",
      "The cardinality of the column education is too high. Ori: Over row numbers 80, column cardinality 12. Syn: Over row numbers 54, column cardinality 7. The column education is removed.\n",
      "The cardinality of the column marital-status is too high. Ori: Over row numbers 80, column cardinality 6. Syn: Over row numbers 54, column cardinality 5. The column marital-status is removed.\n",
      "The cardinality of the column occupation is too high. Ori: Over row numbers 80, column cardinality 14. Syn: Over row numbers 54, column cardinality 11. The column occupation is removed.\n",
      "The cardinality of the column relationship is too high. Ori: Over row numbers 80, column cardinality 5. Syn: Over row numbers 54, column cardinality 5. The column relationship is removed.\n"
     ]
    },
    {
     "name": "stdout",
     "output_type": "stream",
     "text": [
      "   ori_mean  ori_std  syn_mean  syn_std  diff\n",
      "0      0.94     0.04      0.76     0.04 -0.18\n"
     ]
    }
   ],
   "source": [
    "# 測試評估器 - MLUtility Classification\n",
    "eval_adpt_mlutility = EvaluatorAdapter(\n",
    "    config={\n",
    "        \"method\": \"mlutility-classification\",\n",
    "        \"target\": \"income\",\n",
    "    }\n",
    ")\n",
    "\n",
    "eval_input_anon = {\n",
    "    \"data\": {\n",
    "        \"ori\": train_data,\n",
    "        \"control\": test_data,\n",
    "        \"syn\": satisfy_data,\n",
    "    },\n",
    "    \"schema\": meta,\n",
    "}\n",
    "\n",
    "eval_adpt_mlutility.run(input=eval_input_anon)\n",
    "\n",
    "eval_result_mlutility = eval_adpt_mlutility.get_result()\n",
    "\n",
    "print(eval_result_mlutility[\"global\"].head(1))"
   ]
  },
  {
   "cell_type": "markdown",
   "metadata": {},
   "source": [
    "## DescriberOperator 測試"
   ]
  },
  {
   "cell_type": "code",
   "execution_count": 19,
   "metadata": {},
   "outputs": [
    {
     "name": "stdout",
     "output_type": "stream",
     "text": [
      "Description result type: <class 'dict'>\n",
      "Description result keys: dict_keys(['global', 'columnwise', 'pairwise'])\n",
      "   row_count  col_count  na_count\n",
      "0         54         15         0\n",
      "     mean  median    std   min   max  kurtosis  skew     q1    q3  na_count  \\\n",
      "age  39.3    37.0  15.89  17.0  69.0     -1.27  0.29  25.25  53.5         0   \n",
      "\n",
      "    nunique  \n",
      "age    <NA>  \n",
      "  column1 column2  corr\n",
      "0     age     age   1.0\n"
     ]
    }
   ],
   "source": [
    "from petsard.adapter import DescriberAdapter\n",
    "\n",
    "# 測試描述器\n",
    "desc_op = DescriberAdapter(config={\"method\": \"default\"})\n",
    "\n",
    "desc_input = {\"data\": {\"data\": satisfy_data}}\n",
    "\n",
    "desc_op.run(input=desc_input)\n",
    "\n",
    "desc_result = desc_op.get_result()\n",
    "\n",
    "print(f\"Description result type: {type(desc_result)}\")\n",
    "if isinstance(desc_result, dict):\n",
    "    print(f\"Description result keys: {desc_result.keys()}\")\n",
    "\n",
    "    print(desc_result[\"global\"].head(1))\n",
    "    print(desc_result[\"columnwise\"].head(1))\n",
    "    print(desc_result[\"pairwise\"].head(1))"
   ]
  },
  {
   "cell_type": "markdown",
   "metadata": {},
   "source": [
    "## ReporterOperator 測試"
   ]
  },
  {
   "cell_type": "code",
   "execution_count": 20,
   "metadata": {},
   "outputs": [
    {
     "name": "stdout",
     "output_type": "stream",
     "text": [
      "Save data report result: {'Postprocessor[exp1]':     age         workclass  fnlwgt     education  educational-num  \\\n",
      "0    59           Private  196151       HS-grad               13   \n",
      "1    44           Private   80450     Bachelors               12   \n",
      "2    32           Private  162545  Some-college               13   \n",
      "3    44           Private  246062       HS-grad               12   \n",
      "4    32           Private  143308          10th                7   \n",
      "5    20           Private  220470       HS-grad                6   \n",
      "6    30           Private  123694       HS-grad               13   \n",
      "7    68         Local-gov  114937       HS-grad               13   \n",
      "8    25           Private  227762  Some-college                7   \n",
      "9    21           Private   98587  Some-college                6   \n",
      "10   47           Private  363872     Assoc-voc               10   \n",
      "11   17                 ?  221962       HS-grad                9   \n",
      "12   51           Private  104484  Some-college               11   \n",
      "13   58      Self-emp-inc  116787  Some-college                9   \n",
      "14   64                 ?  213951          10th               13   \n",
      "15   54         Local-gov   48078       Masters               13   \n",
      "16   40  Self-emp-not-inc  235179          11th                8   \n",
      "17   62           Private  260861     Bachelors               12   \n",
      "18   26      Self-emp-inc  345670  Some-college                8   \n",
      "19   33           Private  167987          10th                6   \n",
      "20   22           Private  297711          10th                6   \n",
      "21   63         Local-gov  171570          10th               13   \n",
      "22   40                 ?   70496       Masters               11   \n",
      "23   44           Private   96247          11th                8   \n",
      "24   26      Self-emp-inc  101321       HS-grad                9   \n",
      "25   37           Private  149948       Masters                6   \n",
      "26   69           Private  257715       HS-grad               13   \n",
      "27   18                 ?  113719       HS-grad                7   \n",
      "28   59      Self-emp-inc  190045  Some-college               10   \n",
      "29   50           Private  213651       HS-grad               13   \n",
      "30   21  Self-emp-not-inc  157069          11th               11   \n",
      "31   30           Private  212686       HS-grad                7   \n",
      "32   55                 ?  177799  Some-college               12   \n",
      "33   23           Private  153489       Masters                6   \n",
      "34   19           Private  303861     Assoc-voc               12   \n",
      "35   39         State-gov  202868  Some-college                7   \n",
      "36   44      Self-emp-inc  334575  Some-college               12   \n",
      "37   61           Private  186870  Some-college                8   \n",
      "38   65           Private  116703       HS-grad               13   \n",
      "39   55           Private  352835  Some-college               13   \n",
      "40   52           Private  212328       HS-grad                6   \n",
      "41   26           Private  313041     Assoc-voc               10   \n",
      "42   19                 ?  101589       HS-grad               11   \n",
      "43   25  Self-emp-not-inc  354748  Some-college               11   \n",
      "44   30         Local-gov  214736       HS-grad               11   \n",
      "45   37           Private  233679     Bachelors                6   \n",
      "46   37                 ?  278020          10th               12   \n",
      "47   27      Self-emp-inc   86134       HS-grad                6   \n",
      "48   23           Private  170178     Bachelors               11   \n",
      "49   20           Private  336912       HS-grad               12   \n",
      "50   30                 ?   69640  Some-college                9   \n",
      "51   20           Private  206191          10th                6   \n",
      "52   52           Private  336334     Bachelors                8   \n",
      "53   57           Private  266276     Bachelors               13   \n",
      "\n",
      "        marital-status         occupation   relationship                race  \\\n",
      "0   Married-civ-spouse              Sales        Husband               White   \n",
      "1        Never-married    Exec-managerial  Not-in-family               White   \n",
      "2             Divorced       Craft-repair  Not-in-family               White   \n",
      "3        Never-married       Adm-clerical        Husband               White   \n",
      "4        Never-married      Other-service  Not-in-family               White   \n",
      "5   Married-civ-spouse              Sales  Not-in-family               White   \n",
      "6   Married-civ-spouse       Adm-clerical           Wife               White   \n",
      "7   Married-civ-spouse                  ?        Husband               White   \n",
      "8   Married-civ-spouse    Exec-managerial  Not-in-family               White   \n",
      "9   Married-civ-spouse      Other-service  Not-in-family               White   \n",
      "10  Married-civ-spouse              Sales        Husband               White   \n",
      "11  Married-civ-spouse                  ?      Own-child               White   \n",
      "12  Married-civ-spouse  Handlers-cleaners      Own-child               White   \n",
      "13  Married-civ-spouse              Sales      Own-child               Black   \n",
      "14       Never-married      Other-service  Not-in-family               White   \n",
      "15  Married-civ-spouse     Prof-specialty        Husband               White   \n",
      "16            Divorced     Prof-specialty  Not-in-family               White   \n",
      "17       Never-married      Other-service  Not-in-family               White   \n",
      "18             Widowed              Sales      Own-child               Black   \n",
      "19       Never-married    Farming-fishing        Husband               White   \n",
      "20       Never-married      Other-service      Unmarried               White   \n",
      "21  Married-civ-spouse  Machine-op-inspct  Not-in-family               White   \n",
      "22       Never-married    Exec-managerial        Husband               Black   \n",
      "23  Married-civ-spouse     Prof-specialty           Wife               White   \n",
      "24       Never-married  Handlers-cleaners        Husband               White   \n",
      "25       Never-married              Sales        Husband  Amer-Indian-Eskimo   \n",
      "26  Married-civ-spouse    Exec-managerial  Not-in-family               White   \n",
      "27       Never-married                  ?        Husband               White   \n",
      "28  Married-civ-spouse       Adm-clerical  Not-in-family               White   \n",
      "29       Never-married              Sales        Husband               White   \n",
      "30       Never-married      Other-service        Husband               White   \n",
      "31       Never-married              Sales  Not-in-family  Amer-Indian-Eskimo   \n",
      "32  Married-civ-spouse      Other-service  Not-in-family               Black   \n",
      "33  Married-civ-spouse      Other-service        Husband               White   \n",
      "34            Divorced              Sales  Not-in-family               White   \n",
      "35  Married-civ-spouse    Farming-fishing        Husband               White   \n",
      "36       Never-married  Machine-op-inspct        Husband               White   \n",
      "37  Married-civ-spouse       Tech-support  Not-in-family               White   \n",
      "38  Married-civ-spouse    Exec-managerial  Not-in-family               Black   \n",
      "39       Never-married       Craft-repair      Unmarried               White   \n",
      "40  Married-civ-spouse                  ?        Husband               White   \n",
      "41       Never-married     Prof-specialty  Not-in-family               White   \n",
      "42  Married-civ-spouse                  ?      Own-child               White   \n",
      "43  Married-civ-spouse  Machine-op-inspct        Husband               White   \n",
      "44  Married-civ-spouse      Other-service  Not-in-family               White   \n",
      "45  Married-civ-spouse       Adm-clerical        Husband               White   \n",
      "46       Never-married  Machine-op-inspct        Husband               White   \n",
      "47  Married-civ-spouse              Sales        Husband               White   \n",
      "48       Never-married       Adm-clerical        Husband               White   \n",
      "49  Married-civ-spouse  Machine-op-inspct        Husband               White   \n",
      "50       Never-married                  ?      Own-child               White   \n",
      "51            Divorced     Prof-specialty  Not-in-family               White   \n",
      "52           Separated  Handlers-cleaners  Not-in-family               White   \n",
      "53            Divorced  Handlers-cleaners  Not-in-family               White   \n",
      "\n",
      "    gender  capital-gain  capital-loss  hours-per-week native-country income  \n",
      "0     Male             0             0              35  United-States  <=50K  \n",
      "1   Female             0             0              33  United-States  <=50K  \n",
      "2     Male             0             0              36  United-States  <=50K  \n",
      "3   Female             0             0              40  United-States  <=50K  \n",
      "4     Male             0             0              35  United-States  <=50K  \n",
      "5     Male             0             0              31  United-States  <=50K  \n",
      "6   Female             0             0              38  United-States  <=50K  \n",
      "7     Male             0             0              37  United-States  <=50K  \n",
      "8     Male             0             0              39  United-States  <=50K  \n",
      "9   Female             0             0              42  United-States  <=50K  \n",
      "10    Male             0             0              47  United-States  <=50K  \n",
      "11    Male             0             0              39  United-States  <=50K  \n",
      "12    Male             0             0              36  United-States  <=50K  \n",
      "13    Male             0             0              43           Peru   >50K  \n",
      "14    Male             0             0              34  United-States  <=50K  \n",
      "15    Male             0             0              40  United-States   >50K  \n",
      "16    Male             0             0              42  United-States  <=50K  \n",
      "17  Female             0             0              41  United-States  <=50K  \n",
      "18    Male             0             0              41  United-States   >50K  \n",
      "19    Male             0             0              36  United-States  <=50K  \n",
      "20    Male             0             0              30  United-States  <=50K  \n",
      "21    Male             0             0              48  United-States   >50K  \n",
      "22    Male             0             0              42           Peru   >50K  \n",
      "23    Male             0             0              46  United-States  <=50K  \n",
      "24    Male             0             0              38  United-States  <=50K  \n",
      "25    Male             0             0              40  United-States  <=50K  \n",
      "26  Female             0             0              38  United-States  <=50K  \n",
      "27    Male             0             0              39  United-States   >50K  \n",
      "28    Male             0             0              43  United-States  <=50K  \n",
      "29    Male             0             0              35  United-States  <=50K  \n",
      "30    Male             0             0              36  United-States  <=50K  \n",
      "31    Male             0             0              44  United-States  <=50K  \n",
      "32  Female             0             0              46  United-States  <=50K  \n",
      "33  Female             0             0              32  United-States  <=50K  \n",
      "34    Male             0             0              32  United-States  <=50K  \n",
      "35    Male             0             0              37  United-States  <=50K  \n",
      "36    Male             0             0              42  United-States   >50K  \n",
      "37  Female             0             0              36  United-States  <=50K  \n",
      "38  Female             0             0              42  United-States  <=50K  \n",
      "39    Male             0             0              44  United-States  <=50K  \n",
      "40    Male             0             0              46  United-States  <=50K  \n",
      "41    Male             0             0              38  United-States  <=50K  \n",
      "42    Male             0             0              42              ?  <=50K  \n",
      "43    Male             0             0              40              ?   >50K  \n",
      "44  Female             0             0              48         Mexico  <=50K  \n",
      "45    Male             0             0              33  United-States   >50K  \n",
      "46    Male             0             0              40  United-States  <=50K  \n",
      "47    Male             0             0              43  United-States  <=50K  \n",
      "48    Male             0             0              35  United-States  <=50K  \n",
      "49    Male             0             0              38  United-States  <=50K  \n",
      "50  Female             0             0              44  United-States  <=50K  \n",
      "51    Male             0             0              42  United-States   >50K  \n",
      "52  Female             0             0              41  United-States  <=50K  \n",
      "53    Male             0             0              43  United-States  <=50K  }\n"
     ]
    }
   ],
   "source": [
    "from petsard.adapter import ReporterAdapter\n",
    "\n",
    "# 測試報告器 - Save Data\n",
    "reporter_op_data = ReporterAdapter(\n",
    "    config={\n",
    "        \"method\": \"save_data\",\n",
    "        \"source\": \"Postprocessor\",\n",
    "    }\n",
    ")\n",
    "\n",
    "report_data_input = {\"data\": {(\"Postprocessor\", \"exp1\"): satisfy_data}}\n",
    "\n",
    "reporter_op_data.run(input=report_data_input)\n",
    "\n",
    "report_result_data = reporter_op_data.get_result()\n",
    "\n",
    "print(f\"Save data report result: {report_result_data}\")"
   ]
  },
  {
   "cell_type": "code",
   "execution_count": 21,
   "metadata": {},
   "outputs": [
    {
     "name": "stdout",
     "output_type": "stream",
     "text": [
      "Save report result: {'[global]':       full_expt_name Evaluator  eval1_row_count  eval1_col_count  \\\n",
      "0  Evaluator[global]  [global]               54               15   \n",
      "\n",
      "   eval1_na_count  \n",
      "0               0  }\n"
     ]
    }
   ],
   "source": [
    "# 測試報告器 - Save Report\n",
    "reporter_op_report = ReporterAdapter(\n",
    "    config={\n",
    "        \"method\": \"save_report\",\n",
    "        \"granularity\": \"global\",\n",
    "    }\n",
    ")\n",
    "\n",
    "report_report_input = {\n",
    "    \"data\": {\n",
    "        (\"Evaluator\", \"eval1_[global]\"): desc_result[\"global\"],\n",
    "    }\n",
    "}\n",
    "\n",
    "reporter_op_report.run(input=report_report_input)\n",
    "\n",
    "report_result_report = reporter_op_report.get_result()\n",
    "\n",
    "print(f\"Save report result: {report_result_report}\")"
   ]
  },
  {
   "cell_type": "markdown",
   "metadata": {},
   "source": [
    "## 總結\n",
    "\n",
    "這個 notebook 展示了如何使用各個 Operator 類別來執行 PETsARD 的功能，按照 test.ipynb 的設定進行調整：\n",
    "\n",
    "1. **LoaderOperator**: 載入資料和元資料\n",
    "2. **SplitterOperator**: 分割資料為訓練集和測試集\n",
    "3. **PreprocessorOperator**: 資料預處理（缺失值、離群值、編碼、縮放）\n",
    "4. **SynthesizerOperator**: 合成資料\n",
    "5. **PostprocessorOperator**: 後處理合成資料\n",
    "6. **ConstrainerOperator**: 應用資料約束\n",
    "7. **EvaluatorOperator**: 評估合成資料品質\n",
    "8. **DescriberOperator**: 描述資料特性\n",
    "9. **ReporterOperator**: 生成報告\n",
    "\n",
    "每個 Operator 都遵循相同的模式：\n",
    "- 使用配置初始化\n",
    "- 準備輸入資料\n",
    "- 執行 `run()` 方法\n",
    "- 使用 `get_result()` 取得結果\n",
    "- 使用 `get_metadata()` 取得元資料（如果適用）\n",
    "\n",
    "這種設計讓每個模組都可以獨立測試，不需要依賴 Status 物件。"
   ]
  }
 ],
 "metadata": {
  "kernelspec": {
   "display_name": "petsard",
   "language": "python",
   "name": "python3"
  },
  "language_info": {
   "codemirror_mode": {
    "name": "ipython",
    "version": 3
   },
   "file_extension": ".py",
   "mimetype": "text/x-python",
   "name": "python",
   "nbconvert_exporter": "python",
   "pygments_lexer": "ipython3",
   "version": "3.11.12"
  }
 },
 "nbformat": 4,
 "nbformat_minor": 4
}
