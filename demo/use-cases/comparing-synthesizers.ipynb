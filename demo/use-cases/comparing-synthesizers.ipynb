{
 "cells": [
  {
   "cell_type": "markdown",
   "metadata": {},
   "source": [
    "# Environment setting\n",
    "環境設定"
   ]
  },
  {
   "cell_type": "code",
   "execution_count": null,
   "metadata": {},
   "outputs": [],
   "source": [
    "import os\n",
    "import requests\n",
    "from pathlib import Path\n",
    "\n",
    "\n",
    "# determine branch, default is main\n",
    "branch = \"main\"\n",
    "\n",
    "# Check if running in Google Colab\n",
    "is_colab = \"COLAB_GPU\" in os.environ\n",
    "\n",
    "if is_colab:\n",
    "    # Download the utils.py file from GitHub\n",
    "    utils_url = (\n",
    "        f\"https://raw.githubusercontent.com/nics-tw/petsard/{branch}/demo/utils.py\"\n",
    "    )\n",
    "    response = requests.get(utils_url)\n",
    "\n",
    "    if response.status_code == 200:\n",
    "        # Save the utils.py file\n",
    "        with open(\"utils.py\", \"w\") as f:\n",
    "            f.write(response.text)\n",
    "\n",
    "        # Create an empty __init__.py\n",
    "        Path(\"__init__.py\").touch()\n",
    "    else:\n",
    "        raise RuntimeError(\n",
    "            f\"Failed to download utils.py. Status code: {response.status_code}\"\n",
    "        )"
   ]
  },
  {
   "cell_type": "code",
   "execution_count": null,
   "metadata": {},
   "outputs": [],
   "source": [
    "# Now import and run the setup\n",
    "from utils import (\n",
    "    get_yaml_path,\n",
    "    setup_environment,\n",
    ")\n",
    "\n",
    "\n",
    "setup_environment(\n",
    "    is_colab,\n",
    "    branch,\n",
    "    benchmark_data=[\n",
    "        \"adult-income\",\n",
    "    ],\n",
    ")"
   ]
  },
  {
   "cell_type": "code",
   "execution_count": 3,
   "metadata": {},
   "outputs": [],
   "source": [
    "from petsard import Executor"
   ]
  },
  {
   "cell_type": "markdown",
   "metadata": {},
   "source": [
    "# YAML Configuration for PETsARD\n",
    "PETsARD 的 YAML 設定"
   ]
  },
  {
   "cell_type": "markdown",
   "metadata": {},
   "source": [
    "## Comparing Synthesizers\n",
    "比較合成演算法"
   ]
  },
  {
   "cell_type": "code",
   "execution_count": null,
   "metadata": {},
   "outputs": [
    {
     "name": "stdout",
     "output_type": "stream",
     "text": [
      "Configuration content:\n",
      "---\n",
      "Loader:\n",
      "  data:\n",
      "    filepath: 'benchmark/adult-income.csv'\n",
      "Preprocessor:\n",
      "  demo:\n",
      "    method: 'default'\n",
      "Synthesizer:\n",
      "  gaussian-copula:\n",
      "    method: 'sdv-single_table-gaussiancopula'\n",
      "  ctgan:\n",
      "    method: 'sdv-single_table-ctgan'\n",
      "  tvae:\n",
      "    method: 'sdv-single_table-tvae'\n",
      "Postprocessor:\n",
      "  demo:\n",
      "    method: 'default'\n",
      "Evaluator:\n",
      "  demo-quality:\n",
      "    method: 'sdmetrics-qualityreport'\n",
      "Reporter:\n",
      "  output:\n",
      "    method: 'save_data'\n",
      "    source: 'Synthesizer'\n",
      "  save_report_global:\n",
      "    method: 'save_report'\n",
      "    granularity: 'global'\n",
      "...\n"
     ]
    }
   ],
   "source": [
    "yaml_file_case: str = \"comparing-synthesizers.yaml\"\n",
    "\n",
    "yaml_path_case: str = get_yaml_path(\n",
    "    is_colab=is_colab,\n",
    "    yaml_file=yaml_file_case,\n",
    "    branch=branch,\n",
    ")"
   ]
  },
  {
   "cell_type": "markdown",
   "metadata": {},
   "source": [
    "### Execution and Result\n",
    "執行與結果"
   ]
  },
  {
   "cell_type": "code",
   "execution_count": 5,
   "metadata": {},
   "outputs": [
    {
     "name": "stdout",
     "output_type": "stream",
     "text": [
      "Generating report ...\n",
      "\n",
      "(1/2) Evaluating Column Shapes: |██████████| 15/15 [00:00<00:00, 79.93it/s]|\n",
      "Column Shapes Score: 95.37%\n",
      "\n",
      "(2/2) Evaluating Column Pair Trends: |██████████| 105/105 [00:00<00:00, 225.87it/s]|\n",
      "Column Pair Trends Score: 60.46%\n",
      "\n",
      "Overall Score (Average): 77.92%\n",
      "\n",
      "Now is petsard_Loader[data]_Preprocessor[demo]_Synthesizer[gaussian-copula] save to csv...\n",
      "Now is petsard[Report]_[global] save to csv...\n",
      "Generating report ...\n",
      "\n",
      "(1/2) Evaluating Column Shapes: |██████████| 15/15 [00:00<00:00, 78.89it/s]|\n",
      "Column Shapes Score: 90.35%\n",
      "\n",
      "(2/2) Evaluating Column Pair Trends: |██████████| 105/105 [00:00<00:00, 253.98it/s]|\n",
      "Column Pair Trends Score: 50.6%\n",
      "\n",
      "Overall Score (Average): 70.48%\n",
      "\n",
      "Now is petsard_Loader[data]_Preprocessor[demo]_Synthesizer[ctgan] save to csv...\n",
      "Now is petsard[Report]_[global] save to csv...\n",
      "Generating report ...\n",
      "\n",
      "(1/2) Evaluating Column Shapes: |██████████| 15/15 [00:00<00:00, 114.11it/s]|\n",
      "Column Shapes Score: 85.99%\n",
      "\n",
      "(2/2) Evaluating Column Pair Trends: |██████████| 105/105 [00:00<00:00, 266.12it/s]|\n",
      "Column Pair Trends Score: 51.57%\n",
      "\n",
      "Overall Score (Average): 68.78%\n",
      "\n",
      "Now is petsard_Loader[data]_Preprocessor[demo]_Synthesizer[tvae] save to csv...\n",
      "Now is petsard[Report]_[global] save to csv...\n"
     ]
    }
   ],
   "source": [
    "# Initialize and run executor\n",
    "exec_case = Executor(config=yaml_path_case)\n",
    "exec_case.run()"
   ]
  },
  {
   "cell_type": "code",
   "execution_count": null,
   "metadata": {},
   "outputs": [
    {
     "data": {
      "text/html": [
       "<div>\n",
       "<style scoped>\n",
       "    .dataframe tbody tr th:only-of-type {\n",
       "        vertical-align: middle;\n",
       "    }\n",
       "\n",
       "    .dataframe tbody tr th {\n",
       "        vertical-align: top;\n",
       "    }\n",
       "\n",
       "    .dataframe thead th {\n",
       "        text-align: right;\n",
       "    }\n",
       "</style>\n",
       "<table border=\"1\" class=\"dataframe\">\n",
       "  <thead>\n",
       "    <tr style=\"text-align: right;\">\n",
       "      <th></th>\n",
       "      <th>full_expt_name</th>\n",
       "      <th>Loader</th>\n",
       "      <th>Preprocessor</th>\n",
       "      <th>Synthesizer</th>\n",
       "      <th>Postprocessor</th>\n",
       "      <th>Evaluator</th>\n",
       "      <th>Score</th>\n",
       "      <th>Column Shapes</th>\n",
       "      <th>Column Pair Trends</th>\n",
       "    </tr>\n",
       "  </thead>\n",
       "  <tbody>\n",
       "    <tr>\n",
       "      <th>0</th>\n",
       "      <td>Loader[data]_Preprocessor[demo]_Synthesizer[ct...</td>\n",
       "      <td>data</td>\n",
       "      <td>demo</td>\n",
       "      <td>ctgan</td>\n",
       "      <td>demo</td>\n",
       "      <td>[global]</td>\n",
       "      <td>0.704766</td>\n",
       "      <td>0.903543</td>\n",
       "      <td>0.505989</td>\n",
       "    </tr>\n",
       "    <tr>\n",
       "      <th>1</th>\n",
       "      <td>Loader[data]_Preprocessor[demo]_Synthesizer[ga...</td>\n",
       "      <td>data</td>\n",
       "      <td>demo</td>\n",
       "      <td>gaussian-copula</td>\n",
       "      <td>demo</td>\n",
       "      <td>[global]</td>\n",
       "      <td>0.779163</td>\n",
       "      <td>0.953704</td>\n",
       "      <td>0.604621</td>\n",
       "    </tr>\n",
       "    <tr>\n",
       "      <th>2</th>\n",
       "      <td>Loader[data]_Preprocessor[demo]_Synthesizer[tv...</td>\n",
       "      <td>data</td>\n",
       "      <td>demo</td>\n",
       "      <td>tvae</td>\n",
       "      <td>demo</td>\n",
       "      <td>[global]</td>\n",
       "      <td>0.687809</td>\n",
       "      <td>0.859874</td>\n",
       "      <td>0.515744</td>\n",
       "    </tr>\n",
       "  </tbody>\n",
       "</table>\n",
       "</div>"
      ],
      "text/plain": [
       "                                      full_expt_name Loader Preprocessor  \\\n",
       "0  Loader[data]_Preprocessor[demo]_Synthesizer[ct...   data         demo   \n",
       "1  Loader[data]_Preprocessor[demo]_Synthesizer[ga...   data         demo   \n",
       "2  Loader[data]_Preprocessor[demo]_Synthesizer[tv...   data         demo   \n",
       "\n",
       "       Synthesizer Postprocessor Evaluator     Score  Column Shapes  \\\n",
       "0            ctgan          demo  [global]  0.704766       0.903543   \n",
       "1  gaussian-copula          demo  [global]  0.779163       0.953704   \n",
       "2             tvae          demo  [global]  0.687809       0.859874   \n",
       "\n",
       "   Column Pair Trends  \n",
       "0            0.505989  \n",
       "1            0.604621  \n",
       "2            0.515744  "
      ]
     },
     "execution_count": 6,
     "metadata": {},
     "output_type": "execute_result"
    }
   ],
   "source": [
    "exec_case.get_result()[\n",
    "    \"Loader[data]_Preprocessor[demo]_Synthesizer[tvae]_Postprocessor[demo]_Evaluator[demo-quality]_Reporter[save_report_global]\"\n",
    "][\"[global]\"]"
   ]
  }
 ],
 "metadata": {
  "kernelspec": {
   "display_name": ".venv",
   "language": "python",
   "name": "python3"
  },
  "language_info": {
   "codemirror_mode": {
    "name": "ipython",
    "version": 3
   },
   "file_extension": ".py",
   "mimetype": "text/x-python",
   "name": "python",
   "nbconvert_exporter": "python",
   "pygments_lexer": "ipython3",
   "version": "3.11.12"
  }
 },
 "nbformat": 4,
 "nbformat_minor": 2
}
