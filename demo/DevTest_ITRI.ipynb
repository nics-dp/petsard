{
 "cells": [
  {
   "cell_type": "code",
   "execution_count": 1,
   "metadata": {},
   "outputs": [
    {
     "name": "stdout",
     "output_type": "stream",
     "text": [
      "Requirement already satisfied: sdv<=1.7 in c:\\program files\\python312\\lib\\site-packages (from -r ../PETsARD/requirements.txt (line 4)) (0.0.0)\n"
     ]
    },
    {
     "name": "stderr",
     "output_type": "stream",
     "text": [
      "ERROR: Ignored the following versions that require a different python version: 0.0.1 Requires-Python <3.11,>3.7; 0.0.2 Requires-Python <3.11,>3.7\n",
      "ERROR: Could not find a version that satisfies the requirement anonymeter (from versions: none)\n",
      "ERROR: No matching distribution found for anonymeter\n"
     ]
    }
   ],
   "source": [
    "import os\n",
    "import sys\n",
    "\n",
    "sys.path.append('D:\\\\Dropbox\\\\89_其他應用\\\\GitHub\\\\PETsARD')\n",
    "os.chdir('D:\\\\Dropbox\\\\89_其他應用\\\\GitHub\\\\PETsARD\\\\demo')\n",
    "# sys.path.append('/home/ec2-user/SageMaker/PETs-Experiment')\n",
    "# os.chdir('/home/ec2-user/SageMaker/PETs-Experiment/demo')\n",
    "!pip install -r ../PETsARD/requirements.txt\n",
    "\n",
    "import PETsARD"
   ]
  },
  {
   "cell_type": "code",
   "execution_count": 2,
   "metadata": {},
   "outputs": [
    {
     "name": "stdout",
     "output_type": "stream",
     "text": [
      "    sex  age  height  weight  waistline  sight_left  sight_right  hear_left  \\\n",
      "0  Male   35     170      75       90.0         1.0          1.0        1.0   \n",
      "\n",
      "   hear_right    SBP  ...  LDL_chole  triglyceride  hemoglobin  urine_protein  \\\n",
      "0         1.0  120.0  ...      126.0          92.0        17.1            1.0   \n",
      "\n",
      "   serum_creatinine  SGOT_AST  SGOT_ALT  gamma_GTP  SMK_stat_type_cd  DRK_YN  \n",
      "0               1.0      21.0      35.0       40.0               1.0       Y  \n",
      "\n",
      "[1 rows x 24 columns]\n"
     ]
    }
   ],
   "source": [
    " loader = PETsARD.Loader(filepath='../[sunset]/data/smoking_driking_dataset_Ver01.csv', header_exist=True)\n",
    " # loader.data is a dataframe\n",
    " print(loader.data.head(1))"
   ]
  },
  {
   "cell_type": "code",
   "execution_count": 3,
   "metadata": {},
   "outputs": [
    {
     "name": "stdout",
     "output_type": "stream",
     "text": [
      "Preprocessor - Encoder (Label): Column DRK_YN           been labelized from 0 to 1.\n",
      "Preprocessor - Encoder (Label): Column sex              been labelized from 0 to 1.\n",
      "   sex  age  height  weight  waistline  sight_left  sight_right  hear_left  \\\n",
      "0    1   35     170      75       90.0         1.0          1.0        1.0   \n",
      "\n",
      "   hear_right    SBP  ...  LDL_chole  triglyceride  hemoglobin  urine_protein  \\\n",
      "0         1.0  120.0  ...      126.0          92.0        17.1            1.0   \n",
      "\n",
      "   serum_creatinine  SGOT_AST  SGOT_ALT  gamma_GTP  SMK_stat_type_cd  DRK_YN  \n",
      "0               1.0      21.0      35.0       40.0               1.0       1  \n",
      "\n",
      "[1 rows x 24 columns]\n",
      "{'DRK_YN': LabelEncoder(), 'sex': LabelEncoder()}\n"
     ]
    }
   ],
   "source": [
    " preproc = PETsARD.Preprocessor(\n",
    "     data=loader.data, missing=False, outlier=False, encoding=True, encoding_method='Label', encoding_columns=None, scaling=False\n",
    " )\n",
    " \n",
    " print(preproc.data.head(1))\n",
    " print(preproc.encoder)"
   ]
  },
  {
   "cell_type": "code",
   "execution_count": 7,
   "metadata": {},
   "outputs": [
    {
     "data": {
      "text/plain": [
       "sex                   int32\n",
       "age                    int8\n",
       "height                int16\n",
       "weight                int16\n",
       "waistline           float32\n",
       "sight_left          float32\n",
       "sight_right         float32\n",
       "hear_left           float32\n",
       "hear_right          float32\n",
       "SBP                 float32\n",
       "DBP                 float32\n",
       "BLDS                float32\n",
       "tot_chole           float32\n",
       "HDL_chole           float32\n",
       "LDL_chole           float32\n",
       "triglyceride        float32\n",
       "hemoglobin          float32\n",
       "urine_protein       float32\n",
       "serum_creatinine    float32\n",
       "SGOT_AST            float32\n",
       "SGOT_ALT            float32\n",
       "gamma_GTP           float32\n",
       "SMK_stat_type_cd    float32\n",
       "DRK_YN                int32\n",
       "dtype: object"
      ]
     },
     "execution_count": 7,
     "metadata": {},
     "output_type": "execute_result"
    }
   ],
   "source": [
    "preproc.data.dtypes"
   ]
  },
  {
   "cell_type": "code",
   "execution_count": 8,
   "metadata": {},
   "outputs": [
    {
     "name": "stdout",
     "output_type": "stream",
     "text": [
      "Synthesizer (SDV - SingleTable): Metafile loading time: 1.2382 sec.\n",
      "Synthesizer (SDV - SingleTable): Fitting  GaussianCoupula.\n"
     ]
    },
    {
     "name": "stderr",
     "output_type": "stream",
     "text": [
      "c:\\Program Files\\Python310\\lib\\site-packages\\rdt\\transformers\\numerical.py:112: UserWarning: No rounding scheme detected for column 'waistline'. Data will not be rounded.\n",
      "  warnings.warn(\n",
      "c:\\Program Files\\Python310\\lib\\site-packages\\rdt\\transformers\\numerical.py:112: UserWarning: No rounding scheme detected for column 'sight_left'. Data will not be rounded.\n",
      "  warnings.warn(\n",
      "c:\\Program Files\\Python310\\lib\\site-packages\\rdt\\transformers\\numerical.py:112: UserWarning: No rounding scheme detected for column 'sight_right'. Data will not be rounded.\n",
      "  warnings.warn(\n",
      "c:\\Program Files\\Python310\\lib\\site-packages\\rdt\\transformers\\numerical.py:112: UserWarning: No rounding scheme detected for column 'hemoglobin'. Data will not be rounded.\n",
      "  warnings.warn(\n",
      "c:\\Program Files\\Python310\\lib\\site-packages\\rdt\\transformers\\numerical.py:112: UserWarning: No rounding scheme detected for column 'serum_creatinine'. Data will not be rounded.\n",
      "  warnings.warn(\n"
     ]
    },
    {
     "name": "stdout",
     "output_type": "stream",
     "text": [
      "Synthesizer (SDV - SingleTable): Fitting  GaussianCoupula spent 1086.4253 sec.\n",
      "Synthesizer (SDV - SingleTable): Sampling GaussianCoupula # 991346 rows (same as raw) in 88.6184 sec.\n",
      "   sex  age  height  weight  waistline  sight_left  sight_right  hear_left  \\\n",
      "0    0   49     151      50  64.284042    0.652037     0.742614        1.0   \n",
      "\n",
      "   hear_right    SBP  ...  LDL_chole  triglyceride  hemoglobin  urine_protein  \\\n",
      "0         1.0  129.0  ...      114.0         151.0    13.73253            1.0   \n",
      "\n",
      "   serum_creatinine  SGOT_AST  SGOT_ALT  gamma_GTP  SMK_stat_type_cd  DRK_YN  \n",
      "0          0.755493      26.0      16.0       21.0               1.0       0  \n",
      "\n",
      "[1 rows x 24 columns]\n"
     ]
    }
   ],
   "source": [
    "synthesizing_methods=[\n",
    "        #  'sdv-singletable-coupulagan',\n",
    "        #  'sdv-singletable-ctgan',\n",
    "         'sdv-singletable-gaussiancoupula'\n",
    "        #  ,\n",
    "        #  'sdv-singletable-tvae'\n",
    "         ]\n",
    " for method in synthesizing_methods:\n",
    "     synthesizer = PETsARD.Synthesizer(data=preproc.data, synthesizing_method=method)\n",
    "     synthesizer.fit_sample()\n",
    "     print(synthesizer.data_synR.head(1))\n",
    " \n",
    "    #  synthesizer.data_syn.to_csv('../{}.csv'.format(method))"
   ]
  }
 ],
 "metadata": {
  "kernelspec": {
   "display_name": "Python 3",
   "language": "python",
   "name": "python3"
  },
  "language_info": {
   "codemirror_mode": {
    "name": "ipython",
    "version": 3
   },
   "file_extension": ".py",
   "mimetype": "text/x-python",
   "name": "python",
   "nbconvert_exporter": "python",
   "pygments_lexer": "ipython3",
   "version": "3.10.13"
  },
  "orig_nbformat": 4
 },
 "nbformat": 4,
 "nbformat_minor": 2
}
