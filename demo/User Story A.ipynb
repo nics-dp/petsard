{
 "cells": [
  {
   "cell_type": "markdown",
   "metadata": {},
   "source": [
    "# User Story A\n",
    "**Privacy Enhancing Data Generation**\n",
    "\n",
    "This demo will show how to generate privacy-enhanced data using `PETsARD`.\n",
    "\n",
    "In this demonstration, you, as the user, already possess a data file locally, and `PETsARD` will assist you in loading that file and then generating a privacy-enhanced version of it.\n",
    "\n",
    "At the same time, privacy-enhancing algorithms often have format restrictions and require specific pre-processing and post-processing procedures to function correctly. However, `PETsARD` has taken this into account for the user. `PETsARD` offers both default and customizable preprocessing and postprocessing workflows to help users get started quickly.\n",
    "\n",
    "本示範將展示如何使用 `PETsARD` 生成隱私強化資料。\n",
    "\n",
    "在這個示範中，您作為使用者，在本機上已經擁有一份資料檔案，而 `PETsARD` 將幫助您讀取該檔案、然後生成經隱私強化後的版本。\n",
    "\n",
    "同時，隱私強化演算法通常都有格式的限制，必須經過特定的前處理 (Pre-processing) 與後處理 (Post-processing) 程序才能正確運作，但 `PETsARD` 已經為使用者考慮到這點，`PETsARD` 提供預設與可客製化的前後處理流程，幫助使用者快速上手。"
   ]
  },
  {
   "cell_type": "markdown",
   "metadata": {},
   "source": [
    "---\n",
    "\n",
    "## Environment"
   ]
  },
  {
   "cell_type": "code",
   "execution_count": 1,
   "metadata": {},
   "outputs": [],
   "source": [
    "import os\n",
    "import pprint\n",
    "import sys\n",
    "\n",
    "import yaml\n",
    "\n",
    "\n",
    "# Setting up the path to the PETsARD package\n",
    "path_petsard = os.path.dirname(os.getcwd())\n",
    "sys.path.append(path_petsard)\n",
    "# setting for pretty priny YAML\n",
    "pp = pprint.PrettyPrinter(depth=3, sort_dicts=False)\n",
    "\n",
    "\n",
    "from petsard import Executor"
   ]
  },
  {
   "cell_type": "markdown",
   "metadata": {},
   "source": [
    "---\n",
    "\n",
    "## User Story A-1\n",
    "**Default Synthesizing**\n",
    "\n",
    "Given an original dataset without specified algorithm, the pipeline will generate a list of privacy enhanced datasets using the default algorithms.\n",
    "\n",
    "給定一個原始資料集、但未指定演算法，該流程會利用預設的演算法生成一組隱私強化資料集。"
   ]
  },
  {
   "cell_type": "code",
   "execution_count": 2,
   "metadata": {},
   "outputs": [
    {
     "name": "stdout",
     "output_type": "stream",
     "text": [
      "{'Loader': {'adult': {'filepath': '../benchmark/adult-income.csv',\n",
      "                      'na_values': {...}}},\n",
      " 'Preprocessor': {'demo': {'method': 'default'}},\n",
      " 'Synthesizer': {'demo': {'method': 'default'}},\n",
      " 'Postprocessor': {'demo': {'method': 'default'}},\n",
      " 'Reporter': {'save_data': {'method': 'save_data',\n",
      "                            'output': 'User Story A-1',\n",
      "                            'source': 'Postprocessor'}}}\n"
     ]
    }
   ],
   "source": [
    "config_file = '../yaml/User Story A-1.yaml'\n",
    "\n",
    "with open(config_file, 'r') as yaml_file:\n",
    "    yaml_raw: dict = yaml.safe_load(yaml_file)\n",
    "pp.pprint(yaml_raw)"
   ]
  },
  {
   "cell_type": "code",
   "execution_count": 3,
   "metadata": {},
   "outputs": [
    {
     "name": "stdout",
     "output_type": "stream",
     "text": [
      "Now is Loader with adult...\n",
      "Now is Preprocessor with demo...\n",
      "[I 20241225 10:16:12] MediatorMissing is created.\n",
      "[I 20241225 10:16:12] MediatorOutlier is created.\n",
      "[I 20241225 10:16:12] MediatorEncoder is created.\n",
      "[I 20241225 10:16:12] missing fitting done.\n",
      "[I 20241225 10:16:12] <petsard.processor.mediator.MediatorMissing object at 0x328b88bb0> fitting done.\n",
      "[I 20241225 10:16:12] outlier fitting done.\n",
      "[I 20241225 10:16:12] <petsard.processor.mediator.MediatorOutlier object at 0x328b8ab30> fitting done.\n",
      "[I 20241225 10:16:12] encoder fitting done.\n",
      "[I 20241225 10:16:12] <petsard.processor.mediator.MediatorEncoder object at 0x328b8ab60> fitting done.\n",
      "[I 20241225 10:16:12] scaler fitting done.\n",
      "[I 20241225 10:16:12] missing transformation done.\n",
      "[I 20241225 10:16:12] <petsard.processor.mediator.MediatorMissing object at 0x328b88bb0> transformation done.\n",
      "[I 20241225 10:16:12] outlier transformation done.\n",
      "[I 20241225 10:16:12] <petsard.processor.mediator.MediatorOutlier object at 0x328b8ab30> transformation done.\n",
      "[I 20241225 10:16:12] encoder transformation done.\n",
      "[I 20241225 10:16:12] <petsard.processor.mediator.MediatorEncoder object at 0x328b8ab60> transformation done.\n",
      "[I 20241225 10:16:12] scaler transformation done.\n",
      "Now is Synthesizer with demo...\n",
      "[I 20241225 10:16:12] {'EVENT': 'Instance', 'TIMESTAMP': datetime.datetime(2024, 12, 25, 10, 16, 12, 584073), 'SYNTHESIZER CLASS NAME': 'GaussianCopulaSynthesizer', 'SYNTHESIZER ID': 'GaussianCopulaSynthesizer_1.17.1_8fbf2fb0a0114021a3fade00955475dc'}\n",
      "Synthesizer (SDV): Fitting GaussianCopula.\n",
      "[I 20241225 10:16:12] {'EVENT': 'Fit', 'TIMESTAMP': datetime.datetime(2024, 12, 25, 10, 16, 12, 584291), 'SYNTHESIZER CLASS NAME': 'GaussianCopulaSynthesizer', 'SYNTHESIZER ID': 'GaussianCopulaSynthesizer_1.17.1_8fbf2fb0a0114021a3fade00955475dc', 'TOTAL NUMBER OF TABLES': 1, 'TOTAL NUMBER OF ROWS': 26933, 'TOTAL NUMBER OF COLUMNS': 15}\n",
      "[I 20241225 10:16:12] Fitting table  metadata\n",
      "[I 20241225 10:16:12] Fitting formatters for table \n",
      "[I 20241225 10:16:12] No rounding scheme detected for column 'age'. Data will not be rounded.\n",
      "[I 20241225 10:16:12] No rounding scheme detected for column 'workclass'. Data will not be rounded.\n",
      "[I 20241225 10:16:12] No rounding scheme detected for column 'fnlwgt'. Data will not be rounded.\n",
      "[I 20241225 10:16:12] No rounding scheme detected for column 'education'. Data will not be rounded.\n",
      "[I 20241225 10:16:12] No rounding scheme detected for column 'educational-num'. Data will not be rounded.\n",
      "[I 20241225 10:16:12] No rounding scheme detected for column 'marital-status'. Data will not be rounded.\n",
      "[I 20241225 10:16:12] No rounding scheme detected for column 'occupation'. Data will not be rounded.\n",
      "[I 20241225 10:16:12] No rounding scheme detected for column 'relationship'. Data will not be rounded.\n",
      "[I 20241225 10:16:12] No rounding scheme detected for column 'race'. Data will not be rounded.\n",
      "[I 20241225 10:16:12] No rounding scheme detected for column 'gender'. Data will not be rounded.\n",
      "[I 20241225 10:16:12] No rounding scheme detected for column 'capital-gain'. Data will not be rounded.\n",
      "[I 20241225 10:16:12] No rounding scheme detected for column 'capital-loss'. Data will not be rounded.\n",
      "[I 20241225 10:16:12] No rounding scheme detected for column 'hours-per-week'. Data will not be rounded.\n",
      "[I 20241225 10:16:12] No rounding scheme detected for column 'native-country'. Data will not be rounded.\n",
      "[I 20241225 10:16:12] No rounding scheme detected for column 'income'. Data will not be rounded.\n",
      "[I 20241225 10:16:12] Fitting constraints for table \n",
      "[I 20241225 10:16:12] Setting the configuration for the ``HyperTransformer`` for table \n",
      "[I 20241225 10:16:12] Fitting HyperTransformer for table \n",
      "[I 20241225 10:16:12] No rounding scheme detected for column 'age'. Data will not be rounded.\n",
      "[I 20241225 10:16:12] No rounding scheme detected for column 'workclass'. Data will not be rounded.\n",
      "[I 20241225 10:16:12] No rounding scheme detected for column 'fnlwgt'. Data will not be rounded.\n",
      "[I 20241225 10:16:12] No rounding scheme detected for column 'education'. Data will not be rounded.\n",
      "[I 20241225 10:16:12] No rounding scheme detected for column 'educational-num'. Data will not be rounded.\n",
      "[I 20241225 10:16:12] No rounding scheme detected for column 'marital-status'. Data will not be rounded.\n",
      "[I 20241225 10:16:12] No rounding scheme detected for column 'occupation'. Data will not be rounded.\n",
      "[I 20241225 10:16:12] No rounding scheme detected for column 'relationship'. Data will not be rounded.\n",
      "[I 20241225 10:16:12] No rounding scheme detected for column 'race'. Data will not be rounded.\n",
      "[I 20241225 10:16:12] No rounding scheme detected for column 'gender'. Data will not be rounded.\n",
      "[I 20241225 10:16:12] No rounding scheme detected for column 'capital-gain'. Data will not be rounded.\n",
      "[I 20241225 10:16:12] No rounding scheme detected for column 'capital-loss'. Data will not be rounded.\n",
      "[I 20241225 10:16:12] No rounding scheme detected for column 'hours-per-week'. Data will not be rounded.\n",
      "[I 20241225 10:16:12] No rounding scheme detected for column 'native-country'. Data will not be rounded.\n",
      "[I 20241225 10:16:12] No rounding scheme detected for column 'income'. Data will not be rounded.\n"
     ]
    },
    {
     "name": "stderr",
     "output_type": "stream",
     "text": [
      "/Users/justyn.chen/Dropbox/310_Career_工作/20231016_NICS_資安院/41_PETsARD/petsard/.venv/lib/python3.10/site-packages/sdv/single_table/base.py:120: FutureWarning: The 'SingleTableMetadata' is deprecated. Please use the new 'Metadata' class for synthesizers.\n",
      "  warnings.warn(DEPRECATION_MSG, FutureWarning)\n"
     ]
    },
    {
     "name": "stdout",
     "output_type": "stream",
     "text": [
      "[I 20241225 10:16:12] {'EVENT': 'Fit processed data', 'TIMESTAMP': datetime.datetime(2024, 12, 25, 10, 16, 12, 802322), 'SYNTHESIZER CLASS NAME': 'GaussianCopulaSynthesizer', 'SYNTHESIZER ID': 'GaussianCopulaSynthesizer_1.17.1_8fbf2fb0a0114021a3fade00955475dc', 'TOTAL NUMBER OF TABLES': 1, 'TOTAL NUMBER OF ROWS': 26933, 'TOTAL NUMBER OF COLUMNS': 15}\n",
      "[I 20241225 10:16:12] Fitting GaussianMultivariate(distribution=\"{'age': <class 'copulas.univariate.beta.BetaUnivariate'>, 'workclass': <class 'copulas.univariate.beta.BetaUnivariate'>, 'fnlwgt': <class 'copulas.univariate.beta.BetaUnivariate'>, 'education': <class 'copulas.univariate.beta.BetaUnivariate'>, 'educational-num': <class 'copulas.univariate.beta.BetaUnivariate'>, 'marital-status': <class 'copulas.univariate.beta.BetaUnivariate'>, 'occupation': <class 'copulas.univariate.beta.BetaUnivariate'>, 'relationship': <class 'copulas.univariate.beta.BetaUnivariate'>, 'race': <class 'copulas.univariate.beta.BetaUnivariate'>, 'gender': <class 'copulas.univariate.beta.BetaUnivariate'>, 'capital-gain': <class 'copulas.univariate.beta.BetaUnivariate'>, 'capital-loss': <class 'copulas.univariate.beta.BetaUnivariate'>, 'hours-per-week': <class 'copulas.univariate.beta.BetaUnivariate'>, 'native-country': <class 'copulas.univariate.beta.BetaUnivariate'>, 'income': <class 'copulas.univariate.beta.BetaUnivariate'>}\")\n",
      "Synthesizer (SDV): Fitting GaussianCopula spent 1.9525 sec.\n",
      "[I 20241225 10:16:15] {'EVENT': 'Sample', 'TIMESTAMP': datetime.datetime(2024, 12, 25, 10, 16, 14, 536827), 'SYNTHESIZER CLASS NAME': 'GaussianCopulaSynthesizer', 'SYNTHESIZER ID': 'GaussianCopulaSynthesizer_1.17.1_8fbf2fb0a0114021a3fade00955475dc', 'TOTAL NUMBER OF TABLES': 1, 'TOTAL NUMBER OF ROWS': 48842, 'TOTAL NUMBER OF COLUMNS': 15}\n",
      "Synthesizer (SDV): Sampling GaussianCopula # 48842 rows (same as Loader data) in 0.601 sec.\n",
      "Now is Postprocessor with demo...\n",
      "[I 20241225 10:16:15] MediatorEncoder is created.\n",
      "[I 20241225 10:16:15] scaler inverse transformation done.\n",
      "[I 20241225 10:16:15] <petsard.processor.mediator.MediatorEncoder object at 0x328b8ab60> transformation done.\n",
      "[I 20241225 10:16:15] encoder inverse transformation done.\n",
      "[I 20241225 10:16:15] missing inverse transformation done.\n",
      "[I 20241225 10:16:15] age changes data dtype from float64 to int8 for metadata alignment.\n",
      "[I 20241225 10:16:15] workclass changes data dtype from category[object] to category[object] for metadata alignment.\n",
      "[I 20241225 10:16:15] fnlwgt changes data dtype from float64 to int32 for metadata alignment.\n",
      "[I 20241225 10:16:15] education changes data dtype from category[object] to category[object] for metadata alignment.\n",
      "[I 20241225 10:16:15] educational-num changes data dtype from float64 to int8 for metadata alignment.\n",
      "[I 20241225 10:16:15] marital-status changes data dtype from category[object] to category[object] for metadata alignment.\n",
      "[I 20241225 10:16:15] occupation changes data dtype from category[object] to category[object] for metadata alignment.\n",
      "[I 20241225 10:16:15] relationship changes data dtype from category[object] to category[object] for metadata alignment.\n",
      "[I 20241225 10:16:15] race changes data dtype from category[object] to category[object] for metadata alignment.\n",
      "[I 20241225 10:16:15] gender changes data dtype from category[object] to category[object] for metadata alignment.\n",
      "[I 20241225 10:16:15] capital-gain changes data dtype from float64 to int32 for metadata alignment.\n",
      "[I 20241225 10:16:15] capital-loss changes data dtype from float64 to int16 for metadata alignment.\n",
      "[I 20241225 10:16:15] hours-per-week changes data dtype from float64 to int8 for metadata alignment.\n",
      "[I 20241225 10:16:15] native-country changes data dtype from category[object] to category[object] for metadata alignment.\n",
      "[I 20241225 10:16:15] income changes data dtype from category[object] to category[object] for metadata alignment.\n",
      "Now is Reporter with save_data...\n",
      "Now is User Story A-1_Loader[adult]_Preprocessor[demo]_Synthesizer[demo]_Postprocessor[demo] save to csv...\n"
     ]
    }
   ],
   "source": [
    "exec = Executor(config=config_file)\n",
    "exec.run()"
   ]
  },
  {
   "cell_type": "code",
   "execution_count": 4,
   "metadata": {},
   "outputs": [
    {
     "name": "stdout",
     "output_type": "stream",
     "text": [
      "{'Loader[adult]_Preprocessor[demo]_Synthesizer[demo]_Postprocessor[demo]_Reporter[save_data]': {'Loader[adult]_Preprocessor[demo]_Synthesizer[demo]_Postprocessor[demo]':        age         workclass  fnlwgt     education  educational-num  \\\n",
      "0       57           Private  229368       HS-grad               15   \n",
      "1       32           Private  174050       HS-grad               11   \n",
      "2       45         State-gov  219287     Bachelors                6   \n",
      "3       41           Private  194702  Some-college               10   \n",
      "4       36         Local-gov   63387     Assoc-voc               12   \n",
      "...    ...               ...     ...           ...              ...   \n",
      "48837   37           Private   58509     Bachelors                8   \n",
      "48838   42               nan  116218       HS-grad               11   \n",
      "48839   22           Private  229743       HS-grad               10   \n",
      "48840   54  Self-emp-not-inc   45656  Some-college               12   \n",
      "48841   38               nan   81947    Assoc-acdm                9   \n",
      "\n",
      "           marital-status         occupation   relationship   race  gender  \\\n",
      "0      Married-civ-spouse    Exec-managerial        Husband  White    Male   \n",
      "1           Never-married  Handlers-cleaners  Not-in-family  White  Female   \n",
      "2                Divorced      Other-service      Own-child  White  Female   \n",
      "3      Married-civ-spouse      Other-service        Husband  White    Male   \n",
      "4               Separated     Prof-specialty  Not-in-family  Black    Male   \n",
      "...                   ...                ...            ...    ...     ...   \n",
      "48837  Married-civ-spouse  Machine-op-inspct      Own-child  White    Male   \n",
      "48838  Married-civ-spouse      Other-service      Own-child  White  Female   \n",
      "48839       Never-married       Craft-repair        Husband  White    Male   \n",
      "48840       Never-married  Machine-op-inspct        Husband  White    Male   \n",
      "48841  Married-civ-spouse                nan        Husband  White    Male   \n",
      "\n",
      "       capital-gain  capital-loss  hours-per-week native-country income  \n",
      "0                 0             0              42  United-States  <=50K  \n",
      "1                 0             0              37  United-States   >50K  \n",
      "2                 0             0              39  United-States  <=50K  \n",
      "3                 0             0              42  United-States  <=50K  \n",
      "4                 0             0              39    Puerto-Rico  <=50K  \n",
      "...             ...           ...             ...            ...    ...  \n",
      "48837             0             0              45  United-States  <=50K  \n",
      "48838             0             0              39      Nicaragua  <=50K  \n",
      "48839             0             0              51  United-States  <=50K  \n",
      "48840             0             0              43  United-States  <=50K  \n",
      "48841             0             0              40  United-States  <=50K  \n",
      "\n",
      "[48842 rows x 15 columns]}}\n"
     ]
    }
   ],
   "source": [
    "pp.pprint(exec.get_result())"
   ]
  },
  {
   "cell_type": "markdown",
   "metadata": {},
   "source": [
    "---\n",
    "\n",
    "## User Story A-2\n",
    "**Customized Synthesizing**\n",
    "\n",
    "Given an original dataset, specified privacy enhancing data generation algorithms and parameters, the pipeline will generate a privacy enhanced dataset.\n",
    "\n",
    "給定一個原始資料集，並指定隱私強化技術生成演算法與參數，該流程會依此產生隱私強化資料集。"
   ]
  },
  {
   "cell_type": "code",
   "execution_count": 5,
   "metadata": {},
   "outputs": [
    {
     "name": "stdout",
     "output_type": "stream",
     "text": [
      "{'Loader': {'adult': {'filepath': '../benchmark/adult-income.csv',\n",
      "                      'na_values': {...}}},\n",
      " 'Preprocessor': {'demo': {'method': 'default'}},\n",
      " 'Synthesizer': {'sdv-gaussian': {'method': 'sdv-single_table-gaussiancopula'}},\n",
      " 'Postprocessor': {'demo': {'method': 'default'}},\n",
      " 'Reporter': {'save_data': {'method': 'save_data',\n",
      "                            'output': 'User Story A-1',\n",
      "                            'source': 'Postprocessor'}}}\n"
     ]
    }
   ],
   "source": [
    "config_file = '../yaml/User Story A-2.yaml'\n",
    "\n",
    "with open(config_file, 'r') as yaml_file:\n",
    "    yaml_raw: dict = yaml.safe_load(yaml_file)\n",
    "pp.pprint(yaml_raw)"
   ]
  },
  {
   "cell_type": "code",
   "execution_count": 6,
   "metadata": {},
   "outputs": [
    {
     "name": "stdout",
     "output_type": "stream",
     "text": [
      "Now is Loader with adult...\n",
      "Now is Preprocessor with demo...\n",
      "[I 20241225 10:16:15] MediatorMissing is created.\n",
      "[I 20241225 10:16:15] MediatorOutlier is created.\n",
      "[I 20241225 10:16:15] MediatorEncoder is created.\n",
      "[I 20241225 10:16:15] missing fitting done.\n",
      "[I 20241225 10:16:15] <petsard.processor.mediator.MediatorMissing object at 0x328bc8670> fitting done.\n",
      "[I 20241225 10:16:15] outlier fitting done.\n",
      "[I 20241225 10:16:15] <petsard.processor.mediator.MediatorOutlier object at 0x328b89810> fitting done.\n",
      "[I 20241225 10:16:15] encoder fitting done.\n",
      "[I 20241225 10:16:15] <petsard.processor.mediator.MediatorEncoder object at 0x328b89420> fitting done.\n",
      "[I 20241225 10:16:15] scaler fitting done.\n",
      "[I 20241225 10:16:15] missing transformation done.\n",
      "[I 20241225 10:16:15] <petsard.processor.mediator.MediatorMissing object at 0x328bc8670> transformation done.\n",
      "[I 20241225 10:16:15] outlier transformation done.\n",
      "[I 20241225 10:16:15] <petsard.processor.mediator.MediatorOutlier object at 0x328b89810> transformation done.\n",
      "[I 20241225 10:16:15] encoder transformation done.\n",
      "[I 20241225 10:16:15] <petsard.processor.mediator.MediatorEncoder object at 0x328b89420> transformation done.\n",
      "[I 20241225 10:16:15] scaler transformation done.\n",
      "Now is Synthesizer with sdv-gaussian...\n",
      "[I 20241225 10:16:15] {'EVENT': 'Instance', 'TIMESTAMP': datetime.datetime(2024, 12, 25, 10, 16, 15, 703083), 'SYNTHESIZER CLASS NAME': 'GaussianCopulaSynthesizer', 'SYNTHESIZER ID': 'GaussianCopulaSynthesizer_1.17.1_bf7766ecdab34fc18306a96e8ff6bd84'}\n",
      "Synthesizer (SDV): Fitting GaussianCopula.\n",
      "[I 20241225 10:16:15] {'EVENT': 'Fit', 'TIMESTAMP': datetime.datetime(2024, 12, 25, 10, 16, 15, 703301), 'SYNTHESIZER CLASS NAME': 'GaussianCopulaSynthesizer', 'SYNTHESIZER ID': 'GaussianCopulaSynthesizer_1.17.1_bf7766ecdab34fc18306a96e8ff6bd84', 'TOTAL NUMBER OF TABLES': 1, 'TOTAL NUMBER OF ROWS': 26933, 'TOTAL NUMBER OF COLUMNS': 15}\n",
      "[I 20241225 10:16:15] Fitting table  metadata\n",
      "[I 20241225 10:16:15] Fitting formatters for table \n",
      "[I 20241225 10:16:15] No rounding scheme detected for column 'age'. Data will not be rounded.\n",
      "[I 20241225 10:16:15] No rounding scheme detected for column 'workclass'. Data will not be rounded.\n",
      "[I 20241225 10:16:15] No rounding scheme detected for column 'fnlwgt'. Data will not be rounded.\n",
      "[I 20241225 10:16:15] No rounding scheme detected for column 'education'. Data will not be rounded.\n",
      "[I 20241225 10:16:15] No rounding scheme detected for column 'educational-num'. Data will not be rounded.\n",
      "[I 20241225 10:16:15] No rounding scheme detected for column 'marital-status'. Data will not be rounded.\n",
      "[I 20241225 10:16:15] No rounding scheme detected for column 'occupation'. Data will not be rounded.\n",
      "[I 20241225 10:16:15] No rounding scheme detected for column 'relationship'. Data will not be rounded.\n",
      "[I 20241225 10:16:15] No rounding scheme detected for column 'race'. Data will not be rounded.\n",
      "[I 20241225 10:16:15] No rounding scheme detected for column 'gender'. Data will not be rounded.\n",
      "[I 20241225 10:16:15] No rounding scheme detected for column 'capital-gain'. Data will not be rounded.\n",
      "[I 20241225 10:16:15] No rounding scheme detected for column 'capital-loss'. Data will not be rounded.\n",
      "[I 20241225 10:16:15] No rounding scheme detected for column 'hours-per-week'. Data will not be rounded.\n",
      "[I 20241225 10:16:15] No rounding scheme detected for column 'native-country'. Data will not be rounded.\n",
      "[I 20241225 10:16:15] No rounding scheme detected for column 'income'. Data will not be rounded.\n",
      "[I 20241225 10:16:15] Fitting constraints for table \n",
      "[I 20241225 10:16:15] Setting the configuration for the ``HyperTransformer`` for table \n",
      "[I 20241225 10:16:15] Fitting HyperTransformer for table \n",
      "[I 20241225 10:16:15] No rounding scheme detected for column 'age'. Data will not be rounded.\n",
      "[I 20241225 10:16:15] No rounding scheme detected for column 'workclass'. Data will not be rounded.\n",
      "[I 20241225 10:16:15] No rounding scheme detected for column 'fnlwgt'. Data will not be rounded.\n",
      "[I 20241225 10:16:15] No rounding scheme detected for column 'education'. Data will not be rounded.\n",
      "[I 20241225 10:16:15] No rounding scheme detected for column 'educational-num'. Data will not be rounded.\n",
      "[I 20241225 10:16:15] No rounding scheme detected for column 'marital-status'. Data will not be rounded.\n",
      "[I 20241225 10:16:15] No rounding scheme detected for column 'occupation'. Data will not be rounded.\n",
      "[I 20241225 10:16:15] No rounding scheme detected for column 'relationship'. Data will not be rounded.\n",
      "[I 20241225 10:16:15] No rounding scheme detected for column 'race'. Data will not be rounded.\n",
      "[I 20241225 10:16:15] No rounding scheme detected for column 'gender'. Data will not be rounded.\n",
      "[I 20241225 10:16:15] No rounding scheme detected for column 'capital-gain'. Data will not be rounded.\n",
      "[I 20241225 10:16:15] No rounding scheme detected for column 'capital-loss'. Data will not be rounded.\n",
      "[I 20241225 10:16:15] No rounding scheme detected for column 'hours-per-week'. Data will not be rounded.\n",
      "[I 20241225 10:16:15] No rounding scheme detected for column 'native-country'. Data will not be rounded.\n"
     ]
    },
    {
     "name": "stderr",
     "output_type": "stream",
     "text": [
      "/Users/justyn.chen/Dropbox/310_Career_工作/20231016_NICS_資安院/41_PETsARD/petsard/.venv/lib/python3.10/site-packages/sdv/single_table/base.py:120: FutureWarning: The 'SingleTableMetadata' is deprecated. Please use the new 'Metadata' class for synthesizers.\n",
      "  warnings.warn(DEPRECATION_MSG, FutureWarning)\n"
     ]
    },
    {
     "name": "stdout",
     "output_type": "stream",
     "text": [
      "[I 20241225 10:16:15] No rounding scheme detected for column 'income'. Data will not be rounded.\n",
      "[I 20241225 10:16:15] {'EVENT': 'Fit processed data', 'TIMESTAMP': datetime.datetime(2024, 12, 25, 10, 16, 15, 934240), 'SYNTHESIZER CLASS NAME': 'GaussianCopulaSynthesizer', 'SYNTHESIZER ID': 'GaussianCopulaSynthesizer_1.17.1_bf7766ecdab34fc18306a96e8ff6bd84', 'TOTAL NUMBER OF TABLES': 1, 'TOTAL NUMBER OF ROWS': 26933, 'TOTAL NUMBER OF COLUMNS': 15}\n",
      "[I 20241225 10:16:15] Fitting GaussianMultivariate(distribution=\"{'age': <class 'copulas.univariate.beta.BetaUnivariate'>, 'workclass': <class 'copulas.univariate.beta.BetaUnivariate'>, 'fnlwgt': <class 'copulas.univariate.beta.BetaUnivariate'>, 'education': <class 'copulas.univariate.beta.BetaUnivariate'>, 'educational-num': <class 'copulas.univariate.beta.BetaUnivariate'>, 'marital-status': <class 'copulas.univariate.beta.BetaUnivariate'>, 'occupation': <class 'copulas.univariate.beta.BetaUnivariate'>, 'relationship': <class 'copulas.univariate.beta.BetaUnivariate'>, 'race': <class 'copulas.univariate.beta.BetaUnivariate'>, 'gender': <class 'copulas.univariate.beta.BetaUnivariate'>, 'capital-gain': <class 'copulas.univariate.beta.BetaUnivariate'>, 'capital-loss': <class 'copulas.univariate.beta.BetaUnivariate'>, 'hours-per-week': <class 'copulas.univariate.beta.BetaUnivariate'>, 'native-country': <class 'copulas.univariate.beta.BetaUnivariate'>, 'income': <class 'copulas.univariate.beta.BetaUnivariate'>}\")\n",
      "Synthesizer (SDV): Fitting GaussianCopula spent 2.0018 sec.\n",
      "[I 20241225 10:16:18] {'EVENT': 'Sample', 'TIMESTAMP': datetime.datetime(2024, 12, 25, 10, 16, 17, 705174), 'SYNTHESIZER CLASS NAME': 'GaussianCopulaSynthesizer', 'SYNTHESIZER ID': 'GaussianCopulaSynthesizer_1.17.1_bf7766ecdab34fc18306a96e8ff6bd84', 'TOTAL NUMBER OF TABLES': 1, 'TOTAL NUMBER OF ROWS': 48842, 'TOTAL NUMBER OF COLUMNS': 15}\n",
      "Synthesizer (SDV): Sampling GaussianCopula # 48842 rows (same as Loader data) in 0.6053 sec.\n",
      "Now is Postprocessor with demo...\n",
      "[I 20241225 10:16:18] MediatorEncoder is created.\n",
      "[I 20241225 10:16:18] scaler inverse transformation done.\n",
      "[I 20241225 10:16:18] <petsard.processor.mediator.MediatorEncoder object at 0x328b89420> transformation done.\n",
      "[I 20241225 10:16:18] encoder inverse transformation done.\n",
      "[I 20241225 10:16:18] missing inverse transformation done.\n",
      "[I 20241225 10:16:18] age changes data dtype from float64 to int8 for metadata alignment.\n",
      "[I 20241225 10:16:18] workclass changes data dtype from category[object] to category[object] for metadata alignment.\n",
      "[I 20241225 10:16:18] fnlwgt changes data dtype from float64 to int32 for metadata alignment.\n",
      "[I 20241225 10:16:18] education changes data dtype from category[object] to category[object] for metadata alignment.\n",
      "[I 20241225 10:16:18] educational-num changes data dtype from float64 to int8 for metadata alignment.\n",
      "[I 20241225 10:16:18] marital-status changes data dtype from category[object] to category[object] for metadata alignment.\n",
      "[I 20241225 10:16:18] occupation changes data dtype from category[object] to category[object] for metadata alignment.\n",
      "[I 20241225 10:16:18] relationship changes data dtype from category[object] to category[object] for metadata alignment.\n",
      "[I 20241225 10:16:18] race changes data dtype from category[object] to category[object] for metadata alignment.\n",
      "[I 20241225 10:16:18] gender changes data dtype from category[object] to category[object] for metadata alignment.\n",
      "[I 20241225 10:16:18] capital-gain changes data dtype from float64 to int32 for metadata alignment.\n",
      "[I 20241225 10:16:18] capital-loss changes data dtype from float64 to int16 for metadata alignment.\n",
      "[I 20241225 10:16:18] hours-per-week changes data dtype from float64 to int8 for metadata alignment.\n",
      "[I 20241225 10:16:18] native-country changes data dtype from category[object] to category[object] for metadata alignment.\n",
      "[I 20241225 10:16:18] income changes data dtype from category[object] to category[object] for metadata alignment.\n",
      "Now is Reporter with save_data...\n",
      "Now is User Story A-1_Loader[adult]_Preprocessor[demo]_Synthesizer[sdv-gaussian]_Postprocessor[demo] save to csv...\n"
     ]
    }
   ],
   "source": [
    "exec = Executor(config=config_file)\n",
    "exec.run()"
   ]
  },
  {
   "cell_type": "code",
   "execution_count": 7,
   "metadata": {},
   "outputs": [
    {
     "name": "stdout",
     "output_type": "stream",
     "text": [
      "{'Loader[adult]_Preprocessor[demo]_Synthesizer[sdv-gaussian]_Postprocessor[demo]_Reporter[save_data]': {'Loader[adult]_Preprocessor[demo]_Synthesizer[sdv-gaussian]_Postprocessor[demo]':        age         workclass  fnlwgt     education  educational-num  \\\n",
      "0       49           Private   93877       HS-grad               15   \n",
      "1       26           Private  120365       HS-grad               11   \n",
      "2       34           Private   75685     Bachelors                7   \n",
      "3       45           Private  162432       HS-grad               10   \n",
      "4       27           Private  329521    Assoc-acdm               13   \n",
      "...    ...               ...     ...           ...              ...   \n",
      "48837   46  Self-emp-not-inc  260922  Some-college                7   \n",
      "48838   52           Private  281446       HS-grad               10   \n",
      "48839   32         State-gov  275351       HS-grad               10   \n",
      "48840   49           Private  202259  Some-college               12   \n",
      "48841   47           Private  288862     Assoc-voc                9   \n",
      "\n",
      "           marital-status         occupation relationship   race  gender  \\\n",
      "0           Never-married    Exec-managerial      Husband  White    Male   \n",
      "1      Married-civ-spouse    Farming-fishing    Own-child  White    Male   \n",
      "2                Divorced       Adm-clerical    Unmarried  White  Female   \n",
      "3           Never-married      Other-service      Husband  White    Male   \n",
      "4      Married-civ-spouse     Prof-specialty    Unmarried  White  Female   \n",
      "...                   ...                ...          ...    ...     ...   \n",
      "48837       Never-married  Machine-op-inspct      Husband  White    Male   \n",
      "48838             Widowed                nan         Wife  White    Male   \n",
      "48839  Married-civ-spouse       Craft-repair    Own-child  White    Male   \n",
      "48840  Married-civ-spouse      Other-service      Husband  White    Male   \n",
      "48841  Married-civ-spouse  Handlers-cleaners      Husband  White    Male   \n",
      "\n",
      "       capital-gain  capital-loss  hours-per-week native-country income  \n",
      "0                 0             0              44  United-States  <=50K  \n",
      "1                 0             0              43  United-States   >50K  \n",
      "2                 0             0              42  United-States  <=50K  \n",
      "3                 0             0              41  United-States  <=50K  \n",
      "4                 0             0              39  United-States  <=50K  \n",
      "...             ...           ...             ...            ...    ...  \n",
      "48837             0             0              40  United-States  <=50K  \n",
      "48838             0             0              36  United-States   >50K  \n",
      "48839             0             0              44    El-Salvador  <=50K  \n",
      "48840             0             0              41  United-States  <=50K  \n",
      "48841             0             0              38  United-States  <=50K  \n",
      "\n",
      "[48842 rows x 15 columns]}}\n"
     ]
    }
   ],
   "source": [
    "pp.pprint(exec.get_result())"
   ]
  }
 ],
 "metadata": {
  "kernelspec": {
   "display_name": ".venv",
   "language": "python",
   "name": "python3"
  },
  "language_info": {
   "codemirror_mode": {
    "name": "ipython",
    "version": 3
   },
   "file_extension": ".py",
   "mimetype": "text/x-python",
   "name": "python",
   "nbconvert_exporter": "python",
   "pygments_lexer": "ipython3",
   "version": "3.10.15"
  }
 },
 "nbformat": 4,
 "nbformat_minor": 2
}
