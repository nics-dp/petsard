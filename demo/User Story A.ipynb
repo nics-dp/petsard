{
 "cells": [
  {
   "cell_type": "markdown",
   "metadata": {},
   "source": [
    "# User Story A\n",
    "**Privacy Enhancing Data Generation**\n",
    "\n",
    "This demo will show how to generate privacy-enhanced data using `PETsARD`.\n",
    "\n",
    "In this demonstration, you, as the user, already possess a data file locally, and `PETsARD` will assist you in loading that file and then generating a privacy-enhanced version of it.\n",
    "\n",
    "At the same time, privacy-enhancing algorithms often have format restrictions and require specific pre-processing and post-processing procedures to function correctly. However, `PETsARD` has taken this into account for the user. `PETsARD` offers both default and customizable preprocessing and postprocessing workflows to help users get started quickly.\n",
    "\n",
    "本示範將展示如何使用 `PETsARD` 生成隱私強化資料。\n",
    "\n",
    "在這個示範中，您作為使用者，在本機上已經擁有一份資料檔案，而 `PETsARD` 將幫助您讀取該檔案、然後生成經隱私強化後的版本。\n",
    "\n",
    "同時，隱私強化演算法通常都有格式的限制，必須經過特定的前處理 (Pre-processing) 與後處理 (Post-processing) 程序才能正確運作，但 `PETsARD` 已經為使用者考慮到這點，`PETsARD` 提供預設與可客製化的前後處理流程，幫助使用者快速上手。"
   ]
  },
  {
   "cell_type": "markdown",
   "metadata": {},
   "source": [
    "---\n",
    "\n",
    "## Environment"
   ]
  },
  {
   "cell_type": "code",
   "execution_count": 1,
   "metadata": {},
   "outputs": [
    {
     "name": "stdout",
     "output_type": "stream",
     "text": [
      "d:\\Dropbox\\89_other_application\\GitHub\\PETsARD\n"
     ]
    }
   ],
   "source": [
    "import os\n",
    "import pprint\n",
    "import sys\n",
    "\n",
    "import yaml\n",
    "\n",
    "\n",
    "# Setting up the path to the PETsARD package\n",
    "path_petsard = os.path.dirname(os.getcwd())\n",
    "print(path_petsard)\n",
    "sys.path.append(path_petsard)\n",
    "\n",
    "\n",
    "from PETsARD import Executor"
   ]
  },
  {
   "cell_type": "markdown",
   "metadata": {},
   "source": [
    "> `Demo_UserStory` is a function created for demonstrating details and can be ignored.\n",
    ">\n",
    "> `Demo_UserStory` 是為了展現示範細節而建立的函式，可忽略。"
   ]
  },
  {
   "cell_type": "code",
   "execution_count": 2,
   "metadata": {},
   "outputs": [],
   "source": [
    "def Demo_UserStory(config_file: str):\n",
    "    print(f\"YAML file {config_file} is ...\")\n",
    "    print(f\"\")\n",
    "    pp = pprint.PrettyPrinter(depth=3, sort_dicts=False)\n",
    "    with open(config_file, 'r') as yaml_file:\n",
    "        yaml_raw: dict = yaml.safe_load(yaml_file)\n",
    "    pp.pprint(yaml_raw)\n",
    "\n",
    "    print(f\"\")\n",
    "    print(f\"\")\n",
    "    print(f\"Here's the execution...\")\n",
    "    print(f\"\")\n",
    "    exec = Executor(config=config_file)\n",
    "    exec.run()\n",
    "\n",
    "    print(f\"\")\n",
    "    print(f\"\")\n",
    "    print(f\"Here's the result...\")\n",
    "    print(f\"\")\n",
    "    pp.pprint(exec.get_result())"
   ]
  },
  {
   "cell_type": "markdown",
   "metadata": {},
   "source": [
    "---\n",
    "\n",
    "## User Story A-1\n",
    "**Default Synthesizing**\n",
    "\n",
    "Given an original dataset without specified algorithm, the pipeline will generate a list of privacy enhanced datasets using the default algorithms.\n",
    "\n",
    "給定一個原始資料集、但未指定演算法，該流程會利用預設的演算法生成一組隱私強化資料集。"
   ]
  },
  {
   "cell_type": "code",
   "execution_count": 3,
   "metadata": {},
   "outputs": [
    {
     "name": "stdout",
     "output_type": "stream",
     "text": [
      "YAML file ../yaml/User Story A-1.yaml is ...\n",
      "\n",
      "{'Loader': {'adult': {'filepath': 'benchmark/adult-income.csv',\n",
      "                      'na_values': {...}}},\n",
      " 'Preprocessor': {'demo': {'method': 'default'}},\n",
      " 'Synthesizer': {'demo': {'method': 'default'}},\n",
      " 'Postprocessor': {'demo': {'method': 'default'}},\n",
      " 'Reporter': {'save_data': {'method': 'save_data',\n",
      "                            'output': 'User Story A-1',\n",
      "                            'source': 'Postprocessor'}}}\n",
      "\n",
      "\n",
      "Here's the execution...\n",
      "\n",
      "Now is Loader with adult...\n",
      "Now is Preprocessor with demo...\n",
      "Now is Synthesizer with demo...\n",
      "Synthesizer (SDV - SingleTable): Metafile loading time: 0.0332 sec.\n",
      "Synthesizer (SDV - SingleTable): Fitting GaussianCopula.\n"
     ]
    },
    {
     "name": "stderr",
     "output_type": "stream",
     "text": [
      "d:\\Dropbox\\89_other_application\\GitHub\\PETsARD\\.venv\\lib\\site-packages\\sdv\\single_table\\base.py:79: UserWarning: We strongly recommend saving the metadata using 'save_to_json' for replicability in future SDV versions.\n",
      "  warnings.warn(\n"
     ]
    },
    {
     "name": "stdout",
     "output_type": "stream",
     "text": [
      "Synthesizer (SDV - SingleTable): Fitting  GaussianCopula spent 9.0607 sec.\n",
      "Synthesizer (SDV - SingleTable): Sampling GaussianCopula # 26933 rows (same as raw) in 2.0549 sec.\n",
      "Now is Postprocessor with demo...\n",
      "Now is Reporter with save_data...\n",
      "Now is User Story A-1_Loader[adult]_Preprocessor[demo]_Synthesizer[demo]_Postprocessor[demo] save to csv...\n",
      "\n",
      "\n",
      "Here's the result...\n",
      "\n",
      "{'Loader[adult]_Preprocessor[demo]_Synthesizer[demo]_Postprocessor[demo]_Reporter[save_data]': {'Loader[adult]_Preprocessor[demo]_Synthesizer[demo]_Postprocessor[demo]':              age         workclass         fnlwgt     education  \\\n",
      "0      58.647438           Private  216879.625908  Some-college   \n",
      "1      60.716784           Private  248672.610863       HS-grad   \n",
      "2      42.695603      Self-emp-inc  249941.342762       HS-grad   \n",
      "3      29.885012           Private  153584.990010       HS-grad   \n",
      "4      32.526642  Self-emp-not-inc   90421.995613   Prof-school   \n",
      "...          ...               ...            ...           ...   \n",
      "26928  21.735505         Local-gov  139096.476727       7th-8th   \n",
      "26929  24.054508           Private  100669.707495     Bachelors   \n",
      "26930  45.630188           Private   16482.608261       HS-grad   \n",
      "26931  36.924646           Private   58326.566318       Masters   \n",
      "26932  18.923221           Private  244950.004185       7th-8th   \n",
      "\n",
      "       educational-num      marital-status         occupation   relationship  \\\n",
      "0            14.863029  Married-civ-spouse      Other-service  Not-in-family   \n",
      "1             9.319425       Never-married      Other-service        Husband   \n",
      "2             6.681471            Divorced       Craft-repair      Own-child   \n",
      "3            10.691303  Married-civ-spouse  Machine-op-inspct  Not-in-family   \n",
      "4            12.121018       Never-married    Exec-managerial  Not-in-family   \n",
      "...                ...                 ...                ...            ...   \n",
      "26928        14.241312       Never-married       Adm-clerical      Own-child   \n",
      "26929         5.683560             Widowed       Adm-clerical           Wife   \n",
      "26930         7.118226       Never-married      Other-service        Husband   \n",
      "26931        12.528877       Never-married     Prof-specialty  Not-in-family   \n",
      "26932         9.187189  Married-civ-spouse     Prof-specialty      Unmarried   \n",
      "\n",
      "                     race  gender  capital-gain  capital-loss  hours-per-week  \\\n",
      "0                   White    Male           0.0           0.0       42.106155   \n",
      "1                   Black    Male           0.0           0.0       40.881108   \n",
      "2                   White  Female           0.0           0.0       41.194219   \n",
      "3                   White    Male           0.0           0.0       39.687963   \n",
      "4      Asian-Pac-Islander  Female           0.0           0.0       41.063633   \n",
      "...                   ...     ...           ...           ...             ...   \n",
      "26928               White    Male           0.0           0.0       41.943407   \n",
      "26929               White  Female           0.0           0.0       41.030045   \n",
      "26930               White    Male           0.0           0.0       52.000000   \n",
      "26931               Black  Female           0.0           0.0       39.846307   \n",
      "26932               White  Female           0.0           0.0       47.820794   \n",
      "\n",
      "      native-country income  \n",
      "0      United-States   >50K  \n",
      "1      United-States  <=50K  \n",
      "2      United-States  <=50K  \n",
      "3      United-States  <=50K  \n",
      "4        Philippines  <=50K  \n",
      "...              ...    ...  \n",
      "26928  United-States  <=50K  \n",
      "26929  United-States  <=50K  \n",
      "26930  United-States  <=50K  \n",
      "26931  United-States  <=50K  \n",
      "26932  United-States   >50K  \n",
      "\n",
      "[26933 rows x 15 columns]}}\n"
     ]
    }
   ],
   "source": [
    "config_file = '../yaml/User Story A-1.yaml'\n",
    "\n",
    "Demo_UserStory(config_file = config_file)"
   ]
  },
  {
   "cell_type": "markdown",
   "metadata": {},
   "source": [
    "---\n",
    "\n",
    "## User Story A-2\n",
    "**Customized Synthesizing**\n",
    "\n",
    "Given an original dataset, specified privacy enhancing data generation algorithms and parameters, the pipeline will generate a privacy enhanced dataset.\n",
    "\n",
    "給定一個原始資料集，並指定隱私強化技術生成演算法與參數，該流程會依此產生隱私強化資料集。"
   ]
  },
  {
   "cell_type": "code",
   "execution_count": 4,
   "metadata": {},
   "outputs": [
    {
     "name": "stdout",
     "output_type": "stream",
     "text": [
      "YAML file ../yaml/User Story A-2.yaml is ...\n",
      "\n",
      "{'Loader': {'adult': {'filepath': 'benchmark/adult-income.csv',\n",
      "                      'na_values': {...}}},\n",
      " 'Preprocessor': {'demo': {'method': 'default'}},\n",
      " 'Synthesizer': {'sdv-gaussian': {'method': 'sdv-single_table-gaussiancopula'}},\n",
      " 'Postprocessor': {'demo': {'method': 'default'}},\n",
      " 'Reporter': {'save_data': {'method': 'save_data',\n",
      "                            'output': 'User Story A-1',\n",
      "                            'source': 'Postprocessor'}}}\n",
      "\n",
      "\n",
      "Here's the execution...\n",
      "\n",
      "Now is Loader with adult...\n",
      "Now is Preprocessor with demo...\n",
      "Now is Synthesizer with sdv-gaussian...\n",
      "Synthesizer (SDV - SingleTable): Metafile loading time: 0.0519 sec.\n",
      "Synthesizer (SDV - SingleTable): Fitting GaussianCopula.\n"
     ]
    },
    {
     "name": "stderr",
     "output_type": "stream",
     "text": [
      "d:\\Dropbox\\89_other_application\\GitHub\\PETsARD\\.venv\\lib\\site-packages\\sdv\\single_table\\base.py:79: UserWarning: We strongly recommend saving the metadata using 'save_to_json' for replicability in future SDV versions.\n",
      "  warnings.warn(\n"
     ]
    },
    {
     "name": "stdout",
     "output_type": "stream",
     "text": [
      "Synthesizer (SDV - SingleTable): Fitting  GaussianCopula spent 9.5274 sec.\n",
      "Synthesizer (SDV - SingleTable): Sampling GaussianCopula # 26933 rows (same as raw) in 1.9937 sec.\n",
      "Now is Postprocessor with demo...\n",
      "Now is Reporter with save_data...\n",
      "Now is User Story A-1_Loader[adult]_Preprocessor[demo]_Synthesizer[sdv-gaussian]_Postprocessor[demo] save to csv...\n",
      "\n",
      "\n",
      "Here's the result...\n",
      "\n",
      "{'Loader[adult]_Preprocessor[demo]_Synthesizer[sdv-gaussian]_Postprocessor[demo]_Reporter[save_data]': {'Loader[adult]_Preprocessor[demo]_Synthesizer[sdv-gaussian]_Postprocessor[demo]':              age  workclass         fnlwgt     education  educational-num  \\\n",
      "0      42.810940  State-gov  183788.572722       7th-8th         8.865577   \n",
      "1      42.678573    Private  245803.371231  Some-college         7.646509   \n",
      "2      34.769530    Private  236701.145906       HS-grad        12.091632   \n",
      "3      33.421147    Private  144041.114748       HS-grad         7.856730   \n",
      "4      32.443428    Private  122598.977489          11th        13.889928   \n",
      "...          ...        ...            ...           ...              ...   \n",
      "26928  33.643542    Private  153046.464801    Assoc-acdm        12.389048   \n",
      "26929  34.473922    Private  108858.041583       HS-grad        11.951097   \n",
      "26930  50.052436    Private   15252.278285       HS-grad         9.240488   \n",
      "26931  41.521728    Private   88685.157113  Some-college        13.048807   \n",
      "26932  30.451460    Private  201063.921840       Masters        15.627674   \n",
      "\n",
      "           marital-status         occupation   relationship  \\\n",
      "0      Married-civ-spouse       Craft-repair        Husband   \n",
      "1           Never-married    Exec-managerial  Not-in-family   \n",
      "2           Never-married       Adm-clerical      Own-child   \n",
      "3      Married-civ-spouse      Other-service        Husband   \n",
      "4                Divorced     Prof-specialty           Wife   \n",
      "...                   ...                ...            ...   \n",
      "26928  Married-civ-spouse    Exec-managerial  Not-in-family   \n",
      "26929           Separated  Handlers-cleaners           Wife   \n",
      "26930  Married-civ-spouse      Other-service        Husband   \n",
      "26931            Divorced     Prof-specialty      Own-child   \n",
      "26932       Never-married       Tech-support  Not-in-family   \n",
      "\n",
      "                     race  gender  capital-gain  capital-loss  hours-per-week  \\\n",
      "0                   White    Male           0.0           0.0       41.518453   \n",
      "1                   White    Male           0.0           0.0       44.814538   \n",
      "2                   White  Female           0.0           0.0       36.046540   \n",
      "3                   White    Male           0.0           0.0       40.166525   \n",
      "4                   White    Male           0.0           0.0       43.593922   \n",
      "...                   ...     ...           ...           ...             ...   \n",
      "26928               White  Female           0.0           0.0       40.678117   \n",
      "26929               White  Female           0.0           0.0       36.714016   \n",
      "26930               White    Male           0.0           0.0       43.446853   \n",
      "26931               White    Male           0.0           0.0       49.039458   \n",
      "26932  Amer-Indian-Eskimo    Male           0.0           0.0       38.695201   \n",
      "\n",
      "      native-country income  \n",
      "0      United-States   >50K  \n",
      "1      United-States  <=50K  \n",
      "2      United-States  <=50K  \n",
      "3      United-States   >50K  \n",
      "4      United-States  <=50K  \n",
      "...              ...    ...  \n",
      "26928        Germany   >50K  \n",
      "26929  United-States  <=50K  \n",
      "26930  United-States  <=50K  \n",
      "26931  United-States  <=50K  \n",
      "26932  United-States  <=50K  \n",
      "\n",
      "[26933 rows x 15 columns]}}\n"
     ]
    }
   ],
   "source": [
    "config_file = '../yaml/User Story A-2.yaml'\n",
    "\n",
    "Demo_UserStory(config_file = config_file)"
   ]
  }
 ],
 "metadata": {
  "kernelspec": {
   "display_name": ".venv",
   "language": "python",
   "name": "python3"
  },
  "language_info": {
   "codemirror_mode": {
    "name": "ipython",
    "version": 3
   },
   "file_extension": ".py",
   "mimetype": "text/x-python",
   "name": "python",
   "nbconvert_exporter": "python",
   "pygments_lexer": "ipython3",
   "version": "3.10.11"
  }
 },
 "nbformat": 4,
 "nbformat_minor": 2
}
