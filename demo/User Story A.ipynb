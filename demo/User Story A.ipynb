{
 "cells": [
  {
   "cell_type": "markdown",
   "metadata": {},
   "source": [
    "# User Story A\n",
    "**Privacy Enhancing Data Generation**\n",
    "\n",
    "This demo will show how to generate privacy-enhanced data using `PETsARD`.\n",
    "\n",
    "In this demonstration, you, as the user, already possess a data file locally, and `PETsARD` will assist you in loading that file and then generating a privacy-enhanced version of it.\n",
    "\n",
    "At the same time, privacy-enhancing algorithms often have format restrictions and require specific pre-processing and post-processing procedures to function correctly. However, `PETsARD` has taken this into account for the user. `PETsARD` offers both default and customizable preprocessing and postprocessing workflows to help users get started quickly.\n",
    "\n",
    "本示範將展示如何使用 `PETsARD` 生成隱私強化資料。\n",
    "\n",
    "在這個示範中，您作為使用者，在本機上已經擁有一份資料檔案，而 `PETsARD` 將幫助您讀取該檔案、然後生成經隱私強化後的版本。\n",
    "\n",
    "同時，隱私強化演算法通常都有格式的限制，必須經過特定的前處理 (Pre-processing) 與後處理 (Post-processing) 程序才能正確運作，但 `PETsARD` 已經為使用者考慮到這點，`PETsARD` 提供預設與可客製化的前後處理流程，幫助使用者快速上手。"
   ]
  },
  {
   "cell_type": "markdown",
   "metadata": {},
   "source": [
    "---\n",
    "\n",
    "## Environment"
   ]
  },
  {
   "cell_type": "code",
   "execution_count": 8,
   "metadata": {},
   "outputs": [
    {
     "name": "stdout",
     "output_type": "stream",
     "text": [
      "/Users/justyn.chen/Dropbox/310_Career_工作/20231016_NICS_資安院/41_PETsARD/PETsARD\n"
     ]
    }
   ],
   "source": [
    "import os\n",
    "import pprint\n",
    "import sys\n",
    "\n",
    "import yaml\n",
    "\n",
    "\n",
    "# Setting up the path to the PETsARD package\n",
    "path_petsard = os.path.dirname(os.getcwd())\n",
    "print(path_petsard)\n",
    "sys.path.append(path_petsard)\n",
    "# setting for pretty priny YAML\n",
    "pp = pprint.PrettyPrinter(depth=3, sort_dicts=False)\n",
    "\n",
    "\n",
    "from PETsARD import Executor"
   ]
  },
  {
   "cell_type": "markdown",
   "metadata": {},
   "source": [
    "---\n",
    "\n",
    "## User Story A-1\n",
    "**Default Synthesizing**\n",
    "\n",
    "Given an original dataset without specified algorithm, the pipeline will generate a list of privacy enhanced datasets using the default algorithms.\n",
    "\n",
    "給定一個原始資料集、但未指定演算法，該流程會利用預設的演算法生成一組隱私強化資料集。"
   ]
  },
  {
   "cell_type": "code",
   "execution_count": 9,
   "metadata": {},
   "outputs": [
    {
     "name": "stdout",
     "output_type": "stream",
     "text": [
      "{'Loader': {'adult': {'filepath': 'benchmark/adult-income.csv',\n",
      "                      'na_values': {...}}},\n",
      " 'Preprocessor': {'demo': {'method': 'default'}},\n",
      " 'Synthesizer': {'demo': {'method': 'default'}},\n",
      " 'Postprocessor': {'demo': {'method': 'default'}},\n",
      " 'Reporter': {'save_data': {'method': 'save_data',\n",
      "                            'output': 'User Story A-1',\n",
      "                            'source': 'Postprocessor'}}}\n"
     ]
    }
   ],
   "source": [
    "config_file = '../yaml/User Story A-1.yaml'\n",
    "\n",
    "with open(config_file, 'r') as yaml_file:\n",
    "    yaml_raw: dict = yaml.safe_load(yaml_file)\n",
    "pp.pprint(yaml_raw)"
   ]
  },
  {
   "cell_type": "code",
   "execution_count": 10,
   "metadata": {},
   "outputs": [
    {
     "name": "stdout",
     "output_type": "stream",
     "text": [
      "Now is Loader with adult...\n",
      "Now is Preprocessor with demo...\n",
      "[I 20241108 10:53:24] MediatorMissing is created.\n",
      "[I 20241108 10:53:24] MediatorOutlier is created.\n",
      "[I 20241108 10:53:24] MediatorEncoder is created.\n",
      "[I 20241108 10:53:24] missing fitting done.\n",
      "[I 20241108 10:53:24] <PETsARD.processor.mediator.MediatorMissing object at 0x328c01ea0> fitting done.\n",
      "[I 20241108 10:53:24] outlier fitting done.\n",
      "[I 20241108 10:53:24] <PETsARD.processor.mediator.MediatorOutlier object at 0x328c43c10> fitting done.\n",
      "[I 20241108 10:53:24] encoder fitting done.\n",
      "[I 20241108 10:53:24] <PETsARD.processor.mediator.MediatorEncoder object at 0x328c40340> fitting done.\n",
      "[I 20241108 10:53:24] scaler fitting done.\n",
      "[I 20241108 10:53:24] missing transformation done.\n",
      "[I 20241108 10:53:24] <PETsARD.processor.mediator.MediatorMissing object at 0x328c01ea0> transformation done.\n",
      "[I 20241108 10:53:24] outlier transformation done.\n",
      "[I 20241108 10:53:24] <PETsARD.processor.mediator.MediatorOutlier object at 0x328c43c10> transformation done.\n",
      "[I 20241108 10:53:24] encoder transformation done.\n",
      "[I 20241108 10:53:24] <PETsARD.processor.mediator.MediatorEncoder object at 0x328c40340> transformation done.\n",
      "[I 20241108 10:53:24] scaler transformation done.\n",
      "Now is Synthesizer with demo...\n",
      "[I 20241108 10:53:24] {'EVENT': 'Instance', 'TIMESTAMP': datetime.datetime(2024, 11, 8, 10, 53, 24, 888445), 'SYNTHESIZER CLASS NAME': 'GaussianCopulaSynthesizer', 'SYNTHESIZER ID': 'GaussianCopulaSynthesizer_1.17.1_59c6cf4b2d5a40d5811c8108878a0527'}\n",
      "Synthesizer (SDV): Fitting GaussianCopula.\n",
      "[I 20241108 10:53:24] {'EVENT': 'Fit', 'TIMESTAMP': datetime.datetime(2024, 11, 8, 10, 53, 24, 888728), 'SYNTHESIZER CLASS NAME': 'GaussianCopulaSynthesizer', 'SYNTHESIZER ID': 'GaussianCopulaSynthesizer_1.17.1_59c6cf4b2d5a40d5811c8108878a0527', 'TOTAL NUMBER OF TABLES': 1, 'TOTAL NUMBER OF ROWS': 26933, 'TOTAL NUMBER OF COLUMNS': 15}\n",
      "[I 20241108 10:53:25] Fitting table  metadata\n",
      "[I 20241108 10:53:25] Fitting formatters for table \n",
      "[I 20241108 10:53:25] No rounding scheme detected for column 'age'. Data will not be rounded.\n",
      "[I 20241108 10:53:25] No rounding scheme detected for column 'workclass'. Data will not be rounded.\n",
      "[I 20241108 10:53:25] No rounding scheme detected for column 'fnlwgt'. Data will not be rounded.\n",
      "[I 20241108 10:53:25] No rounding scheme detected for column 'education'. Data will not be rounded.\n",
      "[I 20241108 10:53:25] No rounding scheme detected for column 'educational-num'. Data will not be rounded.\n",
      "[I 20241108 10:53:25] No rounding scheme detected for column 'marital-status'. Data will not be rounded.\n",
      "[I 20241108 10:53:25] No rounding scheme detected for column 'occupation'. Data will not be rounded.\n",
      "[I 20241108 10:53:25] No rounding scheme detected for column 'relationship'. Data will not be rounded.\n",
      "[I 20241108 10:53:25] No rounding scheme detected for column 'race'. Data will not be rounded.\n",
      "[I 20241108 10:53:25] No rounding scheme detected for column 'gender'. Data will not be rounded.\n",
      "[I 20241108 10:53:25] No rounding scheme detected for column 'capital-gain'. Data will not be rounded.\n",
      "[I 20241108 10:53:25] No rounding scheme detected for column 'capital-loss'. Data will not be rounded.\n",
      "[I 20241108 10:53:25] No rounding scheme detected for column 'hours-per-week'. Data will not be rounded.\n",
      "[I 20241108 10:53:25] No rounding scheme detected for column 'native-country'. Data will not be rounded.\n",
      "[I 20241108 10:53:25] No rounding scheme detected for column 'income'. Data will not be rounded.\n",
      "[I 20241108 10:53:25] Fitting constraints for table \n",
      "[I 20241108 10:53:25] Setting the configuration for the ``HyperTransformer`` for table \n",
      "[I 20241108 10:53:25] Fitting HyperTransformer for table \n",
      "[I 20241108 10:53:25] No rounding scheme detected for column 'age'. Data will not be rounded.\n",
      "[I 20241108 10:53:25] No rounding scheme detected for column 'workclass'. Data will not be rounded.\n",
      "[I 20241108 10:53:25] No rounding scheme detected for column 'fnlwgt'. Data will not be rounded.\n",
      "[I 20241108 10:53:25] No rounding scheme detected for column 'education'. Data will not be rounded.\n",
      "[I 20241108 10:53:25] No rounding scheme detected for column 'educational-num'. Data will not be rounded.\n",
      "[I 20241108 10:53:25] No rounding scheme detected for column 'marital-status'. Data will not be rounded.\n",
      "[I 20241108 10:53:25] No rounding scheme detected for column 'occupation'. Data will not be rounded.\n",
      "[I 20241108 10:53:25] No rounding scheme detected for column 'relationship'. Data will not be rounded.\n",
      "[I 20241108 10:53:25] No rounding scheme detected for column 'race'. Data will not be rounded.\n",
      "[I 20241108 10:53:25] No rounding scheme detected for column 'gender'. Data will not be rounded.\n",
      "[I 20241108 10:53:25] No rounding scheme detected for column 'capital-gain'. Data will not be rounded.\n",
      "[I 20241108 10:53:25] No rounding scheme detected for column 'capital-loss'. Data will not be rounded.\n",
      "[I 20241108 10:53:25] No rounding scheme detected for column 'hours-per-week'. Data will not be rounded.\n",
      "[I 20241108 10:53:25] No rounding scheme detected for column 'native-country'. Data will not be rounded.\n"
     ]
    },
    {
     "name": "stderr",
     "output_type": "stream",
     "text": [
      "/Users/justyn.chen/Dropbox/310_Career_工作/20231016_NICS_資安院/41_PETsARD/PETsARD/.venv/lib/python3.10/site-packages/sdv/single_table/base.py:120: FutureWarning: The 'SingleTableMetadata' is deprecated. Please use the new 'Metadata' class for synthesizers.\n",
      "  warnings.warn(DEPRECATION_MSG, FutureWarning)\n"
     ]
    },
    {
     "name": "stdout",
     "output_type": "stream",
     "text": [
      "[I 20241108 10:53:25] No rounding scheme detected for column 'income'. Data will not be rounded.\n",
      "[I 20241108 10:53:25] {'EVENT': 'Fit processed data', 'TIMESTAMP': datetime.datetime(2024, 11, 8, 10, 53, 25, 117100), 'SYNTHESIZER CLASS NAME': 'GaussianCopulaSynthesizer', 'SYNTHESIZER ID': 'GaussianCopulaSynthesizer_1.17.1_59c6cf4b2d5a40d5811c8108878a0527', 'TOTAL NUMBER OF TABLES': 1, 'TOTAL NUMBER OF ROWS': 26933, 'TOTAL NUMBER OF COLUMNS': 15}\n",
      "[I 20241108 10:53:25] Fitting GaussianMultivariate(distribution=\"{'age': <class 'copulas.univariate.beta.BetaUnivariate'>, 'workclass': <class 'copulas.univariate.beta.BetaUnivariate'>, 'fnlwgt': <class 'copulas.univariate.beta.BetaUnivariate'>, 'education': <class 'copulas.univariate.beta.BetaUnivariate'>, 'educational-num': <class 'copulas.univariate.beta.BetaUnivariate'>, 'marital-status': <class 'copulas.univariate.beta.BetaUnivariate'>, 'occupation': <class 'copulas.univariate.beta.BetaUnivariate'>, 'relationship': <class 'copulas.univariate.beta.BetaUnivariate'>, 'race': <class 'copulas.univariate.beta.BetaUnivariate'>, 'gender': <class 'copulas.univariate.beta.BetaUnivariate'>, 'capital-gain': <class 'copulas.univariate.beta.BetaUnivariate'>, 'capital-loss': <class 'copulas.univariate.beta.BetaUnivariate'>, 'hours-per-week': <class 'copulas.univariate.beta.BetaUnivariate'>, 'native-country': <class 'copulas.univariate.beta.BetaUnivariate'>, 'income': <class 'copulas.univariate.beta.BetaUnivariate'>}\")\n",
      "Synthesizer (SDV): Fitting GaussianCopula spent 2.0186 sec.\n",
      "[I 20241108 10:53:27] {'EVENT': 'Sample', 'TIMESTAMP': datetime.datetime(2024, 11, 8, 10, 53, 26, 907387), 'SYNTHESIZER CLASS NAME': 'GaussianCopulaSynthesizer', 'SYNTHESIZER ID': 'GaussianCopulaSynthesizer_1.17.1_59c6cf4b2d5a40d5811c8108878a0527', 'TOTAL NUMBER OF TABLES': 1, 'TOTAL NUMBER OF ROWS': 48842, 'TOTAL NUMBER OF COLUMNS': 15}\n",
      "Synthesizer (SDV): Sampling GaussianCopula # 48842 rows (same as Loader data) in 0.619 sec.\n",
      "Now is Postprocessor with demo...\n",
      "[I 20241108 10:53:27] MediatorEncoder is created.\n",
      "[I 20241108 10:53:27] scaler inverse transformation done.\n",
      "[I 20241108 10:53:27] <PETsARD.processor.mediator.MediatorEncoder object at 0x328c40340> transformation done.\n",
      "[I 20241108 10:53:27] encoder inverse transformation done.\n",
      "[I 20241108 10:53:27] missing inverse transformation done.\n",
      "[I 20241108 10:53:27] age changes data dtype from float64 to int8 for metadata alignment.\n",
      "[I 20241108 10:53:27] workclass changes data dtype from category[object] to category[object] for metadata alignment.\n",
      "[I 20241108 10:53:27] fnlwgt changes data dtype from float64 to int32 for metadata alignment.\n",
      "[I 20241108 10:53:27] education changes data dtype from category[object] to category[object] for metadata alignment.\n",
      "[I 20241108 10:53:27] educational-num changes data dtype from float64 to int8 for metadata alignment.\n",
      "[I 20241108 10:53:27] marital-status changes data dtype from category[object] to category[object] for metadata alignment.\n",
      "[I 20241108 10:53:27] occupation changes data dtype from category[object] to category[object] for metadata alignment.\n",
      "[I 20241108 10:53:27] relationship changes data dtype from category[object] to category[object] for metadata alignment.\n",
      "[I 20241108 10:53:27] race changes data dtype from category[object] to category[object] for metadata alignment.\n",
      "[I 20241108 10:53:27] gender changes data dtype from category[object] to category[object] for metadata alignment.\n",
      "[I 20241108 10:53:27] capital-gain changes data dtype from float64 to int32 for metadata alignment.\n",
      "[I 20241108 10:53:27] capital-loss changes data dtype from float64 to int16 for metadata alignment.\n",
      "[I 20241108 10:53:27] hours-per-week changes data dtype from float64 to int8 for metadata alignment.\n",
      "[I 20241108 10:53:27] native-country changes data dtype from category[object] to category[object] for metadata alignment.\n",
      "[I 20241108 10:53:27] income changes data dtype from category[object] to category[object] for metadata alignment.\n",
      "Now is Reporter with save_data...\n",
      "Now is User Story A-1_Loader[adult]_Preprocessor[demo]_Synthesizer[demo]_Postprocessor[demo] save to csv...\n"
     ]
    }
   ],
   "source": [
    "exec = Executor(config=config_file)\n",
    "exec.run()"
   ]
  },
  {
   "cell_type": "code",
   "execution_count": 11,
   "metadata": {},
   "outputs": [
    {
     "name": "stdout",
     "output_type": "stream",
     "text": [
      "{'Loader[adult]_Preprocessor[demo]_Synthesizer[demo]_Postprocessor[demo]_Reporter[save_data]': {'Loader[adult]_Preprocessor[demo]_Synthesizer[demo]_Postprocessor[demo]':        age         workclass  fnlwgt     education  educational-num  \\\n",
      "0       37         Local-gov   68339       Masters                9   \n",
      "1       22         State-gov  102557       HS-grad                9   \n",
      "2       29           Private   50999  Some-college               12   \n",
      "3       46           Private  171244  Some-college                8   \n",
      "4       34           Private  343554     Bachelors               14   \n",
      "...    ...               ...     ...           ...              ...   \n",
      "48837   43  Self-emp-not-inc  251450  Some-college                9   \n",
      "48838   20       Federal-gov  149590     Bachelors                8   \n",
      "48839   31           Private  266889       HS-grad               10   \n",
      "48840   41         State-gov  165104     Bachelors                9   \n",
      "48841   48           Private  311847       Masters                9   \n",
      "\n",
      "           marital-status       occupation   relationship                race  \\\n",
      "0      Married-civ-spouse   Prof-specialty        Husband               White   \n",
      "1      Married-civ-spouse    Other-service      Own-child               White   \n",
      "2           Never-married  Farming-fishing      Own-child               White   \n",
      "3      Married-civ-spouse     Adm-clerical        Husband               White   \n",
      "4      Married-civ-spouse   Prof-specialty      Unmarried               White   \n",
      "...                   ...              ...            ...                 ...   \n",
      "48837       Never-married     Tech-support        Husband               White   \n",
      "48838            Divorced  Exec-managerial      Unmarried               White   \n",
      "48839  Married-civ-spouse   Prof-specialty  Not-in-family  Amer-Indian-Eskimo   \n",
      "48840  Married-civ-spouse     Adm-clerical        Husband               White   \n",
      "48841       Never-married  Farming-fishing        Husband               White   \n",
      "\n",
      "       gender  capital-gain  capital-loss  hours-per-week native-country  \\\n",
      "0        Male             0             0              45  United-States   \n",
      "1        Male             0             0              45  United-States   \n",
      "2        Male             0             0              38  United-States   \n",
      "3        Male             0             0              42  United-States   \n",
      "4      Female             0             0              39  United-States   \n",
      "...       ...           ...           ...             ...            ...   \n",
      "48837    Male             0             0              39  United-States   \n",
      "48838    Male             0             0              35  United-States   \n",
      "48839    Male             0             0              42  United-States   \n",
      "48840    Male             0             0              41  United-States   \n",
      "48841    Male             0             0              40  United-States   \n",
      "\n",
      "      income  \n",
      "0      <=50K  \n",
      "1      <=50K  \n",
      "2      <=50K  \n",
      "3      <=50K  \n",
      "4      <=50K  \n",
      "...      ...  \n",
      "48837  <=50K  \n",
      "48838  <=50K  \n",
      "48839  <=50K  \n",
      "48840   >50K  \n",
      "48841  <=50K  \n",
      "\n",
      "[48842 rows x 15 columns]}}\n"
     ]
    }
   ],
   "source": [
    "pp.pprint(exec.get_result())"
   ]
  },
  {
   "cell_type": "markdown",
   "metadata": {},
   "source": [
    "---\n",
    "\n",
    "## User Story A-2\n",
    "**Customized Synthesizing**\n",
    "\n",
    "Given an original dataset, specified privacy enhancing data generation algorithms and parameters, the pipeline will generate a privacy enhanced dataset.\n",
    "\n",
    "給定一個原始資料集，並指定隱私強化技術生成演算法與參數，該流程會依此產生隱私強化資料集。"
   ]
  },
  {
   "cell_type": "code",
   "execution_count": 12,
   "metadata": {},
   "outputs": [
    {
     "name": "stdout",
     "output_type": "stream",
     "text": [
      "{'Loader': {'adult': {'filepath': 'benchmark/adult-income.csv',\n",
      "                      'na_values': {...}}},\n",
      " 'Preprocessor': {'demo': {'method': 'default'}},\n",
      " 'Synthesizer': {'sdv-gaussian': {'method': 'sdv-single_table-gaussiancopula'}},\n",
      " 'Postprocessor': {'demo': {'method': 'default'}},\n",
      " 'Reporter': {'save_data': {'method': 'save_data',\n",
      "                            'output': 'User Story A-1',\n",
      "                            'source': 'Postprocessor'}}}\n"
     ]
    }
   ],
   "source": [
    "config_file = '../yaml/User Story A-2.yaml'\n",
    "\n",
    "with open(config_file, 'r') as yaml_file:\n",
    "    yaml_raw: dict = yaml.safe_load(yaml_file)\n",
    "pp.pprint(yaml_raw)"
   ]
  },
  {
   "cell_type": "code",
   "execution_count": 13,
   "metadata": {},
   "outputs": [
    {
     "name": "stdout",
     "output_type": "stream",
     "text": [
      "Now is Loader with adult...\n",
      "Now is Preprocessor with demo...\n",
      "[I 20241108 10:53:27] MediatorMissing is created.\n",
      "[I 20241108 10:53:27] MediatorOutlier is created.\n",
      "[I 20241108 10:53:27] MediatorEncoder is created.\n",
      "[I 20241108 10:53:27] missing fitting done.\n",
      "[I 20241108 10:53:27] <PETsARD.processor.mediator.MediatorMissing object at 0x328c42da0> fitting done.\n",
      "[I 20241108 10:53:27] outlier fitting done.\n",
      "[I 20241108 10:53:27] <PETsARD.processor.mediator.MediatorOutlier object at 0x328c01f90> fitting done.\n",
      "[I 20241108 10:53:27] encoder fitting done.\n",
      "[I 20241108 10:53:27] <PETsARD.processor.mediator.MediatorEncoder object at 0x328c003a0> fitting done.\n",
      "[I 20241108 10:53:27] scaler fitting done.\n",
      "[I 20241108 10:53:27] missing transformation done.\n",
      "[I 20241108 10:53:27] <PETsARD.processor.mediator.MediatorMissing object at 0x328c42da0> transformation done.\n",
      "[I 20241108 10:53:27] outlier transformation done.\n",
      "[I 20241108 10:53:27] <PETsARD.processor.mediator.MediatorOutlier object at 0x328c01f90> transformation done.\n",
      "[I 20241108 10:53:28] encoder transformation done.\n",
      "[I 20241108 10:53:28] <PETsARD.processor.mediator.MediatorEncoder object at 0x328c003a0> transformation done.\n",
      "[I 20241108 10:53:28] scaler transformation done.\n",
      "Now is Synthesizer with sdv-gaussian...\n",
      "[I 20241108 10:53:28] {'EVENT': 'Instance', 'TIMESTAMP': datetime.datetime(2024, 11, 8, 10, 53, 28, 98447), 'SYNTHESIZER CLASS NAME': 'GaussianCopulaSynthesizer', 'SYNTHESIZER ID': 'GaussianCopulaSynthesizer_1.17.1_06ae7d20e94c4085a879446507fb9320'}\n",
      "Synthesizer (SDV): Fitting GaussianCopula.\n",
      "[I 20241108 10:53:28] {'EVENT': 'Fit', 'TIMESTAMP': datetime.datetime(2024, 11, 8, 10, 53, 28, 98688), 'SYNTHESIZER CLASS NAME': 'GaussianCopulaSynthesizer', 'SYNTHESIZER ID': 'GaussianCopulaSynthesizer_1.17.1_06ae7d20e94c4085a879446507fb9320', 'TOTAL NUMBER OF TABLES': 1, 'TOTAL NUMBER OF ROWS': 26933, 'TOTAL NUMBER OF COLUMNS': 15}\n",
      "[I 20241108 10:53:28] Fitting table  metadata\n",
      "[I 20241108 10:53:28] Fitting formatters for table \n",
      "[I 20241108 10:53:28] No rounding scheme detected for column 'age'. Data will not be rounded.\n",
      "[I 20241108 10:53:28] No rounding scheme detected for column 'workclass'. Data will not be rounded.\n",
      "[I 20241108 10:53:28] No rounding scheme detected for column 'fnlwgt'. Data will not be rounded.\n",
      "[I 20241108 10:53:28] No rounding scheme detected for column 'education'. Data will not be rounded.\n",
      "[I 20241108 10:53:28] No rounding scheme detected for column 'educational-num'. Data will not be rounded.\n",
      "[I 20241108 10:53:28] No rounding scheme detected for column 'marital-status'. Data will not be rounded.\n",
      "[I 20241108 10:53:28] No rounding scheme detected for column 'occupation'. Data will not be rounded.\n",
      "[I 20241108 10:53:28] No rounding scheme detected for column 'relationship'. Data will not be rounded.\n",
      "[I 20241108 10:53:28] No rounding scheme detected for column 'race'. Data will not be rounded.\n",
      "[I 20241108 10:53:28] No rounding scheme detected for column 'gender'. Data will not be rounded.\n",
      "[I 20241108 10:53:28] No rounding scheme detected for column 'capital-gain'. Data will not be rounded.\n",
      "[I 20241108 10:53:28] No rounding scheme detected for column 'capital-loss'. Data will not be rounded.\n",
      "[I 20241108 10:53:28] No rounding scheme detected for column 'hours-per-week'. Data will not be rounded.\n",
      "[I 20241108 10:53:28] No rounding scheme detected for column 'native-country'. Data will not be rounded.\n",
      "[I 20241108 10:53:28] No rounding scheme detected for column 'income'. Data will not be rounded.\n",
      "[I 20241108 10:53:28] Fitting constraints for table \n",
      "[I 20241108 10:53:28] Setting the configuration for the ``HyperTransformer`` for table \n",
      "[I 20241108 10:53:28] Fitting HyperTransformer for table \n",
      "[I 20241108 10:53:28] No rounding scheme detected for column 'age'. Data will not be rounded.\n",
      "[I 20241108 10:53:28] No rounding scheme detected for column 'workclass'. Data will not be rounded.\n",
      "[I 20241108 10:53:28] No rounding scheme detected for column 'fnlwgt'. Data will not be rounded.\n",
      "[I 20241108 10:53:28] No rounding scheme detected for column 'education'. Data will not be rounded.\n",
      "[I 20241108 10:53:28] No rounding scheme detected for column 'educational-num'. Data will not be rounded.\n",
      "[I 20241108 10:53:28] No rounding scheme detected for column 'marital-status'. Data will not be rounded.\n",
      "[I 20241108 10:53:28] No rounding scheme detected for column 'occupation'. Data will not be rounded.\n",
      "[I 20241108 10:53:28] No rounding scheme detected for column 'relationship'. Data will not be rounded.\n",
      "[I 20241108 10:53:28] No rounding scheme detected for column 'race'. Data will not be rounded.\n",
      "[I 20241108 10:53:28] No rounding scheme detected for column 'gender'. Data will not be rounded.\n",
      "[I 20241108 10:53:28] No rounding scheme detected for column 'capital-gain'. Data will not be rounded.\n"
     ]
    },
    {
     "name": "stderr",
     "output_type": "stream",
     "text": [
      "/Users/justyn.chen/Dropbox/310_Career_工作/20231016_NICS_資安院/41_PETsARD/PETsARD/.venv/lib/python3.10/site-packages/sdv/single_table/base.py:120: FutureWarning: The 'SingleTableMetadata' is deprecated. Please use the new 'Metadata' class for synthesizers.\n",
      "  warnings.warn(DEPRECATION_MSG, FutureWarning)\n"
     ]
    },
    {
     "name": "stdout",
     "output_type": "stream",
     "text": [
      "[I 20241108 10:53:28] No rounding scheme detected for column 'capital-loss'. Data will not be rounded.\n",
      "[I 20241108 10:53:28] No rounding scheme detected for column 'hours-per-week'. Data will not be rounded.\n",
      "[I 20241108 10:53:28] No rounding scheme detected for column 'native-country'. Data will not be rounded.\n",
      "[I 20241108 10:53:28] No rounding scheme detected for column 'income'. Data will not be rounded.\n",
      "[I 20241108 10:53:28] {'EVENT': 'Fit processed data', 'TIMESTAMP': datetime.datetime(2024, 11, 8, 10, 53, 28, 334683), 'SYNTHESIZER CLASS NAME': 'GaussianCopulaSynthesizer', 'SYNTHESIZER ID': 'GaussianCopulaSynthesizer_1.17.1_06ae7d20e94c4085a879446507fb9320', 'TOTAL NUMBER OF TABLES': 1, 'TOTAL NUMBER OF ROWS': 26933, 'TOTAL NUMBER OF COLUMNS': 15}\n",
      "[I 20241108 10:53:28] Fitting GaussianMultivariate(distribution=\"{'age': <class 'copulas.univariate.beta.BetaUnivariate'>, 'workclass': <class 'copulas.univariate.beta.BetaUnivariate'>, 'fnlwgt': <class 'copulas.univariate.beta.BetaUnivariate'>, 'education': <class 'copulas.univariate.beta.BetaUnivariate'>, 'educational-num': <class 'copulas.univariate.beta.BetaUnivariate'>, 'marital-status': <class 'copulas.univariate.beta.BetaUnivariate'>, 'occupation': <class 'copulas.univariate.beta.BetaUnivariate'>, 'relationship': <class 'copulas.univariate.beta.BetaUnivariate'>, 'race': <class 'copulas.univariate.beta.BetaUnivariate'>, 'gender': <class 'copulas.univariate.beta.BetaUnivariate'>, 'capital-gain': <class 'copulas.univariate.beta.BetaUnivariate'>, 'capital-loss': <class 'copulas.univariate.beta.BetaUnivariate'>, 'hours-per-week': <class 'copulas.univariate.beta.BetaUnivariate'>, 'native-country': <class 'copulas.univariate.beta.BetaUnivariate'>, 'income': <class 'copulas.univariate.beta.BetaUnivariate'>}\")\n",
      "Synthesizer (SDV): Fitting GaussianCopula spent 2.3512 sec.\n",
      "[I 20241108 10:53:31] {'EVENT': 'Sample', 'TIMESTAMP': datetime.datetime(2024, 11, 8, 10, 53, 30, 449941), 'SYNTHESIZER CLASS NAME': 'GaussianCopulaSynthesizer', 'SYNTHESIZER ID': 'GaussianCopulaSynthesizer_1.17.1_06ae7d20e94c4085a879446507fb9320', 'TOTAL NUMBER OF TABLES': 1, 'TOTAL NUMBER OF ROWS': 48842, 'TOTAL NUMBER OF COLUMNS': 15}\n",
      "Synthesizer (SDV): Sampling GaussianCopula # 48842 rows (same as Loader data) in 0.7767 sec.\n",
      "Now is Postprocessor with demo...\n",
      "[I 20241108 10:53:31] MediatorEncoder is created.\n",
      "[I 20241108 10:53:31] scaler inverse transformation done.\n",
      "[I 20241108 10:53:31] <PETsARD.processor.mediator.MediatorEncoder object at 0x328c003a0> transformation done.\n",
      "[I 20241108 10:53:31] encoder inverse transformation done.\n",
      "[I 20241108 10:53:31] missing inverse transformation done.\n",
      "[I 20241108 10:53:31] age changes data dtype from float64 to int8 for metadata alignment.\n",
      "[I 20241108 10:53:31] workclass changes data dtype from category[object] to category[object] for metadata alignment.\n",
      "[I 20241108 10:53:31] fnlwgt changes data dtype from float64 to int32 for metadata alignment.\n",
      "[I 20241108 10:53:31] education changes data dtype from category[object] to category[object] for metadata alignment.\n",
      "[I 20241108 10:53:31] educational-num changes data dtype from float64 to int8 for metadata alignment.\n",
      "[I 20241108 10:53:31] marital-status changes data dtype from category[object] to category[object] for metadata alignment.\n",
      "[I 20241108 10:53:31] occupation changes data dtype from category[object] to category[object] for metadata alignment.\n",
      "[I 20241108 10:53:31] relationship changes data dtype from category[object] to category[object] for metadata alignment.\n",
      "[I 20241108 10:53:31] race changes data dtype from category[object] to category[object] for metadata alignment.\n",
      "[I 20241108 10:53:31] gender changes data dtype from category[object] to category[object] for metadata alignment.\n",
      "[I 20241108 10:53:31] capital-gain changes data dtype from float64 to int32 for metadata alignment.\n",
      "[I 20241108 10:53:31] capital-loss changes data dtype from float64 to int16 for metadata alignment.\n",
      "[I 20241108 10:53:31] hours-per-week changes data dtype from float64 to int8 for metadata alignment.\n",
      "[I 20241108 10:53:31] native-country changes data dtype from category[object] to category[object] for metadata alignment.\n",
      "[I 20241108 10:53:31] income changes data dtype from category[object] to category[object] for metadata alignment.\n",
      "Now is Reporter with save_data...\n",
      "Now is User Story A-1_Loader[adult]_Preprocessor[demo]_Synthesizer[sdv-gaussian]_Postprocessor[demo] save to csv...\n"
     ]
    }
   ],
   "source": [
    "exec = Executor(config=config_file)\n",
    "exec.run()"
   ]
  },
  {
   "cell_type": "code",
   "execution_count": 14,
   "metadata": {},
   "outputs": [
    {
     "name": "stdout",
     "output_type": "stream",
     "text": [
      "{'Loader[adult]_Preprocessor[demo]_Synthesizer[sdv-gaussian]_Postprocessor[demo]_Reporter[save_data]': {'Loader[adult]_Preprocessor[demo]_Synthesizer[sdv-gaussian]_Postprocessor[demo]':        age  workclass  fnlwgt     education  educational-num  \\\n",
      "0       43  Local-gov  192394          10th                9   \n",
      "1       25    Private  166077       HS-grad                8   \n",
      "2       28    Private  242177       HS-grad               12   \n",
      "3       44    Private  180775  Some-college                8   \n",
      "4       30    Private  123392          10th               14   \n",
      "...    ...        ...     ...           ...              ...   \n",
      "48837   31        nan   47222       HS-grad               10   \n",
      "48838   22    Private   48518     Assoc-voc                9   \n",
      "48839   36    Private  176452           9th               10   \n",
      "48840   31    Private   48300  Some-college               10   \n",
      "48841   36    Private   84106       HS-grad               10   \n",
      "\n",
      "           marital-status         occupation   relationship   race  gender  \\\n",
      "0      Married-civ-spouse     Prof-specialty        Husband  White    Male   \n",
      "1      Married-civ-spouse  Machine-op-inspct      Own-child  White    Male   \n",
      "2           Never-married              Sales      Own-child  White  Female   \n",
      "3           Never-married       Adm-clerical        Husband  White    Male   \n",
      "4                Divorced                nan           Wife  White    Male   \n",
      "...                   ...                ...            ...    ...     ...   \n",
      "48837       Never-married                nan        Husband  White    Male   \n",
      "48838  Married-civ-spouse       Adm-clerical  Not-in-family  White  Female   \n",
      "48839  Married-civ-spouse    Protective-serv  Not-in-family  White    Male   \n",
      "48840  Married-civ-spouse     Prof-specialty        Husband  White    Male   \n",
      "48841  Married-civ-spouse       Craft-repair        Husband  White    Male   \n",
      "\n",
      "       capital-gain  capital-loss  hours-per-week native-country income  \n",
      "0                 0             0              41  United-States   >50K  \n",
      "1                 0             0              40  United-States   >50K  \n",
      "2                 0             0              37  United-States  <=50K  \n",
      "3                 0             0              43  United-States  <=50K  \n",
      "4                 0             0              43  United-States  <=50K  \n",
      "...             ...           ...             ...            ...    ...  \n",
      "48837             0             0              41  United-States  <=50K  \n",
      "48838             0             0              34  United-States  <=50K  \n",
      "48839             0             0              43  United-States  <=50K  \n",
      "48840             0             0              43  United-States  <=50K  \n",
      "48841             0             0              42  United-States  <=50K  \n",
      "\n",
      "[48842 rows x 15 columns]}}\n"
     ]
    }
   ],
   "source": [
    "pp.pprint(exec.get_result())"
   ]
  }
 ],
 "metadata": {
  "kernelspec": {
   "display_name": ".venv",
   "language": "python",
   "name": "python3"
  },
  "language_info": {
   "codemirror_mode": {
    "name": "ipython",
    "version": 3
   },
   "file_extension": ".py",
   "mimetype": "text/x-python",
   "name": "python",
   "nbconvert_exporter": "python",
   "pygments_lexer": "ipython3",
   "version": "3.10.15"
  }
 },
 "nbformat": 4,
 "nbformat_minor": 2
}
