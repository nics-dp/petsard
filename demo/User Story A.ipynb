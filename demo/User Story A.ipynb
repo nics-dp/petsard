{
 "cells": [
  {
   "cell_type": "markdown",
   "metadata": {},
   "source": [
    "# User Story A\n",
    "**Privacy Enhancing Data Generation**\n",
    "\n",
    "This demo will show how to generate privacy-enhanced data using `PETsARD`.\n",
    "\n",
    "In this demonstration, you, as the user, already possess a data file locally, and `PETsARD` will assist you in loading that file and then generating a privacy-enhanced version of it.\n",
    "\n",
    "At the same time, privacy-enhancing algorithms often have format restrictions and require specific pre-processing and post-processing procedures to function correctly. However, `PETsARD` has taken this into account for the user. `PETsARD` offers both default and customizable preprocessing and postprocessing workflows to help users get started quickly.\n",
    "\n",
    "本示範將展示如何使用 `PETsARD` 生成隱私強化資料。\n",
    "\n",
    "在這個示範中，您作為使用者，在本機上已經擁有一份資料檔案，而 `PETsARD` 將幫助您讀取該檔案、然後生成經隱私強化後的版本。\n",
    "\n",
    "同時，隱私強化演算法通常都有格式的限制，必須經過特定的前處理 (Pre-processing) 與後處理 (Post-processing) 程序才能正確運作，但 `PETsARD` 已經為使用者考慮到這點，`PETsARD` 提供預設與可客製化的前後處理流程，幫助使用者快速上手。"
   ]
  },
  {
   "cell_type": "markdown",
   "metadata": {},
   "source": [
    "---\n",
    "\n",
    "## Environment"
   ]
  },
  {
   "cell_type": "code",
   "execution_count": 1,
   "metadata": {},
   "outputs": [],
   "source": [
    "import os\n",
    "import pprint\n",
    "import sys\n",
    "\n",
    "import yaml\n",
    "\n",
    "\n",
    "# Setting up the path to the PETsARD package\n",
    "path_petsard = os.path.dirname(os.getcwd())\n",
    "sys.path.append(path_petsard)\n",
    "# setting for pretty priny YAML\n",
    "pp = pprint.PrettyPrinter(depth=3, sort_dicts=False)\n",
    "\n",
    "\n",
    "from petsard import Executor # noqa: E402"
   ]
  },
  {
   "cell_type": "markdown",
   "metadata": {},
   "source": [
    "---\n",
    "\n",
    "## User Story A-1\n",
    "**Default Synthesizing**\n",
    "\n",
    "Given an original dataset without specified algorithm, the pipeline will generate a list of privacy enhanced datasets using the default algorithms.\n",
    "\n",
    "給定一個原始資料集、但未指定演算法，該流程會利用預設的演算法生成一組隱私強化資料集。"
   ]
  },
  {
   "cell_type": "code",
   "execution_count": 2,
   "metadata": {},
   "outputs": [
    {
     "name": "stdout",
     "output_type": "stream",
     "text": [
      "{'Loader': {'adult': {'filepath': '../benchmark/adult-income.csv',\n",
      "                      'na_values': {...}}},\n",
      " 'Preprocessor': {'demo': {'method': 'default'}},\n",
      " 'Synthesizer': {'demo': {'method': 'default'}},\n",
      " 'Postprocessor': {'demo': {'method': 'default'}},\n",
      " 'Reporter': {'save_data': {'method': 'save_data',\n",
      "                            'output': 'User Story A-1',\n",
      "                            'source': 'Postprocessor'}}}\n"
     ]
    }
   ],
   "source": [
    "config_file = '../yaml/User Story A-1.yaml'\n",
    "\n",
    "with open(config_file, 'r') as yaml_file:\n",
    "    yaml_raw: dict = yaml.safe_load(yaml_file)\n",
    "pp.pprint(yaml_raw)"
   ]
  },
  {
   "cell_type": "code",
   "execution_count": 3,
   "metadata": {},
   "outputs": [
    {
     "name": "stderr",
     "output_type": "stream",
     "text": [
      "/Users/justyn.chen/Dropbox/310_Career_工作/20231016_NICS_資安院/41_PETsARD/petsard/.venv/lib/python3.10/site-packages/sdv/single_table/base.py:120: FutureWarning: The 'SingleTableMetadata' is deprecated. Please use the new 'Metadata' class for synthesizers.\n",
      "  warnings.warn(DEPRECATION_MSG, FutureWarning)\n"
     ]
    },
    {
     "name": "stdout",
     "output_type": "stream",
     "text": [
      "Synthesizer (SDV): Fitting GaussianCopula.\n",
      "Synthesizer (SDV): Fitting GaussianCopula spent 1.6788 sec.\n"
     ]
    },
    {
     "name": "stderr",
     "output_type": "stream",
     "text": [
      "INFO:root:age changes data dtype from float64 to int8 for metadata alignment.\n",
      "INFO:root:workclass changes data dtype from category[object] to category[object] for metadata alignment.\n",
      "INFO:root:fnlwgt changes data dtype from float64 to int32 for metadata alignment.\n",
      "INFO:root:education changes data dtype from category[object] to category[object] for metadata alignment.\n",
      "INFO:root:educational-num changes data dtype from float64 to int8 for metadata alignment.\n",
      "INFO:root:marital-status changes data dtype from category[object] to category[object] for metadata alignment.\n",
      "INFO:root:occupation changes data dtype from category[object] to category[object] for metadata alignment.\n",
      "INFO:root:relationship changes data dtype from category[object] to category[object] for metadata alignment.\n",
      "INFO:root:race changes data dtype from category[object] to category[object] for metadata alignment.\n",
      "INFO:root:gender changes data dtype from category[object] to category[object] for metadata alignment.\n",
      "INFO:root:capital-gain changes data dtype from float64 to int32 for metadata alignment.\n",
      "INFO:root:capital-loss changes data dtype from float64 to int16 for metadata alignment.\n",
      "INFO:root:hours-per-week changes data dtype from float64 to int8 for metadata alignment.\n",
      "INFO:root:native-country changes data dtype from category[object] to category[object] for metadata alignment.\n",
      "INFO:root:income changes data dtype from category[object] to category[object] for metadata alignment.\n",
      "INFO:PETsARD.Postprocessor:Completed Postprocessor execution (elapsed: 0:00:00)\n",
      "INFO:PETsARD.Executor:Executing Reporter with save_data\n",
      "INFO:PETsARD.Reporter:Starting Reporter execution\n",
      "INFO:PETsARD.Reporter:Completed Reporter execution (elapsed: 0:00:00)\n",
      "INFO:PETsARD.Executor:Completed PETsARD execution workflow (elapsed: 0:00:03)\n"
     ]
    },
    {
     "name": "stdout",
     "output_type": "stream",
     "text": [
      "Synthesizer (SDV): Sampling GaussianCopula # 48842 rows (same as Loader data) in 0.582 sec.\n",
      "Now is User Story A-1_Loader[adult]_Preprocessor[demo]_Synthesizer[demo]_Postprocessor[demo] save to csv...\n"
     ]
    }
   ],
   "source": [
    "exec = Executor(config=config_file)\n",
    "exec.run()"
   ]
  },
  {
   "cell_type": "code",
   "execution_count": 4,
   "metadata": {},
   "outputs": [
    {
     "name": "stdout",
     "output_type": "stream",
     "text": [
      "{'Loader[adult]_Preprocessor[demo]_Synthesizer[demo]_Postprocessor[demo]_Reporter[save_data]': {'Loader[adult]_Preprocessor[demo]_Synthesizer[demo]_Postprocessor[demo]':        age  workclass  fnlwgt   education  educational-num  \\\n",
      "0       60    Private   93485   Bachelors               15   \n",
      "1       32    Private  100200     HS-grad               10   \n",
      "2       34    Private   44330     HS-grad                7   \n",
      "3       39    Private  184431     HS-grad               10   \n",
      "4       44        nan  268664  Assoc-acdm               11   \n",
      "...    ...        ...     ...         ...              ...   \n",
      "48837   36    Private  267334     HS-grad                8   \n",
      "48838   50    Private  245409     HS-grad               11   \n",
      "48839   43    Private  333487        10th                9   \n",
      "48840   56  Local-gov  151796     HS-grad               12   \n",
      "48841   26  Local-gov  292967     HS-grad               10   \n",
      "\n",
      "           marital-status         occupation   relationship   race  gender  \\\n",
      "0      Married-civ-spouse              Sales        Husband  White    Male   \n",
      "1           Never-married    Protective-serv  Not-in-family  White    Male   \n",
      "2           Never-married    Exec-managerial      Own-child  White  Female   \n",
      "3      Married-civ-spouse              Sales        Husband  White    Male   \n",
      "4               Separated                nan  Not-in-family  Black    Male   \n",
      "...                   ...                ...            ...    ...     ...   \n",
      "48837  Married-civ-spouse       Adm-clerical      Own-child  White    Male   \n",
      "48838  Married-civ-spouse   Transport-moving      Own-child  White  Female   \n",
      "48839       Never-married  Machine-op-inspct        Husband  White    Male   \n",
      "48840  Married-civ-spouse              Sales        Husband  White    Male   \n",
      "48841  Married-civ-spouse    Exec-managerial        Husband  White    Male   \n",
      "\n",
      "       capital-gain  capital-loss  hours-per-week native-country income  \n",
      "0                 0             0              43  United-States  <=50K  \n",
      "1                 0             0              43  United-States   >50K  \n",
      "2                 0             0              39  United-States  <=50K  \n",
      "3                 0             0              41  United-States  <=50K  \n",
      "4                 0             0              37  United-States  <=50K  \n",
      "...             ...           ...             ...            ...    ...  \n",
      "48837             0             0              40  United-States  <=50K  \n",
      "48838             0             0              36         Mexico  <=50K  \n",
      "48839             0             0              43  United-States  <=50K  \n",
      "48840             0             0              39  United-States   >50K  \n",
      "48841             0             0              40  United-States  <=50K  \n",
      "\n",
      "[48842 rows x 15 columns]}}\n"
     ]
    }
   ],
   "source": [
    "pp.pprint(exec.get_result())"
   ]
  },
  {
   "cell_type": "markdown",
   "metadata": {},
   "source": [
    "---\n",
    "\n",
    "## User Story A-2\n",
    "**Customized Synthesizing**\n",
    "\n",
    "Given an original dataset, specified privacy enhancing data generation algorithms and parameters, the pipeline will generate a privacy enhanced dataset.\n",
    "\n",
    "給定一個原始資料集，並指定隱私強化技術生成演算法與參數，該流程會依此產生隱私強化資料集。"
   ]
  },
  {
   "cell_type": "code",
   "execution_count": 5,
   "metadata": {},
   "outputs": [
    {
     "name": "stdout",
     "output_type": "stream",
     "text": [
      "{'Loader': {'adult': {'filepath': '../benchmark/adult-income.csv',\n",
      "                      'na_values': {...}}},\n",
      " 'Preprocessor': {'demo': {'method': 'default'}},\n",
      " 'Synthesizer': {'sdv-gaussian': {'method': 'sdv-single_table-gaussiancopula'}},\n",
      " 'Postprocessor': {'demo': {'method': 'default'}},\n",
      " 'Reporter': {'save_data': {'method': 'save_data',\n",
      "                            'output': 'User Story A-1',\n",
      "                            'source': 'Postprocessor'}}}\n"
     ]
    }
   ],
   "source": [
    "config_file = '../yaml/User Story A-2.yaml'\n",
    "\n",
    "with open(config_file, 'r') as yaml_file:\n",
    "    yaml_raw: dict = yaml.safe_load(yaml_file)\n",
    "pp.pprint(yaml_raw)"
   ]
  },
  {
   "cell_type": "code",
   "execution_count": 6,
   "metadata": {},
   "outputs": [
    {
     "name": "stderr",
     "output_type": "stream",
     "text": [
      "/Users/justyn.chen/Dropbox/310_Career_工作/20231016_NICS_資安院/41_PETsARD/petsard/.venv/lib/python3.10/site-packages/sdv/single_table/base.py:120: FutureWarning: The 'SingleTableMetadata' is deprecated. Please use the new 'Metadata' class for synthesizers.\n",
      "  warnings.warn(DEPRECATION_MSG, FutureWarning)\n"
     ]
    },
    {
     "name": "stdout",
     "output_type": "stream",
     "text": [
      "Synthesizer (SDV): Fitting GaussianCopula.\n",
      "Synthesizer (SDV): Fitting GaussianCopula spent 2.0192 sec.\n"
     ]
    },
    {
     "name": "stderr",
     "output_type": "stream",
     "text": [
      "INFO:root:age changes data dtype from float64 to int8 for metadata alignment.\n",
      "INFO:root:workclass changes data dtype from category[object] to category[object] for metadata alignment.\n",
      "INFO:root:fnlwgt changes data dtype from float64 to int32 for metadata alignment.\n",
      "INFO:root:education changes data dtype from category[object] to category[object] for metadata alignment.\n",
      "INFO:root:educational-num changes data dtype from float64 to int8 for metadata alignment.\n",
      "INFO:root:marital-status changes data dtype from category[object] to category[object] for metadata alignment.\n",
      "INFO:root:occupation changes data dtype from category[object] to category[object] for metadata alignment.\n",
      "INFO:root:relationship changes data dtype from category[object] to category[object] for metadata alignment.\n",
      "INFO:root:race changes data dtype from category[object] to category[object] for metadata alignment.\n",
      "INFO:root:gender changes data dtype from category[object] to category[object] for metadata alignment.\n",
      "INFO:root:capital-gain changes data dtype from float64 to int32 for metadata alignment.\n",
      "INFO:root:capital-loss changes data dtype from float64 to int16 for metadata alignment.\n",
      "INFO:root:hours-per-week changes data dtype from float64 to int8 for metadata alignment.\n",
      "INFO:root:native-country changes data dtype from category[object] to category[object] for metadata alignment.\n",
      "INFO:root:income changes data dtype from category[object] to category[object] for metadata alignment.\n",
      "INFO:PETsARD.Postprocessor:Completed Postprocessor execution (elapsed: 0:00:00)\n",
      "INFO:PETsARD.Executor:Executing Reporter with save_data\n",
      "INFO:PETsARD.Reporter:Starting Reporter execution\n",
      "INFO:PETsARD.Reporter:Completed Reporter execution (elapsed: 0:00:00)\n",
      "INFO:PETsARD.Executor:Completed PETsARD execution workflow (elapsed: 0:00:03)\n"
     ]
    },
    {
     "name": "stdout",
     "output_type": "stream",
     "text": [
      "Synthesizer (SDV): Sampling GaussianCopula # 48842 rows (same as Loader data) in 0.6032 sec.\n",
      "Now is User Story A-1_Loader[adult]_Preprocessor[demo]_Synthesizer[sdv-gaussian]_Postprocessor[demo] save to csv...\n"
     ]
    }
   ],
   "source": [
    "exec = Executor(config=config_file)\n",
    "exec.run()"
   ]
  },
  {
   "cell_type": "code",
   "execution_count": 7,
   "metadata": {},
   "outputs": [
    {
     "name": "stdout",
     "output_type": "stream",
     "text": [
      "{'Loader[adult]_Preprocessor[demo]_Synthesizer[sdv-gaussian]_Postprocessor[demo]_Reporter[save_data]': {'Loader[adult]_Preprocessor[demo]_Synthesizer[sdv-gaussian]_Postprocessor[demo]':        age         workclass  fnlwgt     education  educational-num  \\\n",
      "0       59               nan   83648  Some-college               15   \n",
      "1       32           Private  108365       HS-grad               11   \n",
      "2       24           Private   50659  Some-college                8   \n",
      "3       44           Private  177742       HS-grad               10   \n",
      "4       27           Private  331487       7th-8th               13   \n",
      "...    ...               ...     ...           ...              ...   \n",
      "48837   41         Local-gov  249685       HS-grad                8   \n",
      "48838   46           Private  165371       HS-grad               11   \n",
      "48839   53           Private  314941          10th                8   \n",
      "48840   47         Local-gov  177315       HS-grad               13   \n",
      "48841   30  Self-emp-not-inc  278453       HS-grad               10   \n",
      "\n",
      "           marital-status        occupation   relationship   race  gender  \\\n",
      "0      Married-civ-spouse               nan        Husband  White    Male   \n",
      "1           Never-married   Protective-serv  Not-in-family  White  Female   \n",
      "2           Never-married      Craft-repair      Unmarried  White  Female   \n",
      "3      Married-civ-spouse             Sales        Husband  White    Male   \n",
      "4           Never-married    Prof-specialty  Not-in-family  White  Female   \n",
      "...                   ...               ...            ...    ...     ...   \n",
      "48837  Married-civ-spouse             Sales      Own-child  White    Male   \n",
      "48838           Separated     Other-service      Unmarried  White    Male   \n",
      "48839            Divorced  Transport-moving        Husband  White    Male   \n",
      "48840  Married-civ-spouse             Sales        Husband  White    Male   \n",
      "48841  Married-civ-spouse   Exec-managerial        Husband  White    Male   \n",
      "\n",
      "       capital-gain  capital-loss  hours-per-week native-country income  \n",
      "0                 0             0              41  United-States  <=50K  \n",
      "1                 0             0              40  United-States   >50K  \n",
      "2                 0             0              40  United-States  <=50K  \n",
      "3                 0             0              42  United-States  <=50K  \n",
      "4                 0             0              40  United-States  <=50K  \n",
      "...             ...           ...             ...            ...    ...  \n",
      "48837             0             0              39  United-States  <=50K  \n",
      "48838             0             0              33  United-States   >50K  \n",
      "48839             0             0              43  United-States  <=50K  \n",
      "48840             0             0              40  United-States  <=50K  \n",
      "48841             0             0              39  United-States  <=50K  \n",
      "\n",
      "[48842 rows x 15 columns]}}\n"
     ]
    }
   ],
   "source": [
    "pp.pprint(exec.get_result())"
   ]
  }
 ],
 "metadata": {
  "kernelspec": {
   "display_name": ".venv",
   "language": "python",
   "name": "python3"
  },
  "language_info": {
   "codemirror_mode": {
    "name": "ipython",
    "version": 3
   },
   "file_extension": ".py",
   "mimetype": "text/x-python",
   "name": "python",
   "nbconvert_exporter": "python",
   "pygments_lexer": "ipython3",
   "version": "3.10.15"
  }
 },
 "nbformat": 4,
 "nbformat_minor": 2
}
