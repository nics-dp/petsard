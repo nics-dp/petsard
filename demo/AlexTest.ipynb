{
 "cells": [
  {
   "cell_type": "code",
   "execution_count": 1,
   "metadata": {},
   "outputs": [],
   "source": [
    "import pandas as pd\n",
    "import numpy as np"
   ]
  },
  {
   "cell_type": "code",
   "execution_count": 2,
   "metadata": {},
   "outputs": [
    {
     "name": "stdout",
     "output_type": "stream",
     "text": [
      "/Users/alex/PETsARD\n"
     ]
    }
   ],
   "source": [
    "%cd /Users/alex/PETsARD"
   ]
  },
  {
   "cell_type": "code",
   "execution_count": 3,
   "metadata": {},
   "outputs": [],
   "source": [
    "import PETsARD"
   ]
  },
  {
   "cell_type": "code",
   "execution_count": 4,
   "metadata": {},
   "outputs": [
    {
     "name": "stdout",
     "output_type": "stream",
     "text": [
      "    gen   age   race       edu      mar        bmi  dep  pir   gh  mets  qm  \\\n",
      "0  Male  62.0  White  Graduate  Married  27.799999    0    0  0.0   0.0  Q2   \n",
      "\n",
      "   dia  \n",
      "0    1  \n"
     ]
    }
   ],
   "source": [
    "loader = PETsARD.Loader(filepath = '[NHANES] B.csv',\n",
    "                                header_exist = False,\n",
    "                                header_names = ['gen','age','race','edu','mar','bmi','dep','pir','gh','mets','qm','dia']\n",
    "                               )\n",
    "print(loader.data.head(1))"
   ]
  },
  {
   "cell_type": "code",
   "execution_count": 5,
   "metadata": {},
   "outputs": [],
   "source": [
    "df = loader.data"
   ]
  },
  {
   "cell_type": "code",
   "execution_count": 6,
   "metadata": {},
   "outputs": [],
   "source": [
    "metadata = {'metadata_col': {\n",
    "                'gen': {'type': 'categorical', 'na_percentage': 0.0},\n",
    "                'age': {'type': 'numerical', 'na_percentage': 0.0},\n",
    "                'race': {'type': 'categorical', 'na_percentage': 0.0},\n",
    "                'edu': {'type': 'categorical', 'na_percentage': 0.0},\n",
    "                'mar': {'type': 'categorical', 'na_percentage': 0.0},\n",
    "                'bmi': {'type': 'numerical', 'na_percentage': 0.0},\n",
    "                'dep': {'type': 'categorical', 'na_percentage': 0.0},\n",
    "                'pir': {'type': 'categorical', 'na_percentage': 0.0},\n",
    "                'gh': {'type': 'numerical', 'na_percentage': 0.0},\n",
    "                'mets': {'type': 'numerical', 'na_percentage': 0.0},\n",
    "                'qm': {'type': 'categorical', 'na_percentage': 0.0},\n",
    "                'dia': {'type': 'categorical', 'na_percentage': 0.0}\n",
    "                },\n",
    "             'metadata_global':{\n",
    "                 'row_num': 4190,\n",
    "                 'col_num': 12,\n",
    "                 'na_percentage': 0.0\n",
    "                }\n",
    "            }"
   ]
  },
  {
   "cell_type": "code",
   "execution_count": 7,
   "metadata": {},
   "outputs": [],
   "source": [
    "pm = PETsARD.HyperProcessor(metadata)"
   ]
  },
  {
   "cell_type": "code",
   "execution_count": 8,
   "metadata": {},
   "outputs": [],
   "source": [
    "from PETsARD.Processor.Missingist import Missingist_Mean, Missingist_Drop\n",
    "from PETsARD.Processor.Outlierist import Outlierist_IsolationForest"
   ]
  },
  {
   "cell_type": "code",
   "execution_count": 9,
   "metadata": {},
   "outputs": [],
   "source": [
    "config_1 = {'missingist': {'gen': Missingist_Drop(),\n",
    "  'age': Missingist_Mean()},\n",
    " 'outlierist': {'gen': Outlierist_IsolationForest(),\n",
    "  'age': None}}"
   ]
  },
  {
   "cell_type": "code",
   "execution_count": 10,
   "metadata": {},
   "outputs": [],
   "source": [
    "pm.update_config(config_1)"
   ]
  },
  {
   "cell_type": "code",
   "execution_count": 11,
   "metadata": {},
   "outputs": [
    {
     "data": {
      "text/plain": [
       "{'missingist': {'gen': <PETsARD.Processor.Missingist.Missingist_Drop at 0x14f50ae00>,\n",
       "  'age': <PETsARD.Processor.Missingist.Missingist_Mean at 0x14f50a770>,\n",
       "  'race': <PETsARD.Processor.Missingist.Missingist_Drop at 0x14f3bffd0>,\n",
       "  'edu': <PETsARD.Processor.Missingist.Missingist_Drop at 0x14f3bf880>,\n",
       "  'mar': <PETsARD.Processor.Missingist.Missingist_Drop at 0x14f3bf2b0>,\n",
       "  'bmi': <PETsARD.Processor.Missingist.Missingist_Mean at 0x14f3be8c0>,\n",
       "  'dep': <PETsARD.Processor.Missingist.Missingist_Drop at 0x14f509720>,\n",
       "  'pir': <PETsARD.Processor.Missingist.Missingist_Drop at 0x14f509810>,\n",
       "  'gh': <PETsARD.Processor.Missingist.Missingist_Mean at 0x14f5098a0>,\n",
       "  'mets': <PETsARD.Processor.Missingist.Missingist_Mean at 0x14f50b2b0>,\n",
       "  'qm': <PETsARD.Processor.Missingist.Missingist_Drop at 0x14f50b0a0>,\n",
       "  'dia': <PETsARD.Processor.Missingist.Missingist_Drop at 0x14f3beb30>},\n",
       " 'outlierist': {'gen': <PETsARD.Processor.Outlierist.Outlierist_IsolationForest at 0x14f3bee30>,\n",
       "  'age': None,\n",
       "  'race': None,\n",
       "  'edu': None,\n",
       "  'mar': None,\n",
       "  'bmi': <PETsARD.Processor.Outlierist.Outlierist_IQR at 0x14f3bfc70>,\n",
       "  'dep': None,\n",
       "  'pir': None,\n",
       "  'gh': <PETsARD.Processor.Outlierist.Outlierist_IQR at 0x14f50b190>,\n",
       "  'mets': <PETsARD.Processor.Outlierist.Outlierist_IQR at 0x14f50b100>,\n",
       "  'qm': None,\n",
       "  'dia': None},\n",
       " 'encoder': {'gen': <PETsARD.Processor.Encoder.Encoder_Uniform at 0x14f3bf250>,\n",
       "  'age': None,\n",
       "  'race': <PETsARD.Processor.Encoder.Encoder_Uniform at 0x14f3be440>,\n",
       "  'edu': <PETsARD.Processor.Encoder.Encoder_Uniform at 0x14f3be620>,\n",
       "  'mar': <PETsARD.Processor.Encoder.Encoder_Uniform at 0x14f3be650>,\n",
       "  'bmi': None,\n",
       "  'dep': <PETsARD.Processor.Encoder.Encoder_Uniform at 0x14f509450>,\n",
       "  'pir': <PETsARD.Processor.Encoder.Encoder_Uniform at 0x14f509900>,\n",
       "  'gh': None,\n",
       "  'mets': None,\n",
       "  'qm': <PETsARD.Processor.Encoder.Encoder_Uniform at 0x14f50af20>,\n",
       "  'dia': <PETsARD.Processor.Encoder.Encoder_Uniform at 0x14f50a860>},\n",
       " 'scaler': {'gen': None,\n",
       "  'age': <PETsARD.Processor.Scaler.Scaler_Standard at 0x14f3be6b0>,\n",
       "  'race': None,\n",
       "  'edu': None,\n",
       "  'mar': None,\n",
       "  'bmi': <PETsARD.Processor.Scaler.Scaler_Standard at 0x14f3be5f0>,\n",
       "  'dep': None,\n",
       "  'pir': None,\n",
       "  'gh': <PETsARD.Processor.Scaler.Scaler_Standard at 0x14f50b2e0>,\n",
       "  'mets': <PETsARD.Processor.Scaler.Scaler_Standard at 0x14f50b0d0>,\n",
       "  'qm': None,\n",
       "  'dia': None}}"
      ]
     },
     "execution_count": 11,
     "metadata": {},
     "output_type": "execute_result"
    }
   ],
   "source": [
    "pm._config"
   ]
  },
  {
   "cell_type": "code",
   "execution_count": 12,
   "metadata": {},
   "outputs": [],
   "source": [
    "pm.fit(df, ['missingist', 'encoder', 'scaler', 'outlierist'])"
   ]
  },
  {
   "cell_type": "code",
   "execution_count": 13,
   "metadata": {},
   "outputs": [
    {
     "data": {
      "text/html": [
       "<div>\n",
       "<style scoped>\n",
       "    .dataframe tbody tr th:only-of-type {\n",
       "        vertical-align: middle;\n",
       "    }\n",
       "\n",
       "    .dataframe tbody tr th {\n",
       "        vertical-align: top;\n",
       "    }\n",
       "\n",
       "    .dataframe thead th {\n",
       "        text-align: right;\n",
       "    }\n",
       "</style>\n",
       "<table border=\"1\" class=\"dataframe\">\n",
       "  <thead>\n",
       "    <tr style=\"text-align: right;\">\n",
       "      <th></th>\n",
       "      <th>gen</th>\n",
       "      <th>age</th>\n",
       "      <th>race</th>\n",
       "      <th>edu</th>\n",
       "      <th>mar</th>\n",
       "      <th>bmi</th>\n",
       "      <th>dep</th>\n",
       "      <th>pir</th>\n",
       "      <th>gh</th>\n",
       "      <th>mets</th>\n",
       "      <th>qm</th>\n",
       "      <th>dia</th>\n",
       "    </tr>\n",
       "  </thead>\n",
       "  <tbody>\n",
       "    <tr>\n",
       "      <th>0</th>\n",
       "      <td>Male</td>\n",
       "      <td>62.0</td>\n",
       "      <td>White</td>\n",
       "      <td>Graduate</td>\n",
       "      <td>Married</td>\n",
       "      <td>27.799999</td>\n",
       "      <td>0</td>\n",
       "      <td>0</td>\n",
       "      <td>0.0</td>\n",
       "      <td>0.0</td>\n",
       "      <td>Q2</td>\n",
       "      <td>1</td>\n",
       "    </tr>\n",
       "    <tr>\n",
       "      <th>1</th>\n",
       "      <td>Male</td>\n",
       "      <td>53.0</td>\n",
       "      <td>White</td>\n",
       "      <td>HighSchool</td>\n",
       "      <td>Divorced</td>\n",
       "      <td>30.799999</td>\n",
       "      <td>0</td>\n",
       "      <td>1</td>\n",
       "      <td>0.0</td>\n",
       "      <td>0.0</td>\n",
       "      <td>Q1</td>\n",
       "      <td>0</td>\n",
       "    </tr>\n",
       "    <tr>\n",
       "      <th>2</th>\n",
       "      <td>Male</td>\n",
       "      <td>78.0</td>\n",
       "      <td>White</td>\n",
       "      <td>HighSchool</td>\n",
       "      <td>Married</td>\n",
       "      <td>28.799999</td>\n",
       "      <td>0</td>\n",
       "      <td>0</td>\n",
       "      <td>0.0</td>\n",
       "      <td>0.0</td>\n",
       "      <td>Q3</td>\n",
       "      <td>1</td>\n",
       "    </tr>\n",
       "    <tr>\n",
       "      <th>3</th>\n",
       "      <td>Female</td>\n",
       "      <td>56.0</td>\n",
       "      <td>White</td>\n",
       "      <td>Graduate</td>\n",
       "      <td>Parther</td>\n",
       "      <td>42.400002</td>\n",
       "      <td>1</td>\n",
       "      <td>0</td>\n",
       "      <td>0.0</td>\n",
       "      <td>0.0</td>\n",
       "      <td>Q3</td>\n",
       "      <td>0</td>\n",
       "    </tr>\n",
       "    <tr>\n",
       "      <th>4</th>\n",
       "      <td>Female</td>\n",
       "      <td>42.0</td>\n",
       "      <td>Black</td>\n",
       "      <td>College</td>\n",
       "      <td>Divorced</td>\n",
       "      <td>20.299999</td>\n",
       "      <td>1</td>\n",
       "      <td>0</td>\n",
       "      <td>0.0</td>\n",
       "      <td>0.0</td>\n",
       "      <td>Q4</td>\n",
       "      <td>0</td>\n",
       "    </tr>\n",
       "    <tr>\n",
       "      <th>...</th>\n",
       "      <td>...</td>\n",
       "      <td>...</td>\n",
       "      <td>...</td>\n",
       "      <td>...</td>\n",
       "      <td>...</td>\n",
       "      <td>...</td>\n",
       "      <td>...</td>\n",
       "      <td>...</td>\n",
       "      <td>...</td>\n",
       "      <td>...</td>\n",
       "      <td>...</td>\n",
       "      <td>...</td>\n",
       "    </tr>\n",
       "    <tr>\n",
       "      <th>4185</th>\n",
       "      <td>Male</td>\n",
       "      <td>25.0</td>\n",
       "      <td>Other</td>\n",
       "      <td>Graduate</td>\n",
       "      <td>Never</td>\n",
       "      <td>21.000000</td>\n",
       "      <td>0</td>\n",
       "      <td>0</td>\n",
       "      <td>0.0</td>\n",
       "      <td>0.0</td>\n",
       "      <td>Q1</td>\n",
       "      <td>0</td>\n",
       "    </tr>\n",
       "    <tr>\n",
       "      <th>4186</th>\n",
       "      <td>Female</td>\n",
       "      <td>76.0</td>\n",
       "      <td>White</td>\n",
       "      <td>HighSchool</td>\n",
       "      <td>Widowed</td>\n",
       "      <td>21.500000</td>\n",
       "      <td>1</td>\n",
       "      <td>0</td>\n",
       "      <td>0.0</td>\n",
       "      <td>0.0</td>\n",
       "      <td>Q1</td>\n",
       "      <td>0</td>\n",
       "    </tr>\n",
       "    <tr>\n",
       "      <th>4187</th>\n",
       "      <td>Female</td>\n",
       "      <td>80.0</td>\n",
       "      <td>White</td>\n",
       "      <td>College</td>\n",
       "      <td>Widowed</td>\n",
       "      <td>31.000000</td>\n",
       "      <td>0</td>\n",
       "      <td>0</td>\n",
       "      <td>0.0</td>\n",
       "      <td>0.0</td>\n",
       "      <td>Q1</td>\n",
       "      <td>0</td>\n",
       "    </tr>\n",
       "    <tr>\n",
       "      <th>4188</th>\n",
       "      <td>Male</td>\n",
       "      <td>35.0</td>\n",
       "      <td>White</td>\n",
       "      <td>9th</td>\n",
       "      <td>Married</td>\n",
       "      <td>26.000000</td>\n",
       "      <td>0</td>\n",
       "      <td>1</td>\n",
       "      <td>0.0</td>\n",
       "      <td>0.0</td>\n",
       "      <td>Q1</td>\n",
       "      <td>0</td>\n",
       "    </tr>\n",
       "    <tr>\n",
       "      <th>4189</th>\n",
       "      <td>Female</td>\n",
       "      <td>24.0</td>\n",
       "      <td>White</td>\n",
       "      <td>Graduate</td>\n",
       "      <td>Never</td>\n",
       "      <td>21.400000</td>\n",
       "      <td>0</td>\n",
       "      <td>0</td>\n",
       "      <td>0.0</td>\n",
       "      <td>0.0</td>\n",
       "      <td>Q3</td>\n",
       "      <td>0</td>\n",
       "    </tr>\n",
       "  </tbody>\n",
       "</table>\n",
       "<p>4190 rows × 12 columns</p>\n",
       "</div>"
      ],
      "text/plain": [
       "         gen   age   race         edu       mar        bmi  dep  pir   gh  \\\n",
       "0       Male  62.0  White    Graduate   Married  27.799999    0    0  0.0   \n",
       "1       Male  53.0  White  HighSchool  Divorced  30.799999    0    1  0.0   \n",
       "2       Male  78.0  White  HighSchool   Married  28.799999    0    0  0.0   \n",
       "3     Female  56.0  White    Graduate   Parther  42.400002    1    0  0.0   \n",
       "4     Female  42.0  Black     College  Divorced  20.299999    1    0  0.0   \n",
       "...      ...   ...    ...         ...       ...        ...  ...  ...  ...   \n",
       "4185    Male  25.0  Other    Graduate     Never  21.000000    0    0  0.0   \n",
       "4186  Female  76.0  White  HighSchool   Widowed  21.500000    1    0  0.0   \n",
       "4187  Female  80.0  White     College   Widowed  31.000000    0    0  0.0   \n",
       "4188    Male  35.0  White         9th   Married  26.000000    0    1  0.0   \n",
       "4189  Female  24.0  White    Graduate     Never  21.400000    0    0  0.0   \n",
       "\n",
       "      mets  qm  dia  \n",
       "0      0.0  Q2    1  \n",
       "1      0.0  Q1    0  \n",
       "2      0.0  Q3    1  \n",
       "3      0.0  Q3    0  \n",
       "4      0.0  Q4    0  \n",
       "...    ...  ..  ...  \n",
       "4185   0.0  Q1    0  \n",
       "4186   0.0  Q1    0  \n",
       "4187   0.0  Q1    0  \n",
       "4188   0.0  Q1    0  \n",
       "4189   0.0  Q3    0  \n",
       "\n",
       "[4190 rows x 12 columns]"
      ]
     },
     "execution_count": 13,
     "metadata": {},
     "output_type": "execute_result"
    }
   ],
   "source": [
    "df"
   ]
  },
  {
   "cell_type": "code",
   "execution_count": 14,
   "metadata": {},
   "outputs": [],
   "source": [
    "df_transformed = pm.transform(df)"
   ]
  },
  {
   "cell_type": "code",
   "execution_count": 15,
   "metadata": {},
   "outputs": [
    {
     "data": {
      "text/html": [
       "<div>\n",
       "<style scoped>\n",
       "    .dataframe tbody tr th:only-of-type {\n",
       "        vertical-align: middle;\n",
       "    }\n",
       "\n",
       "    .dataframe tbody tr th {\n",
       "        vertical-align: top;\n",
       "    }\n",
       "\n",
       "    .dataframe thead th {\n",
       "        text-align: right;\n",
       "    }\n",
       "</style>\n",
       "<table border=\"1\" class=\"dataframe\">\n",
       "  <thead>\n",
       "    <tr style=\"text-align: right;\">\n",
       "      <th></th>\n",
       "      <th>gen</th>\n",
       "      <th>age</th>\n",
       "      <th>race</th>\n",
       "      <th>edu</th>\n",
       "      <th>mar</th>\n",
       "      <th>bmi</th>\n",
       "      <th>dep</th>\n",
       "      <th>pir</th>\n",
       "      <th>gh</th>\n",
       "      <th>mets</th>\n",
       "      <th>qm</th>\n",
       "      <th>dia</th>\n",
       "    </tr>\n",
       "  </thead>\n",
       "  <tbody>\n",
       "    <tr>\n",
       "      <th>0</th>\n",
       "      <td>0.461755</td>\n",
       "      <td>1.204581</td>\n",
       "      <td>0.569176</td>\n",
       "      <td>0.987197</td>\n",
       "      <td>0.990647</td>\n",
       "      <td>-0.085255</td>\n",
       "      <td>0.652080</td>\n",
       "      <td>0.503134</td>\n",
       "      <td>0.0</td>\n",
       "      <td>0.0</td>\n",
       "      <td>0.085725</td>\n",
       "      <td>0.650366</td>\n",
       "    </tr>\n",
       "    <tr>\n",
       "      <th>1</th>\n",
       "      <td>0.933184</td>\n",
       "      <td>0.309986</td>\n",
       "      <td>0.487974</td>\n",
       "      <td>0.633546</td>\n",
       "      <td>0.739556</td>\n",
       "      <td>0.644658</td>\n",
       "      <td>0.257424</td>\n",
       "      <td>0.397695</td>\n",
       "      <td>0.0</td>\n",
       "      <td>0.0</td>\n",
       "      <td>0.812429</td>\n",
       "      <td>0.819942</td>\n",
       "    </tr>\n",
       "    <tr>\n",
       "      <th>2</th>\n",
       "      <td>0.928015</td>\n",
       "      <td>-0.249136</td>\n",
       "      <td>0.256589</td>\n",
       "      <td>0.366972</td>\n",
       "      <td>0.804597</td>\n",
       "      <td>-0.231238</td>\n",
       "      <td>0.429267</td>\n",
       "      <td>0.576583</td>\n",
       "      <td>0.0</td>\n",
       "      <td>0.0</td>\n",
       "      <td>0.972724</td>\n",
       "      <td>0.523994</td>\n",
       "    </tr>\n",
       "    <tr>\n",
       "      <th>3</th>\n",
       "      <td>0.708487</td>\n",
       "      <td>-0.305049</td>\n",
       "      <td>0.788928</td>\n",
       "      <td>0.947487</td>\n",
       "      <td>0.636265</td>\n",
       "      <td>-0.742177</td>\n",
       "      <td>0.739320</td>\n",
       "      <td>0.332619</td>\n",
       "      <td>0.0</td>\n",
       "      <td>0.0</td>\n",
       "      <td>0.870131</td>\n",
       "      <td>0.494141</td>\n",
       "    </tr>\n",
       "    <tr>\n",
       "      <th>4</th>\n",
       "      <td>0.254588</td>\n",
       "      <td>-1.143732</td>\n",
       "      <td>0.864192</td>\n",
       "      <td>0.148237</td>\n",
       "      <td>0.802990</td>\n",
       "      <td>-0.377220</td>\n",
       "      <td>0.658895</td>\n",
       "      <td>0.246165</td>\n",
       "      <td>0.0</td>\n",
       "      <td>0.0</td>\n",
       "      <td>0.750312</td>\n",
       "      <td>0.632056</td>\n",
       "    </tr>\n",
       "    <tr>\n",
       "      <th>...</th>\n",
       "      <td>...</td>\n",
       "      <td>...</td>\n",
       "      <td>...</td>\n",
       "      <td>...</td>\n",
       "      <td>...</td>\n",
       "      <td>...</td>\n",
       "      <td>...</td>\n",
       "      <td>...</td>\n",
       "      <td>...</td>\n",
       "      <td>...</td>\n",
       "      <td>...</td>\n",
       "      <td>...</td>\n",
       "    </tr>\n",
       "    <tr>\n",
       "      <th>2286</th>\n",
       "      <td>0.729127</td>\n",
       "      <td>-0.920083</td>\n",
       "      <td>0.514399</td>\n",
       "      <td>0.339431</td>\n",
       "      <td>0.017268</td>\n",
       "      <td>0.250505</td>\n",
       "      <td>0.759614</td>\n",
       "      <td>0.198912</td>\n",
       "      <td>0.0</td>\n",
       "      <td>0.0</td>\n",
       "      <td>0.780620</td>\n",
       "      <td>0.699141</td>\n",
       "    </tr>\n",
       "    <tr>\n",
       "      <th>2287</th>\n",
       "      <td>0.939488</td>\n",
       "      <td>0.142249</td>\n",
       "      <td>0.574365</td>\n",
       "      <td>0.999460</td>\n",
       "      <td>0.194468</td>\n",
       "      <td>0.411086</td>\n",
       "      <td>0.638900</td>\n",
       "      <td>0.927766</td>\n",
       "      <td>0.0</td>\n",
       "      <td>0.0</td>\n",
       "      <td>0.718595</td>\n",
       "      <td>0.886337</td>\n",
       "    </tr>\n",
       "    <tr>\n",
       "      <th>2288</th>\n",
       "      <td>0.616471</td>\n",
       "      <td>-1.423293</td>\n",
       "      <td>0.792312</td>\n",
       "      <td>0.334683</td>\n",
       "      <td>0.654037</td>\n",
       "      <td>-1.194723</td>\n",
       "      <td>0.318317</td>\n",
       "      <td>0.639093</td>\n",
       "      <td>0.0</td>\n",
       "      <td>0.0</td>\n",
       "      <td>0.044348</td>\n",
       "      <td>0.159584</td>\n",
       "    </tr>\n",
       "    <tr>\n",
       "      <th>2289</th>\n",
       "      <td>0.721903</td>\n",
       "      <td>-0.864171</td>\n",
       "      <td>0.071902</td>\n",
       "      <td>0.868263</td>\n",
       "      <td>0.367552</td>\n",
       "      <td>-0.464810</td>\n",
       "      <td>0.488738</td>\n",
       "      <td>0.947440</td>\n",
       "      <td>0.0</td>\n",
       "      <td>0.0</td>\n",
       "      <td>0.184799</td>\n",
       "      <td>0.642714</td>\n",
       "    </tr>\n",
       "    <tr>\n",
       "      <th>2290</th>\n",
       "      <td>0.480269</td>\n",
       "      <td>-1.479205</td>\n",
       "      <td>0.035556</td>\n",
       "      <td>0.372815</td>\n",
       "      <td>0.691525</td>\n",
       "      <td>-1.136330</td>\n",
       "      <td>0.423092</td>\n",
       "      <td>0.437685</td>\n",
       "      <td>0.0</td>\n",
       "      <td>0.0</td>\n",
       "      <td>0.895166</td>\n",
       "      <td>0.186399</td>\n",
       "    </tr>\n",
       "  </tbody>\n",
       "</table>\n",
       "<p>2291 rows × 12 columns</p>\n",
       "</div>"
      ],
      "text/plain": [
       "           gen       age      race       edu       mar       bmi       dep  \\\n",
       "0     0.461755  1.204581  0.569176  0.987197  0.990647 -0.085255  0.652080   \n",
       "1     0.933184  0.309986  0.487974  0.633546  0.739556  0.644658  0.257424   \n",
       "2     0.928015 -0.249136  0.256589  0.366972  0.804597 -0.231238  0.429267   \n",
       "3     0.708487 -0.305049  0.788928  0.947487  0.636265 -0.742177  0.739320   \n",
       "4     0.254588 -1.143732  0.864192  0.148237  0.802990 -0.377220  0.658895   \n",
       "...        ...       ...       ...       ...       ...       ...       ...   \n",
       "2286  0.729127 -0.920083  0.514399  0.339431  0.017268  0.250505  0.759614   \n",
       "2287  0.939488  0.142249  0.574365  0.999460  0.194468  0.411086  0.638900   \n",
       "2288  0.616471 -1.423293  0.792312  0.334683  0.654037 -1.194723  0.318317   \n",
       "2289  0.721903 -0.864171  0.071902  0.868263  0.367552 -0.464810  0.488738   \n",
       "2290  0.480269 -1.479205  0.035556  0.372815  0.691525 -1.136330  0.423092   \n",
       "\n",
       "           pir   gh  mets        qm       dia  \n",
       "0     0.503134  0.0   0.0  0.085725  0.650366  \n",
       "1     0.397695  0.0   0.0  0.812429  0.819942  \n",
       "2     0.576583  0.0   0.0  0.972724  0.523994  \n",
       "3     0.332619  0.0   0.0  0.870131  0.494141  \n",
       "4     0.246165  0.0   0.0  0.750312  0.632056  \n",
       "...        ...  ...   ...       ...       ...  \n",
       "2286  0.198912  0.0   0.0  0.780620  0.699141  \n",
       "2287  0.927766  0.0   0.0  0.718595  0.886337  \n",
       "2288  0.639093  0.0   0.0  0.044348  0.159584  \n",
       "2289  0.947440  0.0   0.0  0.184799  0.642714  \n",
       "2290  0.437685  0.0   0.0  0.895166  0.186399  \n",
       "\n",
       "[2291 rows x 12 columns]"
      ]
     },
     "execution_count": 15,
     "metadata": {},
     "output_type": "execute_result"
    }
   ],
   "source": [
    "df_transformed"
   ]
  },
  {
   "cell_type": "code",
   "execution_count": 16,
   "metadata": {},
   "outputs": [],
   "source": [
    "df_inverse = pm.inverse_transform(df_transformed)"
   ]
  },
  {
   "cell_type": "code",
   "execution_count": 17,
   "metadata": {},
   "outputs": [
    {
     "data": {
      "text/html": [
       "<div>\n",
       "<style scoped>\n",
       "    .dataframe tbody tr th:only-of-type {\n",
       "        vertical-align: middle;\n",
       "    }\n",
       "\n",
       "    .dataframe tbody tr th {\n",
       "        vertical-align: top;\n",
       "    }\n",
       "\n",
       "    .dataframe thead th {\n",
       "        text-align: right;\n",
       "    }\n",
       "</style>\n",
       "<table border=\"1\" class=\"dataframe\">\n",
       "  <thead>\n",
       "    <tr style=\"text-align: right;\">\n",
       "      <th></th>\n",
       "      <th>gen</th>\n",
       "      <th>age</th>\n",
       "      <th>race</th>\n",
       "      <th>edu</th>\n",
       "      <th>mar</th>\n",
       "      <th>bmi</th>\n",
       "      <th>dep</th>\n",
       "      <th>pir</th>\n",
       "      <th>gh</th>\n",
       "      <th>mets</th>\n",
       "      <th>qm</th>\n",
       "      <th>dia</th>\n",
       "    </tr>\n",
       "  </thead>\n",
       "  <tbody>\n",
       "    <tr>\n",
       "      <th>0</th>\n",
       "      <td>Female</td>\n",
       "      <td>72.0</td>\n",
       "      <td>Mexican</td>\n",
       "      <td>11th</td>\n",
       "      <td>Separated</td>\n",
       "      <td>28.600000</td>\n",
       "      <td>0</td>\n",
       "      <td>0</td>\n",
       "      <td>0.0</td>\n",
       "      <td>0.0</td>\n",
       "      <td>Q1</td>\n",
       "      <td>0</td>\n",
       "    </tr>\n",
       "    <tr>\n",
       "      <th>1</th>\n",
       "      <td>Male</td>\n",
       "      <td>56.0</td>\n",
       "      <td>Black</td>\n",
       "      <td>HighSchool</td>\n",
       "      <td>Divorced</td>\n",
       "      <td>33.599998</td>\n",
       "      <td>0</td>\n",
       "      <td>0</td>\n",
       "      <td>0.0</td>\n",
       "      <td>0.0</td>\n",
       "      <td>Q3</td>\n",
       "      <td>1</td>\n",
       "    </tr>\n",
       "    <tr>\n",
       "      <th>2</th>\n",
       "      <td>Male</td>\n",
       "      <td>46.0</td>\n",
       "      <td>White</td>\n",
       "      <td>Graduate</td>\n",
       "      <td>Parther</td>\n",
       "      <td>27.600000</td>\n",
       "      <td>0</td>\n",
       "      <td>0</td>\n",
       "      <td>0.0</td>\n",
       "      <td>0.0</td>\n",
       "      <td>Q3</td>\n",
       "      <td>0</td>\n",
       "    </tr>\n",
       "    <tr>\n",
       "      <th>3</th>\n",
       "      <td>Male</td>\n",
       "      <td>45.0</td>\n",
       "      <td>Other</td>\n",
       "      <td>11th</td>\n",
       "      <td>Never</td>\n",
       "      <td>24.100000</td>\n",
       "      <td>0</td>\n",
       "      <td>0</td>\n",
       "      <td>0.0</td>\n",
       "      <td>0.0</td>\n",
       "      <td>Q3</td>\n",
       "      <td>0</td>\n",
       "    </tr>\n",
       "    <tr>\n",
       "      <th>4</th>\n",
       "      <td>Female</td>\n",
       "      <td>30.0</td>\n",
       "      <td>Hispanic</td>\n",
       "      <td>College</td>\n",
       "      <td>Parther</td>\n",
       "      <td>26.600000</td>\n",
       "      <td>0</td>\n",
       "      <td>0</td>\n",
       "      <td>0.0</td>\n",
       "      <td>0.0</td>\n",
       "      <td>Q4</td>\n",
       "      <td>0</td>\n",
       "    </tr>\n",
       "    <tr>\n",
       "      <th>...</th>\n",
       "      <td>...</td>\n",
       "      <td>...</td>\n",
       "      <td>...</td>\n",
       "      <td>...</td>\n",
       "      <td>...</td>\n",
       "      <td>...</td>\n",
       "      <td>...</td>\n",
       "      <td>...</td>\n",
       "      <td>...</td>\n",
       "      <td>...</td>\n",
       "      <td>...</td>\n",
       "      <td>...</td>\n",
       "    </tr>\n",
       "    <tr>\n",
       "      <th>2286</th>\n",
       "      <td>Male</td>\n",
       "      <td>34.0</td>\n",
       "      <td>Black</td>\n",
       "      <td>Graduate</td>\n",
       "      <td>Married</td>\n",
       "      <td>30.900000</td>\n",
       "      <td>0</td>\n",
       "      <td>0</td>\n",
       "      <td>0.0</td>\n",
       "      <td>0.0</td>\n",
       "      <td>Q3</td>\n",
       "      <td>0</td>\n",
       "    </tr>\n",
       "    <tr>\n",
       "      <th>2287</th>\n",
       "      <td>Male</td>\n",
       "      <td>53.0</td>\n",
       "      <td>Mexican</td>\n",
       "      <td>11th</td>\n",
       "      <td>Married</td>\n",
       "      <td>32.000000</td>\n",
       "      <td>0</td>\n",
       "      <td>1</td>\n",
       "      <td>0.0</td>\n",
       "      <td>0.0</td>\n",
       "      <td>Q4</td>\n",
       "      <td>1</td>\n",
       "    </tr>\n",
       "    <tr>\n",
       "      <th>2288</th>\n",
       "      <td>Male</td>\n",
       "      <td>25.0</td>\n",
       "      <td>Other</td>\n",
       "      <td>Graduate</td>\n",
       "      <td>Never</td>\n",
       "      <td>21.000000</td>\n",
       "      <td>0</td>\n",
       "      <td>0</td>\n",
       "      <td>0.0</td>\n",
       "      <td>0.0</td>\n",
       "      <td>Q1</td>\n",
       "      <td>0</td>\n",
       "    </tr>\n",
       "    <tr>\n",
       "      <th>2289</th>\n",
       "      <td>Male</td>\n",
       "      <td>35.0</td>\n",
       "      <td>White</td>\n",
       "      <td>9th</td>\n",
       "      <td>Married</td>\n",
       "      <td>26.000000</td>\n",
       "      <td>0</td>\n",
       "      <td>1</td>\n",
       "      <td>0.0</td>\n",
       "      <td>0.0</td>\n",
       "      <td>Q1</td>\n",
       "      <td>0</td>\n",
       "    </tr>\n",
       "    <tr>\n",
       "      <th>2290</th>\n",
       "      <td>Female</td>\n",
       "      <td>24.0</td>\n",
       "      <td>White</td>\n",
       "      <td>Graduate</td>\n",
       "      <td>Never</td>\n",
       "      <td>21.400000</td>\n",
       "      <td>0</td>\n",
       "      <td>0</td>\n",
       "      <td>0.0</td>\n",
       "      <td>0.0</td>\n",
       "      <td>Q3</td>\n",
       "      <td>0</td>\n",
       "    </tr>\n",
       "  </tbody>\n",
       "</table>\n",
       "<p>2291 rows × 12 columns</p>\n",
       "</div>"
      ],
      "text/plain": [
       "         gen   age      race         edu        mar        bmi dep pir   gh  \\\n",
       "0     Female  72.0   Mexican        11th  Separated  28.600000   0   0  0.0   \n",
       "1       Male  56.0     Black  HighSchool   Divorced  33.599998   0   0  0.0   \n",
       "2       Male  46.0     White    Graduate    Parther  27.600000   0   0  0.0   \n",
       "3       Male  45.0     Other        11th      Never  24.100000   0   0  0.0   \n",
       "4     Female  30.0  Hispanic     College    Parther  26.600000   0   0  0.0   \n",
       "...      ...   ...       ...         ...        ...        ...  ..  ..  ...   \n",
       "2286    Male  34.0     Black    Graduate    Married  30.900000   0   0  0.0   \n",
       "2287    Male  53.0   Mexican        11th    Married  32.000000   0   1  0.0   \n",
       "2288    Male  25.0     Other    Graduate      Never  21.000000   0   0  0.0   \n",
       "2289    Male  35.0     White         9th    Married  26.000000   0   1  0.0   \n",
       "2290  Female  24.0     White    Graduate      Never  21.400000   0   0  0.0   \n",
       "\n",
       "      mets  qm dia  \n",
       "0      0.0  Q1   0  \n",
       "1      0.0  Q3   1  \n",
       "2      0.0  Q3   0  \n",
       "3      0.0  Q3   0  \n",
       "4      0.0  Q4   0  \n",
       "...    ...  ..  ..  \n",
       "2286   0.0  Q3   0  \n",
       "2287   0.0  Q4   1  \n",
       "2288   0.0  Q1   0  \n",
       "2289   0.0  Q1   0  \n",
       "2290   0.0  Q3   0  \n",
       "\n",
       "[2291 rows x 12 columns]"
      ]
     },
     "execution_count": 17,
     "metadata": {},
     "output_type": "execute_result"
    }
   ],
   "source": [
    "df_inverse"
   ]
  },
  {
   "cell_type": "code",
   "execution_count": 18,
   "metadata": {},
   "outputs": [
    {
     "ename": "ValueError",
     "evalue": "Can only compare identically-labeled (both index and columns) DataFrame objects",
     "output_type": "error",
     "traceback": [
      "\u001b[0;31m---------------------------------------------------------------------------\u001b[0m",
      "\u001b[0;31mValueError\u001b[0m                                Traceback (most recent call last)",
      "\u001b[0;32m/var/folders/0m/sg19mlnd2hxgjq8hzrgdgz7m0000gn/T/ipykernel_97287/1383256609.py\u001b[0m in \u001b[0;36m?\u001b[0;34m()\u001b[0m\n\u001b[0;32m----> 1\u001b[0;31m \u001b[0;34m(\u001b[0m\u001b[0mdf_inverse\u001b[0m \u001b[0;34m==\u001b[0m \u001b[0mdf\u001b[0m\u001b[0;34m)\u001b[0m\u001b[0;34m.\u001b[0m\u001b[0mall\u001b[0m\u001b[0;34m(\u001b[0m\u001b[0;34m)\u001b[0m\u001b[0;34m\u001b[0m\u001b[0;34m\u001b[0m\u001b[0m\n\u001b[0m",
      "\u001b[0;32m~/miniforge3/envs/py310/lib/python3.10/site-packages/pandas/core/ops/common.py\u001b[0m in \u001b[0;36m?\u001b[0;34m(self, other)\u001b[0m\n\u001b[1;32m     72\u001b[0m                     \u001b[0;32mreturn\u001b[0m \u001b[0mNotImplemented\u001b[0m\u001b[0;34m\u001b[0m\u001b[0;34m\u001b[0m\u001b[0m\n\u001b[1;32m     73\u001b[0m \u001b[0;34m\u001b[0m\u001b[0m\n\u001b[1;32m     74\u001b[0m         \u001b[0mother\u001b[0m \u001b[0;34m=\u001b[0m \u001b[0mitem_from_zerodim\u001b[0m\u001b[0;34m(\u001b[0m\u001b[0mother\u001b[0m\u001b[0;34m)\u001b[0m\u001b[0;34m\u001b[0m\u001b[0;34m\u001b[0m\u001b[0m\n\u001b[1;32m     75\u001b[0m \u001b[0;34m\u001b[0m\u001b[0m\n\u001b[0;32m---> 76\u001b[0;31m         \u001b[0;32mreturn\u001b[0m \u001b[0mmethod\u001b[0m\u001b[0;34m(\u001b[0m\u001b[0mself\u001b[0m\u001b[0;34m,\u001b[0m \u001b[0mother\u001b[0m\u001b[0;34m)\u001b[0m\u001b[0;34m\u001b[0m\u001b[0;34m\u001b[0m\u001b[0m\n\u001b[0m",
      "\u001b[0;32m~/miniforge3/envs/py310/lib/python3.10/site-packages/pandas/core/arraylike.py\u001b[0m in \u001b[0;36m?\u001b[0;34m(self, other)\u001b[0m\n\u001b[1;32m     38\u001b[0m     \u001b[0;34m@\u001b[0m\u001b[0munpack_zerodim_and_defer\u001b[0m\u001b[0;34m(\u001b[0m\u001b[0;34m\"__eq__\"\u001b[0m\u001b[0;34m)\u001b[0m\u001b[0;34m\u001b[0m\u001b[0;34m\u001b[0m\u001b[0m\n\u001b[1;32m     39\u001b[0m     \u001b[0;32mdef\u001b[0m \u001b[0m__eq__\u001b[0m\u001b[0;34m(\u001b[0m\u001b[0mself\u001b[0m\u001b[0;34m,\u001b[0m \u001b[0mother\u001b[0m\u001b[0;34m)\u001b[0m\u001b[0;34m:\u001b[0m\u001b[0;34m\u001b[0m\u001b[0;34m\u001b[0m\u001b[0m\n\u001b[0;32m---> 40\u001b[0;31m         \u001b[0;32mreturn\u001b[0m \u001b[0mself\u001b[0m\u001b[0;34m.\u001b[0m\u001b[0m_cmp_method\u001b[0m\u001b[0;34m(\u001b[0m\u001b[0mother\u001b[0m\u001b[0;34m,\u001b[0m \u001b[0moperator\u001b[0m\u001b[0;34m.\u001b[0m\u001b[0meq\u001b[0m\u001b[0;34m)\u001b[0m\u001b[0;34m\u001b[0m\u001b[0;34m\u001b[0m\u001b[0m\n\u001b[0m",
      "\u001b[0;32m~/miniforge3/envs/py310/lib/python3.10/site-packages/pandas/core/frame.py\u001b[0m in \u001b[0;36m?\u001b[0;34m(self, other, op)\u001b[0m\n\u001b[1;32m   7625\u001b[0m     \u001b[0;32mdef\u001b[0m \u001b[0m_cmp_method\u001b[0m\u001b[0;34m(\u001b[0m\u001b[0mself\u001b[0m\u001b[0;34m,\u001b[0m \u001b[0mother\u001b[0m\u001b[0;34m,\u001b[0m \u001b[0mop\u001b[0m\u001b[0;34m)\u001b[0m\u001b[0;34m:\u001b[0m\u001b[0;34m\u001b[0m\u001b[0;34m\u001b[0m\u001b[0m\n\u001b[1;32m   7626\u001b[0m         \u001b[0maxis\u001b[0m\u001b[0;34m:\u001b[0m \u001b[0mLiteral\u001b[0m\u001b[0;34m[\u001b[0m\u001b[0;36m1\u001b[0m\u001b[0;34m]\u001b[0m \u001b[0;34m=\u001b[0m \u001b[0;36m1\u001b[0m  \u001b[0;31m# only relevant for Series other case\u001b[0m\u001b[0;34m\u001b[0m\u001b[0;34m\u001b[0m\u001b[0m\n\u001b[1;32m   7627\u001b[0m \u001b[0;34m\u001b[0m\u001b[0m\n\u001b[0;32m-> 7628\u001b[0;31m         \u001b[0mself\u001b[0m\u001b[0;34m,\u001b[0m \u001b[0mother\u001b[0m \u001b[0;34m=\u001b[0m \u001b[0mself\u001b[0m\u001b[0;34m.\u001b[0m\u001b[0m_align_for_op\u001b[0m\u001b[0;34m(\u001b[0m\u001b[0mother\u001b[0m\u001b[0;34m,\u001b[0m \u001b[0maxis\u001b[0m\u001b[0;34m,\u001b[0m \u001b[0mflex\u001b[0m\u001b[0;34m=\u001b[0m\u001b[0;32mFalse\u001b[0m\u001b[0;34m,\u001b[0m \u001b[0mlevel\u001b[0m\u001b[0;34m=\u001b[0m\u001b[0;32mNone\u001b[0m\u001b[0;34m)\u001b[0m\u001b[0;34m\u001b[0m\u001b[0;34m\u001b[0m\u001b[0m\n\u001b[0m\u001b[1;32m   7629\u001b[0m \u001b[0;34m\u001b[0m\u001b[0m\n\u001b[1;32m   7630\u001b[0m         \u001b[0;31m# See GH#4537 for discussion of scalar op behavior\u001b[0m\u001b[0;34m\u001b[0m\u001b[0;34m\u001b[0m\u001b[0m\n\u001b[1;32m   7631\u001b[0m         \u001b[0mnew_data\u001b[0m \u001b[0;34m=\u001b[0m \u001b[0mself\u001b[0m\u001b[0;34m.\u001b[0m\u001b[0m_dispatch_frame_op\u001b[0m\u001b[0;34m(\u001b[0m\u001b[0mother\u001b[0m\u001b[0;34m,\u001b[0m \u001b[0mop\u001b[0m\u001b[0;34m,\u001b[0m \u001b[0maxis\u001b[0m\u001b[0;34m=\u001b[0m\u001b[0maxis\u001b[0m\u001b[0;34m)\u001b[0m\u001b[0;34m\u001b[0m\u001b[0;34m\u001b[0m\u001b[0m\n",
      "\u001b[0;32m~/miniforge3/envs/py310/lib/python3.10/site-packages/pandas/core/frame.py\u001b[0m in \u001b[0;36m?\u001b[0;34m(self, other, axis, flex, level)\u001b[0m\n\u001b[1;32m   7923\u001b[0m                     left, right = left.align(\n\u001b[1;32m   7924\u001b[0m                         \u001b[0mright\u001b[0m\u001b[0;34m,\u001b[0m \u001b[0mjoin\u001b[0m\u001b[0;34m=\u001b[0m\u001b[0;34m\"outer\"\u001b[0m\u001b[0;34m,\u001b[0m \u001b[0mlevel\u001b[0m\u001b[0;34m=\u001b[0m\u001b[0mlevel\u001b[0m\u001b[0;34m,\u001b[0m \u001b[0mcopy\u001b[0m\u001b[0;34m=\u001b[0m\u001b[0;32mFalse\u001b[0m\u001b[0;34m\u001b[0m\u001b[0;34m\u001b[0m\u001b[0m\n\u001b[1;32m   7925\u001b[0m                     )\n\u001b[1;32m   7926\u001b[0m                 \u001b[0;32melse\u001b[0m\u001b[0;34m:\u001b[0m\u001b[0;34m\u001b[0m\u001b[0;34m\u001b[0m\u001b[0m\n\u001b[0;32m-> 7927\u001b[0;31m                     raise ValueError(\n\u001b[0m\u001b[1;32m   7928\u001b[0m                         \u001b[0;34m\"Can only compare identically-labeled (both index and columns) \"\u001b[0m\u001b[0;34m\u001b[0m\u001b[0;34m\u001b[0m\u001b[0m\n\u001b[1;32m   7929\u001b[0m                         \u001b[0;34m\"DataFrame objects\"\u001b[0m\u001b[0;34m\u001b[0m\u001b[0;34m\u001b[0m\u001b[0m\n\u001b[1;32m   7930\u001b[0m                     )\n",
      "\u001b[0;31mValueError\u001b[0m: Can only compare identically-labeled (both index and columns) DataFrame objects"
     ]
    }
   ],
   "source": [
    "(df_inverse == df).all()"
   ]
  },
  {
   "cell_type": "code",
   "execution_count": null,
   "metadata": {},
   "outputs": [
    {
     "data": {
      "text/plain": [
       "True"
      ]
     },
     "execution_count": 83,
     "metadata": {},
     "output_type": "execute_result"
    }
   ],
   "source": [
    "np.isclose(df_inverse.age, df.age).all()"
   ]
  },
  {
   "cell_type": "code",
   "execution_count": null,
   "metadata": {},
   "outputs": [
    {
     "data": {
      "text/plain": [
       "True"
      ]
     },
     "execution_count": 84,
     "metadata": {},
     "output_type": "execute_result"
    }
   ],
   "source": [
    "np.isclose(df_inverse.bmi, df.bmi).all()"
   ]
  },
  {
   "cell_type": "code",
   "execution_count": 74,
   "metadata": {},
   "outputs": [],
   "source": [
    "salaries = pd.read_csv('salaries.csv')"
   ]
  },
  {
   "cell_type": "code",
   "execution_count": 75,
   "metadata": {},
   "outputs": [],
   "source": [
    "from sdv.metadata import SingleTableMetadata\n",
    "from sdv.single_table import GaussianCopulaSynthesizer"
   ]
  },
  {
   "cell_type": "code",
   "execution_count": 76,
   "metadata": {},
   "outputs": [],
   "source": [
    "st_md = SingleTableMetadata()\n",
    "st_md.detect_from_dataframe(salaries)"
   ]
  },
  {
   "cell_type": "code",
   "execution_count": 77,
   "metadata": {},
   "outputs": [],
   "source": [
    "syn = GaussianCopulaSynthesizer(st_md)"
   ]
  },
  {
   "cell_type": "code",
   "execution_count": 78,
   "metadata": {},
   "outputs": [],
   "source": [
    "syn.fit(salaries)"
   ]
  },
  {
   "cell_type": "code",
   "execution_count": 79,
   "metadata": {},
   "outputs": [
    {
     "name": "stderr",
     "output_type": "stream",
     "text": [
      "/Users/alex/miniforge3/envs/py310/lib/python3.10/site-packages/scipy/stats/_continuous_distns.py:701: RuntimeWarning: invalid value encountered in _beta_ppf\n",
      "  return _boost._beta_ppf(q, a, b)\n"
     ]
    }
   ],
   "source": [
    "sdata = syn.sample(salaries.shape[0])"
   ]
  },
  {
   "cell_type": "code",
   "execution_count": 80,
   "metadata": {},
   "outputs": [],
   "source": [
    "import seaborn as sns"
   ]
  },
  {
   "cell_type": "code",
   "execution_count": 81,
   "metadata": {},
   "outputs": [
    {
     "data": {
      "text/plain": [
       "10417"
      ]
     },
     "execution_count": 81,
     "metadata": {},
     "output_type": "execute_result"
    }
   ],
   "source": [
    "salaries.shape[0]"
   ]
  },
  {
   "cell_type": "code",
   "execution_count": 82,
   "metadata": {},
   "outputs": [
    {
     "data": {
      "text/plain": [
       "<seaborn.axisgrid.FacetGrid at 0x17cdc9e70>"
      ]
     },
     "execution_count": 82,
     "metadata": {},
     "output_type": "execute_result"
    },
    {
     "data": {
      "image/png": "[encoded data removed]",
      "text/plain": [
       "<Figure size 500x500 with 1 Axes>"
      ]
     },
     "metadata": {},
     "output_type": "display_data"
    }
   ],
   "source": [
    "sns.displot(salaries.salary_in_usd, kind='kde')"
   ]
  },
  {
   "cell_type": "code",
   "execution_count": 83,
   "metadata": {},
   "outputs": [],
   "source": [
    "sdf = pd.DataFrame({'source': ['original'] * 10417 + ['synthesized'] * 10417, 'salary': pd.concat([salaries.salary_in_usd, sdata.salary_in_usd], axis=0)})"
   ]
  },
  {
   "cell_type": "code",
   "execution_count": 99,
   "metadata": {},
   "outputs": [
    {
     "data": {
      "text/plain": [
       "<seaborn.axisgrid.FacetGrid at 0x17a041d20>"
      ]
     },
     "execution_count": 99,
     "metadata": {},
     "output_type": "execute_result"
    },
    {
     "data": {
      "image/png": "[encoded data removed]",
      "text/plain": [
       "<Figure size 632.625x500 with 1 Axes>"
      ]
     },
     "metadata": {},
     "output_type": "display_data"
    }
   ],
   "source": [
    "sns.displot(sdf, x='salary', hue='source', kind='kde')"
   ]
  },
  {
   "cell_type": "code",
   "execution_count": 85,
   "metadata": {},
   "outputs": [],
   "source": [
    "salaries_log = salaries.copy()"
   ]
  },
  {
   "cell_type": "code",
   "execution_count": 86,
   "metadata": {},
   "outputs": [
    {
     "data": {
      "text/plain": [
       "Index(['work_year', 'experience_level', 'employment_type', 'job_title',\n",
       "       'salary', 'salary_currency', 'salary_in_usd', 'employee_residence',\n",
       "       'remote_ratio', 'company_location', 'company_size'],\n",
       "      dtype='object')"
      ]
     },
     "execution_count": 86,
     "metadata": {},
     "output_type": "execute_result"
    }
   ],
   "source": [
    "salaries.columns"
   ]
  },
  {
   "cell_type": "code",
   "execution_count": 87,
   "metadata": {},
   "outputs": [],
   "source": [
    "salaries_log.loc[:, 'salary'] = salaries_log.salary.apply(np.log)\n",
    "salaries_log.loc[:, 'salary_in_usd'] = salaries_log.salary_in_usd.apply(np.log)"
   ]
  },
  {
   "cell_type": "code",
   "execution_count": 88,
   "metadata": {},
   "outputs": [],
   "source": [
    "st_md2 = SingleTableMetadata()\n",
    "st_md2.detect_from_dataframe(salaries_log)"
   ]
  },
  {
   "cell_type": "code",
   "execution_count": 89,
   "metadata": {},
   "outputs": [],
   "source": [
    "syn2 = GaussianCopulaSynthesizer(st_md2)"
   ]
  },
  {
   "cell_type": "code",
   "execution_count": 90,
   "metadata": {},
   "outputs": [],
   "source": [
    "syn2.fit(salaries_log)"
   ]
  },
  {
   "cell_type": "code",
   "execution_count": 91,
   "metadata": {},
   "outputs": [
    {
     "name": "stderr",
     "output_type": "stream",
     "text": [
      "/Users/alex/miniforge3/envs/py310/lib/python3.10/site-packages/scipy/stats/_continuous_distns.py:701: RuntimeWarning: invalid value encountered in _beta_ppf\n",
      "  return _boost._beta_ppf(q, a, b)\n"
     ]
    }
   ],
   "source": [
    "sdata2 = syn.sample(salaries_log.shape[0])"
   ]
  },
  {
   "cell_type": "code",
   "execution_count": 95,
   "metadata": {},
   "outputs": [],
   "source": [
    "sdata2.loc[:, 'salary'] = sdata2.salary.apply(np.exp)\n",
    "sdata2.loc[:, 'salary_in_usd'] = sdata2.salary_in_usd.apply(np.exp)"
   ]
  },
  {
   "cell_type": "code",
   "execution_count": 96,
   "metadata": {},
   "outputs": [],
   "source": [
    "sdf2 = pd.DataFrame({'source': ['original'] * 10417 + ['synthesized'] * 10417, 'salary': pd.concat([salaries.salary_in_usd, sdata2.salary_in_usd], axis=0)})"
   ]
  },
  {
   "cell_type": "code",
   "execution_count": 106,
   "metadata": {},
   "outputs": [
    {
     "data": {
      "text/plain": [
       "<seaborn.axisgrid.FacetGrid at 0x17eae8040>"
      ]
     },
     "execution_count": 106,
     "metadata": {},
     "output_type": "execute_result"
    },
    {
     "data": {
      "image/png": "[encoded data removed]",
      "text/plain": [
       "<Figure size 632.625x500 with 1 Axes>"
      ]
     },
     "metadata": {},
     "output_type": "display_data"
    }
   ],
   "source": [
    "sns.displot(sdf2, x='salary', hue='source', kind='kde')"
   ]
  },
  {
   "cell_type": "code",
   "execution_count": null,
   "metadata": {},
   "outputs": [],
   "source": []
  }
 ],
 "metadata": {
  "kernelspec": {
   "display_name": "py310",
   "language": "python",
   "name": "python3"
  },
  "language_info": {
   "codemirror_mode": {
    "name": "ipython",
    "version": 3
   },
   "file_extension": ".py",
   "mimetype": "text/x-python",
   "name": "python",
   "nbconvert_exporter": "python",
   "pygments_lexer": "ipython3",
   "version": "3.10.12"
  }
 },
 "nbformat": 4,
 "nbformat_minor": 2
}
