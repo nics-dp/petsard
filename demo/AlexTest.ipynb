{
 "cells": [
  {
   "cell_type": "code",
   "execution_count": 1,
   "metadata": {},
   "outputs": [],
   "source": [
    "import pandas as pd\n",
    "import numpy as np"
   ]
  },
  {
   "cell_type": "code",
   "execution_count": 2,
   "metadata": {},
   "outputs": [
    {
     "name": "stdout",
     "output_type": "stream",
     "text": [
      "/Users/alex/PETsARD\n"
     ]
    }
   ],
   "source": [
    "%cd /Users/alex/PETsARD"
   ]
  },
  {
   "cell_type": "code",
   "execution_count": 3,
   "metadata": {},
   "outputs": [],
   "source": [
    "import PETsARD"
   ]
  },
  {
   "cell_type": "code",
   "execution_count": 4,
   "metadata": {},
   "outputs": [
    {
     "name": "stdout",
     "output_type": "stream",
     "text": [
      "    gen   age   race       edu      mar        bmi  dep  pir   gh  mets  qm  \\\n",
      "0  Male  62.0  White  Graduate  Married  27.799999    0    0  0.0   0.0  Q2   \n",
      "\n",
      "   dia  \n",
      "0    1  \n"
     ]
    }
   ],
   "source": [
    "loader = PETsARD.Loader(filepath = '[NHANES] B.csv',\n",
    "                                header_exist = False,\n",
    "                                header_names = ['gen','age','race','edu','mar','bmi','dep','pir','gh','mets','qm','dia']\n",
    "                               )\n",
    "print(loader.data.head(1))"
   ]
  },
  {
   "cell_type": "code",
   "execution_count": 5,
   "metadata": {},
   "outputs": [],
   "source": [
    "df = loader.data"
   ]
  },
  {
   "cell_type": "code",
   "execution_count": 6,
   "metadata": {},
   "outputs": [],
   "source": [
    "metadata = {'metadata_col': {\n",
    "                'gen': {'type': 'categorical', 'na_percentage': 0.0},\n",
    "                'age': {'type': 'numerical', 'na_percentage': 0.0},\n",
    "                'race': {'type': 'categorical', 'na_percentage': 0.0},\n",
    "                'edu': {'type': 'categorical', 'na_percentage': 0.0},\n",
    "                'mar': {'type': 'categorical', 'na_percentage': 0.0},\n",
    "                'bmi': {'type': 'numerical', 'na_percentage': 0.0},\n",
    "                'dep': {'type': 'numerical', 'na_percentage': 0.0},\n",
    "                'pir': {'type': 'numerical', 'na_percentage': 0.0},\n",
    "                'gh': {'type': 'numerical', 'na_percentage': 0.0},\n",
    "                'mets': {'type': 'numerical', 'na_percentage': 0.0},\n",
    "                'qm': {'type': 'categorical', 'na_percentage': 0.0},\n",
    "                'dia': {'type': 'numerical', 'na_percentage': 0.0}\n",
    "                },\n",
    "             'metadata_global':{\n",
    "                 'row_num': 4190,\n",
    "                 'col_num': 12,\n",
    "                 'na_percentage': 0.0\n",
    "                }\n",
    "            }"
   ]
  },
  {
   "cell_type": "code",
   "execution_count": 7,
   "metadata": {},
   "outputs": [],
   "source": [
    "md1 = {'metadata_col': {\n",
    "                'gen': {'type': 'categorical', 'na_percentage': 0.0},\n",
    "                'age': {'type': 'numerical', 'na_percentage': 0.0}\n",
    "                },\n",
    "             'metadata_global':{\n",
    "                 'row_num': 4190,\n",
    "                 'col_num': 12,\n",
    "                 'na_percentage': 0.0\n",
    "                }\n",
    "            }"
   ]
  },
  {
   "cell_type": "code",
   "execution_count": 8,
   "metadata": {},
   "outputs": [],
   "source": [
    "pm = PETsARD.HyperProcessor(metadata)"
   ]
  },
  {
   "cell_type": "code",
   "execution_count": 12,
   "metadata": {},
   "outputs": [
    {
     "data": {
      "text/plain": [
       "{'missingist': {'gen': <PETsARD.Processor.Missingist.Missingist_Drop at 0x152362740>,\n",
       "  'age': <PETsARD.Processor.Missingist.Missingist_Mean at 0x122228940>,\n",
       "  'race': <PETsARD.Processor.Missingist.Missingist_Drop at 0x1523626e0>,\n",
       "  'edu': <PETsARD.Processor.Missingist.Missingist_Drop at 0x152363340>,\n",
       "  'mar': <PETsARD.Processor.Missingist.Missingist_Drop at 0x152362bc0>,\n",
       "  'bmi': <PETsARD.Processor.Missingist.Missingist_Mean at 0x152363250>,\n",
       "  'dep': <PETsARD.Processor.Missingist.Missingist_Mean at 0x152362530>,\n",
       "  'pir': <PETsARD.Processor.Missingist.Missingist_Mean at 0x152362800>,\n",
       "  'gh': <PETsARD.Processor.Missingist.Missingist_Mean at 0x152362320>,\n",
       "  'mets': <PETsARD.Processor.Missingist.Missingist_Mean at 0x152362500>,\n",
       "  'qm': <PETsARD.Processor.Missingist.Missingist_Drop at 0x152362980>,\n",
       "  'dia': <PETsARD.Processor.Missingist.Missingist_Mean at 0x152363550>},\n",
       " 'outlierist': {'gen': None,\n",
       "  'age': <PETsARD.Processor.Outlierist.Outlierist_IQR at 0x110abfee0>,\n",
       "  'race': None,\n",
       "  'edu': None,\n",
       "  'mar': None,\n",
       "  'bmi': <PETsARD.Processor.Outlierist.Outlierist_IQR at 0x1523628c0>,\n",
       "  'dep': <PETsARD.Processor.Outlierist.Outlierist_IQR at 0x152362d40>,\n",
       "  'pir': <PETsARD.Processor.Outlierist.Outlierist_IQR at 0x152363070>,\n",
       "  'gh': <PETsARD.Processor.Outlierist.Outlierist_IQR at 0x152362770>,\n",
       "  'mets': <PETsARD.Processor.Outlierist.Outlierist_IQR at 0x152362fb0>,\n",
       "  'qm': None,\n",
       "  'dia': <PETsARD.Processor.Outlierist.Outlierist_IQR at 0x152363df0>},\n",
       " 'encoder': {'gen': <PETsARD.Processor.Encoder.Encoder_Uniform at 0x1104f81f0>,\n",
       "  'age': None,\n",
       "  'race': <PETsARD.Processor.Encoder.Encoder_Uniform at 0x152361e10>,\n",
       "  'edu': <PETsARD.Processor.Encoder.Encoder_Uniform at 0x152361cc0>,\n",
       "  'mar': <PETsARD.Processor.Encoder.Encoder_Uniform at 0x152362860>,\n",
       "  'bmi': None,\n",
       "  'dep': None,\n",
       "  'pir': None,\n",
       "  'gh': None,\n",
       "  'mets': None,\n",
       "  'qm': <PETsARD.Processor.Encoder.Encoder_Uniform at 0x152363610>,\n",
       "  'dia': None},\n",
       " 'scaler': {'gen': None,\n",
       "  'age': <PETsARD.Processor.Scaler.Scaler_Standard at 0x110abfd00>,\n",
       "  'race': None,\n",
       "  'edu': None,\n",
       "  'mar': None,\n",
       "  'bmi': <PETsARD.Processor.Scaler.Scaler_Standard at 0x152362350>,\n",
       "  'dep': <PETsARD.Processor.Scaler.Scaler_Standard at 0x152362440>,\n",
       "  'pir': <PETsARD.Processor.Scaler.Scaler_Standard at 0x152363460>,\n",
       "  'gh': <PETsARD.Processor.Scaler.Scaler_Standard at 0x152363c40>,\n",
       "  'mets': <PETsARD.Processor.Scaler.Scaler_Standard at 0x152362650>,\n",
       "  'qm': None,\n",
       "  'dia': <PETsARD.Processor.Scaler.Scaler_Standard at 0x152363e50>}}"
      ]
     },
     "execution_count": 12,
     "metadata": {},
     "output_type": "execute_result"
    }
   ],
   "source": [
    "pm.get_config()"
   ]
  },
  {
   "cell_type": "code",
   "execution_count": 9,
   "metadata": {},
   "outputs": [],
   "source": [
    "from PETsARD.Processor.Missingist import Missingist_Mean"
   ]
  },
  {
   "cell_type": "code",
   "execution_count": 13,
   "metadata": {},
   "outputs": [],
   "source": [
    "config_1 = {'missingist': {'gen': Missingist_Mean(),\n",
    "  'age': Missingist_Mean()},\n",
    " 'outlierist': {'gen': None,\n",
    "  'age': None},\n",
    " 'encoder': {'gen': None,\n",
    "  'age': None},\n",
    " 'scaler': {'gen': None,\n",
    "  'age': None}}"
   ]
  },
  {
   "cell_type": "code",
   "execution_count": null,
   "metadata": {},
   "outputs": [],
   "source": [
    "pm.update_config(config_1)"
   ]
  },
  {
   "cell_type": "code",
   "execution_count": null,
   "metadata": {},
   "outputs": [
    {
     "data": {
      "text/plain": [
       "['missingist']"
      ]
     },
     "execution_count": 15,
     "metadata": {},
     "output_type": "execute_result"
    }
   ],
   "source": [
    "pm._sequence"
   ]
  },
  {
   "cell_type": "code",
   "execution_count": null,
   "metadata": {},
   "outputs": [],
   "source": []
  }
 ],
 "metadata": {
  "kernelspec": {
   "display_name": "py310",
   "language": "python",
   "name": "python3"
  },
  "language_info": {
   "codemirror_mode": {
    "name": "ipython",
    "version": 3
   },
   "file_extension": ".py",
   "mimetype": "text/x-python",
   "name": "python",
   "nbconvert_exporter": "python",
   "pygments_lexer": "ipython3",
   "version": "3.10.12"
  }
 },
 "nbformat": 4,
 "nbformat_minor": 2
}
