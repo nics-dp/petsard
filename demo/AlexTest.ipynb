{
 "cells": [
  {
   "cell_type": "code",
   "execution_count": 1,
   "metadata": {},
   "outputs": [],
   "source": [
    "import pandas as pd\n",
    "import numpy as np"
   ]
  },
  {
   "cell_type": "code",
   "execution_count": 2,
   "metadata": {},
   "outputs": [
    {
     "name": "stdout",
     "output_type": "stream",
     "text": [
      "/Users/alex/PETsARD\n"
     ]
    }
   ],
   "source": [
    "%cd /Users/alex/PETsARD"
   ]
  },
  {
   "cell_type": "code",
   "execution_count": 3,
   "metadata": {},
   "outputs": [],
   "source": [
    "import PETsARD"
   ]
  },
  {
   "cell_type": "code",
   "execution_count": 4,
   "metadata": {},
   "outputs": [
    {
     "name": "stdout",
     "output_type": "stream",
     "text": [
      "    gen   age   race       edu      mar        bmi  dep  pir   gh  mets  qm  \\\n",
      "0  Male  62.0  White  Graduate  Married  27.799999    0    0  0.0   0.0  Q2   \n",
      "\n",
      "   dia  \n",
      "0    1  \n"
     ]
    }
   ],
   "source": [
    "loader = PETsARD.Loader(filepath = '[NHANES] B.csv',\n",
    "                                header_exist = False,\n",
    "                                header_names = ['gen','age','race','edu','mar','bmi','dep','pir','gh','mets','qm','dia']\n",
    "                               )\n",
    "print(loader.data.head(1))"
   ]
  },
  {
   "cell_type": "code",
   "execution_count": 5,
   "metadata": {},
   "outputs": [],
   "source": [
    "df = loader.data"
   ]
  },
  {
   "cell_type": "code",
   "execution_count": 6,
   "metadata": {},
   "outputs": [],
   "source": [
    "metadata = {'metadata_col': {\n",
    "                'gen': {'type': 'categorical', 'na_percentage': 0.0},\n",
    "                'age': {'type': 'numerical', 'na_percentage': 0.0},\n",
    "                'race': {'type': 'categorical', 'na_percentage': 0.0},\n",
    "                'edu': {'type': 'categorical', 'na_percentage': 0.0},\n",
    "                'mar': {'type': 'categorical', 'na_percentage': 0.0},\n",
    "                'bmi': {'type': 'numerical', 'na_percentage': 0.0},\n",
    "                'dep': {'type': 'numerical', 'na_percentage': 0.0},\n",
    "                'pir': {'type': 'numerical', 'na_percentage': 0.0},\n",
    "                'gh': {'type': 'numerical', 'na_percentage': 0.0},\n",
    "                'mets': {'type': 'numerical', 'na_percentage': 0.0},\n",
    "                'qm': {'type': 'categorical', 'na_percentage': 0.0},\n",
    "                'dia': {'type': 'numerical', 'na_percentage': 0.0}\n",
    "                },\n",
    "             'metadata_global':{\n",
    "                 'row_num': 4190,\n",
    "                 'col_num': 12,\n",
    "                 'na_percentage': 0.0\n",
    "                }\n",
    "            }"
   ]
  },
  {
   "cell_type": "code",
   "execution_count": 7,
   "metadata": {},
   "outputs": [],
   "source": [
    "md1 = {'metadata_col': {\n",
    "                'gen': {'type': 'categorical', 'na_percentage': 0.0},\n",
    "                'age': {'type': 'numerical', 'na_percentage': 0.0}\n",
    "                },\n",
    "             'metadata_global':{\n",
    "                 'row_num': 4190,\n",
    "                 'col_num': 12,\n",
    "                 'na_percentage': 0.0\n",
    "                }\n",
    "            }"
   ]
  },
  {
   "cell_type": "code",
   "execution_count": 8,
   "metadata": {},
   "outputs": [],
   "source": [
    "pm = PETsARD.HyperProcessor(metadata)"
   ]
  },
  {
   "cell_type": "code",
   "execution_count": 9,
   "metadata": {},
   "outputs": [],
   "source": [
    "from PETsARD.Processor.Missingist import Missingist_Mean"
   ]
  },
  {
   "cell_type": "code",
   "execution_count": 10,
   "metadata": {},
   "outputs": [],
   "source": [
    "config_1 = {'missingist': {'gen': Missingist_Mean(),\n",
    "  'age': Missingist_Mean()},\n",
    " 'outlierist': {'gen': None,\n",
    "  'age': None},\n",
    " 'encoder': {'gen': None,\n",
    "  'age': None},\n",
    " 'scaler': {'gen': None,\n",
    "  'age': None}}"
   ]
  },
  {
   "cell_type": "code",
   "execution_count": 11,
   "metadata": {},
   "outputs": [
    {
     "name": "stdout",
     "output_type": "stream",
     "text": [
      "Mediator_Missingist is created.\n",
      "Mediator_Outlierist is created.\n"
     ]
    }
   ],
   "source": [
    "pm.fit(df)"
   ]
  },
  {
   "cell_type": "code",
   "execution_count": 18,
   "metadata": {},
   "outputs": [],
   "source": [
    "a = pm.get_config(['race'])"
   ]
  },
  {
   "cell_type": "code",
   "execution_count": 22,
   "metadata": {},
   "outputs": [
    {
     "data": {
      "text/plain": [
       "{'White': (0.0, 0.3336515513126492),\n",
       " 'Black': (0.3336515513126492, 0.537708830548926),\n",
       " 'Mexican': (0.537708830548926, 0.7090692124105012),\n",
       " 'Other': (0.7090692124105012, 0.8639618138424822),\n",
       " 'Hispanic': (0.8639618138424822, 1.0)}"
      ]
     },
     "execution_count": 22,
     "metadata": {},
     "output_type": "execute_result"
    }
   ],
   "source": [
    "a['encoder']['race'].cat_to_val"
   ]
  },
  {
   "cell_type": "code",
   "execution_count": 24,
   "metadata": {},
   "outputs": [
    {
     "data": {
      "text/plain": [
       "['gen', 'race', 'edu', 'mar', 'qm']"
      ]
     },
     "execution_count": 24,
     "metadata": {},
     "output_type": "execute_result"
    }
   ],
   "source": [
    "pm.mediator_missingist._process_col"
   ]
  },
  {
   "cell_type": "code",
   "execution_count": null,
   "metadata": {},
   "outputs": [],
   "source": []
  }
 ],
 "metadata": {
  "kernelspec": {
   "display_name": "py310",
   "language": "python",
   "name": "python3"
  },
  "language_info": {
   "codemirror_mode": {
    "name": "ipython",
    "version": 3
   },
   "file_extension": ".py",
   "mimetype": "text/x-python",
   "name": "python",
   "nbconvert_exporter": "python",
   "pygments_lexer": "ipython3",
   "version": "3.10.12"
  }
 },
 "nbformat": 4,
 "nbformat_minor": 2
}
