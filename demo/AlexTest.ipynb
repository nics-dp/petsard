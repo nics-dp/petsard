{
 "cells": [
  {
   "cell_type": "code",
   "execution_count": 1,
   "metadata": {},
   "outputs": [],
   "source": [
    "import pandas as pd\n",
    "import numpy as np"
   ]
  },
  {
   "cell_type": "code",
   "execution_count": 2,
   "metadata": {},
   "outputs": [
    {
     "name": "stdout",
     "output_type": "stream",
     "text": [
      "/Users/alex/PETs-Experiment\n"
     ]
    }
   ],
   "source": [
    "%cd .."
   ]
  },
  {
   "cell_type": "code",
   "execution_count": 4,
   "metadata": {},
   "outputs": [],
   "source": [
    "import PETs_Experiment"
   ]
  },
  {
   "cell_type": "code",
   "execution_count": 5,
   "metadata": {},
   "outputs": [
    {
     "name": "stdout",
     "output_type": "stream",
     "text": [
      "    gen   age   race       edu      mar        bmi  dep  pir   gh  mets  qm  \\\n",
      "0  Male  62.0  White  Graduate  Married  27.799999    0    0  0.0   0.0  Q2   \n",
      "\n",
      "   dia  \n",
      "0    1  \n"
     ]
    }
   ],
   "source": [
    "loader = PETs_Experiment.Loader(filepath = '[NHANES] B.csv',\n",
    "                                header_exist = False,\n",
    "                                header_names = ['gen','age','race','edu','mar','bmi','dep','pir','gh','mets','qm','dia']\n",
    "                               )\n",
    "print(loader.data.head(1))"
   ]
  },
  {
   "cell_type": "code",
   "execution_count": 6,
   "metadata": {},
   "outputs": [],
   "source": [
    "df = loader.data"
   ]
  },
  {
   "cell_type": "code",
   "execution_count": 7,
   "metadata": {},
   "outputs": [],
   "source": [
    "metadata = {'metadata_col': {\n",
    "                'gen': {'type': 'categorical', 'na_percentage': 0.0},\n",
    "                'age': {'type': 'numerical', 'na_percentage': 0.0},\n",
    "                'race': {'type': 'categorical', 'na_percentage': 0.0},\n",
    "                'edu': {'type': 'categorical', 'na_percentage': 0.0},\n",
    "                'mar': {'type': 'categorical', 'na_percentage': 0.0},\n",
    "                'bmi': {'type': 'numerical', 'na_percentage': 0.0},\n",
    "                'dep': {'type': 'numerical', 'na_percentage': 0.0},\n",
    "                'pir': {'type': 'numerical', 'na_percentage': 0.0},\n",
    "                'gh': {'type': 'numerical', 'na_percentage': 0.0},\n",
    "                'mets': {'type': 'numerical', 'na_percentage': 0.0},\n",
    "                'qm': {'type': 'categorical', 'na_percentage': 0.0},\n",
    "                'dia': {'type': 'numerical', 'na_percentage': 0.0}\n",
    "                },\n",
    "             'metadata_global':{\n",
    "                 'row_num': 4190,\n",
    "                 'col_num': 12,\n",
    "                 'na_percentage': 0.0\n",
    "                }\n",
    "            }"
   ]
  },
  {
   "cell_type": "code",
   "execution_count": 8,
   "metadata": {},
   "outputs": [
    {
     "data": {
      "text/html": [
       "<div>\n",
       "<style scoped>\n",
       "    .dataframe tbody tr th:only-of-type {\n",
       "        vertical-align: middle;\n",
       "    }\n",
       "\n",
       "    .dataframe tbody tr th {\n",
       "        vertical-align: top;\n",
       "    }\n",
       "\n",
       "    .dataframe thead th {\n",
       "        text-align: right;\n",
       "    }\n",
       "</style>\n",
       "<table border=\"1\" class=\"dataframe\">\n",
       "  <thead>\n",
       "    <tr style=\"text-align: right;\">\n",
       "      <th></th>\n",
       "      <th>gen</th>\n",
       "      <th>age</th>\n",
       "      <th>race</th>\n",
       "      <th>edu</th>\n",
       "      <th>mar</th>\n",
       "      <th>bmi</th>\n",
       "      <th>dep</th>\n",
       "      <th>pir</th>\n",
       "      <th>gh</th>\n",
       "      <th>mets</th>\n",
       "      <th>qm</th>\n",
       "      <th>dia</th>\n",
       "    </tr>\n",
       "  </thead>\n",
       "  <tbody>\n",
       "    <tr>\n",
       "      <th>0</th>\n",
       "      <td>Male</td>\n",
       "      <td>62.0</td>\n",
       "      <td>White</td>\n",
       "      <td>Graduate</td>\n",
       "      <td>Married</td>\n",
       "      <td>27.799999</td>\n",
       "      <td>0</td>\n",
       "      <td>0</td>\n",
       "      <td>0.0</td>\n",
       "      <td>0.0</td>\n",
       "      <td>Q2</td>\n",
       "      <td>1</td>\n",
       "    </tr>\n",
       "    <tr>\n",
       "      <th>1</th>\n",
       "      <td>Male</td>\n",
       "      <td>53.0</td>\n",
       "      <td>White</td>\n",
       "      <td>HighSchool</td>\n",
       "      <td>Divorced</td>\n",
       "      <td>30.799999</td>\n",
       "      <td>0</td>\n",
       "      <td>1</td>\n",
       "      <td>0.0</td>\n",
       "      <td>0.0</td>\n",
       "      <td>Q1</td>\n",
       "      <td>0</td>\n",
       "    </tr>\n",
       "    <tr>\n",
       "      <th>2</th>\n",
       "      <td>Male</td>\n",
       "      <td>78.0</td>\n",
       "      <td>White</td>\n",
       "      <td>HighSchool</td>\n",
       "      <td>Married</td>\n",
       "      <td>28.799999</td>\n",
       "      <td>0</td>\n",
       "      <td>0</td>\n",
       "      <td>0.0</td>\n",
       "      <td>0.0</td>\n",
       "      <td>Q3</td>\n",
       "      <td>1</td>\n",
       "    </tr>\n",
       "    <tr>\n",
       "      <th>3</th>\n",
       "      <td>Female</td>\n",
       "      <td>56.0</td>\n",
       "      <td>White</td>\n",
       "      <td>Graduate</td>\n",
       "      <td>Parther</td>\n",
       "      <td>42.400002</td>\n",
       "      <td>1</td>\n",
       "      <td>0</td>\n",
       "      <td>0.0</td>\n",
       "      <td>0.0</td>\n",
       "      <td>Q3</td>\n",
       "      <td>0</td>\n",
       "    </tr>\n",
       "    <tr>\n",
       "      <th>4</th>\n",
       "      <td>Female</td>\n",
       "      <td>42.0</td>\n",
       "      <td>Black</td>\n",
       "      <td>College</td>\n",
       "      <td>Divorced</td>\n",
       "      <td>20.299999</td>\n",
       "      <td>1</td>\n",
       "      <td>0</td>\n",
       "      <td>0.0</td>\n",
       "      <td>0.0</td>\n",
       "      <td>Q4</td>\n",
       "      <td>0</td>\n",
       "    </tr>\n",
       "    <tr>\n",
       "      <th>...</th>\n",
       "      <td>...</td>\n",
       "      <td>...</td>\n",
       "      <td>...</td>\n",
       "      <td>...</td>\n",
       "      <td>...</td>\n",
       "      <td>...</td>\n",
       "      <td>...</td>\n",
       "      <td>...</td>\n",
       "      <td>...</td>\n",
       "      <td>...</td>\n",
       "      <td>...</td>\n",
       "      <td>...</td>\n",
       "    </tr>\n",
       "    <tr>\n",
       "      <th>4185</th>\n",
       "      <td>Male</td>\n",
       "      <td>25.0</td>\n",
       "      <td>Other</td>\n",
       "      <td>Graduate</td>\n",
       "      <td>Never</td>\n",
       "      <td>21.000000</td>\n",
       "      <td>0</td>\n",
       "      <td>0</td>\n",
       "      <td>0.0</td>\n",
       "      <td>0.0</td>\n",
       "      <td>Q1</td>\n",
       "      <td>0</td>\n",
       "    </tr>\n",
       "    <tr>\n",
       "      <th>4186</th>\n",
       "      <td>Female</td>\n",
       "      <td>76.0</td>\n",
       "      <td>White</td>\n",
       "      <td>HighSchool</td>\n",
       "      <td>Widowed</td>\n",
       "      <td>21.500000</td>\n",
       "      <td>1</td>\n",
       "      <td>0</td>\n",
       "      <td>0.0</td>\n",
       "      <td>0.0</td>\n",
       "      <td>Q1</td>\n",
       "      <td>0</td>\n",
       "    </tr>\n",
       "    <tr>\n",
       "      <th>4187</th>\n",
       "      <td>Female</td>\n",
       "      <td>80.0</td>\n",
       "      <td>White</td>\n",
       "      <td>College</td>\n",
       "      <td>Widowed</td>\n",
       "      <td>31.000000</td>\n",
       "      <td>0</td>\n",
       "      <td>0</td>\n",
       "      <td>0.0</td>\n",
       "      <td>0.0</td>\n",
       "      <td>Q1</td>\n",
       "      <td>0</td>\n",
       "    </tr>\n",
       "    <tr>\n",
       "      <th>4188</th>\n",
       "      <td>Male</td>\n",
       "      <td>35.0</td>\n",
       "      <td>White</td>\n",
       "      <td>9th</td>\n",
       "      <td>Married</td>\n",
       "      <td>26.000000</td>\n",
       "      <td>0</td>\n",
       "      <td>1</td>\n",
       "      <td>0.0</td>\n",
       "      <td>0.0</td>\n",
       "      <td>Q1</td>\n",
       "      <td>0</td>\n",
       "    </tr>\n",
       "    <tr>\n",
       "      <th>4189</th>\n",
       "      <td>Female</td>\n",
       "      <td>24.0</td>\n",
       "      <td>White</td>\n",
       "      <td>Graduate</td>\n",
       "      <td>Never</td>\n",
       "      <td>21.400000</td>\n",
       "      <td>0</td>\n",
       "      <td>0</td>\n",
       "      <td>0.0</td>\n",
       "      <td>0.0</td>\n",
       "      <td>Q3</td>\n",
       "      <td>0</td>\n",
       "    </tr>\n",
       "  </tbody>\n",
       "</table>\n",
       "<p>4190 rows × 12 columns</p>\n",
       "</div>"
      ],
      "text/plain": [
       "         gen   age   race         edu       mar        bmi  dep  pir   gh  \\\n",
       "0       Male  62.0  White    Graduate   Married  27.799999    0    0  0.0   \n",
       "1       Male  53.0  White  HighSchool  Divorced  30.799999    0    1  0.0   \n",
       "2       Male  78.0  White  HighSchool   Married  28.799999    0    0  0.0   \n",
       "3     Female  56.0  White    Graduate   Parther  42.400002    1    0  0.0   \n",
       "4     Female  42.0  Black     College  Divorced  20.299999    1    0  0.0   \n",
       "...      ...   ...    ...         ...       ...        ...  ...  ...  ...   \n",
       "4185    Male  25.0  Other    Graduate     Never  21.000000    0    0  0.0   \n",
       "4186  Female  76.0  White  HighSchool   Widowed  21.500000    1    0  0.0   \n",
       "4187  Female  80.0  White     College   Widowed  31.000000    0    0  0.0   \n",
       "4188    Male  35.0  White         9th   Married  26.000000    0    1  0.0   \n",
       "4189  Female  24.0  White    Graduate     Never  21.400000    0    0  0.0   \n",
       "\n",
       "      mets  qm  dia  \n",
       "0      0.0  Q2    1  \n",
       "1      0.0  Q1    0  \n",
       "2      0.0  Q3    1  \n",
       "3      0.0  Q3    0  \n",
       "4      0.0  Q4    0  \n",
       "...    ...  ..  ...  \n",
       "4185   0.0  Q1    0  \n",
       "4186   0.0  Q1    0  \n",
       "4187   0.0  Q1    0  \n",
       "4188   0.0  Q1    0  \n",
       "4189   0.0  Q3    0  \n",
       "\n",
       "[4190 rows x 12 columns]"
      ]
     },
     "execution_count": 8,
     "metadata": {},
     "output_type": "execute_result"
    }
   ],
   "source": [
    "df"
   ]
  },
  {
   "cell_type": "code",
   "execution_count": 10,
   "metadata": {},
   "outputs": [],
   "source": [
    "pm = PETs_Experiment.Processor_Manager(metadata)"
   ]
  },
  {
   "cell_type": "code",
   "execution_count": 11,
   "metadata": {},
   "outputs": [
    {
     "data": {
      "text/plain": [
       "<PETs_Experiment.Processor_Manager.Processor_Manager.Processor_Manager at 0x13982c970>"
      ]
     },
     "execution_count": 11,
     "metadata": {},
     "output_type": "execute_result"
    }
   ],
   "source": [
    "pm"
   ]
  },
  {
   "cell_type": "code",
   "execution_count": null,
   "metadata": {},
   "outputs": [],
   "source": []
  }
 ],
 "metadata": {
  "kernelspec": {
   "display_name": "py310",
   "language": "python",
   "name": "python3"
  },
  "language_info": {
   "codemirror_mode": {
    "name": "ipython",
    "version": 3
   },
   "file_extension": ".py",
   "mimetype": "text/x-python",
   "name": "python",
   "nbconvert_exporter": "python",
   "pygments_lexer": "ipython3",
   "version": "3.10.12"
  }
 },
 "nbformat": 4,
 "nbformat_minor": 2
}
