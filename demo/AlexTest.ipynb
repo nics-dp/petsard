{
 "cells": [
  {
   "cell_type": "code",
   "execution_count": 1,
   "metadata": {},
   "outputs": [],
   "source": [
    "import pandas as pd\n",
    "import numpy as np"
   ]
  },
  {
   "cell_type": "code",
   "execution_count": 2,
   "metadata": {},
   "outputs": [
    {
     "name": "stdout",
     "output_type": "stream",
     "text": [
      "/Users/alex/PETs-Experiment\n"
     ]
    }
   ],
   "source": [
    "%cd /Users/alex/PETs-Experiment"
   ]
  },
  {
   "cell_type": "code",
   "execution_count": 12,
   "metadata": {},
   "outputs": [],
   "source": [
    "import PETs_Experiment"
   ]
  },
  {
   "cell_type": "code",
   "execution_count": 4,
   "metadata": {},
   "outputs": [
    {
     "name": "stdout",
     "output_type": "stream",
     "text": [
      "    gen   age   race       edu      mar        bmi  dep  pir   gh  mets  qm  \\\n",
      "0  Male  62.0  White  Graduate  Married  27.799999    0    0  0.0   0.0  Q2   \n",
      "\n",
      "   dia  \n",
      "0    1  \n"
     ]
    }
   ],
   "source": [
    "loader = PETs_Experiment.Loader(filepath = '[NHANES] B.csv',\n",
    "                                header_exist = False,\n",
    "                                header_names = ['gen','age','race','edu','mar','bmi','dep','pir','gh','mets','qm','dia']\n",
    "                               )\n",
    "print(loader.data.head(1))"
   ]
  },
  {
   "cell_type": "code",
   "execution_count": 5,
   "metadata": {},
   "outputs": [],
   "source": [
    "df = loader.data"
   ]
  },
  {
   "cell_type": "code",
   "execution_count": 19,
   "metadata": {},
   "outputs": [],
   "source": [
    "metadata = {'metadata_col': {\n",
    "                'gen': {'type': 'categorical', 'na_percentage': 0.0},\n",
    "                'age': {'type': 'numerical', 'na_percentage': 0.0},\n",
    "                'race': {'type': 'categorical', 'na_percentage': 0.0},\n",
    "                'edu': {'type': 'categorical', 'na_percentage': 0.0},\n",
    "                'mar': {'type': 'categorical', 'na_percentage': 0.0},\n",
    "                'bmi': {'type': 'numerical', 'na_percentage': 0.0},\n",
    "                'dep': {'type': 'numerical', 'na_percentage': 0.0},\n",
    "                'pir': {'type': 'numerical', 'na_percentage': 0.0},\n",
    "                'gh': {'type': 'numerical', 'na_percentage': 0.0},\n",
    "                'mets': {'type': 'numerical', 'na_percentage': 0.0},\n",
    "                'qm': {'type': 'categorical', 'na_percentage': 0.0},\n",
    "                'dia': {'type': 'numerical', 'na_percentage': 0.0}\n",
    "                },\n",
    "             'metadata_global':{\n",
    "                 'row_num': 4190,\n",
    "                 'col_num': 12,\n",
    "                 'na_percentage': 0.0\n",
    "                }\n",
    "            }"
   ]
  },
  {
   "cell_type": "code",
   "execution_count": 20,
   "metadata": {},
   "outputs": [],
   "source": [
    "md1 = {'metadata_col': {\n",
    "                'gen': {'type': 'categorical', 'na_percentage': 0.0},\n",
    "                'age': {'type': 'numerical', 'na_percentage': 0.0}\n",
    "                },\n",
    "             'metadata_global':{\n",
    "                 'row_num': 4190,\n",
    "                 'col_num': 12,\n",
    "                 'na_percentage': 0.0\n",
    "                }\n",
    "            }"
   ]
  },
  {
   "cell_type": "code",
   "execution_count": 21,
   "metadata": {},
   "outputs": [],
   "source": [
    "pm = PETs_Experiment.Processor_Manager(metadata)"
   ]
  },
  {
   "cell_type": "code",
   "execution_count": 22,
   "metadata": {},
   "outputs": [],
   "source": [
    "test = pm.get_config(['gen', 'age'])"
   ]
  },
  {
   "cell_type": "code",
   "execution_count": 23,
   "metadata": {},
   "outputs": [],
   "source": [
    "from PETs_Experiment.Preprocessor.Missingist_Drop import Missingist_Drop\n",
    "\n",
    "\n",
    "test['gen']['missingist'] = Missingist_Drop(df)\n",
    "test['gen']['encoder'] = None\n",
    "\n",
    "test['age']['missingist'] = Missingist_Drop(df)\n",
    "test['age']['outlierist'] = None\n",
    "test['age']['scaler'] = None"
   ]
  },
  {
   "cell_type": "code",
   "execution_count": 24,
   "metadata": {},
   "outputs": [],
   "source": [
    "pm.set_config(test)"
   ]
  },
  {
   "cell_type": "code",
   "execution_count": 27,
   "metadata": {},
   "outputs": [],
   "source": [
    "pm.update_config({'age': {'missingist': Missingist_Drop(df)}, 'gen':{'missingist': Missingist_Drop(df)}})"
   ]
  },
  {
   "cell_type": "code",
   "execution_count": 30,
   "metadata": {},
   "outputs": [
    {
     "data": {
      "text/plain": [
       "PETs_Experiment.Preprocessor.Missingist_Drop.Missingist_Drop"
      ]
     },
     "execution_count": 30,
     "metadata": {},
     "output_type": "execute_result"
    }
   ],
   "source": [
    "type(pm._config['gen']['missingist'])"
   ]
  },
  {
   "cell_type": "code",
   "execution_count": 4,
   "metadata": {},
   "outputs": [],
   "source": [
    "df_data = pd.DataFrame({'col1': [1.0, 2.0, 3.0], 'col2': [4.0, 5.0, 6.0]})"
   ]
  },
  {
   "cell_type": "code",
   "execution_count": 5,
   "metadata": {},
   "outputs": [
    {
     "data": {
      "text/html": [
       "<div>\n",
       "<style scoped>\n",
       "    .dataframe tbody tr th:only-of-type {\n",
       "        vertical-align: middle;\n",
       "    }\n",
       "\n",
       "    .dataframe tbody tr th {\n",
       "        vertical-align: top;\n",
       "    }\n",
       "\n",
       "    .dataframe thead th {\n",
       "        text-align: right;\n",
       "    }\n",
       "</style>\n",
       "<table border=\"1\" class=\"dataframe\">\n",
       "  <thead>\n",
       "    <tr style=\"text-align: right;\">\n",
       "      <th></th>\n",
       "      <th>col1</th>\n",
       "      <th>col2</th>\n",
       "    </tr>\n",
       "  </thead>\n",
       "  <tbody>\n",
       "    <tr>\n",
       "      <th>0</th>\n",
       "      <td>1.0</td>\n",
       "      <td>4.0</td>\n",
       "    </tr>\n",
       "    <tr>\n",
       "      <th>1</th>\n",
       "      <td>2.0</td>\n",
       "      <td>5.0</td>\n",
       "    </tr>\n",
       "    <tr>\n",
       "      <th>2</th>\n",
       "      <td>3.0</td>\n",
       "      <td>6.0</td>\n",
       "    </tr>\n",
       "  </tbody>\n",
       "</table>\n",
       "</div>"
      ],
      "text/plain": [
       "   col1  col2\n",
       "0   1.0   4.0\n",
       "1   2.0   5.0\n",
       "2   3.0   6.0"
      ]
     },
     "execution_count": 5,
     "metadata": {},
     "output_type": "execute_result"
    }
   ],
   "source": [
    "df_data"
   ]
  },
  {
   "cell_type": "code",
   "execution_count": 6,
   "metadata": {},
   "outputs": [
    {
     "data": {
      "text/plain": [
       "pandas.core.series.Series"
      ]
     },
     "execution_count": 6,
     "metadata": {},
     "output_type": "execute_result"
    }
   ],
   "source": [
    "type(df_data['col1'])"
   ]
  },
  {
   "cell_type": "code",
   "execution_count": 7,
   "metadata": {},
   "outputs": [],
   "source": [
    "df_data = pd.DataFrame({'A': [0.0] * 10000 + [10000.0], 'B': pd.to_datetime(['2222-12-12']).append(pd.to_datetime(['2022-12-13']*10000))})"
   ]
  },
  {
   "cell_type": "code",
   "execution_count": 8,
   "metadata": {},
   "outputs": [],
   "source": [
    "from sklearn.preprocessing import StandardScaler"
   ]
  },
  {
   "cell_type": "code",
   "execution_count": 9,
   "metadata": {},
   "outputs": [],
   "source": [
    "ss = StandardScaler()"
   ]
  },
  {
   "cell_type": "code",
   "execution_count": 13,
   "metadata": {},
   "outputs": [],
   "source": [
    "a = ss.fit_transform(df_data['B'].values.reshape(-1, 1))"
   ]
  },
  {
   "cell_type": "code",
   "execution_count": 16,
   "metadata": {},
   "outputs": [],
   "source": [
    "b = ss.inverse_transform(a)"
   ]
  },
  {
   "cell_type": "code",
   "execution_count": 23,
   "metadata": {},
   "outputs": [
    {
     "data": {
      "text/plain": [
       "DatetimeIndex(['2222-12-12', '2022-12-13', '2022-12-13', '2022-12-13',\n",
       "               '2022-12-13', '2022-12-13', '2022-12-13', '2022-12-13',\n",
       "               '2022-12-13', '2022-12-13',\n",
       "               ...\n",
       "               '2022-12-13', '2022-12-13', '2022-12-13', '2022-12-13',\n",
       "               '2022-12-13', '2022-12-13', '2022-12-13', '2022-12-13',\n",
       "               '2022-12-13', '2022-12-13'],\n",
       "              dtype='datetime64[ns]', length=10001, freq=None)"
      ]
     },
     "execution_count": 23,
     "metadata": {},
     "output_type": "execute_result"
    }
   ],
   "source": [
    "pd.to_datetime(b.reshape(-1).tolist())"
   ]
  },
  {
   "cell_type": "code",
   "execution_count": 25,
   "metadata": {},
   "outputs": [
    {
     "data": {
      "text/plain": [
       "numpy.datetime64('2022-12-13T00:00:00.000000000')"
      ]
     },
     "execution_count": 25,
     "metadata": {},
     "output_type": "execute_result"
    }
   ],
   "source": [
    "np.quantile(df_data['B'].values, 0.5)"
   ]
  },
  {
   "cell_type": "code",
   "execution_count": 6,
   "metadata": {},
   "outputs": [],
   "source": [
    "df_data = pd.DataFrame({'col1': [1.0, 2.0, 3.0]})"
   ]
  },
  {
   "cell_type": "code",
   "execution_count": 9,
   "metadata": {},
   "outputs": [
    {
     "data": {
      "text/plain": [
       "3"
      ]
     },
     "execution_count": 9,
     "metadata": {},
     "output_type": "execute_result"
    }
   ],
   "source": [
    "df_data['col1'].shape[0]"
   ]
  },
  {
   "cell_type": "code",
   "execution_count": 16,
   "metadata": {},
   "outputs": [],
   "source": [
    "missingist = Missingist(na_percentage=0.8)"
   ]
  },
  {
   "cell_type": "code",
   "execution_count": 14,
   "metadata": {},
   "outputs": [],
   "source": [
    "from PETs_Experiment.Processor.Missingist import Missingist"
   ]
  },
  {
   "cell_type": "code",
   "execution_count": 20,
   "metadata": {},
   "outputs": [],
   "source": [
    "a = missingist.rng.random(3)"
   ]
  },
  {
   "cell_type": "code",
   "execution_count": 21,
   "metadata": {},
   "outputs": [
    {
     "data": {
      "text/plain": [
       "array([ True, False,  True])"
      ]
     },
     "execution_count": 21,
     "metadata": {},
     "output_type": "execute_result"
    }
   ],
   "source": [
    "a < 0.8"
   ]
  },
  {
   "cell_type": "code",
   "execution_count": 25,
   "metadata": {},
   "outputs": [],
   "source": [
    "d = df_data['col1'].copy()"
   ]
  },
  {
   "cell_type": "code",
   "execution_count": 27,
   "metadata": {},
   "outputs": [],
   "source": [
    "d[a < 0.8] = np.nan"
   ]
  },
  {
   "cell_type": "code",
   "execution_count": 28,
   "metadata": {},
   "outputs": [
    {
     "data": {
      "text/plain": [
       "0    NaN\n",
       "1    2.0\n",
       "2    NaN\n",
       "Name: col1, dtype: float64"
      ]
     },
     "execution_count": 28,
     "metadata": {},
     "output_type": "execute_result"
    }
   ],
   "source": [
    "d"
   ]
  },
  {
   "cell_type": "code",
   "execution_count": null,
   "metadata": {},
   "outputs": [],
   "source": []
  }
 ],
 "metadata": {
  "kernelspec": {
   "display_name": "py310",
   "language": "python",
   "name": "python3"
  },
  "language_info": {
   "codemirror_mode": {
    "name": "ipython",
    "version": 3
   },
   "file_extension": ".py",
   "mimetype": "text/x-python",
   "name": "python",
   "nbconvert_exporter": "python",
   "pygments_lexer": "ipython3",
   "version": "3.10.12"
  }
 },
 "nbformat": 4,
 "nbformat_minor": 2
}
