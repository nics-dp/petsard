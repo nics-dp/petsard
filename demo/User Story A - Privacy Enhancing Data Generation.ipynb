{
 "cells": [
  {
   "cell_type": "markdown",
   "metadata": {},
   "source": [
    "# User Story\n",
    "\n",
    "This demo is a presentation of \"User Stories\" of PETsARD Spec. Also it can help users to set their own config file. Enjoy : )\n",
    "\n",
    "本示例為【資料生成演算法分析與評估系統 Spec】當中【用戶故事 User Stories】的呈現。它還可以幫助用戶設置自己的配置文件。祝您使用愉快 : )"
   ]
  },
  {
   "cell_type": "markdown",
   "metadata": {},
   "source": [
    "---\n",
    "\n",
    "## User Story A - Privacy Enhancing Data Generation\n",
    "\n",
    "\n",
    "> This demo will show how to generate privacy-enhanced data using `PETsARD`.\n",
    ">\n",
    "> In this demonstration, you, as the user, already possess a data file locally, and `PETsARD` will assist you in loading that file and then generating a privacy-enhanced version of it.\n",
    ">\n",
    "> At the same time, privacy-enhancing algorithms often have format restrictions and require specific pre-processing and post-processing procedures to function correctly. However, `PETsARD` has taken this into account for the user. `PETsARD` offers both default and customizable preprocessing and postprocessing workflows to help users get started quickly.\n",
    ">\n",
    ">\n",
    "> 本示範將展示如何使用 `PETsARD` 生成隱私強化資料。\n",
    ">\n",
    "> 在這個示範中，您作為使用者，在本機上已經擁有一份資料檔案，而 `PETsARD` 將幫助您讀取該檔案、然後生成經隱私強化後的版本。\n",
    ">\n",
    "> 同時，隱私強化演算法通常都有格式的限制，必須經過特定的前處理 (Pre-processing) 與後處理 (Post-processing) 程序才能正確運作，但 `PETsARD` 已經為使用者考慮到這點，`PETsARD` 提供預設與可客製化的前後處理流程，幫助使用者快速上手。"
   ]
  },
  {
   "cell_type": "markdown",
   "metadata": {},
   "source": [
    "---\n",
    "\n",
    "## YAML\n",
    "\n",
    "> The basic format of YAML is as follows:\n",
    ">\n",
    "> YAML 的基礎格式如下：\n",
    "\n",
    "```\n",
    "{module name}:\n",
    "    {experiment name}:\n",
    "        {config of module}: ...\n",
    "```\n",
    "\n",
    "> - module name：A module that performs specific tasks. The modules required for this user story include:\n",
    ">     - `Loader`: Data loading\n",
    ">     - `Preprocessor`: Data pre-processing\n",
    ">     - `Synthesizer`: Data synthesizing\n",
    ">     - `Postprocessor`: Data post-processing\n",
    ">     - `Reporter`: Data/Report output\n",
    "> - experiment name: A custom name for a single experimental parameter for that module. Mandatory.\n",
    "> - config of module：For complete parameters, please refer to the descriptions of each module in the manual.\n",
    ">\n",
    ">\n",
    "> - 模組名稱：執行特定工作的模組。本用戶故事所需的模組包含：\n",
    ">     - `Loader`: 資料讀取\n",
    ">     - `Preprocessor`: 資料前處理\n",
    ">     - `Synthesizer`: 資料合成\n",
    ">     - `Postprocessor`: 資料後處理\n",
    ">     - `Reporter`: 資料/報表輸出\n",
    "> - 實驗名稱：對於該模組，單一個實驗參數的自訂名稱。必填。\n",
    "> - 模組的設定：完整參數請參考各模組於手冊上的說明。"
   ]
  },
  {
   "cell_type": "markdown",
   "metadata": {},
   "source": [
    "### YAML - Synthesizer (default)\n",
    "\n",
    "> `method` specifies the desired synthesis method (see the manual for complete options). Mandatory.\n",
    ">\n",
    "> `method = 'default'` will use the default method for synthesis (currently SDV's Gaussian Copula).\n",
    ">\n",
    ">\n",
    "> `method` 指定所希望使用的合成方法（完整選項見手冊）。必填。\n",
    ">\n",
    "> `method = 'default'` 將使用預設的方式做合成（目前是 SDV 的 Gaussian Copula）。"
   ]
  },
  {
   "cell_type": "markdown",
   "metadata": {},
   "source": [
    "### YAML - Reporter (save_data)\n",
    "\n",
    "> `method` specifies the desired reporting method. When `method = 'save_data'`, it will capture and output the result data of the module.\n",
    ">\n",
    "> `source` is a parameter unique to `method = 'save_data'`, specifying which module(s) results to output. Specifying `'Postprocessor'` means wishing to obtain the results of the Postprocessor, that is, data that has undergone preprocessing, synthesis, and postprocessing, which retains the data's privacy-enhanced characteristics and ensures the data format matches the original.\n",
    ">\n",
    ">\n",
    "> `method` 指定所希望使用的報告方法，當 `method = 'save_data'`，則會擷取模組的結果資料做輸出。\n",
    ">\n",
    "> `source` 是 `method = 'save_data'` 特有的參數，指定哪個/哪些模組的結果做輸出。這邊指定為 `'Postprocessor'` 代表希望拿 Postprocessor 的結果，即經過前處理、合成、後處理的資料，其保有隱私強化的資料特性、且資料樣態將符合原始資料。"
   ]
  },
  {
   "cell_type": "markdown",
   "metadata": {},
   "source": [
    "---\n",
    "\n",
    "## Environment\n",
    "\n",
    "\n",
    "> In `PETsARD`, the only thing you need to do is prepare a YAML file following the example and execute the `Executor`.\n",
    ">\n",
    "> Assuming your YAML file is named config.yaml, your Python code would be:\n",
    ">\n",
    ">\n",
    "> 在 `PETsARD` 中，您唯一所需要做的，便是參考範例準備 YAML 檔案，並執行 `Executor`。\n",
    ">\n",
    "> 假設您的 YAML 檔案名稱為 `config.yaml`，則您的 Python 程式碼為：\n",
    "\n",
    "\n",
    "> ```Python\n",
    "> exec = Executor(config='config.yaml')\n",
    "> exec.run()\n",
    "> ```"
   ]
  },
  {
   "cell_type": "code",
   "execution_count": 1,
   "metadata": {},
   "outputs": [
    {
     "name": "stdout",
     "output_type": "stream",
     "text": [
      "d:\\Dropbox\\89_other_application\\GitHub\\PETsARD\n"
     ]
    }
   ],
   "source": [
    "import os\n",
    "import pprint\n",
    "import sys\n",
    "\n",
    "import yaml\n",
    "\n",
    "\n",
    "# Setting up the path to the PETsARD package\n",
    "path_petsard = os.path.dirname(os.getcwd())\n",
    "print(path_petsard)\n",
    "sys.path.append(path_petsard)\n",
    "\n",
    "\n",
    "from PETsARD import Executor"
   ]
  },
  {
   "cell_type": "markdown",
   "metadata": {},
   "source": [
    "> `Demo_UserStory` is a function created for demonstrating details and can be ignored.\n",
    ">\n",
    "> `Demo_UserStory` 是為了展現示範細節而建立的函式，可忽略。"
   ]
  },
  {
   "cell_type": "code",
   "execution_count": 2,
   "metadata": {},
   "outputs": [],
   "source": [
    "def Demo_UserStory(config_file: str):\n",
    "    print(f\"YAML file {config_file} is ...\")\n",
    "    print(f\"\")\n",
    "    pp = pprint.PrettyPrinter(depth=3, sort_dicts=False)\n",
    "    with open(config_file, 'r') as yaml_file:\n",
    "        yaml_raw: dict = yaml.safe_load(yaml_file)\n",
    "    pp.pprint(yaml_raw)\n",
    "\n",
    "    print(f\"\")\n",
    "    print(f\"\")\n",
    "    print(f\"Here's the execution...\")\n",
    "    print(f\"\")\n",
    "    exec = Executor(config=config_file)\n",
    "    exec.run()\n",
    "\n",
    "    print(f\"\")\n",
    "    print(f\"\")\n",
    "    print(f\"Here's the result...\")\n",
    "    print(f\"\")\n",
    "    pp.pprint(exec.get_result())"
   ]
  },
  {
   "cell_type": "markdown",
   "metadata": {},
   "source": [
    "---\n",
    "\n",
    "## User Story A-1 - Default Synthesizing\n",
    "\n",
    "> Given an original dataset without specified algorithm, the pipeline will generate a list of privacy enhanced datasets using the default algorithms.\n",
    ">\n",
    "> 給定一個原始資料集、但未指定演算法，該流程會利用預設的演算法生成一組隱私強化資料集。\n",
    "\n",
    "\n",
    "> Aligning with User Story 3 of the Spec\n",
    ">\n",
    ">\n",
    "> 對標規格說明 (Spec) 的 User Story 3"
   ]
  },
  {
   "cell_type": "code",
   "execution_count": 3,
   "metadata": {},
   "outputs": [
    {
     "name": "stdout",
     "output_type": "stream",
     "text": [
      "YAML file user_story/User Story A-1.yaml is ...\n",
      "\n",
      "{'Loader': {'adult': {'filepath': 'benchmark/adult-income.csv',\n",
      "                      'na_values': {...}}},\n",
      " 'Preprocessor': {'demo': {'method': 'default'}},\n",
      " 'Synthesizer': {'demo': {'method': 'default'}},\n",
      " 'Postprocessor': {'demo': {'method': 'default'}},\n",
      " 'Reporter': {'save_data': {'method': 'save_data',\n",
      "                            'output': 'User Story A-1',\n",
      "                            'source': 'Postprocessor'}}}\n",
      "\n",
      "\n",
      "Here's the execution...\n",
      "\n",
      "Now is Loader with adult...\n",
      "Now is Preprocessor with demo...\n",
      "Now is Synthesizer with demo...\n",
      "Synthesizer (SDV - SingleTable): Metafile loading time: 0.0319 sec.\n",
      "Synthesizer (SDV - SingleTable): Fitting GaussianCopula.\n"
     ]
    },
    {
     "name": "stderr",
     "output_type": "stream",
     "text": [
      "d:\\Dropbox\\89_other_application\\GitHub\\PETsARD\\.venv\\lib\\site-packages\\sdv\\single_table\\base.py:79: UserWarning: We strongly recommend saving the metadata using 'save_to_json' for replicability in future SDV versions.\n",
      "  warnings.warn(\n"
     ]
    },
    {
     "name": "stdout",
     "output_type": "stream",
     "text": [
      "Synthesizer (SDV - SingleTable): Fitting  GaussianCopula spent 9.8262 sec.\n",
      "Synthesizer (SDV - SingleTable): Sampling GaussianCopula # 26933 rows (same as raw) in 1.9807 sec.\n",
      "Now is Postprocessor with demo...\n",
      "Now is Reporter with save_data...\n",
      "Now is User Story A-1_Loader[adult]_Preprocessor[demo]_Synthesizer[demo]_Postprocessor[demo] save to csv...\n",
      "\n",
      "\n",
      "Here's the result...\n",
      "\n",
      "{'Loader[adult]_Preprocessor[demo]_Synthesizer[demo]_Postprocessor[demo]_Reporter[save_data]': {'Loader[adult]_Preprocessor[demo]_Synthesizer[demo]_Postprocessor[demo]':              age         workclass         fnlwgt     education  \\\n",
      "0      49.484372           Private   86179.188495     Bachelors   \n",
      "1      56.010534           Private  169010.152257  Some-college   \n",
      "2      26.624428           Private   77573.431448       HS-grad   \n",
      "3      31.929920           Private  142551.891799       HS-grad   \n",
      "4      26.376426           Private  352129.794194       7th-8th   \n",
      "...          ...               ...            ...           ...   \n",
      "26928  24.641123         Local-gov  214037.058453          11th   \n",
      "26929  26.096928           Private  220423.563298  Some-college   \n",
      "26930  58.230373  Self-emp-not-inc  347525.738569       HS-grad   \n",
      "26931  42.613671               NaN  285905.974720     Bachelors   \n",
      "26932  36.247353      Self-emp-inc  184479.962879          11th   \n",
      "\n",
      "       educational-num      marital-status        occupation    relationship  \\\n",
      "0            14.962567       Never-married             Sales         Husband   \n",
      "1             9.725757       Never-married     Other-service   Not-in-family   \n",
      "2             7.654908       Never-married    Prof-specialty       Unmarried   \n",
      "3            10.336263  Married-civ-spouse  Transport-moving         Husband   \n",
      "4            13.050105  Married-civ-spouse      Craft-repair       Unmarried   \n",
      "...                ...                 ...               ...             ...   \n",
      "26928        13.728159       Never-married   Exec-managerial   Not-in-family   \n",
      "26929         5.744707            Divorced   Exec-managerial  Other-relative   \n",
      "26930         6.901417  Married-civ-spouse      Adm-clerical         Husband   \n",
      "26931        12.195906       Never-married               NaN   Not-in-family   \n",
      "26932         7.678051  Married-civ-spouse      Craft-repair       Own-child   \n",
      "\n",
      "        race  gender  capital-gain  capital-loss  hours-per-week  \\\n",
      "0      White    Male           0.0           0.0       41.796898   \n",
      "1      White    Male           0.0           0.0       43.063118   \n",
      "2      White  Female           0.0           0.0       39.114682   \n",
      "3      White    Male           0.0           0.0       41.393198   \n",
      "4      White  Female           0.0           0.0       39.965591   \n",
      "...      ...     ...           ...           ...             ...   \n",
      "26928  Black    Male           0.0           0.0       37.562750   \n",
      "26929  White  Female           0.0           0.0       36.212622   \n",
      "26930  White    Male           0.0           0.0       36.371453   \n",
      "26931  White    Male           0.0           0.0       43.166574   \n",
      "26932  White  Female           0.0           0.0       38.422992   \n",
      "\n",
      "      native-country income  \n",
      "0      United-States  <=50K  \n",
      "1      United-States  <=50K  \n",
      "2      United-States  <=50K  \n",
      "3      United-States  <=50K  \n",
      "4      United-States  <=50K  \n",
      "...              ...    ...  \n",
      "26928  United-States   >50K  \n",
      "26929  United-States  <=50K  \n",
      "26930  United-States  <=50K  \n",
      "26931  United-States  <=50K  \n",
      "26932           Peru   >50K  \n",
      "\n",
      "[26933 rows x 15 columns]}}\n"
     ]
    }
   ],
   "source": [
    "config_file = 'user_story/User Story A-1.yaml'\n",
    "\n",
    "Demo_UserStory(config_file = config_file)"
   ]
  },
  {
   "cell_type": "markdown",
   "metadata": {},
   "source": [
    "---\n",
    "\n",
    "## User Story A-2 - Customized Synthesizing\n",
    "\n",
    "> Given an original dataset, specified privacy enhancing data generation algorithms and parameters, the pipeline will generate a privacy enhanced dataset.\n",
    ">\n",
    "> 給定一個原始資料集，並指定隱私強化技術生成演算法與參數，該流程會依此產生隱私強化資料集。\n",
    "\n",
    "\n",
    "> Aligning with User Story 2 of the Spec\n",
    ">\n",
    ">\n",
    "> 對標規格說明 (Spec) 的 User Story 2"
   ]
  },
  {
   "cell_type": "code",
   "execution_count": 4,
   "metadata": {},
   "outputs": [
    {
     "name": "stdout",
     "output_type": "stream",
     "text": [
      "YAML file user_story/User Story A-2.yaml is ...\n",
      "\n",
      "{'Loader': {'adult': {'filepath': 'benchmark/adult-income.csv',\n",
      "                      'na_values': {...}}},\n",
      " 'Preprocessor': {'demo': {'method': 'default'}},\n",
      " 'Synthesizer': {'sdv-gaussian': {'method': 'sdv-single_table-gaussiancopula'}},\n",
      " 'Postprocessor': {'demo': {'method': 'default'}},\n",
      " 'Reporter': {'save_data': {'method': 'save_data',\n",
      "                            'output': 'User Story A-1',\n",
      "                            'source': 'Postprocessor'}}}\n",
      "\n",
      "\n",
      "Here's the execution...\n",
      "\n",
      "Now is Loader with adult...\n",
      "Now is Preprocessor with demo...\n",
      "Now is Synthesizer with sdv-gaussian...\n",
      "Synthesizer (SDV - SingleTable): Metafile loading time: 0.0332 sec.\n",
      "Synthesizer (SDV - SingleTable): Fitting GaussianCopula.\n"
     ]
    },
    {
     "name": "stderr",
     "output_type": "stream",
     "text": [
      "d:\\Dropbox\\89_other_application\\GitHub\\PETsARD\\.venv\\lib\\site-packages\\sdv\\single_table\\base.py:79: UserWarning: We strongly recommend saving the metadata using 'save_to_json' for replicability in future SDV versions.\n",
      "  warnings.warn(\n"
     ]
    },
    {
     "name": "stdout",
     "output_type": "stream",
     "text": [
      "Synthesizer (SDV - SingleTable): Fitting  GaussianCopula spent 8.6138 sec.\n",
      "Synthesizer (SDV - SingleTable): Sampling GaussianCopula # 26933 rows (same as raw) in 1.7461 sec.\n",
      "Now is Postprocessor with demo...\n",
      "Now is Reporter with save_data...\n",
      "Now is User Story A-1_Loader[adult]_Preprocessor[demo]_Synthesizer[sdv-gaussian]_Postprocessor[demo] save to csv...\n",
      "\n",
      "\n",
      "Here's the result...\n",
      "\n",
      "{'Loader[adult]_Preprocessor[demo]_Synthesizer[sdv-gaussian]_Postprocessor[demo]_Reporter[save_data]': {'Loader[adult]_Preprocessor[demo]_Synthesizer[sdv-gaussian]_Postprocessor[demo]':              age     workclass         fnlwgt     education  educational-num  \\\n",
      "0      47.051976       Private   81974.996782     Bachelors         9.206849   \n",
      "1      23.493460     Local-gov   75678.112916       HS-grad         8.146377   \n",
      "2      44.317820       Private   60386.273558  Some-college        11.128939   \n",
      "3      41.473428       Private  186845.113325  Some-college         7.974582   \n",
      "4      40.922568  Self-emp-inc  292086.185633     Bachelors        12.982317   \n",
      "...          ...           ...            ...           ...              ...   \n",
      "26928  42.432659       Private  312641.501955       7th-8th        12.271918   \n",
      "26929  30.520499       Private  245916.556754       HS-grad        11.688809   \n",
      "26930  48.628935   Federal-gov  349028.762785       HS-grad         8.403547   \n",
      "26931  33.396813     State-gov  233761.646029          11th        12.957658   \n",
      "26932  32.065897       Private  349811.635994     Bachelors        16.000000   \n",
      "\n",
      "              marital-status       occupation   relationship  \\\n",
      "0         Married-civ-spouse   Prof-specialty  Not-in-family   \n",
      "1         Married-civ-spouse            Sales  Not-in-family   \n",
      "2                  Separated  Protective-serv      Own-child   \n",
      "3         Married-civ-spouse     Adm-clerical        Husband   \n",
      "4              Never-married  Exec-managerial  Not-in-family   \n",
      "...                      ...              ...            ...   \n",
      "26928          Never-married   Prof-specialty  Not-in-family   \n",
      "26929  Married-spouse-absent     Tech-support           Wife   \n",
      "26930          Never-married     Tech-support        Husband   \n",
      "26931          Never-married  Exec-managerial  Not-in-family   \n",
      "26932          Never-married  Exec-managerial  Not-in-family   \n",
      "\n",
      "                     race  gender  capital-gain  capital-loss  hours-per-week  \\\n",
      "0                   White    Male           0.0           0.0       46.389922   \n",
      "1                   White    Male           0.0           0.0       39.944859   \n",
      "2                   White  Female           0.0           0.0       42.720103   \n",
      "3                   White    Male           0.0           0.0       41.605963   \n",
      "4      Asian-Pac-Islander  Female           0.0           0.0       38.418327   \n",
      "...                   ...     ...           ...           ...             ...   \n",
      "26928               Black    Male           0.0           0.0       43.136969   \n",
      "26929               White  Female           0.0           0.0       38.346220   \n",
      "26930               White    Male           0.0           0.0       43.948468   \n",
      "26931               White  Female           0.0           0.0       36.405379   \n",
      "26932               White    Male           0.0           0.0       43.599704   \n",
      "\n",
      "      native-country income  \n",
      "0      United-States  <=50K  \n",
      "1      United-States   >50K  \n",
      "2      United-States  <=50K  \n",
      "3      United-States  <=50K  \n",
      "4      United-States  <=50K  \n",
      "...              ...    ...  \n",
      "26928  United-States  <=50K  \n",
      "26929  United-States  <=50K  \n",
      "26930  United-States   >50K  \n",
      "26931  United-States   >50K  \n",
      "26932  United-States  <=50K  \n",
      "\n",
      "[26933 rows x 15 columns]}}\n"
     ]
    }
   ],
   "source": [
    "config_file = 'user_story/User Story A-2.yaml'\n",
    "\n",
    "Demo_UserStory(config_file = config_file)"
   ]
  }
 ],
 "metadata": {
  "kernelspec": {
   "display_name": ".venv",
   "language": "python",
   "name": "python3"
  },
  "language_info": {
   "codemirror_mode": {
    "name": "ipython",
    "version": 3
   },
   "file_extension": ".py",
   "mimetype": "text/x-python",
   "name": "python",
   "nbconvert_exporter": "python",
   "pygments_lexer": "ipython3",
   "version": "3.10.11"
  }
 },
 "nbformat": 4,
 "nbformat_minor": 2
}
