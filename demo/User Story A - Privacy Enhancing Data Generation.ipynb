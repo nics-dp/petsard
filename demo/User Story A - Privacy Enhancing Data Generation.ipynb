{
 "cells": [
  {
   "cell_type": "markdown",
   "metadata": {},
   "source": [
    "# User Story\n",
    "\n",
    "This demo is a presentation of \"User Stories\" of PETsARD Spec. Also it can help users to set their own config file. Enjoy : )\n",
    "\n",
    "本示例為【資料生成演算法分析與評估系統 Spec】當中【用戶故事 User Stories】的呈現。它還可以幫助用戶設置自己的配置文件。祝您使用愉快 : )"
   ]
  },
  {
   "cell_type": "markdown",
   "metadata": {},
   "source": [
    "---\n",
    "\n",
    "## User Story A - Privacy Enhancing Data Generation\n",
    "\n",
    "\n",
    "> This demo will show how to generate privacy-enhanced data using `PETsARD`.\n",
    ">\n",
    "> In this demonstration, you, as the user, already possess a data file locally, and `PETsARD` will assist you in loading that file and then generating a privacy-enhanced version of it.\n",
    ">\n",
    "> At the same time, privacy-enhancing algorithms often have format restrictions and require specific pre-processing and post-processing procedures to function correctly. However, `PETsARD` has taken this into account for the user. `PETsARD` offers both default and customizable preprocessing and postprocessing workflows to help users get started quickly.\n",
    ">\n",
    ">\n",
    "> 本示範將展示如何使用 `PETsARD` 生成隱私強化資料。\n",
    ">\n",
    "> 在這個示範中，您作為使用者，在本機上已經擁有一份資料檔案，而 `PETsARD` 將幫助您讀取該檔案、然後生成經隱私強化後的版本。\n",
    ">\n",
    "> 同時，隱私強化演算法通常都有格式的限制，必須經過特定的前處理 (Pre-processing) 與後處理 (Post-processing) 程序才能正確運作，但 `PETsARD` 已經為使用者考慮到這點，`PETsARD` 提供預設與可客製化的前後處理流程，幫助使用者快速上手。"
   ]
  },
  {
   "cell_type": "markdown",
   "metadata": {},
   "source": [
    "---\n",
    "\n",
    "## YAML\n",
    "\n",
    "> The basic format of YAML is as follows:\n",
    ">\n",
    "> YAML 的基礎格式如下：\n",
    "\n",
    "```\n",
    "{module name}:\n",
    "    {experiment name}:\n",
    "        {config of module}: ...\n",
    "```\n",
    "\n",
    "> - module name：A module that performs specific tasks. The modules required for this user story include:\n",
    ">     - `Loader`: Data loading\n",
    ">     - `Preprocessor`: Data pre-processing\n",
    ">     - `Synthesizer`: Data synthesizing\n",
    ">     - `Postprocessor`: Data post-processing\n",
    ">     - `Reporter`: Data/Report output\n",
    "> - experiment name: A custom name for a single experimental parameter for that module. Mandatory.\n",
    "> - config of module：For complete parameters, please refer to the descriptions of each module in the manual.\n",
    ">\n",
    ">\n",
    "> - 模組名稱：執行特定工作的模組。本用戶故事所需的模組包含：\n",
    ">     - `Loader`: 資料讀取\n",
    ">     - `Preprocessor`: 資料前處理\n",
    ">     - `Synthesizer`: 資料合成\n",
    ">     - `Postprocessor`: 資料後處理\n",
    ">     - `Reporter`: 資料/報表輸出\n",
    "> - 實驗名稱：對於該模組，單一個實驗參數的自訂名稱。必填。\n",
    "> - 模組的設定：完整參數請參考各模組於手冊上的說明。"
   ]
  },
  {
   "cell_type": "markdown",
   "metadata": {},
   "source": [
    "### YAML - Synthesizer\n",
    "\n",
    "> `method` specifies the desired synthesis method (see the manual for complete options). Mandatory.\n",
    ">\n",
    "> `method = 'default'` will use the default method for synthesis (currently SDV's Gaussian Copula).\n",
    ">\n",
    ">\n",
    "> `method` 指定所希望使用的合成方法（完整選項見手冊）。必填。\n",
    ">\n",
    "> `method = 'default'` 將使用預設的方式做合成（目前是 SDV 的 Gaussian Copula）。"
   ]
  },
  {
   "cell_type": "markdown",
   "metadata": {},
   "source": [
    "### YAML - Reporter (save_data)\n",
    "\n",
    "> `method` specifies the desired reporting method. When `method = 'save_data'`, it will capture and output the result data of the module.\n",
    ">\n",
    "> `source` is a parameter unique to `method = 'save_data'`, specifying which module(s) results to output. Specifying `'Postprocessor'` means wishing to obtain the results of the Postprocessor, that is, data that has undergone preprocessing, synthesis, and postprocessing, which retains the data's privacy-enhanced characteristics and ensures the data format matches the original.\n",
    ">\n",
    ">\n",
    "> `method` 指定所希望使用的報告方法，當 `method = 'save_data'`，則會擷取模組的結果資料做輸出。\n",
    ">\n",
    "> `source` 是 `method = 'save_data'` 特有的參數，指定哪個/哪些模組的結果做輸出。這邊指定為 `'Postprocessor'` 代表希望拿 Postprocessor 的結果，即經過前處理、合成、後處理的資料，其保有隱私強化的資料特性、且資料樣態將符合原始資料。"
   ]
  },
  {
   "cell_type": "markdown",
   "metadata": {},
   "source": [
    "---\n",
    "\n",
    "## Environment\n",
    "\n",
    "\n",
    "> In `PETsARD`, the only thing you need to do is prepare a YAML file following the example and execute the `Executor`.\n",
    ">\n",
    "> Assuming your YAML file is named config.yaml, your Python code would be:\n",
    ">\n",
    ">\n",
    "> 在 `PETsARD` 中，您唯一所需要做的，便是參考範例準備 YAML 檔案，並執行 `Executor`。\n",
    ">\n",
    "> 假設您的 YAML 檔案名稱為 `config.yaml`，則您的 Python 程式碼為：\n",
    "\n",
    "\n",
    "> ```Python\n",
    "> exec = Executor(config='config.yaml')\n",
    "> exec.run()\n",
    "> ```"
   ]
  },
  {
   "cell_type": "code",
   "execution_count": 1,
   "metadata": {},
   "outputs": [
    {
     "name": "stdout",
     "output_type": "stream",
     "text": [
      "d:\\Dropbox\\89_other_application\\GitHub\\PETsARD\n"
     ]
    }
   ],
   "source": [
    "import os\n",
    "import pprint\n",
    "import sys\n",
    "\n",
    "import yaml\n",
    "\n",
    "\n",
    "# Setting up the path to the PETsARD package\n",
    "path_petsard = os.path.dirname(os.getcwd())\n",
    "print(path_petsard)\n",
    "sys.path.append(path_petsard)\n",
    "\n",
    "\n",
    "from PETsARD import Executor"
   ]
  },
  {
   "cell_type": "markdown",
   "metadata": {},
   "source": [
    "> `Demo_UserStory` is a function created for demonstrating details and can be ignored.\n",
    ">\n",
    "> `Demo_UserStory` 是為了展現示範細節而建立的函式，可忽略。"
   ]
  },
  {
   "cell_type": "code",
   "execution_count": 2,
   "metadata": {},
   "outputs": [],
   "source": [
    "def Demo_UserStory(config_file: str):\n",
    "    print(f\"YAML file {config_file} is ...\")\n",
    "    print(f\"\")\n",
    "    pp = pprint.PrettyPrinter(depth=3, sort_dicts=False)\n",
    "    with open(config_file, 'r') as yaml_file:\n",
    "        yaml_raw: dict = yaml.safe_load(yaml_file)\n",
    "    pp.pprint(yaml_raw)\n",
    "\n",
    "    print(f\"\")\n",
    "    print(f\"\")\n",
    "    print(f\"Here's the execution...\")\n",
    "    print(f\"\")\n",
    "    exec = Executor(config=config_file)\n",
    "    exec.run()\n",
    "\n",
    "    print(f\"\")\n",
    "    print(f\"\")\n",
    "    print(f\"Here's the result...\")\n",
    "    print(f\"\")\n",
    "    pp.pprint(exec.get_result())"
   ]
  },
  {
   "cell_type": "markdown",
   "metadata": {},
   "source": [
    "---\n",
    "\n",
    "## User Story A-1 - Default Synthesizing\n",
    "\n",
    "> Given an original dataset without specified algorithm, the pipeline will generate a list of privacy enhanced datasets using the default algorithms.\n",
    ">\n",
    "> 給定一個原始資料集、但未指定演算法，該流程會利用預設的演算法生成一組隱私強化資料集。\n",
    "\n",
    "\n",
    "> Aligning with User Story 3 of the Spec\n",
    ">\n",
    ">\n",
    "> 對標規格說明 (Spec) 的 User Story 3"
   ]
  },
  {
   "cell_type": "code",
   "execution_count": 3,
   "metadata": {},
   "outputs": [
    {
     "name": "stdout",
     "output_type": "stream",
     "text": [
      "YAML file user_story/User Story A-1.yaml is ...\n",
      "\n",
      "{'Loader': {'adult': {'filepath': 'benchmark/adult_uci.csv',\n",
      "                      'na_values': {...}}},\n",
      " 'Preprocessor': {'demo': {'method': 'default'}},\n",
      " 'Synthesizer': {'demo': {'method': 'default'}},\n",
      " 'Postprocessor': {'demo': {'method': 'default'}},\n",
      " 'Reporter': {'save_data': {'method': 'save_data',\n",
      "                            'output': 'User Story A-1',\n",
      "                            'source': 'Postprocessor'}}}\n",
      "\n",
      "\n",
      "Here's the execution...\n",
      "\n",
      "Now is Loader with adult...\n",
      "Now is Preprocessor with demo...\n",
      "Now is Synthesizer with demo...\n",
      "Synthesizer (SDV - SingleTable): Metafile loading time: 0.0294 sec.\n",
      "Synthesizer (SDV - SingleTable): Fitting GaussianCopula.\n"
     ]
    },
    {
     "name": "stderr",
     "output_type": "stream",
     "text": [
      "d:\\Dropbox\\89_other_application\\GitHub\\PETsARD\\.venv\\lib\\site-packages\\sdv\\single_table\\base.py:79: UserWarning: We strongly recommend saving the metadata using 'save_to_json' for replicability in future SDV versions.\n",
      "  warnings.warn(\n"
     ]
    },
    {
     "name": "stdout",
     "output_type": "stream",
     "text": [
      "Synthesizer (SDV - SingleTable): Fitting  GaussianCopula spent 7.0577 sec.\n",
      "Synthesizer (SDV - SingleTable): Sampling GaussianCopula # 18997 rows (same as raw) in 1.2408 sec.\n",
      "Now is Postprocessor with demo...\n",
      "Now is Reporter with save_data...\n",
      "Now is User Story A-1_Loader[adult]_Preprocessor[demo]_Synthesizer[demo]_Postprocessor[demo] save to csv...\n",
      "\n",
      "\n",
      "Here's the result...\n",
      "\n",
      "{'Loader[adult]_Preprocessor[demo]_Synthesizer[demo]_Postprocessor[demo]_Reporter[save_data]': {'Loader[adult]_Preprocessor[demo]_Synthesizer[demo]_Postprocessor[demo]':              age   workclass         fnlwgt      education  education-num  \\\n",
      "0      29.650546   State-gov  221404.164764        7th-8th       9.395751   \n",
      "1      22.592791           ?  233428.941224        HS-grad       8.642574   \n",
      "2      25.876683     Private  353558.313425   Some-college      12.401456   \n",
      "3      43.611774     Private  168312.200822      Bachelors       7.391242   \n",
      "4      32.367756     Private  109599.544038      Bachelors      13.785651   \n",
      "...          ...         ...            ...            ...            ...   \n",
      "18992  53.519486     Private  261002.023359        HS-grad       8.642712   \n",
      "18993  42.589598     Private  176025.160641        HS-grad       5.000000   \n",
      "18994  50.165479     Private   32250.657067      Bachelors       9.346448   \n",
      "18995  51.244063     Private  128439.718320        HS-grad       9.046784   \n",
      "18996  27.017452     Private  339093.879858      Bachelors      12.552198   \n",
      "\n",
      "            marital-status          occupation    relationship    race    sex  \\\n",
      "0       Married-civ-spouse        Craft-repair         Husband   White   Male   \n",
      "1       Married-civ-spouse        Craft-repair   Not-in-family   White   Male   \n",
      "2            Never-married   Machine-op-inspct       Own-child   Black   Male   \n",
      "3            Never-married       Other-service         Husband   White   Male   \n",
      "4                 Divorced      Prof-specialty            Wife   White   Male   \n",
      "...                    ...                 ...             ...     ...    ...   \n",
      "18992             Divorced     Exec-managerial         Husband   White   Male   \n",
      "18993             Divorced     Protective-serv   Not-in-family   White   Male   \n",
      "18994        Never-married      Prof-specialty       Own-child   White   Male   \n",
      "18995        Never-married     Farming-fishing         Husband   White   Male   \n",
      "18996        Never-married        Craft-repair       Own-child   White   Male   \n",
      "\n",
      "       capital-gain  capital-loss  hours-per-week  native-country  income  \n",
      "0               0.0           0.0       42.340413   United-States    >50K  \n",
      "1               0.0           0.0       41.118718   United-States   <=50K  \n",
      "2               0.0           0.0       39.738507   United-States   <=50K  \n",
      "3               0.0           0.0       39.650411   United-States   <=50K  \n",
      "4               0.0           0.0       45.070861   United-States   <=50K  \n",
      "...             ...           ...             ...             ...     ...  \n",
      "18992           0.0           0.0       52.000000         Hungary    >50K  \n",
      "18993           0.0           0.0       43.235095   United-States   <=50K  \n",
      "18994           0.0           0.0       43.167420   United-States   <=50K  \n",
      "18995           0.0           0.0       38.229156               ?   <=50K  \n",
      "18996           0.0           0.0       47.194808        Columbia   <=50K  \n",
      "\n",
      "[18997 rows x 15 columns]}}\n"
     ]
    }
   ],
   "source": [
    "config_file = 'user_story/User Story A-1.yaml'\n",
    "\n",
    "Demo_UserStory(config_file = config_file)"
   ]
  },
  {
   "cell_type": "markdown",
   "metadata": {},
   "source": [
    "---\n",
    "\n",
    "## User Story A-2 - Customized Synthesizing\n",
    "\n",
    "> Given an original dataset, specified privacy enhancing data generation algorithms and parameters, the pipeline will generate a privacy enhanced dataset.\n",
    ">\n",
    "> 給定一個原始資料集，並指定隱私強化技術生成演算法與參數，該流程會依此產生隱私強化資料集。\n",
    "\n",
    "\n",
    "> Aligning with User Story 2 of the Spec\n",
    ">\n",
    ">\n",
    "> 對標規格說明 (Spec) 的 User Story 2"
   ]
  },
  {
   "cell_type": "code",
   "execution_count": 4,
   "metadata": {},
   "outputs": [
    {
     "name": "stdout",
     "output_type": "stream",
     "text": [
      "YAML file user_story/User Story A-2.yaml is ...\n",
      "\n",
      "{'Loader': {'adult': {'filepath': 'benchmark/adult_uci.csv',\n",
      "                      'na_values': {...}}},\n",
      " 'Preprocessor': {'demo': {'method': 'default'}},\n",
      " 'Synthesizer': {'sdv-gaussian': {'method': 'sdv-single_table-gaussiancopula'}},\n",
      " 'Postprocessor': {'demo': {'method': 'default'}},\n",
      " 'Reporter': {'save_data': {'method': 'save_data',\n",
      "                            'output': 'User Story A-1',\n",
      "                            'source': 'Postprocessor'}}}\n",
      "\n",
      "\n",
      "Here's the execution...\n",
      "\n",
      "Now is Loader with adult...\n"
     ]
    },
    {
     "name": "stdout",
     "output_type": "stream",
     "text": [
      "Now is Preprocessor with demo...\n",
      "Now is Synthesizer with sdv-gaussian...\n",
      "Synthesizer (SDV - SingleTable): Metafile loading time: 0.0209 sec.\n",
      "Synthesizer (SDV - SingleTable): Fitting GaussianCopula.\n"
     ]
    },
    {
     "name": "stderr",
     "output_type": "stream",
     "text": [
      "d:\\Dropbox\\89_other_application\\GitHub\\PETsARD\\.venv\\lib\\site-packages\\sdv\\single_table\\base.py:79: UserWarning: We strongly recommend saving the metadata using 'save_to_json' for replicability in future SDV versions.\n",
      "  warnings.warn(\n"
     ]
    },
    {
     "name": "stdout",
     "output_type": "stream",
     "text": [
      "Synthesizer (SDV - SingleTable): Fitting  GaussianCopula spent 7.4154 sec.\n",
      "Synthesizer (SDV - SingleTable): Sampling GaussianCopula # 18997 rows (same as raw) in 1.2948 sec.\n",
      "Now is Postprocessor with demo...\n",
      "Now is Reporter with save_data...\n",
      "Now is User Story A-1_Loader[adult]_Preprocessor[demo]_Synthesizer[sdv-gaussian]_Postprocessor[demo] save to csv...\n",
      "\n",
      "\n",
      "Here's the result...\n",
      "\n",
      "{'Loader[adult]_Preprocessor[demo]_Synthesizer[sdv-gaussian]_Postprocessor[demo]_Reporter[save_data]': {'Loader[adult]_Preprocessor[demo]_Synthesizer[sdv-gaussian]_Postprocessor[demo]':              age     workclass         fnlwgt      education  education-num  \\\n",
      "0      51.593971       Private   88456.214601        HS-grad      15.327121   \n",
      "1      34.259838       Private  152541.404836        HS-grad      10.715689   \n",
      "2      35.271920       Private   88300.286110   Some-college       7.071886   \n",
      "3      42.724332       Private  150395.843415   Some-college       9.871932   \n",
      "4      20.773122       Private  307926.008990           10th      12.822142   \n",
      "...          ...           ...            ...            ...            ...   \n",
      "18992  31.661242   Federal-gov  132387.779520      Assoc-voc      11.070370   \n",
      "18993  36.414433       Private  205771.033861        HS-grad       5.000000   \n",
      "18994  27.410369     State-gov  415847.000000           11th      12.146371   \n",
      "18995  27.893083     State-gov  207130.969994      Bachelors       6.706794   \n",
      "18996  24.757538       Private  148312.495518      Bachelors      10.734103   \n",
      "\n",
      "            marital-status          occupation    relationship    race  \\\n",
      "0       Married-civ-spouse               Sales   Not-in-family   White   \n",
      "1            Never-married     Exec-managerial         Husband   White   \n",
      "2                 Divorced      Prof-specialty       Own-child   White   \n",
      "3       Married-civ-spouse     Farming-fishing   Not-in-family   White   \n",
      "4                 Divorced      Prof-specialty       Own-child   White   \n",
      "...                    ...                 ...             ...     ...   \n",
      "18992   Married-civ-spouse       Other-service         Husband   White   \n",
      "18993        Never-married     Protective-serv   Not-in-family   White   \n",
      "18994            Separated   Machine-op-inspct         Husband   White   \n",
      "18995   Married-civ-spouse     Farming-fishing       Own-child   White   \n",
      "18996             Divorced      Prof-specialty         Husband   White   \n",
      "\n",
      "           sex  capital-gain  capital-loss  hours-per-week  native-country  \\\n",
      "0         Male           0.0           0.0       42.598475   United-States   \n",
      "1         Male           0.0           0.0       41.959740   United-States   \n",
      "2       Female           0.0           0.0       40.841616   United-States   \n",
      "3         Male           0.0           0.0       41.178382   United-States   \n",
      "4         Male           0.0           0.0       38.900909   United-States   \n",
      "...        ...           ...           ...             ...             ...   \n",
      "18992     Male           0.0           0.0       36.970970   United-States   \n",
      "18993     Male           0.0           0.0       35.856901         Jamaica   \n",
      "18994     Male           0.0           0.0       40.488695   United-States   \n",
      "18995     Male           0.0           0.0       44.667242         England   \n",
      "18996     Male           0.0           0.0       42.422970   United-States   \n",
      "\n",
      "       income  \n",
      "0       <=50K  \n",
      "1       <=50K  \n",
      "2       <=50K  \n",
      "3       <=50K  \n",
      "4       <=50K  \n",
      "...       ...  \n",
      "18992   <=50K  \n",
      "18993   <=50K  \n",
      "18994   <=50K  \n",
      "18995   <=50K  \n",
      "18996   <=50K  \n",
      "\n",
      "[18997 rows x 15 columns]}}\n"
     ]
    }
   ],
   "source": [
    "config_file = 'user_story/User Story A-2.yaml'\n",
    "\n",
    "Demo_UserStory(config_file = config_file)"
   ]
  }
 ],
 "metadata": {
  "kernelspec": {
   "display_name": ".venv",
   "language": "python",
   "name": "python3"
  },
  "language_info": {
   "codemirror_mode": {
    "name": "ipython",
    "version": 3
   },
   "file_extension": ".py",
   "mimetype": "text/x-python",
   "name": "python",
   "nbconvert_exporter": "python",
   "pygments_lexer": "ipython3",
   "version": "3.10.11"
  }
 },
 "nbformat": 4,
 "nbformat_minor": 2
}
