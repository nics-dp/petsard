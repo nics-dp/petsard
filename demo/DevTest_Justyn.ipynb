{
 "cells": [
  {
   "cell_type": "code",
   "execution_count": 1,
   "metadata": {
    "tags": []
   },
   "outputs": [
    {
     "name": "stdout",
     "output_type": "stream",
     "text": [
      "Requirement already satisfied: pandas<=2.1,>=2.0 in c:\\program files\\python312\\lib\\site-packages (from -r ../requirements.txt (line 1)) (2.1.0)\n",
      "Requirement already satisfied: sdv<=1.7 in c:\\program files\\python312\\lib\\site-packages (from -r ../requirements.txt (line 2)) (0.0.0)\n",
      "Requirement already satisfied: numpy>=1.23.2 in c:\\program files\\python312\\lib\\site-packages (from pandas<=2.1,>=2.0->-r ../requirements.txt (line 1)) (1.26.2)\n",
      "Requirement already satisfied: python-dateutil>=2.8.2 in c:\\program files\\python312\\lib\\site-packages (from pandas<=2.1,>=2.0->-r ../requirements.txt (line 1)) (2.8.2)\n",
      "Requirement already satisfied: pytz>=2020.1 in c:\\program files\\python312\\lib\\site-packages (from pandas<=2.1,>=2.0->-r ../requirements.txt (line 1)) (2023.3.post1)\n",
      "Requirement already satisfied: tzdata>=2022.1 in c:\\program files\\python312\\lib\\site-packages (from pandas<=2.1,>=2.0->-r ../requirements.txt (line 1)) (2023.3)\n",
      "Requirement already satisfied: six>=1.5 in c:\\program files\\python312\\lib\\site-packages (from python-dateutil>=2.8.2->pandas<=2.1,>=2.0->-r ../requirements.txt (line 1)) (1.16.0)\n"
     ]
    }
   ],
   "source": [
    "import os\n",
    "import sys\n",
    "\n",
    "sys.path.append('D:\\\\Dropbox\\\\89_其他應用\\\\GitHub\\\\PETs-Experiment')\n",
    "os.chdir('D:\\\\Dropbox\\\\89_其他應用\\\\GitHub\\\\PETs-Experiment\\\\demo')\n",
    "# sys.path.append('/home/ec2-user/SageMaker/PETs-Experiment')\n",
    "# os.chdir('/home/ec2-user/SageMaker/PETs-Experiment/demo')\n",
    "!pip install -r ../requirements.txt\n",
    "\n",
    "import PETs_Experiment"
   ]
  },
  {
   "cell_type": "code",
   "execution_count": 2,
   "metadata": {
    "tags": []
   },
   "outputs": [
    {
     "name": "stdout",
     "output_type": "stream",
     "text": [
      "   age workclass  fnlwgt education  educational-num marital-status  \\\n",
      "0   25   Private  226802      11th                7  Never-married   \n",
      "\n",
      "          occupation relationship   race gender  capital-gain  capital-loss  \\\n",
      "0  Machine-op-inspct    Own-child  Black   Male             0             0   \n",
      "\n",
      "   hours-per-week native-country income  \n",
      "0              40  United-States  <=50K  \n"
     ]
    }
   ],
   "source": [
    "loader = PETs_Experiment.Loader(filepath = '../[sunset]/data/[Adt Income] adult.csv'\n",
    "                               ,na_values = {k : '?' for k in ['workclass'\n",
    "                                                              ,'occupation'\n",
    "                                                              ,'native-country'\n",
    "                                                              ]\n",
    "                                            }\n",
    "                               )\n",
    "print(loader.data.head(1))"
   ]
  },
  {
   "cell_type": "code",
   "execution_count": 3,
   "metadata": {
    "tags": []
   },
   "outputs": [
    {
     "name": "stdout",
     "output_type": "stream",
     "text": [
      "39073\n",
      "9769\n",
      "   age workclass  fnlwgt education  educational-num marital-status  \\\n",
      "0   25   Private  226802      11th                7  Never-married   \n",
      "\n",
      "          occupation relationship   race gender  capital-gain  capital-loss  \\\n",
      "0  Machine-op-inspct    Own-child  Black   Male             0             0   \n",
      "\n",
      "   hours-per-week native-country income  \n",
      "0              40  United-States  <=50K  \n",
      "   age workclass  fnlwgt education  educational-num      marital-status  \\\n",
      "0   27   Private  205145   HS-grad                9  Married-civ-spouse   \n",
      "\n",
      "          occupation relationship   race gender  capital-gain  capital-loss  \\\n",
      "0  Machine-op-inspct      Husband  White   Male             0             0   \n",
      "\n",
      "   hours-per-week native-country income  \n",
      "0              40  United-States  <=50K  \n"
     ]
    }
   ],
   "source": [
    "splitter = PETs_Experiment.Splitter(data              = loader.data\n",
    "                                   ,num_samples       = 1 # 30\n",
    "                                   ,train_split_ratio = 0.8)\n",
    "print(splitter.data[1]['train'     ].shape[0])\n",
    "print(splitter.data[1]['validation'].shape[0])\n",
    "print(splitter.data[1]['train'     ].head(1) )\n",
    "print(splitter.data[1]['validation'].head(1) )"
   ]
  },
  {
   "cell_type": "code",
   "execution_count": 4,
   "metadata": {
    "tags": []
   },
   "outputs": [
    {
     "name": "stdout",
     "output_type": "stream",
     "text": [
      "Preprocessor - Outlierist (IQR): Dropped  1081 rows on fnlwgt         . Kept [-63379.5, 418648.5] only.\n",
      "Preprocessor - Outlierist (IQR): Dropped   214 rows on age            . Kept [-0.5, 75.5] only.\n",
      "Preprocessor - Outlierist (IQR): Dropped  3043 rows on capital-gain   . Kept [0.0, 0.0] only.\n",
      "Preprocessor - Outlierist (IQR): Dropped   233 rows on educational-num. Kept [3.0, 19.0] only.\n",
      "Preprocessor - Outlierist (IQR): Dropped  1719 rows on capital-loss   . Kept [0.0, 0.0] only.\n",
      "Preprocessor - Outlierist (IQR): Totally Dropped  6081 in 36179 rows.\n",
      "Preprocessor - Encoder (Label): Column relationship    been labelized from 0 to  5.\n",
      "Preprocessor - Encoder (Label): Column education       been labelized from 0 to 13.\n",
      "Preprocessor - Encoder (Label): Column race            been labelized from 0 to  4.\n",
      "Preprocessor - Encoder (Label): Column income          been labelized from 0 to  1.\n",
      "Preprocessor - Encoder (Label): Column occupation      been labelized from 0 to 13.\n",
      "Preprocessor - Encoder (Label): Column workclass       been labelized from 0 to  6.\n",
      "Preprocessor - Encoder (Label): Column native-country  been labelized from 0 to 39.\n",
      "Preprocessor - Encoder (Label): Column gender          been labelized from 0 to  1.\n",
      "Preprocessor - Encoder (Label): Column marital-status  been labelized from 0 to  6.\n",
      "Preprocessor - Scaler (Standard): Column fnlwgt been standardized.\n",
      "\n",
      "\n",
      "\n",
      "\n",
      "   age  workclass    fnlwgt  education  educational-num  marital-status  \\\n",
      "0   25          2  0.535717          1                7               4   \n",
      "\n",
      "   occupation  relationship  race  gender  capital-gain  capital-loss  \\\n",
      "0           6             3     2       1             0             0   \n",
      "\n",
      "   hours-per-week  native-country  income  \n",
      "0              40              37       0  \n",
      "\n",
      "\n",
      "\n",
      "\n",
      "{'relationship': LabelEncoder(), 'education': LabelEncoder(), 'race': LabelEncoder(), 'income': LabelEncoder(), 'occupation': LabelEncoder(), 'workclass': LabelEncoder(), 'native-country': LabelEncoder(), 'gender': LabelEncoder(), 'marital-status': LabelEncoder()}\n",
      "\n",
      "\n",
      "\n",
      "\n",
      "{'fnlwgt': StandardScaler()}\n"
     ]
    }
   ],
   "source": [
    "preproc = PETs_Experiment.Preprocessor(\n",
    "     data = splitter.data[1]['train']\n",
    "    ,missing=True\n",
    "        ,missing_method  = 'drop'\n",
    "        ,missing_columns = None\n",
    "    ,outlier=True\n",
    "        ,outlier_method  = 'IQR'\n",
    "        ,outlier_columns = {'ignore': ['hours-per-week']}\n",
    "    ,encoding=True\n",
    "        ,encoding_method  = 'Label'\n",
    "        ,encoding_columns = None\n",
    "    ,scaling=True\n",
    "        ,scaling_method  = 'Standard'\n",
    "        ,scaling_columns = {'focus' : 'fnlwgt'}\n",
    ")\n",
    "print('\\n\\n\\n')\n",
    "print(preproc.data.head(1))\n",
    "print('\\n\\n\\n')\n",
    "print(preproc.encoder)\n",
    "print('\\n\\n\\n')\n",
    "print(preproc.scaler)"
   ]
  },
  {
   "cell_type": "code",
   "execution_count": 5,
   "metadata": {
    "tags": []
   },
   "outputs": [
    {
     "name": "stdout",
     "output_type": "stream",
     "text": [
      "Synthesizer (SDV - SingleTable): Metafile loading time: 0.0359 sec.\n",
      "Synthesizer (SDV - SingleTable): Fitting  GaussianCoupula.\n"
     ]
    },
    {
     "name": "stderr",
     "output_type": "stream",
     "text": [
      "c:\\Program Files\\Python310\\lib\\site-packages\\rdt\\transformers\\numerical.py:112: UserWarning: No rounding scheme detected for column 'fnlwgt'. Data will not be rounded.\n",
      "  warnings.warn(\n"
     ]
    },
    {
     "name": "stdout",
     "output_type": "stream",
     "text": [
      "Synthesizer (SDV - SingleTable): Fitting  GaussianCoupula spent 14.4888 sec.\n",
      "Synthesizer (SDV - SingleTable): Sampling GaussianCoupula # 30098 rows (same as raw) in 1.3257 sec.\n",
      "   age  workclass    fnlwgt  education  educational-num  marital-status  \\\n",
      "0   48          2 -1.606896         13               11               2   \n",
      "\n",
      "   occupation  relationship  race  gender  capital-gain  capital-loss  \\\n",
      "0           9             0     4       1             0             0   \n",
      "\n",
      "   hours-per-week  native-country  income  \n",
      "0              58              39       0  \n"
     ]
    }
   ],
   "source": [
    "synthesizer = PETs_Experiment.Synthesizer(data = preproc.data\n",
    "                                         ,synthesizing_method = 'sdv-singletable-gaussiancoupula'\n",
    "                                         )\n",
    "synthesizer.fit_sample()\n",
    "print(synthesizer.data_syn.head(1))"
   ]
  },
  {
   "cell_type": "code",
   "execution_count": 6,
   "metadata": {},
   "outputs": [
    {
     "data": {
      "text/plain": [
       "age                   int8\n",
       "workclass            int32\n",
       "fnlwgt             float64\n",
       "education            int32\n",
       "educational-num       int8\n",
       "marital-status       int32\n",
       "occupation           int32\n",
       "relationship         int32\n",
       "race                 int32\n",
       "gender               int32\n",
       "capital-gain         int32\n",
       "capital-loss         int16\n",
       "hours-per-week        int8\n",
       "native-country       int32\n",
       "income               int32\n",
       "dtype: object"
      ]
     },
     "execution_count": 6,
     "metadata": {},
     "output_type": "execute_result"
    }
   ],
   "source": [
    "synthesizer.data_syn.dtypes"
   ]
  },
  {
   "cell_type": "code",
   "execution_count": 7,
   "metadata": {},
   "outputs": [
    {
     "data": {
      "text/plain": [
       "0.0"
      ]
     },
     "execution_count": 7,
     "metadata": {},
     "output_type": "execute_result"
    }
   ],
   "source": [
    "preproc.missingist['education'].na_percentage"
   ]
  },
  {
   "cell_type": "code",
   "execution_count": 8,
   "metadata": {},
   "outputs": [
    {
     "name": "stdout",
     "output_type": "stream",
     "text": [
      "Postprocessor - Scaler (StandardScaler): Decoding fnlwgt.\n",
      "Postprocessor - Encoder (LabelEncoder): Decoding relationship.\n",
      "Postprocessor - Encoder (LabelEncoder): Decoding education.\n",
      "Postprocessor - Encoder (LabelEncoder): Decoding race.\n",
      "Postprocessor - Encoder (LabelEncoder): Decoding income.\n",
      "Postprocessor - Encoder (LabelEncoder): Decoding occupation.\n",
      "Postprocessor - Encoder (LabelEncoder): Decoding workclass.\n",
      "Postprocessor - Encoder (LabelEncoder): Decoding native-country.\n",
      "Postprocessor - Encoder (LabelEncoder): Decoding gender.\n",
      "Postprocessor - Encoder (LabelEncoder): Decoding marital-status.\n",
      "   age workclass        fnlwgt     education  educational-num  \\\n",
      "0   48   Private  38910.569792  Some-college               11   \n",
      "\n",
      "       marital-status      occupation relationship   race gender  \\\n",
      "0  Married-civ-spouse  Prof-specialty      Husband  White   Male   \n",
      "\n",
      "   capital-gain  capital-loss  hours-per-week native-country income  \n",
      "0             0             0              58     Yugoslavia  <=50K  \n"
     ]
    }
   ],
   "source": [
    "# File D:\\Dropbox\\89_其他應用\\GitHub\\PETs-Experiment\\PETs_Experiment\\Preprocessor\\Missingist.py:27, in Missingist.inverse_transform(self, col_data)\n",
    "#      25 _col_data = col_data.copy()\n",
    "#      26 print(_col_data)\n",
    "# ---> 27 _col_data[_na_mask] = np.nan\n",
    "#      28 return _col_data\n",
    "\n",
    "# ValueError: cannot convert float NaN to integer\n",
    "\n",
    "postproc = PETs_Experiment.Postprocessor(data = synthesizer.data_syn\n",
    "                                        # ,missingist = getattr(preproc ,'missingist' ,None)\n",
    "                                        ,encoder    = getattr(preproc ,'encoder'    ,None)\n",
    "                                        ,scaler     = getattr(preproc ,'scaler'     ,None)\n",
    "                                        )\n",
    "print(postproc.data.head(1))"
   ]
  },
  {
   "cell_type": "code",
   "execution_count": 9,
   "metadata": {},
   "outputs": [
    {
     "name": "stdout",
     "output_type": "stream",
     "text": [
      "Evaluator (Anonymeter - SinglingOut - Univariate): Now is SinglingOut - Univariate Evaluator\n",
      "Evaluator (Anonymeter - SinglingOut - Univariate): Evaluator time: 0.6022 sec.\n",
      "Evaluator (Anonymeter): Evaluating  SinglingOut - Univariate.\n"
     ]
    },
    {
     "name": "stderr",
     "output_type": "stream",
     "text": [
      "Found 809 failed queries out of 2000. Check DEBUG messages for more details.\n"
     ]
    },
    {
     "data": {
      "text/plain": [
       "{'Risk': 0.0,\n",
       " 'Risk_CI_btm': 0.0,\n",
       " 'Risk_CI_top': 0.0013568577126237004,\n",
       " 'Attack_Rate': 0.0009585236406264672,\n",
       " 'Attack_Rate_err': 0.0009585236406264671,\n",
       " 'Baseline_Rate': 0.0009585236406264672,\n",
       " 'Baseline_Rate_err': 0.0009585236406264671,\n",
       " 'Control_Rate': 0.0009585236406264672,\n",
       " 'Control_Rate_err': 0.0009585236406264671}"
      ]
     },
     "execution_count": 9,
     "metadata": {},
     "output_type": "execute_result"
    }
   ],
   "source": [
    "eval = PETs_Experiment.Evaluator(evaluating_method = 'anonymeter-singlingout-univariate'\n",
    "                                 ,data = {'ori'      : splitter.data[1]['train']\n",
    "                                          ,'syn'     : postproc.data\n",
    "                                          ,'control' : splitter.data[1]['validation']\n",
    "                                 }\n",
    "                                 ,anonymeter_n_attacks = 2000\n",
    "                                 )\n",
    "eval.eval()\n",
    "eval.Evaluator.evaluation"
   ]
  },
  {
   "cell_type": "code",
   "execution_count": 10,
   "metadata": {},
   "outputs": [
    {
     "name": "stdout",
     "output_type": "stream",
     "text": [
      "Evaluator (Anonymeter - Linkability): Now is Linkability Evaluator\n",
      "Evaluator (Anonymeter - Linkability): aux_cols are [age, fnlwgt, race, gender, native-country]\n",
      "Evaluator (Anonymeter - Linkability): and [workclass, education, capital-gain, capital-loss, hours-per-week].\n",
      "Evaluator (Anonymeter - Linkability): Evaluator time: 0.0 sec.\n",
      "Evaluator (Anonymeter): Evaluating  Linkability.\n",
      "Evaluator (Anonymeter): Evaluating  Linkability spent 6.7687 sec.\n"
     ]
    },
    {
     "data": {
      "text/plain": [
       "{'Risk': 0.001498560835065448,\n",
       " 'Risk_CI_btm': 0.0,\n",
       " 'Risk_CI_top': 0.00366871311019686,\n",
       " 'Attack_Rate': 0.002455648069704588,\n",
       " 'Attack_Rate_err': 0.0019453844860661056,\n",
       " 'Baseline_Rate': 0.003453731022423335,\n",
       " 'Baseline_Rate_err': 0.00238542229400942,\n",
       " 'Control_Rate': 0.0009585236406264672,\n",
       " 'Control_Rate_err': 0.0009585236406264671}"
      ]
     },
     "execution_count": 10,
     "metadata": {},
     "output_type": "execute_result"
    }
   ],
   "source": [
    "eval = PETs_Experiment.Evaluator(evaluating_method = 'anonymeter-linkability'\n",
    "                                 ,data = {'ori'      : splitter.data[1]['train']\n",
    "                                          ,'syn'     : postproc.data\n",
    "                                          ,'control' : splitter.data[1]['validation']\n",
    "                                 }\n",
    "                                 ,anonymeter_n_attacks   = 2000\n",
    "                                 ,anonymeter_n_neighbors = 10\n",
    "                                 ,anonymeter_n_jobs      = -1\n",
    "                                 ,anonymeter_aux_cols = [['age' ,'fnlwgt' ,'race' ,'gender' ,'native-country']\n",
    "                                                        ,['workclass' ,'education' ,'capital-gain' ,'capital-loss' ,'hours-per-week']\n",
    "                                                        ]\n",
    ")\n",
    "eval.eval()\n",
    "eval.Evaluator.evaluation"
   ]
  },
  {
   "cell_type": "code",
   "execution_count": 11,
   "metadata": {},
   "outputs": [
    {
     "name": "stdout",
     "output_type": "stream",
     "text": [
      "Evaluator (Anonymeter - Inference): Now is Inference Evaluator\n",
      "Evaluator (Anonymeter - Inference): Evaluator time: 0.0 sec.\n",
      "Evaluator (Anonymeter): Evaluating  Inference.\n",
      "Evaluator (Anonymeter): Evaluating  Inference spent 0.8181 sec.\n"
     ]
    },
    {
     "data": {
      "text/plain": [
       "{'Risk': 0.0,\n",
       " 'Risk_CI_btm': 0.0,\n",
       " 'Risk_CI_top': 0.02944448518616154,\n",
       " 'Attack_Rate': 0.08320222299385194,\n",
       " 'Attack_Rate_err': 0.023904093583999354,\n",
       " 'Baseline_Rate': 0.08518697431292883,\n",
       " 'Baseline_Rate_err': 0.024167884844459902,\n",
       " 'Control_Rate': 0.09114122827015952,\n",
       " 'Control_Rate_err': 0.0249352437952306}"
      ]
     },
     "execution_count": 11,
     "metadata": {},
     "output_type": "execute_result"
    }
   ],
   "source": [
    "eval = PETs_Experiment.Evaluator(evaluating_method = 'anonymeter-inference'\n",
    "                                 ,data = {'ori'      : splitter.data[1]['train']\n",
    "                                          ,'syn'     : postproc.data\n",
    "                                          ,'control' : splitter.data[1]['validation']\n",
    "                                 }\n",
    "                                 ,anonymeter_n_attacks   = 2000\n",
    "                                 ,anonymeter_n_jobs      = -1\n",
    "                                 ,anonymeter_secret = 'age'\n",
    "                                 )\n",
    "eval.eval()\n",
    "eval.Evaluator.evaluation"
   ]
  },
  {
   "cell_type": "code",
   "execution_count": 1,
   "metadata": {},
   "outputs": [
    {
     "name": "stdout",
     "output_type": "stream",
     "text": [
      "Executor - Loader: [Adt Income] adult.csv loading time: 11.1665 sec.\n",
      "Executor - Splitter: 0.8 splitting time: 0.1006 sec.\n",
      "Preprocessor - Outlierist (IQR): Dropped  1681 rows on capital-loss   . Kept [0.0, 0.0] only.\n",
      "Preprocessor - Outlierist (IQR): Dropped  1077 rows on fnlwgt         . Kept [-62094.5, 416317.5] only.\n",
      "Preprocessor - Outlierist (IQR): Dropped   235 rows on educational-num. Kept [3.0, 19.0] only.\n",
      "Preprocessor - Outlierist (IQR): Dropped   220 rows on age            . Kept [-0.5, 75.5] only.\n",
      "Preprocessor - Outlierist (IQR): Dropped  3027 rows on capital-gain   . Kept [0.0, 0.0] only.\n",
      "Preprocessor - Outlierist (IQR): Totally Dropped  6042 in 36201 rows.\n",
      "Preprocessor - Encoder (Label): Column workclass       been labelized from 0 to  6.\n",
      "Preprocessor - Encoder (Label): Column occupation      been labelized from 0 to 13.\n",
      "Preprocessor - Encoder (Label): Column income          been labelized from 0 to  1.\n",
      "Preprocessor - Encoder (Label): Column native-country  been labelized from 0 to 39.\n",
      "Preprocessor - Encoder (Label): Column relationship    been labelized from 0 to  5.\n",
      "Preprocessor - Encoder (Label): Column education       been labelized from 0 to 13.\n",
      "Preprocessor - Encoder (Label): Column marital-status  been labelized from 0 to  6.\n",
      "Preprocessor - Encoder (Label): Column race            been labelized from 0 to  4.\n",
      "Preprocessor - Encoder (Label): Column gender          been labelized from 0 to  1.\n",
      "Preprocessor - Scaler (Standard): Column fnlwgt been standardized.\n",
      "Executor - Preprocessor: drop-IQR-Label-Standard preprocessing time: 0.0991 sec.\n",
      "Synthesizer (SDV - SingleTable): Metafile loading time: 0.0426 sec.\n",
      "Synthesizer (SDV - SingleTable): Fitting  GaussianCoupula.\n"
     ]
    },
    {
     "name": "stderr",
     "output_type": "stream",
     "text": [
      "c:\\Program Files\\Python310\\lib\\site-packages\\rdt\\transformers\\numerical.py:112: UserWarning: No rounding scheme detected for column 'fnlwgt'. Data will not be rounded.\n",
      "  warnings.warn(\n"
     ]
    },
    {
     "name": "stdout",
     "output_type": "stream",
     "text": [
      "Synthesizer (SDV - SingleTable): Fitting  GaussianCoupula spent 17.8809 sec.\n",
      "Synthesizer (SDV - SingleTable): Sampling GaussianCoupula # 30159 rows (same as raw) in 1.5327 sec.\n",
      "Executor - Synthesizer: sdv-singletable-gaussiancoupula synthesizing time: 23.4787 sec.\n",
      "Postprocessor - Scaler (StandardScaler): Decoding fnlwgt.\n",
      "Postprocessor - Encoder (LabelEncoder): Decoding workclass.\n",
      "Postprocessor - Encoder (LabelEncoder): Decoding occupation.\n",
      "Postprocessor - Encoder (LabelEncoder): Decoding income.\n",
      "Postprocessor - Encoder (LabelEncoder): Decoding native-country.\n",
      "Postprocessor - Encoder (LabelEncoder): Decoding relationship.\n",
      "Postprocessor - Encoder (LabelEncoder): Decoding education.\n",
      "Postprocessor - Encoder (LabelEncoder): Decoding marital-status.\n",
      "Postprocessor - Encoder (LabelEncoder): Decoding race.\n",
      "Postprocessor - Encoder (LabelEncoder): Decoding gender.\n",
      "Executor - Postprocessor: postprocessing time: 0.0282 sec.\n",
      "Evaluator (Anonymeter - SinglingOut - Univariate): Now is SinglingOut - Univariate Evaluator\n",
      "Evaluator (Anonymeter - SinglingOut - Univariate): Evaluator time: 0.6563 sec.\n",
      "Evaluator (Anonymeter): Evaluating  SinglingOut - Univariate.\n",
      "Executor - Evaluator: anonymeter-singlingout-univariate at 1 trials evaluating time: 3.08 sec.\n",
      "Evaluator (Anonymeter - SinglingOut - Univariate): Now is SinglingOut - Univariate Evaluator\n",
      "Evaluator (Anonymeter - SinglingOut - Univariate): Evaluator time: 0.0456 sec.\n",
      "Evaluator (Anonymeter): Evaluating  SinglingOut - Univariate.\n",
      "Executor - Evaluator: anonymeter-singlingout-univariate at 2 trials evaluating time: 2.5279 sec.\n",
      "Preprocessor - Outlierist (IQR): Dropped  1707 rows on capital-loss   . Kept [0.0, 0.0] only.\n",
      "Preprocessor - Outlierist (IQR): Dropped  1055 rows on fnlwgt         . Kept [-64232.0, 419128.0] only.\n",
      "Preprocessor - Outlierist (IQR): Dropped   229 rows on educational-num. Kept [3.0, 19.0] only.\n",
      "Preprocessor - Outlierist (IQR): Dropped   215 rows on age            . Kept [-0.5, 75.5] only.\n",
      "Preprocessor - Outlierist (IQR): Dropped  3031 rows on capital-gain   . Kept [0.0, 0.0] only.\n",
      "Preprocessor - Outlierist (IQR): Totally Dropped  6042 in 36159 rows.\n",
      "Preprocessor - Encoder (Label): Column workclass       been labelized from 0 to  6.\n",
      "Preprocessor - Encoder (Label): Column occupation      been labelized from 0 to 13.\n",
      "Preprocessor - Encoder (Label): Column income          been labelized from 0 to  1.\n",
      "Preprocessor - Encoder (Label): Column native-country  been labelized from 0 to 39.\n",
      "Preprocessor - Encoder (Label): Column relationship    been labelized from 0 to  5.\n",
      "Preprocessor - Encoder (Label): Column education       been labelized from 0 to 13.\n",
      "Preprocessor - Encoder (Label): Column marital-status  been labelized from 0 to  6.\n",
      "Preprocessor - Encoder (Label): Column race            been labelized from 0 to  4.\n",
      "Preprocessor - Encoder (Label): Column gender          been labelized from 0 to  1.\n",
      "Preprocessor - Scaler (Standard): Column fnlwgt been standardized.\n",
      "Executor - Preprocessor: drop-IQR-Label-Standard preprocessing time: 0.0841 sec.\n",
      "Synthesizer (SDV - SingleTable): Metafile loading time: 0.0583 sec.\n",
      "Synthesizer (SDV - SingleTable): Fitting  GaussianCoupula.\n"
     ]
    },
    {
     "name": "stderr",
     "output_type": "stream",
     "text": [
      "c:\\Program Files\\Python310\\lib\\site-packages\\rdt\\transformers\\numerical.py:112: UserWarning: No rounding scheme detected for column 'fnlwgt'. Data will not be rounded.\n",
      "  warnings.warn(\n"
     ]
    },
    {
     "name": "stdout",
     "output_type": "stream",
     "text": [
      "Synthesizer (SDV - SingleTable): Fitting  GaussianCoupula spent 19.5615 sec.\n",
      "Synthesizer (SDV - SingleTable): Sampling GaussianCoupula # 30117 rows (same as raw) in 1.4852 sec.\n",
      "Executor - Synthesizer: sdv-singletable-gaussiancoupula synthesizing time: 21.1131 sec.\n",
      "Postprocessor - Scaler (StandardScaler): Decoding fnlwgt.\n",
      "Postprocessor - Encoder (LabelEncoder): Decoding workclass.\n",
      "Postprocessor - Encoder (LabelEncoder): Decoding occupation.\n",
      "Postprocessor - Encoder (LabelEncoder): Decoding income.\n",
      "Postprocessor - Encoder (LabelEncoder): Decoding native-country.\n",
      "Postprocessor - Encoder (LabelEncoder): Decoding relationship.\n",
      "Postprocessor - Encoder (LabelEncoder): Decoding education.\n",
      "Postprocessor - Encoder (LabelEncoder): Decoding marital-status.\n",
      "Postprocessor - Encoder (LabelEncoder): Decoding race.\n",
      "Postprocessor - Encoder (LabelEncoder): Decoding gender.\n",
      "Executor - Postprocessor: postprocessing time: 0.026 sec.\n",
      "Evaluator (Anonymeter - SinglingOut - Univariate): Now is SinglingOut - Univariate Evaluator\n",
      "Evaluator (Anonymeter - SinglingOut - Univariate): Evaluator time: 0.0506 sec.\n",
      "Evaluator (Anonymeter): Evaluating  SinglingOut - Univariate.\n"
     ]
    },
    {
     "name": "stderr",
     "output_type": "stream",
     "text": [
      "Found 1 failed queries out of 1. Check DEBUG messages for more details.\n"
     ]
    },
    {
     "name": "stdout",
     "output_type": "stream",
     "text": [
      "Executor - Evaluator: anonymeter-singlingout-univariate at 1 trials evaluating time: 2.4928 sec.\n",
      "Evaluator (Anonymeter - SinglingOut - Univariate): Now is SinglingOut - Univariate Evaluator\n",
      "Evaluator (Anonymeter - SinglingOut - Univariate): Evaluator time: 0.0541 sec.\n",
      "Evaluator (Anonymeter): Evaluating  SinglingOut - Univariate.\n",
      "Executor - Evaluator: anonymeter-singlingout-univariate at 2 trials evaluating time: 2.7555 sec.\n",
      "====== ====== ====== ====== ====== ======\n",
      "Executor (run_single_process): Total execution time: 68.7196 sec.\n",
      "====== ====== ====== ====== ====== ======\n"
     ]
    },
    {
     "name": "stderr",
     "output_type": "stream",
     "text": [
      "Loading:   0%|          | 0/1 [00:00<?, ?it/s]\n",
      "Loading: 100%|██████████| 1/1 [00:13<00:00, 13.22s/it]\n",
      "\u001b[A\n",
      "Preprocessing: 100%|██████████| 2/2 [00:18<00:00,  9.23s/it]\n",
      "Splitting: 100%|██████████| 1/1 [00:18<00:00, 18.47s/it]\n",
      "Loading: 100%|██████████| 1/1 [00:18<00:00, 18.47s/it]\n",
      "Synthesizing:   0%|          | 0/2 [00:00<?, ?it/s]\n",
      "\u001b[A"
     ]
    },
    {
     "name": "stdout",
     "output_type": "stream",
     "text": [
      "Synthesizer (SDV - SingleTable): Metafile loading time: 0.0916 sec.\n",
      "Synthesizer (SDV - SingleTable): Fitting  GaussianCoupula.\n",
      "Synthesizer (SDV - SingleTable): Metafile loading time: 0.1316 sec.\n",
      "Synthesizer (SDV - SingleTable): Fitting  GaussianCoupula.\n"
     ]
    },
    {
     "name": "stderr",
     "output_type": "stream",
     "text": [
      "c:\\Program Files\\Python310\\lib\\site-packages\\rdt\\transformers\\numerical.py:112: UserWarning: No rounding scheme detected for column 'fnlwgt'. Data will not be rounded.\n",
      "  warnings.warn(\n"
     ]
    },
    {
     "name": "stdout",
     "output_type": "stream",
     "text": [
      "Synthesizer (SDV - SingleTable): Fitting  GaussianCoupula spent 22.8187 sec.\n",
      "Synthesizer (SDV - SingleTable): Fitting  GaussianCoupula spent 23.7281 sec.\n",
      "Synthesizer (SDV - SingleTable): Sampling GaussianCoupula # 30106 rows (same as raw) in 1.7675 sec.\n",
      "Executor - Synthesizer: sdv-singletable-gaussiancoupula synthesizing time: 24.7308 sec.\n"
     ]
    },
    {
     "name": "stderr",
     "output_type": "stream",
     "text": [
      "Synthesizing:  50%|█████     | 1/2 [00:24<00:24, 24.95s/it]"
     ]
    },
    {
     "name": "stdout",
     "output_type": "stream",
     "text": [
      "Postprocessor - Scaler (StandardScaler): Decoding fnlwgt.\n",
      "Postprocessor - Encoder (LabelEncoder): Decoding gender.\n",
      "Postprocessor - Encoder (LabelEncoder): Decoding race.\n",
      "Postprocessor - Encoder (LabelEncoder): Decoding income.\n",
      "Postprocessor - Encoder (LabelEncoder): Decoding marital-status.\n",
      "Postprocessor - Encoder (LabelEncoder): Decoding relationship.\n",
      "Postprocessor - Encoder (LabelEncoder): Decoding education.\n",
      "Postprocessor - Encoder (LabelEncoder): Decoding occupation.\n",
      "Postprocessor - Encoder (LabelEncoder): Decoding workclass.\n",
      "Postprocessor - Encoder (LabelEncoder): Decoding native-country.\n",
      "Executor - Postprocessor: postprocessing time: 0.033 sec.\n"
     ]
    },
    {
     "name": "stderr",
     "output_type": "stream",
     "text": []
    },
    {
     "name": "stdout",
     "output_type": "stream",
     "text": [
      "Evaluator (Anonymeter - SinglingOut - Univariate): Now is SinglingOut - Univariate Evaluator\n",
      "Evaluator (Anonymeter - SinglingOut - Univariate): Evaluator time: 0.0866 sec.\n",
      "Evaluator (Anonymeter): Evaluating  SinglingOut - Univariate.\n"
     ]
    },
    {
     "name": "stderr",
     "output_type": "stream",
     "text": [
      "\n",
      "\u001b[A"
     ]
    },
    {
     "name": "stdout",
     "output_type": "stream",
     "text": [
      "Executor - Evaluator: anonymeter-singlingout-univariate at 1 trials evaluating time: 2.9171 sec.\n",
      "{'Risk': 0.0, 'Risk_CI_btm': 0.0, 'Risk_CI_top': 0.9300148011448004, 'Attack_Rate': 0.3967253428113813, 'Attack_Rate_err': 0.3967253428113813, 'Baseline_Rate': 0.3967253428113813, 'Baseline_Rate_err': 0.3967253428113813, 'Control_Rate': 0.3967253428113813, 'Control_Rate_err': 0.3967253428113813}\n",
      "Evaluator (Anonymeter - SinglingOut - Univariate): Now is SinglingOut - Univariate Evaluator\n"
     ]
    },
    {
     "name": "stderr",
     "output_type": "stream",
     "text": [
      "Found 1 failed queries out of 1. Check DEBUG messages for more details.\n"
     ]
    },
    {
     "name": "stdout",
     "output_type": "stream",
     "text": [
      "Synthesizer (SDV - SingleTable): Sampling GaussianCoupula # 30106 rows (same as raw) in 4.5874 sec.\n",
      "Executor - Synthesizer: sdv-singletable-gaussiancoupula synthesizing time: 28.4241 sec.\n",
      "Evaluator (Anonymeter - SinglingOut - Univariate): Evaluator time: 0.1991 sec.\n",
      "Evaluator (Anonymeter): Evaluating  SinglingOut - Univariate.\n"
     ]
    },
    {
     "name": "stderr",
     "output_type": "stream",
     "text": [
      "\n",
      "\u001b[A"
     ]
    },
    {
     "name": "stdout",
     "output_type": "stream",
     "text": [
      "Executor - Evaluator: anonymeter-singlingout-univariate at 2 trials evaluating time: 3.7991 sec.\n",
      "{'Risk': 0.0, 'Risk_CI_btm': 0.0, 'Risk_CI_top': 0.9300148011448004, 'Attack_Rate': 0.3967253428113813, 'Attack_Rate_err': 0.3967253428113813, 'Baseline_Rate': 0.3967253428113813, 'Baseline_Rate_err': 0.3967253428113813, 'Control_Rate': 0.3967253428113813, 'Control_Rate_err': 0.3967253428113813}\n"
     ]
    },
    {
     "name": "stderr",
     "output_type": "stream",
     "text": [
      "Synthesizing: 100%|██████████| 2/2 [00:32<00:00, 14.62s/it]"
     ]
    },
    {
     "name": "stdout",
     "output_type": "stream",
     "text": [
      "Postprocessor - Scaler (StandardScaler): Decoding fnlwgt.\n",
      "Postprocessor - Encoder (LabelEncoder): Decoding gender.\n",
      "Postprocessor - Encoder (LabelEncoder): Decoding race.\n",
      "Postprocessor - Encoder (LabelEncoder): Decoding income.\n",
      "Postprocessor - Encoder (LabelEncoder): Decoding marital-status.\n",
      "Postprocessor - Encoder (LabelEncoder): Decoding relationship.\n",
      "Postprocessor - Encoder (LabelEncoder): Decoding education.\n",
      "Postprocessor - Encoder (LabelEncoder): Decoding occupation.\n",
      "Postprocessor - Encoder (LabelEncoder): Decoding workclass.\n",
      "Postprocessor - Encoder (LabelEncoder): Decoding native-country.\n",
      "Executor - Postprocessor: postprocessing time: 0.0826 sec.\n"
     ]
    },
    {
     "name": "stderr",
     "output_type": "stream",
     "text": [
      "Found 1 failed queries out of 1. Check DEBUG messages for more details.\n"
     ]
    },
    {
     "name": "stdout",
     "output_type": "stream",
     "text": [
      "Evaluator (Anonymeter - SinglingOut - Univariate): Now is SinglingOut - Univariate Evaluator\n",
      "Evaluator (Anonymeter - SinglingOut - Univariate): Evaluator time: 0.1096 sec.\n",
      "Evaluator (Anonymeter): Evaluating  SinglingOut - Univariate.\n"
     ]
    },
    {
     "name": "stderr",
     "output_type": "stream",
     "text": [
      "\n",
      "\u001b[A"
     ]
    },
    {
     "name": "stdout",
     "output_type": "stream",
     "text": [
      "Executor - Evaluator: anonymeter-singlingout-univariate at 1 trials evaluating time: 3.0354 sec.\n",
      "{'Risk': 0.0, 'Risk_CI_btm': 0.0, 'Risk_CI_top': 0.9300148011448004, 'Attack_Rate': 0.3967253428113813, 'Attack_Rate_err': 0.3967253428113813, 'Baseline_Rate': 0.3967253428113813, 'Baseline_Rate_err': 0.3967253428113813, 'Control_Rate': 0.3967253428113813, 'Control_Rate_err': 0.3967253428113813}\n",
      "Evaluator (Anonymeter - SinglingOut - Univariate): Now is SinglingOut - Univariate Evaluator\n",
      "Evaluator (Anonymeter - SinglingOut - Univariate): Evaluator time: 0.0467 sec.\n",
      "Evaluator (Anonymeter): Evaluating  SinglingOut - Univariate.\n"
     ]
    },
    {
     "name": "stderr",
     "output_type": "stream",
     "text": [
      "\n",
      "Evaluating: 100%|██████████| 4/4 [00:39<00:00,  9.77s/it]\n",
      "Postprocessing: 100%|██████████| 2/2 [00:39<00:00, 19.53s/it]\n",
      "Synthesizing: 100%|██████████| 2/2 [00:39<00:00, 19.54s/it]"
     ]
    },
    {
     "name": "stdout",
     "output_type": "stream",
     "text": [
      "Executor - Evaluator: anonymeter-singlingout-univariate at 2 trials evaluating time: 3.0829 sec.\n",
      "{'Risk': 0.0, 'Risk_CI_btm': 0.0, 'Risk_CI_top': 0.9300148011448004, 'Attack_Rate': 0.3967253428113813, 'Attack_Rate_err': 0.3967253428113813, 'Baseline_Rate': 0.3967253428113813, 'Baseline_Rate_err': 0.3967253428113813, 'Control_Rate': 0.3967253428113813, 'Control_Rate_err': 0.3967253428113813}\n",
      "====== ====== ====== ====== ====== ======\n",
      "Executor (run): Total execution time: 57.5893 sec.\n",
      "====== ====== ====== ====== ====== ======\n"
     ]
    },
    {
     "name": "stderr",
     "output_type": "stream",
     "text": [
      "\n"
     ]
    },
    {
     "data": {
      "text/plain": [
       "{'Risk': 0.0,\n",
       " 'Risk_CI_btm': 0.0,\n",
       " 'Risk_CI_top': 0.9300148011448004,\n",
       " 'Attack_Rate': 0.3967253428113813,\n",
       " 'Attack_Rate_err': 0.3967253428113813,\n",
       " 'Baseline_Rate': 0.3967253428113813,\n",
       " 'Baseline_Rate_err': 0.3967253428113813,\n",
       " 'Control_Rate': 0.3967253428113813,\n",
       " 'Control_Rate_err': 0.3967253428113813}"
      ]
     },
     "execution_count": 1,
     "metadata": {},
     "output_type": "execute_result"
    }
   ],
   "source": [
    "import os\n",
    "import sys\n",
    "\n",
    "sys.path.append('D:\\\\Dropbox\\\\89_其他應用\\\\GitHub\\\\PETs-Experiment')\n",
    "os.chdir('D:\\\\Dropbox\\\\89_其他應用\\\\GitHub\\\\PETs-Experiment\\\\demo')\n",
    "\n",
    "import PETs_Experiment\n",
    "\n",
    "\n",
    "para_Executor = {\n",
    "     'Loader_filepath'  : '../[sunset]/data/[Adt Income] adult.csv'\n",
    "    ,'Loader_na_values' : {k : '?' for k in ['workclass' ,'occupation' ,'native-country']}\n",
    "    ,'Splitter_num_samples'       : 2\n",
    "    ,'Splitter_train_split_ratio' : 0.8\n",
    "    ,'Preprocessor_missing_method'  : 'drop'\n",
    "    ,'Preprocessor_outlier_method'  : 'IQR'\n",
    "    ,'Preprocessor_outlier_columns' : {'ignore': ['hours-per-week']}\n",
    "    ,'Preprocessor_encoding_method' : 'Label'\n",
    "    ,'Preprocessor_scaling'         : True\n",
    "    ,'Preprocessor_scaling_method'  : 'Standard'\n",
    "    ,'Preprocessor_scaling_columns' : {'focus' : 'fnlwgt'}\n",
    "    ,'Synthesizer_synthesizing_method' : 'sdv-singletable-gaussiancoupula'\n",
    "    ,'Evaluator_evaluating_method'    : 'anonymeter-singlingout-univariate' # 'anonymeter-inference' # \n",
    "    ,'Evaluator_anonymeter_n_attacks' : 1 # 2000\n",
    "    ,'Evaluator_num_samples'          : 2\n",
    "}\n",
    "\n",
    "executor_single = PETs_Experiment.Executor(**para_Executor)\n",
    "executor_single.run_single_process()\n",
    "executor_single.evaluator[('[Adt Income] adult.csv',\n",
    "  '0.8',\n",
    "  1,\n",
    "  'drop-IQR-Label-Standard',\n",
    "  'sdv-singletable-gaussiancoupula',\n",
    "  'anonymeter-singlingout-univariate',\n",
    "  1)].Evaluator.evaluation\n",
    "\n",
    "executor_single = PETs_Experiment.Executor(**para_Executor)\n",
    "executor_single.run()\n",
    "executor_single.evaluator[('[Adt Income] adult.csv',\n",
    "  '0.8',\n",
    "  1,\n",
    "  'drop-IQR-Label-Standard',\n",
    "  'sdv-singletable-gaussiancoupula',\n",
    "  'anonymeter-singlingout-univariate',\n",
    "  1)].Evaluator.evaluation"
   ]
  },
  {
   "cell_type": "code",
   "execution_count": 1,
   "metadata": {},
   "outputs": [
    {
     "name": "stdout",
     "output_type": "stream",
     "text": [
      "Executor - Loader: [Adt Income] adult.csv loading time: 10.949 sec.\n",
      "Executor - Splitter: 0.8 splitting time: 0.1356 sec.\n",
      "Preprocessor - Outlierist (IQR): Dropped  1069 rows on fnlwgt         . Kept [-63993.75, 419672.25] only.\n",
      "Preprocessor - Outlierist (IQR): Dropped  3032 rows on capital-gain   . Kept [0.0, 0.0] only.\n",
      "Preprocessor - Outlierist (IQR): Dropped   223 rows on age            . Kept [-0.5, 75.5] only.\n",
      "Preprocessor - Outlierist (IQR): Dropped   236 rows on educational-num. Kept [3.0, 19.0] only.\n",
      "Preprocessor - Outlierist (IQR): Dropped  1734 rows on capital-loss   . Kept [0.0, 0.0] only.\n",
      "Preprocessor - Outlierist (IQR): Totally Dropped  6092 in 36204 rows.\n",
      "Preprocessor - Encoder (Label): Column relationship    been labelized from 0 to  5.\n",
      "Preprocessor - Encoder (Label): Column workclass       been labelized from 0 to  6.\n",
      "Preprocessor - Encoder (Label): Column marital-status  been labelized from 0 to  6.\n",
      "Preprocessor - Encoder (Label): Column income          been labelized from 0 to  1.\n",
      "Preprocessor - Encoder (Label): Column education       been labelized from 0 to 13.\n",
      "Preprocessor - Encoder (Label): Column race            been labelized from 0 to  4.\n",
      "Preprocessor - Encoder (Label): Column native-country  been labelized from 0 to 39.\n",
      "Preprocessor - Encoder (Label): Column occupation      been labelized from 0 to 13.\n",
      "Preprocessor - Encoder (Label): Column gender          been labelized from 0 to  1.\n",
      "Preprocessor - Scaler (Standard): Column fnlwgt been standardized.\n",
      "Executor - Preprocessor: drop-IQR-Label-Standard preprocessing time: 0.0975 sec.\n",
      "Synthesizer (SDV - SingleTable): Metafile loading time: 0.027 sec.\n",
      "Synthesizer (SDV - SingleTable): Fitting  GaussianCoupula.\n"
     ]
    },
    {
     "name": "stderr",
     "output_type": "stream",
     "text": [
      "c:\\Program Files\\Python310\\lib\\site-packages\\rdt\\transformers\\numerical.py:112: UserWarning: No rounding scheme detected for column 'fnlwgt'. Data will not be rounded.\n",
      "  warnings.warn(\n"
     ]
    },
    {
     "name": "stdout",
     "output_type": "stream",
     "text": [
      "Synthesizer (SDV - SingleTable): Fitting  GaussianCoupula spent 16.8337 sec.\n",
      "Synthesizer (SDV - SingleTable): Sampling GaussianCoupula # 30112 rows (same as raw) in 1.6529 sec.\n",
      "Executor - Synthesizer: sdv-singletable-gaussiancoupula synthesizing time: 23.7199 sec.\n",
      "Postprocessor - Scaler (StandardScaler): Decoding fnlwgt.\n",
      "Postprocessor - Encoder (LabelEncoder): Decoding relationship.\n",
      "Postprocessor - Encoder (LabelEncoder): Decoding workclass.\n",
      "Postprocessor - Encoder (LabelEncoder): Decoding marital-status.\n",
      "Postprocessor - Encoder (LabelEncoder): Decoding income.\n",
      "Postprocessor - Encoder (LabelEncoder): Decoding education.\n",
      "Postprocessor - Encoder (LabelEncoder): Decoding race.\n",
      "Postprocessor - Encoder (LabelEncoder): Decoding native-country.\n",
      "Postprocessor - Encoder (LabelEncoder): Decoding occupation.\n",
      "Postprocessor - Encoder (LabelEncoder): Decoding gender.\n",
      "Executor - Postprocessor: postprocessing time: 0.0495 sec.\n",
      "Evaluator (Anonymeter - Inference): Now is Inference Evaluator\n",
      "Evaluator (Anonymeter - Inference): Evaluator time: 0.7017 sec.\n",
      "Evaluator (Anonymeter): Evaluating  Inference.\n",
      "Evaluator (Anonymeter): Evaluating  Inference spent 5.2852 sec.\n",
      "Evaluator (Anonymeter - Inference): Now is Inference Evaluator\n",
      "Evaluator (Anonymeter - Inference): Evaluator time: 0.0 sec.\n",
      "Evaluator (Anonymeter): Evaluating  Inference.\n",
      "Evaluator (Anonymeter): Evaluating  Inference spent 1.0678 sec.\n",
      "Evaluator (Anonymeter - Inference): Now is Inference Evaluator\n",
      "Evaluator (Anonymeter - Inference): Evaluator time: 0.0 sec.\n",
      "Evaluator (Anonymeter): Evaluating  Inference.\n",
      "Evaluator (Anonymeter): Evaluating  Inference spent 1.1458 sec.\n",
      "Evaluator (Anonymeter - Inference): Now is Inference Evaluator\n",
      "Evaluator (Anonymeter - Inference): Evaluator time: 0.0 sec.\n",
      "Evaluator (Anonymeter): Evaluating  Inference.\n",
      "Evaluator (Anonymeter): Evaluating  Inference spent 1.1526 sec.\n",
      "Evaluator (Anonymeter - Inference): Now is Inference Evaluator\n",
      "Evaluator (Anonymeter - Inference): Evaluator time: 0.0 sec.\n",
      "Evaluator (Anonymeter): Evaluating  Inference.\n",
      "Evaluator (Anonymeter): Evaluating  Inference spent 1.2744 sec.\n",
      "Evaluator (Anonymeter - Inference): Now is Inference Evaluator\n",
      "Evaluator (Anonymeter - Inference): Evaluator time: 0.001 sec.\n",
      "Evaluator (Anonymeter): Evaluating  Inference.\n",
      "Evaluator (Anonymeter): Evaluating  Inference spent 1.1437 sec.\n",
      "Evaluator (Anonymeter - Inference): Now is Inference Evaluator\n",
      "Evaluator (Anonymeter - Inference): Evaluator time: 0.001 sec.\n",
      "Evaluator (Anonymeter): Evaluating  Inference.\n",
      "Evaluator (Anonymeter): Evaluating  Inference spent 1.455 sec.\n",
      "Evaluator (Anonymeter - Inference): Now is Inference Evaluator\n",
      "Evaluator (Anonymeter - Inference): Evaluator time: 0.0 sec.\n",
      "Evaluator (Anonymeter): Evaluating  Inference.\n",
      "Evaluator (Anonymeter): Evaluating  Inference spent 1.1614 sec.\n",
      "Evaluator (Anonymeter - Inference): Now is Inference Evaluator\n",
      "Evaluator (Anonymeter - Inference): Evaluator time: 0.0 sec.\n",
      "Evaluator (Anonymeter): Evaluating  Inference.\n",
      "Evaluator (Anonymeter): Evaluating  Inference spent 1.3625 sec.\n",
      "Evaluator (Anonymeter - Inference): Now is Inference Evaluator\n",
      "Evaluator (Anonymeter - Inference): Evaluator time: 0.0 sec.\n",
      "Evaluator (Anonymeter): Evaluating  Inference.\n",
      "Evaluator (Anonymeter): Evaluating  Inference spent 1.3593 sec.\n",
      "Evaluator (Anonymeter - Inference): Now is Inference Evaluator\n",
      "Evaluator (Anonymeter - Inference): Evaluator time: 0.0 sec.\n",
      "Evaluator (Anonymeter): Evaluating  Inference.\n",
      "Evaluator (Anonymeter): Evaluating  Inference spent 1.1681 sec.\n",
      "Evaluator (Anonymeter - Inference): Now is Inference Evaluator\n",
      "Evaluator (Anonymeter - Inference): Evaluator time: 0.0 sec.\n",
      "Evaluator (Anonymeter): Evaluating  Inference.\n",
      "Evaluator (Anonymeter): Evaluating  Inference spent 1.1541 sec.\n",
      "Evaluator (Anonymeter - Inference): Now is Inference Evaluator\n",
      "Evaluator (Anonymeter - Inference): Evaluator time: 0.0 sec.\n",
      "Evaluator (Anonymeter): Evaluating  Inference.\n",
      "Evaluator (Anonymeter): Evaluating  Inference spent 1.2343 sec.\n",
      "Evaluator (Anonymeter - Inference): Now is Inference Evaluator\n",
      "Evaluator (Anonymeter - Inference): Evaluator time: 0.0 sec.\n",
      "Evaluator (Anonymeter): Evaluating  Inference.\n",
      "Evaluator (Anonymeter): Evaluating  Inference spent 1.113 sec.\n",
      "Evaluator (Anonymeter - Inference): Now is Inference Evaluator\n",
      "Evaluator (Anonymeter - Inference): Evaluator time: 0.0 sec.\n",
      "Evaluator (Anonymeter): Evaluating  Inference.\n",
      "Evaluator (Anonymeter): Evaluating  Inference spent 1.0768 sec.\n",
      "Executor - Evaluator: anonymeter-inference at 1 trials evaluating time: 23.0958 sec.\n",
      "Evaluator (Anonymeter - Inference): Now is Inference Evaluator\n",
      "Evaluator (Anonymeter - Inference): Evaluator time: 0.0 sec.\n",
      "Evaluator (Anonymeter): Evaluating  Inference.\n",
      "Evaluator (Anonymeter): Evaluating  Inference spent 1.0471 sec.\n",
      "Evaluator (Anonymeter - Inference): Now is Inference Evaluator\n",
      "Evaluator (Anonymeter - Inference): Evaluator time: 0.0 sec.\n",
      "Evaluator (Anonymeter): Evaluating  Inference.\n",
      "Evaluator (Anonymeter): Evaluating  Inference spent 0.9727 sec.\n",
      "Evaluator (Anonymeter - Inference): Now is Inference Evaluator\n",
      "Evaluator (Anonymeter - Inference): Evaluator time: 0.0 sec.\n",
      "Evaluator (Anonymeter): Evaluating  Inference.\n",
      "Evaluator (Anonymeter): Evaluating  Inference spent 1.1728 sec.\n",
      "Evaluator (Anonymeter - Inference): Now is Inference Evaluator\n",
      "Evaluator (Anonymeter - Inference): Evaluator time: 0.0 sec.\n",
      "Evaluator (Anonymeter): Evaluating  Inference.\n",
      "Evaluator (Anonymeter): Evaluating  Inference spent 1.3729 sec.\n",
      "Evaluator (Anonymeter - Inference): Now is Inference Evaluator\n",
      "Evaluator (Anonymeter - Inference): Evaluator time: 0.0 sec.\n",
      "Evaluator (Anonymeter): Evaluating  Inference.\n",
      "Evaluator (Anonymeter): Evaluating  Inference spent 1.5239 sec.\n",
      "Evaluator (Anonymeter - Inference): Now is Inference Evaluator\n",
      "Evaluator (Anonymeter - Inference): Evaluator time: 0.0 sec.\n",
      "Evaluator (Anonymeter): Evaluating  Inference.\n",
      "Evaluator (Anonymeter): Evaluating  Inference spent 0.9478 sec.\n",
      "Evaluator (Anonymeter - Inference): Now is Inference Evaluator\n",
      "Evaluator (Anonymeter - Inference): Evaluator time: 0.0 sec.\n",
      "Evaluator (Anonymeter): Evaluating  Inference.\n",
      "Evaluator (Anonymeter): Evaluating  Inference spent 0.998 sec.\n",
      "Evaluator (Anonymeter - Inference): Now is Inference Evaluator\n",
      "Evaluator (Anonymeter - Inference): Evaluator time: 0.0 sec.\n",
      "Evaluator (Anonymeter): Evaluating  Inference.\n",
      "Evaluator (Anonymeter): Evaluating  Inference spent 1.3656 sec.\n",
      "Evaluator (Anonymeter - Inference): Now is Inference Evaluator\n",
      "Evaluator (Anonymeter - Inference): Evaluator time: 0.001 sec.\n",
      "Evaluator (Anonymeter): Evaluating  Inference.\n",
      "Evaluator (Anonymeter): Evaluating  Inference spent 1.2883 sec.\n",
      "Evaluator (Anonymeter - Inference): Now is Inference Evaluator\n",
      "Evaluator (Anonymeter - Inference): Evaluator time: 0.0 sec.\n",
      "Evaluator (Anonymeter): Evaluating  Inference.\n",
      "Evaluator (Anonymeter): Evaluating  Inference spent 0.9897 sec.\n",
      "Evaluator (Anonymeter - Inference): Now is Inference Evaluator\n",
      "Evaluator (Anonymeter - Inference): Evaluator time: 0.0 sec.\n",
      "Evaluator (Anonymeter): Evaluating  Inference.\n",
      "Evaluator (Anonymeter): Evaluating  Inference spent 1.0867 sec.\n",
      "Evaluator (Anonymeter - Inference): Now is Inference Evaluator\n",
      "Evaluator (Anonymeter - Inference): Evaluator time: 0.0 sec.\n",
      "Evaluator (Anonymeter): Evaluating  Inference.\n",
      "Evaluator (Anonymeter): Evaluating  Inference spent 0.9919 sec.\n",
      "Evaluator (Anonymeter - Inference): Now is Inference Evaluator\n",
      "Evaluator (Anonymeter - Inference): Evaluator time: 0.0 sec.\n",
      "Evaluator (Anonymeter): Evaluating  Inference.\n",
      "Evaluator (Anonymeter): Evaluating  Inference spent 1.229 sec.\n",
      "Evaluator (Anonymeter - Inference): Now is Inference Evaluator\n",
      "Evaluator (Anonymeter - Inference): Evaluator time: 0.0 sec.\n",
      "Evaluator (Anonymeter): Evaluating  Inference.\n",
      "Evaluator (Anonymeter): Evaluating  Inference spent 0.8842 sec.\n",
      "Evaluator (Anonymeter - Inference): Now is Inference Evaluator\n",
      "Evaluator (Anonymeter - Inference): Evaluator time: 0.0 sec.\n",
      "Evaluator (Anonymeter): Evaluating  Inference.\n",
      "Evaluator (Anonymeter): Evaluating  Inference spent 0.8449 sec.\n",
      "Executor - Evaluator: anonymeter-inference at 2 trials evaluating time: 16.805 sec.\n",
      "Preprocessor - Outlierist (IQR): Dropped  1044 rows on fnlwgt         . Kept [-62941.75, 418980.25] only.\n",
      "Preprocessor - Outlierist (IQR): Dropped  3010 rows on capital-gain   . Kept [0.0, 0.0] only.\n",
      "Preprocessor - Outlierist (IQR): Dropped   214 rows on age            . Kept [-0.5, 75.5] only.\n",
      "Preprocessor - Outlierist (IQR): Dropped   234 rows on educational-num. Kept [3.0, 19.0] only.\n",
      "Preprocessor - Outlierist (IQR): Dropped  1724 rows on capital-loss   . Kept [0.0, 0.0] only.\n",
      "Preprocessor - Outlierist (IQR): Totally Dropped  6028 in 36164 rows.\n",
      "Preprocessor - Encoder (Label): Column relationship    been labelized from 0 to  5.\n",
      "Preprocessor - Encoder (Label): Column workclass       been labelized from 0 to  6.\n",
      "Preprocessor - Encoder (Label): Column marital-status  been labelized from 0 to  6.\n",
      "Preprocessor - Encoder (Label): Column income          been labelized from 0 to  1.\n",
      "Preprocessor - Encoder (Label): Column education       been labelized from 0 to 13.\n",
      "Preprocessor - Encoder (Label): Column race            been labelized from 0 to  4.\n",
      "Preprocessor - Encoder (Label): Column native-country  been labelized from 0 to 39.\n",
      "Preprocessor - Encoder (Label): Column occupation      been labelized from 0 to 13.\n",
      "Preprocessor - Encoder (Label): Column gender          been labelized from 0 to  1.\n",
      "Preprocessor - Scaler (Standard): Column fnlwgt been standardized.\n",
      "Executor - Preprocessor: drop-IQR-Label-Standard preprocessing time: 0.1095 sec.\n",
      "Synthesizer (SDV - SingleTable): Metafile loading time: 0.0251 sec.\n",
      "Synthesizer (SDV - SingleTable): Fitting  GaussianCoupula.\n"
     ]
    },
    {
     "name": "stderr",
     "output_type": "stream",
     "text": [
      "c:\\Program Files\\Python310\\lib\\site-packages\\rdt\\transformers\\numerical.py:112: UserWarning: No rounding scheme detected for column 'fnlwgt'. Data will not be rounded.\n",
      "  warnings.warn(\n"
     ]
    },
    {
     "name": "stdout",
     "output_type": "stream",
     "text": [
      "Synthesizer (SDV - SingleTable): Fitting  GaussianCoupula spent 19.1928 sec.\n",
      "Synthesizer (SDV - SingleTable): Sampling GaussianCoupula # 30136 rows (same as raw) in 1.7195 sec.\n",
      "Executor - Synthesizer: sdv-singletable-gaussiancoupula synthesizing time: 20.9434 sec.\n",
      "Postprocessor - Scaler (StandardScaler): Decoding fnlwgt.\n",
      "Postprocessor - Encoder (LabelEncoder): Decoding relationship.\n",
      "Postprocessor - Encoder (LabelEncoder): Decoding workclass.\n",
      "Postprocessor - Encoder (LabelEncoder): Decoding marital-status.\n",
      "Postprocessor - Encoder (LabelEncoder): Decoding income.\n",
      "Postprocessor - Encoder (LabelEncoder): Decoding education.\n",
      "Postprocessor - Encoder (LabelEncoder): Decoding race.\n",
      "Postprocessor - Encoder (LabelEncoder): Decoding native-country.\n",
      "Postprocessor - Encoder (LabelEncoder): Decoding occupation.\n",
      "Postprocessor - Encoder (LabelEncoder): Decoding gender.\n",
      "Executor - Postprocessor: postprocessing time: 0.022 sec.\n",
      "Evaluator (Anonymeter - Inference): Now is Inference Evaluator\n",
      "Evaluator (Anonymeter - Inference): Evaluator time: 0.0 sec.\n",
      "Evaluator (Anonymeter): Evaluating  Inference.\n",
      "Evaluator (Anonymeter): Evaluating  Inference spent 1.6476 sec.\n",
      "Evaluator (Anonymeter - Inference): Now is Inference Evaluator\n",
      "Evaluator (Anonymeter - Inference): Evaluator time: 0.0 sec.\n",
      "Evaluator (Anonymeter): Evaluating  Inference.\n",
      "Evaluator (Anonymeter): Evaluating  Inference spent 1.4956 sec.\n",
      "Evaluator (Anonymeter - Inference): Now is Inference Evaluator\n",
      "Evaluator (Anonymeter - Inference): Evaluator time: 0.0 sec.\n",
      "Evaluator (Anonymeter): Evaluating  Inference.\n",
      "Evaluator (Anonymeter): Evaluating  Inference spent 1.1098 sec.\n",
      "Evaluator (Anonymeter - Inference): Now is Inference Evaluator\n",
      "Evaluator (Anonymeter - Inference): Evaluator time: 0.0 sec.\n",
      "Evaluator (Anonymeter): Evaluating  Inference.\n",
      "Evaluator (Anonymeter): Evaluating  Inference spent 1.0645 sec.\n",
      "Evaluator (Anonymeter - Inference): Now is Inference Evaluator\n",
      "Evaluator (Anonymeter - Inference): Evaluator time: 0.0 sec.\n",
      "Evaluator (Anonymeter): Evaluating  Inference.\n",
      "Evaluator (Anonymeter): Evaluating  Inference spent 1.1165 sec.\n",
      "Evaluator (Anonymeter - Inference): Now is Inference Evaluator\n",
      "Evaluator (Anonymeter - Inference): Evaluator time: 0.0 sec.\n",
      "Evaluator (Anonymeter): Evaluating  Inference.\n",
      "Evaluator (Anonymeter): Evaluating  Inference spent 1.1627 sec.\n",
      "Evaluator (Anonymeter - Inference): Now is Inference Evaluator\n",
      "Evaluator (Anonymeter - Inference): Evaluator time: 0.0 sec.\n",
      "Evaluator (Anonymeter): Evaluating  Inference.\n",
      "Evaluator (Anonymeter): Evaluating  Inference spent 1.0383 sec.\n",
      "Evaluator (Anonymeter - Inference): Now is Inference Evaluator\n",
      "Evaluator (Anonymeter - Inference): Evaluator time: 0.0 sec.\n",
      "Evaluator (Anonymeter): Evaluating  Inference.\n",
      "Evaluator (Anonymeter): Evaluating  Inference spent 1.0653 sec.\n",
      "Evaluator (Anonymeter - Inference): Now is Inference Evaluator\n",
      "Evaluator (Anonymeter - Inference): Evaluator time: 0.0 sec.\n",
      "Evaluator (Anonymeter): Evaluating  Inference.\n",
      "Evaluator (Anonymeter): Evaluating  Inference spent 1.0245 sec.\n",
      "Evaluator (Anonymeter - Inference): Now is Inference Evaluator\n",
      "Evaluator (Anonymeter - Inference): Evaluator time: 0.0 sec.\n",
      "Evaluator (Anonymeter): Evaluating  Inference.\n",
      "Evaluator (Anonymeter): Evaluating  Inference spent 1.039 sec.\n",
      "Evaluator (Anonymeter - Inference): Now is Inference Evaluator\n",
      "Evaluator (Anonymeter - Inference): Evaluator time: 0.0 sec.\n",
      "Evaluator (Anonymeter): Evaluating  Inference.\n",
      "Evaluator (Anonymeter): Evaluating  Inference spent 1.3177 sec.\n",
      "Evaluator (Anonymeter - Inference): Now is Inference Evaluator\n",
      "Evaluator (Anonymeter - Inference): Evaluator time: 0.0 sec.\n",
      "Evaluator (Anonymeter): Evaluating  Inference.\n",
      "Evaluator (Anonymeter): Evaluating  Inference spent 0.9231 sec.\n",
      "Evaluator (Anonymeter - Inference): Now is Inference Evaluator\n",
      "Evaluator (Anonymeter - Inference): Evaluator time: 0.0 sec.\n",
      "Evaluator (Anonymeter): Evaluating  Inference.\n",
      "Evaluator (Anonymeter): Evaluating  Inference spent 0.8864 sec.\n",
      "Evaluator (Anonymeter - Inference): Now is Inference Evaluator\n",
      "Evaluator (Anonymeter - Inference): Evaluator time: 0.0 sec.\n",
      "Evaluator (Anonymeter): Evaluating  Inference.\n",
      "Evaluator (Anonymeter): Evaluating  Inference spent 0.8589 sec.\n",
      "Evaluator (Anonymeter - Inference): Now is Inference Evaluator\n",
      "Evaluator (Anonymeter - Inference): Evaluator time: 0.0 sec.\n",
      "Evaluator (Anonymeter): Evaluating  Inference.\n",
      "Evaluator (Anonymeter): Evaluating  Inference spent 0.8668 sec.\n",
      "Executor - Evaluator: anonymeter-inference at 1 trials evaluating time: 16.7106 sec.\n",
      "Evaluator (Anonymeter - Inference): Now is Inference Evaluator\n",
      "Evaluator (Anonymeter - Inference): Evaluator time: 0.0 sec.\n",
      "Evaluator (Anonymeter): Evaluating  Inference.\n",
      "Evaluator (Anonymeter): Evaluating  Inference spent 0.932 sec.\n",
      "Evaluator (Anonymeter - Inference): Now is Inference Evaluator\n",
      "Evaluator (Anonymeter - Inference): Evaluator time: 0.0 sec.\n",
      "Evaluator (Anonymeter): Evaluating  Inference.\n",
      "Evaluator (Anonymeter): Evaluating  Inference spent 0.9413 sec.\n",
      "Evaluator (Anonymeter - Inference): Now is Inference Evaluator\n",
      "Evaluator (Anonymeter - Inference): Evaluator time: 0.0 sec.\n",
      "Evaluator (Anonymeter): Evaluating  Inference.\n",
      "Evaluator (Anonymeter): Evaluating  Inference spent 0.9135 sec.\n",
      "Evaluator (Anonymeter - Inference): Now is Inference Evaluator\n",
      "Evaluator (Anonymeter - Inference): Evaluator time: 0.0 sec.\n",
      "Evaluator (Anonymeter): Evaluating  Inference.\n",
      "Evaluator (Anonymeter): Evaluating  Inference spent 0.8789 sec.\n",
      "Evaluator (Anonymeter - Inference): Now is Inference Evaluator\n",
      "Evaluator (Anonymeter - Inference): Evaluator time: 0.0 sec.\n",
      "Evaluator (Anonymeter): Evaluating  Inference.\n",
      "Evaluator (Anonymeter): Evaluating  Inference spent 0.9116 sec.\n",
      "Evaluator (Anonymeter - Inference): Now is Inference Evaluator\n",
      "Evaluator (Anonymeter - Inference): Evaluator time: 0.0 sec.\n",
      "Evaluator (Anonymeter): Evaluating  Inference.\n",
      "Evaluator (Anonymeter): Evaluating  Inference spent 0.9307 sec.\n",
      "Evaluator (Anonymeter - Inference): Now is Inference Evaluator\n",
      "Evaluator (Anonymeter - Inference): Evaluator time: 0.0 sec.\n",
      "Evaluator (Anonymeter): Evaluating  Inference.\n",
      "Evaluator (Anonymeter): Evaluating  Inference spent 0.9116 sec.\n",
      "Evaluator (Anonymeter - Inference): Now is Inference Evaluator\n",
      "Evaluator (Anonymeter - Inference): Evaluator time: 0.0 sec.\n",
      "Evaluator (Anonymeter): Evaluating  Inference.\n",
      "Evaluator (Anonymeter): Evaluating  Inference spent 0.9783 sec.\n",
      "Evaluator (Anonymeter - Inference): Now is Inference Evaluator\n",
      "Evaluator (Anonymeter - Inference): Evaluator time: 0.0 sec.\n",
      "Evaluator (Anonymeter): Evaluating  Inference.\n",
      "Evaluator (Anonymeter): Evaluating  Inference spent 0.9102 sec.\n",
      "Evaluator (Anonymeter - Inference): Now is Inference Evaluator\n",
      "Evaluator (Anonymeter - Inference): Evaluator time: 0.0 sec.\n",
      "Evaluator (Anonymeter): Evaluating  Inference.\n",
      "Evaluator (Anonymeter): Evaluating  Inference spent 0.8538 sec.\n",
      "Evaluator (Anonymeter - Inference): Now is Inference Evaluator\n",
      "Evaluator (Anonymeter - Inference): Evaluator time: 0.0 sec.\n",
      "Evaluator (Anonymeter): Evaluating  Inference.\n",
      "Evaluator (Anonymeter): Evaluating  Inference spent 0.8794 sec.\n",
      "Evaluator (Anonymeter - Inference): Now is Inference Evaluator\n",
      "Evaluator (Anonymeter - Inference): Evaluator time: 0.0 sec.\n",
      "Evaluator (Anonymeter): Evaluating  Inference.\n",
      "Evaluator (Anonymeter): Evaluating  Inference spent 0.8826 sec.\n",
      "Evaluator (Anonymeter - Inference): Now is Inference Evaluator\n",
      "Evaluator (Anonymeter - Inference): Evaluator time: 0.0 sec.\n",
      "Evaluator (Anonymeter): Evaluating  Inference.\n",
      "Evaluator (Anonymeter): Evaluating  Inference spent 0.9007 sec.\n",
      "Evaluator (Anonymeter - Inference): Now is Inference Evaluator\n",
      "Evaluator (Anonymeter - Inference): Evaluator time: 0.0 sec.\n",
      "Evaluator (Anonymeter): Evaluating  Inference.\n",
      "Evaluator (Anonymeter): Evaluating  Inference spent 0.8694 sec.\n",
      "Evaluator (Anonymeter - Inference): Now is Inference Evaluator\n",
      "Evaluator (Anonymeter - Inference): Evaluator time: 0.0 sec.\n",
      "Evaluator (Anonymeter): Evaluating  Inference.\n",
      "Evaluator (Anonymeter): Evaluating  Inference spent 0.8827 sec.\n",
      "Executor - Evaluator: anonymeter-inference at 2 trials evaluating time: 13.6559 sec.\n",
      "====== ====== ====== ====== ====== ======\n",
      "Executor (run_single_process): Total execution time: 128.2824 sec.\n",
      "====== ====== ====== ====== ====== ======\n"
     ]
    },
    {
     "name": "stderr",
     "output_type": "stream",
     "text": [
      "Loading:   0%|          | 0/1 [00:00<?, ?it/s]\n",
      "Loading: 100%|██████████| 1/1 [00:11<00:00, 11.64s/it]\n",
      "\u001b[A\n",
      "Preprocessing: 100%|██████████| 2/2 [00:14<00:00,  7.43s/it]\n",
      "Splitting: 100%|██████████| 1/1 [00:14<00:00, 14.87s/it]\n",
      "Loading: 100%|██████████| 1/1 [00:14<00:00, 14.87s/it]\n",
      "Synthesizing:   0%|          | 0/2 [00:00<?, ?it/s]\n",
      "\u001b[A"
     ]
    },
    {
     "name": "stdout",
     "output_type": "stream",
     "text": [
      "Synthesizer (SDV - SingleTable): Metafile loading time: 0.0683 sec.\n",
      "Synthesizer (SDV - SingleTable): Fitting  GaussianCoupula.\n",
      "Synthesizer (SDV - SingleTable): Metafile loading time: 0.2914 sec.\n",
      "Synthesizer (SDV - SingleTable): Fitting  GaussianCoupula.\n"
     ]
    },
    {
     "name": "stderr",
     "output_type": "stream",
     "text": [
      "c:\\Program Files\\Python310\\lib\\site-packages\\rdt\\transformers\\numerical.py:112: UserWarning: No rounding scheme detected for column 'fnlwgt'. Data will not be rounded.\n",
      "  warnings.warn(\n",
      "c:\\Program Files\\Python310\\lib\\site-packages\\rdt\\transformers\\numerical.py:112: UserWarning: No rounding scheme detected for column 'fnlwgt'. Data will not be rounded.\n",
      "  warnings.warn(\n"
     ]
    },
    {
     "name": "stdout",
     "output_type": "stream",
     "text": [
      "Synthesizer (SDV - SingleTable): Fitting  GaussianCoupula spent 17.7261 sec.\n",
      "Synthesizer (SDV - SingleTable): Fitting  GaussianCoupula spent 19.2427 sec.\n"
     ]
    },
    {
     "name": "stderr",
     "output_type": "stream",
     "text": [
      "Synthesizing:  50%|█████     | 1/2 [00:19<00:19, 19.72s/it]"
     ]
    },
    {
     "name": "stdout",
     "output_type": "stream",
     "text": [
      "Synthesizer (SDV - SingleTable): Sampling GaussianCoupula # 30200 rows (same as raw) in 1.5452 sec.\n",
      "Executor - Synthesizer: sdv-singletable-gaussiancoupula synthesizing time: 19.5718 sec.\n",
      "Postprocessor - Scaler (StandardScaler): Decoding fnlwgt.\n",
      "Postprocessor - Encoder (LabelEncoder): Decoding education.\n",
      "Postprocessor - Encoder (LabelEncoder): Decoding workclass.\n",
      "Postprocessor - Encoder (LabelEncoder): Decoding occupation.\n",
      "Postprocessor - Encoder (LabelEncoder): Decoding native-country.\n",
      "Postprocessor - Encoder (LabelEncoder): Decoding income.\n",
      "Postprocessor - Encoder (LabelEncoder): Decoding gender.\n",
      "Postprocessor - Encoder (LabelEncoder): Decoding marital-status.\n",
      "Postprocessor - Encoder (LabelEncoder): Decoding relationship.\n",
      "Postprocessor - Encoder (LabelEncoder): Decoding race.\n",
      "Executor - Postprocessor: postprocessing time: 0.0456 sec.\n"
     ]
    },
    {
     "name": "stderr",
     "output_type": "stream",
     "text": []
    },
    {
     "name": "stdout",
     "output_type": "stream",
     "text": [
      "Evaluator (Anonymeter - Inference): Now is Inference Evaluator\n",
      "Evaluator (Anonymeter - Inference): Evaluator time: 0.0 sec.\n",
      "Evaluator (Anonymeter): Evaluating  Inference.\n",
      "Evaluator (Anonymeter): Evaluating  Inference spent 1.2851 sec.\n",
      "Evaluator (Anonymeter - Inference): Now is Inference Evaluator\n",
      "Evaluator (Anonymeter - Inference): Evaluator time: 0.0 sec.\n",
      "Evaluator (Anonymeter): Evaluating  Inference.\n",
      "Synthesizer (SDV - SingleTable): Sampling GaussianCoupula # 30200 rows (same as raw) in 3.3839 sec.\n",
      "Executor - Synthesizer: sdv-singletable-gaussiancoupula synthesizing time: 22.7029 sec.\n",
      "Evaluator (Anonymeter): Evaluating  Inference spent 1.3122 sec.\n",
      "Evaluator (Anonymeter - Inference): Now is Inference Evaluator\n",
      "Evaluator (Anonymeter - Inference): Evaluator time: 0.0 sec.\n",
      "Evaluator (Anonymeter): Evaluating  Inference.\n",
      "Evaluator (Anonymeter): Evaluating  Inference spent 1.1365 sec.\n",
      "Evaluator (Anonymeter - Inference): Now is Inference Evaluator\n",
      "Evaluator (Anonymeter - Inference): Evaluator time: 0.0 sec.\n",
      "Evaluator (Anonymeter): Evaluating  Inference.\n",
      "Evaluator (Anonymeter): Evaluating  Inference spent 1.0386 sec.\n",
      "Evaluator (Anonymeter - Inference): Now is Inference Evaluator\n",
      "Evaluator (Anonymeter - Inference): Evaluator time: 0.0 sec.\n",
      "Evaluator (Anonymeter): Evaluating  Inference.\n",
      "Evaluator (Anonymeter): Evaluating  Inference spent 1.0175 sec.\n",
      "Evaluator (Anonymeter - Inference): Now is Inference Evaluator\n",
      "Evaluator (Anonymeter - Inference): Evaluator time: 0.0 sec.\n",
      "Evaluator (Anonymeter): Evaluating  Inference.\n",
      "Evaluator (Anonymeter): Evaluating  Inference spent 1.0309 sec.\n",
      "Evaluator (Anonymeter - Inference): Now is Inference Evaluator\n",
      "Evaluator (Anonymeter - Inference): Evaluator time: 0.0 sec.\n",
      "Evaluator (Anonymeter): Evaluating  Inference.\n",
      "Evaluator (Anonymeter): Evaluating  Inference spent 1.0979 sec.\n",
      "Evaluator (Anonymeter - Inference): Now is Inference Evaluator\n",
      "Evaluator (Anonymeter - Inference): Evaluator time: 0.0 sec.\n",
      "Evaluator (Anonymeter): Evaluating  Inference.\n",
      "Evaluator (Anonymeter): Evaluating  Inference spent 1.0005 sec.\n",
      "Evaluator (Anonymeter - Inference): Now is Inference Evaluator\n",
      "Evaluator (Anonymeter - Inference): Evaluator time: 0.0 sec.\n",
      "Evaluator (Anonymeter): Evaluating  Inference.\n",
      "Evaluator (Anonymeter): Evaluating  Inference spent 1.0019 sec.\n",
      "Evaluator (Anonymeter - Inference): Now is Inference Evaluator\n",
      "Evaluator (Anonymeter - Inference): Evaluator time: 0.0 sec.\n",
      "Evaluator (Anonymeter): Evaluating  Inference.\n",
      "Evaluator (Anonymeter): Evaluating  Inference spent 0.9814 sec.\n",
      "Evaluator (Anonymeter - Inference): Now is Inference Evaluator\n",
      "Evaluator (Anonymeter - Inference): Evaluator time: 0.0 sec.\n",
      "Evaluator (Anonymeter): Evaluating  Inference.\n",
      "Evaluator (Anonymeter): Evaluating  Inference spent 1.1134 sec.\n",
      "Evaluator (Anonymeter - Inference): Now is Inference Evaluator\n",
      "Evaluator (Anonymeter - Inference): Evaluator time: 0.0 sec.\n",
      "Evaluator (Anonymeter): Evaluating  Inference.\n",
      "Evaluator (Anonymeter): Evaluating  Inference spent 1.1609 sec.\n",
      "Evaluator (Anonymeter - Inference): Now is Inference Evaluator\n",
      "Evaluator (Anonymeter - Inference): Evaluator time: 0.0 sec.\n",
      "Evaluator (Anonymeter): Evaluating  Inference.\n",
      "Evaluator (Anonymeter): Evaluating  Inference spent 1.0892 sec.\n",
      "Evaluator (Anonymeter - Inference): Now is Inference Evaluator\n",
      "Evaluator (Anonymeter - Inference): Evaluator time: 0.0 sec.\n",
      "Evaluator (Anonymeter): Evaluating  Inference.\n",
      "Evaluator (Anonymeter): Evaluating  Inference spent 1.3087 sec.\n",
      "Evaluator (Anonymeter - Inference): Now is Inference Evaluator\n",
      "Evaluator (Anonymeter - Inference): Evaluator time: 0.0 sec.\n",
      "Evaluator (Anonymeter): Evaluating  Inference.\n"
     ]
    },
    {
     "name": "stderr",
     "output_type": "stream",
     "text": [
      "\n",
      "\u001b[A"
     ]
    },
    {
     "name": "stdout",
     "output_type": "stream",
     "text": [
      "Evaluator (Anonymeter): Evaluating  Inference spent 1.2212 sec.\n",
      "Executor - Evaluator: anonymeter-inference at 1 trials evaluating time: 16.8853 sec.\n",
      "Evaluator (Anonymeter - Inference): Now is Inference Evaluator\n",
      "Evaluator (Anonymeter - Inference): Evaluator time: 0.0 sec.\n",
      "Evaluator (Anonymeter): Evaluating  Inference.\n",
      "Evaluator (Anonymeter): Evaluating  Inference spent 1.5345 sec.\n",
      "Evaluator (Anonymeter - Inference): Now is Inference Evaluator\n",
      "Evaluator (Anonymeter - Inference): Evaluator time: 0.0 sec.\n",
      "Evaluator (Anonymeter): Evaluating  Inference.\n",
      "Evaluator (Anonymeter): Evaluating  Inference spent 1.3563 sec.\n",
      "Evaluator (Anonymeter - Inference): Now is Inference Evaluator\n",
      "Evaluator (Anonymeter - Inference): Evaluator time: 0.0 sec.\n",
      "Evaluator (Anonymeter): Evaluating  Inference.\n",
      "Evaluator (Anonymeter): Evaluating  Inference spent 1.0669 sec.\n",
      "Evaluator (Anonymeter - Inference): Now is Inference Evaluator\n",
      "Evaluator (Anonymeter - Inference): Evaluator time: 0.0 sec.\n",
      "Evaluator (Anonymeter): Evaluating  Inference.\n",
      "Evaluator (Anonymeter): Evaluating  Inference spent 1.1023 sec.\n",
      "Evaluator (Anonymeter - Inference): Now is Inference Evaluator\n",
      "Evaluator (Anonymeter - Inference): Evaluator time: 0.001 sec.\n",
      "Evaluator (Anonymeter): Evaluating  Inference.\n",
      "Evaluator (Anonymeter): Evaluating  Inference spent 1.0377 sec.\n",
      "Evaluator (Anonymeter - Inference): Now is Inference Evaluator\n",
      "Evaluator (Anonymeter - Inference): Evaluator time: 0.0 sec.\n",
      "Evaluator (Anonymeter): Evaluating  Inference.\n",
      "Evaluator (Anonymeter): Evaluating  Inference spent 1.1606 sec.\n",
      "Evaluator (Anonymeter - Inference): Now is Inference Evaluator\n",
      "Evaluator (Anonymeter - Inference): Evaluator time: 0.0 sec.\n",
      "Evaluator (Anonymeter): Evaluating  Inference.\n",
      "Evaluator (Anonymeter): Evaluating  Inference spent 1.6898 sec.\n",
      "Evaluator (Anonymeter - Inference): Now is Inference Evaluator\n",
      "Evaluator (Anonymeter - Inference): Evaluator time: 0.0 sec.\n",
      "Evaluator (Anonymeter): Evaluating  Inference.\n",
      "Evaluator (Anonymeter): Evaluating  Inference spent 1.4629 sec.\n",
      "Evaluator (Anonymeter - Inference): Now is Inference Evaluator\n",
      "Evaluator (Anonymeter - Inference): Evaluator time: 0.0 sec.\n",
      "Evaluator (Anonymeter): Evaluating  Inference.\n",
      "Evaluator (Anonymeter): Evaluating  Inference spent 1.3066 sec.\n",
      "Evaluator (Anonymeter - Inference): Now is Inference Evaluator\n",
      "Evaluator (Anonymeter - Inference): Evaluator time: 0.0 sec.\n",
      "Evaluator (Anonymeter): Evaluating  Inference.\n",
      "Evaluator (Anonymeter): Evaluating  Inference spent 1.2726 sec.\n",
      "Evaluator (Anonymeter - Inference): Now is Inference Evaluator\n",
      "Evaluator (Anonymeter - Inference): Evaluator time: 0.0 sec.\n",
      "Evaluator (Anonymeter): Evaluating  Inference.\n",
      "Evaluator (Anonymeter): Evaluating  Inference spent 1.0368 sec.\n",
      "Evaluator (Anonymeter - Inference): Now is Inference Evaluator\n",
      "Evaluator (Anonymeter - Inference): Evaluator time: 0.0 sec.\n",
      "Evaluator (Anonymeter): Evaluating  Inference.\n",
      "Evaluator (Anonymeter): Evaluating  Inference spent 1.6771 sec.\n",
      "Evaluator (Anonymeter - Inference): Now is Inference Evaluator\n",
      "Evaluator (Anonymeter - Inference): Evaluator time: 0.0 sec.\n",
      "Evaluator (Anonymeter): Evaluating  Inference.\n",
      "Evaluator (Anonymeter): Evaluating  Inference spent 1.1593 sec.\n",
      "Evaluator (Anonymeter - Inference): Now is Inference Evaluator\n",
      "Evaluator (Anonymeter - Inference): Evaluator time: 0.0 sec.\n",
      "Evaluator (Anonymeter): Evaluating  Inference.\n",
      "Evaluator (Anonymeter): Evaluating  Inference spent 1.1092 sec.\n",
      "Evaluator (Anonymeter - Inference): Now is Inference Evaluator\n",
      "Evaluator (Anonymeter - Inference): Evaluator time: 0.0 sec.\n",
      "Evaluator (Anonymeter): Evaluating  Inference.\n"
     ]
    },
    {
     "name": "stderr",
     "output_type": "stream",
     "text": [
      "\n",
      "\u001b[A"
     ]
    },
    {
     "name": "stdout",
     "output_type": "stream",
     "text": [
      "Evaluator (Anonymeter): Evaluating  Inference spent 0.7783 sec.\n",
      "Executor - Evaluator: anonymeter-inference at 2 trials evaluating time: 18.8592 sec.\n"
     ]
    },
    {
     "name": "stderr",
     "output_type": "stream",
     "text": [
      "Synthesizing: 100%|██████████| 2/2 [00:56<00:00, 29.54s/it]"
     ]
    },
    {
     "name": "stdout",
     "output_type": "stream",
     "text": [
      "Postprocessor - Scaler (StandardScaler): Decoding fnlwgt.\n",
      "Postprocessor - Encoder (LabelEncoder): Decoding education.\n",
      "Postprocessor - Encoder (LabelEncoder): Decoding workclass.\n",
      "Postprocessor - Encoder (LabelEncoder): Decoding occupation.\n",
      "Postprocessor - Encoder (LabelEncoder): Decoding native-country.\n",
      "Postprocessor - Encoder (LabelEncoder): Decoding income.\n",
      "Postprocessor - Encoder (LabelEncoder): Decoding gender.\n",
      "Postprocessor - Encoder (LabelEncoder): Decoding marital-status.\n",
      "Postprocessor - Encoder (LabelEncoder): Decoding relationship.\n",
      "Postprocessor - Encoder (LabelEncoder): Decoding race.\n",
      "Executor - Postprocessor: postprocessing time: 0.033 sec.\n"
     ]
    },
    {
     "name": "stderr",
     "output_type": "stream",
     "text": []
    },
    {
     "name": "stdout",
     "output_type": "stream",
     "text": [
      "Evaluator (Anonymeter - Inference): Now is Inference Evaluator\n",
      "Evaluator (Anonymeter - Inference): Evaluator time: 0.001 sec.\n",
      "Evaluator (Anonymeter): Evaluating  Inference.\n",
      "Evaluator (Anonymeter): Evaluating  Inference spent 1.2821 sec.\n",
      "Evaluator (Anonymeter - Inference): Now is Inference Evaluator\n",
      "Evaluator (Anonymeter - Inference): Evaluator time: 0.0 sec.\n",
      "Evaluator (Anonymeter): Evaluating  Inference.\n",
      "Evaluator (Anonymeter): Evaluating  Inference spent 1.2329 sec.\n",
      "Evaluator (Anonymeter - Inference): Now is Inference Evaluator\n",
      "Evaluator (Anonymeter - Inference): Evaluator time: 0.0 sec.\n",
      "Evaluator (Anonymeter): Evaluating  Inference.\n",
      "Evaluator (Anonymeter): Evaluating  Inference spent 1.077 sec.\n",
      "Evaluator (Anonymeter - Inference): Now is Inference Evaluator\n",
      "Evaluator (Anonymeter - Inference): Evaluator time: 0.0 sec.\n",
      "Evaluator (Anonymeter): Evaluating  Inference.\n",
      "Evaluator (Anonymeter): Evaluating  Inference spent 1.0709 sec.\n",
      "Evaluator (Anonymeter - Inference): Now is Inference Evaluator\n",
      "Evaluator (Anonymeter - Inference): Evaluator time: 0.0 sec.\n",
      "Evaluator (Anonymeter): Evaluating  Inference.\n",
      "Evaluator (Anonymeter): Evaluating  Inference spent 1.0631 sec.\n",
      "Evaluator (Anonymeter - Inference): Now is Inference Evaluator\n",
      "Evaluator (Anonymeter - Inference): Evaluator time: 0.0 sec.\n",
      "Evaluator (Anonymeter): Evaluating  Inference.\n",
      "Evaluator (Anonymeter): Evaluating  Inference spent 1.3215 sec.\n",
      "Evaluator (Anonymeter - Inference): Now is Inference Evaluator\n",
      "Evaluator (Anonymeter - Inference): Evaluator time: 0.0 sec.\n",
      "Evaluator (Anonymeter): Evaluating  Inference.\n",
      "Evaluator (Anonymeter): Evaluating  Inference spent 1.3364 sec.\n",
      "Evaluator (Anonymeter - Inference): Now is Inference Evaluator\n",
      "Evaluator (Anonymeter - Inference): Evaluator time: 0.0 sec.\n",
      "Evaluator (Anonymeter): Evaluating  Inference.\n",
      "Evaluator (Anonymeter): Evaluating  Inference spent 1.2538 sec.\n",
      "Evaluator (Anonymeter - Inference): Now is Inference Evaluator\n",
      "Evaluator (Anonymeter - Inference): Evaluator time: 0.0 sec.\n",
      "Evaluator (Anonymeter): Evaluating  Inference.\n",
      "Evaluator (Anonymeter): Evaluating  Inference spent 1.3477 sec.\n",
      "Evaluator (Anonymeter - Inference): Now is Inference Evaluator\n",
      "Evaluator (Anonymeter - Inference): Evaluator time: 0.0 sec.\n",
      "Evaluator (Anonymeter): Evaluating  Inference.\n",
      "Evaluator (Anonymeter): Evaluating  Inference spent 1.3771 sec.\n",
      "Evaluator (Anonymeter - Inference): Now is Inference Evaluator\n",
      "Evaluator (Anonymeter - Inference): Evaluator time: 0.0 sec.\n",
      "Evaluator (Anonymeter): Evaluating  Inference.\n",
      "Evaluator (Anonymeter): Evaluating  Inference spent 0.93 sec.\n",
      "Evaluator (Anonymeter - Inference): Now is Inference Evaluator\n",
      "Evaluator (Anonymeter - Inference): Evaluator time: 0.0 sec.\n",
      "Evaluator (Anonymeter): Evaluating  Inference.\n",
      "Evaluator (Anonymeter): Evaluating  Inference spent 1.0042 sec.\n",
      "Evaluator (Anonymeter - Inference): Now is Inference Evaluator\n",
      "Evaluator (Anonymeter - Inference): Evaluator time: 0.0 sec.\n",
      "Evaluator (Anonymeter): Evaluating  Inference.\n",
      "Evaluator (Anonymeter): Evaluating  Inference spent 1.2609 sec.\n",
      "Evaluator (Anonymeter - Inference): Now is Inference Evaluator\n",
      "Evaluator (Anonymeter - Inference): Evaluator time: 0.0 sec.\n",
      "Evaluator (Anonymeter): Evaluating  Inference.\n",
      "Evaluator (Anonymeter): Evaluating  Inference spent 1.2028 sec.\n",
      "Evaluator (Anonymeter - Inference): Now is Inference Evaluator\n",
      "Evaluator (Anonymeter - Inference): Evaluator time: 0.0 sec.\n",
      "Evaluator (Anonymeter): Evaluating  Inference.\n"
     ]
    },
    {
     "name": "stderr",
     "output_type": "stream",
     "text": [
      "\n",
      "\u001b[A"
     ]
    },
    {
     "name": "stdout",
     "output_type": "stream",
     "text": [
      "Evaluator (Anonymeter): Evaluating  Inference spent 1.3364 sec.\n",
      "Executor - Evaluator: anonymeter-inference at 1 trials evaluating time: 18.2062 sec.\n",
      "Evaluator (Anonymeter - Inference): Now is Inference Evaluator\n",
      "Evaluator (Anonymeter - Inference): Evaluator time: 0.001 sec.\n",
      "Evaluator (Anonymeter): Evaluating  Inference.\n",
      "Evaluator (Anonymeter): Evaluating  Inference spent 1.7514 sec.\n",
      "Evaluator (Anonymeter - Inference): Now is Inference Evaluator\n",
      "Evaluator (Anonymeter - Inference): Evaluator time: 0.0 sec.\n",
      "Evaluator (Anonymeter): Evaluating  Inference.\n",
      "Evaluator (Anonymeter): Evaluating  Inference spent 1.4574 sec.\n",
      "Evaluator (Anonymeter - Inference): Now is Inference Evaluator\n",
      "Evaluator (Anonymeter - Inference): Evaluator time: 0.001 sec.\n",
      "Evaluator (Anonymeter): Evaluating  Inference.\n",
      "Evaluator (Anonymeter): Evaluating  Inference spent 1.3427 sec.\n",
      "Evaluator (Anonymeter - Inference): Now is Inference Evaluator\n",
      "Evaluator (Anonymeter - Inference): Evaluator time: 0.0 sec.\n",
      "Evaluator (Anonymeter): Evaluating  Inference.\n",
      "Evaluator (Anonymeter): Evaluating  Inference spent 1.3072 sec.\n",
      "Evaluator (Anonymeter - Inference): Now is Inference Evaluator\n",
      "Evaluator (Anonymeter - Inference): Evaluator time: 0.0 sec.\n",
      "Evaluator (Anonymeter): Evaluating  Inference.\n",
      "Evaluator (Anonymeter): Evaluating  Inference spent 1.2028 sec.\n",
      "Evaluator (Anonymeter - Inference): Now is Inference Evaluator\n",
      "Evaluator (Anonymeter - Inference): Evaluator time: 0.0 sec.\n",
      "Evaluator (Anonymeter): Evaluating  Inference.\n",
      "Evaluator (Anonymeter): Evaluating  Inference spent 1.4821 sec.\n",
      "Evaluator (Anonymeter - Inference): Now is Inference Evaluator\n",
      "Evaluator (Anonymeter - Inference): Evaluator time: 0.0 sec.\n",
      "Evaluator (Anonymeter): Evaluating  Inference.\n",
      "Evaluator (Anonymeter): Evaluating  Inference spent 1.1234 sec.\n",
      "Evaluator (Anonymeter - Inference): Now is Inference Evaluator\n",
      "Evaluator (Anonymeter - Inference): Evaluator time: 0.0 sec.\n",
      "Evaluator (Anonymeter): Evaluating  Inference.\n",
      "Evaluator (Anonymeter): Evaluating  Inference spent 1.0433 sec.\n",
      "Evaluator (Anonymeter - Inference): Now is Inference Evaluator\n",
      "Evaluator (Anonymeter - Inference): Evaluator time: 0.001 sec.\n",
      "Evaluator (Anonymeter): Evaluating  Inference.\n",
      "Evaluator (Anonymeter): Evaluating  Inference spent 1.0294 sec.\n",
      "Evaluator (Anonymeter - Inference): Now is Inference Evaluator\n",
      "Evaluator (Anonymeter - Inference): Evaluator time: 0.0 sec.\n",
      "Evaluator (Anonymeter): Evaluating  Inference.\n",
      "Evaluator (Anonymeter): Evaluating  Inference spent 0.8487 sec.\n",
      "Evaluator (Anonymeter - Inference): Now is Inference Evaluator\n",
      "Evaluator (Anonymeter - Inference): Evaluator time: 0.0 sec.\n",
      "Evaluator (Anonymeter): Evaluating  Inference.\n",
      "Evaluator (Anonymeter): Evaluating  Inference spent 1.3297 sec.\n",
      "Evaluator (Anonymeter - Inference): Now is Inference Evaluator\n",
      "Evaluator (Anonymeter - Inference): Evaluator time: 0.0 sec.\n",
      "Evaluator (Anonymeter): Evaluating  Inference.\n",
      "Evaluator (Anonymeter): Evaluating  Inference spent 0.8857 sec.\n",
      "Evaluator (Anonymeter - Inference): Now is Inference Evaluator\n",
      "Evaluator (Anonymeter - Inference): Evaluator time: 0.0 sec.\n",
      "Evaluator (Anonymeter): Evaluating  Inference.\n",
      "Evaluator (Anonymeter): Evaluating  Inference spent 0.8156 sec.\n",
      "Evaluator (Anonymeter - Inference): Now is Inference Evaluator\n",
      "Evaluator (Anonymeter - Inference): Evaluator time: 0.0 sec.\n",
      "Evaluator (Anonymeter): Evaluating  Inference.\n",
      "Evaluator (Anonymeter): Evaluating  Inference spent 1.0904 sec.\n",
      "Evaluator (Anonymeter - Inference): Now is Inference Evaluator\n",
      "Evaluator (Anonymeter - Inference): Evaluator time: 0.0 sec.\n",
      "Evaluator (Anonymeter): Evaluating  Inference.\n"
     ]
    },
    {
     "name": "stderr",
     "output_type": "stream",
     "text": [
      "\n",
      "Evaluating: 100%|██████████| 4/4 [01:32<00:00, 23.11s/it]\n",
      "Postprocessing: 100%|██████████| 2/2 [01:32<00:00, 46.21s/it]\n",
      "Synthesizing: 100%|██████████| 2/2 [01:32<00:00, 46.22s/it]"
     ]
    },
    {
     "name": "stdout",
     "output_type": "stream",
     "text": [
      "Evaluator (Anonymeter): Evaluating  Inference spent 0.9761 sec.\n",
      "Executor - Evaluator: anonymeter-inference at 2 trials evaluating time: 17.7892 sec.\n",
      "====== ====== ====== ====== ====== ======\n",
      "Executor (run): Total execution time: 107.3642 sec.\n",
      "====== ====== ====== ====== ====== ======\n"
     ]
    },
    {
     "name": "stderr",
     "output_type": "stream",
     "text": [
      "\n"
     ]
    },
    {
     "data": {
      "text/plain": [
       "{'Risk': 0.0022375332675201006,\n",
       " 'Risk_CI_btm': 0.0,\n",
       " 'Risk_CI_top': 0.046174667591818215,\n",
       " 'Attack_Rate': 0.11495824409908227,\n",
       " 'Attack_Rate_err': 0.027695443904980018,\n",
       " 'Baseline_Rate': 0.07724796903662126,\n",
       " 'Baseline_Rate_err': 0.023086784285609292,\n",
       " 'Control_Rate': 0.11297349278000537,\n",
       " 'Control_Rate_err': 0.027482077623402282}"
      ]
     },
     "execution_count": 1,
     "metadata": {},
     "output_type": "execute_result"
    }
   ],
   "source": [
    "import os\n",
    "import sys\n",
    "\n",
    "sys.path.append('D:\\\\Dropbox\\\\89_其他應用\\\\GitHub\\\\PETs-Experiment')\n",
    "os.chdir('D:\\\\Dropbox\\\\89_其他應用\\\\GitHub\\\\PETs-Experiment\\\\demo')\n",
    "\n",
    "import PETs_Experiment\n",
    "\n",
    "\n",
    "para_Executor = {\n",
    "     'Loader_filepath'  : '../[sunset]/data/[Adt Income] adult.csv'\n",
    "    ,'Loader_na_values' : {k : '?' for k in ['workclass' ,'occupation' ,'native-country']}\n",
    "    ,'Splitter_num_samples'       : 2\n",
    "    ,'Splitter_train_split_ratio' : 0.8\n",
    "    ,'Preprocessor_missing_method'  : 'drop'\n",
    "    ,'Preprocessor_outlier_method'  : 'IQR'\n",
    "    ,'Preprocessor_outlier_columns' : {'ignore': ['hours-per-week']}\n",
    "    ,'Preprocessor_encoding_method' : 'Label'\n",
    "    ,'Preprocessor_scaling'         : True\n",
    "    ,'Preprocessor_scaling_method'  : 'Standard'\n",
    "    ,'Preprocessor_scaling_columns' : {'focus' : 'fnlwgt'}\n",
    "    ,'Synthesizer_synthesizing_method' : 'sdv-singletable-gaussiancoupula'\n",
    "    ,'Evaluator_evaluating_method'    : 'anonymeter-inference'\n",
    "    ,'Evaluator_anonymeter_n_attacks' : 1 # 2000\n",
    "    ,'Evaluator_num_samples'          : 2\n",
    "}\n",
    "\n",
    "executor_single = PETs_Experiment.Executor(**para_Executor)\n",
    "executor_single.run_single_process()\n",
    "next(iter(\n",
    "    executor_single.evaluator[('[Adt Income] adult.csv',\n",
    "        '0.8',\n",
    "        1,\n",
    "        'drop-IQR-Label-Standard',\n",
    "        'sdv-singletable-gaussiancoupula',\n",
    "        'anonymeter-inference',\n",
    "        1)].values())).Evaluator.evaluation\n",
    "\n",
    "executor_single = PETs_Experiment.Executor(**para_Executor)\n",
    "executor_single.run()\n",
    "next(iter(\n",
    "    executor_single.evaluator[('[Adt Income] adult.csv',\n",
    "        '0.8',\n",
    "        1,\n",
    "        'drop-IQR-Label-Standard',\n",
    "        'sdv-singletable-gaussiancoupula',\n",
    "        'anonymeter-inference',\n",
    "        1)].values())).Evaluator.evaluation"
   ]
  },
  {
   "cell_type": "code",
   "execution_count": 19,
   "metadata": {},
   "outputs": [
    {
     "name": "stdout",
     "output_type": "stream",
     "text": [
      "Evaluator (Anonymeter - SinglingOut - Univariate): Now is SinglingOut - Univariate Evaluator\n",
      "Evaluator (Anonymeter - SinglingOut - Univariate): Evaluator time: 0.0549 sec.\n",
      "Evaluator (Anonymeter): Evaluating  SinglingOut - Univariate.\n"
     ]
    },
    {
     "name": "stderr",
     "output_type": "stream",
     "text": [
      "Found 203 failed queries out of 500. Check DEBUG messages for more details.\n"
     ]
    },
    {
     "name": "stdout",
     "output_type": "stream",
     "text": [
      "{'Risk': 0.0, 'Risk_CI_btm': 0.0, 'Risk_CI_top': 0.005411853750198381, 'Attack_Rate': 0.0038121702307761206, 'Attack_Rate_err': 0.00381217023077612, 'Baseline_Rate': 0.0038121702307761206, 'Baseline_Rate_err': 0.00381217023077612, 'Control_Rate': 0.0038121702307761206, 'Control_Rate_err': 0.00381217023077612}\n",
      "Evaluator (Anonymeter - SinglingOut - Univariate): Now is SinglingOut - Univariate Evaluator\n",
      "Evaluator (Anonymeter - SinglingOut - Univariate): Evaluator time: 0.062 sec.\n",
      "Evaluator (Anonymeter): Evaluating  SinglingOut - Univariate.\n"
     ]
    },
    {
     "name": "stderr",
     "output_type": "stream",
     "text": [
      "Found 189 failed queries out of 500. Check DEBUG messages for more details.\n"
     ]
    },
    {
     "name": "stdout",
     "output_type": "stream",
     "text": [
      "{'Risk': 0.0, 'Risk_CI_btm': 0.0, 'Risk_CI_top': 0.005411853750198381, 'Attack_Rate': 0.0038121702307761206, 'Attack_Rate_err': 0.00381217023077612, 'Baseline_Rate': 0.0038121702307761206, 'Baseline_Rate_err': 0.00381217023077612, 'Control_Rate': 0.0038121702307761206, 'Control_Rate_err': 0.00381217023077612}\n",
      "Evaluator (Anonymeter - SinglingOut - Univariate): Now is SinglingOut - Univariate Evaluator\n",
      "Evaluator (Anonymeter - SinglingOut - Univariate): Evaluator time: 0.0649 sec.\n",
      "Evaluator (Anonymeter): Evaluating  SinglingOut - Univariate.\n"
     ]
    },
    {
     "name": "stderr",
     "output_type": "stream",
     "text": [
      "Found 210 failed queries out of 500. Check DEBUG messages for more details.\n"
     ]
    },
    {
     "name": "stdout",
     "output_type": "stream",
     "text": [
      "{'Risk': 0.0, 'Risk_CI_btm': 0.0, 'Risk_CI_top': 0.005411853750198381, 'Attack_Rate': 0.0038121702307761206, 'Attack_Rate_err': 0.00381217023077612, 'Baseline_Rate': 0.0038121702307761206, 'Baseline_Rate_err': 0.00381217023077612, 'Control_Rate': 0.0038121702307761206, 'Control_Rate_err': 0.00381217023077612}\n"
     ]
    }
   ],
   "source": [
    "import pandas as pd\n",
    "for i in ['01','02','03']: # ,'04','05','06'\n",
    "    eval = PETs_Experiment.Evaluator(evaluating_method = 'anonymeter-singlingout-univariate'\n",
    "                                    ,data = {'ori'     : pd.read_csv(f\"PETsARD[20231224-085805]_Trial[{i}][Ori].csv\")\n",
    "                                            ,'syn'     : pd.read_csv(f\"PETsARD[20231224-085805]_Trial[{i}-1-1]Postproc.csv\")\n",
    "                                            ,'control' : pd.read_csv(f\"PETsARD[20231224-085805]_Trial[{i}][Ctrl].csv\")\n",
    "                                    }\n",
    "                                    ,anonymeter_n_attacks = 500\n",
    "                                    )\n",
    "    eval.eval()\n",
    "    print(eval.Evaluator.evaluation)"
   ]
  },
  {
   "cell_type": "code",
   "execution_count": 4,
   "metadata": {},
   "outputs": [
    {
     "name": "stdout",
     "output_type": "stream",
     "text": [
      "PETsARD[20231224-085805]_Trial[01][Ori].csv\n"
     ]
    },
    {
     "name": "stderr",
     "output_type": "stream",
     "text": [
      "c:\\Program Files\\Python310\\lib\\site-packages\\anonymeter\\evaluators\\singling_out_evaluator.py:97: FutureWarning: is_categorical_dtype is deprecated and will be removed in a future version. Use isinstance(dtype, CategoricalDtype) instead\n",
      "  elif is_categorical_dtype(values):\n",
      "Found 813 failed queries out of 2000. Check DEBUG messages for more details.\n",
      "c:\\Program Files\\Python310\\lib\\site-packages\\anonymeter\\stats\\confidence.py:215: UserWarning: Attack is as good or worse as baseline model. Estimated rates: attack = 0.0009585236406264672, baseline = 0.0009585236406264672. Analysis results cannot be trusted.\n",
      "  self._sanity_check()\n"
     ]
    },
    {
     "name": "stdout",
     "output_type": "stream",
     "text": [
      "{'Risk': 0.0, 'Risk_CI_btm': 0.0, 'Risk_CI_top': 0.0013568577126237004, 'Attack_Rate': 0.0009585236406264672, 'Attack_Rate_err': 0.0009585236406264671, 'Baseline_Rate': 0.0009585236406264672, 'Baseline_Rate_err': 0.0009585236406264671, 'Control_Rate': 0.0009585236406264672, 'Control_Rate_err': 0.0009585236406264671}\n",
      "PETsARD[20231224-085805]_Trial[02][Ori].csv\n"
     ]
    },
    {
     "name": "stderr",
     "output_type": "stream",
     "text": [
      "c:\\Program Files\\Python310\\lib\\site-packages\\anonymeter\\evaluators\\singling_out_evaluator.py:97: FutureWarning: is_categorical_dtype is deprecated and will be removed in a future version. Use isinstance(dtype, CategoricalDtype) instead\n",
      "  elif is_categorical_dtype(values):\n",
      "Found 772 failed queries out of 2000. Check DEBUG messages for more details.\n",
      "c:\\Program Files\\Python310\\lib\\site-packages\\anonymeter\\stats\\confidence.py:215: UserWarning: Attack is as good or worse as baseline model. Estimated rates: attack = 0.0009585236406264672, baseline = 0.0009585236406264672. Analysis results cannot be trusted.\n",
      "  self._sanity_check()\n"
     ]
    },
    {
     "name": "stdout",
     "output_type": "stream",
     "text": [
      "{'Risk': 0.0, 'Risk_CI_btm': 0.0, 'Risk_CI_top': 0.0013568577126237004, 'Attack_Rate': 0.0009585236406264672, 'Attack_Rate_err': 0.0009585236406264671, 'Baseline_Rate': 0.0009585236406264672, 'Baseline_Rate_err': 0.0009585236406264671, 'Control_Rate': 0.0009585236406264672, 'Control_Rate_err': 0.0009585236406264671}\n",
      "PETsARD[20231224-085805]_Trial[03][Ori].csv\n"
     ]
    },
    {
     "name": "stderr",
     "output_type": "stream",
     "text": [
      "c:\\Program Files\\Python310\\lib\\site-packages\\anonymeter\\evaluators\\singling_out_evaluator.py:97: FutureWarning: is_categorical_dtype is deprecated and will be removed in a future version. Use isinstance(dtype, CategoricalDtype) instead\n",
      "  elif is_categorical_dtype(values):\n",
      "Found 789 failed queries out of 2000. Check DEBUG messages for more details.\n"
     ]
    },
    {
     "name": "stdout",
     "output_type": "stream",
     "text": [
      "{'Risk': 0.0, 'Risk_CI_btm': 0.0, 'Risk_CI_top': 0.0013568577126237004, 'Attack_Rate': 0.0009585236406264672, 'Attack_Rate_err': 0.0009585236406264671, 'Baseline_Rate': 0.0009585236406264672, 'Baseline_Rate_err': 0.0009585236406264671, 'Control_Rate': 0.0009585236406264672, 'Control_Rate_err': 0.0009585236406264671}\n"
     ]
    },
    {
     "name": "stderr",
     "output_type": "stream",
     "text": [
      "c:\\Program Files\\Python310\\lib\\site-packages\\anonymeter\\stats\\confidence.py:215: UserWarning: Attack is as good or worse as baseline model. Estimated rates: attack = 0.0009585236406264672, baseline = 0.0009585236406264672. Analysis results cannot be trusted.\n",
      "  self._sanity_check()\n"
     ]
    }
   ],
   "source": [
    "def Result(__evaluator): \n",
    "    import numpy as np\n",
    "    __dict_result    = {}\n",
    "    __para_to_handle = [('Risk'              , ['risk()'    ,'value'                 ])\n",
    "                        ,('Risk_CI_btm'       , ['risk()'    ,'ci[0]'                 ])\n",
    "                        ,('Risk_CI_top'       , ['risk()'    ,'ci[1]'                 ])\n",
    "                        ,('Attack_Rate'       , ['results()' ,'attack_rate'   ,'value'])\n",
    "                        ,('Attack_Rate_err'   , ['results()' ,'attack_rate'   ,'error'])\n",
    "                        ,('Baseline_Rate'     , ['results()' ,'baseline_rate' ,'value'])\n",
    "                        ,('Baseline_Rate_err' , ['results()' ,'baseline_rate' ,'error'])\n",
    "                        ,('Control_Rate'      , ['results()' ,'control_rate'  ,'value'])\n",
    "                        ,('Control_Rate_err'  , ['results()' ,'control_rate'  ,'error'])\n",
    "                        ]\n",
    "    for __key ,__attrs in __para_to_handle:\n",
    "        try:\n",
    "            __attr_value = __evaluator\n",
    "            for __attr in __attrs:\n",
    "                if '()' in __attr:\n",
    "                    __method_name = __attr.split('(')[0]\n",
    "                    if hasattr(__attr_value ,__method_name):\n",
    "                        __method = getattr(__attr_value ,__method_name)\n",
    "                        if callable(__method):\n",
    "                            __attr_value = __method()\n",
    "                        else:\n",
    "                            __dict_result[__key] = np.nan\n",
    "                            break\n",
    "                    else:\n",
    "                        __dict_result[__key] = np.nan\n",
    "                        break\n",
    "                elif '[' in __attr:\n",
    "                    __attr_name = __attr.split('[')[0]\n",
    "                    __index = int(__attr.split('[')[1].rstrip(']'))\n",
    "                    if hasattr(__attr_value, __attr_name)\\\n",
    "                    and isinstance(getattr(__attr_value, __attr_name) ,(list, dict, tuple)):\n",
    "                        try:\n",
    "                            __attr_value = getattr(__attr_value  ,__attr_name)[__index]\n",
    "                        except (IndexError, KeyError):\n",
    "                            __dict_result[__key] = np.nan\n",
    "                            break\n",
    "                    else:\n",
    "                        __dict_result[__key] = np.nan\n",
    "                        break\n",
    "                else:\n",
    "                    __attr_value = getattr(__attr_value, __attr)\n",
    "            __dict_result[__key] = __attr_value\n",
    "        except Exception as e:\n",
    "            __dict_result[__key] = np.nan\n",
    "    return __dict_result\n",
    "\n",
    "\n",
    "\n",
    "import pandas as pd\n",
    "for i in ['01','02','03']: # ,'04','05','06'\n",
    "    from anonymeter.evaluators import SinglingOutEvaluator\n",
    "    print(f\"PETsARD[20231224-085805]_Trial[{i}][Ori].csv\")\n",
    "    evaluator = SinglingOutEvaluator(ori       = pd.read_csv(f\"PETsARD[20231224-085805]_Trial[{i}][Ori].csv\")\n",
    "                                    ,syn       = pd.read_csv(f\"PETsARD[20231224-085805]_Trial[{i}-1-1]Postproc.csv\")\n",
    "                                    ,control   = pd.read_csv(f\"PETsARD[20231224-085805]_Trial[{i}][Ctrl].csv\")\n",
    "                                    ,n_attacks = 2000\n",
    "                                    )\n",
    "    try:\n",
    "        evaluator.evaluate(mode='univariate')\n",
    "        print(Result(evaluator))\n",
    "    except RuntimeError as ex:\n",
    "        print(f\"Singling out evaluation failed with {ex}.\"\n",
    "                \"Please re-run this cell.\"\n",
    "                \"For more stable results increase `n_attacks`. Note that this will \"\n",
    "                \"make the evaluation slower.\")"
   ]
  },
  {
   "cell_type": "code",
   "execution_count": null,
   "metadata": {},
   "outputs": [],
   "source": [
    "import pandas as pd\n",
    "for i in ['01','02','03']: # ,'04','05','06'\n",
    "    eval = PETs_Experiment.Evaluator(evaluating_method = 'anonymeter-singlingout-univariate'\n",
    "                                    ,data = {'ori'     : pd.read_csv(f\"PETsARD[20231224-085805]_Trial[{i}][Ori].csv\")\n",
    "                                            ,'syn'     : pd.read_csv(f\"PETsARD[20231224-085805]_Trial[{i}-1-1]Postproc.csv\")\n",
    "                                            ,'control' : pd.read_csv(f\"PETsARD[20231224-085805]_Trial[{i}][Ctrl].csv\")\n",
    "                                    }\n",
    "                                    ,anonymeter_n_attacks = 500\n",
    "                                    )\n",
    "    eval.eval()\n",
    "    print(eval.Evaluator.evaluation)"
   ]
  },
  {
   "cell_type": "code",
   "execution_count": 18,
   "metadata": {},
   "outputs": [
    {
     "name": "stdout",
     "output_type": "stream",
     "text": [
      "][Ori]: ('01', '02')\n",
      "They're different.\n",
      "][Ori]: ('01', '03')\n",
      "They're different.\n",
      "][Ori]: ('01', '04')\n",
      "They're different.\n",
      "][Ori]: ('01', '05')\n",
      "They're different.\n",
      "][Ori]: ('01', '06')\n",
      "They're different.\n",
      "][Ori]: ('02', '03')\n",
      "They're different.\n",
      "][Ori]: ('02', '04')\n",
      "They're different.\n",
      "][Ori]: ('02', '05')\n",
      "They're different.\n",
      "][Ori]: ('02', '06')\n",
      "They're different.\n",
      "][Ori]: ('03', '04')\n",
      "They're different.\n",
      "][Ori]: ('03', '05')\n",
      "They're different.\n",
      "][Ori]: ('03', '06')\n",
      "They're different.\n",
      "][Ori]: ('04', '05')\n",
      "They're different.\n",
      "][Ori]: ('04', '06')\n",
      "They're different.\n",
      "][Ori]: ('05', '06')\n",
      "They're different.\n",
      "][Ctrl]: ('01', '02')\n",
      "They're different.\n",
      "][Ctrl]: ('01', '03')\n",
      "They're different.\n",
      "][Ctrl]: ('01', '04')\n",
      "They're different.\n",
      "][Ctrl]: ('01', '05')\n",
      "They're different.\n",
      "][Ctrl]: ('01', '06')\n",
      "They're different.\n",
      "][Ctrl]: ('02', '03')\n",
      "They're different.\n",
      "][Ctrl]: ('02', '04')\n",
      "They're different.\n",
      "][Ctrl]: ('02', '05')\n",
      "They're different.\n",
      "][Ctrl]: ('02', '06')\n",
      "They're different.\n",
      "][Ctrl]: ('03', '04')\n",
      "They're different.\n",
      "][Ctrl]: ('03', '05')\n",
      "They're different.\n",
      "][Ctrl]: ('03', '06')\n",
      "They're different.\n",
      "][Ctrl]: ('04', '05')\n",
      "They're different.\n",
      "][Ctrl]: ('04', '06')\n",
      "They're different.\n",
      "][Ctrl]: ('05', '06')\n",
      "They're different.\n",
      "-1-1]Postproc: ('01', '02')\n",
      "They're different.\n",
      "-1-1]Postproc: ('01', '03')\n",
      "They're different.\n",
      "-1-1]Postproc: ('01', '04')\n",
      "They're different.\n",
      "-1-1]Postproc: ('01', '05')\n",
      "They're different.\n",
      "-1-1]Postproc: ('01', '06')\n",
      "They're different.\n",
      "-1-1]Postproc: ('02', '03')\n",
      "They're different.\n",
      "-1-1]Postproc: ('02', '04')\n",
      "They're different.\n",
      "-1-1]Postproc: ('02', '05')\n",
      "They're different.\n",
      "-1-1]Postproc: ('02', '06')\n",
      "They're different.\n",
      "-1-1]Postproc: ('03', '04')\n",
      "They're different.\n",
      "-1-1]Postproc: ('03', '05')\n",
      "They're different.\n",
      "-1-1]Postproc: ('03', '06')\n",
      "They're different.\n",
      "-1-1]Postproc: ('04', '05')\n",
      "They're different.\n",
      "-1-1]Postproc: ('04', '06')\n",
      "They're different.\n",
      "-1-1]Postproc: ('05', '06')\n",
      "They're different.\n",
      "done.\n"
     ]
    }
   ],
   "source": [
    "import itertools\n",
    "for type in ['][Ori]' ,'][Ctrl]' ,'-1-1]Postproc']:\n",
    "    for combo in itertools.combinations(['01','02','03','04','05','06'], 2):\n",
    "        df_a = pd.read_csv(f\"PETsARD[20231224-085805]_Trial[{combo[0]}{type}.csv\")\n",
    "        df_b = pd.read_csv(f\"PETsARD[20231224-085805]_Trial[{combo[1]}{type}.csv\")\n",
    "        if df_a.equals(df_b):\n",
    "            print(type+': '+str(combo))\n",
    "            print(\"They're same!!??\")\n",
    "        # else:\n",
    "            # print(type+': '+str(combo))\n",
    "            # print(\"They're different.\")\n",
    "print('done.')"
   ]
  },
  {
   "cell_type": "code",
   "execution_count": null,
   "metadata": {},
   "outputs": [],
   "source": []
  },
  {
   "cell_type": "code",
   "execution_count": 1,
   "metadata": {},
   "outputs": [
    {
     "name": "stderr",
     "output_type": "stream",
     "text": [
      "Loading:   0%|          | 0/2 [00:00<?, ?it/s]\n",
      "Loading: 100%|██████████| 2/2 [00:19<00:00,  9.15s/it]\n",
      "\u001b[A\n",
      "\u001b[A\n",
      "\u001b[A\n",
      "\u001b[A\n",
      "\u001b[A\n",
      "\u001b[A\n",
      "\u001b[A\n",
      "\u001b[A\n",
      "\u001b[A\n",
      "\u001b[A\n",
      "\u001b[A\n",
      "\u001b[A\n",
      "\u001b[A\n",
      "\u001b[A\n",
      "\u001b[A\n",
      "Preprocessing: 100%|██████████| 16/16 [00:27<00:00,  1.70s/it]\n",
      "Splitting: 100%|██████████| 4/4 [00:27<00:00,  6.80s/it]\n",
      "Loading: 100%|██████████| 2/2 [00:27<00:00, 13.61s/it]\n",
      "Synthesizing:   0%|          | 0/32 [00:00<?, ?it/s]\n",
      "\u001b[A"
     ]
    },
    {
     "name": "stdout",
     "output_type": "stream",
     "text": [
      "Synthesizer (SDV - SingleTable): Metafile loading time: 0.012 sec.\n",
      "Synthesizer (SDV - SingleTable): Fitting  GaussianCoupula.\n",
      "Synthesizer (SDV - SingleTable): Metafile loading time: 0.019 sec.\n",
      "Synthesizer (SDV - SingleTable): Fitting  CoupulaGAN.\n",
      "Synthesizer (SDV - SingleTable): Metafile loading time: 0.0336 sec.\n",
      "Synthesizer (SDV - SingleTable): Fitting  GaussianCoupula.\n",
      "Synthesizer (SDV - SingleTable): Metafile loading time: 0.011 sec.\n",
      "Synthesizer (SDV - SingleTable): Fitting  CoupulaGAN.\n",
      "Synthesizer (SDV - SingleTable): Metafile loading time: 0.011 sec.\n",
      "Synthesizer (SDV - SingleTable): Fitting  GaussianCoupula.\n",
      "Synthesizer (SDV - SingleTable): Metafile loading time: 0.1526 sec.\n",
      "Synthesizer (SDV - SingleTable): Fitting  CoupulaGAN.\n",
      "Synthesizer (SDV - SingleTable): Metafile loading time: 0.1961 sec.\n",
      "Synthesizer (SDV - SingleTable): Fitting  GaussianCoupula.\n",
      "Synthesizer (SDV - SingleTable): Metafile loading time: 0.1976 sec.\n",
      "Synthesizer (SDV - SingleTable): Fitting  GaussianCoupula.\n"
     ]
    },
    {
     "name": "stderr",
     "output_type": "stream",
     "text": [
      "c:\\Program Files\\Python310\\lib\\site-packages\\rdt\\transformers\\numerical.py:112: UserWarning: No rounding scheme detected for column 'age'. Data will not be rounded.\n",
      "  warnings.warn(\n",
      "c:\\Program Files\\Python310\\lib\\site-packages\\rdt\\transformers\\numerical.py:112: UserWarning: No rounding scheme detected for column 'age'. Data will not be rounded.\n",
      "  warnings.warn(\n",
      "c:\\Program Files\\Python310\\lib\\site-packages\\rdt\\transformers\\numerical.py:112: UserWarning: No rounding scheme detected for column 'age'. Data will not be rounded.\n",
      "  warnings.warn(\n",
      "c:\\Program Files\\Python310\\lib\\site-packages\\rdt\\transformers\\numerical.py:112: UserWarning: No rounding scheme detected for column 'mar'. Data will not be rounded.\n",
      "  warnings.warn(\n",
      "c:\\Program Files\\Python310\\lib\\site-packages\\rdt\\transformers\\numerical.py:112: UserWarning: No rounding scheme detected for column 'age'. Data will not be rounded.\n",
      "  warnings.warn(\n",
      "c:\\Program Files\\Python310\\lib\\site-packages\\rdt\\transformers\\numerical.py:112: UserWarning: No rounding scheme detected for column 'mar'. Data will not be rounded.\n",
      "  warnings.warn(\n",
      "c:\\Program Files\\Python310\\lib\\site-packages\\rdt\\transformers\\numerical.py:112: UserWarning: No rounding scheme detected for column 'bmi'. Data will not be rounded.\n",
      "  warnings.warn(\n",
      "c:\\Program Files\\Python310\\lib\\site-packages\\rdt\\transformers\\numerical.py:112: UserWarning: No rounding scheme detected for column 'mar'. Data will not be rounded.\n",
      "  warnings.warn(\n",
      "c:\\Program Files\\Python310\\lib\\site-packages\\rdt\\transformers\\numerical.py:112: UserWarning: No rounding scheme detected for column 'bmi'. Data will not be rounded.\n",
      "  warnings.warn(\n",
      "c:\\Program Files\\Python310\\lib\\site-packages\\rdt\\transformers\\numerical.py:112: UserWarning: No rounding scheme detected for column 'qm'. Data will not be rounded.\n",
      "  warnings.warn(\n",
      "c:\\Program Files\\Python310\\lib\\site-packages\\rdt\\transformers\\numerical.py:112: UserWarning: No rounding scheme detected for column 'bmi'. Data will not be rounded.\n",
      "  warnings.warn(\n",
      "c:\\Program Files\\Python310\\lib\\site-packages\\rdt\\transformers\\numerical.py:112: UserWarning: No rounding scheme detected for column 'age'. Data will not be rounded.\n",
      "  warnings.warn(\n",
      "c:\\Program Files\\Python310\\lib\\site-packages\\rdt\\transformers\\numerical.py:112: UserWarning: No rounding scheme detected for column 'mar'. Data will not be rounded.\n",
      "  warnings.warn(\n"
     ]
    },
    {
     "name": "stdout",
     "output_type": "stream",
     "text": [
      "Synthesizer (SDV - SingleTable): Metafile loading time: 0.0288 sec.\n",
      "Synthesizer (SDV - SingleTable): Fitting  GaussianCoupula.\n",
      "Synthesizer (SDV - SingleTable): Metafile loading time: 0.0669 sec.\n",
      "Synthesizer (SDV - SingleTable): Fitting  CoupulaGAN.\n",
      "Synthesizer (SDV - SingleTable): Metafile loading time: 0.0843 sec.\n",
      "Synthesizer (SDV - SingleTable): Fitting  CoupulaGAN.\n",
      "Synthesizer (SDV - SingleTable): Metafile loading time: 0.2427 sec.\n",
      "Synthesizer (SDV - SingleTable): Fitting  CoupulaGAN.\n"
     ]
    },
    {
     "name": "stderr",
     "output_type": "stream",
     "text": [
      "c:\\Program Files\\Python310\\lib\\site-packages\\rdt\\transformers\\numerical.py:112: UserWarning: No rounding scheme detected for column 'age'. Data will not be rounded.\n",
      "  warnings.warn(\n",
      "c:\\Program Files\\Python310\\lib\\site-packages\\rdt\\transformers\\numerical.py:112: UserWarning: No rounding scheme detected for column 'age'. Data will not be rounded.\n",
      "  warnings.warn(\n",
      "c:\\Program Files\\Python310\\lib\\site-packages\\rdt\\transformers\\numerical.py:112: UserWarning: No rounding scheme detected for column 'age'. Data will not be rounded.\n",
      "  warnings.warn(\n",
      "c:\\Program Files\\Python310\\lib\\site-packages\\rdt\\transformers\\numerical.py:112: UserWarning: No rounding scheme detected for column 'age'. Data will not be rounded.\n",
      "  warnings.warn(\n",
      "c:\\Program Files\\Python310\\lib\\site-packages\\rdt\\transformers\\numerical.py:112: UserWarning: No rounding scheme detected for column 'age'. Data will not be rounded.\n",
      "  warnings.warn(\n",
      "c:\\Program Files\\Python310\\lib\\site-packages\\rdt\\transformers\\numerical.py:112: UserWarning: No rounding scheme detected for column 'mar'. Data will not be rounded.\n",
      "  warnings.warn(\n",
      "c:\\Program Files\\Python310\\lib\\site-packages\\rdt\\transformers\\numerical.py:112: UserWarning: No rounding scheme detected for column 'age'. Data will not be rounded.\n",
      "  warnings.warn(\n",
      "c:\\Program Files\\Python310\\lib\\site-packages\\rdt\\transformers\\numerical.py:112: UserWarning: No rounding scheme detected for column 'mar'. Data will not be rounded.\n",
      "  warnings.warn(\n",
      "c:\\Program Files\\Python310\\lib\\site-packages\\rdt\\transformers\\numerical.py:112: UserWarning: No rounding scheme detected for column 'bmi'. Data will not be rounded.\n",
      "  warnings.warn(\n",
      "c:\\Program Files\\Python310\\lib\\site-packages\\rdt\\transformers\\numerical.py:112: UserWarning: No rounding scheme detected for column 'qm'. Data will not be rounded.\n",
      "  warnings.warn(\n",
      "c:\\Program Files\\Python310\\lib\\site-packages\\rdt\\transformers\\numerical.py:112: UserWarning: No rounding scheme detected for column 'mar'. Data will not be rounded.\n",
      "  warnings.warn(\n",
      "c:\\Program Files\\Python310\\lib\\site-packages\\rdt\\transformers\\numerical.py:112: UserWarning: No rounding scheme detected for column 'bmi'. Data will not be rounded.\n",
      "  warnings.warn(\n",
      "c:\\Program Files\\Python310\\lib\\site-packages\\rdt\\transformers\\numerical.py:112: UserWarning: No rounding scheme detected for column 'bmi'. Data will not be rounded.\n",
      "  warnings.warn(\n",
      "c:\\Program Files\\Python310\\lib\\site-packages\\rdt\\transformers\\numerical.py:112: UserWarning: No rounding scheme detected for column 'bmi'. Data will not be rounded.\n",
      "  warnings.warn(\n",
      "c:\\Program Files\\Python310\\lib\\site-packages\\rdt\\transformers\\numerical.py:112: UserWarning: No rounding scheme detected for column 'mar'. Data will not be rounded.\n",
      "  warnings.warn(\n"
     ]
    },
    {
     "name": "stdout",
     "output_type": "stream",
     "text": [
      "Synthesizer (SDV - SingleTable): Fitting  GaussianCoupula spent 10.0239 sec.\n",
      "Synthesizer (SDV - SingleTable): Fitting  GaussianCoupula spent 10.3659 sec.\n",
      "Synthesizer (SDV - SingleTable): Fitting  GaussianCoupula spent 10.5791 sec.\n",
      "Synthesizer (SDV - SingleTable): Fitting  GaussianCoupula spent 11.1593 sec.\n",
      "Synthesizer (SDV - SingleTable): Fitting  GaussianCoupula spent 11.2124 sec.\n",
      "Synthesizer (SDV - SingleTable): Sampling GaussianCoupula # 103 rows (same as raw) in 1.4053 sec.\n",
      "Executor - Synthesizer: GaussianCoupula synthesizing time: 18.0615 sec.\n",
      "Synthesizer (SDV - SingleTable): Metafile loading time: 0.0141 sec.\n",
      "Synthesizer (SDV - SingleTable): Fitting  GaussianCoupula.\n",
      "Synthesizer (SDV - SingleTable): Fitting  GaussianCoupula spent 12.6544 sec.\n",
      "Synthesizer (SDV - SingleTable): Sampling GaussianCoupula # 103 rows (same as raw) in 1.6235 sec.\n",
      "Executor - Synthesizer: GaussianCoupula synthesizing time: 19.2158 sec.\n",
      "Synthesizer (SDV - SingleTable): Metafile loading time: 0.064 sec.\n",
      "Synthesizer (SDV - SingleTable): Fitting  CoupulaGAN.\n",
      "Synthesizer (SDV - SingleTable): Sampling GaussianCoupula # 103 rows (same as raw) in 0.4323 sec.\n",
      "Synthesizer (SDV - SingleTable): Metafile loading time: 0.008 sec.\n",
      "Synthesizer (SDV - SingleTable): Fitting  GaussianCoupula.\n",
      "Synthesizer (SDV - SingleTable): Sampling GaussianCoupula # 103 rows (same as raw) in 2.748 sec.\n",
      "Executor - Synthesizer: GaussianCoupula synthesizing time: 20.5109 sec.\n",
      "Synthesizer (SDV - SingleTable): Metafile loading time: 0.024 sec.\n",
      "Synthesizer (SDV - SingleTable): Fitting  CoupulaGAN.\n",
      "Synthesizer (SDV - SingleTable): Sampling GaussianCoupula # 103 rows (same as raw) in 4.7591 sec.\n",
      "Executor - Synthesizer: GaussianCoupula synthesizing time: 21.8251 sec.\n",
      "Synthesizer (SDV - SingleTable): Metafile loading time: 0.024 sec.\n",
      "Synthesizer (SDV - SingleTable): Fitting  GaussianCoupula.\n",
      "Synthesizer (SDV - SingleTable): Sampling GaussianCoupula # 103 rows (same as raw) in 6.0396 sec.\n",
      "Executor - Synthesizer: GaussianCoupula synthesizing time: 23.0001 sec.\n",
      "Synthesizer (SDV - SingleTable): Metafile loading time: 0.016 sec.\n",
      "Synthesizer (SDV - SingleTable): Fitting  CoupulaGAN.\n",
      "Synthesizer (SDV - SingleTable): Fitting  GaussianCoupula spent 9.5072 sec.\n"
     ]
    },
    {
     "name": "stderr",
     "output_type": "stream",
     "text": [
      "c:\\Program Files\\Python310\\lib\\site-packages\\scipy\\stats\\_continuous_distns.py:719: RuntimeWarning: invalid value encountered in sqrt\n",
      "  sk = 2*(b-a)*np.sqrt(a + b + 1) / (a + b + 2) / np.sqrt(a*b)\n"
     ]
    },
    {
     "name": "stdout",
     "output_type": "stream",
     "text": [
      "Synthesizer (SDV - SingleTable): Sampling GaussianCoupula # 103 rows (same as raw) in 0.3844 sec.\n",
      "Executor - Synthesizer: GaussianCoupula synthesizing time: 9.9237 sec.\n",
      "Synthesizer (SDV - SingleTable): Metafile loading time: 0.0562 sec.\n",
      "Synthesizer (SDV - SingleTable): Fitting  GaussianCoupula.\n",
      "Synthesizer (SDV - SingleTable): Fitting  GaussianCoupula spent 10.3872 sec.\n",
      "Synthesizer (SDV - SingleTable): Sampling GaussianCoupula # 103 rows (same as raw) in 0.7207 sec.\n",
      "Executor - Synthesizer: GaussianCoupula synthesizing time: 11.1638 sec.\n",
      "Synthesizer (SDV - SingleTable): Metafile loading time: 0.1047 sec.\n",
      "Synthesizer (SDV - SingleTable): Fitting  CoupulaGAN.\n",
      "Synthesizer (SDV - SingleTable): Fitting  GaussianCoupula spent 14.2173 sec.\n",
      "Synthesizer (SDV - SingleTable): Sampling GaussianCoupula # 103 rows (same as raw) in 0.3041 sec.\n",
      "Executor - Synthesizer: GaussianCoupula synthesizing time: 14.5614 sec.\n",
      "Synthesizer (SDV - SingleTable): Metafile loading time: 0.008 sec.\n",
      "Synthesizer (SDV - SingleTable): Fitting  GaussianCoupula.\n",
      "Synthesizer (SDV - SingleTable): Fitting  GaussianCoupula spent 13.0084 sec.\n",
      "Synthesizer (SDV - SingleTable): Sampling GaussianCoupula # 103 rows (same as raw) in 0.2236 sec.\n",
      "Synthesizer (SDV - SingleTable): Metafile loading time: 0.0241 sec.\n",
      "Synthesizer (SDV - SingleTable): Fitting  CoupulaGAN.\n",
      "Synthesizer (SDV - SingleTable): Fitting  GaussianCoupula spent 6.1998 sec.\n",
      "Synthesizer (SDV - SingleTable): Sampling GaussianCoupula # 103 rows (same as raw) in 0.1201 sec.\n",
      "Synthesizer (SDV - SingleTable): Metafile loading time: 0.016 sec.\n",
      "Synthesizer (SDV - SingleTable): Fitting  GaussianCoupula.\n",
      "Synthesizer (SDV - SingleTable): Fitting  GaussianCoupula spent 3.6437 sec.\n",
      "Synthesizer (SDV - SingleTable): Sampling GaussianCoupula # 103 rows (same as raw) in 0.136 sec.\n",
      "Synthesizer (SDV - SingleTable): Metafile loading time: 0.008 sec.\n",
      "Synthesizer (SDV - SingleTable): Fitting  CoupulaGAN.\n"
     ]
    }
   ],
   "source": [
    "import os\n",
    "import sys\n",
    "\n",
    "sys.path.append('D:\\\\Dropbox\\\\89_其他應用\\\\GitHub\\\\PETs-Experiment')\n",
    "os.chdir('D:\\\\Dropbox\\\\89_其他應用\\\\GitHub\\\\PETs-Experiment\\\\demo')\n",
    "\n",
    "import PETs_Experiment\n",
    "\n",
    "para_Executor = {\n",
    "     'Loader' : {\n",
    "         'adult'  : {'filepath'  : '../[sunset]/data/[Adt Income] adult.csv'\n",
    "                    ,'na_values' : {k : '?' for k in ['workclass' ,'occupation' ,'native-country']}\n",
    "        }\n",
    "        ,'NHANES' : {'filepath'     : '../[sunset]/data/[NHANES] B.csv'\n",
    "                    ,'header_exist' : False\n",
    "                    ,'header_names' : ['gen','age','race','edu','mar','bmi','dep','pir','gh','mets','qm','dia']\n",
    "        }\n",
    "     }\n",
    "    ,'Splitter' : {\n",
    "         '0.8'  : {'num_samples'       : 2 # 30\n",
    "                  ,'train_split_ratio' : 0.8\n",
    "        }\n",
    "        ,'0.05' : {'num_samples'       : 2 # 30\n",
    "                  ,'train_split_ratio' : 0.05\n",
    "        }\n",
    "    }\n",
    "    ,'Preprocessor' : {\n",
    "        'drop-stanard' : {'missing_method'  : 'drop'\n",
    "                  ,'outlier_method'  : 'IQR'\n",
    "                  # ,'outlier_columns' : {'ignore': ['hours-per-week']}\n",
    "                  ,'encoding_method' : 'Label'\n",
    "                  ,'scaling'         : True\n",
    "                  ,'scaling_method'  : 'Standard'\n",
    "                #   ,'scaling_columns' : {'focus' : 'fnlwgt'}\n",
    "        }\n",
    "        ,'drop-minmax' : {'missing_method'  : 'drop'\n",
    "                  ,'outlier_method'  : 'IQR'\n",
    "                  # ,'outlier_columns' : {'ignore': ['hours-per-week']}\n",
    "                  ,'encoding_method' : 'Label'\n",
    "                  ,'scaling'         : True\n",
    "                  ,'scaling_method'  : 'minmax'\n",
    "                #   ,'scaling_columns' : {'focus' : 'fnlwgt'}\n",
    "        }\n",
    "    }\n",
    "    ,'Synthesizer': {\n",
    "        'GaussianCoupula' : {'synthesizing_method' : 'sdv-singletable-gaussiancoupula'}\n",
    "       ,'CoupulaGAN'      : {'synthesizing_method' : 'sdv-singletable-coupulagan'}\n",
    "    #    ,'CTGAN'           : {'synthesizing_method' : 'sdv-singletable-ctgan'}\n",
    "    #    ,'TVAE'            : {'synthesizing_method' : 'sdv-singletable-tvae'}\n",
    "    }\n",
    "    ,'Evaluator' : {\n",
    "        'SinglingOut' : {'method' : 'anonymeter-singlingout-univariate'\n",
    "                         ,'num_samples' : 2 # 30\n",
    "                         ,'anonymeter_n_attacks' : 2 # 2000\n",
    "                         }\n",
    "       ,'Linkability' : {'method' : 'anonymeter-linkability'\n",
    "                         ,'num_samples' : 2 # 30\n",
    "                         ,'anonymeter_n_attacks'   : 2 # 2000\n",
    "                         ,'anonymeter_n_neighbors' : 10\n",
    "                         ,'anonymeter_aux_cols'    : [['age' ,'fnlwgt' ,'race' ,'gender' ,'native-country']\n",
    "                                                     ,['workclass' ,'education' ,'capital-gain' ,'capital-loss' ,'hours-per-week']\n",
    "                                                     ]\n",
    "                         }\n",
    "       ,'Inference'   : {'method' : 'anonymeter-inference'\n",
    "                         ,'num_samples' : 2 # 30\n",
    "                         ,'anonymeter_n_attacks' : 2 # 2000\n",
    "                         ,'anonymeter_secrets'   : True\n",
    "                         }\n",
    "    }\n",
    "}\n",
    "\n",
    "executor = PETs_Experiment.Executor(**para_Executor)\n",
    "executor.run()\n",
    "    "
   ]
  }
 ],
 "metadata": {
  "kernelspec": {
   "display_name": "Python 3",
   "language": "python",
   "name": "python3"
  },
  "language_info": {
   "codemirror_mode": {
    "name": "ipython",
    "version": 3
   },
   "file_extension": ".py",
   "mimetype": "text/x-python",
   "name": "python",
   "nbconvert_exporter": "python",
   "pygments_lexer": "ipython3",
   "version": "3.10.13"
  }
 },
 "nbformat": 4,
 "nbformat_minor": 4
}
