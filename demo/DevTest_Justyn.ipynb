{
 "cells": [
  {
   "cell_type": "code",
   "execution_count": 1,
   "metadata": {
    "tags": []
   },
   "outputs": [],
   "source": [
    "import PETsARD\n",
    "import os\n",
    "import sys\n",
    "\n",
    "sys.path.append('D:\\\\Dropbox\\\\89_其他應用\\\\GitHub\\\\PETsARD')\n",
    "os.chdir('D:\\\\Dropbox\\\\89_其他應用\\\\GitHub\\\\PETsARD\\\\demo')\n",
    "# sys.path.append('/home/ec2-user/SageMaker/PETs-Experiment')\n",
    "# os.chdir('/home/ec2-user/SageMaker/PETs-Experiment/demo')\n"
   ]
  },
  {
   "cell_type": "code",
   "execution_count": null,
   "metadata": {
    "tags": []
   },
   "outputs": [
    {
     "name": "stdout",
     "output_type": "stream",
     "text": [
      "   age workclass  fnlwgt education  educational-num marital-status  \\\n",
      "0   25   Private  226802      11th                7  Never-married   \n",
      "\n",
      "          occupation relationship   race gender  capital-gain  capital-loss  \\\n",
      "0  Machine-op-inspct    Own-child  Black   Male             0             0   \n",
      "\n",
      "   hours-per-week native-country income  \n",
      "0              40  United-States  <=50K  \n"
     ]
    }
   ],
   "source": [
    "loader = PETsARD.Loader(\n",
    "    filepath='../[sunset]/data/[Adt Income] adult.csv',\n",
    "    na_values={k: '?' for k in [\n",
    "        'workclass',\n",
    "        'occupation',\n",
    "        'native-country'\n",
    "    ]}\n",
    ")\n",
    "print(loader.data.head(1))\n"
   ]
  },
  {
   "cell_type": "code",
   "execution_count": null,
   "metadata": {
    "tags": []
   },
   "outputs": [
    {
     "name": "stdout",
     "output_type": "stream",
     "text": [
      "39073\n",
      "9769\n",
      "   age workclass  fnlwgt education  educational-num marital-status  \\\n",
      "0   25   Private  226802      11th                7  Never-married   \n",
      "\n",
      "          occupation relationship   race gender  capital-gain  capital-loss  \\\n",
      "0  Machine-op-inspct    Own-child  Black   Male             0             0   \n",
      "\n",
      "   hours-per-week native-country income  \n",
      "0              40  United-States  <=50K  \n",
      "   age  workclass  fnlwgt   education  educational-num      marital-status  \\\n",
      "0   28  Local-gov  336951  Assoc-acdm               12  Married-civ-spouse   \n",
      "\n",
      "        occupation relationship   race gender  capital-gain  capital-loss  \\\n",
      "0  Protective-serv      Husband  White   Male             0             0   \n",
      "\n",
      "   hours-per-week native-country income  \n",
      "0              40  United-States   >50K  \n"
     ]
    }
   ],
   "source": [
    "splitter = PETsARD.Splitter(\n",
    "    data=loader.data,\n",
    "    num_samples=1,  # 30,\n",
    "    train_split_ratio=0.8\n",
    ")\n",
    "print(splitter.data[1]['train'].shape[0])\n",
    "print(splitter.data[1]['validation'].shape[0])\n",
    "print(splitter.data[1]['train'].head(1))\n",
    "print(splitter.data[1]['validation'].head(1))\n"
   ]
  },
  {
   "cell_type": "code",
   "execution_count": null,
   "metadata": {
    "tags": []
   },
   "outputs": [
    {
     "name": "stdout",
     "output_type": "stream",
     "text": [
      "Preprocessor - Outlierist (IQR): Dropped  1695 rows on capital-loss   . Kept [0.0, 0.0] only.\n",
      "Preprocessor - Outlierist (IQR): Dropped   221 rows on age            . Kept [-0.5, 75.5] only.\n",
      "Preprocessor - Outlierist (IQR): Dropped   231 rows on educational-num. Kept [3.0, 19.0] only.\n",
      "Preprocessor - Outlierist (IQR): Dropped  1070 rows on fnlwgt         . Kept [-62464.125, 416666.875] only.\n",
      "Preprocessor - Outlierist (IQR): Dropped  2984 rows on capital-gain   . Kept [0.0, 0.0] only.\n",
      "Preprocessor - Outlierist (IQR): Totally Dropped  5995 in 36158 rows.\n",
      "Preprocessor - Encoder (Label): Column marital-status  been labelized from 0 to  6.\n",
      "Preprocessor - Encoder (Label): Column gender          been labelized from 0 to  1.\n",
      "Preprocessor - Encoder (Label): Column native-country  been labelized from 0 to 39.\n",
      "Preprocessor - Encoder (Label): Column education       been labelized from 0 to 13.\n",
      "Preprocessor - Encoder (Label): Column race            been labelized from 0 to  4.\n",
      "Preprocessor - Encoder (Label): Column relationship    been labelized from 0 to  5.\n",
      "Preprocessor - Encoder (Label): Column income          been labelized from 0 to  1.\n",
      "Preprocessor - Encoder (Label): Column workclass       been labelized from 0 to  6.\n",
      "Preprocessor - Encoder (Label): Column occupation      been labelized from 0 to 13.\n",
      "Preprocessor - Scaler (Standard): Column fnlwgt been standardized.\n",
      "\n",
      "\n",
      "\n",
      "\n",
      "   age  workclass    fnlwgt  education  educational-num  marital-status  \\\n",
      "0   25          2  0.538473          1                7               4   \n",
      "\n",
      "   occupation  relationship  race  gender  capital-gain  capital-loss  \\\n",
      "0           6             3     2       1             0             0   \n",
      "\n",
      "   hours-per-week  native-country  income  \n",
      "0              40              37       0  \n",
      "\n",
      "\n",
      "\n",
      "\n",
      "{'marital-status': LabelEncoder(), 'gender': LabelEncoder(), 'native-country': LabelEncoder(), 'education': LabelEncoder(), 'race': LabelEncoder(), 'relationship': LabelEncoder(), 'income': LabelEncoder(), 'workclass': LabelEncoder(), 'occupation': LabelEncoder()}\n",
      "\n",
      "\n",
      "\n",
      "\n",
      "{'fnlwgt': StandardScaler()}\n"
     ]
    }
   ],
   "source": [
    "preproc = PETsARD.Preprocessor(\n",
    "    data=splitter.data[1]['train'],\n",
    "    missing=True,\n",
    "    missing_method='drop',\n",
    "    missing_columns=None,\n",
    "    outlier=True,\n",
    "    outlier_method='IQR',\n",
    "    outlier_columns={'ignore': ['hours-per-week']},\n",
    "    encoding=True,\n",
    "    encoding_method='Label',\n",
    "    encoding_columns=None,\n",
    "    scaling=True,\n",
    "    scaling_method='Standard',\n",
    "    scaling_columns={'focus': 'fnlwgt'}\n",
    ")\n",
    "print('\\n\\n\\n')\n",
    "print(preproc.data.head(1))\n",
    "print('\\n\\n\\n')\n",
    "print(preproc.encoder)\n",
    "print('\\n\\n\\n')\n",
    "print(preproc.scaler)\n"
   ]
  },
  {
   "cell_type": "code",
   "execution_count": null,
   "metadata": {
    "tags": []
   },
   "outputs": [
    {
     "ename": "ValueError",
     "evalue": "Synthesizer (SDV - SDV_SingleTableFactory): synthesizing_method sdv-singletable-gaussiancoupula didn't support.",
     "output_type": "error",
     "traceback": [
      "\u001b[1;31m---------------------------------------------------------------------------\u001b[0m",
      "\u001b[1;31mValueError\u001b[0m                                Traceback (most recent call last)",
      "Cell \u001b[1;32mIn[5], line 1\u001b[0m\n\u001b[1;32m----> 1\u001b[0m synthesizer \u001b[39m=\u001b[39m PETsARD\u001b[39m.\u001b[39;49mSynthesizer(\n\u001b[0;32m      2\u001b[0m     data\u001b[39m=\u001b[39;49mpreproc\u001b[39m.\u001b[39;49mdata,\n\u001b[0;32m      3\u001b[0m     synthesizing_method\u001b[39m=\u001b[39;49m\u001b[39m'\u001b[39;49m\u001b[39msdv-singletable-gaussiancoupula\u001b[39;49m\u001b[39m'\u001b[39;49m\n\u001b[0;32m      4\u001b[0m )\n\u001b[0;32m      5\u001b[0m synthesizer\u001b[39m.\u001b[39mfit_sample()\n\u001b[0;32m      6\u001b[0m \u001b[39mprint\u001b[39m(synthesizer\u001b[39m.\u001b[39mdata_syn\u001b[39m.\u001b[39mhead(\u001b[39m1\u001b[39m))\n",
      "File \u001b[1;32mD:\\Dropbox\\89_其他應用\\GitHub\\PETsARD\\PETsARD\\Synthesizer\\Synthesizer.py:35\u001b[0m, in \u001b[0;36mSynthesizer.__init__\u001b[1;34m(self, data, synthesizing_method, **kwargs)\u001b[0m\n\u001b[0;32m     30\u001b[0m \u001b[39mself\u001b[39m\u001b[39m.\u001b[39mpara: \u001b[39mdict\u001b[39m \u001b[39m=\u001b[39m {}\n\u001b[0;32m     31\u001b[0m \u001b[39mself\u001b[39m\u001b[39m.\u001b[39mpara[\u001b[39m'\u001b[39m\u001b[39mSynthesizer\u001b[39m\u001b[39m'\u001b[39m]: \u001b[39mdict\u001b[39m \u001b[39m=\u001b[39m {\n\u001b[0;32m     32\u001b[0m     \u001b[39m'\u001b[39m\u001b[39msynthesizing_method\u001b[39m\u001b[39m'\u001b[39m: synthesizing_method\u001b[39m.\u001b[39mlower()\n\u001b[0;32m     33\u001b[0m }\n\u001b[1;32m---> 35\u001b[0m Synthesizer \u001b[39m=\u001b[39m SynthesizerFactory(\n\u001b[0;32m     36\u001b[0m     data\u001b[39m=\u001b[39mdata, \u001b[39m*\u001b[39m\u001b[39m*\u001b[39m\u001b[39mself\u001b[39m\u001b[39m.\u001b[39mpara[\u001b[39m'\u001b[39m\u001b[39mSynthesizer\u001b[39m\u001b[39m'\u001b[39m]\n\u001b[0;32m     37\u001b[0m )\u001b[39m.\u001b[39mcreate_synthesizer()\n\u001b[0;32m     39\u001b[0m \u001b[39mself\u001b[39m\u001b[39m.\u001b[39mdata_ori: pd\u001b[39m.\u001b[39mDataFrame \u001b[39m=\u001b[39m data\n\u001b[0;32m     40\u001b[0m \u001b[39mself\u001b[39m\u001b[39m.\u001b[39mSynthesizer \u001b[39m=\u001b[39m Synthesizer\n",
      "File \u001b[1;32mD:\\Dropbox\\89_其他應用\\GitHub\\PETsARD\\PETsARD\\Synthesizer\\SynthesizerFactory.py:21\u001b[0m, in \u001b[0;36mSynthesizerFactory.__init__\u001b[1;34m(self, data, **kwargs)\u001b[0m\n\u001b[0;32m     18\u001b[0m synthesizing_method: \u001b[39mstr\u001b[39m \u001b[39m=\u001b[39m kwargs\u001b[39m.\u001b[39mget(\u001b[39m'\u001b[39m\u001b[39msynthesizing_method\u001b[39m\u001b[39m'\u001b[39m, \u001b[39mNone\u001b[39;00m)\n\u001b[0;32m     20\u001b[0m \u001b[39mif\u001b[39;00m synthesizing_method\u001b[39m.\u001b[39mstartswith(\u001b[39m'\u001b[39m\u001b[39msdv\u001b[39m\u001b[39m'\u001b[39m):\n\u001b[1;32m---> 21\u001b[0m     _Synthesizer \u001b[39m=\u001b[39m SDVFactory(data\u001b[39m=\u001b[39;49mdata,\n\u001b[0;32m     22\u001b[0m                               synthesizing_method\u001b[39m=\u001b[39;49msynthesizing_method)\u001b[39m.\u001b[39mcreate_synthesizer()\n\u001b[0;32m     23\u001b[0m \u001b[39melse\u001b[39;00m:\n\u001b[0;32m     24\u001b[0m     \u001b[39mraise\u001b[39;00m \u001b[39mValueError\u001b[39;00m(\n\u001b[0;32m     25\u001b[0m         \u001b[39mf\u001b[39m\u001b[39m\"\u001b[39m\u001b[39mSynthesizer - SynthesizerFactory: \u001b[39m\u001b[39m\"\u001b[39m\n\u001b[0;32m     26\u001b[0m         \u001b[39mf\u001b[39m\u001b[39m\"\u001b[39m\u001b[39msynthesizing_method \u001b[39m\u001b[39m{\u001b[39;00msynthesizing_method\u001b[39m}\u001b[39;00m\u001b[39m \u001b[39m\u001b[39m\"\u001b[39m\n\u001b[0;32m     27\u001b[0m         \u001b[39mf\u001b[39m\u001b[39m\"\u001b[39m\u001b[39mdidn\u001b[39m\u001b[39m'\u001b[39m\u001b[39mt support.\u001b[39m\u001b[39m\"\u001b[39m\n\u001b[0;32m     28\u001b[0m     )\n",
      "File \u001b[1;32mD:\\Dropbox\\89_其他應用\\GitHub\\PETsARD\\PETsARD\\Synthesizer\\SDV\\SDVFactory.py:26\u001b[0m, in \u001b[0;36mSDVFactory.__init__\u001b[1;34m(self, data, **kwargs)\u001b[0m\n\u001b[0;32m     23\u001b[0m synthesizing_method: \u001b[39mstr\u001b[39m \u001b[39m=\u001b[39m kwargs\u001b[39m.\u001b[39mget(\u001b[39m'\u001b[39m\u001b[39msynthesizing_method\u001b[39m\u001b[39m'\u001b[39m, \u001b[39mNone\u001b[39;00m)\n\u001b[0;32m     25\u001b[0m \u001b[39mif\u001b[39;00m synthesizing_method\u001b[39m.\u001b[39mstartswith(\u001b[39m'\u001b[39m\u001b[39msdv-singletable\u001b[39m\u001b[39m'\u001b[39m):\n\u001b[1;32m---> 26\u001b[0m     \u001b[39mself\u001b[39m\u001b[39m.\u001b[39mSynthesizer \u001b[39m=\u001b[39m SDV_SingleTableFactory(\n\u001b[0;32m     27\u001b[0m         data\u001b[39m=\u001b[39;49mdata,\n\u001b[0;32m     28\u001b[0m         synthesizing_method\u001b[39m=\u001b[39;49msynthesizing_method\n\u001b[0;32m     29\u001b[0m     )\u001b[39m.\u001b[39mcreate_synthesizer()\n\u001b[0;32m     30\u001b[0m \u001b[39melse\u001b[39;00m:\n\u001b[0;32m     31\u001b[0m     \u001b[39mraise\u001b[39;00m \u001b[39mValueError\u001b[39;00m(\n\u001b[0;32m     32\u001b[0m         \u001b[39mf\u001b[39m\u001b[39m\"\u001b[39m\u001b[39mSynthesizer (SDV - SDVFactory): \u001b[39m\u001b[39m\"\u001b[39m\n\u001b[0;32m     33\u001b[0m         \u001b[39mf\u001b[39m\u001b[39m\"\u001b[39m\u001b[39msynthesizing_method \u001b[39m\u001b[39m{\u001b[39;00msynthesizing_method\u001b[39m}\u001b[39;00m\u001b[39m \u001b[39m\u001b[39m\"\u001b[39m\n\u001b[0;32m     34\u001b[0m         \u001b[39mf\u001b[39m\u001b[39m\"\u001b[39m\u001b[39mdidn\u001b[39m\u001b[39m'\u001b[39m\u001b[39mt support.\u001b[39m\u001b[39m\"\u001b[39m\n\u001b[0;32m     35\u001b[0m     )\n",
      "File \u001b[1;32mD:\\Dropbox\\89_其他應用\\GitHub\\PETsARD\\PETsARD\\Synthesizer\\SDV\\SDV_SingleTableFactory.py:39\u001b[0m, in \u001b[0;36mSDV_SingleTableFactory.__init__\u001b[1;34m(self, data, **kwargs)\u001b[0m\n\u001b[0;32m     36\u001b[0m     \u001b[39mself\u001b[39m\u001b[39m.\u001b[39mSynthesizer \u001b[39m=\u001b[39m SDV_SingleTable_TVAE(data\u001b[39m=\u001b[39mdata)\n\u001b[0;32m     38\u001b[0m \u001b[39melse\u001b[39;00m:\n\u001b[1;32m---> 39\u001b[0m     \u001b[39mraise\u001b[39;00m \u001b[39mValueError\u001b[39;00m(\n\u001b[0;32m     40\u001b[0m         \u001b[39mf\u001b[39m\u001b[39m\"\u001b[39m\u001b[39mSynthesizer (SDV - SDV_SingleTableFactory): \u001b[39m\u001b[39m\"\u001b[39m\n\u001b[0;32m     41\u001b[0m         \u001b[39mf\u001b[39m\u001b[39m\"\u001b[39m\u001b[39msynthesizing_method \u001b[39m\u001b[39m{\u001b[39;00msynthesizing_method\u001b[39m}\u001b[39;00m\u001b[39m didn\u001b[39m\u001b[39m'\u001b[39m\u001b[39mt support.\u001b[39m\u001b[39m\"\u001b[39m\n\u001b[0;32m     42\u001b[0m     )\n",
      "\u001b[1;31mValueError\u001b[0m: Synthesizer (SDV - SDV_SingleTableFactory): synthesizing_method sdv-singletable-gaussiancoupula didn't support."
     ]
    }
   ],
   "source": [
    "synthesizer = PETsARD.Synthesizer(\n",
    "    data=preproc.data,\n",
    "    synthesizing_method='sdv-singletable-gaussiancoupula'\n",
    ")\n",
    "synthesizer.fit_sample()\n",
    "print(synthesizer.data_syn.head(1))\n"
   ]
  },
  {
   "cell_type": "code",
   "execution_count": 6,
   "metadata": {
    "tags": []
   },
   "outputs": [
    {
     "name": "stdout",
     "output_type": "stream",
     "text": [
      "Postprocessor - Scaler (StandardScaler): Decoding fnlwgt.\n",
      "Postprocessor - Encoder (LabelEncoder): Decoding education.\n",
      "Postprocessor - Encoder (LabelEncoder): Decoding income.\n",
      "Postprocessor - Encoder (LabelEncoder): Decoding gender.\n",
      "Postprocessor - Encoder (LabelEncoder): Decoding marital-status.\n",
      "Postprocessor - Encoder (LabelEncoder): Decoding race.\n",
      "Postprocessor - Encoder (LabelEncoder): Decoding native-country.\n",
      "Postprocessor - Encoder (LabelEncoder): Decoding occupation.\n",
      "Postprocessor - Encoder (LabelEncoder): Decoding relationship.\n",
      "Postprocessor - Encoder (LabelEncoder): Decoding workclass.\n",
      "   age workclass         fnlwgt education  educational-num marital-status  \\\n",
      "0   58   Private  189549.261742   HS-grad               10       Divorced   \n",
      "\n",
      "       occupation relationship   race gender  capital-gain  capital-loss  \\\n",
      "0  Prof-specialty    Unmarried  White   Male             0             0   \n",
      "\n",
      "   hours-per-week native-country income  \n",
      "0              47     Yugoslavia  <=50K  \n"
     ]
    }
   ],
   "source": [
    "# File D:\\Dropbox\\89_其他應用\\GitHub\\PETs-Experiment\\PETsARD\\Preprocessor\\Missingist.py:27, in Missingist.inverse_transform(self, col_data)\n",
    "#      25 _col_data = col_data.copy()\n",
    "#      26 print(_col_data)\n",
    "# ---> 27 _col_data[_na_mask] = np.nan\n",
    "#      28 return _col_data\n",
    "\n",
    "# ValueError: cannot convert float NaN to integer\n",
    "\n",
    "postproc = PETsARD.Postprocessor(\n",
    "    data=synthesizer.data_syn,\n",
    "  # missingist = getattr(preproc ,'missingist' ,None),\n",
    "    encoder=getattr(preproc, 'encoder', None),\n",
    "    scaler=getattr(preproc, 'scaler', None)\n",
    ")\n",
    "print(postproc.data.head(1))\n"
   ]
  },
  {
   "cell_type": "code",
   "execution_count": 7,
   "metadata": {
    "tags": []
   },
   "outputs": [
    {
     "name": "stdout",
     "output_type": "stream",
     "text": [
      "Evaluator (Anonymeter - SinglingOut - Univariate): Now is SinglingOut - Univariate Evaluator\n",
      "Evaluator (Anonymeter - SinglingOut - Univariate): Evaluator time: 21.8733 sec.\n",
      "Evaluator (Anonymeter): Evaluating  SinglingOut - Univariate.\n"
     ]
    },
    {
     "data": {
      "text/plain": [
       "{'Risk': 0.0,\n",
       " 'Risk_CI_btm': 0.0,\n",
       " 'Risk_CI_top': 0.0013568577126237004,\n",
       " 'Attack_Rate': 0.0009585236406264672,\n",
       " 'Attack_Rate_err': 0.0009585236406264671,\n",
       " 'Baseline_Rate': 0.0009585236406264672,\n",
       " 'Baseline_Rate_err': 0.0009585236406264671,\n",
       " 'Control_Rate': 0.0009585236406264672,\n",
       " 'Control_Rate_err': 0.0009585236406264671}"
      ]
     },
     "execution_count": 7,
     "metadata": {},
     "output_type": "execute_result"
    }
   ],
   "source": [
    "eval = PETsARD.Evaluator(evaluating_method='anonymeter-singlingout-univariate', data={'ori': splitter.data[1]['train'], 'syn': postproc.data, 'control': splitter.data[1]['validation']\n",
    "                                                                                      }, anonymeter_n_attacks=2000\n",
    "                         )\n",
    "eval.eval()\n",
    "eval.Evaluator.evaluation\n"
   ]
  },
  {
   "cell_type": "code",
   "execution_count": 8,
   "metadata": {
    "tags": []
   },
   "outputs": [
    {
     "name": "stdout",
     "output_type": "stream",
     "text": [
      "Evaluator (Anonymeter - Linkability): Now is Linkability Evaluator\n",
      "Evaluator (Anonymeter - Linkability): aux_cols are [age, fnlwgt, race, gender, native-country]\n",
      "Evaluator (Anonymeter - Linkability): and [workclass, education, capital-gain, capital-loss, hours-per-week].\n",
      "Evaluator (Anonymeter - Linkability): Evaluator time: 0.0003 sec.\n",
      "Evaluator (Anonymeter): Evaluating  Linkability.\n",
      "Evaluator (Anonymeter): Evaluating  Linkability spent 5.1737 sec.\n"
     ]
    },
    {
     "data": {
      "text/plain": [
       "{'Risk': 0.00550021800276215,\n",
       " 'Risk_CI_btm': 0.001483115632946723,\n",
       " 'Risk_CI_top': 0.009517320372577577,\n",
       " 'Attack_Rate': 0.007446062833298323,\n",
       " 'Attack_Rate_err': 0.0036434663392241715,\n",
       " 'Baseline_Rate': 0.004950855451501456,\n",
       " 'Baseline_Rate_err': 0.0029226088445362865,\n",
       " 'Control_Rate': 0.001956606593345214,\n",
       " 'Control_Rate_err': 0.00168232767569318}"
      ]
     },
     "execution_count": 8,
     "metadata": {},
     "output_type": "execute_result"
    }
   ],
   "source": [
    "eval = PETsARD.Evaluator(evaluating_method='anonymeter-linkability', data={'ori': splitter.data[1]['train'], 'syn': postproc.data, 'control': splitter.data[1]['validation']\n",
    "                                                                           }, anonymeter_n_attacks=2000, anonymeter_n_neighbors=10, anonymeter_n_jobs=-1, anonymeter_aux_cols=[['age', 'fnlwgt', 'race', 'gender', 'native-country'], ['workclass', 'education', 'capital-gain', 'capital-loss', 'hours-per-week']\n",
    "                                                                                                                                                                               ]\n",
    "                         )\n",
    "eval.eval()\n",
    "eval.Evaluator.evaluation\n"
   ]
  },
  {
   "cell_type": "code",
   "execution_count": 9,
   "metadata": {
    "tags": []
   },
   "outputs": [
    {
     "name": "stdout",
     "output_type": "stream",
     "text": [
      "Evaluator (Anonymeter - Inference): Now is Inference Evaluator\n",
      "Evaluator (Anonymeter - Inference): Evaluator time: 0.0002 sec.\n",
      "Evaluator (Anonymeter): Evaluating  Inference.\n",
      "Evaluator (Anonymeter): Evaluating  Inference spent 0.5823 sec.\n"
     ]
    },
    {
     "data": {
      "text/plain": [
       "{'Risk': 0.023813609781145287,\n",
       " 'Risk_CI_btm': 0.0,\n",
       " 'Risk_CI_top': 0.062409664673618484,\n",
       " 'Attack_Rate': 0.1050344875036978,\n",
       " 'Attack_Rate_err': 0.026600135400528267,\n",
       " 'Baseline_Rate': 0.06335470980308298,\n",
       " 'Baseline_Rate_err': 0.02100635332213679,\n",
       " 'Control_Rate': 0.08320222299385194,\n",
       " 'Control_Rate_err': 0.023904093583999354}"
      ]
     },
     "execution_count": 9,
     "metadata": {},
     "output_type": "execute_result"
    }
   ],
   "source": [
    "eval = PETsARD.Evaluator(evaluating_method='anonymeter-inference', data={'ori': splitter.data[1]['train'], 'syn': postproc.data, 'control': splitter.data[1]['validation']\n",
    "                                                                         }, anonymeter_n_attacks=2000, anonymeter_n_jobs=-1, anonymeter_secret='age'\n",
    "                         )\n",
    "eval.eval()\n",
    "eval.Evaluator.evaluation\n"
   ]
  },
  {
   "cell_type": "code",
   "execution_count": 8,
   "metadata": {
    "tags": []
   },
   "outputs": [
    {
     "name": "stdout",
     "output_type": "stream",
     "text": [
      "Executor - Loader: [Adt Income] adult.csv loading time: 10.104 sec.\n",
      "Executor - Splitter: 0.8x2 splitting time: 0.096 sec.\n",
      "Preprocessor - Outlierist (IQR): Dropped   208 rows on age            . Kept [-0.5, 75.5] only.\n",
      "Preprocessor - Outlierist (IQR): Dropped  3021 rows on capital-gain   . Kept [0.0, 0.0] only.\n",
      "Preprocessor - Outlierist (IQR): Dropped   235 rows on educational-num. Kept [3.0, 19.0] only.\n",
      "Preprocessor - Outlierist (IQR): Dropped  1060 rows on fnlwgt         . Kept [-64359.75, 419126.25] only.\n",
      "Preprocessor - Outlierist (IQR): Dropped  1696 rows on capital-loss   . Kept [0.0, 0.0] only.\n",
      "Preprocessor - Outlierist (IQR): Totally Dropped  6026 in 36128 rows.\n",
      "Preprocessor - Encoder (Label): Column education       been labelized from 0 to 13.\n",
      "Preprocessor - Encoder (Label): Column income          been labelized from 0 to  1.\n",
      "Preprocessor - Encoder (Label): Column gender          been labelized from 0 to  1.\n",
      "Preprocessor - Encoder (Label): Column marital-status  been labelized from 0 to  6.\n",
      "Preprocessor - Encoder (Label): Column race            been labelized from 0 to  4.\n",
      "Preprocessor - Encoder (Label): Column native-country  been labelized from 0 to 39.\n",
      "Preprocessor - Encoder (Label): Column occupation      been labelized from 0 to 13.\n",
      "Preprocessor - Encoder (Label): Column relationship    been labelized from 0 to  5.\n",
      "Preprocessor - Encoder (Label): Column workclass       been labelized from 0 to  6.\n",
      "Preprocessor - Scaler (Standard): Column fnlwgt been standardized.\n",
      "Executor - Preprocessor: drop-IQR-Label-Standard preprocessing time: 0.088 sec.\n",
      "Synthesizer (SDV - SingleTable): Metafile loading time: 0.024 sec.\n",
      "Synthesizer (SDV - SingleTable): Fitting  GaussianCoupula.\n",
      "Synthesizer (SDV - SingleTable): Fitting  GaussianCoupula spent 17.9683 sec.\n",
      "Synthesizer (SDV - SingleTable): Sampling GaussianCoupula # 30102 rows (same as raw) in 1.3859 sec.\n",
      "Executor - Synthesizer: sdv-singletable-gaussiancoupula synthesizing time: 19.3783 sec.\n",
      "Postprocessor - Scaler (StandardScaler): Decoding fnlwgt.\n",
      "Postprocessor - Encoder (LabelEncoder): Decoding education.\n",
      "Postprocessor - Encoder (LabelEncoder): Decoding income.\n",
      "Postprocessor - Encoder (LabelEncoder): Decoding gender.\n",
      "Postprocessor - Encoder (LabelEncoder): Decoding marital-status.\n",
      "Postprocessor - Encoder (LabelEncoder): Decoding race.\n",
      "Postprocessor - Encoder (LabelEncoder): Decoding native-country.\n",
      "Postprocessor - Encoder (LabelEncoder): Decoding occupation.\n",
      "Postprocessor - Encoder (LabelEncoder): Decoding relationship.\n",
      "Postprocessor - Encoder (LabelEncoder): Decoding workclass.\n",
      "Executor - Postprocessor: postprocessing time: 0.032 sec.\n",
      "Evaluator (Anonymeter - SinglingOut - Univariate): Now is SinglingOut - Univariate Evaluator\n",
      "Evaluator (Anonymeter - SinglingOut - Univariate): Evaluator time: 0.0772 sec.\n",
      "Evaluator (Anonymeter): Evaluating  SinglingOut - Univariate.\n",
      "Executor - Evaluator: anonymeter-singlingout-univariatex2 at 1 trials evaluating time: 3.4373 sec.\n"
     ]
    },
    {
     "ename": "ImportError",
     "evalue": "cannot import name '__version__' from 'PETsARD' (D:\\Dropbox\\89_其他應用\\GitHub\\PETsARD\\PETsARD\\__init__.py)",
     "output_type": "error",
     "traceback": [
      "\u001b[1;31m---------------------------------------------------------------------------\u001b[0m",
      "\u001b[1;31mImportError\u001b[0m                               Traceback (most recent call last)",
      "Cell \u001b[1;32mIn[8], line 31\u001b[0m\n\u001b[0;32m     12\u001b[0m para_Executor \u001b[39m=\u001b[39m {\n\u001b[0;32m     13\u001b[0m      \u001b[39m'\u001b[39m\u001b[39mLoader_filepath\u001b[39m\u001b[39m'\u001b[39m  : \u001b[39m'\u001b[39m\u001b[39m../[sunset]/data/[Adt Income] adult.csv\u001b[39m\u001b[39m'\u001b[39m\n\u001b[0;32m     14\u001b[0m     ,\u001b[39m'\u001b[39m\u001b[39mLoader_na_values\u001b[39m\u001b[39m'\u001b[39m : {k : \u001b[39m'\u001b[39m\u001b[39m?\u001b[39m\u001b[39m'\u001b[39m \u001b[39mfor\u001b[39;00m k \u001b[39min\u001b[39;00m [\u001b[39m'\u001b[39m\u001b[39mworkclass\u001b[39m\u001b[39m'\u001b[39m ,\u001b[39m'\u001b[39m\u001b[39moccupation\u001b[39m\u001b[39m'\u001b[39m ,\u001b[39m'\u001b[39m\u001b[39mnative-country\u001b[39m\u001b[39m'\u001b[39m]}\n\u001b[1;32m   (...)\u001b[0m\n\u001b[0;32m     27\u001b[0m     ,\u001b[39m'\u001b[39m\u001b[39mEvaluator_num_samples\u001b[39m\u001b[39m'\u001b[39m          : \u001b[39m2\u001b[39m\n\u001b[0;32m     28\u001b[0m }\n\u001b[0;32m     30\u001b[0m executor_single \u001b[39m=\u001b[39m PETsARD\u001b[39m.\u001b[39mExecutor(\u001b[39m*\u001b[39m\u001b[39m*\u001b[39mpara_Executor)\n\u001b[1;32m---> 31\u001b[0m executor_single\u001b[39m.\u001b[39;49mrun()\n\u001b[0;32m     32\u001b[0m executor_single\u001b[39m.\u001b[39mevaluator[(\u001b[39m'\u001b[39m\u001b[39m[Adt Income] adult.csv\u001b[39m\u001b[39m'\u001b[39m,\n\u001b[0;32m     33\u001b[0m   \u001b[39m'\u001b[39m\u001b[39m0.8x2\u001b[39m\u001b[39m'\u001b[39m,\n\u001b[0;32m     34\u001b[0m   \u001b[39m1\u001b[39m,\n\u001b[1;32m   (...)\u001b[0m\n\u001b[0;32m     37\u001b[0m   \u001b[39m'\u001b[39m\u001b[39manonymeter-singlingout-univariatex2\u001b[39m\u001b[39m'\u001b[39m,\n\u001b[0;32m     38\u001b[0m   \u001b[39m1\u001b[39m)]\u001b[39m.\u001b[39mEvaluator\u001b[39m.\u001b[39mevaluation\n\u001b[0;32m     40\u001b[0m \u001b[39m# executor_single = PETsARD.Executor(**para_Executor)\u001b[39;00m\n\u001b[0;32m     41\u001b[0m \u001b[39m# executor_single.run_parallel()\u001b[39;00m\n\u001b[0;32m     42\u001b[0m \u001b[39m# executor_single.evaluator[('[Adt Income] adult.csv',\u001b[39;00m\n\u001b[1;32m   (...)\u001b[0m\n\u001b[0;32m     47\u001b[0m \u001b[39m#   'anonymeter-singlingout-univariatex2',\u001b[39;00m\n\u001b[0;32m     48\u001b[0m \u001b[39m#   1)].Evaluator.evaluation\u001b[39;00m\n",
      "File \u001b[1;32mD:\\Dropbox\\89_其他應用\\GitHub\\PETsARD\\PETsARD\\Executor.py:197\u001b[0m, in \u001b[0;36mExecutor.run\u001b[1;34m(self)\u001b[0m\n\u001b[0;32m    184\u001b[0m _eval_result \u001b[39m=\u001b[39m \u001b[39mself\u001b[39m\u001b[39m.\u001b[39m_run_single_evaluator(\n\u001b[0;32m    185\u001b[0m     {\u001b[39m'\u001b[39m\u001b[39mori\u001b[39m\u001b[39m'\u001b[39m     : _split_data[\u001b[39m'\u001b[39m\u001b[39mtrain\u001b[39m\u001b[39m'\u001b[39m]\n\u001b[0;32m    186\u001b[0m     ,\u001b[39m'\u001b[39m\u001b[39msyn\u001b[39m\u001b[39m'\u001b[39m     : _postproc_result\u001b[39m.\u001b[39mdata\n\u001b[0;32m    187\u001b[0m     ,\u001b[39m'\u001b[39m\u001b[39mcontrol\u001b[39m\u001b[39m'\u001b[39m : _split_data[\u001b[39m'\u001b[39m\u001b[39mvalidation\u001b[39m\u001b[39m'\u001b[39m]\n\u001b[0;32m    188\u001b[0m     }, _trials[\u001b[39m'\u001b[39m\u001b[39meval\u001b[39m\u001b[39m'\u001b[39m], _eval_para)\n\u001b[0;32m    189\u001b[0m _eval_name \u001b[39m=\u001b[39m (_load_trial_name\n\u001b[0;32m    190\u001b[0m              ,_split_trial_name\n\u001b[0;32m    191\u001b[0m              ,_split_data_key\n\u001b[1;32m   (...)\u001b[0m\n\u001b[0;32m    194\u001b[0m              ,_eval_trial_name\n\u001b[0;32m    195\u001b[0m              ,_eval_trial_key\u001b[39m+\u001b[39m\u001b[39m1\u001b[39m)\n\u001b[1;32m--> 197\u001b[0m \u001b[39mfrom\u001b[39;00m \u001b[39m.\u001b[39;00m \u001b[39mimport\u001b[39;00m __version__\n\u001b[0;32m    198\u001b[0m _eval_fullname \u001b[39m=\u001b[39m (__version__\n\u001b[0;32m    199\u001b[0m                  ,\u001b[39mself\u001b[39m\u001b[39m.\u001b[39mexectime\n\u001b[0;32m    200\u001b[0m                  ,_load_trial_name\n\u001b[1;32m   (...)\u001b[0m\n\u001b[0;32m    213\u001b[0m                  ,_eval_trial_key\u001b[39m+\u001b[39m\u001b[39m1\u001b[39m\n\u001b[0;32m    214\u001b[0m                  )\n\u001b[0;32m    215\u001b[0m _trials[\u001b[39m'\u001b[39m\u001b[39meval\u001b[39m\u001b[39m'\u001b[39m][\u001b[39m'\u001b[39m\u001b[39mtrial_data_key\u001b[39m\u001b[39m'\u001b[39m] \u001b[39m=\u001b[39m \u001b[39mself\u001b[39m\u001b[39m.\u001b[39m_save_in_submodule(\u001b[39m'\u001b[39m\u001b[39mEvaluator\u001b[39m\u001b[39m'\u001b[39m\n\u001b[0;32m    216\u001b[0m                        ,(_eval_fullname\n\u001b[0;32m    217\u001b[0m                         ,_eval_result)\n\u001b[0;32m    218\u001b[0m                         ,_trials)\n",
      "\u001b[1;31mImportError\u001b[0m: cannot import name '__version__' from 'PETsARD' (D:\\Dropbox\\89_其他應用\\GitHub\\PETsARD\\PETsARD\\__init__.py)"
     ]
    }
   ],
   "source": [
    "import PETsARD\n",
    "import os\n",
    "import sys\n",
    "\n",
    "sys.path.append('D:\\\\Dropbox\\\\89_其他應用\\\\GitHub\\\\PETsARD')\n",
    "os.chdir('D:\\\\Dropbox\\\\89_其他應用\\\\GitHub\\\\PETsARD\\\\demo')\n",
    "# sys.path.append('/home/ec2-user/SageMaker/PETs-Experiment')\n",
    "# os.chdir('/home/ec2-user/SageMaker/PETs-Experiment/demo')\n",
    "\n",
    "\n",
    "para_Executor = {\n",
    "    'Loader_filepath': '../[sunset]/data/[Adt Income] adult.csv', 'Loader_na_values': {k: '?' for k in ['workclass', 'occupation', 'native-country']}, 'Splitter_num_samples': 2, 'Splitter_train_split_ratio': 0.8, 'Preprocessor_missing_method': 'drop', 'Preprocessor_outlier_method': 'IQR', 'Preprocessor_outlier_columns': {'ignore': ['hours-per-week']}, 'Preprocessor_encoding_method': 'Label', 'Preprocessor_scaling': True, 'Preprocessor_scaling_method': 'Standard', 'Preprocessor_scaling_columns': {'focus': 'fnlwgt'}, 'Synthesizer_synthesizing_method': 'sdv-singletable-gaussiancoupula', 'Evaluator_evaluating_method': 'anonymeter-singlingout-univariate'  # 'anonymeter-inference' #\n",
    "    , 'Evaluator_anonymeter_n_attacks': 1  # 2000\n",
    "    , 'Evaluator_num_samples': 2\n",
    "}\n",
    "\n",
    "executor_single = PETsARD.Executor(**para_Executor)\n",
    "executor_single.run()\n",
    "executor_single.evaluator[('[Adt Income] adult.csv',\n",
    "                           '0.8x2',\n",
    "                           1,\n",
    "                           'drop-IQR-Label-Standard',\n",
    "                           'sdv-singletable-gaussiancoupula',\n",
    "                           'anonymeter-singlingout-univariatex2',\n",
    "                           1)].Evaluator.evaluation\n",
    "\n",
    "# executor_single = PETsARD.Executor(**para_Executor)\n",
    "# executor_single.run_parallel()\n",
    "# executor_single.evaluator[('[Adt Income] adult.csv',\n",
    "#   '0.8x2',\n",
    "#   1,\n",
    "#   'drop-IQR-Label-Standard',\n",
    "#   'sdv-singletable-gaussiancoupula',\n",
    "#   'anonymeter-singlingout-univariatex2',\n",
    "#   1)].Evaluator.evaluation\n"
   ]
  },
  {
   "cell_type": "code",
   "execution_count": 11,
   "metadata": {
    "tags": []
   },
   "outputs": [
    {
     "name": "stdout",
     "output_type": "stream",
     "text": [
      "Executor - Loader: [Adt Income] adult.csv loading time: 6.7149 sec.\n",
      "Executor - Splitter: 0.8x2 splitting time: 0.0687 sec.\n",
      "Preprocessor - Outlierist (IQR): Dropped  1061 rows on fnlwgt         . Kept [-64281.5, 419578.5] only.\n",
      "Preprocessor - Outlierist (IQR): Dropped   229 rows on educational-num. Kept [3.0, 19.0] only.\n",
      "Preprocessor - Outlierist (IQR): Dropped  1711 rows on capital-loss   . Kept [0.0, 0.0] only.\n",
      "Preprocessor - Outlierist (IQR): Dropped   227 rows on age            . Kept [-0.5, 75.5] only.\n",
      "Preprocessor - Outlierist (IQR): Dropped  3060 rows on capital-gain   . Kept [0.0, 0.0] only.\n",
      "Preprocessor - Outlierist (IQR): Totally Dropped  6075 in 36134 rows.\n",
      "Preprocessor - Encoder (Label): Column native-country  been labelized from 0 to 39.\n",
      "Preprocessor - Encoder (Label): Column gender          been labelized from 0 to  1.\n",
      "Preprocessor - Encoder (Label): Column race            been labelized from 0 to  4.\n",
      "Preprocessor - Encoder (Label): Column relationship    been labelized from 0 to  5.\n",
      "Preprocessor - Encoder (Label): Column education       been labelized from 0 to 13.\n",
      "Preprocessor - Encoder (Label): Column income          been labelized from 0 to  1.\n",
      "Preprocessor - Encoder (Label): Column workclass       been labelized from 0 to  6.\n",
      "Preprocessor - Encoder (Label): Column occupation      been labelized from 0 to 13.\n",
      "Preprocessor - Encoder (Label): Column marital-status  been labelized from 0 to  6.\n",
      "Preprocessor - Scaler (Standard): Column fnlwgt been standardized.\n",
      "Executor - Preprocessor: drop-IQR-Label-Standard preprocessing time: 0.0805 sec.\n",
      "Synthesizer (SDV - SingleTable): Metafile loading time: 0.0254 sec.\n",
      "Synthesizer (SDV - SingleTable): Fitting  GaussianCoupula.\n",
      "Synthesizer (SDV - SingleTable): Fitting  GaussianCoupula spent 14.5762 sec.\n",
      "Synthesizer (SDV - SingleTable): Sampling GaussianCoupula # 30059 rows (same as raw) in 1.7159 sec.\n",
      "Executor - Synthesizer: sdv-singletable-gaussiancoupula synthesizing time: 16.3217 sec.\n",
      "Postprocessor - Scaler (StandardScaler): Decoding fnlwgt.\n",
      "Postprocessor - Encoder (LabelEncoder): Decoding native-country.\n",
      "Postprocessor - Encoder (LabelEncoder): Decoding gender.\n",
      "Postprocessor - Encoder (LabelEncoder): Decoding race.\n",
      "Postprocessor - Encoder (LabelEncoder): Decoding relationship.\n",
      "Postprocessor - Encoder (LabelEncoder): Decoding education.\n",
      "Postprocessor - Encoder (LabelEncoder): Decoding income.\n",
      "Postprocessor - Encoder (LabelEncoder): Decoding workclass.\n",
      "Postprocessor - Encoder (LabelEncoder): Decoding occupation.\n",
      "Postprocessor - Encoder (LabelEncoder): Decoding marital-status.\n",
      "Executor - Postprocessor: postprocessing time: 0.0173 sec.\n",
      "Evaluator (Anonymeter - Inference): Now is Inference Evaluator\n",
      "Evaluator (Anonymeter - Inference): Evaluator time: 0.0001 sec.\n",
      "Evaluator (Anonymeter): Evaluating  Inference.\n",
      "Evaluator (Anonymeter): Evaluating  Inference spent 0.5692 sec.\n",
      "Evaluator (Anonymeter - Inference): Now is Inference Evaluator\n",
      "Evaluator (Anonymeter - Inference): Evaluator time: 0.0 sec.\n",
      "Evaluator (Anonymeter): Evaluating  Inference.\n",
      "Evaluator (Anonymeter): Evaluating  Inference spent 0.555 sec.\n",
      "Evaluator (Anonymeter - Inference): Now is Inference Evaluator\n",
      "Evaluator (Anonymeter - Inference): Evaluator time: 0.0 sec.\n",
      "Evaluator (Anonymeter): Evaluating  Inference.\n",
      "Evaluator (Anonymeter): Evaluating  Inference spent 0.5682 sec.\n",
      "Evaluator (Anonymeter - Inference): Now is Inference Evaluator\n",
      "Evaluator (Anonymeter - Inference): Evaluator time: 0.0 sec.\n",
      "Evaluator (Anonymeter): Evaluating  Inference.\n",
      "Evaluator (Anonymeter): Evaluating  Inference spent 0.553 sec.\n",
      "Evaluator (Anonymeter - Inference): Now is Inference Evaluator\n",
      "Evaluator (Anonymeter - Inference): Evaluator time: 0.0 sec.\n",
      "Evaluator (Anonymeter): Evaluating  Inference.\n",
      "Evaluator (Anonymeter): Evaluating  Inference spent 0.5736 sec.\n",
      "Evaluator (Anonymeter - Inference): Now is Inference Evaluator\n",
      "Evaluator (Anonymeter - Inference): Evaluator time: 0.0 sec.\n",
      "Evaluator (Anonymeter): Evaluating  Inference.\n",
      "Evaluator (Anonymeter): Evaluating  Inference spent 0.5542 sec.\n",
      "Evaluator (Anonymeter - Inference): Now is Inference Evaluator\n",
      "Evaluator (Anonymeter - Inference): Evaluator time: 0.0 sec.\n",
      "Evaluator (Anonymeter): Evaluating  Inference.\n",
      "Evaluator (Anonymeter): Evaluating  Inference spent 0.5537 sec.\n",
      "Evaluator (Anonymeter - Inference): Now is Inference Evaluator\n",
      "Evaluator (Anonymeter - Inference): Evaluator time: 0.0 sec.\n",
      "Evaluator (Anonymeter): Evaluating  Inference.\n",
      "Evaluator (Anonymeter): Evaluating  Inference spent 0.5563 sec.\n",
      "Evaluator (Anonymeter - Inference): Now is Inference Evaluator\n",
      "Evaluator (Anonymeter - Inference): Evaluator time: 0.0 sec.\n",
      "Evaluator (Anonymeter): Evaluating  Inference.\n",
      "Evaluator (Anonymeter): Evaluating  Inference spent 0.5582 sec.\n",
      "Evaluator (Anonymeter - Inference): Now is Inference Evaluator\n",
      "Evaluator (Anonymeter - Inference): Evaluator time: 0.0 sec.\n",
      "Evaluator (Anonymeter): Evaluating  Inference.\n",
      "Evaluator (Anonymeter): Evaluating  Inference spent 0.5566 sec.\n",
      "Evaluator (Anonymeter - Inference): Now is Inference Evaluator\n",
      "Evaluator (Anonymeter - Inference): Evaluator time: 0.0 sec.\n",
      "Evaluator (Anonymeter): Evaluating  Inference.\n",
      "Evaluator (Anonymeter): Evaluating  Inference spent 0.5641 sec.\n",
      "Evaluator (Anonymeter - Inference): Now is Inference Evaluator\n",
      "Evaluator (Anonymeter - Inference): Evaluator time: 0.0 sec.\n",
      "Evaluator (Anonymeter): Evaluating  Inference.\n",
      "Evaluator (Anonymeter): Evaluating  Inference spent 0.5681 sec.\n",
      "Evaluator (Anonymeter - Inference): Now is Inference Evaluator\n",
      "Evaluator (Anonymeter - Inference): Evaluator time: 0.0 sec.\n",
      "Evaluator (Anonymeter): Evaluating  Inference.\n",
      "Evaluator (Anonymeter): Evaluating  Inference spent 0.5618 sec.\n",
      "Evaluator (Anonymeter - Inference): Now is Inference Evaluator\n",
      "Evaluator (Anonymeter - Inference): Evaluator time: 0.0 sec.\n",
      "Evaluator (Anonymeter): Evaluating  Inference.\n",
      "Evaluator (Anonymeter): Evaluating  Inference spent 0.5546 sec.\n",
      "Evaluator (Anonymeter - Inference): Now is Inference Evaluator\n",
      "Evaluator (Anonymeter - Inference): Evaluator time: 0.0 sec.\n",
      "Evaluator (Anonymeter): Evaluating  Inference.\n",
      "Evaluator (Anonymeter): Evaluating  Inference spent 0.5575 sec.\n",
      "Executor - Evaluator: anonymeter-inferencex2 at 1 trials evaluating time: 8.4786 sec.\n",
      "Evaluator (Anonymeter - Inference): Now is Inference Evaluator\n",
      "Evaluator (Anonymeter - Inference): Evaluator time: 0.0 sec.\n",
      "Evaluator (Anonymeter): Evaluating  Inference.\n",
      "Evaluator (Anonymeter): Evaluating  Inference spent 0.5671 sec.\n",
      "Evaluator (Anonymeter - Inference): Now is Inference Evaluator\n",
      "Evaluator (Anonymeter - Inference): Evaluator time: 0.0 sec.\n",
      "Evaluator (Anonymeter): Evaluating  Inference.\n",
      "Evaluator (Anonymeter): Evaluating  Inference spent 0.557 sec.\n",
      "Evaluator (Anonymeter - Inference): Now is Inference Evaluator\n",
      "Evaluator (Anonymeter - Inference): Evaluator time: 0.0 sec.\n",
      "Evaluator (Anonymeter): Evaluating  Inference.\n",
      "Evaluator (Anonymeter): Evaluating  Inference spent 0.566 sec.\n",
      "Evaluator (Anonymeter - Inference): Now is Inference Evaluator\n",
      "Evaluator (Anonymeter - Inference): Evaluator time: 0.0 sec.\n",
      "Evaluator (Anonymeter): Evaluating  Inference.\n",
      "Evaluator (Anonymeter): Evaluating  Inference spent 0.5574 sec.\n",
      "Evaluator (Anonymeter - Inference): Now is Inference Evaluator\n",
      "Evaluator (Anonymeter - Inference): Evaluator time: 0.0 sec.\n",
      "Evaluator (Anonymeter): Evaluating  Inference.\n",
      "Evaluator (Anonymeter): Evaluating  Inference spent 0.5639 sec.\n",
      "Evaluator (Anonymeter - Inference): Now is Inference Evaluator\n",
      "Evaluator (Anonymeter - Inference): Evaluator time: 0.0 sec.\n",
      "Evaluator (Anonymeter): Evaluating  Inference.\n",
      "Evaluator (Anonymeter): Evaluating  Inference spent 0.5563 sec.\n",
      "Evaluator (Anonymeter - Inference): Now is Inference Evaluator\n",
      "Evaluator (Anonymeter - Inference): Evaluator time: 0.0 sec.\n",
      "Evaluator (Anonymeter): Evaluating  Inference.\n",
      "Evaluator (Anonymeter): Evaluating  Inference spent 0.5569 sec.\n",
      "Evaluator (Anonymeter - Inference): Now is Inference Evaluator\n",
      "Evaluator (Anonymeter - Inference): Evaluator time: 0.0 sec.\n",
      "Evaluator (Anonymeter): Evaluating  Inference.\n",
      "Evaluator (Anonymeter): Evaluating  Inference spent 0.5525 sec.\n",
      "Evaluator (Anonymeter - Inference): Now is Inference Evaluator\n",
      "Evaluator (Anonymeter - Inference): Evaluator time: 0.0 sec.\n",
      "Evaluator (Anonymeter): Evaluating  Inference.\n",
      "Evaluator (Anonymeter): Evaluating  Inference spent 0.5553 sec.\n",
      "Evaluator (Anonymeter - Inference): Now is Inference Evaluator\n",
      "Evaluator (Anonymeter - Inference): Evaluator time: 0.0 sec.\n",
      "Evaluator (Anonymeter): Evaluating  Inference.\n",
      "Evaluator (Anonymeter): Evaluating  Inference spent 0.5554 sec.\n",
      "Evaluator (Anonymeter - Inference): Now is Inference Evaluator\n",
      "Evaluator (Anonymeter - Inference): Evaluator time: 0.0 sec.\n",
      "Evaluator (Anonymeter): Evaluating  Inference.\n",
      "Evaluator (Anonymeter): Evaluating  Inference spent 0.5687 sec.\n",
      "Evaluator (Anonymeter - Inference): Now is Inference Evaluator\n",
      "Evaluator (Anonymeter - Inference): Evaluator time: 0.0 sec.\n",
      "Evaluator (Anonymeter): Evaluating  Inference.\n",
      "Evaluator (Anonymeter): Evaluating  Inference spent 0.5674 sec.\n",
      "Evaluator (Anonymeter - Inference): Now is Inference Evaluator\n",
      "Evaluator (Anonymeter - Inference): Evaluator time: 0.0 sec.\n",
      "Evaluator (Anonymeter): Evaluating  Inference.\n",
      "Evaluator (Anonymeter): Evaluating  Inference spent 0.5631 sec.\n",
      "Evaluator (Anonymeter - Inference): Now is Inference Evaluator\n",
      "Evaluator (Anonymeter - Inference): Evaluator time: 0.0 sec.\n",
      "Evaluator (Anonymeter): Evaluating  Inference.\n",
      "Evaluator (Anonymeter): Evaluating  Inference spent 0.5569 sec.\n",
      "Evaluator (Anonymeter - Inference): Now is Inference Evaluator\n",
      "Evaluator (Anonymeter - Inference): Evaluator time: 0.0 sec.\n",
      "Evaluator (Anonymeter): Evaluating  Inference.\n",
      "Evaluator (Anonymeter): Evaluating  Inference spent 0.5552 sec.\n",
      "Executor - Evaluator: anonymeter-inferencex2 at 2 trials evaluating time: 8.4745 sec.\n",
      "Preprocessor - Outlierist (IQR): Dropped  1073 rows on fnlwgt         . Kept [-63742.5, 418829.5] only.\n",
      "Preprocessor - Outlierist (IQR): Dropped   230 rows on educational-num. Kept [3.0, 19.0] only.\n",
      "Preprocessor - Outlierist (IQR): Dropped  1736 rows on capital-loss   . Kept [0.0, 0.0] only.\n",
      "Preprocessor - Outlierist (IQR): Dropped   218 rows on age            . Kept [-0.5, 75.5] only.\n",
      "Preprocessor - Outlierist (IQR): Dropped  2995 rows on capital-gain   . Kept [0.0, 0.0] only.\n",
      "Preprocessor - Outlierist (IQR): Totally Dropped  6046 in 36142 rows.\n",
      "Preprocessor - Encoder (Label): Column native-country  been labelized from 0 to 39.\n",
      "Preprocessor - Encoder (Label): Column gender          been labelized from 0 to  1.\n",
      "Preprocessor - Encoder (Label): Column race            been labelized from 0 to  4.\n",
      "Preprocessor - Encoder (Label): Column relationship    been labelized from 0 to  5.\n",
      "Preprocessor - Encoder (Label): Column education       been labelized from 0 to 13.\n",
      "Preprocessor - Encoder (Label): Column income          been labelized from 0 to  1.\n",
      "Preprocessor - Encoder (Label): Column workclass       been labelized from 0 to  6.\n",
      "Preprocessor - Encoder (Label): Column occupation      been labelized from 0 to 13.\n",
      "Preprocessor - Encoder (Label): Column marital-status  been labelized from 0 to  6.\n",
      "Preprocessor - Scaler (Standard): Column fnlwgt been standardized.\n",
      "Executor - Preprocessor: drop-IQR-Label-Standard preprocessing time: 0.0794 sec.\n",
      "Synthesizer (SDV - SingleTable): Metafile loading time: 0.0257 sec.\n",
      "Synthesizer (SDV - SingleTable): Fitting  GaussianCoupula.\n",
      "Synthesizer (SDV - SingleTable): Fitting  GaussianCoupula spent 15.4085 sec.\n",
      "Synthesizer (SDV - SingleTable): Sampling GaussianCoupula # 30096 rows (same as raw) in 1.7843 sec.\n",
      "Executor - Synthesizer: sdv-singletable-gaussiancoupula synthesizing time: 17.2223 sec.\n",
      "Postprocessor - Scaler (StandardScaler): Decoding fnlwgt.\n",
      "Postprocessor - Encoder (LabelEncoder): Decoding native-country.\n",
      "Postprocessor - Encoder (LabelEncoder): Decoding gender.\n",
      "Postprocessor - Encoder (LabelEncoder): Decoding race.\n",
      "Postprocessor - Encoder (LabelEncoder): Decoding relationship.\n",
      "Postprocessor - Encoder (LabelEncoder): Decoding education.\n",
      "Postprocessor - Encoder (LabelEncoder): Decoding income.\n",
      "Postprocessor - Encoder (LabelEncoder): Decoding workclass.\n",
      "Postprocessor - Encoder (LabelEncoder): Decoding occupation.\n",
      "Postprocessor - Encoder (LabelEncoder): Decoding marital-status.\n",
      "Executor - Postprocessor: postprocessing time: 0.0178 sec.\n",
      "Evaluator (Anonymeter - Inference): Now is Inference Evaluator\n",
      "Evaluator (Anonymeter - Inference): Evaluator time: 0.0001 sec.\n",
      "Evaluator (Anonymeter): Evaluating  Inference.\n",
      "Evaluator (Anonymeter): Evaluating  Inference spent 0.5757 sec.\n",
      "Evaluator (Anonymeter - Inference): Now is Inference Evaluator\n",
      "Evaluator (Anonymeter - Inference): Evaluator time: 0.0 sec.\n",
      "Evaluator (Anonymeter): Evaluating  Inference.\n",
      "Evaluator (Anonymeter): Evaluating  Inference spent 0.5678 sec.\n",
      "Evaluator (Anonymeter - Inference): Now is Inference Evaluator\n",
      "Evaluator (Anonymeter - Inference): Evaluator time: 0.0 sec.\n",
      "Evaluator (Anonymeter): Evaluating  Inference.\n",
      "Evaluator (Anonymeter): Evaluating  Inference spent 0.5739 sec.\n",
      "Evaluator (Anonymeter - Inference): Now is Inference Evaluator\n",
      "Evaluator (Anonymeter - Inference): Evaluator time: 0.0 sec.\n",
      "Evaluator (Anonymeter): Evaluating  Inference.\n",
      "Evaluator (Anonymeter): Evaluating  Inference spent 0.5679 sec.\n",
      "Evaluator (Anonymeter - Inference): Now is Inference Evaluator\n",
      "Evaluator (Anonymeter - Inference): Evaluator time: 0.0 sec.\n",
      "Evaluator (Anonymeter): Evaluating  Inference.\n",
      "Evaluator (Anonymeter): Evaluating  Inference spent 0.5716 sec.\n",
      "Evaluator (Anonymeter - Inference): Now is Inference Evaluator\n",
      "Evaluator (Anonymeter - Inference): Evaluator time: 0.0 sec.\n",
      "Evaluator (Anonymeter): Evaluating  Inference.\n",
      "Evaluator (Anonymeter): Evaluating  Inference spent 0.5635 sec.\n",
      "Evaluator (Anonymeter - Inference): Now is Inference Evaluator\n",
      "Evaluator (Anonymeter - Inference): Evaluator time: 0.0 sec.\n",
      "Evaluator (Anonymeter): Evaluating  Inference.\n",
      "Evaluator (Anonymeter): Evaluating  Inference spent 0.564 sec.\n",
      "Evaluator (Anonymeter - Inference): Now is Inference Evaluator\n",
      "Evaluator (Anonymeter - Inference): Evaluator time: 0.0 sec.\n",
      "Evaluator (Anonymeter): Evaluating  Inference.\n",
      "Evaluator (Anonymeter): Evaluating  Inference spent 0.5629 sec.\n",
      "Evaluator (Anonymeter - Inference): Now is Inference Evaluator\n",
      "Evaluator (Anonymeter - Inference): Evaluator time: 0.0 sec.\n",
      "Evaluator (Anonymeter): Evaluating  Inference.\n",
      "Evaluator (Anonymeter): Evaluating  Inference spent 0.5654 sec.\n",
      "Evaluator (Anonymeter - Inference): Now is Inference Evaluator\n",
      "Evaluator (Anonymeter - Inference): Evaluator time: 0.0 sec.\n",
      "Evaluator (Anonymeter): Evaluating  Inference.\n",
      "Evaluator (Anonymeter): Evaluating  Inference spent 0.5635 sec.\n",
      "Evaluator (Anonymeter - Inference): Now is Inference Evaluator\n",
      "Evaluator (Anonymeter - Inference): Evaluator time: 0.0 sec.\n",
      "Evaluator (Anonymeter): Evaluating  Inference.\n",
      "Evaluator (Anonymeter): Evaluating  Inference spent 0.5734 sec.\n",
      "Evaluator (Anonymeter - Inference): Now is Inference Evaluator\n",
      "Evaluator (Anonymeter - Inference): Evaluator time: 0.0 sec.\n",
      "Evaluator (Anonymeter): Evaluating  Inference.\n",
      "Evaluator (Anonymeter): Evaluating  Inference spent 0.5723 sec.\n",
      "Evaluator (Anonymeter - Inference): Now is Inference Evaluator\n",
      "Evaluator (Anonymeter - Inference): Evaluator time: 0.0 sec.\n",
      "Evaluator (Anonymeter): Evaluating  Inference.\n",
      "Evaluator (Anonymeter): Evaluating  Inference spent 0.5736 sec.\n",
      "Evaluator (Anonymeter - Inference): Now is Inference Evaluator\n",
      "Evaluator (Anonymeter - Inference): Evaluator time: 0.0 sec.\n",
      "Evaluator (Anonymeter): Evaluating  Inference.\n",
      "Evaluator (Anonymeter): Evaluating  Inference spent 0.5636 sec.\n",
      "Evaluator (Anonymeter - Inference): Now is Inference Evaluator\n",
      "Evaluator (Anonymeter - Inference): Evaluator time: 0.0 sec.\n",
      "Evaluator (Anonymeter): Evaluating  Inference.\n",
      "Evaluator (Anonymeter): Evaluating  Inference spent 0.5653 sec.\n",
      "Executor - Evaluator: anonymeter-inferencex2 at 1 trials evaluating time: 8.5974 sec.\n",
      "Evaluator (Anonymeter - Inference): Now is Inference Evaluator\n",
      "Evaluator (Anonymeter - Inference): Evaluator time: 0.0 sec.\n",
      "Evaluator (Anonymeter): Evaluating  Inference.\n",
      "Evaluator (Anonymeter): Evaluating  Inference spent 0.5727 sec.\n",
      "Evaluator (Anonymeter - Inference): Now is Inference Evaluator\n",
      "Evaluator (Anonymeter - Inference): Evaluator time: 0.0 sec.\n",
      "Evaluator (Anonymeter): Evaluating  Inference.\n",
      "Evaluator (Anonymeter): Evaluating  Inference spent 0.5671 sec.\n",
      "Evaluator (Anonymeter - Inference): Now is Inference Evaluator\n",
      "Evaluator (Anonymeter - Inference): Evaluator time: 0.0 sec.\n",
      "Evaluator (Anonymeter): Evaluating  Inference.\n",
      "Evaluator (Anonymeter): Evaluating  Inference spent 0.5791 sec.\n",
      "Evaluator (Anonymeter - Inference): Now is Inference Evaluator\n",
      "Evaluator (Anonymeter - Inference): Evaluator time: 0.0 sec.\n",
      "Evaluator (Anonymeter): Evaluating  Inference.\n",
      "Evaluator (Anonymeter): Evaluating  Inference spent 0.5691 sec.\n",
      "Evaluator (Anonymeter - Inference): Now is Inference Evaluator\n",
      "Evaluator (Anonymeter - Inference): Evaluator time: 0.0 sec.\n",
      "Evaluator (Anonymeter): Evaluating  Inference.\n",
      "Evaluator (Anonymeter): Evaluating  Inference spent 0.5825 sec.\n",
      "Evaluator (Anonymeter - Inference): Now is Inference Evaluator\n",
      "Evaluator (Anonymeter - Inference): Evaluator time: 0.0 sec.\n",
      "Evaluator (Anonymeter): Evaluating  Inference.\n",
      "Evaluator (Anonymeter): Evaluating  Inference spent 0.5646 sec.\n",
      "Evaluator (Anonymeter - Inference): Now is Inference Evaluator\n",
      "Evaluator (Anonymeter - Inference): Evaluator time: 0.0 sec.\n",
      "Evaluator (Anonymeter): Evaluating  Inference.\n",
      "Evaluator (Anonymeter): Evaluating  Inference spent 0.5598 sec.\n",
      "Evaluator (Anonymeter - Inference): Now is Inference Evaluator\n",
      "Evaluator (Anonymeter - Inference): Evaluator time: 0.0 sec.\n",
      "Evaluator (Anonymeter): Evaluating  Inference.\n",
      "Evaluator (Anonymeter): Evaluating  Inference spent 0.5656 sec.\n",
      "Evaluator (Anonymeter - Inference): Now is Inference Evaluator\n",
      "Evaluator (Anonymeter - Inference): Evaluator time: 0.0 sec.\n",
      "Evaluator (Anonymeter): Evaluating  Inference.\n",
      "Evaluator (Anonymeter): Evaluating  Inference spent 0.5636 sec.\n",
      "Evaluator (Anonymeter - Inference): Now is Inference Evaluator\n",
      "Evaluator (Anonymeter - Inference): Evaluator time: 0.0 sec.\n",
      "Evaluator (Anonymeter): Evaluating  Inference.\n",
      "Evaluator (Anonymeter): Evaluating  Inference spent 0.5624 sec.\n",
      "Evaluator (Anonymeter - Inference): Now is Inference Evaluator\n",
      "Evaluator (Anonymeter - Inference): Evaluator time: 0.0 sec.\n",
      "Evaluator (Anonymeter): Evaluating  Inference.\n",
      "Evaluator (Anonymeter): Evaluating  Inference spent 0.5778 sec.\n",
      "Evaluator (Anonymeter - Inference): Now is Inference Evaluator\n",
      "Evaluator (Anonymeter - Inference): Evaluator time: 0.0 sec.\n",
      "Evaluator (Anonymeter): Evaluating  Inference.\n",
      "Evaluator (Anonymeter): Evaluating  Inference spent 0.5729 sec.\n",
      "Evaluator (Anonymeter - Inference): Now is Inference Evaluator\n",
      "Evaluator (Anonymeter - Inference): Evaluator time: 0.0 sec.\n",
      "Evaluator (Anonymeter): Evaluating  Inference.\n",
      "Evaluator (Anonymeter): Evaluating  Inference spent 0.5712 sec.\n",
      "Evaluator (Anonymeter - Inference): Now is Inference Evaluator\n",
      "Evaluator (Anonymeter - Inference): Evaluator time: 0.0 sec.\n",
      "Evaluator (Anonymeter): Evaluating  Inference.\n",
      "Evaluator (Anonymeter): Evaluating  Inference spent 0.564 sec.\n",
      "Evaluator (Anonymeter - Inference): Now is Inference Evaluator\n",
      "Evaluator (Anonymeter - Inference): Evaluator time: 0.0 sec.\n",
      "Evaluator (Anonymeter): Evaluating  Inference.\n",
      "Evaluator (Anonymeter): Evaluating  Inference spent 0.5639 sec.\n",
      "Executor - Evaluator: anonymeter-inferencex2 at 2 trials evaluating time: 8.6093 sec.\n",
      "====== ====== ====== ====== ====== ======\n",
      "Executor (run - single process): Total execution time: 75.8472 sec.\n",
      "====== ====== ====== ====== ====== ======\n"
     ]
    },
    {
     "data": {
      "text/plain": [
       "{'Risk': 0.0,\n",
       " 'Risk_CI_btm': 0.0,\n",
       " 'Risk_CI_top': 0.03551128508197159,\n",
       " 'Attack_Rate': 0.08518697431292883,\n",
       " 'Attack_Rate_err': 0.024167884844459902,\n",
       " 'Baseline_Rate': 0.07923272035569816,\n",
       " 'Baseline_Rate_err': 0.02336369331827033,\n",
       " 'Control_Rate': 0.08717172563200573,\n",
       " 'Control_Rate_err': 0.02442758882817536}"
      ]
     },
     "execution_count": 11,
     "metadata": {},
     "output_type": "execute_result"
    }
   ],
   "source": [
    "import PETsARD\n",
    "import os\n",
    "import sys\n",
    "\n",
    "# sys.path.append('D:\\\\Dropbox\\\\89_其他應用\\\\GitHub\\\\PETs-Experiment')\n",
    "# os.chdir('D:\\\\Dropbox\\\\89_其他應用\\\\GitHub\\\\PETs-Experiment\\\\demo')\n",
    "sys.path.append('/home/ec2-user/SageMaker/PETs-Experiment')\n",
    "os.chdir('/home/ec2-user/SageMaker/PETs-Experiment/demo')\n",
    "\n",
    "\n",
    "para_Executor = {\n",
    "    'Loader_filepath': '../[sunset]/data/[Adt Income] adult.csv', 'Loader_na_values': {k: '?' for k in ['workclass', 'occupation', 'native-country']}, 'Splitter_num_samples': 2, 'Splitter_train_split_ratio': 0.8, 'Preprocessor_missing_method': 'drop', 'Preprocessor_outlier_method': 'IQR', 'Preprocessor_outlier_columns': {'ignore': ['hours-per-week']}, 'Preprocessor_encoding_method': 'Label', 'Preprocessor_scaling': True, 'Preprocessor_scaling_method': 'Standard', 'Preprocessor_scaling_columns': {'focus': 'fnlwgt'}, 'Synthesizer_synthesizing_method': 'sdv-singletable-gaussiancoupula', 'Evaluator_evaluating_method': 'anonymeter-inference', 'Evaluator_anonymeter_n_attacks': 1  # 2000\n",
    "    , 'Evaluator_num_samples': 2\n",
    "}\n",
    "\n",
    "executor_single = PETsARD.Executor(**para_Executor)\n",
    "executor_single.run()\n",
    "next(iter(\n",
    "    executor_single.evaluator[('[Adt Income] adult.csv',\n",
    "                               '0.8x2',\n",
    "                               1,\n",
    "                               'drop-IQR-Label-Standard',\n",
    "                               'sdv-singletable-gaussiancoupula',\n",
    "                               'anonymeter-inferencex2',\n",
    "                               1)].values())).Evaluator.evaluation\n",
    "\n",
    "# executor_single = PETsARD.Executor(**para_Executor)\n",
    "# executor_single.run_parallel()\n",
    "# next(iter(\n",
    "#     executor_single.evaluator[('[Adt Income] adult.csv',\n",
    "#         '0.8x2',\n",
    "#         1,\n",
    "#         'drop-IQR-Label-Standard',\n",
    "#         'sdv-singletable-gaussiancoupula',\n",
    "#         'anonymeter-inferencex2',\n",
    "#         1)].values())).Evaluator.evaluation\n"
   ]
  },
  {
   "cell_type": "code",
   "execution_count": null,
   "metadata": {
    "jupyter": {
     "source_hidden": true
    },
    "tags": []
   },
   "outputs": [],
   "source": [
    "import pandas as pd\n",
    "for i in ['01', '02', '03']:  # ,'04','05','06'\n",
    "    eval = PETsARD.Evaluator(evaluating_method='anonymeter-singlingout-univariate', data={'ori': pd.read_csv(f\"PETsARD[20231224-085805]_Trial[{i}][Ori].csv\"), 'syn': pd.read_csv(f\"PETsARD[20231224-085805]_Trial[{i}-1-1]Postproc.csv\"), 'control': pd.read_csv(f\"PETsARD[20231224-085805]_Trial[{i}][Ctrl].csv\")\n",
    "                                                                                          }, anonymeter_n_attacks=500\n",
    "                             )\n",
    "    eval.eval()\n",
    "    print(eval.Evaluator.evaluation)\n"
   ]
  },
  {
   "cell_type": "code",
   "execution_count": null,
   "metadata": {
    "jupyter": {
     "source_hidden": true
    },
    "tags": []
   },
   "outputs": [],
   "source": [
    "import pandas as pd\n",
    "\n",
    "\n",
    "def Result(__evaluator):\n",
    "    import numpy as np\n",
    "    __dict_result = {}\n",
    "    __para_to_handle = [('Risk', ['risk()', 'value']), ('Risk_CI_btm', ['risk()', 'ci[0]']), ('Risk_CI_top', ['risk()', 'ci[1]']), ('Attack_Rate', ['results()', 'attack_rate', 'value']), ('Attack_Rate_err', ['results()', 'attack_rate', 'error']), ('Baseline_Rate', ['results()', 'baseline_rate', 'value']), ('Baseline_Rate_err', ['results()', 'baseline_rate', 'error']), ('Control_Rate', ['results()', 'control_rate', 'value']), ('Control_Rate_err', ['results()', 'control_rate', 'error'])\n",
    "                        ]\n",
    "    for __key, __attrs in __para_to_handle:\n",
    "        try:\n",
    "            __attr_value = __evaluator\n",
    "            for __attr in __attrs:\n",
    "                if '()' in __attr:\n",
    "                    __method_name = __attr.split('(')[0]\n",
    "                    if hasattr(__attr_value, __method_name):\n",
    "                        __method = getattr(__attr_value, __method_name)\n",
    "                        if callable(__method):\n",
    "                            __attr_value = __method()\n",
    "                        else:\n",
    "                            __dict_result[__key] = np.nan\n",
    "                            break\n",
    "                    else:\n",
    "                        __dict_result[__key] = np.nan\n",
    "                        break\n",
    "                elif '[' in __attr:\n",
    "                    __attr_name = __attr.split('[')[0]\n",
    "                    __index = int(__attr.split('[')[1].rstrip(']'))\n",
    "                    if hasattr(__attr_value, __attr_name)\\\n",
    "                            and isinstance(getattr(__attr_value, __attr_name), (list, dict, tuple)):\n",
    "                        try:\n",
    "                            __attr_value = getattr(\n",
    "                                __attr_value, __attr_name)[__index]\n",
    "                        except (IndexError, KeyError):\n",
    "                            __dict_result[__key] = np.nan\n",
    "                            break\n",
    "                    else:\n",
    "                        __dict_result[__key] = np.nan\n",
    "                        break\n",
    "                else:\n",
    "                    __attr_value = getattr(__attr_value, __attr)\n",
    "            __dict_result[__key] = __attr_value\n",
    "        except Exception as e:\n",
    "            __dict_result[__key] = np.nan\n",
    "    return __dict_result\n",
    "\n",
    "\n",
    "for i in ['01', '02', '03']:  # ,'04','05','06'\n",
    "    from anonymeter.evaluators import SinglingOutEvaluator\n",
    "    print(f\"PETsARD[20231224-085805]_Trial[{i}][Ori].csv\")\n",
    "    evaluator = SinglingOutEvaluator(ori=pd.read_csv(f\"PETsARD[20231224-085805]_Trial[{i}][Ori].csv\"), syn=pd.read_csv(f\"PETsARD[20231224-085805]_Trial[{i}-1-1]Postproc.csv\"), control=pd.read_csv(f\"PETsARD[20231224-085805]_Trial[{i}][Ctrl].csv\"), n_attacks=2000\n",
    "                                     )\n",
    "    try:\n",
    "        evaluator.evaluate(mode='univariate')\n",
    "        print(Result(evaluator))\n",
    "    except RuntimeError as ex:\n",
    "        print(f\"Singling out evaluation failed with {ex}.\"\n",
    "              \"Please re-run this cell.\"\n",
    "              \"For more stable results increase `n_attacks`. Note that this will \"\n",
    "              \"make the evaluation slower.\")\n"
   ]
  },
  {
   "cell_type": "code",
   "execution_count": null,
   "metadata": {
    "jupyter": {
     "source_hidden": true
    },
    "tags": []
   },
   "outputs": [],
   "source": [
    "import pandas as pd\n",
    "for i in ['01', '02', '03']:  # ,'04','05','06'\n",
    "    eval = PETsARD.Evaluator(evaluating_method='anonymeter-singlingout-univariate', data={'ori': pd.read_csv(f\"PETsARD[20231224-085805]_Trial[{i}][Ori].csv\"), 'syn': pd.read_csv(f\"PETsARD[20231224-085805]_Trial[{i}-1-1]Postproc.csv\"), 'control': pd.read_csv(f\"PETsARD[20231224-085805]_Trial[{i}][Ctrl].csv\")\n",
    "                                                                                          }, anonymeter_n_attacks=500\n",
    "                             )\n",
    "    eval.eval()\n",
    "    print(eval.Evaluator.evaluation)\n"
   ]
  },
  {
   "cell_type": "code",
   "execution_count": null,
   "metadata": {
    "jupyter": {
     "source_hidden": true
    },
    "tags": []
   },
   "outputs": [],
   "source": [
    "import itertools\n",
    "for type in ['][Ori]', '][Ctrl]', '-1-1]Postproc']:\n",
    "    for combo in itertools.combinations(['01', '02', '03', '04', '05', '06'], 2):\n",
    "        df_a = pd.read_csv(\n",
    "            f\"PETsARD[20231224-085805]_Trial[{combo[0]}{type}.csv\")\n",
    "        df_b = pd.read_csv(\n",
    "            f\"PETsARD[20231224-085805]_Trial[{combo[1]}{type}.csv\")\n",
    "        if df_a.equals(df_b):\n",
    "            print(type+': '+str(combo))\n",
    "            print(\"They're same!!??\")\n",
    "        # else:\n",
    "            # print(type+': '+str(combo))\n",
    "            # print(\"They're different.\")\n",
    "print('done.')\n"
   ]
  },
  {
   "cell_type": "code",
   "execution_count": null,
   "metadata": {},
   "outputs": [],
   "source": []
  },
  {
   "cell_type": "code",
   "execution_count": null,
   "metadata": {
    "collapsed": true,
    "jupyter": {
     "outputs_hidden": true
    },
    "tags": []
   },
   "outputs": [
    {
     "data": {
      "text/plain": [
       "{'Risk': 0.0022375332675201006,\n",
       " 'Risk_CI_btm': 0.0,\n",
       " 'Risk_CI_top': 0.046174667591818215,\n",
       " 'Attack_Rate': 0.11495824409908227,\n",
       " 'Attack_Rate_err': 0.027695443904980018,\n",
       " 'Baseline_Rate': 0.07724796903662126,\n",
       " 'Baseline_Rate_err': 0.023086784285609292,\n",
       " 'Control_Rate': 0.11297349278000537,\n",
       " 'Control_Rate_err': 0.027482077623402282}"
      ]
     },
     "execution_count": 1,
     "metadata": {},
     "output_type": "execute_result"
    }
   ],
   "source": [
    "import PETsARD\n",
    "import os\n",
    "import sys\n",
    "\n",
    "sys.path.append('D:\\\\Dropbox\\\\89_其他應用\\\\GitHub\\\\PETs-Experiment')\n",
    "os.chdir('D:\\\\Dropbox\\\\89_其他應用\\\\GitHub\\\\PETs-Experiment\\\\demo')\n",
    "\n",
    "\n",
    "para_Executor = {\n",
    "    'Loader_filepath': '../[sunset]/data/[Adt Income] adult.csv', 'Loader_na_values': {k: '?' for k in ['workclass', 'occupation', 'native-country']}, 'Splitter_num_samples': 2, 'Splitter_train_split_ratio': 0.8, 'Preprocessor_missing_method': 'drop', 'Preprocessor_outlier_method': 'IQR', 'Preprocessor_outlier_columns': {'ignore': ['hours-per-week']}, 'Preprocessor_encoding_method': 'Label', 'Preprocessor_scaling': True, 'Preprocessor_scaling_method': 'Standard', 'Preprocessor_scaling_columns': {'focus': 'fnlwgt'}, 'Synthesizer_synthesizing_method': 'sdv-singletable-gaussiancoupula', 'Evaluator_evaluating_method': 'anonymeter-inference', 'Evaluator_anonymeter_n_attacks': 1  # 2000\n",
    "    , 'Evaluator_num_samples': 2\n",
    "}\n",
    "\n",
    "executor_single = PETsARD.Executor(**para_Executor)\n",
    "executor_single.run_single_process()\n",
    "next(iter(\n",
    "    executor_single.evaluator[('[Adt Income] adult.csv',\n",
    "                               '0.8',\n",
    "                               1,\n",
    "                               'drop-IQR-Label-Standard',\n",
    "                               'sdv-singletable-gaussiancoupula',\n",
    "                               'anonymeter-inference',\n",
    "                               1)].values())).Evaluator.evaluation\n",
    "\n",
    "executor_single = PETsARD.Executor(**para_Executor)\n",
    "executor_single.run()\n",
    "next(iter(\n",
    "    executor_single.evaluator[('[Adt Income] adult.csv',\n",
    "                               '0.8',\n",
    "                               1,\n",
    "                               'drop-IQR-Label-Standard',\n",
    "                               'sdv-singletable-gaussiancoupula',\n",
    "                               'anonymeter-inference',\n",
    "                               1)].values())).Evaluator.evaluation\n"
   ]
  },
  {
   "cell_type": "code",
   "execution_count": 19,
   "metadata": {},
   "outputs": [
    {
     "name": "stdout",
     "output_type": "stream",
     "text": [
      "Executor - Loader: adult loading time: 6.8097 sec.\n",
      "Executor - Splitter: 0.8 splitting time: 0.339 sec.\n",
      "Preprocessor - Outlierist (IQR): Dropped  1060 rows on fnlwgt         . Kept [-63981.5, 419234.5] only.\n",
      "Preprocessor - Outlierist (IQR): Dropped   227 rows on educational-num. Kept [3.0, 19.0] only.\n",
      "Preprocessor - Outlierist (IQR): Dropped  1705 rows on capital-loss   . Kept [0.0, 0.0] only.\n",
      "Preprocessor - Outlierist (IQR): Dropped  9432 rows on hours-per-week . Kept [32.5, 52.5] only.\n",
      "Preprocessor - Outlierist (IQR): Dropped   214 rows on age            . Kept [-0.5, 75.5] only.\n",
      "Preprocessor - Outlierist (IQR): Dropped  3030 rows on capital-gain   . Kept [0.0, 0.0] only.\n",
      "Preprocessor - Outlierist (IQR): Totally Dropped 13932 in 36207 rows.\n",
      "Preprocessor - Encoder (Label): Column native-country  been labelized from 0 to 39.\n",
      "Preprocessor - Encoder (Label): Column gender          been labelized from 0 to  1.\n",
      "Preprocessor - Encoder (Label): Column race            been labelized from 0 to  4.\n",
      "Preprocessor - Encoder (Label): Column relationship    been labelized from 0 to  5.\n",
      "Preprocessor - Encoder (Label): Column education       been labelized from 0 to 13.\n",
      "Preprocessor - Encoder (Label): Column income          been labelized from 0 to  1.\n",
      "Preprocessor - Encoder (Label): Column workclass       been labelized from 0 to  6.\n",
      "Preprocessor - Encoder (Label): Column occupation      been labelized from 0 to 13.\n",
      "Preprocessor - Encoder (Label): Column marital-status  been labelized from 0 to  6.\n",
      "Executor - Preprocessor: drop-IQR-stanard-NA preprocessing time: 0.0764 sec.\n",
      "Synthesizer (SDV - SingleTable): Metafile loading time: 0.021 sec.\n",
      "Synthesizer (SDV - SingleTable): Fitting  GaussianCoupula.\n",
      "Synthesizer (SDV - SingleTable): Fitting  GaussianCoupula spent 12.1284 sec.\n",
      "Synthesizer (SDV - SingleTable): Sampling GaussianCoupula # 22275 rows (same as raw) in 1.313 sec.\n",
      "Executor - Synthesizer: GaussianCoupula synthesizing time: 13.466 sec.\n",
      "Postprocessor - Encoder (LabelEncoder): Decoding native-country.\n",
      "Postprocessor - Encoder (LabelEncoder): Decoding gender.\n",
      "Postprocessor - Encoder (LabelEncoder): Decoding race.\n",
      "Postprocessor - Encoder (LabelEncoder): Decoding relationship.\n",
      "Postprocessor - Encoder (LabelEncoder): Decoding education.\n",
      "Postprocessor - Encoder (LabelEncoder): Decoding income.\n",
      "Postprocessor - Encoder (LabelEncoder): Decoding workclass.\n",
      "Postprocessor - Encoder (LabelEncoder): Decoding occupation.\n",
      "Postprocessor - Encoder (LabelEncoder): Decoding marital-status.\n",
      "Executor - Postprocessor: postprocessing time: 0.0142 sec.\n",
      "Evaluator (Anonymeter - SinglingOut - Univariate): Now is SinglingOut - Univariate Evaluator\n",
      "Evaluator (Anonymeter - SinglingOut - Univariate): Evaluator time: 0.0404 sec.\n",
      "Evaluator (Anonymeter): Evaluating  SinglingOut - Univariate.\n"
     ]
    },
    {
     "name": "stderr",
     "output_type": "stream",
     "text": [
      "Found 765 failed queries out of 2000. Check DEBUG messages for more details.\n"
     ]
    },
    {
     "name": "stdout",
     "output_type": "stream",
     "text": [
      "Executor - Evaluator: anonymeter-SinglingOut at 1 trials evaluating time: 131.365 sec.\n",
      "Evaluator (Anonymeter - SinglingOut - Univariate): Now is SinglingOut - Univariate Evaluator\n",
      "Evaluator (Anonymeter - SinglingOut - Univariate): Evaluator time: 0.0322 sec.\n",
      "Evaluator (Anonymeter): Evaluating  SinglingOut - Univariate.\n"
     ]
    },
    {
     "name": "stderr",
     "output_type": "stream",
     "text": [
      "Found 802 failed queries out of 2000. Check DEBUG messages for more details.\n"
     ]
    },
    {
     "name": "stdout",
     "output_type": "stream",
     "text": [
      "Executor - Evaluator: anonymeter-SinglingOut at 2 trials evaluating time: 131.1331 sec.\n",
      "Evaluator (Anonymeter - SinglingOut - Univariate): Now is SinglingOut - Univariate Evaluator\n",
      "Evaluator (Anonymeter - SinglingOut - Univariate): Evaluator time: 0.0336 sec.\n",
      "Evaluator (Anonymeter): Evaluating  SinglingOut - Univariate.\n"
     ]
    },
    {
     "name": "stderr",
     "output_type": "stream",
     "text": [
      "Found 830 failed queries out of 2000. Check DEBUG messages for more details.\n"
     ]
    },
    {
     "name": "stdout",
     "output_type": "stream",
     "text": [
      "Executor - Evaluator: anonymeter-SinglingOut at 3 trials evaluating time: 131.5346 sec.\n",
      "Evaluator (Anonymeter - SinglingOut - Univariate): Now is SinglingOut - Univariate Evaluator\n",
      "Evaluator (Anonymeter - SinglingOut - Univariate): Evaluator time: 0.0356 sec.\n",
      "Evaluator (Anonymeter): Evaluating  SinglingOut - Univariate.\n"
     ]
    },
    {
     "name": "stderr",
     "output_type": "stream",
     "text": [
      "Found 794 failed queries out of 2000. Check DEBUG messages for more details.\n"
     ]
    },
    {
     "name": "stdout",
     "output_type": "stream",
     "text": [
      "Executor - Evaluator: anonymeter-SinglingOut at 4 trials evaluating time: 131.4821 sec.\n",
      "Evaluator (Anonymeter - SinglingOut - Univariate): Now is SinglingOut - Univariate Evaluator\n",
      "Evaluator (Anonymeter - SinglingOut - Univariate): Evaluator time: 0.0351 sec.\n",
      "Evaluator (Anonymeter): Evaluating  SinglingOut - Univariate.\n"
     ]
    },
    {
     "name": "stderr",
     "output_type": "stream",
     "text": [
      "Found 821 failed queries out of 2000. Check DEBUG messages for more details.\n"
     ]
    },
    {
     "name": "stdout",
     "output_type": "stream",
     "text": [
      "Executor - Evaluator: anonymeter-SinglingOut at 5 trials evaluating time: 132.587 sec.\n",
      "Evaluator (Anonymeter - SinglingOut - Univariate): Now is SinglingOut - Univariate Evaluator\n",
      "Evaluator (Anonymeter - SinglingOut - Univariate): Evaluator time: 0.036 sec.\n",
      "Evaluator (Anonymeter): Evaluating  SinglingOut - Univariate.\n"
     ]
    },
    {
     "name": "stderr",
     "output_type": "stream",
     "text": [
      "Found 800 failed queries out of 2000. Check DEBUG messages for more details.\n"
     ]
    },
    {
     "name": "stdout",
     "output_type": "stream",
     "text": [
      "Executor - Evaluator: anonymeter-SinglingOut at 6 trials evaluating time: 131.8783 sec.\n",
      "Evaluator (Anonymeter - SinglingOut - Univariate): Now is SinglingOut - Univariate Evaluator\n",
      "Evaluator (Anonymeter - SinglingOut - Univariate): Evaluator time: 0.0352 sec.\n",
      "Evaluator (Anonymeter): Evaluating  SinglingOut - Univariate.\n"
     ]
    },
    {
     "name": "stderr",
     "output_type": "stream",
     "text": [
      "Found 799 failed queries out of 2000. Check DEBUG messages for more details.\n"
     ]
    }
   ],
   "source": [
    "import pandas as pd\n",
    "\n",
    "\n",
    "def Result(__evaluator):\n",
    "    import numpy as np\n",
    "    __dict_result = {}\n",
    "    __para_to_handle = [('Risk', ['risk()', 'value']), ('Risk_CI_btm', ['risk()', 'ci[0]']), ('Risk_CI_top', ['risk()', 'ci[1]']), ('Attack_Rate', ['results()', 'attack_rate', 'value']), ('Attack_Rate_err', ['results()', 'attack_rate', 'error']), ('Baseline_Rate', ['results()', 'baseline_rate', 'value']), ('Baseline_Rate_err', ['results()', 'baseline_rate', 'error']), ('Control_Rate', ['results()', 'control_rate', 'value']), ('Control_Rate_err', ['results()', 'control_rate', 'error'])\n",
    "                        ]\n",
    "    for __key, __attrs in __para_to_handle:\n",
    "        try:\n",
    "            __attr_value = __evaluator\n",
    "            for __attr in __attrs:\n",
    "                if '()' in __attr:\n",
    "                    __method_name = __attr.split('(')[0]\n",
    "                    if hasattr(__attr_value, __method_name):\n",
    "                        __method = getattr(__attr_value, __method_name)\n",
    "                        if callable(__method):\n",
    "                            __attr_value = __method()\n",
    "                        else:\n",
    "                            __dict_result[__key] = np.nan\n",
    "                            break\n",
    "                    else:\n",
    "                        __dict_result[__key] = np.nan\n",
    "                        break\n",
    "                elif '[' in __attr:\n",
    "                    __attr_name = __attr.split('[')[0]\n",
    "                    __index = int(__attr.split('[')[1].rstrip(']'))\n",
    "                    if hasattr(__attr_value, __attr_name)\\\n",
    "                            and isinstance(getattr(__attr_value, __attr_name), (list, dict, tuple)):\n",
    "                        try:\n",
    "                            __attr_value = getattr(\n",
    "                                __attr_value, __attr_name)[__index]\n",
    "                        except (IndexError, KeyError):\n",
    "                            __dict_result[__key] = np.nan\n",
    "                            break\n",
    "                    else:\n",
    "                        __dict_result[__key] = np.nan\n",
    "                        break\n",
    "                else:\n",
    "                    __attr_value = getattr(__attr_value, __attr)\n",
    "            __dict_result[__key] = __attr_value\n",
    "        except Exception as e:\n",
    "            __dict_result[__key] = np.nan\n",
    "    return __dict_result\n",
    "\n",
    "\n",
    "for i in ['01', '02', '03']:  # ,'04','05','06'\n",
    "    from anonymeter.evaluators import SinglingOutEvaluator\n",
    "    print(f\"PETsARD[20231224-085805]_Trial[{i}][Ori].csv\")\n",
    "    evaluator = SinglingOutEvaluator(ori=pd.read_csv(f\"PETsARD[20231224-085805]_Trial[{i}][Ori].csv\"), syn=pd.read_csv(f\"PETsARD[20231224-085805]_Trial[{i}-1-1]Postproc.csv\"), control=pd.read_csv(f\"PETsARD[20231224-085805]_Trial[{i}][Ctrl].csv\"), n_attacks=2000\n",
    "                                     )\n",
    "    try:\n",
    "        evaluator.evaluate(mode='univariate')\n",
    "        print(Result(evaluator))\n",
    "    except RuntimeError as ex:\n",
    "        print(f\"Singling out evaluation failed with {ex}.\"\n",
    "              \"Please re-run this cell.\"\n",
    "              \"For more stable results increase `n_attacks`. Note that this will \"\n",
    "              \"make the evaluation slower.\")\n"
   ]
  },
  {
   "cell_type": "code",
   "execution_count": null,
   "metadata": {},
   "outputs": [],
   "source": [
    "import pandas as pd\n",
    "for i in ['01', '02', '03']:  # ,'04','05','06'\n",
    "    eval = PETsARD.Evaluator(evaluating_method='anonymeter-singlingout-univariate', data={'ori': pd.read_csv(f\"PETsARD[20231224-085805]_Trial[{i}][Ori].csv\"), 'syn': pd.read_csv(f\"PETsARD[20231224-085805]_Trial[{i}-1-1]Postproc.csv\"), 'control': pd.read_csv(f\"PETsARD[20231224-085805]_Trial[{i}][Ctrl].csv\")\n",
    "                                                                                          }, anonymeter_n_attacks=500\n",
    "                             )\n",
    "    eval.eval()\n",
    "    print(eval.Evaluator.evaluation)\n"
   ]
  },
  {
   "cell_type": "code",
   "execution_count": 18,
   "metadata": {},
   "outputs": [
    {
     "name": "stdout",
     "output_type": "stream",
     "text": [
      "Executor - Evaluator: anonymeter-SinglingOut at 7 trials evaluating time: 131.5421 sec.\n",
      "Evaluator (Anonymeter - SinglingOut - Univariate): Now is SinglingOut - Univariate Evaluator\n",
      "Evaluator (Anonymeter - SinglingOut - Univariate): Evaluator time: 0.0354 sec.\n",
      "Evaluator (Anonymeter): Evaluating  SinglingOut - Univariate.\n"
     ]
    }
   ],
   "source": [
    "import itertools\n",
    "for type in ['][Ori]', '][Ctrl]', '-1-1]Postproc']:\n",
    "    for combo in itertools.combinations(['01', '02', '03', '04', '05', '06'], 2):\n",
    "        df_a = pd.read_csv(\n",
    "            f\"PETsARD[20231224-085805]_Trial[{combo[0]}{type}.csv\")\n",
    "        df_b = pd.read_csv(\n",
    "            f\"PETsARD[20231224-085805]_Trial[{combo[1]}{type}.csv\")\n",
    "        if df_a.equals(df_b):\n",
    "            print(type+': '+str(combo))\n",
    "            print(\"They're same!!??\")\n",
    "        # else:\n",
    "            # print(type+': '+str(combo))\n",
    "            # print(\"They're different.\")\n",
    "print('done.')\n"
   ]
  },
  {
   "cell_type": "code",
   "execution_count": null,
   "metadata": {},
   "outputs": [],
   "source": []
  },
  {
   "cell_type": "code",
   "execution_count": 1,
   "metadata": {},
   "outputs": [
    {
     "name": "stderr",
     "output_type": "stream",
     "text": [
      "Loading:   0%|          | 0/1 [00:00<?, ?it/s]\n",
      "Loading: 100%|██████████| 1/1 [00:13<00:00, 13.86s/it]\n",
      "\u001b[A\n",
      "Preprocessing: 100%|██████████| 2/2 [00:20<00:00, 10.10s/it]\n",
      "Splitting: 100%|██████████| 1/1 [00:20<00:00, 20.20s/it]\n",
      "Loading: 100%|██████████| 1/1 [00:20<00:00, 20.20s/it]\n",
      "Synthesizing:   0%|          | 0/2 [00:00<?, ?it/s]\n",
      "\u001b[A"
     ]
    },
    {
     "name": "stdout",
     "output_type": "stream",
     "text": [
      "Synthesizer (SDV - SingleTable): Metafile loading time: 0.0595 sec.\n",
      "Synthesizer (SDV - SingleTable): Fitting  GaussianCoupula.\n",
      "Synthesizer (SDV - SingleTable): Metafile loading time: 0.1476 sec.\n",
      "Synthesizer (SDV - SingleTable): Fitting  GaussianCoupula.\n",
      "Synthesizer (SDV - SingleTable): Fitting  GaussianCoupula spent 14.1998 sec.\n",
      "Synthesizer (SDV - SingleTable): Fitting  GaussianCoupula spent 14.2393 sec.\n"
     ]
    },
    {
     "name": "stderr",
     "output_type": "stream",
     "text": [
      "Synthesizing:  50%|█████     | 1/2 [00:15<00:15, 15.47s/it]"
     ]
    },
    {
     "name": "stdout",
     "output_type": "stream",
     "text": [
      "Synthesizer (SDV - SingleTable): Sampling GaussianCoupula # 22187 rows (same as raw) in 1.0931 sec.\n",
      "Executor - Synthesizer: GaussianCoupula synthesizing time: 15.3715 sec.\n",
      "Postprocessor - Encoder (LabelEncoder): Decoding income.\n",
      "Postprocessor - Encoder (LabelEncoder): Decoding occupation.\n",
      "Postprocessor - Encoder (LabelEncoder): Decoding marital-status.\n",
      "Postprocessor - Encoder (LabelEncoder): Decoding relationship.\n",
      "Postprocessor - Encoder (LabelEncoder): Decoding native-country.\n",
      "Postprocessor - Encoder (LabelEncoder): Decoding race.\n",
      "Postprocessor - Encoder (LabelEncoder): Decoding education.\n",
      "Postprocessor - Encoder (LabelEncoder): Decoding gender.\n",
      "Postprocessor - Encoder (LabelEncoder): Decoding workclass.\n",
      "Executor - Postprocessor: postprocessing time: 0.0793 sec.\n"
     ]
    },
    {
     "name": "stderr",
     "output_type": "stream",
     "text": []
    },
    {
     "name": "stdout",
     "output_type": "stream",
     "text": [
      "Synthesizer (SDV - SingleTable): Sampling GaussianCoupula # 22187 rows (same as raw) in 1.1964 sec.\n",
      "Executor - Synthesizer: GaussianCoupula synthesizing time: 15.6023 sec.\n",
      "Evaluator (Anonymeter - SinglingOut - Univariate): Now is SinglingOut - Univariate Evaluator\n",
      "Evaluator (Anonymeter - SinglingOut - Univariate): Evaluator time: 0.9176 sec.\n",
      "Evaluator (Anonymeter): Evaluating  SinglingOut - Univariate.\n"
     ]
    },
    {
     "name": "stderr",
     "output_type": "stream",
     "text": [
      "\n",
      "\u001b[A"
     ]
    },
    {
     "name": "stdout",
     "output_type": "stream",
     "text": [
      "Executor - Evaluator: anonymeter-SinglingOut at 1 trials evaluating time: 2.5134 sec.\n",
      "Evaluator (Anonymeter - SinglingOut - Univariate): Now is SinglingOut - Univariate Evaluator\n",
      "Evaluator (Anonymeter - SinglingOut - Univariate): Evaluator time: 0.0615 sec.\n",
      "Evaluator (Anonymeter): Evaluating  SinglingOut - Univariate.\n"
     ]
    },
    {
     "name": "stderr",
     "output_type": "stream",
     "text": [
      "\n",
      "\u001b[A"
     ]
    },
    {
     "name": "stdout",
     "output_type": "stream",
     "text": [
      "Executor - Evaluator: anonymeter-SinglingOut at 2 trials evaluating time: 1.534 sec.\n",
      "Evaluator (Anonymeter - Linkability): Now is Linkability Evaluator\n",
      "Evaluator (Anonymeter - Linkability): aux_cols are [age, fnlwgt, race, gender, native-country]\n",
      "Evaluator (Anonymeter - Linkability): and [workclass, education, capital-gain, capital-loss, hours-per-week].\n",
      "Evaluator (Anonymeter - Linkability): Evaluator time: 0.0 sec.\n",
      "Evaluator (Anonymeter): Evaluating  Linkability.\n"
     ]
    },
    {
     "name": "stderr",
     "output_type": "stream",
     "text": [
      "\n",
      "\u001b[A"
     ]
    },
    {
     "name": "stdout",
     "output_type": "stream",
     "text": [
      "Evaluator (Anonymeter): Evaluating  Linkability spent 4.0137 sec.\n",
      "Executor - Evaluator: anonymeter-Linkability at 1 trials evaluating time: 4.0217 sec.\n",
      "Evaluator (Anonymeter - Linkability): Now is Linkability Evaluator\n",
      "Evaluator (Anonymeter - Linkability): aux_cols are [age, fnlwgt, race, gender, native-country]\n",
      "Evaluator (Anonymeter - Linkability): and [workclass, education, capital-gain, capital-loss, hours-per-week].\n",
      "Evaluator (Anonymeter - Linkability): Evaluator time: 0.0 sec.\n",
      "Evaluator (Anonymeter): Evaluating  Linkability.\n"
     ]
    },
    {
     "name": "stderr",
     "output_type": "stream",
     "text": [
      "\n",
      "\u001b[A"
     ]
    },
    {
     "name": "stdout",
     "output_type": "stream",
     "text": [
      "Evaluator (Anonymeter): Evaluating  Linkability spent 0.2864 sec.\n",
      "Executor - Evaluator: anonymeter-Linkability at 2 trials evaluating time: 0.2945 sec.\n",
      "Evaluator (Anonymeter - Inference): Now is Inference Evaluator\n",
      "Evaluator (Anonymeter - Inference): Evaluator time: 0.0 sec.\n",
      "Evaluator (Anonymeter): Evaluating  Inference.\n",
      "Evaluator (Anonymeter): Evaluating  Inference spent 1.5164 sec.\n",
      "Evaluator (Anonymeter - Inference): Now is Inference Evaluator\n",
      "Evaluator (Anonymeter - Inference): Evaluator time: 0.0 sec.\n",
      "Evaluator (Anonymeter): Evaluating  Inference.\n",
      "Evaluator (Anonymeter): Evaluating  Inference spent 0.582 sec.\n",
      "Evaluator (Anonymeter - Inference): Now is Inference Evaluator\n",
      "Evaluator (Anonymeter - Inference): Evaluator time: 0.0 sec.\n",
      "Evaluator (Anonymeter): Evaluating  Inference.\n",
      "Evaluator (Anonymeter): Evaluating  Inference spent 0.5977 sec.\n",
      "Evaluator (Anonymeter - Inference): Now is Inference Evaluator\n",
      "Evaluator (Anonymeter - Inference): Evaluator time: 0.0 sec.\n",
      "Evaluator (Anonymeter): Evaluating  Inference.\n",
      "Evaluator (Anonymeter): Evaluating  Inference spent 0.6096 sec.\n",
      "Evaluator (Anonymeter - Inference): Now is Inference Evaluator\n",
      "Evaluator (Anonymeter - Inference): Evaluator time: 0.0 sec.\n",
      "Evaluator (Anonymeter): Evaluating  Inference.\n",
      "Evaluator (Anonymeter): Evaluating  Inference spent 0.6142 sec.\n",
      "Evaluator (Anonymeter - Inference): Now is Inference Evaluator\n",
      "Evaluator (Anonymeter - Inference): Evaluator time: 0.0 sec.\n",
      "Evaluator (Anonymeter): Evaluating  Inference.\n",
      "Evaluator (Anonymeter): Evaluating  Inference spent 0.5993 sec.\n",
      "Evaluator (Anonymeter - Inference): Now is Inference Evaluator\n",
      "Evaluator (Anonymeter - Inference): Evaluator time: 0.0 sec.\n",
      "Evaluator (Anonymeter): Evaluating  Inference.\n",
      "Evaluator (Anonymeter): Evaluating  Inference spent 0.5992 sec.\n",
      "Evaluator (Anonymeter - Inference): Now is Inference Evaluator\n",
      "Evaluator (Anonymeter - Inference): Evaluator time: 0.0 sec.\n",
      "Evaluator (Anonymeter): Evaluating  Inference.\n",
      "Evaluator (Anonymeter): Evaluating  Inference spent 0.6314 sec.\n",
      "Evaluator (Anonymeter - Inference): Now is Inference Evaluator\n",
      "Evaluator (Anonymeter - Inference): Evaluator time: 0.0 sec.\n",
      "Evaluator (Anonymeter): Evaluating  Inference.\n",
      "Evaluator (Anonymeter): Evaluating  Inference spent 0.5911 sec.\n",
      "Evaluator (Anonymeter - Inference): Now is Inference Evaluator\n",
      "Evaluator (Anonymeter - Inference): Evaluator time: 0.0 sec.\n",
      "Evaluator (Anonymeter): Evaluating  Inference.\n",
      "Evaluator (Anonymeter): Evaluating  Inference spent 0.5824 sec.\n",
      "Evaluator (Anonymeter - Inference): Now is Inference Evaluator\n",
      "Evaluator (Anonymeter - Inference): Evaluator time: 0.0 sec.\n",
      "Evaluator (Anonymeter): Evaluating  Inference.\n",
      "Evaluator (Anonymeter): Evaluating  Inference spent 0.5964 sec.\n",
      "Evaluator (Anonymeter - Inference): Now is Inference Evaluator\n",
      "Evaluator (Anonymeter - Inference): Evaluator time: 0.0 sec.\n",
      "Evaluator (Anonymeter): Evaluating  Inference.\n",
      "Evaluator (Anonymeter): Evaluating  Inference spent 0.5931 sec.\n",
      "Evaluator (Anonymeter - Inference): Now is Inference Evaluator\n",
      "Evaluator (Anonymeter - Inference): Evaluator time: 0.0 sec.\n",
      "Evaluator (Anonymeter): Evaluating  Inference.\n",
      "Evaluator (Anonymeter): Evaluating  Inference spent 0.6812 sec.\n",
      "Evaluator (Anonymeter - Inference): Now is Inference Evaluator\n",
      "Evaluator (Anonymeter - Inference): Evaluator time: 0.0 sec.\n",
      "Evaluator (Anonymeter): Evaluating  Inference.\n",
      "Evaluator (Anonymeter): Evaluating  Inference spent 0.595 sec.\n",
      "Evaluator (Anonymeter - Inference): Now is Inference Evaluator\n",
      "Evaluator (Anonymeter - Inference): Evaluator time: 0.0 sec.\n",
      "Evaluator (Anonymeter): Evaluating  Inference.\n"
     ]
    },
    {
     "name": "stderr",
     "output_type": "stream",
     "text": [
      "\n",
      "\u001b[A"
     ]
    },
    {
     "name": "stdout",
     "output_type": "stream",
     "text": [
      "Evaluator (Anonymeter): Evaluating  Inference spent 0.5772 sec.\n",
      "Executor - Evaluator: anonymeter-Inference at 1 trials evaluating time: 10.0344 sec.\n",
      "Evaluator (Anonymeter - Inference): Now is Inference Evaluator\n",
      "Evaluator (Anonymeter - Inference): Evaluator time: 0.0 sec.\n",
      "Evaluator (Anonymeter): Evaluating  Inference.\n",
      "Evaluator (Anonymeter): Evaluating  Inference spent 0.6194 sec.\n",
      "Evaluator (Anonymeter - Inference): Now is Inference Evaluator\n",
      "Evaluator (Anonymeter - Inference): Evaluator time: 0.0 sec.\n",
      "Evaluator (Anonymeter): Evaluating  Inference.\n",
      "Evaluator (Anonymeter): Evaluating  Inference spent 0.6018 sec.\n",
      "Evaluator (Anonymeter - Inference): Now is Inference Evaluator\n",
      "Evaluator (Anonymeter - Inference): Evaluator time: 0.0 sec.\n",
      "Evaluator (Anonymeter): Evaluating  Inference.\n",
      "Evaluator (Anonymeter): Evaluating  Inference spent 0.5829 sec.\n",
      "Evaluator (Anonymeter - Inference): Now is Inference Evaluator\n",
      "Evaluator (Anonymeter - Inference): Evaluator time: 0.0 sec.\n",
      "Evaluator (Anonymeter): Evaluating  Inference.\n",
      "Evaluator (Anonymeter): Evaluating  Inference spent 0.5951 sec.\n",
      "Evaluator (Anonymeter - Inference): Now is Inference Evaluator\n",
      "Evaluator (Anonymeter - Inference): Evaluator time: 0.0 sec.\n",
      "Evaluator (Anonymeter): Evaluating  Inference.\n",
      "Evaluator (Anonymeter): Evaluating  Inference spent 0.6153 sec.\n",
      "Evaluator (Anonymeter - Inference): Now is Inference Evaluator\n",
      "Evaluator (Anonymeter - Inference): Evaluator time: 0.0 sec.\n",
      "Evaluator (Anonymeter): Evaluating  Inference.\n",
      "Evaluator (Anonymeter): Evaluating  Inference spent 0.6325 sec.\n",
      "Evaluator (Anonymeter - Inference): Now is Inference Evaluator\n",
      "Evaluator (Anonymeter - Inference): Evaluator time: 0.0 sec.\n",
      "Evaluator (Anonymeter): Evaluating  Inference.\n",
      "Evaluator (Anonymeter): Evaluating  Inference spent 0.653 sec.\n",
      "Evaluator (Anonymeter - Inference): Now is Inference Evaluator\n",
      "Evaluator (Anonymeter - Inference): Evaluator time: 0.0 sec.\n",
      "Evaluator (Anonymeter): Evaluating  Inference.\n",
      "Evaluator (Anonymeter): Evaluating  Inference spent 0.5962 sec.\n",
      "Evaluator (Anonymeter - Inference): Now is Inference Evaluator\n",
      "Evaluator (Anonymeter - Inference): Evaluator time: 0.0 sec.\n",
      "Evaluator (Anonymeter): Evaluating  Inference.\n",
      "Evaluator (Anonymeter): Evaluating  Inference spent 0.6256 sec.\n",
      "Evaluator (Anonymeter - Inference): Now is Inference Evaluator\n",
      "Evaluator (Anonymeter - Inference): Evaluator time: 0.0 sec.\n",
      "Evaluator (Anonymeter): Evaluating  Inference.\n",
      "Evaluator (Anonymeter): Evaluating  Inference spent 0.6263 sec.\n",
      "Evaluator (Anonymeter - Inference): Now is Inference Evaluator\n",
      "Evaluator (Anonymeter - Inference): Evaluator time: 0.0 sec.\n",
      "Evaluator (Anonymeter): Evaluating  Inference.\n",
      "Evaluator (Anonymeter): Evaluating  Inference spent 0.6054 sec.\n",
      "Evaluator (Anonymeter - Inference): Now is Inference Evaluator\n",
      "Evaluator (Anonymeter - Inference): Evaluator time: 0.0 sec.\n",
      "Evaluator (Anonymeter): Evaluating  Inference.\n",
      "Evaluator (Anonymeter): Evaluating  Inference spent 0.6151 sec.\n",
      "Evaluator (Anonymeter - Inference): Now is Inference Evaluator\n",
      "Evaluator (Anonymeter - Inference): Evaluator time: 0.001 sec.\n",
      "Evaluator (Anonymeter): Evaluating  Inference.\n",
      "Evaluator (Anonymeter): Evaluating  Inference spent 0.6078 sec.\n",
      "Evaluator (Anonymeter - Inference): Now is Inference Evaluator\n",
      "Evaluator (Anonymeter - Inference): Evaluator time: 0.0 sec.\n",
      "Evaluator (Anonymeter): Evaluating  Inference.\n",
      "Evaluator (Anonymeter): Evaluating  Inference spent 0.607 sec.\n",
      "Evaluator (Anonymeter - Inference): Now is Inference Evaluator\n",
      "Evaluator (Anonymeter - Inference): Evaluator time: 0.0 sec.\n",
      "Evaluator (Anonymeter): Evaluating  Inference.\n"
     ]
    },
    {
     "name": "stderr",
     "output_type": "stream",
     "text": [
      "\n",
      "Synthesizing: 100%|██████████| 2/2 [00:43<00:00, 22.90s/it]"
     ]
    },
    {
     "name": "stdout",
     "output_type": "stream",
     "text": [
      "Evaluator (Anonymeter): Evaluating  Inference spent 0.6681 sec.\n",
      "Executor - Evaluator: anonymeter-Inference at 2 trials evaluating time: 9.3201 sec.\n",
      "Postprocessor - Encoder (LabelEncoder): Decoding income.\n",
      "Postprocessor - Encoder (LabelEncoder): Decoding occupation.\n",
      "Postprocessor - Encoder (LabelEncoder): Decoding marital-status.\n",
      "Postprocessor - Encoder (LabelEncoder): Decoding relationship.\n",
      "Postprocessor - Encoder (LabelEncoder): Decoding native-country.\n",
      "Postprocessor - Encoder (LabelEncoder): Decoding race.\n",
      "Postprocessor - Encoder (LabelEncoder): Decoding education.\n",
      "Postprocessor - Encoder (LabelEncoder): Decoding gender.\n",
      "Postprocessor - Encoder (LabelEncoder): Decoding workclass.\n",
      "Executor - Postprocessor: postprocessing time: 0.0179 sec.\n"
     ]
    },
    {
     "name": "stderr",
     "output_type": "stream",
     "text": []
    },
    {
     "name": "stdout",
     "output_type": "stream",
     "text": [
      "Evaluator (Anonymeter - SinglingOut - Univariate): Now is SinglingOut - Univariate Evaluator\n",
      "Evaluator (Anonymeter - SinglingOut - Univariate): Evaluator time: 0.0448 sec.\n",
      "Evaluator (Anonymeter): Evaluating  SinglingOut - Univariate.\n"
     ]
    },
    {
     "name": "stderr",
     "output_type": "stream",
     "text": [
      "\n",
      "\u001b[A"
     ]
    },
    {
     "name": "stdout",
     "output_type": "stream",
     "text": [
      "Executor - Evaluator: anonymeter-SinglingOut at 1 trials evaluating time: 1.5565 sec.\n",
      "Evaluator (Anonymeter - SinglingOut - Univariate): Now is SinglingOut - Univariate Evaluator\n",
      "Evaluator (Anonymeter - SinglingOut - Univariate): Evaluator time: 0.036 sec.\n",
      "Evaluator (Anonymeter): Evaluating  SinglingOut - Univariate.\n"
     ]
    },
    {
     "name": "stderr",
     "output_type": "stream",
     "text": [
      "\n",
      "\u001b[A"
     ]
    },
    {
     "name": "stdout",
     "output_type": "stream",
     "text": [
      "Executor - Evaluator: anonymeter-SinglingOut at 2 trials evaluating time: 1.4779 sec.\n",
      "Evaluator (Anonymeter - Linkability): Now is Linkability Evaluator\n",
      "Evaluator (Anonymeter - Linkability): aux_cols are [age, fnlwgt, race, gender, native-country]\n",
      "Evaluator (Anonymeter - Linkability): and [workclass, education, capital-gain, capital-loss, hours-per-week].\n",
      "Evaluator (Anonymeter - Linkability): Evaluator time: 0.0 sec.\n",
      "Evaluator (Anonymeter): Evaluating  Linkability.\n"
     ]
    },
    {
     "name": "stderr",
     "output_type": "stream",
     "text": [
      "\n",
      "\u001b[A"
     ]
    },
    {
     "name": "stdout",
     "output_type": "stream",
     "text": [
      "Evaluator (Anonymeter): Evaluating  Linkability spent 0.2184 sec.\n",
      "Executor - Evaluator: anonymeter-Linkability at 1 trials evaluating time: 0.2285 sec.\n",
      "Evaluator (Anonymeter - Linkability): Now is Linkability Evaluator\n",
      "Evaluator (Anonymeter - Linkability): aux_cols are [age, fnlwgt, race, gender, native-country]\n",
      "Evaluator (Anonymeter - Linkability): and [workclass, education, capital-gain, capital-loss, hours-per-week].\n",
      "Evaluator (Anonymeter - Linkability): Evaluator time: 0.0 sec.\n",
      "Evaluator (Anonymeter): Evaluating  Linkability.\n"
     ]
    },
    {
     "name": "stderr",
     "output_type": "stream",
     "text": [
      "\n",
      "\u001b[A"
     ]
    },
    {
     "name": "stdout",
     "output_type": "stream",
     "text": [
      "Evaluator (Anonymeter): Evaluating  Linkability spent 0.3247 sec.\n",
      "Executor - Evaluator: anonymeter-Linkability at 2 trials evaluating time: 0.3322 sec.\n",
      "Evaluator (Anonymeter - Inference): Now is Inference Evaluator\n",
      "Evaluator (Anonymeter - Inference): Evaluator time: 0.0 sec.\n",
      "Evaluator (Anonymeter): Evaluating  Inference.\n",
      "Evaluator (Anonymeter): Evaluating  Inference spent 0.6198 sec.\n",
      "Evaluator (Anonymeter - Inference): Now is Inference Evaluator\n",
      "Evaluator (Anonymeter - Inference): Evaluator time: 0.0 sec.\n",
      "Evaluator (Anonymeter): Evaluating  Inference.\n",
      "Evaluator (Anonymeter): Evaluating  Inference spent 0.6752 sec.\n",
      "Evaluator (Anonymeter - Inference): Now is Inference Evaluator\n",
      "Evaluator (Anonymeter - Inference): Evaluator time: 0.0 sec.\n",
      "Evaluator (Anonymeter): Evaluating  Inference.\n",
      "Evaluator (Anonymeter): Evaluating  Inference spent 0.629 sec.\n",
      "Evaluator (Anonymeter - Inference): Now is Inference Evaluator\n",
      "Evaluator (Anonymeter - Inference): Evaluator time: 0.0 sec.\n",
      "Evaluator (Anonymeter): Evaluating  Inference.\n",
      "Evaluator (Anonymeter): Evaluating  Inference spent 0.6152 sec.\n",
      "Evaluator (Anonymeter - Inference): Now is Inference Evaluator\n",
      "Evaluator (Anonymeter - Inference): Evaluator time: 0.0 sec.\n",
      "Evaluator (Anonymeter): Evaluating  Inference.\n",
      "Evaluator (Anonymeter): Evaluating  Inference spent 0.6255 sec.\n",
      "Evaluator (Anonymeter - Inference): Now is Inference Evaluator\n",
      "Evaluator (Anonymeter - Inference): Evaluator time: 0.0 sec.\n",
      "Evaluator (Anonymeter): Evaluating  Inference.\n",
      "Evaluator (Anonymeter): Evaluating  Inference spent 0.6133 sec.\n",
      "Evaluator (Anonymeter - Inference): Now is Inference Evaluator\n",
      "Evaluator (Anonymeter - Inference): Evaluator time: 0.0 sec.\n",
      "Evaluator (Anonymeter): Evaluating  Inference.\n",
      "Evaluator (Anonymeter): Evaluating  Inference spent 0.6307 sec.\n",
      "Evaluator (Anonymeter - Inference): Now is Inference Evaluator\n",
      "Evaluator (Anonymeter - Inference): Evaluator time: 0.0 sec.\n",
      "Evaluator (Anonymeter): Evaluating  Inference.\n",
      "Evaluator (Anonymeter): Evaluating  Inference spent 0.6088 sec.\n",
      "Evaluator (Anonymeter - Inference): Now is Inference Evaluator\n",
      "Evaluator (Anonymeter - Inference): Evaluator time: 0.0 sec.\n",
      "Evaluator (Anonymeter): Evaluating  Inference.\n",
      "Evaluator (Anonymeter): Evaluating  Inference spent 0.6111 sec.\n",
      "Evaluator (Anonymeter - Inference): Now is Inference Evaluator\n",
      "Evaluator (Anonymeter - Inference): Evaluator time: 0.0 sec.\n",
      "Evaluator (Anonymeter): Evaluating  Inference.\n",
      "Evaluator (Anonymeter): Evaluating  Inference spent 0.6743 sec.\n",
      "Evaluator (Anonymeter - Inference): Now is Inference Evaluator\n",
      "Evaluator (Anonymeter - Inference): Evaluator time: 0.0 sec.\n",
      "Evaluator (Anonymeter): Evaluating  Inference.\n",
      "Evaluator (Anonymeter): Evaluating  Inference spent 0.6629 sec.\n",
      "Evaluator (Anonymeter - Inference): Now is Inference Evaluator\n",
      "Evaluator (Anonymeter - Inference): Evaluator time: 0.0 sec.\n",
      "Evaluator (Anonymeter): Evaluating  Inference.\n",
      "Evaluator (Anonymeter): Evaluating  Inference spent 0.6152 sec.\n",
      "Evaluator (Anonymeter - Inference): Now is Inference Evaluator\n",
      "Evaluator (Anonymeter - Inference): Evaluator time: 0.0 sec.\n",
      "Evaluator (Anonymeter): Evaluating  Inference.\n",
      "Evaluator (Anonymeter): Evaluating  Inference spent 0.6051 sec.\n",
      "Evaluator (Anonymeter - Inference): Now is Inference Evaluator\n",
      "Evaluator (Anonymeter - Inference): Evaluator time: 0.0 sec.\n",
      "Evaluator (Anonymeter): Evaluating  Inference.\n",
      "Evaluator (Anonymeter): Evaluating  Inference spent 0.6081 sec.\n",
      "Evaluator (Anonymeter - Inference): Now is Inference Evaluator\n",
      "Evaluator (Anonymeter - Inference): Evaluator time: 0.0 sec.\n",
      "Evaluator (Anonymeter): Evaluating  Inference.\n"
     ]
    },
    {
     "name": "stderr",
     "output_type": "stream",
     "text": [
      "\n",
      "\u001b[A"
     ]
    },
    {
     "name": "stdout",
     "output_type": "stream",
     "text": [
      "Evaluator (Anonymeter): Evaluating  Inference spent 0.6024 sec.\n",
      "Executor - Evaluator: anonymeter-Inference at 1 trials evaluating time: 9.4673 sec.\n",
      "Evaluator (Anonymeter - Inference): Now is Inference Evaluator\n",
      "Evaluator (Anonymeter - Inference): Evaluator time: 0.0 sec.\n",
      "Evaluator (Anonymeter): Evaluating  Inference.\n",
      "Evaluator (Anonymeter): Evaluating  Inference spent 0.6499 sec.\n",
      "Evaluator (Anonymeter - Inference): Now is Inference Evaluator\n",
      "Evaluator (Anonymeter - Inference): Evaluator time: 0.0 sec.\n",
      "Evaluator (Anonymeter): Evaluating  Inference.\n",
      "Evaluator (Anonymeter): Evaluating  Inference spent 0.614 sec.\n",
      "Evaluator (Anonymeter - Inference): Now is Inference Evaluator\n",
      "Evaluator (Anonymeter - Inference): Evaluator time: 0.0 sec.\n",
      "Evaluator (Anonymeter): Evaluating  Inference.\n",
      "Evaluator (Anonymeter): Evaluating  Inference spent 0.6436 sec.\n",
      "Evaluator (Anonymeter - Inference): Now is Inference Evaluator\n",
      "Evaluator (Anonymeter - Inference): Evaluator time: 0.0 sec.\n",
      "Evaluator (Anonymeter): Evaluating  Inference.\n",
      "Evaluator (Anonymeter): Evaluating  Inference spent 0.6527 sec.\n",
      "Evaluator (Anonymeter - Inference): Now is Inference Evaluator\n",
      "Evaluator (Anonymeter - Inference): Evaluator time: 0.0 sec.\n",
      "Evaluator (Anonymeter): Evaluating  Inference.\n",
      "Evaluator (Anonymeter): Evaluating  Inference spent 0.6562 sec.\n",
      "Evaluator (Anonymeter - Inference): Now is Inference Evaluator\n",
      "Evaluator (Anonymeter - Inference): Evaluator time: 0.0 sec.\n",
      "Evaluator (Anonymeter): Evaluating  Inference.\n",
      "Evaluator (Anonymeter): Evaluating  Inference spent 0.6435 sec.\n",
      "Evaluator (Anonymeter - Inference): Now is Inference Evaluator\n",
      "Evaluator (Anonymeter - Inference): Evaluator time: 0.0 sec.\n",
      "Evaluator (Anonymeter): Evaluating  Inference.\n",
      "Evaluator (Anonymeter): Evaluating  Inference spent 0.6275 sec.\n",
      "Evaluator (Anonymeter - Inference): Now is Inference Evaluator\n",
      "Evaluator (Anonymeter - Inference): Evaluator time: 0.0 sec.\n",
      "Evaluator (Anonymeter): Evaluating  Inference.\n",
      "Evaluator (Anonymeter): Evaluating  Inference spent 0.6135 sec.\n",
      "Evaluator (Anonymeter - Inference): Now is Inference Evaluator\n",
      "Evaluator (Anonymeter - Inference): Evaluator time: 0.0 sec.\n",
      "Evaluator (Anonymeter): Evaluating  Inference.\n",
      "Evaluator (Anonymeter): Evaluating  Inference spent 0.6399 sec.\n",
      "Evaluator (Anonymeter - Inference): Now is Inference Evaluator\n",
      "Evaluator (Anonymeter - Inference): Evaluator time: 0.0 sec.\n",
      "Evaluator (Anonymeter): Evaluating  Inference.\n",
      "Evaluator (Anonymeter): Evaluating  Inference spent 0.6186 sec.\n",
      "Evaluator (Anonymeter - Inference): Now is Inference Evaluator\n",
      "Evaluator (Anonymeter - Inference): Evaluator time: 0.0 sec.\n",
      "Evaluator (Anonymeter): Evaluating  Inference.\n",
      "Evaluator (Anonymeter): Evaluating  Inference spent 0.6474 sec.\n",
      "Evaluator (Anonymeter - Inference): Now is Inference Evaluator\n",
      "Evaluator (Anonymeter - Inference): Evaluator time: 0.0 sec.\n",
      "Evaluator (Anonymeter): Evaluating  Inference.\n",
      "Evaluator (Anonymeter): Evaluating  Inference spent 0.6837 sec.\n",
      "Evaluator (Anonymeter - Inference): Now is Inference Evaluator\n",
      "Evaluator (Anonymeter - Inference): Evaluator time: 0.0 sec.\n",
      "Evaluator (Anonymeter): Evaluating  Inference.\n",
      "Evaluator (Anonymeter): Evaluating  Inference spent 0.6526 sec.\n",
      "Evaluator (Anonymeter - Inference): Now is Inference Evaluator\n",
      "Evaluator (Anonymeter - Inference): Evaluator time: 0.0 sec.\n",
      "Evaluator (Anonymeter): Evaluating  Inference.\n",
      "Evaluator (Anonymeter): Evaluating  Inference spent 0.6262 sec.\n",
      "Evaluator (Anonymeter - Inference): Now is Inference Evaluator\n",
      "Evaluator (Anonymeter - Inference): Evaluator time: 0.0 sec.\n",
      "Evaluator (Anonymeter): Evaluating  Inference.\n"
     ]
    },
    {
     "name": "stderr",
     "output_type": "stream",
     "text": [
      "\n",
      "Evaluating: 100%|██████████| 12/12 [01:06<00:00,  5.54s/it]\n",
      "Postprocessing: 100%|██████████| 2/2 [01:06<00:00, 33.26s/it]\n",
      "Synthesizing: 100%|██████████| 2/2 [01:06<00:00, 33.27s/it]"
     ]
    },
    {
     "name": "stdout",
     "output_type": "stream",
     "text": [
      "Evaluator (Anonymeter): Evaluating  Inference spent 0.6367 sec.\n",
      "Executor - Evaluator: anonymeter-Inference at 2 trials evaluating time: 9.6876 sec.\n",
      "====== ====== ====== ====== ====== ======\n",
      "Executor (run - parallel): Total execution time: 86.7449 sec.\n",
      "====== ====== ====== ====== ====== ======\n"
     ]
    },
    {
     "name": "stderr",
     "output_type": "stream",
     "text": [
      "\n"
     ]
    }
   ],
   "source": [
    "import PETsARD\n",
    "import os\n",
    "import sys\n",
    "\n",
    "sys.path.append('D:\\\\Dropbox\\\\89_其他應用\\\\GitHub\\\\PETsARD')\n",
    "os.chdir('D:\\\\Dropbox\\\\89_其他應用\\\\GitHub\\\\PETsARD\\\\demo')\n",
    "# sys.path.append('/home/ec2-user/SageMaker/PETs-Experiment')\n",
    "# os.chdir('/home/ec2-user/SageMaker/PETs-Experiment/demo')\n",
    "\n",
    "\n",
    "para_Executor = {\n",
    "    'Loader': {\n",
    "        'adult': {'filepath': '../[sunset]/data/[Adt Income] adult.csv', 'na_values': {k: '?' for k in ['workclass', 'occupation', 'native-country']}\n",
    "                  }\n",
    "        # ,'NHANES' : {'filepath'     : '../[sunset]/data/[NHANES] B.csv'\n",
    "        #             ,'header_exist' : False\n",
    "        #             ,'header_names' : ['gen','age','race','edu','mar','bmi','dep','pir','gh','mets','qm','dia']\n",
    "        # }\n",
    "    }, 'Splitter': {\n",
    "        '0.8': {'num_samples': 2  # 10\n",
    "                , 'train_split_ratio': 0.8\n",
    "                }\n",
    "        # ,'0.05' : {'num_samples'       : 10\n",
    "        #           ,'train_split_ratio' : 0.05\n",
    "        # }\n",
    "    }, 'Preprocessor': {\n",
    "        'drop-IQR-stanard-NA': {'missing_method': 'drop', 'outlier_method': 'IQR'                                # ,'outlier_columns' : {'ignore': ['hours-per-week']}\n",
    "                                , 'encoding_method': 'Label', 'scaling': False\n",
    "                                # ,'scaling_method'  : 'Standard'\n",
    "                                #   ,'scaling_columns' : {'focus' : 'fnlwgt'}\n",
    "                                }\n",
    "        # ,'drop-IQR-minmax-NA' : {'missing_method'  : 'drop'\n",
    "        #           ,'outlier_method'  : 'IQR'\n",
    "        #           # ,'outlier_columns' : {'ignore': ['hours-per-week']}\n",
    "        #           ,'encoding_method' : 'Label'\n",
    "        #           ,'scaling'         : False\n",
    "        #           # ,'scaling_method'  : 'minmax'\n",
    "        #         #   ,'scaling_columns' : {'focus' : 'fnlwgt'}\n",
    "        # }\n",
    "    }, 'Synthesizer': {\n",
    "        'GaussianCoupula': {'synthesizing_method': 'sdv-singletable-gaussiancoupula'}\n",
    "        #    ,'TVAE'            : {'synthesizing_method' : 'sdv-singletable-tvae'}\n",
    "        #    ,'CoupulaGAN'      : {'synthesizing_method' : 'sdv-singletable-coupulagan'}\n",
    "        #    ,'CTGAN'           : {'synthesizing_method' : 'sdv-singletable-ctgan'}\n",
    "    }, 'Evaluator': {\n",
    "        'anonymeter-SinglingOut': {'evaluating_method': 'anonymeter-singlingout-univariate', 'num_samples': 2  # 10\n",
    "                                   , 'anonymeter_n_attacks': 1  # 2000\n",
    "                                   # 10\n",
    "                                   # 2000\n",
    "                                   }, 'anonymeter-Linkability': {'evaluating_method': 'anonymeter-linkability', 'num_samples': 2, 'anonymeter_n_attacks': 1, 'anonymeter_n_neighbors': 5, 'anonymeter_aux_cols': [['age', 'fnlwgt', 'race', 'gender', 'native-country'], ['workclass', 'education', 'capital-gain', 'capital-loss', 'hours-per-week']\n",
    "                                                                                                                                                                                                                  ]\n",
    "                                                                 },\n",
    "        'anonymeter-Inference': {'evaluating_method': 'anonymeter-inference', 'num_samples': 2  # 10\n",
    "                                 , 'anonymeter_n_attacks': 1  # 2000\n",
    "                                 , 'anonymeter_secrets': True\n",
    "                                 }\n",
    "    }\n",
    "}\n",
    "\n",
    "executor_adult = PETsARD.Executor(**para_Executor)\n",
    "# executor_adult.run()\n",
    "executor_adult.run_parallel()\n"
   ]
  },
  {
   "cell_type": "code",
   "execution_count": null,
   "metadata": {},
   "outputs": [],
   "source": [
    "import PETsARD\n",
    "import os\n",
    "import sys\n",
    "\n",
    "# sys.path.append('D:\\\\Dropbox\\\\89_其他應用\\\\GitHub\\\\PETs-Experiment')\n",
    "# os.chdir('D:\\\\Dropbox\\\\89_其他應用\\\\GitHub\\\\PETs-Experiment\\\\demo')\n",
    "sys.path.append('/home/ec2-user/SageMaker/PETs-Experiment')\n",
    "os.chdir('/home/ec2-user/SageMaker/PETs-Experiment/demo')\n",
    "\n",
    "\n",
    "para_Executor = {\n",
    "    'Loader': {\n",
    "        #  'adult'  : {'filepath'  : '../[sunset]/data/[Adt Income] adult.csv'\n",
    "        #             ,'na_values' : {k : '?' for k in ['workclass' ,'occupation' ,'native-country']}\n",
    "        # }\n",
    "        , 'NHANES': {'filepath': '../[sunset]/data/[NHANES] B.csv', 'header_exist': False, 'header_names': ['gen', 'age', 'race', 'edu', 'mar', 'bmi', 'dep', 'pir', 'gh', 'mets', 'qm', 'dia']\n",
    "                     }\n",
    "    }, 'Splitter': {\n",
    "        '0.8': {'num_samples': 10, 'train_split_ratio': 0.8\n",
    "                }\n",
    "        # ,'0.05' : {'num_samples'       : 10\n",
    "        #           ,'train_split_ratio' : 0.05\n",
    "        # }\n",
    "    }, 'Preprocessor': {\n",
    "        'drop-IQR-stanard-NA': {'missing_method': 'drop', 'outlier_method': 'IQR'                                # ,'outlier_columns' : {'ignore': ['hours-per-week']}\n",
    "                                , 'encoding_method': 'Label', 'scaling': False\n",
    "                                # ,'scaling_method'  : 'Standard'\n",
    "                                #   ,'scaling_columns' : {'focus' : 'fnlwgt'}\n",
    "                                }\n",
    "        # ,'drop-IQR-minmax-NA' : {'missing_method'  : 'drop'\n",
    "        #           ,'outlier_method'  : 'IQR'\n",
    "        #           # ,'outlier_columns' : {'ignore': ['hours-per-week']}\n",
    "        #           ,'encoding_method' : 'Label'\n",
    "        #           ,'scaling'         : False\n",
    "        #           # ,'scaling_method'  : 'minmax'\n",
    "        #         #   ,'scaling_columns' : {'focus' : 'fnlwgt'}\n",
    "        # }\n",
    "    }, 'Synthesizer': {\n",
    "        'GaussianCoupula': {'synthesizing_method': 'sdv-singletable-gaussiancoupula'}, 'TVAE': {'synthesizing_method': 'sdv-singletable-tvae'}, 'CoupulaGAN': {'synthesizing_method': 'sdv-singletable-coupulagan'}, 'CTGAN': {'synthesizing_method': 'sdv-singletable-ctgan'}\n",
    "    }, 'Evaluator': {\n",
    "        'anonymeter-SinglingOut': {'evaluating_method': 'anonymeter-singlingout-univariate', 'num_samples': 10, 'anonymeter_n_attacks': 2000\n",
    "                                   }, 'anonymeter-Linkability': {'evaluating_method': 'anonymeter-linkability', 'num_samples': 10, 'anonymeter_n_attacks': 2000, 'anonymeter_n_neighbors': 5, 'anonymeter_aux_cols': [['age', 'fnlwgt', 'race', 'gender', 'native-country'], ['workclass', 'education', 'capital-gain', 'capital-loss', 'hours-per-week']\n",
    "                                                                                                                                                                                                                      ]\n",
    "                                                                 }, 'anonymeter-Inference': {'evaluating_method': 'anonymeter-inference', 'num_samples': 10, 'anonymeter_n_attacks': 2000, 'anonymeter_secrets': True\n",
    "                                                                                             }\n",
    "    }, 'Evaluator': {\n",
    "        'SinglingOut': {'method': 'anonymeter-singlingout-univariate', 'num_samples': 2  # 30\n",
    "                        , 'anonymeter_n_attacks': 2  # 2000\n",
    "                        # 30\n",
    "                        # 2000\n",
    "                        }, 'Linkability': {'method': 'anonymeter-linkability', 'num_samples': 2, 'anonymeter_n_attacks': 2, 'anonymeter_n_neighbors': 10, 'anonymeter_aux_cols': [['age', 'fnlwgt', 'race', 'gender', 'native-country'], ['workclass', 'education', 'capital-gain', 'capital-loss', 'hours-per-week']\n",
    "                                                                                                                                                                                  ]\n",
    "                                           # 30\n",
    "                                           # 2000\n",
    "                                           }, 'Inference': {'method': 'anonymeter-inference', 'num_samples': 2, 'anonymeter_n_attacks': 2, 'anonymeter_secrets': True\n",
    "                                                            }\n",
    "    }\n",
    "}\n",
    "\n",
    "executor_ = PETsARD.Executor(**para_Executor)\n",
    "executor_NHANES.run()\n",
    "# executor_NHANES.run_single_process()\n"
   ]
  },
  {
   "cell_type": "code",
   "execution_count": null,
   "metadata": {},
   "outputs": [],
   "source": []
  },
  {
   "cell_type": "code",
   "execution_count": null,
   "metadata": {},
   "outputs": [],
   "source": []
  }
 ],
 "metadata": {
  "kernelspec": {
   "display_name": "Python 3",
   "language": "python",
   "name": "python3"
  },
  "language_info": {
   "codemirror_mode": {
    "name": "ipython",
    "version": 3
   },
   "file_extension": ".py",
   "mimetype": "text/x-python",
   "name": "python",
   "nbconvert_exporter": "python",
   "pygments_lexer": "ipython3",
   "version": "3.10.13"
  }
 },
 "nbformat": 4,
 "nbformat_minor": 4
}
