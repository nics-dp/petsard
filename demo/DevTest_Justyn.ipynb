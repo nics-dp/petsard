{
 "cells": [
  {
   "cell_type": "code",
   "execution_count": 1,
   "metadata": {
    "collapsed": true,
    "jupyter": {
     "outputs_hidden": true
    },
    "tags": []
   },
   "outputs": [],
   "source": [
    "# !conda update scikit-learn --yes\n",
    "# !conda update sdv --yes"
   ]
  },
  {
   "cell_type": "code",
   "execution_count": 2,
   "metadata": {
    "tags": []
   },
   "outputs": [],
   "source": [
    "import os\n",
    "import sys\n",
    "\n",
    "sys.path.append('D:\\\\Dropbox\\\\89_其他應用\\\\GitHub\\\\PETs-Experiment')\n",
    "os.chdir('D:\\\\Dropbox\\\\89_其他應用\\\\GitHub\\\\PETs-Experiment\\\\demo')\n",
    "# sys.path.append('/home/ec2-user/SageMaker/PETs-Experiment')\n",
    "# os.chdir('/home/ec2-user/SageMaker/PETs-Experiment/demo')\n",
    "\n",
    "import PETs_Experiment"
   ]
  },
  {
   "cell_type": "code",
   "execution_count": 3,
   "metadata": {
    "tags": []
   },
   "outputs": [
    {
     "name": "stdout",
     "output_type": "stream",
     "text": [
      "   age workclass  fnlwgt education  educational-num marital-status  \\\n",
      "0   25   Private  226802      11th                7  Never-married   \n",
      "\n",
      "          occupation relationship   race gender  capital-gain  capital-loss  \\\n",
      "0  Machine-op-inspct    Own-child  Black   Male             0             0   \n",
      "\n",
      "   hours-per-week native-country income  \n",
      "0              40  United-States  <=50K  \n"
     ]
    }
   ],
   "source": [
    "loader = PETs_Experiment.Loader(filepath = '../[sunset]/data/[Adt Income] adult.csv'\n",
    "                               ,na_values = {k : '?' for k in ['workclass'\n",
    "                                                              ,'occupation'\n",
    "                                                              ,'native-country'\n",
    "                                                              ]\n",
    "                                            }\n",
    "                               )\n",
    "print(loader.data.head(1))"
   ]
  },
  {
   "cell_type": "code",
   "execution_count": 4,
   "metadata": {
    "tags": []
   },
   "outputs": [
    {
     "name": "stdout",
     "output_type": "stream",
     "text": [
      "39073\n",
      "9769\n",
      "   age workclass  fnlwgt education  educational-num marital-status  \\\n",
      "0   25   Private  226802      11th                7  Never-married   \n",
      "\n",
      "          occupation relationship   race gender  capital-gain  capital-loss  \\\n",
      "0  Machine-op-inspct    Own-child  Black   Male             0             0   \n",
      "\n",
      "   hours-per-week native-country income  \n",
      "0              40  United-States  <=50K  \n",
      "   age workclass  fnlwgt education  educational-num      marital-status  \\\n",
      "0   38   Private   89814   HS-grad                9  Married-civ-spouse   \n",
      "\n",
      "        occupation relationship   race gender  capital-gain  capital-loss  \\\n",
      "0  Farming-fishing      Husband  White   Male             0             0   \n",
      "\n",
      "   hours-per-week native-country income  \n",
      "0              50  United-States  <=50K  \n"
     ]
    }
   ],
   "source": [
    "splitter = PETs_Experiment.Splitter(data              = loader.data\n",
    "                                   ,num_samples       = 30\n",
    "                                   ,train_split_ratio = 0.8)\n",
    "print(splitter.data[1]['train'     ].shape[0])\n",
    "print(splitter.data[1]['validation'].shape[0])\n",
    "print(splitter.data[1]['train'     ].head(1) )\n",
    "print(splitter.data[1]['validation'].head(1) )"
   ]
  },
  {
   "cell_type": "code",
   "execution_count": 5,
   "metadata": {
    "tags": []
   },
   "outputs": [
    {
     "name": "stdout",
     "output_type": "stream",
     "text": [
      "Preprocessor - Missingist (Drop): Dropped 2879 rows.\n",
      "Preprocessor - Outlierist (IQR): Dropped  1074 rows on fnlwgt         . Kept [-62753.0, 417879.0] only.\n",
      "Preprocessor - Outlierist (IQR): Dropped  1748 rows on capital-loss   . Kept [0.0, 0.0] only.\n",
      "Preprocessor - Outlierist (IQR): Dropped   228 rows on educational-num. Kept [3.0, 19.0] only.\n",
      "Preprocessor - Outlierist (IQR): Dropped   217 rows on age            . Kept [-0.5, 75.5] only.\n",
      "Preprocessor - Outlierist (IQR): Dropped  2989 rows on capital-gain   . Kept [0.0, 0.0] only.\n",
      "Preprocessor - Outlierist (IQR): Totally Dropped  6062 in 36194 rows.\n",
      "Preprocessor - Encoder (Label): Column education       been labelized from 0 to 13.\n",
      "Preprocessor - Encoder (Label): Column income          been labelized from 0 to  1.\n",
      "Preprocessor - Encoder (Label): Column race            been labelized from 0 to  4.\n",
      "Preprocessor - Encoder (Label): Column gender          been labelized from 0 to  1.\n",
      "Preprocessor - Encoder (Label): Column native-country  been labelized from 0 to 39.\n",
      "Preprocessor - Encoder (Label): Column occupation      been labelized from 0 to 13.\n",
      "Preprocessor - Encoder (Label): Column relationship    been labelized from 0 to  5.\n",
      "Preprocessor - Encoder (Label): Column workclass       been labelized from 0 to  6.\n",
      "Preprocessor - Encoder (Label): Column marital-status  been labelized from 0 to  6.\n",
      "Preprocessor - Scaler (Standard): Column fnlwgt been standardized.\n",
      "\n",
      "\n",
      "\n",
      "\n",
      "   age  workclass    fnlwgt  education  educational-num  marital-status  \\\n",
      "0   25          2  0.537198          1                7               4   \n",
      "\n",
      "   occupation  relationship  race  gender  capital-gain  capital-loss  \\\n",
      "0           6             3     2       1             0             0   \n",
      "\n",
      "   hours-per-week  native-country  income  \n",
      "0              40              37       0  \n",
      "\n",
      "\n",
      "\n",
      "\n",
      "{'education': LabelEncoder(), 'income': LabelEncoder(), 'race': LabelEncoder(), 'gender': LabelEncoder(), 'native-country': LabelEncoder(), 'occupation': LabelEncoder(), 'relationship': LabelEncoder(), 'workclass': LabelEncoder(), 'marital-status': LabelEncoder()}\n",
      "\n",
      "\n",
      "\n",
      "\n",
      "{'fnlwgt': StandardScaler()}\n"
     ]
    }
   ],
   "source": [
    "preproc = PETs_Experiment.Preprocessor(\n",
    "     data = splitter.data[1]['train']\n",
    "    ,missing=True\n",
    "        ,missing_method  = 'drop'\n",
    "        ,missing_columns = None\n",
    "    ,outlier=True\n",
    "        ,outlier_method  = 'IQR'\n",
    "        ,outlier_columns = {'ignore': ['hours-per-week']}\n",
    "    ,encoding=True\n",
    "        ,encoding_method  = 'Label'\n",
    "        ,encoding_columns = None\n",
    "    ,scaling=True\n",
    "        ,scaling_method  = 'Standard'\n",
    "        ,scaling_columns = {'focus' : 'fnlwgt'}\n",
    ")\n",
    "print('\\n\\n\\n')\n",
    "print(preproc.data.head(1))\n",
    "print('\\n\\n\\n')\n",
    "print(preproc.encoder)\n",
    "print('\\n\\n\\n')\n",
    "print(preproc.scaler)"
   ]
  },
  {
   "cell_type": "code",
   "execution_count": 6,
   "metadata": {
    "tags": []
   },
   "outputs": [
    {
     "name": "stdout",
     "output_type": "stream",
     "text": [
      "Synthesizer (SDV - SingleTable): Metafile loading time: 0.0281 sec.\n",
      "Synthesizer (SDV - SingleTable): Fitting  GaussianCoupula.\n"
     ]
    },
    {
     "name": "stderr",
     "output_type": "stream",
     "text": [
      "c:\\Program Files\\Python310\\lib\\site-packages\\rdt\\transformers\\numerical.py:112: UserWarning: No rounding scheme detected for column 'fnlwgt'. Data will not be rounded.\n",
      "  warnings.warn(\n"
     ]
    },
    {
     "name": "stdout",
     "output_type": "stream",
     "text": [
      "Synthesizer (SDV - SingleTable): Fitting  GaussianCoupula spent 15.1579 sec.\n",
      "Synthesizer (SDV - SingleTable): Sampling GaussianCoupula # 30132 rows (same as raw) in 1.6513 sec.\n",
      "   age  workclass    fnlwgt  education  educational-num  marital-status  \\\n",
      "0   43          2  1.867811         10                8               0   \n",
      "\n",
      "   occupation  relationship  race  gender  capital-gain  capital-loss  \\\n",
      "0           7             4     4       1             0             0   \n",
      "\n",
      "   hours-per-week  native-country  income  \n",
      "0              49              39       0  \n"
     ]
    }
   ],
   "source": [
    "synthesizer = PETs_Experiment.Synthesizer(data = preproc.data\n",
    "                                         ,synthesizing_method = 'sdv-singletable-gaussiancoupula'\n",
    "                                         )\n",
    "synthesizer.fit_sample()\n",
    "print(synthesizer.data_syn.head(1))"
   ]
  },
  {
   "cell_type": "code",
   "execution_count": 7,
   "metadata": {},
   "outputs": [
    {
     "name": "stdout",
     "output_type": "stream",
     "text": [
      "Postprocessor - Scaler (StandardScaler): Decoding fnlwgt.\n",
      "Postprocessor - Encoder (LabelEncoder): Decoding education.\n",
      "Postprocessor - Encoder (LabelEncoder): Decoding income.\n",
      "Postprocessor - Encoder (LabelEncoder): Decoding race.\n",
      "Postprocessor - Encoder (LabelEncoder): Decoding gender.\n",
      "Postprocessor - Encoder (LabelEncoder): Decoding native-country.\n",
      "Postprocessor - Encoder (LabelEncoder): Decoding occupation.\n",
      "Postprocessor - Encoder (LabelEncoder): Decoding relationship.\n",
      "Postprocessor - Encoder (LabelEncoder): Decoding workclass.\n",
      "Postprocessor - Encoder (LabelEncoder): Decoding marital-status.\n",
      "   age workclass         fnlwgt education  educational-num marital-status  \\\n",
      "0   43   Private  343391.443081   HS-grad                8       Divorced   \n",
      "\n",
      "      occupation relationship   race gender  capital-gain  capital-loss  \\\n",
      "0  Other-service    Unmarried  White   Male             0             0   \n",
      "\n",
      "   hours-per-week native-country income  \n",
      "0              49     Yugoslavia  <=50K  \n"
     ]
    }
   ],
   "source": [
    "postproc = PETs_Experiment.Postprocessor(data = synthesizer.data_syn\n",
    "                                        ,encoder = getattr(preproc ,'encoder' ,None)\n",
    "                                        ,scaler  = getattr(preproc ,'scaler'  ,None)\n",
    "                                        )\n",
    "print(postproc.data.head(1))"
   ]
  },
  {
   "cell_type": "code",
   "execution_count": 8,
   "metadata": {},
   "outputs": [
    {
     "name": "stdout",
     "output_type": "stream",
     "text": [
      "====== ====== ====== ====== ====== ======\n",
      "Executor: Total execution time: 90.1305 sec.\n",
      "====== ====== ====== ====== ====== ======\n",
      "[Adt Income] adult.csv\n",
      "   age workclass  fnlwgt education  educational-num marital-status  \\\n",
      "0   25   Private  226802      11th                7  Never-married   \n",
      "\n",
      "          occupation relationship   race gender  capital-gain  capital-loss  \\\n",
      "0  Machine-op-inspct    Own-child  Black   Male             0             0   \n",
      "\n",
      "   hours-per-week native-country income  \n",
      "0              40  United-States  <=50K  \n"
     ]
    }
   ],
   "source": [
    "import os\n",
    "import sys\n",
    "\n",
    "sys.path.append('D:\\\\Dropbox\\\\89_其他應用\\\\GitHub\\\\PETs-Experiment')\n",
    "os.chdir('D:\\\\Dropbox\\\\89_其他應用\\\\GitHub\\\\PETs-Experiment\\\\demo')\n",
    "import PETs_Experiment\n",
    "\n",
    "para_Executor = {\n",
    "     'Loader_filepath'  : '../[sunset]/data/[Adt Income] adult.csv'\n",
    "    ,'Loader_na_values' : {k : '?' for k in ['workclass' ,'occupation' ,'native-country']}\n",
    "    ,'Splitter_num_samples'       : 2\n",
    "    ,'Splitter_train_split_ratio' : 0.8\n",
    "    ,'Preprocessor_missing_method'  : 'drop'\n",
    "    ,'Preprocessor_outlier_method'  : 'IQR'\n",
    "    ,'Preprocessor_outlier_columns' : {'ignore': ['hours-per-week']}\n",
    "    ,'Preprocessor_encoding_method' : 'Label'\n",
    "    ,'Preprocessor_scaling'         : True\n",
    "    ,'Preprocessor_scaling_method'  : 'Standard'\n",
    "    ,'Preprocessor_scaling_columns' : {'focus' : 'fnlwgt'}\n",
    "    ,'Synthesizer_synthesizing_method' : 'sdv-singletable-gaussiancoupula'\n",
    "}\n",
    "\n",
    "executor = PETs_Experiment.Executor(**para_Executor)\n",
    "executor.run()\n",
    "\n",
    "\n",
    "for k ,v in executor.loader.items():\n",
    "    print(k)\n",
    "    print(v.data.head(1))"
   ]
  },
  {
   "cell_type": "code",
   "execution_count": 9,
   "metadata": {},
   "outputs": [
    {
     "name": "stdout",
     "output_type": "stream",
     "text": [
      "====== ====== ====== ====== ====== ======\n",
      "Executor: Total execution time: 145.0886 sec.\n",
      "====== ====== ====== ====== ====== ======\n"
     ]
    }
   ],
   "source": [
    "import os\n",
    "import sys\n",
    "\n",
    "sys.path.append('D:\\\\Dropbox\\\\89_其他應用\\\\GitHub\\\\PETs-Experiment')\n",
    "os.chdir('D:\\\\Dropbox\\\\89_其他應用\\\\GitHub\\\\PETs-Experiment\\\\demo')\n",
    "import PETs_Experiment\n",
    "\n",
    "para_Executor = {\n",
    "     'Loader' : {\n",
    "         'adult'  : {'filepath'   : '../[sunset]/data/[Adt Income] adult.csv'\n",
    "                    ,'na_values' : {k : '?' for k in ['workclass' ,'occupation' ,'native-country']}\n",
    "        }\n",
    "        ,'NHANES' : {'filepath'      : '../[sunset]/data/[NHANES] B.csv'\n",
    "                    ,'header_exist' : False\n",
    "                    ,'header_names' : ['gen','age','race','edu','mar','bmi','dep','pir','gh','mets','qm','dia']\n",
    "        }\n",
    "     }\n",
    "    ,'Splitter' : {\n",
    "         '0.8'  : {'num_samples'       : 2\n",
    "                  ,'train_split_ratio' : 0.8\n",
    "        }\n",
    "        ,'0.05' : {'num_samples'       : 1\n",
    "                  ,'train_split_ratio' : 0.05\n",
    "        }\n",
    "    }\n",
    "    ,'Preprocessor_missing_method'  : 'drop'\n",
    "    ,'Preprocessor_outlier_method'  : 'IQR'\n",
    "    # ,'Preprocessor_outlier_columns' : {'ignore': ['hours-per-week']}\n",
    "    ,'Preprocessor_encoding_method' : 'Label'\n",
    "    # ,'Preprocessor_scaling'         : True\n",
    "    # ,'Preprocessor_scaling_method'  : 'Standard'\n",
    "    # ,'Preprocessor_scaling_columns' : {'focus' : 'fnlwgt'}\n",
    "    ,'Synthesizer': {\n",
    "        'GaussianCoupula' : {'synthesizing_method' : 'sdv-singletable-gaussiancoupula'}\n",
    "       ,'CoupulaGAN'      : {'synthesizing_method' : 'sdv-singletable-coupulagan'}\n",
    "       ,'CTGAN'           : {'synthesizing_method' : 'sdv-singletable-ctgan'}\n",
    "       ,'TVAE'            : {'synthesizing_method' : 'sdv-singletable-tvae'}\n",
    "    }\n",
    "}\n",
    "\n",
    "executor = PETs_Experiment.Executor(**para_Executor)\n",
    "executor.run()\n",
    "    "
   ]
  },
  {
   "cell_type": "code",
   "execution_count": null,
   "metadata": {},
   "outputs": [],
   "source": []
  },
  {
   "cell_type": "code",
   "execution_count": null,
   "metadata": {},
   "outputs": [],
   "source": []
  },
  {
   "cell_type": "code",
   "execution_count": null,
   "metadata": {},
   "outputs": [],
   "source": []
  },
  {
   "cell_type": "code",
   "execution_count": 28,
   "metadata": {},
   "outputs": [
    {
     "name": "stdout",
     "output_type": "stream",
     "text": [
      "adult\n",
      "NHANES\n"
     ]
    },
    {
     "data": {
      "text/plain": [
       "{'adult': 'para', 'NHANES': 'para'}"
      ]
     },
     "execution_count": 28,
     "metadata": {},
     "output_type": "execute_result"
    }
   ],
   "source": [
    "\n",
    "\n",
    "\n",
    "\n",
    "from PETs_Experiment import Loader\n",
    "self = executor    \n",
    "\n",
    "\n",
    "def test(key ,para):\n",
    "    print(key)\n",
    "    return key , 'para'\n",
    "\n",
    "\n",
    "\n",
    "\n",
    "with ThreadPoolExecutor() as async_executor:\n",
    "    futures = [async_executor.submit(test, _key, _para)\n",
    "                for _key ,_para in self.para['Loader_setting'].items()]\n",
    "\n",
    "    for future in futures:\n",
    "        key, loader_result = future.result()\n",
    "        self.loader[key] = loader_result\n",
    "\n",
    "self.loader"
   ]
  },
  {
   "cell_type": "code",
   "execution_count": null,
   "metadata": {},
   "outputs": [],
   "source": []
  }
 ],
 "metadata": {
  "kernelspec": {
   "display_name": "Python 3",
   "language": "python",
   "name": "python3"
  },
  "language_info": {
   "codemirror_mode": {
    "name": "ipython",
    "version": 3
   },
   "file_extension": ".py",
   "mimetype": "text/x-python",
   "name": "python",
   "nbconvert_exporter": "python",
   "pygments_lexer": "ipython3",
   "version": "3.10.13"
  }
 },
 "nbformat": 4,
 "nbformat_minor": 4
}
