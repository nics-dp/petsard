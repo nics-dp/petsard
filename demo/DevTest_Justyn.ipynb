{
 "cells": [
  {
   "cell_type": "code",
   "execution_count": 2,
   "metadata": {
    "tags": []
   },
   "outputs": [
    {
     "name": "stderr",
     "output_type": "stream",
     "text": [
      "ERROR: Could not open requirements file: [Errno 2] No such file or directory: 'requirements.txt'\n"
     ]
    }
   ],
   "source": [
    "import os\n",
    "import sys\n",
    "\n",
    "sys.path.append('D:\\\\Dropbox\\\\89_其他應用\\\\GitHub\\\\PETs-Experiment')\n",
    "os.chdir('D:\\\\Dropbox\\\\89_其他應用\\\\GitHub\\\\PETs-Experiment\\\\demo')\n",
    "# sys.path.append('/home/ec2-user/SageMaker/PETs-Experiment')\n",
    "# os.chdir('/home/ec2-user/SageMaker/PETs-Experiment/demo')\n",
    "!pip install -r ../requirements.txt\n",
    "\n",
    "import PETs_Experiment"
   ]
  },
  {
   "cell_type": "code",
   "execution_count": 3,
   "metadata": {
    "tags": []
   },
   "outputs": [
    {
     "name": "stdout",
     "output_type": "stream",
     "text": [
      "   age workclass  fnlwgt education  educational-num marital-status  \\\n",
      "0   25   Private  226802      11th                7  Never-married   \n",
      "\n",
      "          occupation relationship   race gender  capital-gain  capital-loss  \\\n",
      "0  Machine-op-inspct    Own-child  Black   Male             0             0   \n",
      "\n",
      "   hours-per-week native-country income  \n",
      "0              40  United-States  <=50K  \n"
     ]
    }
   ],
   "source": [
    "loader = PETs_Experiment.Loader(filepath = '../[sunset]/data/[Adt Income] adult.csv'\n",
    "                               ,na_values = {k : '?' for k in ['workclass'\n",
    "                                                              ,'occupation'\n",
    "                                                              ,'native-country'\n",
    "                                                              ]\n",
    "                                            }\n",
    "                               )\n",
    "print(loader.data.head(1))"
   ]
  },
  {
   "cell_type": "code",
   "execution_count": 4,
   "metadata": {
    "tags": []
   },
   "outputs": [
    {
     "name": "stdout",
     "output_type": "stream",
     "text": [
      "39073\n",
      "9769\n",
      "   age workclass  fnlwgt education  educational-num marital-status  \\\n",
      "0   25   Private  226802      11th                7  Never-married   \n",
      "\n",
      "          occupation relationship   race gender  capital-gain  capital-loss  \\\n",
      "0  Machine-op-inspct    Own-child  Black   Male             0             0   \n",
      "\n",
      "   hours-per-week native-country income  \n",
      "0              40  United-States  <=50K  \n",
      "   age workclass  fnlwgt education  educational-num      marital-status  \\\n",
      "0   38   Private   89814   HS-grad                9  Married-civ-spouse   \n",
      "\n",
      "        occupation relationship   race gender  capital-gain  capital-loss  \\\n",
      "0  Farming-fishing      Husband  White   Male             0             0   \n",
      "\n",
      "   hours-per-week native-country income  \n",
      "0              50  United-States  <=50K  \n"
     ]
    }
   ],
   "source": [
    "splitter = PETs_Experiment.Splitter(data              = loader.data\n",
    "                                   ,num_samples       = 1 # 30\n",
    "                                   ,train_split_ratio = 0.8)\n",
    "print(splitter.data[1]['train'     ].shape[0])\n",
    "print(splitter.data[1]['validation'].shape[0])\n",
    "print(splitter.data[1]['train'     ].head(1) )\n",
    "print(splitter.data[1]['validation'].head(1) )"
   ]
  },
  {
   "cell_type": "code",
   "execution_count": 5,
   "metadata": {
    "tags": []
   },
   "outputs": [
    {
     "name": "stdout",
     "output_type": "stream",
     "text": [
      "Preprocessor - Outlierist (IQR): Dropped   224 rows on educational-num. Kept [3.0, 19.0] only.\n"
     ]
    },
    {
     "name": "stdout",
     "output_type": "stream",
     "text": [
      "Preprocessor - Outlierist (IQR): Dropped  1050 rows on fnlwgt         . Kept [-63601.875, 419047.125] only.\n",
      "Preprocessor - Outlierist (IQR): Dropped  1741 rows on capital-loss   . Kept [0.0, 0.0] only.\n",
      "Preprocessor - Outlierist (IQR): Dropped   207 rows on age            . Kept [-0.5, 75.5] only.\n",
      "Preprocessor - Outlierist (IQR): Dropped  3051 rows on capital-gain   . Kept [0.0, 0.0] only.\n",
      "Preprocessor - Outlierist (IQR): Totally Dropped  6074 in 36196 rows.\n",
      "Preprocessor - Encoder (Label): Column education       been labelized from 0 to 13.\n",
      "Preprocessor - Encoder (Label): Column gender          been labelized from 0 to  1.\n",
      "Preprocessor - Encoder (Label): Column race            been labelized from 0 to  4.\n",
      "Preprocessor - Encoder (Label): Column income          been labelized from 0 to  1.\n",
      "Preprocessor - Encoder (Label): Column workclass       been labelized from 0 to  6.\n",
      "Preprocessor - Encoder (Label): Column marital-status  been labelized from 0 to  6.\n",
      "Preprocessor - Encoder (Label): Column occupation      been labelized from 0 to 13.\n",
      "Preprocessor - Encoder (Label): Column relationship    been labelized from 0 to  5.\n",
      "Preprocessor - Encoder (Label): Column native-country  been labelized from 0 to 39.\n",
      "Preprocessor - Scaler (Standard): Column fnlwgt been standardized.\n",
      "\n",
      "\n",
      "\n",
      "\n",
      "   age  workclass    fnlwgt  education  educational-num  marital-status  \\\n",
      "0   25          2  0.533113          1                7               4   \n",
      "\n",
      "   occupation  relationship  race  gender  capital-gain  capital-loss  \\\n",
      "0           6             3     2       1             0             0   \n",
      "\n",
      "   hours-per-week  native-country  income  \n",
      "0              40              37       0  \n",
      "\n",
      "\n",
      "\n",
      "\n",
      "{'education': LabelEncoder(), 'gender': LabelEncoder(), 'race': LabelEncoder(), 'income': LabelEncoder(), 'workclass': LabelEncoder(), 'marital-status': LabelEncoder(), 'occupation': LabelEncoder(), 'relationship': LabelEncoder(), 'native-country': LabelEncoder()}\n",
      "\n",
      "\n",
      "\n",
      "\n",
      "{'fnlwgt': StandardScaler()}\n"
     ]
    }
   ],
   "source": [
    "preproc = PETs_Experiment.Preprocessor(\n",
    "     data = splitter.data[1]['train']\n",
    "    ,missing=True\n",
    "        ,missing_method  = 'drop'\n",
    "        ,missing_columns = None\n",
    "    ,outlier=True\n",
    "        ,outlier_method  = 'IQR'\n",
    "        ,outlier_columns = {'ignore': ['hours-per-week']}\n",
    "    ,encoding=True\n",
    "        ,encoding_method  = 'Label'\n",
    "        ,encoding_columns = None\n",
    "    ,scaling=True\n",
    "        ,scaling_method  = 'Standard'\n",
    "        ,scaling_columns = {'focus' : 'fnlwgt'}\n",
    ")\n",
    "print('\\n\\n\\n')\n",
    "print(preproc.data.head(1))\n",
    "print('\\n\\n\\n')\n",
    "print(preproc.encoder)\n",
    "print('\\n\\n\\n')\n",
    "print(preproc.scaler)"
   ]
  },
  {
   "cell_type": "code",
   "execution_count": 6,
   "metadata": {
    "tags": []
   },
   "outputs": [
    {
     "name": "stdout",
     "output_type": "stream",
     "text": [
      "Synthesizer (SDV - SingleTable): Metafile loading time: 0.028 sec.\n",
      "Synthesizer (SDV - SingleTable): Fitting  GaussianCoupula.\n"
     ]
    },
    {
     "name": "stderr",
     "output_type": "stream",
     "text": [
      "c:\\Program Files\\Python310\\lib\\site-packages\\rdt\\transformers\\numerical.py:112: UserWarning: No rounding scheme detected for column 'fnlwgt'. Data will not be rounded.\n",
      "  warnings.warn(\n"
     ]
    },
    {
     "name": "stdout",
     "output_type": "stream",
     "text": [
      "Synthesizer (SDV - SingleTable): Fitting  GaussianCoupula spent 14.8822 sec.\n",
      "Synthesizer (SDV - SingleTable): Sampling GaussianCoupula # 30122 rows (same as raw) in 3.2704 sec.\n",
      "   age  workclass    fnlwgt  education  educational-num  marital-status  \\\n",
      "0   43          4  0.126817          7               12               6   \n",
      "\n",
      "   occupation  relationship  race  gender  capital-gain  capital-loss  \\\n",
      "0          12             4     4       1             0             0   \n",
      "\n",
      "   hours-per-week  native-country  income  \n",
      "0              44              39       0  \n"
     ]
    }
   ],
   "source": [
    "synthesizer = PETs_Experiment.Synthesizer(data = preproc.data\n",
    "                                         ,synthesizing_method = 'sdv-singletable-gaussiancoupula'\n",
    "                                         )\n",
    "synthesizer.fit_sample()\n",
    "print(synthesizer.data_syn.head(1))"
   ]
  },
  {
   "cell_type": "code",
   "execution_count": 7,
   "metadata": {},
   "outputs": [
    {
     "name": "stdout",
     "output_type": "stream",
     "text": [
      "Postprocessor - Scaler (StandardScaler): Decoding fnlwgt.\n",
      "Postprocessor - Encoder (LabelEncoder): Decoding education.\n",
      "Postprocessor - Encoder (LabelEncoder): Decoding gender.\n",
      "Postprocessor - Encoder (LabelEncoder): Decoding race.\n",
      "Postprocessor - Encoder (LabelEncoder): Decoding income.\n",
      "Postprocessor - Encoder (LabelEncoder): Decoding workclass.\n",
      "Postprocessor - Encoder (LabelEncoder): Decoding marital-status.\n",
      "Postprocessor - Encoder (LabelEncoder): Decoding occupation.\n",
      "Postprocessor - Encoder (LabelEncoder): Decoding relationship.\n",
      "Postprocessor - Encoder (LabelEncoder): Decoding native-country.\n",
      "   age         workclass         fnlwgt  education  educational-num  \\\n",
      "0   43  Self-emp-not-inc  191101.890253  Assoc-voc               12   \n",
      "\n",
      "  marital-status    occupation relationship   race gender  capital-gain  \\\n",
      "0        Widowed  Tech-support    Unmarried  White   Male             0   \n",
      "\n",
      "   capital-loss  hours-per-week native-country income  \n",
      "0             0              44     Yugoslavia  <=50K  \n"
     ]
    }
   ],
   "source": [
    "postproc = PETs_Experiment.Postprocessor(data = synthesizer.data_syn\n",
    "                                        ,encoder = getattr(preproc ,'encoder' ,None)\n",
    "                                        ,scaler  = getattr(preproc ,'scaler'  ,None)\n",
    "                                        )\n",
    "print(postproc.data.head(1))"
   ]
  },
  {
   "cell_type": "code",
   "execution_count": null,
   "metadata": {},
   "outputs": [],
   "source": []
  },
  {
   "cell_type": "code",
   "execution_count": 8,
   "metadata": {},
   "outputs": [
    {
     "ename": "TypeError",
     "evalue": "PETs_Experiment.Evaluator.Anonymeter.AnonymeterFactory.AnonymeterFactory() got multiple values for keyword argument 'evaluating_method'",
     "output_type": "error",
     "traceback": [
      "\u001b[1;31m---------------------------------------------------------------------------\u001b[0m",
      "\u001b[1;31mTypeError\u001b[0m                                 Traceback (most recent call last)",
      "Cell \u001b[1;32mIn[8], line 1\u001b[0m\n\u001b[1;32m----> 1\u001b[0m \u001b[39meval\u001b[39m \u001b[39m=\u001b[39m PETs_Experiment\u001b[39m.\u001b[39;49mEvaluator(evaluating_method \u001b[39m=\u001b[39;49m \u001b[39m'\u001b[39;49m\u001b[39manonymeter-linkability\u001b[39;49m\u001b[39m'\u001b[39;49m\n\u001b[0;32m      2\u001b[0m                                  ,data \u001b[39m=\u001b[39;49m {\u001b[39m'\u001b[39;49m\u001b[39mori\u001b[39;49m\u001b[39m'\u001b[39;49m      : splitter\u001b[39m.\u001b[39;49mdata[\u001b[39m1\u001b[39;49m][\u001b[39m'\u001b[39;49m\u001b[39mtrain\u001b[39;49m\u001b[39m'\u001b[39;49m     ]\n\u001b[0;32m      3\u001b[0m                                           ,\u001b[39m'\u001b[39;49m\u001b[39msyn\u001b[39;49m\u001b[39m'\u001b[39;49m     : postproc\u001b[39m.\u001b[39;49mdata\n\u001b[0;32m      4\u001b[0m                                           ,\u001b[39m'\u001b[39;49m\u001b[39mcontrol\u001b[39;49m\u001b[39m'\u001b[39;49m : splitter\u001b[39m.\u001b[39;49mdata[\u001b[39m1\u001b[39;49m][\u001b[39m'\u001b[39;49m\u001b[39mvalidation\u001b[39;49m\u001b[39m'\u001b[39;49m]\n\u001b[0;32m      5\u001b[0m                                  }\n\u001b[0;32m      6\u001b[0m                                  ,n_neighbors \u001b[39m=\u001b[39;49m \u001b[39m10\u001b[39;49m\n\u001b[0;32m      7\u001b[0m                                  ,n_jobs      \u001b[39m=\u001b[39;49m \u001b[39m-\u001b[39;49m\u001b[39m1\u001b[39;49m\n\u001b[0;32m      8\u001b[0m                                  ,aux_cols \u001b[39m=\u001b[39;49m [[\u001b[39m'\u001b[39;49m\u001b[39mage\u001b[39;49m\u001b[39m'\u001b[39;49m ,\u001b[39m'\u001b[39;49m\u001b[39mfnlwgt\u001b[39;49m\u001b[39m'\u001b[39;49m ,\u001b[39m'\u001b[39;49m\u001b[39mrace\u001b[39;49m\u001b[39m'\u001b[39;49m ,\u001b[39m'\u001b[39;49m\u001b[39mgender\u001b[39;49m\u001b[39m'\u001b[39;49m ,\u001b[39m'\u001b[39;49m\u001b[39mnative-country\u001b[39;49m\u001b[39m'\u001b[39;49m]\n\u001b[0;32m      9\u001b[0m                                              ,[\u001b[39m'\u001b[39;49m\u001b[39mworkclass\u001b[39;49m\u001b[39m'\u001b[39;49m ,\u001b[39m'\u001b[39;49m\u001b[39meducation\u001b[39;49m\u001b[39m'\u001b[39;49m ,\u001b[39m'\u001b[39;49m\u001b[39mcapital-gain\u001b[39;49m\u001b[39m'\u001b[39;49m ,\u001b[39m'\u001b[39;49m\u001b[39mcapital-loss\u001b[39;49m\u001b[39m'\u001b[39;49m ,\u001b[39m'\u001b[39;49m\u001b[39mhours-per-week\u001b[39;49m\u001b[39m'\u001b[39;49m]\n\u001b[0;32m     10\u001b[0m                                              ]\n\u001b[0;32m     11\u001b[0m                                  )\u001b[39m.\u001b[39meval()\n",
      "File \u001b[1;32mD:\\Dropbox\\89_其他應用\\GitHub\\PETs-Experiment\\PETs_Experiment\\Evaluator\\Evaluator.py:26\u001b[0m, in \u001b[0;36mEvaluator.__init__\u001b[1;34m(self, data, evaluating_method, **kwargs)\u001b[0m\n\u001b[0;32m     21\u001b[0m _para_Evaluator \u001b[39m=\u001b[39m {\n\u001b[0;32m     22\u001b[0m     \u001b[39m'\u001b[39m\u001b[39mevaluating_method\u001b[39m\u001b[39m'\u001b[39m: evaluating_method\u001b[39m.\u001b[39mlower()\n\u001b[0;32m     23\u001b[0m }\n\u001b[0;32m     25\u001b[0m \u001b[39mfrom\u001b[39;00m \u001b[39m.\u001b[39;00m\u001b[39mEvaluatorFactory\u001b[39;00m \u001b[39mimport\u001b[39;00m EvaluatorFactory\n\u001b[1;32m---> 26\u001b[0m Evaluator \u001b[39m=\u001b[39m EvaluatorFactory(data\u001b[39m=\u001b[39mdata, \u001b[39m*\u001b[39m\u001b[39m*\u001b[39m_para_Evaluator)\n\u001b[0;32m     28\u001b[0m \u001b[39mself\u001b[39m\u001b[39m.\u001b[39mdata \u001b[39m=\u001b[39m data\n\u001b[0;32m     29\u001b[0m \u001b[39mself\u001b[39m\u001b[39m.\u001b[39mEvaluator \u001b[39m=\u001b[39m Evaluator\n",
      "File \u001b[1;32mD:\\Dropbox\\89_其他應用\\GitHub\\PETs-Experiment\\PETs_Experiment\\Evaluator\\EvaluatorFactory.py:7\u001b[0m, in \u001b[0;36mEvaluatorFactory.__init__\u001b[1;34m(self, **kwargs)\u001b[0m\n\u001b[0;32m      5\u001b[0m \u001b[39mif\u001b[39;00m evaluating_method\u001b[39m.\u001b[39mstartswith(\u001b[39m'\u001b[39m\u001b[39manonymeter\u001b[39m\u001b[39m'\u001b[39m):\n\u001b[0;32m      6\u001b[0m     \u001b[39mfrom\u001b[39;00m \u001b[39m.\u001b[39;00m\u001b[39mAnonymeter\u001b[39;00m\u001b[39m.\u001b[39;00m\u001b[39mAnonymeterFactory\u001b[39;00m \u001b[39mimport\u001b[39;00m AnonymeterFactory\n\u001b[1;32m----> 7\u001b[0m     _Evaluator \u001b[39m=\u001b[39m AnonymeterFactory(\n\u001b[0;32m      8\u001b[0m         evaluating_method\u001b[39m=\u001b[39mevaluating_method, \u001b[39m*\u001b[39m\u001b[39m*\u001b[39mkwargs)\u001b[39m.\u001b[39mcreate_evaluator()\n\u001b[0;32m      9\u001b[0m \u001b[39melse\u001b[39;00m:\n\u001b[0;32m     10\u001b[0m     \u001b[39mraise\u001b[39;00m \u001b[39mValueError\u001b[39;00m(\n\u001b[0;32m     11\u001b[0m         \u001b[39mf\u001b[39m\u001b[39m\"\u001b[39m\u001b[39mEvaluator - EvaluatorFactory: evaluating_method \u001b[39m\u001b[39m{\u001b[39;00mevaluating_method\u001b[39m}\u001b[39;00m\u001b[39m didn\u001b[39m\u001b[39m'\u001b[39m\u001b[39mt support.\u001b[39m\u001b[39m\"\u001b[39m)\n",
      "\u001b[1;31mTypeError\u001b[0m: PETs_Experiment.Evaluator.Anonymeter.AnonymeterFactory.AnonymeterFactory() got multiple values for keyword argument 'evaluating_method'"
     ]
    }
   ],
   "source": [
    "eval = PETs_Experiment.Evaluator(evaluating_method = 'anonymeter-linkability'\n",
    "                                 ,data = {'ori'      : splitter.data[1]['train'     ]\n",
    "                                          ,'syn'     : postproc.data\n",
    "                                          ,'control' : splitter.data[1]['validation']\n",
    "                                 }\n",
    "                                 ,n_neighbors = 10\n",
    "                                 ,n_jobs      = -1\n",
    "                                 ,aux_cols = [['age' ,'fnlwgt' ,'race' ,'gender' ,'native-country']\n",
    "                                             ,['workclass' ,'education' ,'capital-gain' ,'capital-loss' ,'hours-per-week']\n",
    "                                             ]\n",
    "                                 ).eval()"
   ]
  },
  {
   "cell_type": "code",
   "execution_count": 1,
   "metadata": {},
   "outputs": [
    {
     "name": "stdout",
     "output_type": "stream",
     "text": [
      "Executor - Loader: [Adt Income] adult.csv loading time: 10.7713 sec.\n",
      "Executor - Splitter: Default splitting time: 1.6241 sec.\n",
      "Preprocessor - Outlierist (IQR): Dropped  1051 rows on fnlwgt         . Kept [-62982.0, 418378.0] only.\n",
      "Preprocessor - Outlierist (IQR): Dropped  1754 rows on capital-loss   . Kept [0.0, 0.0] only.\n",
      "Preprocessor - Outlierist (IQR): Dropped   218 rows on age            . Kept [-0.5, 75.5] only.\n",
      "Preprocessor - Outlierist (IQR): Dropped  3027 rows on capital-gain   . Kept [0.0, 0.0] only.\n",
      "Preprocessor - Outlierist (IQR): Dropped   226 rows on educational-num. Kept [3.0, 19.0] only.\n",
      "Preprocessor - Outlierist (IQR): Totally Dropped  6073 in 36203 rows.\n",
      "Preprocessor - Encoder (Label): Column native-country  been labelized from 0 to 39.\n",
      "Preprocessor - Encoder (Label): Column workclass       been labelized from 0 to  6.\n",
      "Preprocessor - Encoder (Label): Column marital-status  been labelized from 0 to  6.\n",
      "Preprocessor - Encoder (Label): Column race            been labelized from 0 to  4.\n",
      "Preprocessor - Encoder (Label): Column gender          been labelized from 0 to  1.\n",
      "Preprocessor - Encoder (Label): Column occupation      been labelized from 0 to 13.\n",
      "Preprocessor - Encoder (Label): Column relationship    been labelized from 0 to  5.\n",
      "Preprocessor - Encoder (Label): Column education       been labelized from 0 to 13.\n",
      "Preprocessor - Encoder (Label): Column income          been labelized from 0 to  1.\n",
      "Preprocessor - Scaler (Standard): Column fnlwgt been standardized.\n",
      "Executor - Preprocessor: drop-IQR-Label-Standard preprocessing time: 0.0755 sec.\n",
      "Synthesizer (SDV - SingleTable): Metafile loading time: 0.0225 sec.\n",
      "Synthesizer (SDV - SingleTable): Fitting  GaussianCoupula.\n"
     ]
    },
    {
     "name": "stderr",
     "output_type": "stream",
     "text": [
      "c:\\Program Files\\Python310\\lib\\site-packages\\rdt\\transformers\\numerical.py:112: UserWarning: No rounding scheme detected for column 'fnlwgt'. Data will not be rounded.\n",
      "  warnings.warn(\n"
     ]
    },
    {
     "name": "stdout",
     "output_type": "stream",
     "text": [
      "Synthesizer (SDV - SingleTable): Fitting  GaussianCoupula spent 14.0938 sec.\n",
      "Synthesizer (SDV - SingleTable): Sampling GaussianCoupula # 30130 rows (same as raw) in 1.3451 sec.\n",
      "Executor - Synthesizer: sdv-singletable-gaussiancoupula synthesizing time: 19.8852 sec.\n",
      "Preprocessor - Outlierist (IQR): Dropped  1077 rows on fnlwgt         . Kept [-63094.75, 418955.25] only.\n",
      "Preprocessor - Outlierist (IQR): Dropped  1738 rows on capital-loss   . Kept [0.0, 0.0] only.\n",
      "Preprocessor - Outlierist (IQR): Dropped   209 rows on age            . Kept [-0.5, 75.5] only.\n",
      "Preprocessor - Outlierist (IQR): Dropped  3042 rows on capital-gain   . Kept [0.0, 0.0] only.\n",
      "Preprocessor - Outlierist (IQR): Dropped   243 rows on educational-num. Kept [3.0, 19.0] only.\n",
      "Preprocessor - Outlierist (IQR): Totally Dropped  6112 in 36151 rows.\n",
      "Preprocessor - Encoder (Label): Column native-country  been labelized from 0 to 39.\n",
      "Preprocessor - Encoder (Label): Column workclass       been labelized from 0 to  6.\n",
      "Preprocessor - Encoder (Label): Column marital-status  been labelized from 0 to  6.\n",
      "Preprocessor - Encoder (Label): Column race            been labelized from 0 to  4.\n",
      "Preprocessor - Encoder (Label): Column gender          been labelized from 0 to  1.\n",
      "Preprocessor - Encoder (Label): Column occupation      been labelized from 0 to 13.\n",
      "Preprocessor - Encoder (Label): Column relationship    been labelized from 0 to  5.\n",
      "Preprocessor - Encoder (Label): Column education       been labelized from 0 to 13.\n",
      "Preprocessor - Encoder (Label): Column income          been labelized from 0 to  1.\n",
      "Preprocessor - Scaler (Standard): Column fnlwgt been standardized.\n",
      "Executor - Preprocessor: drop-IQR-Label-Standard preprocessing time: 0.0697 sec.\n",
      "Synthesizer (SDV - SingleTable): Metafile loading time: 0.0313 sec.\n",
      "Synthesizer (SDV - SingleTable): Fitting  GaussianCoupula.\n"
     ]
    },
    {
     "name": "stderr",
     "output_type": "stream",
     "text": [
      "c:\\Program Files\\Python310\\lib\\site-packages\\rdt\\transformers\\numerical.py:112: UserWarning: No rounding scheme detected for column 'fnlwgt'. Data will not be rounded.\n",
      "  warnings.warn(\n"
     ]
    },
    {
     "name": "stdout",
     "output_type": "stream",
     "text": [
      "Synthesizer (SDV - SingleTable): Fitting  GaussianCoupula spent 13.2118 sec.\n",
      "Synthesizer (SDV - SingleTable): Sampling GaussianCoupula # 30039 rows (same as raw) in 1.5238 sec.\n",
      "Executor - Synthesizer: sdv-singletable-gaussiancoupula synthesizing time: 14.7719 sec.\n",
      "Preprocessor - Outlierist (IQR): Dropped  1064 rows on fnlwgt         . Kept [-63231.5, 418172.5] only.\n",
      "Preprocessor - Outlierist (IQR): Dropped  1708 rows on capital-loss   . Kept [0.0, 0.0] only.\n",
      "Preprocessor - Outlierist (IQR): Dropped   224 rows on age            . Kept [-0.5, 75.5] only.\n",
      "Preprocessor - Outlierist (IQR): Dropped  2988 rows on capital-gain   . Kept [0.0, 0.0] only.\n",
      "Preprocessor - Outlierist (IQR): Dropped   248 rows on educational-num. Kept [3.0, 19.0] only.\n",
      "Preprocessor - Outlierist (IQR): Totally Dropped  6027 in 36201 rows.\n",
      "Preprocessor - Encoder (Label): Column native-country  been labelized from 0 to 39.\n",
      "Preprocessor - Encoder (Label): Column workclass       been labelized from 0 to  6.\n",
      "Preprocessor - Encoder (Label): Column marital-status  been labelized from 0 to  6.\n",
      "Preprocessor - Encoder (Label): Column race            been labelized from 0 to  4.\n",
      "Preprocessor - Encoder (Label): Column gender          been labelized from 0 to  1.\n",
      "Preprocessor - Encoder (Label): Column occupation      been labelized from 0 to 13.\n",
      "Preprocessor - Encoder (Label): Column relationship    been labelized from 0 to  5.\n",
      "Preprocessor - Encoder (Label): Column education       been labelized from 0 to 13.\n",
      "Preprocessor - Encoder (Label): Column income          been labelized from 0 to  1.\n",
      "Preprocessor - Scaler (Standard): Column fnlwgt been standardized.\n",
      "Executor - Preprocessor: drop-IQR-Label-Standard preprocessing time: 0.0736 sec.\n",
      "Synthesizer (SDV - SingleTable): Metafile loading time: 0.0256 sec.\n",
      "Synthesizer (SDV - SingleTable): Fitting  GaussianCoupula.\n"
     ]
    },
    {
     "name": "stderr",
     "output_type": "stream",
     "text": [
      "c:\\Program Files\\Python310\\lib\\site-packages\\rdt\\transformers\\numerical.py:112: UserWarning: No rounding scheme detected for column 'fnlwgt'. Data will not be rounded.\n",
      "  warnings.warn(\n"
     ]
    },
    {
     "name": "stdout",
     "output_type": "stream",
     "text": [
      "Synthesizer (SDV - SingleTable): Fitting  GaussianCoupula spent 15.2968 sec.\n",
      "Synthesizer (SDV - SingleTable): Sampling GaussianCoupula # 30174 rows (same as raw) in 1.3588 sec.\n",
      "Executor - Synthesizer: sdv-singletable-gaussiancoupula synthesizing time: 16.6851 sec.\n",
      "Preprocessor - Outlierist (IQR): Dropped  1077 rows on fnlwgt         . Kept [-63791.0, 419153.0] only.\n",
      "Preprocessor - Outlierist (IQR): Dropped  1704 rows on capital-loss   . Kept [0.0, 0.0] only.\n",
      "Preprocessor - Outlierist (IQR): Dropped   212 rows on age            . Kept [-0.5, 75.5] only.\n",
      "Preprocessor - Outlierist (IQR): Dropped  3048 rows on capital-gain   . Kept [0.0, 0.0] only.\n",
      "Preprocessor - Outlierist (IQR): Dropped   251 rows on educational-num. Kept [3.0, 19.0] only.\n",
      "Preprocessor - Outlierist (IQR): Totally Dropped  6081 in 36153 rows.\n",
      "Preprocessor - Encoder (Label): Column native-country  been labelized from 0 to 39.\n",
      "Preprocessor - Encoder (Label): Column workclass       been labelized from 0 to  6.\n",
      "Preprocessor - Encoder (Label): Column marital-status  been labelized from 0 to  6.\n",
      "Preprocessor - Encoder (Label): Column race            been labelized from 0 to  4.\n",
      "Preprocessor - Encoder (Label): Column gender          been labelized from 0 to  1.\n",
      "Preprocessor - Encoder (Label): Column occupation      been labelized from 0 to 13.\n",
      "Preprocessor - Encoder (Label): Column relationship    been labelized from 0 to  5.\n",
      "Preprocessor - Encoder (Label): Column education       been labelized from 0 to 13.\n",
      "Preprocessor - Encoder (Label): Column income          been labelized from 0 to  1.\n",
      "Preprocessor - Scaler (Standard): Column fnlwgt been standardized.\n",
      "Executor - Preprocessor: drop-IQR-Label-Standard preprocessing time: 0.0707 sec.\n",
      "Synthesizer (SDV - SingleTable): Metafile loading time: 0.024 sec.\n",
      "Synthesizer (SDV - SingleTable): Fitting  GaussianCoupula.\n"
     ]
    },
    {
     "name": "stderr",
     "output_type": "stream",
     "text": [
      "c:\\Program Files\\Python310\\lib\\site-packages\\rdt\\transformers\\numerical.py:112: UserWarning: No rounding scheme detected for column 'fnlwgt'. Data will not be rounded.\n",
      "  warnings.warn(\n"
     ]
    },
    {
     "name": "stdout",
     "output_type": "stream",
     "text": [
      "Synthesizer (SDV - SingleTable): Fitting  GaussianCoupula spent 14.4964 sec.\n",
      "Synthesizer (SDV - SingleTable): Sampling GaussianCoupula # 30072 rows (same as raw) in 1.9237 sec.\n",
      "Executor - Synthesizer: sdv-singletable-gaussiancoupula synthesizing time: 16.4501 sec.\n",
      "Preprocessor - Outlierist (IQR): Dropped  1069 rows on fnlwgt         . Kept [-63156.5, 418087.5] only.\n",
      "Preprocessor - Outlierist (IQR): Dropped  1718 rows on capital-loss   . Kept [0.0, 0.0] only.\n",
      "Preprocessor - Outlierist (IQR): Dropped   223 rows on age            . Kept [-0.5, 75.5] only.\n",
      "Preprocessor - Outlierist (IQR): Dropped  3048 rows on capital-gain   . Kept [0.0, 0.0] only.\n",
      "Preprocessor - Outlierist (IQR): Dropped   230 rows on educational-num. Kept [3.0, 19.0] only.\n",
      "Preprocessor - Outlierist (IQR): Totally Dropped  6078 in 36192 rows.\n",
      "Preprocessor - Encoder (Label): Column native-country  been labelized from 0 to 39.\n",
      "Preprocessor - Encoder (Label): Column workclass       been labelized from 0 to  6.\n",
      "Preprocessor - Encoder (Label): Column marital-status  been labelized from 0 to  6.\n",
      "Preprocessor - Encoder (Label): Column race            been labelized from 0 to  4.\n",
      "Preprocessor - Encoder (Label): Column gender          been labelized from 0 to  1.\n",
      "Preprocessor - Encoder (Label): Column occupation      been labelized from 0 to 13.\n",
      "Preprocessor - Encoder (Label): Column relationship    been labelized from 0 to  5.\n",
      "Preprocessor - Encoder (Label): Column education       been labelized from 0 to 13.\n",
      "Preprocessor - Encoder (Label): Column income          been labelized from 0 to  1.\n",
      "Preprocessor - Scaler (Standard): Column fnlwgt been standardized.\n",
      "Executor - Preprocessor: drop-IQR-Label-Standard preprocessing time: 0.0721 sec.\n",
      "Synthesizer (SDV - SingleTable): Metafile loading time: 0.0235 sec.\n",
      "Synthesizer (SDV - SingleTable): Fitting  GaussianCoupula.\n"
     ]
    },
    {
     "name": "stderr",
     "output_type": "stream",
     "text": [
      "c:\\Program Files\\Python310\\lib\\site-packages\\rdt\\transformers\\numerical.py:112: UserWarning: No rounding scheme detected for column 'fnlwgt'. Data will not be rounded.\n",
      "  warnings.warn(\n"
     ]
    },
    {
     "name": "stdout",
     "output_type": "stream",
     "text": [
      "Synthesizer (SDV - SingleTable): Fitting  GaussianCoupula spent 14.2331 sec.\n",
      "Synthesizer (SDV - SingleTable): Sampling GaussianCoupula # 30114 rows (same as raw) in 1.3818 sec.\n",
      "Executor - Synthesizer: sdv-singletable-gaussiancoupula synthesizing time: 15.6424 sec.\n",
      "Preprocessor - Outlierist (IQR): Dropped  1058 rows on fnlwgt         . Kept [-63662.5, 419661.5] only.\n",
      "Preprocessor - Outlierist (IQR): Dropped  1708 rows on capital-loss   . Kept [0.0, 0.0] only.\n",
      "Preprocessor - Outlierist (IQR): Dropped   204 rows on age            . Kept [-0.5, 75.5] only.\n",
      "Preprocessor - Outlierist (IQR): Dropped  3059 rows on capital-gain   . Kept [0.0, 0.0] only.\n",
      "Preprocessor - Outlierist (IQR): Dropped   242 rows on educational-num. Kept [3.0, 19.0] only.\n",
      "Preprocessor - Outlierist (IQR): Totally Dropped  6063 in 36193 rows.\n",
      "Preprocessor - Encoder (Label): Column native-country  been labelized from 0 to 39.\n",
      "Preprocessor - Encoder (Label): Column workclass       been labelized from 0 to  6.\n",
      "Preprocessor - Encoder (Label): Column marital-status  been labelized from 0 to  6.\n",
      "Preprocessor - Encoder (Label): Column race            been labelized from 0 to  4.\n",
      "Preprocessor - Encoder (Label): Column gender          been labelized from 0 to  1.\n",
      "Preprocessor - Encoder (Label): Column occupation      been labelized from 0 to 13.\n",
      "Preprocessor - Encoder (Label): Column relationship    been labelized from 0 to  5.\n",
      "Preprocessor - Encoder (Label): Column education       been labelized from 0 to 13.\n",
      "Preprocessor - Encoder (Label): Column income          been labelized from 0 to  1.\n",
      "Preprocessor - Scaler (Standard): Column fnlwgt been standardized.\n",
      "Executor - Preprocessor: drop-IQR-Label-Standard preprocessing time: 0.0785 sec.\n",
      "Synthesizer (SDV - SingleTable): Metafile loading time: 0.034 sec.\n",
      "Synthesizer (SDV - SingleTable): Fitting  GaussianCoupula.\n"
     ]
    },
    {
     "name": "stderr",
     "output_type": "stream",
     "text": [
      "c:\\Program Files\\Python310\\lib\\site-packages\\rdt\\transformers\\numerical.py:112: UserWarning: No rounding scheme detected for column 'fnlwgt'. Data will not be rounded.\n",
      "  warnings.warn(\n"
     ]
    },
    {
     "name": "stdout",
     "output_type": "stream",
     "text": [
      "Synthesizer (SDV - SingleTable): Fitting  GaussianCoupula spent 14.8946 sec.\n",
      "Synthesizer (SDV - SingleTable): Sampling GaussianCoupula # 30130 rows (same as raw) in 1.3235 sec.\n",
      "Executor - Synthesizer: sdv-singletable-gaussiancoupula synthesizing time: 16.2561 sec.\n",
      "Preprocessor - Outlierist (IQR): Dropped  1051 rows on fnlwgt         . Kept [-63760.5, 419315.5] only.\n",
      "Preprocessor - Outlierist (IQR): Dropped  1721 rows on capital-loss   . Kept [0.0, 0.0] only.\n",
      "Preprocessor - Outlierist (IQR): Dropped   220 rows on age            . Kept [-0.5, 75.5] only.\n",
      "Preprocessor - Outlierist (IQR): Dropped  3012 rows on capital-gain   . Kept [0.0, 0.0] only.\n",
      "Preprocessor - Outlierist (IQR): Dropped   225 rows on educational-num. Kept [3.0, 19.0] only.\n",
      "Preprocessor - Outlierist (IQR): Totally Dropped  6017 in 36176 rows.\n",
      "Preprocessor - Encoder (Label): Column native-country  been labelized from 0 to 39.\n",
      "Preprocessor - Encoder (Label): Column workclass       been labelized from 0 to  6.\n",
      "Preprocessor - Encoder (Label): Column marital-status  been labelized from 0 to  6.\n",
      "Preprocessor - Encoder (Label): Column race            been labelized from 0 to  4.\n",
      "Preprocessor - Encoder (Label): Column gender          been labelized from 0 to  1.\n",
      "Preprocessor - Encoder (Label): Column occupation      been labelized from 0 to 13.\n",
      "Preprocessor - Encoder (Label): Column relationship    been labelized from 0 to  5.\n",
      "Preprocessor - Encoder (Label): Column education       been labelized from 0 to 13.\n",
      "Preprocessor - Encoder (Label): Column income          been labelized from 0 to  1.\n",
      "Preprocessor - Scaler (Standard): Column fnlwgt been standardized.\n",
      "Executor - Preprocessor: drop-IQR-Label-Standard preprocessing time: 0.0822 sec.\n",
      "Synthesizer (SDV - SingleTable): Metafile loading time: 0.025 sec.\n",
      "Synthesizer (SDV - SingleTable): Fitting  GaussianCoupula.\n"
     ]
    },
    {
     "name": "stderr",
     "output_type": "stream",
     "text": [
      "c:\\Program Files\\Python310\\lib\\site-packages\\rdt\\transformers\\numerical.py:112: UserWarning: No rounding scheme detected for column 'fnlwgt'. Data will not be rounded.\n",
      "  warnings.warn(\n"
     ]
    },
    {
     "name": "stdout",
     "output_type": "stream",
     "text": [
      "Synthesizer (SDV - SingleTable): Fitting  GaussianCoupula spent 18.4109 sec.\n",
      "Synthesizer (SDV - SingleTable): Sampling GaussianCoupula # 30159 rows (same as raw) in 1.5095 sec.\n",
      "Executor - Synthesizer: sdv-singletable-gaussiancoupula synthesizing time: 19.9503 sec.\n",
      "Preprocessor - Outlierist (IQR): Dropped  1039 rows on fnlwgt         . Kept [-62552.0, 418176.0] only.\n",
      "Preprocessor - Outlierist (IQR): Dropped  1732 rows on capital-loss   . Kept [0.0, 0.0] only.\n",
      "Preprocessor - Outlierist (IQR): Dropped   233 rows on age            . Kept [-0.5, 75.5] only.\n",
      "Preprocessor - Outlierist (IQR): Dropped  3060 rows on capital-gain   . Kept [0.0, 0.0] only.\n",
      "Preprocessor - Outlierist (IQR): Dropped   234 rows on educational-num. Kept [3.0, 19.0] only.\n",
      "Preprocessor - Outlierist (IQR): Totally Dropped  6078 in 36205 rows.\n",
      "Preprocessor - Encoder (Label): Column native-country  been labelized from 0 to 39.\n",
      "Preprocessor - Encoder (Label): Column workclass       been labelized from 0 to  6.\n",
      "Preprocessor - Encoder (Label): Column marital-status  been labelized from 0 to  6.\n",
      "Preprocessor - Encoder (Label): Column race            been labelized from 0 to  4.\n",
      "Preprocessor - Encoder (Label): Column gender          been labelized from 0 to  1.\n",
      "Preprocessor - Encoder (Label): Column occupation      been labelized from 0 to 13.\n",
      "Preprocessor - Encoder (Label): Column relationship    been labelized from 0 to  5.\n",
      "Preprocessor - Encoder (Label): Column education       been labelized from 0 to 13.\n",
      "Preprocessor - Encoder (Label): Column income          been labelized from 0 to  1.\n",
      "Preprocessor - Scaler (Standard): Column fnlwgt been standardized.\n",
      "Executor - Preprocessor: drop-IQR-Label-Standard preprocessing time: 0.6703 sec.\n",
      "Synthesizer (SDV - SingleTable): Metafile loading time: 0.064 sec.\n",
      "Synthesizer (SDV - SingleTable): Fitting  GaussianCoupula.\n"
     ]
    },
    {
     "name": "stderr",
     "output_type": "stream",
     "text": [
      "c:\\Program Files\\Python310\\lib\\site-packages\\rdt\\transformers\\numerical.py:112: UserWarning: No rounding scheme detected for column 'fnlwgt'. Data will not be rounded.\n",
      "  warnings.warn(\n"
     ]
    },
    {
     "name": "stdout",
     "output_type": "stream",
     "text": [
      "Synthesizer (SDV - SingleTable): Fitting  GaussianCoupula spent 16.8533 sec.\n",
      "Synthesizer (SDV - SingleTable): Sampling GaussianCoupula # 30127 rows (same as raw) in 1.2975 sec.\n",
      "Executor - Synthesizer: sdv-singletable-gaussiancoupula synthesizing time: 18.2188 sec.\n",
      "Preprocessor - Outlierist (IQR): Dropped  1066 rows on fnlwgt         . Kept [-63532.375, 418922.625] only.\n",
      "Preprocessor - Outlierist (IQR): Dropped  1731 rows on capital-loss   . Kept [0.0, 0.0] only.\n",
      "Preprocessor - Outlierist (IQR): Dropped   208 rows on age            . Kept [-0.5, 75.5] only.\n",
      "Preprocessor - Outlierist (IQR): Dropped  3040 rows on capital-gain   . Kept [0.0, 0.0] only.\n",
      "Preprocessor - Outlierist (IQR): Dropped   239 rows on educational-num. Kept [3.0, 19.0] only.\n",
      "Preprocessor - Outlierist (IQR): Totally Dropped  6081 in 36174 rows.\n",
      "Preprocessor - Encoder (Label): Column native-country  been labelized from 0 to 39.\n",
      "Preprocessor - Encoder (Label): Column workclass       been labelized from 0 to  6.\n",
      "Preprocessor - Encoder (Label): Column marital-status  been labelized from 0 to  6.\n",
      "Preprocessor - Encoder (Label): Column race            been labelized from 0 to  4.\n",
      "Preprocessor - Encoder (Label): Column gender          been labelized from 0 to  1.\n",
      "Preprocessor - Encoder (Label): Column occupation      been labelized from 0 to 13.\n",
      "Preprocessor - Encoder (Label): Column relationship    been labelized from 0 to  5.\n",
      "Preprocessor - Encoder (Label): Column education       been labelized from 0 to 13.\n",
      "Preprocessor - Encoder (Label): Column income          been labelized from 0 to  1.\n",
      "Preprocessor - Scaler (Standard): Column fnlwgt been standardized.\n",
      "Executor - Preprocessor: drop-IQR-Label-Standard preprocessing time: 0.07 sec.\n",
      "Synthesizer (SDV - SingleTable): Metafile loading time: 0.024 sec.\n",
      "Synthesizer (SDV - SingleTable): Fitting  GaussianCoupula.\n"
     ]
    },
    {
     "name": "stderr",
     "output_type": "stream",
     "text": [
      "c:\\Program Files\\Python310\\lib\\site-packages\\rdt\\transformers\\numerical.py:112: UserWarning: No rounding scheme detected for column 'fnlwgt'. Data will not be rounded.\n",
      "  warnings.warn(\n"
     ]
    },
    {
     "name": "stdout",
     "output_type": "stream",
     "text": [
      "Synthesizer (SDV - SingleTable): Fitting  GaussianCoupula spent 14.2001 sec.\n",
      "Synthesizer (SDV - SingleTable): Sampling GaussianCoupula # 30093 rows (same as raw) in 1.323 sec.\n",
      "Executor - Synthesizer: sdv-singletable-gaussiancoupula synthesizing time: 15.5512 sec.\n",
      "Preprocessor - Outlierist (IQR): Dropped  1088 rows on fnlwgt         . Kept [-62419.5, 418136.5] only.\n",
      "Preprocessor - Outlierist (IQR): Dropped  1682 rows on capital-loss   . Kept [0.0, 0.0] only.\n",
      "Preprocessor - Outlierist (IQR): Dropped   206 rows on age            . Kept [-0.5, 75.5] only.\n",
      "Preprocessor - Outlierist (IQR): Dropped  3024 rows on capital-gain   . Kept [0.0, 0.0] only.\n",
      "Preprocessor - Outlierist (IQR): Dropped   238 rows on educational-num. Kept [3.0, 19.0] only.\n",
      "Preprocessor - Outlierist (IQR): Totally Dropped  6034 in 36157 rows.\n",
      "Preprocessor - Encoder (Label): Column native-country  been labelized from 0 to 39.\n",
      "Preprocessor - Encoder (Label): Column workclass       been labelized from 0 to  6.\n",
      "Preprocessor - Encoder (Label): Column marital-status  been labelized from 0 to  6.\n",
      "Preprocessor - Encoder (Label): Column race            been labelized from 0 to  4.\n",
      "Preprocessor - Encoder (Label): Column gender          been labelized from 0 to  1.\n",
      "Preprocessor - Encoder (Label): Column occupation      been labelized from 0 to 13.\n",
      "Preprocessor - Encoder (Label): Column relationship    been labelized from 0 to  5.\n",
      "Preprocessor - Encoder (Label): Column education       been labelized from 0 to 13.\n",
      "Preprocessor - Encoder (Label): Column income          been labelized from 0 to  1.\n",
      "Preprocessor - Scaler (Standard): Column fnlwgt been standardized.\n",
      "Executor - Preprocessor: drop-IQR-Label-Standard preprocessing time: 0.071 sec.\n",
      "Synthesizer (SDV - SingleTable): Metafile loading time: 0.021 sec.\n",
      "Synthesizer (SDV - SingleTable): Fitting  GaussianCoupula.\n"
     ]
    },
    {
     "name": "stderr",
     "output_type": "stream",
     "text": [
      "c:\\Program Files\\Python310\\lib\\site-packages\\rdt\\transformers\\numerical.py:112: UserWarning: No rounding scheme detected for column 'fnlwgt'. Data will not be rounded.\n",
      "  warnings.warn(\n"
     ]
    },
    {
     "name": "stdout",
     "output_type": "stream",
     "text": [
      "Synthesizer (SDV - SingleTable): Fitting  GaussianCoupula spent 14.494 sec.\n",
      "Synthesizer (SDV - SingleTable): Sampling GaussianCoupula # 30123 rows (same as raw) in 1.4015 sec.\n",
      "Executor - Synthesizer: sdv-singletable-gaussiancoupula synthesizing time: 15.9216 sec.\n",
      "Preprocessor - Outlierist (IQR): Dropped  1033 rows on fnlwgt         . Kept [-63764.0, 418332.0] only.\n",
      "Preprocessor - Outlierist (IQR): Dropped  1729 rows on capital-loss   . Kept [0.0, 0.0] only.\n",
      "Preprocessor - Outlierist (IQR): Dropped   214 rows on age            . Kept [-0.5, 75.5] only.\n",
      "Preprocessor - Outlierist (IQR): Dropped  3051 rows on capital-gain   . Kept [0.0, 0.0] only.\n",
      "Preprocessor - Outlierist (IQR): Dropped   227 rows on educational-num. Kept [3.0, 19.0] only.\n",
      "Preprocessor - Outlierist (IQR): Totally Dropped  6058 in 36192 rows.\n",
      "Preprocessor - Encoder (Label): Column native-country  been labelized from 0 to 39.\n",
      "Preprocessor - Encoder (Label): Column workclass       been labelized from 0 to  6.\n",
      "Preprocessor - Encoder (Label): Column marital-status  been labelized from 0 to  6.\n",
      "Preprocessor - Encoder (Label): Column race            been labelized from 0 to  4.\n",
      "Preprocessor - Encoder (Label): Column gender          been labelized from 0 to  1.\n",
      "Preprocessor - Encoder (Label): Column occupation      been labelized from 0 to 13.\n",
      "Preprocessor - Encoder (Label): Column relationship    been labelized from 0 to  5.\n",
      "Preprocessor - Encoder (Label): Column education       been labelized from 0 to 13.\n",
      "Preprocessor - Encoder (Label): Column income          been labelized from 0 to  1.\n",
      "Preprocessor - Scaler (Standard): Column fnlwgt been standardized.\n",
      "Executor - Preprocessor: drop-IQR-Label-Standard preprocessing time: 0.074 sec.\n",
      "Synthesizer (SDV - SingleTable): Metafile loading time: 0.023 sec.\n",
      "Synthesizer (SDV - SingleTable): Fitting  GaussianCoupula.\n"
     ]
    },
    {
     "name": "stderr",
     "output_type": "stream",
     "text": [
      "c:\\Program Files\\Python310\\lib\\site-packages\\rdt\\transformers\\numerical.py:112: UserWarning: No rounding scheme detected for column 'fnlwgt'. Data will not be rounded.\n",
      "  warnings.warn(\n"
     ]
    },
    {
     "name": "stdout",
     "output_type": "stream",
     "text": [
      "Synthesizer (SDV - SingleTable): Fitting  GaussianCoupula spent 14.9208 sec.\n",
      "Synthesizer (SDV - SingleTable): Sampling GaussianCoupula # 30134 rows (same as raw) in 1.4043 sec.\n",
      "Executor - Synthesizer: sdv-singletable-gaussiancoupula synthesizing time: 16.3528 sec.\n",
      "Preprocessor - Outlierist (IQR): Dropped  1049 rows on fnlwgt         . Kept [-64149.5, 419134.5] only.\n",
      "Preprocessor - Outlierist (IQR): Dropped  1707 rows on capital-loss   . Kept [0.0, 0.0] only.\n",
      "Preprocessor - Outlierist (IQR): Dropped   210 rows on age            . Kept [-0.5, 75.5] only.\n",
      "Preprocessor - Outlierist (IQR): Dropped  2994 rows on capital-gain   . Kept [0.0, 0.0] only.\n",
      "Preprocessor - Outlierist (IQR): Dropped   240 rows on educational-num. Kept [3.0, 19.0] only.\n",
      "Preprocessor - Outlierist (IQR): Totally Dropped  5997 in 36158 rows.\n",
      "Preprocessor - Encoder (Label): Column native-country  been labelized from 0 to 39.\n",
      "Preprocessor - Encoder (Label): Column workclass       been labelized from 0 to  6.\n",
      "Preprocessor - Encoder (Label): Column marital-status  been labelized from 0 to  6.\n",
      "Preprocessor - Encoder (Label): Column race            been labelized from 0 to  4.\n",
      "Preprocessor - Encoder (Label): Column gender          been labelized from 0 to  1.\n",
      "Preprocessor - Encoder (Label): Column occupation      been labelized from 0 to 13.\n",
      "Preprocessor - Encoder (Label): Column relationship    been labelized from 0 to  5.\n",
      "Preprocessor - Encoder (Label): Column education       been labelized from 0 to 13.\n",
      "Preprocessor - Encoder (Label): Column income          been labelized from 0 to  1.\n",
      "Preprocessor - Scaler (Standard): Column fnlwgt been standardized.\n",
      "Executor - Preprocessor: drop-IQR-Label-Standard preprocessing time: 0.0749 sec.\n",
      "Synthesizer (SDV - SingleTable): Metafile loading time: 0.0206 sec.\n",
      "Synthesizer (SDV - SingleTable): Fitting  GaussianCoupula.\n"
     ]
    },
    {
     "name": "stderr",
     "output_type": "stream",
     "text": [
      "c:\\Program Files\\Python310\\lib\\site-packages\\rdt\\transformers\\numerical.py:112: UserWarning: No rounding scheme detected for column 'fnlwgt'. Data will not be rounded.\n",
      "  warnings.warn(\n"
     ]
    },
    {
     "name": "stdout",
     "output_type": "stream",
     "text": [
      "Synthesizer (SDV - SingleTable): Fitting  GaussianCoupula spent 14.0154 sec.\n",
      "Synthesizer (SDV - SingleTable): Sampling GaussianCoupula # 30161 rows (same as raw) in 1.2982 sec.\n",
      "Executor - Synthesizer: sdv-singletable-gaussiancoupula synthesizing time: 15.3342 sec.\n",
      "Preprocessor - Outlierist (IQR): Dropped  1059 rows on fnlwgt         . Kept [-64828.0, 420108.0] only.\n",
      "Preprocessor - Outlierist (IQR): Dropped  1708 rows on capital-loss   . Kept [0.0, 0.0] only.\n",
      "Preprocessor - Outlierist (IQR): Dropped   227 rows on age            . Kept [-0.5, 75.5] only.\n",
      "Preprocessor - Outlierist (IQR): Dropped  3038 rows on capital-gain   . Kept [0.0, 0.0] only.\n",
      "Preprocessor - Outlierist (IQR): Dropped   229 rows on educational-num. Kept [3.0, 19.0] only.\n",
      "Preprocessor - Outlierist (IQR): Totally Dropped  6057 in 36169 rows.\n",
      "Preprocessor - Encoder (Label): Column native-country  been labelized from 0 to 39.\n",
      "Preprocessor - Encoder (Label): Column workclass       been labelized from 0 to  6.\n",
      "Preprocessor - Encoder (Label): Column marital-status  been labelized from 0 to  6.\n",
      "Preprocessor - Encoder (Label): Column race            been labelized from 0 to  4.\n",
      "Preprocessor - Encoder (Label): Column gender          been labelized from 0 to  1.\n",
      "Preprocessor - Encoder (Label): Column occupation      been labelized from 0 to 13.\n",
      "Preprocessor - Encoder (Label): Column relationship    been labelized from 0 to  5.\n",
      "Preprocessor - Encoder (Label): Column education       been labelized from 0 to 13.\n",
      "Preprocessor - Encoder (Label): Column income          been labelized from 0 to  1.\n",
      "Preprocessor - Scaler (Standard): Column fnlwgt been standardized.\n",
      "Executor - Preprocessor: drop-IQR-Label-Standard preprocessing time: 0.0716 sec.\n",
      "Synthesizer (SDV - SingleTable): Metafile loading time: 0.026 sec.\n",
      "Synthesizer (SDV - SingleTable): Fitting  GaussianCoupula.\n"
     ]
    },
    {
     "name": "stderr",
     "output_type": "stream",
     "text": [
      "c:\\Program Files\\Python310\\lib\\site-packages\\rdt\\transformers\\numerical.py:112: UserWarning: No rounding scheme detected for column 'fnlwgt'. Data will not be rounded.\n",
      "  warnings.warn(\n"
     ]
    },
    {
     "name": "stdout",
     "output_type": "stream",
     "text": [
      "Synthesizer (SDV - SingleTable): Fitting  GaussianCoupula spent 14.3285 sec.\n",
      "Synthesizer (SDV - SingleTable): Sampling GaussianCoupula # 30112 rows (same as raw) in 1.3567 sec.\n",
      "Executor - Synthesizer: sdv-singletable-gaussiancoupula synthesizing time: 15.7151 sec.\n",
      "Preprocessor - Outlierist (IQR): Dropped  1073 rows on fnlwgt         . Kept [-63194.5, 418257.5] only.\n",
      "Preprocessor - Outlierist (IQR): Dropped  1719 rows on capital-loss   . Kept [0.0, 0.0] only.\n",
      "Preprocessor - Outlierist (IQR): Dropped   213 rows on age            . Kept [-0.5, 75.5] only.\n",
      "Preprocessor - Outlierist (IQR): Dropped  3014 rows on capital-gain   . Kept [0.0, 0.0] only.\n",
      "Preprocessor - Outlierist (IQR): Dropped   234 rows on educational-num. Kept [3.0, 19.0] only.\n",
      "Preprocessor - Outlierist (IQR): Totally Dropped  6053 in 36182 rows.\n",
      "Preprocessor - Encoder (Label): Column native-country  been labelized from 0 to 39.\n",
      "Preprocessor - Encoder (Label): Column workclass       been labelized from 0 to  6.\n",
      "Preprocessor - Encoder (Label): Column marital-status  been labelized from 0 to  6.\n",
      "Preprocessor - Encoder (Label): Column race            been labelized from 0 to  4.\n",
      "Preprocessor - Encoder (Label): Column gender          been labelized from 0 to  1.\n",
      "Preprocessor - Encoder (Label): Column occupation      been labelized from 0 to 13.\n",
      "Preprocessor - Encoder (Label): Column relationship    been labelized from 0 to  5.\n",
      "Preprocessor - Encoder (Label): Column education       been labelized from 0 to 13.\n",
      "Preprocessor - Encoder (Label): Column income          been labelized from 0 to  1.\n",
      "Preprocessor - Scaler (Standard): Column fnlwgt been standardized.\n",
      "Executor - Preprocessor: drop-IQR-Label-Standard preprocessing time: 0.071 sec.\n",
      "Synthesizer (SDV - SingleTable): Metafile loading time: 0.024 sec.\n",
      "Synthesizer (SDV - SingleTable): Fitting  GaussianCoupula.\n"
     ]
    },
    {
     "name": "stderr",
     "output_type": "stream",
     "text": [
      "c:\\Program Files\\Python310\\lib\\site-packages\\rdt\\transformers\\numerical.py:112: UserWarning: No rounding scheme detected for column 'fnlwgt'. Data will not be rounded.\n",
      "  warnings.warn(\n"
     ]
    },
    {
     "name": "stdout",
     "output_type": "stream",
     "text": [
      "Synthesizer (SDV - SingleTable): Fitting  GaussianCoupula spent 14.0943 sec.\n",
      "Synthesizer (SDV - SingleTable): Sampling GaussianCoupula # 30129 rows (same as raw) in 1.34 sec.\n",
      "Executor - Synthesizer: sdv-singletable-gaussiancoupula synthesizing time: 15.4623 sec.\n",
      "Preprocessor - Outlierist (IQR): Dropped  1056 rows on fnlwgt         . Kept [-63699.5, 418240.5] only.\n",
      "Preprocessor - Outlierist (IQR): Dropped  1719 rows on capital-loss   . Kept [0.0, 0.0] only.\n",
      "Preprocessor - Outlierist (IQR): Dropped   212 rows on age            . Kept [-0.5, 75.5] only.\n",
      "Preprocessor - Outlierist (IQR): Dropped  3021 rows on capital-gain   . Kept [0.0, 0.0] only.\n",
      "Preprocessor - Outlierist (IQR): Dropped   241 rows on educational-num. Kept [3.0, 19.0] only.\n",
      "Preprocessor - Outlierist (IQR): Totally Dropped  6036 in 36175 rows.\n",
      "Preprocessor - Encoder (Label): Column native-country  been labelized from 0 to 39.\n",
      "Preprocessor - Encoder (Label): Column workclass       been labelized from 0 to  6.\n",
      "Preprocessor - Encoder (Label): Column marital-status  been labelized from 0 to  6.\n",
      "Preprocessor - Encoder (Label): Column race            been labelized from 0 to  4.\n",
      "Preprocessor - Encoder (Label): Column gender          been labelized from 0 to  1.\n",
      "Preprocessor - Encoder (Label): Column occupation      been labelized from 0 to 13.\n",
      "Preprocessor - Encoder (Label): Column relationship    been labelized from 0 to  5.\n",
      "Preprocessor - Encoder (Label): Column education       been labelized from 0 to 13.\n",
      "Preprocessor - Encoder (Label): Column income          been labelized from 0 to  1.\n",
      "Preprocessor - Scaler (Standard): Column fnlwgt been standardized.\n",
      "Executor - Preprocessor: drop-IQR-Label-Standard preprocessing time: 0.082 sec.\n",
      "Synthesizer (SDV - SingleTable): Metafile loading time: 0.0161 sec.\n",
      "Synthesizer (SDV - SingleTable): Fitting  GaussianCoupula.\n"
     ]
    },
    {
     "name": "stderr",
     "output_type": "stream",
     "text": [
      "c:\\Program Files\\Python310\\lib\\site-packages\\rdt\\transformers\\numerical.py:112: UserWarning: No rounding scheme detected for column 'fnlwgt'. Data will not be rounded.\n",
      "  warnings.warn(\n"
     ]
    },
    {
     "name": "stdout",
     "output_type": "stream",
     "text": [
      "Synthesizer (SDV - SingleTable): Fitting  GaussianCoupula spent 14.0705 sec.\n",
      "Synthesizer (SDV - SingleTable): Sampling GaussianCoupula # 30139 rows (same as raw) in 1.2612 sec.\n",
      "Executor - Synthesizer: sdv-singletable-gaussiancoupula synthesizing time: 15.3488 sec.\n",
      "Preprocessor - Outlierist (IQR): Dropped  1058 rows on fnlwgt         . Kept [-64136.5, 418787.5] only.\n",
      "Preprocessor - Outlierist (IQR): Dropped  1704 rows on capital-loss   . Kept [0.0, 0.0] only.\n",
      "Preprocessor - Outlierist (IQR): Dropped   199 rows on age            . Kept [-0.5, 75.5] only.\n",
      "Preprocessor - Outlierist (IQR): Dropped  3030 rows on capital-gain   . Kept [0.0, 0.0] only.\n",
      "Preprocessor - Outlierist (IQR): Dropped   237 rows on educational-num. Kept [3.0, 19.0] only.\n",
      "Preprocessor - Outlierist (IQR): Totally Dropped  6028 in 36153 rows.\n",
      "Preprocessor - Encoder (Label): Column native-country  been labelized from 0 to 39.\n",
      "Preprocessor - Encoder (Label): Column workclass       been labelized from 0 to  6.\n",
      "Preprocessor - Encoder (Label): Column marital-status  been labelized from 0 to  6.\n",
      "Preprocessor - Encoder (Label): Column race            been labelized from 0 to  4.\n",
      "Preprocessor - Encoder (Label): Column gender          been labelized from 0 to  1.\n",
      "Preprocessor - Encoder (Label): Column occupation      been labelized from 0 to 13.\n",
      "Preprocessor - Encoder (Label): Column relationship    been labelized from 0 to  5.\n",
      "Preprocessor - Encoder (Label): Column education       been labelized from 0 to 13.\n",
      "Preprocessor - Encoder (Label): Column income          been labelized from 0 to  1.\n",
      "Preprocessor - Scaler (Standard): Column fnlwgt been standardized.\n",
      "Executor - Preprocessor: drop-IQR-Label-Standard preprocessing time: 0.0697 sec.\n",
      "Synthesizer (SDV - SingleTable): Metafile loading time: 0.03 sec.\n",
      "Synthesizer (SDV - SingleTable): Fitting  GaussianCoupula.\n"
     ]
    },
    {
     "name": "stderr",
     "output_type": "stream",
     "text": [
      "c:\\Program Files\\Python310\\lib\\site-packages\\rdt\\transformers\\numerical.py:112: UserWarning: No rounding scheme detected for column 'fnlwgt'. Data will not be rounded.\n",
      "  warnings.warn(\n"
     ]
    },
    {
     "name": "stdout",
     "output_type": "stream",
     "text": [
      "Synthesizer (SDV - SingleTable): Fitting  GaussianCoupula spent 14.3914 sec.\n",
      "Synthesizer (SDV - SingleTable): Sampling GaussianCoupula # 30125 rows (same as raw) in 1.3219 sec.\n",
      "Executor - Synthesizer: sdv-singletable-gaussiancoupula synthesizing time: 15.7473 sec.\n",
      "Preprocessor - Outlierist (IQR): Dropped  1039 rows on fnlwgt         . Kept [-64244.875, 419356.125] only.\n",
      "Preprocessor - Outlierist (IQR): Dropped  1701 rows on capital-loss   . Kept [0.0, 0.0] only.\n",
      "Preprocessor - Outlierist (IQR): Dropped   208 rows on age            . Kept [-0.5, 75.5] only.\n",
      "Preprocessor - Outlierist (IQR): Dropped  3062 rows on capital-gain   . Kept [0.0, 0.0] only.\n",
      "Preprocessor - Outlierist (IQR): Dropped   226 rows on educational-num. Kept [3.0, 19.0] only.\n",
      "Preprocessor - Outlierist (IQR): Totally Dropped  6046 in 36124 rows.\n",
      "Preprocessor - Encoder (Label): Column native-country  been labelized from 0 to 39.\n",
      "Preprocessor - Encoder (Label): Column workclass       been labelized from 0 to  6.\n",
      "Preprocessor - Encoder (Label): Column marital-status  been labelized from 0 to  6.\n",
      "Preprocessor - Encoder (Label): Column race            been labelized from 0 to  4.\n",
      "Preprocessor - Encoder (Label): Column gender          been labelized from 0 to  1.\n",
      "Preprocessor - Encoder (Label): Column occupation      been labelized from 0 to 13.\n",
      "Preprocessor - Encoder (Label): Column relationship    been labelized from 0 to  5.\n",
      "Preprocessor - Encoder (Label): Column education       been labelized from 0 to 13.\n",
      "Preprocessor - Encoder (Label): Column income          been labelized from 0 to  1.\n",
      "Preprocessor - Scaler (Standard): Column fnlwgt been standardized.\n",
      "Executor - Preprocessor: drop-IQR-Label-Standard preprocessing time: 0.0697 sec.\n",
      "Synthesizer (SDV - SingleTable): Metafile loading time: 0.024 sec.\n",
      "Synthesizer (SDV - SingleTable): Fitting  GaussianCoupula.\n"
     ]
    },
    {
     "name": "stderr",
     "output_type": "stream",
     "text": [
      "c:\\Program Files\\Python310\\lib\\site-packages\\rdt\\transformers\\numerical.py:112: UserWarning: No rounding scheme detected for column 'fnlwgt'. Data will not be rounded.\n",
      "  warnings.warn(\n"
     ]
    },
    {
     "name": "stdout",
     "output_type": "stream",
     "text": [
      "Synthesizer (SDV - SingleTable): Fitting  GaussianCoupula spent 14.2723 sec.\n",
      "Synthesizer (SDV - SingleTable): Sampling GaussianCoupula # 30078 rows (same as raw) in 1.3271 sec.\n",
      "Executor - Synthesizer: sdv-singletable-gaussiancoupula synthesizing time: 15.6274 sec.\n",
      "Preprocessor - Outlierist (IQR): Dropped  1038 rows on fnlwgt         . Kept [-63198.875, 418622.125] only.\n",
      "Preprocessor - Outlierist (IQR): Dropped  1748 rows on capital-loss   . Kept [0.0, 0.0] only.\n",
      "Preprocessor - Outlierist (IQR): Dropped   209 rows on age            . Kept [-0.5, 75.5] only.\n",
      "Preprocessor - Outlierist (IQR): Dropped  3023 rows on capital-gain   . Kept [0.0, 0.0] only.\n",
      "Preprocessor - Outlierist (IQR): Dropped   230 rows on educational-num. Kept [3.0, 19.0] only.\n",
      "Preprocessor - Outlierist (IQR): Totally Dropped  6056 in 36170 rows.\n",
      "Preprocessor - Encoder (Label): Column native-country  been labelized from 0 to 39.\n",
      "Preprocessor - Encoder (Label): Column workclass       been labelized from 0 to  6.\n",
      "Preprocessor - Encoder (Label): Column marital-status  been labelized from 0 to  6.\n",
      "Preprocessor - Encoder (Label): Column race            been labelized from 0 to  4.\n",
      "Preprocessor - Encoder (Label): Column gender          been labelized from 0 to  1.\n",
      "Preprocessor - Encoder (Label): Column occupation      been labelized from 0 to 13.\n",
      "Preprocessor - Encoder (Label): Column relationship    been labelized from 0 to  5.\n",
      "Preprocessor - Encoder (Label): Column education       been labelized from 0 to 13.\n",
      "Preprocessor - Encoder (Label): Column income          been labelized from 0 to  1.\n",
      "Preprocessor - Scaler (Standard): Column fnlwgt been standardized.\n",
      "Executor - Preprocessor: drop-IQR-Label-Standard preprocessing time: 0.0746 sec.\n",
      "Synthesizer (SDV - SingleTable): Metafile loading time: 0.054 sec.\n",
      "Synthesizer (SDV - SingleTable): Fitting  GaussianCoupula.\n"
     ]
    },
    {
     "name": "stderr",
     "output_type": "stream",
     "text": [
      "c:\\Program Files\\Python310\\lib\\site-packages\\rdt\\transformers\\numerical.py:112: UserWarning: No rounding scheme detected for column 'fnlwgt'. Data will not be rounded.\n",
      "  warnings.warn(\n"
     ]
    },
    {
     "name": "stdout",
     "output_type": "stream",
     "text": [
      "Synthesizer (SDV - SingleTable): Fitting  GaussianCoupula spent 13.5227 sec.\n",
      "Synthesizer (SDV - SingleTable): Sampling GaussianCoupula # 30114 rows (same as raw) in 1.3747 sec.\n",
      "Executor - Synthesizer: sdv-singletable-gaussiancoupula synthesizing time: 14.9565 sec.\n",
      "Preprocessor - Outlierist (IQR): Dropped  1079 rows on fnlwgt         . Kept [-63462.0, 418786.0] only.\n",
      "Preprocessor - Outlierist (IQR): Dropped  1724 rows on capital-loss   . Kept [0.0, 0.0] only.\n",
      "Preprocessor - Outlierist (IQR): Dropped   223 rows on age            . Kept [-0.5, 75.5] only.\n",
      "Preprocessor - Outlierist (IQR): Dropped  3001 rows on capital-gain   . Kept [0.0, 0.0] only.\n",
      "Preprocessor - Outlierist (IQR): Dropped  1271 rows on educational-num. Kept [4.5, 16.5] only.\n",
      "Preprocessor - Outlierist (IQR): Totally Dropped  6930 in 36157 rows.\n",
      "Preprocessor - Encoder (Label): Column native-country  been labelized from 0 to 39.\n",
      "Preprocessor - Encoder (Label): Column workclass       been labelized from 0 to  6.\n",
      "Preprocessor - Encoder (Label): Column marital-status  been labelized from 0 to  6.\n",
      "Preprocessor - Encoder (Label): Column race            been labelized from 0 to  4.\n",
      "Preprocessor - Encoder (Label): Column gender          been labelized from 0 to  1.\n",
      "Preprocessor - Encoder (Label): Column occupation      been labelized from 0 to 13.\n",
      "Preprocessor - Encoder (Label): Column relationship    been labelized from 0 to  5.\n",
      "Preprocessor - Encoder (Label): Column education       been labelized from 0 to 11.\n",
      "Preprocessor - Encoder (Label): Column income          been labelized from 0 to  1.\n",
      "Preprocessor - Scaler (Standard): Column fnlwgt been standardized.\n",
      "Executor - Preprocessor: drop-IQR-Label-Standard preprocessing time: 0.0725 sec.\n",
      "Synthesizer (SDV - SingleTable): Metafile loading time: 0.0225 sec.\n",
      "Synthesizer (SDV - SingleTable): Fitting  GaussianCoupula.\n"
     ]
    },
    {
     "name": "stderr",
     "output_type": "stream",
     "text": [
      "c:\\Program Files\\Python310\\lib\\site-packages\\rdt\\transformers\\numerical.py:112: UserWarning: No rounding scheme detected for column 'fnlwgt'. Data will not be rounded.\n",
      "  warnings.warn(\n"
     ]
    },
    {
     "name": "stdout",
     "output_type": "stream",
     "text": [
      "Synthesizer (SDV - SingleTable): Fitting  GaussianCoupula spent 14.3935 sec.\n",
      "Synthesizer (SDV - SingleTable): Sampling GaussianCoupula # 29227 rows (same as raw) in 1.474 sec.\n",
      "Executor - Synthesizer: sdv-singletable-gaussiancoupula synthesizing time: 15.895 sec.\n",
      "Preprocessor - Outlierist (IQR): Dropped  1063 rows on fnlwgt         . Kept [-63165.125, 418601.875] only.\n",
      "Preprocessor - Outlierist (IQR): Dropped  1728 rows on capital-loss   . Kept [0.0, 0.0] only.\n",
      "Preprocessor - Outlierist (IQR): Dropped   208 rows on age            . Kept [-0.5, 75.5] only.\n",
      "Preprocessor - Outlierist (IQR): Dropped  3052 rows on capital-gain   . Kept [0.0, 0.0] only.\n",
      "Preprocessor - Outlierist (IQR): Dropped   234 rows on educational-num. Kept [3.0, 19.0] only.\n",
      "Preprocessor - Outlierist (IQR): Totally Dropped  6083 in 36182 rows.\n",
      "Preprocessor - Encoder (Label): Column native-country  been labelized from 0 to 39.\n",
      "Preprocessor - Encoder (Label): Column workclass       been labelized from 0 to  6.\n",
      "Preprocessor - Encoder (Label): Column marital-status  been labelized from 0 to  6.\n",
      "Preprocessor - Encoder (Label): Column race            been labelized from 0 to  4.\n",
      "Preprocessor - Encoder (Label): Column gender          been labelized from 0 to  1.\n",
      "Preprocessor - Encoder (Label): Column occupation      been labelized from 0 to 13.\n",
      "Preprocessor - Encoder (Label): Column relationship    been labelized from 0 to  5.\n",
      "Preprocessor - Encoder (Label): Column education       been labelized from 0 to 13.\n",
      "Preprocessor - Encoder (Label): Column income          been labelized from 0 to  1.\n",
      "Preprocessor - Scaler (Standard): Column fnlwgt been standardized.\n",
      "Executor - Preprocessor: drop-IQR-Label-Standard preprocessing time: 0.088 sec.\n",
      "Synthesizer (SDV - SingleTable): Metafile loading time: 0.025 sec.\n",
      "Synthesizer (SDV - SingleTable): Fitting  GaussianCoupula.\n"
     ]
    },
    {
     "name": "stderr",
     "output_type": "stream",
     "text": [
      "c:\\Program Files\\Python310\\lib\\site-packages\\rdt\\transformers\\numerical.py:112: UserWarning: No rounding scheme detected for column 'fnlwgt'. Data will not be rounded.\n",
      "  warnings.warn(\n"
     ]
    },
    {
     "name": "stdout",
     "output_type": "stream",
     "text": [
      "Synthesizer (SDV - SingleTable): Fitting  GaussianCoupula spent 15.161 sec.\n",
      "Synthesizer (SDV - SingleTable): Sampling GaussianCoupula # 30099 rows (same as raw) in 1.3335 sec.\n",
      "Executor - Synthesizer: sdv-singletable-gaussiancoupula synthesizing time: 16.5235 sec.\n",
      "Preprocessor - Outlierist (IQR): Dropped  1057 rows on fnlwgt         . Kept [-62889.5, 418170.5] only.\n",
      "Preprocessor - Outlierist (IQR): Dropped  1707 rows on capital-loss   . Kept [0.0, 0.0] only.\n",
      "Preprocessor - Outlierist (IQR): Dropped   223 rows on age            . Kept [-0.5, 75.5] only.\n",
      "Preprocessor - Outlierist (IQR): Dropped  3012 rows on capital-gain   . Kept [0.0, 0.0] only.\n",
      "Preprocessor - Outlierist (IQR): Dropped   228 rows on educational-num. Kept [3.0, 19.0] only.\n",
      "Preprocessor - Outlierist (IQR): Totally Dropped  6017 in 36199 rows.\n",
      "Preprocessor - Encoder (Label): Column native-country  been labelized from 0 to 39.\n",
      "Preprocessor - Encoder (Label): Column workclass       been labelized from 0 to  6.\n",
      "Preprocessor - Encoder (Label): Column marital-status  been labelized from 0 to  6.\n",
      "Preprocessor - Encoder (Label): Column race            been labelized from 0 to  4.\n",
      "Preprocessor - Encoder (Label): Column gender          been labelized from 0 to  1.\n",
      "Preprocessor - Encoder (Label): Column occupation      been labelized from 0 to 13.\n",
      "Preprocessor - Encoder (Label): Column relationship    been labelized from 0 to  5.\n",
      "Preprocessor - Encoder (Label): Column education       been labelized from 0 to 13.\n",
      "Preprocessor - Encoder (Label): Column income          been labelized from 0 to  1.\n",
      "Preprocessor - Scaler (Standard): Column fnlwgt been standardized.\n",
      "Executor - Preprocessor: drop-IQR-Label-Standard preprocessing time: 0.07 sec.\n",
      "Synthesizer (SDV - SingleTable): Metafile loading time: 0.023 sec.\n",
      "Synthesizer (SDV - SingleTable): Fitting  GaussianCoupula.\n"
     ]
    },
    {
     "name": "stderr",
     "output_type": "stream",
     "text": [
      "c:\\Program Files\\Python310\\lib\\site-packages\\rdt\\transformers\\numerical.py:112: UserWarning: No rounding scheme detected for column 'fnlwgt'. Data will not be rounded.\n",
      "  warnings.warn(\n"
     ]
    },
    {
     "name": "stdout",
     "output_type": "stream",
     "text": [
      "Synthesizer (SDV - SingleTable): Fitting  GaussianCoupula spent 14.9708 sec.\n",
      "Synthesizer (SDV - SingleTable): Sampling GaussianCoupula # 30182 rows (same as raw) in 1.331 sec.\n",
      "Executor - Synthesizer: sdv-singletable-gaussiancoupula synthesizing time: 16.3288 sec.\n",
      "Preprocessor - Outlierist (IQR): Dropped  1078 rows on fnlwgt         . Kept [-63215.75, 418186.25] only.\n",
      "Preprocessor - Outlierist (IQR): Dropped  1710 rows on capital-loss   . Kept [0.0, 0.0] only.\n",
      "Preprocessor - Outlierist (IQR): Dropped   211 rows on age            . Kept [-0.5, 75.5] only.\n",
      "Preprocessor - Outlierist (IQR): Dropped  3000 rows on capital-gain   . Kept [0.0, 0.0] only.\n",
      "Preprocessor - Outlierist (IQR): Dropped   233 rows on educational-num. Kept [3.0, 19.0] only.\n",
      "Preprocessor - Outlierist (IQR): Totally Dropped  6028 in 36155 rows.\n",
      "Preprocessor - Encoder (Label): Column native-country  been labelized from 0 to 39.\n",
      "Preprocessor - Encoder (Label): Column workclass       been labelized from 0 to  6.\n",
      "Preprocessor - Encoder (Label): Column marital-status  been labelized from 0 to  6.\n",
      "Preprocessor - Encoder (Label): Column race            been labelized from 0 to  4.\n",
      "Preprocessor - Encoder (Label): Column gender          been labelized from 0 to  1.\n",
      "Preprocessor - Encoder (Label): Column occupation      been labelized from 0 to 13.\n",
      "Preprocessor - Encoder (Label): Column relationship    been labelized from 0 to  5.\n",
      "Preprocessor - Encoder (Label): Column education       been labelized from 0 to 13.\n",
      "Preprocessor - Encoder (Label): Column income          been labelized from 0 to  1.\n",
      "Preprocessor - Scaler (Standard): Column fnlwgt been standardized.\n",
      "Executor - Preprocessor: drop-IQR-Label-Standard preprocessing time: 0.12 sec.\n",
      "Synthesizer (SDV - SingleTable): Metafile loading time: 0.042 sec.\n",
      "Synthesizer (SDV - SingleTable): Fitting  GaussianCoupula.\n"
     ]
    },
    {
     "name": "stderr",
     "output_type": "stream",
     "text": [
      "c:\\Program Files\\Python310\\lib\\site-packages\\rdt\\transformers\\numerical.py:112: UserWarning: No rounding scheme detected for column 'fnlwgt'. Data will not be rounded.\n",
      "  warnings.warn(\n"
     ]
    },
    {
     "name": "stdout",
     "output_type": "stream",
     "text": [
      "Synthesizer (SDV - SingleTable): Fitting  GaussianCoupula spent 15.3242 sec.\n",
      "Synthesizer (SDV - SingleTable): Sampling GaussianCoupula # 30127 rows (same as raw) in 1.3936 sec.\n",
      "Executor - Synthesizer: sdv-singletable-gaussiancoupula synthesizing time: 16.7668 sec.\n",
      "Preprocessor - Outlierist (IQR): Dropped  1077 rows on fnlwgt         . Kept [-63302.625, 418520.375] only.\n",
      "Preprocessor - Outlierist (IQR): Dropped  1712 rows on capital-loss   . Kept [0.0, 0.0] only.\n",
      "Preprocessor - Outlierist (IQR): Dropped   220 rows on age            . Kept [-0.5, 75.5] only.\n",
      "Preprocessor - Outlierist (IQR): Dropped  3079 rows on capital-gain   . Kept [0.0, 0.0] only.\n",
      "Preprocessor - Outlierist (IQR): Dropped   230 rows on educational-num. Kept [3.0, 19.0] only.\n",
      "Preprocessor - Outlierist (IQR): Totally Dropped  6109 in 36164 rows.\n",
      "Preprocessor - Encoder (Label): Column native-country  been labelized from 0 to 39.\n",
      "Preprocessor - Encoder (Label): Column workclass       been labelized from 0 to  6.\n",
      "Preprocessor - Encoder (Label): Column marital-status  been labelized from 0 to  6.\n",
      "Preprocessor - Encoder (Label): Column race            been labelized from 0 to  4.\n",
      "Preprocessor - Encoder (Label): Column gender          been labelized from 0 to  1.\n",
      "Preprocessor - Encoder (Label): Column occupation      been labelized from 0 to 13.\n",
      "Preprocessor - Encoder (Label): Column relationship    been labelized from 0 to  5.\n",
      "Preprocessor - Encoder (Label): Column education       been labelized from 0 to 13.\n",
      "Preprocessor - Encoder (Label): Column income          been labelized from 0 to  1.\n",
      "Preprocessor - Scaler (Standard): Column fnlwgt been standardized.\n",
      "Executor - Preprocessor: drop-IQR-Label-Standard preprocessing time: 0.093 sec.\n",
      "Synthesizer (SDV - SingleTable): Metafile loading time: 0.04 sec.\n",
      "Synthesizer (SDV - SingleTable): Fitting  GaussianCoupula.\n"
     ]
    },
    {
     "name": "stderr",
     "output_type": "stream",
     "text": [
      "c:\\Program Files\\Python310\\lib\\site-packages\\rdt\\transformers\\numerical.py:112: UserWarning: No rounding scheme detected for column 'fnlwgt'. Data will not be rounded.\n",
      "  warnings.warn(\n"
     ]
    },
    {
     "name": "stdout",
     "output_type": "stream",
     "text": [
      "Synthesizer (SDV - SingleTable): Fitting  GaussianCoupula spent 16.5805 sec.\n",
      "Synthesizer (SDV - SingleTable): Sampling GaussianCoupula # 30055 rows (same as raw) in 1.5257 sec.\n",
      "Executor - Synthesizer: sdv-singletable-gaussiancoupula synthesizing time: 18.1541 sec.\n",
      "Preprocessor - Outlierist (IQR): Dropped  1063 rows on fnlwgt         . Kept [-62911.125, 418331.875] only.\n",
      "Preprocessor - Outlierist (IQR): Dropped  1726 rows on capital-loss   . Kept [0.0, 0.0] only.\n",
      "Preprocessor - Outlierist (IQR): Dropped   226 rows on age            . Kept [-0.5, 75.5] only.\n",
      "Preprocessor - Outlierist (IQR): Dropped  3008 rows on capital-gain   . Kept [0.0, 0.0] only.\n",
      "Preprocessor - Outlierist (IQR): Dropped   238 rows on educational-num. Kept [3.0, 19.0] only.\n",
      "Preprocessor - Outlierist (IQR): Totally Dropped  6057 in 36192 rows.\n",
      "Preprocessor - Encoder (Label): Column native-country  been labelized from 0 to 39.\n",
      "Preprocessor - Encoder (Label): Column workclass       been labelized from 0 to  6.\n",
      "Preprocessor - Encoder (Label): Column marital-status  been labelized from 0 to  6.\n",
      "Preprocessor - Encoder (Label): Column race            been labelized from 0 to  4.\n",
      "Preprocessor - Encoder (Label): Column gender          been labelized from 0 to  1.\n",
      "Preprocessor - Encoder (Label): Column occupation      been labelized from 0 to 13.\n",
      "Preprocessor - Encoder (Label): Column relationship    been labelized from 0 to  5.\n",
      "Preprocessor - Encoder (Label): Column education       been labelized from 0 to 13.\n",
      "Preprocessor - Encoder (Label): Column income          been labelized from 0 to  1.\n",
      "Preprocessor - Scaler (Standard): Column fnlwgt been standardized.\n",
      "Executor - Preprocessor: drop-IQR-Label-Standard preprocessing time: 0.0837 sec.\n",
      "Synthesizer (SDV - SingleTable): Metafile loading time: 0.03 sec.\n",
      "Synthesizer (SDV - SingleTable): Fitting  GaussianCoupula.\n"
     ]
    },
    {
     "name": "stderr",
     "output_type": "stream",
     "text": [
      "c:\\Program Files\\Python310\\lib\\site-packages\\rdt\\transformers\\numerical.py:112: UserWarning: No rounding scheme detected for column 'fnlwgt'. Data will not be rounded.\n",
      "  warnings.warn(\n"
     ]
    },
    {
     "name": "stdout",
     "output_type": "stream",
     "text": [
      "Synthesizer (SDV - SingleTable): Fitting  GaussianCoupula spent 16.4864 sec.\n",
      "Synthesizer (SDV - SingleTable): Sampling GaussianCoupula # 30135 rows (same as raw) in 1.5592 sec.\n",
      "Executor - Synthesizer: sdv-singletable-gaussiancoupula synthesizing time: 18.0877 sec.\n",
      "Preprocessor - Outlierist (IQR): Dropped  1035 rows on fnlwgt         . Kept [-64536.5, 420211.5] only.\n",
      "Preprocessor - Outlierist (IQR): Dropped  1711 rows on capital-loss   . Kept [0.0, 0.0] only.\n",
      "Preprocessor - Outlierist (IQR): Dropped   216 rows on age            . Kept [-0.5, 75.5] only.\n",
      "Preprocessor - Outlierist (IQR): Dropped  3004 rows on capital-gain   . Kept [0.0, 0.0] only.\n",
      "Preprocessor - Outlierist (IQR): Dropped   224 rows on educational-num. Kept [3.0, 19.0] only.\n",
      "Preprocessor - Outlierist (IQR): Totally Dropped  6005 in 36185 rows.\n",
      "Preprocessor - Encoder (Label): Column native-country  been labelized from 0 to 39.\n",
      "Preprocessor - Encoder (Label): Column workclass       been labelized from 0 to  6.\n",
      "Preprocessor - Encoder (Label): Column marital-status  been labelized from 0 to  6.\n",
      "Preprocessor - Encoder (Label): Column race            been labelized from 0 to  4.\n",
      "Preprocessor - Encoder (Label): Column gender          been labelized from 0 to  1.\n",
      "Preprocessor - Encoder (Label): Column occupation      been labelized from 0 to 13.\n",
      "Preprocessor - Encoder (Label): Column relationship    been labelized from 0 to  5.\n",
      "Preprocessor - Encoder (Label): Column education       been labelized from 0 to 13.\n",
      "Preprocessor - Encoder (Label): Column income          been labelized from 0 to  1.\n",
      "Preprocessor - Scaler (Standard): Column fnlwgt been standardized.\n",
      "Executor - Preprocessor: drop-IQR-Label-Standard preprocessing time: 0.123 sec.\n",
      "Synthesizer (SDV - SingleTable): Metafile loading time: 0.048 sec.\n",
      "Synthesizer (SDV - SingleTable): Fitting  GaussianCoupula.\n"
     ]
    },
    {
     "name": "stderr",
     "output_type": "stream",
     "text": [
      "c:\\Program Files\\Python310\\lib\\site-packages\\rdt\\transformers\\numerical.py:112: UserWarning: No rounding scheme detected for column 'fnlwgt'. Data will not be rounded.\n",
      "  warnings.warn(\n"
     ]
    },
    {
     "name": "stdout",
     "output_type": "stream",
     "text": [
      "Synthesizer (SDV - SingleTable): Fitting  GaussianCoupula spent 16.4971 sec.\n",
      "Synthesizer (SDV - SingleTable): Sampling GaussianCoupula # 30180 rows (same as raw) in 1.4352 sec.\n",
      "Executor - Synthesizer: sdv-singletable-gaussiancoupula synthesizing time: 17.9852 sec.\n",
      "Preprocessor - Outlierist (IQR): Dropped  1035 rows on fnlwgt         . Kept [-64188.25, 419051.75] only.\n",
      "Preprocessor - Outlierist (IQR): Dropped  1717 rows on capital-loss   . Kept [0.0, 0.0] only.\n",
      "Preprocessor - Outlierist (IQR): Dropped   225 rows on age            . Kept [-0.5, 75.5] only.\n",
      "Preprocessor - Outlierist (IQR): Dropped  3056 rows on capital-gain   . Kept [0.0, 0.0] only.\n",
      "Preprocessor - Outlierist (IQR): Dropped   230 rows on educational-num. Kept [3.0, 19.0] only.\n",
      "Preprocessor - Outlierist (IQR): Totally Dropped  6066 in 36176 rows.\n",
      "Preprocessor - Encoder (Label): Column native-country  been labelized from 0 to 39.\n",
      "Preprocessor - Encoder (Label): Column workclass       been labelized from 0 to  6.\n",
      "Preprocessor - Encoder (Label): Column marital-status  been labelized from 0 to  6.\n",
      "Preprocessor - Encoder (Label): Column race            been labelized from 0 to  4.\n",
      "Preprocessor - Encoder (Label): Column gender          been labelized from 0 to  1.\n",
      "Preprocessor - Encoder (Label): Column occupation      been labelized from 0 to 13.\n",
      "Preprocessor - Encoder (Label): Column relationship    been labelized from 0 to  5.\n",
      "Preprocessor - Encoder (Label): Column education       been labelized from 0 to 13.\n",
      "Preprocessor - Encoder (Label): Column income          been labelized from 0 to  1.\n",
      "Preprocessor - Scaler (Standard): Column fnlwgt been standardized.\n",
      "Executor - Preprocessor: drop-IQR-Label-Standard preprocessing time: 0.089 sec.\n",
      "Synthesizer (SDV - SingleTable): Metafile loading time: 0.039 sec.\n",
      "Synthesizer (SDV - SingleTable): Fitting  GaussianCoupula.\n"
     ]
    },
    {
     "name": "stderr",
     "output_type": "stream",
     "text": [
      "c:\\Program Files\\Python310\\lib\\site-packages\\rdt\\transformers\\numerical.py:112: UserWarning: No rounding scheme detected for column 'fnlwgt'. Data will not be rounded.\n",
      "  warnings.warn(\n"
     ]
    },
    {
     "name": "stdout",
     "output_type": "stream",
     "text": [
      "Synthesizer (SDV - SingleTable): Fitting  GaussianCoupula spent 14.8029 sec.\n",
      "Synthesizer (SDV - SingleTable): Sampling GaussianCoupula # 30110 rows (same as raw) in 1.4381 sec.\n",
      "Executor - Synthesizer: sdv-singletable-gaussiancoupula synthesizing time: 16.288 sec.\n",
      "Preprocessor - Outlierist (IQR): Dropped  1102 rows on fnlwgt         . Kept [-61647.75, 415744.25] only.\n",
      "Preprocessor - Outlierist (IQR): Dropped  1738 rows on capital-loss   . Kept [0.0, 0.0] only.\n",
      "Preprocessor - Outlierist (IQR): Dropped   219 rows on age            . Kept [-0.5, 75.5] only.\n",
      "Preprocessor - Outlierist (IQR): Dropped  3023 rows on capital-gain   . Kept [0.0, 0.0] only.\n",
      "Preprocessor - Outlierist (IQR): Dropped   235 rows on educational-num. Kept [3.0, 19.0] only.\n",
      "Preprocessor - Outlierist (IQR): Totally Dropped  6104 in 36178 rows.\n",
      "Preprocessor - Encoder (Label): Column native-country  been labelized from 0 to 39.\n",
      "Preprocessor - Encoder (Label): Column workclass       been labelized from 0 to  6.\n",
      "Preprocessor - Encoder (Label): Column marital-status  been labelized from 0 to  6.\n",
      "Preprocessor - Encoder (Label): Column race            been labelized from 0 to  4.\n",
      "Preprocessor - Encoder (Label): Column gender          been labelized from 0 to  1.\n",
      "Preprocessor - Encoder (Label): Column occupation      been labelized from 0 to 13.\n",
      "Preprocessor - Encoder (Label): Column relationship    been labelized from 0 to  5.\n",
      "Preprocessor - Encoder (Label): Column education       been labelized from 0 to 13.\n",
      "Preprocessor - Encoder (Label): Column income          been labelized from 0 to  1.\n",
      "Preprocessor - Scaler (Standard): Column fnlwgt been standardized.\n",
      "Executor - Preprocessor: drop-IQR-Label-Standard preprocessing time: 0.0779 sec.\n",
      "Synthesizer (SDV - SingleTable): Metafile loading time: 0.025 sec.\n",
      "Synthesizer (SDV - SingleTable): Fitting  GaussianCoupula.\n"
     ]
    },
    {
     "name": "stderr",
     "output_type": "stream",
     "text": [
      "c:\\Program Files\\Python310\\lib\\site-packages\\rdt\\transformers\\numerical.py:112: UserWarning: No rounding scheme detected for column 'fnlwgt'. Data will not be rounded.\n",
      "  warnings.warn(\n"
     ]
    },
    {
     "name": "stdout",
     "output_type": "stream",
     "text": [
      "Synthesizer (SDV - SingleTable): Fitting  GaussianCoupula spent 15.0574 sec.\n",
      "Synthesizer (SDV - SingleTable): Sampling GaussianCoupula # 30074 rows (same as raw) in 1.3939 sec.\n",
      "Executor - Synthesizer: sdv-singletable-gaussiancoupula synthesizing time: 16.4813 sec.\n",
      "Preprocessor - Outlierist (IQR): Dropped  1074 rows on fnlwgt         . Kept [-63621.5, 418670.5] only.\n",
      "Preprocessor - Outlierist (IQR): Dropped  1710 rows on capital-loss   . Kept [0.0, 0.0] only.\n",
      "Preprocessor - Outlierist (IQR): Dropped   224 rows on age            . Kept [-0.5, 75.5] only.\n",
      "Preprocessor - Outlierist (IQR): Dropped  3046 rows on capital-gain   . Kept [0.0, 0.0] only.\n",
      "Preprocessor - Outlierist (IQR): Dropped   223 rows on educational-num. Kept [3.0, 19.0] only.\n",
      "Preprocessor - Outlierist (IQR): Totally Dropped  6076 in 36178 rows.\n",
      "Preprocessor - Encoder (Label): Column native-country  been labelized from 0 to 39.\n",
      "Preprocessor - Encoder (Label): Column workclass       been labelized from 0 to  6.\n",
      "Preprocessor - Encoder (Label): Column marital-status  been labelized from 0 to  6.\n",
      "Preprocessor - Encoder (Label): Column race            been labelized from 0 to  4.\n",
      "Preprocessor - Encoder (Label): Column gender          been labelized from 0 to  1.\n",
      "Preprocessor - Encoder (Label): Column occupation      been labelized from 0 to 13.\n",
      "Preprocessor - Encoder (Label): Column relationship    been labelized from 0 to  5.\n",
      "Preprocessor - Encoder (Label): Column education       been labelized from 0 to 13.\n",
      "Preprocessor - Encoder (Label): Column income          been labelized from 0 to  1.\n",
      "Preprocessor - Scaler (Standard): Column fnlwgt been standardized.\n",
      "Executor - Preprocessor: drop-IQR-Label-Standard preprocessing time: 0.087 sec.\n",
      "Synthesizer (SDV - SingleTable): Metafile loading time: 0.055 sec.\n",
      "Synthesizer (SDV - SingleTable): Fitting  GaussianCoupula.\n"
     ]
    },
    {
     "name": "stderr",
     "output_type": "stream",
     "text": [
      "c:\\Program Files\\Python310\\lib\\site-packages\\rdt\\transformers\\numerical.py:112: UserWarning: No rounding scheme detected for column 'fnlwgt'. Data will not be rounded.\n",
      "  warnings.warn(\n"
     ]
    },
    {
     "name": "stdout",
     "output_type": "stream",
     "text": [
      "Synthesizer (SDV - SingleTable): Fitting  GaussianCoupula spent 14.9183 sec.\n",
      "Synthesizer (SDV - SingleTable): Sampling GaussianCoupula # 30102 rows (same as raw) in 1.4321 sec.\n",
      "Executor - Synthesizer: sdv-singletable-gaussiancoupula synthesizing time: 16.4164 sec.\n",
      "Preprocessor - Outlierist (IQR): Dropped  1080 rows on fnlwgt         . Kept [-62982.5, 418293.5] only.\n",
      "Preprocessor - Outlierist (IQR): Dropped  1721 rows on capital-loss   . Kept [0.0, 0.0] only.\n",
      "Preprocessor - Outlierist (IQR): Dropped   210 rows on age            . Kept [-0.5, 75.5] only.\n",
      "Preprocessor - Outlierist (IQR): Dropped  3023 rows on capital-gain   . Kept [0.0, 0.0] only.\n",
      "Preprocessor - Outlierist (IQR): Dropped   235 rows on educational-num. Kept [3.0, 19.0] only.\n",
      "Preprocessor - Outlierist (IQR): Totally Dropped  6057 in 36163 rows.\n",
      "Preprocessor - Encoder (Label): Column native-country  been labelized from 0 to 39.\n",
      "Preprocessor - Encoder (Label): Column workclass       been labelized from 0 to  6.\n",
      "Preprocessor - Encoder (Label): Column marital-status  been labelized from 0 to  6.\n",
      "Preprocessor - Encoder (Label): Column race            been labelized from 0 to  4.\n",
      "Preprocessor - Encoder (Label): Column gender          been labelized from 0 to  1.\n",
      "Preprocessor - Encoder (Label): Column occupation      been labelized from 0 to 13.\n",
      "Preprocessor - Encoder (Label): Column relationship    been labelized from 0 to  5.\n",
      "Preprocessor - Encoder (Label): Column education       been labelized from 0 to 13.\n",
      "Preprocessor - Encoder (Label): Column income          been labelized from 0 to  1.\n",
      "Preprocessor - Scaler (Standard): Column fnlwgt been standardized.\n",
      "Executor - Preprocessor: drop-IQR-Label-Standard preprocessing time: 0.079 sec.\n",
      "Synthesizer (SDV - SingleTable): Metafile loading time: 0.032 sec.\n",
      "Synthesizer (SDV - SingleTable): Fitting  GaussianCoupula.\n"
     ]
    },
    {
     "name": "stderr",
     "output_type": "stream",
     "text": [
      "c:\\Program Files\\Python310\\lib\\site-packages\\rdt\\transformers\\numerical.py:112: UserWarning: No rounding scheme detected for column 'fnlwgt'. Data will not be rounded.\n",
      "  warnings.warn(\n"
     ]
    },
    {
     "name": "stdout",
     "output_type": "stream",
     "text": [
      "Synthesizer (SDV - SingleTable): Fitting  GaussianCoupula spent 15.4647 sec.\n",
      "Synthesizer (SDV - SingleTable): Sampling GaussianCoupula # 30106 rows (same as raw) in 1.4318 sec.\n",
      "Executor - Synthesizer: sdv-singletable-gaussiancoupula synthesizing time: 16.9336 sec.\n",
      "Preprocessor - Outlierist (IQR): Dropped  1064 rows on fnlwgt         . Kept [-62902.0, 418450.0] only.\n",
      "Preprocessor - Outlierist (IQR): Dropped  1716 rows on capital-loss   . Kept [0.0, 0.0] only.\n",
      "Preprocessor - Outlierist (IQR): Dropped   213 rows on age            . Kept [-0.5, 75.5] only.\n",
      "Preprocessor - Outlierist (IQR): Dropped  2982 rows on capital-gain   . Kept [0.0, 0.0] only.\n",
      "Preprocessor - Outlierist (IQR): Dropped  1245 rows on educational-num. Kept [4.5, 16.5] only.\n",
      "Preprocessor - Outlierist (IQR): Totally Dropped  6854 in 36161 rows.\n",
      "Preprocessor - Encoder (Label): Column native-country  been labelized from 0 to 39.\n",
      "Preprocessor - Encoder (Label): Column workclass       been labelized from 0 to  6.\n",
      "Preprocessor - Encoder (Label): Column marital-status  been labelized from 0 to  6.\n",
      "Preprocessor - Encoder (Label): Column race            been labelized from 0 to  4.\n",
      "Preprocessor - Encoder (Label): Column gender          been labelized from 0 to  1.\n",
      "Preprocessor - Encoder (Label): Column occupation      been labelized from 0 to 13.\n",
      "Preprocessor - Encoder (Label): Column relationship    been labelized from 0 to  5.\n",
      "Preprocessor - Encoder (Label): Column education       been labelized from 0 to 11.\n",
      "Preprocessor - Encoder (Label): Column income          been labelized from 0 to  1.\n",
      "Preprocessor - Scaler (Standard): Column fnlwgt been standardized.\n",
      "Executor - Preprocessor: drop-IQR-Label-Standard preprocessing time: 0.0759 sec.\n",
      "Synthesizer (SDV - SingleTable): Metafile loading time: 0.03 sec.\n",
      "Synthesizer (SDV - SingleTable): Fitting  GaussianCoupula.\n"
     ]
    },
    {
     "name": "stderr",
     "output_type": "stream",
     "text": [
      "c:\\Program Files\\Python310\\lib\\site-packages\\rdt\\transformers\\numerical.py:112: UserWarning: No rounding scheme detected for column 'fnlwgt'. Data will not be rounded.\n",
      "  warnings.warn(\n"
     ]
    },
    {
     "name": "stdout",
     "output_type": "stream",
     "text": [
      "Synthesizer (SDV - SingleTable): Fitting  GaussianCoupula spent 15.7127 sec.\n",
      "Synthesizer (SDV - SingleTable): Sampling GaussianCoupula # 29307 rows (same as raw) in 1.4816 sec.\n",
      "Executor - Synthesizer: sdv-singletable-gaussiancoupula synthesizing time: 17.2292 sec.\n",
      "====== ====== ====== ====== ====== ======\n",
      "Executor: Total execution time: 528.8497 sec.\n",
      "====== ====== ====== ====== ====== ======\n",
      "CPU usage:   9.7%\r"
     ]
    },
    {
     "name": "stderr",
     "output_type": "stream",
     "text": [
      "Loading:   0%|          | 0/1 [00:00<?, ?it/s]\n",
      "\u001b[A\n",
      "\n",
      "\u001b[A\u001b[A"
     ]
    },
    {
     "name": "stdout",
     "output_type": "stream",
     "text": [
      "CPU usage:   8.5%\r"
     ]
    },
    {
     "name": "stderr",
     "output_type": "stream",
     "text": [
      "Loading: 100%|██████████| 1/1 [00:12<00:00, 12.74s/it]"
     ]
    },
    {
     "name": "stdout",
     "output_type": "stream",
     "text": [
      "CPU usage:   8.2%\r"
     ]
    },
    {
     "name": "stderr",
     "output_type": "stream",
     "text": []
    },
    {
     "name": "stdout",
     "output_type": "stream",
     "text": [
      "CPU usage:  22.0%\r"
     ]
    }
   ],
   "source": [
    "import os\n",
    "import sys\n",
    "\n",
    "sys.path.append('D:\\\\Dropbox\\\\89_其他應用\\\\GitHub\\\\PETs-Experiment')\n",
    "os.chdir('D:\\\\Dropbox\\\\89_其他應用\\\\GitHub\\\\PETs-Experiment\\\\demo')\n",
    "\n",
    "import PETs_Experiment\n",
    "\n",
    "\n",
    "para_Executor = {\n",
    "     'Loader_filepath'  : '../[sunset]/data/[Adt Income] adult.csv'\n",
    "    ,'Loader_na_values' : {k : '?' for k in ['workclass' ,'occupation' ,'native-country']}\n",
    "    ,'Splitter_num_samples'       : 30\n",
    "    ,'Splitter_train_split_ratio' : 0.8\n",
    "    ,'Preprocessor_missing_method'  : 'drop'\n",
    "    ,'Preprocessor_outlier_method'  : 'IQR'\n",
    "    ,'Preprocessor_outlier_columns' : {'ignore': ['hours-per-week']}\n",
    "    ,'Preprocessor_encoding_method' : 'Label'\n",
    "    ,'Preprocessor_scaling'         : True\n",
    "    ,'Preprocessor_scaling_method'  : 'Standard'\n",
    "    ,'Preprocessor_scaling_columns' : {'focus' : 'fnlwgt'}\n",
    "    ,'Synthesizer_synthesizing_method' : 'sdv-singletable-gaussiancoupula'\n",
    "}\n",
    "\n",
    "executor = PETs_Experiment.Executor(**para_Executor)\n",
    "executor.run_single_process()\n",
    "executor.run()\n",
    "\n",
    "\n",
    "for k ,v in executor.loader.items():\n",
    "    print(k)\n",
    "    print(v.data.head(1))"
   ]
  },
  {
   "cell_type": "code",
   "execution_count": 1,
   "metadata": {},
   "outputs": [
    {
     "name": "stdout",
     "output_type": "stream",
     "text": [
      "CPU usage:  27.2%\r"
     ]
    },
    {
     "name": "stderr",
     "output_type": "stream",
     "text": [
      "Loading:   0%|          | 0/2 [00:00<?, ?it/s]\n",
      "\u001b[A\n",
      "\n",
      "\u001b[A\u001b[A"
     ]
    },
    {
     "name": "stdout",
     "output_type": "stream",
     "text": [
      "CPU usage:   9.7%\r"
     ]
    },
    {
     "name": "stderr",
     "output_type": "stream",
     "text": [
      "Loading:  50%|█████     | 1/2 [00:15<00:15, 15.39s/it]"
     ]
    },
    {
     "name": "stdout",
     "output_type": "stream",
     "text": [
      "CPU usage:  10.4%\r"
     ]
    },
    {
     "name": "stderr",
     "output_type": "stream",
     "text": []
    },
    {
     "name": "stdout",
     "output_type": "stream",
     "text": [
      "CPU usage:   5.5%\r"
     ]
    },
    {
     "name": "stderr",
     "output_type": "stream",
     "text": []
    },
    {
     "name": "stdout",
     "output_type": "stream",
     "text": [
      "CPU usage:   0.1%\r"
     ]
    },
    {
     "name": "stderr",
     "output_type": "stream",
     "text": [
      "Loading: 100%|██████████| 2/2 [01:13<00:00, 40.73s/it]"
     ]
    },
    {
     "name": "stdout",
     "output_type": "stream",
     "text": [
      "CPU usage:   2.6%\r"
     ]
    },
    {
     "name": "stderr",
     "output_type": "stream",
     "text": []
    },
    {
     "name": "stdout",
     "output_type": "stream",
     "text": [
      "CPU usage:   5.5%\r"
     ]
    },
    {
     "name": "stderr",
     "output_type": "stream",
     "text": []
    },
    {
     "name": "stdout",
     "output_type": "stream",
     "text": [
      "CPU usage:  77.1%\r"
     ]
    },
    {
     "name": "stderr",
     "output_type": "stream",
     "text": [
      "\n",
      "\u001b[A"
     ]
    },
    {
     "name": "stdout",
     "output_type": "stream",
     "text": [
      "CPU usage:  35.8%\r"
     ]
    },
    {
     "name": "stderr",
     "output_type": "stream",
     "text": [
      "\n",
      "\u001b[A"
     ]
    },
    {
     "name": "stdout",
     "output_type": "stream",
     "text": [
      "CPU usage:  32.7%\r"
     ]
    },
    {
     "name": "stderr",
     "output_type": "stream",
     "text": [
      "\n",
      "\u001b[A"
     ]
    },
    {
     "name": "stdout",
     "output_type": "stream",
     "text": [
      "CPU usage:  19.0%\r"
     ]
    },
    {
     "name": "stderr",
     "output_type": "stream",
     "text": [
      "\n",
      "\u001b[A"
     ]
    },
    {
     "name": "stdout",
     "output_type": "stream",
     "text": [
      "CPU usage:  22.3%\r"
     ]
    },
    {
     "name": "stderr",
     "output_type": "stream",
     "text": [
      "\n",
      "\u001b[A"
     ]
    },
    {
     "name": "stdout",
     "output_type": "stream",
     "text": [
      "CPU usage:  13.6%\r"
     ]
    },
    {
     "name": "stderr",
     "output_type": "stream",
     "text": [
      "\n",
      "\u001b[A"
     ]
    },
    {
     "name": "stdout",
     "output_type": "stream",
     "text": [
      "CPU usage:  12.9%\r"
     ]
    },
    {
     "name": "stderr",
     "output_type": "stream",
     "text": [
      "\n",
      "\u001b[A"
     ]
    },
    {
     "name": "stdout",
     "output_type": "stream",
     "text": [
      "CPU usage:  13.0%\r"
     ]
    },
    {
     "name": "stderr",
     "output_type": "stream",
     "text": [
      "\n",
      "\u001b[A\n",
      "\u001b[A"
     ]
    },
    {
     "name": "stdout",
     "output_type": "stream",
     "text": [
      "CPU usage:  10.8%\r"
     ]
    },
    {
     "name": "stderr",
     "output_type": "stream",
     "text": [
      "\n",
      "\u001b[A"
     ]
    },
    {
     "name": "stdout",
     "output_type": "stream",
     "text": [
      "CPU usage:  10.8%\r"
     ]
    },
    {
     "name": "stderr",
     "output_type": "stream",
     "text": [
      "\n",
      "\u001b[A"
     ]
    },
    {
     "name": "stdout",
     "output_type": "stream",
     "text": [
      "CPU usage:  11.1%\r"
     ]
    },
    {
     "name": "stderr",
     "output_type": "stream",
     "text": [
      "\n",
      "\u001b[A"
     ]
    },
    {
     "name": "stdout",
     "output_type": "stream",
     "text": [
      "CPU usage:  15.2%\r"
     ]
    },
    {
     "name": "stderr",
     "output_type": "stream",
     "text": [
      "\n",
      "\u001b[A"
     ]
    },
    {
     "name": "stdout",
     "output_type": "stream",
     "text": [
      "CPU usage:  38.6%\r"
     ]
    },
    {
     "name": "stderr",
     "output_type": "stream",
     "text": [
      "\n",
      "\u001b[A"
     ]
    },
    {
     "name": "stdout",
     "output_type": "stream",
     "text": [
      "CPU usage:  29.7%\r"
     ]
    },
    {
     "name": "stderr",
     "output_type": "stream",
     "text": [
      "\n",
      "\u001b[A"
     ]
    },
    {
     "name": "stdout",
     "output_type": "stream",
     "text": [
      "CPU usage:  20.8%\r"
     ]
    },
    {
     "name": "stderr",
     "output_type": "stream",
     "text": [
      "\n",
      "\u001b[A"
     ]
    },
    {
     "name": "stdout",
     "output_type": "stream",
     "text": [
      "CPU usage:  17.6%\r"
     ]
    },
    {
     "name": "stderr",
     "output_type": "stream",
     "text": [
      "\n",
      "\u001b[A"
     ]
    },
    {
     "name": "stdout",
     "output_type": "stream",
     "text": [
      "CPU usage:  10.4%\r"
     ]
    },
    {
     "name": "stderr",
     "output_type": "stream",
     "text": [
      "\n",
      "\u001b[A"
     ]
    },
    {
     "name": "stdout",
     "output_type": "stream",
     "text": [
      "CPU usage:  11.9%\r"
     ]
    },
    {
     "name": "stderr",
     "output_type": "stream",
     "text": [
      "\n",
      "\u001b[A"
     ]
    },
    {
     "name": "stdout",
     "output_type": "stream",
     "text": [
      "CPU usage:  10.7%\r"
     ]
    },
    {
     "name": "stderr",
     "output_type": "stream",
     "text": [
      "\n",
      "\u001b[A"
     ]
    },
    {
     "name": "stdout",
     "output_type": "stream",
     "text": [
      "CPU usage:  11.2%\r"
     ]
    },
    {
     "name": "stderr",
     "output_type": "stream",
     "text": [
      "\n",
      "\u001b[A\n",
      "\u001b[A"
     ]
    },
    {
     "name": "stdout",
     "output_type": "stream",
     "text": [
      "CPU usage:  11.6%\r"
     ]
    },
    {
     "name": "stderr",
     "output_type": "stream",
     "text": [
      "\n",
      "\u001b[A"
     ]
    },
    {
     "name": "stdout",
     "output_type": "stream",
     "text": [
      "CPU usage:  10.6%\r"
     ]
    },
    {
     "name": "stderr",
     "output_type": "stream",
     "text": [
      "\n",
      "\u001b[A"
     ]
    },
    {
     "name": "stdout",
     "output_type": "stream",
     "text": [
      "CPU usage:  10.3%\r"
     ]
    },
    {
     "name": "stderr",
     "output_type": "stream",
     "text": [
      "\n",
      "\u001b[A"
     ]
    },
    {
     "name": "stdout",
     "output_type": "stream",
     "text": [
      "CPU usage:  12.2%\r"
     ]
    },
    {
     "name": "stderr",
     "output_type": "stream",
     "text": [
      "\n",
      "\u001b[A"
     ]
    },
    {
     "name": "stdout",
     "output_type": "stream",
     "text": [
      "CPU usage:  10.3%\r"
     ]
    },
    {
     "name": "stderr",
     "output_type": "stream",
     "text": [
      "\n",
      "\u001b[A"
     ]
    },
    {
     "name": "stdout",
     "output_type": "stream",
     "text": [
      "CPU usage:  10.6%\r"
     ]
    },
    {
     "name": "stderr",
     "output_type": "stream",
     "text": [
      "\n",
      "\u001b[A"
     ]
    },
    {
     "name": "stdout",
     "output_type": "stream",
     "text": [
      "CPU usage:  10.4%\r"
     ]
    },
    {
     "name": "stderr",
     "output_type": "stream",
     "text": [
      "\n",
      "\u001b[A"
     ]
    },
    {
     "name": "stdout",
     "output_type": "stream",
     "text": [
      "CPU usage:  11.3%\r"
     ]
    },
    {
     "name": "stderr",
     "output_type": "stream",
     "text": [
      "\n",
      "\u001b[A"
     ]
    },
    {
     "name": "stdout",
     "output_type": "stream",
     "text": [
      "CPU usage:  12.1%\r"
     ]
    },
    {
     "name": "stderr",
     "output_type": "stream",
     "text": [
      "\n",
      "\u001b[A"
     ]
    },
    {
     "name": "stdout",
     "output_type": "stream",
     "text": [
      "CPU usage:  11.3%\r"
     ]
    },
    {
     "name": "stderr",
     "output_type": "stream",
     "text": [
      "\n",
      "\u001b[A"
     ]
    },
    {
     "name": "stdout",
     "output_type": "stream",
     "text": [
      "CPU usage:  11.3%\r"
     ]
    },
    {
     "name": "stderr",
     "output_type": "stream",
     "text": [
      "\n",
      "\u001b[A"
     ]
    },
    {
     "name": "stdout",
     "output_type": "stream",
     "text": [
      "CPU usage:  10.0%\r"
     ]
    },
    {
     "name": "stderr",
     "output_type": "stream",
     "text": [
      "\n",
      "\u001b[A"
     ]
    },
    {
     "name": "stdout",
     "output_type": "stream",
     "text": [
      "CPU usage:  11.3%\r"
     ]
    },
    {
     "name": "stderr",
     "output_type": "stream",
     "text": [
      "\n",
      "\u001b[A"
     ]
    },
    {
     "name": "stdout",
     "output_type": "stream",
     "text": [
      "CPU usage:   9.6%\r"
     ]
    },
    {
     "name": "stderr",
     "output_type": "stream",
     "text": [
      "\n",
      "\u001b[A"
     ]
    },
    {
     "name": "stdout",
     "output_type": "stream",
     "text": [
      "CPU usage:  13.8%\r"
     ]
    },
    {
     "name": "stderr",
     "output_type": "stream",
     "text": [
      "\n",
      "\u001b[A"
     ]
    },
    {
     "name": "stdout",
     "output_type": "stream",
     "text": [
      "CPU usage:  11.9%\r"
     ]
    },
    {
     "name": "stderr",
     "output_type": "stream",
     "text": [
      "\n",
      "\u001b[A"
     ]
    },
    {
     "name": "stdout",
     "output_type": "stream",
     "text": [
      "CPU usage:  13.1%\r"
     ]
    },
    {
     "name": "stderr",
     "output_type": "stream",
     "text": [
      "\n",
      "\u001b[A"
     ]
    },
    {
     "name": "stdout",
     "output_type": "stream",
     "text": [
      "CPU usage:  13.8%\r"
     ]
    },
    {
     "name": "stderr",
     "output_type": "stream",
     "text": [
      "\n",
      "\u001b[A"
     ]
    },
    {
     "name": "stdout",
     "output_type": "stream",
     "text": [
      "CPU usage:  12.9%\r"
     ]
    },
    {
     "name": "stderr",
     "output_type": "stream",
     "text": [
      "\n",
      "\u001b[A"
     ]
    },
    {
     "name": "stdout",
     "output_type": "stream",
     "text": [
      "CPU usage:  20.2%\r"
     ]
    },
    {
     "name": "stderr",
     "output_type": "stream",
     "text": [
      "\n",
      "\u001b[A"
     ]
    },
    {
     "name": "stdout",
     "output_type": "stream",
     "text": [
      "CPU usage:  12.7%\r"
     ]
    },
    {
     "name": "stderr",
     "output_type": "stream",
     "text": [
      "\n",
      "\u001b[A"
     ]
    },
    {
     "name": "stdout",
     "output_type": "stream",
     "text": [
      "CPU usage:  20.8%\r"
     ]
    },
    {
     "name": "stderr",
     "output_type": "stream",
     "text": [
      "\n",
      "\u001b[A"
     ]
    },
    {
     "name": "stdout",
     "output_type": "stream",
     "text": [
      "CPU usage:  11.5%\r"
     ]
    },
    {
     "name": "stderr",
     "output_type": "stream",
     "text": [
      "\n",
      "\u001b[A"
     ]
    },
    {
     "name": "stdout",
     "output_type": "stream",
     "text": [
      "CPU usage:  15.5%\r"
     ]
    },
    {
     "name": "stderr",
     "output_type": "stream",
     "text": [
      "\n",
      "\u001b[A"
     ]
    },
    {
     "name": "stdout",
     "output_type": "stream",
     "text": [
      "CPU usage:  12.7%\r"
     ]
    },
    {
     "name": "stderr",
     "output_type": "stream",
     "text": [
      "\n",
      "\u001b[A"
     ]
    },
    {
     "name": "stdout",
     "output_type": "stream",
     "text": [
      "CPU usage:  12.0%\r"
     ]
    },
    {
     "name": "stderr",
     "output_type": "stream",
     "text": [
      "\n",
      "\u001b[A"
     ]
    },
    {
     "name": "stdout",
     "output_type": "stream",
     "text": [
      "CPU usage:   9.9%\r"
     ]
    },
    {
     "name": "stderr",
     "output_type": "stream",
     "text": [
      "\n",
      "\u001b[A"
     ]
    },
    {
     "name": "stdout",
     "output_type": "stream",
     "text": [
      "CPU usage:  11.6%\r"
     ]
    },
    {
     "name": "stderr",
     "output_type": "stream",
     "text": [
      "\n",
      "\u001b[A"
     ]
    },
    {
     "name": "stdout",
     "output_type": "stream",
     "text": [
      "CPU usage:  11.9%\r"
     ]
    },
    {
     "name": "stderr",
     "output_type": "stream",
     "text": [
      "\n",
      "\u001b[A"
     ]
    },
    {
     "name": "stdout",
     "output_type": "stream",
     "text": [
      "CPU usage:  12.5%\r"
     ]
    },
    {
     "name": "stderr",
     "output_type": "stream",
     "text": [
      "\n",
      "\u001b[A"
     ]
    },
    {
     "name": "stdout",
     "output_type": "stream",
     "text": [
      "CPU usage:  10.1%\r"
     ]
    },
    {
     "name": "stderr",
     "output_type": "stream",
     "text": [
      "\n",
      "\u001b[A"
     ]
    },
    {
     "name": "stdout",
     "output_type": "stream",
     "text": [
      "CPU usage:  11.7%\r"
     ]
    },
    {
     "name": "stderr",
     "output_type": "stream",
     "text": [
      "\n",
      "\u001b[A"
     ]
    },
    {
     "name": "stdout",
     "output_type": "stream",
     "text": [
      "CPU usage:  11.7%\r"
     ]
    },
    {
     "name": "stderr",
     "output_type": "stream",
     "text": [
      "\n",
      "\u001b[A"
     ]
    },
    {
     "name": "stdout",
     "output_type": "stream",
     "text": [
      "CPU usage:  11.5%\r"
     ]
    },
    {
     "name": "stderr",
     "output_type": "stream",
     "text": [
      "\n",
      "\u001b[A"
     ]
    },
    {
     "name": "stdout",
     "output_type": "stream",
     "text": [
      "CPU usage:  12.7%\r"
     ]
    },
    {
     "name": "stderr",
     "output_type": "stream",
     "text": [
      "\n",
      "\u001b[A"
     ]
    },
    {
     "name": "stdout",
     "output_type": "stream",
     "text": [
      "CPU usage:  10.7%\r"
     ]
    },
    {
     "name": "stderr",
     "output_type": "stream",
     "text": [
      "\n",
      "\u001b[A"
     ]
    },
    {
     "name": "stdout",
     "output_type": "stream",
     "text": [
      "CPU usage:  10.3%\r"
     ]
    },
    {
     "name": "stderr",
     "output_type": "stream",
     "text": [
      "\n",
      "\u001b[A"
     ]
    },
    {
     "name": "stdout",
     "output_type": "stream",
     "text": [
      "CPU usage:  10.9%\r"
     ]
    },
    {
     "name": "stderr",
     "output_type": "stream",
     "text": [
      "\n",
      "\u001b[A"
     ]
    },
    {
     "name": "stdout",
     "output_type": "stream",
     "text": [
      "CPU usage:  10.4%\r"
     ]
    },
    {
     "name": "stderr",
     "output_type": "stream",
     "text": [
      "\n",
      "\u001b[A"
     ]
    },
    {
     "name": "stdout",
     "output_type": "stream",
     "text": [
      "CPU usage:  11.7%\r"
     ]
    },
    {
     "name": "stderr",
     "output_type": "stream",
     "text": [
      "\n",
      "\u001b[A"
     ]
    },
    {
     "name": "stdout",
     "output_type": "stream",
     "text": [
      "CPU usage:  10.0%\r"
     ]
    },
    {
     "name": "stderr",
     "output_type": "stream",
     "text": [
      "\n",
      "\u001b[A"
     ]
    },
    {
     "name": "stdout",
     "output_type": "stream",
     "text": [
      "CPU usage:  14.8%\r"
     ]
    },
    {
     "name": "stderr",
     "output_type": "stream",
     "text": [
      "\n",
      "\u001b[A"
     ]
    },
    {
     "name": "stdout",
     "output_type": "stream",
     "text": [
      "CPU usage:  19.1%\r"
     ]
    },
    {
     "name": "stderr",
     "output_type": "stream",
     "text": [
      "\n",
      "\u001b[A"
     ]
    },
    {
     "name": "stdout",
     "output_type": "stream",
     "text": [
      "CPU usage:  10.8%\r"
     ]
    },
    {
     "name": "stderr",
     "output_type": "stream",
     "text": [
      "\n",
      "\u001b[A"
     ]
    },
    {
     "name": "stdout",
     "output_type": "stream",
     "text": [
      "CPU usage:  16.6%\r"
     ]
    },
    {
     "name": "stderr",
     "output_type": "stream",
     "text": [
      "\n",
      "\u001b[A"
     ]
    },
    {
     "name": "stdout",
     "output_type": "stream",
     "text": [
      "CPU usage:  11.2%\r"
     ]
    },
    {
     "name": "stderr",
     "output_type": "stream",
     "text": [
      "\n",
      "\u001b[A"
     ]
    },
    {
     "name": "stdout",
     "output_type": "stream",
     "text": [
      "CPU usage:  10.8%\r"
     ]
    },
    {
     "name": "stderr",
     "output_type": "stream",
     "text": [
      "\n",
      "\u001b[A"
     ]
    },
    {
     "name": "stdout",
     "output_type": "stream",
     "text": [
      "CPU usage:  14.9%\r"
     ]
    },
    {
     "name": "stderr",
     "output_type": "stream",
     "text": [
      "\n",
      "\u001b[A"
     ]
    },
    {
     "name": "stdout",
     "output_type": "stream",
     "text": [
      "CPU usage:  13.0%\r"
     ]
    },
    {
     "name": "stderr",
     "output_type": "stream",
     "text": [
      "\n",
      "\u001b[A"
     ]
    },
    {
     "name": "stdout",
     "output_type": "stream",
     "text": [
      "CPU usage:  11.8%\r"
     ]
    },
    {
     "name": "stderr",
     "output_type": "stream",
     "text": [
      "\n",
      "\u001b[A"
     ]
    },
    {
     "name": "stdout",
     "output_type": "stream",
     "text": [
      "CPU usage:  10.7%\r"
     ]
    },
    {
     "name": "stderr",
     "output_type": "stream",
     "text": [
      "\n",
      "\u001b[A"
     ]
    },
    {
     "name": "stdout",
     "output_type": "stream",
     "text": [
      "CPU usage:  10.9%\r"
     ]
    },
    {
     "name": "stderr",
     "output_type": "stream",
     "text": [
      "\n",
      "\u001b[A"
     ]
    },
    {
     "name": "stdout",
     "output_type": "stream",
     "text": [
      "CPU usage:  11.1%\r"
     ]
    },
    {
     "name": "stderr",
     "output_type": "stream",
     "text": [
      "\n",
      "\u001b[A"
     ]
    },
    {
     "name": "stdout",
     "output_type": "stream",
     "text": [
      "CPU usage:  11.3%\r"
     ]
    },
    {
     "name": "stderr",
     "output_type": "stream",
     "text": [
      "\n",
      "\u001b[A"
     ]
    },
    {
     "name": "stdout",
     "output_type": "stream",
     "text": [
      "CPU usage:   9.6%\r"
     ]
    },
    {
     "name": "stderr",
     "output_type": "stream",
     "text": [
      "\n",
      "\u001b[A"
     ]
    },
    {
     "name": "stdout",
     "output_type": "stream",
     "text": [
      "CPU usage:  11.8%\r"
     ]
    },
    {
     "name": "stderr",
     "output_type": "stream",
     "text": [
      "\n",
      "\u001b[A"
     ]
    },
    {
     "name": "stdout",
     "output_type": "stream",
     "text": [
      "CPU usage:  11.6%\r"
     ]
    },
    {
     "name": "stderr",
     "output_type": "stream",
     "text": [
      "\n",
      "\u001b[A"
     ]
    },
    {
     "name": "stdout",
     "output_type": "stream",
     "text": [
      "CPU usage:  12.7%\r"
     ]
    },
    {
     "name": "stderr",
     "output_type": "stream",
     "text": [
      "\n",
      "\u001b[A"
     ]
    },
    {
     "name": "stdout",
     "output_type": "stream",
     "text": [
      "CPU usage:  13.0%\r"
     ]
    },
    {
     "name": "stderr",
     "output_type": "stream",
     "text": [
      "\n",
      "\u001b[A"
     ]
    },
    {
     "name": "stdout",
     "output_type": "stream",
     "text": [
      "CPU usage:  11.8%\r"
     ]
    },
    {
     "name": "stderr",
     "output_type": "stream",
     "text": [
      "\n",
      "\u001b[A"
     ]
    },
    {
     "name": "stdout",
     "output_type": "stream",
     "text": [
      "CPU usage:  10.7%\r"
     ]
    },
    {
     "name": "stderr",
     "output_type": "stream",
     "text": [
      "\n",
      "\u001b[A"
     ]
    },
    {
     "name": "stdout",
     "output_type": "stream",
     "text": [
      "CPU usage:  14.2%\r"
     ]
    },
    {
     "name": "stderr",
     "output_type": "stream",
     "text": [
      "\n",
      "\u001b[A"
     ]
    },
    {
     "name": "stdout",
     "output_type": "stream",
     "text": [
      "CPU usage:  12.0%\r"
     ]
    },
    {
     "name": "stderr",
     "output_type": "stream",
     "text": [
      "\n",
      "\u001b[A"
     ]
    },
    {
     "name": "stdout",
     "output_type": "stream",
     "text": [
      "CPU usage:  13.5%\r"
     ]
    },
    {
     "name": "stderr",
     "output_type": "stream",
     "text": [
      "\n",
      "\u001b[A"
     ]
    },
    {
     "name": "stdout",
     "output_type": "stream",
     "text": [
      "CPU usage:  11.7%\r"
     ]
    },
    {
     "name": "stderr",
     "output_type": "stream",
     "text": [
      "\n",
      "\u001b[A"
     ]
    },
    {
     "name": "stdout",
     "output_type": "stream",
     "text": [
      "CPU usage:  10.8%\r"
     ]
    },
    {
     "name": "stderr",
     "output_type": "stream",
     "text": [
      "\n",
      "\u001b[A"
     ]
    },
    {
     "name": "stdout",
     "output_type": "stream",
     "text": [
      "CPU usage:  12.3%\r"
     ]
    },
    {
     "name": "stderr",
     "output_type": "stream",
     "text": [
      "\n",
      "\u001b[A"
     ]
    },
    {
     "name": "stdout",
     "output_type": "stream",
     "text": [
      "CPU usage:  11.3%\r"
     ]
    },
    {
     "name": "stderr",
     "output_type": "stream",
     "text": [
      "\n",
      "\u001b[A"
     ]
    },
    {
     "name": "stdout",
     "output_type": "stream",
     "text": [
      "CPU usage:  16.7%\r"
     ]
    },
    {
     "name": "stderr",
     "output_type": "stream",
     "text": [
      "\n",
      "\u001b[A"
     ]
    },
    {
     "name": "stdout",
     "output_type": "stream",
     "text": [
      "CPU usage:  15.9%\r"
     ]
    },
    {
     "name": "stderr",
     "output_type": "stream",
     "text": [
      "\n",
      "\u001b[A"
     ]
    },
    {
     "name": "stdout",
     "output_type": "stream",
     "text": [
      "CPU usage:  15.7%\r"
     ]
    },
    {
     "name": "stderr",
     "output_type": "stream",
     "text": [
      "\n",
      "\u001b[A"
     ]
    },
    {
     "name": "stdout",
     "output_type": "stream",
     "text": [
      "CPU usage:  10.4%\r"
     ]
    },
    {
     "name": "stderr",
     "output_type": "stream",
     "text": [
      "\n",
      "\u001b[A"
     ]
    },
    {
     "name": "stdout",
     "output_type": "stream",
     "text": [
      "CPU usage:  13.1%\r"
     ]
    },
    {
     "name": "stderr",
     "output_type": "stream",
     "text": [
      "\n",
      "\u001b[A"
     ]
    },
    {
     "name": "stdout",
     "output_type": "stream",
     "text": [
      "CPU usage:  11.9%\r"
     ]
    },
    {
     "name": "stderr",
     "output_type": "stream",
     "text": [
      "\n",
      "\u001b[A"
     ]
    },
    {
     "name": "stdout",
     "output_type": "stream",
     "text": [
      "CPU usage:   9.7%\r"
     ]
    },
    {
     "name": "stderr",
     "output_type": "stream",
     "text": [
      "\n",
      "\u001b[A"
     ]
    },
    {
     "name": "stdout",
     "output_type": "stream",
     "text": [
      "CPU usage:  11.6%\r"
     ]
    },
    {
     "name": "stderr",
     "output_type": "stream",
     "text": [
      "\n",
      "\u001b[A"
     ]
    },
    {
     "name": "stdout",
     "output_type": "stream",
     "text": [
      "CPU usage:  11.7%\r"
     ]
    },
    {
     "name": "stderr",
     "output_type": "stream",
     "text": [
      "\n",
      "\u001b[A"
     ]
    },
    {
     "name": "stdout",
     "output_type": "stream",
     "text": [
      "CPU usage:  11.5%\r"
     ]
    },
    {
     "name": "stderr",
     "output_type": "stream",
     "text": [
      "\n",
      "\u001b[A"
     ]
    },
    {
     "name": "stdout",
     "output_type": "stream",
     "text": [
      "CPU usage:  11.2%\r"
     ]
    },
    {
     "name": "stderr",
     "output_type": "stream",
     "text": [
      "\n",
      "\u001b[A"
     ]
    },
    {
     "name": "stdout",
     "output_type": "stream",
     "text": [
      "CPU usage:   9.7%\r"
     ]
    },
    {
     "name": "stderr",
     "output_type": "stream",
     "text": [
      "\n",
      "\u001b[A"
     ]
    },
    {
     "name": "stdout",
     "output_type": "stream",
     "text": [
      "CPU usage:  11.8%\r"
     ]
    },
    {
     "name": "stderr",
     "output_type": "stream",
     "text": [
      "\n",
      "\u001b[A"
     ]
    },
    {
     "name": "stdout",
     "output_type": "stream",
     "text": [
      "CPU usage:  10.4%\r"
     ]
    },
    {
     "name": "stderr",
     "output_type": "stream",
     "text": [
      "\n",
      "\u001b[A"
     ]
    },
    {
     "name": "stdout",
     "output_type": "stream",
     "text": [
      "CPU usage:  11.4%\r"
     ]
    },
    {
     "name": "stderr",
     "output_type": "stream",
     "text": [
      "\n",
      "\u001b[A"
     ]
    },
    {
     "name": "stdout",
     "output_type": "stream",
     "text": [
      "CPU usage:  10.4%\r"
     ]
    },
    {
     "name": "stderr",
     "output_type": "stream",
     "text": [
      "\n",
      "\u001b[A"
     ]
    },
    {
     "name": "stdout",
     "output_type": "stream",
     "text": [
      "CPU usage:  15.2%\r"
     ]
    },
    {
     "name": "stderr",
     "output_type": "stream",
     "text": [
      "\n",
      "\u001b[A"
     ]
    },
    {
     "name": "stdout",
     "output_type": "stream",
     "text": [
      "CPU usage:  10.2%\r"
     ]
    },
    {
     "name": "stderr",
     "output_type": "stream",
     "text": [
      "\n",
      "\u001b[A"
     ]
    },
    {
     "name": "stdout",
     "output_type": "stream",
     "text": [
      "CPU usage:  11.1%\r"
     ]
    },
    {
     "name": "stderr",
     "output_type": "stream",
     "text": [
      "\n",
      "\u001b[A"
     ]
    },
    {
     "name": "stdout",
     "output_type": "stream",
     "text": [
      "CPU usage:  10.5%\r"
     ]
    },
    {
     "name": "stderr",
     "output_type": "stream",
     "text": [
      "\n",
      "\u001b[A"
     ]
    },
    {
     "name": "stdout",
     "output_type": "stream",
     "text": [
      "CPU usage:  11.4%\r"
     ]
    },
    {
     "name": "stderr",
     "output_type": "stream",
     "text": [
      "\n",
      "\u001b[A"
     ]
    },
    {
     "name": "stdout",
     "output_type": "stream",
     "text": [
      "CPU usage:  10.9%\r"
     ]
    },
    {
     "name": "stderr",
     "output_type": "stream",
     "text": [
      "\n",
      "\u001b[A"
     ]
    },
    {
     "name": "stdout",
     "output_type": "stream",
     "text": [
      "CPU usage:   8.8%\r"
     ]
    },
    {
     "name": "stderr",
     "output_type": "stream",
     "text": [
      "\n",
      "\u001b[A"
     ]
    },
    {
     "name": "stdout",
     "output_type": "stream",
     "text": [
      "CPU usage:  10.2%\r"
     ]
    },
    {
     "name": "stderr",
     "output_type": "stream",
     "text": [
      "\n",
      "\u001b[A"
     ]
    },
    {
     "name": "stdout",
     "output_type": "stream",
     "text": [
      "CPU usage:   9.3%\r"
     ]
    },
    {
     "name": "stderr",
     "output_type": "stream",
     "text": [
      "\n",
      "\u001b[A"
     ]
    },
    {
     "name": "stdout",
     "output_type": "stream",
     "text": [
      "CPU usage:  10.8%\r"
     ]
    },
    {
     "name": "stderr",
     "output_type": "stream",
     "text": [
      "\n",
      "\u001b[A"
     ]
    },
    {
     "name": "stdout",
     "output_type": "stream",
     "text": [
      "CPU usage:  11.5%\r"
     ]
    },
    {
     "name": "stderr",
     "output_type": "stream",
     "text": [
      "\n",
      "\u001b[A"
     ]
    },
    {
     "name": "stdout",
     "output_type": "stream",
     "text": [
      "CPU usage:  11.5%\r"
     ]
    },
    {
     "name": "stderr",
     "output_type": "stream",
     "text": [
      "\n",
      "\u001b[A"
     ]
    },
    {
     "name": "stdout",
     "output_type": "stream",
     "text": [
      "CPU usage:  12.0%\r"
     ]
    },
    {
     "name": "stderr",
     "output_type": "stream",
     "text": [
      "\n",
      "\u001b[A"
     ]
    },
    {
     "name": "stdout",
     "output_type": "stream",
     "text": [
      "CPU usage:  11.9%\r"
     ]
    },
    {
     "name": "stderr",
     "output_type": "stream",
     "text": [
      "\n",
      "\u001b[A"
     ]
    },
    {
     "name": "stdout",
     "output_type": "stream",
     "text": [
      "Synthesizer (SDV - SingleTable): Metafile loading time: 0.0219 sec.Synthesizer (SDV - SingleTable): Metafile loading time: 0.0313 sec.\n",
      "Synthesizer (SDV - SingleTable): Fitting  CoupulaGAN.\n",
      "\n",
      "Synthesizer (SDV - SingleTable): Fitting  GaussianCoupula.\n"
     ]
    },
    {
     "name": "stderr",
     "output_type": "stream",
     "text": [
      "c:\\Program Files\\Python310\\lib\\site-packages\\rdt\\transformers\\numerical.py:112: UserWarning: No rounding scheme detected for column 'bmi'. Data will not be rounded.\n",
      "  warnings.warn(\n"
     ]
    },
    {
     "name": "stdout",
     "output_type": "stream",
     "text": [
      "CPU usage:   3.4%\r"
     ]
    },
    {
     "name": "stderr",
     "output_type": "stream",
     "text": [
      "\n",
      "\n",
      "\u001b[A\u001b[A"
     ]
    },
    {
     "name": "stdout",
     "output_type": "stream",
     "text": [
      "Synthesizer (SDV - SingleTable): Fitting  GaussianCoupula spent 2.3922 sec.\n",
      "Synthesizer (SDV - SingleTable): Sampling GaussianCoupula # 99 rows (same as raw) in 0.1695 sec.\n",
      "Executor - Synthesizer: GaussianCoupula synthesizing time: 13.9484 sec.\n",
      "Synthesizer (SDV - SingleTable): Fitting  CoupulaGAN spent 26.5661 sec.\n"
     ]
    },
    {
     "name": "stderr",
     "output_type": "stream",
     "text": [
      "\n",
      "\n",
      "\u001b[A\u001b[A"
     ]
    },
    {
     "name": "stdout",
     "output_type": "stream",
     "text": [
      "Synthesizer (SDV - SingleTable): Sampling CoupulaGAN # 99 rows (same as raw) in 0.2521 sec.\n",
      "Executor - Synthesizer: CoupulaGAN synthesizing time: 38.2046 sec.\n",
      "CPU usage:   1.6%\r"
     ]
    },
    {
     "name": "stderr",
     "output_type": "stream",
     "text": [
      "Synthesizing:   1%|          | 2/240 [05:23<10:40:52, 161.57s/it]\n",
      "Preprocessing: 100%|██████████| 120/120 [05:23<00:00,  2.69s/it]\n",
      "Splitting: 100%|██████████| 4/4 [05:23<00:00, 80.79s/it]\n",
      "Loading: 100%|██████████| 2/2 [05:23<00:00, 161.59s/it]\n"
     ]
    },
    {
     "name": "stdout",
     "output_type": "stream",
     "text": [
      "====== ====== ====== ====== ====== ======\n",
      "Executor: Total execution time: 323.8127 sec.\n",
      "====== ====== ====== ====== ====== ======\n"
     ]
    }
   ],
   "source": [
    "import os\n",
    "import sys\n",
    "\n",
    "sys.path.append('D:\\\\Dropbox\\\\89_其他應用\\\\GitHub\\\\PETs-Experiment')\n",
    "os.chdir('D:\\\\Dropbox\\\\89_其他應用\\\\GitHub\\\\PETs-Experiment\\\\demo')\n",
    "\n",
    "import PETs_Experiment\n",
    "\n",
    "para_Executor = {\n",
    "     'Loader' : {\n",
    "         'adult'  : {'filepath'  : '../[sunset]/data/[Adt Income] adult.csv'\n",
    "                    ,'na_values' : {k : '?' for k in ['workclass' ,'occupation' ,'native-country']}\n",
    "        }\n",
    "        ,'NHANES' : {'filepath'     : '../[sunset]/data/[NHANES] B.csv'\n",
    "                    ,'header_exist' : False\n",
    "                    ,'header_names' : ['gen','age','race','edu','mar','bmi','dep','pir','gh','mets','qm','dia']\n",
    "        }\n",
    "     }\n",
    "    ,'Splitter' : {\n",
    "         '0.8'  : {'num_samples'       : 30\n",
    "                  ,'train_split_ratio' : 0.8\n",
    "        }\n",
    "        ,'0.05' : {'num_samples'       : 30\n",
    "                  ,'train_split_ratio' : 0.05\n",
    "        }\n",
    "    }\n",
    "    ,'Preprocessor_missing_method'  : 'drop'\n",
    "    ,'Preprocessor_outlier_method'  : 'IQR'\n",
    "    # ,'Preprocessor_outlier_columns' : {'ignore': ['hours-per-week']}\n",
    "    ,'Preprocessor_encoding_method' : 'Label'\n",
    "    # ,'Preprocessor_scaling'         : True\n",
    "    # ,'Preprocessor_scaling_method'  : 'Standard'\n",
    "    # ,'Preprocessor_scaling_columns' : {'focus' : 'fnlwgt'}\n",
    "    ,'Synthesizer': {\n",
    "        'GaussianCoupula' : {'synthesizing_method' : 'sdv-singletable-gaussiancoupula'}\n",
    "       ,'CoupulaGAN'      : {'synthesizing_method' : 'sdv-singletable-coupulagan'}\n",
    "    #    ,'CTGAN'           : {'synthesizing_method' : 'sdv-singletable-ctgan'}\n",
    "    #    ,'TVAE'            : {'synthesizing_method' : 'sdv-singletable-tvae'}\n",
    "    }\n",
    "}\n",
    "\n",
    "executor = PETs_Experiment.Executor(**para_Executor)\n",
    "executor.run()\n",
    "    "
   ]
  }
 ],
 "metadata": {
  "kernelspec": {
   "display_name": "Python 3",
   "language": "python",
   "name": "python3"
  },
  "language_info": {
   "codemirror_mode": {
    "name": "ipython",
    "version": 3
   },
   "file_extension": ".py",
   "mimetype": "text/x-python",
   "name": "python",
   "nbconvert_exporter": "python",
   "pygments_lexer": "ipython3",
   "version": "3.10.13"
  }
 },
 "nbformat": 4,
 "nbformat_minor": 4
}
