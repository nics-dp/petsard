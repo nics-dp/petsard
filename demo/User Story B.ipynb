{
 "cells": [
  {
   "cell_type": "markdown",
   "metadata": {},
   "source": [
    "# User Story B\n",
    "**Privacy Enhancing Data Generation and Evaluation**\n",
    "\n",
    "This demo will show how to generate and evaluate privacy-enhanced data using `PETsARD`.\n",
    "\n",
    "In this demonstration, you, as the user, already possess a data file locally, and `PETsARD` will assist you in loading that file and then generating a privacy-enhanced version of it.\n",
    "\n",
    "本示範將展示如何使用 `PETsARD` 生成與評測隱私強化資料。\n",
    "\n",
    "在這個示範中，您作為使用者，在本機上已經擁有一份資料檔案，而 `PETsARD` 將幫助您讀取該檔案、生成經隱私強化後的版本、最終評測。"
   ]
  },
  {
   "cell_type": "markdown",
   "metadata": {},
   "source": [
    "---\n",
    "\n",
    "## Environment"
   ]
  },
  {
   "cell_type": "code",
   "execution_count": 1,
   "metadata": {},
   "outputs": [
    {
     "name": "stdout",
     "output_type": "stream",
     "text": [
      "d:\\Dropbox\\89_other_application\\GitHub\\PETsARD\n"
     ]
    }
   ],
   "source": [
    "import os\n",
    "import pprint\n",
    "import sys\n",
    "\n",
    "import yaml\n",
    "\n",
    "\n",
    "# Setting up the path to the PETsARD package\n",
    "path_petsard = os.path.dirname(os.getcwd())\n",
    "print(path_petsard)\n",
    "sys.path.append(path_petsard)\n",
    "# setting for pretty priny YAML\n",
    "pp = pprint.PrettyPrinter(depth=3, sort_dicts=False)\n",
    "\n",
    "\n",
    "from PETsARD import Executor"
   ]
  },
  {
   "cell_type": "markdown",
   "metadata": {},
   "source": [
    "---\n",
    "\n",
    "## User Story B-1\n",
    "**Default Evaluating**\n",
    "\n",
    "Following User Story A, if users enable the \"evaluate\" step ,  the evaluation module will create a report covering default privacy risk and utility metrics.\n",
    "\n",
    "根據用戶故事 A，如果使用者啟用了 \"evaluate\" 步驟，評估模組會產生涵蓋預設的隱私風險與效用指標的報告。"
   ]
  },
  {
   "cell_type": "code",
   "execution_count": 2,
   "metadata": {},
   "outputs": [
    {
     "name": "stdout",
     "output_type": "stream",
     "text": [
      "{'Loader': {'adult': {'filepath': 'benchmark/adult-income.csv',\n",
      "                      'na_values': {...}}},\n",
      " 'Preprocessor': {'demo': {'method': 'default'}},\n",
      " 'Synthesizer': {'demo': {'method': 'default'}},\n",
      " 'Postprocessor': {'demo': {'method': 'default'}},\n",
      " 'Evaluator': {'demo': {'method': 'default'}},\n",
      " 'Reporter': {'save_data': {'method': 'save_data',\n",
      "                            'output': 'User Story B-1',\n",
      "                            'source': 'Postprocessor'},\n",
      "              'save_report_global': {'method': 'save_report',\n",
      "                                     'output': 'User Story B-1',\n",
      "                                     'eval': 'demo',\n",
      "                                     'granularity': 'global'}}}\n"
     ]
    }
   ],
   "source": [
    "config_file = '../yaml/User Story B-1.yaml'\n",
    "\n",
    "with open(config_file, 'r') as yaml_file:\n",
    "    yaml_raw: dict = yaml.safe_load(yaml_file)\n",
    "pp.pprint(yaml_raw)"
   ]
  },
  {
   "cell_type": "code",
   "execution_count": 3,
   "metadata": {},
   "outputs": [
    {
     "name": "stdout",
     "output_type": "stream",
     "text": [
      "Now is Loader with adult...\n",
      "Now is Preprocessor with demo...\n",
      "Now is Synthesizer with demo...\n",
      "Synthesizer (SDV - SingleTable): Metafile loading time: 0.0342 sec.\n",
      "Synthesizer (SDV - SingleTable): Fitting GaussianCopula.\n"
     ]
    },
    {
     "name": "stderr",
     "output_type": "stream",
     "text": [
      "d:\\Dropbox\\89_other_application\\GitHub\\PETsARD\\.venv\\lib\\site-packages\\sdv\\single_table\\base.py:79: UserWarning: We strongly recommend saving the metadata using 'save_to_json' for replicability in future SDV versions.\n",
      "  warnings.warn(\n"
     ]
    },
    {
     "name": "stdout",
     "output_type": "stream",
     "text": [
      "Synthesizer (SDV - SingleTable): Fitting  GaussianCopula spent 8.9661 sec.\n",
      "Synthesizer (SDV - SingleTable): Sampling GaussianCopula # 26933 rows (same as raw) in 2.3417 sec.\n",
      "Now is Postprocessor with demo...\n",
      "Now is Evaluator with demo...\n",
      "Generating report ...\n",
      "(1/2) Evaluating Column Shapes: : 100%|██████████| 15/15 [00:00<00:00, 75.45it/s]\n",
      "(2/2) Evaluating Column Pair Trends: : 100%|██████████| 105/105 [00:05<00:00, 18.90it/s]\n",
      "\n",
      "Overall Score: 77.91%\n",
      "\n",
      "Properties:\n",
      "- Column Shapes: 94.17%\n",
      "- Column Pair Trends: 61.65%\n",
      "Now is Reporter with save_data...\n",
      "Now is User Story B-1_Loader[adult]_Preprocessor[demo]_Synthesizer[demo]_Postprocessor[demo] save to csv...\n",
      "Now is Reporter with save_report_global...\n",
      "Now is User Story B-1[Report]_demo_[global] save to csv...\n"
     ]
    }
   ],
   "source": [
    "exec = Executor(config=config_file)\n",
    "exec.run()"
   ]
  },
  {
   "cell_type": "code",
   "execution_count": 4,
   "metadata": {},
   "outputs": [
    {
     "name": "stdout",
     "output_type": "stream",
     "text": [
      "{'Loader[adult]_Preprocessor[demo]_Synthesizer[demo]_Postprocessor[demo]_Evaluator[demo]_Reporter[save_data]': {'Loader[adult]_Preprocessor[demo]_Synthesizer[demo]_Postprocessor[demo]':              age     workclass         fnlwgt   education  educational-num  \\\n",
      "0      41.492932  Self-emp-inc  178964.002280        10th         8.948864   \n",
      "1      46.614884           NaN  229992.412898   Bachelors         7.279040   \n",
      "2      38.168388       Private  236256.520834     HS-grad        11.865700   \n",
      "3      31.367659       Private  151499.780972     HS-grad         8.067272   \n",
      "4      31.586065           NaN  122882.387591  Assoc-acdm        13.751945   \n",
      "...          ...           ...            ...         ...              ...   \n",
      "26928  31.265317       Private  167305.279996   Assoc-voc        12.833674   \n",
      "26929  36.116559       Private  111753.192300     HS-grad        11.743427   \n",
      "26930  57.438484       Private   15476.459230     HS-grad         8.800826   \n",
      "26931  44.738893           NaN   89423.288226   Bachelors        12.840082   \n",
      "26932  31.076094       Private  195748.945242   Bachelors        15.464807   \n",
      "\n",
      "           marital-status         occupation   relationship   race  gender  \\\n",
      "0      Married-civ-spouse       Craft-repair        Husband  White    Male   \n",
      "1           Never-married                NaN  Not-in-family  White    Male   \n",
      "2           Never-married       Adm-clerical      Own-child  White  Female   \n",
      "3      Married-civ-spouse      Other-service        Husband  White    Male   \n",
      "4                Divorced                NaN           Wife  White    Male   \n",
      "...                   ...                ...            ...    ...     ...   \n",
      "26928  Married-civ-spouse    Exec-managerial  Not-in-family  White  Female   \n",
      "26929             Widowed  Handlers-cleaners           Wife  White  Female   \n",
      "26930  Married-civ-spouse  Machine-op-inspct        Husband  White    Male   \n",
      "26931            Divorced                NaN      Own-child  White    Male   \n",
      "26932       Never-married  Handlers-cleaners  Not-in-family  White    Male   \n",
      "\n",
      "       capital-gain  capital-loss  hours-per-week native-country income  \n",
      "0               0.0           0.0       40.891952  United-States   >50K  \n",
      "1               0.0           0.0       42.115954  United-States  <=50K  \n",
      "2               0.0           0.0       35.928978  United-States  <=50K  \n",
      "3               0.0           0.0       41.203168  United-States   >50K  \n",
      "4               0.0           0.0       44.246786  United-States  <=50K  \n",
      "...             ...           ...             ...            ...    ...  \n",
      "26928           0.0           0.0       42.509213  United-States   >50K  \n",
      "26929           0.0           0.0       36.840292  United-States  <=50K  \n",
      "26930           0.0           0.0       42.629206  United-States  <=50K  \n",
      "26931           0.0           0.0       48.957124  United-States  <=50K  \n",
      "26932           0.0           0.0       38.201452       Cambodia  <=50K  \n",
      "\n",
      "[26933 rows x 15 columns]},\n",
      " 'Loader[adult]_Preprocessor[demo]_Synthesizer[demo]_Postprocessor[demo]_Evaluator[demo]_Reporter[save_report_global]': {'demo_[global]':                                            full_expt_name     Score  \\\n",
      "result  Loader[adult]_Preprocessor[demo]_Synthesizer[d...  0.779078   \n",
      "\n",
      "        Column Shapes  Column Pair Trends  \n",
      "result        0.94169            0.616465  }}\n"
     ]
    }
   ],
   "source": [
    "pp.pprint(exec.get_result())"
   ]
  },
  {
   "cell_type": "markdown",
   "metadata": {},
   "source": [
    "---\n",
    "\n",
    "## User Story B-2\n",
    "**Customized Evaluating**\n",
    "\n",
    "Following User Story B-1, if specific types of metrics are set or a customized evaluation script is provided, the module will create a customized evaluation report.\n",
    "\n",
    "根據用戶故事 B-1，如果指定特定的指標、或是提供用戶自定義的評估腳本，模組會產生客製化的評估報告。"
   ]
  },
  {
   "cell_type": "code",
   "execution_count": 5,
   "metadata": {},
   "outputs": [
    {
     "name": "stdout",
     "output_type": "stream",
     "text": [
      "{'Loader': {'adult': {'filepath': 'benchmark/adult-income.csv',\n",
      "                      'na_values': {...}}},\n",
      " 'Preprocessor': {'demo': {'method': 'default'}},\n",
      " 'Synthesizer': {'demo': {'method': 'default'}},\n",
      " 'Postprocessor': {'demo': {'method': 'default'}},\n",
      " 'Evaluator': {'custom': {'method': 'custom_method', 'custom_method': {...}}},\n",
      " 'Reporter': {'save_report_global': {'method': 'save_report',\n",
      "                                     'output': 'User Story B-2',\n",
      "                                     'eval': 'custom',\n",
      "                                     'granularity': 'global'},\n",
      "              'save_report_columnwise': {'method': 'save_report',\n",
      "                                         'output': 'User Story B-2',\n",
      "                                         'eval': 'custom',\n",
      "                                         'granularity': 'columnwise'},\n",
      "              'save_report_pairwise': {'method': 'save_report',\n",
      "                                       'output': 'User Story B-2',\n",
      "                                       'eval': 'custom',\n",
      "                                       'granularity': 'pairwise'}}}\n"
     ]
    }
   ],
   "source": [
    "config_file = '../yaml/User Story B-2.yaml'\n",
    "\n",
    "with open(config_file, 'r') as yaml_file:\n",
    "    yaml_raw: dict = yaml.safe_load(yaml_file)\n",
    "pp.pprint(yaml_raw)"
   ]
  },
  {
   "cell_type": "code",
   "execution_count": 6,
   "metadata": {},
   "outputs": [
    {
     "name": "stdout",
     "output_type": "stream",
     "text": [
      "Now is Loader with adult...\n",
      "Now is Preprocessor with demo...\n",
      "Now is Synthesizer with demo...\n",
      "Synthesizer (SDV - SingleTable): Metafile loading time: 0.0312 sec.\n",
      "Synthesizer (SDV - SingleTable): Fitting GaussianCopula.\n"
     ]
    },
    {
     "name": "stderr",
     "output_type": "stream",
     "text": [
      "d:\\Dropbox\\89_other_application\\GitHub\\PETsARD\\.venv\\lib\\site-packages\\sdv\\single_table\\base.py:79: UserWarning: We strongly recommend saving the metadata using 'save_to_json' for replicability in future SDV versions.\n",
      "  warnings.warn(\n"
     ]
    },
    {
     "name": "stdout",
     "output_type": "stream",
     "text": [
      "Synthesizer (SDV - SingleTable): Fitting  GaussianCopula spent 9.7033 sec.\n",
      "Synthesizer (SDV - SingleTable): Sampling GaussianCopula # 26933 rows (same as raw) in 1.8968 sec.\n",
      "Now is Postprocessor with demo...\n",
      "Now is Evaluator with custom...\n",
      "Now is Reporter with save_report_global...\n",
      "Now is User Story B-2[Report]_custom_[global] save to csv...\n",
      "Now is Reporter with save_report_columnwise...\n",
      "Now is User Story B-2[Report]_custom_[columnwise] save to csv...\n",
      "Now is Reporter with save_report_pairwise...\n",
      "Now is User Story B-2[Report]_custom_[pairwise] save to csv...\n"
     ]
    }
   ],
   "source": [
    "exec = Executor(config=config_file)\n",
    "exec.run()"
   ]
  },
  {
   "cell_type": "code",
   "execution_count": 7,
   "metadata": {},
   "outputs": [
    {
     "name": "stdout",
     "output_type": "stream",
     "text": [
      "{'Loader[adult]_Preprocessor[demo]_Synthesizer[demo]_Postprocessor[demo]_Evaluator[custom]_Reporter[save_report_global]': {'custom_[global]':                                            full_expt_name  score\n",
      "result  Loader[adult]_Preprocessor[demo]_Synthesizer[d...    100},\n",
      " 'Loader[adult]_Preprocessor[demo]_Synthesizer[demo]_Postprocessor[demo]_Evaluator[custom]_Reporter[save_report_columnwise]': {'custom_[columnwise]':                                        full_expt_name           column  score\n",
      "0   Loader[adult]_Preprocessor[demo]_Synthesizer[d...              age    100\n",
      "1   Loader[adult]_Preprocessor[demo]_Synthesizer[d...        workclass    100\n",
      "2   Loader[adult]_Preprocessor[demo]_Synthesizer[d...           fnlwgt    100\n",
      "3   Loader[adult]_Preprocessor[demo]_Synthesizer[d...        education    100\n",
      "4   Loader[adult]_Preprocessor[demo]_Synthesizer[d...  educational-num    100\n",
      "5   Loader[adult]_Preprocessor[demo]_Synthesizer[d...   marital-status    100\n",
      "6   Loader[adult]_Preprocessor[demo]_Synthesizer[d...       occupation    100\n",
      "7   Loader[adult]_Preprocessor[demo]_Synthesizer[d...     relationship    100\n",
      "8   Loader[adult]_Preprocessor[demo]_Synthesizer[d...             race    100\n",
      "9   Loader[adult]_Preprocessor[demo]_Synthesizer[d...           gender    100\n",
      "10  Loader[adult]_Preprocessor[demo]_Synthesizer[d...     capital-gain    100\n",
      "11  Loader[adult]_Preprocessor[demo]_Synthesizer[d...     capital-loss    100\n",
      "12  Loader[adult]_Preprocessor[demo]_Synthesizer[d...   hours-per-week    100\n",
      "13  Loader[adult]_Preprocessor[demo]_Synthesizer[d...   native-country    100\n",
      "14  Loader[adult]_Preprocessor[demo]_Synthesizer[d...           income    100},\n",
      " 'Loader[adult]_Preprocessor[demo]_Synthesizer[demo]_Postprocessor[demo]_Evaluator[custom]_Reporter[save_report_pairwise]': {'custom_[pairwise]':                                         full_expt_name    column1  \\\n",
      "0    Loader[adult]_Preprocessor[demo]_Synthesizer[d...        age   \n",
      "1    Loader[adult]_Preprocessor[demo]_Synthesizer[d...  workclass   \n",
      "2    Loader[adult]_Preprocessor[demo]_Synthesizer[d...  workclass   \n",
      "3    Loader[adult]_Preprocessor[demo]_Synthesizer[d...     fnlwgt   \n",
      "4    Loader[adult]_Preprocessor[demo]_Synthesizer[d...     fnlwgt   \n",
      "..                                                 ...        ...   \n",
      "115  Loader[adult]_Preprocessor[demo]_Synthesizer[d...     income   \n",
      "116  Loader[adult]_Preprocessor[demo]_Synthesizer[d...     income   \n",
      "117  Loader[adult]_Preprocessor[demo]_Synthesizer[d...     income   \n",
      "118  Loader[adult]_Preprocessor[demo]_Synthesizer[d...     income   \n",
      "119  Loader[adult]_Preprocessor[demo]_Synthesizer[d...     income   \n",
      "\n",
      "            column2  score  \n",
      "0               age    100  \n",
      "1               age    100  \n",
      "2         workclass    100  \n",
      "3               age    100  \n",
      "4         workclass    100  \n",
      "..              ...    ...  \n",
      "115    capital-gain    100  \n",
      "116    capital-loss    100  \n",
      "117  hours-per-week    100  \n",
      "118  native-country    100  \n",
      "119          income    100  \n",
      "\n",
      "[120 rows x 4 columns]}}\n"
     ]
    }
   ],
   "source": [
    "pp.pprint(exec.get_result())"
   ]
  }
 ],
 "metadata": {
  "kernelspec": {
   "display_name": ".venv",
   "language": "python",
   "name": "python3"
  },
  "language_info": {
   "codemirror_mode": {
    "name": "ipython",
    "version": 3
   },
   "file_extension": ".py",
   "mimetype": "text/x-python",
   "name": "python",
   "nbconvert_exporter": "python",
   "pygments_lexer": "ipython3",
   "version": "3.10.11"
  }
 },
 "nbformat": 4,
 "nbformat_minor": 2
}
