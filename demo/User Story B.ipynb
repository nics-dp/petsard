{
 "cells": [
  {
   "cell_type": "markdown",
   "metadata": {},
   "source": [
    "# User Story B\n",
    "**Privacy Enhancing Data Generation and Evaluation**\n",
    "\n",
    "This demo will show how to generate and evaluate privacy-enhanced data using `PETsARD`.\n",
    "\n",
    "In this demonstration, you, as the user, already possess a data file locally, and `PETsARD` will assist you in loading that file and then generating a privacy-enhanced version of it.\n",
    "\n",
    "本示範將展示如何使用 `PETsARD` 生成與評測隱私強化資料。\n",
    "\n",
    "在這個示範中，您作為使用者，在本機上已經擁有一份資料檔案，而 `PETsARD` 將幫助您讀取該檔案、生成經隱私強化後的版本、最終評測。"
   ]
  },
  {
   "cell_type": "markdown",
   "metadata": {},
   "source": [
    "---\n",
    "\n",
    "## Environment"
   ]
  },
  {
   "cell_type": "code",
   "execution_count": 1,
   "metadata": {},
   "outputs": [
    {
     "name": "stdout",
     "output_type": "stream",
     "text": [
      "d:\\Dropbox\\89_other_application\\GitHub\\PETsARD\n"
     ]
    }
   ],
   "source": [
    "import os\n",
    "import pprint\n",
    "import sys\n",
    "\n",
    "import yaml\n",
    "\n",
    "\n",
    "# Setting up the path to the PETsARD package\n",
    "path_petsard = os.path.dirname(os.getcwd())\n",
    "print(path_petsard)\n",
    "sys.path.append(path_petsard)\n",
    "\n",
    "\n",
    "from PETsARD import Executor"
   ]
  },
  {
   "cell_type": "markdown",
   "metadata": {},
   "source": [
    "> `Demo_UserStory` is a function created for demonstrating details and can be ignored.\n",
    ">\n",
    "> `Demo_UserStory` 是為了展現示範細節而建立的函式，可忽略。"
   ]
  },
  {
   "cell_type": "code",
   "execution_count": 2,
   "metadata": {},
   "outputs": [],
   "source": [
    "def Demo_UserStory(config_file: str):\n",
    "    print(f\"YAML file {config_file} is ...\")\n",
    "    print(f\"\")\n",
    "    pp = pprint.PrettyPrinter(depth=3, sort_dicts=False)\n",
    "    with open(config_file, 'r') as yaml_file:\n",
    "        yaml_raw: dict = yaml.safe_load(yaml_file)\n",
    "    pp.pprint(yaml_raw)\n",
    "\n",
    "    print(f\"\")\n",
    "    print(f\"\")\n",
    "    print(f\"Here's the execution...\")\n",
    "    print(f\"\")\n",
    "    exec = Executor(config=config_file)\n",
    "    exec.run()\n",
    "\n",
    "    print(f\"\")\n",
    "    print(f\"\")\n",
    "    print(f\"Here's the result...\")\n",
    "    print(f\"\")\n",
    "    pp.pprint(exec.get_result())"
   ]
  },
  {
   "cell_type": "markdown",
   "metadata": {},
   "source": [
    "---\n",
    "\n",
    "## User Story B-1\n",
    "**Default Evaluating**\n",
    "\n",
    "Following User Story A, if users enable the \"evaluate\" step ,  the evaluation module will create a report covering default privacy risk and utility metrics.\n",
    "\n",
    "根據用戶故事 A，如果使用者啟用了 \"evaluate\" 步驟，評估模組會產生涵蓋預設的隱私風險與效用指標的報告。"
   ]
  },
  {
   "cell_type": "code",
   "execution_count": 3,
   "metadata": {},
   "outputs": [
    {
     "name": "stdout",
     "output_type": "stream",
     "text": [
      "YAML file user_story/User Story B-1.yaml is ...\n",
      "\n",
      "{'Loader': {'adult': {'filepath': 'benchmark/adult-income.csv',\n",
      "                      'na_values': {...}}},\n",
      " 'Preprocessor': {'demo': {'method': 'default'}},\n",
      " 'Synthesizer': {'demo': {'method': 'default'}},\n",
      " 'Postprocessor': {'demo': {'method': 'default'}},\n",
      " 'Evaluator': {'demo': {'method': 'default'}},\n",
      " 'Reporter': {'save_data': {'method': 'save_data',\n",
      "                            'output': 'User Story B-1',\n",
      "                            'source': 'Postprocessor'},\n",
      "              'save_report_global': {'method': 'save_report',\n",
      "                                     'output': 'User Story B-1',\n",
      "                                     'eval': 'demo',\n",
      "                                     'granularity': 'global'}}}\n",
      "\n",
      "\n",
      "Here's the execution...\n",
      "\n",
      "Now is Loader with adult...\n",
      "Now is Preprocessor with demo...\n",
      "Now is Synthesizer with demo...\n",
      "Synthesizer (SDV - SingleTable): Metafile loading time: 0.0435 sec.\n",
      "Synthesizer (SDV - SingleTable): Fitting GaussianCopula.\n"
     ]
    },
    {
     "name": "stderr",
     "output_type": "stream",
     "text": [
      "d:\\Dropbox\\89_other_application\\GitHub\\PETsARD\\.venv\\lib\\site-packages\\sdv\\single_table\\base.py:79: UserWarning: We strongly recommend saving the metadata using 'save_to_json' for replicability in future SDV versions.\n",
      "  warnings.warn(\n"
     ]
    },
    {
     "name": "stdout",
     "output_type": "stream",
     "text": [
      "Synthesizer (SDV - SingleTable): Fitting  GaussianCopula spent 8.7298 sec.\n",
      "Synthesizer (SDV - SingleTable): Sampling GaussianCopula # 26933 rows (same as raw) in 1.6938 sec.\n",
      "Now is Postprocessor with demo...\n",
      "Now is Evaluator with demo...\n",
      "Generating report ...\n",
      "(1/2) Evaluating Column Shapes: : 100%|██████████| 15/15 [00:00<00:00, 82.73it/s]\n",
      "(2/2) Evaluating Column Pair Trends: : 100%|██████████| 105/105 [00:05<00:00, 20.98it/s]\n",
      "\n",
      "Overall Score: 77.85%\n",
      "\n",
      "Properties:\n",
      "- Column Shapes: 94.15%\n",
      "- Column Pair Trends: 61.54%\n",
      "Now is Reporter with save_data...\n",
      "Now is User Story B-1_Loader[adult]_Preprocessor[demo]_Synthesizer[demo]_Postprocessor[demo] save to csv...\n",
      "Now is Reporter with save_report_global...\n",
      "Now is User Story B-1[Report]_demo_[global] save to csv...\n",
      "\n",
      "\n",
      "Here's the result...\n",
      "\n",
      "{'Loader[adult]_Preprocessor[demo]_Synthesizer[demo]_Postprocessor[demo]_Evaluator[demo]_Reporter[save_data]': {'Loader[adult]_Preprocessor[demo]_Synthesizer[demo]_Postprocessor[demo]':              age         workclass         fnlwgt     education  \\\n",
      "0      55.937567  Self-emp-not-inc  214153.813477          11th   \n",
      "1      28.173004  Self-emp-not-inc  182589.400008  Some-college   \n",
      "2      30.600297           Private  282220.446076       HS-grad   \n",
      "3      43.489641               NaN  161867.302533       HS-grad   \n",
      "4      22.039439           Private  131633.641977   Prof-school   \n",
      "...          ...               ...            ...           ...   \n",
      "26928  39.633369           Private  184316.057148       7th-8th   \n",
      "26929  25.573701           Private  120790.120118       HS-grad   \n",
      "26930  32.755207           Private   16299.570254       HS-grad   \n",
      "26931  25.229163  Self-emp-not-inc   44093.973880       Masters   \n",
      "26932  56.902817           Private  253014.943871  Some-college   \n",
      "\n",
      "       educational-num         marital-status        occupation  \\\n",
      "0             8.726571     Married-civ-spouse               NaN   \n",
      "1             7.756268          Never-married  Transport-moving   \n",
      "2            12.156825               Divorced     Other-service   \n",
      "3             7.817357     Married-civ-spouse               NaN   \n",
      "4            14.152717          Never-married      Craft-repair   \n",
      "...                ...                    ...               ...   \n",
      "26928        12.476460          Never-married    Prof-specialty   \n",
      "26929        12.150662  Married-spouse-absent      Tech-support   \n",
      "26930         9.431398          Never-married      Tech-support   \n",
      "26931        13.678598          Never-married      Craft-repair   \n",
      "26932        14.623783          Never-married             Sales   \n",
      "\n",
      "        relationship                race  gender  capital-gain  capital-loss  \\\n",
      "0      Not-in-family               White    Male           0.0           0.0   \n",
      "1      Not-in-family               White  Female           0.0           0.0   \n",
      "2          Own-child               White  Female           0.0           0.0   \n",
      "3            Husband               White    Male           0.0           0.0   \n",
      "4      Not-in-family               White  Female           0.0           0.0   \n",
      "...              ...                 ...     ...           ...           ...   \n",
      "26928  Not-in-family  Asian-Pac-Islander    Male           0.0           0.0   \n",
      "26929           Wife               White  Female           0.0           0.0   \n",
      "26930        Husband               White    Male           0.0           0.0   \n",
      "26931  Not-in-family               White  Female           0.0           0.0   \n",
      "26932  Not-in-family               Black    Male           0.0           0.0   \n",
      "\n",
      "       hours-per-week native-country income  \n",
      "0           43.739060  United-States   >50K  \n",
      "1           39.240217  United-States   >50K  \n",
      "2           42.088143  United-States  <=50K  \n",
      "3           40.734632            NaN  <=50K  \n",
      "4           44.267732  United-States  <=50K  \n",
      "...               ...            ...    ...  \n",
      "26928       44.607134  United-States  <=50K  \n",
      "26929       40.244157  United-States  <=50K  \n",
      "26930       52.000000  United-States  <=50K  \n",
      "26931       38.874147  United-States  <=50K  \n",
      "26932       40.898079           Iran  <=50K  \n",
      "\n",
      "[26933 rows x 15 columns]},\n",
      " 'Loader[adult]_Preprocessor[demo]_Synthesizer[demo]_Postprocessor[demo]_Evaluator[demo]_Reporter[save_report_global]': {'demo_[global]':                                            full_expt_name     Score  \\\n",
      "result  Loader[adult]_Preprocessor[demo]_Synthesizer[d...  0.778452   \n",
      "\n",
      "        Column Shapes  Column Pair Trends  \n",
      "result       0.941472            0.615431  }}\n"
     ]
    }
   ],
   "source": [
    "config_file = '../yaml/User Story B-1.yaml'\n",
    "\n",
    "Demo_UserStory(config_file = config_file)"
   ]
  },
  {
   "cell_type": "markdown",
   "metadata": {},
   "source": [
    "---\n",
    "\n",
    "## User Story B-2\n",
    "**Customized Evaluating**\n",
    "\n",
    "Following User Story B-1, if specific types of metrics are set or a customized evaluation script is provided, the module will create a customized evaluation report.\n",
    "\n",
    "根據用戶故事 B-1，如果指定特定的指標、或是提供用戶自定義的評估腳本，模組會產生客製化的評估報告。"
   ]
  },
  {
   "cell_type": "code",
   "execution_count": 5,
   "metadata": {},
   "outputs": [
    {
     "name": "stdout",
     "output_type": "stream",
     "text": [
      "YAML file user_story/User Story B-2.yaml is ...\n",
      "\n",
      "{'Loader': {'adult': {'filepath': 'benchmark/adult-income.csv',\n",
      "                      'na_values': {...}}},\n",
      " 'Preprocessor': {'demo': {'method': 'default'}},\n",
      " 'Synthesizer': {'demo': {'method': 'default'}},\n",
      " 'Postprocessor': {'demo': {'method': 'default'}},\n",
      " 'Evaluator': {'custom': {'method': 'custom_method', 'custom_method': {...}}},\n",
      " 'Reporter': {'save_report_global': {'method': 'save_report',\n",
      "                                     'output': 'User Story B-2',\n",
      "                                     'eval': 'custom',\n",
      "                                     'granularity': 'global'},\n",
      "              'save_report_columnwise': {'method': 'save_report',\n",
      "                                         'output': 'User Story B-2',\n",
      "                                         'eval': 'custom',\n",
      "                                         'granularity': 'columnwise'},\n",
      "              'save_report_pairwise': {'method': 'save_report',\n",
      "                                       'output': 'User Story B-2',\n",
      "                                       'eval': 'custom',\n",
      "                                       'granularity': 'pairwise'}}}\n",
      "\n",
      "\n",
      "Here's the execution...\n",
      "\n",
      "Now is Loader with adult...\n",
      "Now is Preprocessor with demo...\n",
      "Now is Synthesizer with demo...\n",
      "Synthesizer (SDV - SingleTable): Metafile loading time: 0.0417 sec.\n",
      "Synthesizer (SDV - SingleTable): Fitting GaussianCopula.\n"
     ]
    },
    {
     "name": "stderr",
     "output_type": "stream",
     "text": [
      "d:\\Dropbox\\89_other_application\\GitHub\\PETsARD\\.venv\\lib\\site-packages\\sdv\\single_table\\base.py:79: UserWarning: We strongly recommend saving the metadata using 'save_to_json' for replicability in future SDV versions.\n",
      "  warnings.warn(\n"
     ]
    },
    {
     "name": "stdout",
     "output_type": "stream",
     "text": [
      "Synthesizer (SDV - SingleTable): Fitting  GaussianCopula spent 8.8087 sec.\n",
      "Synthesizer (SDV - SingleTable): Sampling GaussianCopula # 26933 rows (same as raw) in 1.8816 sec.\n",
      "Now is Postprocessor with demo...\n",
      "Now is Evaluator with custom...\n",
      "Now is Reporter with save_report_global...\n",
      "Now is User Story B-2[Report]_custom_[global] save to csv...\n",
      "Now is Reporter with save_report_columnwise...\n",
      "Now is User Story B-2[Report]_custom_[columnwise] save to csv...\n",
      "Now is Reporter with save_report_pairwise...\n",
      "Now is User Story B-2[Report]_custom_[pairwise] save to csv...\n",
      "\n",
      "\n",
      "Here's the result...\n",
      "\n",
      "{'Loader[adult]_Preprocessor[demo]_Synthesizer[demo]_Postprocessor[demo]_Evaluator[custom]_Reporter[save_report_global]': {'custom_[global]':                                            full_expt_name  score\n",
      "result  Loader[adult]_Preprocessor[demo]_Synthesizer[d...    100},\n",
      " 'Loader[adult]_Preprocessor[demo]_Synthesizer[demo]_Postprocessor[demo]_Evaluator[custom]_Reporter[save_report_columnwise]': {'custom_[columnwise]':                                        full_expt_name           column  score\n",
      "0   Loader[adult]_Preprocessor[demo]_Synthesizer[d...              age    100\n",
      "1   Loader[adult]_Preprocessor[demo]_Synthesizer[d...        workclass    100\n",
      "2   Loader[adult]_Preprocessor[demo]_Synthesizer[d...           fnlwgt    100\n",
      "3   Loader[adult]_Preprocessor[demo]_Synthesizer[d...        education    100\n",
      "4   Loader[adult]_Preprocessor[demo]_Synthesizer[d...  educational-num    100\n",
      "5   Loader[adult]_Preprocessor[demo]_Synthesizer[d...   marital-status    100\n",
      "6   Loader[adult]_Preprocessor[demo]_Synthesizer[d...       occupation    100\n",
      "7   Loader[adult]_Preprocessor[demo]_Synthesizer[d...     relationship    100\n",
      "8   Loader[adult]_Preprocessor[demo]_Synthesizer[d...             race    100\n",
      "9   Loader[adult]_Preprocessor[demo]_Synthesizer[d...           gender    100\n",
      "10  Loader[adult]_Preprocessor[demo]_Synthesizer[d...     capital-gain    100\n",
      "11  Loader[adult]_Preprocessor[demo]_Synthesizer[d...     capital-loss    100\n",
      "12  Loader[adult]_Preprocessor[demo]_Synthesizer[d...   hours-per-week    100\n",
      "13  Loader[adult]_Preprocessor[demo]_Synthesizer[d...   native-country    100\n",
      "14  Loader[adult]_Preprocessor[demo]_Synthesizer[d...           income    100},\n",
      " 'Loader[adult]_Preprocessor[demo]_Synthesizer[demo]_Postprocessor[demo]_Evaluator[custom]_Reporter[save_report_pairwise]': {'custom_[pairwise]':                                         full_expt_name    column1  \\\n",
      "0    Loader[adult]_Preprocessor[demo]_Synthesizer[d...        age   \n",
      "1    Loader[adult]_Preprocessor[demo]_Synthesizer[d...  workclass   \n",
      "2    Loader[adult]_Preprocessor[demo]_Synthesizer[d...  workclass   \n",
      "3    Loader[adult]_Preprocessor[demo]_Synthesizer[d...     fnlwgt   \n",
      "4    Loader[adult]_Preprocessor[demo]_Synthesizer[d...     fnlwgt   \n",
      "..                                                 ...        ...   \n",
      "115  Loader[adult]_Preprocessor[demo]_Synthesizer[d...     income   \n",
      "116  Loader[adult]_Preprocessor[demo]_Synthesizer[d...     income   \n",
      "117  Loader[adult]_Preprocessor[demo]_Synthesizer[d...     income   \n",
      "118  Loader[adult]_Preprocessor[demo]_Synthesizer[d...     income   \n",
      "119  Loader[adult]_Preprocessor[demo]_Synthesizer[d...     income   \n",
      "\n",
      "            column2  score  \n",
      "0               age    100  \n",
      "1               age    100  \n",
      "2         workclass    100  \n",
      "3               age    100  \n",
      "4         workclass    100  \n",
      "..              ...    ...  \n",
      "115    capital-gain    100  \n",
      "116    capital-loss    100  \n",
      "117  hours-per-week    100  \n",
      "118  native-country    100  \n",
      "119          income    100  \n",
      "\n",
      "[120 rows x 4 columns]}}\n"
     ]
    }
   ],
   "source": [
    "config_file = '../yaml/User Story B-2.yaml'\n",
    "\n",
    "Demo_UserStory(config_file = config_file)"
   ]
  }
 ],
 "metadata": {
  "kernelspec": {
   "display_name": ".venv",
   "language": "python",
   "name": "python3"
  },
  "language_info": {
   "codemirror_mode": {
    "name": "ipython",
    "version": 3
   },
   "file_extension": ".py",
   "mimetype": "text/x-python",
   "name": "python",
   "nbconvert_exporter": "python",
   "pygments_lexer": "ipython3",
   "version": "3.10.11"
  }
 },
 "nbformat": 4,
 "nbformat_minor": 2
}
