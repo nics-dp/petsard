{
 "cells": [
  {
   "cell_type": "code",
   "execution_count": 1,
   "metadata": {},
   "outputs": [
    {
     "name": "stdout",
     "output_type": "stream",
     "text": [
      "Requirement already satisfied: sdv<=1.7 in c:\\program files\\python312\\lib\\site-packages (from -r ../PETsARD/requirements.txt (line 4)) (0.0.0)\n"
     ]
    },
    {
     "name": "stderr",
     "output_type": "stream",
     "text": [
      "ERROR: Ignored the following versions that require a different python version: 0.0.1 Requires-Python >=3.5,<3.8; 0.0.1.dev0 Requires-Python >=3.5,<3.8; 0.0.1.dev1 Requires-Python >=3.5,<3.8; 0.0.1.dev2 Requires-Python >=3.5,<3.8; 0.0.2 Requires-Python >=3.5,<3.9; 0.0.2.dev0 Requires-Python >=3.5,<3.8; 0.0.2.dev1 Requires-Python >=3.5,<3.9; 0.0.3 Requires-Python >=3.6,<3.9; 0.0.3.dev0 Requires-Python >=3.6,<3.9; 0.0.3.dev1 Requires-Python >=3.6,<3.9; 0.0.4 Requires-Python >=3.6,<3.9; 0.0.4.dev0 Requires-Python >=3.6,<3.9; 0.1.0 Requires-Python >=3.6,<3.9; 0.1.0.dev0 Requires-Python >=3.6,<3.9; 0.1.0.dev1 Requires-Python >=3.6,<3.9; 0.1.0.dev2 Requires-Python >=3.6,<3.9; 0.1.1 Requires-Python >=3.6,<3.9; 0.1.1.dev0 Requires-Python >=3.6,<3.9; 0.1.2 Requires-Python >=3.6,<3.9; 0.1.2.dev0 Requires-Python >=3.6,<3.9; 0.1.2.dev1 Requires-Python >=3.6,<3.9; 0.1.2.dev2 Requires-Python >=3.6,<3.9; 0.1.3 Requires-Python >=3.6,<3.9; 0.1.3.dev0 Requires-Python >=3.6,<3.9; 0.10.0 Requires-Python >=3.7,<3.11; 0.10.0.dev0 Requires-Python >=3.7,<3.11; 0.10.0.dev1 Requires-Python >=3.7,<3.11; 0.10.0.dev2 Requires-Python >=3.7,<3.11; 0.10.1 Requires-Python >=3.7,<3.11; 0.10.1.dev0 Requires-Python >=3.7,<3.11; 0.11.0 Requires-Python >=3.8,<3.12; 0.11.0.dev0 Requires-Python >=3.8,<3.12; 0.11.1 Requires-Python >=3.8,<3.12; 0.11.1.dev0 Requires-Python >=3.8,<3.12; 0.12.0 Requires-Python >=3.8,<3.12; 0.12.0.dev0 Requires-Python >=3.8,<3.12; 0.12.1 Requires-Python >=3.8,<3.12; 0.12.1.dev0 Requires-Python >=3.8,<3.12; 0.13.0 Requires-Python >=3.8,<3.12; 0.13.0.dev0 Requires-Python >=3.8,<3.12; 0.2.0 Requires-Python >=3.6,<3.9; 0.2.0.dev0 Requires-Python >=3.6,<3.9; 0.2.1.dev0 Requires-Python >=3.6,<3.9; 0.3.0 Requires-Python >=3.6,<3.9; 0.3.0.dev0 Requires-Python >=3.6,<3.9; 0.3.0.dev1 Requires-Python >=3.6,<3.9; 0.3.1 Requires-Python >=3.6,<3.9; 0.3.1.dev0 Requires-Python >=3.6,<3.9; 0.3.1.dev1 Requires-Python >=3.6,<3.9; 0.3.2 Requires-Python >=3.6,<3.9; 0.3.2.dev0 Requires-Python >=3.6,<3.9; 0.3.2.dev1 Requires-Python >=3.6,<3.9; 0.3.3.dev0 Requires-Python >=3.6,<3.9; 0.4.0 Requires-Python >=3.6,<3.10; 0.4.0.dev0 Requires-Python >=3.6,<3.10; 0.4.1 Requires-Python >=3.6,<3.10; 0.4.1.dev0 Requires-Python >=3.6,<3.10; 0.4.2 Requires-Python >=3.6,<3.10; 0.4.2.dev0 Requires-Python >=3.6,<3.10; 0.5.0 Requires-Python >=3.6,<3.10; 0.5.0.dev0 Requires-Python >=3.6,<3.10; 0.5.1.dev0 Requires-Python >=3.6,<3.10; 0.6.0 Requires-Python >=3.6,<3.10; 0.6.0.dev0 Requires-Python >=3.6,<3.10; 0.6.0.dev1 Requires-Python >=3.6,<3.10; 0.7.0 Requires-Python >=3.6,<3.10; 0.7.0.dev0 Requires-Python >=3.6,<3.10; 0.8.0 Requires-Python >=3.6,<3.10; 0.8.0.dev0 Requires-Python >=3.6,<3.10; 0.8.1 Requires-Python >=3.6,<3.10; 0.8.1.dev0 Requires-Python >=3.6,<3.10; 0.9.0 Requires-Python >=3.7,<3.11; 0.9.0.dev0 Requires-Python >=3.7,<3.11; 0.9.1 Requires-Python >=3.7,<3.11; 0.9.1.dev0 Requires-Python >=3.7,<3.11; 0.9.2 Requires-Python >=3.7,<3.11; 0.9.2.dev0 Requires-Python >=3.7,<3.11; 0.9.3 Requires-Python >=3.7,<3.11; 0.9.3.dev0 Requires-Python >=3.7,<3.11\n",
      "ERROR: Could not find a version that satisfies the requirement sdmetrics==0.13 (from versions: 0.0.0)\n",
      "ERROR: No matching distribution found for sdmetrics==0.13\n"
     ]
    }
   ],
   "source": [
    "import os\n",
    "import sys\n",
    "\n",
    "sys.path.append('D:\\\\Dropbox\\\\89_其他應用\\\\GitHub\\\\PETsARD')\n",
    "os.chdir('D:\\\\Dropbox\\\\89_其他應用\\\\GitHub\\\\PETsARD\\\\demo')\n",
    "# sys.path.append('/home/ec2-user/SageMaker/PETs-Experiment')\n",
    "# os.chdir('/home/ec2-user/SageMaker/PETs-Experiment/demo')\n",
    "!pip install -r ../PETsARD/requirements.txt\n",
    "\n",
    "import PETsARD"
   ]
  },
  {
   "cell_type": "code",
   "execution_count": 2,
   "metadata": {},
   "outputs": [
    {
     "data": {
      "text/plain": [
       "'0.13.0'"
      ]
     },
     "execution_count": 2,
     "metadata": {},
     "output_type": "execute_result"
    }
   ],
   "source": [
    "import sdmetrics\n",
    "sdmetrics.__version__"
   ]
  },
  {
   "cell_type": "code",
   "execution_count": 3,
   "metadata": {},
   "outputs": [
    {
     "name": "stdout",
     "output_type": "stream",
     "text": [
      "Preprocessor - Outlierist (IQR): Dropped   214 rows on age            . Kept [-0.5, 75.5] only.\n",
      "Preprocessor - Outlierist (IQR): Dropped  3044 rows on capital-gain   . Kept [0.0, 0.0] only.\n",
      "Preprocessor - Outlierist (IQR): Dropped  1739 rows on capital-loss   . Kept [0.0, 0.0] only.\n",
      "Preprocessor - Outlierist (IQR): Dropped   235 rows on educational-num. Kept [3.0, 19.0] only.\n",
      "Preprocessor - Outlierist (IQR): Dropped  1041 rows on fnlwgt         . Kept [-64226.75, 420619.25] only.\n",
      "Preprocessor - Outlierist (IQR): Totally Dropped  6058 in 36178 rows.\n",
      "Preprocessor - Encoder (Label): Column income          been labelized from 0 to  1.\n",
      "Preprocessor - Encoder (Label): Column workclass       been labelized from 0 to  6.\n",
      "Preprocessor - Encoder (Label): Column marital-status  been labelized from 0 to  6.\n",
      "Preprocessor - Encoder (Label): Column gender          been labelized from 0 to  1.\n",
      "Preprocessor - Encoder (Label): Column race            been labelized from 0 to  4.\n",
      "Preprocessor - Encoder (Label): Column relationship    been labelized from 0 to  5.\n",
      "Preprocessor - Encoder (Label): Column education       been labelized from 0 to 13.\n",
      "Preprocessor - Encoder (Label): Column native-country  been labelized from 0 to 39.\n",
      "Preprocessor - Encoder (Label): Column occupation      been labelized from 0 to 13.\n",
      "Preprocessor - Scaler (Standard): Column fnlwgt been standardized.\n",
      "Synthesizer (SDV - SingleTable): Metafile loading time: 0.0287 sec.\n",
      "Synthesizer (SDV - SingleTable): Fitting  GaussianCoupula.\n",
      "Synthesizer (SDV - SingleTable): Fitting  GaussianCoupula spent 19.4647 sec.\n",
      "Synthesizer (SDV - SingleTable): Sampling GaussianCoupula # 30120 rows (same as raw) in 1.4198 sec.\n",
      "Postprocessor - Scaler (StandardScaler): Decoding fnlwgt.\n",
      "Postprocessor - Encoder (LabelEncoder): Decoding income.\n",
      "Postprocessor - Encoder (LabelEncoder): Decoding workclass.\n",
      "Postprocessor - Encoder (LabelEncoder): Decoding marital-status.\n",
      "Postprocessor - Encoder (LabelEncoder): Decoding gender.\n",
      "Postprocessor - Encoder (LabelEncoder): Decoding race.\n",
      "Postprocessor - Encoder (LabelEncoder): Decoding relationship.\n",
      "Postprocessor - Encoder (LabelEncoder): Decoding education.\n",
      "Postprocessor - Encoder (LabelEncoder): Decoding native-country.\n",
      "Postprocessor - Encoder (LabelEncoder): Decoding occupation.\n",
      "Postprocessor - Missingist (<PETsARD.Preprocessor.Missingist_Drop.Missingist_Drop object at 0x000001B1075B5D20>): Decoding hours-per-week.\n",
      "Postprocessor - Missingist (<PETsARD.Preprocessor.Missingist_Drop.Missingist_Drop object at 0x000001B1075B5FC0>): Decoding income.\n",
      "Postprocessor - Missingist (<PETsARD.Preprocessor.Missingist_Drop.Missingist_Drop object at 0x000001B1075B6170>): Decoding age.\n",
      "Postprocessor - Missingist (<PETsARD.Preprocessor.Missingist_Drop.Missingist_Drop object at 0x000001B1075B6320>): Decoding workclass.\n",
      "Postprocessor - Missingist (<PETsARD.Preprocessor.Missingist_Drop.Missingist_Drop object at 0x000001B1075B64D0>): Decoding marital-status.\n",
      "Postprocessor - Missingist (<PETsARD.Preprocessor.Missingist_Drop.Missingist_Drop object at 0x000001B1075B6680>): Decoding gender.\n",
      "Postprocessor - Missingist (<PETsARD.Preprocessor.Missingist_Drop.Missingist_Drop object at 0x000001B1075B6830>): Decoding race.\n",
      "Postprocessor - Missingist (<PETsARD.Preprocessor.Missingist_Drop.Missingist_Drop object at 0x000001B1075B69E0>): Decoding capital-gain.\n",
      "Postprocessor - Missingist (<PETsARD.Preprocessor.Missingist_Drop.Missingist_Drop object at 0x000001B1075B6B90>): Decoding relationship.\n",
      "Postprocessor - Missingist (<PETsARD.Preprocessor.Missingist_Drop.Missingist_Drop object at 0x000001B1075B6D40>): Decoding education.\n",
      "Postprocessor - Missingist (<PETsARD.Preprocessor.Missingist_Drop.Missingist_Drop object at 0x000001B1075B6EF0>): Decoding native-country.\n",
      "Postprocessor - Missingist (<PETsARD.Preprocessor.Missingist_Drop.Missingist_Drop object at 0x000001B1075B70A0>): Decoding capital-loss.\n",
      "Postprocessor - Missingist (<PETsARD.Preprocessor.Missingist_Drop.Missingist_Drop object at 0x000001B1075B7250>): Decoding educational-num.\n",
      "Postprocessor - Missingist (<PETsARD.Preprocessor.Missingist_Drop.Missingist_Drop object at 0x000001B1075B7400>): Decoding occupation.\n",
      "Postprocessor - Missingist (<PETsARD.Preprocessor.Missingist_Drop.Missingist_Drop object at 0x000001B1075B75B0>): Decoding fnlwgt.\n"
     ]
    },
    {
     "data": {
      "text/html": [
       "<div>\n",
       "<style scoped>\n",
       "    .dataframe tbody tr th:only-of-type {\n",
       "        vertical-align: middle;\n",
       "    }\n",
       "\n",
       "    .dataframe tbody tr th {\n",
       "        vertical-align: top;\n",
       "    }\n",
       "\n",
       "    .dataframe thead th {\n",
       "        text-align: right;\n",
       "    }\n",
       "</style>\n",
       "<table border=\"1\" class=\"dataframe\">\n",
       "  <thead>\n",
       "    <tr style=\"text-align: right;\">\n",
       "      <th></th>\n",
       "      <th>age</th>\n",
       "      <th>workclass</th>\n",
       "      <th>fnlwgt</th>\n",
       "      <th>education</th>\n",
       "      <th>educational-num</th>\n",
       "      <th>marital-status</th>\n",
       "      <th>occupation</th>\n",
       "      <th>relationship</th>\n",
       "      <th>race</th>\n",
       "      <th>gender</th>\n",
       "      <th>capital-gain</th>\n",
       "      <th>capital-loss</th>\n",
       "      <th>hours-per-week</th>\n",
       "      <th>native-country</th>\n",
       "      <th>income</th>\n",
       "    </tr>\n",
       "  </thead>\n",
       "  <tbody>\n",
       "    <tr>\n",
       "      <th>0</th>\n",
       "      <td>60.0</td>\n",
       "      <td>Private</td>\n",
       "      <td>202502.285408</td>\n",
       "      <td>Doctorate</td>\n",
       "      <td>10.0</td>\n",
       "      <td>Divorced</td>\n",
       "      <td>Priv-house-serv</td>\n",
       "      <td>Not-in-family</td>\n",
       "      <td>White</td>\n",
       "      <td>Male</td>\n",
       "      <td>0.0</td>\n",
       "      <td>0.0</td>\n",
       "      <td>40.0</td>\n",
       "      <td>Yugoslavia</td>\n",
       "      <td>&lt;=50K</td>\n",
       "    </tr>\n",
       "    <tr>\n",
       "      <th>1</th>\n",
       "      <td>21.0</td>\n",
       "      <td>Private</td>\n",
       "      <td>142509.128124</td>\n",
       "      <td>Prof-school</td>\n",
       "      <td>10.0</td>\n",
       "      <td>Married-civ-spouse</td>\n",
       "      <td>Transport-moving</td>\n",
       "      <td>Not-in-family</td>\n",
       "      <td>White</td>\n",
       "      <td>Male</td>\n",
       "      <td>0.0</td>\n",
       "      <td>0.0</td>\n",
       "      <td>55.0</td>\n",
       "      <td>Vietnam</td>\n",
       "      <td>&lt;=50K</td>\n",
       "    </tr>\n",
       "    <tr>\n",
       "      <th>2</th>\n",
       "      <td>27.0</td>\n",
       "      <td>Private</td>\n",
       "      <td>46194.976976</td>\n",
       "      <td>Bachelors</td>\n",
       "      <td>8.0</td>\n",
       "      <td>Never-married</td>\n",
       "      <td>Sales</td>\n",
       "      <td>Own-child</td>\n",
       "      <td>White</td>\n",
       "      <td>Female</td>\n",
       "      <td>0.0</td>\n",
       "      <td>0.0</td>\n",
       "      <td>34.0</td>\n",
       "      <td>Outlying-US(Guam-USVI-etc)</td>\n",
       "      <td>&lt;=50K</td>\n",
       "    </tr>\n",
       "    <tr>\n",
       "      <th>3</th>\n",
       "      <td>54.0</td>\n",
       "      <td>Private</td>\n",
       "      <td>226876.364196</td>\n",
       "      <td>Doctorate</td>\n",
       "      <td>11.0</td>\n",
       "      <td>Married-civ-spouse</td>\n",
       "      <td>Handlers-cleaners</td>\n",
       "      <td>Own-child</td>\n",
       "      <td>White</td>\n",
       "      <td>Male</td>\n",
       "      <td>0.0</td>\n",
       "      <td>0.0</td>\n",
       "      <td>46.0</td>\n",
       "      <td>Vietnam</td>\n",
       "      <td>&lt;=50K</td>\n",
       "    </tr>\n",
       "    <tr>\n",
       "      <th>4</th>\n",
       "      <td>39.0</td>\n",
       "      <td>Private</td>\n",
       "      <td>224619.275947</td>\n",
       "      <td>Prof-school</td>\n",
       "      <td>8.0</td>\n",
       "      <td>Never-married</td>\n",
       "      <td>Armed-Forces</td>\n",
       "      <td>Wife</td>\n",
       "      <td>White</td>\n",
       "      <td>Female</td>\n",
       "      <td>0.0</td>\n",
       "      <td>0.0</td>\n",
       "      <td>44.0</td>\n",
       "      <td>Laos</td>\n",
       "      <td>&lt;=50K</td>\n",
       "    </tr>\n",
       "    <tr>\n",
       "      <th>5</th>\n",
       "      <td>48.0</td>\n",
       "      <td>Self-emp-not-inc</td>\n",
       "      <td>194175.841062</td>\n",
       "      <td>Assoc-acdm</td>\n",
       "      <td>13.0</td>\n",
       "      <td>Married-civ-spouse</td>\n",
       "      <td>Handlers-cleaners</td>\n",
       "      <td>Husband</td>\n",
       "      <td>White</td>\n",
       "      <td>Male</td>\n",
       "      <td>0.0</td>\n",
       "      <td>0.0</td>\n",
       "      <td>45.0</td>\n",
       "      <td>South</td>\n",
       "      <td>&gt;50K</td>\n",
       "    </tr>\n",
       "  </tbody>\n",
       "</table>\n",
       "</div>"
      ],
      "text/plain": [
       "    age         workclass         fnlwgt    education  educational-num  \\\n",
       "0  60.0           Private  202502.285408    Doctorate             10.0   \n",
       "1  21.0           Private  142509.128124  Prof-school             10.0   \n",
       "2  27.0           Private   46194.976976    Bachelors              8.0   \n",
       "3  54.0           Private  226876.364196    Doctorate             11.0   \n",
       "4  39.0           Private  224619.275947  Prof-school              8.0   \n",
       "5  48.0  Self-emp-not-inc  194175.841062   Assoc-acdm             13.0   \n",
       "\n",
       "       marital-status         occupation   relationship   race  gender  \\\n",
       "0            Divorced    Priv-house-serv  Not-in-family  White    Male   \n",
       "1  Married-civ-spouse   Transport-moving  Not-in-family  White    Male   \n",
       "2       Never-married              Sales      Own-child  White  Female   \n",
       "3  Married-civ-spouse  Handlers-cleaners      Own-child  White    Male   \n",
       "4       Never-married       Armed-Forces           Wife  White  Female   \n",
       "5  Married-civ-spouse  Handlers-cleaners        Husband  White    Male   \n",
       "\n",
       "   capital-gain  capital-loss  hours-per-week              native-country  \\\n",
       "0           0.0           0.0            40.0                  Yugoslavia   \n",
       "1           0.0           0.0            55.0                     Vietnam   \n",
       "2           0.0           0.0            34.0  Outlying-US(Guam-USVI-etc)   \n",
       "3           0.0           0.0            46.0                     Vietnam   \n",
       "4           0.0           0.0            44.0                        Laos   \n",
       "5           0.0           0.0            45.0                       South   \n",
       "\n",
       "  income  \n",
       "0  <=50K  \n",
       "1  <=50K  \n",
       "2  <=50K  \n",
       "3  <=50K  \n",
       "4  <=50K  \n",
       "5   >50K  "
      ]
     },
     "execution_count": 3,
     "metadata": {},
     "output_type": "execute_result"
    }
   ],
   "source": [
    "loader = PETsARD.Loader(\n",
    "    filepath='../[sunset]/data/[Adt Income] adult.csv',\n",
    "    na_values={k: '?' for k in [\n",
    "        'workclass',\n",
    "        'occupation',\n",
    "        'native-country'\n",
    "    ]\n",
    "    }\n",
    ")\n",
    "\n",
    "splitter = PETsARD.Splitter(\n",
    "    data=loader.data,\n",
    "    num_samples=30,\n",
    "    train_split_ratio=0.8\n",
    ")\n",
    "\n",
    "preproc = PETsARD.Preprocessor(\n",
    "    data=splitter.data[1]['train'],\n",
    "    missing=True,\n",
    "    missing_method='drop',\n",
    "    missing_columns=None,\n",
    "    outlier=True,\n",
    "    outlier_method='IQR',\n",
    "    outlier_columns={'ignore': ['hours-per-week']},\n",
    "    encoding=True,\n",
    "    encoding_method='Label',\n",
    "    encoding_columns=None,\n",
    "    scaling=True,\n",
    "    scaling_method='Standard',\n",
    "    scaling_columns={'focus': 'fnlwgt'}\n",
    ")\n",
    "\n",
    "synthesizer = PETsARD.Synthesizer(\n",
    "    data=preproc.data,\n",
    "    synthesizing_method='sdv-singletable-gaussiancoupula'\n",
    ")\n",
    "synthesizer.fit_sample()\n",
    "\n",
    "postproc = PETsARD.Postprocessor(\n",
    "    data=synthesizer.data_syn,\n",
    "    missingist = getattr(preproc ,'missingist' ,None),\n",
    "    encoder=getattr(preproc, 'encoder', None),\n",
    "    scaler=getattr(preproc, 'scaler', None)\n",
    ")\n",
    "\n",
    "postproc.data.head(6)"
   ]
  },
  {
   "cell_type": "code",
   "execution_count": 4,
   "metadata": {},
   "outputs": [
    {
     "name": "stdout",
     "output_type": "stream",
     "text": [
      "{'METADATA_SPEC_VERSION': 'SINGLE_TABLE_V1',\n",
      " 'columns': {'age': {'sdtype': 'numerical'},\n",
      "             'capital-gain': {'sdtype': 'numerical'},\n",
      "             'capital-loss': {'sdtype': 'numerical'},\n",
      "             'education': {'sdtype': 'categorical'},\n",
      "             'educational-num': {'sdtype': 'numerical'},\n",
      "             'fnlwgt': {'sdtype': 'numerical'},\n",
      "             'gender': {'sdtype': 'categorical'},\n",
      "             'hours-per-week': {'sdtype': 'numerical'},\n",
      "             'income': {'sdtype': 'categorical'},\n",
      "             'marital-status': {'sdtype': 'categorical'},\n",
      "             'native-country': {'sdtype': 'categorical'},\n",
      "             'occupation': {'sdtype': 'categorical'},\n",
      "             'race': {'sdtype': 'categorical'},\n",
      "             'relationship': {'sdtype': 'categorical'},\n",
      "             'workclass': {'sdtype': 'categorical'}}}\n"
     ]
    }
   ],
   "source": [
    "# https://docs.sdv.dev/sdmetrics/\n",
    "# https://github.com/sdv-dev/SDMetrics\n",
    "from sdv.metadata import SingleTableMetadata\n",
    "import pprint\n",
    "\n",
    "real_data_metadata = SingleTableMetadata()\n",
    "real_data_metadata.detect_from_dataframe(splitter.data[1]['train'])\n",
    "real_data_metadata = real_data_metadata.to_dict()\n",
    "\n",
    "pprint.pprint(real_data_metadata)\n"
   ]
  },
  {
   "cell_type": "code",
   "execution_count": 5,
   "metadata": {},
   "outputs": [
    {
     "name": "stdout",
     "output_type": "stream",
     "text": [
      "Generating report ...\n",
      "(1/2) Evaluating Column Shapes: :   0%|          | 0/15 [00:00<?, ?it/s]"
     ]
    },
    {
     "name": "stdout",
     "output_type": "stream",
     "text": [
      "(1/2) Evaluating Column Shapes: : 100%|██████████| 15/15 [00:00<00:00, 64.55it/s]\n",
      "(2/2) Evaluating Column Pair Trends: : 100%|██████████| 105/105 [00:05<00:00, 19.68it/s]\n",
      "\n",
      "Overall Score: 66.48%\n",
      "\n",
      "Properties:\n",
      "- Column Shapes: 84.58%\n",
      "- Column Pair Trends: 48.39%\n",
      "\n",
      "\n",
      "\n",
      "get_score: 0.6648355465503876\n",
      "\n",
      "\n",
      "\n",
      "             Property     Score\n",
      "0       Column Shapes  0.845816\n",
      "1  Column Pair Trends  0.483855\n",
      "\n",
      "\n",
      "\n",
      "             Column        Metric     Score\n",
      "0               age  KSComplement  0.969232\n",
      "1         workclass  TVComplement  0.991412\n",
      "2            fnlwgt  KSComplement  0.952049\n",
      "3         education  TVComplement  0.551716\n",
      "4   educational-num  KSComplement  0.867366\n",
      "5    marital-status  TVComplement  0.973451\n",
      "6        occupation  TVComplement  0.650569\n",
      "7      relationship  TVComplement  0.967256\n",
      "8              race  TVComplement  0.997181\n",
      "9            gender  TVComplement  0.989833\n",
      "10     capital-gain  KSComplement  0.917053\n",
      "11     capital-loss  KSComplement  0.952576\n",
      "12   hours-per-week  KSComplement  0.772887\n",
      "13   native-country  TVComplement  0.176361\n",
      "14           income  TVComplement  0.958303\n",
      "\n",
      "\n",
      "\n",
      "           Column 1         Column 2                 Metric     Score  \\\n",
      "0               age        workclass  ContingencySimilarity  0.847259   \n",
      "1               age           fnlwgt  CorrelationSimilarity  0.990649   \n",
      "2               age        education  ContingencySimilarity  0.512598   \n",
      "3               age  educational-num  CorrelationSimilarity  0.973900   \n",
      "4               age   marital-status  ContingencySimilarity  0.770501   \n",
      "..              ...              ...                    ...       ...   \n",
      "100    capital-loss   native-country  ContingencySimilarity  0.006014   \n",
      "101    capital-loss           income  ContingencySimilarity  0.006168   \n",
      "102  hours-per-week   native-country  ContingencySimilarity  0.178981   \n",
      "103  hours-per-week           income  ContingencySimilarity  0.614526   \n",
      "104  native-country           income  ContingencySimilarity  0.188416   \n",
      "\n",
      "     Real Correlation  Synthetic Correlation Error  \n",
      "0                 NaN                    NaN  None  \n",
      "1           -0.076479              -0.057777  None  \n",
      "2                 NaN                    NaN  None  \n",
      "3            0.030913               0.083113  None  \n",
      "4                 NaN                    NaN  None  \n",
      "..                ...                    ...   ...  \n",
      "100               NaN                    NaN  None  \n",
      "101               NaN                    NaN  None  \n",
      "102               NaN                    NaN  None  \n",
      "103               NaN                    NaN  None  \n",
      "104               NaN                    NaN  None  \n",
      "\n",
      "[105 rows x 7 columns]\n"
     ]
    }
   ],
   "source": [
    "from sdmetrics.reports.single_table import QualityReport\n",
    "\n",
    "qlt_report = QualityReport()\n",
    "qlt_report.generate(\n",
    "    real_data = splitter.data[1]['train'],\n",
    "    synthetic_data = postproc.data,\n",
    "    metadata = real_data_metadata\n",
    ")\n",
    "print(f\"\\n\\n\")\n",
    "print(f\"get_score: {qlt_report.get_score()}\")\n",
    "print(f\"\\n\\n\")\n",
    "print(qlt_report.get_properties())\n",
    "print(f\"\\n\\n\")\n",
    "print(qlt_report.get_details(property_name='Column Shapes'))\n",
    "print(f\"\\n\\n\")\n",
    "print(qlt_report.get_details(property_name='Column Pair Trends'))"
   ]
  },
  {
   "cell_type": "code",
   "execution_count": 14,
   "metadata": {},
   "outputs": [
    {
     "data": {
      "application/vnd.plotly.v1+json": {
       "config": {
        "plotlyServerURL": "https://plot.ly"
       },
       "data": [
        {
         "alignmentgroup": "True",
         "customdata": [
          [
           "KSComplement"
          ],
          [
           "KSComplement"
          ],
          [
           "KSComplement"
          ],
          [
           "KSComplement"
          ],
          [
           "KSComplement"
          ],
          [
           "KSComplement"
          ]
         ],
         "hovertemplate": "<b>%{hovertext}</b><br><br>Metric=%{customdata[0]}<br>Score=%{y}<extra></extra>",
         "hovertext": [
          "age",
          "fnlwgt",
          "educational-num",
          "capital-gain",
          "capital-loss",
          "hours-per-week"
         ],
         "legendgroup": "KSComplement",
         "marker": {
          "color": "#000036",
          "pattern": {
           "shape": ""
          }
         },
         "name": "KSComplement",
         "offsetgroup": "KSComplement",
         "orientation": "v",
         "showlegend": true,
         "textposition": "auto",
         "type": "bar",
         "x": [
          "age",
          "fnlwgt",
          "educational-num",
          "capital-gain",
          "capital-loss",
          "hours-per-week"
         ],
         "xaxis": "x",
         "y": [
          0.9691656074223347,
          0.9481997411041614,
          0.8667045582682908,
          0.9167455787884217,
          0.9530622168761037,
          0.7659254512589305
         ],
         "yaxis": "y"
        },
        {
         "alignmentgroup": "True",
         "customdata": [
          [
           "TVComplement"
          ],
          [
           "TVComplement"
          ],
          [
           "TVComplement"
          ],
          [
           "TVComplement"
          ],
          [
           "TVComplement"
          ],
          [
           "TVComplement"
          ],
          [
           "TVComplement"
          ],
          [
           "TVComplement"
          ],
          [
           "TVComplement"
          ]
         ],
         "hovertemplate": "<b>%{hovertext}</b><br><br>Metric=%{customdata[0]}<br>Score=%{y}<extra></extra>",
         "hovertext": [
          "workclass",
          "education",
          "marital-status",
          "occupation",
          "relationship",
          "race",
          "gender",
          "native-country",
          "income"
         ],
         "legendgroup": "TVComplement",
         "marker": {
          "color": "#03AFF1",
          "pattern": {
           "shape": "/"
          }
         },
         "name": "TVComplement",
         "offsetgroup": "TVComplement",
         "orientation": "v",
         "showlegend": true,
         "textposition": "auto",
         "type": "bar",
         "x": [
          "workclass",
          "education",
          "marital-status",
          "occupation",
          "relationship",
          "race",
          "gender",
          "native-country",
          "income"
         ],
         "xaxis": "x",
         "y": [
          0.9905725177869826,
          0.5470807030248337,
          0.9754304841900285,
          0.670960380572672,
          0.9810172275625769,
          0.9968834329953881,
          0.9841279165624214,
          0.18343128036183187,
          0.9564952484024889
         ],
         "yaxis": "y"
        }
       ],
       "layout": {
        "barmode": "relative",
        "font": {
         "size": 18
        },
        "legend": {
         "title": {
          "text": "Metric"
         },
         "tracegroupgap": 0
        },
        "margin": {
         "t": 150
        },
        "plot_bgcolor": "#F5F5F8",
        "template": {
         "data": {
          "bar": [
           {
            "error_x": {
             "color": "#2a3f5f"
            },
            "error_y": {
             "color": "#2a3f5f"
            },
            "marker": {
             "line": {
              "color": "#E5ECF6",
              "width": 0.5
             },
             "pattern": {
              "fillmode": "overlay",
              "size": 10,
              "solidity": 0.2
             }
            },
            "type": "bar"
           }
          ],
          "barpolar": [
           {
            "marker": {
             "line": {
              "color": "#E5ECF6",
              "width": 0.5
             },
             "pattern": {
              "fillmode": "overlay",
              "size": 10,
              "solidity": 0.2
             }
            },
            "type": "barpolar"
           }
          ],
          "carpet": [
           {
            "aaxis": {
             "endlinecolor": "#2a3f5f",
             "gridcolor": "white",
             "linecolor": "white",
             "minorgridcolor": "white",
             "startlinecolor": "#2a3f5f"
            },
            "baxis": {
             "endlinecolor": "#2a3f5f",
             "gridcolor": "white",
             "linecolor": "white",
             "minorgridcolor": "white",
             "startlinecolor": "#2a3f5f"
            },
            "type": "carpet"
           }
          ],
          "choropleth": [
           {
            "colorbar": {
             "outlinewidth": 0,
             "ticks": ""
            },
            "type": "choropleth"
           }
          ],
          "contour": [
           {
            "colorbar": {
             "outlinewidth": 0,
             "ticks": ""
            },
            "colorscale": [
             [
              0,
              "#0d0887"
             ],
             [
              0.1111111111111111,
              "#46039f"
             ],
             [
              0.2222222222222222,
              "#7201a8"
             ],
             [
              0.3333333333333333,
              "#9c179e"
             ],
             [
              0.4444444444444444,
              "#bd3786"
             ],
             [
              0.5555555555555556,
              "#d8576b"
             ],
             [
              0.6666666666666666,
              "#ed7953"
             ],
             [
              0.7777777777777778,
              "#fb9f3a"
             ],
             [
              0.8888888888888888,
              "#fdca26"
             ],
             [
              1,
              "#f0f921"
             ]
            ],
            "type": "contour"
           }
          ],
          "contourcarpet": [
           {
            "colorbar": {
             "outlinewidth": 0,
             "ticks": ""
            },
            "type": "contourcarpet"
           }
          ],
          "heatmap": [
           {
            "colorbar": {
             "outlinewidth": 0,
             "ticks": ""
            },
            "colorscale": [
             [
              0,
              "#0d0887"
             ],
             [
              0.1111111111111111,
              "#46039f"
             ],
             [
              0.2222222222222222,
              "#7201a8"
             ],
             [
              0.3333333333333333,
              "#9c179e"
             ],
             [
              0.4444444444444444,
              "#bd3786"
             ],
             [
              0.5555555555555556,
              "#d8576b"
             ],
             [
              0.6666666666666666,
              "#ed7953"
             ],
             [
              0.7777777777777778,
              "#fb9f3a"
             ],
             [
              0.8888888888888888,
              "#fdca26"
             ],
             [
              1,
              "#f0f921"
             ]
            ],
            "type": "heatmap"
           }
          ],
          "heatmapgl": [
           {
            "colorbar": {
             "outlinewidth": 0,
             "ticks": ""
            },
            "colorscale": [
             [
              0,
              "#0d0887"
             ],
             [
              0.1111111111111111,
              "#46039f"
             ],
             [
              0.2222222222222222,
              "#7201a8"
             ],
             [
              0.3333333333333333,
              "#9c179e"
             ],
             [
              0.4444444444444444,
              "#bd3786"
             ],
             [
              0.5555555555555556,
              "#d8576b"
             ],
             [
              0.6666666666666666,
              "#ed7953"
             ],
             [
              0.7777777777777778,
              "#fb9f3a"
             ],
             [
              0.8888888888888888,
              "#fdca26"
             ],
             [
              1,
              "#f0f921"
             ]
            ],
            "type": "heatmapgl"
           }
          ],
          "histogram": [
           {
            "marker": {
             "pattern": {
              "fillmode": "overlay",
              "size": 10,
              "solidity": 0.2
             }
            },
            "type": "histogram"
           }
          ],
          "histogram2d": [
           {
            "colorbar": {
             "outlinewidth": 0,
             "ticks": ""
            },
            "colorscale": [
             [
              0,
              "#0d0887"
             ],
             [
              0.1111111111111111,
              "#46039f"
             ],
             [
              0.2222222222222222,
              "#7201a8"
             ],
             [
              0.3333333333333333,
              "#9c179e"
             ],
             [
              0.4444444444444444,
              "#bd3786"
             ],
             [
              0.5555555555555556,
              "#d8576b"
             ],
             [
              0.6666666666666666,
              "#ed7953"
             ],
             [
              0.7777777777777778,
              "#fb9f3a"
             ],
             [
              0.8888888888888888,
              "#fdca26"
             ],
             [
              1,
              "#f0f921"
             ]
            ],
            "type": "histogram2d"
           }
          ],
          "histogram2dcontour": [
           {
            "colorbar": {
             "outlinewidth": 0,
             "ticks": ""
            },
            "colorscale": [
             [
              0,
              "#0d0887"
             ],
             [
              0.1111111111111111,
              "#46039f"
             ],
             [
              0.2222222222222222,
              "#7201a8"
             ],
             [
              0.3333333333333333,
              "#9c179e"
             ],
             [
              0.4444444444444444,
              "#bd3786"
             ],
             [
              0.5555555555555556,
              "#d8576b"
             ],
             [
              0.6666666666666666,
              "#ed7953"
             ],
             [
              0.7777777777777778,
              "#fb9f3a"
             ],
             [
              0.8888888888888888,
              "#fdca26"
             ],
             [
              1,
              "#f0f921"
             ]
            ],
            "type": "histogram2dcontour"
           }
          ],
          "mesh3d": [
           {
            "colorbar": {
             "outlinewidth": 0,
             "ticks": ""
            },
            "type": "mesh3d"
           }
          ],
          "parcoords": [
           {
            "line": {
             "colorbar": {
              "outlinewidth": 0,
              "ticks": ""
             }
            },
            "type": "parcoords"
           }
          ],
          "pie": [
           {
            "automargin": true,
            "type": "pie"
           }
          ],
          "scatter": [
           {
            "fillpattern": {
             "fillmode": "overlay",
             "size": 10,
             "solidity": 0.2
            },
            "type": "scatter"
           }
          ],
          "scatter3d": [
           {
            "line": {
             "colorbar": {
              "outlinewidth": 0,
              "ticks": ""
             }
            },
            "marker": {
             "colorbar": {
              "outlinewidth": 0,
              "ticks": ""
             }
            },
            "type": "scatter3d"
           }
          ],
          "scattercarpet": [
           {
            "marker": {
             "colorbar": {
              "outlinewidth": 0,
              "ticks": ""
             }
            },
            "type": "scattercarpet"
           }
          ],
          "scattergeo": [
           {
            "marker": {
             "colorbar": {
              "outlinewidth": 0,
              "ticks": ""
             }
            },
            "type": "scattergeo"
           }
          ],
          "scattergl": [
           {
            "marker": {
             "colorbar": {
              "outlinewidth": 0,
              "ticks": ""
             }
            },
            "type": "scattergl"
           }
          ],
          "scattermapbox": [
           {
            "marker": {
             "colorbar": {
              "outlinewidth": 0,
              "ticks": ""
             }
            },
            "type": "scattermapbox"
           }
          ],
          "scatterpolar": [
           {
            "marker": {
             "colorbar": {
              "outlinewidth": 0,
              "ticks": ""
             }
            },
            "type": "scatterpolar"
           }
          ],
          "scatterpolargl": [
           {
            "marker": {
             "colorbar": {
              "outlinewidth": 0,
              "ticks": ""
             }
            },
            "type": "scatterpolargl"
           }
          ],
          "scatterternary": [
           {
            "marker": {
             "colorbar": {
              "outlinewidth": 0,
              "ticks": ""
             }
            },
            "type": "scatterternary"
           }
          ],
          "surface": [
           {
            "colorbar": {
             "outlinewidth": 0,
             "ticks": ""
            },
            "colorscale": [
             [
              0,
              "#0d0887"
             ],
             [
              0.1111111111111111,
              "#46039f"
             ],
             [
              0.2222222222222222,
              "#7201a8"
             ],
             [
              0.3333333333333333,
              "#9c179e"
             ],
             [
              0.4444444444444444,
              "#bd3786"
             ],
             [
              0.5555555555555556,
              "#d8576b"
             ],
             [
              0.6666666666666666,
              "#ed7953"
             ],
             [
              0.7777777777777778,
              "#fb9f3a"
             ],
             [
              0.8888888888888888,
              "#fdca26"
             ],
             [
              1,
              "#f0f921"
             ]
            ],
            "type": "surface"
           }
          ],
          "table": [
           {
            "cells": {
             "fill": {
              "color": "#EBF0F8"
             },
             "line": {
              "color": "white"
             }
            },
            "header": {
             "fill": {
              "color": "#C8D4E3"
             },
             "line": {
              "color": "white"
             }
            },
            "type": "table"
           }
          ]
         },
         "layout": {
          "annotationdefaults": {
           "arrowcolor": "#2a3f5f",
           "arrowhead": 0,
           "arrowwidth": 1
          },
          "autotypenumbers": "strict",
          "coloraxis": {
           "colorbar": {
            "outlinewidth": 0,
            "ticks": ""
           }
          },
          "colorscale": {
           "diverging": [
            [
             0,
             "#8e0152"
            ],
            [
             0.1,
             "#c51b7d"
            ],
            [
             0.2,
             "#de77ae"
            ],
            [
             0.3,
             "#f1b6da"
            ],
            [
             0.4,
             "#fde0ef"
            ],
            [
             0.5,
             "#f7f7f7"
            ],
            [
             0.6,
             "#e6f5d0"
            ],
            [
             0.7,
             "#b8e186"
            ],
            [
             0.8,
             "#7fbc41"
            ],
            [
             0.9,
             "#4d9221"
            ],
            [
             1,
             "#276419"
            ]
           ],
           "sequential": [
            [
             0,
             "#0d0887"
            ],
            [
             0.1111111111111111,
             "#46039f"
            ],
            [
             0.2222222222222222,
             "#7201a8"
            ],
            [
             0.3333333333333333,
             "#9c179e"
            ],
            [
             0.4444444444444444,
             "#bd3786"
            ],
            [
             0.5555555555555556,
             "#d8576b"
            ],
            [
             0.6666666666666666,
             "#ed7953"
            ],
            [
             0.7777777777777778,
             "#fb9f3a"
            ],
            [
             0.8888888888888888,
             "#fdca26"
            ],
            [
             1,
             "#f0f921"
            ]
           ],
           "sequentialminus": [
            [
             0,
             "#0d0887"
            ],
            [
             0.1111111111111111,
             "#46039f"
            ],
            [
             0.2222222222222222,
             "#7201a8"
            ],
            [
             0.3333333333333333,
             "#9c179e"
            ],
            [
             0.4444444444444444,
             "#bd3786"
            ],
            [
             0.5555555555555556,
             "#d8576b"
            ],
            [
             0.6666666666666666,
             "#ed7953"
            ],
            [
             0.7777777777777778,
             "#fb9f3a"
            ],
            [
             0.8888888888888888,
             "#fdca26"
            ],
            [
             1,
             "#f0f921"
            ]
           ]
          },
          "colorway": [
           "#636efa",
           "#EF553B",
           "#00cc96",
           "#ab63fa",
           "#FFA15A",
           "#19d3f3",
           "#FF6692",
           "#B6E880",
           "#FF97FF",
           "#FECB52"
          ],
          "font": {
           "color": "#2a3f5f"
          },
          "geo": {
           "bgcolor": "white",
           "lakecolor": "white",
           "landcolor": "#E5ECF6",
           "showlakes": true,
           "showland": true,
           "subunitcolor": "white"
          },
          "hoverlabel": {
           "align": "left"
          },
          "hovermode": "closest",
          "mapbox": {
           "style": "light"
          },
          "paper_bgcolor": "white",
          "plot_bgcolor": "#E5ECF6",
          "polar": {
           "angularaxis": {
            "gridcolor": "white",
            "linecolor": "white",
            "ticks": ""
           },
           "bgcolor": "#E5ECF6",
           "radialaxis": {
            "gridcolor": "white",
            "linecolor": "white",
            "ticks": ""
           }
          },
          "scene": {
           "xaxis": {
            "backgroundcolor": "#E5ECF6",
            "gridcolor": "white",
            "gridwidth": 2,
            "linecolor": "white",
            "showbackground": true,
            "ticks": "",
            "zerolinecolor": "white"
           },
           "yaxis": {
            "backgroundcolor": "#E5ECF6",
            "gridcolor": "white",
            "gridwidth": 2,
            "linecolor": "white",
            "showbackground": true,
            "ticks": "",
            "zerolinecolor": "white"
           },
           "zaxis": {
            "backgroundcolor": "#E5ECF6",
            "gridcolor": "white",
            "gridwidth": 2,
            "linecolor": "white",
            "showbackground": true,
            "ticks": "",
            "zerolinecolor": "white"
           }
          },
          "shapedefaults": {
           "line": {
            "color": "#2a3f5f"
           }
          },
          "ternary": {
           "aaxis": {
            "gridcolor": "white",
            "linecolor": "white",
            "ticks": ""
           },
           "baxis": {
            "gridcolor": "white",
            "linecolor": "white",
            "ticks": ""
           },
           "bgcolor": "#E5ECF6",
           "caxis": {
            "gridcolor": "white",
            "linecolor": "white",
            "ticks": ""
           }
          },
          "title": {
           "x": 0.05
          },
          "xaxis": {
           "automargin": true,
           "gridcolor": "white",
           "linecolor": "white",
           "ticks": "",
           "title": {
            "standoff": 15
           },
           "zerolinecolor": "white",
           "zerolinewidth": 2
          },
          "yaxis": {
           "automargin": true,
           "gridcolor": "white",
           "linecolor": "white",
           "ticks": "",
           "title": {
            "standoff": 15
           },
           "zerolinecolor": "white",
           "zerolinewidth": 2
          }
         }
        },
        "title": {
         "text": "Data Quality: Column Shapes (Average Score=0.85)"
        },
        "xaxis": {
         "anchor": "y",
         "categoryorder": "total ascending",
         "domain": [
          0,
          1
         ],
         "title": {
          "text": "Column"
         }
        },
        "yaxis": {
         "anchor": "x",
         "domain": [
          0,
          1
         ],
         "range": [
          0,
          1
         ],
         "title": {
          "text": "Score"
         }
        }
       }
      }
     },
     "metadata": {},
     "output_type": "display_data"
    }
   ],
   "source": [
    "fig = qlt_report.get_visualization(property_name='Column Shapes')\n",
    "fig.show()"
   ]
  },
  {
   "cell_type": "code",
   "execution_count": 15,
   "metadata": {},
   "outputs": [
    {
     "data": {
      "application/vnd.plotly.v1+json": {
       "config": {
        "plotlyServerURL": "https://plot.ly"
       },
       "data": [
        {
         "coloraxis": "coloraxis",
         "hovertemplate": "<b>Column Pair</b><br>(%{x},%{y})<br><br>Similarity: %{z}<extra></extra>",
         "type": "heatmap",
         "x": [
          "age",
          "workclass",
          "fnlwgt",
          "education",
          "educational-num",
          "marital-status",
          "occupation",
          "relationship",
          "race",
          "gender",
          "capital-gain",
          "capital-loss",
          "hours-per-week",
          "native-country",
          "income"
         ],
         "xaxis": "x",
         "y": [
          "age",
          "workclass",
          "fnlwgt",
          "education",
          "educational-num",
          "marital-status",
          "occupation",
          "relationship",
          "race",
          "gender",
          "capital-gain",
          "capital-loss",
          "hours-per-week",
          "native-country",
          "income"
         ],
         "yaxis": "y",
         "z": [
          [
           1,
           0.838,
           0.989,
           0.51,
           0.976,
           0.768,
           0.631,
           0.751,
           0.876,
           0.868,
           null,
           null,
           0.94,
           0.193,
           0.835
          ],
          [
           0.838,
           1,
           0.324,
           0.545,
           0.65,
           0.944,
           0.567,
           0.938,
           0.974,
           0.956,
           0,
           0.006,
           0.605,
           0.196,
           0.945
          ],
          [
           0.989,
           0.324,
           1,
           0.251,
           0.995,
           0.324,
           0.29,
           0.324,
           0.324,
           0.324,
           null,
           null,
           0.995,
           0.098,
           0.324
          ],
          [
           0.51,
           0.545,
           0.251,
           1,
           0.104,
           0.545,
           0.41,
           0.546,
           0.546,
           0.547,
           0,
           0.006,
           0.455,
           0.156,
           0.542
          ],
          [
           0.976,
           0.65,
           0.995,
           0.104,
           1,
           0.647,
           0.497,
           0.643,
           0.662,
           0.657,
           null,
           null,
           0.994,
           0.184,
           0.654
          ],
          [
           0.768,
           0.944,
           0.324,
           0.545,
           0.647,
           1,
           0.669,
           0.508,
           0.941,
           0.783,
           0,
           0.006,
           0.61,
           0.195,
           0.831
          ],
          [
           0.631,
           0.567,
           0.29,
           0.41,
           0.497,
           0.669,
           1,
           0.652,
           0.684,
           0.653,
           0,
           0.006,
           0.524,
           0.169,
           0.676
          ],
          [
           0.751,
           0.938,
           0.324,
           0.546,
           0.643,
           0.508,
           0.652,
           1,
           0.941,
           0.755,
           0,
           0.006,
           0.604,
           0.196,
           0.827
          ],
          [
           0.876,
           0.974,
           0.324,
           0.546,
           0.662,
           0.941,
           0.684,
           0.941,
           1,
           0.961,
           0,
           0.006,
           0.615,
           0.185,
           0.94
          ],
          [
           0.868,
           0.956,
           0.324,
           0.547,
           0.657,
           0.783,
           0.653,
           0.755,
           0.961,
           1,
           0,
           0.006,
           0.616,
           0.197,
           0.931
          ],
          [
           null,
           0,
           null,
           0,
           null,
           0,
           0,
           0,
           0,
           0,
           1,
           null,
           null,
           0,
           0
          ],
          [
           null,
           0.006,
           null,
           0.006,
           null,
           0.006,
           0.006,
           0.006,
           0.006,
           0.006,
           null,
           1,
           null,
           0.006,
           0.006
          ],
          [
           0.94,
           0.605,
           0.995,
           0.455,
           0.994,
           0.61,
           0.524,
           0.604,
           0.615,
           0.616,
           null,
           null,
           1,
           0.186,
           0.615
          ],
          [
           0.193,
           0.196,
           0.098,
           0.156,
           0.184,
           0.195,
           0.169,
           0.196,
           0.185,
           0.197,
           0,
           0.006,
           0.186,
           1,
           0.197
          ],
          [
           0.835,
           0.945,
           0.324,
           0.542,
           0.654,
           0.831,
           0.676,
           0.827,
           0.94,
           0.931,
           0,
           0.006,
           0.615,
           0.197,
           1
          ]
         ]
        },
        {
         "coloraxis": "coloraxis2",
         "customdata": [
          [
           1,
           -0.052,
           0.077,
           0.191
          ],
          [
           -0.052,
           1,
           -0.027,
           -0.024
          ],
          [
           0.077,
           -0.027,
           1,
           0.128
          ],
          [
           0.191,
           -0.024,
           0.128,
           1
          ]
         ],
         "hovertemplate": "<b>Correlation</b><br>(%{x},%{y})<br><br>Synthetic: %{z}<br>(vs. Real: %{customdata})<extra></extra>",
         "type": "heatmap",
         "x": [
          "age",
          "fnlwgt",
          "educational-num",
          "hours-per-week"
         ],
         "xaxis": "x2",
         "y": [
          "age",
          "fnlwgt",
          "educational-num",
          "hours-per-week"
         ],
         "yaxis": "y2",
         "z": [
          [
           1,
           -0.075,
           0.03,
           0.072
          ],
          [
           -0.075,
           1,
           -0.036,
           -0.014
          ],
          [
           0.03,
           -0.036,
           1,
           0.141
          ],
          [
           0.072,
           -0.014,
           0.141,
           1
          ]
         ]
        },
        {
         "coloraxis": "coloraxis2",
         "customdata": [
          [
           1,
           -0.075,
           0.03,
           0.072
          ],
          [
           -0.075,
           1,
           -0.036,
           -0.014
          ],
          [
           0.03,
           -0.036,
           1,
           0.141
          ],
          [
           0.072,
           -0.014,
           0.141,
           1
          ]
         ],
         "hovertemplate": "<b>Correlation</b><br>(%{x},%{y})<br><br>Synthetic: %{z}<br>(vs. Real: %{customdata})<extra></extra>",
         "type": "heatmap",
         "x": [
          "age",
          "fnlwgt",
          "educational-num",
          "hours-per-week"
         ],
         "xaxis": "x3",
         "y": [
          "age",
          "fnlwgt",
          "educational-num",
          "hours-per-week"
         ],
         "yaxis": "y3",
         "z": [
          [
           1,
           -0.052,
           0.077,
           0.191
          ],
          [
           -0.052,
           1,
           -0.027,
           -0.024
          ],
          [
           0.077,
           -0.027,
           1,
           0.128
          ],
          [
           0.191,
           -0.024,
           0.128,
           1
          ]
         ]
        }
       ],
       "layout": {
        "annotations": [
         {
          "font": {
           "size": 16
          },
          "showarrow": false,
          "text": "Real vs. Synthetic Similarity",
          "x": 0.5,
          "xanchor": "center",
          "xref": "paper",
          "y": 1,
          "yanchor": "bottom",
          "yref": "paper"
         },
         {
          "font": {
           "size": 16
          },
          "showarrow": false,
          "text": "Numerical Correlation (Real Data)",
          "x": 0.225,
          "xanchor": "center",
          "xref": "paper",
          "y": 0.375,
          "yanchor": "bottom",
          "yref": "paper"
         },
         {
          "font": {
           "size": 16
          },
          "showarrow": false,
          "text": "Numerical Correlation (Synthetic Data)",
          "x": 0.775,
          "xanchor": "center",
          "xref": "paper",
          "y": 0.375,
          "yanchor": "bottom",
          "yref": "paper"
         }
        ],
        "coloraxis": {
         "cmax": 1,
         "cmin": 0,
         "colorbar": {
          "len": 0.5,
          "x": 0.8,
          "y": 0.8
         },
         "colorscale": [
          [
           0,
           "#FF0000"
          ],
          [
           0.5,
           "#F16141"
          ],
          [
           1,
           "#36B37E"
          ]
         ]
        },
        "coloraxis2": {
         "cmax": 1,
         "cmin": -1,
         "colorbar": {
          "len": 0.5,
          "y": 0.2
         },
         "colorscale": [
          [
           0,
           "#03AFF1"
          ],
          [
           0.5,
           "#000036"
          ],
          [
           1,
           "#01E0C9"
          ]
         ]
        },
        "font": {
         "size": 18
        },
        "height": 900,
        "template": {
         "data": {
          "bar": [
           {
            "error_x": {
             "color": "#2a3f5f"
            },
            "error_y": {
             "color": "#2a3f5f"
            },
            "marker": {
             "line": {
              "color": "#E5ECF6",
              "width": 0.5
             },
             "pattern": {
              "fillmode": "overlay",
              "size": 10,
              "solidity": 0.2
             }
            },
            "type": "bar"
           }
          ],
          "barpolar": [
           {
            "marker": {
             "line": {
              "color": "#E5ECF6",
              "width": 0.5
             },
             "pattern": {
              "fillmode": "overlay",
              "size": 10,
              "solidity": 0.2
             }
            },
            "type": "barpolar"
           }
          ],
          "carpet": [
           {
            "aaxis": {
             "endlinecolor": "#2a3f5f",
             "gridcolor": "white",
             "linecolor": "white",
             "minorgridcolor": "white",
             "startlinecolor": "#2a3f5f"
            },
            "baxis": {
             "endlinecolor": "#2a3f5f",
             "gridcolor": "white",
             "linecolor": "white",
             "minorgridcolor": "white",
             "startlinecolor": "#2a3f5f"
            },
            "type": "carpet"
           }
          ],
          "choropleth": [
           {
            "colorbar": {
             "outlinewidth": 0,
             "ticks": ""
            },
            "type": "choropleth"
           }
          ],
          "contour": [
           {
            "colorbar": {
             "outlinewidth": 0,
             "ticks": ""
            },
            "colorscale": [
             [
              0,
              "#0d0887"
             ],
             [
              0.1111111111111111,
              "#46039f"
             ],
             [
              0.2222222222222222,
              "#7201a8"
             ],
             [
              0.3333333333333333,
              "#9c179e"
             ],
             [
              0.4444444444444444,
              "#bd3786"
             ],
             [
              0.5555555555555556,
              "#d8576b"
             ],
             [
              0.6666666666666666,
              "#ed7953"
             ],
             [
              0.7777777777777778,
              "#fb9f3a"
             ],
             [
              0.8888888888888888,
              "#fdca26"
             ],
             [
              1,
              "#f0f921"
             ]
            ],
            "type": "contour"
           }
          ],
          "contourcarpet": [
           {
            "colorbar": {
             "outlinewidth": 0,
             "ticks": ""
            },
            "type": "contourcarpet"
           }
          ],
          "heatmap": [
           {
            "colorbar": {
             "outlinewidth": 0,
             "ticks": ""
            },
            "colorscale": [
             [
              0,
              "#0d0887"
             ],
             [
              0.1111111111111111,
              "#46039f"
             ],
             [
              0.2222222222222222,
              "#7201a8"
             ],
             [
              0.3333333333333333,
              "#9c179e"
             ],
             [
              0.4444444444444444,
              "#bd3786"
             ],
             [
              0.5555555555555556,
              "#d8576b"
             ],
             [
              0.6666666666666666,
              "#ed7953"
             ],
             [
              0.7777777777777778,
              "#fb9f3a"
             ],
             [
              0.8888888888888888,
              "#fdca26"
             ],
             [
              1,
              "#f0f921"
             ]
            ],
            "type": "heatmap"
           }
          ],
          "heatmapgl": [
           {
            "colorbar": {
             "outlinewidth": 0,
             "ticks": ""
            },
            "colorscale": [
             [
              0,
              "#0d0887"
             ],
             [
              0.1111111111111111,
              "#46039f"
             ],
             [
              0.2222222222222222,
              "#7201a8"
             ],
             [
              0.3333333333333333,
              "#9c179e"
             ],
             [
              0.4444444444444444,
              "#bd3786"
             ],
             [
              0.5555555555555556,
              "#d8576b"
             ],
             [
              0.6666666666666666,
              "#ed7953"
             ],
             [
              0.7777777777777778,
              "#fb9f3a"
             ],
             [
              0.8888888888888888,
              "#fdca26"
             ],
             [
              1,
              "#f0f921"
             ]
            ],
            "type": "heatmapgl"
           }
          ],
          "histogram": [
           {
            "marker": {
             "pattern": {
              "fillmode": "overlay",
              "size": 10,
              "solidity": 0.2
             }
            },
            "type": "histogram"
           }
          ],
          "histogram2d": [
           {
            "colorbar": {
             "outlinewidth": 0,
             "ticks": ""
            },
            "colorscale": [
             [
              0,
              "#0d0887"
             ],
             [
              0.1111111111111111,
              "#46039f"
             ],
             [
              0.2222222222222222,
              "#7201a8"
             ],
             [
              0.3333333333333333,
              "#9c179e"
             ],
             [
              0.4444444444444444,
              "#bd3786"
             ],
             [
              0.5555555555555556,
              "#d8576b"
             ],
             [
              0.6666666666666666,
              "#ed7953"
             ],
             [
              0.7777777777777778,
              "#fb9f3a"
             ],
             [
              0.8888888888888888,
              "#fdca26"
             ],
             [
              1,
              "#f0f921"
             ]
            ],
            "type": "histogram2d"
           }
          ],
          "histogram2dcontour": [
           {
            "colorbar": {
             "outlinewidth": 0,
             "ticks": ""
            },
            "colorscale": [
             [
              0,
              "#0d0887"
             ],
             [
              0.1111111111111111,
              "#46039f"
             ],
             [
              0.2222222222222222,
              "#7201a8"
             ],
             [
              0.3333333333333333,
              "#9c179e"
             ],
             [
              0.4444444444444444,
              "#bd3786"
             ],
             [
              0.5555555555555556,
              "#d8576b"
             ],
             [
              0.6666666666666666,
              "#ed7953"
             ],
             [
              0.7777777777777778,
              "#fb9f3a"
             ],
             [
              0.8888888888888888,
              "#fdca26"
             ],
             [
              1,
              "#f0f921"
             ]
            ],
            "type": "histogram2dcontour"
           }
          ],
          "mesh3d": [
           {
            "colorbar": {
             "outlinewidth": 0,
             "ticks": ""
            },
            "type": "mesh3d"
           }
          ],
          "parcoords": [
           {
            "line": {
             "colorbar": {
              "outlinewidth": 0,
              "ticks": ""
             }
            },
            "type": "parcoords"
           }
          ],
          "pie": [
           {
            "automargin": true,
            "type": "pie"
           }
          ],
          "scatter": [
           {
            "fillpattern": {
             "fillmode": "overlay",
             "size": 10,
             "solidity": 0.2
            },
            "type": "scatter"
           }
          ],
          "scatter3d": [
           {
            "line": {
             "colorbar": {
              "outlinewidth": 0,
              "ticks": ""
             }
            },
            "marker": {
             "colorbar": {
              "outlinewidth": 0,
              "ticks": ""
             }
            },
            "type": "scatter3d"
           }
          ],
          "scattercarpet": [
           {
            "marker": {
             "colorbar": {
              "outlinewidth": 0,
              "ticks": ""
             }
            },
            "type": "scattercarpet"
           }
          ],
          "scattergeo": [
           {
            "marker": {
             "colorbar": {
              "outlinewidth": 0,
              "ticks": ""
             }
            },
            "type": "scattergeo"
           }
          ],
          "scattergl": [
           {
            "marker": {
             "colorbar": {
              "outlinewidth": 0,
              "ticks": ""
             }
            },
            "type": "scattergl"
           }
          ],
          "scattermapbox": [
           {
            "marker": {
             "colorbar": {
              "outlinewidth": 0,
              "ticks": ""
             }
            },
            "type": "scattermapbox"
           }
          ],
          "scatterpolar": [
           {
            "marker": {
             "colorbar": {
              "outlinewidth": 0,
              "ticks": ""
             }
            },
            "type": "scatterpolar"
           }
          ],
          "scatterpolargl": [
           {
            "marker": {
             "colorbar": {
              "outlinewidth": 0,
              "ticks": ""
             }
            },
            "type": "scatterpolargl"
           }
          ],
          "scatterternary": [
           {
            "marker": {
             "colorbar": {
              "outlinewidth": 0,
              "ticks": ""
             }
            },
            "type": "scatterternary"
           }
          ],
          "surface": [
           {
            "colorbar": {
             "outlinewidth": 0,
             "ticks": ""
            },
            "colorscale": [
             [
              0,
              "#0d0887"
             ],
             [
              0.1111111111111111,
              "#46039f"
             ],
             [
              0.2222222222222222,
              "#7201a8"
             ],
             [
              0.3333333333333333,
              "#9c179e"
             ],
             [
              0.4444444444444444,
              "#bd3786"
             ],
             [
              0.5555555555555556,
              "#d8576b"
             ],
             [
              0.6666666666666666,
              "#ed7953"
             ],
             [
              0.7777777777777778,
              "#fb9f3a"
             ],
             [
              0.8888888888888888,
              "#fdca26"
             ],
             [
              1,
              "#f0f921"
             ]
            ],
            "type": "surface"
           }
          ],
          "table": [
           {
            "cells": {
             "fill": {
              "color": "#EBF0F8"
             },
             "line": {
              "color": "white"
             }
            },
            "header": {
             "fill": {
              "color": "#C8D4E3"
             },
             "line": {
              "color": "white"
             }
            },
            "type": "table"
           }
          ]
         },
         "layout": {
          "annotationdefaults": {
           "arrowcolor": "#2a3f5f",
           "arrowhead": 0,
           "arrowwidth": 1
          },
          "autotypenumbers": "strict",
          "coloraxis": {
           "colorbar": {
            "outlinewidth": 0,
            "ticks": ""
           }
          },
          "colorscale": {
           "diverging": [
            [
             0,
             "#8e0152"
            ],
            [
             0.1,
             "#c51b7d"
            ],
            [
             0.2,
             "#de77ae"
            ],
            [
             0.3,
             "#f1b6da"
            ],
            [
             0.4,
             "#fde0ef"
            ],
            [
             0.5,
             "#f7f7f7"
            ],
            [
             0.6,
             "#e6f5d0"
            ],
            [
             0.7,
             "#b8e186"
            ],
            [
             0.8,
             "#7fbc41"
            ],
            [
             0.9,
             "#4d9221"
            ],
            [
             1,
             "#276419"
            ]
           ],
           "sequential": [
            [
             0,
             "#0d0887"
            ],
            [
             0.1111111111111111,
             "#46039f"
            ],
            [
             0.2222222222222222,
             "#7201a8"
            ],
            [
             0.3333333333333333,
             "#9c179e"
            ],
            [
             0.4444444444444444,
             "#bd3786"
            ],
            [
             0.5555555555555556,
             "#d8576b"
            ],
            [
             0.6666666666666666,
             "#ed7953"
            ],
            [
             0.7777777777777778,
             "#fb9f3a"
            ],
            [
             0.8888888888888888,
             "#fdca26"
            ],
            [
             1,
             "#f0f921"
            ]
           ],
           "sequentialminus": [
            [
             0,
             "#0d0887"
            ],
            [
             0.1111111111111111,
             "#46039f"
            ],
            [
             0.2222222222222222,
             "#7201a8"
            ],
            [
             0.3333333333333333,
             "#9c179e"
            ],
            [
             0.4444444444444444,
             "#bd3786"
            ],
            [
             0.5555555555555556,
             "#d8576b"
            ],
            [
             0.6666666666666666,
             "#ed7953"
            ],
            [
             0.7777777777777778,
             "#fb9f3a"
            ],
            [
             0.8888888888888888,
             "#fdca26"
            ],
            [
             1,
             "#f0f921"
            ]
           ]
          },
          "colorway": [
           "#636efa",
           "#EF553B",
           "#00cc96",
           "#ab63fa",
           "#FFA15A",
           "#19d3f3",
           "#FF6692",
           "#B6E880",
           "#FF97FF",
           "#FECB52"
          ],
          "font": {
           "color": "#2a3f5f"
          },
          "geo": {
           "bgcolor": "white",
           "lakecolor": "white",
           "landcolor": "#E5ECF6",
           "showlakes": true,
           "showland": true,
           "subunitcolor": "white"
          },
          "hoverlabel": {
           "align": "left"
          },
          "hovermode": "closest",
          "mapbox": {
           "style": "light"
          },
          "paper_bgcolor": "white",
          "plot_bgcolor": "#E5ECF6",
          "polar": {
           "angularaxis": {
            "gridcolor": "white",
            "linecolor": "white",
            "ticks": ""
           },
           "bgcolor": "#E5ECF6",
           "radialaxis": {
            "gridcolor": "white",
            "linecolor": "white",
            "ticks": ""
           }
          },
          "scene": {
           "xaxis": {
            "backgroundcolor": "#E5ECF6",
            "gridcolor": "white",
            "gridwidth": 2,
            "linecolor": "white",
            "showbackground": true,
            "ticks": "",
            "zerolinecolor": "white"
           },
           "yaxis": {
            "backgroundcolor": "#E5ECF6",
            "gridcolor": "white",
            "gridwidth": 2,
            "linecolor": "white",
            "showbackground": true,
            "ticks": "",
            "zerolinecolor": "white"
           },
           "zaxis": {
            "backgroundcolor": "#E5ECF6",
            "gridcolor": "white",
            "gridwidth": 2,
            "linecolor": "white",
            "showbackground": true,
            "ticks": "",
            "zerolinecolor": "white"
           }
          },
          "shapedefaults": {
           "line": {
            "color": "#2a3f5f"
           }
          },
          "ternary": {
           "aaxis": {
            "gridcolor": "white",
            "linecolor": "white",
            "ticks": ""
           },
           "baxis": {
            "gridcolor": "white",
            "linecolor": "white",
            "ticks": ""
           },
           "bgcolor": "#E5ECF6",
           "caxis": {
            "gridcolor": "white",
            "linecolor": "white",
            "ticks": ""
           }
          },
          "title": {
           "x": 0.05
          },
          "xaxis": {
           "automargin": true,
           "gridcolor": "white",
           "linecolor": "white",
           "ticks": "",
           "title": {
            "standoff": 15
           },
           "zerolinecolor": "white",
           "zerolinewidth": 2
          },
          "yaxis": {
           "automargin": true,
           "gridcolor": "white",
           "linecolor": "white",
           "ticks": "",
           "title": {
            "standoff": 15
           },
           "zerolinecolor": "white",
           "zerolinewidth": 2
          }
         }
        },
        "title": {
         "text": "Data Quality: Column Pair Trends (Average Score=0.49)"
        },
        "width": 900,
        "xaxis": {
         "anchor": "y",
         "domain": [
          0.26,
          0.74
         ],
         "tickangle": 45
        },
        "xaxis2": {
         "anchor": "y2",
         "domain": [
          0,
          0.45
         ],
         "tickangle": 45
        },
        "xaxis3": {
         "anchor": "y3",
         "domain": [
          0.55,
          1
         ],
         "matches": "x2",
         "tickangle": 45
        },
        "yaxis": {
         "anchor": "x",
         "autorange": "reversed",
         "domain": [
          0.625,
          1
         ]
        },
        "yaxis2": {
         "anchor": "x2",
         "autorange": "reversed",
         "domain": [
          0,
          0.375
         ]
        },
        "yaxis3": {
         "anchor": "x3",
         "autorange": "reversed",
         "domain": [
          0,
          0.375
         ],
         "matches": "y2",
         "visible": false
        }
       }
      }
     },
     "metadata": {},
     "output_type": "display_data"
    }
   ],
   "source": [
    "fig = qlt_report.get_visualization(property_name='Column Pair Trends')\n",
    "fig.show()"
   ]
  },
  {
   "cell_type": "code",
   "execution_count": 6,
   "metadata": {},
   "outputs": [
    {
     "name": "stdout",
     "output_type": "stream",
     "text": [
      "Generating report ...\n",
      "(1/2) Evaluating Data Validity: : 100%|██████████| 15/15 [00:00<00:00, 320.08it/s]\n",
      "(2/2) Evaluating Data Structure: : 100%|██████████| 1/1 [00:00<?, ?it/s]\n",
      "\n",
      "Overall Score: 100.0%\n",
      "\n",
      "Properties:\n",
      "- Data Validity: 100.0%\n",
      "- Data Structure: 100.0%\n",
      "\n",
      "\n",
      "\n",
      "get_score: 1.0\n",
      "\n",
      "\n",
      "\n",
      "         Property  Score\n",
      "0   Data Validity    1.0\n",
      "1  Data Structure    1.0\n",
      "\n",
      "\n",
      "\n",
      "             Column             Metric  Score\n",
      "0               age  BoundaryAdherence    1.0\n",
      "1         workclass  CategoryAdherence    1.0\n",
      "2            fnlwgt  BoundaryAdherence    1.0\n",
      "3         education  CategoryAdherence    1.0\n",
      "4   educational-num  BoundaryAdherence    1.0\n",
      "5    marital-status  CategoryAdherence    1.0\n",
      "6        occupation  CategoryAdherence    1.0\n",
      "7      relationship  CategoryAdherence    1.0\n",
      "8              race  CategoryAdherence    1.0\n",
      "9            gender  CategoryAdherence    1.0\n",
      "10     capital-gain  BoundaryAdherence    1.0\n",
      "11     capital-loss  BoundaryAdherence    1.0\n",
      "12   hours-per-week  BoundaryAdherence    1.0\n",
      "13   native-country  CategoryAdherence    1.0\n",
      "14           income  CategoryAdherence    1.0\n",
      "\n",
      "\n",
      "\n",
      "           Metric  Score\n",
      "0  TableStructure    1.0\n"
     ]
    }
   ],
   "source": [
    "from sdmetrics.reports.single_table import DiagnosticReport\n",
    "\n",
    "dx_report = DiagnosticReport()\n",
    "dx_report.generate(\n",
    "    real_data = splitter.data[1]['train'],\n",
    "    synthetic_data = postproc.data,\n",
    "    metadata = real_data_metadata\n",
    ")\n",
    "print(f\"\\n\\n\")\n",
    "print(f\"get_score: {dx_report.get_score()}\")\n",
    "print(f\"\\n\\n\")\n",
    "print(dx_report.get_properties())\n",
    "print(f\"\\n\\n\")\n",
    "print(dx_report.get_details(property_name='Data Validity'))\n",
    "print(f\"\\n\\n\")\n",
    "print(dx_report.get_details(property_name='Data Structure'))\n"
   ]
  }
 ],
 "metadata": {
  "kernelspec": {
   "display_name": "Python 3",
   "language": "python",
   "name": "python3"
  },
  "language_info": {
   "codemirror_mode": {
    "name": "ipython",
    "version": 3
   },
   "file_extension": ".py",
   "mimetype": "text/x-python",
   "name": "python",
   "nbconvert_exporter": "python",
   "pygments_lexer": "ipython3",
   "version": "3.10.13"
  },
  "orig_nbformat": 4
 },
 "nbformat": 4,
 "nbformat_minor": 2
}
