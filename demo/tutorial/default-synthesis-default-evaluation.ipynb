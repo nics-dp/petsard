{
 "cells": [
  {
   "cell_type": "markdown",
   "metadata": {},
   "source": [
    "# Environment setting / 環境設定"
   ]
  },
  {
   "cell_type": "code",
   "execution_count": 1,
   "metadata": {},
   "outputs": [
    {
     "name": "stdout",
     "output_type": "stream",
     "text": [
      "📂 Current working directory: demo/tutorial\n",
      "✅ PETsARD demo_utils loaded. Use quick_setup() to initialize.\n"
     ]
    }
   ],
   "source": [
    "import os  # noqa: I001\n",
    "import sys\n",
    "from pathlib import Path\n",
    "\n",
    "\n",
    "# Handle utils.py for Colab\n",
    "if \"COLAB_GPU\" in os.environ:\n",
    "    import urllib.request\n",
    "\n",
    "    demo_utils_url = (\n",
    "        \"https://raw.githubusercontent.com/nics-tw/petsard/main/demo/demo_utils.py\"\n",
    "    )\n",
    "    exec(urllib.request.urlopen(demo_utils_url).read().decode(\"utf-8\"))\n",
    "else:\n",
    "    # demo_utils.py search for local\n",
    "    for p in [Path.cwd()] + list(Path.cwd().parents)[:10]:\n",
    "        utils_path = p / \"demo_utils.py\"\n",
    "        if utils_path.exists() and \"demo\" in str(utils_path):\n",
    "            sys.path.insert(0, str(p))\n",
    "            exec(open(utils_path).read())\n",
    "            break"
   ]
  },
  {
   "cell_type": "markdown",
   "metadata": {},
   "source": [
    "## Quick setup / 快速設定: Default Synthesis Default Evaluation"
   ]
  },
  {
   "cell_type": "code",
   "execution_count": 2,
   "metadata": {},
   "outputs": [
    {
     "name": "stdout",
     "output_type": "stream",
     "text": [
      "✅ Changed working directory to demo: petsard/demo\n",
      "   📁 Notebook location: demo/tutorial/\n",
      "   🔍 YAML search priority: \n",
      "      1. demo/tutorial/\n",
      "      2. demo/\n",
      "   💾 Output files will be saved in: demo/\n",
      "🚀 PETsARD v1.7.0\n",
      "📅 2025-10-18 11:11:17 UTC+8\n",
      "✅ Loaded benchmark dataset: adult-income\n",
      "🔧 Added to Python path: petsard/demo/tutorial\n",
      "📁 Processing configuration files from subfolder: tutorial\n",
      "✅ Found configuration (1/1): petsard/demo/tutorial/default-synthesis-default-evaluation.yaml\n"
     ]
    }
   ],
   "source": [
    "from demo_utils import display_results, display_yaml_info, quick_setup  # noqa: I001\n",
    "from petsard import Executor  # noqa: I001\n",
    "\n",
    "\n",
    "is_colab, branch, yaml_path = quick_setup(\n",
    "    config_file=[\n",
    "        \"default-synthesis-default-evaluation.yaml\",\n",
    "    ],\n",
    "    benchmark_data=[\n",
    "        \"adult-income\",\n",
    "    ],\n",
    "    petsard_branch=\"main\",\n",
    ")"
   ]
  },
  {
   "cell_type": "markdown",
   "metadata": {},
   "source": [
    "# Execution and Result / 執行與結果"
   ]
  },
  {
   "cell_type": "markdown",
   "metadata": {},
   "source": [
    "## Default Synthesis Default Evaluation / 預設合成與預設評測"
   ]
  },
  {
   "cell_type": "code",
   "execution_count": 3,
   "metadata": {},
   "outputs": [
    {
     "name": "stdout",
     "output_type": "stream",
     "text": [
      "============================================================\n",
      "📋 YAML Configuration Files / YAML 設定檔案\n",
      "============================================================\n",
      "\n",
      "📄 File: default-synthesis-default-evaluation.yaml\n",
      "📁 Path: petsard/demo/tutorial/default-synthesis-default-evaluation.yaml\n",
      "\n",
      "⚙️ Configuration content / 設定內容:\n",
      "----------------------------------------\n",
      "---\n",
      "Loader:\n",
      "  data:\n",
      "    filepath: 'benchmark/adult-income.csv'\n",
      "Splitter:\n",
      "  basic_split:\n",
      "    num_samples: 1\n",
      "    train_split_ratio: 0.8\n",
      "Preprocessor:\n",
      "  default:\n",
      "    method: 'default'\n",
      "Synthesizer:\n",
      "  default:\n",
      "    method: 'default'\n",
      "Postprocessor:\n",
      "  default:\n",
      "    method: 'default'\n",
      "Evaluator:\n",
      "  validity_check:\n",
      "    method: sdmetrics-diagnosticreport\n",
      "  fidelity_check:\n",
      "    method: sdmetrics-qualityreport\n",
      "  singling_out_risk:\n",
      "    method: anonymeter-singlingout\n",
      "  linkability_risk:\n",
      "    method: anonymeter-linkability\n",
      "    aux_cols:\n",
      "      -\n",
      "        - workclass\n",
      "        - education\n",
      "        - occupation\n",
      "        - race\n",
      "        - gender\n",
      "      -\n",
      "        - age\n",
      "        - marital-status\n",
      "        - relationship\n",
      "        - native-country\n",
      "        - income\n",
      "  inference_risk:\n",
      "    method: 'anonymeter-inference'\n",
      "    secret: 'income'\n",
      "  classification_utility:\n",
      "    method: mlutility\n",
      "    task_type: classification\n",
      "    target: income\n",
      "Reporter:\n",
      "  data:\n",
      "    method: 'save_data'\n",
      "    source: 'Postprocessor'\n",
      "  rpt:\n",
      "    method: 'save_report'\n",
      "    granularity:\n",
      "      - 'global'\n",
      "      - 'columnwise'\n",
      "      - 'pairwise'\n",
      "      - 'details'\n",
      "...\n",
      "============================================================\n",
      "Generating report ...\n",
      "\n",
      "(1/2) Evaluating Data Validity: |██████████| 15/15 [00:00<00:00, 680.59it/s]|\n",
      "Data Validity Score: 100.0%\n",
      "\n",
      "(2/2) Evaluating Data Structure: |██████████| 1/1 [00:00<00:00, 1049.36it/s]|\n",
      "Data Structure Score: 100.0%\n",
      "\n",
      "Overall Score (Average): 100.0%\n",
      "\n",
      "Generating report ...\n",
      "\n",
      "(1/2) Evaluating Column Shapes: |██████████| 15/15 [00:00<00:00, 93.00it/s]|\n",
      "Column Shapes Score: 95.22%\n",
      "\n",
      "(2/2) Evaluating Column Pair Trends: |██████████| 105/105 [00:00<00:00, 183.30it/s]|\n",
      "Column Pair Trends Score: 60.03%\n",
      "\n",
      "Overall Score (Average): 77.63%\n",
      "\n"
     ]
    },
    {
     "name": "stderr",
     "output_type": "stream",
     "text": [
      "Found 1632 failed queries out of 2000. Check DEBUG messages for more details.\n",
      "Reached maximum number of attempts 500000 when generating singling out queries. Returning 218 instead of the requested 2000.To avoid this, increase the number of attempts or set it to ``None`` to disable The limitation entirely.\n",
      "Attack `multivariate` could generate only 218 singling out queries out of the requested 2000. This can probably lead to an underestimate of the singling out risk.\n",
      "/Users/justyn.chen/Library/CloudStorage/Dropbox/5_Career 工作/20231016_NICS 資安院/3_工藝：PETsARD/petsard/.venv/lib/python3.11/site-packages/anonymeter/stats/confidence.py:218: UserWarning: Attack is as good or worse as baseline model. Estimated rates: attack = 0.00019653745724212745, baseline = 0.00019653745724212745. Analysis results cannot be trusted.\n",
      "  self._sanity_check()\n"
     ]
    },
    {
     "name": "stdout",
     "output_type": "stream",
     "text": [
      "================================================================================\n",
      "📊 Execution Results / 執行結果\n",
      "================================================================================\n",
      "\n",
      "[1] Loader[data]_Splitter[basic_split_[1-1]]_Preprocessor[default]_Synthesizer[default]_Postprocessor[default]_Evaluator[validity_check]_Reporter[data]\n",
      "------------------------------------------------------------\n",
      "📋 Reporter output / Reporter 輸出\n",
      "  • Loader[data]_Splitter[basic_split_[1-1]]_Preprocessor[default]_Synthesizer[default]_Postprocessor[default]: DataFrame\n",
      "\n",
      "[2] Loader[data]_Splitter[basic_split_[1-1]]_Preprocessor[default]_Synthesizer[default]_Postprocessor[default]_Evaluator[validity_check]_Reporter[rpt]\n",
      "------------------------------------------------------------\n",
      "📋 Reporter output / Reporter 輸出\n",
      "  • [global]: DataFrame\n",
      "  • [columnwise]: DataFrame\n",
      "\n",
      "[3] Loader[data]_Splitter[basic_split_[1-1]]_Preprocessor[default]_Synthesizer[default]_Postprocessor[default]_Evaluator[fidelity_check]_Reporter[data]\n",
      "------------------------------------------------------------\n",
      "📋 Reporter output / Reporter 輸出\n",
      "  • Loader[data]_Splitter[basic_split_[1-1]]_Preprocessor[default]_Synthesizer[default]_Postprocessor[default]: DataFrame\n",
      "\n",
      "[4] Loader[data]_Splitter[basic_split_[1-1]]_Preprocessor[default]_Synthesizer[default]_Postprocessor[default]_Evaluator[fidelity_check]_Reporter[rpt]\n",
      "------------------------------------------------------------\n",
      "📋 Reporter output / Reporter 輸出\n",
      "  • [global]: DataFrame\n",
      "  • [columnwise]: DataFrame\n",
      "  • [pairwise]: DataFrame\n",
      "\n",
      "[5] Loader[data]_Splitter[basic_split_[1-1]]_Preprocessor[default]_Synthesizer[default]_Postprocessor[default]_Evaluator[singling_out_risk]_Reporter[data]\n",
      "------------------------------------------------------------\n",
      "📋 Reporter output / Reporter 輸出\n",
      "  • Loader[data]_Splitter[basic_split_[1-1]]_Preprocessor[default]_Synthesizer[default]_Postprocessor[default]: DataFrame\n",
      "\n",
      "[6] Loader[data]_Splitter[basic_split_[1-1]]_Preprocessor[default]_Synthesizer[default]_Postprocessor[default]_Evaluator[singling_out_risk]_Reporter[rpt]\n",
      "------------------------------------------------------------\n",
      "📋 Reporter output / Reporter 輸出\n",
      "  • [global]: DataFrame\n",
      "\n",
      "[7] Loader[data]_Splitter[basic_split_[1-1]]_Preprocessor[default]_Synthesizer[default]_Postprocessor[default]_Evaluator[linkability_risk]_Reporter[data]\n",
      "------------------------------------------------------------\n",
      "📋 Reporter output / Reporter 輸出\n",
      "  • Loader[data]_Splitter[basic_split_[1-1]]_Preprocessor[default]_Synthesizer[default]_Postprocessor[default]: DataFrame\n",
      "\n",
      "[8] Loader[data]_Splitter[basic_split_[1-1]]_Preprocessor[default]_Synthesizer[default]_Postprocessor[default]_Evaluator[linkability_risk]_Reporter[rpt]\n",
      "------------------------------------------------------------\n",
      "📋 Reporter output / Reporter 輸出\n",
      "  • [global]: DataFrame\n",
      "\n",
      "[9] Loader[data]_Splitter[basic_split_[1-1]]_Preprocessor[default]_Synthesizer[default]_Postprocessor[default]_Evaluator[inference_risk]_Reporter[data]\n",
      "------------------------------------------------------------\n",
      "📋 Reporter output / Reporter 輸出\n",
      "  • Loader[data]_Splitter[basic_split_[1-1]]_Preprocessor[default]_Synthesizer[default]_Postprocessor[default]: DataFrame\n",
      "\n",
      "[10] Loader[data]_Splitter[basic_split_[1-1]]_Preprocessor[default]_Synthesizer[default]_Postprocessor[default]_Evaluator[inference_risk]_Reporter[rpt]\n",
      "------------------------------------------------------------\n",
      "📋 Reporter output / Reporter 輸出\n",
      "  • [global]: DataFrame\n",
      "\n",
      "[11] Loader[data]_Splitter[basic_split_[1-1]]_Preprocessor[default]_Synthesizer[default]_Postprocessor[default]_Evaluator[classification_utility]_Reporter[data]\n",
      "------------------------------------------------------------\n",
      "📋 Reporter output / Reporter 輸出\n",
      "  • Loader[data]_Splitter[basic_split_[1-1]]_Preprocessor[default]_Synthesizer[default]_Postprocessor[default]: DataFrame\n",
      "\n",
      "[12] Loader[data]_Splitter[basic_split_[1-1]]_Preprocessor[default]_Synthesizer[default]_Postprocessor[default]_Evaluator[classification_utility]_Reporter[rpt]\n",
      "------------------------------------------------------------\n",
      "📋 Reporter output / Reporter 輸出\n",
      "  • [global]: DataFrame\n",
      "\n",
      "================================================================================\n",
      "✅ Total results / 總結果數: 12\n",
      "================================================================================\n"
     ]
    }
   ],
   "source": [
    "display_yaml_info(yaml_path[0])\n",
    "exec = Executor(yaml_path[0])\n",
    "exec.run()\n",
    "display_results(exec.get_result())"
   ]
  }
 ],
 "metadata": {
  "kernelspec": {
   "display_name": "petsard",
   "language": "python",
   "name": "python3"
  },
  "language_info": {
   "codemirror_mode": {
    "name": "ipython",
    "version": 3
   },
   "file_extension": ".py",
   "mimetype": "text/x-python",
   "name": "python",
   "nbconvert_exporter": "python",
   "pygments_lexer": "ipython3",
   "version": "3.11.12"
  }
 },
 "nbformat": 4,
 "nbformat_minor": 2
}
