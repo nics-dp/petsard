{
 "cells": [
  {
   "cell_type": "markdown",
   "metadata": {},
   "source": [
    "# Environment setting / 環境設定\n",
    "Default Synthesis and Default Evaluation / 預設合成與預設評測"
   ]
  },
  {
   "cell_type": "code",
   "execution_count": 1,
   "metadata": {},
   "outputs": [
    {
     "name": "stdout",
     "output_type": "stream",
     "text": [
      "🚀 PETsARD v1.5.1\n",
      "📅 2025-07-31 12:17:31 UTC+8\n",
      "📁 Subfolder: tutorial\n",
      "📄 YAML path: petsard/demo/tutorial/default-synthesis-default-evaluation.yaml\n",
      "⚙️ Configuration content:\n",
      "---\n",
      "Loader:\n",
      "  data:\n",
      "    filepath: 'benchmark/adult-income.csv'\n",
      "Splitter:\n",
      "  demo:\n",
      "    num_samples: 1\n",
      "    train_split_ratio: 0.8\n",
      "Preprocessor:\n",
      "  demo:\n",
      "    method: 'default'\n",
      "Synthesizer:\n",
      "  demo:\n",
      "    method: 'default'\n",
      "Postprocessor:\n",
      "  demo:\n",
      "    method: 'default'\n",
      "Evaluator:\n",
      "  demo-diagnostic:\n",
      "    method: 'sdmetrics-diagnosticreport'\n",
      "  demo-quality:\n",
      "    method: 'sdmetrics-qualityreport'\n",
      "  demo-singlingout:\n",
      "    method: 'anonymeter-singlingout'\n",
      "  demo-linkability:\n",
      "    method: 'anonymeter-linkability'\n",
      "    aux_cols:\n",
      "      -\n",
      "        - 'age'\n",
      "        - 'marital-status'\n",
      "        - 'relationship'\n",
      "        - 'gender'\n",
      "      -\n",
      "        - 'workclass'\n",
      "        - 'educational-num'\n",
      "        - 'occupation'\n",
      "        - 'income'\n",
      "  demo-inference:\n",
      "    method: 'anonymeter-inference'\n",
      "    secret: 'income'\n",
      "  demo-classification:\n",
      "    method: 'mlutility-classification'\n",
      "    target: 'income'\n",
      "Reporter:\n",
      "  output:\n",
      "    method: 'save_data'\n",
      "    source: 'Synthesizer'\n",
      "  save_report_global:\n",
      "    method: 'save_report'\n",
      "    granularity: 'global'\n",
      "...\n"
     ]
    }
   ],
   "source": [
    "import os\n",
    "import sys\n",
    "from pathlib import Path\n",
    "\n",
    "# 自動載入 utils / Auto-load utils\n",
    "if \"COLAB_GPU\" in os.environ:\n",
    "    url = \"https://raw.githubusercontent.com/nics-tw/petsard/main/demo/utils.py\"\n",
    "    exec(open(url).read())\n",
    "else:\n",
    "    # 靜默搜尋 utils.py / Silent search for utils.py\n",
    "    current = Path.cwd()\n",
    "    for _ in range(5):\n",
    "        if (current / \"utils.py\").exists():\n",
    "            sys.path.insert(0, str(current))\n",
    "            break\n",
    "        current = current.parent\n",
    "\n",
    "    # 匯入 utils 模組 / Import utils module\n",
    "    from utils import quick_setup\n",
    "\n",
    "# 快速設定 / Quick setup\n",
    "is_colab, branch, yaml_path = quick_setup(\n",
    "    yaml_file=\"default-synthesis-default-evaluation.yaml\",\n",
    "    benchmark_data=[\"adult-income\"],\n",
    "    branch=\"main\",  # 可選，預設為 \"main\"\n",
    ")\n",
    "\n",
    "from petsard import Executor"
   ]
  },
  {
   "cell_type": "markdown",
   "metadata": {},
   "source": [
    "# Execution and Result / 執行與結果"
   ]
  },
  {
   "cell_type": "code",
   "execution_count": 2,
   "metadata": {},
   "outputs": [
    {
     "name": "stdout",
     "output_type": "stream",
     "text": [
      "Generating report ...\n",
      "\n",
      "(1/2) Evaluating Data Validity: |██████████| 15/15 [00:00<00:00, 1535.33it/s]|\n",
      "Data Validity Score: 100.0%\n",
      "\n",
      "(2/2) Evaluating Data Structure: |██████████| 1/1 [00:00<00:00, 791.83it/s]|\n",
      "Data Structure Score: 100.0%\n",
      "\n",
      "Overall Score (Average): 100.0%\n",
      "\n",
      "Now is petsard_Loader[data]_Splitter[demo_[1-1]]_Preprocessor[demo]_Synthesizer[demo] save to csv...\n",
      "Now is petsard[Report]_[global] save to csv...\n",
      "Generating report ...\n",
      "\n",
      "(1/2) Evaluating Column Shapes: |██████████| 15/15 [00:00<00:00, 139.33it/s]|\n",
      "Column Shapes Score: 74.58%\n",
      "\n",
      "(2/2) Evaluating Column Pair Trends: |██████████| 105/105 [00:00<00:00, 381.21it/s]|\n",
      "Column Pair Trends Score: 61.78%\n",
      "\n",
      "Overall Score (Average): 68.18%\n",
      "\n",
      "Now is petsard_Loader[data]_Splitter[demo_[1-1]]_Preprocessor[demo]_Synthesizer[demo] save to csv...\n",
      "Now is petsard[Report]_[global] save to csv...\n"
     ]
    },
    {
     "name": "stderr",
     "output_type": "stream",
     "text": [
      "Found 1610 failed queries out of 2000. Check DEBUG messages for more details.\n",
      "Reached maximum number of attempts 500000 when generating singling out queries. Returning 136 instead of the requested 2000.To avoid this, increase the number of attempts or set it to ``None`` to disable The limitation entirely.\n",
      "Attack `multivariate` could generate only 136 singling out queries out of the requested 2000. This can probably lead to an underestimate of the singling out risk.\n"
     ]
    },
    {
     "name": "stdout",
     "output_type": "stream",
     "text": [
      "Now is petsard_Loader[data]_Splitter[demo_[1-1]]_Preprocessor[demo]_Synthesizer[demo] save to csv...\n",
      "Now is petsard[Report]_[global] save to csv...\n"
     ]
    },
    {
     "name": "stderr",
     "output_type": "stream",
     "text": [
      "/Users/justyn.chen/Library/CloudStorage/Dropbox/5_Career 工作/20231016_NICS 資安院/3_工藝：PETsARD/petsard/.venv/lib/python3.11/site-packages/anonymeter/stats/confidence.py:218: UserWarning: Attack is as good or worse as baseline model. Estimated rates: attack = 0.0009585236406264672, baseline = 0.0009585236406264672. Analysis results cannot be trusted.\n",
      "  self._sanity_check()\n"
     ]
    },
    {
     "name": "stdout",
     "output_type": "stream",
     "text": [
      "Now is petsard_Loader[data]_Splitter[demo_[1-1]]_Preprocessor[demo]_Synthesizer[demo] save to csv...\n",
      "Now is petsard[Report]_[global] save to csv...\n",
      "Now is petsard_Loader[data]_Splitter[demo_[1-1]]_Preprocessor[demo]_Synthesizer[demo] save to csv...\n",
      "Now is petsard[Report]_[global] save to csv...\n",
      "Now is petsard_Loader[data]_Splitter[demo_[1-1]]_Preprocessor[demo]_Synthesizer[demo] save to csv...\n",
      "Now is petsard[Report]_[global] save to csv...\n"
     ]
    }
   ],
   "source": [
    "exec_case = Executor(config=yaml_path)\n",
    "exec_case.run()"
   ]
  },
  {
   "cell_type": "code",
   "execution_count": 3,
   "metadata": {},
   "outputs": [
    {
     "data": {
      "text/html": [
       "<div>\n",
       "<style scoped>\n",
       "    .dataframe tbody tr th:only-of-type {\n",
       "        vertical-align: middle;\n",
       "    }\n",
       "\n",
       "    .dataframe tbody tr th {\n",
       "        vertical-align: top;\n",
       "    }\n",
       "\n",
       "    .dataframe thead th {\n",
       "        text-align: right;\n",
       "    }\n",
       "</style>\n",
       "<table border=\"1\" class=\"dataframe\">\n",
       "  <thead>\n",
       "    <tr style=\"text-align: right;\">\n",
       "      <th></th>\n",
       "      <th>full_expt_name</th>\n",
       "      <th>Loader</th>\n",
       "      <th>Splitter</th>\n",
       "      <th>Preprocessor</th>\n",
       "      <th>Synthesizer</th>\n",
       "      <th>Postprocessor</th>\n",
       "      <th>Evaluator</th>\n",
       "      <th>demo-diagnostic_Score</th>\n",
       "      <th>demo-diagnostic_Data Validity</th>\n",
       "      <th>demo-diagnostic_Data Structure</th>\n",
       "      <th>...</th>\n",
       "      <th>demo-inference_attack_rate_err</th>\n",
       "      <th>demo-inference_baseline_rate</th>\n",
       "      <th>demo-inference_baseline_rate_err</th>\n",
       "      <th>demo-inference_control_rate</th>\n",
       "      <th>demo-inference_control_rate_err</th>\n",
       "      <th>demo-classification_ori_mean</th>\n",
       "      <th>demo-classification_ori_std</th>\n",
       "      <th>demo-classification_syn_mean</th>\n",
       "      <th>demo-classification_syn_std</th>\n",
       "      <th>demo-classification_diff</th>\n",
       "    </tr>\n",
       "  </thead>\n",
       "  <tbody>\n",
       "    <tr>\n",
       "      <th>0</th>\n",
       "      <td>Loader[data]_Splitter[demo_[1-1]]_Preprocessor...</td>\n",
       "      <td>data</td>\n",
       "      <td>demo_[1-1]</td>\n",
       "      <td>demo</td>\n",
       "      <td>demo</td>\n",
       "      <td>demo</td>\n",
       "      <td>[global]</td>\n",
       "      <td>1.0</td>\n",
       "      <td>NaN</td>\n",
       "      <td>NaN</td>\n",
       "      <td>...</td>\n",
       "      <td>0.02</td>\n",
       "      <td>0.63</td>\n",
       "      <td>0.02</td>\n",
       "      <td>0.67</td>\n",
       "      <td>0.02</td>\n",
       "      <td>0.86</td>\n",
       "      <td>0.01</td>\n",
       "      <td>0.78</td>\n",
       "      <td>0.03</td>\n",
       "      <td>-0.08</td>\n",
       "    </tr>\n",
       "  </tbody>\n",
       "</table>\n",
       "<p>1 rows × 45 columns</p>\n",
       "</div>"
      ],
      "text/plain": [
       "                                      full_expt_name Loader    Splitter  \\\n",
       "0  Loader[data]_Splitter[demo_[1-1]]_Preprocessor...   data  demo_[1-1]   \n",
       "\n",
       "  Preprocessor Synthesizer Postprocessor Evaluator  demo-diagnostic_Score  \\\n",
       "0         demo        demo          demo  [global]                    1.0   \n",
       "\n",
       "   demo-diagnostic_Data Validity  demo-diagnostic_Data Structure  ...  \\\n",
       "0                            NaN                             NaN  ...   \n",
       "\n",
       "   demo-inference_attack_rate_err  demo-inference_baseline_rate  \\\n",
       "0                            0.02                          0.63   \n",
       "\n",
       "   demo-inference_baseline_rate_err  demo-inference_control_rate  \\\n",
       "0                              0.02                         0.67   \n",
       "\n",
       "   demo-inference_control_rate_err  demo-classification_ori_mean  \\\n",
       "0                             0.02                          0.86   \n",
       "\n",
       "   demo-classification_ori_std  demo-classification_syn_mean  \\\n",
       "0                         0.01                          0.78   \n",
       "\n",
       "   demo-classification_syn_std  demo-classification_diff  \n",
       "0                         0.03                     -0.08  \n",
       "\n",
       "[1 rows x 45 columns]"
      ]
     },
     "execution_count": 3,
     "metadata": {},
     "output_type": "execute_result"
    }
   ],
   "source": [
    "exec_case.get_result()[\n",
    "    \"Loader[data]_Splitter[demo_[1-1]]_Preprocessor[demo]_Synthesizer[demo]_Postprocessor[demo]_Evaluator[demo-classification]_Reporter[save_report_global]\"\n",
    "][\"[global]\"]"
   ]
  }
 ],
 "metadata": {
  "kernelspec": {
   "display_name": "petsard",
   "language": "python",
   "name": "python3"
  },
  "language_info": {
   "codemirror_mode": {
    "name": "ipython",
    "version": 3
   },
   "file_extension": ".py",
   "mimetype": "text/x-python",
   "name": "python",
   "nbconvert_exporter": "python",
   "pygments_lexer": "ipython3",
   "version": "3.11.12"
  }
 },
 "nbformat": 4,
 "nbformat_minor": 2
}
