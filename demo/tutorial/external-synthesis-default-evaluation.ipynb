{
 "cells": [
  {
   "cell_type": "markdown",
   "metadata": {},
   "source": [
    "# Environment setting / 環境設定\n",
    "External Synthesis with Default Evaluation / 外部合成與預設評測"
   ]
  },
  {
   "cell_type": "code",
   "execution_count": 1,
   "metadata": {},
   "outputs": [
    {
     "name": "stdout",
     "output_type": "stream",
     "text": [
      "🚀 PETsARD v1.5.1\n",
      "📅 2025-07-31 12:19:29 UTC+8\n",
      "📁 Subfolder: tutorial\n",
      "📄 YAML path: petsard/demo/tutorial/external-synthesis-default-evaluation.yaml\n",
      "⚙️ Configuration content:\n",
      "---\n",
      "Splitter:\n",
      "  custom:\n",
      "    method: 'custom_data'\n",
      "    filepath:\n",
      "      ori: 'benchmark/adult-income_ori.csv'\n",
      "      control: 'benchmark/adult-income_control.csv'\n",
      "Synthesizer:\n",
      "  custom:\n",
      "    method: 'custom_data'\n",
      "    filepath: 'benchmark/adult-income_syn.csv'\n",
      "Evaluator:\n",
      "  demo-diagnostic:\n",
      "    method: 'sdmetrics-diagnosticreport'\n",
      "  demo-quality:\n",
      "    method: 'sdmetrics-qualityreport'\n",
      "  demo-singlingout:\n",
      "    method: 'anonymeter-singlingout'\n",
      "  demo-linkability:\n",
      "    method: 'anonymeter-linkability'\n",
      "    aux_cols:\n",
      "      -\n",
      "        - 'age'\n",
      "        - 'marital-status'\n",
      "        - 'relationship'\n",
      "        - 'gender'\n",
      "      -\n",
      "        - 'workclass'\n",
      "        - 'educational-num'\n",
      "        - 'occupation'\n",
      "        - 'income'\n",
      "  demo-inference:\n",
      "    method: 'anonymeter-inference'\n",
      "    secret: 'income'\n",
      "  demo-classification:\n",
      "    method: 'mlutility-classification'\n",
      "    target: 'income'\n",
      "Reporter:\n",
      "  save_report_global:\n",
      "    method: 'save_report'\n",
      "    granularity: 'global'\n",
      "...\n"
     ]
    }
   ],
   "source": [
    "import os\n",
    "import sys\n",
    "from pathlib import Path\n",
    "\n",
    "# 自動載入 utils / Auto-load utils\n",
    "if \"COLAB_GPU\" in os.environ:\n",
    "    url = \"https://raw.githubusercontent.com/nics-tw/petsard/main/demo/utils.py\"\n",
    "    exec(open(url).read())\n",
    "else:\n",
    "    # 靜默搜尋 utils.py / Silent search for utils.py\n",
    "    current = Path.cwd()\n",
    "    for _ in range(5):\n",
    "        if (current / \"utils.py\").exists():\n",
    "            sys.path.insert(0, str(current))\n",
    "            break\n",
    "        current = current.parent\n",
    "\n",
    "    # 匯入 utils 模組 / Import utils module\n",
    "    from utils import quick_setup\n",
    "\n",
    "# 快速設定 / Quick setup\n",
    "is_colab, branch, yaml_path = quick_setup(\n",
    "    yaml_file=\"external-synthesis-default-evaluation.yaml\",\n",
    "    benchmark_data=[\n",
    "        \"adult-income_ori\",\n",
    "        \"adult-income_control\",\n",
    "        \"adult-income_syn\",\n",
    "    ],\n",
    "    branch=\"main\",  # 可選，預設為 \"main\"\n",
    ")\n",
    "\n",
    "from petsard import Executor"
   ]
  },
  {
   "cell_type": "markdown",
   "metadata": {},
   "source": [
    "# Execution and Result / 執行與結果"
   ]
  },
  {
   "cell_type": "code",
   "execution_count": 2,
   "metadata": {},
   "outputs": [
    {
     "name": "stdout",
     "output_type": "stream",
     "text": [
      "Generating report ...\n",
      "\n",
      "(1/2) Evaluating Data Validity: |██████████| 15/15 [00:00<00:00, 962.89it/s]|\n",
      "Data Validity Score: 100.0%\n",
      "\n",
      "(2/2) Evaluating Data Structure: |██████████| 1/1 [00:00<00:00, 718.45it/s]|\n",
      "Data Structure Score: 100.0%\n",
      "\n",
      "Overall Score (Average): 100.0%\n",
      "\n",
      "Now is petsard[Report]_[global] save to csv...\n",
      "Generating report ...\n",
      "\n",
      "(1/2) Evaluating Column Shapes: |██████████| 15/15 [00:00<00:00, 105.94it/s]|\n",
      "Column Shapes Score: 95.26%\n",
      "\n",
      "(2/2) Evaluating Column Pair Trends: |██████████| 105/105 [00:00<00:00, 356.40it/s]|\n",
      "Column Pair Trends Score: 61.56%\n",
      "\n",
      "Overall Score (Average): 78.41%\n",
      "\n",
      "Now is petsard[Report]_[global] save to csv...\n"
     ]
    },
    {
     "name": "stderr",
     "output_type": "stream",
     "text": [
      "Found 1629 failed queries out of 2000. Check DEBUG messages for more details.\n",
      "Reached maximum number of attempts 500000 when generating singling out queries. Returning 139 instead of the requested 2000.To avoid this, increase the number of attempts or set it to ``None`` to disable The limitation entirely.\n",
      "Attack `multivariate` could generate only 139 singling out queries out of the requested 2000. This can probably lead to an underestimate of the singling out risk.\n"
     ]
    },
    {
     "name": "stdout",
     "output_type": "stream",
     "text": [
      "Now is petsard[Report]_[global] save to csv...\n"
     ]
    },
    {
     "name": "stderr",
     "output_type": "stream",
     "text": [
      "/Users/justyn.chen/Library/CloudStorage/Dropbox/5_Career 工作/20231016_NICS 資安院/3_工藝：PETsARD/petsard/.venv/lib/python3.11/site-packages/anonymeter/stats/confidence.py:218: UserWarning: Attack is as good or worse as baseline model. Estimated rates: attack = 0.0009585236406264672, baseline = 0.0014575651169858408. Analysis results cannot be trusted.\n",
      "  self._sanity_check()\n"
     ]
    },
    {
     "name": "stdout",
     "output_type": "stream",
     "text": [
      "Now is petsard[Report]_[global] save to csv...\n",
      "Now is petsard[Report]_[global] save to csv...\n",
      "Now is petsard[Report]_[global] save to csv...\n"
     ]
    }
   ],
   "source": [
    "exec_case = Executor(config=yaml_path)\n",
    "exec_case.run()"
   ]
  },
  {
   "cell_type": "code",
   "execution_count": 3,
   "metadata": {},
   "outputs": [
    {
     "data": {
      "text/html": [
       "<div>\n",
       "<style scoped>\n",
       "    .dataframe tbody tr th:only-of-type {\n",
       "        vertical-align: middle;\n",
       "    }\n",
       "\n",
       "    .dataframe tbody tr th {\n",
       "        vertical-align: top;\n",
       "    }\n",
       "\n",
       "    .dataframe thead th {\n",
       "        text-align: right;\n",
       "    }\n",
       "</style>\n",
       "<table border=\"1\" class=\"dataframe\">\n",
       "  <thead>\n",
       "    <tr style=\"text-align: right;\">\n",
       "      <th></th>\n",
       "      <th>full_expt_name</th>\n",
       "      <th>Splitter</th>\n",
       "      <th>Synthesizer</th>\n",
       "      <th>Evaluator</th>\n",
       "      <th>demo-diagnostic_Score</th>\n",
       "      <th>demo-diagnostic_Data Validity</th>\n",
       "      <th>demo-diagnostic_Data Structure</th>\n",
       "      <th>demo-quality_Score</th>\n",
       "      <th>demo-quality_Column Shapes</th>\n",
       "      <th>demo-quality_Column Pair Trends</th>\n",
       "      <th>...</th>\n",
       "      <th>demo-inference_attack_rate_err</th>\n",
       "      <th>demo-inference_baseline_rate</th>\n",
       "      <th>demo-inference_baseline_rate_err</th>\n",
       "      <th>demo-inference_control_rate</th>\n",
       "      <th>demo-inference_control_rate_err</th>\n",
       "      <th>demo-classification_ori_mean</th>\n",
       "      <th>demo-classification_ori_std</th>\n",
       "      <th>demo-classification_syn_mean</th>\n",
       "      <th>demo-classification_syn_std</th>\n",
       "      <th>demo-classification_diff</th>\n",
       "    </tr>\n",
       "  </thead>\n",
       "  <tbody>\n",
       "    <tr>\n",
       "      <th>0</th>\n",
       "      <td>Splitter[custom_[1-1]]_Synthesizer[custom]_Eva...</td>\n",
       "      <td>custom_[1-1]</td>\n",
       "      <td>custom</td>\n",
       "      <td>[global]</td>\n",
       "      <td>1.0</td>\n",
       "      <td>NaN</td>\n",
       "      <td>NaN</td>\n",
       "      <td>0.78</td>\n",
       "      <td>NaN</td>\n",
       "      <td>NaN</td>\n",
       "      <td>...</td>\n",
       "      <td>0.02</td>\n",
       "      <td>0.64</td>\n",
       "      <td>0.02</td>\n",
       "      <td>0.69</td>\n",
       "      <td>0.02</td>\n",
       "      <td>0.86</td>\n",
       "      <td>0.01</td>\n",
       "      <td>0.78</td>\n",
       "      <td>0.01</td>\n",
       "      <td>-0.08</td>\n",
       "    </tr>\n",
       "  </tbody>\n",
       "</table>\n",
       "<p>1 rows × 42 columns</p>\n",
       "</div>"
      ],
      "text/plain": [
       "                                      full_expt_name      Splitter  \\\n",
       "0  Splitter[custom_[1-1]]_Synthesizer[custom]_Eva...  custom_[1-1]   \n",
       "\n",
       "  Synthesizer Evaluator  demo-diagnostic_Score  demo-diagnostic_Data Validity  \\\n",
       "0      custom  [global]                    1.0                            NaN   \n",
       "\n",
       "   demo-diagnostic_Data Structure  demo-quality_Score  \\\n",
       "0                             NaN                0.78   \n",
       "\n",
       "   demo-quality_Column Shapes  demo-quality_Column Pair Trends  ...  \\\n",
       "0                         NaN                              NaN  ...   \n",
       "\n",
       "   demo-inference_attack_rate_err  demo-inference_baseline_rate  \\\n",
       "0                            0.02                          0.64   \n",
       "\n",
       "   demo-inference_baseline_rate_err  demo-inference_control_rate  \\\n",
       "0                              0.02                         0.69   \n",
       "\n",
       "   demo-inference_control_rate_err  demo-classification_ori_mean  \\\n",
       "0                             0.02                          0.86   \n",
       "\n",
       "   demo-classification_ori_std  demo-classification_syn_mean  \\\n",
       "0                         0.01                          0.78   \n",
       "\n",
       "   demo-classification_syn_std  demo-classification_diff  \n",
       "0                         0.01                     -0.08  \n",
       "\n",
       "[1 rows x 42 columns]"
      ]
     },
     "execution_count": 3,
     "metadata": {},
     "output_type": "execute_result"
    }
   ],
   "source": [
    "exec_case.get_result()[\n",
    "    \"Splitter[custom_[1-1]]_Synthesizer[custom]_Evaluator[demo-classification]_Reporter[save_report_global]\"\n",
    "][\"[global]\"]"
   ]
  }
 ],
 "metadata": {
  "kernelspec": {
   "display_name": "petsard",
   "language": "python",
   "name": "python3"
  },
  "language_info": {
   "codemirror_mode": {
    "name": "ipython",
    "version": 3
   },
   "file_extension": ".py",
   "mimetype": "text/x-python",
   "name": "python",
   "nbconvert_exporter": "python",
   "pygments_lexer": "ipython3",
   "version": "3.11.12"
  }
 },
 "nbformat": 4,
 "nbformat_minor": 2
}
