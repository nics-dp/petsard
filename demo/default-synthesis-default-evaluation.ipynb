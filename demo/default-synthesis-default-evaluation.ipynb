{
 "cells": [
  {
   "cell_type": "markdown",
   "metadata": {},
   "source": [
    "# Environment setting\n",
    "環境設定"
   ]
  },
  {
   "cell_type": "code",
   "execution_count": 1,
   "metadata": {},
   "outputs": [],
   "source": [
    "import os\n",
    "import requests\n",
    "from pathlib import Path\n",
    "\n",
    "\n",
    "# determine branch, default is main\n",
    "branch = \"main\"\n",
    "\n",
    "# Check if running in Google Colab\n",
    "is_colab = \"COLAB_GPU\" in os.environ\n",
    "\n",
    "if is_colab:\n",
    "    # Download the utils.py file from GitHub\n",
    "    utils_url = (\n",
    "        f\"https://raw.githubusercontent.com/nics-tw/petsard/{branch}/demo/utils.py\"\n",
    "    )\n",
    "    response = requests.get(utils_url)\n",
    "\n",
    "    if response.status_code == 200:\n",
    "        # Save the utils.py file\n",
    "        with open(\"utils.py\", \"w\") as f:\n",
    "            f.write(response.text)\n",
    "\n",
    "        # Create an empty __init__.py\n",
    "        Path(\"__init__.py\").touch()\n",
    "    else:\n",
    "        raise RuntimeError(\n",
    "            f\"Failed to download utils.py. Status code: {response.status_code}\"\n",
    "        )"
   ]
  },
  {
   "cell_type": "code",
   "execution_count": null,
   "metadata": {},
   "outputs": [],
   "source": [
    "# Now import and run the setup\n",
    "from utils import (\n",
    "    get_yaml_path,\n",
    "    setup_environment,\n",
    ")\n",
    "\n",
    "\n",
    "setup_environment(\n",
    "    is_colab,\n",
    "    branch,\n",
    "    benchmark_data=[\n",
    "        \"adult-income\",\n",
    "    ],\n",
    ")"
   ]
  },
  {
   "cell_type": "code",
   "execution_count": 3,
   "metadata": {},
   "outputs": [],
   "source": [
    "from petsard import Executor"
   ]
  },
  {
   "cell_type": "markdown",
   "metadata": {},
   "source": [
    "# YAML Configuration for PETsARD\n",
    "PETsARD 的 YAML 設定"
   ]
  },
  {
   "cell_type": "markdown",
   "metadata": {},
   "source": [
    "## Default Synthesis and Default Evaluation\n",
    "預設合成與預設評測"
   ]
  },
  {
   "cell_type": "code",
   "execution_count": 4,
   "metadata": {},
   "outputs": [
    {
     "name": "stdout",
     "output_type": "stream",
     "text": [
      "Configuration content:\n",
      "---\n",
      "Loader:\n",
      "  data:\n",
      "    filepath: 'benchmark/adult-income.csv'\n",
      "Splitter:\n",
      "  demo:\n",
      "    num_samples: 1\n",
      "    train_split_ratio: 0.8\n",
      "Preprocessor:\n",
      "  demo:\n",
      "    method: 'default'\n",
      "Synthesizer:\n",
      "  demo:\n",
      "    method: 'default'\n",
      "Postprocessor:\n",
      "  demo:\n",
      "    method: 'default'\n",
      "Evaluator:\n",
      "  demo-diagnostic:\n",
      "    method: 'sdmetrics-diagnosticreport'\n",
      "  demo-quality:\n",
      "    method: 'sdmetrics-qualityreport'\n",
      "  demo-singlingout:\n",
      "    method: 'anonymeter-singlingout'\n",
      "  demo-linkability:\n",
      "    method: 'anonymeter-linkability'\n",
      "    aux_cols:\n",
      "      -\n",
      "        - 'age'\n",
      "        - 'marital-status'\n",
      "        - 'relationship'\n",
      "        - 'gender'\n",
      "      -\n",
      "        - 'workclass'\n",
      "        - 'educational-num'\n",
      "        - 'occupation'\n",
      "        - 'income'\n",
      "  demo-inference:\n",
      "    method: 'anonymeter-inference'\n",
      "    secret: 'income'\n",
      "  demo-classification:\n",
      "    method: 'mlutility-classification'\n",
      "    target: 'income'\n",
      "Reporter:\n",
      "  output:\n",
      "    method: 'save_data'\n",
      "    source: 'Synthesizer'\n",
      "  save_report_global:\n",
      "    method: 'save_report'\n",
      "    granularity: 'global'\n",
      "...\n"
     ]
    }
   ],
   "source": [
    "yaml_file_case: str = \"default-synthesis-default-evaluation.yaml\"\n",
    "\n",
    "yaml_path_case: str = get_yaml_path(\n",
    "    is_colab=is_colab,\n",
    "    yaml_file=yaml_file_case,\n",
    "    branch=branch,\n",
    ")"
   ]
  },
  {
   "cell_type": "markdown",
   "metadata": {},
   "source": [
    "### Execution and Result\n",
    "執行與結果"
   ]
  },
  {
   "cell_type": "code",
   "execution_count": 5,
   "metadata": {},
   "outputs": [
    {
     "name": "stdout",
     "output_type": "stream",
     "text": [
      "Generating report ...\n",
      "\n",
      "(1/2) Evaluating Data Validity: |██████████| 15/15 [00:00<00:00, 781.62it/s]|\n",
      "Data Validity Score: 100.0%\n",
      "\n",
      "(2/2) Evaluating Data Structure: |██████████| 1/1 [00:00<00:00, 601.33it/s]|\n",
      "Data Structure Score: 100.0%\n",
      "\n",
      "Overall Score (Average): 100.0%\n",
      "\n",
      "Now is petsard_Loader[data]_Splitter[demo_[1-1]]_Preprocessor[demo]_Synthesizer[demo] save to csv...\n",
      "Now is petsard[Report]_[global] save to csv...\n",
      "Generating report ...\n",
      "\n",
      "(1/2) Evaluating Column Shapes: |██████████| 15/15 [00:00<00:00, 91.08it/s]|\n",
      "Column Shapes Score: 95.2%\n",
      "\n",
      "(2/2) Evaluating Column Pair Trends: |██████████| 105/105 [00:00<00:00, 264.16it/s]|\n",
      "Column Pair Trends Score: 61.61%\n",
      "\n",
      "Overall Score (Average): 78.4%\n",
      "\n",
      "Now is petsard_Loader[data]_Splitter[demo_[1-1]]_Preprocessor[demo]_Synthesizer[demo] save to csv...\n",
      "Now is petsard[Report]_[global] save to csv...\n"
     ]
    },
    {
     "name": "stderr",
     "output_type": "stream",
     "text": [
      "Found 1620 failed queries out of 2000. Check DEBUG messages for more details.\n",
      "Reached maximum number of attempts 500000 when generating singling out queries. Returning 244 instead of the requested 2000.To avoid this, increase the number of attempts or set it to ``None`` to disable The limitation entirely.\n",
      "Attack `multivariate` could generate only 244 singling out queries out of the requested 2000. This can probably lead to an underestimate of the singling out risk.\n"
     ]
    },
    {
     "name": "stdout",
     "output_type": "stream",
     "text": [
      "Now is petsard_Loader[data]_Splitter[demo_[1-1]]_Preprocessor[demo]_Synthesizer[demo] save to csv...\n",
      "Now is petsard[Report]_[global] save to csv...\n"
     ]
    },
    {
     "name": "stderr",
     "output_type": "stream",
     "text": [
      "/Users/justyn.chen/Library/CloudStorage/Dropbox/5_Career 工作/20231016_NICS 資安院/3_工藝：PETsARD/petsard/.venv/lib/python3.11/site-packages/anonymeter/stats/confidence.py:218: UserWarning: Attack is as good or worse as baseline model. Estimated rates: attack = 0.0009585236406264672, baseline = 0.0009585236406264672. Analysis results cannot be trusted.\n",
      "  self._sanity_check()\n"
     ]
    },
    {
     "name": "stdout",
     "output_type": "stream",
     "text": [
      "Now is petsard_Loader[data]_Splitter[demo_[1-1]]_Preprocessor[demo]_Synthesizer[demo] save to csv...\n",
      "Now is petsard[Report]_[global] save to csv...\n",
      "Now is petsard_Loader[data]_Splitter[demo_[1-1]]_Preprocessor[demo]_Synthesizer[demo] save to csv...\n",
      "Now is petsard[Report]_[global] save to csv...\n",
      "Now is petsard_Loader[data]_Splitter[demo_[1-1]]_Preprocessor[demo]_Synthesizer[demo] save to csv...\n",
      "Now is petsard[Report]_[global] save to csv...\n"
     ]
    }
   ],
   "source": [
    "exec_case = Executor(config=yaml_path_case)\n",
    "exec_case.run()"
   ]
  },
  {
   "cell_type": "code",
   "execution_count": 6,
   "metadata": {},
   "outputs": [
    {
     "data": {
      "text/plain": [
       "{'Loader[data]_Splitter[demo_[1-1]]_Preprocessor[demo]_Synthesizer[demo]':             age  workclass    fnlwgt  education  educational-num  \\\n",
       " 0     -0.617659   0.814321 -1.174308   0.783699        -0.218824   \n",
       " 1      0.252768   0.770765 -0.592789   0.365872        -0.957753   \n",
       " 2      0.452182   0.317650 -1.325093   0.387372         0.450148   \n",
       " 3     -0.692329   0.241160 -0.166026   0.432247        -0.766983   \n",
       " 4      1.228550   0.941172  0.657746   0.438060         1.106206   \n",
       " ...         ...        ...       ...        ...              ...   \n",
       " 22832 -0.078614   0.176434  0.406921   0.351331        -0.795212   \n",
       " 22833  0.785289   0.241195 -1.410539   0.232494        -0.120027   \n",
       " 22834  1.986224   0.133010  0.355151   0.289892        -0.200398   \n",
       " 22835 -0.104737   0.494938  0.801831   0.726470        -1.262237   \n",
       " 22836 -0.318656   0.685318  0.086907   0.701775         0.594130   \n",
       " \n",
       "        marital-status  occupation  relationship      race    gender  \\\n",
       " 0            0.401799    0.061220      0.301168  0.314393  0.433252   \n",
       " 1            0.498054    0.237042      0.519020  0.210425  0.225080   \n",
       " 2            0.874241    0.903444      0.751610  0.848066  0.634129   \n",
       " 3            0.272224    0.649540      0.304936  0.371997  0.542785   \n",
       " 4            0.452564    0.297853      0.870398  0.906406  0.967870   \n",
       " ...               ...         ...           ...       ...       ...   \n",
       " 22832        0.588805    0.871981      0.270159  0.232423  0.537301   \n",
       " 22833        0.229293    0.739011      0.109217  0.646312  0.787315   \n",
       " 22834        0.359683    0.344336      0.355832  0.628298  0.858910   \n",
       " 22835        0.795001    0.976479      0.921089  0.766746  0.690607   \n",
       " 22836        0.631686    0.878501      0.881606  0.523885  0.390735   \n",
       " \n",
       "        capital-gain  capital-loss  hours-per-week  native-country    income  \n",
       " 0          -0.14512     -0.218272        0.404728        0.473637  0.817357  \n",
       " 1          -0.14512     -0.218272        0.259297        0.735538  0.011980  \n",
       " 2          -0.14512     -0.218272       -0.000181        0.173548  0.089495  \n",
       " 3          -0.14512     -0.218272       -0.011242        0.360956  0.792305  \n",
       " 4          -0.14512     -0.218272       -0.089720        0.621750  0.612672  \n",
       " ...             ...           ...             ...             ...       ...  \n",
       " 22832      -0.14512     -0.218272        0.017499        0.802303  0.490066  \n",
       " 22833      -0.14512     -0.218272        0.482139        0.038241  0.938292  \n",
       " 22834      -0.14512     -0.218272        0.240331        0.784771  0.286302  \n",
       " 22835      -0.14512     -0.218272       -0.007152        0.499341  0.075359  \n",
       " 22836      -0.14512     -0.218272       -0.414664        0.460276  0.067251  \n",
       " \n",
       " [22837 rows x 15 columns],\n",
       " '[global]':                                       full_expt_name Loader    Splitter  \\\n",
       " 0  Loader[data]_Splitter[demo_[1-1]]_Preprocessor...   data  demo_[1-1]   \n",
       " \n",
       "   Preprocessor Synthesizer Postprocessor Evaluator     Score  Data Validity  \\\n",
       " 0         demo        demo          demo  [global]  0.784044            1.0   \n",
       " \n",
       "    Data Structure  ...  attack_rate_err  baseline_rate  baseline_rate_err  \\\n",
       " 0             1.0  ...         0.019841       0.646718           0.020926   \n",
       " \n",
       "    control_rate  control_rate_err  ori_mean   ori_std  syn_mean   syn_std  \\\n",
       " 0      0.707102          0.019922   0.85367  0.005518   0.77902  0.011626   \n",
       " \n",
       "       diff  \n",
       " 0 -0.07465  \n",
       " \n",
       " [1 rows x 26 columns]}"
      ]
     },
     "execution_count": 6,
     "metadata": {},
     "output_type": "execute_result"
    }
   ],
   "source": [
    "exec_case.status.get_report()"
   ]
  },
  {
   "cell_type": "code",
   "execution_count": null,
   "metadata": {},
   "outputs": [
    {
     "data": {
      "text/plain": [
       "{'global':    ori_mean   ori_std  syn_mean   syn_std     diff\n",
       " 0   0.85367  0.005518   0.77902  0.011626 -0.07465,\n",
       " 'details': {'ori': {'logistic_regression': 0.8509571092230526,\n",
       "   'svc': 0.8485003582761798,\n",
       "   'random_forest': 0.8522878493192753,\n",
       "   'gradient_boosting': 0.8629337700890573},\n",
       "  'syn': {'logistic_regression': 0.7970109530146381,\n",
       "   'svc': 0.7645613675913604,\n",
       "   'random_forest': 0.7763332992117924,\n",
       "   'gradient_boosting': 0.778175862421947}}}"
      ]
     },
     "execution_count": 7,
     "metadata": {},
     "output_type": "execute_result"
    }
   ],
   "source": [
    "exec_case.status.status[\"Evaluator\"][\"operator\"].get_result()"
   ]
  },
  {
   "cell_type": "code",
   "execution_count": 8,
   "metadata": {},
   "outputs": [
    {
     "data": {
      "text/html": [
       "<div>\n",
       "<style scoped>\n",
       "    .dataframe tbody tr th:only-of-type {\n",
       "        vertical-align: middle;\n",
       "    }\n",
       "\n",
       "    .dataframe tbody tr th {\n",
       "        vertical-align: top;\n",
       "    }\n",
       "\n",
       "    .dataframe thead th {\n",
       "        text-align: right;\n",
       "    }\n",
       "</style>\n",
       "<table border=\"1\" class=\"dataframe\">\n",
       "  <thead>\n",
       "    <tr style=\"text-align: right;\">\n",
       "      <th></th>\n",
       "      <th>full_expt_name</th>\n",
       "      <th>Loader</th>\n",
       "      <th>Splitter</th>\n",
       "      <th>Preprocessor</th>\n",
       "      <th>Synthesizer</th>\n",
       "      <th>Postprocessor</th>\n",
       "      <th>Evaluator</th>\n",
       "      <th>Score</th>\n",
       "      <th>Data Validity</th>\n",
       "      <th>Data Structure</th>\n",
       "      <th>...</th>\n",
       "      <th>attack_rate_err</th>\n",
       "      <th>baseline_rate</th>\n",
       "      <th>baseline_rate_err</th>\n",
       "      <th>control_rate</th>\n",
       "      <th>control_rate_err</th>\n",
       "      <th>ori_mean</th>\n",
       "      <th>ori_std</th>\n",
       "      <th>syn_mean</th>\n",
       "      <th>syn_std</th>\n",
       "      <th>diff</th>\n",
       "    </tr>\n",
       "  </thead>\n",
       "  <tbody>\n",
       "    <tr>\n",
       "      <th>0</th>\n",
       "      <td>Loader[data]_Splitter[demo_[1-1]]_Preprocessor...</td>\n",
       "      <td>data</td>\n",
       "      <td>demo_[1-1]</td>\n",
       "      <td>demo</td>\n",
       "      <td>demo</td>\n",
       "      <td>demo</td>\n",
       "      <td>[global]</td>\n",
       "      <td>0.784044</td>\n",
       "      <td>1.0</td>\n",
       "      <td>1.0</td>\n",
       "      <td>...</td>\n",
       "      <td>0.019841</td>\n",
       "      <td>0.646718</td>\n",
       "      <td>0.020926</td>\n",
       "      <td>0.707102</td>\n",
       "      <td>0.019922</td>\n",
       "      <td>0.85367</td>\n",
       "      <td>0.005518</td>\n",
       "      <td>0.77902</td>\n",
       "      <td>0.011626</td>\n",
       "      <td>-0.07465</td>\n",
       "    </tr>\n",
       "  </tbody>\n",
       "</table>\n",
       "<p>1 rows × 26 columns</p>\n",
       "</div>"
      ],
      "text/plain": [
       "                                      full_expt_name Loader    Splitter  \\\n",
       "0  Loader[data]_Splitter[demo_[1-1]]_Preprocessor...   data  demo_[1-1]   \n",
       "\n",
       "  Preprocessor Synthesizer Postprocessor Evaluator     Score  Data Validity  \\\n",
       "0         demo        demo          demo  [global]  0.784044            1.0   \n",
       "\n",
       "   Data Structure  ...  attack_rate_err  baseline_rate  baseline_rate_err  \\\n",
       "0             1.0  ...         0.019841       0.646718           0.020926   \n",
       "\n",
       "   control_rate  control_rate_err  ori_mean   ori_std  syn_mean   syn_std  \\\n",
       "0      0.707102          0.019922   0.85367  0.005518   0.77902  0.011626   \n",
       "\n",
       "      diff  \n",
       "0 -0.07465  \n",
       "\n",
       "[1 rows x 26 columns]"
      ]
     },
     "execution_count": 8,
     "metadata": {},
     "output_type": "execute_result"
    }
   ],
   "source": [
    "exec_case.get_result()[\n",
    "    \"Loader[data]_Splitter[demo_[1-1]]_Preprocessor[demo]_Synthesizer[demo]_Postprocessor[demo]_Evaluator[demo-classification]_Reporter[save_report_global]\"\n",
    "][\"[global]\"]"
   ]
  }
 ],
 "metadata": {
  "kernelspec": {
   "display_name": ".venv",
   "language": "python",
   "name": "python3"
  },
  "language_info": {
   "codemirror_mode": {
    "name": "ipython",
    "version": 3
   },
   "file_extension": ".py",
   "mimetype": "text/x-python",
   "name": "python",
   "nbconvert_exporter": "python",
   "pygments_lexer": "ipython3",
   "version": "3.11.12"
  }
 },
 "nbformat": 4,
 "nbformat_minor": 2
}
