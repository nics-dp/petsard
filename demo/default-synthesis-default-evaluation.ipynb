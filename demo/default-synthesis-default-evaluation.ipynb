{
 "cells": [
  {
   "cell_type": "markdown",
   "metadata": {},
   "source": [
    "# Environment setting\n",
    "環境設定"
   ]
  },
  {
   "cell_type": "code",
   "execution_count": 1,
   "metadata": {},
   "outputs": [],
   "source": [
    "import os\n",
    "import requests\n",
    "from pathlib import Path\n",
    "\n",
    "\n",
    "# determine branch, default is main\n",
    "branch = \"main\"\n",
    "\n",
    "# Check if running in Google Colab\n",
    "is_colab = \"COLAB_GPU\" in os.environ\n",
    "\n",
    "if is_colab:\n",
    "    # Download the utils.py file from GitHub\n",
    "    utils_url = (\n",
    "        f\"https://raw.githubusercontent.com/nics-tw/petsard/{branch}/demo/utils.py\"\n",
    "    )\n",
    "    response = requests.get(utils_url)\n",
    "\n",
    "    if response.status_code == 200:\n",
    "        # Save the utils.py file\n",
    "        with open(\"utils.py\", \"w\") as f:\n",
    "            f.write(response.text)\n",
    "\n",
    "        # Create an empty __init__.py\n",
    "        Path(\"__init__.py\").touch()\n",
    "    else:\n",
    "        raise RuntimeError(\n",
    "            f\"Failed to download utils.py. Status code: {response.status_code}\"\n",
    "        )"
   ]
  },
  {
   "cell_type": "code",
   "execution_count": null,
   "metadata": {},
   "outputs": [],
   "source": [
    "# Now import and run the setup\n",
    "from utils import (\n",
    "    get_yaml_path,\n",
    "    setup_environment,\n",
    ")\n",
    "\n",
    "\n",
    "setup_environment(\n",
    "    is_colab,\n",
    "    branch,\n",
    "    benchmark_data=[\n",
    "        \"adult-income\",\n",
    "    ],\n",
    ")"
   ]
  },
  {
   "cell_type": "code",
   "execution_count": 3,
   "metadata": {},
   "outputs": [],
   "source": [
    "from petsard import Executor"
   ]
  },
  {
   "cell_type": "markdown",
   "metadata": {},
   "source": [
    "# YAML Configuration for PETsARD\n",
    "PETsARD 的 YAML 設定"
   ]
  },
  {
   "cell_type": "markdown",
   "metadata": {},
   "source": [
    "## Default Synthesis and Default Evaluation\n",
    "預設合成與預設評測"
   ]
  },
  {
   "cell_type": "code",
   "execution_count": 4,
   "metadata": {},
   "outputs": [
    {
     "name": "stdout",
     "output_type": "stream",
     "text": [
      "Configuration content:\n",
      "---\n",
      "Loader:\n",
      "  data:\n",
      "    filepath: 'benchmark/adult-income.csv'\n",
      "Splitter:\n",
      "  demo:\n",
      "    num_samples: 1\n",
      "    train_split_ratio: 0.8\n",
      "Preprocessor:\n",
      "  demo:\n",
      "    method: 'default'\n",
      "Synthesizer:\n",
      "  demo:\n",
      "    method: 'default'\n",
      "Postprocessor:\n",
      "  demo:\n",
      "    method: 'default'\n",
      "Evaluator:\n",
      "  demo-diagnostic:\n",
      "    method: 'sdmetrics-diagnosticreport'\n",
      "  demo-quality:\n",
      "    method: 'sdmetrics-qualityreport'\n",
      "  demo-singlingout:\n",
      "    method: 'anonymeter-singlingout'\n",
      "  demo-linkability:\n",
      "    method: 'anonymeter-linkability'\n",
      "    aux_cols:\n",
      "      -\n",
      "        - 'age'\n",
      "        - 'marital-status'\n",
      "        - 'relationship'\n",
      "        - 'gender'\n",
      "      -\n",
      "        - 'workclass'\n",
      "        - 'educational-num'\n",
      "        - 'occupation'\n",
      "        - 'income'\n",
      "  demo-inference:\n",
      "    method: 'anonymeter-inference'\n",
      "    secret: 'income'\n",
      "  demo-classification:\n",
      "    method: 'mlutility-classification'\n",
      "    target: 'income'\n",
      "Reporter:\n",
      "  output:\n",
      "    method: 'save_data'\n",
      "    source: 'Synthesizer'\n",
      "  save_report_global:\n",
      "    method: 'save_report'\n",
      "    granularity: 'global'\n",
      "...\n"
     ]
    }
   ],
   "source": [
    "yaml_file_case: str = \"default-synthesis-default-evaluation.yaml\"\n",
    "\n",
    "yaml_path_case: str = get_yaml_path(\n",
    "    is_colab=is_colab,\n",
    "    yaml_file=yaml_file_case,\n",
    "    branch=branch,\n",
    ")"
   ]
  },
  {
   "cell_type": "markdown",
   "metadata": {},
   "source": [
    "### Execution and Result\n",
    "執行與結果"
   ]
  },
  {
   "cell_type": "code",
   "execution_count": 5,
   "metadata": {},
   "outputs": [
    {
     "name": "stdout",
     "output_type": "stream",
     "text": [
      "Generating report ...\n",
      "\n",
      "(1/2) Evaluating Data Validity: |██████████| 15/15 [00:00<00:00, 1143.19it/s]|\n",
      "Data Validity Score: 100.0%\n",
      "\n",
      "(2/2) Evaluating Data Structure: |██████████| 1/1 [00:00<00:00, 404.54it/s]|\n",
      "Data Structure Score: 100.0%\n",
      "\n",
      "Overall Score (Average): 100.0%\n",
      "\n",
      "Now is petsard_Loader[data]_Splitter[demo_[1-1]]_Preprocessor[demo]_Synthesizer[demo] save to csv...\n",
      "Now is petsard[Report]_[global] save to csv...\n",
      "Generating report ...\n",
      "\n",
      "(1/2) Evaluating Column Shapes: |██████████| 15/15 [00:00<00:00, 133.81it/s]|\n",
      "Column Shapes Score: 77.55%\n",
      "\n",
      "(2/2) Evaluating Column Pair Trends: |██████████| 105/105 [00:00<00:00, 353.80it/s]|\n",
      "Column Pair Trends Score: 66.7%\n",
      "\n",
      "Overall Score (Average): 72.12%\n",
      "\n",
      "Now is petsard_Loader[data]_Splitter[demo_[1-1]]_Preprocessor[demo]_Synthesizer[demo] save to csv...\n",
      "Now is petsard[Report]_[global] save to csv...\n"
     ]
    },
    {
     "name": "stderr",
     "output_type": "stream",
     "text": [
      "Found 1631 failed queries out of 2000. Check DEBUG messages for more details.\n",
      "Reached maximum number of attempts 500000 when generating singling out queries. Returning 151 instead of the requested 2000.To avoid this, increase the number of attempts or set it to ``None`` to disable The limitation entirely.\n",
      "Attack `multivariate` could generate only 151 singling out queries out of the requested 2000. This can probably lead to an underestimate of the singling out risk.\n"
     ]
    },
    {
     "name": "stdout",
     "output_type": "stream",
     "text": [
      "Now is petsard_Loader[data]_Splitter[demo_[1-1]]_Preprocessor[demo]_Synthesizer[demo] save to csv...\n",
      "Now is petsard[Report]_[global] save to csv...\n"
     ]
    },
    {
     "name": "stderr",
     "output_type": "stream",
     "text": [
      "/Users/justyn.chen/Library/CloudStorage/Dropbox/5_Career 工作/20231016_NICS 資安院/3_工藝：PETsARD/petsard/.venv/lib/python3.11/site-packages/anonymeter/stats/confidence.py:218: UserWarning: Attack is as good or worse as baseline model. Estimated rates: attack = 0.0009585236406264672, baseline = 0.0009585236406264672. Analysis results cannot be trusted.\n",
      "  self._sanity_check()\n"
     ]
    },
    {
     "name": "stdout",
     "output_type": "stream",
     "text": [
      "Now is petsard_Loader[data]_Splitter[demo_[1-1]]_Preprocessor[demo]_Synthesizer[demo] save to csv...\n",
      "Now is petsard[Report]_[global] save to csv...\n",
      "Now is petsard_Loader[data]_Splitter[demo_[1-1]]_Preprocessor[demo]_Synthesizer[demo] save to csv...\n",
      "Now is petsard[Report]_[global] save to csv...\n",
      "Now is petsard_Loader[data]_Splitter[demo_[1-1]]_Preprocessor[demo]_Synthesizer[demo] save to csv...\n",
      "Now is petsard[Report]_[global] save to csv...\n"
     ]
    }
   ],
   "source": [
    "exec_case = Executor(config=yaml_path_case)\n",
    "exec_case.run()"
   ]
  },
  {
   "cell_type": "code",
   "execution_count": 6,
   "metadata": {},
   "outputs": [
    {
     "data": {
      "text/plain": [
       "{'Loader[data]_Splitter[demo_[1-1]]_Preprocessor[demo]_Synthesizer[demo]':        age     workclass  fnlwgt     education  educational-num  \\\n",
       " 0       50  Never-worked  118142       5th-6th               12   \n",
       " 1       29  Never-worked  235469          10th                9   \n",
       " 2       27  Never-worked   75531  Some-college                9   \n",
       " 3       30  Self-emp-inc  155643       7th-8th                8   \n",
       " 4       37  Never-worked  197256       Masters               11   \n",
       " ...    ...           ...     ...           ...              ...   \n",
       " 39068   31   Without-pay  295510  Some-college                8   \n",
       " 39069   22       Private  474947  Some-college                7   \n",
       " 39070   74  Never-worked  107084  Some-college               13   \n",
       " 39071   46  Never-worked   58603   Prof-school               11   \n",
       " 39072   34       Private   44354       5th-6th               10   \n",
       " \n",
       "               marital-status         occupation   relationship  \\\n",
       " 0                  Separated     Prof-specialty        Husband   \n",
       " 1                    Widowed       Craft-repair  Not-in-family   \n",
       " 2                  Separated  Machine-op-inspct      Unmarried   \n",
       " 3      Married-spouse-absent       Adm-clerical        Husband   \n",
       " 4      Married-spouse-absent   Transport-moving  Not-in-family   \n",
       " ...                      ...                ...            ...   \n",
       " 39068          Never-married       Adm-clerical        Husband   \n",
       " 39069               Divorced   Transport-moving  Not-in-family   \n",
       " 39070              Separated    Exec-managerial      Own-child   \n",
       " 39071  Married-spouse-absent      Other-service           Wife   \n",
       " 39072               Divorced       Adm-clerical        Husband   \n",
       " \n",
       "                      race  gender  capital-gain  capital-loss  hours-per-week  \\\n",
       " 0                   White    Male         88681             0              39   \n",
       " 1                   White    Male          3875             0              58   \n",
       " 2                   White    Male          8189             0              30   \n",
       " 3                   White    Male         18375             0              32   \n",
       " 4                   White  Female         69408             1              48   \n",
       " ...                   ...     ...           ...           ...             ...   \n",
       " 39068               White    Male          1895            15              21   \n",
       " 39069               White    Male         99397             0              47   \n",
       " 39070               White  Female         44511             0              52   \n",
       " 39071  Asian-Pac-Islander    Male           213             0              57   \n",
       " 39072               White    Male         15689             0              83   \n",
       " \n",
       "            native-country income  \n",
       " 0           United-States  <=50K  \n",
       " 1           United-States  <=50K  \n",
       " 2           United-States   >50K  \n",
       " 3           United-States  <=50K  \n",
       " 4      Holand-Netherlands   >50K  \n",
       " ...                   ...    ...  \n",
       " 39068       United-States  <=50K  \n",
       " 39069       United-States  <=50K  \n",
       " 39070       United-States   >50K  \n",
       " 39071       United-States  <=50K  \n",
       " 39072       United-States  <=50K  \n",
       " \n",
       " [39073 rows x 15 columns],\n",
       " '[global]':                                       full_expt_name Loader    Splitter  \\\n",
       " 0  Loader[data]_Splitter[demo_[1-1]]_Preprocessor...   data  demo_[1-1]   \n",
       " \n",
       "   Preprocessor Synthesizer Postprocessor Evaluator  demo-diagnostic_Score  \\\n",
       " 0         demo        demo          demo  [global]                    1.0   \n",
       " \n",
       "    demo-diagnostic_Data Validity  demo-diagnostic_Data Structure  ...  \\\n",
       " 0                            NaN                             NaN  ...   \n",
       " \n",
       "    demo-inference_attack_rate_err  demo-inference_baseline_rate  \\\n",
       " 0                            0.02                          0.65   \n",
       " \n",
       "    demo-inference_baseline_rate_err  demo-inference_control_rate  \\\n",
       " 0                              0.02                         0.71   \n",
       " \n",
       "    demo-inference_control_rate_err  demo-classification_ori_mean  \\\n",
       " 0                             0.02                          0.86   \n",
       " \n",
       "    demo-classification_ori_std  demo-classification_syn_mean  \\\n",
       " 0                         0.01                          0.78   \n",
       " \n",
       "    demo-classification_syn_std  demo-classification_diff  \n",
       " 0                         0.02                     -0.08  \n",
       " \n",
       " [1 rows x 45 columns]}"
      ]
     },
     "execution_count": 6,
     "metadata": {},
     "output_type": "execute_result"
    }
   ],
   "source": [
    "exec_case.status.get_report()"
   ]
  },
  {
   "cell_type": "code",
   "execution_count": 7,
   "metadata": {},
   "outputs": [
    {
     "data": {
      "text/plain": [
       "{'global':    ori_mean  ori_std  syn_mean  syn_std  diff\n",
       " 0      0.86     0.01      0.78     0.02 -0.08,\n",
       " 'details': {'ori': {'logistic_regression': 0.8516736615825571,\n",
       "   'svc': 0.8450199611014434,\n",
       "   'random_forest': 0.8568942573446617,\n",
       "   'gradient_boosting': 0.8749104309550619},\n",
       "  'syn': {'logistic_regression': 0.8136963865288156,\n",
       "   'svc': 0.7632306274951377,\n",
       "   'random_forest': 0.7671204831610196,\n",
       "   'gradient_boosting': 0.7663015661787286}}}"
      ]
     },
     "execution_count": 7,
     "metadata": {},
     "output_type": "execute_result"
    }
   ],
   "source": [
    "exec_case.status.status[\"Evaluator\"][\"operator\"].get_result()"
   ]
  },
  {
   "cell_type": "code",
   "execution_count": 8,
   "metadata": {},
   "outputs": [
    {
     "data": {
      "text/html": [
       "<div>\n",
       "<style scoped>\n",
       "    .dataframe tbody tr th:only-of-type {\n",
       "        vertical-align: middle;\n",
       "    }\n",
       "\n",
       "    .dataframe tbody tr th {\n",
       "        vertical-align: top;\n",
       "    }\n",
       "\n",
       "    .dataframe thead th {\n",
       "        text-align: right;\n",
       "    }\n",
       "</style>\n",
       "<table border=\"1\" class=\"dataframe\">\n",
       "  <thead>\n",
       "    <tr style=\"text-align: right;\">\n",
       "      <th></th>\n",
       "      <th>full_expt_name</th>\n",
       "      <th>Loader</th>\n",
       "      <th>Splitter</th>\n",
       "      <th>Preprocessor</th>\n",
       "      <th>Synthesizer</th>\n",
       "      <th>Postprocessor</th>\n",
       "      <th>Evaluator</th>\n",
       "      <th>demo-diagnostic_Score</th>\n",
       "      <th>demo-diagnostic_Data Validity</th>\n",
       "      <th>demo-diagnostic_Data Structure</th>\n",
       "      <th>...</th>\n",
       "      <th>demo-inference_attack_rate_err</th>\n",
       "      <th>demo-inference_baseline_rate</th>\n",
       "      <th>demo-inference_baseline_rate_err</th>\n",
       "      <th>demo-inference_control_rate</th>\n",
       "      <th>demo-inference_control_rate_err</th>\n",
       "      <th>demo-classification_ori_mean</th>\n",
       "      <th>demo-classification_ori_std</th>\n",
       "      <th>demo-classification_syn_mean</th>\n",
       "      <th>demo-classification_syn_std</th>\n",
       "      <th>demo-classification_diff</th>\n",
       "    </tr>\n",
       "  </thead>\n",
       "  <tbody>\n",
       "    <tr>\n",
       "      <th>0</th>\n",
       "      <td>Loader[data]_Splitter[demo_[1-1]]_Preprocessor...</td>\n",
       "      <td>data</td>\n",
       "      <td>demo_[1-1]</td>\n",
       "      <td>demo</td>\n",
       "      <td>demo</td>\n",
       "      <td>demo</td>\n",
       "      <td>[global]</td>\n",
       "      <td>1.0</td>\n",
       "      <td>NaN</td>\n",
       "      <td>NaN</td>\n",
       "      <td>...</td>\n",
       "      <td>0.02</td>\n",
       "      <td>0.65</td>\n",
       "      <td>0.02</td>\n",
       "      <td>0.71</td>\n",
       "      <td>0.02</td>\n",
       "      <td>0.86</td>\n",
       "      <td>0.01</td>\n",
       "      <td>0.78</td>\n",
       "      <td>0.02</td>\n",
       "      <td>-0.08</td>\n",
       "    </tr>\n",
       "  </tbody>\n",
       "</table>\n",
       "<p>1 rows × 45 columns</p>\n",
       "</div>"
      ],
      "text/plain": [
       "                                      full_expt_name Loader    Splitter  \\\n",
       "0  Loader[data]_Splitter[demo_[1-1]]_Preprocessor...   data  demo_[1-1]   \n",
       "\n",
       "  Preprocessor Synthesizer Postprocessor Evaluator  demo-diagnostic_Score  \\\n",
       "0         demo        demo          demo  [global]                    1.0   \n",
       "\n",
       "   demo-diagnostic_Data Validity  demo-diagnostic_Data Structure  ...  \\\n",
       "0                            NaN                             NaN  ...   \n",
       "\n",
       "   demo-inference_attack_rate_err  demo-inference_baseline_rate  \\\n",
       "0                            0.02                          0.65   \n",
       "\n",
       "   demo-inference_baseline_rate_err  demo-inference_control_rate  \\\n",
       "0                              0.02                         0.71   \n",
       "\n",
       "   demo-inference_control_rate_err  demo-classification_ori_mean  \\\n",
       "0                             0.02                          0.86   \n",
       "\n",
       "   demo-classification_ori_std  demo-classification_syn_mean  \\\n",
       "0                         0.01                          0.78   \n",
       "\n",
       "   demo-classification_syn_std  demo-classification_diff  \n",
       "0                         0.02                     -0.08  \n",
       "\n",
       "[1 rows x 45 columns]"
      ]
     },
     "execution_count": 8,
     "metadata": {},
     "output_type": "execute_result"
    }
   ],
   "source": [
    "exec_case.get_result()[\n",
    "    \"Loader[data]_Splitter[demo_[1-1]]_Preprocessor[demo]_Synthesizer[demo]_Postprocessor[demo]_Evaluator[demo-classification]_Reporter[save_report_global]\"\n",
    "][\"[global]\"]"
   ]
  }
 ],
 "metadata": {
  "kernelspec": {
   "display_name": ".venv",
   "language": "python",
   "name": "python3"
  },
  "language_info": {
   "codemirror_mode": {
    "name": "ipython",
    "version": 3
   },
   "file_extension": ".py",
   "mimetype": "text/x-python",
   "name": "python",
   "nbconvert_exporter": "python",
   "pygments_lexer": "ipython3",
   "version": "3.11.12"
  }
 },
 "nbformat": 4,
 "nbformat_minor": 2
}
