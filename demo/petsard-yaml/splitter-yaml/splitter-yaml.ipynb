{
 "cells": [
  {
   "cell_type": "markdown",
   "metadata": {},
   "source": [
    "# Environment setting / 環境設定"
   ]
  },
  {
   "cell_type": "code",
   "execution_count": 1,
   "metadata": {},
   "outputs": [
    {
     "name": "stdout",
     "output_type": "stream",
     "text": [
      "📂 Current working directory: demo/petsard-yaml/splitter-yaml\n",
      "✅ PETsARD demo_utils loaded. Use quick_setup() to initialize.\n"
     ]
    }
   ],
   "source": [
    "import os  # noqa: I001\n",
    "import sys\n",
    "from pathlib import Path\n",
    "\n",
    "\n",
    "# Handle utils.py for Colab\n",
    "if \"COLAB_GPU\" in os.environ:\n",
    "    import urllib.request\n",
    "\n",
    "    demo_utils_url = (\n",
    "        \"https://raw.githubusercontent.com/nics-tw/petsard/main/demo/demo_utils.py\"\n",
    "    )\n",
    "    exec(urllib.request.urlopen(demo_utils_url).read().decode(\"utf-8\"))\n",
    "else:\n",
    "    # demo_utils.py search for local\n",
    "    for p in [Path.cwd()] + list(Path.cwd().parents)[:10]:\n",
    "        utils_path = p / \"demo_utils.py\"\n",
    "        if utils_path.exists() and \"demo\" in str(utils_path):\n",
    "            sys.path.insert(0, str(p))\n",
    "            exec(open(utils_path).read())\n",
    "            break"
   ]
  },
  {
   "cell_type": "markdown",
   "metadata": {},
   "source": [
    "## Quick setup / 快速設定: Loader YAML"
   ]
  },
  {
   "cell_type": "code",
   "execution_count": 2,
   "metadata": {},
   "outputs": [
    {
     "name": "stdout",
     "output_type": "stream",
     "text": [
      "✅ Changed working directory to demo: petsard/demo\n",
      "   📁 Notebook location: demo/petsard-yaml/splitter-yaml/\n",
      "   🔍 YAML search priority: \n",
      "      1. demo/petsard-yaml/splitter-yaml/\n",
      "      2. demo/\n",
      "   💾 Output files will be saved in: demo/\n",
      "🚀 PETsARD v1.7.0\n",
      "📅 2025-10-09 00:46:42 UTC+8\n",
      "✅ Loaded benchmark dataset: adult-income\n",
      "✅ Downloaded benchmark schema: adult-income_schema\n",
      "📁 Processing YAML files from subfolder: petsard-yaml/splitter-yaml\n",
      "✅ Found YAML (1/3): petsard/demo/petsard-yaml/splitter-yaml/basic-splitting.yaml\n",
      "✅ Found YAML (2/3): petsard/demo/petsard-yaml/splitter-yaml/controlled-overlap.yaml\n",
      "✅ Found YAML (3/3): petsard/demo/petsard-yaml/splitter-yaml/no-overlap-splitting.yaml\n"
     ]
    }
   ],
   "source": [
    "from demo_utils import display_results, display_yaml_info, quick_setup  # noqa: I001\n",
    "from petsard import Executor  # noqa: I001\n",
    "\n",
    "\n",
    "is_colab, branch, yaml_path = quick_setup(\n",
    "    yaml_file=[\n",
    "        \"basic-splitting.yaml\",\n",
    "        \"controlled-overlap.yaml\",\n",
    "        \"no-overlap-splitting.yaml\",\n",
    "    ],\n",
    "    benchmark_data=[\n",
    "        \"adult-income\",\n",
    "        \"adult-income_schema\",\n",
    "    ],\n",
    "    petsard_branch=\"main\",\n",
    ")"
   ]
  },
  {
   "cell_type": "markdown",
   "metadata": {},
   "source": [
    "# Execution and Result / 執行與結果"
   ]
  },
  {
   "cell_type": "markdown",
   "metadata": {},
   "source": [
    "## Basic Splitting / 基本分割"
   ]
  },
  {
   "cell_type": "code",
   "execution_count": 3,
   "metadata": {},
   "outputs": [
    {
     "name": "stdout",
     "output_type": "stream",
     "text": [
      "============================================================\n",
      "📋 YAML Configuration Files / YAML 設定檔案\n",
      "============================================================\n",
      "\n",
      "📄 File: basic-splitting.yaml\n",
      "📁 Path: petsard/demo/petsard-yaml/splitter-yaml/basic-splitting.yaml\n",
      "\n",
      "⚙️ Configuration content / 設定內容:\n",
      "----------------------------------------\n",
      "Loader:\n",
      "  load_benchmark_with_schema:\n",
      "    filepath: benchmark://adult-income\n",
      "    schema: benchmark://adult-income_schema\n",
      "Splitter:\n",
      "  basic_split:\n",
      "    num_samples: 3\n",
      "    train_split_ratio: 0.8\n",
      "============================================================\n",
      "================================================================================\n",
      "📊 Execution Results / 執行結果\n",
      "================================================================================\n",
      "\n",
      "[1] Loader[load_benchmark_with_schema]_Splitter[basic_split_[3-1]]\n",
      "------------------------------------------------------------\n",
      "📦 Dictionary with 2 keys / 包含 2 個鍵的字典\n",
      "  • train: DataFrame\n",
      "  • validation: DataFrame\n",
      "\n",
      "[2] Loader[load_benchmark_with_schema]_Splitter[basic_split_[3-2]]\n",
      "------------------------------------------------------------\n",
      "📦 Dictionary with 2 keys / 包含 2 個鍵的字典\n",
      "  • train: DataFrame\n",
      "  • validation: DataFrame\n",
      "\n",
      "[3] Loader[load_benchmark_with_schema]_Splitter[basic_split_[3-3]]\n",
      "------------------------------------------------------------\n",
      "📦 Dictionary with 2 keys / 包含 2 個鍵的字典\n",
      "  • train: DataFrame\n",
      "  • validation: DataFrame\n",
      "\n",
      "================================================================================\n",
      "✅ Total results / 總結果數: 3\n",
      "================================================================================\n"
     ]
    }
   ],
   "source": [
    "display_yaml_info(yaml_path[0])\n",
    "exec = Executor(yaml_path[0])\n",
    "exec.run()\n",
    "display_results(exec.get_result())"
   ]
  },
  {
   "cell_type": "markdown",
   "metadata": {},
   "source": [
    "## Controlled Overlap / 控制重疊比例"
   ]
  },
  {
   "cell_type": "code",
   "execution_count": 7,
   "metadata": {},
   "outputs": [
    {
     "name": "stdout",
     "output_type": "stream",
     "text": [
      "============================================================\n",
      "📋 YAML Configuration Files / YAML 設定檔案\n",
      "============================================================\n",
      "\n",
      "📄 File: controlled-overlap.yaml\n",
      "📁 Path: petsard/demo/petsard-yaml/splitter-yaml/controlled-overlap.yaml\n",
      "\n",
      "⚙️ Configuration content / 設定內容:\n",
      "----------------------------------------\n",
      "Loader:\n",
      "  load_benchmark_with_schema:\n",
      "    filepath: benchmark://adult-income\n",
      "    schema: benchmark://adult-income_schema\n",
      "Splitter:\n",
      "  controlled_overlap:\n",
      "    num_samples: 10\n",
      "    train_split_ratio: 0.8\n",
      "    max_overlap_ratio: 0.8  # Allow 80% overlap\n",
      "    max_attempts: 500\n",
      "    random_state: 42\n",
      "============================================================\n",
      "================================================================================\n",
      "📊 Execution Results / 執行結果\n",
      "================================================================================\n",
      "\n",
      "[1] Loader[load_benchmark_with_schema]_Splitter[controlled_overlap_[10-01]]\n",
      "------------------------------------------------------------\n",
      "📦 Dictionary with 2 keys / 包含 2 個鍵的字典\n",
      "  • train: DataFrame\n",
      "  • validation: DataFrame\n",
      "\n",
      "[2] Loader[load_benchmark_with_schema]_Splitter[controlled_overlap_[10-02]]\n",
      "------------------------------------------------------------\n",
      "📦 Dictionary with 2 keys / 包含 2 個鍵的字典\n",
      "  • train: DataFrame\n",
      "  • validation: DataFrame\n",
      "\n",
      "[3] Loader[load_benchmark_with_schema]_Splitter[controlled_overlap_[10-03]]\n",
      "------------------------------------------------------------\n",
      "📦 Dictionary with 2 keys / 包含 2 個鍵的字典\n",
      "  • train: DataFrame\n",
      "  • validation: DataFrame\n",
      "\n",
      "[4] Loader[load_benchmark_with_schema]_Splitter[controlled_overlap_[10-04]]\n",
      "------------------------------------------------------------\n",
      "📦 Dictionary with 2 keys / 包含 2 個鍵的字典\n",
      "  • train: DataFrame\n",
      "  • validation: DataFrame\n",
      "\n",
      "[5] Loader[load_benchmark_with_schema]_Splitter[controlled_overlap_[10-05]]\n",
      "------------------------------------------------------------\n",
      "📦 Dictionary with 2 keys / 包含 2 個鍵的字典\n",
      "  • train: DataFrame\n",
      "  • validation: DataFrame\n",
      "\n",
      "[6] Loader[load_benchmark_with_schema]_Splitter[controlled_overlap_[10-06]]\n",
      "------------------------------------------------------------\n",
      "📦 Dictionary with 2 keys / 包含 2 個鍵的字典\n",
      "  • train: DataFrame\n",
      "  • validation: DataFrame\n",
      "\n",
      "[7] Loader[load_benchmark_with_schema]_Splitter[controlled_overlap_[10-07]]\n",
      "------------------------------------------------------------\n",
      "📦 Dictionary with 2 keys / 包含 2 個鍵的字典\n",
      "  • train: DataFrame\n",
      "  • validation: DataFrame\n",
      "\n",
      "[8] Loader[load_benchmark_with_schema]_Splitter[controlled_overlap_[10-08]]\n",
      "------------------------------------------------------------\n",
      "📦 Dictionary with 2 keys / 包含 2 個鍵的字典\n",
      "  • train: DataFrame\n",
      "  • validation: DataFrame\n",
      "\n",
      "[9] Loader[load_benchmark_with_schema]_Splitter[controlled_overlap_[10-09]]\n",
      "------------------------------------------------------------\n",
      "📦 Dictionary with 2 keys / 包含 2 個鍵的字典\n",
      "  • train: DataFrame\n",
      "  • validation: DataFrame\n",
      "\n",
      "[10] Loader[load_benchmark_with_schema]_Splitter[controlled_overlap_[10-10]]\n",
      "------------------------------------------------------------\n",
      "📦 Dictionary with 2 keys / 包含 2 個鍵的字典\n",
      "  • train: DataFrame\n",
      "  • validation: DataFrame\n",
      "\n",
      "================================================================================\n",
      "✅ Total results / 總結果數: 10\n",
      "================================================================================\n"
     ]
    }
   ],
   "source": [
    "display_yaml_info(yaml_path[1])\n",
    "exec = Executor(yaml_path[1])\n",
    "exec.run()\n",
    "display_results(exec.get_result())"
   ]
  },
  {
   "cell_type": "markdown",
   "metadata": {},
   "source": [
    "## No Overlap Splitting / 無重疊分割"
   ]
  },
  {
   "cell_type": "code",
   "execution_count": null,
   "metadata": {},
   "outputs": [
    {
     "name": "stdout",
     "output_type": "stream",
     "text": [
      "============================================================\n",
      "📋 YAML Configuration Files / YAML 設定檔案\n",
      "============================================================\n",
      "\n",
      "📄 File: no-overlap-splitting.yaml\n",
      "📁 Path: petsard/demo/petsard-yaml/splitter-yaml/no-overlap-splitting.yaml\n",
      "\n",
      "⚙️ Configuration content / 設定內容:\n",
      "----------------------------------------\n",
      "Loader:\n",
      "  load_benchmark_with_schema:\n",
      "    filepath: benchmark://adult-income\n",
      "    schema: benchmark://adult-income_schema\n",
      "Splitter:\n",
      "  no_overlap:\n",
      "    num_samples: 2\n",
      "    train_split_ratio: 0.01\n",
      "    max_overlap_ratio: 0.0  # Completely non-overlapping\n",
      "    max_attempts: 100000\n",
      "    random_state: 42\n",
      "============================================================\n",
      "================================================================================\n",
      "📊 Execution Results / 執行結果\n",
      "================================================================================\n",
      "\n",
      "[1] Loader[load_benchmark_with_schema]_Splitter[no_overlap_[2-1]]\n",
      "------------------------------------------------------------\n",
      "📦 Dictionary with 2 keys / 包含 2 個鍵的字典\n",
      "  • train: DataFrame\n",
      "  • validation: DataFrame\n",
      "\n",
      "[2] Loader[load_benchmark_with_schema]_Splitter[no_overlap_[2-2]]\n",
      "------------------------------------------------------------\n",
      "📦 Dictionary with 2 keys / 包含 2 個鍵的字典\n",
      "  • train: DataFrame\n",
      "  • validation: DataFrame\n",
      "\n",
      "================================================================================\n",
      "✅ Total results / 總結果數: 2\n",
      "================================================================================\n"
     ]
    }
   ],
   "source": [
    "display_yaml_info(yaml_path[2])\n",
    "exec = Executor(yaml_path[2])\n",
    "exec.run()\n",
    "display_results(exec.get_result())"
   ]
  }
 ],
 "metadata": {
  "kernelspec": {
   "display_name": "petsard",
   "language": "python",
   "name": "python3"
  },
  "language_info": {
   "codemirror_mode": {
    "name": "ipython",
    "version": 3
   },
   "file_extension": ".py",
   "mimetype": "text/x-python",
   "name": "python",
   "nbconvert_exporter": "python",
   "pygments_lexer": "ipython3",
   "version": "3.11.12"
  }
 },
 "nbformat": 4,
 "nbformat_minor": 2
}
