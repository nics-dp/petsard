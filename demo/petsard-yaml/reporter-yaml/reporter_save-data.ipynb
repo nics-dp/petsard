{
 "cells": [
  {
   "cell_type": "markdown",
   "metadata": {},
   "source": [
    "# Environment setting / 環境設定"
   ]
  },
  {
   "cell_type": "code",
   "execution_count": 1,
   "metadata": {},
   "outputs": [
    {
     "name": "stdout",
     "output_type": "stream",
     "text": [
      "📂 Current working directory: demo/petsard-yaml/reporter-yaml\n",
      "✅ PETsARD demo_utils loaded. Use quick_setup() to initialize.\n"
     ]
    }
   ],
   "source": [
    "import os  # noqa: I001\n",
    "import sys\n",
    "from pathlib import Path\n",
    "\n",
    "\n",
    "# Handle utils.py for Colab\n",
    "if \"COLAB_GPU\" in os.environ:\n",
    "    import urllib.request\n",
    "\n",
    "    demo_utils_url = (\n",
    "        \"https://raw.githubusercontent.com/nics-tw/petsard/main/demo/demo_utils.py\"\n",
    "    )\n",
    "    exec(urllib.request.urlopen(demo_utils_url).read().decode(\"utf-8\"))\n",
    "else:\n",
    "    # demo_utils.py search for local\n",
    "    for p in [Path.cwd()] + list(Path.cwd().parents)[:10]:\n",
    "        utils_path = p / \"demo_utils.py\"\n",
    "        if utils_path.exists() and \"demo\" in str(utils_path):\n",
    "            sys.path.insert(0, str(p))\n",
    "            exec(open(utils_path).read())\n",
    "            break"
   ]
  },
  {
   "cell_type": "markdown",
   "metadata": {},
   "source": [
    "## Quick setup / 快速設定: Reporter YAML - Save Data"
   ]
  },
  {
   "cell_type": "code",
   "execution_count": 2,
   "metadata": {},
   "outputs": [
    {
     "name": "stdout",
     "output_type": "stream",
     "text": [
      "✅ Changed working directory to demo: petsard/demo\n",
      "   📁 Notebook location: demo/petsard-yaml/reporter-yaml/\n",
      "   🔍 YAML search priority: \n",
      "      1. demo/petsard-yaml/reporter-yaml/\n",
      "      2. demo/\n",
      "   💾 Output files will be saved in: demo/\n",
      "🚀 PETsARD v1.7.0\n",
      "📅 2025-10-17 10:01:46 UTC+8\n",
      "🔧 Added to Python path: petsard/demo/petsard-yaml/reporter-yaml\n",
      "📁 Processing configuration files from subfolder: petsard-yaml/reporter-yaml\n",
      "✅ Found configuration (1/1): petsard/demo/petsard-yaml/reporter-yaml/reporter_save-data.yaml\n"
     ]
    }
   ],
   "source": [
    "from demo_utils import display_results, display_yaml_info, quick_setup  # noqa: I001\n",
    "from petsard import Executor  # noqa: I001\n",
    "\n",
    "\n",
    "is_colab, branch, yaml_path = quick_setup(\n",
    "    config_file=[\n",
    "        \"reporter_save-data.yaml\",\n",
    "    ],\n",
    "    benchmark_data=None,\n",
    "    petsard_branch=\"main\",\n",
    ")"
   ]
  },
  {
   "cell_type": "markdown",
   "metadata": {},
   "source": [
    "# Execution and Result / 執行與結果"
   ]
  },
  {
   "cell_type": "markdown",
   "metadata": {},
   "source": [
    "## Save Data / 儲存資料"
   ]
  },
  {
   "cell_type": "code",
   "execution_count": 3,
   "metadata": {},
   "outputs": [
    {
     "name": "stdout",
     "output_type": "stream",
     "text": [
      "============================================================\n",
      "📋 YAML Configuration Files / YAML 設定檔案\n",
      "============================================================\n",
      "\n",
      "📄 File: reporter_save-data.yaml\n",
      "📁 Path: petsard/demo/petsard-yaml/reporter-yaml/reporter_save-data.yaml\n",
      "\n",
      "⚙️ Configuration content / 設定內容:\n",
      "----------------------------------------\n",
      "---\n",
      "Loader:\n",
      "  load_benchmark_with_schema:\n",
      "    filepath: benchmark://adult-income\n",
      "    schema: benchmark://adult-income_schema\n",
      "Splitter:\n",
      "  basic_split:\n",
      "    num_samples: 3\n",
      "    train_split_ratio: 0.8\n",
      "Preprocessor:\n",
      "  default:\n",
      "    method: default\n",
      "\n",
      "Synthesizer:\n",
      "  default:\n",
      "    method: default\n",
      "\n",
      "  petsard-gaussian-copula:\n",
      "    method: petsard-gaussian-copula\n",
      "\n",
      "Postprocessor:\n",
      "  default:\n",
      "    method: default\n",
      "Reporter:\n",
      "  save_all_step:\n",
      "    method: save_data\n",
      "    source:\n",
      "      - Splitter.ori\n",
      "      - Splitter.control\n",
      "      - Preprocessor\n",
      "      - Synthesizer.default\n",
      "      - Synthesizer.petsard-gaussian-copula\n",
      "      - Postprocessor\n",
      "...\n",
      "============================================================\n",
      "================================================================================\n",
      "📊 Execution Results / 執行結果\n",
      "================================================================================\n",
      "\n",
      "[1] Loader[load_benchmark_with_schema]_Splitter[basic_split_[3-1]]_Preprocessor[default]_Synthesizer[default]_Postprocessor[default]_Reporter[save_all_step]\n",
      "------------------------------------------------------------\n",
      "📋 Reporter output / Reporter 輸出\n",
      "  • Loader[load_benchmark_with_schema]_Splitter[basic_split_[3-1]]_Preprocessor[default]: DataFrame\n",
      "  • Loader[load_benchmark_with_schema]_Splitter[basic_split_[3-1]]_Preprocessor[default]_Synthesizer[default]_Postprocessor[default]: DataFrame\n",
      "\n",
      "[2] Loader[load_benchmark_with_schema]_Splitter[basic_split_[3-1]]_Preprocessor[default]_Synthesizer[petsard-gaussian-copula]_Postprocessor[default]_Reporter[save_all_step]\n",
      "------------------------------------------------------------\n",
      "📋 Reporter output / Reporter 輸出\n",
      "  • Loader[load_benchmark_with_schema]_Splitter[basic_split_[3-1]]_Preprocessor[default]: DataFrame\n",
      "  • Loader[load_benchmark_with_schema]_Splitter[basic_split_[3-1]]_Preprocessor[default]_Synthesizer[petsard-gaussian-copula]_Postprocessor[default]: DataFrame\n",
      "\n",
      "[3] Loader[load_benchmark_with_schema]_Splitter[basic_split_[3-2]]_Preprocessor[default]_Synthesizer[default]_Postprocessor[default]_Reporter[save_all_step]\n",
      "------------------------------------------------------------\n",
      "📋 Reporter output / Reporter 輸出\n",
      "  • Loader[load_benchmark_with_schema]_Splitter[basic_split_[3-2]]_Preprocessor[default]: DataFrame\n",
      "  • Loader[load_benchmark_with_schema]_Splitter[basic_split_[3-2]]_Preprocessor[default]_Synthesizer[default]_Postprocessor[default]: DataFrame\n",
      "\n",
      "[4] Loader[load_benchmark_with_schema]_Splitter[basic_split_[3-2]]_Preprocessor[default]_Synthesizer[petsard-gaussian-copula]_Postprocessor[default]_Reporter[save_all_step]\n",
      "------------------------------------------------------------\n",
      "📋 Reporter output / Reporter 輸出\n",
      "  • Loader[load_benchmark_with_schema]_Splitter[basic_split_[3-2]]_Preprocessor[default]: DataFrame\n",
      "  • Loader[load_benchmark_with_schema]_Splitter[basic_split_[3-2]]_Preprocessor[default]_Synthesizer[petsard-gaussian-copula]_Postprocessor[default]: DataFrame\n",
      "\n",
      "[5] Loader[load_benchmark_with_schema]_Splitter[basic_split_[3-3]]_Preprocessor[default]_Synthesizer[default]_Postprocessor[default]_Reporter[save_all_step]\n",
      "------------------------------------------------------------\n",
      "📋 Reporter output / Reporter 輸出\n",
      "  • Loader[load_benchmark_with_schema]_Splitter[basic_split_[3-3]]_Preprocessor[default]: DataFrame\n",
      "  • Loader[load_benchmark_with_schema]_Splitter[basic_split_[3-3]]_Preprocessor[default]_Synthesizer[default]_Postprocessor[default]: DataFrame\n",
      "\n",
      "[6] Loader[load_benchmark_with_schema]_Splitter[basic_split_[3-3]]_Preprocessor[default]_Synthesizer[petsard-gaussian-copula]_Postprocessor[default]_Reporter[save_all_step]\n",
      "------------------------------------------------------------\n",
      "📋 Reporter output / Reporter 輸出\n",
      "  • Loader[load_benchmark_with_schema]_Splitter[basic_split_[3-3]]_Preprocessor[default]: DataFrame\n",
      "  • Loader[load_benchmark_with_schema]_Splitter[basic_split_[3-3]]_Preprocessor[default]_Synthesizer[petsard-gaussian-copula]_Postprocessor[default]: DataFrame\n",
      "\n",
      "================================================================================\n",
      "✅ Total results / 總結果數: 6\n",
      "================================================================================\n"
     ]
    }
   ],
   "source": [
    "display_yaml_info(yaml_path[0])\n",
    "exec = Executor(yaml_path[0])\n",
    "exec.run()\n",
    "display_results(exec.get_result())"
   ]
  }
 ],
 "metadata": {
  "kernelspec": {
   "display_name": "petsard",
   "language": "python",
   "name": "python3"
  },
  "language_info": {
   "codemirror_mode": {
    "name": "ipython",
    "version": 3
   },
   "file_extension": ".py",
   "mimetype": "text/x-python",
   "name": "python",
   "nbconvert_exporter": "python",
   "pygments_lexer": "ipython3",
   "version": "3.11.12"
  }
 },
 "nbformat": 4,
 "nbformat_minor": 2
}
