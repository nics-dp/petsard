{
 "cells": [
  {
   "cell_type": "markdown",
   "metadata": {},
   "source": [
    "# Environment setting / 環境設定"
   ]
  },
  {
   "cell_type": "code",
   "execution_count": 1,
   "metadata": {},
   "outputs": [
    {
     "name": "stdout",
     "output_type": "stream",
     "text": [
      "📂 Current working directory: demo/petsard-yaml/reporter-yaml\n",
      "✅ PETsARD demo_utils loaded. Use quick_setup() to initialize.\n"
     ]
    }
   ],
   "source": [
    "import os  # noqa: I001\n",
    "import sys\n",
    "from pathlib import Path\n",
    "\n",
    "\n",
    "# Handle utils.py for Colab\n",
    "if \"COLAB_GPU\" in os.environ:\n",
    "    import urllib.request\n",
    "\n",
    "    demo_utils_url = (\n",
    "        \"https://raw.githubusercontent.com/nics-tw/petsard/main/demo/demo_utils.py\"\n",
    "    )\n",
    "    exec(urllib.request.urlopen(demo_utils_url).read().decode(\"utf-8\"))\n",
    "else:\n",
    "    # demo_utils.py search for local\n",
    "    for p in [Path.cwd()] + list(Path.cwd().parents)[:10]:\n",
    "        utils_path = p / \"demo_utils.py\"\n",
    "        if utils_path.exists() and \"demo\" in str(utils_path):\n",
    "            sys.path.insert(0, str(p))\n",
    "            exec(open(utils_path).read())\n",
    "            break"
   ]
  },
  {
   "cell_type": "markdown",
   "metadata": {},
   "source": [
    "## Quick setup / 快速設定: Reporter YAML - Save Evaluation Reports"
   ]
  },
  {
   "cell_type": "code",
   "execution_count": 2,
   "metadata": {},
   "outputs": [
    {
     "name": "stdout",
     "output_type": "stream",
     "text": [
      "✅ Changed working directory to demo: petsard/demo\n",
      "   📁 Notebook location: demo/petsard-yaml/reporter-yaml/\n",
      "   🔍 YAML search priority: \n",
      "      1. demo/petsard-yaml/reporter-yaml/\n",
      "      2. demo/\n",
      "   💾 Output files will be saved in: demo/\n",
      "🚀 PETsARD v1.8.0\n",
      "📅 2025-10-18 19:51:11 UTC+8\n",
      "🔧 Added to Python path: petsard/demo/petsard-yaml/reporter-yaml\n",
      "📁 Processing configuration files from subfolder: petsard-yaml/reporter-yaml\n",
      "✅ Found configuration (1/1): petsard/demo/petsard-yaml/reporter-yaml/reporter_save-report.yaml\n"
     ]
    }
   ],
   "source": [
    "from demo_utils import display_results, display_yaml_info, quick_setup  # noqa: I001\n",
    "from petsard import Executor  # noqa: I001\n",
    "\n",
    "\n",
    "is_colab, branch, yaml_path = quick_setup(\n",
    "    config_file=[\n",
    "        \"reporter_save-report.yaml\",\n",
    "    ],\n",
    "    benchmark_data=None,\n",
    "    petsard_branch=\"main\",\n",
    ")"
   ]
  },
  {
   "cell_type": "markdown",
   "metadata": {},
   "source": [
    "# Execution and Result / 執行與結果"
   ]
  },
  {
   "cell_type": "markdown",
   "metadata": {},
   "source": [
    "## Save Evaluation Reports / 產生評估報告ㄒ"
   ]
  },
  {
   "cell_type": "code",
   "execution_count": 3,
   "metadata": {},
   "outputs": [
    {
     "name": "stdout",
     "output_type": "stream",
     "text": [
      "============================================================\n",
      "📋 YAML Configuration Files / YAML 設定檔案\n",
      "============================================================\n",
      "\n",
      "📄 File: reporter_save-report.yaml\n",
      "📁 Path: petsard/demo/petsard-yaml/reporter-yaml/reporter_save-report.yaml\n",
      "\n",
      "⚙️ Configuration content / 設定內容:\n",
      "----------------------------------------\n",
      "---\n",
      "Splitter:\n",
      "  external_split:\n",
      "    method: custom_data\n",
      "    filepath:\n",
      "      ori: benchmark://adult-income_ori\n",
      "      control: benchmark://adult-income_control\n",
      "    schema:\n",
      "      ori: benchmark://adult-income_schema\n",
      "      control: benchmark://adult-income_schema\n",
      "Synthesizer:\n",
      "  external_data:\n",
      "    method: custom_data\n",
      "    filepath: benchmark://adult-income_syn\n",
      "    schema: benchmark://adult-income_schema\n",
      "Evaluator:\n",
      "  validity_check:\n",
      "    method: sdmetrics-diagnosticreport\n",
      "  fidelity_check:\n",
      "    method: sdmetrics-qualityreport\n",
      "  singling_out_risk:\n",
      "    method: anonymeter-singlingout\n",
      "    n_attacks: 400\n",
      "    n_cols: 3\n",
      "    max_attempts: 4000\n",
      "  classification_utility:\n",
      "    method: mlutility\n",
      "    task_type: classification\n",
      "    target: income\n",
      "    random_state: 42\n",
      "Reporter:\n",
      "  save_report:\n",
      "    method: save_report # Required: Fixed as save_report\n",
      "    granularity:        # Required: Specify report granularity levels\n",
      "      - global                  # Overall summary statistics\n",
      "      - columnwise              # Per-column analysis\n",
      "      - pairwise                # Detailed breakdown\n",
      "    # eval:             # Optional: Target evaluation experiment names (default: all evaluations)\n",
      "    # output: petsard   # Optional: Output filename prefix (default: petsard)\n",
      "    # naming_strategy: traditional  # Optional: Filename naming strategy, traditional or compact (default: traditional)\n",
      "...\n",
      "============================================================\n",
      "Generating report ...\n",
      "\n",
      "(1/2) Evaluating Data Validity: |██████████| 15/15 [00:00<00:00, 455.71it/s]|\n",
      "Data Validity Score: 100.0%\n",
      "\n",
      "(2/2) Evaluating Data Structure: |██████████| 1/1 [00:00<00:00, 815.70it/s]|\n",
      "Data Structure Score: 100.0%\n",
      "\n",
      "Overall Score (Average): 100.0%\n",
      "\n",
      "Generating report ...\n",
      "\n",
      "(1/2) Evaluating Column Shapes: |██████████| 15/15 [00:00<00:00, 69.16it/s]|\n",
      "Column Shapes Score: 95.27%\n",
      "\n",
      "(2/2) Evaluating Column Pair Trends: |██████████| 105/105 [00:00<00:00, 154.73it/s]|\n",
      "Column Pair Trends Score: 61.56%\n",
      "\n",
      "Overall Score (Average): 78.42%\n",
      "\n"
     ]
    },
    {
     "name": "stderr",
     "output_type": "stream",
     "text": [
      "Found 323 failed queries out of 400. Check DEBUG messages for more details.\n",
      "Reached maximum number of attempts 4000 when generating singling out queries. Returning 0 instead of the requested 400.To avoid this, increase the number of attempts or set it to ``None`` to disable The limitation entirely.\n",
      "Attack `multivariate` could generate only 0 singling out queries out of the requested 400. This can probably lead to an underestimate of the singling out risk.\n",
      "/Users/justyn.chen/Library/CloudStorage/Dropbox/5_Career 工作/20231016_NICS 資安院/3_工藝：PETsARD/petsard/.venv/lib/python3.11/site-packages/anonymeter/stats/confidence.py:218: UserWarning: Attack is as good or worse as baseline model. Estimated rates: attack = 0.004756147167148254, baseline = 0.009708585695476772. Analysis results cannot be trusted.\n",
      "  self._sanity_check()\n"
     ]
    },
    {
     "name": "stdout",
     "output_type": "stream",
     "text": [
      "================================================================================\n",
      "📊 Execution Results / 執行結果\n",
      "================================================================================\n",
      "\n",
      "[1] Splitter[external_split_[1-1]]_Synthesizer[external_data]_Evaluator[validity_check]_Reporter[save_report]\n",
      "------------------------------------------------------------\n",
      "📋 Reporter output / Reporter 輸出\n",
      "  • [global]: DataFrame\n",
      "  • [columnwise]: DataFrame\n",
      "\n",
      "[2] Splitter[external_split_[1-1]]_Synthesizer[external_data]_Evaluator[fidelity_check]_Reporter[save_report]\n",
      "------------------------------------------------------------\n",
      "📋 Reporter output / Reporter 輸出\n",
      "  • [global]: DataFrame\n",
      "  • [columnwise]: DataFrame\n",
      "  • [pairwise]: DataFrame\n",
      "\n",
      "[3] Splitter[external_split_[1-1]]_Synthesizer[external_data]_Evaluator[singling_out_risk]_Reporter[save_report]\n",
      "------------------------------------------------------------\n",
      "📋 Reporter output / Reporter 輸出\n",
      "  • [global]: DataFrame\n",
      "\n",
      "[4] Splitter[external_split_[1-1]]_Synthesizer[external_data]_Evaluator[classification_utility]_Reporter[save_report]\n",
      "------------------------------------------------------------\n",
      "📋 Reporter output / Reporter 輸出\n",
      "  • [global]: DataFrame\n",
      "\n",
      "================================================================================\n",
      "✅ Total results / 總結果數: 4\n",
      "================================================================================\n"
     ]
    }
   ],
   "source": [
    "display_yaml_info(yaml_path[0])\n",
    "exec = Executor(yaml_path[0])\n",
    "exec.run()\n",
    "display_results(exec.get_result())"
   ]
  }
 ],
 "metadata": {
  "kernelspec": {
   "display_name": "petsard",
   "language": "python",
   "name": "python3"
  },
  "language_info": {
   "codemirror_mode": {
    "name": "ipython",
    "version": 3
   },
   "file_extension": ".py",
   "mimetype": "text/x-python",
   "name": "python",
   "nbconvert_exporter": "python",
   "pygments_lexer": "ipython3",
   "version": "3.11.12"
  }
 },
 "nbformat": 4,
 "nbformat_minor": 2
}
