{
 "cells": [
  {
   "cell_type": "markdown",
   "metadata": {},
   "source": [
    "# Environment setting / 環境設定"
   ]
  },
  {
   "cell_type": "code",
   "execution_count": 1,
   "metadata": {},
   "outputs": [
    {
     "name": "stdout",
     "output_type": "stream",
     "text": [
      "📂 Current working directory: demo/petsard-yaml/describer-yaml\n",
      "✅ PETsARD demo_utils loaded. Use quick_setup() to initialize.\n"
     ]
    }
   ],
   "source": [
    "import os  # noqa: I001\n",
    "import sys\n",
    "from pathlib import Path\n",
    "\n",
    "\n",
    "# Handle utils.py for Colab\n",
    "if \"COLAB_GPU\" in os.environ:\n",
    "    import urllib.request\n",
    "\n",
    "    demo_utils_url = (\n",
    "        \"https://raw.githubusercontent.com/nics-tw/petsard/main/demo/demo_utils.py\"\n",
    "    )\n",
    "    exec(urllib.request.urlopen(demo_utils_url).read().decode(\"utf-8\"))\n",
    "else:\n",
    "    # demo_utils.py search for local\n",
    "    for p in [Path.cwd()] + list(Path.cwd().parents)[:10]:\n",
    "        utils_path = p / \"demo_utils.py\"\n",
    "        if utils_path.exists() and \"demo\" in str(utils_path):\n",
    "            sys.path.insert(0, str(p))\n",
    "            exec(open(utils_path).read())\n",
    "            break"
   ]
  },
  {
   "cell_type": "markdown",
   "metadata": {},
   "source": [
    "## Quick setup / 快速設定: Describer YAML"
   ]
  },
  {
   "cell_type": "code",
   "execution_count": 2,
   "metadata": {},
   "outputs": [
    {
     "name": "stdout",
     "output_type": "stream",
     "text": [
      "✅ Changed working directory to demo: petsard/demo\n",
      "   📁 Notebook location: demo/petsard-yaml/describer-yaml/\n",
      "   🔍 YAML search priority: \n",
      "      1. demo/petsard-yaml/describer-yaml/\n",
      "      2. demo/\n",
      "   💾 Output files will be saved in: demo/\n",
      "🚀 PETsARD v1.7.0\n",
      "📅 2025-10-16 15:31:22 UTC+8\n",
      "🔧 Added to Python path: petsard/demo/petsard-yaml/describer-yaml\n",
      "📁 Processing configuration files from subfolder: petsard-yaml/describer-yaml\n",
      "✅ Found configuration (1/3): petsard/demo/petsard-yaml/describer-yaml/describer-describe.yaml\n",
      "✅ Found configuration (2/3): petsard/demo/petsard-yaml/describer-yaml/describer-compare.yaml\n",
      "✅ Found configuration (3/3): petsard/demo/petsard-yaml/describer-yaml/describer-custom-compare.yaml\n"
     ]
    }
   ],
   "source": [
    "from demo_utils import display_results, display_yaml_info, quick_setup  # noqa: I001\n",
    "from petsard import Executor  # noqa: I001\n",
    "\n",
    "\n",
    "is_colab, branch, yaml_path = quick_setup(\n",
    "    config_file=[\n",
    "        \"describer-describe.yaml\",\n",
    "        \"describer-compare.yaml\",\n",
    "        \"describer-custom-compare.yaml\",\n",
    "    ],\n",
    "    benchmark_data=None,\n",
    "    petsard_branch=\"main\",\n",
    ")"
   ]
  },
  {
   "cell_type": "markdown",
   "metadata": {},
   "source": [
    "# Execution and Result / 執行與結果"
   ]
  },
  {
   "cell_type": "markdown",
   "metadata": {},
   "source": [
    "## Single Dataset Description (describe mode) / 資料有效性診斷"
   ]
  },
  {
   "cell_type": "code",
   "execution_count": 3,
   "metadata": {},
   "outputs": [
    {
     "name": "stdout",
     "output_type": "stream",
     "text": [
      "============================================================\n",
      "📋 YAML Configuration Files / YAML 設定檔案\n",
      "============================================================\n",
      "\n",
      "📄 File: describer-describe.yaml\n",
      "📁 Path: petsard/demo/petsard-yaml/describer-yaml/describer-describe.yaml\n",
      "\n",
      "⚙️ Configuration content / 設定內容:\n",
      "----------------------------------------\n",
      "---\n",
      "Synthesizer:\n",
      "  external_data:\n",
      "    method: custom_data\n",
      "    filepath: benchmark://adult-income_syn\n",
      "    schema: benchmark://adult-income_schema\n",
      "Describer:\n",
      "  describer-describe:\n",
      "    method: default    # Auto-detects as describe (single source)\n",
      "    source: Synthesizer\n",
      "...\n",
      "============================================================\n",
      "================================================================================\n",
      "📊 Execution Results / 執行結果\n",
      "================================================================================\n",
      "\n",
      "[1] Synthesizer[external_data]_Describer[describer-describe]\n",
      "------------------------------------------------------------\n",
      "📦 Dictionary with 3 keys / 包含 3 個鍵的字典\n",
      "\n",
      "  • global: DataFrame (1 rows × 3 columns)\n",
      "    📋 Showing first 1 rows / 顯示前 1 行:\n",
      "       row_count  col_count  na_count\n",
      "    0      39073         15      4078\n",
      "    📝 Columns / 欄位: row_count, col_count, na_count\n",
      "\n",
      "  • columnwise: DataFrame (15 rows × 11 columns)\n",
      "    📋 Showing first 3 rows / 顯示前 3 行:\n",
      "                          mean    median       std      min       max  kurtosis  skew        q1        q3  na_count nunique\n",
      "    age                  38.04      37.0     12.14     17.0      78.0     -0.40  0.50      28.0      46.0         0    <NA>\n",
      "    fnlwgt           180115.07  172633.0  88349.45  13769.0  416059.0     -0.60  0.35  110239.0  241860.0         0    <NA>\n",
      "    educational-num      10.27      10.0      2.15      5.0      16.0     -0.19  0.19       9.0      12.0         0    <NA>\n",
      "    ... (12 more rows) / ... (還有 12 行)\n",
      "    📝 Columns / 欄位: mean, median, std, min, max, kurtosis, skew, q1, q3, na_count, nunique\n",
      "\n",
      "  • pairwise: DataFrame (10 rows × 3 columns)\n",
      "    📋 Showing first 3 rows / 顯示前 3 行:\n",
      "               column1          column2      corr\n",
      "    0              age              age  1.000000\n",
      "    1  educational-num              age  0.070204\n",
      "    2  educational-num  educational-num  1.000000\n",
      "    ... (7 more rows) / ... (還有 7 行)\n",
      "    📝 Columns / 欄位: column1, column2, corr\n",
      "\n",
      "================================================================================\n",
      "✅ Total results / 總結果數: 1\n",
      "================================================================================\n"
     ]
    }
   ],
   "source": [
    "display_yaml_info(yaml_path[0])\n",
    "exec = Executor(yaml_path[0])\n",
    "exec.run()\n",
    "display_results(exec.get_result())"
   ]
  },
  {
   "cell_type": "markdown",
   "metadata": {},
   "source": [
    "## Dataset Comparison (compare mode) / 資料集比較 (compare 模式)"
   ]
  },
  {
   "cell_type": "code",
   "execution_count": 4,
   "metadata": {},
   "outputs": [
    {
     "name": "stdout",
     "output_type": "stream",
     "text": [
      "============================================================\n",
      "📋 YAML Configuration Files / YAML 設定檔案\n",
      "============================================================\n",
      "\n",
      "📄 File: describer-compare.yaml\n",
      "📁 Path: petsard/demo/petsard-yaml/describer-yaml/describer-compare.yaml\n",
      "\n",
      "⚙️ Configuration content / 設定內容:\n",
      "----------------------------------------\n",
      "---\n",
      "Splitter:\n",
      "  external_split:\n",
      "    method: custom_data\n",
      "    filepath:\n",
      "      ori: benchmark://adult-income_ori\n",
      "      control: benchmark://adult-income_control\n",
      "    schema:\n",
      "      ori: benchmark://adult-income_schema\n",
      "      control: benchmark://adult-income_schema\n",
      "Synthesizer:\n",
      "  external_data:\n",
      "    method: custom_data\n",
      "    filepath: benchmark://adult-income_syn\n",
      "    schema: benchmark://adult-income_schema\n",
      "Describer:\n",
      "  describer-compare:\n",
      "    method: default           # Auto-detects as compare (two sources)\n",
      "    source:\n",
      "      base: Splitter.train    # Use Splitter's train output as base\n",
      "      target: Synthesizer     # Compare with Synthesizer's output\n",
      "...\n",
      "============================================================\n",
      "================================================================================\n",
      "📊 Execution Results / 執行結果\n",
      "================================================================================\n",
      "\n",
      "[1] Splitter[external_split_[1-1]]_Synthesizer[external_data]_Describer[describer-compare]\n",
      "------------------------------------------------------------\n",
      "📦 Dictionary with 2 keys / 包含 2 個鍵的字典\n",
      "\n",
      "  • columnwise: DataFrame (15 rows × 19 columns)\n",
      "    📋 Showing first 3 rows / 顯示前 3 行:\n",
      "                    min_base  min_target  min_pct_change  std_base  std_target  std_pct_change  max_base  max_target  max_pct_change nunique_base nunique_target  nunique_pct_change  median_base  median_target  median_pct_change  mean_base  mean_target  mean_pct_change  jsdivergence\n",
      "    hours-per-week       1.0        33.0            32.0     12.34        3.78           -0.69      99.0        52.0           -0.47         <NA>           <NA>                 NaN         40.0           41.0               0.03      40.42        41.45             0.03          0.37\n",
      "    marital-status       NaN         NaN             NaN       NaN         NaN             NaN       NaN         NaN             NaN            7              7                 0.0          NaN            NaN                NaN        NaN          NaN              NaN          0.00\n",
      "    age                 17.0        17.0             0.0     13.71       12.14           -0.11      90.0        78.0           -0.13         <NA>           <NA>                 NaN         37.0           37.0               0.00      38.64        38.04            -0.02          0.01\n",
      "    ... (12 more rows) / ... (還有 12 行)\n",
      "    📝 Columns / 欄位: min_base, min_target, min_pct_change, std_base, std_target, std_pct_change, max_base, max_target, max_pct_change, nunique_base, nunique_target, nunique_pct_change, median_base, median_target, median_pct_change, mean_base, mean_target, mean_pct_change, jsdivergence\n",
      "\n",
      "  • global: DataFrame (1 rows × 8 columns)\n",
      "    📋 Showing first 1 rows / 顯示前 1 行:\n",
      "       Score  min_pct_change  std_pct_change  max_pct_change  nunique_pct_change  median_pct_change  mean_pct_change  jsdivergence\n",
      "    0    1.1            9.03           -0.52           -0.55               -0.02                0.0            -0.34          0.08\n",
      "    📝 Columns / 欄位: Score, min_pct_change, std_pct_change, max_pct_change, nunique_pct_change, median_pct_change, mean_pct_change, jsdivergence\n",
      "\n",
      "================================================================================\n",
      "✅ Total results / 總結果數: 1\n",
      "================================================================================\n"
     ]
    }
   ],
   "source": [
    "display_yaml_info(yaml_path[1])\n",
    "exec = Executor(yaml_path[1])\n",
    "exec.run()\n",
    "display_results(exec.get_result())"
   ]
  },
  {
   "cell_type": "markdown",
   "metadata": {},
   "source": [
    "## Custom Comparison Method / 自訂比較方法"
   ]
  },
  {
   "cell_type": "code",
   "execution_count": 5,
   "metadata": {},
   "outputs": [
    {
     "name": "stdout",
     "output_type": "stream",
     "text": [
      "============================================================\n",
      "📋 YAML Configuration Files / YAML 設定檔案\n",
      "============================================================\n",
      "\n",
      "📄 File: describer-custom-compare.yaml\n",
      "📁 Path: petsard/demo/petsard-yaml/describer-yaml/describer-custom-compare.yaml\n",
      "\n",
      "⚙️ Configuration content / 設定內容:\n",
      "----------------------------------------\n",
      "---\n",
      "Loader:\n",
      "  load_benchmark_with_schema:\n",
      "    filepath: benchmark://adult-income\n",
      "    schema: benchmark://adult-income_schema\n",
      "Synthesizer:\n",
      "  external_data:\n",
      "    method: custom_data\n",
      "    filepath: benchmark://adult-income_syn\n",
      "    schema: benchmark://adult-income_schema\n",
      "Describer:\n",
      "  custom_comparison:\n",
      "    method: compare\n",
      "    source:\n",
      "      base: Loader\n",
      "      target: Synthesizer\n",
      "    stats_method:\n",
      "      - mean\n",
      "      - std\n",
      "      - nunique\n",
      "      - jsdivergence\n",
      "    compare_method: diff  # Use difference instead of percentage change\n",
      "    aggregated_method: mean\n",
      "    summary_method: mean\n",
      "...\n",
      "============================================================\n",
      "================================================================================\n",
      "📊 Execution Results / 執行結果\n",
      "================================================================================\n",
      "\n",
      "[1] Loader[load_benchmark_with_schema]_Synthesizer[external_data]_Describer[custom_comparison]\n",
      "------------------------------------------------------------\n",
      "📦 Dictionary with 2 keys / 包含 2 個鍵的字典\n",
      "\n",
      "  • columnwise: DataFrame (15 rows × 10 columns)\n",
      "    📋 Showing first 3 rows / 顯示前 3 行:\n",
      "                    std_base  std_target  std_diff  mean_base  mean_target  mean_diff nunique_base nunique_target  nunique_diff  jsdivergence\n",
      "    hours-per-week     12.39        3.78     -8.61      40.42        41.45       1.03         <NA>           <NA>           NaN          0.37\n",
      "    marital-status       NaN         NaN       NaN        NaN          NaN        NaN            7              7           0.0          0.00\n",
      "    age                13.71       12.14     -1.57      38.64        38.04      -0.60         <NA>           <NA>           NaN          0.01\n",
      "    ... (12 more rows) / ... (還有 12 行)\n",
      "    📝 Columns / 欄位: std_base, std_target, std_diff, mean_base, mean_target, mean_diff, nunique_base, nunique_target, nunique_diff, jsdivergence\n",
      "\n",
      "  • global: DataFrame (1 rows × 5 columns)\n",
      "    📋 Showing first 1 rows / 顯示前 1 行:\n",
      "         Score  std_diff  mean_diff  nunique_diff  jsdivergence\n",
      "    0 -1493.22   -4186.7   -1785.83         -0.44          0.08\n",
      "    📝 Columns / 欄位: Score, std_diff, mean_diff, nunique_diff, jsdivergence\n",
      "\n",
      "================================================================================\n",
      "✅ Total results / 總結果數: 1\n",
      "================================================================================\n"
     ]
    }
   ],
   "source": [
    "display_yaml_info(yaml_path[2])\n",
    "exec = Executor(yaml_path[2])\n",
    "exec.run()\n",
    "display_results(exec.get_result())"
   ]
  }
 ],
 "metadata": {
  "kernelspec": {
   "display_name": "petsard",
   "language": "python",
   "name": "python3"
  },
  "language_info": {
   "codemirror_mode": {
    "name": "ipython",
    "version": 3
   },
   "file_extension": ".py",
   "mimetype": "text/x-python",
   "name": "python",
   "nbconvert_exporter": "python",
   "pygments_lexer": "ipython3",
   "version": "3.11.12"
  }
 },
 "nbformat": 4,
 "nbformat_minor": 2
}
