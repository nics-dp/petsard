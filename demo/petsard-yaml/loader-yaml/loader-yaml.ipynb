{
 "cells": [
  {
   "cell_type": "markdown",
   "metadata": {},
   "source": [
    "# Environment setting / 環境設定"
   ]
  },
  {
   "cell_type": "code",
   "execution_count": 1,
   "metadata": {},
   "outputs": [
    {
     "name": "stdout",
     "output_type": "stream",
     "text": [
      "📂 Current working directory: demo/petsard-yaml/loader-yaml\n",
      "✅ PETsARD demo_utils loaded. Use quick_setup() to initialize.\n"
     ]
    }
   ],
   "source": [
    "import os  # noqa: I001\n",
    "import sys\n",
    "from pathlib import Path\n",
    "\n",
    "\n",
    "# Handle utils.py for Colab\n",
    "if \"COLAB_GPU\" in os.environ:\n",
    "    import urllib.request\n",
    "\n",
    "    demo_utils_url = (\n",
    "        \"https://raw.githubusercontent.com/nics-tw/petsard/main/demo/demo_utils.py\"\n",
    "    )\n",
    "    exec(urllib.request.urlopen(demo_utils_url).read().decode(\"utf-8\"))\n",
    "else:\n",
    "    # demo_utils.py search for local\n",
    "    for p in [Path.cwd()] + list(Path.cwd().parents)[:10]:\n",
    "        utils_path = p / \"demo_utils.py\"\n",
    "        if utils_path.exists() and \"demo\" in str(utils_path):\n",
    "            sys.path.insert(0, str(p))\n",
    "            exec(open(utils_path).read())\n",
    "            break"
   ]
  },
  {
   "cell_type": "markdown",
   "metadata": {},
   "source": [
    "## Quick setup / 快速設定: Loader YAML"
   ]
  },
  {
   "cell_type": "code",
   "execution_count": 2,
   "metadata": {},
   "outputs": [
    {
     "name": "stdout",
     "output_type": "stream",
     "text": [
      "✅ Changed working directory to demo: petsard/demo\n",
      "   📁 Notebook location: demo/petsard-yaml/loader-yaml/\n",
      "   🔍 YAML search priority: \n",
      "      1. demo/petsard-yaml/loader-yaml/\n",
      "      2. demo/\n",
      "   💾 Output files will be saved in: demo/\n",
      "🚀 PETsARD v1.7.0\n",
      "📅 2025-10-12 11:23:06 UTC+8\n",
      "✅ Loaded benchmark dataset: adult-income\n",
      "✅ Downloaded benchmark schema: adult-income_schema\n",
      "✅ Loaded benchmark dataset: adult-income_ori\n",
      "✅ Loaded benchmark dataset: adult-income_control\n",
      "✅ Loaded benchmark dataset: adult-income_syn\n",
      "🔧 Added to Python path: petsard/demo/petsard-yaml/loader-yaml\n",
      "📁 Processing configuration files from subfolder: petsard-yaml/loader-yaml\n",
      "✅ Found configuration (1/3): petsard/demo/petsard-yaml/loader-yaml/basic-loading.yaml\n",
      "✅ Found configuration (2/3): petsard/demo/petsard-yaml/loader-yaml/using-schema-file.yaml\n",
      "✅ Found configuration (3/3): petsard/demo/petsard-yaml/loader-yaml/multiple-data-loading.yaml\n"
     ]
    }
   ],
   "source": [
    "from demo_utils import display_results, display_yaml_info, quick_setup  # noqa: I001\n",
    "from petsard import Executor  # noqa: I001\n",
    "\n",
    "\n",
    "is_colab, branch, yaml_path = quick_setup(\n",
    "    config_file=[\n",
    "        \"basic-loading.yaml\",\n",
    "        \"using-schema-file.yaml\",\n",
    "        \"multiple-data-loading.yaml\",\n",
    "    ],\n",
    "    benchmark_data=[\n",
    "        \"adult-income\",\n",
    "        \"adult-income_schema\",\n",
    "        \"adult-income_ori\",\n",
    "        \"adult-income_control\",\n",
    "        \"adult-income_syn\",\n",
    "    ],\n",
    "    petsard_branch=\"main\",\n",
    ")"
   ]
  },
  {
   "cell_type": "markdown",
   "metadata": {},
   "source": [
    "# Execution and Result / 執行與結果"
   ]
  },
  {
   "cell_type": "markdown",
   "metadata": {},
   "source": [
    "## Basic Loading / 基本載入"
   ]
  },
  {
   "cell_type": "code",
   "execution_count": 3,
   "metadata": {},
   "outputs": [
    {
     "name": "stdout",
     "output_type": "stream",
     "text": [
      "============================================================\n",
      "📋 YAML Configuration Files / YAML 設定檔案\n",
      "============================================================\n",
      "\n",
      "📄 File: basic-loading.yaml\n",
      "📁 Path: petsard/demo/petsard-yaml/loader-yaml/basic-loading.yaml\n",
      "\n",
      "⚙️ Configuration content / 設定內容:\n",
      "----------------------------------------\n",
      "---\n",
      "Loader:\n",
      "  load_csv:\n",
      "    filepath: benchmark/adult-income.csv\n",
      "...\n",
      "============================================================\n",
      "================================================================================\n",
      "📊 Execution Results / 執行結果\n",
      "================================================================================\n",
      "\n",
      "[1] Loader[load_csv]\n",
      "------------------------------------------------------------\n",
      "📈 DataFrame: 48,842 rows × 15 columns\n",
      "📋 Showing first 3 rows / 顯示前 3 行:\n",
      "\n",
      "   age  workclass  fnlwgt   education  educational-num      marital-status         occupation relationship   race gender  capital-gain  capital-loss  hours-per-week native-country income\n",
      "0   25    Private  226802        11th                7       Never-married  Machine-op-inspct    Own-child  Black   Male             0             0              40  United-States  <=50K\n",
      "1   38    Private   89814     HS-grad                9  Married-civ-spouse    Farming-fishing      Husband  White   Male             0             0              50  United-States  <=50K\n",
      "2   28  Local-gov  336951  Assoc-acdm               12  Married-civ-spouse    Protective-serv      Husband  White   Male             0             0              40  United-States   >50K\n",
      "\n",
      "... (48,839 more rows) / ... (還有 48,839 行)\n",
      "\n",
      "📝 Columns / 欄位: age, workclass, fnlwgt, education, educational-num, marital-status, occupation, relationship, race, gender, capital-gain, capital-loss, hours-per-week, native-country, income\n",
      "\n",
      "================================================================================\n",
      "✅ Total results / 總結果數: 1\n",
      "================================================================================\n"
     ]
    }
   ],
   "source": [
    "display_yaml_info(yaml_path[0])\n",
    "exec = Executor(yaml_path[0])\n",
    "exec.run()\n",
    "display_results(exec.get_result())"
   ]
  },
  {
   "cell_type": "markdown",
   "metadata": {},
   "source": [
    "## Using Schema File / 使用表詮釋資料檔案"
   ]
  },
  {
   "cell_type": "code",
   "execution_count": 4,
   "metadata": {},
   "outputs": [
    {
     "name": "stdout",
     "output_type": "stream",
     "text": [
      "============================================================\n",
      "📋 YAML Configuration Files / YAML 設定檔案\n",
      "============================================================\n",
      "\n",
      "📄 File: using-schema-file.yaml\n",
      "📁 Path: petsard/demo/petsard-yaml/loader-yaml/using-schema-file.yaml\n",
      "\n",
      "⚙️ Configuration content / 設定內容:\n",
      "----------------------------------------\n",
      "---\n",
      "Loader:\n",
      "  load_with_schema:\n",
      "    filepath: benchmark/adult-income.csv\n",
      "    schema: benchmark/adult-income_schema.yaml\n",
      "...\n",
      "============================================================\n",
      "================================================================================\n",
      "📊 Execution Results / 執行結果\n",
      "================================================================================\n",
      "\n",
      "[1] Loader[load_with_schema]\n",
      "------------------------------------------------------------\n",
      "📈 DataFrame: 48,842 rows × 15 columns\n",
      "📋 Showing first 3 rows / 顯示前 3 行:\n",
      "\n",
      "   age  workclass  fnlwgt   education  educational-num      marital-status         occupation relationship   race gender  capital-gain  capital-loss  hours-per-week native-country income\n",
      "0   25    Private  226802        11th                7       Never-married  Machine-op-inspct    Own-child  Black   Male             0             0              40  United-States  <=50K\n",
      "1   38    Private   89814     HS-grad                9  Married-civ-spouse    Farming-fishing      Husband  White   Male             0             0              50  United-States  <=50K\n",
      "2   28  Local-gov  336951  Assoc-acdm               12  Married-civ-spouse    Protective-serv      Husband  White   Male             0             0              40  United-States   >50K\n",
      "\n",
      "... (48,839 more rows) / ... (還有 48,839 行)\n",
      "\n",
      "📝 Columns / 欄位: age, workclass, fnlwgt, education, educational-num, marital-status, occupation, relationship, race, gender, capital-gain, capital-loss, hours-per-week, native-country, income\n",
      "\n",
      "================================================================================\n",
      "✅ Total results / 總結果數: 1\n",
      "================================================================================\n"
     ]
    }
   ],
   "source": [
    "display_yaml_info(yaml_path[1])\n",
    "exec = Executor(yaml_path[1])\n",
    "exec.run()\n",
    "display_results(exec.get_result())"
   ]
  },
  {
   "cell_type": "markdown",
   "metadata": {},
   "source": [
    "## Multiple Data Loading / 多個資料載入"
   ]
  },
  {
   "cell_type": "code",
   "execution_count": 5,
   "metadata": {},
   "outputs": [
    {
     "name": "stdout",
     "output_type": "stream",
     "text": [
      "============================================================\n",
      "📋 YAML Configuration Files / YAML 設定檔案\n",
      "============================================================\n",
      "\n",
      "📄 File: multiple-data-loading.yaml\n",
      "📁 Path: petsard/demo/petsard-yaml/loader-yaml/multiple-data-loading.yaml\n",
      "\n",
      "⚙️ Configuration content / 設定內容:\n",
      "----------------------------------------\n",
      "---\n",
      "Loader:\n",
      "  # Load training data\n",
      "  load_train:\n",
      "    filepath: benchmark/adult-income_ori.csv\n",
      "    schema: benchmark/adult-income_schema.yaml\n",
      "\n",
      "  # Load test data\n",
      "  load_test:\n",
      "    filepath: benchmark/adult-income_control.csv\n",
      "    schema: benchmark/adult-income_schema.yaml\n",
      "\n",
      "  # Load synthesizing data\n",
      "  load_synthesizer:\n",
      "    filepath: benchmark/adult-income_syn.csv\n",
      "    schema: benchmark/adult-income_schema.yaml\n",
      "...\n",
      "============================================================\n",
      "================================================================================\n",
      "📊 Execution Results / 執行結果\n",
      "================================================================================\n",
      "\n",
      "[1] Loader[load_train]\n",
      "------------------------------------------------------------\n",
      "📈 DataFrame: 39,073 rows × 15 columns\n",
      "📋 Showing first 3 rows / 顯示前 3 行:\n",
      "\n",
      "   age  workclass  fnlwgt   education  educational-num      marital-status         occupation relationship   race gender  capital-gain  capital-loss  hours-per-week native-country income\n",
      "0   25    Private  226802        11th                7       Never-married  Machine-op-inspct    Own-child  Black   Male             0             0              40  United-States  <=50K\n",
      "1   38    Private   89814     HS-grad                9  Married-civ-spouse    Farming-fishing      Husband  White   Male             0             0              50  United-States  <=50K\n",
      "2   28  Local-gov  336951  Assoc-acdm               12  Married-civ-spouse    Protective-serv      Husband  White   Male             0             0              40  United-States   >50K\n",
      "\n",
      "... (39,070 more rows) / ... (還有 39,070 行)\n",
      "\n",
      "📝 Columns / 欄位: age, workclass, fnlwgt, education, educational-num, marital-status, occupation, relationship, race, gender, capital-gain, capital-loss, hours-per-week, native-country, income\n",
      "\n",
      "[2] Loader[load_test]\n",
      "------------------------------------------------------------\n",
      "📈 DataFrame: 9,769 rows × 15 columns\n",
      "📋 Showing first 3 rows / 顯示前 3 行:\n",
      "\n",
      "   age         workclass  fnlwgt     education  educational-num      marital-status        occupation   relationship   race gender  capital-gain  capital-loss  hours-per-week native-country income\n",
      "0   33              <NA>  119918     Bachelors               13       Never-married              <NA>  Not-in-family  Black   Male             0             0              45              ?  <=50K\n",
      "1   22           Private  401451  Some-college               10  Married-civ-spouse  Transport-moving        Husband  White   Male             0             0              48  United-States   >50K\n",
      "2   63  Self-emp-not-inc  104626   Prof-school               15  Married-civ-spouse    Prof-specialty        Husband  White   Male          3103             0              32  United-States   >50K\n",
      "\n",
      "... (9,766 more rows) / ... (還有 9,766 行)\n",
      "\n",
      "📝 Columns / 欄位: age, workclass, fnlwgt, education, educational-num, marital-status, occupation, relationship, race, gender, capital-gain, capital-loss, hours-per-week, native-country, income\n",
      "\n",
      "[3] Loader[load_synthesizer]\n",
      "------------------------------------------------------------\n",
      "📈 DataFrame: 39,073 rows × 15 columns\n",
      "📋 Showing first 3 rows / 顯示前 3 行:\n",
      "\n",
      "   age  workclass  fnlwgt     education  educational-num      marital-status       occupation   relationship   race  gender  capital-gain  capital-loss  hours-per-week native-country income\n",
      "0   41       <NA>  253629       7th-8th                9  Married-civ-spouse   Prof-specialty  Not-in-family  White    Male             0             0              42  United-States  <=50K\n",
      "1   43    Private  226570          10th                7       Never-married     Tech-support  Not-in-family  White    Male             0             0              40  United-States  <=50K\n",
      "2   28  Local-gov  235550  Some-college               12       Never-married  Farming-fishing      Own-child  Black  Female             0             0              36  United-States  <=50K\n",
      "\n",
      "... (39,070 more rows) / ... (還有 39,070 行)\n",
      "\n",
      "📝 Columns / 欄位: age, workclass, fnlwgt, education, educational-num, marital-status, occupation, relationship, race, gender, capital-gain, capital-loss, hours-per-week, native-country, income\n",
      "\n",
      "================================================================================\n",
      "✅ Total results / 總結果數: 3\n",
      "================================================================================\n"
     ]
    }
   ],
   "source": [
    "display_yaml_info(yaml_path[2])\n",
    "exec = Executor(yaml_path[2])\n",
    "exec.run()\n",
    "display_results(exec.get_result())"
   ]
  }
 ],
 "metadata": {
  "kernelspec": {
   "display_name": "petsard",
   "language": "python",
   "name": "python3"
  },
  "language_info": {
   "codemirror_mode": {
    "name": "ipython",
    "version": 3
   },
   "file_extension": ".py",
   "mimetype": "text/x-python",
   "name": "python",
   "nbconvert_exporter": "python",
   "pygments_lexer": "ipython3",
   "version": "3.11.12"
  }
 },
 "nbformat": 4,
 "nbformat_minor": 2
}
