{
 "cells": [
  {
   "cell_type": "markdown",
   "metadata": {},
   "source": [
    "# Environment setting / 環境設定"
   ]
  },
  {
   "cell_type": "code",
   "execution_count": 1,
   "metadata": {},
   "outputs": [
    {
     "name": "stdout",
     "output_type": "stream",
     "text": [
      "📂 Current working directory: demo/petsard-yaml/loader-yaml\n",
      "✅ PETsARD demo_utils loaded. Use quick_setup() to initialize.\n"
     ]
    }
   ],
   "source": [
    "import os  # noqa: I001\n",
    "import sys\n",
    "from pathlib import Path\n",
    "\n",
    "\n",
    "# Handle utils.py for Colab\n",
    "if \"COLAB_GPU\" in os.environ:\n",
    "    import urllib.request\n",
    "\n",
    "    demo_utils_url = (\n",
    "        \"https://raw.githubusercontent.com/nics-tw/petsard/main/demo/demo_utils.py\"\n",
    "    )\n",
    "    exec(urllib.request.urlopen(demo_utils_url).read().decode(\"utf-8\"))\n",
    "else:\n",
    "    # demo_utils.py search for local\n",
    "    for p in [Path.cwd()] + list(Path.cwd().parents)[:10]:\n",
    "        utils_path = p / \"demo_utils.py\"\n",
    "        if utils_path.exists() and \"demo\" in str(utils_path):\n",
    "            sys.path.insert(0, str(p))\n",
    "            exec(open(utils_path).read())\n",
    "            break"
   ]
  },
  {
   "cell_type": "markdown",
   "metadata": {},
   "source": [
    "## Quick setup / 快速設定: benchmark://"
   ]
  },
  {
   "cell_type": "code",
   "execution_count": 2,
   "metadata": {},
   "outputs": [
    {
     "name": "stdout",
     "output_type": "stream",
     "text": [
      "✅ Changed working directory to demo: petsard/demo\n",
      "   📁 Notebook location: demo/petsard-yaml/loader-yaml/\n",
      "   🔍 YAML search priority: \n",
      "      1. demo/petsard-yaml/loader-yaml/\n",
      "      2. demo/\n",
      "   💾 Output files will be saved in: demo/\n",
      "🚀 PETsARD v1.7.0\n",
      "📅 2025-10-07 17:50:44 UTC+8\n",
      "📁 Processing YAML files from subfolder: petsard-yaml/loader-yaml\n",
      "✅ Found YAML (1/2): petsard/demo/petsard-yaml/loader-yaml/loading-benchmark-dataset.yaml\n",
      "✅ Found YAML (2/2): petsard/demo/petsard-yaml/loader-yaml/loading-benchmark-dataset-with-benchmark-schema.yaml\n"
     ]
    }
   ],
   "source": [
    "from demo_utils import display_results, display_yaml_info, quick_setup  # noqa: I001\n",
    "from petsard import Executor  # noqa: I001\n",
    "\n",
    "\n",
    "is_colab, branch, yaml_path = quick_setup(\n",
    "    yaml_file=[\n",
    "        \"loading-benchmark-dataset.yaml\",\n",
    "        \"loading-benchmark-dataset-with-benchmark-schema.yaml\",\n",
    "    ],\n",
    "    benchmark_data=[],\n",
    "    petsard_branch=\"main\",\n",
    ")"
   ]
  },
  {
   "cell_type": "markdown",
   "metadata": {},
   "source": [
    "# Execution and Result / 執行與結果"
   ]
  },
  {
   "cell_type": "markdown",
   "metadata": {},
   "source": [
    "## Loading Benchmark Dataset / 載入基準資料集"
   ]
  },
  {
   "cell_type": "code",
   "execution_count": 3,
   "metadata": {},
   "outputs": [
    {
     "name": "stdout",
     "output_type": "stream",
     "text": [
      "============================================================\n",
      "📋 YAML Configuration Files / YAML 設定檔案\n",
      "============================================================\n",
      "\n",
      "📄 File: loading-benchmark-dataset.yaml\n",
      "📁 Path: petsard/demo/petsard-yaml/loader-yaml/loading-benchmark-dataset.yaml\n",
      "\n",
      "⚙️ Configuration content / 設定內容:\n",
      "----------------------------------------\n",
      "Loader:\n",
      "  load_benchmark:\n",
      "    filepath: benchmark://adult-income\n",
      "============================================================\n",
      "================================================================================\n",
      "📊 Execution Results / 執行結果\n",
      "================================================================================\n",
      "\n",
      "[1] Loader[load_benchmark]\n",
      "------------------------------------------------------------\n",
      "📈 DataFrame: 48,842 rows × 15 columns\n",
      "📋 Showing first 3 rows / 顯示前 3 行:\n",
      "\n",
      "   age  workclass  fnlwgt   education  educational-num      marital-status         occupation relationship   race gender  capital-gain  capital-loss  hours-per-week native-country income\n",
      "0   25    Private  226802        11th                7       Never-married  Machine-op-inspct    Own-child  Black   Male             0             0              40  United-States  <=50K\n",
      "1   38    Private   89814     HS-grad                9  Married-civ-spouse    Farming-fishing      Husband  White   Male             0             0              50  United-States  <=50K\n",
      "2   28  Local-gov  336951  Assoc-acdm               12  Married-civ-spouse    Protective-serv      Husband  White   Male             0             0              40  United-States   >50K\n",
      "\n",
      "... (48,839 more rows) / ... (還有 48,839 行)\n",
      "\n",
      "📝 Columns / 欄位: age, workclass, fnlwgt, education, educational-num, marital-status, occupation, relationship, race, gender, capital-gain, capital-loss, hours-per-week, native-country, income\n",
      "\n",
      "================================================================================\n",
      "✅ Total results / 總結果數: 1\n",
      "================================================================================\n"
     ]
    }
   ],
   "source": [
    "display_yaml_info(yaml_path[0])\n",
    "exec = Executor(yaml_path[0])\n",
    "exec.run()\n",
    "display_results(exec.get_result())"
   ]
  },
  {
   "cell_type": "markdown",
   "metadata": {},
   "source": [
    "## Loading Benchmark Dataset with Benchmark Schema / 載入基準資料集與基準資料集詮釋資料 "
   ]
  },
  {
   "cell_type": "code",
   "execution_count": 4,
   "metadata": {},
   "outputs": [
    {
     "name": "stdout",
     "output_type": "stream",
     "text": [
      "============================================================\n",
      "📋 YAML Configuration Files / YAML 設定檔案\n",
      "============================================================\n",
      "\n",
      "📄 File: loading-benchmark-dataset-with-benchmark-schema.yaml\n",
      "📁 Path: petsard/demo/petsard-yaml/loader-yaml/loading-benchmark-dataset-with-benchmark-schema.yaml\n",
      "\n",
      "⚙️ Configuration content / 設定內容:\n",
      "----------------------------------------\n",
      "Loader:\n",
      "  load_benchmark_with_schema:\n",
      "    filepath: benchmark://adult-income\n",
      "    schema: benchmark://adult-income_schema\n",
      "============================================================\n",
      "================================================================================\n",
      "📊 Execution Results / 執行結果\n",
      "================================================================================\n",
      "\n",
      "[1] Loader[load_benchmark_with_schema]\n",
      "------------------------------------------------------------\n",
      "📈 DataFrame: 48,842 rows × 15 columns\n",
      "📋 Showing first 3 rows / 顯示前 3 行:\n",
      "\n",
      "   age  workclass  fnlwgt   education  educational-num      marital-status         occupation relationship   race gender  capital-gain  capital-loss  hours-per-week native-country income\n",
      "0   25    Private  226802        11th                7       Never-married  Machine-op-inspct    Own-child  Black   Male             0             0              40  United-States  <=50K\n",
      "1   38    Private   89814     HS-grad                9  Married-civ-spouse    Farming-fishing      Husband  White   Male             0             0              50  United-States  <=50K\n",
      "2   28  Local-gov  336951  Assoc-acdm               12  Married-civ-spouse    Protective-serv      Husband  White   Male             0             0              40  United-States   >50K\n",
      "\n",
      "... (48,839 more rows) / ... (還有 48,839 行)\n",
      "\n",
      "📝 Columns / 欄位: age, workclass, fnlwgt, education, educational-num, marital-status, occupation, relationship, race, gender, capital-gain, capital-loss, hours-per-week, native-country, income\n",
      "\n",
      "================================================================================\n",
      "✅ Total results / 總結果數: 1\n",
      "================================================================================\n"
     ]
    }
   ],
   "source": [
    "display_yaml_info(yaml_path[1])\n",
    "exec = Executor(yaml_path[1])\n",
    "exec.run()\n",
    "display_results(exec.get_result())"
   ]
  }
 ],
 "metadata": {
  "kernelspec": {
   "display_name": "petsard",
   "language": "python",
   "name": "python3"
  },
  "language_info": {
   "codemirror_mode": {
    "name": "ipython",
    "version": 3
   },
   "file_extension": ".py",
   "mimetype": "text/x-python",
   "name": "python",
   "nbconvert_exporter": "python",
   "pygments_lexer": "ipython3",
   "version": "3.11.12"
  }
 },
 "nbformat": 4,
 "nbformat_minor": 2
}
