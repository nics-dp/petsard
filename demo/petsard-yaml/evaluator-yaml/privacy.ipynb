{
 "cells": [
  {
   "cell_type": "markdown",
   "metadata": {},
   "source": [
    "# Environment setting / 環境設定"
   ]
  },
  {
   "cell_type": "code",
   "execution_count": 1,
   "metadata": {},
   "outputs": [
    {
     "name": "stdout",
     "output_type": "stream",
     "text": [
      "📂 Current working directory: demo/petsard-yaml/evaluator-yaml\n",
      "✅ PETsARD demo_utils loaded. Use quick_setup() to initialize.\n"
     ]
    }
   ],
   "source": [
    "import os  # noqa: I001\n",
    "import sys\n",
    "from pathlib import Path\n",
    "\n",
    "\n",
    "# Handle utils.py for Colab\n",
    "if \"COLAB_GPU\" in os.environ:\n",
    "    import urllib.request\n",
    "\n",
    "    demo_utils_url = (\n",
    "        \"https://raw.githubusercontent.com/nics-tw/petsard/main/demo/demo_utils.py\"\n",
    "    )\n",
    "    exec(urllib.request.urlopen(demo_utils_url).read().decode(\"utf-8\"))\n",
    "else:\n",
    "    # demo_utils.py search for local\n",
    "    for p in [Path.cwd()] + list(Path.cwd().parents)[:10]:\n",
    "        utils_path = p / \"demo_utils.py\"\n",
    "        if utils_path.exists() and \"demo\" in str(utils_path):\n",
    "            sys.path.insert(0, str(p))\n",
    "            exec(open(utils_path).read())\n",
    "            break"
   ]
  },
  {
   "cell_type": "markdown",
   "metadata": {},
   "source": [
    "## Quick setup / 快速設定: Evaluation YAML - Privacy Protection Assessment"
   ]
  },
  {
   "cell_type": "code",
   "execution_count": 2,
   "metadata": {},
   "outputs": [
    {
     "name": "stdout",
     "output_type": "stream",
     "text": [
      "✅ Changed working directory to demo: petsard/demo\n",
      "   📁 Notebook location: demo/petsard-yaml/evaluator-yaml/\n",
      "   🔍 YAML search priority: \n",
      "      1. demo/petsard-yaml/evaluator-yaml/\n",
      "      2. demo/\n",
      "   💾 Output files will be saved in: demo/\n",
      "🚀 PETsARD v1.7.0\n",
      "📅 2025-10-17 16:27:36 UTC+8\n",
      "🔧 Added to Python path: petsard/demo/petsard-yaml/evaluator-yaml\n",
      "📁 Processing configuration files from subfolder: petsard-yaml/evaluator-yaml\n",
      "✅ Found configuration (1/3): petsard/demo/petsard-yaml/evaluator-yaml/privacy-singling-out-risk.yaml\n",
      "✅ Found configuration (2/3): petsard/demo/petsard-yaml/evaluator-yaml/privacy-linkability-risk.yaml\n",
      "✅ Found configuration (3/3): petsard/demo/petsard-yaml/evaluator-yaml/privacy-inference-risk.yaml\n"
     ]
    }
   ],
   "source": [
    "from demo_utils import display_results, display_yaml_info, quick_setup  # noqa: I001\n",
    "from petsard import Executor  # noqa: I001\n",
    "\n",
    "\n",
    "is_colab, branch, yaml_path = quick_setup(\n",
    "    config_file=[\n",
    "        \"privacy-singling-out-risk.yaml\",\n",
    "        \"privacy-linkability-risk.yaml\",\n",
    "        \"privacy-inference-risk.yaml\",\n",
    "    ],\n",
    "    benchmark_data=None,\n",
    "    petsard_branch=\"main\",\n",
    ")"
   ]
  },
  {
   "cell_type": "markdown",
   "metadata": {},
   "source": [
    "# Execution and Result / 執行與結果"
   ]
  },
  {
   "cell_type": "markdown",
   "metadata": {},
   "source": [
    "## Singling Out Risk / 指認性風險"
   ]
  },
  {
   "cell_type": "code",
   "execution_count": 3,
   "metadata": {},
   "outputs": [
    {
     "name": "stdout",
     "output_type": "stream",
     "text": [
      "============================================================\n",
      "📋 YAML Configuration Files / YAML 設定檔案\n",
      "============================================================\n",
      "\n",
      "📄 File: privacy-singling-out-risk.yaml\n",
      "📁 Path: petsard/demo/petsard-yaml/evaluator-yaml/privacy-singling-out-risk.yaml\n",
      "\n",
      "⚙️ Configuration content / 設定內容:\n",
      "----------------------------------------\n",
      "---\n",
      "Splitter:\n",
      "  external_split:\n",
      "    method: custom_data\n",
      "    filepath:\n",
      "      ori: benchmark://adult-income_ori\n",
      "      control: benchmark://adult-income_control\n",
      "    schema:\n",
      "      ori: benchmark://adult-income_schema\n",
      "      control: benchmark://adult-income_schema\n",
      "Synthesizer:\n",
      "  external_data:\n",
      "    method: custom_data\n",
      "    filepath: benchmark://adult-income_syn\n",
      "    schema: benchmark://adult-income_schema\n",
      "Evaluator:\n",
      "  singling_out_risk:\n",
      "    method: anonymeter-singlingout\n",
      "    n_attacks: 400          # Number of attacks (default: 2,000)\n",
      "    n_cols: 3               # Columns per query (default: 3)\n",
      "    max_attempts: 4000      # Maximum attempts (default: 500,000)\n",
      "...\n",
      "============================================================\n"
     ]
    },
    {
     "name": "stderr",
     "output_type": "stream",
     "text": [
      "Found 336 failed queries out of 400. Check DEBUG messages for more details.\n",
      "Reached maximum number of attempts 4000 when generating singling out queries. Returning 1 instead of the requested 400.To avoid this, increase the number of attempts or set it to ``None`` to disable The limitation entirely.\n",
      "Attack `multivariate` could generate only 1 singling out queries out of the requested 400. This can probably lead to an underestimate of the singling out risk.\n"
     ]
    },
    {
     "name": "stdout",
     "output_type": "stream",
     "text": [
      "================================================================================\n",
      "📊 Execution Results / 執行結果\n",
      "================================================================================\n",
      "\n",
      "[1] Splitter[external_split_[1-1]]_Synthesizer[external_data]_Evaluator[singling_out_risk]\n",
      "------------------------------------------------------------\n",
      "📦 Dictionary with 2 keys / 包含 2 個鍵的字典\n",
      "\n",
      "  • global: DataFrame (1 rows × 9 columns)\n",
      "    📋 Showing first 1 rows / 顯示前 1 行:\n",
      "            risk  risk_CI_btm  risk_CI_top  attack_rate  attack_rate_err  baseline_rate  baseline_rate_err  control_rate  control_rate_err\n",
      "    result   0.0          0.0         0.01          0.0              0.0            0.0                0.0           0.0               0.0\n",
      "    📝 Columns / 欄位: risk, risk_CI_btm, risk_CI_top, attack_rate, attack_rate_err, baseline_rate, baseline_rate_err, control_rate, control_rate_err\n",
      "  • details: dict\n",
      "\n",
      "================================================================================\n",
      "✅ Total results / 總結果數: 1\n",
      "================================================================================\n"
     ]
    },
    {
     "name": "stderr",
     "output_type": "stream",
     "text": [
      "/Users/justyn.chen/Library/CloudStorage/Dropbox/5_Career 工作/20231016_NICS 資安院/3_工藝：PETsARD/petsard/.venv/lib/python3.11/site-packages/anonymeter/stats/confidence.py:218: UserWarning: Attack is as good or worse as baseline model. Estimated rates: attack = 0.004756147167148254, baseline = 0.004756147167148254. Analysis results cannot be trusted.\n",
      "  self._sanity_check()\n"
     ]
    }
   ],
   "source": [
    "display_yaml_info(yaml_path[0])\n",
    "exec_now = Executor(yaml_path[0])\n",
    "exec_now.run()\n",
    "display_results(exec_now.get_result())"
   ]
  },
  {
   "cell_type": "markdown",
   "metadata": {},
   "source": [
    "## Linkability Risk / 連結性風險"
   ]
  },
  {
   "cell_type": "code",
   "execution_count": 4,
   "metadata": {},
   "outputs": [
    {
     "name": "stdout",
     "output_type": "stream",
     "text": [
      "============================================================\n",
      "📋 YAML Configuration Files / YAML 設定檔案\n",
      "============================================================\n",
      "\n",
      "📄 File: privacy-linkability-risk.yaml\n",
      "📁 Path: petsard/demo/petsard-yaml/evaluator-yaml/privacy-linkability-risk.yaml\n",
      "\n",
      "⚙️ Configuration content / 設定內容:\n",
      "----------------------------------------\n",
      "---\n",
      "Splitter:\n",
      "  external_split:\n",
      "    method: custom_data\n",
      "    filepath:\n",
      "      ori: benchmark://adult-income_ori\n",
      "      control: benchmark://adult-income_control\n",
      "    schema:\n",
      "      ori: benchmark://adult-income_schema\n",
      "      control: benchmark://adult-income_schema\n",
      "Synthesizer:\n",
      "  external_data:\n",
      "    method: custom_data\n",
      "    filepath: benchmark://adult-income_syn\n",
      "    schema: benchmark://adult-income_schema\n",
      "Evaluator:\n",
      "  linkability_risk:\n",
      "    method: anonymeter-linkability\n",
      "    max_n_attacks: true      # Use control dataset size (default: true)\n",
      "    n_neighbors: 1           # Nearest neighbors (default: 1)\n",
      "    aux_cols:\n",
      "      -                      # First list: Public data columns\n",
      "        - workclass\n",
      "        - education\n",
      "        - occupation\n",
      "        - race\n",
      "        - gender\n",
      "      -                      # Second list: Private data columns\n",
      "        - age\n",
      "        - marital-status\n",
      "        - relationship\n",
      "        - native-country\n",
      "        - income\n",
      "...\n",
      "============================================================\n",
      "================================================================================\n",
      "📊 Execution Results / 執行結果\n",
      "================================================================================\n",
      "\n",
      "[1] Splitter[external_split_[1-1]]_Synthesizer[external_data]_Evaluator[linkability_risk]\n",
      "------------------------------------------------------------\n",
      "📦 Dictionary with 2 keys / 包含 2 個鍵的字典\n",
      "\n",
      "  • global: DataFrame (1 rows × 9 columns)\n",
      "    📋 Showing first 1 rows / 顯示前 1 行:\n",
      "            risk  risk_CI_btm  risk_CI_top  attack_rate  attack_rate_err  baseline_rate  baseline_rate_err  control_rate  control_rate_err\n",
      "    result   0.0          0.0          0.0          0.0              0.0            0.0                0.0           0.0               0.0\n",
      "    📝 Columns / 欄位: risk, risk_CI_btm, risk_CI_top, attack_rate, attack_rate_err, baseline_rate, baseline_rate_err, control_rate, control_rate_err\n",
      "  • details: dict\n",
      "\n",
      "================================================================================\n",
      "✅ Total results / 總結果數: 1\n",
      "================================================================================\n"
     ]
    },
    {
     "name": "stderr",
     "output_type": "stream",
     "text": [
      "/Users/justyn.chen/Library/CloudStorage/Dropbox/5_Career 工作/20231016_NICS 資安院/3_工藝：PETsARD/petsard/.venv/lib/python3.11/site-packages/anonymeter/stats/confidence.py:218: UserWarning: Attack is as good or worse as baseline model. Estimated rates: attack = 0.00019653745724212745, baseline = 0.00019653745724212745. Analysis results cannot be trusted.\n",
      "  self._sanity_check()\n"
     ]
    }
   ],
   "source": [
    "display_yaml_info(yaml_path[1])\n",
    "exec_now = Executor(yaml_path[1])\n",
    "exec_now.run()\n",
    "display_results(exec_now.get_result())"
   ]
  },
  {
   "cell_type": "markdown",
   "metadata": {},
   "source": [
    "## Inference Risk / 推論性風險"
   ]
  },
  {
   "cell_type": "code",
   "execution_count": 5,
   "metadata": {},
   "outputs": [
    {
     "name": "stdout",
     "output_type": "stream",
     "text": [
      "============================================================\n",
      "📋 YAML Configuration Files / YAML 設定檔案\n",
      "============================================================\n",
      "\n",
      "📄 File: privacy-inference-risk.yaml\n",
      "📁 Path: petsard/demo/petsard-yaml/evaluator-yaml/privacy-inference-risk.yaml\n",
      "\n",
      "⚙️ Configuration content / 設定內容:\n",
      "----------------------------------------\n",
      "---\n",
      "Splitter:\n",
      "  external_split:\n",
      "    method: custom_data\n",
      "    filepath:\n",
      "      ori: benchmark://adult-income_ori\n",
      "      control: benchmark://adult-income_control\n",
      "    schema:\n",
      "      ori: benchmark://adult-income_schema\n",
      "      control: benchmark://adult-income_schema\n",
      "Synthesizer:\n",
      "  external_data:\n",
      "    method: custom_data\n",
      "    filepath: benchmark://adult-income_syn\n",
      "    schema: benchmark://adult-income_schema\n",
      "Evaluator:\n",
      "  inference_risk:\n",
      "    method: anonymeter-inference\n",
      "    max_n_attacks: true      # Use control dataset size (default: true)\n",
      "    secret: income           # Sensitive column to infer (required)\n",
      "...\n",
      "============================================================\n",
      "================================================================================\n",
      "📊 Execution Results / 執行結果\n",
      "================================================================================\n",
      "\n",
      "[1] Splitter[external_split_[1-1]]_Synthesizer[external_data]_Evaluator[inference_risk]\n",
      "------------------------------------------------------------\n",
      "📦 Dictionary with 2 keys / 包含 2 個鍵的字典\n",
      "\n",
      "  • global: DataFrame (1 rows × 9 columns)\n",
      "    📋 Showing first 1 rows / 顯示前 1 行:\n",
      "            risk  risk_CI_btm  risk_CI_top  attack_rate  attack_rate_err  baseline_rate  baseline_rate_err  control_rate  control_rate_err\n",
      "    result   0.0          0.0         0.04          0.7             0.01           0.65               0.01           0.7              0.01\n",
      "    📝 Columns / 欄位: risk, risk_CI_btm, risk_CI_top, attack_rate, attack_rate_err, baseline_rate, baseline_rate_err, control_rate, control_rate_err\n",
      "  • details: NoneType\n",
      "\n",
      "================================================================================\n",
      "✅ Total results / 總結果數: 1\n",
      "================================================================================\n"
     ]
    }
   ],
   "source": [
    "display_yaml_info(yaml_path[2])\n",
    "exec_now = Executor(yaml_path[2])\n",
    "exec_now.run()\n",
    "display_results(exec_now.get_result())"
   ]
  }
 ],
 "metadata": {
  "kernelspec": {
   "display_name": "petsard",
   "language": "python",
   "name": "python3"
  },
  "language_info": {
   "codemirror_mode": {
    "name": "ipython",
    "version": 3
   },
   "file_extension": ".py",
   "mimetype": "text/x-python",
   "name": "python",
   "nbconvert_exporter": "python",
   "pygments_lexer": "ipython3",
   "version": "3.11.12"
  }
 },
 "nbformat": 4,
 "nbformat_minor": 2
}
