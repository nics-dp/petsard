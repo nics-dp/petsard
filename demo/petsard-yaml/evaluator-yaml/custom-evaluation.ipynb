{
 "cells": [
  {
   "cell_type": "markdown",
   "metadata": {},
   "source": [
    "# Environment setting / 環境設定"
   ]
  },
  {
   "cell_type": "code",
   "execution_count": 1,
   "metadata": {},
   "outputs": [
    {
     "name": "stdout",
     "output_type": "stream",
     "text": [
      "📂 Current working directory: demo/petsard-yaml/evaluator-yaml\n",
      "✅ PETsARD demo_utils loaded. Use quick_setup() to initialize.\n"
     ]
    }
   ],
   "source": [
    "import os  # noqa: I001\n",
    "import sys\n",
    "from pathlib import Path\n",
    "\n",
    "\n",
    "# Handle utils.py for Colab\n",
    "if \"COLAB_GPU\" in os.environ:\n",
    "    import urllib.request\n",
    "\n",
    "    demo_utils_url = (\n",
    "        \"https://raw.githubusercontent.com/nics-tw/petsard/main/demo/demo_utils.py\"\n",
    "    )\n",
    "    exec(urllib.request.urlopen(demo_utils_url).read().decode(\"utf-8\"))\n",
    "else:\n",
    "    # demo_utils.py search for local\n",
    "    for p in [Path.cwd()] + list(Path.cwd().parents)[:10]:\n",
    "        utils_path = p / \"demo_utils.py\"\n",
    "        if utils_path.exists() and \"demo\" in str(utils_path):\n",
    "            sys.path.insert(0, str(p))\n",
    "            exec(open(utils_path).read())\n",
    "            break"
   ]
  },
  {
   "cell_type": "markdown",
   "metadata": {},
   "source": [
    "## Quick setup / 快速設定: Evaluation YAML - Custom Assessment"
   ]
  },
  {
   "cell_type": "code",
   "execution_count": 2,
   "metadata": {},
   "outputs": [
    {
     "name": "stdout",
     "output_type": "stream",
     "text": [
      "✅ Changed working directory to demo: petsard/demo\n",
      "   📁 Notebook location: demo/petsard-yaml/evaluator-yaml/\n",
      "   🔍 YAML search priority: \n",
      "      1. demo/petsard-yaml/evaluator-yaml/\n",
      "      2. demo/\n",
      "   💾 Output files will be saved in: demo/\n",
      "🚀 PETsARD v1.7.0\n",
      "📅 2025-10-14 10:13:04 UTC+8\n",
      "🔧 Added to Python path: petsard/demo/petsard-yaml/evaluator-yaml\n",
      "📁 Processing configuration files from subfolder: petsard-yaml/evaluator-yaml\n",
      "✅ Found configuration (1/2): petsard/demo/petsard-yaml/evaluator-yaml/custom-evaluation.yaml\n",
      "✅ Found configuration (2/2): petsard/demo/petsard-yaml/evaluator-yaml/custom-evaluation.py\n"
     ]
    }
   ],
   "source": [
    "from demo_utils import display_results, display_yaml_info, quick_setup  # noqa: I001\n",
    "from petsard import Executor  # noqa: I001\n",
    "\n",
    "\n",
    "is_colab, branch, yaml_path = quick_setup(\n",
    "    config_file=[\n",
    "        \"custom-evaluation.yaml\",\n",
    "        \"custom-evaluation.py\",\n",
    "    ],\n",
    "    benchmark_data=None,\n",
    "    petsard_branch=\"main\",\n",
    ")"
   ]
  },
  {
   "cell_type": "markdown",
   "metadata": {},
   "source": [
    "# Execution and Result / 執行與結果"
   ]
  },
  {
   "cell_type": "markdown",
   "metadata": {},
   "source": [
    "## Custom Assessment / 自訂評測"
   ]
  },
  {
   "cell_type": "code",
   "execution_count": 3,
   "metadata": {},
   "outputs": [
    {
     "name": "stdout",
     "output_type": "stream",
     "text": [
      "============================================================\n",
      "📋 YAML Configuration Files / YAML 設定檔案\n",
      "============================================================\n",
      "\n",
      "📄 File: custom-evaluation.yaml\n",
      "📁 Path: petsard/demo/petsard-yaml/evaluator-yaml/custom-evaluation.yaml\n",
      "\n",
      "⚙️ Configuration content / 設定內容:\n",
      "----------------------------------------\n",
      "---\n",
      "Splitter:\n",
      "  external_split:\n",
      "    method: custom_data\n",
      "    filepath:\n",
      "      ori: benchmark://adult-income_ori\n",
      "      control: benchmark://adult-income_control\n",
      "    schema:\n",
      "      ori: benchmark://adult-income_schema\n",
      "      control: benchmark://adult-income_schema\n",
      "Synthesizer:\n",
      "  external_data:\n",
      "    method: custom_data\n",
      "    filepath: benchmark://adult-income\n",
      "    schema: benchmark://adult-income_schema\n",
      "Evaluator:\n",
      "  your-custom-evaluator:\n",
      "    method: custom_method\n",
      "    module_path: custom-evaluation.py  # Python file name\n",
      "    class_name: MyEvaluator_Pushover   # Class name in the file\n",
      "...\n",
      "============================================================\n",
      "================================================================================\n",
      "📊 Execution Results / 執行結果\n",
      "================================================================================\n",
      "\n",
      "[1] Splitter[external_split_[1-1]]_Synthesizer[external_data]_Evaluator[your-custom-evaluator]\n",
      "------------------------------------------------------------\n",
      "📦 Dictionary with 4 keys / 包含 4 個鍵的字典\n",
      "\n",
      "  • global: DataFrame (1 rows × 1 columns)\n",
      "    📋 Showing first 1 rows / 顯示前 1 行:\n",
      "            score\n",
      "    result    100\n",
      "    📝 Columns / 欄位: score\n",
      "\n",
      "  • columnwise: DataFrame (15 rows × 1 columns)\n",
      "    📋 Showing first 3 rows / 顯示前 3 行:\n",
      "               score\n",
      "    age          100\n",
      "    workclass    100\n",
      "    fnlwgt       100\n",
      "    ... (12 more rows) / ... (還有 12 行)\n",
      "    📝 Columns / 欄位: score\n",
      "\n",
      "  • pairwise: DataFrame (120 rows × 1 columns)\n",
      "    📋 Showing first 3 rows / 顯示前 3 行:\n",
      "                         score\n",
      "    age       age          100\n",
      "    workclass age          100\n",
      "              workclass    100\n",
      "    ... (117 more rows) / ... (還有 117 行)\n",
      "    📝 Columns / 欄位: score\n",
      "\n",
      "  • details: DataFrame (4 rows × 1 columns)\n",
      "    📋 Showing first 3 rows / 顯示前 3 行:\n",
      "                                                                                                                       lorem_text\n",
      "    0  Lorem ipsum dolor sit amet, consectetur adipiscing elit, sed do eiusmod tempor incididunt ut labore et dolore magna aliqua\n",
      "    1                  Ut enim ad minim veniam, quis nostrud exercitation ullamco laboris nisi ut aliquip ex ea commodo consequat\n",
      "    2                       Duis aute irure dolor in reprehenderit in voluptate velit esse cillum dolore eu fugiat nulla pariatur\n",
      "    ... (1 more rows) / ... (還有 1 行)\n",
      "    📝 Columns / 欄位: lorem_text\n",
      "\n",
      "================================================================================\n",
      "✅ Total results / 總結果數: 1\n",
      "================================================================================\n"
     ]
    }
   ],
   "source": [
    "display_yaml_info(yaml_path[0])\n",
    "exec = Executor(yaml_path[0])\n",
    "exec.run()\n",
    "display_results(exec.get_result())"
   ]
  }
 ],
 "metadata": {
  "kernelspec": {
   "display_name": "petsard",
   "language": "python",
   "name": "python3"
  },
  "language_info": {
   "codemirror_mode": {
    "name": "ipython",
    "version": 3
   },
   "file_extension": ".py",
   "mimetype": "text/x-python",
   "name": "python",
   "nbconvert_exporter": "python",
   "pygments_lexer": "ipython3",
   "version": "3.11.12"
  }
 },
 "nbformat": 4,
 "nbformat_minor": 2
}
