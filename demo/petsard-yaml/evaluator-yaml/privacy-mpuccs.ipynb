{
 "cells": [
  {
   "cell_type": "markdown",
   "metadata": {},
   "source": [
    "# Environment setting / 環境設定"
   ]
  },
  {
   "cell_type": "code",
   "execution_count": 1,
   "metadata": {},
   "outputs": [
    {
     "name": "stdout",
     "output_type": "stream",
     "text": [
      "📂 Current working directory: demo/petsard-yaml/evaluator-yaml\n",
      "✅ PETsARD demo_utils loaded. Use quick_setup() to initialize.\n"
     ]
    }
   ],
   "source": [
    "import os  # noqa: I001\n",
    "import sys\n",
    "from pathlib import Path\n",
    "\n",
    "\n",
    "# Handle utils.py for Colab\n",
    "if \"COLAB_GPU\" in os.environ:\n",
    "    import urllib.request\n",
    "\n",
    "    demo_utils_url = (\n",
    "        \"https://raw.githubusercontent.com/nics-tw/petsard/main/demo/demo_utils.py\"\n",
    "    )\n",
    "    exec(urllib.request.urlopen(demo_utils_url).read().decode(\"utf-8\"))\n",
    "else:\n",
    "    # demo_utils.py search for local\n",
    "    for p in [Path.cwd()] + list(Path.cwd().parents)[:10]:\n",
    "        utils_path = p / \"demo_utils.py\"\n",
    "        if utils_path.exists() and \"demo\" in str(utils_path):\n",
    "            sys.path.insert(0, str(p))\n",
    "            exec(open(utils_path).read())\n",
    "            break"
   ]
  },
  {
   "cell_type": "markdown",
   "metadata": {},
   "source": [
    "## Quick setup / 快速設定: Evaluation YAML - mpUCCs Privacy Risk Assessment"
   ]
  },
  {
   "cell_type": "code",
   "execution_count": 2,
   "metadata": {},
   "outputs": [
    {
     "name": "stdout",
     "output_type": "stream",
     "text": [
      "✅ Changed working directory to demo: petsard/demo\n",
      "   📁 Notebook location: demo/petsard-yaml/evaluator-yaml/\n",
      "   🔍 YAML search priority: \n",
      "      1. demo/petsard-yaml/evaluator-yaml/\n",
      "      2. demo/\n",
      "   💾 Output files will be saved in: demo/\n",
      "🚀 PETsARD v1.7.0\n",
      "📅 2025-10-12 20:38:04 UTC+8\n",
      "🔧 Added to Python path: petsard/demo/petsard-yaml/evaluator-yaml\n",
      "📁 Processing configuration files from subfolder: petsard-yaml/evaluator-yaml\n",
      "✅ Found configuration (1/1): petsard/demo/petsard-yaml/evaluator-yaml/privacy-mpuccs.yaml\n"
     ]
    }
   ],
   "source": [
    "from demo_utils import display_results, display_yaml_info, quick_setup  # noqa: I001\n",
    "from petsard import Executor  # noqa: I001\n",
    "\n",
    "\n",
    "is_colab, branch, yaml_path = quick_setup(\n",
    "    config_file=[\n",
    "        \"privacy-mpuccs.yaml\",\n",
    "    ],\n",
    "    benchmark_data=None,\n",
    "    petsard_branch=\"main\",\n",
    ")"
   ]
  },
  {
   "cell_type": "markdown",
   "metadata": {},
   "source": [
    "# Execution and Result / 執行與結果"
   ]
  },
  {
   "cell_type": "markdown",
   "metadata": {},
   "source": [
    "## mpUCCs / 最大部分唯一欄位組合"
   ]
  },
  {
   "cell_type": "code",
   "execution_count": 3,
   "metadata": {},
   "outputs": [
    {
     "name": "stdout",
     "output_type": "stream",
     "text": [
      "============================================================\n",
      "📋 YAML Configuration Files / YAML 設定檔案\n",
      "============================================================\n",
      "\n",
      "📄 File: privacy-mpuccs.yaml\n",
      "📁 Path: petsard/demo/petsard-yaml/evaluator-yaml/privacy-mpuccs.yaml\n",
      "\n",
      "⚙️ Configuration content / 設定內容:\n",
      "----------------------------------------\n",
      "---\n",
      "Splitter:\n",
      "  external_split:\n",
      "    method: custom_data\n",
      "    filepath:\n",
      "      ori: benchmark://adult-income_ori\n",
      "      control: benchmark://adult-income_control\n",
      "    schema:\n",
      "      ori: benchmark://adult-income_schema\n",
      "      control: benchmark://adult-income_schema\n",
      "Synthesizer:\n",
      "  external_data:\n",
      "    method: custom_data\n",
      "    filepath: benchmark://adult-income\n",
      "    schema: benchmark://adult-income_schema\n",
      "Evaluator:\n",
      "  mpuccs_assessment:\n",
      "    method: mpuccs\n",
      "    n_cols:        # Combination sizes to evaluate (default: null = all sizes from 1 to total columns)\n",
      "      - 1\n",
      "      - 2\n",
      "    min_entropy_delta: 0.01     # Minimum entropy gain threshold (default: 0.0)\n",
      "    field_decay_factor: 0.5     # Field combination weighting decay (default: 0.5)\n",
      "    renyi_alpha: 2.0            # Rényi entropy parameter (default: 2.0)\n",
      "    numeric_precision: null     # Auto-detect or specify decimal places (default: null)\n",
      "    datetime_precision: null    # Auto-detect or specify time precision (default: null)\n",
      "...\n",
      "============================================================\n"
     ]
    },
    {
     "name": "stderr",
     "output_type": "stream",
     "text": [
      "Field 15/15 - Processing income combinations: 100%|██████████| 120/120 [00:25<00:00,  4.72combo/s]       \n"
     ]
    },
    {
     "name": "stdout",
     "output_type": "stream",
     "text": [
      "================================================================================\n",
      "📊 Execution Results / 執行結果\n",
      "================================================================================\n",
      "\n",
      "[1] Splitter[external_split_[1-1]]_Synthesizer[external_data]_Evaluator[mpuccs_assessment]\n",
      "------------------------------------------------------------\n",
      "📦 Dictionary with 3 keys / 包含 3 個鍵的字典\n",
      "\n",
      "  • global: DataFrame (1 rows × 13 columns)\n",
      "    📋 Showing first 1 rows / 顯示前 1 行:\n",
      "       total_syn_records  total_ori_records  total_identified  identification_rate  weighted_identification_rate  total_combinations_checked  total_combinations_pruned config_n_cols  config_min_entropy_delta  config_field_decay_factor  config_renyi_alpha config_numeric_precision config_datetime_precision\n",
      "    0              48790              39035             38118             0.781267                      0.540428                         120                         40        [1, 2]                      0.01                        0.5                 2.0                     None                      None\n",
      "    📝 Columns / 欄位: total_syn_records, total_ori_records, total_identified, identification_rate, weighted_identification_rate, total_combinations_checked, total_combinations_pruned, config_n_cols, config_min_entropy_delta, config_field_decay_factor, config_renyi_alpha, config_numeric_precision, config_datetime_precision\n",
      "\n",
      "  • details: DataFrame (38,118 rows × 5 columns)\n",
      "    📋 Showing first 3 rows / 顯示前 3 行:\n",
      "       combo_size  syn_idx  field_combo value_combo  ori_idx\n",
      "    0           1        0  ('fnlwgt',)   (226802,)        0\n",
      "    1           1        1  ('fnlwgt',)    (89814,)        1\n",
      "    2           1        4  ('fnlwgt',)   (103497,)        4\n",
      "    ... (38,115 more rows) / ... (還有 38,115 行)\n",
      "    📝 Columns / 欄位: combo_size, syn_idx, field_combo, value_combo, ori_idx\n",
      "\n",
      "  • tree: DataFrame (120 rows × 14 columns)\n",
      "    📋 Showing first 3 rows / 顯示前 3 行:\n",
      "       check_order  combo_size                 field_combo   base_combo base_is_pruned  combo_entropy  base_entropy  entropy_gain is_pruned  mpuccs_cnt  mpuccs_collision_cnt  field_weighted  total_weighted  weighted_mpuccs_collision_cnt\n",
      "    0            1           1                 ('fnlwgt',)         None           None       0.950829           NaN           NaN      None       18328                 14612             1.0             1.0                        14612.0\n",
      "    1            2           1           ('capital-gain',)         None           None       0.035797           NaN           NaN      None           7                     2             1.0             1.0                            2.0\n",
      "    2            3           2  ('fnlwgt', 'capital-gain')  ('fnlwgt',)          False       0.954645      0.950829      0.003816      True           0                     0             0.5             0.5                            0.0\n",
      "    ... (117 more rows) / ... (還有 117 行)\n",
      "    📝 Columns / 欄位: check_order, combo_size, field_combo, base_combo, base_is_pruned, combo_entropy, base_entropy, entropy_gain, is_pruned, mpuccs_cnt, mpuccs_collision_cnt, field_weighted, total_weighted, weighted_mpuccs_collision_cnt\n",
      "\n",
      "================================================================================\n",
      "✅ Total results / 總結果數: 1\n",
      "================================================================================\n"
     ]
    }
   ],
   "source": [
    "display_yaml_info(yaml_path[0])\n",
    "exec = Executor(yaml_path[0])\n",
    "exec.run()\n",
    "display_results(exec.get_result())"
   ]
  }
 ],
 "metadata": {
  "kernelspec": {
   "display_name": "petsard",
   "language": "python",
   "name": "python3"
  },
  "language_info": {
   "codemirror_mode": {
    "name": "ipython",
    "version": 3
   },
   "file_extension": ".py",
   "mimetype": "text/x-python",
   "name": "python",
   "nbconvert_exporter": "python",
   "pygments_lexer": "ipython3",
   "version": "3.11.12"
  }
 },
 "nbformat": 4,
 "nbformat_minor": 2
}
