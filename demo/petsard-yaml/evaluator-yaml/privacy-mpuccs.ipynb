{
 "cells": [
  {
   "cell_type": "markdown",
   "metadata": {},
   "source": [
    "# Environment setting / 環境設定"
   ]
  },
  {
   "cell_type": "code",
   "execution_count": 1,
   "metadata": {},
   "outputs": [
    {
     "name": "stdout",
     "output_type": "stream",
     "text": [
      "📂 Current working directory: demo/petsard-yaml/evaluator-yaml\n",
      "✅ PETsARD demo_utils loaded. Use quick_setup() to initialize.\n"
     ]
    }
   ],
   "source": [
    "import os  # noqa: I001\n",
    "import sys\n",
    "from pathlib import Path\n",
    "\n",
    "\n",
    "# Handle utils.py for Colab\n",
    "if \"COLAB_GPU\" in os.environ:\n",
    "    import urllib.request\n",
    "\n",
    "    demo_utils_url = (\n",
    "        \"https://raw.githubusercontent.com/nics-tw/petsard/main/demo/demo_utils.py\"\n",
    "    )\n",
    "    exec(urllib.request.urlopen(demo_utils_url).read().decode(\"utf-8\"))\n",
    "else:\n",
    "    # demo_utils.py search for local\n",
    "    for p in [Path.cwd()] + list(Path.cwd().parents)[:10]:\n",
    "        utils_path = p / \"demo_utils.py\"\n",
    "        if utils_path.exists() and \"demo\" in str(utils_path):\n",
    "            sys.path.insert(0, str(p))\n",
    "            exec(open(utils_path).read())\n",
    "            break"
   ]
  },
  {
   "cell_type": "markdown",
   "metadata": {},
   "source": [
    "## Quick setup / 快速設定: Evaluation YAML - mpUCCs Privacy Risk Assessment"
   ]
  },
  {
   "cell_type": "code",
   "execution_count": 2,
   "metadata": {},
   "outputs": [
    {
     "name": "stdout",
     "output_type": "stream",
     "text": [
      "✅ Changed working directory to demo: petsard/demo\n",
      "   📁 Notebook location: demo/petsard-yaml/evaluator-yaml/\n",
      "   🔍 YAML search priority: \n",
      "      1. demo/petsard-yaml/evaluator-yaml/\n",
      "      2. demo/\n",
      "   💾 Output files will be saved in: demo/\n",
      "🚀 PETsARD v1.8.0\n",
      "📅 2025-10-18 19:48:36 UTC+8\n",
      "🔧 Added to Python path: petsard/demo/petsard-yaml/evaluator-yaml\n",
      "📁 Processing configuration files from subfolder: petsard-yaml/evaluator-yaml\n",
      "✅ Found configuration (1/1): petsard/demo/petsard-yaml/evaluator-yaml/privacy-mpuccs.yaml\n"
     ]
    }
   ],
   "source": [
    "from demo_utils import display_results, display_yaml_info, quick_setup  # noqa: I001\n",
    "from petsard import Executor  # noqa: I001\n",
    "\n",
    "\n",
    "is_colab, branch, yaml_path = quick_setup(\n",
    "    config_file=[\n",
    "        \"privacy-mpuccs.yaml\",\n",
    "    ],\n",
    "    benchmark_data=None,\n",
    "    petsard_branch=\"main\",\n",
    ")"
   ]
  },
  {
   "cell_type": "markdown",
   "metadata": {},
   "source": [
    "# Execution and Result / 執行與結果"
   ]
  },
  {
   "cell_type": "markdown",
   "metadata": {},
   "source": [
    "## mpUCCs / 最大部分唯一欄位組合"
   ]
  },
  {
   "cell_type": "code",
   "execution_count": 3,
   "metadata": {},
   "outputs": [
    {
     "name": "stdout",
     "output_type": "stream",
     "text": [
      "============================================================\n",
      "📋 YAML Configuration Files / YAML 設定檔案\n",
      "============================================================\n",
      "\n",
      "📄 File: privacy-mpuccs.yaml\n",
      "📁 Path: petsard/demo/petsard-yaml/evaluator-yaml/privacy-mpuccs.yaml\n",
      "\n",
      "⚙️ Configuration content / 設定內容:\n",
      "----------------------------------------\n",
      "---\n",
      "Splitter:\n",
      "  external_split:\n",
      "    method: custom_data\n",
      "    filepath:\n",
      "      ori: benchmark://adult-income_ori\n",
      "      control: benchmark://adult-income_control\n",
      "    schema:\n",
      "      ori: benchmark://adult-income_schema\n",
      "      control: benchmark://adult-income_schema\n",
      "Synthesizer:\n",
      "  external_data:\n",
      "    method: custom_data\n",
      "    filepath: benchmark://adult-income_syn\n",
      "    schema: benchmark://adult-income_schema\n",
      "Evaluator:\n",
      "  mpuccs_assessment:\n",
      "    method: mpuccs\n",
      "    max_baseline_cols: 2        # Maximum columns to evaluate (default: null = all columns)\n",
      "    min_entropy_delta: 0.01     # Minimum entropy gain threshold (default: 0.0)\n",
      "    field_decay_factor: 0.5     # Field combination weighting decay (default: 0.5)\n",
      "    renyi_alpha: 2.0            # Rényi entropy parameter (default: 2.0)\n",
      "    numeric_precision: null     # Auto-detect or specify decimal places (default: null)\n",
      "    datetime_precision: null    # Auto-detect or specify time precision (default: null)\n",
      "    calculate_baseline: true    # Calculate baseline protection metrics (default: true)\n",
      "...\n",
      "============================================================\n"
     ]
    },
    {
     "name": "stderr",
     "output_type": "stream",
     "text": [
      "Field 15/15 - Processing capital-loss combinations: 100%|██████████| 120/120 [00:31<00:00,  3.76combo/s] \n"
     ]
    },
    {
     "name": "stdout",
     "output_type": "stream",
     "text": [
      "================================================================================\n",
      "📊 Execution Results / 執行結果\n",
      "================================================================================\n",
      "\n",
      "[1] Splitter[external_split_[1-1]]_Synthesizer[external_data]_Evaluator[mpuccs_assessment]\n",
      "------------------------------------------------------------\n",
      "📦 Dictionary with 3 keys / 包含 3 個鍵的字典\n",
      "\n",
      "  • global: DataFrame (1 rows × 7 columns)\n",
      "    📋 Showing first 1 rows / 顯示前 1 行:\n",
      "       privacy_risk_score  overall_protection  main_protection  baseline_protection  identification_rate  total_identified  total_syn_records\n",
      "    0            0.066337            0.933663         0.933663                  1.0             0.066337              2592              39073\n",
      "    📝 Columns / 欄位: privacy_risk_score, overall_protection, main_protection, baseline_protection, identification_rate, total_identified, total_syn_records\n",
      "\n",
      "  • details: DataFrame (2,592 rows × 7 columns)\n",
      "    📋 Showing first 3 rows / 顯示前 3 行:\n",
      "      risk_level  syn_idx  ori_idx  combo_size  field_combo value_combo  baseline_protection\n",
      "    0       high        3    12608           1  ('fnlwgt',)   (208608,)                  0.0\n",
      "    1       high      108    18137           1  ('fnlwgt',)    (49308,)                  0.0\n",
      "    2       high      130    12581           1  ('fnlwgt',)   (152619,)                  0.0\n",
      "    ... (2,589 more rows) / ... (還有 2,589 行)\n",
      "    📝 Columns / 欄位: risk_level, syn_idx, ori_idx, combo_size, field_combo, value_combo, baseline_protection\n",
      "\n",
      "  • tree: DataFrame (120 rows × 12 columns)\n",
      "    📋 Showing first 3 rows / 顯示前 3 行:\n",
      "       check_order        field_combo  combo_size  is_pruned  mpuccs_cnt  mpuccs_collision_cnt  baseline_protection  entropy_gain  overall_protection   entropy  field_weight  weighted_collision\n",
      "    0            1        ('fnlwgt',)           1      False       34469                  1576             0.999959           NaN            0.954317  0.976751           1.0              1576.0\n",
      "    1            2           ('age',)           1      False           0                     0             0.986486           NaN                 NaN       NaN           NaN                 NaN\n",
      "    2            3  ('fnlwgt', 'age')           2      False       38875                    48             0.999999      0.022684            0.998766  0.999435           0.5                24.0\n",
      "    ... (117 more rows) / ... (還有 117 行)\n",
      "    📝 Columns / 欄位: check_order, field_combo, combo_size, is_pruned, mpuccs_cnt, mpuccs_collision_cnt, baseline_protection, entropy_gain, overall_protection, entropy, field_weight, weighted_collision\n",
      "\n",
      "================================================================================\n",
      "✅ Total results / 總結果數: 1\n",
      "================================================================================\n"
     ]
    }
   ],
   "source": [
    "display_yaml_info(yaml_path[0])\n",
    "exec_now = Executor(yaml_path[0])\n",
    "exec_now.run()\n",
    "display_results(exec_now.get_result())"
   ]
  }
 ],
 "metadata": {
  "kernelspec": {
   "display_name": "petsard",
   "language": "python",
   "name": "python3"
  },
  "language_info": {
   "codemirror_mode": {
    "name": "ipython",
    "version": 3
   },
   "file_extension": ".py",
   "mimetype": "text/x-python",
   "name": "python",
   "nbconvert_exporter": "python",
   "pygments_lexer": "ipython3",
   "version": "3.11.12"
  }
 },
 "nbformat": 4,
 "nbformat_minor": 2
}
