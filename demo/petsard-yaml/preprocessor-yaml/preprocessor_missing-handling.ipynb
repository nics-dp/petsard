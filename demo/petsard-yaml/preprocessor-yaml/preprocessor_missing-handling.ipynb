{
 "cells": [
  {
   "cell_type": "markdown",
   "metadata": {},
   "source": [
    "# Environment setting / 環境設定"
   ]
  },
  {
   "cell_type": "code",
   "execution_count": 1,
   "metadata": {},
   "outputs": [
    {
     "name": "stdout",
     "output_type": "stream",
     "text": [
      "📂 Current working directory: demo/petsard-yaml/preprocessor-yaml\n",
      "✅ PETsARD demo_utils loaded. Use quick_setup() to initialize.\n"
     ]
    }
   ],
   "source": [
    "import os  # noqa: I001\n",
    "import sys\n",
    "from pathlib import Path\n",
    "\n",
    "\n",
    "# Handle utils.py for Colab\n",
    "if \"COLAB_GPU\" in os.environ:\n",
    "    import urllib.request\n",
    "\n",
    "    demo_utils_url = (\n",
    "        \"https://raw.githubusercontent.com/nics-tw/petsard/main/demo/demo_utils.py\"\n",
    "    )\n",
    "    exec(urllib.request.urlopen(demo_utils_url).read().decode(\"utf-8\"))\n",
    "else:\n",
    "    # demo_utils.py search for local\n",
    "    for p in [Path.cwd()] + list(Path.cwd().parents)[:10]:\n",
    "        utils_path = p / \"demo_utils.py\"\n",
    "        if utils_path.exists() and \"demo\" in str(utils_path):\n",
    "            sys.path.insert(0, str(p))\n",
    "            exec(open(utils_path).read())\n",
    "            break"
   ]
  },
  {
   "cell_type": "markdown",
   "metadata": {},
   "source": [
    "## Quick setup / 快速設定: Preprocessor YAML - Missing Value Handling"
   ]
  },
  {
   "cell_type": "code",
   "execution_count": 2,
   "metadata": {},
   "outputs": [
    {
     "name": "stdout",
     "output_type": "stream",
     "text": [
      "✅ Changed working directory to demo: petsard/demo\n",
      "   📁 Notebook location: demo/petsard-yaml/preprocessor-yaml/\n",
      "   🔍 YAML search priority: \n",
      "      1. demo/petsard-yaml/preprocessor-yaml/\n",
      "      2. demo/\n",
      "   💾 Output files will be saved in: demo/\n",
      "🚀 PETsARD v1.8.0\n",
      "📅 2025-10-20 02:15:51 UTC+8\n",
      "🔧 Added to Python path: petsard/demo/petsard-yaml/preprocessor-yaml\n",
      "📁 Processing configuration files from subfolder: petsard-yaml/preprocessor-yaml\n",
      "✅ Found configuration (1/1): petsard/demo/petsard-yaml/preprocessor-yaml/preprocessor_missing-handling.yaml\n"
     ]
    }
   ],
   "source": [
    "from demo_utils import display_results, display_yaml_info, quick_setup  # noqa: I001\n",
    "from petsard import Executor  # noqa: I001\n",
    "\n",
    "\n",
    "is_colab, branch, yaml_path = quick_setup(\n",
    "    config_file=[\n",
    "        \"preprocessor_missing-handling.yaml\",\n",
    "    ],\n",
    "    benchmark_data=None,\n",
    "    petsard_branch=\"main\",\n",
    ")"
   ]
  },
  {
   "cell_type": "markdown",
   "metadata": {},
   "source": [
    "# Execution and Result / 執行與結果"
   ]
  },
  {
   "cell_type": "markdown",
   "metadata": {},
   "source": [
    "## Missing Value Handling / 缺失值處理"
   ]
  },
  {
   "cell_type": "code",
   "execution_count": 3,
   "metadata": {},
   "outputs": [
    {
     "name": "stdout",
     "output_type": "stream",
     "text": [
      "============================================================\n",
      "📋 YAML Configuration Files / YAML 設定檔案\n",
      "============================================================\n",
      "\n",
      "📄 File: preprocessor_missing-handling.yaml\n",
      "📁 Path: petsard/demo/petsard-yaml/preprocessor-yaml/preprocessor_missing-handling.yaml\n",
      "\n",
      "⚙️ Configuration content / 設定內容:\n",
      "----------------------------------------\n",
      "---\n",
      "Loader:\n",
      "  load_benchmark_with_schema:\n",
      "    filepath: benchmark://adult-income\n",
      "    schema: benchmark://adult-income_schema\n",
      "\n",
      "Preprocessor:\n",
      "  missing-field-specific:\n",
      "    sequence:\n",
      "      - missing\n",
      "    config:\n",
      "      missing:\n",
      "        workclass: 'missing_drop'     # Drop rows with missing values\n",
      "        education: 'missing_drop'     # Drop rows with missing values\n",
      "        occupation: None              # Skip missing value handling for this field\n",
      "        age: 'missing_mean'           # Fill with mean value\n",
      "\n",
      "        # Notes:\n",
      "        # - Fields set to None: Will not process missing values, keeping original NAs\n",
      "        # - Unlisted fields: Will use default methods\n",
      "        #   * Numerical fields (e.g., fnlwgt, capital-gain): Use missing_mean\n",
      "        #   * Categorical fields: Use missing_drop\n",
      "\n",
      "Reporter:\n",
      "  save_data:\n",
      "    method: save_data\n",
      "    source:\n",
      "      - Preprocessor\n",
      "  save_schema:\n",
      "    method: save_schema\n",
      "    source:\n",
      "      - Loader\n",
      "      - Preprocessor\n",
      "...\n",
      "============================================================\n",
      "================================================================================\n",
      "📊 Execution Results / 執行結果\n",
      "================================================================================\n",
      "\n",
      "[1] Loader[load_benchmark_with_schema]_Preprocessor[missing-field-specific]_Reporter[save_data]\n",
      "------------------------------------------------------------\n",
      "📋 Reporter output / Reporter 輸出\n",
      "  • Loader[load_benchmark_with_schema]_Preprocessor[missing-field-specific]: DataFrame\n",
      "\n",
      "[2] Loader[load_benchmark_with_schema]_Preprocessor[missing-field-specific]_Reporter[save_schema]\n",
      "------------------------------------------------------------\n",
      "📋 Reporter output / Reporter 輸出\n",
      "  • Loader[load_benchmark_with_schema]: dict\n",
      "  • Loader[load_benchmark_with_schema]_Preprocessor[missing-field-specific]: dict\n",
      "\n",
      "================================================================================\n",
      "✅ Total results / 總結果數: 2\n",
      "================================================================================\n"
     ]
    }
   ],
   "source": [
    "display_yaml_info(yaml_path[0])\n",
    "exec_now = Executor(yaml_path[0])\n",
    "exec_now.run()\n",
    "display_results(exec_now.get_result())"
   ]
  }
 ],
 "metadata": {
  "kernelspec": {
   "display_name": "petsard",
   "language": "python",
   "name": "python3"
  },
  "language_info": {
   "codemirror_mode": {
    "name": "ipython",
    "version": 3
   },
   "file_extension": ".py",
   "mimetype": "text/x-python",
   "name": "python",
   "nbconvert_exporter": "python",
   "pygments_lexer": "ipython3",
   "version": "3.11.12"
  }
 },
 "nbformat": 4,
 "nbformat_minor": 2
}
