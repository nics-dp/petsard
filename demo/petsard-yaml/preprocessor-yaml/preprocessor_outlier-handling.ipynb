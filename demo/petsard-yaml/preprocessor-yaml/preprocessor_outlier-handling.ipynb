{
 "cells": [
  {
   "cell_type": "markdown",
   "metadata": {},
   "source": [
    "# Environment setting / 環境設定"
   ]
  },
  {
   "cell_type": "code",
   "execution_count": 5,
   "metadata": {},
   "outputs": [
    {
     "name": "stdout",
     "output_type": "stream",
     "text": [
      "📂 Current working directory: demo\n",
      "✅ PETsARD demo_utils loaded. Use quick_setup() to initialize.\n"
     ]
    }
   ],
   "source": [
    "import os  # noqa: I001\n",
    "import sys\n",
    "from pathlib import Path\n",
    "\n",
    "\n",
    "# Handle utils.py for Colab\n",
    "if \"COLAB_GPU\" in os.environ:\n",
    "    import urllib.request\n",
    "\n",
    "    demo_utils_url = (\n",
    "        \"https://raw.githubusercontent.com/nics-tw/petsard/main/demo/demo_utils.py\"\n",
    "    )\n",
    "    exec(urllib.request.urlopen(demo_utils_url).read().decode(\"utf-8\"))\n",
    "else:\n",
    "    # demo_utils.py search for local\n",
    "    for p in [Path.cwd()] + list(Path.cwd().parents)[:10]:\n",
    "        utils_path = p / \"demo_utils.py\"\n",
    "        if utils_path.exists() and \"demo\" in str(utils_path):\n",
    "            sys.path.insert(0, str(p))\n",
    "            exec(open(utils_path).read())\n",
    "            break"
   ]
  },
  {
   "cell_type": "markdown",
   "metadata": {},
   "source": [
    "## Quick setup / 快速設定: Preprocessor YAML - Outlier Handling"
   ]
  },
  {
   "cell_type": "code",
   "execution_count": 6,
   "metadata": {},
   "outputs": [
    {
     "name": "stdout",
     "output_type": "stream",
     "text": [
      "✅ Changed working directory to demo: petsard/demo\n",
      "   📁 Notebook location: demo/petsard-yaml/preprocessor-yaml/\n",
      "   🔍 YAML search priority: \n",
      "      1. demo/petsard-yaml/preprocessor-yaml/\n",
      "      2. demo/\n",
      "   💾 Output files will be saved in: demo/\n",
      "🚀 PETsARD v1.8.0\n",
      "📅 2025-10-20 02:16:37 UTC+8\n",
      "📁 Processing configuration files from subfolder: petsard-yaml/preprocessor-yaml\n",
      "✅ Found configuration (1/2): petsard/demo/petsard-yaml/preprocessor-yaml/preprocessor_outlier-field-specific.yaml\n",
      "✅ Found configuration (2/2): petsard/demo/petsard-yaml/preprocessor-yaml/preprocessor_outlier-global.yaml\n"
     ]
    }
   ],
   "source": [
    "from demo_utils import display_results, display_yaml_info, quick_setup  # noqa: I001\n",
    "from petsard import Executor  # noqa: I001\n",
    "\n",
    "\n",
    "is_colab, branch, yaml_path = quick_setup(\n",
    "    config_file=[\n",
    "        \"preprocessor_outlier-field-specific.yaml\",\n",
    "        \"preprocessor_outlier-global.yaml\",\n",
    "    ],\n",
    "    benchmark_data=None,\n",
    "    petsard_branch=\"main\",\n",
    ")"
   ]
  },
  {
   "cell_type": "markdown",
   "metadata": {},
   "source": [
    "# Execution and Result / 執行與結果"
   ]
  },
  {
   "cell_type": "markdown",
   "metadata": {},
   "source": [
    "## Field-Specific Outlier Methods / 欄位特定離群值方法"
   ]
  },
  {
   "cell_type": "code",
   "execution_count": 7,
   "metadata": {},
   "outputs": [
    {
     "name": "stdout",
     "output_type": "stream",
     "text": [
      "============================================================\n",
      "📋 YAML Configuration Files / YAML 設定檔案\n",
      "============================================================\n",
      "\n",
      "📄 File: preprocessor_outlier-field-specific.yaml\n",
      "📁 Path: petsard/demo/petsard-yaml/preprocessor-yaml/preprocessor_outlier-field-specific.yaml\n",
      "\n",
      "⚙️ Configuration content / 設定內容:\n",
      "----------------------------------------\n",
      "---\n",
      "Loader:\n",
      "  load_benchmark_with_schema:\n",
      "    filepath: benchmark://adult-income\n",
      "    schema: benchmark://adult-income_schema\n",
      "\n",
      "Preprocessor:\n",
      "  outlier-field-specific:\n",
      "    sequence:\n",
      "      - outlier\n",
      "    config:\n",
      "      outlier:\n",
      "        age: 'outlier_zscore'       # Uses Z-Score method for age field\n",
      "        fnlwgt: 'outlier_iqr'       # Uses IQR method for fnlwgt field\n",
      "        education-num: None         # Skip outlier handling for this field\n",
      "\n",
      "        # Note:\n",
      "        # - Fields set to None: No outlier handling will be applied\n",
      "        # - Fields not listed (e.g., capital-gain, capital-loss, hours-per-week):\n",
      "        #   Will use the default method (outlier_iqr)\n",
      "\n",
      "Reporter:\n",
      "  save_data:\n",
      "    method: save_data\n",
      "    source:\n",
      "      - Preprocessor\n",
      "  save_schema:\n",
      "    method: save_schema\n",
      "    source:\n",
      "      - Loader\n",
      "      - Preprocessor\n",
      "...\n",
      "============================================================\n",
      "================================================================================\n",
      "📊 Execution Results / 執行結果\n",
      "================================================================================\n",
      "\n",
      "[1] Loader[load_benchmark_with_schema]_Preprocessor[outlier-field-specific]_Reporter[save_data]\n",
      "------------------------------------------------------------\n",
      "📋 Reporter output / Reporter 輸出\n",
      "  • Loader[load_benchmark_with_schema]_Preprocessor[outlier-field-specific]: DataFrame\n",
      "\n",
      "[2] Loader[load_benchmark_with_schema]_Preprocessor[outlier-field-specific]_Reporter[save_schema]\n",
      "------------------------------------------------------------\n",
      "📋 Reporter output / Reporter 輸出\n",
      "  • Loader[load_benchmark_with_schema]: dict\n",
      "  • Loader[load_benchmark_with_schema]_Preprocessor[outlier-field-specific]: dict\n",
      "\n",
      "================================================================================\n",
      "✅ Total results / 總結果數: 2\n",
      "================================================================================\n"
     ]
    }
   ],
   "source": [
    "display_yaml_info(yaml_path[0])\n",
    "exec_now = Executor(yaml_path[0])\n",
    "exec_now.run()\n",
    "display_results(exec_now.get_result())"
   ]
  },
  {
   "cell_type": "markdown",
   "metadata": {},
   "source": [
    "## Global Outlier Method / 全域離群值方法"
   ]
  },
  {
   "cell_type": "code",
   "execution_count": 8,
   "metadata": {},
   "outputs": [
    {
     "name": "stdout",
     "output_type": "stream",
     "text": [
      "============================================================\n",
      "📋 YAML Configuration Files / YAML 設定檔案\n",
      "============================================================\n",
      "\n",
      "📄 File: preprocessor_outlier-global.yaml\n",
      "📁 Path: petsard/demo/petsard-yaml/preprocessor-yaml/preprocessor_outlier-global.yaml\n",
      "\n",
      "⚙️ Configuration content / 設定內容:\n",
      "----------------------------------------\n",
      "---\n",
      "Loader:\n",
      "  load_benchmark_with_schema:\n",
      "    filepath: 'benchmark://adult-income'\n",
      "    schema: 'benchmark://adult-income_schema'\n",
      "\n",
      "Preprocessor:\n",
      "  outlier-global-simple:\n",
      "    sequence:\n",
      "      - outlier\n",
      "    config:\n",
      "      # Simplified syntax: apply one global method to ALL numerical fields\n",
      "      outlier: 'outlier_isolationforest'\n",
      "\n",
      "      # Available global methods:\n",
      "      # - 'outlier_isolationforest': Isolation Forest algorithm\n",
      "      # - 'outlier_lof': Local Outlier Factor algorithm\n",
      "\n",
      "      # This is equivalent to:\n",
      "      # outlier:\n",
      "      #   age: 'outlier_isolationforest'\n",
      "      #   fnlwgt: 'outlier_isolationforest'\n",
      "      #   education-num: 'outlier_isolationforest'\n",
      "      #   capital-gain: 'outlier_isolationforest'\n",
      "      #   capital-loss: 'outlier_isolationforest'\n",
      "      #   hours-per-week: 'outlier_isolationforest'\n",
      "\n",
      "Reporter:\n",
      "  save_data:\n",
      "    method: save_data\n",
      "    source:\n",
      "      - Preprocessor\n",
      "  save_schema:\n",
      "    method: save_schema\n",
      "    source:\n",
      "      - Loader\n",
      "      - Preprocessor\n",
      "...\n",
      "============================================================\n",
      "================================================================================\n",
      "📊 Execution Results / 執行結果\n",
      "================================================================================\n",
      "\n",
      "[1] Loader[load_benchmark_with_schema]_Preprocessor[outlier-global-simple]_Reporter[save_data]\n",
      "------------------------------------------------------------\n",
      "📋 Reporter output / Reporter 輸出\n",
      "  • Loader[load_benchmark_with_schema]_Preprocessor[outlier-global-simple]: DataFrame\n",
      "\n",
      "[2] Loader[load_benchmark_with_schema]_Preprocessor[outlier-global-simple]_Reporter[save_schema]\n",
      "------------------------------------------------------------\n",
      "📋 Reporter output / Reporter 輸出\n",
      "  • Loader[load_benchmark_with_schema]: dict\n",
      "  • Loader[load_benchmark_with_schema]_Preprocessor[outlier-global-simple]: dict\n",
      "\n",
      "================================================================================\n",
      "✅ Total results / 總結果數: 2\n",
      "================================================================================\n"
     ]
    }
   ],
   "source": [
    "display_yaml_info(yaml_path[1])\n",
    "exec_now = Executor(yaml_path[1])\n",
    "exec_now.run()\n",
    "display_results(exec_now.get_result())"
   ]
  }
 ],
 "metadata": {
  "kernelspec": {
   "display_name": "petsard",
   "language": "python",
   "name": "python3"
  },
  "language_info": {
   "codemirror_mode": {
    "name": "ipython",
    "version": 3
   },
   "file_extension": ".py",
   "mimetype": "text/x-python",
   "name": "python",
   "nbconvert_exporter": "python",
   "pygments_lexer": "ipython3",
   "version": "3.11.12"
  }
 },
 "nbformat": 4,
 "nbformat_minor": 2
}
