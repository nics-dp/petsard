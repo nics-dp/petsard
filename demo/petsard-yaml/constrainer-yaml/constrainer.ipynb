{
 "cells": [
  {
   "cell_type": "markdown",
   "metadata": {},
   "source": [
    "# Environment setting / 環境設定"
   ]
  },
  {
   "cell_type": "code",
   "execution_count": 1,
   "metadata": {},
   "outputs": [
    {
     "name": "stdout",
     "output_type": "stream",
     "text": [
      "📂 Current working directory: demo/petsard-yaml/constrainer-yaml\n",
      "✅ PETsARD demo_utils loaded. Use quick_setup() to initialize.\n"
     ]
    }
   ],
   "source": [
    "import os  # noqa: I001\n",
    "import sys\n",
    "from pathlib import Path\n",
    "\n",
    "\n",
    "# Handle utils.py for Colab\n",
    "if \"COLAB_GPU\" in os.environ:\n",
    "    import urllib.request\n",
    "\n",
    "    demo_utils_url = (\n",
    "        \"https://raw.githubusercontent.com/nics-tw/petsard/main/demo/demo_utils.py\"\n",
    "    )\n",
    "    exec(urllib.request.urlopen(demo_utils_url).read().decode(\"utf-8\"))\n",
    "else:\n",
    "    # demo_utils.py search for local\n",
    "    for p in [Path.cwd()] + list(Path.cwd().parents)[:10]:\n",
    "        utils_path = p / \"demo_utils.py\"\n",
    "        if utils_path.exists() and \"demo\" in str(utils_path):\n",
    "            sys.path.insert(0, str(p))\n",
    "            exec(open(utils_path).read())\n",
    "            break"
   ]
  },
  {
   "cell_type": "markdown",
   "metadata": {},
   "source": [
    "## Quick setup / 快速設定: Constrainer YAML"
   ]
  },
  {
   "cell_type": "code",
   "execution_count": 2,
   "metadata": {},
   "outputs": [
    {
     "name": "stdout",
     "output_type": "stream",
     "text": [
      "✅ Changed working directory to demo: petsard/demo\n",
      "   📁 Notebook location: demo/petsard-yaml/constrainer-yaml/\n",
      "   🔍 YAML search priority: \n",
      "      1. demo/petsard-yaml/constrainer-yaml/\n",
      "      2. demo/\n",
      "   💾 Output files will be saved in: demo/\n",
      "🚀 PETsARD v1.7.0\n",
      "📅 2025-10-16 19:40:20 UTC+8\n",
      "🔧 Added to Python path: petsard/demo/petsard-yaml/constrainer-yaml\n",
      "📁 Processing configuration files from subfolder: petsard-yaml/constrainer-yaml\n",
      "✅ Found configuration (1/4): petsard/demo/petsard-yaml/constrainer-yaml/resample-mode_inline_constraints_configuration.yaml\n",
      "✅ Found configuration (2/4): petsard/demo/petsard-yaml/constrainer-yaml/resample-mode_external-constraints-file.yaml\n",
      "✅ Found configuration (3/4): petsard/demo/petsard-yaml/constrainer-yaml/validate-mode_single-data-source.yaml\n",
      "✅ Found configuration (4/4): petsard/demo/petsard-yaml/constrainer-yaml/validate-mode_multiple-data-sources.yaml\n"
     ]
    }
   ],
   "source": [
    "from demo_utils import display_results, display_yaml_info, quick_setup  # noqa: I001\n",
    "from petsard import Executor  # noqa: I001\n",
    "\n",
    "\n",
    "is_colab, branch, yaml_path = quick_setup(\n",
    "    config_file=[\n",
    "        \"resample-mode_inline_constraints_configuration.yaml\",\n",
    "        \"resample-mode_external-constraints-file.yaml\",\n",
    "        \"validate-mode_single-data-source.yaml\",\n",
    "        \"validate-mode_multiple-data-sources.yaml\",\n",
    "    ],\n",
    "    benchmark_data=None,\n",
    "    petsard_branch=\"main\",\n",
    ")"
   ]
  },
  {
   "cell_type": "markdown",
   "metadata": {},
   "source": [
    "# Execution and Result / 執行與結果"
   ]
  },
  {
   "cell_type": "markdown",
   "metadata": {},
   "source": [
    "## Resample Mode: Inline Constraints Configuration / 反覆抽樣模式：內嵌約束配置"
   ]
  },
  {
   "cell_type": "code",
   "execution_count": 3,
   "metadata": {},
   "outputs": [
    {
     "name": "stdout",
     "output_type": "stream",
     "text": [
      "============================================================\n",
      "📋 YAML Configuration Files / YAML 設定檔案\n",
      "============================================================\n",
      "\n",
      "📄 File: resample-mode_inline_constraints_configuration.yaml\n",
      "📁 Path: petsard/demo/petsard-yaml/constrainer-yaml/resample-mode_inline_constraints_configuration.yaml\n",
      "\n",
      "⚙️ Configuration content / 設定內容:\n",
      "----------------------------------------\n",
      "---\n",
      "Loader:\n",
      "  load_benchmark_with_schema:\n",
      "    filepath: benchmark://adult-income\n",
      "    schema: benchmark://adult-income_schema\n",
      "Synthesizer:\n",
      "  default:\n",
      "    method: default\n",
      "Constrainer:\n",
      "  inline_field_constraints:\n",
      "    # Operating mode setting\n",
      "    method: auto  # Operating mode, default 'auto' (auto-detect: has Synthesizer and not custom_data → resample)\n",
      "    # Constraint conditions (use exclusively with constraints_yaml)\n",
      "    field_constraints:      # Field constraint conditions, default none\n",
      "                            # Age between 18 and 65\n",
      "      - \"age >= 18 & age <= 65\"\n",
      "    # Sampling parameters (resample mode only)\n",
      "    target_rows: None        # Target number of output rows, defaults None to input data row count\n",
      "    sampling_ratio: 10.0     # Sampling multiplier per attempt, default 10.0\n",
      "    max_trials: 300          # Maximum number of attempts, default 300\n",
      "    verbose_step: 10         # Progress output interval, default 10\n",
      "...\n",
      "============================================================\n",
      "================================================================================\n",
      "📊 Execution Results / 執行結果\n",
      "================================================================================\n",
      "\n",
      "[1] Loader[load_benchmark_with_schema]_Synthesizer[default]_Constrainer[inline_field_constraints]\n",
      "------------------------------------------------------------\n",
      "📈 DataFrame: 48,842 rows × 15 columns\n",
      "📋 Showing first 3 rows / 顯示前 3 行:\n",
      "\n",
      "   age workclass  fnlwgt  education  educational-num      marital-status         occupation   relationship   race  gender  capital-gain  capital-loss  hours-per-week native-country income\n",
      "0   33   Private   59433    HS-grad               10       Never-married       Adm-clerical        Husband  White  Female         84116             0              32  United-States  <=50K\n",
      "1   44   Private  130731  Bachelors                8  Married-civ-spouse       Adm-clerical      Own-child  White    Male         40715             0              47  United-States   >50K\n",
      "2   27   Private  289784       10th               13  Married-civ-spouse  Machine-op-inspct  Not-in-family  White  Female            11             0               7           Cuba   >50K\n",
      "\n",
      "... (48,839 more rows) / ... (還有 48,839 行)\n",
      "\n",
      "📝 Columns / 欄位: age, workclass, fnlwgt, education, educational-num, marital-status, occupation, relationship, race, gender, capital-gain, capital-loss, hours-per-week, native-country, income\n",
      "\n",
      "================================================================================\n",
      "✅ Total results / 總結果數: 1\n",
      "================================================================================\n"
     ]
    }
   ],
   "source": [
    "display_yaml_info(yaml_path[0])\n",
    "exec = Executor(yaml_path[0])\n",
    "exec.run()\n",
    "display_results(exec.get_result())"
   ]
  },
  {
   "cell_type": "markdown",
   "metadata": {},
   "source": [
    "## Resample Mode: External Constraints File / 反覆抽樣模式：外部約束檔案"
   ]
  },
  {
   "cell_type": "code",
   "execution_count": 4,
   "metadata": {},
   "outputs": [
    {
     "name": "stdout",
     "output_type": "stream",
     "text": [
      "============================================================\n",
      "📋 YAML Configuration Files / YAML 設定檔案\n",
      "============================================================\n",
      "\n",
      "📄 File: resample-mode_external-constraints-file.yaml\n",
      "📁 Path: petsard/demo/petsard-yaml/constrainer-yaml/resample-mode_external-constraints-file.yaml\n",
      "\n",
      "⚙️ Configuration content / 設定內容:\n",
      "----------------------------------------\n",
      "---\n",
      "Loader:\n",
      "  load_benchmark_with_schema:\n",
      "    filepath: benchmark://adult-income\n",
      "    schema: benchmark://adult-income_schema\n",
      "Synthesizer:\n",
      "  default:\n",
      "    method: default\n",
      "Constrainer:\n",
      "  external_constraints:\n",
      "    # Operating mode setting\n",
      "    method: auto  # Operating mode, default 'auto' (auto-detect: has Synthesizer and not custom_data → resample)\n",
      "    # Constraint conditions (use exclusively with setting)\n",
      "    constraints_yaml: adult-income_constraints.yaml\n",
      "    # Sampling parameters (resample mode only)\n",
      "    target_rows: None        # Target number of output rows, defaults None to input data row count\n",
      "    sampling_ratio: 10.0     # Sampling multiplier per attempt, default 10.0\n",
      "    max_trials: 300          # Maximum number of attempts, default 300\n",
      "    verbose_step: 10         # Progress output interval, default 10\n",
      "...\n",
      "============================================================\n",
      "================================================================================\n",
      "📊 Execution Results / 執行結果\n",
      "================================================================================\n",
      "\n",
      "[1] Loader[load_benchmark_with_schema]_Synthesizer[default]_Constrainer[external_constraints]\n",
      "------------------------------------------------------------\n",
      "📈 DataFrame: 48,842 rows × 15 columns\n",
      "📋 Showing first 3 rows / 顯示前 3 行:\n",
      "\n",
      "   age  workclass  fnlwgt     education  educational-num      marital-status       occupation   relationship   race  gender  capital-gain  capital-loss  hours-per-week native-country income\n",
      "0   24  Local-gov  153214          11th                7  Married-civ-spouse            Sales  Not-in-family  White  Female         72815             0              50  United-States  <=50K\n",
      "1   30    Private  345203       HS-grad               11  Married-civ-spouse  Exec-managerial        Husband  White    Male             1          4356              40  United-States  <=50K\n",
      "2   41    Private   30965  Some-college                9       Never-married     Adm-clerical      Unmarried  White    Male         97666             0              26  United-States  <=50K\n",
      "\n",
      "... (48,839 more rows) / ... (還有 48,839 行)\n",
      "\n",
      "📝 Columns / 欄位: age, workclass, fnlwgt, education, educational-num, marital-status, occupation, relationship, race, gender, capital-gain, capital-loss, hours-per-week, native-country, income\n",
      "\n",
      "================================================================================\n",
      "✅ Total results / 總結果數: 1\n",
      "================================================================================\n"
     ]
    }
   ],
   "source": [
    "display_yaml_info(yaml_path[1])\n",
    "exec = Executor(yaml_path[1])\n",
    "exec.run()\n",
    "display_results(exec.get_result())"
   ]
  },
  {
   "cell_type": "markdown",
   "metadata": {},
   "source": [
    "## Validate Mode: Single Data Source / 驗證檢查模式：單一資料來源"
   ]
  },
  {
   "cell_type": "code",
   "execution_count": 5,
   "metadata": {},
   "outputs": [
    {
     "name": "stdout",
     "output_type": "stream",
     "text": [
      "============================================================\n",
      "📋 YAML Configuration Files / YAML 設定檔案\n",
      "============================================================\n",
      "\n",
      "📄 File: validate-mode_single-data-source.yaml\n",
      "📁 Path: petsard/demo/petsard-yaml/constrainer-yaml/validate-mode_single-data-source.yaml\n",
      "\n",
      "⚙️ Configuration content / 設定內容:\n",
      "----------------------------------------\n",
      "---\n",
      "Splitter:\n",
      "  external_split:\n",
      "    method: custom_data\n",
      "    filepath:\n",
      "      ori: benchmark://adult-income_ori\n",
      "      control: benchmark://adult-income_control\n",
      "    schema:\n",
      "      ori: benchmark://adult-income_schema\n",
      "      control: benchmark://adult-income_schema\n",
      "Synthesizer:\n",
      "  external_data:\n",
      "    method: custom_data\n",
      "    filepath: benchmark://adult-income_syn\n",
      "    schema: benchmark://adult-income_schema\n",
      "Constrainer:\n",
      "  validate_single_data_source:\n",
      "    method: auto          # Automatically selects validate mode\n",
      "    source: Splitter.ori  # Specify single data source (optional if only one source exists)\n",
      "    constraints_yaml: adult-income_constraints.yaml\n",
      "Reporter:\n",
      "  validation:\n",
      "    method: save_validation\n",
      "...\n",
      "============================================================\n",
      "================================================================================\n",
      "📊 Execution Results / 執行結果\n",
      "================================================================================\n",
      "\n",
      "[1] Splitter[external_split_[1-1]]_Synthesizer[external_data]_Constrainer[validate_single_data_source]_Reporter[validation]\n",
      "------------------------------------------------------------\n",
      "📋 Reporter output / Reporter 輸出\n",
      "✅ Validation report saved to CSV file / 驗證報告已保存為 CSV 檔案\n",
      "📁 Check the demo directory for petsard[Validation]_*.csv files\n",
      "   查看 demo 目錄中的 petsard[Validation]_*.csv 檔案\n",
      "\n",
      "================================================================================\n",
      "✅ Total results / 總結果數: 1\n",
      "================================================================================\n"
     ]
    }
   ],
   "source": [
    "display_yaml_info(yaml_path[2])\n",
    "exec = Executor(yaml_path[2])\n",
    "exec.run()\n",
    "display_results(exec.get_result())"
   ]
  },
  {
   "cell_type": "markdown",
   "metadata": {},
   "source": [
    "## Validate Mode: Multiple Data Sources / 驗證檢查模式：多個資料來源"
   ]
  },
  {
   "cell_type": "code",
   "execution_count": 6,
   "metadata": {},
   "outputs": [
    {
     "name": "stdout",
     "output_type": "stream",
     "text": [
      "============================================================\n",
      "📋 YAML Configuration Files / YAML 設定檔案\n",
      "============================================================\n",
      "\n",
      "📄 File: validate-mode_multiple-data-sources.yaml\n",
      "📁 Path: petsard/demo/petsard-yaml/constrainer-yaml/validate-mode_multiple-data-sources.yaml\n",
      "\n",
      "⚙️ Configuration content / 設定內容:\n",
      "----------------------------------------\n",
      "---\n",
      "Loader:\n",
      "  load_benchmark_with_schema:\n",
      "    filepath: benchmark://adult-income\n",
      "    schema: benchmark://adult-income_schema\n",
      "Splitter:\n",
      "  external_split:\n",
      "    method: custom_data\n",
      "    filepath:\n",
      "      ori: benchmark://adult-income_ori\n",
      "      control: benchmark://adult-income_control\n",
      "    schema:\n",
      "      ori: benchmark://adult-income_schema\n",
      "      control: benchmark://adult-income_schema\n",
      "Synthesizer:\n",
      "  external_data:\n",
      "    method: custom_data\n",
      "    filepath: benchmark://adult-income_syn\n",
      "    schema: benchmark://adult-income_schema\n",
      "Constrainer:\n",
      "  validate_multiple_data_sources:\n",
      "    method: auto  # Automatically selects validate mode\n",
      "    source:       # Use list format for multiple sources\n",
      "      - Loader\n",
      "      - Splitter.ori\n",
      "      - Splitter.control\n",
      "      - Synthesizer\n",
      "    constraints_yaml: adult-income_constraints.yaml\n",
      "Reporter:\n",
      "  validation:\n",
      "    method: save_validation\n",
      "...\n",
      "============================================================\n",
      "================================================================================\n",
      "📊 Execution Results / 執行結果\n",
      "================================================================================\n",
      "\n",
      "[1] Loader[load_benchmark_with_schema]_Splitter[external_split_[1-1]]_Synthesizer[external_data]_Constrainer[validate_multiple_data_sources]_Reporter[validation]\n",
      "------------------------------------------------------------\n",
      "📋 Reporter output / Reporter 輸出\n",
      "✅ Validation report saved to CSV file / 驗證報告已保存為 CSV 檔案\n",
      "📁 Check the demo directory for petsard[Validation]_*.csv files\n",
      "   查看 demo 目錄中的 petsard[Validation]_*.csv 檔案\n",
      "\n",
      "================================================================================\n",
      "✅ Total results / 總結果數: 1\n",
      "================================================================================\n"
     ]
    }
   ],
   "source": [
    "display_yaml_info(yaml_path[3])\n",
    "exec = Executor(yaml_path[3])\n",
    "exec.run()\n",
    "display_results(exec.get_result())"
   ]
  }
 ],
 "metadata": {
  "kernelspec": {
   "display_name": "petsard",
   "language": "python",
   "name": "python3"
  },
  "language_info": {
   "codemirror_mode": {
    "name": "ipython",
    "version": 3
   },
   "file_extension": ".py",
   "mimetype": "text/x-python",
   "name": "python",
   "nbconvert_exporter": "python",
   "pygments_lexer": "ipython3",
   "version": "3.11.12"
  }
 },
 "nbformat": 4,
 "nbformat_minor": 2
}
