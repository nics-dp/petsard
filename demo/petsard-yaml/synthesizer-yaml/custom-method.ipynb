{
 "cells": [
  {
   "cell_type": "markdown",
   "metadata": {},
   "source": [
    "# Environment setting / 環境設定"
   ]
  },
  {
   "cell_type": "code",
   "execution_count": 1,
   "metadata": {},
   "outputs": [
    {
     "name": "stdout",
     "output_type": "stream",
     "text": [
      "📂 Current working directory: demo/petsard-yaml/synthesizer-yaml\n",
      "✅ PETsARD demo_utils loaded. Use quick_setup() to initialize.\n"
     ]
    }
   ],
   "source": [
    "import os  # noqa: I001\n",
    "import sys\n",
    "from pathlib import Path\n",
    "\n",
    "\n",
    "# Handle utils.py for Colab\n",
    "if \"COLAB_GPU\" in os.environ:\n",
    "    import urllib.request\n",
    "\n",
    "    demo_utils_url = (\n",
    "        \"https://raw.githubusercontent.com/nics-tw/petsard/main/demo/demo_utils.py\"\n",
    "    )\n",
    "    exec(urllib.request.urlopen(demo_utils_url).read().decode(\"utf-8\"))\n",
    "else:\n",
    "    # demo_utils.py search for local\n",
    "    for p in [Path.cwd()] + list(Path.cwd().parents)[:10]:\n",
    "        utils_path = p / \"demo_utils.py\"\n",
    "        if utils_path.exists() and \"demo\" in str(utils_path):\n",
    "            sys.path.insert(0, str(p))\n",
    "            exec(open(utils_path).read())\n",
    "            break"
   ]
  },
  {
   "cell_type": "markdown",
   "metadata": {},
   "source": [
    "## Quick setup / 快速設定: Synthesizer YAML - custom-method"
   ]
  },
  {
   "cell_type": "code",
   "execution_count": 2,
   "metadata": {},
   "outputs": [
    {
     "name": "stdout",
     "output_type": "stream",
     "text": [
      "✅ Changed working directory to demo: petsard/demo\n",
      "   📁 Notebook location: demo/petsard-yaml/synthesizer-yaml/\n",
      "   🔍 YAML search priority: \n",
      "      1. demo/petsard-yaml/synthesizer-yaml/\n",
      "      2. demo/\n",
      "   💾 Output files will be saved in: demo/\n",
      "🚀 PETsARD v1.7.0\n",
      "📅 2025-10-09 14:08:03 UTC+8\n",
      "🔧 Added to Python path: petsard/demo/petsard-yaml/synthesizer-yaml\n",
      "📁 Processing configuration files from subfolder: petsard-yaml/synthesizer-yaml\n",
      "✅ Found configuration (1/2): petsard/demo/petsard-yaml/synthesizer-yaml/custom-synthesis.yaml\n",
      "✅ Found configuration (2/2): petsard/demo/petsard-yaml/synthesizer-yaml/custom-synthesis.py\n"
     ]
    }
   ],
   "source": [
    "from demo_utils import display_results, display_yaml_info, quick_setup  # noqa: I001\n",
    "from petsard import Executor  # noqa: I001\n",
    "\n",
    "\n",
    "is_colab, branch, yaml_path = quick_setup(\n",
    "    config_file=[\n",
    "        \"custom-synthesis.yaml\",\n",
    "        \"custom-synthesis.py\",\n",
    "    ],\n",
    "    benchmark_data=None,\n",
    "    petsard_branch=\"main\",\n",
    ")"
   ]
  },
  {
   "cell_type": "markdown",
   "metadata": {},
   "source": [
    "# Execution and Result / 執行與結果"
   ]
  },
  {
   "cell_type": "markdown",
   "metadata": {},
   "source": [
    "## Custom Synthesis / 自訂合成方法"
   ]
  },
  {
   "cell_type": "code",
   "execution_count": 3,
   "metadata": {},
   "outputs": [
    {
     "name": "stdout",
     "output_type": "stream",
     "text": [
      "============================================================\n",
      "📋 YAML Configuration Files / YAML 設定檔案\n",
      "============================================================\n",
      "\n",
      "📄 File: custom-synthesis.yaml\n",
      "📁 Path: petsard/demo/petsard-yaml/synthesizer-yaml/custom-synthesis.yaml\n",
      "\n",
      "⚙️ Configuration content / 設定內容:\n",
      "----------------------------------------\n",
      "---\n",
      "Loader:\n",
      "  load_benchmark_with_schema:\n",
      "    filepath: benchmark://adult-income\n",
      "    schema: benchmark://adult-income_schema\n",
      "Synthesizer:\n",
      "  your-custom-method:\n",
      "    method: custom_method\n",
      "    module_path: custom-synthesis.py  # Python file name\n",
      "    class_name: MySynthesizer_Shuffle # Class name in the file\n",
      "...\n",
      "============================================================\n",
      "================================================================================\n",
      "📊 Execution Results / 執行結果\n",
      "================================================================================\n",
      "\n",
      "[1] Loader[load_benchmark_with_schema]_Synthesizer[your-custom-method]\n",
      "------------------------------------------------------------\n",
      "📈 DataFrame: 48,842 rows × 15 columns\n",
      "📋 Showing first 3 rows / 顯示前 3 行:\n",
      "\n",
      "   age  workclass  fnlwgt     education  educational-num      marital-status       occupation relationship   race gender  capital-gain  capital-loss  hours-per-week native-country income\n",
      "0   23    Private  213152       Masters               14           Separated  Farming-fishing      Husband  White   Male             0             0              55  United-States  <=50K\n",
      "1   88    Private  164386       Masters               14  Married-civ-spouse     Craft-repair      Husband  White   Male             0             0              20  United-States  <=50K\n",
      "2   21  Local-gov  132847  Some-college               13  Married-civ-spouse     Tech-support    Unmarried  White   Male             0             0              33  United-States   >50K\n",
      "\n",
      "... (48,839 more rows) / ... (還有 48,839 行)\n",
      "\n",
      "📝 Columns / 欄位: age, workclass, fnlwgt, education, educational-num, marital-status, occupation, relationship, race, gender, capital-gain, capital-loss, hours-per-week, native-country, income\n",
      "\n",
      "================================================================================\n",
      "✅ Total results / 總結果數: 1\n",
      "================================================================================\n"
     ]
    }
   ],
   "source": [
    "display_yaml_info(yaml_path[0])\n",
    "exec = Executor(yaml_path[0])\n",
    "exec.run()\n",
    "display_results(exec.get_result())"
   ]
  }
 ],
 "metadata": {
  "kernelspec": {
   "display_name": "petsard",
   "language": "python",
   "name": "python3"
  },
  "language_info": {
   "codemirror_mode": {
    "name": "ipython",
    "version": 3
   },
   "file_extension": ".py",
   "mimetype": "text/x-python",
   "name": "python",
   "nbconvert_exporter": "python",
   "pygments_lexer": "ipython3",
   "version": "3.11.12"
  }
 },
 "nbformat": 4,
 "nbformat_minor": 2
}
