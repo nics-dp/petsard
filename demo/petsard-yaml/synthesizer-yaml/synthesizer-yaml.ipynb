{
 "cells": [
  {
   "cell_type": "markdown",
   "metadata": {},
   "source": [
    "# Environment setting / 環境設定"
   ]
  },
  {
   "cell_type": "code",
   "execution_count": 1,
   "metadata": {},
   "outputs": [
    {
     "name": "stdout",
     "output_type": "stream",
     "text": [
      "📂 Current working directory: demo/petsard-yaml/synthesizer-yaml\n",
      "✅ PETsARD demo_utils loaded. Use quick_setup() to initialize.\n"
     ]
    }
   ],
   "source": [
    "import os  # noqa: I001\n",
    "import sys\n",
    "from pathlib import Path\n",
    "\n",
    "\n",
    "# Handle utils.py for Colab\n",
    "if \"COLAB_GPU\" in os.environ:\n",
    "    import urllib.request\n",
    "\n",
    "    demo_utils_url = (\n",
    "        \"https://raw.githubusercontent.com/nics-tw/petsard/main/demo/demo_utils.py\"\n",
    "    )\n",
    "    exec(urllib.request.urlopen(demo_utils_url).read().decode(\"utf-8\"))\n",
    "else:\n",
    "    # demo_utils.py search for local\n",
    "    for p in [Path.cwd()] + list(Path.cwd().parents)[:10]:\n",
    "        utils_path = p / \"demo_utils.py\"\n",
    "        if utils_path.exists() and \"demo\" in str(utils_path):\n",
    "            sys.path.insert(0, str(p))\n",
    "            exec(open(utils_path).read())\n",
    "            break"
   ]
  },
  {
   "cell_type": "markdown",
   "metadata": {},
   "source": [
    "## Quick setup / 快速設定: Synthesizer YAML"
   ]
  },
  {
   "cell_type": "code",
   "execution_count": 2,
   "metadata": {},
   "outputs": [
    {
     "name": "stdout",
     "output_type": "stream",
     "text": [
      "✅ Changed working directory to demo: petsard/demo\n",
      "   📁 Notebook location: demo/petsard-yaml/synthesizer-yaml/\n",
      "   🔍 YAML search priority: \n",
      "      1. demo/petsard-yaml/synthesizer-yaml/\n",
      "      2. demo/\n",
      "   💾 Output files will be saved in: demo/\n",
      "🚀 PETsARD v1.7.0\n",
      "📅 2025-10-15 13:59:17 UTC+8\n",
      "🔧 Added to Python path: petsard/demo/petsard-yaml/synthesizer-yaml\n",
      "📁 Processing configuration files from subfolder: petsard-yaml/synthesizer-yaml\n",
      "✅ Found configuration (1/3): petsard/demo/petsard-yaml/synthesizer-yaml/using-default-method.yaml\n",
      "✅ Found configuration (2/3): petsard/demo/petsard-yaml/synthesizer-yaml/multiple-experiments.yaml\n",
      "✅ Found configuration (3/3): petsard/demo/petsard-yaml/synthesizer-yaml/custom-synthesis.py\n"
     ]
    }
   ],
   "source": [
    "from demo_utils import display_results, display_yaml_info, quick_setup  # noqa: I001\n",
    "from petsard import Executor  # noqa: I001\n",
    "\n",
    "\n",
    "is_colab, branch, yaml_path = quick_setup(\n",
    "    config_file=[\n",
    "        \"using-default-method.yaml\",\n",
    "        \"multiple-experiments.yaml\",\n",
    "        \"custom-synthesis.py\",\n",
    "    ],\n",
    "    benchmark_data=None,\n",
    "    petsard_branch=\"main\",\n",
    ")"
   ]
  },
  {
   "cell_type": "markdown",
   "metadata": {},
   "source": [
    "# Execution and Result / 執行與結果"
   ]
  },
  {
   "cell_type": "markdown",
   "metadata": {},
   "source": [
    "## Using Default Method / 使用預設方法"
   ]
  },
  {
   "cell_type": "code",
   "execution_count": 3,
   "metadata": {},
   "outputs": [
    {
     "name": "stdout",
     "output_type": "stream",
     "text": [
      "============================================================\n",
      "📋 YAML Configuration Files / YAML 設定檔案\n",
      "============================================================\n",
      "\n",
      "📄 File: using-default-method.yaml\n",
      "📁 Path: petsard/demo/petsard-yaml/synthesizer-yaml/using-default-method.yaml\n",
      "\n",
      "⚙️ Configuration content / 設定內容:\n",
      "----------------------------------------\n",
      "---\n",
      "Loader:\n",
      "  load_benchmark_with_schema:\n",
      "    filepath: benchmark://adult-income\n",
      "    schema: benchmark://adult-income_schema\n",
      "Synthesizer:\n",
      "  default_synthesis:\n",
      "    method: default\n",
      "...\n",
      "============================================================\n",
      "================================================================================\n",
      "📊 Execution Results / 執行結果\n",
      "================================================================================\n",
      "\n",
      "[1] Loader[load_benchmark_with_schema]_Synthesizer[default_synthesis]\n",
      "------------------------------------------------------------\n",
      "📈 DataFrame: 48,842 rows × 15 columns\n",
      "📋 Showing first 3 rows / 顯示前 3 行:\n",
      "\n",
      "   age         workclass  fnlwgt     education  educational-num      marital-status    occupation   relationship   race  gender  capital-gain  capital-loss  hours-per-week native-country income\n",
      "0   58  Self-emp-not-inc  123297   Prof-school               12  Married-civ-spouse  Craft-repair  Not-in-family  White  Female         93940          4334              40  United-States  <=50K\n",
      "1   29           Private  188168     Bachelors               10  Married-civ-spouse  Craft-repair        Husband  White    Male         84455          3323              12  United-States  <=50K\n",
      "2   28           Private  153939  Some-college               13       Never-married           NaN  Not-in-family  Black    Male             2             0              25  United-States  <=50K\n",
      "\n",
      "... (48,839 more rows) / ... (還有 48,839 行)\n",
      "\n",
      "📝 Columns / 欄位: age, workclass, fnlwgt, education, educational-num, marital-status, occupation, relationship, race, gender, capital-gain, capital-loss, hours-per-week, native-country, income\n",
      "\n",
      "================================================================================\n",
      "✅ Total results / 總結果數: 1\n",
      "================================================================================\n"
     ]
    }
   ],
   "source": [
    "display_yaml_info(yaml_path[0])\n",
    "exec = Executor(yaml_path[0])\n",
    "exec.run()\n",
    "display_results(exec.get_result())"
   ]
  },
  {
   "cell_type": "markdown",
   "metadata": {},
   "source": [
    "## Multiple Experiments / 多重實驗"
   ]
  },
  {
   "cell_type": "code",
   "execution_count": 4,
   "metadata": {},
   "outputs": [
    {
     "name": "stdout",
     "output_type": "stream",
     "text": [
      "============================================================\n",
      "📋 YAML Configuration Files / YAML 設定檔案\n",
      "============================================================\n",
      "\n",
      "📄 File: multiple-experiments.yaml\n",
      "📁 Path: petsard/demo/petsard-yaml/synthesizer-yaml/multiple-experiments.yaml\n",
      "\n",
      "⚙️ Configuration content / 設定內容:\n",
      "----------------------------------------\n",
      "---\n",
      "Loader:\n",
      "  load_benchmark_with_schema:\n",
      "    filepath: benchmark://adult-income\n",
      "    schema: benchmark://adult-income_schema\n",
      "Synthesizer:\n",
      "  default_synthesis:\n",
      "    method: default\n",
      "\n",
      "  custom-method:\n",
      "    method: custom_method\n",
      "    module_path: custom-synthesis.py\n",
      "    class_name: MySynthesizer_Shuffle\n",
      "...\n",
      "============================================================\n",
      "================================================================================\n",
      "📊 Execution Results / 執行結果\n",
      "================================================================================\n",
      "\n",
      "[1] Loader[load_benchmark_with_schema]_Synthesizer[default_synthesis]\n",
      "------------------------------------------------------------\n",
      "📈 DataFrame: 48,842 rows × 15 columns\n",
      "📋 Showing first 3 rows / 顯示前 3 行:\n",
      "\n",
      "   age         workclass  fnlwgt     education  educational-num      marital-status    occupation   relationship   race  gender  capital-gain  capital-loss  hours-per-week native-country income\n",
      "0   58  Self-emp-not-inc  123297   Prof-school               12  Married-civ-spouse  Craft-repair  Not-in-family  White  Female         93940          4334              40  United-States  <=50K\n",
      "1   29           Private  188168     Bachelors               10  Married-civ-spouse  Craft-repair        Husband  White    Male         84455          3323              12  United-States  <=50K\n",
      "2   28           Private  153939  Some-college               13       Never-married           NaN  Not-in-family  Black    Male             2             0              25  United-States  <=50K\n",
      "\n",
      "... (48,839 more rows) / ... (還有 48,839 行)\n",
      "\n",
      "📝 Columns / 欄位: age, workclass, fnlwgt, education, educational-num, marital-status, occupation, relationship, race, gender, capital-gain, capital-loss, hours-per-week, native-country, income\n",
      "\n",
      "[2] Loader[load_benchmark_with_schema]_Synthesizer[custom-method]\n",
      "------------------------------------------------------------\n",
      "📈 DataFrame: 48,842 rows × 15 columns\n",
      "📋 Showing first 3 rows / 顯示前 3 行:\n",
      "\n",
      "   age workclass  fnlwgt  education  educational-num marital-status    occupation relationship   race  gender  capital-gain  capital-loss  hours-per-week native-country income\n",
      "0   61   Private  104334    HS-grad                9  Never-married  Craft-repair      Husband  White  Female             0             0              40  United-States   >50K\n",
      "1   47   Private  167678    Masters               12  Never-married  Craft-repair      Husband  White  Female             0             0              35  United-States  <=50K\n",
      "2   28   Private  285692  Bachelors               14  Never-married         Sales         Wife  White    Male             0             0              99  United-States  <=50K\n",
      "\n",
      "... (48,839 more rows) / ... (還有 48,839 行)\n",
      "\n",
      "📝 Columns / 欄位: age, workclass, fnlwgt, education, educational-num, marital-status, occupation, relationship, race, gender, capital-gain, capital-loss, hours-per-week, native-country, income\n",
      "\n",
      "================================================================================\n",
      "✅ Total results / 總結果數: 2\n",
      "================================================================================\n"
     ]
    }
   ],
   "source": [
    "display_yaml_info(yaml_path[1])\n",
    "exec = Executor(yaml_path[1])\n",
    "exec.run()\n",
    "display_results(exec.get_result())"
   ]
  }
 ],
 "metadata": {
  "kernelspec": {
   "display_name": "petsard",
   "language": "python",
   "name": "python3"
  },
  "language_info": {
   "codemirror_mode": {
    "name": "ipython",
    "version": 3
   },
   "file_extension": ".py",
   "mimetype": "text/x-python",
   "name": "python",
   "nbconvert_exporter": "python",
   "pygments_lexer": "ipython3",
   "version": "3.11.12"
  }
 },
 "nbformat": 4,
 "nbformat_minor": 2
}
