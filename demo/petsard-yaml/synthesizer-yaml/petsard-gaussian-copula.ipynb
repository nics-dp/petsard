{
 "cells": [
  {
   "cell_type": "markdown",
   "metadata": {},
   "source": [
    "# Environment setting / 環境設定"
   ]
  },
  {
   "cell_type": "code",
   "execution_count": 1,
   "metadata": {},
   "outputs": [
    {
     "name": "stdout",
     "output_type": "stream",
     "text": [
      "📂 Current working directory: demo/petsard-yaml/synthesizer-yaml\n",
      "✅ PETsARD demo_utils loaded. Use quick_setup() to initialize.\n"
     ]
    }
   ],
   "source": [
    "import os  # noqa: I001\n",
    "import sys\n",
    "from pathlib import Path\n",
    "\n",
    "\n",
    "# Handle utils.py for Colab\n",
    "if \"COLAB_GPU\" in os.environ:\n",
    "    import urllib.request\n",
    "\n",
    "    demo_utils_url = (\n",
    "        \"https://raw.githubusercontent.com/nics-tw/petsard/main/demo/demo_utils.py\"\n",
    "    )\n",
    "    exec(urllib.request.urlopen(demo_utils_url).read().decode(\"utf-8\"))\n",
    "else:\n",
    "    # demo_utils.py search for local\n",
    "    for p in [Path.cwd()] + list(Path.cwd().parents)[:10]:\n",
    "        utils_path = p / \"demo_utils.py\"\n",
    "        if utils_path.exists() and \"demo\" in str(utils_path):\n",
    "            sys.path.insert(0, str(p))\n",
    "            exec(open(utils_path).read())\n",
    "            break"
   ]
  },
  {
   "cell_type": "markdown",
   "metadata": {},
   "source": [
    "## Quick setup / 快速設定: Synthesizer YAML - PETsARD Gaussian Copula"
   ]
  },
  {
   "cell_type": "code",
   "execution_count": 2,
   "metadata": {},
   "outputs": [
    {
     "name": "stdout",
     "output_type": "stream",
     "text": [
      "✅ Changed working directory to demo: petsard/demo\n",
      "   📁 Notebook location: demo/petsard-yaml/synthesizer-yaml/\n",
      "   🔍 YAML search priority: \n",
      "      1. demo/petsard-yaml/synthesizer-yaml/\n",
      "      2. demo/\n",
      "   💾 Output files will be saved in: demo/\n",
      "🚀 PETsARD v1.7.0\n",
      "📅 2025-10-14 23:31:03 UTC+8\n",
      "🔧 Added to Python path: petsard/demo/petsard-yaml/synthesizer-yaml\n",
      "📁 Processing configuration files from subfolder: petsard-yaml/synthesizer-yaml\n",
      "✅ Found configuration (1/1): petsard/demo/petsard-yaml/synthesizer-yaml/petsard-gaussian-copula.yaml\n"
     ]
    }
   ],
   "source": [
    "from demo_utils import display_results, display_yaml_info, quick_setup  # noqa: I001\n",
    "from petsard import Executor  # noqa: I001\n",
    "\n",
    "\n",
    "is_colab, branch, yaml_path = quick_setup(\n",
    "    config_file=[\n",
    "        \"petsard-gaussian-copula.yaml\",\n",
    "    ],\n",
    "    benchmark_data=None,\n",
    "    petsard_branch=\"main\",\n",
    ")"
   ]
  },
  {
   "cell_type": "markdown",
   "metadata": {},
   "source": [
    "# Execution and Result / 執行與結果"
   ]
  },
  {
   "cell_type": "markdown",
   "metadata": {},
   "source": [
    "## PETsARD Gaussian Copula / PETsARD 高斯耦合"
   ]
  },
  {
   "cell_type": "code",
   "execution_count": 3,
   "metadata": {},
   "outputs": [
    {
     "name": "stdout",
     "output_type": "stream",
     "text": [
      "============================================================\n",
      "📋 YAML Configuration Files / YAML 設定檔案\n",
      "============================================================\n",
      "\n",
      "📄 File: petsard-gaussian-copula.yaml\n",
      "📁 Path: petsard/demo/petsard-yaml/synthesizer-yaml/petsard-gaussian-copula.yaml\n",
      "\n",
      "⚙️ Configuration content / 設定內容:\n",
      "----------------------------------------\n",
      "---\n",
      "Loader:\n",
      "  load_benchmark_with_schema:\n",
      "    filepath: benchmark://adult-income\n",
      "    schema: benchmark://adult-income_schema\n",
      "\n",
      "Preprocessor:\n",
      "  default:\n",
      "    method: default\n",
      "\n",
      "Synthesizer:\n",
      "\n",
      "  petsard-gaussian-copula:\n",
      "    method: petsard-gaussian-copula\n",
      "    use_gpu: auto  # 智能選擇 CPU/GPU\n",
      "    gpu_threshold: 50000  # 超過 50K rows 才用 GPU\n",
      "\n",
      "  sdv_gaussiancopula:\n",
      "    method: custom_method\n",
      "    module_path: sdv-custom-methods.py\n",
      "    class_name: SDV_GaussianCopula\n",
      "\n",
      "Postprocessor:\n",
      "  default:\n",
      "    method: default\n",
      "\n",
      "Evaluator:\n",
      "  eval_all_methods:\n",
      "    method: sdmetrics-qualityreport\n",
      "\n",
      "Reporter:\n",
      "  save_comparison:\n",
      "    method: save_report\n",
      "    granularity: global\n",
      "...\n",
      "============================================================\n"
     ]
    },
    {
     "name": "stderr",
     "output_type": "stream",
     "text": [
      "/Users/justyn.chen/Library/CloudStorage/Dropbox/5_Career 工作/20231016_NICS 資安院/3_工藝：PETsARD/petsard/.venv/lib/python3.11/site-packages/numpy/lib/function_base.py:2742: RuntimeWarning: invalid value encountered in subtract\n",
      "  X -= avg[:, None]\n"
     ]
    },
    {
     "name": "stdout",
     "output_type": "stream",
     "text": [
      "Generating report ...\n",
      "\n",
      "(1/2) Evaluating Column Shapes: |██████████| 15/15 [00:00<00:00, 77.43it/s]|\n",
      "Column Shapes Score: 95.43%\n",
      "\n",
      "(2/2) Evaluating Column Pair Trends: |██████████| 105/105 [00:00<00:00, 194.32it/s]|\n",
      "Column Pair Trends Score: 58.35%\n",
      "\n",
      "Overall Score (Average): 76.89%\n",
      "\n",
      "Generating report ...\n",
      "\n",
      "(1/2) Evaluating Column Shapes: |██████████| 15/15 [00:00<00:00, 106.08it/s]|\n",
      "Column Shapes Score: 80.04%\n",
      "\n",
      "(2/2) Evaluating Column Pair Trends: |██████████| 105/105 [00:00<00:00, 168.55it/s]|\n",
      "Column Pair Trends Score: 48.88%\n",
      "\n",
      "Overall Score (Average): 64.46%\n",
      "\n",
      "================================================================================\n",
      "📊 Execution Results / 執行結果\n",
      "================================================================================\n",
      "\n",
      "[1] Loader[load_benchmark_with_schema]_Preprocessor[default]_Synthesizer[petsard-gaussian-copula]_Postprocessor[default]_Evaluator[eval_all_methods]_Reporter[save_comparison]\n",
      "------------------------------------------------------------\n",
      "📦 Dictionary with 1 keys / 包含 1 個鍵的字典\n",
      "\n",
      "  • [global]: DataFrame (1 rows × 9 columns)\n",
      "    📋 Showing first 1 rows / 顯示前 1 行:\n",
      "                                                                                                                                    full_expt_name                      Loader Preprocessor              Synthesizer Postprocessor Evaluator  eval_all_methods_Score  eval_all_methods_Column Shapes  eval_all_methods_Column Pair Trends\n",
      "    result  Loader[load_benchmark_with_schema]_Preprocessor[default]_Synthesizer[petsard-gaussian-copula]_Postprocessor[default]_Evaluator[global]  load_benchmark_with_schema      default  petsard-gaussian-copula       default  [global]                    0.77                            0.95                                 0.58\n",
      "    📝 Columns / 欄位: full_expt_name, Loader, Preprocessor, Synthesizer, Postprocessor, Evaluator, eval_all_methods_Score, eval_all_methods_Column Shapes, eval_all_methods_Column Pair Trends\n",
      "\n",
      "[2] Loader[load_benchmark_with_schema]_Preprocessor[default]_Synthesizer[sdv_gaussiancopula]_Postprocessor[default]_Evaluator[eval_all_methods]_Reporter[save_comparison]\n",
      "------------------------------------------------------------\n",
      "📦 Dictionary with 1 keys / 包含 1 個鍵的字典\n",
      "\n",
      "  • [global]: DataFrame (2 rows × 9 columns)\n",
      "    📋 Showing first 2 rows / 顯示前 2 行:\n",
      "                                                                                                                               full_expt_name                      Loader Preprocessor              Synthesizer Postprocessor Evaluator  eval_all_methods_Score  eval_all_methods_Column Shapes  eval_all_methods_Column Pair Trends\n",
      "    0  Loader[load_benchmark_with_schema]_Preprocessor[default]_Synthesizer[petsard-gaussian-copula]_Postprocessor[default]_Evaluator[global]  load_benchmark_with_schema      default  petsard-gaussian-copula       default  [global]                    0.77                            0.95                                 0.58\n",
      "    1       Loader[load_benchmark_with_schema]_Preprocessor[default]_Synthesizer[sdv_gaussiancopula]_Postprocessor[default]_Evaluator[global]  load_benchmark_with_schema      default       sdv_gaussiancopula       default  [global]                    0.64                            0.80                                 0.49\n",
      "    📝 Columns / 欄位: full_expt_name, Loader, Preprocessor, Synthesizer, Postprocessor, Evaluator, eval_all_methods_Score, eval_all_methods_Column Shapes, eval_all_methods_Column Pair Trends\n",
      "\n",
      "================================================================================\n",
      "✅ Total results / 總結果數: 2\n",
      "================================================================================\n"
     ]
    }
   ],
   "source": [
    "display_yaml_info(yaml_path[0])\n",
    "exec = Executor(yaml_path[0])\n",
    "exec.run()\n",
    "display_results(exec.get_result())"
   ]
  }
 ],
 "metadata": {
  "kernelspec": {
   "display_name": "petsard",
   "language": "python",
   "name": "python3"
  },
  "language_info": {
   "codemirror_mode": {
    "name": "ipython",
    "version": 3
   },
   "file_extension": ".py",
   "mimetype": "text/x-python",
   "name": "python",
   "nbconvert_exporter": "python",
   "pygments_lexer": "ipython3",
   "version": "3.11.12"
  }
 },
 "nbformat": 4,
 "nbformat_minor": 2
}
