{
 "cells": [
  {
   "cell_type": "markdown",
   "metadata": {},
   "source": [
    "# Environment setting / 環境設定"
   ]
  },
  {
   "cell_type": "code",
   "execution_count": 1,
   "metadata": {},
   "outputs": [
    {
     "name": "stdout",
     "output_type": "stream",
     "text": [
      "📂 Current working directory: demo/petsard-yaml/synthesizer-yaml\n",
      "✅ PETsARD demo_utils loaded. Use quick_setup() to initialize.\n"
     ]
    }
   ],
   "source": [
    "import os  # noqa: I001\n",
    "import sys\n",
    "from pathlib import Path\n",
    "\n",
    "\n",
    "# Handle utils.py for Colab\n",
    "if \"COLAB_GPU\" in os.environ:\n",
    "    import urllib.request\n",
    "\n",
    "    demo_utils_url = (\n",
    "        \"https://raw.githubusercontent.com/nics-tw/petsard/main/demo/demo_utils.py\"\n",
    "    )\n",
    "    exec(urllib.request.urlopen(demo_utils_url).read().decode(\"utf-8\"))\n",
    "else:\n",
    "    # demo_utils.py search for local\n",
    "    for p in [Path.cwd()] + list(Path.cwd().parents)[:10]:\n",
    "        utils_path = p / \"demo_utils.py\"\n",
    "        if utils_path.exists() and \"demo\" in str(utils_path):\n",
    "            sys.path.insert(0, str(p))\n",
    "            exec(open(utils_path).read())\n",
    "            break"
   ]
  },
  {
   "cell_type": "markdown",
   "metadata": {},
   "source": [
    "## Quick setup / 快速設定: Synthesizer YAML - PETsARD Gaussian Copula"
   ]
  },
  {
   "cell_type": "code",
   "execution_count": 2,
   "metadata": {},
   "outputs": [
    {
     "name": "stdout",
     "output_type": "stream",
     "text": [
      "✅ Changed working directory to demo: petsard/demo\n",
      "   📁 Notebook location: demo/petsard-yaml/synthesizer-yaml/\n",
      "   🔍 YAML search priority: \n",
      "      1. demo/petsard-yaml/synthesizer-yaml/\n",
      "      2. demo/\n",
      "   💾 Output files will be saved in: demo/\n",
      "🚀 PETsARD v1.8.0\n",
      "📅 2025-10-18 20:01:58 UTC+8\n",
      "🔧 Added to Python path: petsard/demo/petsard-yaml/synthesizer-yaml\n",
      "📁 Processing configuration files from subfolder: petsard-yaml/synthesizer-yaml\n",
      "✅ Found configuration (1/1): petsard/demo/petsard-yaml/synthesizer-yaml/petsard-gaussian-copula.yaml\n"
     ]
    }
   ],
   "source": [
    "from demo_utils import display_results, display_yaml_info, quick_setup  # noqa: I001\n",
    "from petsard import Executor  # noqa: I001\n",
    "\n",
    "\n",
    "is_colab, branch, yaml_path = quick_setup(\n",
    "    config_file=[\n",
    "        \"petsard-gaussian-copula.yaml\",\n",
    "    ],\n",
    "    benchmark_data=None,\n",
    "    petsard_branch=\"main\",\n",
    ")"
   ]
  },
  {
   "cell_type": "markdown",
   "metadata": {},
   "source": [
    "# Execution and Result / 執行與結果"
   ]
  },
  {
   "cell_type": "markdown",
   "metadata": {},
   "source": [
    "## PETsARD Gaussian Copula / PETsARD 高斯耦合"
   ]
  },
  {
   "cell_type": "code",
   "execution_count": 3,
   "metadata": {},
   "outputs": [
    {
     "name": "stdout",
     "output_type": "stream",
     "text": [
      "============================================================\n",
      "📋 YAML Configuration Files / YAML 設定檔案\n",
      "============================================================\n",
      "\n",
      "📄 File: petsard-gaussian-copula.yaml\n",
      "📁 Path: petsard/demo/petsard-yaml/synthesizer-yaml/petsard-gaussian-copula.yaml\n",
      "\n",
      "⚙️ Configuration content / 設定內容:\n",
      "----------------------------------------\n",
      "---\n",
      "Loader:\n",
      "  load_benchmark_with_schema:\n",
      "    filepath: benchmark://adult-income\n",
      "    schema: benchmark://adult-income_schema\n",
      "Preprocessor:\n",
      "  default:\n",
      "    method: default\n",
      "\n",
      "Synthesizer:\n",
      "\n",
      "  petsard-gaussian-copula:\n",
      "    method: petsard-gaussian-copula\n",
      "    sample_num_rows: 1000  # Number of rows to generate, default: training data row count\n",
      "    use_gpu: auto          # Device selection, default: auto (automatic)\n",
      "    gpu_threshold: 50000   # Threshold for auto mode, default: 50,000\n",
      "\n",
      "  sdv_gaussiancopula:\n",
      "    method: custom_method\n",
      "    module_path: sdv-custom-methods.py\n",
      "    class_name: SDV_GaussianCopula\n",
      "\n",
      "Postprocessor:\n",
      "  default:\n",
      "    method: default\n",
      "Evaluator:\n",
      "  eval_all_methods:\n",
      "    method: sdmetrics-qualityreport\n",
      "Reporter:\n",
      "  save_comparison:\n",
      "    method: save_report\n",
      "    granularity: global\n",
      "...\n",
      "============================================================\n",
      "Generating report ...\n",
      "\n",
      "(1/2) Evaluating Column Shapes: |██████████| 15/15 [00:00<00:00, 157.24it/s]|\n",
      "Column Shapes Score: 94.85%\n",
      "\n",
      "(2/2) Evaluating Column Pair Trends: |██████████| 105/105 [00:00<00:00, 211.64it/s]|\n",
      "Column Pair Trends Score: 57.59%\n",
      "\n",
      "Overall Score (Average): 76.22%\n",
      "\n",
      "======================================================================\n",
      "🔍 DIAGNOSTIC: Checking metadata in __init__\n",
      "======================================================================\n",
      "✓ Received metadata object: <class 'petsard.metadater.metadata.Schema'>\n",
      "✓ Metadata has 15 attributes:\n",
      "  - age: type=float64, logical_type=standardized\n",
      "  - workclass: type=float64, logical_type=None\n",
      "  - fnlwgt: type=float64, logical_type=standardized\n",
      "  - education: type=float64, logical_type=None\n",
      "  - educational-num: type=float64, logical_type=standardized\n",
      "  ... and 10 more attributes\n",
      "======================================================================\n",
      "🔍 DIAGNOSTIC: Converting metadata to SDV format...\n",
      "\n",
      "🔍 DIAGNOSTIC: schema_to_sdv() called\n",
      "  Schema has 15 attributes\n",
      "  Converted to SDV metadata with 15 columns\n",
      "✓ Successfully created SDV_Metadata object\n",
      "  SDV_Metadata type: <class 'sdv.metadata.metadata.Metadata'>\n",
      "\n",
      "🔍 DIAGNOSTIC: Checking _sdv_metadata in fit()\n",
      "✓ _sdv_metadata exists, using pre-configured schema\n",
      "  SDV_Metadata object: <class 'sdv.metadata.metadata.Metadata'>\n",
      "Generating report ...\n",
      "\n",
      "(1/2) Evaluating Column Shapes: |██████████| 15/15 [00:00<00:00, 81.71it/s]|\n",
      "Column Shapes Score: 95.19%\n",
      "\n",
      "(2/2) Evaluating Column Pair Trends: |██████████| 105/105 [00:00<00:00, 187.08it/s]|\n",
      "Column Pair Trends Score: 61.11%\n",
      "\n",
      "Overall Score (Average): 78.15%\n",
      "\n",
      "================================================================================\n",
      "📊 Execution Results / 執行結果\n",
      "================================================================================\n",
      "\n",
      "[1] Loader[load_benchmark_with_schema]_Preprocessor[default]_Synthesizer[petsard-gaussian-copula]_Postprocessor[default]_Evaluator[eval_all_methods]_Reporter[save_comparison]\n",
      "------------------------------------------------------------\n",
      "📋 Reporter output / Reporter 輸出\n",
      "  • [global]: DataFrame\n",
      "\n",
      "[2] Loader[load_benchmark_with_schema]_Preprocessor[default]_Synthesizer[sdv_gaussiancopula]_Postprocessor[default]_Evaluator[eval_all_methods]_Reporter[save_comparison]\n",
      "------------------------------------------------------------\n",
      "📋 Reporter output / Reporter 輸出\n",
      "  • [global]: DataFrame\n",
      "\n",
      "================================================================================\n",
      "✅ Total results / 總結果數: 2\n",
      "================================================================================\n"
     ]
    }
   ],
   "source": [
    "display_yaml_info(yaml_path[0])\n",
    "exec_now = Executor(yaml_path[0])\n",
    "exec_now.run()\n",
    "display_results(exec_now.get_result())"
   ]
  }
 ],
 "metadata": {
  "kernelspec": {
   "display_name": "petsard",
   "language": "python",
   "name": "python3"
  },
  "language_info": {
   "codemirror_mode": {
    "name": "ipython",
    "version": 3
   },
   "file_extension": ".py",
   "mimetype": "text/x-python",
   "name": "python",
   "nbconvert_exporter": "python",
   "pygments_lexer": "ipython3",
   "version": "3.11.12"
  }
 },
 "nbformat": 4,
 "nbformat_minor": 2
}
