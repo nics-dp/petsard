{
 "cells": [
  {
   "cell_type": "markdown",
   "metadata": {},
   "source": [
    "# Environment"
   ]
  },
  {
   "cell_type": "code",
   "execution_count": 1,
   "metadata": {},
   "outputs": [],
   "source": [
    "from copy import deepcopy\n",
    "import os\n",
    "import pprint\n",
    "import sys\n",
    "\n",
    "import yaml\n",
    "\n",
    "sys.path.append(os.path.dirname(os.getcwd()))\n"
   ]
  },
  {
   "cell_type": "markdown",
   "metadata": {},
   "source": [
    "# Config"
   ]
  },
  {
   "cell_type": "markdown",
   "metadata": {},
   "source": [
    "## Raw YAML"
   ]
  },
  {
   "cell_type": "code",
   "execution_count": 2,
   "metadata": {},
   "outputs": [
    {
     "name": "stdout",
     "output_type": "stream",
     "text": [
      "{'Evaluator': {'anony-inference': {'method': 'anonymeter-inference'},\n",
      "               'anony-linkability': {'method': 'anonymeter-linkability'},\n",
      "               'anony-singlingout': {'method': 'anonymeter_singlingout_univariate'},\n",
      "               'sd-diag': {'method': 'sdmetrics-diagnosticreport'},\n",
      "               'sd-qlt': {'method': 'sdmetrics-qualityreport'}},\n",
      " 'Loader': {'adult': {'filepath': 'benchmark://adult', 'na_values': {...}},\n",
      "            'adult_local': {'filepath': 'benchmark/adult.csv',\n",
      "                            'na_values': {...}}},\n",
      " 'Postprocessor': {'missing-drop': None},\n",
      " 'Preprocessor': {'missing-drop': {'missing': {...}}},\n",
      " 'Splitter': {'0.8': {'num_samples': 2, 'train_split_ratio': 0.8}},\n",
      " 'Synthesizer': {'sdv-copulagan': {'method': 'sdv-ctgan'},\n",
      "                 'sdv-gaussian': {'method': 'sdv-gaussiancopula'},\n",
      "                 'sdv-tvae': {'method': 'sdv-tvae'}}}\n"
     ]
    }
   ],
   "source": [
    "filename = 'DevTest_Exec_Yaml.yaml'\n",
    "\n",
    "with open(filename, 'r') as yaml_file:\n",
    "    yaml_raw: dict = yaml.safe_load(yaml_file)\n",
    "\n",
    "pp = pprint.PrettyPrinter(depth=3)\n",
    "pp.pprint(yaml_raw)\n",
    "# print(yaml_raw.keys())"
   ]
  },
  {
   "cell_type": "markdown",
   "metadata": {},
   "source": [
    "## _splitter_handler"
   ]
  },
  {
   "cell_type": "code",
   "execution_count": 3,
   "metadata": {},
   "outputs": [
    {
     "name": "stdout",
     "output_type": "stream",
     "text": [
      "{'0.8': {'num_samples': 2, 'train_split_ratio': 0.8}}\n",
      "{'0.8_[1|2]': {'num_samples': 1, 'train_split_ratio': 0.8},\n",
      " '0.8_[2|2]': {'num_samples': 1, 'train_split_ratio': 0.8}}\n"
     ]
    }
   ],
   "source": [
    "from PETsARD import Config\n",
    "\n",
    "\n",
    "cfg = Config(filename=filename)\n",
    "\n",
    "pp.pprint(yaml_raw['Splitter'])\n",
    "pp.pprint(cfg.yaml['Splitter'])"
   ]
  },
  {
   "cell_type": "markdown",
   "metadata": {},
   "source": [
    "# Operator"
   ]
  },
  {
   "cell_type": "markdown",
   "metadata": {},
   "source": [
    "## LoaderOperator"
   ]
  },
  {
   "cell_type": "code",
   "execution_count": 4,
   "metadata": {},
   "outputs": [
    {
     "name": "stdout",
     "output_type": "stream",
     "text": [
      "Loader - Benchmarker: file benchmark\\adult.csv already exist and match SHA-256.\n",
      "                      PETsARD will ignore download and use local data directly.\n",
      "   age workclass  fnlwgt education  educational-num      marital-status  \\\n",
      "0   25   Private  226802      11th                7       Never-married   \n",
      "1   38   Private   89814   HS-grad                9  Married-civ-spouse   \n",
      "\n",
      "          occupation relationship   race gender  capital-gain  capital-loss  \\\n",
      "0  Machine-op-inspct    Own-child  Black   Male             0             0   \n",
      "1    Farming-fishing      Husband  White   Male             0             0   \n",
      "\n",
      "   hours-per-week native-country income  \n",
      "0              40  United-States  <=50K  \n",
      "1              50  United-States  <=50K  \n"
     ]
    }
   ],
   "source": [
    "from PETsARD.operator import LoaderOperator\n",
    "\n",
    "\n",
    "load = LoaderOperator(config=cfg.yaml['Loader']['adult'])\n",
    "load.run(input={})\n",
    "pp.pprint(load.get_result().head(2))"
   ]
  },
  {
   "cell_type": "markdown",
   "metadata": {},
   "source": [
    "## SplitterOperator"
   ]
  },
  {
   "cell_type": "code",
   "execution_count": 5,
   "metadata": {},
   "outputs": [
    {
     "name": "stdout",
     "output_type": "stream",
     "text": [
      "train\n",
      "   age workclass  fnlwgt education  educational-num      marital-status  \\\n",
      "0   25   Private  226802      11th                7       Never-married   \n",
      "1   38   Private   89814   HS-grad                9  Married-civ-spouse   \n",
      "\n",
      "          occupation relationship   race gender  capital-gain  capital-loss  \\\n",
      "0  Machine-op-inspct    Own-child  Black   Male             0             0   \n",
      "1    Farming-fishing      Husband  White   Male             0             0   \n",
      "\n",
      "   hours-per-week native-country income  \n",
      "0              40  United-States  <=50K  \n",
      "1              50  United-States  <=50K  \n",
      "validation\n",
      "   age workclass  fnlwgt     education  educational-num      marital-status  \\\n",
      "0   27   Private  205145       HS-grad                9  Married-civ-spouse   \n",
      "1   18       NaN  103497  Some-college               10       Never-married   \n",
      "\n",
      "          occupation relationship   race  gender  capital-gain  capital-loss  \\\n",
      "0  Machine-op-inspct      Husband  White    Male             0             0   \n",
      "1                NaN    Own-child  White  Female             0             0   \n",
      "\n",
      "   hours-per-week native-country income  \n",
      "0              40  United-States  <=50K  \n",
      "1              30  United-States  <=50K  \n"
     ]
    }
   ],
   "source": [
    "from PETsARD.operator import SplitterOperator\n",
    "\n",
    "\n",
    "split = SplitterOperator(config=cfg.yaml['Splitter']['0.8_[1|2]'])\n",
    "split.run(input={'data': load.get_result()})\n",
    "print('train')\n",
    "pp.pprint(split.get_result()['train'].head(2))\n",
    "print('validation')\n",
    "pp.pprint(split.get_result()['validation'].head(2))\n"
   ]
  },
  {
   "cell_type": "markdown",
   "metadata": {},
   "source": [
    "## PreprocessorOperator"
   ]
  },
  {
   "cell_type": "code",
   "execution_count": 6,
   "metadata": {},
   "outputs": [
    {
     "name": "stdout",
     "output_type": "stream",
     "text": [
      "        age  workclass    fnlwgt  education  educational-num  marital-status  \\\n",
      "0 -0.998707   0.230785  0.350681   0.811873        -1.201444        0.488192   \n",
      "1 -0.049314   0.141095 -0.947105   0.191809        -0.423285        0.213126   \n",
      "\n",
      "   occupation  relationship      race    gender  capital-gain  capital-loss  \\\n",
      "0    0.773858      0.780477  0.948399  0.566120     -0.145298     -0.216261   \n",
      "1    0.932510      0.300713  0.610816  0.135063     -0.145298     -0.216261   \n",
      "\n",
      "   hours-per-week  native-country    income  \n",
      "0       -0.035942        0.414725  0.692520  \n",
      "1        0.778276        0.126433  0.198601  \n"
     ]
    }
   ],
   "source": [
    "from PETsARD.operator import PreprocessorOperator\n",
    "\n",
    "\n",
    "preproc = PreprocessorOperator(config=cfg.yaml['Preprocessor']['missing-drop'])\n",
    "preproc.run(input={\n",
    "    'data': split.get_result()['train'],\n",
    "    'metadata': load.loader.metadata\n",
    "})\n",
    "pp.pprint(preproc.get_result().head(2))"
   ]
  },
  {
   "cell_type": "markdown",
   "metadata": {},
   "source": [
    "## SynthesizerOperator"
   ]
  },
  {
   "cell_type": "code",
   "execution_count": 7,
   "metadata": {},
   "outputs": [
    {
     "name": "stdout",
     "output_type": "stream",
     "text": [
      "Synthesizer (SDV - SingleTable): Metafile loading time: 0.1065 sec.\n",
      "Synthesizer (SDV - SingleTable): Fitting GaussianCopula.\n",
      "Synthesizer (SDV - SingleTable): Fitting  GaussianCopula spent 8.128 sec.\n",
      "Synthesizer (SDV - SingleTable): Sampling GaussianCopula # 21637 rows (same as raw) in 2.0305 sec.\n",
      "        age  workclass    fnlwgt  education  educational-num  marital-status  \\\n",
      "0  0.664219   0.877736  0.196313   0.561844        -0.340629        0.267078   \n",
      "1 -1.142178   0.961890 -0.184600   0.173993        -0.799866        0.479704   \n",
      "\n",
      "   occupation  relationship      race    gender  capital-gain  capital-loss  \\\n",
      "0    0.025309      0.593232  0.264700  0.447200     -0.145298     -0.216261   \n",
      "1    0.805191      0.552443  0.126146  0.628984     -0.145298     -0.216261   \n",
      "\n",
      "   hours-per-week  native-country    income  \n",
      "0        0.422792        0.374513  0.788171  \n",
      "1        0.149619        0.702036  0.774617  \n"
     ]
    }
   ],
   "source": [
    "from PETsARD.operator import SynthesizerOperator\n",
    "\n",
    "\n",
    "syn = SynthesizerOperator(config=cfg.yaml['Synthesizer']['sdv-gaussian'])\n",
    "syn.run(input={'data': preproc.get_result()})\n",
    "pp.pprint(syn.get_result().head(2))"
   ]
  },
  {
   "cell_type": "markdown",
   "metadata": {},
   "source": [
    "## PostprocessorOperator"
   ]
  },
  {
   "cell_type": "code",
   "execution_count": 8,
   "metadata": {},
   "outputs": [
    {
     "name": "stdout",
     "output_type": "stream",
     "text": [
      "         age  workclass         fnlwgt  education  educational-num  \\\n",
      "0  47.770363  Local-gov  210507.672420  Bachelors         9.212439   \n",
      "1  23.035469        NaN  170300.356166    HS-grad         8.032123   \n",
      "\n",
      "       marital-status      occupation   relationship   race gender  \\\n",
      "0  Married-civ-spouse  Prof-specialty  Not-in-family  White   Male   \n",
      "1       Never-married             NaN  Not-in-family  White   Male   \n",
      "\n",
      "   capital-gain  capital-loss  hours-per-week native-country income  \n",
      "0           0.0           0.0       45.634048  United-States   >50K  \n",
      "1           0.0           0.0       42.279006  United-States   >50K  \n"
     ]
    }
   ],
   "source": [
    "from PETsARD.operator import PostprocessorOperator\n",
    "\n",
    "\n",
    "postproc = PostprocessorOperator(config=cfg.yaml['Postprocessor']['missing-drop'])\n",
    "postproc.run(input={\n",
    "    'preprocessor': preproc.processor,\n",
    "    'data': syn.get_result()\n",
    "})\n",
    "pp.pprint(postproc.get_result().head(2))"
   ]
  },
  {
   "cell_type": "markdown",
   "metadata": {},
   "source": [
    "## EvaluatorOperator"
   ]
  },
  {
   "cell_type": "code",
   "execution_count": 2,
   "metadata": {},
   "outputs": [],
   "source": [
    "eval_data = {\n",
    "    'ori': split.get_result()['train'],\n",
    "    'syn': postproc.get_result(),\n",
    "    'control': split.get_result()['validation'],\n",
    "}"
   ]
  },
  {
   "cell_type": "markdown",
   "metadata": {},
   "source": [
    "Load exist data"
   ]
  },
  {
   "cell_type": "code",
   "execution_count": null,
   "metadata": {},
   "outputs": [],
   "source": [
    "# split.get_result()['train'].to_csv('ori.csv', index=False, encoding='utf-8')\n",
    "# postproc.get_result().to_csv('syn.csv', index=False, encoding='utf-8')\n",
    "# split.get_result()['validation'].to_csv('control.csv', index=False, encoding='utf-8')"
   ]
  },
  {
   "cell_type": "code",
   "execution_count": 1,
   "metadata": {},
   "outputs": [],
   "source": [
    "# from copy import deepcopy\n",
    "# import os\n",
    "# import pprint\n",
    "# import sys\n",
    "\n",
    "# import yaml\n",
    "\n",
    "# sys.path.append(os.path.dirname(os.getcwd()))\n",
    "\n",
    "\n",
    "# from PETsARD import Loader\n",
    "\n",
    "\n",
    "# ori_load = Loader('ori.csv')\n",
    "# syn_load = Loader('syn.csv')\n",
    "# control_load = Loader('control.csv')\n",
    "# ori_load.load()\n",
    "# syn_load.load()\n",
    "# control_load.load()\n",
    "\n",
    "# eval_data = {\n",
    "#     'ori':     syn_load.data,\n",
    "#     'syn':     syn_load.data,\n",
    "#     'control': control_load.data,\n",
    "# }\n",
    "\n",
    "# filename = 'DevTest_Exec_Yaml.yaml'\n",
    "\n",
    "# from PETsARD import Config\n",
    "\n",
    "\n",
    "# cfg = Config(filename=filename)\n",
    "\n",
    "# from PETsARD import Evaluator"
   ]
  },
  {
   "cell_type": "code",
   "execution_count": 10,
   "metadata": {},
   "outputs": [
    {
     "name": "stdout",
     "output_type": "stream",
     "text": [
      "            risk  risk_CI_btm  risk_CI_top  attack_rate  attack_rate_err  \\\n",
      "result  0.998999     0.997997          1.0     0.999041         0.000959   \n",
      "\n",
      "        baseline_rate  baseline_rate_err  control_rate  control_rate_err  \n",
      "result       0.013934           0.005047      0.042753          0.008814  \n",
      "get_columnwise is None\n",
      "get_pairwise is None\n"
     ]
    }
   ],
   "source": [
    "eval_singl = Evaluator(**cfg.yaml['Evaluator']['anony-singlingout'])\n",
    "eval_singl.create(data=eval_data)\n",
    "eval_singl.eval()\n",
    "for method in ['get_global', 'get_columnwise', 'get_pairwise']:\n",
    "    result = eval_singl.__getattribute__(method)()\n",
    "    if result is None:\n",
    "        print(f'{method} is None')\n",
    "    else:\n",
    "        print(result.head(1))"
   ]
  },
  {
   "cell_type": "code",
   "execution_count": 11,
   "metadata": {},
   "outputs": [
    {
     "name": "stdout",
     "output_type": "stream",
     "text": [
      "            risk  risk_CI_btm  risk_CI_top  attack_rate  attack_rate_err  \\\n",
      "result  0.289472      0.26902     0.309924      0.29689         0.020001   \n",
      "\n",
      "        baseline_rate  baseline_rate_err  control_rate  control_rate_err  \n",
      "result       0.006448           0.003374       0.01044           0.00435  \n",
      "get_columnwise is None\n",
      "get_pairwise is None\n"
     ]
    }
   ],
   "source": [
    "eval_link = Evaluator(**cfg.yaml['Evaluator']['anony-linkability'])\n",
    "eval_link.create(data=eval_data)\n",
    "eval_link.eval()\n",
    "for method in ['get_global', 'get_columnwise', 'get_pairwise']:\n",
    "    result = eval_link.__getattribute__(method)()\n",
    "    if result is None:\n",
    "        print(f'{method} is None')\n",
    "    else:\n",
    "        print(result.head(1))"
   ]
  },
  {
   "cell_type": "code",
   "execution_count": 9,
   "metadata": {},
   "outputs": [
    {
     "name": "stdout",
     "output_type": "stream",
     "text": [
      "            risk  risk_CI_btm  risk_CI_top  attack_rate  attack_rate_err  \\\n",
      "result  0.998962     0.997923          1.0     0.999041         0.000959   \n",
      "\n",
      "        baseline_rate  baseline_rate_err  control_rate  control_rate_err  \n",
      "result       0.024413           0.006695      0.076813          0.011631  \n",
      "get_columnwise is None\n",
      "get_pairwise is None\n"
     ]
    }
   ],
   "source": [
    "eval_infer = Evaluator(**cfg.yaml['Evaluator']['anony-inference'])\n",
    "eval_infer.create(data=eval_data)\n",
    "eval_infer.eval()\n",
    "for method in ['get_global', 'get_columnwise', 'get_pairwise']:\n",
    "    result = eval_infer.__getattribute__(method)()\n",
    "    if result is None:\n",
    "        print(f'{method} is None')\n",
    "    else:\n",
    "        print(result.head(1))"
   ]
  },
  {
   "cell_type": "code",
   "execution_count": 6,
   "metadata": {},
   "outputs": [
    {
     "name": "stdout",
     "output_type": "stream",
     "text": [
      "Generating report ...\n",
      "(1/2) Evaluating Data Validity: :   0%|          | 0/15 [00:00<?, ?it/s]"
     ]
    },
    {
     "name": "stdout",
     "output_type": "stream",
     "text": [
      "(1/2) Evaluating Data Validity: : 100%|██████████| 15/15 [00:00<00:00, 381.73it/s]\n",
      "(2/2) Evaluating Data Structure: : 100%|██████████| 1/1 [00:00<00:00, 332.59it/s]\n",
      "\n",
      "Overall Score: 100.0%\n",
      "\n",
      "Properties:\n",
      "- Data Validity: 100.0%\n",
      "- Data Structure: 100.0%\n",
      "        Score  Data Validity  Data Structure\n",
      "result    1.0            1.0             1.0\n",
      "          Property             Metric  Score\n",
      "age  Data Validity  BoundaryAdherence    1.0\n",
      "get_pairwise is None\n"
     ]
    }
   ],
   "source": [
    "eval_diag = Evaluator(**cfg.yaml['Evaluator']['sd-diag'])\n",
    "eval_diag.create(data=eval_data)\n",
    "eval_diag.eval()\n",
    "for method in ['get_global', 'get_columnwise', 'get_pairwise']:\n",
    "    result = eval_diag.__getattribute__(method)()\n",
    "    if result is None:\n",
    "        print(f'{method} is None')\n",
    "    else:\n",
    "        print(result.head(1))"
   ]
  },
  {
   "cell_type": "code",
   "execution_count": 8,
   "metadata": {},
   "outputs": [
    {
     "name": "stdout",
     "output_type": "stream",
     "text": [
      "Generating report ...\n",
      "(1/2) Evaluating Column Shapes: :   0%|          | 0/15 [00:00<?, ?it/s]"
     ]
    },
    {
     "name": "stdout",
     "output_type": "stream",
     "text": [
      "(1/2) Evaluating Column Shapes: : 100%|██████████| 15/15 [00:00<00:00, 195.87it/s]\n",
      "(2/2) Evaluating Column Pair Trends: : 100%|██████████| 105/105 [00:04<00:00, 25.20it/s]\n",
      "\n",
      "Overall Score: 100.0%\n",
      "\n",
      "Properties:\n",
      "- Column Shapes: 100.0%\n",
      "- Column Pair Trends: 100.0%\n",
      "        Score  Column Shapes  Column Pair Trends\n",
      "result    1.0            1.0                 1.0\n",
      "          Property        Metric  Score\n",
      "age  Column Shapes  KSComplement    1.0\n",
      "                            Property                 Metric  Score  \\\n",
      "(age, workclass)  Column Pair Trends  ContingencySimilarity    1.0   \n",
      "\n",
      "                  Real Correlation  Synthetic Correlation  \n",
      "(age, workclass)               NaN                    NaN  \n"
     ]
    }
   ],
   "source": [
    "eval_qlt = Evaluator(**cfg.yaml['Evaluator']['sd-qlt'])\n",
    "eval_qlt.create(data=eval_data)\n",
    "eval_qlt.eval()\n",
    "for method in ['get_global', 'get_columnwise', 'get_pairwise']:\n",
    "    result = eval_qlt.__getattribute__(method)()\n",
    "    if result is None:\n",
    "        print(f'{method} is None')\n",
    "    else:\n",
    "        print(result.head(1))"
   ]
  },
  {
   "cell_type": "code",
   "execution_count": null,
   "metadata": {},
   "outputs": [],
   "source": []
  },
  {
   "cell_type": "code",
   "execution_count": null,
   "metadata": {},
   "outputs": [],
   "source": []
  },
  {
   "cell_type": "code",
   "execution_count": null,
   "metadata": {},
   "outputs": [],
   "source": []
  },
  {
   "cell_type": "code",
   "execution_count": null,
   "metadata": {},
   "outputs": [],
   "source": []
  },
  {
   "cell_type": "code",
   "execution_count": null,
   "metadata": {},
   "outputs": [],
   "source": []
  },
  {
   "cell_type": "code",
   "execution_count": 1,
   "metadata": {},
   "outputs": [
    {
     "ename": "ModuleNotFoundError",
     "evalue": "No module named 'PETsARD'",
     "output_type": "error",
     "traceback": [
      "\u001b[1;31m---------------------------------------------------------------------------\u001b[0m",
      "\u001b[1;31mModuleNotFoundError\u001b[0m                       Traceback (most recent call last)",
      "Cell \u001b[1;32mIn[1], line 1\u001b[0m\n\u001b[1;32m----> 1\u001b[0m \u001b[38;5;28;01mfrom\u001b[39;00m \u001b[38;5;21;01mPETsARD\u001b[39;00m\u001b[38;5;21;01m.\u001b[39;00m\u001b[38;5;21;01moperator\u001b[39;00m \u001b[38;5;28;01mimport\u001b[39;00m EvaluatorOperator\n\u001b[0;32m      4\u001b[0m \u001b[38;5;28meval\u001b[39m \u001b[38;5;241m=\u001b[39m EvaluatorOperator(config\u001b[38;5;241m=\u001b[39mcfg\u001b[38;5;241m.\u001b[39myaml[\u001b[38;5;124m'\u001b[39m\u001b[38;5;124mEvaluator\u001b[39m\u001b[38;5;124m'\u001b[39m][\u001b[38;5;124m'\u001b[39m\u001b[38;5;124manony-singlingout\u001b[39m\u001b[38;5;124m'\u001b[39m])\n\u001b[0;32m      5\u001b[0m \u001b[38;5;28meval\u001b[39m\u001b[38;5;241m.\u001b[39mrun(\u001b[38;5;28minput\u001b[39m\u001b[38;5;241m=\u001b[39m{\u001b[38;5;124m'\u001b[39m\u001b[38;5;124mdata\u001b[39m\u001b[38;5;124m'\u001b[39m: eval_data})\n",
      "\u001b[1;31mModuleNotFoundError\u001b[0m: No module named 'PETsARD'"
     ]
    }
   ],
   "source": [
    "from PETsARD.operator import EvaluatorOperator\n",
    "\n",
    "\n",
    "eval = EvaluatorOperator(config=cfg.yaml['Evaluator']['anony-singlingout'])\n",
    "eval.run(input={'data': eval_data})\n",
    "pp.pprint(eval.get_result()['details']['Column Pair Trends'].head(2))"
   ]
  },
  {
   "cell_type": "code",
   "execution_count": null,
   "metadata": {},
   "outputs": [],
   "source": []
  },
  {
   "cell_type": "code",
   "execution_count": null,
   "metadata": {},
   "outputs": [],
   "source": []
  },
  {
   "cell_type": "code",
   "execution_count": 2,
   "metadata": {},
   "outputs": [
    {
     "ename": "AttributeError",
     "evalue": "'AnonymeterSinglingOutUnivariate' object has no attribute 'data_ori'",
     "output_type": "error",
     "traceback": [
      "\u001b[1;31m---------------------------------------------------------------------------\u001b[0m",
      "\u001b[1;31mAttributeError\u001b[0m                            Traceback (most recent call last)",
      "Cell \u001b[1;32mIn[2], line 11\u001b[0m\n\u001b[0;32m      7\u001b[0m filename \u001b[38;5;241m=\u001b[39m \u001b[38;5;124m'\u001b[39m\u001b[38;5;124mDevTest_Exec_Yaml.yaml\u001b[39m\u001b[38;5;124m'\u001b[39m\n\u001b[0;32m      9\u001b[0m \u001b[38;5;28;01mfrom\u001b[39;00m \u001b[38;5;21;01mPETsARD\u001b[39;00m\u001b[38;5;21;01m.\u001b[39;00m\u001b[38;5;21;01mconfig\u001b[39;00m \u001b[38;5;28;01mimport\u001b[39;00m Config, Status\n\u001b[1;32m---> 11\u001b[0m cfg \u001b[38;5;241m=\u001b[39m \u001b[43mConfig\u001b[49m\u001b[43m(\u001b[49m\u001b[43mfilename\u001b[49m\u001b[38;5;241;43m=\u001b[39;49m\u001b[43mfilename\u001b[49m\u001b[43m)\u001b[49m\n\u001b[0;32m     13\u001b[0m pprint([cfg\u001b[38;5;241m.\u001b[39mconfig\u001b[38;5;241m.\u001b[39mget()      \u001b[38;5;28;01mfor\u001b[39;00m _ \u001b[38;5;129;01min\u001b[39;00m \u001b[38;5;28mrange\u001b[39m(cfg\u001b[38;5;241m.\u001b[39mconfig\u001b[38;5;241m.\u001b[39mqsize()     )])\n\u001b[0;32m     14\u001b[0m pprint([cfg\u001b[38;5;241m.\u001b[39mmodule_flow\u001b[38;5;241m.\u001b[39mget() \u001b[38;5;28;01mfor\u001b[39;00m _ \u001b[38;5;129;01min\u001b[39;00m \u001b[38;5;28mrange\u001b[39m(cfg\u001b[38;5;241m.\u001b[39mmodule_flow\u001b[38;5;241m.\u001b[39mqsize())])\n",
      "File \u001b[1;32md:\\Dropbox\\89_other_application\\GitHub\\PETsARD\\PETsARD\\config.py:82\u001b[0m, in \u001b[0;36mConfig.__init__\u001b[1;34m(self, filename, sequence)\u001b[0m\n\u001b[0;32m     77\u001b[0m \u001b[38;5;28;01mif\u001b[39;00m \u001b[38;5;124m'\u001b[39m\u001b[38;5;124mSplitter\u001b[39m\u001b[38;5;124m'\u001b[39m \u001b[38;5;129;01min\u001b[39;00m \u001b[38;5;28mself\u001b[39m\u001b[38;5;241m.\u001b[39myaml:\n\u001b[0;32m     78\u001b[0m     \u001b[38;5;28mself\u001b[39m\u001b[38;5;241m.\u001b[39myaml[\u001b[38;5;124m'\u001b[39m\u001b[38;5;124mSplitter\u001b[39m\u001b[38;5;124m'\u001b[39m] \u001b[38;5;241m=\u001b[39m \u001b[38;5;28mself\u001b[39m\u001b[38;5;241m.\u001b[39m_splitter_handler(\n\u001b[0;32m     79\u001b[0m         deepcopy(\u001b[38;5;28mself\u001b[39m\u001b[38;5;241m.\u001b[39myaml[\u001b[38;5;124m'\u001b[39m\u001b[38;5;124mSplitter\u001b[39m\u001b[38;5;124m'\u001b[39m])\n\u001b[0;32m     80\u001b[0m     )\n\u001b[1;32m---> 82\u001b[0m \u001b[38;5;28mself\u001b[39m\u001b[38;5;241m.\u001b[39mconfig, \u001b[38;5;28mself\u001b[39m\u001b[38;5;241m.\u001b[39mmodule_flow, \u001b[38;5;28mself\u001b[39m\u001b[38;5;241m.\u001b[39mexpt_flow \u001b[38;5;241m=\u001b[39m \u001b[38;5;28;43mself\u001b[39;49m\u001b[38;5;241;43m.\u001b[39;49m\u001b[43m_set_flow\u001b[49m\u001b[43m(\u001b[49m\u001b[43m)\u001b[49m\n",
      "File \u001b[1;32md:\\Dropbox\\89_other_application\\GitHub\\PETsARD\\PETsARD\\config.py:118\u001b[0m, in \u001b[0;36mConfig._set_flow\u001b[1;34m(self)\u001b[0m\n\u001b[0;32m    115\u001b[0m             expt_flow\u001b[38;5;241m.\u001b[39mput(expt_name)\n\u001b[0;32m    116\u001b[0m             _set_flow_dfs(remaining_modules)\n\u001b[1;32m--> 118\u001b[0m \u001b[43m_set_flow_dfs\u001b[49m\u001b[43m(\u001b[49m\u001b[38;5;28;43mself\u001b[39;49m\u001b[38;5;241;43m.\u001b[39;49m\u001b[43msequence\u001b[49m\u001b[43m)\u001b[49m\n\u001b[0;32m    119\u001b[0m \u001b[38;5;28;01mreturn\u001b[39;00m flow, module_flow, expt_flow\n",
      "File \u001b[1;32md:\\Dropbox\\89_other_application\\GitHub\\PETsARD\\PETsARD\\config.py:116\u001b[0m, in \u001b[0;36mConfig._set_flow.<locals>._set_flow_dfs\u001b[1;34m(modules)\u001b[0m\n\u001b[0;32m    114\u001b[0m module_flow\u001b[38;5;241m.\u001b[39mput(module)\n\u001b[0;32m    115\u001b[0m expt_flow\u001b[38;5;241m.\u001b[39mput(expt_name)\n\u001b[1;32m--> 116\u001b[0m \u001b[43m_set_flow_dfs\u001b[49m\u001b[43m(\u001b[49m\u001b[43mremaining_modules\u001b[49m\u001b[43m)\u001b[49m\n",
      "File \u001b[1;32md:\\Dropbox\\89_other_application\\GitHub\\PETsARD\\PETsARD\\config.py:116\u001b[0m, in \u001b[0;36mConfig._set_flow.<locals>._set_flow_dfs\u001b[1;34m(modules)\u001b[0m\n\u001b[0;32m    114\u001b[0m module_flow\u001b[38;5;241m.\u001b[39mput(module)\n\u001b[0;32m    115\u001b[0m expt_flow\u001b[38;5;241m.\u001b[39mput(expt_name)\n\u001b[1;32m--> 116\u001b[0m \u001b[43m_set_flow_dfs\u001b[49m\u001b[43m(\u001b[49m\u001b[43mremaining_modules\u001b[49m\u001b[43m)\u001b[49m\n",
      "    \u001b[1;31m[... skipping similar frames: Config._set_flow.<locals>._set_flow_dfs at line 116 (2 times)]\u001b[0m\n",
      "File \u001b[1;32md:\\Dropbox\\89_other_application\\GitHub\\PETsARD\\PETsARD\\config.py:116\u001b[0m, in \u001b[0;36mConfig._set_flow.<locals>._set_flow_dfs\u001b[1;34m(modules)\u001b[0m\n\u001b[0;32m    114\u001b[0m module_flow\u001b[38;5;241m.\u001b[39mput(module)\n\u001b[0;32m    115\u001b[0m expt_flow\u001b[38;5;241m.\u001b[39mput(expt_name)\n\u001b[1;32m--> 116\u001b[0m \u001b[43m_set_flow_dfs\u001b[49m\u001b[43m(\u001b[49m\u001b[43mremaining_modules\u001b[49m\u001b[43m)\u001b[49m\n",
      "File \u001b[1;32md:\\Dropbox\\89_other_application\\GitHub\\PETsARD\\PETsARD\\config.py:113\u001b[0m, in \u001b[0;36mConfig._set_flow.<locals>._set_flow_dfs\u001b[1;34m(modules)\u001b[0m\n\u001b[0;32m    111\u001b[0m \u001b[38;5;28;01mif\u001b[39;00m module \u001b[38;5;129;01min\u001b[39;00m \u001b[38;5;28mself\u001b[39m\u001b[38;5;241m.\u001b[39myaml:\n\u001b[0;32m    112\u001b[0m     \u001b[38;5;28;01mfor\u001b[39;00m expt_name, expt_config \u001b[38;5;129;01min\u001b[39;00m \u001b[38;5;28mself\u001b[39m\u001b[38;5;241m.\u001b[39myaml[module]\u001b[38;5;241m.\u001b[39mitems():\n\u001b[1;32m--> 113\u001b[0m         flow\u001b[38;5;241m.\u001b[39mput(\u001b[38;5;28;43meval\u001b[39;49m\u001b[43m(\u001b[49m\u001b[38;5;124;43mf\u001b[39;49m\u001b[38;5;124;43m\"\u001b[39;49m\u001b[38;5;132;43;01m{\u001b[39;49;00m\u001b[43mmodule\u001b[49m\u001b[38;5;132;43;01m}\u001b[39;49;00m\u001b[38;5;124;43mOperator(expt_config)\u001b[39;49m\u001b[38;5;124;43m\"\u001b[39;49m\u001b[43m)\u001b[49m)\n\u001b[0;32m    114\u001b[0m         module_flow\u001b[38;5;241m.\u001b[39mput(module)\n\u001b[0;32m    115\u001b[0m         expt_flow\u001b[38;5;241m.\u001b[39mput(expt_name)\n",
      "File \u001b[1;32m<string>:1\u001b[0m\n",
      "File \u001b[1;32md:\\Dropbox\\89_other_application\\GitHub\\PETsARD\\PETsARD\\operator.py:365\u001b[0m, in \u001b[0;36mEvaluatorOperator.__init__\u001b[1;34m(self, config)\u001b[0m\n\u001b[0;32m    359\u001b[0m \u001b[38;5;250m\u001b[39m\u001b[38;5;124;03m\"\"\"\u001b[39;00m\n\u001b[0;32m    360\u001b[0m \u001b[38;5;124;03mAttributes:\u001b[39;00m\n\u001b[0;32m    361\u001b[0m \u001b[38;5;124;03m    evaluator (Evaluator):\u001b[39;00m\n\u001b[0;32m    362\u001b[0m \u001b[38;5;124;03m        An instance of the Evaluator class initialized with the provided configuration.\u001b[39;00m\n\u001b[0;32m    363\u001b[0m \u001b[38;5;124;03m\"\"\"\u001b[39;00m\n\u001b[0;32m    364\u001b[0m \u001b[38;5;28msuper\u001b[39m()\u001b[38;5;241m.\u001b[39m\u001b[38;5;21m__init__\u001b[39m(config)\n\u001b[1;32m--> 365\u001b[0m \u001b[38;5;28mself\u001b[39m\u001b[38;5;241m.\u001b[39mevaluator \u001b[38;5;241m=\u001b[39m Evaluator(\u001b[38;5;241m*\u001b[39m\u001b[38;5;241m*\u001b[39mconfig)\n",
      "File \u001b[1;32md:\\Dropbox\\89_other_application\\GitHub\\PETsARD\\PETsARD\\evaluator\\evaluator.py:73\u001b[0m, in \u001b[0;36mEvaluator.__init__\u001b[1;34m(self, method, **kwargs)\u001b[0m\n\u001b[0;32m     71\u001b[0m method_code \u001b[38;5;241m=\u001b[39m EvaluatorMap\u001b[38;5;241m.\u001b[39mmap(\u001b[38;5;28mself\u001b[39m\u001b[38;5;241m.\u001b[39mconfig[\u001b[38;5;124m'\u001b[39m\u001b[38;5;124mmethod\u001b[39m\u001b[38;5;124m'\u001b[39m])\n\u001b[0;32m     72\u001b[0m \u001b[38;5;28;01mif\u001b[39;00m method_code \u001b[38;5;241m==\u001b[39m EvaluatorMap\u001b[38;5;241m.\u001b[39mANONYMETER:\n\u001b[1;32m---> 73\u001b[0m     \u001b[38;5;28mself\u001b[39m\u001b[38;5;241m.\u001b[39mevaluator \u001b[38;5;241m=\u001b[39m AnonymeterFactory(\u001b[38;5;241m*\u001b[39m\u001b[38;5;241m*\u001b[39m\u001b[38;5;28mself\u001b[39m\u001b[38;5;241m.\u001b[39mconfig)\u001b[38;5;241m.\u001b[39mcreate()\n\u001b[0;32m     74\u001b[0m \u001b[38;5;28;01melif\u001b[39;00m method_code \u001b[38;5;241m==\u001b[39m EvaluatorMap\u001b[38;5;241m.\u001b[39mSDMETRICS:\n\u001b[0;32m     75\u001b[0m     \u001b[38;5;28mself\u001b[39m\u001b[38;5;241m.\u001b[39mevaluator \u001b[38;5;241m=\u001b[39m SDMetrics(\u001b[38;5;241m*\u001b[39m\u001b[38;5;241m*\u001b[39m\u001b[38;5;28mself\u001b[39m\u001b[38;5;241m.\u001b[39mconfig)\u001b[38;5;241m.\u001b[39mcreate()\n",
      "File \u001b[1;32md:\\Dropbox\\89_other_application\\GitHub\\PETsARD\\PETsARD\\evaluator\\anonymeter.py:63\u001b[0m, in \u001b[0;36mAnonymeterFactory.__init__\u001b[1;34m(self, **kwargs)\u001b[0m\n\u001b[0;32m     60\u001b[0m method_code \u001b[38;5;241m=\u001b[39m AnonymeterMap\u001b[38;5;241m.\u001b[39mmap(config[\u001b[38;5;124m'\u001b[39m\u001b[38;5;124mmethod\u001b[39m\u001b[38;5;124m'\u001b[39m])\n\u001b[0;32m     62\u001b[0m \u001b[38;5;28;01mif\u001b[39;00m method_code \u001b[38;5;241m==\u001b[39m AnonymeterMap\u001b[38;5;241m.\u001b[39mSINGLINGOUT_UNIVARIATE:\n\u001b[1;32m---> 63\u001b[0m     \u001b[38;5;28mself\u001b[39m\u001b[38;5;241m.\u001b[39mevaluator \u001b[38;5;241m=\u001b[39m \u001b[43mAnonymeterSinglingOutUnivariate\u001b[49m\u001b[43m(\u001b[49m\u001b[43mconfig\u001b[49m\u001b[38;5;241;43m=\u001b[39;49m\u001b[43mconfig\u001b[49m\u001b[43m)\u001b[49m\n\u001b[0;32m     64\u001b[0m \u001b[38;5;66;03m# elif method_code == AnonymeterMap.SINGLINGOUT_MULTIVARIATE:\u001b[39;00m\n\u001b[0;32m     65\u001b[0m \u001b[38;5;66;03m#     self.evaluator = AnonymeterSinglingOutMultivariate(config=config)\u001b[39;00m\n\u001b[0;32m     66\u001b[0m \u001b[38;5;28;01melif\u001b[39;00m method_code \u001b[38;5;241m==\u001b[39m AnonymeterMap\u001b[38;5;241m.\u001b[39mLINKABILITY:\n",
      "File \u001b[1;32md:\\Dropbox\\89_other_application\\GitHub\\PETsARD\\PETsARD\\evaluator\\anonymeter.py:316\u001b[0m, in \u001b[0;36mAnonymeterSinglingOutUnivariate.__init__\u001b[1;34m(self, config)\u001b[0m\n\u001b[0;32m    312\u001b[0m \u001b[38;5;28;01mdef\u001b[39;00m \u001b[38;5;21m__init__\u001b[39m(\u001b[38;5;28mself\u001b[39m, config: \u001b[38;5;28mdict\u001b[39m):\n\u001b[0;32m    313\u001b[0m     \u001b[38;5;28msuper\u001b[39m()\u001b[38;5;241m.\u001b[39m\u001b[38;5;21m__init__\u001b[39m(config\u001b[38;5;241m=\u001b[39mconfig)\n\u001b[0;32m    315\u001b[0m     \u001b[38;5;28mself\u001b[39m\u001b[38;5;241m.\u001b[39m_evaluator \u001b[38;5;241m=\u001b[39m SinglingOutEvaluator(\n\u001b[1;32m--> 316\u001b[0m         ori\u001b[38;5;241m=\u001b[39m\u001b[38;5;28;43mself\u001b[39;49m\u001b[38;5;241;43m.\u001b[39;49m\u001b[43mdata_ori\u001b[49m,\n\u001b[0;32m    317\u001b[0m         syn\u001b[38;5;241m=\u001b[39m\u001b[38;5;28mself\u001b[39m\u001b[38;5;241m.\u001b[39mdata_syn,\n\u001b[0;32m    318\u001b[0m         control\u001b[38;5;241m=\u001b[39m\u001b[38;5;28mself\u001b[39m\u001b[38;5;241m.\u001b[39mdata_control,\n\u001b[0;32m    319\u001b[0m         n_attacks\u001b[38;5;241m=\u001b[39m\u001b[38;5;28mself\u001b[39m\u001b[38;5;241m.\u001b[39mconfig[\u001b[38;5;124m'\u001b[39m\u001b[38;5;124mn_attacks\u001b[39m\u001b[38;5;124m'\u001b[39m]\n\u001b[0;32m    320\u001b[0m     )\n",
      "\u001b[1;31mAttributeError\u001b[0m: 'AnonymeterSinglingOutUnivariate' object has no attribute 'data_ori'"
     ]
    }
   ],
   "source": [
    "from copy import deepcopy\n",
    "import sys\n",
    "from pprint import pprint\n",
    "\n",
    "\n",
    "sys.path.append('D:/Dropbox/89_other_application/GitHub/PETsARD')\n",
    "filename = 'DevTest_Exec_Yaml.yaml'\n",
    "\n",
    "from PETsARD.config import Config, Status\n",
    "\n",
    "cfg = Config(filename=filename)\n",
    "\n",
    "pprint([cfg.config.get()      for _ in range(cfg.config.qsize()     )])\n",
    "pprint([cfg.module_flow.get() for _ in range(cfg.module_flow.qsize())])\n",
    "pprint([cfg.expt_flow.get()   for _ in range(cfg.expt_flow.qsize()  )])"
   ]
  },
  {
   "cell_type": "code",
   "execution_count": 3,
   "metadata": {},
   "outputs": [
    {
     "name": "stdout",
     "output_type": "stream",
     "text": [
      "module Loader\n",
      "Loader - Benchmarker: file benchmark\\adult.csv already exist and match SHA-256.\n",
      "                      PETsARD will ignore download and use local data directly.\n",
      "module Splitter\n",
      "module Preprocessor\n",
      "module Synthesizer\n",
      "Synthesizer (SDV - SingleTable): Metafile loading time: 0.0786 sec.\n",
      "Synthesizer (SDV - SingleTable): Fitting GaussianCopula.\n",
      "Synthesizer (SDV - SingleTable): Fitting  GaussianCopula spent 10.2012 sec.\n",
      "Synthesizer (SDV - SingleTable): Sampling GaussianCopula # 21661 rows (same as raw) in 1.4333 sec.\n",
      "module Postprocessor\n",
      "module Evaluator\n",
      "Evaluator (SDMetrics): Evaluating QualityReport.\n",
      "Generating report ...\n",
      "(1/2) Evaluating Column Shapes: : 100%|██████████| 15/15 [00:00<00:00, 72.67it/s]\n",
      "(2/2) Evaluating Column Pair Trends: : 100%|██████████| 105/105 [00:04<00:00, 24.42it/s]\n",
      "\n",
      "Overall Score: 73.44%\n",
      "\n",
      "Properties:\n",
      "- Column Shapes: 90.43%\n",
      "- Column Pair Trends: 56.45%\n",
      "Evaluator (SDMetrics): Evaluating QualityReport spent 4.5076 sec.\n",
      "module Splitter\n",
      "module Preprocessor\n",
      "module Synthesizer\n",
      "Synthesizer (SDV - SingleTable): Metafile loading time: 0.0156 sec.\n",
      "Synthesizer (SDV - SingleTable): Fitting GaussianCopula.\n",
      "Synthesizer (SDV - SingleTable): Fitting  GaussianCopula spent 8.3787 sec.\n",
      "Synthesizer (SDV - SingleTable): Sampling GaussianCopula # 21538 rows (same as raw) in 1.3216 sec.\n",
      "module Postprocessor\n",
      "module Evaluator\n",
      "Evaluator (SDMetrics): Evaluating QualityReport.\n",
      "Generating report ...\n",
      "(1/2) Evaluating Column Shapes: : 100%|██████████| 15/15 [00:00<00:00, 88.20it/s]\n",
      "(2/2) Evaluating Column Pair Trends: : 100%|██████████| 105/105 [00:04<00:00, 23.44it/s]\n",
      "\n",
      "Overall Score: 73.72%\n",
      "\n",
      "Properties:\n",
      "- Column Shapes: 91.42%\n",
      "- Column Pair Trends: 56.01%\n",
      "Evaluator (SDMetrics): Evaluating QualityReport spent 4.6496 sec.\n",
      "module Splitter\n",
      "module Preprocessor\n",
      "module Synthesizer\n",
      "Synthesizer (SDV - SingleTable): Metafile loading time: 0.0316 sec.\n",
      "Synthesizer (SDV - SingleTable): Fitting GaussianCopula.\n",
      "Synthesizer (SDV - SingleTable): Fitting  GaussianCopula spent 6.647 sec.\n",
      "Synthesizer (SDV - SingleTable): Sampling GaussianCopula # 13885 rows (same as raw) in 0.9069 sec.\n",
      "module Postprocessor\n",
      "module Evaluator\n",
      "Evaluator (SDMetrics): Evaluating QualityReport.\n",
      "Generating report ...\n",
      "(1/2) Evaluating Column Shapes: : 100%|██████████| 15/15 [00:00<00:00, 107.78it/s]\n",
      "(2/2) Evaluating Column Pair Trends: : 100%|██████████| 105/105 [00:03<00:00, 27.03it/s]\n",
      "\n",
      "Overall Score: 73.39%\n",
      "\n",
      "Properties:\n",
      "- Column Shapes: 90.45%\n",
      "- Column Pair Trends: 56.34%\n",
      "Evaluator (SDMetrics): Evaluating QualityReport spent 4.0466 sec.\n",
      "module Splitter\n",
      "module Preprocessor\n",
      "module Synthesizer\n",
      "Synthesizer (SDV - SingleTable): Metafile loading time: 0.0331 sec.\n",
      "Synthesizer (SDV - SingleTable): Fitting GaussianCopula.\n",
      "Synthesizer (SDV - SingleTable): Fitting  GaussianCopula spent 6.0811 sec.\n",
      "Synthesizer (SDV - SingleTable): Sampling GaussianCopula # 13417 rows (same as raw) in 0.8138 sec.\n",
      "module Postprocessor\n",
      "module Evaluator\n",
      "Evaluator (SDMetrics): Evaluating QualityReport.\n",
      "Generating report ...\n",
      "(1/2) Evaluating Column Shapes: : 100%|██████████| 15/15 [00:00<00:00, 126.06it/s]\n",
      "(2/2) Evaluating Column Pair Trends: : 100%|██████████| 105/105 [00:03<00:00, 33.00it/s]\n",
      "\n",
      "Overall Score: 73.65%\n",
      "\n",
      "Properties:\n",
      "- Column Shapes: 91.41%\n",
      "- Column Pair Trends: 55.89%\n",
      "Evaluator (SDMetrics): Evaluating QualityReport spent 3.3029 sec.\n"
     ]
    }
   ],
   "source": [
    "cfg = Config(filename=filename)\n",
    "sts: Status = Status(config=cfg)\n",
    "pre_module: str = ''\n",
    "result = {}\n",
    "\n",
    "while cfg.config.qsize() > 0:\n",
    "    ops    = cfg.config.get()\n",
    "    module = cfg.module_flow.get()\n",
    "    expt   = cfg.expt_flow.get()\n",
    "    exclude_index: list = []\n",
    "\n",
    "    print(f\"module {module}\")\n",
    "\n",
    "    ops.run(ops.set_input(status=sts))\n",
    "\n",
    "    sts.put(module, expt, ops)\n",
    "\n",
    "    if module == cfg.sequence[-1]:\n",
    "        full_expt = sts.get_full_expt()\n",
    "        full_expt_str = '_'.join(\n",
    "            [f\"{module}[{expt}]\" for module, expt in full_expt.items()]\n",
    "        )\n",
    "        result[full_expt_str] = deepcopy(sts.get_result(module=module))\n"
   ]
  },
  {
   "cell_type": "code",
   "execution_count": 7,
   "metadata": {},
   "outputs": [
    {
     "name": "stdout",
     "output_type": "stream",
     "text": [
      "{'Loader[adult]_Splitter[0.5_[1|2]]_Preprocessor[missing-drop]_Synthesizer[sdv-gaussian]_Postprocessor[missing-drop]_Evaluator[sd-qlt]': {'details': {'Column Pair Trends':            Column 1         Column 2                 Metric     Score  \\\n",
      "0               age        workclass  ContingencySimilarity  0.864082   \n",
      "1               age           fnlwgt  CorrelationSimilarity  0.997330   \n",
      "2               age        education  ContingencySimilarity  0.387922   \n",
      "3               age  educational-num  CorrelationSimilarity  0.994071   \n",
      "4               age   marital-status  ContingencySimilarity  0.752679   \n",
      "..              ...              ...                    ...       ...   \n",
      "100    capital-loss   native-country  ContingencySimilarity  0.006675   \n",
      "101    capital-loss           income  ContingencySimilarity  0.006675   \n",
      "102  hours-per-week   native-country  ContingencySimilarity  0.523088   \n",
      "103  hours-per-week           income  ContingencySimilarity  0.512204   \n",
      "104  native-country           income  ContingencySimilarity  0.968627   \n",
      "\n",
      "     Real Correlation  Synthetic Correlation Error  \n",
      "0                 NaN                    NaN  None  \n",
      "1           -0.084133              -0.078793  None  \n",
      "2                 NaN                    NaN  None  \n",
      "3            0.037544               0.025686  None  \n",
      "4                 NaN                    NaN  None  \n",
      "..                ...                    ...   ...  \n",
      "100               NaN                    NaN  None  \n",
      "101               NaN                    NaN  None  \n",
      "102               NaN                    NaN  None  \n",
      "103               NaN                    NaN  None  \n",
      "104               NaN                    NaN  None  \n",
      "\n",
      "[105 rows x 7 columns],\n",
      "                                                                                                                                                      'Column Shapes':              Column        Metric     Score\n",
      "0               age  KSComplement  0.937422\n",
      "1         workclass  TVComplement  0.987477\n",
      "2            fnlwgt  KSComplement  0.959258\n",
      "3         education  TVComplement  0.399306\n",
      "4   educational-num  KSComplement  0.791808\n",
      "5    marital-status  TVComplement  0.972359\n",
      "6        occupation  TVComplement  0.984238\n",
      "7      relationship  TVComplement  0.959110\n",
      "8              race  TVComplement  0.990416\n",
      "9            gender  TVComplement  0.998501\n",
      "10     capital-gain  KSComplement  0.918144\n",
      "11     capital-loss  KSComplement  0.953769\n",
      "12   hours-per-week  KSComplement  0.734684\n",
      "13   native-country  TVComplement  0.994143\n",
      "14           income  TVComplement  0.986230},\n",
      "                                                                                                                                          'properties': {'Column Pair Trends': {'Score': 0.563419868864228},\n",
      "                                                                                                                                                         'Column Shapes': {'Score': 0.9044576880072862}},\n",
      "                                                                                                                                          'score': 0.7339387784357572},\n",
      " 'Loader[adult]_Splitter[0.5_[2|2]]_Preprocessor[missing-drop]_Synthesizer[sdv-gaussian]_Postprocessor[missing-drop]_Evaluator[sd-qlt]': {'details': {'Column Pair Trends':            Column 1         Column 2                 Metric     Score  \\\n",
      "0               age        workclass  ContingencySimilarity  0.847235   \n",
      "1               age           fnlwgt  CorrelationSimilarity  0.997039   \n",
      "2               age        education  ContingencySimilarity  0.482551   \n",
      "3               age  educational-num  CorrelationSimilarity  0.981132   \n",
      "4               age   marital-status  ContingencySimilarity  0.812576   \n",
      "..              ...              ...                    ...       ...   \n",
      "100    capital-loss   native-country  ContingencySimilarity  0.005856   \n",
      "101    capital-loss           income  ContingencySimilarity  0.005856   \n",
      "102  hours-per-week   native-country  ContingencySimilarity  0.522767   \n",
      "103  hours-per-week           income  ContingencySimilarity  0.511798   \n",
      "104  native-country           income  ContingencySimilarity  0.966707   \n",
      "\n",
      "     Real Correlation  Synthetic Correlation Error  \n",
      "0                 NaN                    NaN  None  \n",
      "1           -0.070553               -0.06463  None  \n",
      "2                 NaN                    NaN  None  \n",
      "3            0.024523                0.06226  None  \n",
      "4                 NaN                    NaN  None  \n",
      "..                ...                    ...   ...  \n",
      "100               NaN                    NaN  None  \n",
      "101               NaN                    NaN  None  \n",
      "102               NaN                    NaN  None  \n",
      "103               NaN                    NaN  None  \n",
      "104               NaN                    NaN  None  \n",
      "\n",
      "[105 rows x 7 columns],\n",
      "                                                                                                                                                      'Column Shapes':              Column        Metric     Score\n",
      "0               age  KSComplement  0.934136\n",
      "1         workclass  TVComplement  0.995289\n",
      "2            fnlwgt  KSComplement  0.959127\n",
      "3         education  TVComplement  0.529722\n",
      "4   educational-num  KSComplement  0.795728\n",
      "5    marital-status  TVComplement  0.969771\n",
      "6        occupation  TVComplement  0.988561\n",
      "7      relationship  TVComplement  0.959693\n",
      "8              race  TVComplement  0.996860\n",
      "9            gender  TVComplement  0.998403\n",
      "10     capital-gain  KSComplement  0.917202\n",
      "11     capital-loss  KSComplement  0.953810\n",
      "12   hours-per-week  KSComplement  0.735150\n",
      "13   native-country  TVComplement  0.990977\n",
      "14           income  TVComplement  0.987679},\n",
      "                                                                                                                                          'properties': {'Column Pair Trends': {'Score': 0.5589182254826628},\n",
      "                                                                                                                                                         'Column Shapes': {'Score': 0.9141405163295147}},\n",
      "                                                                                                                                          'score': 0.7365293709060887},\n",
      " 'Loader[adult]_Splitter[0.8_[1|2]]_Preprocessor[missing-drop]_Synthesizer[sdv-gaussian]_Postprocessor[missing-drop]_Evaluator[sd-qlt]': {'details': {'Column Pair Trends':            Column 1         Column 2                 Metric     Score  \\\n",
      "0               age        workclass  ContingencySimilarity  0.860989   \n",
      "1               age           fnlwgt  CorrelationSimilarity  0.997124   \n",
      "2               age        education  ContingencySimilarity  0.417520   \n",
      "3               age  educational-num  CorrelationSimilarity  0.979809   \n",
      "4               age   marital-status  ContingencySimilarity  0.803981   \n",
      "..              ...              ...                    ...       ...   \n",
      "100    capital-loss   native-country  ContingencySimilarity  0.006142   \n",
      "101    capital-loss           income  ContingencySimilarity  0.006168   \n",
      "102  hours-per-week   native-country  ContingencySimilarity  0.642455   \n",
      "103  hours-per-week           income  ContingencySimilarity  0.628983   \n",
      "104  native-country           income  ContingencySimilarity  0.969144   \n",
      "\n",
      "     Real Correlation  Synthetic Correlation Error  \n",
      "0                 NaN                    NaN  None  \n",
      "1           -0.079880              -0.074128  None  \n",
      "2                 NaN                    NaN  None  \n",
      "3            0.033417               0.073798  None  \n",
      "4                 NaN                    NaN  None  \n",
      "..                ...                    ...   ...  \n",
      "100               NaN                    NaN  None  \n",
      "101               NaN                    NaN  None  \n",
      "102               NaN                    NaN  None  \n",
      "103               NaN                    NaN  None  \n",
      "104               NaN                    NaN  None  \n",
      "\n",
      "[105 rows x 7 columns],\n",
      "                                                                                                                                                      'Column Shapes':              Column        Metric     Score\n",
      "0               age  KSComplement  0.939974\n",
      "1         workclass  TVComplement  0.990406\n",
      "2            fnlwgt  KSComplement  0.953118\n",
      "3         education  TVComplement  0.445626\n",
      "4   educational-num  KSComplement  0.792555\n",
      "5    marital-status  TVComplement  0.969508\n",
      "6        occupation  TVComplement  0.986049\n",
      "7      relationship  TVComplement  0.961228\n",
      "8              race  TVComplement  0.994047\n",
      "9            gender  TVComplement  0.998668\n",
      "10     capital-gain  KSComplement  0.917616\n",
      "11     capital-loss  KSComplement  0.953574\n",
      "12   hours-per-week  KSComplement  0.684582\n",
      "13   native-country  TVComplement  0.990830\n",
      "14           income  TVComplement  0.987247},\n",
      "                                                                                                                                          'properties': {'Column Pair Trends': {'Score': 0.5644643617691564},\n",
      "                                                                                                                                                         'Column Shapes': {'Score': 0.9043350973808206}},\n",
      "                                                                                                                                          'score': 0.7343997295749884},\n",
      " 'Loader[adult]_Splitter[0.8_[2|2]]_Preprocessor[missing-drop]_Synthesizer[sdv-gaussian]_Postprocessor[missing-drop]_Evaluator[sd-qlt]': {'details': {'Column Pair Trends':            Column 1         Column 2                 Metric     Score  \\\n",
      "0               age        workclass  ContingencySimilarity  0.862986   \n",
      "1               age           fnlwgt  CorrelationSimilarity  0.995481   \n",
      "2               age        education  ContingencySimilarity  0.496924   \n",
      "3               age  educational-num  CorrelationSimilarity  0.984448   \n",
      "4               age   marital-status  ContingencySimilarity  0.797215   \n",
      "..              ...              ...                    ...       ...   \n",
      "100    capital-loss   native-country  ContingencySimilarity  0.006194   \n",
      "101    capital-loss           income  ContingencySimilarity  0.006219   \n",
      "102  hours-per-week   native-country  ContingencySimilarity  0.534664   \n",
      "103  hours-per-week           income  ContingencySimilarity  0.518677   \n",
      "104  native-country           income  ContingencySimilarity  0.965743   \n",
      "\n",
      "     Real Correlation  Synthetic Correlation Error  \n",
      "0                 NaN                    NaN  None  \n",
      "1           -0.077306              -0.068269  None  \n",
      "2                 NaN                    NaN  None  \n",
      "3            0.032280               0.063384  None  \n",
      "4                 NaN                    NaN  None  \n",
      "..                ...                    ...   ...  \n",
      "100               NaN                    NaN  None  \n",
      "101               NaN                    NaN  None  \n",
      "102               NaN                    NaN  None  \n",
      "103               NaN                    NaN  None  \n",
      "104               NaN                    NaN  None  \n",
      "\n",
      "[105 rows x 7 columns],\n",
      "                                                                                                                                                      'Column Shapes':              Column        Metric     Score\n",
      "0               age  KSComplement  0.940683\n",
      "1         workclass  TVComplement  0.990185\n",
      "2            fnlwgt  KSComplement  0.956537\n",
      "3         education  TVComplement  0.505049\n",
      "4   educational-num  KSComplement  0.793418\n",
      "5    marital-status  TVComplement  0.972088\n",
      "6        occupation  TVComplement  0.989152\n",
      "7      relationship  TVComplement  0.965386\n",
      "8              race  TVComplement  0.997839\n",
      "9            gender  TVComplement  0.996903\n",
      "10     capital-gain  KSComplement  0.917309\n",
      "11     capital-loss  KSComplement  0.952525\n",
      "12   hours-per-week  KSComplement  0.762535\n",
      "13   native-country  TVComplement  0.993313\n",
      "14           income  TVComplement  0.980549},\n",
      "                                                                                                                                          'properties': {'Column Pair Trends': {'Score': 0.5601079314382499},\n",
      "                                                                                                                                                         'Column Shapes': {'Score': 0.914231415962855}},\n",
      "                                                                                                                                          'score': 0.7371696737005524}}\n"
     ]
    }
   ],
   "source": [
    "import pprint\n",
    "pp = pprint.PrettyPrinter(depth=1)\n",
    "pp.pprint(result)"
   ]
  },
  {
   "cell_type": "code",
   "execution_count": null,
   "metadata": {},
   "outputs": [],
   "source": []
  },
  {
   "cell_type": "code",
   "execution_count": null,
   "metadata": {},
   "outputs": [],
   "source": []
  },
  {
   "cell_type": "code",
   "execution_count": null,
   "metadata": {},
   "outputs": [],
   "source": []
  },
  {
   "cell_type": "code",
   "execution_count": 10,
   "metadata": {},
   "outputs": [
    {
     "name": "stdout",
     "output_type": "stream",
     "text": [
      "Now is Loader with adult...\n",
      "Loader - Benchmarker: file benchmark\\adult.csv already exist and match SHA-256.\n",
      "                      PETsARD will ignore download and use local data directly.\n",
      "Now is Splitter with 0.8_[1|2]...\n",
      "Now is Preprocessor with missing-drop...\n",
      "Now is Synthesizer with sdv-gaussian...\n",
      "Synthesizer (SDV - SingleTable): Metafile loading time: 0.0156 sec.\n",
      "Synthesizer (SDV - SingleTable): Fitting GaussianCopula.\n",
      "Synthesizer (SDV - SingleTable): Fitting  GaussianCopula spent 8.7702 sec.\n",
      "Synthesizer (SDV - SingleTable): Sampling GaussianCopula # 21595 rows (same as raw) in 1.7304 sec.\n",
      "Now is Postprocessor with missing-drop...\n",
      "Now is Evaluator with sd-qlt...\n",
      "Evaluator (SDMetrics): Evaluating QualityReport.\n",
      "Generating report ...\n",
      "(1/2) Evaluating Column Shapes: : 100%|██████████| 15/15 [00:00<00:00, 83.92it/s]\n",
      "(2/2) Evaluating Column Pair Trends: : 100%|██████████| 105/105 [00:05<00:00, 18.26it/s]\n",
      "\n",
      "Overall Score: 73.91%\n",
      "\n",
      "Properties:\n",
      "- Column Shapes: 90.85%\n",
      "- Column Pair Trends: 56.98%\n",
      "Evaluator (SDMetrics): Evaluating QualityReport spent 5.9479 sec.\n",
      "Now is Splitter with 0.8_[2|2]...\n",
      "Now is Preprocessor with missing-drop...\n",
      "Now is Synthesizer with sdv-gaussian...\n",
      "Synthesizer (SDV - SingleTable): Metafile loading time: 0.0468 sec.\n",
      "Synthesizer (SDV - SingleTable): Fitting GaussianCopula.\n",
      "Synthesizer (SDV - SingleTable): Fitting  GaussianCopula spent 9.8765 sec.\n",
      "Synthesizer (SDV - SingleTable): Sampling GaussianCopula # 21506 rows (same as raw) in 1.5803 sec.\n",
      "Now is Postprocessor with missing-drop...\n",
      "Now is Evaluator with sd-qlt...\n",
      "Evaluator (SDMetrics): Evaluating QualityReport.\n",
      "Generating report ...\n",
      "(1/2) Evaluating Column Shapes: : 100%|██████████| 15/15 [00:00<00:00, 69.19it/s]\n",
      "(2/2) Evaluating Column Pair Trends: : 100%|██████████| 105/105 [00:06<00:00, 16.57it/s]\n",
      "\n",
      "Overall Score: 74.35%\n",
      "\n",
      "Properties:\n",
      "- Column Shapes: 91.15%\n",
      "- Column Pair Trends: 57.56%\n",
      "Evaluator (SDMetrics): Evaluating QualityReport spent 6.5562 sec.\n",
      "Now is Splitter with 0.5_[1|2]...\n",
      "Now is Preprocessor with missing-drop...\n",
      "Now is Synthesizer with sdv-gaussian...\n",
      "Synthesizer (SDV - SingleTable): Metafile loading time: 0.0437 sec.\n",
      "Synthesizer (SDV - SingleTable): Fitting GaussianCopula.\n",
      "Synthesizer (SDV - SingleTable): Fitting  GaussianCopula spent 5.3635 sec.\n",
      "Synthesizer (SDV - SingleTable): Sampling GaussianCopula # 13389 rows (same as raw) in 0.8477 sec.\n",
      "Now is Postprocessor with missing-drop...\n"
     ]
    },
    {
     "ename": "ValueError",
     "evalue": "bins must increase monotonically.",
     "output_type": "error",
     "traceback": [
      "\u001b[1;31m---------------------------------------------------------------------------\u001b[0m",
      "\u001b[1;31mValueError\u001b[0m                                Traceback (most recent call last)",
      "Cell \u001b[1;32mIn[10], line 12\u001b[0m\n\u001b[0;32m      9\u001b[0m \u001b[38;5;28;01mfrom\u001b[39;00m \u001b[38;5;21;01mPETsARD\u001b[39;00m \u001b[38;5;28;01mimport\u001b[39;00m Executor\n\u001b[0;32m     11\u001b[0m exec \u001b[38;5;241m=\u001b[39m Executor(config\u001b[38;5;241m=\u001b[39mfilename)\n\u001b[1;32m---> 12\u001b[0m \u001b[43mexec\u001b[49m\u001b[38;5;241;43m.\u001b[39;49m\u001b[43mrun\u001b[49m\u001b[43m(\u001b[49m\u001b[43m)\u001b[49m\n",
      "File \u001b[1;32mD:\\Dropbox/89_other_application/GitHub/PETsARD\\PETsARD\\executor.py:38\u001b[0m, in \u001b[0;36mExecutor.run\u001b[1;34m(self)\u001b[0m\n\u001b[0;32m     35\u001b[0m expt \u001b[38;5;241m=\u001b[39m \u001b[38;5;28mself\u001b[39m\u001b[38;5;241m.\u001b[39mconfig\u001b[38;5;241m.\u001b[39mexpt_flow\u001b[38;5;241m.\u001b[39mget()\n\u001b[0;32m     37\u001b[0m \u001b[38;5;28mprint\u001b[39m(\u001b[38;5;124mf\u001b[39m\u001b[38;5;124m\"\u001b[39m\u001b[38;5;124mNow is \u001b[39m\u001b[38;5;132;01m{\u001b[39;00mmodule\u001b[38;5;132;01m}\u001b[39;00m\u001b[38;5;124m with \u001b[39m\u001b[38;5;132;01m{\u001b[39;00mexpt\u001b[38;5;132;01m}\u001b[39;00m\u001b[38;5;124m...\u001b[39m\u001b[38;5;124m\"\u001b[39m)\n\u001b[1;32m---> 38\u001b[0m \u001b[43mopr\u001b[49m\u001b[38;5;241;43m.\u001b[39;49m\u001b[43mrun\u001b[49m\u001b[43m(\u001b[49m\u001b[43mopr\u001b[49m\u001b[38;5;241;43m.\u001b[39;49m\u001b[43mset_input\u001b[49m\u001b[43m(\u001b[49m\u001b[43mstatus\u001b[49m\u001b[38;5;241;43m=\u001b[39;49m\u001b[38;5;28;43mself\u001b[39;49m\u001b[38;5;241;43m.\u001b[39;49m\u001b[43mstatus\u001b[49m\u001b[43m)\u001b[49m\u001b[43m)\u001b[49m\n\u001b[0;32m     40\u001b[0m \u001b[38;5;28mself\u001b[39m\u001b[38;5;241m.\u001b[39mstatus\u001b[38;5;241m.\u001b[39mput(module, expt, opr)\n\u001b[0;32m     42\u001b[0m \u001b[38;5;66;03m# collect result\u001b[39;00m\n",
      "File \u001b[1;32mD:\\Dropbox/89_other_application/GitHub/PETsARD\\PETsARD\\operator.py:324\u001b[0m, in \u001b[0;36mPostprocessorOperator.run\u001b[1;34m(self, input)\u001b[0m\n\u001b[0;32m    312\u001b[0m \u001b[38;5;250m\u001b[39m\u001b[38;5;124;03m\"\"\"\u001b[39;00m\n\u001b[0;32m    313\u001b[0m \u001b[38;5;124;03mExecutes the data pre-process using the Processor instance.\u001b[39;00m\n\u001b[0;32m    314\u001b[0m \n\u001b[1;32m   (...)\u001b[0m\n\u001b[0;32m    321\u001b[0m \u001b[38;5;124;03m        An instance of the Processor class initialized with the provided configuration.\u001b[39;00m\n\u001b[0;32m    322\u001b[0m \u001b[38;5;124;03m\"\"\"\u001b[39;00m\n\u001b[0;32m    323\u001b[0m \u001b[38;5;28mself\u001b[39m\u001b[38;5;241m.\u001b[39mprocessor \u001b[38;5;241m=\u001b[39m \u001b[38;5;28minput\u001b[39m[\u001b[38;5;124m'\u001b[39m\u001b[38;5;124mpreprocessor\u001b[39m\u001b[38;5;124m'\u001b[39m]\n\u001b[1;32m--> 324\u001b[0m \u001b[38;5;28mself\u001b[39m\u001b[38;5;241m.\u001b[39mprocessor\u001b[38;5;241m.\u001b[39mdata_postproc \u001b[38;5;241m=\u001b[39m \u001b[38;5;28;43mself\u001b[39;49m\u001b[38;5;241;43m.\u001b[39;49m\u001b[43mprocessor\u001b[49m\u001b[38;5;241;43m.\u001b[39;49m\u001b[43minverse_transform\u001b[49m\u001b[43m(\u001b[49m\u001b[43mdata\u001b[49m\u001b[38;5;241;43m=\u001b[39;49m\u001b[38;5;28;43minput\u001b[39;49m\u001b[43m[\u001b[49m\u001b[38;5;124;43m'\u001b[39;49m\u001b[38;5;124;43mdata\u001b[39;49m\u001b[38;5;124;43m'\u001b[39;49m\u001b[43m]\u001b[49m\u001b[43m)\u001b[49m\n",
      "File \u001b[1;32mD:\\Dropbox/89_other_application/GitHub/PETsARD\\PETsARD\\processor\\base.py:483\u001b[0m, in \u001b[0;36mProcessor.inverse_transform\u001b[1;34m(self, data)\u001b[0m\n\u001b[0;32m    480\u001b[0m         \u001b[38;5;28;01mif\u001b[39;00m obj \u001b[38;5;129;01mis\u001b[39;00m \u001b[38;5;28;01mNone\u001b[39;00m:\n\u001b[0;32m    481\u001b[0m             \u001b[38;5;28;01mcontinue\u001b[39;00m\n\u001b[1;32m--> 483\u001b[0m         transformed[col] \u001b[38;5;241m=\u001b[39m \u001b[43mobj\u001b[49m\u001b[38;5;241;43m.\u001b[39;49m\u001b[43minverse_transform\u001b[49m\u001b[43m(\u001b[49m\u001b[43mtransformed\u001b[49m\u001b[43m[\u001b[49m\u001b[43mcol\u001b[49m\u001b[43m]\u001b[49m\u001b[43m)\u001b[49m\n\u001b[0;32m    485\u001b[0m     logging\u001b[38;5;241m.\u001b[39minfo(\u001b[38;5;124mf\u001b[39m\u001b[38;5;124m'\u001b[39m\u001b[38;5;132;01m{\u001b[39;00mprocessor\u001b[38;5;132;01m}\u001b[39;00m\u001b[38;5;124m inverse transformation done.\u001b[39m\u001b[38;5;124m'\u001b[39m)\n\u001b[0;32m    486\u001b[0m \u001b[38;5;28;01melse\u001b[39;00m:\n\u001b[0;32m    487\u001b[0m     \u001b[38;5;66;03m# if the processor is not a string,\u001b[39;00m\n\u001b[0;32m    488\u001b[0m     \u001b[38;5;66;03m# it should be a mediator, which transforms the data directly.\u001b[39;00m\n",
      "File \u001b[1;32mD:\\Dropbox/89_other_application/GitHub/PETsARD\\PETsARD\\processor\\encoder.py:95\u001b[0m, in \u001b[0;36mEncoder.inverse_transform\u001b[1;34m(self, data)\u001b[0m\n\u001b[0;32m     92\u001b[0m \u001b[38;5;28;01mif\u001b[39;00m \u001b[38;5;129;01mnot\u001b[39;00m \u001b[38;5;28mself\u001b[39m\u001b[38;5;241m.\u001b[39m_is_fitted:\n\u001b[0;32m     93\u001b[0m     \u001b[38;5;28;01mraise\u001b[39;00m UnfittedError(\u001b[38;5;124m'\u001b[39m\u001b[38;5;124mThe object is not fitted. Use .fit() first.\u001b[39m\u001b[38;5;124m'\u001b[39m)\n\u001b[1;32m---> 95\u001b[0m \u001b[38;5;28;01mreturn\u001b[39;00m \u001b[38;5;28;43mself\u001b[39;49m\u001b[38;5;241;43m.\u001b[39;49m\u001b[43m_inverse_transform\u001b[49m\u001b[43m(\u001b[49m\u001b[43mdata\u001b[49m\u001b[43m)\u001b[49m\n",
      "File \u001b[1;32mD:\\Dropbox/89_other_application/GitHub/PETsARD\\PETsARD\\processor\\encoder.py:189\u001b[0m, in \u001b[0;36mEncoderUniform._inverse_transform\u001b[1;34m(self, data)\u001b[0m\n\u001b[0;32m    183\u001b[0m     \u001b[38;5;28;01mraise\u001b[39;00m \u001b[38;5;167;01mValueError\u001b[39;00m(\n\u001b[0;32m    184\u001b[0m         \u001b[38;5;124m\"\u001b[39m\u001b[38;5;124mThe range of the data is out of range.\u001b[39m\u001b[38;5;124m\"\u001b[39m,\n\u001b[0;32m    185\u001b[0m         \u001b[38;5;124m\"\u001b[39m\u001b[38;5;124m Please check the data again.\u001b[39m\u001b[38;5;124m\"\u001b[39m)\n\u001b[0;32m    187\u001b[0m bins_val \u001b[38;5;241m=\u001b[39m np\u001b[38;5;241m.\u001b[39mappend(\u001b[38;5;28mself\u001b[39m\u001b[38;5;241m.\u001b[39mlower_values, \u001b[38;5;241m1.0\u001b[39m)\n\u001b[1;32m--> 189\u001b[0m \u001b[38;5;28;01mreturn\u001b[39;00m \u001b[43mpd\u001b[49m\u001b[38;5;241;43m.\u001b[39;49m\u001b[43mcut\u001b[49m\u001b[43m(\u001b[49m\u001b[43mdata\u001b[49m\u001b[43m,\u001b[49m\u001b[43m \u001b[49m\u001b[43mright\u001b[49m\u001b[38;5;241;43m=\u001b[39;49m\u001b[38;5;28;43;01mFalse\u001b[39;49;00m\u001b[43m,\u001b[49m\u001b[43m \u001b[49m\u001b[43minclude_lowest\u001b[49m\u001b[38;5;241;43m=\u001b[39;49m\u001b[38;5;28;43;01mTrue\u001b[39;49;00m\u001b[43m,\u001b[49m\u001b[43m \u001b[49m\u001b[43mbins\u001b[49m\u001b[38;5;241;43m=\u001b[39;49m\u001b[43mbins_val\u001b[49m\u001b[43m,\u001b[49m\u001b[43m \u001b[49m\n\u001b[0;32m    190\u001b[0m \u001b[43m              \u001b[49m\u001b[43mlabels\u001b[49m\u001b[38;5;241;43m=\u001b[39;49m\u001b[38;5;28;43mself\u001b[39;49m\u001b[38;5;241;43m.\u001b[39;49m\u001b[43mlabels\u001b[49m\u001b[43m,\u001b[49m\u001b[43m \u001b[49m\u001b[43mordered\u001b[49m\u001b[38;5;241;43m=\u001b[39;49m\u001b[38;5;28;43;01mFalse\u001b[39;49;00m\u001b[43m)\u001b[49m\n",
      "File \u001b[1;32md:\\Dropbox\\89_other_application\\GitHub\\PETsARD\\.venv\\lib\\site-packages\\pandas\\core\\reshape\\tile.py:255\u001b[0m, in \u001b[0;36mcut\u001b[1;34m(x, bins, right, labels, retbins, precision, include_lowest, duplicates, ordered)\u001b[0m\n\u001b[0;32m    253\u001b[0m     bins \u001b[38;5;241m=\u001b[39m Index(bins)\n\u001b[0;32m    254\u001b[0m     \u001b[38;5;28;01mif\u001b[39;00m \u001b[38;5;129;01mnot\u001b[39;00m bins\u001b[38;5;241m.\u001b[39mis_monotonic_increasing:\n\u001b[1;32m--> 255\u001b[0m         \u001b[38;5;28;01mraise\u001b[39;00m \u001b[38;5;167;01mValueError\u001b[39;00m(\u001b[38;5;124m\"\u001b[39m\u001b[38;5;124mbins must increase monotonically.\u001b[39m\u001b[38;5;124m\"\u001b[39m)\n\u001b[0;32m    257\u001b[0m fac, bins \u001b[38;5;241m=\u001b[39m _bins_to_cuts(\n\u001b[0;32m    258\u001b[0m     x_idx,\n\u001b[0;32m    259\u001b[0m     bins,\n\u001b[1;32m   (...)\u001b[0m\n\u001b[0;32m    265\u001b[0m     ordered\u001b[38;5;241m=\u001b[39mordered,\n\u001b[0;32m    266\u001b[0m )\n\u001b[0;32m    268\u001b[0m \u001b[38;5;28;01mreturn\u001b[39;00m _postprocess_for_cut(fac, bins, retbins, original)\n",
      "\u001b[1;31mValueError\u001b[0m: bins must increase monotonically."
     ]
    }
   ],
   "source": [
    "from copy import deepcopy\n",
    "import sys\n",
    "from pprint import pprint\n",
    "\n",
    "\n",
    "sys.path.append('D:/Dropbox/89_other_application/GitHub/PETsARD')\n",
    "filename = 'DevTest_Exec_Yaml.yaml'\n",
    "\n",
    "from PETsARD import Executor\n",
    "\n",
    "exec = Executor(config=filename, sequence=['Loader', 'Evaluator'])\n",
    "exec.run()\n"
   ]
  },
  {
   "cell_type": "code",
   "execution_count": null,
   "metadata": {},
   "outputs": [],
   "source": [
    "sts = load('.pkl')\n",
    "exec = Executor(config=filename)\n",
    "exec.status = sts\n",
    "exec.run()"
   ]
  },
  {
   "cell_type": "code",
   "execution_count": 11,
   "metadata": {},
   "outputs": [
    {
     "data": {
      "text/plain": [
       "{'Loader[adult]_Splitter[0.8_[1|2]]_Preprocessor[missing-drop]_Synthesizer[sdv-gaussian]_Postprocessor[missing-drop]_Evaluator[sd-qlt]': {'score': 0.7391440757657324,\n",
       "  'properties': {'Column Shapes': {'Score': 0.9085121891000267},\n",
       "   'Column Pair Trends': {'Score': 0.5697759624314381}},\n",
       "  'details': {'Column Shapes':              Column        Metric     Score\n",
       "   0               age  KSComplement  0.939809\n",
       "   1         workclass  TVComplement  0.993492\n",
       "   2            fnlwgt  KSComplement  0.955519\n",
       "   3         education  TVComplement  0.504252\n",
       "   4   educational-num  KSComplement  0.794910\n",
       "   5    marital-status  TVComplement  0.967206\n",
       "   6        occupation  TVComplement  0.978661\n",
       "   7      relationship  TVComplement  0.963878\n",
       "   8              race  TVComplement  0.994605\n",
       "   9            gender  TVComplement  0.997304\n",
       "   10     capital-gain  KSComplement  0.917974\n",
       "   11     capital-loss  KSComplement  0.953523\n",
       "   12   hours-per-week  KSComplement  0.692639\n",
       "   13   native-country  TVComplement  0.992906\n",
       "   14           income  TVComplement  0.981006,\n",
       "   'Column Pair Trends':            Column 1         Column 2                 Metric     Score  \\\n",
       "   0               age        workclass  ContingencySimilarity  0.860991   \n",
       "   1               age           fnlwgt  CorrelationSimilarity  0.996284   \n",
       "   2               age        education  ContingencySimilarity  0.463361   \n",
       "   3               age  educational-num  CorrelationSimilarity  0.978501   \n",
       "   4               age   marital-status  ContingencySimilarity  0.811024   \n",
       "   ..              ...              ...                    ...       ...   \n",
       "   100    capital-loss   native-country  ContingencySimilarity  0.006142   \n",
       "   101    capital-loss           income  ContingencySimilarity  0.006168   \n",
       "   102  hours-per-week   native-country  ContingencySimilarity  0.641408   \n",
       "   103  hours-per-week           income  ContingencySimilarity  0.627102   \n",
       "   104  native-country           income  ContingencySimilarity  0.965807   \n",
       "   \n",
       "        Real Correlation  Synthetic Correlation Error  \n",
       "   0                 NaN                    NaN  None  \n",
       "   1           -0.081083              -0.073651  None  \n",
       "   2                 NaN                    NaN  None  \n",
       "   3            0.030755               0.073754  None  \n",
       "   4                 NaN                    NaN  None  \n",
       "   ..                ...                    ...   ...  \n",
       "   100               NaN                    NaN  None  \n",
       "   101               NaN                    NaN  None  \n",
       "   102               NaN                    NaN  None  \n",
       "   103               NaN                    NaN  None  \n",
       "   104               NaN                    NaN  None  \n",
       "   \n",
       "   [105 rows x 7 columns]}},\n",
       " 'Loader[adult]_Splitter[0.8_[2|2]]_Preprocessor[missing-drop]_Synthesizer[sdv-gaussian]_Postprocessor[missing-drop]_Evaluator[sd-qlt]': {'score': 0.743507076930898,\n",
       "  'properties': {'Column Shapes': {'Score': 0.9114640131385403},\n",
       "   'Column Pair Trends': {'Score': 0.5755501407232556}},\n",
       "  'details': {'Column Shapes':              Column        Metric     Score\n",
       "   0               age  KSComplement  0.937619\n",
       "   1         workclass  TVComplement  0.994838\n",
       "   2            fnlwgt  KSComplement  0.950981\n",
       "   3         education  TVComplement  0.559000\n",
       "   4   educational-num  KSComplement  0.791627\n",
       "   5    marital-status  TVComplement  0.965812\n",
       "   6        occupation  TVComplement  0.984605\n",
       "   7      relationship  TVComplement  0.958394\n",
       "   8              race  TVComplement  0.993616\n",
       "   9            gender  TVComplement  0.995956\n",
       "   10     capital-gain  KSComplement  0.918128\n",
       "   11     capital-loss  KSComplement  0.953216\n",
       "   12   hours-per-week  KSComplement  0.686369\n",
       "   13   native-country  TVComplement  0.993360\n",
       "   14           income  TVComplement  0.988439,\n",
       "   'Column Pair Trends':            Column 1         Column 2                 Metric     Score  \\\n",
       "   0               age        workclass  ContingencySimilarity  0.864700   \n",
       "   1               age           fnlwgt  CorrelationSimilarity  0.992591   \n",
       "   2               age        education  ContingencySimilarity  0.515546   \n",
       "   3               age  educational-num  CorrelationSimilarity  0.980807   \n",
       "   4               age   marital-status  ContingencySimilarity  0.799885   \n",
       "   ..              ...              ...                    ...       ...   \n",
       "   100    capital-loss   native-country  ContingencySimilarity  0.006398   \n",
       "   101    capital-loss           income  ContingencySimilarity  0.006424   \n",
       "   102  hours-per-week   native-country  ContingencySimilarity  0.646915   \n",
       "   103  hours-per-week           income  ContingencySimilarity  0.633818   \n",
       "   104  native-country           income  ContingencySimilarity  0.972020   \n",
       "   \n",
       "        Real Correlation  Synthetic Correlation Error  \n",
       "   0                 NaN                    NaN  None  \n",
       "   1           -0.081476              -0.066659  None  \n",
       "   2                 NaN                    NaN  None  \n",
       "   3            0.033429               0.071815  None  \n",
       "   4                 NaN                    NaN  None  \n",
       "   ..                ...                    ...   ...  \n",
       "   100               NaN                    NaN  None  \n",
       "   101               NaN                    NaN  None  \n",
       "   102               NaN                    NaN  None  \n",
       "   103               NaN                    NaN  None  \n",
       "   104               NaN                    NaN  None  \n",
       "   \n",
       "   [105 rows x 7 columns]}}}"
      ]
     },
     "execution_count": 11,
     "metadata": {},
     "output_type": "execute_result"
    }
   ],
   "source": [
    "exec.get_result()"
   ]
  }
 ],
 "metadata": {
  "kernelspec": {
   "display_name": ".venv",
   "language": "python",
   "name": "python3"
  },
  "language_info": {
   "codemirror_mode": {
    "name": "ipython",
    "version": 3
   },
   "file_extension": ".py",
   "mimetype": "text/x-python",
   "name": "python",
   "nbconvert_exporter": "python",
   "pygments_lexer": "ipython3",
   "version": "3.10.11"
  }
 },
 "nbformat": 4,
 "nbformat_minor": 2
}
