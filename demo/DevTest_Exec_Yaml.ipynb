{
 "cells": [
  {
   "cell_type": "code",
   "execution_count": 1,
   "metadata": {},
   "outputs": [
    {
     "name": "stdout",
     "output_type": "stream",
     "text": [
      "{'Evaluator': {'sd-qlt': {'method': 'sdmetrics-single_table-qualityreport'}},\n",
      " 'Loader': {'adult': {'filepath': 'benchmark://adult',\n",
      "                      'na_values': {'native-country': '?',\n",
      "                                    'occupation': '?',\n",
      "                                    'workclass': '?'}}},\n",
      " 'Postprocessor': {'missing-drop': None},\n",
      " 'Preprocessor': {'missing-drop': {'encoder': {'education': 'encoder_label',\n",
      "                                               'gender': 'encoder_label',\n",
      "                                               'income': 'encoder_uniform',\n",
      "                                               'marital-status': 'encoder_label',\n",
      "                                               'native-country': 'encoder_uniform',\n",
      "                                               'occupation': 'encoder_uniform',\n",
      "                                               'race': 'encoder_uniform',\n",
      "                                               'relationship': 'encoder_label',\n",
      "                                               'workclass': 'encoder_uniform'},\n",
      "                                   'missing': {'age': 'missing_drop',\n",
      "                                               'capital-gain': 'missing_drop',\n",
      "                                               'capital-loss': 'missing_drop',\n",
      "                                               'education': 'missing_drop',\n",
      "                                               'educational-num': 'missing_drop',\n",
      "                                               'fnlwgt': 'missing_drop',\n",
      "                                               'gender': 'missing_drop',\n",
      "                                               'hours-per-week': 'missing_drop',\n",
      "                                               'income': 'missing_drop',\n",
      "                                               'marital-status': 'missing_drop',\n",
      "                                               'native-country': 'missing_drop',\n",
      "                                               'occupation': 'missing_drop',\n",
      "                                               'race': 'missing_drop',\n",
      "                                               'relationship': 'missing_drop',\n",
      "                                               'workclass': 'missing_drop'},\n",
      "                                   'outlier': {'hours-per-week': 'outlier_iqr'},\n",
      "                                   'scaler': {}}},\n",
      " 'Splitter': {'0.5': {'num_samples': 2, 'train_split_ratio': 0.5},\n",
      "              '0.8': {'num_samples': 2, 'train_split_ratio': 0.8}},\n",
      " 'Synthesizer': {'sdv-gaussian': {'method': 'sdv-singletable-gaussiancopula'}}}\n"
     ]
    }
   ],
   "source": [
    "from copy import deepcopy\n",
    "import sys\n",
    "from pprint import pprint\n",
    "\n",
    "import yaml\n",
    "\n",
    "\n",
    "sys.path.append('D:/Dropbox/89_other_application/GitHub/PETsARD')\n",
    "\n",
    "filename = 'DevTest_Exec_Yaml.yaml'\n",
    "\n",
    "with open(filename, 'r') as yaml_file:\n",
    "    yaml_raw: dict = yaml.safe_load(yaml_file)\n",
    "\n",
    "pprint (yaml_raw)"
   ]
  },
  {
   "cell_type": "code",
   "execution_count": 2,
   "metadata": {},
   "outputs": [
    {
     "name": "stdout",
     "output_type": "stream",
     "text": [
      "{'0.5': {'num_samples': 2, 'train_split_ratio': 0.5},\n",
      " '0.8': {'num_samples': 2, 'train_split_ratio': 0.8}}\n",
      "{'0.5_[1|2]': {'num_samples': 1, 'train_split_ratio': 0.5},\n",
      " '0.5_[2|2]': {'num_samples': 1, 'train_split_ratio': 0.5},\n",
      " '0.8_[1|2]': {'num_samples': 1, 'train_split_ratio': 0.8},\n",
      " '0.8_[2|2]': {'num_samples': 1, 'train_split_ratio': 0.8}}\n"
     ]
    }
   ],
   "source": [
    "# _splitter_handler\n",
    "\n",
    "from PETsARD.config import Config\n",
    "\n",
    "cfg = Config(filename=filename)\n",
    "\n",
    "pprint (yaml_raw['Splitter'])\n",
    "pprint (cfg.yaml['Splitter'])"
   ]
  },
  {
   "cell_type": "code",
   "execution_count": 3,
   "metadata": {},
   "outputs": [
    {
     "name": "stdout",
     "output_type": "stream",
     "text": [
      "Loader - Benchmarker: file benchmark\\adult.csv already exist and match SHA-256.\n",
      "                      PETsARD will ignore download and use local data directly.\n",
      "   age workclass  fnlwgt education  educational-num      marital-status  \\\n",
      "0   25   Private  226802      11th                7       Never-married   \n",
      "1   38   Private   89814   HS-grad                9  Married-civ-spouse   \n",
      "\n",
      "          occupation relationship   race gender  capital-gain  capital-loss  \\\n",
      "0  Machine-op-inspct    Own-child  Black   Male             0             0   \n",
      "1    Farming-fishing      Husband  White   Male             0             0   \n",
      "\n",
      "   hours-per-week native-country income  \n",
      "0              40  United-States  <=50K  \n",
      "1              50  United-States  <=50K  \n"
     ]
    }
   ],
   "source": [
    "from PETsARD.operator import LoaderOperator\n",
    "\n",
    "loading = LoaderOperator(config=cfg.yaml['Loader']['adult'])\n",
    "loading.run(input={})\n",
    "pprint(loading.get_result().head(2))"
   ]
  },
  {
   "cell_type": "code",
   "execution_count": 4,
   "metadata": {},
   "outputs": [
    {
     "name": "stdout",
     "output_type": "stream",
     "text": [
      "train\n",
      "   age  workclass  fnlwgt   education  educational-num      marital-status  \\\n",
      "0   25    Private  226802        11th                7       Never-married   \n",
      "1   28  Local-gov  336951  Assoc-acdm               12  Married-civ-spouse   \n",
      "\n",
      "          occupation relationship   race gender  capital-gain  capital-loss  \\\n",
      "0  Machine-op-inspct    Own-child  Black   Male             0             0   \n",
      "1    Protective-serv      Husband  White   Male             0             0   \n",
      "\n",
      "   hours-per-week native-country income  \n",
      "0              40  United-States  <=50K  \n",
      "1              40  United-States   >50K  \n",
      "validation\n",
      "   age workclass  fnlwgt education  educational-num      marital-status  \\\n",
      "0   38   Private   89814   HS-grad                9  Married-civ-spouse   \n",
      "1   72       NaN  173427   HS-grad                9  Married-civ-spouse   \n",
      "\n",
      "        occupation relationship   race gender  capital-gain  capital-loss  \\\n",
      "0  Farming-fishing      Husband  White   Male             0             0   \n",
      "1              NaN      Husband  White   Male             0             0   \n",
      "\n",
      "   hours-per-week native-country income  \n",
      "0              50  United-States  <=50K  \n",
      "1              40           Cuba  <=50K  \n"
     ]
    }
   ],
   "source": [
    "from PETsARD.operator import SplitterOperator\n",
    "\n",
    "splitting = SplitterOperator(config=cfg.yaml['Splitter']['0.8_[1|2]'])\n",
    "splitting.run(input={'data': loading.get_result()})\n",
    "print('train')\n",
    "pprint(splitting.get_result()['train'].head(2))\n",
    "print('validation')\n",
    "pprint(splitting.get_result()['validation'].head(2))\n"
   ]
  },
  {
   "cell_type": "code",
   "execution_count": 5,
   "metadata": {},
   "outputs": [
    {
     "name": "stdout",
     "output_type": "stream",
     "text": [
      "   age  workclass  fnlwgt  education  educational-num  marital-status  \\\n",
      "0   25   0.657114  226802          1                7               4   \n",
      "1   28   0.859989  336951          7               12               2   \n",
      "\n",
      "   occupation  relationship      race  gender  capital-gain  capital-loss  \\\n",
      "0    0.746602             3  0.891961       1             0             0   \n",
      "1    0.984000             0  0.833341       1             0             0   \n",
      "\n",
      "   hours-per-week  native-country    income  \n",
      "0              40        0.138132  0.231523  \n",
      "1              40        0.744804  0.950319  \n"
     ]
    }
   ],
   "source": [
    "import warnings\n",
    "\n",
    "from PETsARD.operator import PreprocessorOperator\n",
    "\n",
    "with warnings.catch_warnings():\n",
    "    # 忽略 FutureWarning. See Issue # 244: https://github.com/matheme-justyn/PETsARD/issues/244\n",
    "    warnings.simplefilter(action='ignore', category=FutureWarning)\n",
    "\n",
    "    preproc = PreprocessorOperator(config=cfg.yaml['Preprocessor']['missing-drop'])\n",
    "    preproc.run(input={\n",
    "        'data': splitting.get_result()['train'],\n",
    "        'metadata': loading.loader.metadata\n",
    "    })\n",
    "    pprint(preproc.get_result().head(2))"
   ]
  },
  {
   "cell_type": "code",
   "execution_count": 6,
   "metadata": {},
   "outputs": [
    {
     "name": "stdout",
     "output_type": "stream",
     "text": [
      "Synthesizer (SDV - SingleTable): Metafile loading time: 0.0452 sec.\n",
      "Synthesizer (SDV - SingleTable): Fitting GaussianCopula.\n",
      "Synthesizer (SDV - SingleTable): Fitting  GaussianCopula spent 14.282 sec.\n",
      "Synthesizer (SDV - SingleTable): Sampling GaussianCopula # 26631 rows (same as raw) in 1.6842 sec.\n",
      "   age  workclass  fnlwgt  education  educational-num  marital-status  \\\n",
      "0   55   0.524161  176864         11               10               2   \n",
      "1   36   0.643725  378978          6               11               4   \n",
      "\n",
      "   occupation  relationship      race  gender  capital-gain  capital-loss  \\\n",
      "0    0.286894             1  0.360951       1             0             0   \n",
      "1    0.795163             0  0.811977       1             0             0   \n",
      "\n",
      "   hours-per-week  native-country    income  \n",
      "0              36        0.415389  0.982648  \n",
      "1              42        0.049176  0.723963  \n"
     ]
    }
   ],
   "source": [
    "from PETsARD.operator import SynthesizerOperator\n",
    "\n",
    "syn = SynthesizerOperator(config=cfg.yaml['Synthesizer']['sdv-gaussian'])\n",
    "syn.run(input={'data': preproc.get_result()})\n",
    "pprint(syn.get_result().head(2))\n"
   ]
  },
  {
   "cell_type": "code",
   "execution_count": 7,
   "metadata": {},
   "outputs": [
    {
     "name": "stdout",
     "output_type": "stream",
     "text": [
      "   age workclass  fnlwgt education  educational-num      marital-status  \\\n",
      "0   55   Private  176864   HS-grad               10  Married-civ-spouse   \n",
      "1   36       NaN  378978       9th               11       Never-married   \n",
      "\n",
      "     occupation   relationship   race gender  capital-gain  capital-loss  \\\n",
      "0  Craft-repair  Not-in-family  White   Male             0             0   \n",
      "1           NaN        Husband  White   Male             0             0   \n",
      "\n",
      "   hours-per-week native-country income  \n",
      "0              36  United-States   >50K  \n",
      "1              42  United-States  <=50K  \n"
     ]
    }
   ],
   "source": [
    "from PETsARD.operator import PostprocessorOperator\n",
    "\n",
    "postproc = PostprocessorOperator(config=cfg.yaml['Postprocessor']['missing-drop'])\n",
    "postproc.run(input={\n",
    "    'preprocessor': preproc.processor,\n",
    "    'data': syn.get_result()\n",
    "})\n",
    "pprint(postproc.get_result().head(2))"
   ]
  },
  {
   "cell_type": "code",
   "execution_count": 11,
   "metadata": {},
   "outputs": [
    {
     "name": "stdout",
     "output_type": "stream",
     "text": [
      "Evaluator (SDMetrics): Evaluating QualityReport.\n",
      "Generating report ...\n",
      "(1/2) Evaluating Column Shapes: : 100%|██████████| 15/15 [00:00<00:00, 59.24it/s]\n",
      "(2/2) Evaluating Column Pair Trends: : 100%|██████████| 105/105 [00:06<00:00, 15.55it/s]\n",
      "\n",
      "Overall Score: 83.93%\n",
      "\n",
      "Properties:\n",
      "- Column Shapes: 88.08%\n",
      "- Column Pair Trends: 79.79%\n",
      "Evaluator (SDMetrics): Evaluating QualityReport spent 7.0198 sec.\n",
      "  Column 1   Column 2                 Metric     Score  Real Correlation  \\\n",
      "0      age  workclass  ContingencySimilarity  0.892130               NaN   \n",
      "1      age     fnlwgt  CorrelationSimilarity  0.995742         -0.079317   \n",
      "\n",
      "   Synthetic Correlation  \n",
      "0                    NaN  \n",
      "1              -0.070801  \n"
     ]
    }
   ],
   "source": [
    "from PETsARD.operator import EvaluatorOperator\n",
    "\n",
    "evaluating = EvaluatorOperator(config=cfg.yaml['Evaluator']['sd-qlt'])\n",
    "evaluating.run(input={\n",
    "    'data': {\n",
    "        'ori': splitting.get_result()['train'],\n",
    "        'syn': postproc.get_result(),\n",
    "        'control': splitting.get_result()['validation'],\n",
    "    }\n",
    "})\n",
    "pprint(evaluating.get_result()['details']['Column Pair Trends'].head(2))"
   ]
  },
  {
   "cell_type": "code",
   "execution_count": null,
   "metadata": {},
   "outputs": [],
   "source": []
  },
  {
   "cell_type": "code",
   "execution_count": null,
   "metadata": {},
   "outputs": [],
   "source": []
  },
  {
   "cell_type": "code",
   "execution_count": 1,
   "metadata": {},
   "outputs": [],
   "source": [
    "from copy import deepcopy\n",
    "import sys\n",
    "from pprint import pprint\n",
    "\n",
    "\n",
    "sys.path.append('D:/Dropbox/89_other_application/GitHub/PETsARD')\n",
    "filename = 'DevTest_Exec_Yaml.yaml'\n",
    "\n",
    "from PETsARD.config import Config, Status\n",
    "\n",
    "cfg = Config(filename=filename)\n",
    "\n",
    "# pprint([cfg.config.get()      for _ in range(cfg.config.qsize()     )])\n",
    "# pprint([cfg.module_flow.get() for _ in range(cfg.module_flow.qsize())])\n",
    "# pprint([cfg.expt_flow.get()   for _ in range(cfg.expt_flow.qsize()  )])"
   ]
  },
  {
   "cell_type": "code",
   "execution_count": 2,
   "metadata": {},
   "outputs": [
    {
     "name": "stdout",
     "output_type": "stream",
     "text": [
      "module Loader\n",
      "Loader - Benchmarker: file benchmark\\adult.csv already exist and match SHA-256.\n",
      "                      PETsARD will ignore download and use local data directly.\n",
      "module Splitter\n",
      "module Preprocessor\n",
      "module Synthesizer\n",
      "Synthesizer (SDV - SingleTable): Metafile loading time: 0.0245 sec.\n",
      "Synthesizer (SDV - SingleTable): Fitting GaussianCopula.\n",
      "Synthesizer (SDV - SingleTable): Fitting  GaussianCopula spent 12.6798 sec.\n",
      "Synthesizer (SDV - SingleTable): Sampling GaussianCopula # 26679 rows (same as raw) in 1.626 sec.\n",
      "module Postprocessor\n",
      "module Evaluator\n",
      "Evaluator (SDMetrics): Evaluating QualityReport.\n",
      "Generating report ...\n",
      "(1/2) Evaluating Column Shapes: : 100%|██████████| 15/15 [00:00<00:00, 58.05it/s]\n",
      "(2/2) Evaluating Column Pair Trends: : 100%|██████████| 105/105 [00:05<00:00, 18.23it/s]\n",
      "\n",
      "Overall Score: 79.37%\n",
      "\n",
      "Properties:\n",
      "- Column Shapes: 83.03%\n",
      "- Column Pair Trends: 75.71%\n",
      "Evaluator (SDMetrics): Evaluating QualityReport spent 6.0281 sec.\n",
      "module Splitter\n",
      "module Preprocessor\n",
      "module Synthesizer\n",
      "Synthesizer (SDV - SingleTable): Metafile loading time: 0.0278 sec.\n",
      "Synthesizer (SDV - SingleTable): Fitting GaussianCopula.\n",
      "Synthesizer (SDV - SingleTable): Fitting  GaussianCopula spent 12.3376 sec.\n",
      "Synthesizer (SDV - SingleTable): Sampling GaussianCopula # 26700 rows (same as raw) in 1.4316 sec.\n",
      "module Postprocessor\n",
      "module Evaluator\n",
      "Evaluator (SDMetrics): Evaluating QualityReport.\n",
      "Generating report ...\n",
      "(1/2) Evaluating Column Shapes: : 100%|██████████| 15/15 [00:00<00:00, 69.07it/s]\n",
      "(2/2) Evaluating Column Pair Trends: : 100%|██████████| 105/105 [00:05<00:00, 20.00it/s]\n",
      "\n",
      "Overall Score: 80.29%\n",
      "\n",
      "Properties:\n",
      "- Column Shapes: 84.28%\n",
      "- Column Pair Trends: 76.3%\n",
      "Evaluator (SDMetrics): Evaluating QualityReport spent 5.4772 sec.\n",
      "module Splitter\n",
      "module Preprocessor\n",
      "module Synthesizer\n",
      "Synthesizer (SDV - SingleTable): Metafile loading time: 0.021 sec.\n",
      "Synthesizer (SDV - SingleTable): Fitting GaussianCopula.\n",
      "Synthesizer (SDV - SingleTable): Fitting  GaussianCopula spent 8.3837 sec.\n",
      "Synthesizer (SDV - SingleTable): Sampling GaussianCopula # 16646 rows (same as raw) in 0.9882 sec.\n",
      "module Postprocessor\n"
     ]
    },
    {
     "ename": "ValueError",
     "evalue": "Bin edges must be unique: Index([               0.0, 0.9137032559302956, 0.9340476091216076,\n       0.9395089006545212, 0.9441780964689207, 0.9483053320548631,\n       0.9522241213990912, 0.9553508150248051, 0.9582690624088048,\n       0.9611456205444616, 0.9638971109350899, 0.9665652228290325,\n       0.9688998207362322, 0.9710676616500605, 0.9731521240672032,\n       0.9750698294909744, 0.9769458456664027, 0.9787801725934883,\n       0.9805728102722309, 0.9823237587026307,  0.983907950139659,\n       0.9853670738316589, 0.9866594405302873, 0.9879518072289157,\n       0.9891607954308584, 0.9901613373910869, 0.9911618793513154,\n       0.9921624213115439, 0.9931629632717723, 0.9941218159836579,\n       0.9948722224538292, 0.9955809396756578, 0.9962896568974863,\n       0.9968733063742862, 0.9973735773544004, 0.9978738483345145,\n       0.9983741193146287, 0.9988327010464001, 0.9992495935298287,\n       0.9996664860132572,                1.0,                1.0],\n      dtype='float64').\nYou can drop duplicate edges by setting the 'duplicates' kwarg",
     "output_type": "error",
     "traceback": [
      "\u001b[1;31m---------------------------------------------------------------------------\u001b[0m",
      "\u001b[1;31mValueError\u001b[0m                                Traceback (most recent call last)",
      "Cell \u001b[1;32mIn[2], line 23\u001b[0m\n\u001b[0;32m     19\u001b[0m exclude_index: \u001b[38;5;28mlist\u001b[39m \u001b[38;5;241m=\u001b[39m []\n\u001b[0;32m     21\u001b[0m \u001b[38;5;28mprint\u001b[39m(\u001b[38;5;124mf\u001b[39m\u001b[38;5;124m\"\u001b[39m\u001b[38;5;124mmodule \u001b[39m\u001b[38;5;132;01m{\u001b[39;00mmodule\u001b[38;5;132;01m}\u001b[39;00m\u001b[38;5;124m\"\u001b[39m)\n\u001b[1;32m---> 23\u001b[0m \u001b[43moperator\u001b[49m\u001b[38;5;241;43m.\u001b[39;49m\u001b[43mrun\u001b[49m\u001b[43m(\u001b[49m\u001b[43msts\u001b[49m\u001b[38;5;241;43m.\u001b[39;49m\u001b[43mget_input\u001b[49m\u001b[43m(\u001b[49m\u001b[43mmodule\u001b[49m\u001b[38;5;241;43m=\u001b[39;49m\u001b[43mmodule\u001b[49m\u001b[43m)\u001b[49m\u001b[43m)\u001b[49m\n\u001b[0;32m     25\u001b[0m sts\u001b[38;5;241m.\u001b[39mput(module, expt, operator)\n\u001b[0;32m     27\u001b[0m \u001b[38;5;28;01mif\u001b[39;00m module \u001b[38;5;241m==\u001b[39m sequence[\u001b[38;5;241m-\u001b[39m\u001b[38;5;241m1\u001b[39m]:\n",
      "File \u001b[1;32mD:\\Dropbox/89_other_application/GitHub/PETsARD\\PETsARD\\operator.py:231\u001b[0m, in \u001b[0;36mPostprocessorOperator.run\u001b[1;34m(self, input)\u001b[0m\n\u001b[0;32m    222\u001b[0m \u001b[38;5;250m\u001b[39m\u001b[38;5;124;03m\"\"\"\u001b[39;00m\n\u001b[0;32m    223\u001b[0m \u001b[38;5;124;03mExecutes the data pre-process using the Processor instance.\u001b[39;00m\n\u001b[0;32m    224\u001b[0m \n\u001b[1;32m   (...)\u001b[0m\n\u001b[0;32m    227\u001b[0m \u001b[38;5;124;03m        An instance of the Processor class initialized with the provided configuration.\u001b[39;00m\n\u001b[0;32m    228\u001b[0m \u001b[38;5;124;03m\"\"\"\u001b[39;00m\n\u001b[0;32m    229\u001b[0m \u001b[38;5;28mself\u001b[39m\u001b[38;5;241m.\u001b[39mprocessor \u001b[38;5;241m=\u001b[39m \u001b[38;5;28minput\u001b[39m[\u001b[38;5;124m'\u001b[39m\u001b[38;5;124mpreprocessor\u001b[39m\u001b[38;5;124m'\u001b[39m]\n\u001b[0;32m    230\u001b[0m \u001b[38;5;28mself\u001b[39m\u001b[38;5;241m.\u001b[39mprocessor\u001b[38;5;241m.\u001b[39mdata_postproc: pd\u001b[38;5;241m.\u001b[39mDataFrame \u001b[38;5;241m=\u001b[39m \\\n\u001b[1;32m--> 231\u001b[0m     \u001b[38;5;28;43mself\u001b[39;49m\u001b[38;5;241;43m.\u001b[39;49m\u001b[43mprocessor\u001b[49m\u001b[38;5;241;43m.\u001b[39;49m\u001b[43minverse_transform\u001b[49m\u001b[43m(\u001b[49m\u001b[43mdata\u001b[49m\u001b[38;5;241;43m=\u001b[39;49m\u001b[38;5;28;43minput\u001b[39;49m\u001b[43m[\u001b[49m\u001b[38;5;124;43m'\u001b[39;49m\u001b[38;5;124;43mdata\u001b[39;49m\u001b[38;5;124;43m'\u001b[39;49m\u001b[43m]\u001b[49m\u001b[43m)\u001b[49m\n",
      "File \u001b[1;32mD:\\Dropbox/89_other_application/GitHub/PETsARD\\PETsARD\\processor\\base.py:550\u001b[0m, in \u001b[0;36mProcessor.inverse_transform\u001b[1;34m(self, data)\u001b[0m\n\u001b[0;32m    547\u001b[0m         \u001b[38;5;28;01mif\u001b[39;00m obj \u001b[38;5;129;01mis\u001b[39;00m \u001b[38;5;28;01mNone\u001b[39;00m:\n\u001b[0;32m    548\u001b[0m             \u001b[38;5;28;01mcontinue\u001b[39;00m\n\u001b[1;32m--> 550\u001b[0m         transformed[col] \u001b[38;5;241m=\u001b[39m \u001b[43mobj\u001b[49m\u001b[38;5;241;43m.\u001b[39;49m\u001b[43minverse_transform\u001b[49m\u001b[43m(\u001b[49m\u001b[43mtransformed\u001b[49m\u001b[43m[\u001b[49m\u001b[43mcol\u001b[49m\u001b[43m]\u001b[49m\u001b[43m)\u001b[49m\n\u001b[0;32m    552\u001b[0m     logging\u001b[38;5;241m.\u001b[39minfo(\u001b[38;5;124mf\u001b[39m\u001b[38;5;124m'\u001b[39m\u001b[38;5;132;01m{\u001b[39;00mprocessor\u001b[38;5;132;01m}\u001b[39;00m\u001b[38;5;124m inverse transformation done.\u001b[39m\u001b[38;5;124m'\u001b[39m)\n\u001b[0;32m    554\u001b[0m \u001b[38;5;28;01mreturn\u001b[39;00m transformed\n",
      "File \u001b[1;32mD:\\Dropbox/89_other_application/GitHub/PETsARD\\PETsARD\\processor\\encoder.py:95\u001b[0m, in \u001b[0;36mEncoder.inverse_transform\u001b[1;34m(self, data)\u001b[0m\n\u001b[0;32m     92\u001b[0m \u001b[38;5;28;01mif\u001b[39;00m \u001b[38;5;129;01mnot\u001b[39;00m \u001b[38;5;28mself\u001b[39m\u001b[38;5;241m.\u001b[39m_is_fitted:\n\u001b[0;32m     93\u001b[0m     \u001b[38;5;28;01mraise\u001b[39;00m UnfittedError(\u001b[38;5;124m'\u001b[39m\u001b[38;5;124mThe object is not fitted. Use .fit() first.\u001b[39m\u001b[38;5;124m'\u001b[39m)\n\u001b[1;32m---> 95\u001b[0m \u001b[38;5;28;01mreturn\u001b[39;00m \u001b[38;5;28;43mself\u001b[39;49m\u001b[38;5;241;43m.\u001b[39;49m\u001b[43m_inverse_transform\u001b[49m\u001b[43m(\u001b[49m\u001b[43mdata\u001b[49m\u001b[43m)\u001b[49m\n",
      "File \u001b[1;32mD:\\Dropbox/89_other_application/GitHub/PETsARD\\PETsARD\\processor\\encoder.py:189\u001b[0m, in \u001b[0;36mEncoderUniform._inverse_transform\u001b[1;34m(self, data)\u001b[0m\n\u001b[0;32m    183\u001b[0m     \u001b[38;5;28;01mraise\u001b[39;00m \u001b[38;5;167;01mValueError\u001b[39;00m(\n\u001b[0;32m    184\u001b[0m         \u001b[38;5;124m\"\u001b[39m\u001b[38;5;124mThe range of the data is out of range.\u001b[39m\u001b[38;5;124m\"\u001b[39m,\n\u001b[0;32m    185\u001b[0m         \u001b[38;5;124m\"\u001b[39m\u001b[38;5;124m Please check the data again.\u001b[39m\u001b[38;5;124m\"\u001b[39m)\n\u001b[0;32m    187\u001b[0m bins_val \u001b[38;5;241m=\u001b[39m np\u001b[38;5;241m.\u001b[39mappend(\u001b[38;5;28mself\u001b[39m\u001b[38;5;241m.\u001b[39mlower_values, \u001b[38;5;241m1.0\u001b[39m)\n\u001b[1;32m--> 189\u001b[0m \u001b[38;5;28;01mreturn\u001b[39;00m \u001b[43mpd\u001b[49m\u001b[38;5;241;43m.\u001b[39;49m\u001b[43mcut\u001b[49m\u001b[43m(\u001b[49m\u001b[43mdata\u001b[49m\u001b[43m,\u001b[49m\u001b[43m \u001b[49m\u001b[43mright\u001b[49m\u001b[38;5;241;43m=\u001b[39;49m\u001b[38;5;28;43;01mFalse\u001b[39;49;00m\u001b[43m,\u001b[49m\u001b[43m \u001b[49m\u001b[43minclude_lowest\u001b[49m\u001b[38;5;241;43m=\u001b[39;49m\u001b[38;5;28;43;01mTrue\u001b[39;49;00m\u001b[43m,\u001b[49m\u001b[43m \u001b[49m\u001b[43mbins\u001b[49m\u001b[38;5;241;43m=\u001b[39;49m\u001b[43mbins_val\u001b[49m\u001b[43m,\u001b[49m\u001b[43m \u001b[49m\n\u001b[0;32m    190\u001b[0m \u001b[43m              \u001b[49m\u001b[43mlabels\u001b[49m\u001b[38;5;241;43m=\u001b[39;49m\u001b[38;5;28;43mself\u001b[39;49m\u001b[38;5;241;43m.\u001b[39;49m\u001b[43mlabels\u001b[49m\u001b[43m,\u001b[49m\u001b[43m \u001b[49m\u001b[43mordered\u001b[49m\u001b[38;5;241;43m=\u001b[39;49m\u001b[38;5;28;43;01mFalse\u001b[39;49;00m\u001b[43m)\u001b[49m\n",
      "File \u001b[1;32md:\\Dropbox\\89_other_application\\GitHub\\PETsARD\\.venv\\lib\\site-packages\\pandas\\core\\reshape\\tile.py:257\u001b[0m, in \u001b[0;36mcut\u001b[1;34m(x, bins, right, labels, retbins, precision, include_lowest, duplicates, ordered)\u001b[0m\n\u001b[0;32m    254\u001b[0m     \u001b[38;5;28;01mif\u001b[39;00m \u001b[38;5;129;01mnot\u001b[39;00m bins\u001b[38;5;241m.\u001b[39mis_monotonic_increasing:\n\u001b[0;32m    255\u001b[0m         \u001b[38;5;28;01mraise\u001b[39;00m \u001b[38;5;167;01mValueError\u001b[39;00m(\u001b[38;5;124m\"\u001b[39m\u001b[38;5;124mbins must increase monotonically.\u001b[39m\u001b[38;5;124m\"\u001b[39m)\n\u001b[1;32m--> 257\u001b[0m fac, bins \u001b[38;5;241m=\u001b[39m \u001b[43m_bins_to_cuts\u001b[49m\u001b[43m(\u001b[49m\n\u001b[0;32m    258\u001b[0m \u001b[43m    \u001b[49m\u001b[43mx_idx\u001b[49m\u001b[43m,\u001b[49m\n\u001b[0;32m    259\u001b[0m \u001b[43m    \u001b[49m\u001b[43mbins\u001b[49m\u001b[43m,\u001b[49m\n\u001b[0;32m    260\u001b[0m \u001b[43m    \u001b[49m\u001b[43mright\u001b[49m\u001b[38;5;241;43m=\u001b[39;49m\u001b[43mright\u001b[49m\u001b[43m,\u001b[49m\n\u001b[0;32m    261\u001b[0m \u001b[43m    \u001b[49m\u001b[43mlabels\u001b[49m\u001b[38;5;241;43m=\u001b[39;49m\u001b[43mlabels\u001b[49m\u001b[43m,\u001b[49m\n\u001b[0;32m    262\u001b[0m \u001b[43m    \u001b[49m\u001b[43mprecision\u001b[49m\u001b[38;5;241;43m=\u001b[39;49m\u001b[43mprecision\u001b[49m\u001b[43m,\u001b[49m\n\u001b[0;32m    263\u001b[0m \u001b[43m    \u001b[49m\u001b[43minclude_lowest\u001b[49m\u001b[38;5;241;43m=\u001b[39;49m\u001b[43minclude_lowest\u001b[49m\u001b[43m,\u001b[49m\n\u001b[0;32m    264\u001b[0m \u001b[43m    \u001b[49m\u001b[43mduplicates\u001b[49m\u001b[38;5;241;43m=\u001b[39;49m\u001b[43mduplicates\u001b[49m\u001b[43m,\u001b[49m\n\u001b[0;32m    265\u001b[0m \u001b[43m    \u001b[49m\u001b[43mordered\u001b[49m\u001b[38;5;241;43m=\u001b[39;49m\u001b[43mordered\u001b[49m\u001b[43m,\u001b[49m\n\u001b[0;32m    266\u001b[0m \u001b[43m\u001b[49m\u001b[43m)\u001b[49m\n\u001b[0;32m    268\u001b[0m \u001b[38;5;28;01mreturn\u001b[39;00m _postprocess_for_cut(fac, bins, retbins, original)\n",
      "File \u001b[1;32md:\\Dropbox\\89_other_application\\GitHub\\PETsARD\\.venv\\lib\\site-packages\\pandas\\core\\reshape\\tile.py:443\u001b[0m, in \u001b[0;36m_bins_to_cuts\u001b[1;34m(x_idx, bins, right, labels, precision, include_lowest, duplicates, ordered)\u001b[0m\n\u001b[0;32m    441\u001b[0m \u001b[38;5;28;01mif\u001b[39;00m \u001b[38;5;28mlen\u001b[39m(unique_bins) \u001b[38;5;241m<\u001b[39m \u001b[38;5;28mlen\u001b[39m(bins) \u001b[38;5;129;01mand\u001b[39;00m \u001b[38;5;28mlen\u001b[39m(bins) \u001b[38;5;241m!=\u001b[39m \u001b[38;5;241m2\u001b[39m:\n\u001b[0;32m    442\u001b[0m     \u001b[38;5;28;01mif\u001b[39;00m duplicates \u001b[38;5;241m==\u001b[39m \u001b[38;5;124m\"\u001b[39m\u001b[38;5;124mraise\u001b[39m\u001b[38;5;124m\"\u001b[39m:\n\u001b[1;32m--> 443\u001b[0m         \u001b[38;5;28;01mraise\u001b[39;00m \u001b[38;5;167;01mValueError\u001b[39;00m(\n\u001b[0;32m    444\u001b[0m             \u001b[38;5;124mf\u001b[39m\u001b[38;5;124m\"\u001b[39m\u001b[38;5;124mBin edges must be unique: \u001b[39m\u001b[38;5;132;01m{\u001b[39;00m\u001b[38;5;28mrepr\u001b[39m(bins)\u001b[38;5;132;01m}\u001b[39;00m\u001b[38;5;124m.\u001b[39m\u001b[38;5;130;01m\\n\u001b[39;00m\u001b[38;5;124m\"\u001b[39m\n\u001b[0;32m    445\u001b[0m             \u001b[38;5;124mf\u001b[39m\u001b[38;5;124m\"\u001b[39m\u001b[38;5;124mYou can drop duplicate edges by setting the \u001b[39m\u001b[38;5;124m'\u001b[39m\u001b[38;5;124mduplicates\u001b[39m\u001b[38;5;124m'\u001b[39m\u001b[38;5;124m kwarg\u001b[39m\u001b[38;5;124m\"\u001b[39m\n\u001b[0;32m    446\u001b[0m         )\n\u001b[0;32m    447\u001b[0m     bins \u001b[38;5;241m=\u001b[39m unique_bins\n\u001b[0;32m    449\u001b[0m side: Literal[\u001b[38;5;124m\"\u001b[39m\u001b[38;5;124mleft\u001b[39m\u001b[38;5;124m\"\u001b[39m, \u001b[38;5;124m\"\u001b[39m\u001b[38;5;124mright\u001b[39m\u001b[38;5;124m\"\u001b[39m] \u001b[38;5;241m=\u001b[39m \u001b[38;5;124m\"\u001b[39m\u001b[38;5;124mleft\u001b[39m\u001b[38;5;124m\"\u001b[39m \u001b[38;5;28;01mif\u001b[39;00m right \u001b[38;5;28;01melse\u001b[39;00m \u001b[38;5;124m\"\u001b[39m\u001b[38;5;124mright\u001b[39m\u001b[38;5;124m\"\u001b[39m\n",
      "\u001b[1;31mValueError\u001b[0m: Bin edges must be unique: Index([               0.0, 0.9137032559302956, 0.9340476091216076,\n       0.9395089006545212, 0.9441780964689207, 0.9483053320548631,\n       0.9522241213990912, 0.9553508150248051, 0.9582690624088048,\n       0.9611456205444616, 0.9638971109350899, 0.9665652228290325,\n       0.9688998207362322, 0.9710676616500605, 0.9731521240672032,\n       0.9750698294909744, 0.9769458456664027, 0.9787801725934883,\n       0.9805728102722309, 0.9823237587026307,  0.983907950139659,\n       0.9853670738316589, 0.9866594405302873, 0.9879518072289157,\n       0.9891607954308584, 0.9901613373910869, 0.9911618793513154,\n       0.9921624213115439, 0.9931629632717723, 0.9941218159836579,\n       0.9948722224538292, 0.9955809396756578, 0.9962896568974863,\n       0.9968733063742862, 0.9973735773544004, 0.9978738483345145,\n       0.9983741193146287, 0.9988327010464001, 0.9992495935298287,\n       0.9996664860132572,                1.0,                1.0],\n      dtype='float64').\nYou can drop duplicate edges by setting the 'duplicates' kwarg"
     ]
    }
   ],
   "source": [
    "import warnings\n",
    "\n",
    "with warnings.catch_warnings():\n",
    "    # 忽略 FutureWarning. See Issue # 244: https://github.com/matheme-justyn/PETsARD/issues/244\n",
    "    warnings.simplefilter(action='ignore', category=FutureWarning)\n",
    "\n",
    "    sequence = [\n",
    "        'Loader', 'Splitter', 'Preprocessor', 'Synthesizer', 'Postprocessor', 'Evaluator'\n",
    "    ]\n",
    "\n",
    "    sts: Status = Status(sequence=sequence)\n",
    "    pre_module: str = ''\n",
    "    result = {}\n",
    "\n",
    "    while cfg.config.qsize() > 0:\n",
    "        operator = cfg.config.get()\n",
    "        module   = cfg.module_flow.get()\n",
    "        expt     = cfg.expt_flow.get()\n",
    "        exclude_index: list = []\n",
    "\n",
    "        print(f\"module {module}\")\n",
    "        \n",
    "        operator.run(sts.get_input(module=module))\n",
    "\n",
    "        sts.put(module, expt, operator)\n",
    "\n",
    "        if module == sequence[-1]:\n",
    "            full_expt = sts.get_full_expt()\n",
    "            full_expt_str = '_'.join(\n",
    "                [f\"{module}[{expt}]\" for module, expt in full_expt.items()]\n",
    "            )\n",
    "            result[full_expt_str] = deepcopy(sts.get_result(module=module))\n"
   ]
  },
  {
   "cell_type": "code",
   "execution_count": 4,
   "metadata": {},
   "outputs": [
    {
     "name": "stdout",
     "output_type": "stream",
     "text": [
      "dict_keys(['Loader[adult]_Splitter[0.8_[1|2]]_Preprocessor[missing-drop]_Synthesizer[sdv-gaussian]_Postprocessor[missing-drop]_Evaluator[sd-qlt]', 'Loader[adult]_Splitter[0.8_[2|2]]_Preprocessor[missing-drop]_Synthesizer[sdv-gaussian]_Postprocessor[missing-drop]_Evaluator[sd-qlt]'])\n"
     ]
    }
   ],
   "source": [
    "import pprint\n",
    "pp = pprint.PrettyPrinter(depth=1)\n",
    "pp.pprint(result.keys())"
   ]
  }
 ],
 "metadata": {
  "kernelspec": {
   "display_name": ".venv",
   "language": "python",
   "name": "python3"
  },
  "language_info": {
   "codemirror_mode": {
    "name": "ipython",
    "version": 3
   },
   "file_extension": ".py",
   "mimetype": "text/x-python",
   "name": "python",
   "nbconvert_exporter": "python",
   "pygments_lexer": "ipython3",
   "version": "3.10.11"
  }
 },
 "nbformat": 4,
 "nbformat_minor": 2
}
