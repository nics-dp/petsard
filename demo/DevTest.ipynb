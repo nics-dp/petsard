{
 "cells": [
  {
   "cell_type": "code",
   "execution_count": 1,
   "metadata": {},
   "outputs": [],
   "source": [
    "import os\n",
    "import sys\n",
    "\n",
    "sys.path.append('D:\\\\Dropbox\\\\89_其他應用\\\\GitHub\\\\PETs-Experiment')\n",
    "os.chdir('D:\\\\Dropbox\\\\89_其他應用\\\\GitHub\\\\PETs-Experiment\\\\demo')\n",
    "import PETs_Experiment"
   ]
  },
  {
   "cell_type": "code",
   "execution_count": 2,
   "metadata": {},
   "outputs": [
    {
     "name": "stdout",
     "output_type": "stream",
     "text": [
      "   age workclass  fnlwgt education  educational-num marital-status  \\\n",
      "0   25   Private  226802      11th                7  Never-married   \n",
      "\n",
      "          occupation relationship   race gender  capital-gain  capital-loss  \\\n",
      "0  Machine-op-inspct    Own-child  Black   Male             0             0   \n",
      "\n",
      "   hours-per-week native-country income  \n",
      "0              40  United-States  <=50K  \n"
     ]
    }
   ],
   "source": [
    "loader = PETs_Experiment.Loader(filepath = '../[sunset]/data/[Adt Income] adult.csv'\n",
    "                               ,na_values = {k : '?' for k in ['workclass'\n",
    "                                                              ,'occupation'\n",
    "                                                              ,'native-country'\n",
    "                                                              ]\n",
    "                                            }\n",
    "                               )\n",
    "print(loader.data.head(1))"
   ]
  },
  {
   "cell_type": "code",
   "execution_count": 3,
   "metadata": {},
   "outputs": [
    {
     "name": "stdout",
     "output_type": "stream",
     "text": [
      "39073\n",
      "9769\n",
      "   age workclass  fnlwgt education  educational-num marital-status  \\\n",
      "0   25   Private  226802      11th                7  Never-married   \n",
      "\n",
      "          occupation relationship   race gender  capital-gain  capital-loss  \\\n",
      "0  Machine-op-inspct    Own-child  Black   Male             0             0   \n",
      "\n",
      "   hours-per-week native-country income  \n",
      "0              40  United-States  <=50K  \n",
      "   age workclass  fnlwgt  education  educational-num marital-status  \\\n",
      "0   33       NaN  119918  Bachelors               13  Never-married   \n",
      "\n",
      "  occupation   relationship   race gender  capital-gain  capital-loss  \\\n",
      "0        NaN  Not-in-family  Black   Male             0             0   \n",
      "\n",
      "   hours-per-week native-country income  \n",
      "0              45            NaN  <=50K  \n"
     ]
    }
   ],
   "source": [
    "splitter = PETs_Experiment.Splitter(data              = loader.data\n",
    "                                   ,num_samples       = 30\n",
    "                                   ,train_split_ratio = 0.8)\n",
    "print(splitter.data[0]['train'     ].shape[0])\n",
    "print(splitter.data[0]['validation'].shape[0])\n",
    "print(splitter.data[0]['train'     ].head(1) )\n",
    "print(splitter.data[0]['validation'].head(1) )"
   ]
  },
  {
   "cell_type": "code",
   "execution_count": 4,
   "metadata": {},
   "outputs": [
    {
     "name": "stdout",
     "output_type": "stream",
     "text": [
      "Preprocessor - Missingist (Drop): Dropped 2896 rows.\n",
      "Preprocessor - Outlierist (IQR): Dropped  3032 rows on capital-gain   . Kept [0.0, 0.0] only.\n",
      "Preprocessor - Outlierist (IQR): Dropped  1719 rows on capital-loss   . Kept [0.0, 0.0] only.\n",
      "Preprocessor - Outlierist (IQR): Dropped  1037 rows on fnlwgt         . Kept [-64105.5, 419810.5] only.\n",
      "Preprocessor - Outlierist (IQR): Dropped   215 rows on age            . Kept [-0.5, 75.5] only.\n",
      "Preprocessor - Outlierist (IQR): Dropped   231 rows on educational-num. Kept [3.0, 19.0] only.\n",
      "Preprocessor - Outlierist (IQR): Totally Dropped  6032 in 36177 rows.\n",
      "Preprocessor - Encoder (Label): Column education       been labelized from 0 to 13.\n",
      "Preprocessor - Encoder (Label): Column relationship    been labelized from 0 to  5.\n",
      "Preprocessor - Encoder (Label): Column workclass       been labelized from 0 to  6.\n",
      "Preprocessor - Encoder (Label): Column native-country  been labelized from 0 to 39.\n",
      "Preprocessor - Encoder (Label): Column gender          been labelized from 0 to  1.\n",
      "Preprocessor - Encoder (Label): Column occupation      been labelized from 0 to 13.\n",
      "Preprocessor - Encoder (Label): Column marital-status  been labelized from 0 to  6.\n",
      "Preprocessor - Encoder (Label): Column race            been labelized from 0 to  4.\n",
      "Preprocessor - Encoder (Label): Column income          been labelized from 0 to  1.\n",
      "Preprocessor - Scaler (Standard): Column fnlwgt been standardized.\n",
      "\n",
      "\n",
      "\n",
      "\n",
      "   age  workclass  fnlwgt  education  educational-num  marital-status  \\\n",
      "0   25          2     0.0          1                7               4   \n",
      "\n",
      "   occupation  relationship  race  gender  capital-gain  capital-loss  \\\n",
      "0           6             3     2       1             0             0   \n",
      "\n",
      "   hours-per-week  native-country  income  \n",
      "0              40              37       0  \n",
      "\n",
      "\n",
      "\n",
      "\n",
      "{'education': LabelEncoder(), 'relationship': LabelEncoder(), 'workclass': LabelEncoder(), 'native-country': LabelEncoder(), 'gender': LabelEncoder(), 'occupation': LabelEncoder(), 'marital-status': LabelEncoder(), 'race': LabelEncoder(), 'income': LabelEncoder()}\n",
      "\n",
      "\n",
      "\n",
      "\n",
      "{'fnlwgt': StandardScaler()}\n"
     ]
    }
   ],
   "source": [
    "preproc = PETs_Experiment.Preprocessor(\n",
    "     data = splitter.data[0]['train']\n",
    "    ,missing=True\n",
    "        ,missing_method  = 'drop'\n",
    "        ,missing_columns = None\n",
    "    ,outlier=True\n",
    "        ,outlier_method  = 'IQR'\n",
    "        ,outlier_columns = {'ignore': ['hours-per-week']}\n",
    "    ,encoding=True\n",
    "        ,encoding_method  = 'Label'\n",
    "        ,encoding_columns = None\n",
    "    ,scaling=True\n",
    "        ,scaling_method  = 'Standard'\n",
    "        ,scaling_columns = {'focus' : 'fnlwgt'}\n",
    ")\n",
    "print('\\n\\n\\n')\n",
    "print(preproc.data.head(1))\n",
    "print('\\n\\n\\n')\n",
    "print(preproc.encoder)\n",
    "print('\\n\\n\\n')\n",
    "print(preproc.scaler)"
   ]
  },
  {
   "cell_type": "code",
   "execution_count": 5,
   "metadata": {},
   "outputs": [
    {
     "name": "stdout",
     "output_type": "stream",
     "text": [
      "Synthesizer (SDV - SingleTable): Metafile loading time: 0.0222 sec.\n",
      "Synthesizer (SDV - SingleTable): Fitting  GaussianCoupula.\n",
      "Synthesizer (SDV - SingleTable): Fitting  GaussianCoupula spent 14.968 sec.\n",
      "Synthesizer (SDV - SingleTable): Sampling GaussianCoupula # 30145 rows (same as raw) in 1.156 sec.\n",
      "   age  workclass  fnlwgt  education  educational-num  marital-status  \\\n",
      "0   58          1     0.0         10               11               2   \n",
      "\n",
      "   occupation  relationship  race  gender  capital-gain  capital-loss  \\\n",
      "0          13             4     4       1             0             0   \n",
      "\n",
      "   hours-per-week  native-country  income  \n",
      "0              30              39       0  \n"
     ]
    }
   ],
   "source": [
    "synthesizer = PETs_Experiment.Synthesizer(data = preproc.data\n",
    "                                         ,synthesizing_method = 'sdv-singletable-gaussiancoupula'\n",
    "                                         )\n",
    "synthesizer.fit_sample()\n",
    "print(synthesizer.data_syn.head(1))"
   ]
  },
  {
   "cell_type": "code",
   "execution_count": 6,
   "metadata": {},
   "outputs": [
    {
     "name": "stdout",
     "output_type": "stream",
     "text": [
      "Postprocessor - Scaler (StandardScaler): Decoding fnlwgt.\n",
      "Postprocessor - Encoder (LabelEncoder): Decoding education.\n",
      "Postprocessor - Encoder (LabelEncoder): Decoding relationship.\n",
      "Postprocessor - Encoder (LabelEncoder): Decoding workclass.\n",
      "Postprocessor - Encoder (LabelEncoder): Decoding native-country.\n",
      "Postprocessor - Encoder (LabelEncoder): Decoding gender.\n",
      "Postprocessor - Encoder (LabelEncoder): Decoding occupation.\n",
      "Postprocessor - Encoder (LabelEncoder): Decoding marital-status.\n",
      "Postprocessor - Encoder (LabelEncoder): Decoding race.\n",
      "Postprocessor - Encoder (LabelEncoder): Decoding income.\n",
      "   age  workclass    fnlwgt education  educational-num      marital-status  \\\n",
      "0   58  Local-gov  226802.0   HS-grad               11  Married-civ-spouse   \n",
      "\n",
      "         occupation relationship   race gender  capital-gain  capital-loss  \\\n",
      "0  Transport-moving    Unmarried  White   Male             0             0   \n",
      "\n",
      "   hours-per-week native-country income  \n",
      "0              30     Yugoslavia  <=50K  \n"
     ]
    }
   ],
   "source": [
    "postproc = PETs_Experiment.Postprocessor(data = synthesizer.data_syn\n",
    "                                        ,encoder = getattr(preproc ,'encoder' ,None)\n",
    "                                        ,scaler  = getattr(preproc ,'scaler'  ,None)\n",
    "                                        )\n",
    "print(postproc.data.head(1))"
   ]
  },
  {
   "cell_type": "code",
   "execution_count": 1,
   "metadata": {},
   "outputs": [
    {
     "name": "stdout",
     "output_type": "stream",
     "text": [
      "====== ====== ====== ====== ====== ======\n",
      "Executor: Total execution time: 18.9125 sec.\n",
      "====== ====== ====== ====== ====== ======\n",
      "[Adt Income] adult.csv\n",
      "   age workclass  fnlwgt education  educational-num marital-status  \\\n",
      "0   25   Private  226802      11th                7  Never-married   \n",
      "\n",
      "          occupation relationship   race gender  capital-gain  capital-loss  \\\n",
      "0  Machine-op-inspct    Own-child  Black   Male             0             0   \n",
      "\n",
      "   hours-per-week native-country income  \n",
      "0              40  United-States  <=50K  \n"
     ]
    }
   ],
   "source": [
    "import os\n",
    "import sys\n",
    "\n",
    "sys.path.append('D:\\\\Dropbox\\\\89_其他應用\\\\GitHub\\\\PETs-Experiment')\n",
    "os.chdir('D:\\\\Dropbox\\\\89_其他應用\\\\GitHub\\\\PETs-Experiment\\\\demo')\n",
    "import PETs_Experiment\n",
    "\n",
    "para_Executor = {\n",
    "     'Loader_filepath'  : '../[sunset]/data/[Adt Income] adult.csv'\n",
    "    ,'Loader_na_values' : {k : '?' for k in ['workclass' ,'occupation' ,'native-country']}\n",
    "    ,'Splitter_num_samples'       : 2\n",
    "    ,'Splitter_train_split_ratio' : 0.8\n",
    "    ,'Preprocessor_missing_method'  : 'drop'\n",
    "    ,'Preprocessor_outlier_method'  : 'IQR'\n",
    "    ,'Preprocessor_outlier_columns' : {'ignore': ['hours-per-week']}\n",
    "    ,'Preprocessor_encoding_method' : 'Label'\n",
    "    ,'Preprocessor_scaling'         : True\n",
    "    ,'Preprocessor_scaling_method'  : 'Standard'\n",
    "    ,'Preprocessor_scaling_columns' : {'focus' : 'fnlwgt'}\n",
    "    ,'Synthesizer_synthesizing_method' : 'sdv-singletable-gaussiancoupula'\n",
    "}\n",
    "\n",
    "executor = PETs_Experiment.Executor(**para_Executor)\n",
    "executor.run()\n",
    "\n",
    "\n",
    "for k ,v in executor.loader.items():\n",
    "    print(k)\n",
    "    print(v.data.head(1))"
   ]
  },
  {
   "cell_type": "code",
   "execution_count": 1,
   "metadata": {},
   "outputs": [
    {
     "ename": "KeyboardInterrupt",
     "evalue": "",
     "output_type": "error",
     "traceback": [
      "\u001b[1;31m---------------------------------------------------------------------------\u001b[0m",
      "\u001b[1;31mKeyboardInterrupt\u001b[0m                         Traceback (most recent call last)",
      "Cell \u001b[1;32mIn[1], line 39\u001b[0m\n\u001b[0;32m      8\u001b[0m para_Executor \u001b[39m=\u001b[39m {\n\u001b[0;32m      9\u001b[0m      \u001b[39m'\u001b[39m\u001b[39mLoader\u001b[39m\u001b[39m'\u001b[39m : {\n\u001b[0;32m     10\u001b[0m          \u001b[39m'\u001b[39m\u001b[39madult\u001b[39m\u001b[39m'\u001b[39m  : {\u001b[39m'\u001b[39m\u001b[39mfilepath\u001b[39m\u001b[39m'\u001b[39m   : \u001b[39m'\u001b[39m\u001b[39m../[sunset]/data/[Adt Income] adult.csv\u001b[39m\u001b[39m'\u001b[39m\n\u001b[1;32m   (...)\u001b[0m\n\u001b[0;32m     35\u001b[0m     }\n\u001b[0;32m     36\u001b[0m }\n\u001b[0;32m     38\u001b[0m executor \u001b[39m=\u001b[39m PETs_Experiment\u001b[39m.\u001b[39mExecutor(\u001b[39m*\u001b[39m\u001b[39m*\u001b[39mpara_Executor)\n\u001b[1;32m---> 39\u001b[0m executor\u001b[39m.\u001b[39;49mrun()\n\u001b[0;32m     43\u001b[0m \u001b[39m# for k ,v in executor.loader.items():\u001b[39;00m\n\u001b[0;32m     44\u001b[0m \u001b[39m#     print(k)\u001b[39;00m\n\u001b[0;32m     45\u001b[0m \u001b[39m#     print(v.data.head(1))\u001b[39;00m\n",
      "File \u001b[1;32mD:\\Dropbox\\89_其他應用\\GitHub\\PETs-Experiment\\PETs_Experiment\\Executor.py:165\u001b[0m, in \u001b[0;36mExecutor.run\u001b[1;34m(self)\u001b[0m\n\u001b[0;32m    158\u001b[0m     \u001b[39mfor\u001b[39;00m _syn_trial ,(_syn_trial_name ,_syn_para) \u001b[39min\u001b[39;00m \u001b[39menumerate\u001b[39m(\u001b[39mself\u001b[39m\u001b[39m.\u001b[39mpara[\u001b[39m'\u001b[39m\u001b[39mSynthesizer_setting\u001b[39m\u001b[39m'\u001b[39m]\u001b[39m.\u001b[39mitems()):\n\u001b[0;32m    159\u001b[0m         _trials[\u001b[39m'\u001b[39m\u001b[39msyn\u001b[39m\u001b[39m'\u001b[39m] \u001b[39m=\u001b[39m {\u001b[39m'\u001b[39m\u001b[39mtrial\u001b[39m\u001b[39m'\u001b[39m         : _syn_trial\u001b[39m+\u001b[39m\u001b[39m1\u001b[39m\n\u001b[0;32m    160\u001b[0m                             ,\u001b[39m'\u001b[39m\u001b[39mtrial_name\u001b[39m\u001b[39m'\u001b[39m : _syn_trial_name\n\u001b[0;32m    161\u001b[0m                             ,\u001b[39m'\u001b[39m\u001b[39mtrial_max\u001b[39m\u001b[39m'\u001b[39m  : _syn_trial_max}\n\u001b[0;32m    162\u001b[0m         _syn_result \u001b[39m=\u001b[39m _syn_executor\u001b[39m.\u001b[39;49msubmit(\u001b[39mself\u001b[39;49m\u001b[39m.\u001b[39;49m_run_single_synthesizer\n\u001b[0;32m    163\u001b[0m                                             ,_preproc_result\u001b[39m.\u001b[39;49mdata\n\u001b[0;32m    164\u001b[0m                                             ,_trials[\u001b[39m'\u001b[39;49m\u001b[39msyn\u001b[39;49m\u001b[39m'\u001b[39;49m]\n\u001b[1;32m--> 165\u001b[0m                                             ,_syn_para)\u001b[39m.\u001b[39;49mresult()\n\u001b[0;32m    166\u001b[0m \u001b[39mself\u001b[39m\u001b[39m.\u001b[39m_save_in_submodule(\u001b[39m'\u001b[39m\u001b[39mSynthesizer\u001b[39m\u001b[39m'\u001b[39m ,_syn_result\u001b[39m.\u001b[39mdata_syn ,_trials)\n\u001b[0;32m    167\u001b[0m \u001b[39mself\u001b[39m\u001b[39m.\u001b[39msynthesizer[(_load_trial_name ,_split_trial_name ,_preproc_trial_name ,_syn_trial_name)] \u001b[39m=\u001b[39m _syn_result\n",
      "File \u001b[1;32mc:\\Program Files\\Python310\\lib\\concurrent\\futures\\_base.py:453\u001b[0m, in \u001b[0;36mFuture.result\u001b[1;34m(self, timeout)\u001b[0m\n\u001b[0;32m    450\u001b[0m \u001b[39melif\u001b[39;00m \u001b[39mself\u001b[39m\u001b[39m.\u001b[39m_state \u001b[39m==\u001b[39m FINISHED:\n\u001b[0;32m    451\u001b[0m     \u001b[39mreturn\u001b[39;00m \u001b[39mself\u001b[39m\u001b[39m.\u001b[39m__get_result()\n\u001b[1;32m--> 453\u001b[0m \u001b[39mself\u001b[39;49m\u001b[39m.\u001b[39;49m_condition\u001b[39m.\u001b[39;49mwait(timeout)\n\u001b[0;32m    455\u001b[0m \u001b[39mif\u001b[39;00m \u001b[39mself\u001b[39m\u001b[39m.\u001b[39m_state \u001b[39min\u001b[39;00m [CANCELLED, CANCELLED_AND_NOTIFIED]:\n\u001b[0;32m    456\u001b[0m     \u001b[39mraise\u001b[39;00m CancelledError()\n",
      "File \u001b[1;32mc:\\Program Files\\Python310\\lib\\threading.py:320\u001b[0m, in \u001b[0;36mCondition.wait\u001b[1;34m(self, timeout)\u001b[0m\n\u001b[0;32m    318\u001b[0m \u001b[39mtry\u001b[39;00m:    \u001b[39m# restore state no matter what (e.g., KeyboardInterrupt)\u001b[39;00m\n\u001b[0;32m    319\u001b[0m     \u001b[39mif\u001b[39;00m timeout \u001b[39mis\u001b[39;00m \u001b[39mNone\u001b[39;00m:\n\u001b[1;32m--> 320\u001b[0m         waiter\u001b[39m.\u001b[39;49macquire()\n\u001b[0;32m    321\u001b[0m         gotit \u001b[39m=\u001b[39m \u001b[39mTrue\u001b[39;00m\n\u001b[0;32m    322\u001b[0m     \u001b[39melse\u001b[39;00m:\n",
      "\u001b[1;31mKeyboardInterrupt\u001b[0m: "
     ]
    }
   ],
   "source": [
    "import os\n",
    "import sys\n",
    "\n",
    "sys.path.append('D:\\\\Dropbox\\\\89_其他應用\\\\GitHub\\\\PETs-Experiment')\n",
    "os.chdir('D:\\\\Dropbox\\\\89_其他應用\\\\GitHub\\\\PETs-Experiment\\\\demo')\n",
    "import PETs_Experiment\n",
    "\n",
    "para_Executor = {\n",
    "     'Loader' : {\n",
    "         'adult'  : {'filepath'   : '../[sunset]/data/[Adt Income] adult.csv'\n",
    "                    ,'na_values' : {k : '?' for k in ['workclass' ,'occupation' ,'native-country']}\n",
    "        }\n",
    "        ,'NHANES' : {'filepath'      : '../[sunset]/data/[NHANES] B.csv'\n",
    "                    ,'header_exist' : False\n",
    "                    ,'header_names' : ['gen','age','race','edu','mar','bmi','dep','pir','gh','mets','qm','dia']\n",
    "        }\n",
    "     }\n",
    "    ,'Splitter' : {\n",
    "         '0.8'  : {'num_samples'       : 2\n",
    "                  ,'train_split_ratio' : 0.8\n",
    "        }\n",
    "        ,'0.05' : {'num_samples'       : 1\n",
    "                  ,'train_split_ratio' : 0.05\n",
    "        }\n",
    "    }\n",
    "    ,'Preprocessor_missing_method'  : 'drop'\n",
    "    ,'Preprocessor_outlier_method'  : 'IQR'\n",
    "    # ,'Preprocessor_outlier_columns' : {'ignore': ['hours-per-week']}\n",
    "    ,'Preprocessor_encoding_method' : 'Label'\n",
    "    # ,'Preprocessor_scaling'         : True\n",
    "    # ,'Preprocessor_scaling_method'  : 'Standard'\n",
    "    # ,'Preprocessor_scaling_columns' : {'focus' : 'fnlwgt'}\n",
    "    ,'Synthesizer': {\n",
    "        'GaussianCoupula' : {'synthesizing_method' : 'sdv-singletable-gaussiancoupula'}\n",
    "    }\n",
    "}\n",
    "\n",
    "executor = PETs_Experiment.Executor(**para_Executor)\n",
    "executor.run()\n",
    "\n",
    "\n",
    "\n",
    "# for k ,v in executor.loader.items():\n",
    "#     print(k)\n",
    "#     print(v.data.head(1))\n",
    "    "
   ]
  },
  {
   "cell_type": "code",
   "execution_count": null,
   "metadata": {},
   "outputs": [],
   "source": [
    "executor."
   ]
  },
  {
   "cell_type": "code",
   "execution_count": 4,
   "metadata": {},
   "outputs": [
    {
     "data": {
      "text/plain": [
       "[]"
      ]
     },
     "execution_count": 4,
     "metadata": {},
     "output_type": "execute_result"
    }
   ],
   "source": [
    "test = [6 ,4]\n",
    "trial = 1\n",
    "\n",
    "test[:(trial-1)]"
   ]
  },
  {
   "cell_type": "code",
   "execution_count": null,
   "metadata": {},
   "outputs": [],
   "source": []
  },
  {
   "cell_type": "code",
   "execution_count": null,
   "metadata": {},
   "outputs": [],
   "source": []
  },
  {
   "cell_type": "code",
   "execution_count": null,
   "metadata": {},
   "outputs": [],
   "source": []
  },
  {
   "cell_type": "code",
   "execution_count": 28,
   "metadata": {},
   "outputs": [
    {
     "name": "stdout",
     "output_type": "stream",
     "text": [
      "adult\n",
      "NHANES\n"
     ]
    },
    {
     "data": {
      "text/plain": [
       "{'adult': 'para', 'NHANES': 'para'}"
      ]
     },
     "execution_count": 28,
     "metadata": {},
     "output_type": "execute_result"
    }
   ],
   "source": [
    "\n",
    "\n",
    "\n",
    "\n",
    "from PETs_Experiment import Loader\n",
    "self = executor    \n",
    "\n",
    "\n",
    "def test(key ,para):\n",
    "    print(key)\n",
    "    return key , 'para'\n",
    "\n",
    "\n",
    "\n",
    "\n",
    "with ThreadPoolExecutor() as async_executor:\n",
    "    futures = [async_executor.submit(test, _key, _para)\n",
    "                for _key ,_para in self.para['Loader_setting'].items()]\n",
    "\n",
    "    for future in futures:\n",
    "        key, loader_result = future.result()\n",
    "        self.loader[key] = loader_result\n",
    "\n",
    "self.loader"
   ]
  },
  {
   "cell_type": "code",
   "execution_count": null,
   "metadata": {},
   "outputs": [],
   "source": []
  }
 ],
 "metadata": {
  "kernelspec": {
   "display_name": "Python 3",
   "language": "python",
   "name": "python3"
  },
  "language_info": {
   "codemirror_mode": {
    "name": "ipython",
    "version": 3
   },
   "file_extension": ".py",
   "mimetype": "text/x-python",
   "name": "python",
   "nbconvert_exporter": "python",
   "pygments_lexer": "ipython3",
   "version": "3.10.13"
  },
  "orig_nbformat": 4
 },
 "nbformat": 4,
 "nbformat_minor": 2
}
