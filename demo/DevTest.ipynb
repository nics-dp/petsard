{
 "cells": [
  {
   "cell_type": "code",
   "execution_count": 1,
   "metadata": {},
   "outputs": [],
   "source": [
    "import os\n",
    "import sys\n",
    "\n",
    "sys.path.append('D:\\\\Dropbox\\\\89_其他應用\\\\GitHub\\\\PETs-Experiment')\n",
    "os.chdir('D:\\\\Dropbox\\\\89_其他應用\\\\GitHub\\\\PETs-Experiment\\\\demo')\n",
    "import PETs_Experiment"
   ]
  },
  {
   "cell_type": "code",
   "execution_count": 2,
   "metadata": {},
   "outputs": [
    {
     "name": "stdout",
     "output_type": "stream",
     "text": [
      "   age workclass  fnlwgt education  educational-num marital-status  \\\n",
      "0   25   Private  226802      11th                7  Never-married   \n",
      "\n",
      "          occupation relationship   race gender  capital-gain  capital-loss  \\\n",
      "0  Machine-op-inspct    Own-child  Black   Male             0             0   \n",
      "\n",
      "   hours-per-week native-country income  \n",
      "0              40  United-States  <=50K  \n"
     ]
    }
   ],
   "source": [
    "loader = PETs_Experiment.Loader(filepath = '../[sunset]/data/[Adt Income] adult.csv'\n",
    "                               ,na_values = {k : '?' for k in ['workclass'\n",
    "                                                              ,'occupation'\n",
    "                                                              ,'native-country'\n",
    "                                                              ]\n",
    "                                            }\n",
    "                               )\n",
    "print(loader.data.head(1))"
   ]
  },
  {
   "cell_type": "code",
   "execution_count": 3,
   "metadata": {},
   "outputs": [
    {
     "name": "stdout",
     "output_type": "stream",
     "text": [
      "39073\n",
      "9769\n",
      "   age workclass  fnlwgt education  educational-num marital-status  \\\n",
      "0   25   Private  226802      11th                7  Never-married   \n",
      "\n",
      "          occupation relationship   race gender  capital-gain  capital-loss  \\\n",
      "0  Machine-op-inspct    Own-child  Black   Male             0             0   \n",
      "\n",
      "   hours-per-week native-country income  \n",
      "0              40  United-States  <=50K  \n",
      "   age workclass  fnlwgt  education  educational-num marital-status  \\\n",
      "0   33       NaN  119918  Bachelors               13  Never-married   \n",
      "\n",
      "  occupation   relationship   race gender  capital-gain  capital-loss  \\\n",
      "0        NaN  Not-in-family  Black   Male             0             0   \n",
      "\n",
      "   hours-per-week native-country income  \n",
      "0              45            NaN  <=50K  \n"
     ]
    }
   ],
   "source": [
    "splitter = PETs_Experiment.Splitter(data              = loader.data\n",
    "                                   ,num_samples       = 30\n",
    "                                   ,train_split_ratio = 0.8)\n",
    "print(splitter.data[0]['train'     ].shape[0])\n",
    "print(splitter.data[0]['validation'].shape[0])\n",
    "print(splitter.data[0]['train'     ].head(1) )\n",
    "print(splitter.data[0]['validation'].head(1) )"
   ]
  },
  {
   "cell_type": "code",
   "execution_count": 4,
   "metadata": {},
   "outputs": [
    {
     "name": "stdout",
     "output_type": "stream",
     "text": [
      "Preprocessor - Missingist (Drop): Dropped 2896 rows.\n",
      "Preprocessor - Outlierist (IQR): Dropped  3032 rows on capital-gain   . Kept [0.0, 0.0] only.\n",
      "Preprocessor - Outlierist (IQR): Dropped  1719 rows on capital-loss   . Kept [0.0, 0.0] only.\n",
      "Preprocessor - Outlierist (IQR): Dropped  1037 rows on fnlwgt         . Kept [-64105.5, 419810.5] only.\n",
      "Preprocessor - Outlierist (IQR): Dropped   215 rows on age            . Kept [-0.5, 75.5] only.\n",
      "Preprocessor - Outlierist (IQR): Dropped   231 rows on educational-num. Kept [3.0, 19.0] only.\n",
      "Preprocessor - Outlierist (IQR): Totally Dropped  6032 in 36177 rows.\n",
      "Preprocessor - Encoder (Label): Column education       been labelized from 0 to 13.\n",
      "Preprocessor - Encoder (Label): Column relationship    been labelized from 0 to  5.\n",
      "Preprocessor - Encoder (Label): Column workclass       been labelized from 0 to  6.\n",
      "Preprocessor - Encoder (Label): Column native-country  been labelized from 0 to 39.\n",
      "Preprocessor - Encoder (Label): Column gender          been labelized from 0 to  1.\n",
      "Preprocessor - Encoder (Label): Column occupation      been labelized from 0 to 13.\n",
      "Preprocessor - Encoder (Label): Column marital-status  been labelized from 0 to  6.\n",
      "Preprocessor - Encoder (Label): Column race            been labelized from 0 to  4.\n",
      "Preprocessor - Encoder (Label): Column income          been labelized from 0 to  1.\n",
      "Preprocessor - Scaler (Standard): Column fnlwgt been standardized.\n",
      "\n",
      "\n",
      "\n",
      "\n",
      "   age  workclass  fnlwgt  education  educational-num  marital-status  \\\n",
      "0   25          2     0.0          1                7               4   \n",
      "\n",
      "   occupation  relationship  race  gender  capital-gain  capital-loss  \\\n",
      "0           6             3     2       1             0             0   \n",
      "\n",
      "   hours-per-week  native-country  income  \n",
      "0              40              37       0  \n",
      "\n",
      "\n",
      "\n",
      "\n",
      "{'education': LabelEncoder(), 'relationship': LabelEncoder(), 'workclass': LabelEncoder(), 'native-country': LabelEncoder(), 'gender': LabelEncoder(), 'occupation': LabelEncoder(), 'marital-status': LabelEncoder(), 'race': LabelEncoder(), 'income': LabelEncoder()}\n",
      "\n",
      "\n",
      "\n",
      "\n",
      "{'fnlwgt': StandardScaler()}\n"
     ]
    }
   ],
   "source": [
    "preproc = PETs_Experiment.Preprocessor(\n",
    "     data = splitter.data[0]['train']\n",
    "    ,missing=True\n",
    "        ,missing_method  = 'drop'\n",
    "        ,missing_columns = None\n",
    "    ,outlier=True\n",
    "        ,outlier_method  = 'IQR'\n",
    "        ,outlier_columns = {'ignore': ['hours-per-week']}\n",
    "    ,encoding=True\n",
    "        ,encoding_method  = 'Label'\n",
    "        ,encoding_columns = None\n",
    "    ,scaling=True\n",
    "        ,scaling_method  = 'Standard'\n",
    "        ,scaling_columns = {'focus' : 'fnlwgt'}\n",
    ")\n",
    "print('\\n\\n\\n')\n",
    "print(preproc.data.head(1))\n",
    "print('\\n\\n\\n')\n",
    "print(preproc.encoder)\n",
    "print('\\n\\n\\n')\n",
    "print(preproc.scaler)"
   ]
  },
  {
   "cell_type": "code",
   "execution_count": 5,
   "metadata": {},
   "outputs": [
    {
     "name": "stdout",
     "output_type": "stream",
     "text": [
      "Synthesizer (SDV - SingleTable): Metafile loading time: 0.0222 sec.\n",
      "Synthesizer (SDV - SingleTable): Fitting  GaussianCoupula.\n",
      "Synthesizer (SDV - SingleTable): Fitting  GaussianCoupula spent 14.968 sec.\n",
      "Synthesizer (SDV - SingleTable): Sampling GaussianCoupula # 30145 rows (same as raw) in 1.156 sec.\n",
      "   age  workclass  fnlwgt  education  educational-num  marital-status  \\\n",
      "0   58          1     0.0         10               11               2   \n",
      "\n",
      "   occupation  relationship  race  gender  capital-gain  capital-loss  \\\n",
      "0          13             4     4       1             0             0   \n",
      "\n",
      "   hours-per-week  native-country  income  \n",
      "0              30              39       0  \n"
     ]
    }
   ],
   "source": [
    "synthesizer = PETs_Experiment.Synthesizer(data = preproc.data\n",
    "                                         ,synthesizing_method = 'sdv-singletable-gaussiancoupula'\n",
    "                                         )\n",
    "synthesizer.fit_sample()\n",
    "print(synthesizer.data_syn.head(1))"
   ]
  },
  {
   "cell_type": "code",
   "execution_count": 6,
   "metadata": {},
   "outputs": [
    {
     "name": "stdout",
     "output_type": "stream",
     "text": [
      "Postprocessor - Scaler (StandardScaler): Decoding fnlwgt.\n",
      "Postprocessor - Encoder (LabelEncoder): Decoding education.\n",
      "Postprocessor - Encoder (LabelEncoder): Decoding relationship.\n",
      "Postprocessor - Encoder (LabelEncoder): Decoding workclass.\n",
      "Postprocessor - Encoder (LabelEncoder): Decoding native-country.\n",
      "Postprocessor - Encoder (LabelEncoder): Decoding gender.\n",
      "Postprocessor - Encoder (LabelEncoder): Decoding occupation.\n",
      "Postprocessor - Encoder (LabelEncoder): Decoding marital-status.\n",
      "Postprocessor - Encoder (LabelEncoder): Decoding race.\n",
      "Postprocessor - Encoder (LabelEncoder): Decoding income.\n",
      "   age  workclass    fnlwgt education  educational-num      marital-status  \\\n",
      "0   58  Local-gov  226802.0   HS-grad               11  Married-civ-spouse   \n",
      "\n",
      "         occupation relationship   race gender  capital-gain  capital-loss  \\\n",
      "0  Transport-moving    Unmarried  White   Male             0             0   \n",
      "\n",
      "   hours-per-week native-country income  \n",
      "0              30     Yugoslavia  <=50K  \n"
     ]
    }
   ],
   "source": [
    "postproc = PETs_Experiment.Postprocessor(data = synthesizer.data_syn\n",
    "                                        ,encoder = getattr(preproc ,'encoder' ,None)\n",
    "                                        ,scaler  = getattr(preproc ,'scaler'  ,None)\n",
    "                                        )\n",
    "print(postproc.data.head(1))"
   ]
  },
  {
   "cell_type": "code",
   "execution_count": 7,
   "metadata": {},
   "outputs": [
    {
     "name": "stdout",
     "output_type": "stream",
     "text": [
      "    gen   age   race       edu      mar        bmi  dep  pir   gh  mets  qm  \\\n",
      "0  Male  62.0  White  Graduate  Married  27.799999    0    0  0.0   0.0  Q2   \n",
      "\n",
      "   dia  \n",
      "0    1  \n"
     ]
    }
   ],
   "source": [
    "loader2 = PETs_Experiment.Loader(\n",
    "                               )\n",
    "print(loader2.data.head(1))"
   ]
  },
  {
   "cell_type": "code",
   "execution_count": 7,
   "metadata": {},
   "outputs": [],
   "source": [
    "import os\n",
    "import sys\n",
    "\n",
    "sys.path.append('D:\\\\Dropbox\\\\89_其他應用\\\\GitHub\\\\PETs-Experiment')\n",
    "os.chdir('D:\\\\Dropbox\\\\89_其他應用\\\\GitHub\\\\PETs-Experiment\\\\demo')\n",
    "import PETs_Experiment\n",
    "\n",
    "para_Executor = {\n",
    "     'Loader_filepath'  : '../[sunset]/data/[Adt Income] adult.csv'\n",
    "    ,'Loader_na_values' : {k : '?' for k in ['workclass' ,'occupation' ,'native-country']}\n",
    "    ,'Spitter_num_samples'       : 2\n",
    "    ,'Spitter_train_split_ratio' : 0.8\n",
    "    ,'Preprocessor_missing_method'  : 'drop'\n",
    "    ,'Preprocessor_outlier_method'  : 'IQR'\n",
    "    ,'Preprocessor_outlier_columns' : {'ignore': ['hours-per-week']}\n",
    "    ,'Preprocessor_encoding_method' : 'Label'\n",
    "    ,'Preprocessor_scaling'         : True\n",
    "    ,'Preprocessor_scaling_method'  : 'Standard'\n",
    "    ,'Preprocessor_scaling_columns' : {'focus' : 'fnlwgt'}\n",
    "    ,'Synthesizer_synthesizing_method' : 'sdv-singletable-gaussiancoupula'\n",
    "}\n",
    "\n",
    "executor = PETs_Experiment.Executor(**para_Executor)\n",
    "executor.run()"
   ]
  },
  {
   "cell_type": "code",
   "execution_count": 11,
   "metadata": {},
   "outputs": [],
   "source": [
    "import os\n",
    "import sys\n",
    "\n",
    "sys.path.append('D:\\\\Dropbox\\\\89_其他應用\\\\GitHub\\\\PETs-Experiment')\n",
    "os.chdir('D:\\\\Dropbox\\\\89_其他應用\\\\GitHub\\\\PETs-Experiment\\\\demo')\n",
    "import PETs_Experiment\n",
    "\n",
    "para_Executor = {\n",
    "     'Loader' : {\n",
    "         'adult'  : {'filepath'   : '../[sunset]/data/[Adt Income] adult.csv'\n",
    "                     ,'na_values' : {k : '?' for k in ['workclass' ,'occupation' ,'native-country']}\n",
    "        }\n",
    "        ,'NHANES' : {'filepath'      : '../[sunset]/data/[NHANES] B.csv'\n",
    "                     ,'header_exist' : False\n",
    "                     ,'header_names' : ['gen','age','race','edu','mar','bmi','dep','pir','gh','mets','qm','dia']\n",
    "        }\n",
    "     }\n",
    "    ,'Spitter_num_samples'       : 2\n",
    "    ,'Spitter_train_split_ratio' : 0.8\n",
    "    ,'Preprocessor_missing_method'  : 'drop'\n",
    "    ,'Preprocessor_outlier_method'  : 'IQR'\n",
    "    ,'Preprocessor_outlier_columns' : {'ignore': ['hours-per-week']}\n",
    "    ,'Preprocessor_encoding_method' : 'Label'\n",
    "    ,'Preprocessor_scaling'         : True\n",
    "    ,'Preprocessor_scaling_method'  : 'Standard'\n",
    "    ,'Preprocessor_scaling_columns' : {'focus' : 'fnlwgt'}\n",
    "    ,'Synthesizer_synthesizing_method' : 'sdv-singletable-gaussiancoupula'\n",
    "}\n",
    "\n",
    "executor = PETs_Experiment.Executor(**para_Executor)\n",
    "executor.run()"
   ]
  },
  {
   "cell_type": "code",
   "execution_count": 14,
   "metadata": {},
   "outputs": [
    {
     "name": "stdout",
     "output_type": "stream",
     "text": [
      "   age workclass  fnlwgt education  educational-num marital-status  \\\n",
      "0   25   Private  226802      11th                7  Never-married   \n",
      "\n",
      "          occupation relationship   race gender  capital-gain  capital-loss  \\\n",
      "0  Machine-op-inspct    Own-child  Black   Male             0             0   \n",
      "\n",
      "   hours-per-week native-country income  \n",
      "0              40  United-States  <=50K  \n",
      "    gen   age   race       edu      mar        bmi  dep  pir   gh  mets  qm  \\\n",
      "0  Male  62.0  White  Graduate  Married  27.799999    0    0  0.0   0.0  Q2   \n",
      "\n",
      "   dia  \n",
      "0    1  \n"
     ]
    }
   ],
   "source": [
    "print(executor.loader['adult' ].data.head(1))\n",
    "print(executor.loader['NHANES'].data.head(1))"
   ]
  },
  {
   "cell_type": "code",
   "execution_count": 9,
   "metadata": {},
   "outputs": [],
   "source": [
    "def run_single_loader(self ,trail):\n",
    "    if self.para['Loader'][trail]:\n",
    "        from .Loader import Loader\n",
    "        loader = Loader(**self.para['Loader_setting'][trail])\n",
    "        return loader"
   ]
  }
 ],
 "metadata": {
  "kernelspec": {
   "display_name": "Python 3",
   "language": "python",
   "name": "python3"
  },
  "language_info": {
   "codemirror_mode": {
    "name": "ipython",
    "version": 3
   },
   "file_extension": ".py",
   "mimetype": "text/x-python",
   "name": "python",
   "nbconvert_exporter": "python",
   "pygments_lexer": "ipython3",
   "version": "3.10.13"
  },
  "orig_nbformat": 4
 },
 "nbformat": 4,
 "nbformat_minor": 2
}
