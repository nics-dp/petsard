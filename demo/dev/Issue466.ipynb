{
 "cells": [
  {
   "cell_type": "code",
   "execution_count": 1,
   "metadata": {},
   "outputs": [
    {
     "name": "stdout",
     "output_type": "stream",
     "text": [
      "d:\\Dropbox\\89_other_application\\GitHub\\PETsARD\\demo\\dev\n",
      "d:\\Dropbox\\89_other_application\\GitHub\\PETsARD\n"
     ]
    }
   ],
   "source": [
    "import os\n",
    "import pprint\n",
    "import sys\n",
    "\n",
    "print(os.getcwd())\n",
    "path_petsard = os.path.dirname(os.path.dirname(os.getcwd()))\n",
    "print(path_petsard)\n",
    "sys.path.append(path_petsard)\n",
    "\n",
    "pp = pprint.PrettyPrinter(depth=2)"
   ]
  },
  {
   "cell_type": "code",
   "execution_count": 2,
   "metadata": {},
   "outputs": [
    {
     "name": "stdout",
     "output_type": "stream",
     "text": [
      "Loader - Benchmarker: file benchmark\\sales.csv already exist and match SHA-256.\n",
      "                      PETsARD will ignore download and use local data directly.\n",
      "Synthesizer (SDV): Fitting GaussianCopula.\n",
      "Synthesizer (SDV): Fitting GaussianCopula spent 56.5537 sec.\n"
     ]
    },
    {
     "name": "stderr",
     "output_type": "stream",
     "text": [
      "Sampling rows: : 200000it [00:20, 9563.07it/s]                          \n"
     ]
    },
    {
     "name": "stdout",
     "output_type": "stream",
     "text": [
      "Synthesizer (SDV): Sampling GaussianCopula # 113036 rows (same as Loader data) in 22.0003 sec.\n",
      "Loader - Benchmarker: file benchmark\\energydata_complete.csv already exist and match SHA-256.\n",
      "                      PETsARD will ignore download and use local data directly.\n",
      "Synthesizer (SDV): Fitting GaussianCopula.\n",
      "Synthesizer (SDV): Fitting GaussianCopula spent 10.3364 sec.\n",
      "Synthesizer (SDV): Sampling GaussianCopula # 19735 rows (same as Loader data) in 4.6237 sec.\n",
      "Loader - Benchmarker: file benchmark\\olist.csv already exist and match SHA-256.\n",
      "                      PETsARD will ignore download and use local data directly.\n",
      "Synthesizer (SDV): Fitting GaussianCopula.\n",
      "Synthesizer (SDV): Fitting GaussianCopula spent 54.5868 sec.\n"
     ]
    },
    {
     "name": "stderr",
     "output_type": "stream",
     "text": [
      "Sampling rows: : 200000it [00:22, 9057.55it/s]                          "
     ]
    },
    {
     "name": "stdout",
     "output_type": "stream",
     "text": [
      "Synthesizer (SDV): Sampling GaussianCopula # 117601 rows (same as Loader data) in 24.5048 sec.\n"
     ]
    },
    {
     "name": "stderr",
     "output_type": "stream",
     "text": [
      "\n"
     ]
    }
   ],
   "source": [
    "from PETsARD import Loader, Processor, Synthesizer\n",
    "\n",
    "\n",
    "for benchmark in ['bike-sales', 'energydata_complete', 'olist']:\n",
    "    load = Loader(filepath=f'benchmark://{benchmark}')\n",
    "    load.load()\n",
    "\n",
    "    proc = Processor(metadata=load.metadata)\n",
    "    proc.fit(data=load.data)\n",
    "    preproc_data = proc.transform(data=load.data)\n",
    "\n",
    "    syn = Synthesizer('default')\n",
    "    syn.create(data=preproc_data, metadata=proc._metadata)\n",
    "    syn.fit_sample()"
   ]
  },
  {
   "cell_type": "code",
   "execution_count": 3,
   "metadata": {},
   "outputs": [
    {
     "name": "stdout",
     "output_type": "stream",
     "text": [
      "Loader - Benchmarker: file benchmark\\energydata_complete.csv already exist and match SHA-256.\n",
      "                      PETsARD will ignore download and use local data directly.\n",
      "Synthesizer (SmartNoise): Fitting aim.\n",
      "29\n",
      "Initial Sigma 28.758023281838174\n",
      "Synthesizer (SmartNoise): Fitting aim spent 781.9941 sec.\n",
      "Synthesizer (SmartNoise): Sampling aim # 10481 rows (same as input data) in 1.5219 sec.\n"
     ]
    }
   ],
   "source": [
    "from PETsARD import Loader, Processor, Synthesizer\n",
    "\n",
    "\n",
    "for benchmark in [\n",
    "        # 'bike-sales',\n",
    "        'energydata_complete',\n",
    "        # 'olist'\n",
    "]:\n",
    "    load = Loader(filepath=f'benchmark://{benchmark}')\n",
    "    load.load()\n",
    "\n",
    "    proc = Processor(metadata=load.metadata)\n",
    "    proc.fit(data=load.data)\n",
    "    preproc_data = proc.transform(data=load.data)\n",
    "\n",
    "    syn = Synthesizer('smartnoise-aim')\n",
    "    syn.create(data=preproc_data, metadata=proc._metadata)\n",
    "    syn.fit_sample()"
   ]
  },
  {
   "cell_type": "code",
   "execution_count": 4,
   "metadata": {},
   "outputs": [
    {
     "name": "stdout",
     "output_type": "stream",
     "text": [
      "Loader - Benchmarker: file benchmark\\olist.csv already exist and match SHA-256.\n",
      "                      PETsARD will ignore download and use local data directly.\n",
      "Synthesizer (SmartNoise): Fitting aim.\n",
      "22\n",
      "Initial Sigma 25.047902980387622\n"
     ]
    }
   ],
   "source": [
    "from PETsARD import Loader, Processor, Synthesizer\n",
    "\n",
    "\n",
    "for benchmark in [\n",
    "        # 'bike-sales',\n",
    "        # 'energydata_complete',\n",
    "        'olist'\n",
    "]:\n",
    "    load = Loader(filepath=f'benchmark://{benchmark}')\n",
    "    load.load()\n",
    "\n",
    "    proc = Processor(metadata=load.metadata)\n",
    "    proc.fit(data=load.data)\n",
    "    preproc_data = proc.transform(data=load.data)\n",
    "\n",
    "    syn = Synthesizer('smartnoise-aim')\n",
    "    syn.create(data=preproc_data, metadata=proc._metadata)\n",
    "    syn.fit_sample()"
   ]
  }
 ],
 "metadata": {
  "kernelspec": {
   "display_name": ".venv",
   "language": "python",
   "name": "python3"
  },
  "language_info": {
   "codemirror_mode": {
    "name": "ipython",
    "version": 3
   },
   "file_extension": ".py",
   "mimetype": "text/x-python",
   "name": "python",
   "nbconvert_exporter": "python",
   "pygments_lexer": "ipython3",
   "version": "3.10.11"
  }
 },
 "nbformat": 4,
 "nbformat_minor": 2
}
