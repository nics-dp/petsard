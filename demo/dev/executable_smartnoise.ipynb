{
 "cells": [
  {
   "cell_type": "code",
   "execution_count": 1,
   "metadata": {},
   "outputs": [],
   "source": [
    "import pandas as pd\n",
    "import numpy as np"
   ]
  },
  {
   "cell_type": "code",
   "execution_count": 2,
   "metadata": {},
   "outputs": [
    {
     "name": "stdout",
     "output_type": "stream",
     "text": [
      "/Users/alex/PETsARD\n"
     ]
    }
   ],
   "source": [
    "%cd /Users/alex/PETsARD"
   ]
  },
  {
   "cell_type": "code",
   "execution_count": 26,
   "metadata": {},
   "outputs": [
    {
     "name": "stdout",
     "output_type": "stream",
     "text": [
      "Loader - Benchmarker: file benchmark/adult.csv already exist and match SHA-256.\n",
      "                      PETsARD will ignore download and use local data directly.\n"
     ]
    }
   ],
   "source": [
    "from PETsARD import (\n",
    "    Loader,\n",
    "    Processor,\n",
    "    Synthesizer\n",
    ")\n",
    "\n",
    "\n",
    "load = Loader(\n",
    "    filepath='benchmark://adult',\n",
    "    na_values={k: '?' for k in [\n",
    "        'workclass',\n",
    "        'occupation',\n",
    "        'native-country'\n",
    "    ]}\n",
    ")\n",
    "load.load()"
   ]
  },
  {
   "cell_type": "code",
   "execution_count": 27,
   "metadata": {},
   "outputs": [],
   "source": [
    "load.data = load.data.loc[:1000, :]"
   ]
  },
  {
   "cell_type": "code",
   "execution_count": 28,
   "metadata": {},
   "outputs": [],
   "source": [
    "import pprint\n",
    "\n",
    "\n",
    "def issue332(\n",
    "        load: Loader,\n",
    "        synthesizing_method: str,\n",
    "        scaler_inhibit: bool = False\n",
    "):\n",
    "    pp = pprint.PrettyPrinter(depth=2)\n",
    "\n",
    "    proc_discretizing = Processor(\n",
    "        metadata=load.metadata,\n",
    "    )\n",
    "\n",
    "    if scaler_inhibit:\n",
    "        print(\"Preproc config of Scaler before update as ...\")\n",
    "        pp.pprint(proc_discretizing.get_config()['scaler'])\n",
    "        proc_discretizing.update_config(\n",
    "            {'scaler': {\n",
    "                col: None for col in load.data.columns\n",
    "            }}\n",
    "        )\n",
    "        print(\"Preproc config of Scaler before after as ...\")\n",
    "        pp.pprint(proc_discretizing.get_config()['scaler'])\n",
    "\n",
    "    proc_discretizing.fit(\n",
    "        data=load.data,\n",
    "        sequence=[\n",
    "            'missing',\n",
    "            'outlier',\n",
    "            'scaler',\n",
    "            'discretizing'\n",
    "        ]\n",
    "    )\n",
    "    preproc_discretizing_data = proc_discretizing.transform(\n",
    "        data=load.data\n",
    "    )\n",
    "    print(\"Preproc data as ...\")\n",
    "    print(preproc_discretizing_data.head(1))\n",
    "\n",
    "\n",
    "    syn = Synthesizer(\n",
    "        method=synthesizing_method,\n",
    "        epsilon=10.0,\n",
    "    )\n",
    "    syn.create(data=preproc_discretizing_data)\n",
    "    syn.fit_sample()\n",
    "    print(\"Sync data as ...\")\n",
    "    print(syn.data_syn.head(1))\n",
    "    postproc_discretizing_data = proc_discretizing.inverse_transform(\n",
    "        data=syn.data_syn\n",
    "    )\n",
    "    print(postproc_discretizing_data.head(1))"
   ]
  },
  {
   "cell_type": "code",
   "execution_count": 24,
   "metadata": {},
   "outputs": [],
   "source": [
    "import pprint\n",
    "\n",
    "\n",
    "def issue332_gan(\n",
    "        load: Loader,\n",
    "        synthesizing_method: str,\n",
    "        scaler_inhibit: bool = False\n",
    "):\n",
    "    pp = pprint.PrettyPrinter(depth=2)\n",
    "\n",
    "    proc_discretizing = Processor(\n",
    "        metadata=load.metadata,\n",
    "    )\n",
    "\n",
    "    if scaler_inhibit:\n",
    "        print(\"Preproc config of Scaler before update as ...\")\n",
    "        pp.pprint(proc_discretizing.get_config()['scaler'])\n",
    "        proc_discretizing.update_config(\n",
    "            {'scaler': {\n",
    "                col: None for col in load.data.columns\n",
    "            }}\n",
    "        )\n",
    "        print(\"Preproc config of Scaler before after as ...\")\n",
    "        pp.pprint(proc_discretizing.get_config()['scaler'])\n",
    "\n",
    "    proc_discretizing.fit(\n",
    "        data=load.data,\n",
    "        sequence=[\n",
    "            'missing',\n",
    "            'outlier',\n",
    "            'encoder',\n",
    "            'scaler'\n",
    "        ]\n",
    "    )\n",
    "    preproc_discretizing_data = proc_discretizing.transform(\n",
    "        data=load.data\n",
    "    )\n",
    "    print(\"Preproc data as ...\")\n",
    "    print(preproc_discretizing_data.head(1))\n",
    "\n",
    "\n",
    "    syn = Synthesizer(\n",
    "        method=synthesizing_method,\n",
    "        epsilon=10.0,\n",
    "    )\n",
    "    syn.create(data=preproc_discretizing_data)\n",
    "    syn.fit_sample()\n",
    "    print(\"Sync data as ...\")\n",
    "    print(syn.data_syn.head(1))\n",
    "    postproc_discretizing_data = proc_discretizing.inverse_transform(\n",
    "        data=syn.data_syn\n",
    "    )\n",
    "    print(postproc_discretizing_data.head(1))"
   ]
  },
  {
   "cell_type": "code",
   "execution_count": 29,
   "metadata": {},
   "outputs": [
    {
     "name": "stdout",
     "output_type": "stream",
     "text": [
      "Preproc data as ...\n",
      "   age  workclass fnlwgt  education educational-num  marital-status  \\\n",
      "0  0.0          2    0.0          1             0.0               4   \n",
      "\n",
      "   occupation  relationship  race  gender capital-gain capital-loss  \\\n",
      "0           6             3     2       1          0.0          0.0   \n",
      "\n",
      "  hours-per-week  native-country  income  \n",
      "0            0.0              25       0  \n",
      "Synthesizer (SmartNoise): Fitting aim.\n",
      "15\n",
      "Initial Sigma 11.056041228448832\n"
     ]
    },
    {
     "name": "stderr",
     "output_type": "stream",
     "text": [
      "/Users/alex/miniforge3/envs/dev310/lib/python3.10/site-packages/mbi/__init__.py:15: UserWarning: MixtureInference disabled, please install jax and jaxlib\n",
      "  warnings.warn('MixtureInference disabled, please install jax and jaxlib')\n"
     ]
    },
    {
     "name": "stdout",
     "output_type": "stream",
     "text": [
      "Synthesizer (SmartNoise): Fitting  aim spent 103.6998 sec.\n",
      "Synthesizer (SmartNoise): Sampling aim # 558 rows (same as raw) in 0.0282 sec.\n",
      "Sync data as ...\n",
      "   age  workclass  fnlwgt  education  educational-num  marital-status  \\\n",
      "0  0.0          2     0.0          7              0.0               2   \n",
      "\n",
      "   occupation  relationship  race  gender  capital-gain  capital-loss  \\\n",
      "0           4             0     4       1           0.0           0.0   \n",
      "\n",
      "   hours-per-week  native-country  income  \n",
      "0             0.0              25       1  \n",
      "          age workclass        fnlwgt   education  educational-num  \\\n",
      "0  371.264583   Private  8.479563e+09  Assoc-acdm         16.57591   \n",
      "\n",
      "       marital-status       occupation relationship   race gender  \\\n",
      "0  Married-civ-spouse  Farming-fishing      Husband  White   Male   \n",
      "\n",
      "   capital-gain  capital-loss  hours-per-week native-country income  \n",
      "0  9.268677e+07  96578.239577       172.18284  United-States   >50K  \n"
     ]
    }
   ],
   "source": [
    "issue332(\n",
    "    load=load,\n",
    "    synthesizing_method='smartnoise-aim'\n",
    ")"
   ]
  },
  {
   "cell_type": "markdown",
   "metadata": {},
   "source": [
    "上述執行會出現 `RuntimeError: all elements of input should be between 0 and 1`，原因是 input 中含有 NA 值，來自於前處理過程中將離群值去除掉，導致 `capital-gain`, `capital-loss` 兩個欄位的值皆相同，在 `smartnoise` 中進行 `MinMaxTransformer` 時會讓運算結果為 NA （分母為 0）。因此針對 adult 資料集，將其中的 `outlier` 前處理拿掉，就可以正常運行了。"
   ]
  }
 ],
 "metadata": {
  "kernelspec": {
   "display_name": "dev310",
   "language": "python",
   "name": "python3"
  },
  "language_info": {
   "codemirror_mode": {
    "name": "ipython",
    "version": 3
   },
   "file_extension": ".py",
   "mimetype": "text/x-python",
   "name": "python",
   "nbconvert_exporter": "python",
   "pygments_lexer": "ipython3",
   "version": "3.10.13"
  }
 },
 "nbformat": 4,
 "nbformat_minor": 2
}
