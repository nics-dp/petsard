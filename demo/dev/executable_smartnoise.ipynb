{
 "cells": [
  {
   "cell_type": "code",
   "execution_count": 2,
   "metadata": {},
   "outputs": [],
   "source": [
    "import pandas as pd\n",
    "import numpy as np"
   ]
  },
  {
   "cell_type": "code",
   "execution_count": 3,
   "metadata": {},
   "outputs": [
    {
     "name": "stdout",
     "output_type": "stream",
     "text": [
      "/Users/alex/PETsARD\n"
     ]
    }
   ],
   "source": [
    "%cd /Users/alex/PETsARD"
   ]
  },
  {
   "cell_type": "code",
   "execution_count": 4,
   "metadata": {},
   "outputs": [
    {
     "name": "stderr",
     "output_type": "stream",
     "text": [
      "/Users/alex/miniforge3/envs/dev310/lib/python3.10/site-packages/tqdm/auto.py:21: TqdmWarning: IProgress not found. Please update jupyter and ipywidgets. See https://ipywidgets.readthedocs.io/en/stable/user_install.html\n",
      "  from .autonotebook import tqdm as notebook_tqdm\n"
     ]
    },
    {
     "name": "stdout",
     "output_type": "stream",
     "text": [
      "Loader - Benchmarker: file benchmark/adult.csv already exist and match SHA-256.\n",
      "                      PETsARD will ignore download and use local data directly.\n"
     ]
    }
   ],
   "source": [
    "from PETsARD import (\n",
    "    Loader,\n",
    "    Processor,\n",
    "    Synthesizer\n",
    ")\n",
    "\n",
    "\n",
    "load = Loader(\n",
    "    filepath='benchmark://adult',\n",
    "    na_values={k: '?' for k in [\n",
    "        'workclass',\n",
    "        'occupation',\n",
    "        'native-country'\n",
    "    ]}\n",
    ")\n",
    "load.load()"
   ]
  },
  {
   "cell_type": "code",
   "execution_count": 5,
   "metadata": {},
   "outputs": [],
   "source": [
    "import pprint\n",
    "\n",
    "\n",
    "def issue332(\n",
    "        load: Loader,\n",
    "        synthesizing_method: str,\n",
    "        scaler_inhibit: bool = False\n",
    "):\n",
    "    pp = pprint.PrettyPrinter(depth=2)\n",
    "\n",
    "    proc_discretizing = Processor(\n",
    "        metadata=load.metadata,\n",
    "    )\n",
    "\n",
    "    if scaler_inhibit:\n",
    "        print(\"Preproc config of Scaler before update as ...\")\n",
    "        pp.pprint(proc_discretizing.get_config()['scaler'])\n",
    "        proc_discretizing.update_config(\n",
    "            {'scaler': {\n",
    "                col: None for col in load.data.columns\n",
    "            }}\n",
    "        )\n",
    "        print(\"Preproc config of Scaler before after as ...\")\n",
    "        pp.pprint(proc_discretizing.get_config()['scaler'])\n",
    "\n",
    "    proc_discretizing.fit(\n",
    "        data=load.data,\n",
    "        sequence=[\n",
    "            'missing',\n",
    "            'outlier',\n",
    "            'scaler',\n",
    "            'discretizing'\n",
    "        ]\n",
    "    )\n",
    "    preproc_discretizing_data = proc_discretizing.transform(\n",
    "        data=load.data\n",
    "    )\n",
    "    print(\"Preproc data as ...\")\n",
    "    print(preproc_discretizing_data.head(1))\n",
    "\n",
    "\n",
    "\n",
    "    syn = Synthesizer(\n",
    "        method=synthesizing_method,\n",
    "        epsilon=10.0,\n",
    "    )\n",
    "    syn.create(data=preproc_discretizing_data)\n",
    "    syn.fit_sample()\n",
    "    print(\"Sync data as ...\")\n",
    "    print(syn.data_syn.head(1))"
   ]
  },
  {
   "cell_type": "code",
   "execution_count": 6,
   "metadata": {},
   "outputs": [
    {
     "name": "stdout",
     "output_type": "stream",
     "text": [
      "Preproc data as ...\n",
      "   age  workclass  fnlwgt  education  educational-num  marital-status  \\\n",
      "0  0.0          3     0.0          1              0.0               4   \n",
      "\n",
      "   occupation  relationship  race  gender  capital-gain  capital-loss  \\\n",
      "0           6             3     2       1           0.0           0.0   \n",
      "\n",
      "   hours-per-week  native-country  income  \n",
      "0             0.0              38       0  \n",
      "Synthesizer (SmartNoise): Fitting aim.\n"
     ]
    },
    {
     "name": "stderr",
     "output_type": "stream",
     "text": [
      "/Users/alex/miniforge3/envs/dev310/lib/python3.10/site-packages/mbi/__init__.py:15: UserWarning: MixtureInference disabled, please install jax and jaxlib\n",
      "  warnings.warn('MixtureInference disabled, please install jax and jaxlib')\n"
     ]
    },
    {
     "ename": "ValueError",
     "evalue": "The transformer appears to have some continuous columns. Please provide only categorical or ordinal.",
     "output_type": "error",
     "traceback": [
      "\u001b[0;31m---------------------------------------------------------------------------\u001b[0m",
      "\u001b[0;31mValueError\u001b[0m                                Traceback (most recent call last)",
      "Cell \u001b[0;32mIn[6], line 1\u001b[0m\n\u001b[0;32m----> 1\u001b[0m \u001b[43missue332\u001b[49m\u001b[43m(\u001b[49m\n\u001b[1;32m      2\u001b[0m \u001b[43m    \u001b[49m\u001b[43mload\u001b[49m\u001b[38;5;241;43m=\u001b[39;49m\u001b[43mload\u001b[49m\u001b[43m,\u001b[49m\n\u001b[1;32m      3\u001b[0m \u001b[43m    \u001b[49m\u001b[43msynthesizing_method\u001b[49m\u001b[38;5;241;43m=\u001b[39;49m\u001b[38;5;124;43m'\u001b[39;49m\u001b[38;5;124;43msmartnoise-aim\u001b[39;49m\u001b[38;5;124;43m'\u001b[39;49m\u001b[43m,\u001b[49m\n\u001b[1;32m      4\u001b[0m \u001b[43m)\u001b[49m\n",
      "Cell \u001b[0;32mIn[5], line 48\u001b[0m, in \u001b[0;36missue332\u001b[0;34m(load, synthesizing_method, scaler_inhibit)\u001b[0m\n\u001b[1;32m     43\u001b[0m syn \u001b[38;5;241m=\u001b[39m Synthesizer(\n\u001b[1;32m     44\u001b[0m     method\u001b[38;5;241m=\u001b[39msynthesizing_method,\n\u001b[1;32m     45\u001b[0m     epsilon\u001b[38;5;241m=\u001b[39m\u001b[38;5;241m10.0\u001b[39m,\n\u001b[1;32m     46\u001b[0m )\n\u001b[1;32m     47\u001b[0m syn\u001b[38;5;241m.\u001b[39mcreate(data\u001b[38;5;241m=\u001b[39mpreproc_discretizing_data)\n\u001b[0;32m---> 48\u001b[0m \u001b[43msyn\u001b[49m\u001b[38;5;241;43m.\u001b[39;49m\u001b[43mfit_sample\u001b[49m\u001b[43m(\u001b[49m\u001b[43m)\u001b[49m\n\u001b[1;32m     49\u001b[0m \u001b[38;5;28mprint\u001b[39m(\u001b[38;5;124m\"\u001b[39m\u001b[38;5;124mSync data as ...\u001b[39m\u001b[38;5;124m\"\u001b[39m)\n\u001b[1;32m     50\u001b[0m \u001b[38;5;28mprint\u001b[39m(syn\u001b[38;5;241m.\u001b[39mdata_syn\u001b[38;5;241m.\u001b[39mhead(\u001b[38;5;241m1\u001b[39m))\n",
      "File \u001b[0;32m~/PETsARD/PETsARD/synthesizer/synthesizer.py:121\u001b[0m, in \u001b[0;36mSynthesizer.fit_sample\u001b[0;34m(self, **kwargs)\u001b[0m\n\u001b[1;32m    119\u001b[0m     \u001b[38;5;28mself\u001b[39m\u001b[38;5;241m.\u001b[39mdata_syn \u001b[38;5;241m=\u001b[39m \u001b[38;5;28mself\u001b[39m\u001b[38;5;241m.\u001b[39mloader\u001b[38;5;241m.\u001b[39mdata\n\u001b[1;32m    120\u001b[0m \u001b[38;5;28;01melse\u001b[39;00m:\n\u001b[0;32m--> 121\u001b[0m     \u001b[38;5;28mself\u001b[39m\u001b[38;5;241m.\u001b[39mdata_syn \u001b[38;5;241m=\u001b[39m \u001b[38;5;28;43mself\u001b[39;49m\u001b[38;5;241;43m.\u001b[39;49m\u001b[43mSynthesizer\u001b[49m\u001b[38;5;241;43m.\u001b[39;49m\u001b[43mfit_sample\u001b[49m\u001b[43m(\u001b[49m\u001b[38;5;241;43m*\u001b[39;49m\u001b[38;5;241;43m*\u001b[39;49m\u001b[43mkwargs\u001b[49m\u001b[43m)\u001b[49m\n",
      "File \u001b[0;32m~/PETsARD/PETsARD/synthesizer/smartnoise.py:130\u001b[0m, in \u001b[0;36mSmartNoise.fit_sample\u001b[0;34m(self, sample_num_rows, reset_sampling, output_file_path)\u001b[0m\n\u001b[1;32m    111\u001b[0m \u001b[38;5;28;01mdef\u001b[39;00m \u001b[38;5;21mfit_sample\u001b[39m(\n\u001b[1;32m    112\u001b[0m         \u001b[38;5;28mself\u001b[39m,\n\u001b[1;32m    113\u001b[0m         sample_num_rows:  \u001b[38;5;28mint\u001b[39m \u001b[38;5;241m=\u001b[39m \u001b[38;5;28;01mNone\u001b[39;00m,\n\u001b[1;32m    114\u001b[0m         reset_sampling:   \u001b[38;5;28mbool\u001b[39m \u001b[38;5;241m=\u001b[39m \u001b[38;5;28;01mFalse\u001b[39;00m,\n\u001b[1;32m    115\u001b[0m         output_file_path: \u001b[38;5;28mstr\u001b[39m \u001b[38;5;241m=\u001b[39m \u001b[38;5;28;01mNone\u001b[39;00m\n\u001b[1;32m    116\u001b[0m ) \u001b[38;5;241m-\u001b[39m\u001b[38;5;241m>\u001b[39m pd\u001b[38;5;241m.\u001b[39mDataFrame:\n\u001b[1;32m    117\u001b[0m \u001b[38;5;250m    \u001b[39m\u001b[38;5;124;03m\"\"\"\u001b[39;00m\n\u001b[1;32m    118\u001b[0m \u001b[38;5;124;03m    Fit and sample from the synthesizer.\u001b[39;00m\n\u001b[1;32m    119\u001b[0m \u001b[38;5;124;03m    The combination of the methods `fit()` and `sample()`.\u001b[39;00m\n\u001b[0;32m   (...)\u001b[0m\n\u001b[1;32m    128\u001b[0m \u001b[38;5;124;03m        data_syn (pd.DataFrame): The synthesized data.\u001b[39;00m\n\u001b[1;32m    129\u001b[0m \u001b[38;5;124;03m    \"\"\"\u001b[39;00m\n\u001b[0;32m--> 130\u001b[0m     \u001b[38;5;28;43mself\u001b[39;49m\u001b[38;5;241;43m.\u001b[39;49m\u001b[43mfit\u001b[49m\u001b[43m(\u001b[49m\u001b[43m)\u001b[49m\n\u001b[1;32m    131\u001b[0m     \u001b[38;5;28;01mreturn\u001b[39;00m \u001b[38;5;28mself\u001b[39m\u001b[38;5;241m.\u001b[39msample(sample_num_rows, reset_sampling, output_file_path)\n",
      "File \u001b[0;32m~/PETsARD/PETsARD/synthesizer/smartnoise.py:47\u001b[0m, in \u001b[0;36mSmartNoise.fit\u001b[0;34m(self)\u001b[0m\n\u001b[1;32m     42\u001b[0m     t \u001b[38;5;241m=\u001b[39m TableTransformer([IdentityTransformer() \n\u001b[1;32m     43\u001b[0m                           \u001b[38;5;28;01mfor\u001b[39;00m i \u001b[38;5;129;01min\u001b[39;00m \u001b[38;5;28mrange\u001b[39m(\u001b[38;5;28mself\u001b[39m\u001b[38;5;241m.\u001b[39mdata\u001b[38;5;241m.\u001b[39mshape[\u001b[38;5;241m1\u001b[39m])])\n\u001b[1;32m     45\u001b[0m     \u001b[38;5;66;03m# TODO - Only support cube-style synthesizer. \u001b[39;00m\n\u001b[1;32m     46\u001b[0m     \u001b[38;5;66;03m# GAN-style synthesizer needed to be implemented.\u001b[39;00m\n\u001b[0;32m---> 47\u001b[0m     \u001b[38;5;28;43mself\u001b[39;49m\u001b[38;5;241;43m.\u001b[39;49m\u001b[43m_Synthesizer\u001b[49m\u001b[38;5;241;43m.\u001b[39;49m\u001b[43mfit\u001b[49m\u001b[43m(\u001b[49m\u001b[38;5;28;43mself\u001b[39;49m\u001b[38;5;241;43m.\u001b[39;49m\u001b[43mdata\u001b[49m\u001b[43m,\u001b[49m\u001b[43m \u001b[49m\u001b[43mtransformer\u001b[49m\u001b[38;5;241;43m=\u001b[39;49m\u001b[43mt\u001b[49m\u001b[43m)\u001b[49m\n\u001b[1;32m     48\u001b[0m     \u001b[38;5;28mprint\u001b[39m(\n\u001b[1;32m     49\u001b[0m         \u001b[38;5;124mf\u001b[39m\u001b[38;5;124m\"\u001b[39m\u001b[38;5;124mSynthesizer (SmartNoise): \u001b[39m\u001b[38;5;124m\"\u001b[39m\n\u001b[1;32m     50\u001b[0m         \u001b[38;5;124mf\u001b[39m\u001b[38;5;124m\"\u001b[39m\u001b[38;5;124mFitting  \u001b[39m\u001b[38;5;132;01m{\u001b[39;00m\u001b[38;5;28mself\u001b[39m\u001b[38;5;241m.\u001b[39msyn_method\u001b[38;5;132;01m}\u001b[39;00m\u001b[38;5;124m spent \u001b[39m\u001b[38;5;124m\"\u001b[39m\n\u001b[1;32m     51\u001b[0m         \u001b[38;5;124mf\u001b[39m\u001b[38;5;124m\"\u001b[39m\u001b[38;5;132;01m{\u001b[39;00m\u001b[38;5;28mround\u001b[39m(time\u001b[38;5;241m.\u001b[39mtime()\u001b[38;5;241m-\u001b[39mtime_start\u001b[38;5;250m \u001b[39m,\u001b[38;5;241m4\u001b[39m)\u001b[38;5;132;01m}\u001b[39;00m\u001b[38;5;124m sec.\u001b[39m\u001b[38;5;124m\"\u001b[39m\n\u001b[1;32m     52\u001b[0m     )\n\u001b[1;32m     53\u001b[0m \u001b[38;5;28;01melse\u001b[39;00m:\n",
      "File \u001b[0;32m~/miniforge3/envs/dev310/lib/python3.10/site-packages/snsynth/aim/aim.py:121\u001b[0m, in \u001b[0;36mAIMSynthesizer.fit\u001b[0;34m(self, data, transformer, categorical_columns, ordinal_columns, continuous_columns, preprocessor_eps, nullable, *ignore)\u001b[0m\n\u001b[1;32m    119\u001b[0m cards \u001b[38;5;241m=\u001b[39m \u001b[38;5;28mself\u001b[39m\u001b[38;5;241m.\u001b[39m_transformer\u001b[38;5;241m.\u001b[39mcardinality\n\u001b[1;32m    120\u001b[0m \u001b[38;5;28;01mif\u001b[39;00m \u001b[38;5;28many\u001b[39m(c \u001b[38;5;129;01mis\u001b[39;00m \u001b[38;5;28;01mNone\u001b[39;00m \u001b[38;5;28;01mfor\u001b[39;00m c \u001b[38;5;129;01min\u001b[39;00m cards):\n\u001b[0;32m--> 121\u001b[0m     \u001b[38;5;28;01mraise\u001b[39;00m \u001b[38;5;167;01mValueError\u001b[39;00m(\u001b[38;5;124m\"\u001b[39m\u001b[38;5;124mThe transformer appears to have some continuous columns. Please provide only categorical or ordinal.\u001b[39m\u001b[38;5;124m\"\u001b[39m)\n\u001b[1;32m    123\u001b[0m dimensionality \u001b[38;5;241m=\u001b[39m np\u001b[38;5;241m.\u001b[39mprod(cards)\n\u001b[1;32m    124\u001b[0m \u001b[38;5;28;01mif\u001b[39;00m \u001b[38;5;28mself\u001b[39m\u001b[38;5;241m.\u001b[39mverbose:\n",
      "\u001b[0;31mValueError\u001b[0m: The transformer appears to have some continuous columns. Please provide only categorical or ordinal."
     ]
    }
   ],
   "source": [
    "issue332(\n",
    "    load=load,\n",
    "    synthesizing_method='smartnoise-aim',\n",
    ")"
   ]
  },
  {
   "cell_type": "code",
   "execution_count": null,
   "metadata": {},
   "outputs": [],
   "source": []
  }
 ],
 "metadata": {
  "kernelspec": {
   "display_name": "dev310",
   "language": "python",
   "name": "python3"
  },
  "language_info": {
   "codemirror_mode": {
    "name": "ipython",
    "version": 3
   },
   "file_extension": ".py",
   "mimetype": "text/x-python",
   "name": "python",
   "nbconvert_exporter": "python",
   "pygments_lexer": "ipython3",
   "version": "3.10.13"
  }
 },
 "nbformat": 4,
 "nbformat_minor": 2
}
