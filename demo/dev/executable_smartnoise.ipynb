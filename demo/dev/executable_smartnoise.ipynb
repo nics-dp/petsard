{
 "cells": [
  {
   "cell_type": "code",
   "execution_count": 1,
   "metadata": {},
   "outputs": [],
   "source": [
    "import pandas as pd\n",
    "import numpy as np"
   ]
  },
  {
   "cell_type": "code",
   "execution_count": 2,
   "metadata": {},
   "outputs": [
    {
     "name": "stdout",
     "output_type": "stream",
     "text": [
      "/Users/alex/PETsARD\n"
     ]
    }
   ],
   "source": [
    "%cd /Users/alex/PETsARD"
   ]
  },
  {
   "cell_type": "code",
   "execution_count": 3,
   "metadata": {},
   "outputs": [
    {
     "name": "stderr",
     "output_type": "stream",
     "text": [
      "/Users/alex/miniforge3/envs/dev310/lib/python3.10/site-packages/tqdm/auto.py:21: TqdmWarning: IProgress not found. Please update jupyter and ipywidgets. See https://ipywidgets.readthedocs.io/en/stable/user_install.html\n",
      "  from .autonotebook import tqdm as notebook_tqdm\n"
     ]
    },
    {
     "name": "stdout",
     "output_type": "stream",
     "text": [
      "Loader - Benchmarker: file benchmark/adult.csv already exist and match SHA-256.\n",
      "                      PETsARD will ignore download and use local data directly.\n"
     ]
    }
   ],
   "source": [
    "from PETsARD import (\n",
    "    Loader,\n",
    "    Processor,\n",
    "    Synthesizer\n",
    ")\n",
    "\n",
    "\n",
    "load = Loader(\n",
    "    filepath='benchmark://adult',\n",
    "    na_values={k: '?' for k in [\n",
    "        'workclass',\n",
    "        'occupation',\n",
    "        'native-country'\n",
    "    ]}\n",
    ")\n",
    "load.load()"
   ]
  },
  {
   "cell_type": "code",
   "execution_count": 9,
   "metadata": {},
   "outputs": [],
   "source": [
    "load.data = load.data.loc[:1000, :]"
   ]
  },
  {
   "cell_type": "code",
   "execution_count": 4,
   "metadata": {},
   "outputs": [],
   "source": [
    "import pprint\n",
    "\n",
    "\n",
    "def issue332(\n",
    "        load: Loader,\n",
    "        synthesizing_method: str,\n",
    "        scaler_inhibit: bool = False\n",
    "):\n",
    "    pp = pprint.PrettyPrinter(depth=2)\n",
    "\n",
    "    proc_discretizing = Processor(\n",
    "        metadata=load.metadata,\n",
    "    )\n",
    "\n",
    "    if scaler_inhibit:\n",
    "        print(\"Preproc config of Scaler before update as ...\")\n",
    "        pp.pprint(proc_discretizing.get_config()['scaler'])\n",
    "        proc_discretizing.update_config(\n",
    "            {'scaler': {\n",
    "                col: None for col in load.data.columns\n",
    "            }}\n",
    "        )\n",
    "        print(\"Preproc config of Scaler before after as ...\")\n",
    "        pp.pprint(proc_discretizing.get_config()['scaler'])\n",
    "\n",
    "    proc_discretizing.fit(\n",
    "        data=load.data,\n",
    "        sequence=[\n",
    "            'missing',\n",
    "            'outlier',\n",
    "            'scaler',\n",
    "            'discretizing'\n",
    "        ]\n",
    "    )\n",
    "    preproc_discretizing_data = proc_discretizing.transform(\n",
    "        data=load.data\n",
    "    )\n",
    "    print(\"Preproc data as ...\")\n",
    "    print(preproc_discretizing_data.head(1))\n",
    "\n",
    "\n",
    "    syn = Synthesizer(\n",
    "        method=synthesizing_method,\n",
    "        epsilon=10.0,\n",
    "    )\n",
    "    syn.create(data=preproc_discretizing_data)\n",
    "    syn.fit_sample()\n",
    "    print(\"Sync data as ...\")\n",
    "    print(syn.data_syn.head(1))"
   ]
  },
  {
   "cell_type": "code",
   "execution_count": 11,
   "metadata": {},
   "outputs": [
    {
     "name": "stdout",
     "output_type": "stream",
     "text": [
      "Preproc data as ...\n",
      "   age workclass fnlwgt education educational-num marital-status occupation  \\\n",
      "0  0.0         2    0.0         1             0.0              4          6   \n",
      "\n",
      "  relationship race gender capital-gain capital-loss hours-per-week  \\\n",
      "0            3    2      1          0.0          0.0            0.0   \n",
      "\n",
      "  native-country income  \n",
      "0             25      0  \n",
      "age                category\n",
      "workclass          category\n",
      "fnlwgt             category\n",
      "education          category\n",
      "educational-num    category\n",
      "marital-status     category\n",
      "occupation         category\n",
      "relationship       category\n",
      "race               category\n",
      "gender             category\n",
      "capital-gain       category\n",
      "capital-loss       category\n",
      "hours-per-week     category\n",
      "native-country     category\n",
      "income             category\n",
      "dtype: object\n",
      "Synthesizer (SmartNoise): Fitting mst.\n",
      "Synthesizer (SmartNoise): Fitting  mst spent 41.2776 sec.\n",
      "Synthesizer (SmartNoise): Sampling mst # 558 rows (same as raw) in 0.0326 sec.\n",
      "Sync data as ...\n",
      "   age  workclass  fnlwgt  education  educational-num  marital-status  \\\n",
      "0  0.0          2     0.0          8              0.0               2   \n",
      "\n",
      "   occupation  relationship  race  gender  capital-gain  capital-loss  \\\n",
      "0           2             0     4       1           0.0           0.0   \n",
      "\n",
      "   hours-per-week  native-country  income  \n",
      "0             0.0              25       0  \n"
     ]
    }
   ],
   "source": [
    "issue332(\n",
    "    load=load,\n",
    "    synthesizing_method='smartnoise-mst',\n",
    ")"
   ]
  },
  {
   "cell_type": "code",
   "execution_count": 12,
   "metadata": {},
   "outputs": [],
   "source": [
    "a = np.array([1,2,3])"
   ]
  },
  {
   "cell_type": "code",
   "execution_count": 15,
   "metadata": {},
   "outputs": [
    {
     "data": {
      "text/plain": [
       "array([1, 2, 3])"
      ]
     },
     "execution_count": 15,
     "metadata": {},
     "output_type": "execute_result"
    }
   ],
   "source": [
    "pd.Categorical(a).to_numpy()"
   ]
  },
  {
   "cell_type": "code",
   "execution_count": null,
   "metadata": {},
   "outputs": [],
   "source": []
  }
 ],
 "metadata": {
  "kernelspec": {
   "display_name": "dev310",
   "language": "python",
   "name": "python3"
  },
  "language_info": {
   "codemirror_mode": {
    "name": "ipython",
    "version": 3
   },
   "file_extension": ".py",
   "mimetype": "text/x-python",
   "name": "python",
   "nbconvert_exporter": "python",
   "pygments_lexer": "ipython3",
   "version": "3.10.13"
  }
 },
 "nbformat": 4,
 "nbformat_minor": 2
}
