{
 "cells": [
  {
   "cell_type": "markdown",
   "metadata": {},
   "source": [
    "# Environment"
   ]
  },
  {
   "cell_type": "code",
   "execution_count": 1,
   "metadata": {},
   "outputs": [
    {
     "name": "stdout",
     "output_type": "stream",
     "text": [
      "d:\\Dropbox\\89_other_application\\GitHub\\PETsARD\n"
     ]
    }
   ],
   "source": [
    "import os\n",
    "import pprint\n",
    "import sys\n",
    "\n",
    "path_petsard = os.path.dirname(os.path.dirname(os.getcwd()))\n",
    "print(path_petsard)\n",
    "sys.path.append(path_petsard)\n",
    "\n",
    "pp = pprint.PrettyPrinter(depth=2)"
   ]
  },
  {
   "cell_type": "markdown",
   "metadata": {},
   "source": [
    "## Data Loading"
   ]
  },
  {
   "cell_type": "code",
   "execution_count": 6,
   "metadata": {},
   "outputs": [
    {
     "name": "stdout",
     "output_type": "stream",
     "text": [
      "Loader - Benchmarker: file benchmark\\adult.csv already exist and match SHA-256.\n",
      "                      PETsARD will ignore download and use local data directly.\n",
      "   age  workclass  fnlwgt  education  educational-num  marital-status  \\\n",
      "0  0.0          3     0.0          1              0.0               4   \n",
      "\n",
      "   occupation  relationship  race  gender  capital-gain  capital-loss  \\\n",
      "0           6             3     2       1           0.0           0.0   \n",
      "\n",
      "   hours-per-week  native-country  income  \n",
      "0             0.0              38       0  \n"
     ]
    }
   ],
   "source": [
    "from PETsARD import (\n",
    "    Loader,\n",
    "    Processor,\n",
    "    Synthesizer\n",
    ")\n",
    "\n",
    "\n",
    "load = Loader(\n",
    "    filepath='benchmark://adult',\n",
    "    na_values={k: '?' for k in [\n",
    "        'workclass',\n",
    "        'occupation',\n",
    "        'native-country'\n",
    "    ]}\n",
    ")\n",
    "load.load()"
   ]
  },
  {
   "cell_type": "markdown",
   "metadata": {},
   "source": [
    "# Executable Smartnoise check"
   ]
  },
  {
   "cell_type": "code",
   "execution_count": 16,
   "metadata": {},
   "outputs": [
    {
     "name": "stdout",
     "output_type": "stream",
     "text": [
      "Name: smartnoise-synth\n",
      "Version: 0.3.3\n"
     ]
    }
   ],
   "source": [
    "import pkg_resources\n",
    "\n",
    "import snsynth\n",
    "\n",
    "\n",
    "# snsynth.__version__\n",
    "# AttributeError: module 'snsynth' has no attribute '__version__'\n",
    "\n",
    "# snsynth.__file__\n",
    "# No version info incl.\n",
    "\n",
    "package_name = 'smartnoise-synth' # = snsynth\n",
    "try:\n",
    "    dist = pkg_resources.get_distribution(package_name)\n",
    "    print(f\"Name: {dist.project_name}\")\n",
    "    print(f\"Version: {dist.version}\")\n",
    "except pkg_resources.DistributionNotFound:\n",
    "    print(f\"Package '{package_name}' not found\")\n",
    "# Name: smartnoise-synth\n",
    "# Version: 0.3.3"
   ]
  },
  {
   "cell_type": "code",
   "execution_count": 45,
   "metadata": {},
   "outputs": [],
   "source": [
    "import pprint\n",
    "\n",
    "import pandas as pd\n",
    "\n",
    "\n",
    "def issue332(\n",
    "        load: Loader,\n",
    "        synthesizing_method: str,\n",
    "        scaler_inhibit: bool = False\n",
    "):\n",
    "    pp = pprint.PrettyPrinter(depth=2)\n",
    "\n",
    "    proc_discretizing = Processor(\n",
    "        metadata=load.metadata,\n",
    "    )\n",
    "\n",
    "    if scaler_inhibit:\n",
    "        print(\"Preproc config of Scaler before update as ...\")\n",
    "        pp.pprint(proc_discretizing.get_config()['scaler'])\n",
    "        proc_discretizing.update_config(\n",
    "            {'scaler': {\n",
    "                col: None for col in load.data.columns\n",
    "            }}\n",
    "        )\n",
    "        print(\"Preproc config of Scaler before after as ...\")\n",
    "        pp.pprint(proc_discretizing.get_config()['scaler'])\n",
    "\n",
    "    proc_discretizing.fit(\n",
    "        data=load.data,\n",
    "        sequence=[\n",
    "            'missing',\n",
    "            'outlier',\n",
    "            'scaler',\n",
    "            'discretizing'\n",
    "        ]\n",
    "    )\n",
    "    preproc_discretizing_data = proc_discretizing.transform(\n",
    "        data=load.data\n",
    "    )\n",
    "    print(\"Preproc data as ...\")\n",
    "    print(preproc_discretizing_data.head(1))\n",
    "\n",
    "\n",
    "\n",
    "    syn = Synthesizer(\n",
    "        method=synthesizing_method,\n",
    "        epsilon=10.0,\n",
    "    )\n",
    "    syn.create(data=preproc_discretizing_data)\n",
    "    syn.fit_sample()\n",
    "    print(\"Sync data as ...\")\n",
    "    print(syn.data_syn.head(1))"
   ]
  },
  {
   "cell_type": "markdown",
   "metadata": {},
   "source": [
    "## Pure Discretizing"
   ]
  },
  {
   "cell_type": "markdown",
   "metadata": {},
   "source": [
    "### 'smartnoise-aim' - aim not found"
   ]
  },
  {
   "cell_type": "code",
   "execution_count": 46,
   "metadata": {},
   "outputs": [
    {
     "name": "stdout",
     "output_type": "stream",
     "text": [
      "Preproc data as ...\n",
      "   age  workclass  fnlwgt  education  educational-num  marital-status  \\\n",
      "0  0.0          3     0.0          1              0.0               4   \n",
      "\n",
      "   occupation  relationship  race  gender  capital-gain  capital-loss  \\\n",
      "0           6             3     2       1           0.0           0.0   \n",
      "\n",
      "   hours-per-week  native-country  income  \n",
      "0             0.0              38       0  \n"
     ]
    },
    {
     "ename": "ValueError",
     "evalue": "Synthesizer aim not found",
     "output_type": "error",
     "traceback": [
      "\u001b[1;31m---------------------------------------------------------------------------\u001b[0m",
      "\u001b[1;31mValueError\u001b[0m                                Traceback (most recent call last)",
      "Cell \u001b[1;32mIn[46], line 1\u001b[0m\n\u001b[1;32m----> 1\u001b[0m \u001b[43missue332\u001b[49m\u001b[43m(\u001b[49m\n\u001b[0;32m      2\u001b[0m \u001b[43m    \u001b[49m\u001b[43mload\u001b[49m\u001b[38;5;241;43m=\u001b[39;49m\u001b[43mload\u001b[49m\u001b[43m,\u001b[49m\n\u001b[0;32m      3\u001b[0m \u001b[43m    \u001b[49m\u001b[43msynthesizing_method\u001b[49m\u001b[38;5;241;43m=\u001b[39;49m\u001b[38;5;124;43m'\u001b[39;49m\u001b[38;5;124;43msmartnoise-aim\u001b[39;49m\u001b[38;5;124;43m'\u001b[39;49m\u001b[43m,\u001b[49m\n\u001b[0;32m      4\u001b[0m \u001b[43m)\u001b[49m\n\u001b[0;32m      5\u001b[0m \u001b[38;5;66;03m# ValueError: Synthesizer aim not found\u001b[39;00m\n",
      "Cell \u001b[1;32mIn[45], line 49\u001b[0m, in \u001b[0;36missue332\u001b[1;34m(load, synthesizing_method, scaler_inhibit)\u001b[0m\n\u001b[0;32m     41\u001b[0m \u001b[38;5;28mprint\u001b[39m(preproc_discretizing_data\u001b[38;5;241m.\u001b[39mhead(\u001b[38;5;241m1\u001b[39m))\n\u001b[0;32m     45\u001b[0m syn \u001b[38;5;241m=\u001b[39m Synthesizer(\n\u001b[0;32m     46\u001b[0m     method\u001b[38;5;241m=\u001b[39msynthesizing_method,\n\u001b[0;32m     47\u001b[0m     epsilon\u001b[38;5;241m=\u001b[39m\u001b[38;5;241m10.0\u001b[39m,\n\u001b[0;32m     48\u001b[0m )\n\u001b[1;32m---> 49\u001b[0m \u001b[43msyn\u001b[49m\u001b[38;5;241;43m.\u001b[39;49m\u001b[43mcreate\u001b[49m\u001b[43m(\u001b[49m\u001b[43mdata\u001b[49m\u001b[38;5;241;43m=\u001b[39;49m\u001b[43mpreproc_discretizing_data\u001b[49m\u001b[43m)\u001b[49m\n\u001b[0;32m     50\u001b[0m syn\u001b[38;5;241m.\u001b[39mfit_sample()\n\u001b[0;32m     51\u001b[0m \u001b[38;5;28mprint\u001b[39m(\u001b[38;5;124m\"\u001b[39m\u001b[38;5;124mSync data as ...\u001b[39m\u001b[38;5;124m\"\u001b[39m)\n",
      "File \u001b[1;32md:\\Dropbox\\89_other_application\\GitHub\\PETsARD\\PETsARD\\synthesizer\\synthesizer.py:84\u001b[0m, in \u001b[0;36mSynthesizer.create\u001b[1;34m(self, data)\u001b[0m\n\u001b[0;32m     82\u001b[0m     \u001b[38;5;28mself\u001b[39m\u001b[38;5;241m.\u001b[39mSynthesizer \u001b[38;5;241m=\u001b[39m SDVFactory(\u001b[38;5;241m*\u001b[39m\u001b[38;5;241m*\u001b[39m\u001b[38;5;28mself\u001b[39m\u001b[38;5;241m.\u001b[39mconfig)\u001b[38;5;241m.\u001b[39mcreate()\n\u001b[0;32m     83\u001b[0m \u001b[38;5;28;01melif\u001b[39;00m \u001b[38;5;28mself\u001b[39m\u001b[38;5;241m.\u001b[39mconfig[\u001b[38;5;124m'\u001b[39m\u001b[38;5;124mmethod_code\u001b[39m\u001b[38;5;124m'\u001b[39m] \u001b[38;5;241m==\u001b[39m SynthesizerMap\u001b[38;5;241m.\u001b[39mSMARTNOISE:\n\u001b[1;32m---> 84\u001b[0m     \u001b[38;5;28mself\u001b[39m\u001b[38;5;241m.\u001b[39mSynthesizer \u001b[38;5;241m=\u001b[39m SmartNoiseFactory(\u001b[38;5;241m*\u001b[39m\u001b[38;5;241m*\u001b[39m\u001b[38;5;28mself\u001b[39m\u001b[38;5;241m.\u001b[39mconfig)\u001b[38;5;241m.\u001b[39mcreate()\n\u001b[0;32m     85\u001b[0m \u001b[38;5;28;01melse\u001b[39;00m:\n\u001b[0;32m     86\u001b[0m     \u001b[38;5;28;01mraise\u001b[39;00m UnsupportedMethodError\n",
      "File \u001b[1;32md:\\Dropbox\\89_other_application\\GitHub\\PETsARD\\PETsARD\\synthesizer\\smartnoise.py:151\u001b[0m, in \u001b[0;36mSmartNoiseFactory.__init__\u001b[1;34m(self, data, **kwargs)\u001b[0m\n\u001b[0;32m    148\u001b[0m epsilon: \u001b[38;5;28mfloat\u001b[39m \u001b[38;5;241m=\u001b[39m kwargs\u001b[38;5;241m.\u001b[39mget(\u001b[38;5;124m'\u001b[39m\u001b[38;5;124mepsilon\u001b[39m\u001b[38;5;124m'\u001b[39m, \u001b[38;5;241m5.0\u001b[39m)\n\u001b[0;32m    150\u001b[0m \u001b[38;5;28;01mif\u001b[39;00m method\u001b[38;5;241m.\u001b[39mstartswith(\u001b[38;5;124m'\u001b[39m\u001b[38;5;124msmartnoise-\u001b[39m\u001b[38;5;124m'\u001b[39m):\n\u001b[1;32m--> 151\u001b[0m     \u001b[38;5;28mself\u001b[39m\u001b[38;5;241m.\u001b[39mSynthesizer \u001b[38;5;241m=\u001b[39m \u001b[43mSmartNoiseCreator\u001b[49m\u001b[43m(\u001b[49m\n\u001b[0;32m    152\u001b[0m \u001b[43m        \u001b[49m\u001b[43mdata\u001b[49m\u001b[43m,\u001b[49m\n\u001b[0;32m    153\u001b[0m \u001b[43m        \u001b[49m\u001b[43mmethod\u001b[49m\u001b[38;5;241;43m=\u001b[39;49m\u001b[43mmethod\u001b[49m\u001b[38;5;241;43m.\u001b[39;49m\u001b[43msplit\u001b[49m\u001b[43m(\u001b[49m\u001b[38;5;124;43m'\u001b[39;49m\u001b[38;5;124;43m-\u001b[39;49m\u001b[38;5;124;43m'\u001b[39;49m\u001b[43m)\u001b[49m\u001b[43m[\u001b[49m\u001b[38;5;241;43m1\u001b[39;49m\u001b[43m]\u001b[49m\u001b[43m,\u001b[49m\u001b[43m \u001b[49m\n\u001b[0;32m    154\u001b[0m \u001b[43m        \u001b[49m\u001b[43mepsilon\u001b[49m\u001b[38;5;241;43m=\u001b[39;49m\u001b[43mepsilon\u001b[49m\n\u001b[0;32m    155\u001b[0m \u001b[43m    \u001b[49m\u001b[43m)\u001b[49m\n\u001b[0;32m    156\u001b[0m \u001b[38;5;28;01melse\u001b[39;00m:\n\u001b[0;32m    157\u001b[0m     \u001b[38;5;28;01mraise\u001b[39;00m UnsupportedMethodError\n",
      "File \u001b[1;32md:\\Dropbox\\89_other_application\\GitHub\\PETsARD\\PETsARD\\synthesizer\\smartnoise.py:185\u001b[0m, in \u001b[0;36mSmartNoiseCreator.__init__\u001b[1;34m(self, data, method, epsilon, **kwargs)\u001b[0m\n\u001b[0;32m    182\u001b[0m \u001b[38;5;28msuper\u001b[39m()\u001b[38;5;241m.\u001b[39m\u001b[38;5;21m__init__\u001b[39m(data, \u001b[38;5;241m*\u001b[39m\u001b[38;5;241m*\u001b[39mkwargs)\n\u001b[0;32m    183\u001b[0m \u001b[38;5;28mself\u001b[39m\u001b[38;5;241m.\u001b[39msyn_method: \u001b[38;5;28mstr\u001b[39m \u001b[38;5;241m=\u001b[39m method\n\u001b[1;32m--> 185\u001b[0m \u001b[38;5;28mself\u001b[39m\u001b[38;5;241m.\u001b[39m_Synthesizer \u001b[38;5;241m=\u001b[39m \u001b[43mSNSyn\u001b[49m\u001b[38;5;241;43m.\u001b[39;49m\u001b[43mcreate\u001b[49m\u001b[43m(\u001b[49m\u001b[43mmethod\u001b[49m\u001b[43m,\u001b[49m\u001b[43m \u001b[49m\u001b[43mepsilon\u001b[49m\u001b[38;5;241;43m=\u001b[39;49m\u001b[43mepsilon\u001b[49m\u001b[43m)\u001b[49m\n",
      "File \u001b[1;32md:\\Dropbox\\89_other_application\\GitHub\\PETsARD\\.venv\\lib\\site-packages\\snsynth\\base.py:211\u001b[0m, in \u001b[0;36mSynthesizer.create\u001b[1;34m(cls, synth, epsilon, *args, **kwargs)\u001b[0m\n\u001b[0;32m    209\u001b[0m synth \u001b[38;5;241m=\u001b[39m synth\u001b[38;5;241m.\u001b[39mlower()\n\u001b[0;32m    210\u001b[0m \u001b[38;5;28;01mif\u001b[39;00m synth \u001b[38;5;129;01mnot\u001b[39;00m \u001b[38;5;129;01min\u001b[39;00m synth_map:\n\u001b[1;32m--> 211\u001b[0m     \u001b[38;5;28;01mraise\u001b[39;00m \u001b[38;5;167;01mValueError\u001b[39;00m(\u001b[38;5;124m'\u001b[39m\u001b[38;5;124mSynthesizer \u001b[39m\u001b[38;5;132;01m{}\u001b[39;00m\u001b[38;5;124m not found\u001b[39m\u001b[38;5;124m'\u001b[39m\u001b[38;5;241m.\u001b[39mformat(synth))\n\u001b[0;32m    212\u001b[0m synth_class \u001b[38;5;241m=\u001b[39m synth_map[synth][\u001b[38;5;124m'\u001b[39m\u001b[38;5;124mclass\u001b[39m\u001b[38;5;124m'\u001b[39m]\n\u001b[0;32m    213\u001b[0m synth_module, synth_class \u001b[38;5;241m=\u001b[39m synth_class\u001b[38;5;241m.\u001b[39mrsplit(\u001b[38;5;124m'\u001b[39m\u001b[38;5;124m.\u001b[39m\u001b[38;5;124m'\u001b[39m, \u001b[38;5;241m1\u001b[39m)\n",
      "\u001b[1;31mValueError\u001b[0m: Synthesizer aim not found"
     ]
    }
   ],
   "source": [
    "issue332(\n",
    "    load=load,\n",
    "    synthesizing_method='smartnoise-aim',\n",
    ")\n",
    "# ValueError: Synthesizer aim not found"
   ]
  },
  {
   "cell_type": "markdown",
   "metadata": {},
   "source": [
    "### 'smartnoise-mwem' - MemoryError"
   ]
  },
  {
   "cell_type": "code",
   "execution_count": 47,
   "metadata": {},
   "outputs": [
    {
     "name": "stdout",
     "output_type": "stream",
     "text": [
      "Preproc data as ...\n",
      "   age  workclass  fnlwgt  education  educational-num  marital-status  \\\n",
      "0  0.0          3     0.0          1              0.0               4   \n",
      "\n",
      "   occupation  relationship  race  gender  capital-gain  capital-loss  \\\n",
      "0           6             3     2       1           0.0           0.0   \n",
      "\n",
      "   hours-per-week  native-country  income  \n",
      "0             0.0              38       0  \n",
      "Synthesizer (SmartNoise): Fitting mwem.\n"
     ]
    },
    {
     "ename": "MemoryError",
     "evalue": "Unable to allocate 5.30 TiB for an array with shape (728012759040,) and data type int64",
     "output_type": "error",
     "traceback": [
      "\u001b[1;31m---------------------------------------------------------------------------\u001b[0m",
      "\u001b[1;31mMemoryError\u001b[0m                               Traceback (most recent call last)",
      "Cell \u001b[1;32mIn[47], line 1\u001b[0m\n\u001b[1;32m----> 1\u001b[0m \u001b[43missue332\u001b[49m\u001b[43m(\u001b[49m\n\u001b[0;32m      2\u001b[0m \u001b[43m    \u001b[49m\u001b[43mload\u001b[49m\u001b[38;5;241;43m=\u001b[39;49m\u001b[43mload\u001b[49m\u001b[43m,\u001b[49m\n\u001b[0;32m      3\u001b[0m \u001b[43m    \u001b[49m\u001b[43msynthesizing_method\u001b[49m\u001b[38;5;241;43m=\u001b[39;49m\u001b[38;5;124;43m'\u001b[39;49m\u001b[38;5;124;43msmartnoise-mwem\u001b[39;49m\u001b[38;5;124;43m'\u001b[39;49m\u001b[43m,\u001b[49m\n\u001b[0;32m      4\u001b[0m \u001b[43m)\u001b[49m\n\u001b[0;32m      5\u001b[0m \u001b[38;5;66;03m# MemoryError: Unable to allocate 5.30 TiB for an array with shape (728012759040,) and data type int64\u001b[39;00m\n",
      "Cell \u001b[1;32mIn[45], line 50\u001b[0m, in \u001b[0;36missue332\u001b[1;34m(load, synthesizing_method, scaler_inhibit)\u001b[0m\n\u001b[0;32m     45\u001b[0m syn \u001b[38;5;241m=\u001b[39m Synthesizer(\n\u001b[0;32m     46\u001b[0m     method\u001b[38;5;241m=\u001b[39msynthesizing_method,\n\u001b[0;32m     47\u001b[0m     epsilon\u001b[38;5;241m=\u001b[39m\u001b[38;5;241m10.0\u001b[39m,\n\u001b[0;32m     48\u001b[0m )\n\u001b[0;32m     49\u001b[0m syn\u001b[38;5;241m.\u001b[39mcreate(data\u001b[38;5;241m=\u001b[39mpreproc_discretizing_data)\n\u001b[1;32m---> 50\u001b[0m \u001b[43msyn\u001b[49m\u001b[38;5;241;43m.\u001b[39;49m\u001b[43mfit_sample\u001b[49m\u001b[43m(\u001b[49m\u001b[43m)\u001b[49m\n\u001b[0;32m     51\u001b[0m \u001b[38;5;28mprint\u001b[39m(\u001b[38;5;124m\"\u001b[39m\u001b[38;5;124mSync data as ...\u001b[39m\u001b[38;5;124m\"\u001b[39m)\n\u001b[0;32m     52\u001b[0m \u001b[38;5;28mprint\u001b[39m(syn\u001b[38;5;241m.\u001b[39mdata_syn\u001b[38;5;241m.\u001b[39mhead(\u001b[38;5;241m1\u001b[39m))\n",
      "File \u001b[1;32md:\\Dropbox\\89_other_application\\GitHub\\PETsARD\\PETsARD\\synthesizer\\synthesizer.py:121\u001b[0m, in \u001b[0;36mSynthesizer.fit_sample\u001b[1;34m(self, **kwargs)\u001b[0m\n\u001b[0;32m    119\u001b[0m     \u001b[38;5;28mself\u001b[39m\u001b[38;5;241m.\u001b[39mdata_syn \u001b[38;5;241m=\u001b[39m \u001b[38;5;28mself\u001b[39m\u001b[38;5;241m.\u001b[39mloader\u001b[38;5;241m.\u001b[39mdata\n\u001b[0;32m    120\u001b[0m \u001b[38;5;28;01melse\u001b[39;00m:\n\u001b[1;32m--> 121\u001b[0m     \u001b[38;5;28mself\u001b[39m\u001b[38;5;241m.\u001b[39mdata_syn \u001b[38;5;241m=\u001b[39m \u001b[38;5;28mself\u001b[39m\u001b[38;5;241m.\u001b[39mSynthesizer\u001b[38;5;241m.\u001b[39mfit_sample(\u001b[38;5;241m*\u001b[39m\u001b[38;5;241m*\u001b[39mkwargs)\n",
      "File \u001b[1;32md:\\Dropbox\\89_other_application\\GitHub\\PETsARD\\PETsARD\\synthesizer\\smartnoise.py:130\u001b[0m, in \u001b[0;36mSmartNoise.fit_sample\u001b[1;34m(self, sample_num_rows, reset_sampling, output_file_path)\u001b[0m\n\u001b[0;32m    111\u001b[0m \u001b[38;5;28;01mdef\u001b[39;00m \u001b[38;5;21mfit_sample\u001b[39m(\n\u001b[0;32m    112\u001b[0m         \u001b[38;5;28mself\u001b[39m,\n\u001b[0;32m    113\u001b[0m         sample_num_rows:  \u001b[38;5;28mint\u001b[39m \u001b[38;5;241m=\u001b[39m \u001b[38;5;28;01mNone\u001b[39;00m,\n\u001b[0;32m    114\u001b[0m         reset_sampling:   \u001b[38;5;28mbool\u001b[39m \u001b[38;5;241m=\u001b[39m \u001b[38;5;28;01mFalse\u001b[39;00m,\n\u001b[0;32m    115\u001b[0m         output_file_path: \u001b[38;5;28mstr\u001b[39m \u001b[38;5;241m=\u001b[39m \u001b[38;5;28;01mNone\u001b[39;00m\n\u001b[0;32m    116\u001b[0m ) \u001b[38;5;241m-\u001b[39m\u001b[38;5;241m>\u001b[39m pd\u001b[38;5;241m.\u001b[39mDataFrame:\n\u001b[0;32m    117\u001b[0m \u001b[38;5;250m    \u001b[39m\u001b[38;5;124;03m\"\"\"\u001b[39;00m\n\u001b[0;32m    118\u001b[0m \u001b[38;5;124;03m    Fit and sample from the synthesizer.\u001b[39;00m\n\u001b[0;32m    119\u001b[0m \u001b[38;5;124;03m    The combination of the methods `fit()` and `sample()`.\u001b[39;00m\n\u001b[1;32m   (...)\u001b[0m\n\u001b[0;32m    128\u001b[0m \u001b[38;5;124;03m        data_syn (pd.DataFrame): The synthesized data.\u001b[39;00m\n\u001b[0;32m    129\u001b[0m \u001b[38;5;124;03m    \"\"\"\u001b[39;00m\n\u001b[1;32m--> 130\u001b[0m     \u001b[38;5;28;43mself\u001b[39;49m\u001b[38;5;241;43m.\u001b[39;49m\u001b[43mfit\u001b[49m\u001b[43m(\u001b[49m\u001b[43m)\u001b[49m\n\u001b[0;32m    131\u001b[0m     \u001b[38;5;28;01mreturn\u001b[39;00m \u001b[38;5;28mself\u001b[39m\u001b[38;5;241m.\u001b[39msample(sample_num_rows, reset_sampling, output_file_path)\n",
      "File \u001b[1;32md:\\Dropbox\\89_other_application\\GitHub\\PETsARD\\PETsARD\\synthesizer\\smartnoise.py:47\u001b[0m, in \u001b[0;36mSmartNoise.fit\u001b[1;34m(self)\u001b[0m\n\u001b[0;32m     42\u001b[0m     t \u001b[38;5;241m=\u001b[39m TableTransformer([IdentityTransformer() \n\u001b[0;32m     43\u001b[0m                           \u001b[38;5;28;01mfor\u001b[39;00m i \u001b[38;5;129;01min\u001b[39;00m \u001b[38;5;28mrange\u001b[39m(\u001b[38;5;28mself\u001b[39m\u001b[38;5;241m.\u001b[39mdata\u001b[38;5;241m.\u001b[39mshape[\u001b[38;5;241m1\u001b[39m])])\n\u001b[0;32m     45\u001b[0m     \u001b[38;5;66;03m# TODO - Only support cube-style synthesizer. \u001b[39;00m\n\u001b[0;32m     46\u001b[0m     \u001b[38;5;66;03m# GAN-style synthesizer needed to be implemented.\u001b[39;00m\n\u001b[1;32m---> 47\u001b[0m     \u001b[38;5;28;43mself\u001b[39;49m\u001b[38;5;241;43m.\u001b[39;49m\u001b[43m_Synthesizer\u001b[49m\u001b[38;5;241;43m.\u001b[39;49m\u001b[43mfit\u001b[49m\u001b[43m(\u001b[49m\u001b[38;5;28;43mself\u001b[39;49m\u001b[38;5;241;43m.\u001b[39;49m\u001b[43mdata\u001b[49m\u001b[43m,\u001b[49m\u001b[43m \u001b[49m\u001b[43mtransformer\u001b[49m\u001b[38;5;241;43m=\u001b[39;49m\u001b[43mt\u001b[49m\u001b[43m)\u001b[49m\n\u001b[0;32m     48\u001b[0m     \u001b[38;5;28mprint\u001b[39m(\n\u001b[0;32m     49\u001b[0m         \u001b[38;5;124mf\u001b[39m\u001b[38;5;124m\"\u001b[39m\u001b[38;5;124mSynthesizer (SmartNoise): \u001b[39m\u001b[38;5;124m\"\u001b[39m\n\u001b[0;32m     50\u001b[0m         \u001b[38;5;124mf\u001b[39m\u001b[38;5;124m\"\u001b[39m\u001b[38;5;124mFitting  \u001b[39m\u001b[38;5;132;01m{\u001b[39;00m\u001b[38;5;28mself\u001b[39m\u001b[38;5;241m.\u001b[39msyn_method\u001b[38;5;132;01m}\u001b[39;00m\u001b[38;5;124m spent \u001b[39m\u001b[38;5;124m\"\u001b[39m\n\u001b[0;32m     51\u001b[0m         \u001b[38;5;124mf\u001b[39m\u001b[38;5;124m\"\u001b[39m\u001b[38;5;132;01m{\u001b[39;00m\u001b[38;5;28mround\u001b[39m(time\u001b[38;5;241m.\u001b[39mtime()\u001b[38;5;241m-\u001b[39mtime_start\u001b[38;5;250m \u001b[39m,\u001b[38;5;241m4\u001b[39m)\u001b[38;5;132;01m}\u001b[39;00m\u001b[38;5;124m sec.\u001b[39m\u001b[38;5;124m\"\u001b[39m\n\u001b[0;32m     52\u001b[0m     )\n\u001b[0;32m     53\u001b[0m \u001b[38;5;28;01melse\u001b[39;00m:\n",
      "File \u001b[1;32md:\\Dropbox\\89_other_application\\GitHub\\PETsARD\\.venv\\lib\\site-packages\\snsynth\\mwem.py:352\u001b[0m, in \u001b[0;36mMWEMSynthesizer.fit\u001b[1;34m(self, data, transformer, categorical_columns, ordinal_columns, continuous_columns, preprocessor_eps, nullable, *ignore)\u001b[0m\n\u001b[0;32m    348\u001b[0m     \u001b[38;5;28mself\u001b[39m\u001b[38;5;241m.\u001b[39mhistograms \u001b[38;5;241m=\u001b[39m \u001b[38;5;28mself\u001b[39m\u001b[38;5;241m.\u001b[39m_histogram_from_data_attributes(\n\u001b[0;32m    349\u001b[0m         \u001b[38;5;28mself\u001b[39m\u001b[38;5;241m.\u001b[39mdata, [np\u001b[38;5;241m.\u001b[39marange(\u001b[38;5;28mself\u001b[39m\u001b[38;5;241m.\u001b[39mdata\u001b[38;5;241m.\u001b[39mshape[\u001b[38;5;241m1\u001b[39m])]\n\u001b[0;32m    350\u001b[0m     )\n\u001b[0;32m    351\u001b[0m \u001b[38;5;28;01melse\u001b[39;00m:\n\u001b[1;32m--> 352\u001b[0m     \u001b[38;5;28mself\u001b[39m\u001b[38;5;241m.\u001b[39mhistograms \u001b[38;5;241m=\u001b[39m \u001b[38;5;28;43mself\u001b[39;49m\u001b[38;5;241;43m.\u001b[39;49m\u001b[43m_histogram_from_data_attributes\u001b[49m\u001b[43m(\u001b[49m\u001b[38;5;28;43mself\u001b[39;49m\u001b[38;5;241;43m.\u001b[39;49m\u001b[43mdata\u001b[49m\u001b[43m,\u001b[49m\u001b[43m \u001b[49m\u001b[38;5;28;43mself\u001b[39;49m\u001b[38;5;241;43m.\u001b[39;49m\u001b[43msplits\u001b[49m\u001b[43m)\u001b[49m\n\u001b[0;32m    353\u001b[0m \u001b[38;5;28;01mif\u001b[39;00m \u001b[38;5;28mself\u001b[39m\u001b[38;5;241m.\u001b[39mdebug:\n\u001b[0;32m    354\u001b[0m     \u001b[38;5;28mprint\u001b[39m(\u001b[38;5;124mf\u001b[39m\u001b[38;5;124m\"\u001b[39m\u001b[38;5;124mProcessing \u001b[39m\u001b[38;5;132;01m{\u001b[39;00m\u001b[38;5;28mlen\u001b[39m(\u001b[38;5;28mself\u001b[39m\u001b[38;5;241m.\u001b[39mhistograms)\u001b[38;5;132;01m}\u001b[39;00m\u001b[38;5;124m histograms\u001b[39m\u001b[38;5;124m\"\u001b[39m)\n",
      "File \u001b[1;32md:\\Dropbox\\89_other_application\\GitHub\\PETsARD\\.venv\\lib\\site-packages\\snsynth\\mwem.py:574\u001b[0m, in \u001b[0;36mMWEMSynthesizer._histogram_from_data_attributes\u001b[1;34m(self, data, splits)\u001b[0m\n\u001b[0;32m    572\u001b[0m \u001b[38;5;28;01mif\u001b[39;00m dimensionality \u001b[38;5;241m>\u001b[39m \u001b[38;5;241m1e8\u001b[39m:\n\u001b[0;32m    573\u001b[0m     warnings\u001b[38;5;241m.\u001b[39mwarn(\u001b[38;5;124mf\u001b[39m\u001b[38;5;124m\"\u001b[39m\u001b[38;5;124mDimensionality of histogram is \u001b[39m\u001b[38;5;132;01m{\u001b[39;00mdimensionality\u001b[38;5;132;01m:\u001b[39;00m\u001b[38;5;124m,\u001b[39m\u001b[38;5;132;01m}\u001b[39;00m\u001b[38;5;124m, consider using splits.\u001b[39m\u001b[38;5;124m\"\u001b[39m)\n\u001b[1;32m--> 574\u001b[0m histogram, bins \u001b[38;5;241m=\u001b[39m \u001b[43mnp\u001b[49m\u001b[38;5;241;43m.\u001b[39;49m\u001b[43mhistogramdd\u001b[49m\u001b[43m(\u001b[49m\u001b[43msplit_data\u001b[49m\u001b[43m,\u001b[49m\u001b[43m \u001b[49m\u001b[43mbins\u001b[49m\u001b[38;5;241;43m=\u001b[39;49m\u001b[43mdims_sizes\u001b[49m\u001b[43m)\u001b[49m\n\u001b[0;32m    575\u001b[0m \u001b[38;5;66;03m# Return histogram, dimensions\u001b[39;00m\n\u001b[0;32m    576\u001b[0m h \u001b[38;5;241m=\u001b[39m Histogram(histogram, dims_sizes, bins, split)\n",
      "File \u001b[1;32md:\\Dropbox\\89_other_application\\GitHub\\PETsARD\\.venv\\lib\\site-packages\\numpy\\lib\\histograms.py:1048\u001b[0m, in \u001b[0;36mhistogramdd\u001b[1;34m(sample, bins, range, density, weights)\u001b[0m\n\u001b[0;32m   1044\u001b[0m xy \u001b[38;5;241m=\u001b[39m np\u001b[38;5;241m.\u001b[39mravel_multi_index(Ncount, nbin)\n\u001b[0;32m   1046\u001b[0m \u001b[38;5;66;03m# Compute the number of repetitions in xy and assign it to the\u001b[39;00m\n\u001b[0;32m   1047\u001b[0m \u001b[38;5;66;03m# flattened histmat.\u001b[39;00m\n\u001b[1;32m-> 1048\u001b[0m hist \u001b[38;5;241m=\u001b[39m \u001b[43mnp\u001b[49m\u001b[38;5;241;43m.\u001b[39;49m\u001b[43mbincount\u001b[49m\u001b[43m(\u001b[49m\u001b[43mxy\u001b[49m\u001b[43m,\u001b[49m\u001b[43m \u001b[49m\u001b[43mweights\u001b[49m\u001b[43m,\u001b[49m\u001b[43m \u001b[49m\u001b[43mminlength\u001b[49m\u001b[38;5;241;43m=\u001b[39;49m\u001b[43mnbin\u001b[49m\u001b[38;5;241;43m.\u001b[39;49m\u001b[43mprod\u001b[49m\u001b[43m(\u001b[49m\u001b[43m)\u001b[49m\u001b[43m)\u001b[49m\n\u001b[0;32m   1050\u001b[0m \u001b[38;5;66;03m# Shape into a proper matrix\u001b[39;00m\n\u001b[0;32m   1051\u001b[0m hist \u001b[38;5;241m=\u001b[39m hist\u001b[38;5;241m.\u001b[39mreshape(nbin)\n",
      "\u001b[1;31mMemoryError\u001b[0m: Unable to allocate 5.30 TiB for an array with shape (728012759040,) and data type int64"
     ]
    }
   ],
   "source": [
    "issue332(\n",
    "    load=load,\n",
    "    synthesizing_method='smartnoise-mwem',\n",
    ")\n",
    "# MemoryError: Unable to allocate 5.30 TiB for an array with shape (728012759040,) and data type int64"
   ]
  },
  {
   "cell_type": "markdown",
   "metadata": {},
   "source": [
    "### 'smartnoise-mst' - No module named 'disjoint_set'"
   ]
  },
  {
   "cell_type": "code",
   "execution_count": 49,
   "metadata": {},
   "outputs": [
    {
     "name": "stdout",
     "output_type": "stream",
     "text": [
      "Preproc data as ...\n",
      "   age  workclass  fnlwgt  education  educational-num  marital-status  \\\n",
      "0  0.0          3     0.0          1              0.0               4   \n",
      "\n",
      "   occupation  relationship  race  gender  capital-gain  capital-loss  \\\n",
      "0           6             3     2       1           0.0           0.0   \n",
      "\n",
      "   hours-per-week  native-country  income  \n",
      "0             0.0              38       0  \n",
      "Please install mbi with:\n",
      "   pip install git+https://github.com/ryan112358/private-pgm.git\n"
     ]
    },
    {
     "ename": "ModuleNotFoundError",
     "evalue": "No module named 'disjoint_set'",
     "output_type": "error",
     "traceback": [
      "\u001b[1;31m---------------------------------------------------------------------------\u001b[0m",
      "\u001b[1;31mModuleNotFoundError\u001b[0m                       Traceback (most recent call last)",
      "Cell \u001b[1;32mIn[49], line 1\u001b[0m\n\u001b[1;32m----> 1\u001b[0m \u001b[43missue332\u001b[49m\u001b[43m(\u001b[49m\n\u001b[0;32m      2\u001b[0m \u001b[43m    \u001b[49m\u001b[43mload\u001b[49m\u001b[38;5;241;43m=\u001b[39;49m\u001b[43mload\u001b[49m\u001b[43m,\u001b[49m\n\u001b[0;32m      3\u001b[0m \u001b[43m    \u001b[49m\u001b[43msynthesizing_method\u001b[49m\u001b[38;5;241;43m=\u001b[39;49m\u001b[38;5;124;43m'\u001b[39;49m\u001b[38;5;124;43msmartnoise-mst\u001b[39;49m\u001b[38;5;124;43m'\u001b[39;49m\u001b[43m,\u001b[49m\n\u001b[0;32m      4\u001b[0m \u001b[43m)\u001b[49m\n\u001b[0;32m      5\u001b[0m \u001b[38;5;66;03m# Please install mbi with:\u001b[39;00m\n\u001b[0;32m      6\u001b[0m \u001b[38;5;66;03m#   pip install git+https://github.com/ryan112358/private-pgm.git\u001b[39;00m\n\u001b[0;32m      7\u001b[0m \u001b[38;5;66;03m# ModuleNotFoundError: No module named 'disjoint_set'\u001b[39;00m\n",
      "Cell \u001b[1;32mIn[45], line 49\u001b[0m, in \u001b[0;36missue332\u001b[1;34m(load, synthesizing_method, scaler_inhibit)\u001b[0m\n\u001b[0;32m     41\u001b[0m \u001b[38;5;28mprint\u001b[39m(preproc_discretizing_data\u001b[38;5;241m.\u001b[39mhead(\u001b[38;5;241m1\u001b[39m))\n\u001b[0;32m     45\u001b[0m syn \u001b[38;5;241m=\u001b[39m Synthesizer(\n\u001b[0;32m     46\u001b[0m     method\u001b[38;5;241m=\u001b[39msynthesizing_method,\n\u001b[0;32m     47\u001b[0m     epsilon\u001b[38;5;241m=\u001b[39m\u001b[38;5;241m10.0\u001b[39m,\n\u001b[0;32m     48\u001b[0m )\n\u001b[1;32m---> 49\u001b[0m \u001b[43msyn\u001b[49m\u001b[38;5;241;43m.\u001b[39;49m\u001b[43mcreate\u001b[49m\u001b[43m(\u001b[49m\u001b[43mdata\u001b[49m\u001b[38;5;241;43m=\u001b[39;49m\u001b[43mpreproc_discretizing_data\u001b[49m\u001b[43m)\u001b[49m\n\u001b[0;32m     50\u001b[0m syn\u001b[38;5;241m.\u001b[39mfit_sample()\n\u001b[0;32m     51\u001b[0m \u001b[38;5;28mprint\u001b[39m(\u001b[38;5;124m\"\u001b[39m\u001b[38;5;124mSync data as ...\u001b[39m\u001b[38;5;124m\"\u001b[39m)\n",
      "File \u001b[1;32md:\\Dropbox\\89_other_application\\GitHub\\PETsARD\\PETsARD\\synthesizer\\synthesizer.py:84\u001b[0m, in \u001b[0;36mSynthesizer.create\u001b[1;34m(self, data)\u001b[0m\n\u001b[0;32m     82\u001b[0m     \u001b[38;5;28mself\u001b[39m\u001b[38;5;241m.\u001b[39mSynthesizer \u001b[38;5;241m=\u001b[39m SDVFactory(\u001b[38;5;241m*\u001b[39m\u001b[38;5;241m*\u001b[39m\u001b[38;5;28mself\u001b[39m\u001b[38;5;241m.\u001b[39mconfig)\u001b[38;5;241m.\u001b[39mcreate()\n\u001b[0;32m     83\u001b[0m \u001b[38;5;28;01melif\u001b[39;00m \u001b[38;5;28mself\u001b[39m\u001b[38;5;241m.\u001b[39mconfig[\u001b[38;5;124m'\u001b[39m\u001b[38;5;124mmethod_code\u001b[39m\u001b[38;5;124m'\u001b[39m] \u001b[38;5;241m==\u001b[39m SynthesizerMap\u001b[38;5;241m.\u001b[39mSMARTNOISE:\n\u001b[1;32m---> 84\u001b[0m     \u001b[38;5;28mself\u001b[39m\u001b[38;5;241m.\u001b[39mSynthesizer \u001b[38;5;241m=\u001b[39m SmartNoiseFactory(\u001b[38;5;241m*\u001b[39m\u001b[38;5;241m*\u001b[39m\u001b[38;5;28mself\u001b[39m\u001b[38;5;241m.\u001b[39mconfig)\u001b[38;5;241m.\u001b[39mcreate()\n\u001b[0;32m     85\u001b[0m \u001b[38;5;28;01melse\u001b[39;00m:\n\u001b[0;32m     86\u001b[0m     \u001b[38;5;28;01mraise\u001b[39;00m UnsupportedMethodError\n",
      "File \u001b[1;32md:\\Dropbox\\89_other_application\\GitHub\\PETsARD\\PETsARD\\synthesizer\\smartnoise.py:151\u001b[0m, in \u001b[0;36mSmartNoiseFactory.__init__\u001b[1;34m(self, data, **kwargs)\u001b[0m\n\u001b[0;32m    148\u001b[0m epsilon: \u001b[38;5;28mfloat\u001b[39m \u001b[38;5;241m=\u001b[39m kwargs\u001b[38;5;241m.\u001b[39mget(\u001b[38;5;124m'\u001b[39m\u001b[38;5;124mepsilon\u001b[39m\u001b[38;5;124m'\u001b[39m, \u001b[38;5;241m5.0\u001b[39m)\n\u001b[0;32m    150\u001b[0m \u001b[38;5;28;01mif\u001b[39;00m method\u001b[38;5;241m.\u001b[39mstartswith(\u001b[38;5;124m'\u001b[39m\u001b[38;5;124msmartnoise-\u001b[39m\u001b[38;5;124m'\u001b[39m):\n\u001b[1;32m--> 151\u001b[0m     \u001b[38;5;28mself\u001b[39m\u001b[38;5;241m.\u001b[39mSynthesizer \u001b[38;5;241m=\u001b[39m \u001b[43mSmartNoiseCreator\u001b[49m\u001b[43m(\u001b[49m\n\u001b[0;32m    152\u001b[0m \u001b[43m        \u001b[49m\u001b[43mdata\u001b[49m\u001b[43m,\u001b[49m\n\u001b[0;32m    153\u001b[0m \u001b[43m        \u001b[49m\u001b[43mmethod\u001b[49m\u001b[38;5;241;43m=\u001b[39;49m\u001b[43mmethod\u001b[49m\u001b[38;5;241;43m.\u001b[39;49m\u001b[43msplit\u001b[49m\u001b[43m(\u001b[49m\u001b[38;5;124;43m'\u001b[39;49m\u001b[38;5;124;43m-\u001b[39;49m\u001b[38;5;124;43m'\u001b[39;49m\u001b[43m)\u001b[49m\u001b[43m[\u001b[49m\u001b[38;5;241;43m1\u001b[39;49m\u001b[43m]\u001b[49m\u001b[43m,\u001b[49m\u001b[43m \u001b[49m\n\u001b[0;32m    154\u001b[0m \u001b[43m        \u001b[49m\u001b[43mepsilon\u001b[49m\u001b[38;5;241;43m=\u001b[39;49m\u001b[43mepsilon\u001b[49m\n\u001b[0;32m    155\u001b[0m \u001b[43m    \u001b[49m\u001b[43m)\u001b[49m\n\u001b[0;32m    156\u001b[0m \u001b[38;5;28;01melse\u001b[39;00m:\n\u001b[0;32m    157\u001b[0m     \u001b[38;5;28;01mraise\u001b[39;00m UnsupportedMethodError\n",
      "File \u001b[1;32md:\\Dropbox\\89_other_application\\GitHub\\PETsARD\\PETsARD\\synthesizer\\smartnoise.py:185\u001b[0m, in \u001b[0;36mSmartNoiseCreator.__init__\u001b[1;34m(self, data, method, epsilon, **kwargs)\u001b[0m\n\u001b[0;32m    182\u001b[0m \u001b[38;5;28msuper\u001b[39m()\u001b[38;5;241m.\u001b[39m\u001b[38;5;21m__init__\u001b[39m(data, \u001b[38;5;241m*\u001b[39m\u001b[38;5;241m*\u001b[39mkwargs)\n\u001b[0;32m    183\u001b[0m \u001b[38;5;28mself\u001b[39m\u001b[38;5;241m.\u001b[39msyn_method: \u001b[38;5;28mstr\u001b[39m \u001b[38;5;241m=\u001b[39m method\n\u001b[1;32m--> 185\u001b[0m \u001b[38;5;28mself\u001b[39m\u001b[38;5;241m.\u001b[39m_Synthesizer \u001b[38;5;241m=\u001b[39m \u001b[43mSNSyn\u001b[49m\u001b[38;5;241;43m.\u001b[39;49m\u001b[43mcreate\u001b[49m\u001b[43m(\u001b[49m\u001b[43mmethod\u001b[49m\u001b[43m,\u001b[49m\u001b[43m \u001b[49m\u001b[43mepsilon\u001b[49m\u001b[38;5;241;43m=\u001b[39;49m\u001b[43mepsilon\u001b[49m\u001b[43m)\u001b[49m\n",
      "File \u001b[1;32md:\\Dropbox\\89_other_application\\GitHub\\PETsARD\\.venv\\lib\\site-packages\\snsynth\\base.py:214\u001b[0m, in \u001b[0;36mSynthesizer.create\u001b[1;34m(cls, synth, epsilon, *args, **kwargs)\u001b[0m\n\u001b[0;32m    212\u001b[0m synth_class \u001b[38;5;241m=\u001b[39m synth_map[synth][\u001b[38;5;124m'\u001b[39m\u001b[38;5;124mclass\u001b[39m\u001b[38;5;124m'\u001b[39m]\n\u001b[0;32m    213\u001b[0m synth_module, synth_class \u001b[38;5;241m=\u001b[39m synth_class\u001b[38;5;241m.\u001b[39mrsplit(\u001b[38;5;124m'\u001b[39m\u001b[38;5;124m.\u001b[39m\u001b[38;5;124m'\u001b[39m, \u001b[38;5;241m1\u001b[39m)\n\u001b[1;32m--> 214\u001b[0m synth_module \u001b[38;5;241m=\u001b[39m \u001b[38;5;28;43m__import__\u001b[39;49m\u001b[43m(\u001b[49m\u001b[43msynth_module\u001b[49m\u001b[43m,\u001b[49m\u001b[43m \u001b[49m\u001b[43mfromlist\u001b[49m\u001b[38;5;241;43m=\u001b[39;49m\u001b[43m[\u001b[49m\u001b[43msynth_class\u001b[49m\u001b[43m]\u001b[49m\u001b[43m)\u001b[49m\n\u001b[0;32m    215\u001b[0m synth_class \u001b[38;5;241m=\u001b[39m \u001b[38;5;28mgetattr\u001b[39m(synth_module, synth_class)\n\u001b[0;32m    216\u001b[0m \u001b[38;5;28;01mreturn\u001b[39;00m synth_class(epsilon\u001b[38;5;241m=\u001b[39mepsilon, \u001b[38;5;241m*\u001b[39margs, \u001b[38;5;241m*\u001b[39m\u001b[38;5;241m*\u001b[39mkwargs)\n",
      "File \u001b[1;32md:\\Dropbox\\89_other_application\\GitHub\\PETsARD\\.venv\\lib\\site-packages\\snsynth\\mst\\__init__.py:1\u001b[0m\n\u001b[1;32m----> 1\u001b[0m \u001b[38;5;28;01mfrom\u001b[39;00m \u001b[38;5;21;01m.\u001b[39;00m\u001b[38;5;21;01mmst\u001b[39;00m \u001b[38;5;28;01mimport\u001b[39;00m MSTSynthesizer\n\u001b[0;32m      4\u001b[0m __all__ \u001b[38;5;241m=\u001b[39m [\u001b[38;5;124m\"\u001b[39m\u001b[38;5;124mMSTSynthesizer\u001b[39m\u001b[38;5;124m\"\u001b[39m]\n",
      "File \u001b[1;32md:\\Dropbox\\89_other_application\\GitHub\\PETsARD\\.venv\\lib\\site-packages\\snsynth\\mst\\mst.py:10\u001b[0m\n\u001b[0;32m      7\u001b[0m     \u001b[38;5;28mprint\u001b[39m(\u001b[38;5;124m\"\u001b[39m\u001b[38;5;124mPlease install mbi with:\u001b[39m\u001b[38;5;130;01m\\n\u001b[39;00m\u001b[38;5;124m   pip install git+https://github.com/ryan112358/private-pgm.git\u001b[39m\u001b[38;5;124m\"\u001b[39m)\n\u001b[0;32m      9\u001b[0m \u001b[38;5;28;01mfrom\u001b[39;00m \u001b[38;5;21;01mscipy\u001b[39;00m \u001b[38;5;28;01mimport\u001b[39;00m sparse\n\u001b[1;32m---> 10\u001b[0m \u001b[38;5;28;01mfrom\u001b[39;00m \u001b[38;5;21;01mdisjoint_set\u001b[39;00m \u001b[38;5;28;01mimport\u001b[39;00m DisjointSet\n\u001b[0;32m     11\u001b[0m \u001b[38;5;28;01mimport\u001b[39;00m \u001b[38;5;21;01mnetworkx\u001b[39;00m \u001b[38;5;28;01mas\u001b[39;00m \u001b[38;5;21;01mnx\u001b[39;00m\n\u001b[0;32m     12\u001b[0m \u001b[38;5;28;01mimport\u001b[39;00m \u001b[38;5;21;01mitertools\u001b[39;00m\n",
      "\u001b[1;31mModuleNotFoundError\u001b[0m: No module named 'disjoint_set'"
     ]
    }
   ],
   "source": [
    "issue332(\n",
    "    load=load,\n",
    "    synthesizing_method='smartnoise-mst',\n",
    ")\n",
    "# Please install mbi with:\n",
    "#   pip install git+https://github.com/ryan112358/private-pgm.git\n",
    "# ModuleNotFoundError: No module named 'disjoint_set'"
   ]
  },
  {
   "cell_type": "markdown",
   "metadata": {},
   "source": [
    "### 'smartnoise-pacsynth' - continue columns"
   ]
  },
  {
   "cell_type": "code",
   "execution_count": 50,
   "metadata": {},
   "outputs": [
    {
     "name": "stdout",
     "output_type": "stream",
     "text": [
      "Preproc data as ...\n",
      "   age  workclass  fnlwgt  education  educational-num  marital-status  \\\n",
      "0  0.0          3     0.0          1              0.0               4   \n",
      "\n",
      "   occupation  relationship  race  gender  capital-gain  capital-loss  \\\n",
      "0           6             3     2       1           0.0           0.0   \n",
      "\n",
      "   hours-per-week  native-country  income  \n",
      "0             0.0              38       0  \n",
      "Synthesizer (SmartNoise): Fitting pacsynth.\n"
     ]
    },
    {
     "ename": "ValueError",
     "evalue": "The transformer appears to have some continuous columns. Please provide only categorical or ordinal.",
     "output_type": "error",
     "traceback": [
      "\u001b[1;31m---------------------------------------------------------------------------\u001b[0m",
      "\u001b[1;31mValueError\u001b[0m                                Traceback (most recent call last)",
      "Cell \u001b[1;32mIn[50], line 1\u001b[0m\n\u001b[1;32m----> 1\u001b[0m \u001b[43missue332\u001b[49m\u001b[43m(\u001b[49m\n\u001b[0;32m      2\u001b[0m \u001b[43m    \u001b[49m\u001b[43mload\u001b[49m\u001b[38;5;241;43m=\u001b[39;49m\u001b[43mload\u001b[49m\u001b[43m,\u001b[49m\n\u001b[0;32m      3\u001b[0m \u001b[43m    \u001b[49m\u001b[43msynthesizing_method\u001b[49m\u001b[38;5;241;43m=\u001b[39;49m\u001b[38;5;124;43m'\u001b[39;49m\u001b[38;5;124;43msmartnoise-pacsynth\u001b[39;49m\u001b[38;5;124;43m'\u001b[39;49m\u001b[43m,\u001b[49m\n\u001b[0;32m      4\u001b[0m \u001b[43m)\u001b[49m\n\u001b[0;32m      5\u001b[0m \u001b[38;5;66;03m# ValueError: The transformer appears to have some continuous columns. Please provide only categorical or ordinal.\u001b[39;00m\n",
      "Cell \u001b[1;32mIn[45], line 50\u001b[0m, in \u001b[0;36missue332\u001b[1;34m(load, synthesizing_method, scaler_inhibit)\u001b[0m\n\u001b[0;32m     45\u001b[0m syn \u001b[38;5;241m=\u001b[39m Synthesizer(\n\u001b[0;32m     46\u001b[0m     method\u001b[38;5;241m=\u001b[39msynthesizing_method,\n\u001b[0;32m     47\u001b[0m     epsilon\u001b[38;5;241m=\u001b[39m\u001b[38;5;241m10.0\u001b[39m,\n\u001b[0;32m     48\u001b[0m )\n\u001b[0;32m     49\u001b[0m syn\u001b[38;5;241m.\u001b[39mcreate(data\u001b[38;5;241m=\u001b[39mpreproc_discretizing_data)\n\u001b[1;32m---> 50\u001b[0m \u001b[43msyn\u001b[49m\u001b[38;5;241;43m.\u001b[39;49m\u001b[43mfit_sample\u001b[49m\u001b[43m(\u001b[49m\u001b[43m)\u001b[49m\n\u001b[0;32m     51\u001b[0m \u001b[38;5;28mprint\u001b[39m(\u001b[38;5;124m\"\u001b[39m\u001b[38;5;124mSync data as ...\u001b[39m\u001b[38;5;124m\"\u001b[39m)\n\u001b[0;32m     52\u001b[0m \u001b[38;5;28mprint\u001b[39m(syn\u001b[38;5;241m.\u001b[39mdata_syn\u001b[38;5;241m.\u001b[39mhead(\u001b[38;5;241m1\u001b[39m))\n",
      "File \u001b[1;32md:\\Dropbox\\89_other_application\\GitHub\\PETsARD\\PETsARD\\synthesizer\\synthesizer.py:121\u001b[0m, in \u001b[0;36mSynthesizer.fit_sample\u001b[1;34m(self, **kwargs)\u001b[0m\n\u001b[0;32m    119\u001b[0m     \u001b[38;5;28mself\u001b[39m\u001b[38;5;241m.\u001b[39mdata_syn \u001b[38;5;241m=\u001b[39m \u001b[38;5;28mself\u001b[39m\u001b[38;5;241m.\u001b[39mloader\u001b[38;5;241m.\u001b[39mdata\n\u001b[0;32m    120\u001b[0m \u001b[38;5;28;01melse\u001b[39;00m:\n\u001b[1;32m--> 121\u001b[0m     \u001b[38;5;28mself\u001b[39m\u001b[38;5;241m.\u001b[39mdata_syn \u001b[38;5;241m=\u001b[39m \u001b[38;5;28mself\u001b[39m\u001b[38;5;241m.\u001b[39mSynthesizer\u001b[38;5;241m.\u001b[39mfit_sample(\u001b[38;5;241m*\u001b[39m\u001b[38;5;241m*\u001b[39mkwargs)\n",
      "File \u001b[1;32md:\\Dropbox\\89_other_application\\GitHub\\PETsARD\\PETsARD\\synthesizer\\smartnoise.py:130\u001b[0m, in \u001b[0;36mSmartNoise.fit_sample\u001b[1;34m(self, sample_num_rows, reset_sampling, output_file_path)\u001b[0m\n\u001b[0;32m    111\u001b[0m \u001b[38;5;28;01mdef\u001b[39;00m \u001b[38;5;21mfit_sample\u001b[39m(\n\u001b[0;32m    112\u001b[0m         \u001b[38;5;28mself\u001b[39m,\n\u001b[0;32m    113\u001b[0m         sample_num_rows:  \u001b[38;5;28mint\u001b[39m \u001b[38;5;241m=\u001b[39m \u001b[38;5;28;01mNone\u001b[39;00m,\n\u001b[0;32m    114\u001b[0m         reset_sampling:   \u001b[38;5;28mbool\u001b[39m \u001b[38;5;241m=\u001b[39m \u001b[38;5;28;01mFalse\u001b[39;00m,\n\u001b[0;32m    115\u001b[0m         output_file_path: \u001b[38;5;28mstr\u001b[39m \u001b[38;5;241m=\u001b[39m \u001b[38;5;28;01mNone\u001b[39;00m\n\u001b[0;32m    116\u001b[0m ) \u001b[38;5;241m-\u001b[39m\u001b[38;5;241m>\u001b[39m pd\u001b[38;5;241m.\u001b[39mDataFrame:\n\u001b[0;32m    117\u001b[0m \u001b[38;5;250m    \u001b[39m\u001b[38;5;124;03m\"\"\"\u001b[39;00m\n\u001b[0;32m    118\u001b[0m \u001b[38;5;124;03m    Fit and sample from the synthesizer.\u001b[39;00m\n\u001b[0;32m    119\u001b[0m \u001b[38;5;124;03m    The combination of the methods `fit()` and `sample()`.\u001b[39;00m\n\u001b[1;32m   (...)\u001b[0m\n\u001b[0;32m    128\u001b[0m \u001b[38;5;124;03m        data_syn (pd.DataFrame): The synthesized data.\u001b[39;00m\n\u001b[0;32m    129\u001b[0m \u001b[38;5;124;03m    \"\"\"\u001b[39;00m\n\u001b[1;32m--> 130\u001b[0m     \u001b[38;5;28;43mself\u001b[39;49m\u001b[38;5;241;43m.\u001b[39;49m\u001b[43mfit\u001b[49m\u001b[43m(\u001b[49m\u001b[43m)\u001b[49m\n\u001b[0;32m    131\u001b[0m     \u001b[38;5;28;01mreturn\u001b[39;00m \u001b[38;5;28mself\u001b[39m\u001b[38;5;241m.\u001b[39msample(sample_num_rows, reset_sampling, output_file_path)\n",
      "File \u001b[1;32md:\\Dropbox\\89_other_application\\GitHub\\PETsARD\\PETsARD\\synthesizer\\smartnoise.py:47\u001b[0m, in \u001b[0;36mSmartNoise.fit\u001b[1;34m(self)\u001b[0m\n\u001b[0;32m     42\u001b[0m     t \u001b[38;5;241m=\u001b[39m TableTransformer([IdentityTransformer() \n\u001b[0;32m     43\u001b[0m                           \u001b[38;5;28;01mfor\u001b[39;00m i \u001b[38;5;129;01min\u001b[39;00m \u001b[38;5;28mrange\u001b[39m(\u001b[38;5;28mself\u001b[39m\u001b[38;5;241m.\u001b[39mdata\u001b[38;5;241m.\u001b[39mshape[\u001b[38;5;241m1\u001b[39m])])\n\u001b[0;32m     45\u001b[0m     \u001b[38;5;66;03m# TODO - Only support cube-style synthesizer. \u001b[39;00m\n\u001b[0;32m     46\u001b[0m     \u001b[38;5;66;03m# GAN-style synthesizer needed to be implemented.\u001b[39;00m\n\u001b[1;32m---> 47\u001b[0m     \u001b[38;5;28;43mself\u001b[39;49m\u001b[38;5;241;43m.\u001b[39;49m\u001b[43m_Synthesizer\u001b[49m\u001b[38;5;241;43m.\u001b[39;49m\u001b[43mfit\u001b[49m\u001b[43m(\u001b[49m\u001b[38;5;28;43mself\u001b[39;49m\u001b[38;5;241;43m.\u001b[39;49m\u001b[43mdata\u001b[49m\u001b[43m,\u001b[49m\u001b[43m \u001b[49m\u001b[43mtransformer\u001b[49m\u001b[38;5;241;43m=\u001b[39;49m\u001b[43mt\u001b[49m\u001b[43m)\u001b[49m\n\u001b[0;32m     48\u001b[0m     \u001b[38;5;28mprint\u001b[39m(\n\u001b[0;32m     49\u001b[0m         \u001b[38;5;124mf\u001b[39m\u001b[38;5;124m\"\u001b[39m\u001b[38;5;124mSynthesizer (SmartNoise): \u001b[39m\u001b[38;5;124m\"\u001b[39m\n\u001b[0;32m     50\u001b[0m         \u001b[38;5;124mf\u001b[39m\u001b[38;5;124m\"\u001b[39m\u001b[38;5;124mFitting  \u001b[39m\u001b[38;5;132;01m{\u001b[39;00m\u001b[38;5;28mself\u001b[39m\u001b[38;5;241m.\u001b[39msyn_method\u001b[38;5;132;01m}\u001b[39;00m\u001b[38;5;124m spent \u001b[39m\u001b[38;5;124m\"\u001b[39m\n\u001b[0;32m     51\u001b[0m         \u001b[38;5;124mf\u001b[39m\u001b[38;5;124m\"\u001b[39m\u001b[38;5;132;01m{\u001b[39;00m\u001b[38;5;28mround\u001b[39m(time\u001b[38;5;241m.\u001b[39mtime()\u001b[38;5;241m-\u001b[39mtime_start\u001b[38;5;250m \u001b[39m,\u001b[38;5;241m4\u001b[39m)\u001b[38;5;132;01m}\u001b[39;00m\u001b[38;5;124m sec.\u001b[39m\u001b[38;5;124m\"\u001b[39m\n\u001b[0;32m     52\u001b[0m     )\n\u001b[0;32m     53\u001b[0m \u001b[38;5;28;01melse\u001b[39;00m:\n",
      "File \u001b[1;32md:\\Dropbox\\89_other_application\\GitHub\\PETsARD\\.venv\\lib\\site-packages\\snsynth\\aggregate_seeded\\aggregate_seeded.py:191\u001b[0m, in \u001b[0;36mAggregateSeededSynthesizer.fit\u001b[1;34m(self, data, use_columns, sensitive_zeros, transformer, categorical_columns, ordinal_columns, continuous_columns, preprocessor_eps, nullable, *ignore)\u001b[0m\n\u001b[0;32m    189\u001b[0m cards \u001b[38;5;241m=\u001b[39m \u001b[38;5;28mself\u001b[39m\u001b[38;5;241m.\u001b[39m_transformer\u001b[38;5;241m.\u001b[39mcardinality\n\u001b[0;32m    190\u001b[0m \u001b[38;5;28;01mif\u001b[39;00m \u001b[38;5;28many\u001b[39m (c \u001b[38;5;129;01mis\u001b[39;00m \u001b[38;5;28;01mNone\u001b[39;00m \u001b[38;5;28;01mfor\u001b[39;00m c \u001b[38;5;129;01min\u001b[39;00m cards):\n\u001b[1;32m--> 191\u001b[0m     \u001b[38;5;28;01mraise\u001b[39;00m \u001b[38;5;167;01mValueError\u001b[39;00m(\u001b[38;5;124m\"\u001b[39m\u001b[38;5;124mThe transformer appears to have some continuous columns. Please provide only categorical or ordinal.\u001b[39m\u001b[38;5;124m\"\u001b[39m)\n\u001b[0;32m    193\u001b[0m dimensionality \u001b[38;5;241m=\u001b[39m np\u001b[38;5;241m.\u001b[39mprod(cards)\n\u001b[0;32m    194\u001b[0m \u001b[38;5;28;01mif\u001b[39;00m \u001b[38;5;28mself\u001b[39m\u001b[38;5;241m.\u001b[39mverbose:\n",
      "\u001b[1;31mValueError\u001b[0m: The transformer appears to have some continuous columns. Please provide only categorical or ordinal."
     ]
    }
   ],
   "source": [
    "issue332(\n",
    "    load=load,\n",
    "    synthesizing_method='smartnoise-pacsynth',\n",
    ")\n",
    "# ValueError: The transformer appears to have some continuous columns. Please provide only categorical or ordinal."
   ]
  },
  {
   "cell_type": "markdown",
   "metadata": {},
   "source": [
    "## Auto Inhibit Scaler"
   ]
  },
  {
   "cell_type": "markdown",
   "metadata": {},
   "source": [
    "### 'smartnoise-pacsynth' - auto scaler inhibit"
   ]
  },
  {
   "cell_type": "code",
   "execution_count": 52,
   "metadata": {},
   "outputs": [
    {
     "name": "stdout",
     "output_type": "stream",
     "text": [
      "Preproc config of Scaler before update as ...\n",
      "{'age': <PETsARD.processor.scaler.ScalerStandard object at 0x0000017DC8129DE0>,\n",
      " 'capital-gain': <PETsARD.processor.scaler.ScalerStandard object at 0x0000017DC812ABC0>,\n",
      " 'capital-loss': <PETsARD.processor.scaler.ScalerStandard object at 0x0000017DC812ACB0>,\n",
      " 'education': None,\n",
      " 'educational-num': <PETsARD.processor.scaler.ScalerStandard object at 0x0000017DC8128D90>,\n",
      " 'fnlwgt': <PETsARD.processor.scaler.ScalerStandard object at 0x0000017DC8129300>,\n",
      " 'gender': None,\n",
      " 'hours-per-week': <PETsARD.processor.scaler.ScalerStandard object at 0x0000017DC812B100>,\n",
      " 'income': None,\n",
      " 'marital-status': None,\n",
      " 'native-country': None,\n",
      " 'occupation': None,\n",
      " 'race': None,\n",
      " 'relationship': None,\n",
      " 'workclass': None}\n",
      "Preproc config of Scaler before after as ...\n",
      "{'age': None,\n",
      " 'capital-gain': None,\n",
      " 'capital-loss': None,\n",
      " 'education': None,\n",
      " 'educational-num': None,\n",
      " 'fnlwgt': None,\n",
      " 'gender': None,\n",
      " 'hours-per-week': None,\n",
      " 'income': None,\n",
      " 'marital-status': None,\n",
      " 'native-country': None,\n",
      " 'occupation': None,\n",
      " 'race': None,\n",
      " 'relationship': None,\n",
      " 'workclass': None}\n",
      "Preproc data as ...\n",
      "   age  workclass  fnlwgt  education  educational-num  marital-status  \\\n",
      "0  0.0          3     0.0          1              2.0               4   \n",
      "\n",
      "   occupation  relationship  race  gender  capital-gain  capital-loss  \\\n",
      "0           6             3     2       1           0.0           0.0   \n",
      "\n",
      "   hours-per-week  native-country  income  \n",
      "0             1.0              38       0  \n",
      "Synthesizer (SmartNoise): Fitting pacsynth.\n"
     ]
    },
    {
     "ename": "ValueError",
     "evalue": "The transformer appears to have some continuous columns. Please provide only categorical or ordinal.",
     "output_type": "error",
     "traceback": [
      "\u001b[1;31m---------------------------------------------------------------------------\u001b[0m",
      "\u001b[1;31mValueError\u001b[0m                                Traceback (most recent call last)",
      "Cell \u001b[1;32mIn[52], line 1\u001b[0m\n\u001b[1;32m----> 1\u001b[0m \u001b[43missue332\u001b[49m\u001b[43m(\u001b[49m\n\u001b[0;32m      2\u001b[0m \u001b[43m    \u001b[49m\u001b[43mload\u001b[49m\u001b[38;5;241;43m=\u001b[39;49m\u001b[43mload\u001b[49m\u001b[43m,\u001b[49m\n\u001b[0;32m      3\u001b[0m \u001b[43m    \u001b[49m\u001b[43msynthesizing_method\u001b[49m\u001b[38;5;241;43m=\u001b[39;49m\u001b[38;5;124;43m'\u001b[39;49m\u001b[38;5;124;43msmartnoise-pacsynth\u001b[39;49m\u001b[38;5;124;43m'\u001b[39;49m\u001b[43m,\u001b[49m\n\u001b[0;32m      4\u001b[0m \u001b[43m    \u001b[49m\u001b[43mscaler_inhibit\u001b[49m\u001b[38;5;241;43m=\u001b[39;49m\u001b[38;5;28;43;01mTrue\u001b[39;49;00m\n\u001b[0;32m      5\u001b[0m \u001b[43m)\u001b[49m\n\u001b[0;32m      6\u001b[0m \u001b[38;5;66;03m# ValueError: The transformer appears to have some continuous columns. Please provide only categorical or ordinal.\u001b[39;00m\n",
      "Cell \u001b[1;32mIn[45], line 50\u001b[0m, in \u001b[0;36missue332\u001b[1;34m(load, synthesizing_method, scaler_inhibit)\u001b[0m\n\u001b[0;32m     45\u001b[0m syn \u001b[38;5;241m=\u001b[39m Synthesizer(\n\u001b[0;32m     46\u001b[0m     method\u001b[38;5;241m=\u001b[39msynthesizing_method,\n\u001b[0;32m     47\u001b[0m     epsilon\u001b[38;5;241m=\u001b[39m\u001b[38;5;241m10.0\u001b[39m,\n\u001b[0;32m     48\u001b[0m )\n\u001b[0;32m     49\u001b[0m syn\u001b[38;5;241m.\u001b[39mcreate(data\u001b[38;5;241m=\u001b[39mpreproc_discretizing_data)\n\u001b[1;32m---> 50\u001b[0m \u001b[43msyn\u001b[49m\u001b[38;5;241;43m.\u001b[39;49m\u001b[43mfit_sample\u001b[49m\u001b[43m(\u001b[49m\u001b[43m)\u001b[49m\n\u001b[0;32m     51\u001b[0m \u001b[38;5;28mprint\u001b[39m(\u001b[38;5;124m\"\u001b[39m\u001b[38;5;124mSync data as ...\u001b[39m\u001b[38;5;124m\"\u001b[39m)\n\u001b[0;32m     52\u001b[0m \u001b[38;5;28mprint\u001b[39m(syn\u001b[38;5;241m.\u001b[39mdata_syn\u001b[38;5;241m.\u001b[39mhead(\u001b[38;5;241m1\u001b[39m))\n",
      "File \u001b[1;32md:\\Dropbox\\89_other_application\\GitHub\\PETsARD\\PETsARD\\synthesizer\\synthesizer.py:121\u001b[0m, in \u001b[0;36mSynthesizer.fit_sample\u001b[1;34m(self, **kwargs)\u001b[0m\n\u001b[0;32m    119\u001b[0m     \u001b[38;5;28mself\u001b[39m\u001b[38;5;241m.\u001b[39mdata_syn \u001b[38;5;241m=\u001b[39m \u001b[38;5;28mself\u001b[39m\u001b[38;5;241m.\u001b[39mloader\u001b[38;5;241m.\u001b[39mdata\n\u001b[0;32m    120\u001b[0m \u001b[38;5;28;01melse\u001b[39;00m:\n\u001b[1;32m--> 121\u001b[0m     \u001b[38;5;28mself\u001b[39m\u001b[38;5;241m.\u001b[39mdata_syn \u001b[38;5;241m=\u001b[39m \u001b[38;5;28mself\u001b[39m\u001b[38;5;241m.\u001b[39mSynthesizer\u001b[38;5;241m.\u001b[39mfit_sample(\u001b[38;5;241m*\u001b[39m\u001b[38;5;241m*\u001b[39mkwargs)\n",
      "File \u001b[1;32md:\\Dropbox\\89_other_application\\GitHub\\PETsARD\\PETsARD\\synthesizer\\smartnoise.py:130\u001b[0m, in \u001b[0;36mSmartNoise.fit_sample\u001b[1;34m(self, sample_num_rows, reset_sampling, output_file_path)\u001b[0m\n\u001b[0;32m    111\u001b[0m \u001b[38;5;28;01mdef\u001b[39;00m \u001b[38;5;21mfit_sample\u001b[39m(\n\u001b[0;32m    112\u001b[0m         \u001b[38;5;28mself\u001b[39m,\n\u001b[0;32m    113\u001b[0m         sample_num_rows:  \u001b[38;5;28mint\u001b[39m \u001b[38;5;241m=\u001b[39m \u001b[38;5;28;01mNone\u001b[39;00m,\n\u001b[0;32m    114\u001b[0m         reset_sampling:   \u001b[38;5;28mbool\u001b[39m \u001b[38;5;241m=\u001b[39m \u001b[38;5;28;01mFalse\u001b[39;00m,\n\u001b[0;32m    115\u001b[0m         output_file_path: \u001b[38;5;28mstr\u001b[39m \u001b[38;5;241m=\u001b[39m \u001b[38;5;28;01mNone\u001b[39;00m\n\u001b[0;32m    116\u001b[0m ) \u001b[38;5;241m-\u001b[39m\u001b[38;5;241m>\u001b[39m pd\u001b[38;5;241m.\u001b[39mDataFrame:\n\u001b[0;32m    117\u001b[0m \u001b[38;5;250m    \u001b[39m\u001b[38;5;124;03m\"\"\"\u001b[39;00m\n\u001b[0;32m    118\u001b[0m \u001b[38;5;124;03m    Fit and sample from the synthesizer.\u001b[39;00m\n\u001b[0;32m    119\u001b[0m \u001b[38;5;124;03m    The combination of the methods `fit()` and `sample()`.\u001b[39;00m\n\u001b[1;32m   (...)\u001b[0m\n\u001b[0;32m    128\u001b[0m \u001b[38;5;124;03m        data_syn (pd.DataFrame): The synthesized data.\u001b[39;00m\n\u001b[0;32m    129\u001b[0m \u001b[38;5;124;03m    \"\"\"\u001b[39;00m\n\u001b[1;32m--> 130\u001b[0m     \u001b[38;5;28;43mself\u001b[39;49m\u001b[38;5;241;43m.\u001b[39;49m\u001b[43mfit\u001b[49m\u001b[43m(\u001b[49m\u001b[43m)\u001b[49m\n\u001b[0;32m    131\u001b[0m     \u001b[38;5;28;01mreturn\u001b[39;00m \u001b[38;5;28mself\u001b[39m\u001b[38;5;241m.\u001b[39msample(sample_num_rows, reset_sampling, output_file_path)\n",
      "File \u001b[1;32md:\\Dropbox\\89_other_application\\GitHub\\PETsARD\\PETsARD\\synthesizer\\smartnoise.py:47\u001b[0m, in \u001b[0;36mSmartNoise.fit\u001b[1;34m(self)\u001b[0m\n\u001b[0;32m     42\u001b[0m     t \u001b[38;5;241m=\u001b[39m TableTransformer([IdentityTransformer() \n\u001b[0;32m     43\u001b[0m                           \u001b[38;5;28;01mfor\u001b[39;00m i \u001b[38;5;129;01min\u001b[39;00m \u001b[38;5;28mrange\u001b[39m(\u001b[38;5;28mself\u001b[39m\u001b[38;5;241m.\u001b[39mdata\u001b[38;5;241m.\u001b[39mshape[\u001b[38;5;241m1\u001b[39m])])\n\u001b[0;32m     45\u001b[0m     \u001b[38;5;66;03m# TODO - Only support cube-style synthesizer. \u001b[39;00m\n\u001b[0;32m     46\u001b[0m     \u001b[38;5;66;03m# GAN-style synthesizer needed to be implemented.\u001b[39;00m\n\u001b[1;32m---> 47\u001b[0m     \u001b[38;5;28;43mself\u001b[39;49m\u001b[38;5;241;43m.\u001b[39;49m\u001b[43m_Synthesizer\u001b[49m\u001b[38;5;241;43m.\u001b[39;49m\u001b[43mfit\u001b[49m\u001b[43m(\u001b[49m\u001b[38;5;28;43mself\u001b[39;49m\u001b[38;5;241;43m.\u001b[39;49m\u001b[43mdata\u001b[49m\u001b[43m,\u001b[49m\u001b[43m \u001b[49m\u001b[43mtransformer\u001b[49m\u001b[38;5;241;43m=\u001b[39;49m\u001b[43mt\u001b[49m\u001b[43m)\u001b[49m\n\u001b[0;32m     48\u001b[0m     \u001b[38;5;28mprint\u001b[39m(\n\u001b[0;32m     49\u001b[0m         \u001b[38;5;124mf\u001b[39m\u001b[38;5;124m\"\u001b[39m\u001b[38;5;124mSynthesizer (SmartNoise): \u001b[39m\u001b[38;5;124m\"\u001b[39m\n\u001b[0;32m     50\u001b[0m         \u001b[38;5;124mf\u001b[39m\u001b[38;5;124m\"\u001b[39m\u001b[38;5;124mFitting  \u001b[39m\u001b[38;5;132;01m{\u001b[39;00m\u001b[38;5;28mself\u001b[39m\u001b[38;5;241m.\u001b[39msyn_method\u001b[38;5;132;01m}\u001b[39;00m\u001b[38;5;124m spent \u001b[39m\u001b[38;5;124m\"\u001b[39m\n\u001b[0;32m     51\u001b[0m         \u001b[38;5;124mf\u001b[39m\u001b[38;5;124m\"\u001b[39m\u001b[38;5;132;01m{\u001b[39;00m\u001b[38;5;28mround\u001b[39m(time\u001b[38;5;241m.\u001b[39mtime()\u001b[38;5;241m-\u001b[39mtime_start\u001b[38;5;250m \u001b[39m,\u001b[38;5;241m4\u001b[39m)\u001b[38;5;132;01m}\u001b[39;00m\u001b[38;5;124m sec.\u001b[39m\u001b[38;5;124m\"\u001b[39m\n\u001b[0;32m     52\u001b[0m     )\n\u001b[0;32m     53\u001b[0m \u001b[38;5;28;01melse\u001b[39;00m:\n",
      "File \u001b[1;32md:\\Dropbox\\89_other_application\\GitHub\\PETsARD\\.venv\\lib\\site-packages\\snsynth\\aggregate_seeded\\aggregate_seeded.py:191\u001b[0m, in \u001b[0;36mAggregateSeededSynthesizer.fit\u001b[1;34m(self, data, use_columns, sensitive_zeros, transformer, categorical_columns, ordinal_columns, continuous_columns, preprocessor_eps, nullable, *ignore)\u001b[0m\n\u001b[0;32m    189\u001b[0m cards \u001b[38;5;241m=\u001b[39m \u001b[38;5;28mself\u001b[39m\u001b[38;5;241m.\u001b[39m_transformer\u001b[38;5;241m.\u001b[39mcardinality\n\u001b[0;32m    190\u001b[0m \u001b[38;5;28;01mif\u001b[39;00m \u001b[38;5;28many\u001b[39m (c \u001b[38;5;129;01mis\u001b[39;00m \u001b[38;5;28;01mNone\u001b[39;00m \u001b[38;5;28;01mfor\u001b[39;00m c \u001b[38;5;129;01min\u001b[39;00m cards):\n\u001b[1;32m--> 191\u001b[0m     \u001b[38;5;28;01mraise\u001b[39;00m \u001b[38;5;167;01mValueError\u001b[39;00m(\u001b[38;5;124m\"\u001b[39m\u001b[38;5;124mThe transformer appears to have some continuous columns. Please provide only categorical or ordinal.\u001b[39m\u001b[38;5;124m\"\u001b[39m)\n\u001b[0;32m    193\u001b[0m dimensionality \u001b[38;5;241m=\u001b[39m np\u001b[38;5;241m.\u001b[39mprod(cards)\n\u001b[0;32m    194\u001b[0m \u001b[38;5;28;01mif\u001b[39;00m \u001b[38;5;28mself\u001b[39m\u001b[38;5;241m.\u001b[39mverbose:\n",
      "\u001b[1;31mValueError\u001b[0m: The transformer appears to have some continuous columns. Please provide only categorical or ordinal."
     ]
    }
   ],
   "source": [
    "issue332(\n",
    "    load=load,\n",
    "    synthesizing_method='smartnoise-pacsynth',\n",
    "    scaler_inhibit=True\n",
    ")\n",
    "# ValueError: The transformer appears to have some continuous columns. Please provide only categorical or ordinal."
   ]
  },
  {
   "cell_type": "markdown",
   "metadata": {},
   "source": [
    "## dtype problem"
   ]
  },
  {
   "cell_type": "code",
   "execution_count": 57,
   "metadata": {},
   "outputs": [
    {
     "name": "stdout",
     "output_type": "stream",
     "text": [
      "age                float64\n",
      "workclass            int32\n",
      "fnlwgt             float64\n",
      "education            int32\n",
      "educational-num    float64\n",
      "marital-status       int32\n",
      "occupation           int32\n",
      "relationship         int32\n",
      "race                 int32\n",
      "gender               int32\n",
      "capital-gain       float64\n",
      "capital-loss       float64\n",
      "hours-per-week     float64\n",
      "native-country       int32\n",
      "income               int32\n",
      "dtype: object\n"
     ]
    }
   ],
   "source": [
    "proc_discretizing = Processor(\n",
    "    metadata=load.metadata,\n",
    ")\n",
    "# proc_discretizing.update_config(\n",
    "#     {'scaler': {\n",
    "#         col: None for col in load.data.columns\n",
    "#     }}\n",
    "# )\n",
    "proc_discretizing.fit(\n",
    "    data=load.data,\n",
    "    sequence=[\n",
    "        'missing',\n",
    "        'outlier',\n",
    "        'scaler',\n",
    "        'discretizing'\n",
    "    ]\n",
    ")\n",
    "preproc_discretizing_data = proc_discretizing.transform(\n",
    "    data=load.data\n",
    ")\n",
    "\n",
    "pp.pprint(preproc_discretizing_data.dtypes)"
   ]
  }
 ],
 "metadata": {
  "kernelspec": {
   "display_name": ".venv",
   "language": "python",
   "name": "python3"
  },
  "language_info": {
   "codemirror_mode": {
    "name": "ipython",
    "version": 3
   },
   "file_extension": ".py",
   "mimetype": "text/x-python",
   "name": "python",
   "nbconvert_exporter": "python",
   "pygments_lexer": "ipython3",
   "version": "3.10.11"
  }
 },
 "nbformat": 4,
 "nbformat_minor": 2
}
