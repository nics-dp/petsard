{
 "cells": [
  {
   "cell_type": "code",
   "execution_count": 1,
   "metadata": {},
   "outputs": [
    {
     "name": "stdout",
     "output_type": "stream",
     "text": [
      "d:\\Dropbox\\89_other_application\\GitHub\\PETsARD\\demo\\dev\n",
      "d:\\Dropbox\\89_other_application\\GitHub\\PETsARD\n"
     ]
    }
   ],
   "source": [
    "import os\n",
    "import pprint\n",
    "import sys\n",
    "\n",
    "\n",
    "path_cwd = os.getcwd()\n",
    "print(path_cwd)\n",
    "path_petsard = os.path.dirname(os.path.dirname(path_cwd))\n",
    "print(path_petsard)\n",
    "sys.path.append(path_petsard)\n",
    "\n",
    "pp = pprint.PrettyPrinter(depth=2)"
   ]
  },
  {
   "cell_type": "code",
   "execution_count": 2,
   "metadata": {},
   "outputs": [
    {
     "name": "stdout",
     "output_type": "stream",
     "text": [
      "{'Evaluator': {'mlutility-regression': {...}},\n",
      " 'Splitter': {'p80': {...}},\n",
      " 'Synthesizer': {'aim_5.0': {...}}}\n",
      "Now is Splitter with p80_[1-1]...\n",
      "Now is Synthesizer with aim_5.0...\n",
      "Now is Evaluator with mlutility-regression...\n"
     ]
    },
    {
     "name": "stderr",
     "output_type": "stream",
     "text": [
      "d:\\Dropbox\\89_other_application\\GitHub\\PETsARD\\PETsARD\\evaluator\\mlutlity.py:226: UserWarning: The cardinality of the column ID is too high, indicating the performance is not reliable. The column is removed.\n",
      "  warnings.warn(\n",
      "d:\\Dropbox\\89_other_application\\GitHub\\PETsARD\\PETsARD\\evaluator\\mlutlity.py:226: UserWarning: The cardinality of the column Customer_ID is too high, indicating the performance is not reliable. The column is removed.\n",
      "  warnings.warn(\n",
      "d:\\Dropbox\\89_other_application\\GitHub\\PETsARD\\PETsARD\\evaluator\\mlutlity.py:226: UserWarning: The cardinality of the column Name is too high, indicating the performance is not reliable. The column is removed.\n",
      "  warnings.warn(\n",
      "d:\\Dropbox\\89_other_application\\GitHub\\PETsARD\\PETsARD\\evaluator\\mlutlity.py:226: UserWarning: The cardinality of the column SSN is too high, indicating the performance is not reliable. The column is removed.\n",
      "  warnings.warn(\n",
      "d:\\Dropbox\\89_other_application\\GitHub\\PETsARD\\PETsARD\\evaluator\\mlutlity.py:226: UserWarning: The cardinality of the column Type_of_Loan is too high, indicating the performance is not reliable. The column is removed.\n",
      "  warnings.warn(\n",
      "d:\\Dropbox\\89_other_application\\GitHub\\PETsARD\\.venv\\lib\\site-packages\\sklearn\\base.py:486: UserWarning: X has feature names, but OneHotEncoder was fitted without feature names\n",
      "  warnings.warn(\n",
      "d:\\Dropbox\\89_other_application\\GitHub\\PETsARD\\.venv\\lib\\site-packages\\sklearn\\base.py:486: UserWarning: X has feature names, but OneHotEncoder was fitted without feature names\n",
      "  warnings.warn(\n",
      "d:\\Dropbox\\89_other_application\\GitHub\\PETsARD\\.venv\\lib\\site-packages\\sklearn\\base.py:486: UserWarning: X has feature names, but OneHotEncoder was fitted without feature names\n",
      "  warnings.warn(\n",
      "d:\\Dropbox\\89_other_application\\GitHub\\PETsARD\\PETsARD\\evaluator\\mlutlity.py:464: UserWarning: The score is less than the lower bound, indicating the performance is arbitrarily poor. The score is set to the lower bound.\n",
      "  warnings.warn('The score is less than the lower bound,' +\n",
      "d:\\Dropbox\\89_other_application\\GitHub\\PETsARD\\PETsARD\\evaluator\\mlutlity.py:464: UserWarning: The score is less than the lower bound, indicating the performance is arbitrarily poor. The score is set to the lower bound.\n",
      "  warnings.warn('The score is less than the lower bound,' +\n",
      "d:\\Dropbox\\89_other_application\\GitHub\\PETsARD\\PETsARD\\evaluator\\mlutlity.py:464: UserWarning: The score is less than the lower bound, indicating the performance is arbitrarily poor. The score is set to the lower bound.\n",
      "  warnings.warn('The score is less than the lower bound,' +\n"
     ]
    }
   ],
   "source": [
    "import yaml\n",
    "\n",
    "from PETsARD import Executor\n",
    "\n",
    "\n",
    "yaml_text: str = \"\"\"---\n",
    "Splitter:\n",
    "    p80:\n",
    "        method: custom_data\n",
    "        filepath:\n",
    "            ori: expt/split_Loader[credit_score]_Splitter[p80_[1-1]_[train]].csv\n",
    "            control: expt/split_Loader[credit_score]_Splitter[p80_[1-1]_[validation]].csv\n",
    "Synthesizer:\n",
    "    aim_5.0:\n",
    "        method: custom_data\n",
    "        filepath: expt/missing_data_mean&drop_aim_Loader[credit_score]_Splitter[p80_[1-1]]_Preprocessor[missing_mean&drop]_Synthesizer[aim_5.0]_Postprocessor[default].csv\n",
    "Evaluator:\n",
    "    mlutility-cluster:\n",
    "        method: 'mlutility-cluster'\n",
    "\n",
    "    mlutility-classification:\n",
    "        method: 'mlutility-classification'\n",
    "        target: 'Credit_Score'\n",
    "\n",
    "    mlutility-regression:\n",
    "        method: 'mlutility-regression'\n",
    "        target: 'Credit_Utilization_Ratio'\n",
    "...\"\"\"\n",
    "\n",
    "# pp.pprint(yaml_text)\n",
    "\n",
    "cfg = yaml.safe_load(yaml_text)\n",
    "pp.pprint(cfg)\n",
    "\n",
    "yaml_file: str = f'temp_eval.yaml'\n",
    "with open(yaml_file, 'w') as f:\n",
    "    f.write(yaml_text)\n",
    "\n",
    "exec = Executor(config=yaml_file)\n",
    "exec.run()\n",
    "\n",
    "os.remove(yaml_file)"
   ]
  },
  {
   "cell_type": "code",
   "execution_count": 5,
   "metadata": {},
   "outputs": [
    {
     "data": {
      "text/plain": [
       "30843"
      ]
     },
     "execution_count": 5,
     "metadata": {},
     "output_type": "execute_result"
    }
   ],
   "source": [
    "exec.status.status['Synthesizer']['operator'].get_result().shape[0]"
   ]
  }
 ],
 "metadata": {
  "kernelspec": {
   "display_name": ".venv",
   "language": "python",
   "name": "python3"
  },
  "language_info": {
   "codemirror_mode": {
    "name": "ipython",
    "version": 3
   },
   "file_extension": ".py",
   "mimetype": "text/x-python",
   "name": "python",
   "nbconvert_exporter": "python",
   "pygments_lexer": "ipython3",
   "version": "3.10.11"
  }
 },
 "nbformat": 4,
 "nbformat_minor": 2
}
