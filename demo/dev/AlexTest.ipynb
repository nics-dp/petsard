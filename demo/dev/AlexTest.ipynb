{
 "cells": [
  {
   "cell_type": "markdown",
   "metadata": {},
   "source": [
    "test cases:\n",
    "\n",
    "1. get the expected output\n",
    "2. can throw out errors (unfitted, format error, etc.)\n",
    "3. produce correct (or nearly correct) amount of NAs"
   ]
  },
  {
   "cell_type": "code",
   "execution_count": 1,
   "metadata": {},
   "outputs": [],
   "source": [
    "import pandas as pd\n",
    "import numpy as np"
   ]
  },
  {
   "cell_type": "code",
   "execution_count": 2,
   "metadata": {},
   "outputs": [
    {
     "name": "stdout",
     "output_type": "stream",
     "text": [
      "/Users/alex/PETsARD\n"
     ]
    },
    {
     "name": "stderr",
     "output_type": "stream",
     "text": [
      "/Users/alex/miniforge3/envs/dev/lib/python3.10/site-packages/IPython/core/magics/osm.py:417: UserWarning: This is now an optional IPython functionality, setting dhist requires you to install the `pickleshare` library.\n",
      "  self.shell.db['dhist'] = compress_dhist(dhist)[-100:]\n"
     ]
    }
   ],
   "source": [
    "%cd /Users/alex/PETsARD"
   ]
  },
  {
   "cell_type": "code",
   "execution_count": null,
   "metadata": {},
   "outputs": [],
   "source": [
    "from PETsARD import (\n",
    "    Loader,\n",
    "    Processor,\n",
    "    Synthesizer,\n",
    "    Evaluator,\n",
    "    Executor\n",
    ")"
   ]
  },
  {
   "cell_type": "code",
   "execution_count": 7,
   "metadata": {},
   "outputs": [
    {
     "name": "stdout",
     "output_type": "stream",
     "text": [
      "Loader - Benchmarker: file benchmark/adult-income.csv already exist and match SHA-256.\n",
      "                      PETsARD will ignore download and use local data directly.\n"
     ]
    }
   ],
   "source": [
    "load = Loader(\n",
    "    filepath='benchmark://adult-income'\n",
    ")\n",
    "load.load()"
   ]
  },
  {
   "cell_type": "code",
   "execution_count": 4,
   "metadata": {},
   "outputs": [],
   "source": [
    "synth = Synthesizer(method='sdv-gaussiancopula')"
   ]
  },
  {
   "cell_type": "code",
   "execution_count": 5,
   "metadata": {},
   "outputs": [
    {
     "name": "stdout",
     "output_type": "stream",
     "text": [
      "Synthesizer (SDV - SingleTable): Metafile loading time: 0.0001 sec.\n"
     ]
    }
   ],
   "source": [
    "synth.create(load.data, metadata=load.metadata.to_sdv())"
   ]
  },
  {
   "cell_type": "code",
   "execution_count": 6,
   "metadata": {},
   "outputs": [
    {
     "name": "stdout",
     "output_type": "stream",
     "text": [
      "Synthesizer (SDV - SingleTable): Fitting GaussianCopula.\n",
      "Synthesizer (SDV - SingleTable): Fitting  GaussianCopula spent 6.6271 sec.\n"
     ]
    },
    {
     "name": "stderr",
     "output_type": "stream",
     "text": [
      "/Users/alex/miniforge3/envs/dev/lib/python3.10/site-packages/scipy/stats/_continuous_distns.py:700: RuntimeWarning: invalid value encountered in _beta_ppf\n",
      "  return _boost._beta_ppf(q, a, b)\n"
     ]
    },
    {
     "name": "stdout",
     "output_type": "stream",
     "text": [
      "Synthesizer (SDV - SingleTable): Sampling GaussianCopula # 48842 rows (same as raw) in 0.864 sec.\n"
     ]
    }
   ],
   "source": [
    "synth.fit_sample()"
   ]
  },
  {
   "cell_type": "code",
   "execution_count": 9,
   "metadata": {},
   "outputs": [],
   "source": [
    "import tempfile"
   ]
  },
  {
   "cell_type": "code",
   "execution_count": 22,
   "metadata": {},
   "outputs": [
    {
     "name": "stdout",
     "output_type": "stream",
     "text": [
      "Now is Loader with adult-income...\n",
      "Now is Splitter with p80_[1-1]...\n",
      "Now is Preprocessor with default-smartnoise...\n",
      "Now is Synthesizer with smartnoise-dpctgan03...\n",
      "Synthesizer (SmartNoise): Fitting dpctgan.\n"
     ]
    },
    {
     "name": "stderr",
     "output_type": "stream",
     "text": [
      "/Users/alex/miniforge3/envs/dev/lib/python3.10/site-packages/opacus/privacy_engine.py:638: UserWarning: The sample rate will be defined from ``batch_size`` and ``sample_size``.The returned privacy budget will be incorrect.\n",
      "  warnings.warn(\n",
      "/Users/alex/miniforge3/envs/dev/lib/python3.10/site-packages/opacus/privacy_engine.py:229: UserWarning: Secure RNG turned off. This is perfectly fine for experimentation as it allows for much faster training performance, but remember to turn it on and retrain one last time before production with ``secure_rng`` turned on.\n",
      "  warnings.warn(\n",
      "/Users/alex/miniforge3/envs/dev/lib/python3.10/site-packages/torch/nn/modules/module.py:1359: UserWarning: Using a non-full backward hook when the forward contains multiple autograd Nodes is deprecated and will be removed in future versions. This hook will be missing some grad_input. Please use register_full_backward_hook to get the documented behavior.\n",
      "  warnings.warn(\"Using a non-full backward hook when the forward contains multiple autograd Nodes \"\n"
     ]
    },
    {
     "name": "stdout",
     "output_type": "stream",
     "text": [
      "Epoch 1, Loss G: 0.6573, Loss D: 1.3684\n",
      "epsilon is 0.023191678421611878, alpha is 63.0\n",
      "Epoch 2, Loss G: 0.6580, Loss D: 1.3673\n",
      "epsilon is 0.24137717571820097, alpha is 24.0\n",
      "Synthesizer (SmartNoise): Fitting  dpctgan spent 0.485 sec.\n",
      "Synthesizer (SmartNoise): Sampling dpctgan # 80 rows (same as raw) in 0.0095 sec.\n",
      "Now is Postprocessor with default-smartnoise...\n",
      "Now is Evaluator with anonymeter-singlingout...\n",
      "Now is Reporter with save_report_global...\n",
      "Now is 20240328_ano[Report]_[global] save to csv...\n"
     ]
    }
   ],
   "source": [
    "yaml_text = \"\"\"\n",
    "---\n",
    "Loader:\n",
    "    adult-income:\n",
    "        filepath: 'test.csv'\n",
    "Splitter:\n",
    "    p80:\n",
    "        num_samples: 1\n",
    "        train_split_ratio: 0.8\n",
    "Preprocessor:\n",
    "    default-smartnoise:\n",
    "        sequence:\n",
    "            - 'missing'\n",
    "            - 'outlier'\n",
    "            - 'encoder'\n",
    "            - 'scaler'\n",
    "Synthesizer:\n",
    "    smartnoise-dpctgan03:\n",
    "        method: 'smartnoise-dpctgan'\n",
    "        epsilon: 0.3\n",
    "        epochs: 1000\n",
    "        batch_size: 10\n",
    "Postprocessor:\n",
    "    default-smartnoise:\n",
    "        method: 'default'\n",
    "Evaluator:\n",
    "    anonymeter-singlingout:\n",
    "        method: 'anonymeter-singlingout'\n",
    "        n_attacks: 10\n",
    "Reporter:\n",
    "    save_report_global:\n",
    "        method: 'save_report'\n",
    "        output: '20240328_ano'\n",
    "        granularity: 'global'\n",
    "...\n",
    "\"\"\"\n",
    "\n",
    "\n",
    "with tempfile.NamedTemporaryFile(mode='w+', delete=True) as tmpfile:\n",
    "    tmpfile.write(yaml_text)\n",
    "    tmpfile.flush()\n",
    "    tmpfile.seek(0)\n",
    "\n",
    "    exec = Executor(config=tmpfile.name)\n",
    "    exec.run()"
   ]
  },
  {
   "cell_type": "code",
   "execution_count": 12,
   "metadata": {},
   "outputs": [],
   "source": [
    "df = pd.DataFrame({'A': np.random.rand(100), 'B': np.random.rand(100), 'C': np.random.rand(100)})"
   ]
  },
  {
   "cell_type": "code",
   "execution_count": 14,
   "metadata": {},
   "outputs": [],
   "source": [
    "df.to_csv('test.csv', index=False)"
   ]
  },
  {
   "cell_type": "code",
   "execution_count": 17,
   "metadata": {},
   "outputs": [
    {
     "data": {
      "text/plain": [
       "{'Loader': {'expt': 'adult-income',\n",
       "  'operator': <PETsARD.operator.LoaderOperator at 0x17ed28b50>},\n",
       " 'Splitter': {'expt': 'p80_[1-1]',\n",
       "  'operator': <PETsARD.operator.SplitterOperator at 0x17ed28970>}}"
      ]
     },
     "execution_count": 17,
     "metadata": {},
     "output_type": "execute_result"
    }
   ],
   "source": [
    "exec.status.status"
   ]
  },
  {
   "cell_type": "code",
   "execution_count": null,
   "metadata": {},
   "outputs": [],
   "source": []
  }
 ],
 "metadata": {
  "kernelspec": {
   "display_name": "py310",
   "language": "python",
   "name": "python3"
  },
  "language_info": {
   "codemirror_mode": {
    "name": "ipython",
    "version": 3
   },
   "file_extension": ".py",
   "mimetype": "text/x-python",
   "name": "python",
   "nbconvert_exporter": "python",
   "pygments_lexer": "ipython3",
   "version": "3.10.13"
  }
 },
 "nbformat": 4,
 "nbformat_minor": 2
}
