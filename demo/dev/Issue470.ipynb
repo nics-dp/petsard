{
 "cells": [
  {
   "cell_type": "code",
   "execution_count": 1,
   "metadata": {},
   "outputs": [
    {
     "name": "stdout",
     "output_type": "stream",
     "text": [
      "d:\\Dropbox\\89_other_application\\GitHub\\PETsARD\\demo\\dev\n",
      "d:\\Dropbox\\89_other_application\\GitHub\\PETsARD\n"
     ]
    }
   ],
   "source": [
    "import os\n",
    "import pprint\n",
    "import sys\n",
    "\n",
    "print(os.getcwd())\n",
    "path_petsard = os.path.dirname(os.path.dirname(os.getcwd()))\n",
    "print(path_petsard)\n",
    "sys.path.append(path_petsard)\n",
    "\n",
    "pp = pprint.PrettyPrinter(depth=2)"
   ]
  },
  {
   "cell_type": "code",
   "execution_count": 2,
   "metadata": {},
   "outputs": [],
   "source": [
    "from PETsARD import (\n",
    "    Loader,\n",
    "    Evaluator,\n",
    ")"
   ]
  },
  {
   "cell_type": "code",
   "execution_count": 3,
   "metadata": {},
   "outputs": [
    {
     "name": "stdout",
     "output_type": "stream",
     "text": [
      "2000\n",
      "1449\n",
      "        risk  risk_CI_btm  risk_CI_top  attack_rate  attack_rate_err  \\\n",
      "result   0.0          0.0     0.001872     0.001322         0.001322   \n",
      "\n",
      "        baseline_rate  baseline_rate_err  control_rate  control_rate_err  \n",
      "result       0.001322           0.001322      0.001322          0.001322  \n"
     ]
    },
    {
     "name": "stderr",
     "output_type": "stream",
     "text": [
      "d:\\Dropbox\\89_other_application\\GitHub\\PETsARD\\.venv\\lib\\site-packages\\anonymeter\\stats\\confidence.py:218: UserWarning: Attack is as good or worse as baseline model. Estimated rates: attack = 0.0013220502475928546, baseline = 0.0013220502475928546. Analysis results cannot be trusted.\n",
      "  self._sanity_check()\n"
     ]
    }
   ],
   "source": [
    "load_ori: Loader = Loader(\n",
    "    filepath='20240416_exptAB_Loader[nist-ma2018]_Splitter[p80_[1-1]_[train]].csv'\n",
    ")\n",
    "load_syn: Loader = Loader(\n",
    "    filepath='20240416_exptAB_Loader[nist-ma2018]_Splitter[p80_[1-1]]_Preprocessor[default-sdv]_Synthesizer[sdv-copulagan]_Postprocessor[default-sdv].csv'\n",
    ")\n",
    "load_ctrl: Loader = Loader(\n",
    "    filepath='20240416_exptAB_Loader[nist-ma2018]_Splitter[p80_[1-1]_[validation]].csv'\n",
    ")\n",
    "load_ori.load()\n",
    "load_syn.load()\n",
    "load_ctrl.load()\n",
    "\n",
    "\n",
    "eval = Evaluator(\n",
    "    method='anonymeter-LINKABILITY',\n",
    "    aux_cols=[\n",
    "        [\"AGEP\", \"SEX\", \"EDU\"],\n",
    "        [\"HISP\", \"RAC1P\", \"HOUSING_TYPE\", \"OWN_RENT\", \"DENSITY\",\n",
    "         \"DEYE\", \"DEAR\", \"PWGTP\", \"WGTP\", \"PUMA\",\n",
    "         \"MSP\", \"NOC\", \"NPF\", \"INDP\", \"INDP_CAT\",\n",
    "         \"PINCP\", \"PINCP_DECILE\", \"POVPIP\", \"DVET\", \"DREM\",\n",
    "         \"DPHY\",\n",
    "        ]\n",
    "    ],\n",
    ")\n",
    "print(eval.config['n_attacks'])\n",
    "eval.create(data={\n",
    "    'ori': load_ori.data,\n",
    "    'syn': load_syn.data,\n",
    "    'control': load_ctrl.data,\n",
    "})\n",
    "print(eval.config['n_attacks'])\n",
    "eval.eval()\n",
    "print(eval.get_global())\n"
   ]
  },
  {
   "cell_type": "markdown",
   "metadata": {},
   "source": [
    "# RuntimeError: Input dataframes have different column names/types."
   ]
  },
  {
   "cell_type": "code",
   "execution_count": 4,
   "metadata": {},
   "outputs": [
    {
     "name": "stderr",
     "output_type": "stream",
     "text": [
      "d:\\Dropbox\\89_other_application\\GitHub\\PETsARD\\.venv\\lib\\site-packages\\anonymeter\\stats\\confidence.py:218: UserWarning: Attack is as good or worse as baseline model. Estimated rates: attack = 0.0013220502475928546, baseline = 0.0013220502475928546. Analysis results cannot be trusted.\n",
      "  self._sanity_check()\n"
     ]
    }
   ],
   "source": [
    "load_ori: Loader = Loader(\n",
    "    filepath='20240416_exptAB_Loader[nist-ma2018]_Splitter[p80_[1-1]_[train]].csv'\n",
    ")\n",
    "load_syn: Loader = Loader(\n",
    "    filepath='20240416_exptAB_Loader[nist-ma2018]_Splitter[p80_[1-1]]_Preprocessor[default-sdv]_Synthesizer[sdv-gaussiancopula]_Postprocessor[default-sdv].csv'\n",
    ")\n",
    "load_ctrl: Loader = Loader(\n",
    "    filepath='20240416_exptAB_Loader[nist-ma2018]_Splitter[p80_[1-1]_[validation]].csv'\n",
    ")\n",
    "load_ori.load()\n",
    "load_syn.load()\n",
    "load_ctrl.load()\n",
    "\n",
    "\n",
    "eval = Evaluator(\n",
    "    method='anonymeter-LINKABILITY',\n",
    "    aux_cols=[\n",
    "        [\"AGEP\", \"SEX\", \"EDU\"],\n",
    "        [\"HISP\", \"RAC1P\", \"HOUSING_TYPE\", \"OWN_RENT\", \"DENSITY\",\n",
    "         \"DEYE\", \"DEAR\", \"PWGTP\", \"WGTP\", \"PUMA\",\n",
    "         \"MSP\", \"NOC\", \"NPF\", \"INDP\", \"INDP_CAT\",\n",
    "         \"PINCP\", \"PINCP_DECILE\", \"POVPIP\", \"DVET\", \"DREM\",\n",
    "         \"DPHY\",\n",
    "        ]\n",
    "    ],\n",
    ")\n",
    "eval.create(data={\n",
    "    'ori': load_ori.data,\n",
    "    'syn': load_syn.data,\n",
    "    'control': load_ctrl.data,\n",
    "})\n",
    "eval.eval()\n",
    "# eval.evaluator.evaluator.evaluate()"
   ]
  },
  {
   "cell_type": "code",
   "execution_count": 5,
   "metadata": {},
   "outputs": [
    {
     "name": "stdout",
     "output_type": "stream",
     "text": [
      "                     0         1         2\n",
      "PUMA          category  category  category\n",
      "AGEP              int8      int8      int8\n",
      "SEX               int8      int8      int8\n",
      "MSP           category  category  category\n",
      "HISP              int8      int8      int8\n",
      "RAC1P             int8      int8      int8\n",
      "NOC           category  category  category\n",
      "NPF           category  category  category\n",
      "HOUSING_TYPE      int8      int8      int8\n",
      "OWN_RENT          int8      int8      int8\n",
      "DENSITY        float32   float32   float32\n",
      "INDP          category  category  category\n",
      "INDP_CAT      category  category  category\n",
      "EDU           category  category  category\n",
      "PINCP         category  category  category\n",
      "PINCP_DECILE  category  category  category\n",
      "POVPIP        category  category  category\n",
      "DVET          category  category  category\n",
      "DREM          category  category  category\n",
      "DPHY          category  category  category\n",
      "DEYE              int8      int8      int8\n",
      "DEAR              int8      int8      int8\n",
      "PWGTP            int16     int16     int16\n",
      "WGTP             int16     int16     int16\n"
     ]
    }
   ],
   "source": [
    "import pandas as pd\n",
    "\n",
    "\n",
    "dtypes_compare: pd.DataFrame = pd.concat([\n",
    "    load_ori.data.dtypes,\n",
    "    load_syn.data.dtypes,\n",
    "    load_ctrl.data.dtypes,\n",
    "], axis=1)\n",
    "print(dtypes_compare)"
   ]
  },
  {
   "cell_type": "markdown",
   "metadata": {},
   "source": [
    "# YAML check"
   ]
  },
  {
   "cell_type": "code",
   "execution_count": 6,
   "metadata": {},
   "outputs": [
    {
     "name": "stdout",
     "output_type": "stream",
     "text": [
      "Now is Splitter with custom_data_[1-1]...\n",
      "Now is Synthesizer with custom_data...\n",
      "Now is Evaluator with anonymeter-linkability...\n",
      "Now is Reporter with save_rpt_global...\n",
      "Now is PETsARD[Report]_[global] save to csv...\n"
     ]
    }
   ],
   "source": [
    "import tempfile\n",
    "\n",
    "from PETsARD import Executor\n",
    "\n",
    "\n",
    "yaml_text: str = \"\"\"\n",
    "Splitter:\n",
    "    custom_data:\n",
    "        method: custom_data\n",
    "        filepath:\n",
    "            ori: 20240416_exptAB_Loader[nist-ma2018]_Splitter[p80_[1-1]_[train]].csv\n",
    "            control: 20240416_exptAB_Loader[nist-ma2018]_Splitter[p80_[1-1]_[validation]].csv\n",
    "Synthesizer:\n",
    "    custom_data:\n",
    "        method: custom_data\n",
    "        n_attacks: 2000\n",
    "        filepath: 20240416_exptAB_Loader[nist-ma2018]_Splitter[p80_[1-1]]_Preprocessor[default-sdv]_Synthesizer[sdv-gaussiancopula]_Postprocessor[default-sdv].csv\n",
    "Evaluator:\n",
    "    anonymeter-linkability:\n",
    "        method: anonymeter-linkability\n",
    "        aux_cols:\n",
    "            - - AGEP\n",
    "              - SEX\n",
    "              - EDU\n",
    "            - - HISP\n",
    "              - RAC1P\n",
    "              - HOUSING_TYPE\n",
    "              - OWN_RENT\n",
    "              - DENSITY\n",
    "              - DEYE\n",
    "              - DEAR\n",
    "              - PWGTP\n",
    "              - WGTP\n",
    "              - PUMA\n",
    "              - MSP\n",
    "              - NOC\n",
    "              - NPF\n",
    "              - INDP\n",
    "              - INDP_CAT\n",
    "              - PINCP\n",
    "              - PINCP_DECILE\n",
    "              - POVPIP\n",
    "              - DVET\n",
    "              - DREM\n",
    "              - DPHY\n",
    "Reporter:\n",
    "    save_rpt_global:\n",
    "        method: save_report\n",
    "        granularity: global\n",
    "\"\"\"\n",
    "\n",
    "\n",
    "with tempfile.NamedTemporaryFile(mode='w+', delete=False) as tmpfile:\n",
    "    tmpfile.write(yaml_text)\n",
    "    tmpfile.flush()\n",
    "    tmpfile.seek(0)\n",
    "    yaml_file: str = tmpfile.name\n",
    "\n",
    "    exec = Executor(config=yaml_file)\n",
    "    exec.run()\n",
    "\n",
    "os.remove(yaml_file)"
   ]
  },
  {
   "cell_type": "code",
   "execution_count": 9,
   "metadata": {},
   "outputs": [
    {
     "data": {
      "text/html": [
       "<div>\n",
       "<style scoped>\n",
       "    .dataframe tbody tr th:only-of-type {\n",
       "        vertical-align: middle;\n",
       "    }\n",
       "\n",
       "    .dataframe tbody tr th {\n",
       "        vertical-align: top;\n",
       "    }\n",
       "\n",
       "    .dataframe thead th {\n",
       "        text-align: right;\n",
       "    }\n",
       "</style>\n",
       "<table border=\"1\" class=\"dataframe\">\n",
       "  <thead>\n",
       "    <tr style=\"text-align: right;\">\n",
       "      <th></th>\n",
       "      <th>float_column</th>\n",
       "      <th>int_column</th>\n",
       "      <th>int_column_noround</th>\n",
       "    </tr>\n",
       "  </thead>\n",
       "  <tbody>\n",
       "    <tr>\n",
       "      <th>0</th>\n",
       "      <td>1.1</td>\n",
       "      <td>1</td>\n",
       "      <td>1</td>\n",
       "    </tr>\n",
       "    <tr>\n",
       "      <th>1</th>\n",
       "      <td>2.5</td>\n",
       "      <td>2</td>\n",
       "      <td>2</td>\n",
       "    </tr>\n",
       "    <tr>\n",
       "      <th>2</th>\n",
       "      <td>3.9</td>\n",
       "      <td>4</td>\n",
       "      <td>3</td>\n",
       "    </tr>\n",
       "    <tr>\n",
       "      <th>3</th>\n",
       "      <td>4.2</td>\n",
       "      <td>4</td>\n",
       "      <td>4</td>\n",
       "    </tr>\n",
       "    <tr>\n",
       "      <th>4</th>\n",
       "      <td>5.6</td>\n",
       "      <td>6</td>\n",
       "      <td>5</td>\n",
       "    </tr>\n",
       "  </tbody>\n",
       "</table>\n",
       "</div>"
      ],
      "text/plain": [
       "   float_column  int_column  int_column_noround\n",
       "0           1.1           1                   1\n",
       "1           2.5           2                   2\n",
       "2           3.9           4                   3\n",
       "3           4.2           4                   4\n",
       "4           5.6           6                   5"
      ]
     },
     "execution_count": 9,
     "metadata": {},
     "output_type": "execute_result"
    }
   ],
   "source": [
    "\n",
    "data = {'float_column': [1.1, 2.5, 3.9, 4.2, 5.6]}\n",
    "df = pd.DataFrame(data)\n",
    "\n",
    "df['int_column'] = df['float_column'].round().astype(int)\n",
    "df['int_column_noround'] = df['float_column'].astype(int)\n",
    "df"
   ]
  }
 ],
 "metadata": {
  "kernelspec": {
   "display_name": ".venv",
   "language": "python",
   "name": "python3"
  },
  "language_info": {
   "codemirror_mode": {
    "name": "ipython",
    "version": 3
   },
   "file_extension": ".py",
   "mimetype": "text/x-python",
   "name": "python",
   "nbconvert_exporter": "python",
   "pygments_lexer": "ipython3",
   "version": "3.10.11"
  }
 },
 "nbformat": 4,
 "nbformat_minor": 2
}
