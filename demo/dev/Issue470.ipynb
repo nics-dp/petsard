{
 "cells": [
  {
   "cell_type": "code",
   "execution_count": 2,
   "metadata": {},
   "outputs": [
    {
     "name": "stdout",
     "output_type": "stream",
     "text": [
      "d:\\Dropbox\\89_other_application\\GitHub\\PETsARD\\demo\\dev\n",
      "d:\\Dropbox\\89_other_application\\GitHub\\PETsARD\n"
     ]
    }
   ],
   "source": [
    "import os\n",
    "import pprint\n",
    "import sys\n",
    "\n",
    "print(os.getcwd())\n",
    "path_petsard = os.path.dirname(os.path.dirname(os.getcwd()))\n",
    "print(path_petsard)\n",
    "sys.path.append(path_petsard)\n",
    "\n",
    "pp = pprint.PrettyPrinter(depth=2)"
   ]
  },
  {
   "cell_type": "code",
   "execution_count": 3,
   "metadata": {},
   "outputs": [],
   "source": [
    "from PETsARD import (\n",
    "    Loader,\n",
    "    Evaluator,\n",
    "    Executor,\n",
    ")"
   ]
  },
  {
   "cell_type": "code",
   "execution_count": 5,
   "metadata": {},
   "outputs": [
    {
     "name": "stdout",
     "output_type": "stream",
     "text": [
      "2000\n",
      "1449\n",
      "        risk  risk_CI_btm  risk_CI_top  attack_rate  attack_rate_err  \\\n",
      "result   0.0          0.0     0.001872     0.001322         0.001322   \n",
      "\n",
      "        baseline_rate  baseline_rate_err  control_rate  control_rate_err  \n",
      "result        0.00201           0.001889      0.001322          0.001322  \n"
     ]
    },
    {
     "name": "stderr",
     "output_type": "stream",
     "text": [
      "d:\\Dropbox\\89_other_application\\GitHub\\PETsARD\\.venv\\lib\\site-packages\\anonymeter\\stats\\confidence.py:218: UserWarning: Attack is as good or worse as baseline model. Estimated rates: attack = 0.0013220502475928546, baseline = 0.0020103565964574607. Analysis results cannot be trusted.\n",
      "  self._sanity_check()\n"
     ]
    }
   ],
   "source": [
    "load_ori: Loader = Loader(\n",
    "    filepath='20240321_expt_A_Loader[nist-ma2018]_Splitter[p80_[1-1]_[train]].csv'\n",
    ")\n",
    "load_syn: Loader = Loader(\n",
    "    filepath='20240321_expt_A_Loader[nist-ma2018]_Splitter[p80_[1-1]]_Preprocessor[default-sdv]_Synthesizer[sdv-copulagan]_Postprocessor[default-sdv].csv'\n",
    ")\n",
    "load_ctrl: Loader = Loader(\n",
    "    filepath='20240321_expt_A_Loader[nist-ma2018]_Splitter[p80_[1-1]_[validation]].csv'\n",
    ")\n",
    "load_ori.load()\n",
    "load_syn.load()\n",
    "load_ctrl.load()\n",
    "\n",
    "\n",
    "eval = Evaluator(\n",
    "    method='anonymeter-LINKABILITY',\n",
    "    aux_cols=[\n",
    "        [\"AGEP\", \"SEX\", \"EDU\"],\n",
    "        [\"HISP\", \"RAC1P\", \"HOUSING_TYPE\", \"OWN_RENT\", \"DENSITY\",\n",
    "         \"DEYE\", \"DEAR\", \"PWGTP\", \"WGTP\", \"PUMA\",\n",
    "         \"MSP\", \"NOC\", \"NPF\", \"INDP\", \"INDP_CAT\",\n",
    "         \"PINCP\", \"PINCP_DECILE\", \"POVPIP\", \"DVET\", \"DREM\",\n",
    "         \"DPHY\",\n",
    "        ]\n",
    "    ],\n",
    ")\n",
    "print(eval.config['n_attacks'])\n",
    "eval.create(data={\n",
    "    'ori': load_ori.data,\n",
    "    'syn': load_syn.data,\n",
    "    'control': load_ctrl.data,\n",
    "})\n",
    "print(eval.config['n_attacks'])\n",
    "eval.eval()\n",
    "print(eval.get_global())\n"
   ]
  },
  {
   "cell_type": "markdown",
   "metadata": {},
   "source": [
    "# RuntimeError: Input dataframes have different column names/types."
   ]
  },
  {
   "cell_type": "code",
   "execution_count": 28,
   "metadata": {},
   "outputs": [
    {
     "name": "stderr",
     "output_type": "stream",
     "text": [
      "d:\\Dropbox\\89_other_application\\GitHub\\PETsARD\\PETsARD\\evaluator\\anonymeter.py:320: RuntimeWarning: Evaluator - Anonymeter: Please re-run this cell. For more stable results, increase `n_attacks`. Note that this will make the evaluation slower.\n",
      "  warnings.warn(\n"
     ]
    },
    {
     "ename": "RuntimeError",
     "evalue": "Input dataframes have different column names/types.",
     "output_type": "error",
     "traceback": [
      "\u001b[1;31m---------------------------------------------------------------------------\u001b[0m",
      "\u001b[1;31mRuntimeError\u001b[0m                              Traceback (most recent call last)",
      "Cell \u001b[1;32mIn[28], line 39\u001b[0m\n\u001b[0;32m     33\u001b[0m \u001b[38;5;28meval\u001b[39m\u001b[38;5;241m.\u001b[39mcreate(data\u001b[38;5;241m=\u001b[39m{\n\u001b[0;32m     34\u001b[0m     \u001b[38;5;124m'\u001b[39m\u001b[38;5;124mori\u001b[39m\u001b[38;5;124m'\u001b[39m: load_ori\u001b[38;5;241m.\u001b[39mdata,\n\u001b[0;32m     35\u001b[0m     \u001b[38;5;124m'\u001b[39m\u001b[38;5;124msyn\u001b[39m\u001b[38;5;124m'\u001b[39m: load_syn\u001b[38;5;241m.\u001b[39mdata,\n\u001b[0;32m     36\u001b[0m     \u001b[38;5;124m'\u001b[39m\u001b[38;5;124mcontrol\u001b[39m\u001b[38;5;124m'\u001b[39m: load_ctrl\u001b[38;5;241m.\u001b[39mdata,\n\u001b[0;32m     37\u001b[0m })\n\u001b[0;32m     38\u001b[0m \u001b[38;5;28meval\u001b[39m\u001b[38;5;241m.\u001b[39meval()\n\u001b[1;32m---> 39\u001b[0m \u001b[38;5;28;43meval\u001b[39;49m\u001b[38;5;241;43m.\u001b[39;49m\u001b[43mevaluator\u001b[49m\u001b[38;5;241;43m.\u001b[39;49m\u001b[43mevaluator\u001b[49m\u001b[38;5;241;43m.\u001b[39;49m\u001b[43mevaluate\u001b[49m\u001b[43m(\u001b[49m\u001b[43m)\u001b[49m\n",
      "File \u001b[1;32md:\\Dropbox\\89_other_application\\GitHub\\PETsARD\\.venv\\lib\\site-packages\\anonymeter\\evaluators\\linkability_evaluator.py:219\u001b[0m, in \u001b[0;36mLinkabilityEvaluator.evaluate\u001b[1;34m(self, n_jobs)\u001b[0m\n\u001b[0;32m    202\u001b[0m \u001b[38;5;250m\u001b[39m\u001b[38;5;124;03m\"\"\"Run the linkability attack.\u001b[39;00m\n\u001b[0;32m    203\u001b[0m \n\u001b[0;32m    204\u001b[0m \u001b[38;5;124;03mParameters\u001b[39;00m\n\u001b[1;32m   (...)\u001b[0m\n\u001b[0;32m    213\u001b[0m \n\u001b[0;32m    214\u001b[0m \u001b[38;5;124;03m\"\"\"\u001b[39;00m\n\u001b[0;32m    215\u001b[0m \u001b[38;5;28mself\u001b[39m\u001b[38;5;241m.\u001b[39m_baseline_links \u001b[38;5;241m=\u001b[39m _random_linkability_attack(\n\u001b[0;32m    216\u001b[0m     n_synthetic\u001b[38;5;241m=\u001b[39m\u001b[38;5;28mself\u001b[39m\u001b[38;5;241m.\u001b[39m_syn\u001b[38;5;241m.\u001b[39mshape[\u001b[38;5;241m0\u001b[39m], n_attacks\u001b[38;5;241m=\u001b[39m\u001b[38;5;28mself\u001b[39m\u001b[38;5;241m.\u001b[39m_n_attacks, n_neighbors\u001b[38;5;241m=\u001b[39m\u001b[38;5;28mself\u001b[39m\u001b[38;5;241m.\u001b[39m_n_neighbors\n\u001b[0;32m    217\u001b[0m )\n\u001b[1;32m--> 219\u001b[0m \u001b[38;5;28mself\u001b[39m\u001b[38;5;241m.\u001b[39m_attack_links \u001b[38;5;241m=\u001b[39m \u001b[43m_linkability_attack\u001b[49m\u001b[43m(\u001b[49m\n\u001b[0;32m    220\u001b[0m \u001b[43m    \u001b[49m\u001b[43mori\u001b[49m\u001b[38;5;241;43m=\u001b[39;49m\u001b[38;5;28;43mself\u001b[39;49m\u001b[38;5;241;43m.\u001b[39;49m\u001b[43m_ori\u001b[49m\u001b[43m,\u001b[49m\n\u001b[0;32m    221\u001b[0m \u001b[43m    \u001b[49m\u001b[43msyn\u001b[49m\u001b[38;5;241;43m=\u001b[39;49m\u001b[38;5;28;43mself\u001b[39;49m\u001b[38;5;241;43m.\u001b[39;49m\u001b[43m_syn\u001b[49m\u001b[43m,\u001b[49m\n\u001b[0;32m    222\u001b[0m \u001b[43m    \u001b[49m\u001b[43mn_attacks\u001b[49m\u001b[38;5;241;43m=\u001b[39;49m\u001b[38;5;28;43mself\u001b[39;49m\u001b[38;5;241;43m.\u001b[39;49m\u001b[43m_n_attacks\u001b[49m\u001b[43m,\u001b[49m\n\u001b[0;32m    223\u001b[0m \u001b[43m    \u001b[49m\u001b[43maux_cols\u001b[49m\u001b[38;5;241;43m=\u001b[39;49m\u001b[38;5;28;43mself\u001b[39;49m\u001b[38;5;241;43m.\u001b[39;49m\u001b[43m_aux_cols\u001b[49m\u001b[43m,\u001b[49m\n\u001b[0;32m    224\u001b[0m \u001b[43m    \u001b[49m\u001b[43mn_neighbors\u001b[49m\u001b[38;5;241;43m=\u001b[39;49m\u001b[38;5;28;43mself\u001b[39;49m\u001b[38;5;241;43m.\u001b[39;49m\u001b[43m_n_neighbors\u001b[49m\u001b[43m,\u001b[49m\n\u001b[0;32m    225\u001b[0m \u001b[43m    \u001b[49m\u001b[43mn_jobs\u001b[49m\u001b[38;5;241;43m=\u001b[39;49m\u001b[43mn_jobs\u001b[49m\u001b[43m,\u001b[49m\n\u001b[0;32m    226\u001b[0m \u001b[43m\u001b[49m\u001b[43m)\u001b[49m\n\u001b[0;32m    228\u001b[0m \u001b[38;5;28mself\u001b[39m\u001b[38;5;241m.\u001b[39m_control_links \u001b[38;5;241m=\u001b[39m (\n\u001b[0;32m    229\u001b[0m     \u001b[38;5;28;01mNone\u001b[39;00m\n\u001b[0;32m    230\u001b[0m     \u001b[38;5;28;01mif\u001b[39;00m \u001b[38;5;28mself\u001b[39m\u001b[38;5;241m.\u001b[39m_control \u001b[38;5;129;01mis\u001b[39;00m \u001b[38;5;28;01mNone\u001b[39;00m\n\u001b[1;32m   (...)\u001b[0m\n\u001b[0;32m    238\u001b[0m     )\n\u001b[0;32m    239\u001b[0m )\n\u001b[0;32m    241\u001b[0m \u001b[38;5;28mself\u001b[39m\u001b[38;5;241m.\u001b[39m_evaluated \u001b[38;5;241m=\u001b[39m \u001b[38;5;28;01mTrue\u001b[39;00m\n",
      "File \u001b[1;32md:\\Dropbox\\89_other_application\\GitHub\\PETsARD\\.venv\\lib\\site-packages\\anonymeter\\evaluators\\linkability_evaluator.py:137\u001b[0m, in \u001b[0;36m_linkability_attack\u001b[1;34m(ori, syn, n_attacks, aux_cols, n_neighbors, n_jobs)\u001b[0m\n\u001b[0;32m    134\u001b[0m targets \u001b[38;5;241m=\u001b[39m ori\u001b[38;5;241m.\u001b[39msample(n_attacks, replace\u001b[38;5;241m=\u001b[39m\u001b[38;5;28;01mFalse\u001b[39;00m)\n\u001b[0;32m    136\u001b[0m idx_0 \u001b[38;5;241m=\u001b[39m _find_nn(syn\u001b[38;5;241m=\u001b[39msyn[aux_cols[\u001b[38;5;241m0\u001b[39m]], ori\u001b[38;5;241m=\u001b[39mtargets[aux_cols[\u001b[38;5;241m0\u001b[39m]], n_neighbors\u001b[38;5;241m=\u001b[39mn_neighbors, n_jobs\u001b[38;5;241m=\u001b[39mn_jobs)\n\u001b[1;32m--> 137\u001b[0m idx_1 \u001b[38;5;241m=\u001b[39m \u001b[43m_find_nn\u001b[49m\u001b[43m(\u001b[49m\u001b[43msyn\u001b[49m\u001b[38;5;241;43m=\u001b[39;49m\u001b[43msyn\u001b[49m\u001b[43m[\u001b[49m\u001b[43maux_cols\u001b[49m\u001b[43m[\u001b[49m\u001b[38;5;241;43m1\u001b[39;49m\u001b[43m]\u001b[49m\u001b[43m]\u001b[49m\u001b[43m,\u001b[49m\u001b[43m \u001b[49m\u001b[43mori\u001b[49m\u001b[38;5;241;43m=\u001b[39;49m\u001b[43mtargets\u001b[49m\u001b[43m[\u001b[49m\u001b[43maux_cols\u001b[49m\u001b[43m[\u001b[49m\u001b[38;5;241;43m1\u001b[39;49m\u001b[43m]\u001b[49m\u001b[43m]\u001b[49m\u001b[43m,\u001b[49m\u001b[43m \u001b[49m\u001b[43mn_neighbors\u001b[49m\u001b[38;5;241;43m=\u001b[39;49m\u001b[43mn_neighbors\u001b[49m\u001b[43m,\u001b[49m\u001b[43m \u001b[49m\u001b[43mn_jobs\u001b[49m\u001b[38;5;241;43m=\u001b[39;49m\u001b[43mn_jobs\u001b[49m\u001b[43m)\u001b[49m\n\u001b[0;32m    139\u001b[0m \u001b[38;5;28;01mreturn\u001b[39;00m LinkabilityIndexes(idx_0\u001b[38;5;241m=\u001b[39midx_0, idx_1\u001b[38;5;241m=\u001b[39midx_1)\n",
      "File \u001b[1;32md:\\Dropbox\\89_other_application\\GitHub\\PETsARD\\.venv\\lib\\site-packages\\anonymeter\\evaluators\\linkability_evaluator.py:123\u001b[0m, in \u001b[0;36m_find_nn\u001b[1;34m(syn, ori, n_jobs, n_neighbors)\u001b[0m\n\u001b[0;32m    119\u001b[0m     ori \u001b[38;5;241m=\u001b[39m ori\u001b[38;5;241m.\u001b[39mto_frame()\n\u001b[0;32m    121\u001b[0m nn\u001b[38;5;241m.\u001b[39mfit(syn)\n\u001b[1;32m--> 123\u001b[0m \u001b[38;5;28;01mreturn\u001b[39;00m cast(np\u001b[38;5;241m.\u001b[39mndarray, \u001b[43mnn\u001b[49m\u001b[38;5;241;43m.\u001b[39;49m\u001b[43mkneighbors\u001b[49m\u001b[43m(\u001b[49m\u001b[43mori\u001b[49m\u001b[43m,\u001b[49m\u001b[43m \u001b[49m\u001b[43mreturn_distance\u001b[49m\u001b[38;5;241;43m=\u001b[39;49m\u001b[38;5;28;43;01mFalse\u001b[39;49;00m\u001b[43m)\u001b[49m)\n",
      "File \u001b[1;32md:\\Dropbox\\89_other_application\\GitHub\\PETsARD\\.venv\\lib\\site-packages\\anonymeter\\neighbors\\mixed_types_kneighbors.py:211\u001b[0m, in \u001b[0;36mMixedTypeKNeighbors.kneighbors\u001b[1;34m(self, queries, n_neighbors, return_distance)\u001b[0m\n\u001b[0;32m    208\u001b[0m     n_neighbors \u001b[38;5;241m=\u001b[39m \u001b[38;5;28mself\u001b[39m\u001b[38;5;241m.\u001b[39m_candidates\u001b[38;5;241m.\u001b[39mshape[\u001b[38;5;241m0\u001b[39m]\n\u001b[0;32m    210\u001b[0m \u001b[38;5;28;01mif\u001b[39;00m \u001b[38;5;28mself\u001b[39m\u001b[38;5;241m.\u001b[39m_ctypes \u001b[38;5;129;01mis\u001b[39;00m \u001b[38;5;28;01mNone\u001b[39;00m:\n\u001b[1;32m--> 211\u001b[0m     \u001b[38;5;28mself\u001b[39m\u001b[38;5;241m.\u001b[39m_ctypes \u001b[38;5;241m=\u001b[39m \u001b[43mdetect_consistent_col_types\u001b[49m\u001b[43m(\u001b[49m\u001b[43mdf1\u001b[49m\u001b[38;5;241;43m=\u001b[39;49m\u001b[38;5;28;43mself\u001b[39;49m\u001b[38;5;241;43m.\u001b[39;49m\u001b[43m_candidates\u001b[49m\u001b[43m,\u001b[49m\u001b[43m \u001b[49m\u001b[43mdf2\u001b[49m\u001b[38;5;241;43m=\u001b[39;49m\u001b[43mqueries\u001b[49m\u001b[43m)\u001b[49m\n\u001b[0;32m    212\u001b[0m candidates, queries \u001b[38;5;241m=\u001b[39m mixed_types_transform(\n\u001b[0;32m    213\u001b[0m     df1\u001b[38;5;241m=\u001b[39m\u001b[38;5;28mself\u001b[39m\u001b[38;5;241m.\u001b[39m_candidates, df2\u001b[38;5;241m=\u001b[39mqueries, num_cols\u001b[38;5;241m=\u001b[39m\u001b[38;5;28mself\u001b[39m\u001b[38;5;241m.\u001b[39m_ctypes[\u001b[38;5;124m\"\u001b[39m\u001b[38;5;124mnum\u001b[39m\u001b[38;5;124m\"\u001b[39m], cat_cols\u001b[38;5;241m=\u001b[39m\u001b[38;5;28mself\u001b[39m\u001b[38;5;241m.\u001b[39m_ctypes[\u001b[38;5;124m\"\u001b[39m\u001b[38;5;124mcat\u001b[39m\u001b[38;5;124m\"\u001b[39m]\n\u001b[0;32m    214\u001b[0m )\n\u001b[0;32m    216\u001b[0m cols \u001b[38;5;241m=\u001b[39m \u001b[38;5;28mself\u001b[39m\u001b[38;5;241m.\u001b[39m_ctypes[\u001b[38;5;124m\"\u001b[39m\u001b[38;5;124mnum\u001b[39m\u001b[38;5;124m\"\u001b[39m] \u001b[38;5;241m+\u001b[39m \u001b[38;5;28mself\u001b[39m\u001b[38;5;241m.\u001b[39m_ctypes[\u001b[38;5;124m\"\u001b[39m\u001b[38;5;124mcat\u001b[39m\u001b[38;5;124m\"\u001b[39m]\n",
      "File \u001b[1;32md:\\Dropbox\\89_other_application\\GitHub\\PETsARD\\.venv\\lib\\site-packages\\anonymeter\\preprocessing\\type_detection.py:51\u001b[0m, in \u001b[0;36mdetect_consistent_col_types\u001b[1;34m(df1, df2)\u001b[0m\n\u001b[0;32m     48\u001b[0m ctypes1 \u001b[38;5;241m=\u001b[39m detect_col_types(df1)\n\u001b[0;32m     50\u001b[0m \u001b[38;5;28;01mif\u001b[39;00m ctypes1 \u001b[38;5;241m!=\u001b[39m detect_col_types(df2):\n\u001b[1;32m---> 51\u001b[0m     \u001b[38;5;28;01mraise\u001b[39;00m \u001b[38;5;167;01mRuntimeError\u001b[39;00m(\u001b[38;5;124m\"\u001b[39m\u001b[38;5;124mInput dataframes have different column names/types.\u001b[39m\u001b[38;5;124m\"\u001b[39m)\n\u001b[0;32m     53\u001b[0m \u001b[38;5;28;01mreturn\u001b[39;00m ctypes1\n",
      "\u001b[1;31mRuntimeError\u001b[0m: Input dataframes have different column names/types."
     ]
    }
   ],
   "source": [
    "load_ori: Loader = Loader(\n",
    "    filepath='20240321_expt_A_Loader[nist-ma2018]_Splitter[p80_[1-1]_[train]].csv'\n",
    ")\n",
    "load_syn: Loader = Loader(\n",
    "    filepath='20240321_expt_A_Loader[nist-ma2018]_Splitter[p80_[1-1]]_Preprocessor[default-sdv]_Synthesizer[sdv-gaussiancopula]_Postprocessor[default-sdv].csv'\n",
    ")\n",
    "load_ctrl: Loader = Loader(\n",
    "    filepath='20240321_expt_A_Loader[nist-ma2018]_Splitter[p80_[1-1]_[validation]].csv'\n",
    ")\n",
    "load_ori.load()\n",
    "load_syn.load()\n",
    "load_ctrl.load()\n",
    "\n",
    "\n",
    "eval = Evaluator(\n",
    "    method='anonymeter-LINKABILITY',\n",
    "    aux_cols=[\n",
    "        [\"AGEP\", \"SEX\", \"EDU\"],\n",
    "        [\"HISP\", \"RAC1P\", \"HOUSING_TYPE\", \"OWN_RENT\", \"DENSITY\",\n",
    "         \"DEYE\", \"DEAR\", \"PWGTP\", \"WGTP\", \"PUMA\",\n",
    "         \"MSP\", \"NOC\", \"NPF\", \"INDP\", \"INDP_CAT\",\n",
    "         \"PINCP\", \"PINCP_DECILE\", \"POVPIP\", \"DVET\", \"DREM\",\n",
    "         \"DPHY\",\n",
    "        ]\n",
    "    ],\n",
    ")\n",
    "eval.create(data={\n",
    "    'ori': load_ori.data,\n",
    "    'syn': load_syn.data,\n",
    "    'control': load_ctrl.data,\n",
    "})\n",
    "eval.eval()\n",
    "eval.evaluator.evaluator.evaluate()"
   ]
  },
  {
   "cell_type": "code",
   "execution_count": 9,
   "metadata": {},
   "outputs": [
    {
     "name": "stdout",
     "output_type": "stream",
     "text": [
      "                     0         1         2\n",
      "PUMA          category  category  category\n",
      "AGEP              int8   float32      int8\n",
      "SEX               int8   float32      int8\n",
      "MSP           category  category  category\n",
      "HISP              int8   float32      int8\n",
      "RAC1P             int8   float32      int8\n",
      "NOC           category  category  category\n",
      "NPF           category  category  category\n",
      "HOUSING_TYPE      int8   float32      int8\n",
      "OWN_RENT          int8   float32      int8\n",
      "DENSITY        float32   float32   float32\n",
      "INDP          category  category  category\n",
      "INDP_CAT      category  category  category\n",
      "EDU           category  category  category\n",
      "PINCP         category  category  category\n",
      "PINCP_DECILE  category  category  category\n",
      "POVPIP        category  category  category\n",
      "DVET          category  category  category\n",
      "DREM          category  category  category\n",
      "DPHY          category  category  category\n",
      "DEYE              int8   float32      int8\n",
      "DEAR              int8   float32      int8\n",
      "PWGTP            int16   float32     int16\n",
      "WGTP             int16   float32     int16\n"
     ]
    }
   ],
   "source": [
    "import pandas as pd\n",
    "\n",
    "\n",
    "dtypes_compare: pd.DataFrame = pd.concat([\n",
    "    load_ori.data.dtypes,\n",
    "    load_syn.data.dtypes,\n",
    "    load_ctrl.data.dtypes,\n",
    "], axis=1)\n",
    "print(dtypes_compare)"
   ]
  },
  {
   "cell_type": "markdown",
   "metadata": {},
   "source": [
    "# YAML check"
   ]
  },
  {
   "cell_type": "code",
   "execution_count": 21,
   "metadata": {},
   "outputs": [
    {
     "name": "stdout",
     "output_type": "stream",
     "text": [
      "Now is Splitter with custom_data_[1-1]...\n",
      "Now is Synthesizer with custom_data...\n",
      "Now is Evaluator with anonymeter-linkability...\n",
      "Now is Reporter with save_rpt_global...\n",
      "Now is PETsARD[Report]_[global] save to csv...\n"
     ]
    },
    {
     "name": "stderr",
     "output_type": "stream",
     "text": [
      "d:\\Dropbox\\89_other_application\\GitHub\\PETsARD\\PETsARD\\evaluator\\anonymeter.py:320: RuntimeWarning: Evaluator - Anonymeter: Please re-run this cell. For more stable results, increase `n_attacks`. Note that this will make the evaluation slower.\n",
      "  warnings.warn(\n"
     ]
    }
   ],
   "source": [
    "import tempfile\n",
    "\n",
    "from PETsARD import Executor\n",
    "\n",
    "\n",
    "yaml_text: str = \"\"\"\n",
    "Splitter:\n",
    "    custom_data:\n",
    "        method: custom_data\n",
    "        filepath:\n",
    "            ori: 20240321_expt_A_Loader[nist-ma2018]_Splitter[p80_[1-1]_[train]].csv\n",
    "            control: 20240321_expt_A_Loader[nist-ma2018]_Splitter[p80_[1-1]_[validation]].csv\n",
    "Synthesizer:\n",
    "    custom_data:\n",
    "        method: custom_data\n",
    "        n_attacks: 2000\n",
    "        filepath: 20240321_expt_A_Loader[nist-ma2018]_Splitter[p80_[1-1]]_Preprocessor[default-sdv]_Synthesizer[sdv-gaussiancopula]_Postprocessor[default-sdv].csv\n",
    "Evaluator:\n",
    "    anonymeter-linkability:\n",
    "        method: anonymeter-linkability\n",
    "        aux_cols:\n",
    "            - - AGEP\n",
    "              - SEX\n",
    "              - EDU\n",
    "            - - HISP\n",
    "              - RAC1P\n",
    "              - HOUSING_TYPE\n",
    "              - OWN_RENT\n",
    "              - DENSITY\n",
    "              - DEYE\n",
    "              - DEAR\n",
    "              - PWGTP\n",
    "              - WGTP\n",
    "              - PUMA\n",
    "              - MSP\n",
    "              - NOC\n",
    "              - NPF\n",
    "              - INDP\n",
    "              - INDP_CAT\n",
    "              - PINCP\n",
    "              - PINCP_DECILE\n",
    "              - POVPIP\n",
    "              - DVET\n",
    "              - DREM\n",
    "              - DPHY\n",
    "Reporter:\n",
    "    save_rpt_global:\n",
    "        method: save_report\n",
    "        granularity: global\n",
    "\"\"\"\n",
    "\n",
    "\n",
    "with tempfile.NamedTemporaryFile(mode='w+', delete=False) as tmpfile:\n",
    "    tmpfile.write(yaml_text)\n",
    "    tmpfile.flush()\n",
    "    tmpfile.seek(0)\n",
    "    yaml_file: str = tmpfile.name\n",
    "\n",
    "    exec = Executor(config=yaml_file)\n",
    "    exec.run()\n",
    "\n",
    "os.remove(yaml_file)"
   ]
  }
 ],
 "metadata": {
  "kernelspec": {
   "display_name": ".venv",
   "language": "python",
   "name": "python3"
  },
  "language_info": {
   "codemirror_mode": {
    "name": "ipython",
    "version": 3
   },
   "file_extension": ".py",
   "mimetype": "text/x-python",
   "name": "python",
   "nbconvert_exporter": "python",
   "pygments_lexer": "ipython3",
   "version": "3.10.11"
  }
 },
 "nbformat": 4,
 "nbformat_minor": 2
}
