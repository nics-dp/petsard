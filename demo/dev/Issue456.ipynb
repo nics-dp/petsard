{
 "cells": [
  {
   "cell_type": "code",
   "execution_count": 1,
   "id": "aa52b560-4efc-4ef5-9962-31ae127d1dd5",
   "metadata": {
    "tags": []
   },
   "outputs": [
    {
     "name": "stdout",
     "output_type": "stream",
     "text": [
      "/home/ec2-user/SageMaker/PETsARD\n"
     ]
    }
   ],
   "source": [
    "import os\n",
    "import pprint\n",
    "import sys\n",
    "\n",
    "path_petsard = os.path.dirname(os.path.dirname(os.getcwd()))\n",
    "print(path_petsard)\n",
    "sys.path.append(path_petsard)\n",
    "\n",
    "pp = pprint.PrettyPrinter(depth=2)"
   ]
  },
  {
   "cell_type": "code",
   "execution_count": 2,
   "id": "88701b93-fe86-4058-847f-7e7b9f732ea7",
   "metadata": {
    "tags": []
   },
   "outputs": [
    {
     "name": "stdout",
     "output_type": "stream",
     "text": [
      "Now is Loader with bank-marketing-2...\n",
      "Loader - Benchmarker: file benchmark/bank_additional_full.csv already exist and match SHA-256.\n",
      "                      PETsARD will ignore download and use local data directly.\n",
      "Now is Preprocessor with default-sdv...\n",
      "Now is Synthesizer with sdv-ctgan...\n",
      "Synthesizer (SDV): Fitting CTGAN.\n",
      "Synthesizer (SDV): Fitting CTGAN spent 773.5354 sec.\n",
      "Synthesizer (SDV): Sampling CTGAN # 30360 rows (same as raw) in 1.2727 sec.\n"
     ]
    }
   ],
   "source": [
    "import tempfile\n",
    "\n",
    "import yaml\n",
    "\n",
    "from PETsARD import Executor\n",
    "\n",
    "\n",
    "load_benchmark = 'bank-marketing-2'\n",
    "syn_expt_name = 'sdv-ctgan'\n",
    "proc_expt_names = {\n",
    "    'sdv-copulagan': 'default-sdv',\n",
    "    'sdv-ctgan': 'default-sdv',\n",
    "    'sdv-gaussiancopula': 'default-sdv',\n",
    "    'sdv-tvae': 'default-sdv',\n",
    "    'smartnoise-aim': 'default-smartnoise',\n",
    "    'smartnoise-mst': 'default-smartnoise',\n",
    "    'smartnoise-pacsynth': 'default-smartnoise',\n",
    "    'smartnoise-dpctgan': 'default-sdv',\n",
    "    'smartnoise-patectgan': 'default-sdv',\n",
    "}\n",
    "preproc_cfgs = {\n",
    "    'default-sdv': \"\"\"\n",
    "Preprocessor:\n",
    "    default-sdv:\n",
    "        method: default\n",
    "\"\"\",\n",
    "    'default-smartnoise': \"\"\"\n",
    "Preprocessor:\n",
    "    default-smartnoise:\n",
    "        sequence:\n",
    "            - missing\n",
    "            - outlier\n",
    "            - scaler\n",
    "            - discretizing\n",
    "\"\"\",\n",
    "}\n",
    "\n",
    "\n",
    "\n",
    "syn_template: str = \"\"\"\n",
    "    {syn_expt_name}:\n",
    "        method: {syn_expt_name}\"\"\"\n",
    "\n",
    "\n",
    "\n",
    "final_syn_str: str = ''\n",
    "syn_str = syn_template.format(\n",
    "    syn_expt_name=syn_expt_name,\n",
    ")\n",
    "final_syn_str += syn_str\n",
    "\n",
    "\n",
    "\n",
    "yaml_template = \"\"\"\n",
    "---\n",
    "Loader:\n",
    "    {load_benchmark}:\n",
    "        filepath: benchmark://{load_benchmark}\n",
    "{preproc_cfg}\n",
    "Synthesizer:\n",
    "{final_syn_str}\n",
    "\"\"\"\n",
    "\n",
    "preproc_expt_name = proc_expt_names[syn_expt_name]\n",
    "preproc_cfg = preproc_cfgs[preproc_expt_name]\n",
    "\n",
    "yaml_text = yaml_template.format(\n",
    "    load_benchmark=load_benchmark,\n",
    "    preproc_cfg=preproc_cfg,\n",
    "    final_syn_str=final_syn_str,\n",
    ")\n",
    "# pp.pprint(yaml_text)\n",
    "\n",
    "# cfg = yaml.safe_load(yaml_text)\n",
    "# pp.pprint(cfg)\n",
    "with tempfile.NamedTemporaryFile(mode='w+', delete=False) as tmpfile:\n",
    "    tmpfile.write(yaml_text)\n",
    "    tmpfile.flush()\n",
    "    tmpfile.seek(0)\n",
    "    yaml_file: str = tmpfile.name\n",
    "\n",
    "\n",
    "exec = Executor(config=yaml_file)\n",
    "exec.run()\n",
    "\n",
    "os.remove(yaml_file)"
   ]
  },
  {
   "cell_type": "code",
   "execution_count": 3,
   "id": "af8c99a1-7c75-432d-897a-252de845a30e",
   "metadata": {
    "tags": []
   },
   "outputs": [
    {
     "name": "stdout",
     "output_type": "stream",
     "text": [
      "Loader - Benchmarker: file benchmark/bank_additional_full.csv already exist and match SHA-256.\n",
      "                      PETsARD will ignore download and use local data directly.\n",
      "Synthesizer (SDV): Fitting CTGAN.\n",
      "Synthesizer (SDV): Fitting CTGAN spent 764.6152 sec.\n",
      "Synthesizer (SDV): Sampling CTGAN # 30360 rows (same as raw) in 1.237 sec.\n"
     ]
    }
   ],
   "source": [
    "from copy import deepcopy\n",
    "\n",
    "from PETsARD import (\n",
    "    Loader,\n",
    "    Metadata,\n",
    "    Processor,\n",
    "    Synthesizer,\n",
    ")\n",
    "from PETsARD.processor.encoder import EncoderUniform\n",
    "\n",
    "\n",
    "benchmark = 'bank-marketing-2'\n",
    "syn_method = 'sdv-ctgan'\n",
    "\n",
    "\n",
    "load = Loader(\n",
    "    filepath=f\"benchmark://{benchmark}\",\n",
    ")\n",
    "load.load()\n",
    "\n",
    "proc = Processor(metadata=load.metadata,)\n",
    "proc.fit(data=load.data)\n",
    "preproc_data = proc.transform(data=load.data,)\n",
    "\n",
    "\n",
    "metadata: Metadata = deepcopy(load.metadata)\n",
    "\n",
    "if 'encoder' in proc._sequence:\n",
    "    encoder_cfg: dict = proc.get_config()['encoder']\n",
    "    for col, encoder in encoder_cfg.items():\n",
    "        if isinstance(encoder, EncoderUniform):\n",
    "            metadata.set_col_infer_dtype(col, 'numerical')\n",
    "\n",
    "syn = Synthesizer(method=syn_method,)\n",
    "syn.create(data=preproc_data, metadata=metadata.to_sdv())\n",
    "syn.fit_sample()"
   ]
  }
 ],
 "metadata": {
  "kernelspec": {
   "display_name": "conda_pytorch_p310",
   "language": "python",
   "name": "conda_pytorch_p310"
  },
  "language_info": {
   "codemirror_mode": {
    "name": "ipython",
    "version": 3
   },
   "file_extension": ".py",
   "mimetype": "text/x-python",
   "name": "python",
   "nbconvert_exporter": "python",
   "pygments_lexer": "ipython3",
   "version": "3.10.13"
  }
 },
 "nbformat": 4,
 "nbformat_minor": 5
}
