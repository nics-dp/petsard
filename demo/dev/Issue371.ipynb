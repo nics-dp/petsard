{
 "cells": [
  {
   "cell_type": "code",
   "execution_count": 1,
   "metadata": {},
   "outputs": [
    {
     "name": "stdout",
     "output_type": "stream",
     "text": [
      "d:\\Dropbox\\89_other_application\n"
     ]
    }
   ],
   "source": [
    "import os\n",
    "import pprint\n",
    "import sys\n",
    "\n",
    "path_petsard = os.path.dirname(os.path.dirname(os.getcwd()))\n",
    "print(path_petsard)\n",
    "sys.path.append(path_petsard)\n",
    "\n",
    "pp = pprint.PrettyPrinter(depth=2)"
   ]
  },
  {
   "cell_type": "code",
   "execution_count": null,
   "metadata": {},
   "outputs": [],
   "source": [
    "import tempfile\n",
    "\n",
    "from PETsARD import Executor"
   ]
  },
  {
   "cell_type": "markdown",
   "metadata": {},
   "source": [
    "# Loader"
   ]
  },
  {
   "cell_type": "code",
   "execution_count": 6,
   "metadata": {},
   "outputs": [
    {
     "name": "stdout",
     "output_type": "stream",
     "text": [
      "Now is Loader with adult-income...\n",
      "Loader - Benchmarker: file benchmark\\adult-income.csv already exist and match SHA-256.\n",
      "                      PETsARD will ignore download and use local data directly.\n",
      "Now is Describer with default-loader...\n",
      "Now is Reporter with save_report-global...\n",
      "Now is PETsARD[Report]_default-loader_[global] save to csv...\n",
      "Now is Reporter with save_report-columnwise...\n",
      "Now is PETsARD[Report]_default-loader_[columnwise] save to csv...\n",
      "Now is Reporter with save_report-pairwise...\n",
      "Now is PETsARD[Report]_default-loader_[pairwise] save to csv...\n",
      "Now is Loader with bank-marketing-2...\n",
      "Loader - Benchmarker: file benchmark\\bank_additional_full.csv already exist and match SHA-256.\n",
      "                      PETsARD will ignore download and use local data directly.\n",
      "Now is Describer with default-loader...\n",
      "Now is Reporter with save_report-global...\n",
      "Now is PETsARD[Report]_default-loader_[global] save to csv...\n",
      "Now is Reporter with save_report-columnwise...\n",
      "Now is PETsARD[Report]_default-loader_[columnwise] save to csv...\n",
      "Now is Reporter with save_report-pairwise...\n",
      "Now is PETsARD[Report]_default-loader_[pairwise] save to csv...\n"
     ]
    }
   ],
   "source": [
    "txt = \"\"\"\n",
    "---\n",
    "Loader:\n",
    "    adult-income:\n",
    "        filepath: 'benchmark://adult-income'\n",
    "    bank-marketing-2:\n",
    "        filepath: 'benchmark://bank-marketing-2'\n",
    "Describer:\n",
    "    default-loader:\n",
    "        method: default\n",
    "Reporter:\n",
    "    save_report-global:\n",
    "        method: save_report\n",
    "        granularity: global\n",
    "        eval: default-loader\n",
    "    save_report-columnwise:\n",
    "        method: save_report\n",
    "        granularity: columnwise\n",
    "        eval: default-loader\n",
    "    save_report-pairwise:\n",
    "        method: save_report\n",
    "        granularity: pairwise\n",
    "        eval: default-loader\n",
    "...\n",
    "\"\"\"\n",
    "\n",
    "\n",
    "with tempfile.NamedTemporaryFile(delete=False) as tmpfile:\n",
    "    tmpfile.write(txt.encode('utf-8'))\n",
    "    tmpfile.flush()\n",
    "\n",
    "    exec = Executor(config=tmpfile.name)\n",
    "    exec.run()\n",
    "\n",
    "os.remove(tmpfile.name)"
   ]
  },
  {
   "cell_type": "markdown",
   "metadata": {},
   "source": [
    "# Splitter"
   ]
  },
  {
   "cell_type": "code",
   "execution_count": 7,
   "metadata": {},
   "outputs": [
    {
     "ename": "AttributeError",
     "evalue": "'str' object has no attribute 'get'",
     "output_type": "error",
     "traceback": [
      "\u001b[1;31m---------------------------------------------------------------------------\u001b[0m",
      "\u001b[1;31mAttributeError\u001b[0m                            Traceback (most recent call last)",
      "Cell \u001b[1;32mIn[7], line 35\u001b[0m\n\u001b[0;32m     32\u001b[0m     tmpfile\u001b[38;5;241m.\u001b[39mwrite(txt\u001b[38;5;241m.\u001b[39mencode(\u001b[38;5;124m'\u001b[39m\u001b[38;5;124mutf-8\u001b[39m\u001b[38;5;124m'\u001b[39m))\n\u001b[0;32m     33\u001b[0m     tmpfile\u001b[38;5;241m.\u001b[39mflush()\n\u001b[1;32m---> 35\u001b[0m     exec \u001b[38;5;241m=\u001b[39m \u001b[43mExecutor\u001b[49m\u001b[43m(\u001b[49m\u001b[43mconfig\u001b[49m\u001b[38;5;241;43m=\u001b[39;49m\u001b[43mtmpfile\u001b[49m\u001b[38;5;241;43m.\u001b[39;49m\u001b[43mname\u001b[49m\u001b[43m)\u001b[49m\n\u001b[0;32m     36\u001b[0m     exec\u001b[38;5;241m.\u001b[39mrun()\n\u001b[0;32m     38\u001b[0m os\u001b[38;5;241m.\u001b[39mremove(tmpfile\u001b[38;5;241m.\u001b[39mname)\n",
      "File \u001b[1;32md:\\Dropbox\\89_other_application\\GitHub\\PETsARD\\PETsARD\\executor.py:21\u001b[0m, in \u001b[0;36mExecutor.__init__\u001b[1;34m(self, config)\u001b[0m\n\u001b[0;32m      9\u001b[0m \u001b[38;5;28;01mdef\u001b[39;00m \u001b[38;5;21m__init__\u001b[39m(\u001b[38;5;28mself\u001b[39m, config: \u001b[38;5;28mstr\u001b[39m):\n\u001b[0;32m     10\u001b[0m \u001b[38;5;250m    \u001b[39m\u001b[38;5;124;03m\"\"\"\u001b[39;00m\n\u001b[0;32m     11\u001b[0m \u001b[38;5;124;03m    Initialize the executor object.\u001b[39;00m\n\u001b[0;32m     12\u001b[0m \n\u001b[1;32m   (...)\u001b[0m\n\u001b[0;32m     19\u001b[0m \u001b[38;5;124;03m        result (dict): The result of the executor.\u001b[39;00m\n\u001b[0;32m     20\u001b[0m \u001b[38;5;124;03m    \"\"\"\u001b[39;00m\n\u001b[1;32m---> 21\u001b[0m     \u001b[38;5;28mself\u001b[39m\u001b[38;5;241m.\u001b[39mconfig \u001b[38;5;241m=\u001b[39m \u001b[43mConfig\u001b[49m\u001b[43m(\u001b[49m\u001b[43mfilename\u001b[49m\u001b[38;5;241;43m=\u001b[39;49m\u001b[43mconfig\u001b[49m\u001b[43m)\u001b[49m\n\u001b[0;32m     22\u001b[0m     \u001b[38;5;28mself\u001b[39m\u001b[38;5;241m.\u001b[39msequence \u001b[38;5;241m=\u001b[39m \u001b[38;5;28mself\u001b[39m\u001b[38;5;241m.\u001b[39mconfig\u001b[38;5;241m.\u001b[39msequence  \u001b[38;5;66;03m# sequence default in Config\u001b[39;00m\n\u001b[0;32m     23\u001b[0m     \u001b[38;5;28mself\u001b[39m\u001b[38;5;241m.\u001b[39mstatus \u001b[38;5;241m=\u001b[39m Status(config\u001b[38;5;241m=\u001b[39m\u001b[38;5;28mself\u001b[39m\u001b[38;5;241m.\u001b[39mconfig)\n",
      "File \u001b[1;32md:\\Dropbox\\89_other_application\\GitHub\\PETsARD\\PETsARD\\config.py:65\u001b[0m, in \u001b[0;36mConfig.__init__\u001b[1;34m(self, filename)\u001b[0m\n\u001b[0;32m     63\u001b[0m \u001b[38;5;28;01mif\u001b[39;00m \u001b[38;5;124m'\u001b[39m\u001b[38;5;124mSplitter\u001b[39m\u001b[38;5;124m'\u001b[39m \u001b[38;5;129;01min\u001b[39;00m \u001b[38;5;28mself\u001b[39m\u001b[38;5;241m.\u001b[39myaml:\n\u001b[0;32m     64\u001b[0m     \u001b[38;5;28;01mif\u001b[39;00m \u001b[38;5;124m'\u001b[39m\u001b[38;5;124mmethod\u001b[39m\u001b[38;5;124m'\u001b[39m \u001b[38;5;129;01mnot\u001b[39;00m \u001b[38;5;129;01min\u001b[39;00m \u001b[38;5;28mself\u001b[39m\u001b[38;5;241m.\u001b[39myaml[\u001b[38;5;124m'\u001b[39m\u001b[38;5;124mSplitter\u001b[39m\u001b[38;5;124m'\u001b[39m]:\n\u001b[1;32m---> 65\u001b[0m         \u001b[38;5;28mself\u001b[39m\u001b[38;5;241m.\u001b[39myaml[\u001b[38;5;124m'\u001b[39m\u001b[38;5;124mSplitter\u001b[39m\u001b[38;5;124m'\u001b[39m] \u001b[38;5;241m=\u001b[39m \u001b[38;5;28;43mself\u001b[39;49m\u001b[38;5;241;43m.\u001b[39;49m\u001b[43m_splitter_handler\u001b[49m\u001b[43m(\u001b[49m\n\u001b[0;32m     66\u001b[0m \u001b[43m            \u001b[49m\u001b[43mdeepcopy\u001b[49m\u001b[43m(\u001b[49m\u001b[38;5;28;43mself\u001b[39;49m\u001b[38;5;241;43m.\u001b[39;49m\u001b[43myaml\u001b[49m\u001b[43m[\u001b[49m\u001b[38;5;124;43m'\u001b[39;49m\u001b[38;5;124;43mSplitter\u001b[39;49m\u001b[38;5;124;43m'\u001b[39;49m\u001b[43m]\u001b[49m\u001b[43m)\u001b[49m\n\u001b[0;32m     67\u001b[0m \u001b[43m        \u001b[49m\u001b[43m)\u001b[49m\n\u001b[0;32m     69\u001b[0m \u001b[38;5;28mself\u001b[39m\u001b[38;5;241m.\u001b[39mconfig, \u001b[38;5;28mself\u001b[39m\u001b[38;5;241m.\u001b[39mmodule_flow, \u001b[38;5;28mself\u001b[39m\u001b[38;5;241m.\u001b[39mexpt_flow \u001b[38;5;241m=\u001b[39m \u001b[38;5;28mself\u001b[39m\u001b[38;5;241m.\u001b[39m_set_flow()\n",
      "File \u001b[1;32md:\\Dropbox\\89_other_application\\GitHub\\PETsARD\\PETsARD\\config.py:121\u001b[0m, in \u001b[0;36mConfig._splitter_handler\u001b[1;34m(self, config)\u001b[0m\n\u001b[0;32m    119\u001b[0m transformed_config: \u001b[38;5;28mdict\u001b[39m \u001b[38;5;241m=\u001b[39m {}\n\u001b[0;32m    120\u001b[0m \u001b[38;5;28;01mfor\u001b[39;00m expt_name, expt_config \u001b[38;5;129;01min\u001b[39;00m config\u001b[38;5;241m.\u001b[39mitems():\n\u001b[1;32m--> 121\u001b[0m     num_samples \u001b[38;5;241m=\u001b[39m \u001b[43mexpt_config\u001b[49m\u001b[38;5;241;43m.\u001b[39;49m\u001b[43mget\u001b[49m(\u001b[38;5;124m'\u001b[39m\u001b[38;5;124mnum_samples\u001b[39m\u001b[38;5;124m'\u001b[39m, \u001b[38;5;241m1\u001b[39m)\n\u001b[0;32m    122\u001b[0m     iter_expt_config \u001b[38;5;241m=\u001b[39m deepcopy(expt_config)\n\u001b[0;32m    123\u001b[0m     iter_expt_config[\u001b[38;5;124m'\u001b[39m\u001b[38;5;124mnum_samples\u001b[39m\u001b[38;5;124m'\u001b[39m] \u001b[38;5;241m=\u001b[39m \u001b[38;5;241m1\u001b[39m\n",
      "\u001b[1;31mAttributeError\u001b[0m: 'str' object has no attribute 'get'"
     ]
    }
   ],
   "source": [
    "txt = \"\"\"\n",
    "---\n",
    "Loader:\n",
    "    adult-income:\n",
    "        filepath: 'benchmark://adult-income'\n",
    "    bank-marketing-2:\n",
    "        filepath: 'benchmark://bank-marketing-2'\n",
    "Splitter:\n",
    "    '0.8':\n",
    "        train_split_ratio=0.8\n",
    "Describer:\n",
    "    default-splitter:\n",
    "        method: default\n",
    "Reporter:\n",
    "    save_report-global:\n",
    "        method: save_report\n",
    "        granularity: global\n",
    "        eval: default-splitter\n",
    "    save_report-columnwise:\n",
    "        method: save_report\n",
    "        granularity: columnwise\n",
    "        eval: default-splitter\n",
    "    save_report-pairwise:\n",
    "        method: save_report\n",
    "        granularity: pairwise\n",
    "        eval: default-splitter\n",
    "...\n",
    "\"\"\"\n",
    "\n",
    "\n",
    "with tempfile.NamedTemporaryFile(delete=False) as tmpfile:\n",
    "    tmpfile.write(txt.encode('utf-8'))\n",
    "    tmpfile.flush()\n",
    "\n",
    "    exec = Executor(config=tmpfile.name)\n",
    "    exec.run()\n",
    "\n",
    "os.remove(tmpfile.name)"
   ]
  },
  {
   "cell_type": "markdown",
   "metadata": {},
   "source": [
    "# Preprocessor"
   ]
  },
  {
   "cell_type": "code",
   "execution_count": 9,
   "metadata": {},
   "outputs": [
    {
     "name": "stdout",
     "output_type": "stream",
     "text": [
      "Now is Loader with adult-income...\n",
      "Loader - Benchmarker: file benchmark\\adult-income.csv already exist and match SHA-256.\n",
      "                      PETsARD will ignore download and use local data directly.\n",
      "Now is Preprocessor with default...\n",
      "Now is Describer with default-preproc...\n",
      "Now is Reporter with save_report-global...\n",
      "Now is PETsARD[Report]_default-preproc_[global] save to csv...\n",
      "Now is Reporter with save_report-columnwise...\n",
      "Now is PETsARD[Report]_default-preproc_[columnwise] save to csv...\n",
      "Now is Reporter with save_report-pairwise...\n",
      "Now is PETsARD[Report]_default-preproc_[pairwise] save to csv...\n",
      "Now is Loader with bank-marketing-2...\n",
      "Loader - Benchmarker: file benchmark\\bank_additional_full.csv already exist and match SHA-256.\n",
      "                      PETsARD will ignore download and use local data directly.\n",
      "Now is Preprocessor with default...\n",
      "Now is Describer with default-preproc...\n",
      "Now is Reporter with save_report-global...\n",
      "Now is PETsARD[Report]_default-preproc_[global] save to csv...\n",
      "Now is Reporter with save_report-columnwise...\n",
      "Now is PETsARD[Report]_default-preproc_[columnwise] save to csv...\n",
      "Now is Reporter with save_report-pairwise...\n",
      "Now is PETsARD[Report]_default-preproc_[pairwise] save to csv...\n"
     ]
    }
   ],
   "source": [
    "txt = \"\"\"\n",
    "---\n",
    "Loader:\n",
    "    adult-income:\n",
    "        filepath: 'benchmark://adult-income'\n",
    "    bank-marketing-2:\n",
    "        filepath: 'benchmark://bank-marketing-2'\n",
    "Preprocessor:\n",
    "    default:\n",
    "        method: default\n",
    "Describer:\n",
    "    default-preproc:\n",
    "        method: default\n",
    "Reporter:\n",
    "    save_report-global:\n",
    "        method: save_report\n",
    "        granularity: global\n",
    "        eval: default-preproc\n",
    "    save_report-columnwise:\n",
    "        method: save_report\n",
    "        granularity: columnwise\n",
    "        eval: default-preproc\n",
    "    save_report-pairwise:\n",
    "        method: save_report\n",
    "        granularity: pairwise\n",
    "        eval: default-preproc\n",
    "...\n",
    "\"\"\"\n",
    "\n",
    "\n",
    "with tempfile.NamedTemporaryFile(delete=False) as tmpfile:\n",
    "    tmpfile.write(txt.encode('utf-8'))\n",
    "    tmpfile.flush()\n",
    "\n",
    "    exec = Executor(config=tmpfile.name)\n",
    "    exec.run()\n",
    "\n",
    "os.remove(tmpfile.name)"
   ]
  },
  {
   "cell_type": "markdown",
   "metadata": {},
   "source": [
    "# Synthesizer"
   ]
  },
  {
   "cell_type": "code",
   "execution_count": 10,
   "metadata": {},
   "outputs": [
    {
     "name": "stdout",
     "output_type": "stream",
     "text": [
      "Now is Loader with adult-income...\n",
      "Loader - Benchmarker: file benchmark\\adult-income.csv already exist and match SHA-256.\n",
      "                      PETsARD will ignore download and use local data directly.\n",
      "Now is Synthesizer with default...\n",
      "Synthesizer (SDV - SingleTable): Metafile loading time: 0.0651 sec.\n",
      "Synthesizer (SDV - SingleTable): Fitting GaussianCopula.\n"
     ]
    },
    {
     "name": "stderr",
     "output_type": "stream",
     "text": [
      "d:\\Dropbox\\89_other_application\\GitHub\\PETsARD\\.venv\\lib\\site-packages\\sdv\\single_table\\base.py:79: UserWarning: We strongly recommend saving the metadata using 'save_to_json' for replicability in future SDV versions.\n",
      "  warnings.warn(\n"
     ]
    },
    {
     "name": "stdout",
     "output_type": "stream",
     "text": [
      "Synthesizer (SDV - SingleTable): Fitting  GaussianCopula spent 22.4557 sec.\n",
      "Synthesizer (SDV - SingleTable): Sampling GaussianCopula # 48842 rows (same as raw) in 2.1715 sec.\n",
      "Now is Describer with default-syn...\n",
      "Now is Reporter with save_report-global...\n",
      "Now is PETsARD[Report]_default-syn_[global] save to csv...\n",
      "Now is Reporter with save_report-columnwise...\n",
      "Now is PETsARD[Report]_default-syn_[columnwise] save to csv...\n",
      "Now is Reporter with save_report-pairwise...\n",
      "Now is PETsARD[Report]_default-syn_[pairwise] save to csv...\n",
      "Now is Loader with bank-marketing-2...\n",
      "Loader - Benchmarker: file benchmark\\bank_additional_full.csv already exist and match SHA-256.\n",
      "                      PETsARD will ignore download and use local data directly.\n",
      "Now is Synthesizer with default...\n",
      "Synthesizer (SDV - SingleTable): Metafile loading time: 0.0696 sec.\n",
      "Synthesizer (SDV - SingleTable): Fitting GaussianCopula.\n"
     ]
    },
    {
     "name": "stderr",
     "output_type": "stream",
     "text": [
      "d:\\Dropbox\\89_other_application\\GitHub\\PETsARD\\.venv\\lib\\site-packages\\sdv\\single_table\\base.py:79: UserWarning: We strongly recommend saving the metadata using 'save_to_json' for replicability in future SDV versions.\n",
      "  warnings.warn(\n"
     ]
    },
    {
     "name": "stdout",
     "output_type": "stream",
     "text": [
      "Synthesizer (SDV - SingleTable): Fitting  GaussianCopula spent 23.9025 sec.\n",
      "Synthesizer (SDV - SingleTable): Sampling GaussianCopula # 41188 rows (same as raw) in 3.2686 sec.\n",
      "Now is Describer with default-syn...\n",
      "Now is Reporter with save_report-global...\n",
      "Now is PETsARD[Report]_default-syn_[global] save to csv...\n",
      "Now is Reporter with save_report-columnwise...\n",
      "Now is PETsARD[Report]_default-syn_[columnwise] save to csv...\n",
      "Now is Reporter with save_report-pairwise...\n",
      "Now is PETsARD[Report]_default-syn_[pairwise] save to csv...\n"
     ]
    }
   ],
   "source": [
    "txt = \"\"\"\n",
    "---\n",
    "Loader:\n",
    "    adult-income:\n",
    "        filepath: 'benchmark://adult-income'\n",
    "    bank-marketing-2:\n",
    "        filepath: 'benchmark://bank-marketing-2'\n",
    "Synthesizer:\n",
    "    default:\n",
    "        method: default\n",
    "Describer:\n",
    "    default-syn:\n",
    "        method: default\n",
    "Reporter:\n",
    "    save_report-global:\n",
    "        method: save_report\n",
    "        granularity: global\n",
    "        eval: default-syn\n",
    "    save_report-columnwise:\n",
    "        method: save_report\n",
    "        granularity: columnwise\n",
    "        eval: default-syn\n",
    "    save_report-pairwise:\n",
    "        method: save_report\n",
    "        granularity: pairwise\n",
    "        eval: default-syn\n",
    "...\n",
    "\"\"\"\n",
    "\n",
    "\n",
    "with tempfile.NamedTemporaryFile(delete=False) as tmpfile:\n",
    "    tmpfile.write(txt.encode('utf-8'))\n",
    "    tmpfile.flush()\n",
    "\n",
    "    exec = Executor(config=tmpfile.name)\n",
    "    exec.run()\n",
    "\n",
    "os.remove(tmpfile.name)"
   ]
  },
  {
   "cell_type": "markdown",
   "metadata": {},
   "source": [
    "# Postprocessor"
   ]
  },
  {
   "cell_type": "code",
   "execution_count": 11,
   "metadata": {},
   "outputs": [
    {
     "name": "stdout",
     "output_type": "stream",
     "text": [
      "Now is Loader with adult-income...\n",
      "Loader - Benchmarker: file benchmark\\adult-income.csv already exist and match SHA-256.\n",
      "                      PETsARD will ignore download and use local data directly.\n",
      "Now is Preprocessor with default...\n",
      "Now is Postprocessor with default...\n",
      "Now is Describer with default-postproc...\n",
      "Now is Reporter with save_report-global...\n",
      "Now is PETsARD[Report]_default-postproc_[global] save to csv...\n",
      "Now is Reporter with save_report-columnwise...\n",
      "Now is PETsARD[Report]_default-postproc_[columnwise] save to csv...\n",
      "Now is Reporter with save_report-pairwise...\n",
      "Now is PETsARD[Report]_default-postproc_[pairwise] save to csv...\n",
      "Now is Loader with bank-marketing-2...\n",
      "Loader - Benchmarker: file benchmark\\bank_additional_full.csv already exist and match SHA-256.\n",
      "                      PETsARD will ignore download and use local data directly.\n",
      "Now is Preprocessor with default...\n",
      "Now is Postprocessor with default...\n",
      "Now is Describer with default-postproc...\n",
      "Now is Reporter with save_report-global...\n",
      "Now is PETsARD[Report]_default-postproc_[global] save to csv...\n",
      "Now is Reporter with save_report-columnwise...\n",
      "Now is PETsARD[Report]_default-postproc_[columnwise] save to csv...\n",
      "Now is Reporter with save_report-pairwise...\n",
      "Now is PETsARD[Report]_default-postproc_[pairwise] save to csv...\n"
     ]
    }
   ],
   "source": [
    "txt = \"\"\"\n",
    "---\n",
    "Loader:\n",
    "    adult-income:\n",
    "        filepath: 'benchmark://adult-income'\n",
    "    bank-marketing-2:\n",
    "        filepath: 'benchmark://bank-marketing-2'\n",
    "Preprocessor:\n",
    "    default:\n",
    "        method: default\n",
    "Postprocessor:\n",
    "    default:\n",
    "        method: default\n",
    "Describer:\n",
    "    default-postproc:\n",
    "        method: default\n",
    "Reporter:\n",
    "    save_report-global:\n",
    "        method: save_report\n",
    "        granularity: global\n",
    "        eval: default-postproc\n",
    "    save_report-columnwise:\n",
    "        method: save_report\n",
    "        granularity: columnwise\n",
    "        eval: default-postproc\n",
    "    save_report-pairwise:\n",
    "        method: save_report\n",
    "        granularity: pairwise\n",
    "        eval: default-postproc\n",
    "...\n",
    "\"\"\"\n",
    "\n",
    "\n",
    "with tempfile.NamedTemporaryFile(delete=False) as tmpfile:\n",
    "    tmpfile.write(txt.encode('utf-8'))\n",
    "    tmpfile.flush()\n",
    "\n",
    "    exec = Executor(config=tmpfile.name)\n",
    "    exec.run()\n",
    "\n",
    "os.remove(tmpfile.name)"
   ]
  }
 ],
 "metadata": {
  "kernelspec": {
   "display_name": ".venv",
   "language": "python",
   "name": "python3"
  },
  "language_info": {
   "codemirror_mode": {
    "name": "ipython",
    "version": 3
   },
   "file_extension": ".py",
   "mimetype": "text/x-python",
   "name": "python",
   "nbconvert_exporter": "python",
   "pygments_lexer": "ipython3",
   "version": "3.10.11"
  }
 },
 "nbformat": 4,
 "nbformat_minor": 2
}
