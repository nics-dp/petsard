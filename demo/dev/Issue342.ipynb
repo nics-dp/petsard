{
 "cells": [
  {
   "cell_type": "code",
   "execution_count": 1,
   "metadata": {},
   "outputs": [
    {
     "name": "stdout",
     "output_type": "stream",
     "text": [
      "d:\\Dropbox\\89_other_application\\GitHub\\PETsARD\n"
     ]
    }
   ],
   "source": [
    "import os\n",
    "import pprint\n",
    "import sys\n",
    "\n",
    "path_petsard = os.path.dirname(os.path.dirname(os.getcwd()))\n",
    "print(path_petsard)\n",
    "sys.path.append(path_petsard)\n",
    "\n",
    "pp = pprint.PrettyPrinter(depth=2)"
   ]
  },
  {
   "cell_type": "code",
   "execution_count": 2,
   "metadata": {},
   "outputs": [
    {
     "data": {
      "text/plain": [
       "{'workclass': '?', 'occupation': '?', 'native-country': '?'}"
      ]
     },
     "execution_count": 2,
     "metadata": {},
     "output_type": "execute_result"
    }
   ],
   "source": [
    "{k: '?' for k in [\n",
    "        'workclass',\n",
    "        'occupation',\n",
    "        'native-country'\n",
    "    ]}"
   ]
  },
  {
   "cell_type": "code",
   "execution_count": 3,
   "metadata": {},
   "outputs": [],
   "source": [
    "dict_column_types = {\n",
    "    'adult-income':\n",
    "        {'category':\n",
    "            ['workclass',\n",
    "                'education',\n",
    "                'marital-status',\n",
    "                'occupation',\n",
    "                'relationship',\n",
    "                'race',\n",
    "                'gender',\n",
    "                'native-country',\n",
    "                'income'\n",
    "            ]\n",
    "        }\n",
    "}"
   ]
  },
  {
   "cell_type": "code",
   "execution_count": 4,
   "metadata": {},
   "outputs": [],
   "source": [
    "\n",
    "    # 'adult-income',\n",
    "\n",
    "    # 'nist-national2018', # /df_casting.py:43: UserWarning: Could not infer format\n",
    "    # 'nist-tx2018', # df_casting.py:43: UserWarning: Could not infer format\n",
    "    # 'breast_cancer-03', # df_casting.py:43: UserWarning: Could not infer format\n",
    "    # 'mimic3c', # df_casting.py:43: UserWarning: Could not infer format\n",
    "    # 'bank-marketing-1', # df_casting.py:43: UserWarning: Could not infer format\n",
    "    # 'telco-churn' # invalid literal for int() with base 10: 'No'\n",
    "    # 'credit_score', # Unsupported force dtype\n",
    "\n",
    "\n",
    "benchmark_list = [\n",
    "    ###### demography ######\n",
    "    # 'voter2022-household', # OverflowError: Python int too large to convert to C long\n",
    "    # 'voter2022-person', # OverflowError: Python int too large to convert to C long\n",
    "    # ###### Business ######\n",
    "    'bike-sales', # UserWarning: parsed individually\n",
    "    # ###### Environment ######\n",
    "    # 'airquality', # ValueError: could not convert string to float: '18.00.00'\n",
    "    # ###### Computer Science ######\n",
    "    # 'kddcup1999', # ValueError: could not convert string to float: 'normal.'\n",
    "    # 'nslkdd', # ValueError: could not convert string to float: 'normal.'\n",
    "    # ###### Others ######\n",
    "    # 'car', # ValueError: could not convert string to float: 'unacc'\n",
    "]\n",
    "\n",
    "\n",
    "    # 'acs-person', # df_casting.py:43: UserWarning: Could not infer format # benchmark unmatch"
   ]
  },
  {
   "cell_type": "code",
   "execution_count": 5,
   "metadata": {},
   "outputs": [
    {
     "name": "stdout",
     "output_type": "stream",
     "text": [
      "Now is benchmark://bike-sales...\n",
      "Loader - Benchmarker: file benchmark\\sales.csv already exist and match SHA-256.\n",
      "                      PETsARD will ignore download and use local data directly.\n",
      "        Date  Day     Month  Year  Customer_Age    Age_Group Customer_Gender  \\\n",
      "0 2013-11-26   26  November  2013            19  Youth (<25)               M   \n",
      "\n",
      "  Country             State Product_Category Sub_Category  \\\n",
      "0  Canada  British Columbia      Accessories   Bike Racks   \n",
      "\n",
      "               Product  Order_Quantity  Unit_Cost  Unit_Price  Profit  Cost  \\\n",
      "0  Hitch Rack - 4-Bike               8         45         120     590   360   \n",
      "\n",
      "   Revenue  \n",
      "0      950  \n"
     ]
    }
   ],
   "source": [
    "from PETsARD.loader import Loader\n",
    "\n",
    "for benchmark in benchmark_list:\n",
    "    filepath = f\"benchmark://{benchmark}\"\n",
    "    print(f\"Now is {filepath}...\")\n",
    "    load = Loader(\n",
    "        filepath=filepath,\n",
    "        column_types=dict_column_types.get(benchmark, None)\n",
    "    )\n",
    "    load.load()\n",
    "    print(load.data.head(1))"
   ]
  },
  {
   "cell_type": "code",
   "execution_count": 6,
   "metadata": {},
   "outputs": [
    {
     "name": "stdout",
     "output_type": "stream",
     "text": [
      "Now is benchmark://nist-national2018...\n",
      "None\n",
      "{'AGEP': 'int8',\n",
      " 'DEAR': 'int8',\n",
      " 'DENSITY': 'float32',\n",
      " 'DEYE': 'int8',\n",
      " 'DPHY': 'category',\n",
      " 'DREM': 'category',\n",
      " 'DVET': 'category',\n",
      " 'EDU': 'category',\n",
      " 'HISP': 'int8',\n",
      " 'HOUSING_TYPE': 'int8',\n",
      " 'INDP': 'category',\n",
      " 'INDP_CAT': 'category',\n",
      " 'MSP': 'category',\n",
      " 'NOC': 'category',\n",
      " 'NPF': 'category',\n",
      " 'OWN_RENT': 'int8',\n",
      " 'PINCP': 'category',\n",
      " 'PINCP_DECILE': 'category',\n",
      " 'POVPIP': 'category',\n",
      " 'PUMA': 'category',\n",
      " 'PWGTP': 'int16',\n",
      " 'RAC1P': 'int8',\n",
      " 'SEX': 'int8',\n",
      " 'WGTP': 'int16'}\n"
     ]
    }
   ],
   "source": [
    "benchmark = 'nist-national2018'\n",
    "filepath = f\"benchmark://{benchmark}\"\n",
    "print(f\"Now is {filepath}...\")\n",
    "load = Loader(\n",
    "    filepath=f\"benchmark/national2018.csv\",\n",
    "    column_types=dict_column_types.get(benchmark, None)\n",
    ")\n",
    "# load.load()\n",
    "\n",
    "import pandas as pd\n",
    "data = pd.read_csv(\n",
    "    load.config['filepath'],\n",
    ")\n",
    "\n",
    "from PETsARD.loader.util import (\n",
    "    ALLOWED_COLUMN_TYPES,\n",
    "    verify_column_types,\n",
    "    optimize_dtypes,\n",
    "    casting_dataframe,\n",
    ")\n",
    "pp.pprint(load.config['column_types'])\n",
    "load.config['dtype'] = optimize_dtypes(\n",
    "    data=data,\n",
    "    column_types=load.config['column_types'],\n",
    ")\n",
    "pp.pprint(load.config['dtype'])"
   ]
  }
 ],
 "metadata": {
  "kernelspec": {
   "display_name": ".venv",
   "language": "python",
   "name": "python3"
  },
  "language_info": {
   "codemirror_mode": {
    "name": "ipython",
    "version": 3
   },
   "file_extension": ".py",
   "mimetype": "text/x-python",
   "name": "python",
   "nbconvert_exporter": "python",
   "pygments_lexer": "ipython3",
   "version": "3.10.11"
  }
 },
 "nbformat": 4,
 "nbformat_minor": 2
}
