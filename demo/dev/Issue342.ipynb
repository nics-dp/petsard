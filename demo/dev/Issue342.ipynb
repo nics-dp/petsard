{
 "cells": [
  {
   "cell_type": "code",
   "execution_count": 1,
   "metadata": {},
   "outputs": [
    {
     "name": "stdout",
     "output_type": "stream",
     "text": [
      "d:\\Dropbox\\89_other_application\\GitHub\\PETsARD\n"
     ]
    }
   ],
   "source": [
    "import os\n",
    "import pprint\n",
    "import sys\n",
    "\n",
    "path_petsard = os.path.dirname(os.path.dirname(os.getcwd()))\n",
    "print(path_petsard)\n",
    "sys.path.append(path_petsard)\n",
    "\n",
    "pp = pprint.PrettyPrinter(depth=2)"
   ]
  },
  {
   "cell_type": "code",
   "execution_count": 2,
   "metadata": {},
   "outputs": [
    {
     "data": {
      "text/plain": [
       "{'workclass': '?', 'occupation': '?', 'native-country': '?'}"
      ]
     },
     "execution_count": 2,
     "metadata": {},
     "output_type": "execute_result"
    }
   ],
   "source": [
    "{k: '?' for k in [\n",
    "        'workclass',\n",
    "        'occupation',\n",
    "        'native-country'\n",
    "    ]}"
   ]
  },
  {
   "cell_type": "code",
   "execution_count": 3,
   "metadata": {},
   "outputs": [],
   "source": [
    "benchmark_list = [\n",
    "    'adult-income',\n",
    "    ###### demography ######\n",
    "    # 'nist-national2018', # /df_casting.py:43: UserWarning: Could not infer format\n",
    "    # 'nist-tx2018', # df_casting.py:43: UserWarning: Could not infer format\n",
    "    # 'acs-person', # df_casting.py:43: UserWarning: Could not infer format\n",
    "    # 'voter2022-household', # OverflowError: Python int too large to convert to C long\n",
    "    # 'voter2022-person', # OverflowError: Python int too large to convert to C long\n",
    "    # ###### Business ######\n",
    "    # 'bank-marketing-1', # df_casting.py:43: UserWarning: Could not infer format\n",
    "    # 'credit_score', # Unsupported force dtype\n",
    "    # 'bike-sales', # UserWarning: parsed individually\n",
    "    # 'telco-churn', # invalid literal for int() with base 10: 'No'\n",
    "    # ###### Environment ######\n",
    "    # 'airquality', # ValueError: could not convert string to float: '18.00.00'\n",
    "    # ###### Medical ######\n",
    "    # 'breast_cancer-03', # df_casting.py:43: UserWarning: Could not infer format\n",
    "    # 'mimic3c', # df_casting.py:43: UserWarning: Could not infer format\n",
    "    # ###### Computer Science ######\n",
    "    # 'kddcup1999', # ValueError: could not convert string to float: 'normal.'\n",
    "    # 'nslkdd', # ValueError: could not convert string to float: 'normal.'\n",
    "    # ###### Others ######\n",
    "    # 'car', # ValueError: could not convert string to float: 'unacc'\n",
    "]"
   ]
  },
  {
   "cell_type": "code",
   "execution_count": 4,
   "metadata": {},
   "outputs": [],
   "source": [
    "dict_column_types = {\n",
    "    'adult-income':\n",
    "        {'category':\n",
    "            ['workclass',\n",
    "                'education',\n",
    "                'marital-status',\n",
    "                'occupation',\n",
    "                'relationship',\n",
    "                'race',\n",
    "                'gender',\n",
    "                'native-country',\n",
    "                'income'\n",
    "            ]\n",
    "        }\n",
    "}"
   ]
  },
  {
   "cell_type": "code",
   "execution_count": 5,
   "metadata": {},
   "outputs": [
    {
     "data": {
      "text/html": [
       "<div>\n",
       "<style scoped>\n",
       "    .dataframe tbody tr th:only-of-type {\n",
       "        vertical-align: middle;\n",
       "    }\n",
       "\n",
       "    .dataframe tbody tr th {\n",
       "        vertical-align: top;\n",
       "    }\n",
       "\n",
       "    .dataframe thead th {\n",
       "        text-align: right;\n",
       "    }\n",
       "</style>\n",
       "<table border=\"1\" class=\"dataframe\">\n",
       "  <thead>\n",
       "    <tr style=\"text-align: right;\">\n",
       "      <th></th>\n",
       "      <th>age</th>\n",
       "      <th>workclass</th>\n",
       "      <th>fnlwgt</th>\n",
       "      <th>education</th>\n",
       "      <th>educational-num</th>\n",
       "      <th>marital-status</th>\n",
       "      <th>occupation</th>\n",
       "      <th>relationship</th>\n",
       "      <th>race</th>\n",
       "      <th>gender</th>\n",
       "      <th>capital-gain</th>\n",
       "      <th>capital-loss</th>\n",
       "      <th>hours-per-week</th>\n",
       "      <th>native-country</th>\n",
       "      <th>income</th>\n",
       "    </tr>\n",
       "  </thead>\n",
       "  <tbody>\n",
       "    <tr>\n",
       "      <th>0</th>\n",
       "      <td>25</td>\n",
       "      <td>Private</td>\n",
       "      <td>226802</td>\n",
       "      <td>11th</td>\n",
       "      <td>7</td>\n",
       "      <td>Never-married</td>\n",
       "      <td>Machine-op-inspct</td>\n",
       "      <td>Own-child</td>\n",
       "      <td>Black</td>\n",
       "      <td>Male</td>\n",
       "      <td>0</td>\n",
       "      <td>0</td>\n",
       "      <td>40</td>\n",
       "      <td>United-States</td>\n",
       "      <td>&lt;=50K</td>\n",
       "    </tr>\n",
       "  </tbody>\n",
       "</table>\n",
       "</div>"
      ],
      "text/plain": [
       "   age workclass  fnlwgt education  educational-num marital-status  \\\n",
       "0   25   Private  226802      11th                7  Never-married   \n",
       "\n",
       "          occupation relationship   race gender  capital-gain  capital-loss  \\\n",
       "0  Machine-op-inspct    Own-child  Black   Male             0             0   \n",
       "\n",
       "   hours-per-week native-country income  \n",
       "0              40  United-States  <=50K  "
      ]
     },
     "execution_count": 5,
     "metadata": {},
     "output_type": "execute_result"
    }
   ],
   "source": [
    "import pprint\n",
    "from typing import Dict\n",
    "\n",
    "import pandas as pd\n",
    "\n",
    "from PETsARD.loader import Loader\n",
    "\n",
    "\n",
    "pp = pprint.PrettyPrinter(depth=2)\n",
    "\n",
    "benchmark = 'adult-income'\n",
    "filepath = f\"benchmark://{benchmark}\"\n",
    "load = Loader(\n",
    "    filepath=filepath,\n",
    "    column_types=dict_column_types.get(benchmark, None)\n",
    ")\n",
    "\n",
    "data = pd.read_csv(\n",
    "    filepath_or_buffer=load.config['filepath'],\n",
    "    dtype=load.config['dtype']\n",
    ")\n",
    "data.head(1)\n"
   ]
  },
  {
   "cell_type": "code",
   "execution_count": 6,
   "metadata": {},
   "outputs": [
    {
     "data": {
      "text/plain": [
       "{'workclass': 'category',\n",
       " 'education': 'category',\n",
       " 'marital-status': 'category',\n",
       " 'occupation': 'category',\n",
       " 'relationship': 'category',\n",
       " 'race': 'category',\n",
       " 'gender': 'category',\n",
       " 'native-country': 'category',\n",
       " 'income': 'category'}"
      ]
     },
     "execution_count": 6,
     "metadata": {},
     "output_type": "execute_result"
    }
   ],
   "source": [
    "from PETsARD.loader.util import (\n",
    "    ALLOWED_COLUMN_TYPES,\n",
    "    loader_verify_column_types,\n",
    "    loader_optimize_dtype,\n",
    ")\n",
    "\n",
    "# loader_optimize_dtype(data=data, column_types=load.config['dtype'])\n",
    "loader_optimize_dtype(data=data, column_types=None)"
   ]
  },
  {
   "cell_type": "code",
   "execution_count": 21,
   "metadata": {},
   "outputs": [
    {
     "name": "stdout",
     "output_type": "stream",
     "text": [
      "['age',\n",
      " 'capital-gain',\n",
      " 'fnlwgt',\n",
      " 'educational-num',\n",
      " 'capital-loss',\n",
      " 'hours-per-week']\n"
     ]
    }
   ],
   "source": [
    "ALLOWED_COLUMN_TYPES: dict = {\n",
    "    'category': 'category',\n",
    "    'date': 'datetime64[D]',\n",
    "    'datetime': 'datetime64[s]',\n",
    "}\n",
    "\n",
    "data = data\n",
    "column_types = load.config['column_types']\n",
    "original_dtype = data.dtypes\n",
    "optimize_dtype: Dict[str, str] = {}\n",
    "\n",
    "if column_types is not None:\n",
    "    for coltype in ALLOWED_COLUMN_TYPES.keys():\n",
    "        if coltype in column_types:\n",
    "            for colname in column_types[coltype]:\n",
    "                optimize_dtype[colname] = ALLOWED_COLUMN_TYPES[coltype]\n",
    "# pp.pprint(optimize_dtype)\n",
    "\n",
    "remain_col: list = list(\n",
    "    set(original_dtype.keys()) - set(optimize_dtype.keys())\n",
    ")\n",
    "pp.pprint(remain_col)"
   ]
  },
  {
   "cell_type": "code",
   "execution_count": 5,
   "metadata": {},
   "outputs": [
    {
     "name": "stdout",
     "output_type": "stream",
     "text": [
      "Now is benchmark://adult-income...\n",
      "Loader - Benchmarker: file benchmark\\adult-income.csv already exist and match SHA-256.\n",
      "                      PETsARD will ignore download and use local data directly.\n"
     ]
    },
    {
     "ename": "UnsupportedMethodError",
     "evalue": "",
     "output_type": "error",
     "traceback": [
      "\u001b[1;31m---------------------------------------------------------------------------\u001b[0m",
      "\u001b[1;31mUnsupportedMethodError\u001b[0m                    Traceback (most recent call last)",
      "Cell \u001b[1;32mIn[5], line 10\u001b[0m\n\u001b[0;32m      5\u001b[0m \u001b[38;5;28mprint\u001b[39m(\u001b[38;5;124mf\u001b[39m\u001b[38;5;124m\"\u001b[39m\u001b[38;5;124mNow is \u001b[39m\u001b[38;5;132;01m{\u001b[39;00mfilepath\u001b[38;5;132;01m}\u001b[39;00m\u001b[38;5;124m...\u001b[39m\u001b[38;5;124m\"\u001b[39m)\n\u001b[0;32m      6\u001b[0m load \u001b[38;5;241m=\u001b[39m Loader(\n\u001b[0;32m      7\u001b[0m     filepath\u001b[38;5;241m=\u001b[39mfilepath,\n\u001b[0;32m      8\u001b[0m     column_types\u001b[38;5;241m=\u001b[39mdict_column_types\u001b[38;5;241m.\u001b[39mget(benchmark, \u001b[38;5;28;01mNone\u001b[39;00m)\n\u001b[0;32m      9\u001b[0m )\n\u001b[1;32m---> 10\u001b[0m \u001b[43mload\u001b[49m\u001b[38;5;241;43m.\u001b[39;49m\u001b[43mload\u001b[49m\u001b[43m(\u001b[49m\u001b[43m)\u001b[49m\n\u001b[0;32m     11\u001b[0m \u001b[38;5;28mprint\u001b[39m(load\u001b[38;5;241m.\u001b[39mdata\u001b[38;5;241m.\u001b[39mhead(\u001b[38;5;241m1\u001b[39m))\n",
      "File \u001b[1;32md:\\Dropbox\\89_other_application\\GitHub\\PETsARD\\PETsARD\\loader\\loader.py:180\u001b[0m, in \u001b[0;36mLoader.load\u001b[1;34m(self)\u001b[0m\n\u001b[0;32m    175\u001b[0m data: pd\u001b[38;5;241m.\u001b[39mDataFrame \u001b[38;5;241m=\u001b[39m \u001b[38;5;28mself\u001b[39m\u001b[38;5;241m.\u001b[39mloader\u001b[38;5;241m.\u001b[39mload()\n\u001b[0;32m    177\u001b[0m \u001b[38;5;66;03m# 4. Define efficiently dtype\u001b[39;00m\n\u001b[0;32m    178\u001b[0m \u001b[38;5;66;03m# TODO Still consider how to extract dtype from pd.dateframe directly.\u001b[39;00m\n\u001b[0;32m    179\u001b[0m \u001b[38;5;66;03m#      Consider to combind to Metadata\u001b[39;00m\n\u001b[1;32m--> 180\u001b[0m \u001b[38;5;28mself\u001b[39m\u001b[38;5;241m.\u001b[39mconfig[\u001b[38;5;124m'\u001b[39m\u001b[38;5;124mdtype\u001b[39m\u001b[38;5;124m'\u001b[39m] \u001b[38;5;241m=\u001b[39m \u001b[43mdf_cast_check\u001b[49m\u001b[43m(\u001b[49m\u001b[43mdata\u001b[49m\u001b[43m,\u001b[49m\u001b[43m \u001b[49m\u001b[38;5;28;43mself\u001b[39;49m\u001b[38;5;241;43m.\u001b[39;49m\u001b[43mconfig\u001b[49m\u001b[43m[\u001b[49m\u001b[38;5;124;43m'\u001b[39;49m\u001b[38;5;124;43mdtype\u001b[39;49m\u001b[38;5;124;43m'\u001b[39;49m\u001b[43m]\u001b[49m\u001b[43m)\u001b[49m\n\u001b[0;32m    182\u001b[0m \u001b[38;5;66;03m# metadata\u001b[39;00m\n\u001b[0;32m    183\u001b[0m metadata \u001b[38;5;241m=\u001b[39m Metadata()\n",
      "File \u001b[1;32md:\\Dropbox\\89_other_application\\GitHub\\PETsARD\\PETsARD\\util\\df_cast_check.py:135\u001b[0m, in \u001b[0;36mdf_cast_check\u001b[1;34m(df_data, dict_dtype)\u001b[0m\n\u001b[0;32m    133\u001b[0m         dict_dtype[col_name] \u001b[38;5;241m=\u001b[39m force_type\n\u001b[0;32m    134\u001b[0m     \u001b[38;5;28;01melse\u001b[39;00m:\n\u001b[1;32m--> 135\u001b[0m         \u001b[38;5;28;01mraise\u001b[39;00m UnsupportedMethodError\n\u001b[0;32m    136\u001b[0m \u001b[38;5;28;01melse\u001b[39;00m:\n\u001b[0;32m    137\u001b[0m     \u001b[38;5;66;03m# Otherwise determine by extreme value.\u001b[39;00m\n\u001b[0;32m    138\u001b[0m     dict_dtype[col_name] \u001b[38;5;241m=\u001b[39m _col_cast_check(col_data)\n",
      "\u001b[1;31mUnsupportedMethodError\u001b[0m: "
     ]
    }
   ],
   "source": [
    "from PETsARD.loader import Loader\n",
    "\n",
    "for benchmark in benchmark_list:\n",
    "    filepath = f\"benchmark://{benchmark}\"\n",
    "    print(f\"Now is {filepath}...\")\n",
    "    load = Loader(\n",
    "        filepath=filepath,\n",
    "        column_types=dict_column_types.get(benchmark, None)\n",
    "    )\n",
    "    load.load()\n",
    "    print(load.data.head(1))"
   ]
  }
 ],
 "metadata": {
  "kernelspec": {
   "display_name": ".venv",
   "language": "python",
   "name": "python3"
  },
  "language_info": {
   "codemirror_mode": {
    "name": "ipython",
    "version": 3
   },
   "file_extension": ".py",
   "mimetype": "text/x-python",
   "name": "python",
   "nbconvert_exporter": "python",
   "pygments_lexer": "ipython3",
   "version": "3.10.11"
  }
 },
 "nbformat": 4,
 "nbformat_minor": 2
}
