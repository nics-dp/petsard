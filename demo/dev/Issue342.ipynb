{
 "cells": [
  {
   "cell_type": "code",
   "execution_count": 1,
   "metadata": {},
   "outputs": [
    {
     "name": "stdout",
     "output_type": "stream",
     "text": [
      "d:\\Dropbox\\89_other_application\\GitHub\\PETsARD\n"
     ]
    }
   ],
   "source": [
    "import os\n",
    "import pprint\n",
    "import sys\n",
    "\n",
    "path_petsard = os.path.dirname(os.path.dirname(os.getcwd()))\n",
    "print(path_petsard)\n",
    "sys.path.append(path_petsard)\n",
    "\n",
    "pp = pprint.PrettyPrinter(depth=2)"
   ]
  },
  {
   "cell_type": "code",
   "execution_count": 2,
   "metadata": {},
   "outputs": [
    {
     "data": {
      "text/plain": [
       "{'workclass': '?', 'occupation': '?', 'native-country': '?'}"
      ]
     },
     "execution_count": 2,
     "metadata": {},
     "output_type": "execute_result"
    }
   ],
   "source": [
    "{k: '?' for k in [\n",
    "        'workclass',\n",
    "        'occupation',\n",
    "        'native-country'\n",
    "    ]}"
   ]
  },
  {
   "cell_type": "code",
   "execution_count": 3,
   "metadata": {},
   "outputs": [],
   "source": [
    "benchmark_list = [\n",
    "    'adult-income',\n",
    "    ###### demography ######\n",
    "    # 'nist-national2018', # /df_casting.py:43: UserWarning: Could not infer format\n",
    "    # 'nist-tx2018', # df_casting.py:43: UserWarning: Could not infer format\n",
    "    # 'acs-person', # df_casting.py:43: UserWarning: Could not infer format\n",
    "    # 'voter2022-household', # OverflowError: Python int too large to convert to C long\n",
    "    # 'voter2022-person', # OverflowError: Python int too large to convert to C long\n",
    "    # ###### Business ######\n",
    "    # 'bank-marketing-1', # df_casting.py:43: UserWarning: Could not infer format\n",
    "    # 'credit_score', # Unsupported force dtype\n",
    "    # 'bike-sales', # UserWarning: parsed individually\n",
    "    # 'telco-churn', # invalid literal for int() with base 10: 'No'\n",
    "    # ###### Environment ######\n",
    "    # 'airquality', # ValueError: could not convert string to float: '18.00.00'\n",
    "    # ###### Medical ######\n",
    "    # 'breast_cancer-03', # df_casting.py:43: UserWarning: Could not infer format\n",
    "    # 'mimic3c', # df_casting.py:43: UserWarning: Could not infer format\n",
    "    # ###### Computer Science ######\n",
    "    # 'kddcup1999', # ValueError: could not convert string to float: 'normal.'\n",
    "    # 'nslkdd', # ValueError: could not convert string to float: 'normal.'\n",
    "    # ###### Others ######\n",
    "    # 'car', # ValueError: could not convert string to float: 'unacc'\n",
    "]"
   ]
  },
  {
   "cell_type": "code",
   "execution_count": 4,
   "metadata": {},
   "outputs": [],
   "source": [
    "dict_column_types = {\n",
    "    'adult-income':\n",
    "        {'category':\n",
    "            ['workclass',\n",
    "                'education',\n",
    "                'marital-status',\n",
    "                'occupation',\n",
    "                'relationship',\n",
    "                'race',\n",
    "                'gender',\n",
    "                'native-country',\n",
    "                'income'\n",
    "            ]\n",
    "        }\n",
    "}"
   ]
  },
  {
   "cell_type": "code",
   "execution_count": 5,
   "metadata": {},
   "outputs": [
    {
     "data": {
      "text/html": [
       "<div>\n",
       "<style scoped>\n",
       "    .dataframe tbody tr th:only-of-type {\n",
       "        vertical-align: middle;\n",
       "    }\n",
       "\n",
       "    .dataframe tbody tr th {\n",
       "        vertical-align: top;\n",
       "    }\n",
       "\n",
       "    .dataframe thead th {\n",
       "        text-align: right;\n",
       "    }\n",
       "</style>\n",
       "<table border=\"1\" class=\"dataframe\">\n",
       "  <thead>\n",
       "    <tr style=\"text-align: right;\">\n",
       "      <th></th>\n",
       "      <th>age</th>\n",
       "      <th>workclass</th>\n",
       "      <th>fnlwgt</th>\n",
       "      <th>education</th>\n",
       "      <th>educational-num</th>\n",
       "      <th>marital-status</th>\n",
       "      <th>occupation</th>\n",
       "      <th>relationship</th>\n",
       "      <th>race</th>\n",
       "      <th>gender</th>\n",
       "      <th>capital-gain</th>\n",
       "      <th>capital-loss</th>\n",
       "      <th>hours-per-week</th>\n",
       "      <th>native-country</th>\n",
       "      <th>income</th>\n",
       "    </tr>\n",
       "  </thead>\n",
       "  <tbody>\n",
       "    <tr>\n",
       "      <th>0</th>\n",
       "      <td>25</td>\n",
       "      <td>Private</td>\n",
       "      <td>226802</td>\n",
       "      <td>11th</td>\n",
       "      <td>7</td>\n",
       "      <td>Never-married</td>\n",
       "      <td>Machine-op-inspct</td>\n",
       "      <td>Own-child</td>\n",
       "      <td>Black</td>\n",
       "      <td>Male</td>\n",
       "      <td>0</td>\n",
       "      <td>0</td>\n",
       "      <td>40</td>\n",
       "      <td>United-States</td>\n",
       "      <td>&lt;=50K</td>\n",
       "    </tr>\n",
       "  </tbody>\n",
       "</table>\n",
       "</div>"
      ],
      "text/plain": [
       "   age workclass  fnlwgt education  educational-num marital-status  \\\n",
       "0   25   Private  226802      11th                7  Never-married   \n",
       "\n",
       "          occupation relationship   race gender  capital-gain  capital-loss  \\\n",
       "0  Machine-op-inspct    Own-child  Black   Male             0             0   \n",
       "\n",
       "   hours-per-week native-country income  \n",
       "0              40  United-States  <=50K  "
      ]
     },
     "execution_count": 5,
     "metadata": {},
     "output_type": "execute_result"
    }
   ],
   "source": [
    "import pprint\n",
    "from typing import Dict\n",
    "\n",
    "import pandas as pd\n",
    "\n",
    "from PETsARD.loader import Loader\n",
    "\n",
    "\n",
    "pp = pprint.PrettyPrinter(depth=2)\n",
    "\n",
    "benchmark = 'adult-income'\n",
    "filepath = f\"benchmark://{benchmark}\"\n",
    "load = Loader(\n",
    "    filepath=filepath,\n",
    "    column_types=None # dict_column_types.get(benchmark, None)\n",
    ")\n",
    "\n",
    "data = pd.read_csv(\n",
    "    filepath_or_buffer=load.config['filepath'],\n",
    "    dtype=load.config['dtype']\n",
    ")\n",
    "data.head(1)\n"
   ]
  },
  {
   "cell_type": "code",
   "execution_count": 6,
   "metadata": {},
   "outputs": [
    {
     "name": "stdout",
     "output_type": "stream",
     "text": [
      "age                 int64\n",
      "workclass          object\n",
      "fnlwgt              int64\n",
      "education          object\n",
      "educational-num     int64\n",
      "marital-status     object\n",
      "occupation         object\n",
      "relationship       object\n",
      "race               object\n",
      "gender             object\n",
      "capital-gain        int64\n",
      "capital-loss        int64\n",
      "hours-per-week      int64\n",
      "native-country     object\n",
      "income             object\n",
      "dtype: object\n",
      "{'age': 'int8',\n",
      " 'capital-gain': 'int32',\n",
      " 'capital-loss': 'int16',\n",
      " 'education': 'category',\n",
      " 'educational-num': 'int8',\n",
      " 'fnlwgt': 'int32',\n",
      " 'gender': 'category',\n",
      " 'hours-per-week': 'int8',\n",
      " 'income': 'category',\n",
      " 'marital-status': 'category',\n",
      " 'native-country': 'category',\n",
      " 'occupation': 'category',\n",
      " 'race': 'category',\n",
      " 'relationship': 'category',\n",
      " 'workclass': 'category'}\n"
     ]
    }
   ],
   "source": [
    "from PETsARD.loader.util import (\n",
    "    ALLOWED_COLUMN_TYPES,\n",
    "    verify_column_types,\n",
    "    optimize_dtypes,\n",
    ")\n",
    "\n",
    "print(data.dtypes)\n",
    "pp.pprint(optimize_dtypes(data, column_types=dict_column_types.get(benchmark, None)))"
   ]
  },
  {
   "cell_type": "code",
   "execution_count": 7,
   "metadata": {},
   "outputs": [
    {
     "name": "stdout",
     "output_type": "stream",
     "text": [
      "Now is benchmark://adult-income...\n",
      "Loader - Benchmarker: file benchmark\\adult-income.csv already exist and match SHA-256.\n",
      "                      PETsARD will ignore download and use local data directly.\n",
      "   age workclass  fnlwgt education  educational-num marital-status  \\\n",
      "0   25   Private  226802      11th                7  Never-married   \n",
      "\n",
      "          occupation relationship   race gender  capital-gain  capital-loss  \\\n",
      "0  Machine-op-inspct    Own-child  Black   Male             0             0   \n",
      "\n",
      "   hours-per-week native-country income  \n",
      "0              40  United-States  <=50K  \n"
     ]
    }
   ],
   "source": [
    "from PETsARD.loader import Loader\n",
    "\n",
    "for benchmark in benchmark_list:\n",
    "    filepath = f\"benchmark://{benchmark}\"\n",
    "    print(f\"Now is {filepath}...\")\n",
    "    load = Loader(\n",
    "        filepath=filepath,\n",
    "        column_types=dict_column_types.get(benchmark, None)\n",
    "    )\n",
    "    load.load()\n",
    "    print(load.data.head(1))"
   ]
  }
 ],
 "metadata": {
  "kernelspec": {
   "display_name": ".venv",
   "language": "python",
   "name": "python3"
  },
  "language_info": {
   "codemirror_mode": {
    "name": "ipython",
    "version": 3
   },
   "file_extension": ".py",
   "mimetype": "text/x-python",
   "name": "python",
   "nbconvert_exporter": "python",
   "pygments_lexer": "ipython3",
   "version": "3.10.11"
  }
 },
 "nbformat": 4,
 "nbformat_minor": 2
}
