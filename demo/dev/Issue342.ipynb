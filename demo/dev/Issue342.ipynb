{
 "cells": [
  {
   "cell_type": "code",
   "execution_count": 1,
   "metadata": {},
   "outputs": [],
   "source": [
    "# !pip install -r ../../requirements-dev.txt"
   ]
  },
  {
   "cell_type": "code",
   "execution_count": 2,
   "metadata": {},
   "outputs": [
    {
     "name": "stdout",
     "output_type": "stream",
     "text": [
      "d:\\Dropbox\\89_other_application\\GitHub\\PETsARD\n"
     ]
    }
   ],
   "source": [
    "import os\n",
    "import pprint\n",
    "import sys\n",
    "\n",
    "path_petsard = os.path.dirname(os.path.dirname(os.getcwd()))\n",
    "print(path_petsard)\n",
    "sys.path.append(path_petsard)\n",
    "\n",
    "pp = pprint.PrettyPrinter(depth=2)"
   ]
  },
  {
   "cell_type": "code",
   "execution_count": 7,
   "metadata": {},
   "outputs": [],
   "source": [
    "benchmark_list = [\n",
    "    ###### demography ######\n",
    "    'nist-national2018', # /df_casting.py:43: UserWarning: Could not infer format\n",
    "    'nist-tx2018', # df_casting.py:43: UserWarning: Could not infer format\n",
    "    'acs-person', # df_casting.py:43: UserWarning: Could not infer format\n",
    "    'voter2022-household', # OverflowError: Python int too large to convert to C long\n",
    "    'voter2022-person', # OverflowError: Python int too large to convert to C long\n",
    "    ###### Business ######\n",
    "    'bank-marketing-1', # df_casting.py:43: UserWarning: Could not infer format\n",
    "    'credit_score', # Unsupported force dtype\n",
    "    'bike-sales', # UserWarning: parsed individually\n",
    "    'telco-churn', # invalid literal for int() with base 10: 'No'\n",
    "    ###### Environment ######\n",
    "    'airquality', # ValueError: could not convert string to float: '18.00.00'\n",
    "    ###### Medical ######\n",
    "    'breast_cancer-03', # df_casting.py:43: UserWarning: Could not infer format\n",
    "    'mimic3c', # df_casting.py:43: UserWarning: Could not infer format\n",
    "    ###### Computer Science ######\n",
    "    'kddcup1999', # ValueError: could not convert string to float: 'normal.'\n",
    "    'nslkdd', # ValueError: could not convert string to float: 'normal.'\n",
    "    ###### Others ######\n",
    "    'car', # ValueError: could not convert string to float: 'unacc'\n",
    "]"
   ]
  },
  {
   "cell_type": "code",
   "execution_count": 8,
   "metadata": {},
   "outputs": [
    {
     "name": "stdout",
     "output_type": "stream",
     "text": [
      "Now is benchmark://nist-national2018...\n",
      "Loader - Benchmarker: file benchmark\\national2018.csv already exist and match SHA-256.\n",
      "                      PETsARD will ignore download and use local data directly.\n"
     ]
    },
    {
     "name": "stderr",
     "output_type": "stream",
     "text": [
      "d:\\Dropbox\\89_other_application\\GitHub\\PETsARD\\PETsARD\\util\\df_casting.py:43: UserWarning: Could not infer format, so each element will be parsed individually, falling back to `dateutil`. To ensure parsing is consistent and as-expected, please specify a format.\n",
      "  df_data[col_name] = pd.to_datetime(\n",
      "d:\\Dropbox\\89_other_application\\GitHub\\PETsARD\\PETsARD\\util\\df_casting.py:43: UserWarning: Could not infer format, so each element will be parsed individually, falling back to `dateutil`. To ensure parsing is consistent and as-expected, please specify a format.\n",
      "  df_data[col_name] = pd.to_datetime(\n",
      "d:\\Dropbox\\89_other_application\\GitHub\\PETsARD\\PETsARD\\util\\df_casting.py:43: UserWarning: Could not infer format, so each element will be parsed individually, falling back to `dateutil`. To ensure parsing is consistent and as-expected, please specify a format.\n",
      "  df_data[col_name] = pd.to_datetime(\n",
      "d:\\Dropbox\\89_other_application\\GitHub\\PETsARD\\PETsARD\\util\\df_casting.py:43: UserWarning: Could not infer format, so each element will be parsed individually, falling back to `dateutil`. To ensure parsing is consistent and as-expected, please specify a format.\n",
      "  df_data[col_name] = pd.to_datetime(\n",
      "d:\\Dropbox\\89_other_application\\GitHub\\PETsARD\\PETsARD\\util\\df_casting.py:43: UserWarning: Could not infer format, so each element will be parsed individually, falling back to `dateutil`. To ensure parsing is consistent and as-expected, please specify a format.\n",
      "  df_data[col_name] = pd.to_datetime(\n",
      "d:\\Dropbox\\89_other_application\\GitHub\\PETsARD\\PETsARD\\util\\df_casting.py:43: UserWarning: Could not infer format, so each element will be parsed individually, falling back to `dateutil`. To ensure parsing is consistent and as-expected, please specify a format.\n",
      "  df_data[col_name] = pd.to_datetime(\n",
      "d:\\Dropbox\\89_other_application\\GitHub\\PETsARD\\PETsARD\\util\\df_casting.py:43: UserWarning: Could not infer format, so each element will be parsed individually, falling back to `dateutil`. To ensure parsing is consistent and as-expected, please specify a format.\n",
      "  df_data[col_name] = pd.to_datetime(\n",
      "d:\\Dropbox\\89_other_application\\GitHub\\PETsARD\\PETsARD\\util\\df_casting.py:43: UserWarning: Could not infer format, so each element will be parsed individually, falling back to `dateutil`. To ensure parsing is consistent and as-expected, please specify a format.\n",
      "  df_data[col_name] = pd.to_datetime(\n",
      "d:\\Dropbox\\89_other_application\\GitHub\\PETsARD\\PETsARD\\util\\df_casting.py:43: UserWarning: Could not infer format, so each element will be parsed individually, falling back to `dateutil`. To ensure parsing is consistent and as-expected, please specify a format.\n",
      "  df_data[col_name] = pd.to_datetime(\n",
      "d:\\Dropbox\\89_other_application\\GitHub\\PETsARD\\PETsARD\\util\\df_casting.py:43: UserWarning: Could not infer format, so each element will be parsed individually, falling back to `dateutil`. To ensure parsing is consistent and as-expected, please specify a format.\n",
      "  df_data[col_name] = pd.to_datetime(\n",
      "d:\\Dropbox\\89_other_application\\GitHub\\PETsARD\\PETsARD\\util\\df_casting.py:43: UserWarning: Could not infer format, so each element will be parsed individually, falling back to `dateutil`. To ensure parsing is consistent and as-expected, please specify a format.\n",
      "  df_data[col_name] = pd.to_datetime(\n",
      "d:\\Dropbox\\89_other_application\\GitHub\\PETsARD\\PETsARD\\util\\df_casting.py:43: UserWarning: Could not infer format, so each element will be parsed individually, falling back to `dateutil`. To ensure parsing is consistent and as-expected, please specify a format.\n",
      "  df_data[col_name] = pd.to_datetime(\n",
      "d:\\Dropbox\\89_other_application\\GitHub\\PETsARD\\PETsARD\\util\\df_casting.py:43: UserWarning: Could not infer format, so each element will be parsed individually, falling back to `dateutil`. To ensure parsing is consistent and as-expected, please specify a format.\n",
      "  df_data[col_name] = pd.to_datetime(\n",
      "d:\\Dropbox\\89_other_application\\GitHub\\PETsARD\\PETsARD\\util\\df_casting.py:43: UserWarning: Could not infer format, so each element will be parsed individually, falling back to `dateutil`. To ensure parsing is consistent and as-expected, please specify a format.\n",
      "  df_data[col_name] = pd.to_datetime(\n",
      "d:\\Dropbox\\89_other_application\\GitHub\\PETsARD\\PETsARD\\util\\df_casting.py:43: UserWarning: Could not infer format, so each element will be parsed individually, falling back to `dateutil`. To ensure parsing is consistent and as-expected, please specify a format.\n",
      "  df_data[col_name] = pd.to_datetime(\n",
      "d:\\Dropbox\\89_other_application\\GitHub\\PETsARD\\PETsARD\\util\\df_casting.py:43: UserWarning: Could not infer format, so each element will be parsed individually, falling back to `dateutil`. To ensure parsing is consistent and as-expected, please specify a format.\n",
      "  df_data[col_name] = pd.to_datetime(\n",
      "d:\\Dropbox\\89_other_application\\GitHub\\PETsARD\\PETsARD\\util\\df_casting.py:43: UserWarning: Could not infer format, so each element will be parsed individually, falling back to `dateutil`. To ensure parsing is consistent and as-expected, please specify a format.\n",
      "  df_data[col_name] = pd.to_datetime(\n",
      "d:\\Dropbox\\89_other_application\\GitHub\\PETsARD\\PETsARD\\util\\df_casting.py:43: UserWarning: Could not infer format, so each element will be parsed individually, falling back to `dateutil`. To ensure parsing is consistent and as-expected, please specify a format.\n",
      "  df_data[col_name] = pd.to_datetime(\n"
     ]
    },
    {
     "name": "stdout",
     "output_type": "stream",
     "text": [
      "       PUMA  AGEP  SEX MSP  HISP  RAC1P NOC NPF  HOUSING_TYPE  OWN_RENT  ...  \\\n",
      "0  01-01301    20    1 NaT     0      1   N NaT             3         0  ...   \n",
      "\n",
      "     PINCP PINCP_DECILE POVPIP DVET DREM DPHY DEYE DEAR PWGTP WGTP  \n",
      "0  17000.0          NaT    NaT    N  NaT  NaT    2    2    53    0  \n",
      "\n",
      "[1 rows x 24 columns]\n",
      "Now is benchmark://nist-tx2018...\n",
      "Loader - Benchmarker: file benchmark\\tx2018.csv already exist and match SHA-256.\n",
      "                      PETsARD will ignore download and use local data directly.\n",
      "       PUMA  AGEP  SEX MSP  HISP  RAC1P NOC NPF  HOUSING_TYPE  OWN_RENT  ...  \\\n",
      "0  48-02516    52    2 NaT     0      2   N NaT             3         0  ...   \n",
      "\n",
      "   PINCP PINCP_DECILE POVPIP DVET DREM DPHY DEYE DEAR PWGTP WGTP  \n",
      "0    0.0          NaT    NaT    N  NaT  NaT    2    2    22    0  \n",
      "\n",
      "[1 rows x 24 columns]\n",
      "Now is benchmark://acs-person...\n"
     ]
    }
   ],
   "source": [
    "from PETsARD.loader import Loader\n",
    "\n",
    "for benchmark in benchmark_list:\n",
    "    filepath = f\"benchmark://{benchmark}\"\n",
    "    print(f\"Now is {filepath}...\")\n",
    "    load = Loader(\n",
    "        filepath=filepath,\n",
    "    )\n",
    "    load.load()\n",
    "    print(load.data.head(1))"
   ]
  }
 ],
 "metadata": {
  "kernelspec": {
   "display_name": ".venv",
   "language": "python",
   "name": "python3"
  },
  "language_info": {
   "codemirror_mode": {
    "name": "ipython",
    "version": 3
   },
   "file_extension": ".py",
   "mimetype": "text/x-python",
   "name": "python",
   "nbconvert_exporter": "python",
   "pygments_lexer": "ipython3",
   "version": "3.10.11"
  }
 },
 "nbformat": 4,
 "nbformat_minor": 2
}
