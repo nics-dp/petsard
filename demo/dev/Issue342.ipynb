{
 "cells": [
  {
   "cell_type": "code",
   "execution_count": 1,
   "metadata": {},
   "outputs": [
    {
     "name": "stdout",
     "output_type": "stream",
     "text": [
      "d:\\Dropbox\\89_other_application\\GitHub\\PETsARD\n"
     ]
    }
   ],
   "source": [
    "import os\n",
    "import pprint\n",
    "import sys\n",
    "\n",
    "path_petsard = os.path.dirname(os.path.dirname(os.getcwd()))\n",
    "print(path_petsard)\n",
    "sys.path.append(path_petsard)\n",
    "\n",
    "pp = pprint.PrettyPrinter(depth=2)"
   ]
  },
  {
   "cell_type": "code",
   "execution_count": 4,
   "metadata": {},
   "outputs": [
    {
     "data": {
      "text/plain": [
       "{'workclass': '?', 'occupation': '?', 'native-country': '?'}"
      ]
     },
     "execution_count": 4,
     "metadata": {},
     "output_type": "execute_result"
    }
   ],
   "source": [
    "{k: '?' for k in [\n",
    "        'workclass',\n",
    "        'occupation',\n",
    "        'native-country'\n",
    "    ]}"
   ]
  },
  {
   "cell_type": "code",
   "execution_count": 2,
   "metadata": {},
   "outputs": [],
   "source": [
    "benchmark_list = [\n",
    "    'adult-income',\n",
    "    ###### demography ######\n",
    "    # 'nist-national2018', # /df_casting.py:43: UserWarning: Could not infer format\n",
    "    # 'nist-tx2018', # df_casting.py:43: UserWarning: Could not infer format\n",
    "    # 'acs-person', # df_casting.py:43: UserWarning: Could not infer format\n",
    "    # 'voter2022-household', # OverflowError: Python int too large to convert to C long\n",
    "    # 'voter2022-person', # OverflowError: Python int too large to convert to C long\n",
    "    # ###### Business ######\n",
    "    # 'bank-marketing-1', # df_casting.py:43: UserWarning: Could not infer format\n",
    "    # 'credit_score', # Unsupported force dtype\n",
    "    # 'bike-sales', # UserWarning: parsed individually\n",
    "    # 'telco-churn', # invalid literal for int() with base 10: 'No'\n",
    "    # ###### Environment ######\n",
    "    # 'airquality', # ValueError: could not convert string to float: '18.00.00'\n",
    "    # ###### Medical ######\n",
    "    # 'breast_cancer-03', # df_casting.py:43: UserWarning: Could not infer format\n",
    "    # 'mimic3c', # df_casting.py:43: UserWarning: Could not infer format\n",
    "    # ###### Computer Science ######\n",
    "    # 'kddcup1999', # ValueError: could not convert string to float: 'normal.'\n",
    "    # 'nslkdd', # ValueError: could not convert string to float: 'normal.'\n",
    "    # ###### Others ######\n",
    "    # 'car', # ValueError: could not convert string to float: 'unacc'\n",
    "]"
   ]
  },
  {
   "cell_type": "code",
   "execution_count": 3,
   "metadata": {},
   "outputs": [
    {
     "name": "stdout",
     "output_type": "stream",
     "text": [
      "Now is benchmark://adult-income...\n",
      "Loader - Benchmarker : Success download the benchmark dataset from https://petsard-benchmark.s3.amazonaws.com/adult-income.csv.\n",
      "   age workclass  fnlwgt education  educational-num marital-status  \\\n",
      "0   25   Private  226802      11th                7  Never-married   \n",
      "\n",
      "          occupation relationship   race gender  capital-gain  capital-loss  \\\n",
      "0  Machine-op-inspct    Own-child  Black   Male             0             0   \n",
      "\n",
      "   hours-per-week native-country income  \n",
      "0              40  United-States  <=50K  \n"
     ]
    }
   ],
   "source": [
    "from PETsARD.loader import Loader\n",
    "\n",
    "for benchmark in benchmark_list:\n",
    "    filepath = f\"benchmark://{benchmark}\"\n",
    "    print(f\"Now is {filepath}...\")\n",
    "    load = Loader(\n",
    "        filepath=filepath,\n",
    "    )\n",
    "    load.load()\n",
    "    print(load.data.head(1))"
   ]
  }
 ],
 "metadata": {
  "kernelspec": {
   "display_name": ".venv",
   "language": "python",
   "name": "python3"
  },
  "language_info": {
   "codemirror_mode": {
    "name": "ipython",
    "version": 3
   },
   "file_extension": ".py",
   "mimetype": "text/x-python",
   "name": "python",
   "nbconvert_exporter": "python",
   "pygments_lexer": "ipython3",
   "version": "3.10.11"
  }
 },
 "nbformat": 4,
 "nbformat_minor": 2
}
