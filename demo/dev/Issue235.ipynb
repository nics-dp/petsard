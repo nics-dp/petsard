{
 "cells": [
  {
   "cell_type": "code",
   "execution_count": 20,
   "metadata": {
    "collapsed": true,
    "jupyter": {
     "outputs_hidden": true
    },
    "tags": []
   },
   "outputs": [
    {
     "name": "stdout",
     "output_type": "stream",
     "text": [
      "Ignoring appnope: markers 'python_version >= \"3.10\" and python_version < \"3.12\" and platform_system == \"Darwin\"' don't match your environment\n",
      "Ignoring cffi: markers 'python_version >= \"3.10\" and python_version < \"3.12\" and implementation_name == \"pypy\"' don't match your environment\n",
      "Ignoring colorama: markers 'python_version >= \"3.10\" and python_version < \"3.12\" and (platform_system == \"Windows\" or sys_platform == \"win32\")' don't match your environment\n",
      "Ignoring pycparser: markers 'python_version >= \"3.10\" and python_version < \"3.12\" and implementation_name == \"pypy\"' don't match your environment\n",
      "Ignoring pywin32: markers 'python_version >= \"3.10\" and python_version < \"3.12\" and sys_platform == \"win32\"' don't match your environment\n",
      "Requirement already satisfied: anonymeter==1.0.0 in /home/ec2-user/anaconda3/envs/python3/lib/python3.10/site-packages (from -r ../../requirements-dev.txt (line 1)) (1.0.0)\n",
      "Requirement already satisfied: asttokens==2.4.1 in /home/ec2-user/anaconda3/envs/python3/lib/python3.10/site-packages (from -r ../../requirements-dev.txt (line 7)) (2.4.1)\n",
      "Requirement already satisfied: attrs==23.2.0 in /home/ec2-user/anaconda3/envs/python3/lib/python3.10/site-packages (from -r ../../requirements-dev.txt (line 10)) (23.2.0)\n",
      "Requirement already satisfied: boto3==1.34.36 in /home/ec2-user/anaconda3/envs/python3/lib/python3.10/site-packages (from -r ../../requirements-dev.txt (line 13)) (1.34.36)\n",
      "Requirement already satisfied: botocore==1.34.36 in /home/ec2-user/anaconda3/envs/python3/lib/python3.10/site-packages (from -r ../../requirements-dev.txt (line 16)) (1.34.36)\n",
      "Requirement already satisfied: certifi==2024.2.2 in /home/ec2-user/anaconda3/envs/python3/lib/python3.10/site-packages (from -r ../../requirements-dev.txt (line 19)) (2024.2.2)\n",
      "Requirement already satisfied: charset-normalizer==3.3.2 in /home/ec2-user/anaconda3/envs/python3/lib/python3.10/site-packages (from -r ../../requirements-dev.txt (line 75)) (3.3.2)\n",
      "Requirement already satisfied: cloudpickle==2.2.1 in /home/ec2-user/anaconda3/envs/python3/lib/python3.10/site-packages (from -r ../../requirements-dev.txt (line 166)) (2.2.1)\n",
      "Requirement already satisfied: comm==0.2.1 in /home/ec2-user/anaconda3/envs/python3/lib/python3.10/site-packages (from -r ../../requirements-dev.txt (line 172)) (0.2.1)\n",
      "Requirement already satisfied: contextlib2==21.6.0 in /home/ec2-user/anaconda3/envs/python3/lib/python3.10/site-packages (from -r ../../requirements-dev.txt (line 175)) (21.6.0)\n",
      "Requirement already satisfied: contourpy==1.2.0 in /home/ec2-user/anaconda3/envs/python3/lib/python3.10/site-packages (from -r ../../requirements-dev.txt (line 178)) (1.2.0)\n",
      "Requirement already satisfied: copulas==0.9.2 in /home/ec2-user/anaconda3/envs/python3/lib/python3.10/site-packages (from -r ../../requirements-dev.txt (line 223)) (0.9.2)\n",
      "Requirement already satisfied: ctgan==0.8.0 in /home/ec2-user/anaconda3/envs/python3/lib/python3.10/site-packages (from -r ../../requirements-dev.txt (line 226)) (0.8.0)\n",
      "Requirement already satisfied: cycler==0.12.1 in /home/ec2-user/anaconda3/envs/python3/lib/python3.10/site-packages (from -r ../../requirements-dev.txt (line 229)) (0.12.1)\n",
      "Requirement already satisfied: debugpy==1.8.0 in /home/ec2-user/anaconda3/envs/python3/lib/python3.10/site-packages (from -r ../../requirements-dev.txt (line 232)) (1.8.0)\n",
      "Requirement already satisfied: decorator==5.1.1 in /home/ec2-user/anaconda3/envs/python3/lib/python3.10/site-packages (from -r ../../requirements-dev.txt (line 251)) (5.1.1)\n",
      "Requirement already satisfied: deepecho==0.5.0 in /home/ec2-user/anaconda3/envs/python3/lib/python3.10/site-packages (from -r ../../requirements-dev.txt (line 254)) (0.5.0)\n",
      "Requirement already satisfied: dill==0.3.8 in /home/ec2-user/anaconda3/envs/python3/lib/python3.10/site-packages (from -r ../../requirements-dev.txt (line 257)) (0.3.8)\n",
      "Requirement already satisfied: docker==5.0.3 in /home/ec2-user/anaconda3/envs/python3/lib/python3.10/site-packages (from -r ../../requirements-dev.txt (line 260)) (5.0.3)\n",
      "Requirement already satisfied: exceptiongroup==1.2.0 in /home/ec2-user/anaconda3/envs/python3/lib/python3.10/site-packages (from -r ../../requirements-dev.txt (line 263)) (1.2.0)\n",
      "Requirement already satisfied: executing==2.0.1 in /home/ec2-user/anaconda3/envs/python3/lib/python3.10/site-packages (from -r ../../requirements-dev.txt (line 266)) (2.0.1)\n",
      "Requirement already satisfied: faker==19.13.0 in /home/ec2-user/anaconda3/envs/python3/lib/python3.10/site-packages (from -r ../../requirements-dev.txt (line 269)) (19.13.0)\n",
      "Requirement already satisfied: filelock==3.13.1 in /home/ec2-user/anaconda3/envs/python3/lib/python3.10/site-packages (from -r ../../requirements-dev.txt (line 272)) (3.13.1)\n",
      "Requirement already satisfied: fonttools==4.48.1 in /home/ec2-user/anaconda3/envs/python3/lib/python3.10/site-packages (from -r ../../requirements-dev.txt (line 275)) (4.48.1)\n",
      "Requirement already satisfied: fsspec==2024.2.0 in /home/ec2-user/anaconda3/envs/python3/lib/python3.10/site-packages (from -r ../../requirements-dev.txt (line 318)) (2024.2.0)\n",
      "Requirement already satisfied: google-pasta==0.2.0 in /home/ec2-user/anaconda3/envs/python3/lib/python3.10/site-packages (from -r ../../requirements-dev.txt (line 321)) (0.2.0)\n",
      "Requirement already satisfied: graphviz==0.20.1 in /home/ec2-user/anaconda3/envs/python3/lib/python3.10/site-packages (from -r ../../requirements-dev.txt (line 325)) (0.20.1)\n",
      "Requirement already satisfied: idna==3.6 in /home/ec2-user/anaconda3/envs/python3/lib/python3.10/site-packages (from -r ../../requirements-dev.txt (line 328)) (3.6)\n",
      "Requirement already satisfied: importlib-metadata==6.11.0 in /home/ec2-user/anaconda3/envs/python3/lib/python3.10/site-packages (from -r ../../requirements-dev.txt (line 331)) (6.11.0)\n",
      "Requirement already satisfied: iniconfig==2.0.0 in /home/ec2-user/anaconda3/envs/python3/lib/python3.10/site-packages (from -r ../../requirements-dev.txt (line 334)) (2.0.0)\n",
      "Requirement already satisfied: ipykernel==6.29.1 in /home/ec2-user/anaconda3/envs/python3/lib/python3.10/site-packages (from -r ../../requirements-dev.txt (line 337)) (6.29.1)\n",
      "Requirement already satisfied: ipython==8.21.0 in /home/ec2-user/anaconda3/envs/python3/lib/python3.10/site-packages (from -r ../../requirements-dev.txt (line 340)) (8.21.0)\n",
      "Requirement already satisfied: jedi==0.19.1 in /home/ec2-user/anaconda3/envs/python3/lib/python3.10/site-packages (from -r ../../requirements-dev.txt (line 343)) (0.19.1)\n",
      "Requirement already satisfied: jinja2==3.1.3 in /home/ec2-user/anaconda3/envs/python3/lib/python3.10/site-packages (from -r ../../requirements-dev.txt (line 346)) (3.1.3)\n",
      "Requirement already satisfied: jmespath==1.0.1 in /home/ec2-user/anaconda3/envs/python3/lib/python3.10/site-packages (from -r ../../requirements-dev.txt (line 349)) (1.0.1)\n",
      "Requirement already satisfied: joblib==1.3.2 in /home/ec2-user/anaconda3/envs/python3/lib/python3.10/site-packages (from -r ../../requirements-dev.txt (line 352)) (1.3.2)\n",
      "Requirement already satisfied: jsonschema-specifications==2023.12.1 in /home/ec2-user/anaconda3/envs/python3/lib/python3.10/site-packages (from -r ../../requirements-dev.txt (line 355)) (2023.12.1)\n",
      "Requirement already satisfied: jsonschema==4.21.1 in /home/ec2-user/anaconda3/envs/python3/lib/python3.10/site-packages (from -r ../../requirements-dev.txt (line 358)) (4.21.1)\n",
      "Requirement already satisfied: jupyter-client==8.6.0 in /home/ec2-user/anaconda3/envs/python3/lib/python3.10/site-packages (from -r ../../requirements-dev.txt (line 361)) (8.6.0)\n",
      "Requirement already satisfied: jupyter-core==5.2.0 in /home/ec2-user/anaconda3/envs/python3/lib/python3.10/site-packages (from -r ../../requirements-dev.txt (line 364)) (5.2.0)\n",
      "Requirement already satisfied: kiwisolver==1.4.5 in /home/ec2-user/anaconda3/envs/python3/lib/python3.10/site-packages (from -r ../../requirements-dev.txt (line 367)) (1.4.5)\n",
      "Requirement already satisfied: llvmlite==0.42.0 in /home/ec2-user/anaconda3/envs/python3/lib/python3.10/site-packages (from -r ../../requirements-dev.txt (line 472)) (0.42.0)\n",
      "Requirement already satisfied: markupsafe==2.1.5 in /home/ec2-user/anaconda3/envs/python3/lib/python3.10/site-packages (from -r ../../requirements-dev.txt (line 494)) (2.1.5)\n",
      "Requirement already satisfied: matplotlib-inline==0.1.6 in /home/ec2-user/anaconda3/envs/python3/lib/python3.10/site-packages (from -r ../../requirements-dev.txt (line 555)) (0.1.6)\n",
      "Requirement already satisfied: matplotlib==3.8.2 in /home/ec2-user/anaconda3/envs/python3/lib/python3.10/site-packages (from -r ../../requirements-dev.txt (line 558)) (3.8.2)\n",
      "Requirement already satisfied: mpmath==1.3.0 in /home/ec2-user/anaconda3/envs/python3/lib/python3.10/site-packages (from -r ../../requirements-dev.txt (line 587)) (1.3.0)\n",
      "Requirement already satisfied: multiprocess==0.70.16 in /home/ec2-user/anaconda3/envs/python3/lib/python3.10/site-packages (from -r ../../requirements-dev.txt (line 590)) (0.70.16)\n",
      "Requirement already satisfied: nest-asyncio==1.6.0 in /home/ec2-user/anaconda3/envs/python3/lib/python3.10/site-packages (from -r ../../requirements-dev.txt (line 603)) (1.6.0)\n",
      "Requirement already satisfied: networkx==3.2.1 in /home/ec2-user/anaconda3/envs/python3/lib/python3.10/site-packages (from -r ../../requirements-dev.txt (line 606)) (3.2.1)\n",
      "Requirement already satisfied: numba==0.59.0 in /home/ec2-user/anaconda3/envs/python3/lib/python3.10/site-packages (from -r ../../requirements-dev.txt (line 609)) (0.59.0)\n",
      "Requirement already satisfied: numpy==1.26.4 in /home/ec2-user/anaconda3/envs/python3/lib/python3.10/site-packages (from -r ../../requirements-dev.txt (line 631)) (1.26.4)\n",
      "Requirement already satisfied: nvidia-cublas-cu12==12.1.3.1 in /home/ec2-user/anaconda3/envs/python3/lib/python3.10/site-packages (from -r ../../requirements-dev.txt (line 668)) (12.1.3.1)\n",
      "Requirement already satisfied: nvidia-cuda-cupti-cu12==12.1.105 in /home/ec2-user/anaconda3/envs/python3/lib/python3.10/site-packages (from -r ../../requirements-dev.txt (line 671)) (12.1.105)\n",
      "Requirement already satisfied: nvidia-cuda-nvrtc-cu12==12.1.105 in /home/ec2-user/anaconda3/envs/python3/lib/python3.10/site-packages (from -r ../../requirements-dev.txt (line 674)) (12.1.105)\n",
      "Requirement already satisfied: nvidia-cuda-runtime-cu12==12.1.105 in /home/ec2-user/anaconda3/envs/python3/lib/python3.10/site-packages (from -r ../../requirements-dev.txt (line 677)) (12.1.105)\n",
      "Requirement already satisfied: nvidia-cudnn-cu12==8.9.2.26 in /home/ec2-user/anaconda3/envs/python3/lib/python3.10/site-packages (from -r ../../requirements-dev.txt (line 680)) (8.9.2.26)\n",
      "Requirement already satisfied: nvidia-cufft-cu12==11.0.2.54 in /home/ec2-user/anaconda3/envs/python3/lib/python3.10/site-packages (from -r ../../requirements-dev.txt (line 682)) (11.0.2.54)\n",
      "Requirement already satisfied: nvidia-curand-cu12==10.3.2.106 in /home/ec2-user/anaconda3/envs/python3/lib/python3.10/site-packages (from -r ../../requirements-dev.txt (line 685)) (10.3.2.106)\n",
      "Requirement already satisfied: nvidia-cusolver-cu12==11.4.5.107 in /home/ec2-user/anaconda3/envs/python3/lib/python3.10/site-packages (from -r ../../requirements-dev.txt (line 688)) (11.4.5.107)\n",
      "Requirement already satisfied: nvidia-cusparse-cu12==12.1.0.106 in /home/ec2-user/anaconda3/envs/python3/lib/python3.10/site-packages (from -r ../../requirements-dev.txt (line 691)) (12.1.0.106)\n",
      "Requirement already satisfied: nvidia-nccl-cu12==2.19.3 in /home/ec2-user/anaconda3/envs/python3/lib/python3.10/site-packages (from -r ../../requirements-dev.txt (line 694)) (2.19.3)\n",
      "Requirement already satisfied: nvidia-nvjitlink-cu12==12.3.101 in /home/ec2-user/anaconda3/envs/python3/lib/python3.10/site-packages (from -r ../../requirements-dev.txt (line 696)) (12.3.101)\n",
      "Requirement already satisfied: nvidia-nvtx-cu12==12.1.105 in /home/ec2-user/anaconda3/envs/python3/lib/python3.10/site-packages (from -r ../../requirements-dev.txt (line 699)) (12.1.105)\n",
      "Requirement already satisfied: packaging==23.2 in /home/ec2-user/anaconda3/envs/python3/lib/python3.10/site-packages (from -r ../../requirements-dev.txt (line 702)) (23.2)\n",
      "Requirement already satisfied: pandas==2.2.0 in /home/ec2-user/anaconda3/envs/python3/lib/python3.10/site-packages (from -r ../../requirements-dev.txt (line 705)) (2.2.0)\n",
      "Requirement already satisfied: parso==0.8.3 in /home/ec2-user/anaconda3/envs/python3/lib/python3.10/site-packages (from -r ../../requirements-dev.txt (line 735)) (0.8.3)\n",
      "Requirement already satisfied: pathos==0.3.2 in /home/ec2-user/anaconda3/envs/python3/lib/python3.10/site-packages (from -r ../../requirements-dev.txt (line 738)) (0.3.2)\n",
      "Requirement already satisfied: pexpect==4.9.0 in /home/ec2-user/anaconda3/envs/python3/lib/python3.10/site-packages (from -r ../../requirements-dev.txt (line 741)) (4.9.0)\n",
      "Requirement already satisfied: pillow==10.2.0 in /home/ec2-user/anaconda3/envs/python3/lib/python3.10/site-packages (from -r ../../requirements-dev.txt (line 744)) (10.2.0)\n",
      "Requirement already satisfied: platformdirs==4.2.0 in /home/ec2-user/anaconda3/envs/python3/lib/python3.10/site-packages (from -r ../../requirements-dev.txt (line 813)) (4.2.0)\n",
      "Requirement already satisfied: plotly==5.18.0 in /home/ec2-user/anaconda3/envs/python3/lib/python3.10/site-packages (from -r ../../requirements-dev.txt (line 816)) (5.18.0)\n",
      "Requirement already satisfied: pluggy==1.4.0 in /home/ec2-user/anaconda3/envs/python3/lib/python3.10/site-packages (from -r ../../requirements-dev.txt (line 819)) (1.4.0)\n",
      "Requirement already satisfied: pox==0.3.4 in /home/ec2-user/anaconda3/envs/python3/lib/python3.10/site-packages (from -r ../../requirements-dev.txt (line 822)) (0.3.4)\n",
      "Requirement already satisfied: ppft==1.7.6.8 in /home/ec2-user/anaconda3/envs/python3/lib/python3.10/site-packages (from -r ../../requirements-dev.txt (line 825)) (1.7.6.8)\n",
      "Requirement already satisfied: prompt-toolkit==3.0.43 in /home/ec2-user/anaconda3/envs/python3/lib/python3.10/site-packages (from -r ../../requirements-dev.txt (line 828)) (3.0.43)\n",
      "Requirement already satisfied: protobuf==4.25.2 in /home/ec2-user/anaconda3/envs/python3/lib/python3.10/site-packages (from -r ../../requirements-dev.txt (line 831)) (4.25.2)\n",
      "Requirement already satisfied: psutil==5.9.8 in /home/ec2-user/anaconda3/envs/python3/lib/python3.10/site-packages (from -r ../../requirements-dev.txt (line 843)) (5.9.8)\n",
      "Requirement already satisfied: ptyprocess==0.7.0 in /home/ec2-user/anaconda3/envs/python3/lib/python3.10/site-packages (from -r ../../requirements-dev.txt (line 860)) (0.7.0)\n",
      "Requirement already satisfied: pure-eval==0.2.2 in /home/ec2-user/anaconda3/envs/python3/lib/python3.10/site-packages (from -r ../../requirements-dev.txt (line 863)) (0.2.2)\n",
      "Requirement already satisfied: pygments==2.17.2 in /home/ec2-user/anaconda3/envs/python3/lib/python3.10/site-packages (from -r ../../requirements-dev.txt (line 869)) (2.17.2)\n",
      "Requirement already satisfied: pyparsing==3.1.1 in /home/ec2-user/anaconda3/envs/python3/lib/python3.10/site-packages (from -r ../../requirements-dev.txt (line 872)) (3.1.1)\n",
      "Requirement already satisfied: pytest==7.4.4 in /home/ec2-user/anaconda3/envs/python3/lib/python3.10/site-packages (from -r ../../requirements-dev.txt (line 875)) (7.4.4)\n",
      "Requirement already satisfied: python-dateutil==2.8.2 in /home/ec2-user/anaconda3/envs/python3/lib/python3.10/site-packages (from -r ../../requirements-dev.txt (line 878)) (2.8.2)\n",
      "Requirement already satisfied: pytz==2024.1 in /home/ec2-user/anaconda3/envs/python3/lib/python3.10/site-packages (from -r ../../requirements-dev.txt (line 881)) (2024.1)\n",
      "Requirement already satisfied: pyyaml==6.0.1 in /home/ec2-user/anaconda3/envs/python3/lib/python3.10/site-packages (from -r ../../requirements-dev.txt (line 897)) (6.0.1)\n",
      "Requirement already satisfied: pyzmq==25.1.2 in /home/ec2-user/anaconda3/envs/python3/lib/python3.10/site-packages (from -r ../../requirements-dev.txt (line 949)) (25.1.2)\n",
      "Requirement already satisfied: rdt==1.9.1 in /home/ec2-user/anaconda3/envs/python3/lib/python3.10/site-packages (from -r ../../requirements-dev.txt (line 1043)) (1.9.1)\n",
      "Requirement already satisfied: referencing==0.33.0 in /home/ec2-user/anaconda3/envs/python3/lib/python3.10/site-packages (from -r ../../requirements-dev.txt (line 1046)) (0.33.0)\n",
      "Requirement already satisfied: requests==2.31.0 in /home/ec2-user/anaconda3/envs/python3/lib/python3.10/site-packages (from -r ../../requirements-dev.txt (line 1049)) (2.31.0)\n",
      "Requirement already satisfied: rpds-py==0.17.1 in /home/ec2-user/anaconda3/envs/python3/lib/python3.10/site-packages (from -r ../../requirements-dev.txt (line 1052)) (0.17.1)\n",
      "Requirement already satisfied: s3transfer==0.10.0 in /home/ec2-user/anaconda3/envs/python3/lib/python3.10/site-packages (from -r ../../requirements-dev.txt (line 1152)) (0.10.0)\n",
      "Requirement already satisfied: sagemaker==2.206.0 in /home/ec2-user/anaconda3/envs/python3/lib/python3.10/site-packages (from -r ../../requirements-dev.txt (line 1155)) (2.206.0)\n",
      "Requirement already satisfied: schema==0.7.5 in /home/ec2-user/anaconda3/envs/python3/lib/python3.10/site-packages (from -r ../../requirements-dev.txt (line 1158)) (0.7.5)\n",
      "Requirement already satisfied: scikit-learn==1.4.0 in /home/ec2-user/anaconda3/envs/python3/lib/python3.10/site-packages (from -r ../../requirements-dev.txt (line 1161)) (1.4.0)\n",
      "Requirement already satisfied: scipy==1.12.0 in /home/ec2-user/anaconda3/envs/python3/lib/python3.10/site-packages (from -r ../../requirements-dev.txt (line 1203)) (1.12.0)\n",
      "Requirement already satisfied: sdmetrics==0.13.0 in /home/ec2-user/anaconda3/envs/python3/lib/python3.10/site-packages (from -r ../../requirements-dev.txt (line 1229)) (0.13.0)\n",
      "Requirement already satisfied: sdv==1.9.0 in /home/ec2-user/anaconda3/envs/python3/lib/python3.10/site-packages (from -r ../../requirements-dev.txt (line 1232)) (1.9.0)\n",
      "Requirement already satisfied: six==1.16.0 in /home/ec2-user/anaconda3/envs/python3/lib/python3.10/site-packages (from -r ../../requirements-dev.txt (line 1235)) (1.16.0)\n",
      "Requirement already satisfied: smdebug-rulesconfig==1.0.1 in /home/ec2-user/anaconda3/envs/python3/lib/python3.10/site-packages (from -r ../../requirements-dev.txt (line 1238)) (1.0.1)\n",
      "Requirement already satisfied: stack-data==0.6.3 in /home/ec2-user/anaconda3/envs/python3/lib/python3.10/site-packages (from -r ../../requirements-dev.txt (line 1241)) (0.6.3)\n",
      "Requirement already satisfied: sympy==1.12 in /home/ec2-user/anaconda3/envs/python3/lib/python3.10/site-packages (from -r ../../requirements-dev.txt (line 1244)) (1.12)\n",
      "Requirement already satisfied: tblib==2.0.0 in /home/ec2-user/anaconda3/envs/python3/lib/python3.10/site-packages (from -r ../../requirements-dev.txt (line 1247)) (2.0.0)\n",
      "Requirement already satisfied: tenacity==8.2.3 in /home/ec2-user/anaconda3/envs/python3/lib/python3.10/site-packages (from -r ../../requirements-dev.txt (line 1250)) (8.2.3)\n",
      "Requirement already satisfied: threadpoolctl==3.2.0 in /home/ec2-user/anaconda3/envs/python3/lib/python3.10/site-packages (from -r ../../requirements-dev.txt (line 1253)) (3.2.0)\n",
      "Requirement already satisfied: toml==0.10.2 in /home/ec2-user/anaconda3/envs/python3/lib/python3.10/site-packages (from -r ../../requirements-dev.txt (line 1256)) (0.10.2)\n",
      "Requirement already satisfied: tomli==2.0.1 in /home/ec2-user/anaconda3/envs/python3/lib/python3.10/site-packages (from -r ../../requirements-dev.txt (line 1259)) (2.0.1)\n",
      "Requirement already satisfied: torch==2.2.0 in /home/ec2-user/anaconda3/envs/python3/lib/python3.10/site-packages (from -r ../../requirements-dev.txt (line 1262)) (2.2.0)\n",
      "Requirement already satisfied: tornado==6.4 in /home/ec2-user/anaconda3/envs/python3/lib/python3.10/site-packages (from -r ../../requirements-dev.txt (line 1288)) (6.4)\n",
      "Requirement already satisfied: tqdm==4.66.1 in /home/ec2-user/anaconda3/envs/python3/lib/python3.10/site-packages (from -r ../../requirements-dev.txt (line 1300)) (4.66.1)\n",
      "Requirement already satisfied: traitlets==5.14.1 in /home/ec2-user/anaconda3/envs/python3/lib/python3.10/site-packages (from -r ../../requirements-dev.txt (line 1303)) (5.14.1)\n",
      "Requirement already satisfied: triton==2.2.0 in /home/ec2-user/anaconda3/envs/python3/lib/python3.10/site-packages (from -r ../../requirements-dev.txt (line 1306)) (2.2.0)\n",
      "Requirement already satisfied: typing-extensions==4.9.0 in /home/ec2-user/anaconda3/envs/python3/lib/python3.10/site-packages (from -r ../../requirements-dev.txt (line 1313)) (4.9.0)\n",
      "Requirement already satisfied: tzdata==2023.4 in /home/ec2-user/anaconda3/envs/python3/lib/python3.10/site-packages (from -r ../../requirements-dev.txt (line 1316)) (2023.4)\n",
      "Requirement already satisfied: urllib3==1.25.11 in /home/ec2-user/anaconda3/envs/python3/lib/python3.10/site-packages (from -r ../../requirements-dev.txt (line 1319)) (1.25.11)\n",
      "Requirement already satisfied: wcwidth==0.2.13 in /home/ec2-user/anaconda3/envs/python3/lib/python3.10/site-packages (from -r ../../requirements-dev.txt (line 1322)) (0.2.13)\n",
      "Requirement already satisfied: websocket-client==1.7.0 in /home/ec2-user/anaconda3/envs/python3/lib/python3.10/site-packages (from -r ../../requirements-dev.txt (line 1325)) (1.7.0)\n",
      "Requirement already satisfied: zipp==3.17.0 in /home/ec2-user/anaconda3/envs/python3/lib/python3.10/site-packages (from -r ../../requirements-dev.txt (line 1328)) (3.17.0)\n"
     ]
    }
   ],
   "source": [
    "!pip install -r ../../requirements-dev.txt"
   ]
  },
  {
   "cell_type": "code",
   "execution_count": 2,
   "metadata": {
    "tags": []
   },
   "outputs": [
    {
     "name": "stdout",
     "output_type": "stream",
     "text": [
      "/home/ec2-user/SageMaker/PETsARD\n"
     ]
    }
   ],
   "source": [
    "import os\n",
    "import pprint\n",
    "import sys\n",
    "\n",
    "path_petsard = os.path.dirname(os.path.dirname(os.getcwd()))\n",
    "print(path_petsard)\n",
    "sys.path.append(path_petsard)\n",
    "\n",
    "pp = pprint.PrettyPrinter(depth=2)"
   ]
  },
  {
   "cell_type": "code",
   "execution_count": 30,
   "metadata": {
    "tags": []
   },
   "outputs": [],
   "source": [
    "benchmark_list = [\n",
    "    # demography\n",
    "    # 'adult',\n",
    "    # 'adult-income',\n",
    "    # 'census-income',\n",
    "    # 'nist-ma2018',\n",
    "    # 'nist-ma2019',\n",
    "    # 'nist-national2018',\n",
    "    # 'nist-national2019',\n",
    "    # 'nist-tx2018',\n",
    "    # 'nist-tx2019',\n",
    "    # 'acs-person',\n",
    "    # 'acs-household',\n",
    "    # 'voter2022-family',\n",
    "    # 'voter2022-household', # too long\n",
    "    # 'voter2022-person', # too long\n",
    "    # Business\n",
    "    # 'insurance_synthetic',\n",
    "    # 'coil2000',\n",
    "    # 'bank-marketing-1',\n",
    "    # 'bank-marketing-2',\n",
    "    # 'credit_score', # Unsupported force dtype\n",
    "    'creditcard-fraud',\n",
    "    'bank_loan',\n",
    "    'netflix_prize',\n",
    "    'bike-sales',\n",
    "    'olist',\n",
    "    'telco-churn',\n",
    "]"
   ]
  },
  {
   "cell_type": "code",
   "execution_count": 31,
   "metadata": {
    "tags": []
   },
   "outputs": [
    {
     "name": "stdout",
     "output_type": "stream",
     "text": [
      "Now is benchmark://creditcard-fraud...\n",
      "Loader - Benchmarker : Success download the benchmark dataset in https://petsard-benchmark.s3.amazonaws.com/creditcard.csv.\n",
      "   Time        V1        V2        V3        V4        V5        V6        V7  \\\n",
      "0   0.0 -1.359807 -0.072781  2.536347  1.378155 -0.338321  0.462388  0.239599   \n",
      "\n",
      "         V8        V9  ...       V21       V22       V23       V24       V25  \\\n",
      "0  0.098698  0.363787  ... -0.018307  0.277838 -0.110474  0.066928  0.128539   \n",
      "\n",
      "        V26       V27       V28      Amount  Class  \n",
      "0 -0.189115  0.133558 -0.021053  149.619995      0  \n",
      "\n",
      "[1 rows x 31 columns]\n",
      "Now is benchmark://bank_loan...\n",
      "Loader - Benchmarker : Success download the benchmark dataset in https://petsard-benchmark.s3.amazonaws.com/bank_loan.csv.\n",
      "   Age  Experience  Income  ZIP Code  Family  CCAvg  Education  Mortgage  \\\n",
      "0   25           1      49     91107       4    1.6          1         0   \n",
      "\n",
      "   Personal Loan  Securities Account  CD Account  Online  CreditCard  \n",
      "0              0                   1           0       0           0  \n",
      "Now is benchmark://netflix_prize...\n",
      "Loader - Benchmarker: Bucket petsard-benchmark-private Access denied to the S3 bucket.\n"
     ]
    },
    {
     "ename": "FileNotFoundError",
     "evalue": "[Errno 2] No such file or directory: 'benchmark/netflix_prize.csv'",
     "output_type": "error",
     "traceback": [
      "\u001b[0;31m---------------------------------------------------------------------------\u001b[0m",
      "\u001b[0;31mFileNotFoundError\u001b[0m                         Traceback (most recent call last)",
      "Cell \u001b[0;32mIn[31], line 9\u001b[0m\n\u001b[1;32m      5\u001b[0m \u001b[38;5;28mprint\u001b[39m(\u001b[38;5;124mf\u001b[39m\u001b[38;5;124m\"\u001b[39m\u001b[38;5;124mNow is \u001b[39m\u001b[38;5;132;01m{\u001b[39;00mfilepath\u001b[38;5;132;01m}\u001b[39;00m\u001b[38;5;124m...\u001b[39m\u001b[38;5;124m\"\u001b[39m)\n\u001b[1;32m      6\u001b[0m load \u001b[38;5;241m=\u001b[39m Loader(\n\u001b[1;32m      7\u001b[0m     filepath\u001b[38;5;241m=\u001b[39mfilepath,\n\u001b[1;32m      8\u001b[0m )\n\u001b[0;32m----> 9\u001b[0m \u001b[43mload\u001b[49m\u001b[38;5;241;43m.\u001b[39;49m\u001b[43mload\u001b[49m\u001b[43m(\u001b[49m\u001b[43m)\u001b[49m\n\u001b[1;32m     10\u001b[0m \u001b[38;5;28mprint\u001b[39m(load\u001b[38;5;241m.\u001b[39mdata\u001b[38;5;241m.\u001b[39mhead(\u001b[38;5;241m1\u001b[39m))\n",
      "File \u001b[0;32m~/SageMaker/PETsARD/PETsARD/loader/loader.py:230\u001b[0m, in \u001b[0;36mLoader.load\u001b[0;34m(self)\u001b[0m\n\u001b[1;32m    225\u001b[0m \u001b[38;5;28;01melse\u001b[39;00m:\n\u001b[1;32m    226\u001b[0m     \u001b[38;5;28;01mraise\u001b[39;00m \u001b[38;5;167;01mValueError\u001b[39;00m(\n\u001b[1;32m    227\u001b[0m         \u001b[38;5;124mf\u001b[39m\u001b[38;5;124m\"\u001b[39m\u001b[38;5;124mLoader: Unsupported file type, now is \u001b[39m\u001b[38;5;132;01m{\u001b[39;00mfile_ext\u001b[38;5;132;01m}\u001b[39;00m\u001b[38;5;124m.\u001b[39m\u001b[38;5;124m\"\u001b[39m\n\u001b[1;32m    228\u001b[0m     )\n\u001b[0;32m--> 230\u001b[0m \u001b[38;5;28mself\u001b[39m\u001b[38;5;241m.\u001b[39mdata: pd\u001b[38;5;241m.\u001b[39mDataFrame \u001b[38;5;241m=\u001b[39m \u001b[38;5;28;43mself\u001b[39;49m\u001b[38;5;241;43m.\u001b[39;49m\u001b[43mLoader\u001b[49m\u001b[38;5;241;43m.\u001b[39;49m\u001b[43mload\u001b[49m\u001b[43m(\u001b[49m\u001b[43m)\u001b[49m\n\u001b[1;32m    232\u001b[0m \u001b[38;5;66;03m# Define dtype\u001b[39;00m\n\u001b[1;32m    233\u001b[0m \u001b[38;5;66;03m# TODO Still consider how to extract dtype from pd.dateframe directly.\u001b[39;00m\n\u001b[1;32m    234\u001b[0m \u001b[38;5;66;03m#      Consider to combind to Metadata\u001b[39;00m\n\u001b[1;32m    235\u001b[0m \u001b[38;5;28mself\u001b[39m\u001b[38;5;241m.\u001b[39mdtype\u001b[38;5;241m.\u001b[39mupdate(df_cast_check(\u001b[38;5;28mself\u001b[39m\u001b[38;5;241m.\u001b[39mdata, \u001b[38;5;28mself\u001b[39m\u001b[38;5;241m.\u001b[39mdtype))\n",
      "File \u001b[0;32m~/SageMaker/PETsARD/PETsARD/loader/loader_pandas.py:37\u001b[0m, in \u001b[0;36mLoaderPandasCsv.load\u001b[0;34m(self)\u001b[0m\n\u001b[1;32m     31\u001b[0m \u001b[38;5;28;01melse\u001b[39;00m:\n\u001b[1;32m     32\u001b[0m     dict_setting\u001b[38;5;241m.\u001b[39mupdate({\n\u001b[1;32m     33\u001b[0m         \u001b[38;5;124m'\u001b[39m\u001b[38;5;124mheader\u001b[39m\u001b[38;5;124m'\u001b[39m: \u001b[38;5;28;01mNone\u001b[39;00m,\n\u001b[1;32m     34\u001b[0m         \u001b[38;5;124m'\u001b[39m\u001b[38;5;124mnames\u001b[39m\u001b[38;5;124m'\u001b[39m:  \u001b[38;5;28mself\u001b[39m\u001b[38;5;241m.\u001b[39mpara_Loader[\u001b[38;5;124m'\u001b[39m\u001b[38;5;124mheader_names\u001b[39m\u001b[38;5;124m'\u001b[39m]\n\u001b[1;32m     35\u001b[0m     })\n\u001b[0;32m---> 37\u001b[0m \u001b[38;5;28;01mreturn\u001b[39;00m \u001b[43mpd\u001b[49m\u001b[38;5;241;43m.\u001b[39;49m\u001b[43mread_csv\u001b[49m\u001b[43m(\u001b[49m\u001b[38;5;241;43m*\u001b[39;49m\u001b[38;5;241;43m*\u001b[39;49m\u001b[43mdict_setting\u001b[49m\u001b[43m)\u001b[49m\n",
      "File \u001b[0;32m~/anaconda3/envs/python3/lib/python3.10/site-packages/pandas/io/parsers/readers.py:1024\u001b[0m, in \u001b[0;36mread_csv\u001b[0;34m(filepath_or_buffer, sep, delimiter, header, names, index_col, usecols, dtype, engine, converters, true_values, false_values, skipinitialspace, skiprows, skipfooter, nrows, na_values, keep_default_na, na_filter, verbose, skip_blank_lines, parse_dates, infer_datetime_format, keep_date_col, date_parser, date_format, dayfirst, cache_dates, iterator, chunksize, compression, thousands, decimal, lineterminator, quotechar, quoting, doublequote, escapechar, comment, encoding, encoding_errors, dialect, on_bad_lines, delim_whitespace, low_memory, memory_map, float_precision, storage_options, dtype_backend)\u001b[0m\n\u001b[1;32m   1011\u001b[0m kwds_defaults \u001b[38;5;241m=\u001b[39m _refine_defaults_read(\n\u001b[1;32m   1012\u001b[0m     dialect,\n\u001b[1;32m   1013\u001b[0m     delimiter,\n\u001b[0;32m   (...)\u001b[0m\n\u001b[1;32m   1020\u001b[0m     dtype_backend\u001b[38;5;241m=\u001b[39mdtype_backend,\n\u001b[1;32m   1021\u001b[0m )\n\u001b[1;32m   1022\u001b[0m kwds\u001b[38;5;241m.\u001b[39mupdate(kwds_defaults)\n\u001b[0;32m-> 1024\u001b[0m \u001b[38;5;28;01mreturn\u001b[39;00m \u001b[43m_read\u001b[49m\u001b[43m(\u001b[49m\u001b[43mfilepath_or_buffer\u001b[49m\u001b[43m,\u001b[49m\u001b[43m \u001b[49m\u001b[43mkwds\u001b[49m\u001b[43m)\u001b[49m\n",
      "File \u001b[0;32m~/anaconda3/envs/python3/lib/python3.10/site-packages/pandas/io/parsers/readers.py:618\u001b[0m, in \u001b[0;36m_read\u001b[0;34m(filepath_or_buffer, kwds)\u001b[0m\n\u001b[1;32m    615\u001b[0m _validate_names(kwds\u001b[38;5;241m.\u001b[39mget(\u001b[38;5;124m\"\u001b[39m\u001b[38;5;124mnames\u001b[39m\u001b[38;5;124m\"\u001b[39m, \u001b[38;5;28;01mNone\u001b[39;00m))\n\u001b[1;32m    617\u001b[0m \u001b[38;5;66;03m# Create the parser.\u001b[39;00m\n\u001b[0;32m--> 618\u001b[0m parser \u001b[38;5;241m=\u001b[39m \u001b[43mTextFileReader\u001b[49m\u001b[43m(\u001b[49m\u001b[43mfilepath_or_buffer\u001b[49m\u001b[43m,\u001b[49m\u001b[43m \u001b[49m\u001b[38;5;241;43m*\u001b[39;49m\u001b[38;5;241;43m*\u001b[39;49m\u001b[43mkwds\u001b[49m\u001b[43m)\u001b[49m\n\u001b[1;32m    620\u001b[0m \u001b[38;5;28;01mif\u001b[39;00m chunksize \u001b[38;5;129;01mor\u001b[39;00m iterator:\n\u001b[1;32m    621\u001b[0m     \u001b[38;5;28;01mreturn\u001b[39;00m parser\n",
      "File \u001b[0;32m~/anaconda3/envs/python3/lib/python3.10/site-packages/pandas/io/parsers/readers.py:1618\u001b[0m, in \u001b[0;36mTextFileReader.__init__\u001b[0;34m(self, f, engine, **kwds)\u001b[0m\n\u001b[1;32m   1615\u001b[0m     \u001b[38;5;28mself\u001b[39m\u001b[38;5;241m.\u001b[39moptions[\u001b[38;5;124m\"\u001b[39m\u001b[38;5;124mhas_index_names\u001b[39m\u001b[38;5;124m\"\u001b[39m] \u001b[38;5;241m=\u001b[39m kwds[\u001b[38;5;124m\"\u001b[39m\u001b[38;5;124mhas_index_names\u001b[39m\u001b[38;5;124m\"\u001b[39m]\n\u001b[1;32m   1617\u001b[0m \u001b[38;5;28mself\u001b[39m\u001b[38;5;241m.\u001b[39mhandles: IOHandles \u001b[38;5;241m|\u001b[39m \u001b[38;5;28;01mNone\u001b[39;00m \u001b[38;5;241m=\u001b[39m \u001b[38;5;28;01mNone\u001b[39;00m\n\u001b[0;32m-> 1618\u001b[0m \u001b[38;5;28mself\u001b[39m\u001b[38;5;241m.\u001b[39m_engine \u001b[38;5;241m=\u001b[39m \u001b[38;5;28;43mself\u001b[39;49m\u001b[38;5;241;43m.\u001b[39;49m\u001b[43m_make_engine\u001b[49m\u001b[43m(\u001b[49m\u001b[43mf\u001b[49m\u001b[43m,\u001b[49m\u001b[43m \u001b[49m\u001b[38;5;28;43mself\u001b[39;49m\u001b[38;5;241;43m.\u001b[39;49m\u001b[43mengine\u001b[49m\u001b[43m)\u001b[49m\n",
      "File \u001b[0;32m~/anaconda3/envs/python3/lib/python3.10/site-packages/pandas/io/parsers/readers.py:1878\u001b[0m, in \u001b[0;36mTextFileReader._make_engine\u001b[0;34m(self, f, engine)\u001b[0m\n\u001b[1;32m   1876\u001b[0m     \u001b[38;5;28;01mif\u001b[39;00m \u001b[38;5;124m\"\u001b[39m\u001b[38;5;124mb\u001b[39m\u001b[38;5;124m\"\u001b[39m \u001b[38;5;129;01mnot\u001b[39;00m \u001b[38;5;129;01min\u001b[39;00m mode:\n\u001b[1;32m   1877\u001b[0m         mode \u001b[38;5;241m+\u001b[39m\u001b[38;5;241m=\u001b[39m \u001b[38;5;124m\"\u001b[39m\u001b[38;5;124mb\u001b[39m\u001b[38;5;124m\"\u001b[39m\n\u001b[0;32m-> 1878\u001b[0m \u001b[38;5;28mself\u001b[39m\u001b[38;5;241m.\u001b[39mhandles \u001b[38;5;241m=\u001b[39m \u001b[43mget_handle\u001b[49m\u001b[43m(\u001b[49m\n\u001b[1;32m   1879\u001b[0m \u001b[43m    \u001b[49m\u001b[43mf\u001b[49m\u001b[43m,\u001b[49m\n\u001b[1;32m   1880\u001b[0m \u001b[43m    \u001b[49m\u001b[43mmode\u001b[49m\u001b[43m,\u001b[49m\n\u001b[1;32m   1881\u001b[0m \u001b[43m    \u001b[49m\u001b[43mencoding\u001b[49m\u001b[38;5;241;43m=\u001b[39;49m\u001b[38;5;28;43mself\u001b[39;49m\u001b[38;5;241;43m.\u001b[39;49m\u001b[43moptions\u001b[49m\u001b[38;5;241;43m.\u001b[39;49m\u001b[43mget\u001b[49m\u001b[43m(\u001b[49m\u001b[38;5;124;43m\"\u001b[39;49m\u001b[38;5;124;43mencoding\u001b[39;49m\u001b[38;5;124;43m\"\u001b[39;49m\u001b[43m,\u001b[49m\u001b[43m \u001b[49m\u001b[38;5;28;43;01mNone\u001b[39;49;00m\u001b[43m)\u001b[49m\u001b[43m,\u001b[49m\n\u001b[1;32m   1882\u001b[0m \u001b[43m    \u001b[49m\u001b[43mcompression\u001b[49m\u001b[38;5;241;43m=\u001b[39;49m\u001b[38;5;28;43mself\u001b[39;49m\u001b[38;5;241;43m.\u001b[39;49m\u001b[43moptions\u001b[49m\u001b[38;5;241;43m.\u001b[39;49m\u001b[43mget\u001b[49m\u001b[43m(\u001b[49m\u001b[38;5;124;43m\"\u001b[39;49m\u001b[38;5;124;43mcompression\u001b[39;49m\u001b[38;5;124;43m\"\u001b[39;49m\u001b[43m,\u001b[49m\u001b[43m \u001b[49m\u001b[38;5;28;43;01mNone\u001b[39;49;00m\u001b[43m)\u001b[49m\u001b[43m,\u001b[49m\n\u001b[1;32m   1883\u001b[0m \u001b[43m    \u001b[49m\u001b[43mmemory_map\u001b[49m\u001b[38;5;241;43m=\u001b[39;49m\u001b[38;5;28;43mself\u001b[39;49m\u001b[38;5;241;43m.\u001b[39;49m\u001b[43moptions\u001b[49m\u001b[38;5;241;43m.\u001b[39;49m\u001b[43mget\u001b[49m\u001b[43m(\u001b[49m\u001b[38;5;124;43m\"\u001b[39;49m\u001b[38;5;124;43mmemory_map\u001b[39;49m\u001b[38;5;124;43m\"\u001b[39;49m\u001b[43m,\u001b[49m\u001b[43m \u001b[49m\u001b[38;5;28;43;01mFalse\u001b[39;49;00m\u001b[43m)\u001b[49m\u001b[43m,\u001b[49m\n\u001b[1;32m   1884\u001b[0m \u001b[43m    \u001b[49m\u001b[43mis_text\u001b[49m\u001b[38;5;241;43m=\u001b[39;49m\u001b[43mis_text\u001b[49m\u001b[43m,\u001b[49m\n\u001b[1;32m   1885\u001b[0m \u001b[43m    \u001b[49m\u001b[43merrors\u001b[49m\u001b[38;5;241;43m=\u001b[39;49m\u001b[38;5;28;43mself\u001b[39;49m\u001b[38;5;241;43m.\u001b[39;49m\u001b[43moptions\u001b[49m\u001b[38;5;241;43m.\u001b[39;49m\u001b[43mget\u001b[49m\u001b[43m(\u001b[49m\u001b[38;5;124;43m\"\u001b[39;49m\u001b[38;5;124;43mencoding_errors\u001b[39;49m\u001b[38;5;124;43m\"\u001b[39;49m\u001b[43m,\u001b[49m\u001b[43m \u001b[49m\u001b[38;5;124;43m\"\u001b[39;49m\u001b[38;5;124;43mstrict\u001b[39;49m\u001b[38;5;124;43m\"\u001b[39;49m\u001b[43m)\u001b[49m\u001b[43m,\u001b[49m\n\u001b[1;32m   1886\u001b[0m \u001b[43m    \u001b[49m\u001b[43mstorage_options\u001b[49m\u001b[38;5;241;43m=\u001b[39;49m\u001b[38;5;28;43mself\u001b[39;49m\u001b[38;5;241;43m.\u001b[39;49m\u001b[43moptions\u001b[49m\u001b[38;5;241;43m.\u001b[39;49m\u001b[43mget\u001b[49m\u001b[43m(\u001b[49m\u001b[38;5;124;43m\"\u001b[39;49m\u001b[38;5;124;43mstorage_options\u001b[39;49m\u001b[38;5;124;43m\"\u001b[39;49m\u001b[43m,\u001b[49m\u001b[43m \u001b[49m\u001b[38;5;28;43;01mNone\u001b[39;49;00m\u001b[43m)\u001b[49m\u001b[43m,\u001b[49m\n\u001b[1;32m   1887\u001b[0m \u001b[43m\u001b[49m\u001b[43m)\u001b[49m\n\u001b[1;32m   1888\u001b[0m \u001b[38;5;28;01massert\u001b[39;00m \u001b[38;5;28mself\u001b[39m\u001b[38;5;241m.\u001b[39mhandles \u001b[38;5;129;01mis\u001b[39;00m \u001b[38;5;129;01mnot\u001b[39;00m \u001b[38;5;28;01mNone\u001b[39;00m\n\u001b[1;32m   1889\u001b[0m f \u001b[38;5;241m=\u001b[39m \u001b[38;5;28mself\u001b[39m\u001b[38;5;241m.\u001b[39mhandles\u001b[38;5;241m.\u001b[39mhandle\n",
      "File \u001b[0;32m~/anaconda3/envs/python3/lib/python3.10/site-packages/pandas/io/common.py:873\u001b[0m, in \u001b[0;36mget_handle\u001b[0;34m(path_or_buf, mode, encoding, compression, memory_map, is_text, errors, storage_options)\u001b[0m\n\u001b[1;32m    868\u001b[0m \u001b[38;5;28;01melif\u001b[39;00m \u001b[38;5;28misinstance\u001b[39m(handle, \u001b[38;5;28mstr\u001b[39m):\n\u001b[1;32m    869\u001b[0m     \u001b[38;5;66;03m# Check whether the filename is to be opened in binary mode.\u001b[39;00m\n\u001b[1;32m    870\u001b[0m     \u001b[38;5;66;03m# Binary mode does not support 'encoding' and 'newline'.\u001b[39;00m\n\u001b[1;32m    871\u001b[0m     \u001b[38;5;28;01mif\u001b[39;00m ioargs\u001b[38;5;241m.\u001b[39mencoding \u001b[38;5;129;01mand\u001b[39;00m \u001b[38;5;124m\"\u001b[39m\u001b[38;5;124mb\u001b[39m\u001b[38;5;124m\"\u001b[39m \u001b[38;5;129;01mnot\u001b[39;00m \u001b[38;5;129;01min\u001b[39;00m ioargs\u001b[38;5;241m.\u001b[39mmode:\n\u001b[1;32m    872\u001b[0m         \u001b[38;5;66;03m# Encoding\u001b[39;00m\n\u001b[0;32m--> 873\u001b[0m         handle \u001b[38;5;241m=\u001b[39m \u001b[38;5;28;43mopen\u001b[39;49m\u001b[43m(\u001b[49m\n\u001b[1;32m    874\u001b[0m \u001b[43m            \u001b[49m\u001b[43mhandle\u001b[49m\u001b[43m,\u001b[49m\n\u001b[1;32m    875\u001b[0m \u001b[43m            \u001b[49m\u001b[43mioargs\u001b[49m\u001b[38;5;241;43m.\u001b[39;49m\u001b[43mmode\u001b[49m\u001b[43m,\u001b[49m\n\u001b[1;32m    876\u001b[0m \u001b[43m            \u001b[49m\u001b[43mencoding\u001b[49m\u001b[38;5;241;43m=\u001b[39;49m\u001b[43mioargs\u001b[49m\u001b[38;5;241;43m.\u001b[39;49m\u001b[43mencoding\u001b[49m\u001b[43m,\u001b[49m\n\u001b[1;32m    877\u001b[0m \u001b[43m            \u001b[49m\u001b[43merrors\u001b[49m\u001b[38;5;241;43m=\u001b[39;49m\u001b[43merrors\u001b[49m\u001b[43m,\u001b[49m\n\u001b[1;32m    878\u001b[0m \u001b[43m            \u001b[49m\u001b[43mnewline\u001b[49m\u001b[38;5;241;43m=\u001b[39;49m\u001b[38;5;124;43m\"\u001b[39;49m\u001b[38;5;124;43m\"\u001b[39;49m\u001b[43m,\u001b[49m\n\u001b[1;32m    879\u001b[0m \u001b[43m        \u001b[49m\u001b[43m)\u001b[49m\n\u001b[1;32m    880\u001b[0m     \u001b[38;5;28;01melse\u001b[39;00m:\n\u001b[1;32m    881\u001b[0m         \u001b[38;5;66;03m# Binary mode\u001b[39;00m\n\u001b[1;32m    882\u001b[0m         handle \u001b[38;5;241m=\u001b[39m \u001b[38;5;28mopen\u001b[39m(handle, ioargs\u001b[38;5;241m.\u001b[39mmode)\n",
      "\u001b[0;31mFileNotFoundError\u001b[0m: [Errno 2] No such file or directory: 'benchmark/netflix_prize.csv'"
     ]
    }
   ],
   "source": [
    "from PETsARD.loader import Loader\n",
    "\n",
    "for benchmark in benchmark_list:\n",
    "    filepath = f\"benchmark://{benchmark}\"\n",
    "    print(f\"Now is {filepath}...\")\n",
    "    load = Loader(\n",
    "        filepath=filepath,\n",
    "    )\n",
    "    load.load()\n",
    "    print(load.data.head(1))"
   ]
  },
  {
   "cell_type": "code",
   "execution_count": 19,
   "metadata": {
    "tags": []
   },
   "outputs": [
    {
     "name": "stdout",
     "output_type": "stream",
     "text": [
      "Now is adult...\n",
      "b1ee59153ff6055037ada6074d5cbed507af97f4d4d4b1fffcd7f62133c283a5\n",
      "Now is adult-income...\n",
      "1f13ee2bf9d7c66098429281ab91fa1b51cbabd3b805cc365b3c6b44491ea2c0\n",
      "Now is census-income...\n",
      "edda24085b2c3a7fda325d8e4ce6137c537b2600e77c326271bab264e8e2190e\n",
      "Now is ma2018...\n",
      "067b99e8180a6b8149d03fa31b5a29aa6d9ff66a9173e6425915d46a4bb77cad\n",
      "Now is ma2019...\n",
      "5489f7d45bccad8ae591dfe9011638def521b3f8641edf169bb45fea2c62fb44\n",
      "Now is national2018...\n",
      "d3f9b74f95d4bd55add179957812c3cd46756be1fd58f565a9ef53522cb4ce3a\n",
      "Now is national2019...\n",
      "9e039c8e47c9e998d60f66fd50ec620fc2d0703decdc21f3069c9844fbef979b\n",
      "Now is tx2018...\n",
      "f6a6d7ba4f845b168a6e1d8ee869c11ea156abe4221f2abb1d2bddb50fe7d0fa\n",
      "Now is tx2019...\n",
      "0dab7a8b745232c622d7d3bc0b7fdeaf7f8ecdb3a5653a73fd2867f5f116ed96\n",
      "Now is acs-person...\n",
      "4c70c3cbc7f55906de8347016a6c197e1fb36f10d8bb80b9f2246152a8adbd86\n",
      "Now is acs-household...\n",
      "69381ce79bdc422f362f9a66e8870af98e26fff7353448a22ba8af90aa630469\n",
      "Now is voter2022-family...\n",
      "0c105bb56207cf87616ef8af300d7d0f5ab108223fb31b7bdd1332af955bce0c\n",
      "Now is voter2022-household...\n",
      "c88192cb3c963a90ea98022606112a01ade0eb8e2c17df4149052970a5d5246f\n",
      "Now is voter2022-person...\n",
      "19b56537e50e7663f954361ef2bb5ce9cef8d9d45f156fe1a69a99b654198ffe\n"
     ]
    }
   ],
   "source": [
    "from importlib import resources\n",
    "\n",
    "import yaml\n",
    "\n",
    "from PETsARD.loader.benchmark import DigestSha256\n",
    "\n",
    "\n",
    "\n",
    "with resources.open_text('PETsARD.loader', 'benchmark_datasets.yaml') as file:\n",
    "    yaml_content = yaml.safe_load(file)\n",
    "\n",
    "\n",
    "for benchmark in benchmark_list:\n",
    "    print(f\"Now is {benchmark}...\")\n",
    "    print(DigestSha256(f\"benchmark/{yaml_content['datasets'][benchmark]['filename']}\"))\n"
   ]
  },
  {
   "cell_type": "code",
   "execution_count": null,
   "metadata": {},
   "outputs": [],
   "source": []
  }
 ],
 "metadata": {
  "kernelspec": {
   "display_name": "conda_python3",
   "language": "python",
   "name": "conda_python3"
  },
  "language_info": {
   "codemirror_mode": {
    "name": "ipython",
    "version": 3
   },
   "file_extension": ".py",
   "mimetype": "text/x-python",
   "name": "python",
   "nbconvert_exporter": "python",
   "pygments_lexer": "ipython3",
   "version": "3.10.13"
  }
 },
 "nbformat": 4,
 "nbformat_minor": 4
}
