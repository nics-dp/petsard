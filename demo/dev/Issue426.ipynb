{
 "cells": [
  {
   "cell_type": "code",
   "execution_count": 1,
   "metadata": {},
   "outputs": [
    {
     "name": "stdout",
     "output_type": "stream",
     "text": [
      "d:\\Dropbox\\89_other_application\\GitHub\\PETsARD\n"
     ]
    }
   ],
   "source": [
    "import os\n",
    "import pprint\n",
    "import sys\n",
    "\n",
    "path_petsard = os.path.dirname(os.path.dirname(os.getcwd()))\n",
    "print(path_petsard)\n",
    "sys.path.append(path_petsard)\n",
    "\n",
    "pp = pprint.PrettyPrinter(depth=2)"
   ]
  },
  {
   "cell_type": "code",
   "execution_count": 13,
   "metadata": {},
   "outputs": [
    {
     "name": "stdout",
     "output_type": "stream",
     "text": [
      "Now is Loader with adult...\n",
      "Loader - Benchmarker: file benchmark\\adult_uci.csv already exist and match SHA-256.\n",
      "                      PETsARD will ignore download and use local data directly.\n",
      "Now is Evaluator with sdmetrics-diagnosticreport...\n",
      "Generating report ...\n",
      "(1/2) Evaluating Data Validity: : 100%|██████████| 15/15 [00:00<00:00, 591.05it/s]\n",
      "(2/2) Evaluating Data Structure: : 100%|██████████| 1/1 [00:00<00:00, 787.81it/s]\n",
      "\n",
      "Overall Score: 100.0%\n",
      "\n",
      "Properties:\n",
      "- Data Validity: 100.0%\n",
      "- Data Structure: 100.0%\n",
      "Now is Reporter with rpt_global...\n",
      "Now is Issue426_demo[Report]_[global] save to csv...\n",
      "Now is Evaluator with sdmetrics-qualityreport...\n",
      "Generating report ...\n",
      "(1/2) Evaluating Column Shapes: : 100%|██████████| 15/15 [00:00<00:00, 150.46it/s]\n",
      "(2/2) Evaluating Column Pair Trends: : 100%|██████████| 105/105 [00:06<00:00, 16.46it/s]\n",
      "\n",
      "Overall Score: 100.0%\n",
      "\n",
      "Properties:\n",
      "- Column Shapes: 100.0%\n",
      "- Column Pair Trends: 100.0%\n",
      "Now is Reporter with rpt_global...\n",
      "Now is Issue426_demo[Report]_[global] save to csv...\n",
      "Now is Loader with adult-income...\n",
      "Loader - Benchmarker: file benchmark\\adult-income.csv already exist and match SHA-256.\n",
      "                      PETsARD will ignore download and use local data directly.\n",
      "Now is Evaluator with sdmetrics-diagnosticreport...\n",
      "Generating report ...\n",
      "(1/2) Evaluating Data Validity: : 100%|██████████| 15/15 [00:00<00:00, 394.31it/s]\n",
      "(2/2) Evaluating Data Structure: : 100%|██████████| 1/1 [00:00<00:00, 489.65it/s]\n",
      "\n",
      "Overall Score: 100.0%\n",
      "\n",
      "Properties:\n",
      "- Data Validity: 100.0%\n",
      "- Data Structure: 100.0%\n",
      "Now is Reporter with rpt_global...\n",
      "Now is Issue426_demo[Report]_[global] save to csv...\n",
      "Now is Evaluator with sdmetrics-qualityreport...\n",
      "Generating report ...\n",
      "(1/2) Evaluating Column Shapes: : 100%|██████████| 15/15 [00:00<00:00, 108.69it/s]\n",
      "(2/2) Evaluating Column Pair Trends: : 100%|██████████| 105/105 [00:07<00:00, 13.17it/s]\n",
      "\n",
      "Overall Score: 100.0%\n",
      "\n",
      "Properties:\n",
      "- Column Shapes: 100.0%\n",
      "- Column Pair Trends: 100.0%\n",
      "Now is Reporter with rpt_global...\n",
      "Now is Issue426_demo[Report]_[global] save to csv...\n",
      "                           full_expt_name  ... sdmetrics-qualityreport_Column Pair Trends\n",
      "0  Loader[adult-income]_Evaluator[global]  ...                                        1.0\n",
      "1  Loader[adult-income]_Evaluator[global]  ...                                        NaN\n",
      "2         Loader[adult]_Evaluator[global]  ...                                        1.0\n",
      "\n",
      "[3 rows x 9 columns]\n"
     ]
    }
   ],
   "source": [
    "import tempfile\n",
    "import time\n",
    "\n",
    "from PETsARD import Executor\n",
    "\n",
    "\n",
    "yaml_template = \"\"\"\n",
    "---\n",
    "Loader:\n",
    "    adult:\n",
    "        filepath: benchmark://adult\n",
    "    adult-income:\n",
    "        filepath: benchmark://adult-income\n",
    "Evaluator:\n",
    "    sdmetrics-diagnosticreport:\n",
    "        method: sdmetrics-diagnosticreport\n",
    "    sdmetrics-qualityreport:\n",
    "        method: sdmetrics-qualityreport\n",
    "Reporter:\n",
    "    rpt_global:\n",
    "        method: save_report\n",
    "        output: Issue426_demo\n",
    "        granularity: global\n",
    "...\n",
    "\"\"\"\n",
    "\n",
    "yaml_text = yaml_template\n",
    "\n",
    "\n",
    "\n",
    "with tempfile.NamedTemporaryFile(mode='w+', delete=False) as tmpfile:\n",
    "    tmpfile.write(yaml_text)\n",
    "    tmpfile.flush()\n",
    "    tmpfile.seek(0)\n",
    "    yaml_file: str = tmpfile.name\n",
    "\n",
    "exec = Executor(config=yaml_file)\n",
    "exec.run()\n",
    "print(exec.status.get_result('Reporter')['[global]'])\n",
    "\n",
    "time.sleep(3) # avoid PermissionError\n",
    "\n",
    "os.remove(yaml_file)\n",
    "os.remove('Issue426_demo[Report]_[global].csv')"
   ]
  }
 ],
 "metadata": {
  "kernelspec": {
   "display_name": ".venv",
   "language": "python",
   "name": "python3"
  },
  "language_info": {
   "codemirror_mode": {
    "name": "ipython",
    "version": 3
   },
   "file_extension": ".py",
   "mimetype": "text/x-python",
   "name": "python",
   "nbconvert_exporter": "python",
   "pygments_lexer": "ipython3",
   "version": "3.10.11"
  }
 },
 "nbformat": 4,
 "nbformat_minor": 2
}
