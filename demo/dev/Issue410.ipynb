{
 "cells": [
  {
   "cell_type": "code",
   "execution_count": 1,
   "metadata": {},
   "outputs": [
    {
     "name": "stdout",
     "output_type": "stream",
     "text": [
      "d:\\Dropbox\\89_other_application\\GitHub\\PETsARD\n"
     ]
    }
   ],
   "source": [
    "import os\n",
    "import pprint\n",
    "import sys\n",
    "\n",
    "path_petsard = os.path.dirname(os.path.dirname(os.getcwd()))\n",
    "print(path_petsard)\n",
    "sys.path.append(path_petsard)\n",
    "\n",
    "pp = pprint.PrettyPrinter(depth=2)"
   ]
  },
  {
   "cell_type": "code",
   "execution_count": 2,
   "metadata": {},
   "outputs": [
    {
     "name": "stdout",
     "output_type": "stream",
     "text": [
      "{'attack_rate': 0.32881,\n",
      " 'attack_rate_err': 0.32881,\n",
      " 'baseline_rate': 0.32881,\n",
      " 'baseline_rate_err': 0.32881,\n",
      " 'control_rate': 0.32881,\n",
      " 'control_rate_err': 0.32881,\n",
      " 'risk': 0.0,\n",
      " 'risk_CI_btm': 0.0,\n",
      " 'risk_CI_top': 0.69281}\n"
     ]
    },
    {
     "name": "stderr",
     "output_type": "stream",
     "text": [
      "d:\\Dropbox\\89_other_application\\GitHub\\PETsARD\\.venv\\lib\\site-packages\\anonymeter\\stats\\confidence.py:218: UserWarning: Attack is as good or worse as baseline model. Estimated rates: attack = 0.32880988624667346, baseline = 0.32880988624667346. Analysis results cannot be trusted.\n",
      "  self._sanity_check()\n"
     ]
    }
   ],
   "source": [
    "import pandas as pd\n",
    "\n",
    "from PETsARD import (\n",
    "    Loader,\n",
    "    Evaluator,\n",
    ")\n",
    "\n",
    "\n",
    "load_ori:  Loader = Loader(filepath='20240328_exp6_Loader[adult-income]_Splitter[p80_[1-1]_[train]].csv')\n",
    "load_syn:  Loader = Loader(filepath='20240328_exp6_Loader[adult-income]_Splitter[p80_[1-1]_[validation]].csv')\n",
    "load_ctrl: Loader = Loader(filepath='20240328_exp6_Loader[adult-income]_Splitter[p80_[1-1]]_Preprocessor[default-smartnoise]_Synthesizer[smartnoise-dpctgan01]_Postprocessor[default-smartnoise].csv')\n",
    "load_ori.load()\n",
    "load_syn.load()\n",
    "load_ctrl.load()\n",
    "\n",
    "\n",
    "eval = Evaluator(\n",
    "    method='anonymeter-singlingout',\n",
    "    n_attacks=2, # 2000\n",
    ")\n",
    "eval.create(data={\n",
    "    'ori': load_ori.data, # pd.DataFrame\n",
    "    'syn': load_syn.data, # pd.DataFrame\n",
    "    'control': load_ctrl.data, # pd.DataFrame\n",
    "})\n",
    "eval.eval()\n",
    "pp.pprint(eval.result)"
   ]
  },
  {
   "cell_type": "code",
   "execution_count": 7,
   "metadata": {},
   "outputs": [
    {
     "name": "stdout",
     "output_type": "stream",
     "text": [
      "{'attack_rate': 0.32881,\n",
      " 'attack_rate_err': 0.32881,\n",
      " 'baseline_rate': 0.32881,\n",
      " 'baseline_rate_err': 0.32881,\n",
      " 'control_rate': 0.32881,\n",
      " 'control_rate_err': 0.32881,\n",
      " 'risk': 0.0,\n",
      " 'risk_CI_btm': 0.0,\n",
      " 'risk_CI_top': 0.69281}\n"
     ]
    }
   ],
   "source": [
    "\n",
    "pp.pprint(eval.result)"
   ]
  }
 ],
 "metadata": {
  "kernelspec": {
   "display_name": ".venv",
   "language": "python",
   "name": "python3"
  },
  "language_info": {
   "codemirror_mode": {
    "name": "ipython",
    "version": 3
   },
   "file_extension": ".py",
   "mimetype": "text/x-python",
   "name": "python",
   "nbconvert_exporter": "python",
   "pygments_lexer": "ipython3",
   "version": "3.10.11"
  }
 },
 "nbformat": 4,
 "nbformat_minor": 2
}
