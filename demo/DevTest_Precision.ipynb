{
 "cells": [
  {
   "cell_type": "code",
   "execution_count": 1,
   "metadata": {
    "tags": []
   },
   "outputs": [
    {
     "name": "stdout",
     "output_type": "stream",
     "text": [
      "Requirement already satisfied: pandas<=2.1,>=2.0 in c:\\program files\\python312\\lib\\site-packages (from -r ..\\requirements.txt (line 1)) (2.1.0)\n",
      "Requirement already satisfied: sdv<=1.7 in c:\\program files\\python312\\lib\\site-packages (from -r ..\\requirements.txt (line 2)) (0.0.0)\n",
      "Requirement already satisfied: numpy>=1.23.2 in c:\\program files\\python312\\lib\\site-packages (from pandas<=2.1,>=2.0->-r ..\\requirements.txt (line 1)) (1.26.2)\n",
      "Requirement already satisfied: python-dateutil>=2.8.2 in c:\\program files\\python312\\lib\\site-packages (from pandas<=2.1,>=2.0->-r ..\\requirements.txt (line 1)) (2.8.2)\n",
      "Requirement already satisfied: pytz>=2020.1 in c:\\program files\\python312\\lib\\site-packages (from pandas<=2.1,>=2.0->-r ..\\requirements.txt (line 1)) (2023.3.post1)\n",
      "Requirement already satisfied: tzdata>=2022.1 in c:\\program files\\python312\\lib\\site-packages (from pandas<=2.1,>=2.0->-r ..\\requirements.txt (line 1)) (2023.3)\n",
      "Requirement already satisfied: six>=1.5 in c:\\program files\\python312\\lib\\site-packages (from python-dateutil>=2.8.2->pandas<=2.1,>=2.0->-r ..\\requirements.txt (line 1)) (1.16.0)\n"
     ]
    }
   ],
   "source": [
    "import os\n",
    "import sys\n",
    "\n",
    "sys.path.append('D:\\\\Dropbox\\\\89_其他應用\\\\GitHub\\\\PETs-Experiment')\n",
    "os.chdir('D:\\\\Dropbox\\\\89_其他應用\\\\GitHub\\\\PETs-Experiment\\\\demo')\n",
    "# sys.path.append('/home/ec2-user/SageMaker/PETs-Experiment')\n",
    "# os.chdir('/home/ec2-user/SageMaker/PETs-Experiment/demo')\n",
    "!pip install -r ..\\requirements.txt\n",
    "\n",
    "import PETs_Experiment"
   ]
  },
  {
   "cell_type": "code",
   "execution_count": 2,
   "metadata": {
    "tags": []
   },
   "outputs": [
    {
     "name": "stdout",
     "output_type": "stream",
     "text": [
      "    gen   age   race       edu      mar        bmi  dep  pir   gh  mets  qm  \\\n",
      "0  Male  62.0  White  Graduate  Married  27.799999    0    0  0.0   0.0  Q2   \n",
      "\n",
      "   dia  \n",
      "0    1  \n"
     ]
    }
   ],
   "source": [
    "# loader = PETs_Experiment.Loader(filepath = '../[sunset]/data/[Adt Income] adult.csv'\n",
    "#                                ,na_values = {k : '?' for k in ['workclass'\n",
    "#                                                               ,'occupation'\n",
    "#                                                               ,'native-country'\n",
    "#                                                               ]\n",
    "#                                             }\n",
    "#                                )\n",
    "loader = PETs_Experiment.Loader(filepath = '../[sunset]/data/[NHANES] B.csv'\n",
    "                               ,header_exist = False\n",
    "                               ,header_names = ['gen','age','race','edu','mar','bmi','dep','pir','gh','mets','qm','dia']\n",
    "                               )\n",
    "print(loader.data.head(1))"
   ]
  },
  {
   "cell_type": "code",
   "execution_count": 3,
   "metadata": {
    "tags": []
   },
   "outputs": [
    {
     "name": "stdout",
     "output_type": "stream",
     "text": [
      "3352\n",
      "838\n",
      "    gen   age   race       edu      mar        bmi  dep  pir   gh  mets  qm  \\\n",
      "0  Male  62.0  White  Graduate  Married  27.799999    0    0  0.0   0.0  Q2   \n",
      "\n",
      "   dia  \n",
      "0    1  \n",
      "      gen   age     race      edu       mar        bmi  dep  pir   gh  mets  \\\n",
      "0  Female  38.0  Mexican  College  Divorced  29.299999    0    1  0.0   0.0   \n",
      "\n",
      "   qm  dia  \n",
      "0  Q3    0  \n"
     ]
    }
   ],
   "source": [
    "splitter = PETs_Experiment.Splitter(data              = loader.data\n",
    "                                   ,num_samples       = 30\n",
    "                                   ,train_split_ratio = 0.8)\n",
    "print(splitter.data[1]['train'     ].shape[0])\n",
    "print(splitter.data[1]['validation'].shape[0])\n",
    "print(splitter.data[1]['train'     ].head(1) )\n",
    "print(splitter.data[1]['validation'].head(1) )"
   ]
  },
  {
   "cell_type": "code",
   "execution_count": 4,
   "metadata": {
    "tags": []
   },
   "outputs": [
    {
     "name": "stdout",
     "output_type": "stream",
     "text": [
      "Preprocessor - Outlierist (IQR): No rows have been dropped on age."
     ]
    },
    {
     "name": "stdout",
     "output_type": "stream",
     "text": [
      "\n",
      "Preprocessor - Outlierist (IQR): Dropped   96 rows on bmi . Kept [12.100001335144043, 44.899996757507324] only.\n",
      "Preprocessor - Outlierist (IQR): Totally Dropped   96 in 3352 rows.\n",
      "Preprocessor - Encoder (Label): Column mar  been labelized from 0 to 5.\n",
      "Preprocessor - Encoder (Label): Column gen  been labelized from 0 to 1.\n",
      "Preprocessor - Encoder (Label): Column race been labelized from 0 to 4.\n",
      "Preprocessor - Encoder (Label): Column edu  been labelized from 0 to 4.\n",
      "Preprocessor - Encoder (Label): Column qm   been labelized from 0 to 3.\n",
      "Preprocessor - Scaler (MinMax): Column bmi been standardized.\n",
      "Preprocessor - Scaler (MinMax): Column age been standardized.\n",
      "\n",
      "\n",
      "\n",
      "\n",
      "   gen  age  race  edu  mar       bmi  dep  pir   gh  mets  qm  dia\n",
      "0    1  0.7     4    3    1  0.440397    0    0  0.0   0.0   1    1\n",
      "\n",
      "\n",
      "\n",
      "\n",
      "{'mar': LabelEncoder(), 'gen': LabelEncoder(), 'race': LabelEncoder(), 'edu': LabelEncoder(), 'qm': LabelEncoder()}\n",
      "\n",
      "\n",
      "\n",
      "\n",
      "{'bmi': MinMaxScaler(), 'age': MinMaxScaler()}\n"
     ]
    }
   ],
   "source": [
    "preproc = PETs_Experiment.Preprocessor(\n",
    "     data = splitter.data[1]['train']\n",
    "    ,missing=True\n",
    "        ,missing_method  = 'drop'\n",
    "        ,missing_columns = None\n",
    "    ,outlier=True\n",
    "        ,outlier_method  = 'IQR'\n",
    "        # ,outlier_columns = {'ignore': ['hours-per-week']}\n",
    "        ,outlier_columns = {'ignore': ['dep','pir','gh','mets','dia']}\n",
    "    ,encoding=True\n",
    "        ,encoding_method  = 'Label'\n",
    "        ,encoding_columns = None\n",
    "    ,scaling=True\n",
    "        # ,scaling_method  = 'Standard'\n",
    "        ,scaling_method  = 'MinMax'\n",
    "        # ,scaling_columns = {'focus' : 'fnlwgt'}\n",
    "        ,scaling_columns = {'focus' : ['age','bmi']}\n",
    ")\n",
    "print('\\n\\n\\n')\n",
    "print(preproc.data.head(1))\n",
    "print('\\n\\n\\n')\n",
    "print(preproc.encoder)\n",
    "print('\\n\\n\\n')\n",
    "print(preproc.scaler)"
   ]
  },
  {
   "cell_type": "code",
   "execution_count": 8,
   "metadata": {},
   "outputs": [
    {
     "name": "stdout",
     "output_type": "stream",
     "text": [
      "14\n",
      "[0.4403973  0.5397351  0.47350988 ... 0.54635763 0.38079467 0.2284768 ]\n",
      "0.47350988\n",
      "0.47350988\n",
      "0.4403973\n",
      "0.4403973\n",
      "0.2284768\n",
      "0.22847678\n",
      "[ True  True  True ...  True False False]\n",
      "float32\n"
     ]
    }
   ],
   "source": [
    "import pandas as pd\n",
    "\n",
    "import numpy as np\n",
    "import pandas as pd\n",
    "data = preproc.data['bmi'] # .astype('float64')\n",
    "data = np.array(data)\n",
    "roundable_data = data[~(np.isinf(data) | pd.isna(data))]\n",
    "\n",
    "# print(data)\n",
    "# print(roundable_data)\n",
    "MAX_DECIMALS = sys.float_info.dig - 1\n",
    "print(MAX_DECIMALS)\n",
    "print(roundable_data)\n",
    "temp = roundable_data.round(MAX_DECIMALS)\n",
    "print(roundable_data[2])\n",
    "print(temp[2])\n",
    "print(roundable_data[0])\n",
    "print(temp[0])\n",
    "print(roundable_data[-1])\n",
    "print(temp[-1])\n",
    "print((roundable_data == temp))\n",
    "if (roundable_data == temp).all():\n",
    "    for decimal in range(MAX_DECIMALS + 1):\n",
    "        print(decimal)\n",
    "        if (roundable_data == roundable_data.round(decimal)).all():\n",
    "            print('gotcha')\n",
    "print(data.dtype)"
   ]
  },
  {
   "cell_type": "code",
   "execution_count": 45,
   "metadata": {},
   "outputs": [
    {
     "name": "stdout",
     "output_type": "stream",
     "text": [
      "[0.04679001]\n",
      "[0.04679001]\n",
      "float32\n"
     ]
    }
   ],
   "source": [
    "x = pd.Series(data=data[~(np.isinf(data) | pd.isna(data))][2])\n",
    "x = np.array(x)\n",
    "print(x)\n",
    "print(x.round(14))\n",
    "print(x.dtype)"
   ]
  },
  {
   "cell_type": "code",
   "execution_count": 10,
   "metadata": {
    "tags": []
   },
   "outputs": [
    {
     "name": "stdout",
     "output_type": "stream",
     "text": [
      "Synthesizer (SDV - SingleTable): Metafile loading time: 0.017 sec.\n",
      "Synthesizer (SDV - SingleTable): Fitting  GaussianCoupula.\n"
     ]
    },
    {
     "name": "stderr",
     "output_type": "stream",
     "text": [
      "c:\\Program Files\\Python310\\lib\\site-packages\\rdt\\transformers\\numerical.py:112: UserWarning: No rounding scheme detected for column 'age'. Data will not be rounded.\n",
      "  warnings.warn(\n",
      "c:\\Program Files\\Python310\\lib\\site-packages\\rdt\\transformers\\numerical.py:112: UserWarning: No rounding scheme detected for column 'bmi'. Data will not be rounded.\n",
      "  warnings.warn(\n"
     ]
    },
    {
     "name": "stdout",
     "output_type": "stream",
     "text": [
      "Synthesizer (SDV - SingleTable): Fitting  GaussianCoupula spent 2.1059 sec.\n",
      "Synthesizer (SDV - SingleTable): Sampling GaussianCoupula # 3255 rows (same as raw) in 0.278 sec.\n",
      "   gen       age  race  edu  mar       bmi  dep  pir   gh  mets  qm  dia\n",
      "0    1  1.617181     3    4    1  0.266295    0    0  0.0   0.0   2    0\n"
     ]
    }
   ],
   "source": [
    "synthesizer = PETs_Experiment.Synthesizer(data = preproc.data\n",
    "                                         ,synthesizing_method = 'sdv-singletable-gaussiancoupula'\n",
    "                                         )\n",
    "synthesizer.fit_sample()\n",
    "print(synthesizer.data_syn.head(1))"
   ]
  }
 ],
 "metadata": {
  "kernelspec": {
   "display_name": "Python 3",
   "language": "python",
   "name": "python3"
  },
  "language_info": {
   "codemirror_mode": {
    "name": "ipython",
    "version": 3
   },
   "file_extension": ".py",
   "mimetype": "text/x-python",
   "name": "python",
   "nbconvert_exporter": "python",
   "pygments_lexer": "ipython3",
   "version": "3.10.13"
  }
 },
 "nbformat": 4,
 "nbformat_minor": 4
}
