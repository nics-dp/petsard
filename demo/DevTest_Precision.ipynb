{
 "cells": [
  {
   "cell_type": "code",
   "execution_count": 10,
   "metadata": {
    "tags": []
   },
   "outputs": [
    {
     "name": "stdout",
     "output_type": "stream",
     "text": [
      "Requirement already satisfied: sdv<=1.7 in c:\\program files\\python310\\lib\\site-packages (from -r ..\\PETsARD\\requirements.txt (line 4)) (1.5.0)\n",
      "Requirement already satisfied: anonymeter in c:\\program files\\python310\\lib\\site-packages (from -r ..\\PETsARD\\requirements.txt (line 8)) (0.0.2)\n",
      "Requirement already satisfied: numexpr>=2.8 in c:\\program files\\python310\\lib\\site-packages (from -r ..\\PETsARD\\requirements.txt (line 24)) (2.8.5)\n",
      "Requirement already satisfied: boto3<2,>=1.15.0 in c:\\program files\\python310\\lib\\site-packages (from sdv<=1.7->-r ..\\PETsARD\\requirements.txt (line 4)) (1.28.78)\n",
      "Requirement already satisfied: botocore<2,>=1.18 in c:\\program files\\python310\\lib\\site-packages (from sdv<=1.7->-r ..\\PETsARD\\requirements.txt (line 4)) (1.31.78)\n",
      "Requirement already satisfied: cloudpickle<3.0,>=2.1.0 in c:\\users\\justin\\appdata\\roaming\\python\\python310\\site-packages (from sdv<=1.7->-r ..\\PETsARD\\requirements.txt (line 4)) (2.2.1)\n",
      "Requirement already satisfied: Faker<15,>=10 in c:\\program files\\python310\\lib\\site-packages (from sdv<=1.7->-r ..\\PETsARD\\requirements.txt (line 4)) (14.2.1)\n",
      "Requirement already satisfied: graphviz<1,>=0.13.2 in c:\\program files\\python310\\lib\\site-packages (from sdv<=1.7->-r ..\\PETsARD\\requirements.txt (line 4)) (0.20.1)\n",
      "Requirement already satisfied: tqdm<5,>=4.15 in c:\\program files\\python310\\lib\\site-packages (from sdv<=1.7->-r ..\\PETsARD\\requirements.txt (line 4)) (4.66.1)\n",
      "Requirement already satisfied: copulas<0.10,>=0.9.0 in c:\\program files\\python310\\lib\\site-packages (from sdv<=1.7->-r ..\\PETsARD\\requirements.txt (line 4)) (0.9.2)\n",
      "Requirement already satisfied: ctgan<0.8,>=0.7.4 in c:\\program files\\python310\\lib\\site-packages (from sdv<=1.7->-r ..\\PETsARD\\requirements.txt (line 4)) (0.7.5)\n",
      "Requirement already satisfied: deepecho<0.5,>=0.4.2 in c:\\program files\\python310\\lib\\site-packages (from sdv<=1.7->-r ..\\PETsARD\\requirements.txt (line 4)) (0.4.2)\n",
      "Requirement already satisfied: rdt<2,>=1.7.0 in c:\\program files\\python310\\lib\\site-packages (from sdv<=1.7->-r ..\\PETsARD\\requirements.txt (line 4)) (1.7.0)\n",
      "Requirement already satisfied: sdmetrics<0.12,>=0.11.0 in c:\\program files\\python310\\lib\\site-packages (from sdv<=1.7->-r ..\\PETsARD\\requirements.txt (line 4)) (0.11.1)\n",
      "Requirement already satisfied: numpy<2,>=1.23.3 in c:\\program files\\python310\\lib\\site-packages (from sdv<=1.7->-r ..\\PETsARD\\requirements.txt (line 4)) (1.23.5)\n",
      "Requirement already satisfied: pandas>=1.3.4 in c:\\program files\\python310\\lib\\site-packages (from sdv<=1.7->-r ..\\PETsARD\\requirements.txt (line 4)) (1.5.3)\n",
      "Requirement already satisfied: scikit-learn~=1.2 in c:\\users\\justin\\appdata\\roaming\\python\\python310\\site-packages (from anonymeter->-r ..\\PETsARD\\requirements.txt (line 8)) (1.3.0)\n",
      "Requirement already satisfied: joblib~=1.2 in c:\\program files\\python310\\lib\\site-packages (from anonymeter->-r ..\\PETsARD\\requirements.txt (line 8)) (1.3.2)\n",
      "Requirement already satisfied: numba~=0.56 in c:\\program files\\python310\\lib\\site-packages (from anonymeter->-r ..\\PETsARD\\requirements.txt (line 8)) (0.58.1)\n",
      "Requirement already satisfied: jmespath<2.0.0,>=0.7.1 in c:\\program files\\python310\\lib\\site-packages (from boto3<2,>=1.15.0->sdv<=1.7->-r ..\\PETsARD\\requirements.txt (line 4)) (1.0.1)\n",
      "Requirement already satisfied: s3transfer<0.8.0,>=0.7.0 in c:\\program files\\python310\\lib\\site-packages (from boto3<2,>=1.15.0->sdv<=1.7->-r ..\\PETsARD\\requirements.txt (line 4)) (0.7.0)\n",
      "Requirement already satisfied: python-dateutil<3.0.0,>=2.1 in c:\\users\\justin\\appdata\\roaming\\python\\python310\\site-packages (from botocore<2,>=1.18->sdv<=1.7->-r ..\\PETsARD\\requirements.txt (line 4)) (2.8.2)\n",
      "Requirement already satisfied: urllib3<2.1,>=1.25.4 in c:\\users\\justin\\appdata\\roaming\\python\\python310\\site-packages (from botocore<2,>=1.18->sdv<=1.7->-r ..\\PETsARD\\requirements.txt (line 4)) (1.26.14)\n",
      "Requirement already satisfied: matplotlib<4,>=3.6.0 in c:\\program files\\python310\\lib\\site-packages (from copulas<0.10,>=0.9.0->sdv<=1.7->-r ..\\PETsARD\\requirements.txt (line 4)) (3.8.2)\n",
      "Requirement already satisfied: scipy<2,>=1.9.2 in c:\\program files\\python310\\lib\\site-packages (from copulas<0.10,>=0.9.0->sdv<=1.7->-r ..\\PETsARD\\requirements.txt (line 4)) (1.11.3)\n",
      "Requirement already satisfied: torch>=1.11.0 in c:\\program files\\python310\\lib\\site-packages (from ctgan<0.8,>=0.7.4->sdv<=1.7->-r ..\\PETsARD\\requirements.txt (line 4)) (2.0.1+cu117)\n",
      "Requirement already satisfied: llvmlite<0.42,>=0.41.0dev0 in c:\\program files\\python310\\lib\\site-packages (from numba~=0.56->anonymeter->-r ..\\PETsARD\\requirements.txt (line 8)) (0.41.1)\n",
      "Requirement already satisfied: pytz>=2020.1 in c:\\users\\justin\\appdata\\roaming\\python\\python310\\site-packages (from pandas>=1.3.4->sdv<=1.7->-r ..\\PETsARD\\requirements.txt (line 4)) (2022.7.1)\n",
      "Requirement already satisfied: psutil<6,>=5.7 in c:\\users\\justin\\appdata\\roaming\\python\\python310\\site-packages (from rdt<2,>=1.7.0->sdv<=1.7->-r ..\\PETsARD\\requirements.txt (line 4)) (5.9.4)\n",
      "Requirement already satisfied: threadpoolctl>=2.0.0 in c:\\users\\justin\\appdata\\roaming\\python\\python310\\site-packages (from scikit-learn~=1.2->anonymeter->-r ..\\PETsARD\\requirements.txt (line 8)) (3.1.0)\n",
      "Requirement already satisfied: plotly<6,>=5.10.0 in c:\\users\\justin\\appdata\\roaming\\python\\python310\\site-packages (from sdmetrics<0.12,>=0.11.0->sdv<=1.7->-r ..\\PETsARD\\requirements.txt (line 4)) (5.15.0)\n",
      "Requirement already satisfied: colorama in c:\\users\\justin\\appdata\\roaming\\python\\python310\\site-packages (from tqdm<5,>=4.15->sdv<=1.7->-r ..\\PETsARD\\requirements.txt (line 4)) (0.4.6)\n",
      "Requirement already satisfied: contourpy>=1.0.1 in c:\\users\\justin\\appdata\\roaming\\python\\python310\\site-packages (from matplotlib<4,>=3.6.0->copulas<0.10,>=0.9.0->sdv<=1.7->-r ..\\PETsARD\\requirements.txt (line 4)) (1.0.7)\n",
      "Requirement already satisfied: cycler>=0.10 in c:\\users\\justin\\appdata\\roaming\\python\\python310\\site-packages (from matplotlib<4,>=3.6.0->copulas<0.10,>=0.9.0->sdv<=1.7->-r ..\\PETsARD\\requirements.txt (line 4)) (0.11.0)\n",
      "Requirement already satisfied: fonttools>=4.22.0 in c:\\users\\justin\\appdata\\roaming\\python\\python310\\site-packages (from matplotlib<4,>=3.6.0->copulas<0.10,>=0.9.0->sdv<=1.7->-r ..\\PETsARD\\requirements.txt (line 4)) (4.38.0)\n",
      "Requirement already satisfied: kiwisolver>=1.3.1 in c:\\users\\justin\\appdata\\roaming\\python\\python310\\site-packages (from matplotlib<4,>=3.6.0->copulas<0.10,>=0.9.0->sdv<=1.7->-r ..\\PETsARD\\requirements.txt (line 4)) (1.4.4)\n",
      "Requirement already satisfied: packaging>=20.0 in c:\\users\\justin\\appdata\\roaming\\python\\python310\\site-packages (from matplotlib<4,>=3.6.0->copulas<0.10,>=0.9.0->sdv<=1.7->-r ..\\PETsARD\\requirements.txt (line 4)) (23.0)\n",
      "Requirement already satisfied: pillow>=8 in c:\\users\\justin\\appdata\\roaming\\python\\python310\\site-packages (from matplotlib<4,>=3.6.0->copulas<0.10,>=0.9.0->sdv<=1.7->-r ..\\PETsARD\\requirements.txt (line 4)) (9.4.0)\n",
      "Requirement already satisfied: pyparsing>=2.3.1 in c:\\users\\justin\\appdata\\roaming\\python\\python310\\site-packages (from matplotlib<4,>=3.6.0->copulas<0.10,>=0.9.0->sdv<=1.7->-r ..\\PETsARD\\requirements.txt (line 4)) (3.0.9)\n",
      "Requirement already satisfied: tenacity>=6.2.0 in c:\\users\\justin\\appdata\\roaming\\python\\python310\\site-packages (from plotly<6,>=5.10.0->sdmetrics<0.12,>=0.11.0->sdv<=1.7->-r ..\\PETsARD\\requirements.txt (line 4)) (8.2.2)\n",
      "Requirement already satisfied: six>=1.5 in c:\\users\\justin\\appdata\\roaming\\python\\python310\\site-packages (from python-dateutil<3.0.0,>=2.1->botocore<2,>=1.18->sdv<=1.7->-r ..\\PETsARD\\requirements.txt (line 4)) (1.16.0)\n",
      "Requirement already satisfied: filelock in c:\\program files\\python310\\lib\\site-packages (from torch>=1.11.0->ctgan<0.8,>=0.7.4->sdv<=1.7->-r ..\\PETsARD\\requirements.txt (line 4)) (3.9.0)\n",
      "Requirement already satisfied: typing-extensions in c:\\program files\\python310\\lib\\site-packages (from torch>=1.11.0->ctgan<0.8,>=0.7.4->sdv<=1.7->-r ..\\PETsARD\\requirements.txt (line 4)) (4.7.1)\n",
      "Requirement already satisfied: sympy in c:\\program files\\python310\\lib\\site-packages (from torch>=1.11.0->ctgan<0.8,>=0.7.4->sdv<=1.7->-r ..\\PETsARD\\requirements.txt (line 4)) (1.12)\n",
      "Requirement already satisfied: networkx in c:\\program files\\python310\\lib\\site-packages (from torch>=1.11.0->ctgan<0.8,>=0.7.4->sdv<=1.7->-r ..\\PETsARD\\requirements.txt (line 4)) (3.0)\n",
      "Requirement already satisfied: jinja2 in c:\\program files\\python310\\lib\\site-packages (from torch>=1.11.0->ctgan<0.8,>=0.7.4->sdv<=1.7->-r ..\\PETsARD\\requirements.txt (line 4)) (3.1.2)\n",
      "Requirement already satisfied: MarkupSafe>=2.0 in c:\\users\\justin\\appdata\\roaming\\python\\python310\\site-packages (from jinja2->torch>=1.11.0->ctgan<0.8,>=0.7.4->sdv<=1.7->-r ..\\PETsARD\\requirements.txt (line 4)) (2.1.2)\n",
      "Requirement already satisfied: mpmath>=0.19 in c:\\program files\\python310\\lib\\site-packages (from sympy->torch>=1.11.0->ctgan<0.8,>=0.7.4->sdv<=1.7->-r ..\\PETsARD\\requirements.txt (line 4)) (1.3.0)\n"
     ]
    }
   ],
   "source": [
    "import os\n",
    "import sys\n",
    "\n",
    "sys.path.append('D:\\\\Dropbox\\\\89_其他應用\\\\GitHub\\\\PETs-Experiment')\n",
    "os.chdir('D:\\\\Dropbox\\\\89_其他應用\\\\GitHub\\\\PETs-Experiment\\\\demo')\n",
    "# sys.path.append('/home/ec2-user/SageMaker/PETs-Experiment')\n",
    "# os.chdir('/home/ec2-user/SageMaker/PETs-Experiment/demo')\n",
    "!C:\\\"Program Files\"\\Python310\\python.exe -m pip install -r ..\\PETsARD\\requirements.txt\n",
    "\n",
    "import PETsARD"
   ]
  },
  {
   "cell_type": "code",
   "execution_count": 3,
   "metadata": {},
   "outputs": [
    {
     "name": "stdout",
     "output_type": "stream",
     "text": [
      "Python version\n",
      "3.10.13 (main, Dec  1 2023, 10:22:13) [MSC v.1938 64 bit (AMD64)]\n"
     ]
    }
   ],
   "source": [
    "import sys\n",
    "\n",
    "print(\"Python version\")\n",
    "print(sys.version)"
   ]
  },
  {
   "cell_type": "code",
   "execution_count": null,
   "metadata": {
    "tags": []
   },
   "outputs": [
    {
     "name": "stdout",
     "output_type": "stream",
     "text": [
      "    gen   age   race       edu      mar        bmi  dep  pir   gh  mets  qm  \\\n",
      "0  Male  62.0  White  Graduate  Married  27.799999    0    0  0.0   0.0  Q2   \n",
      "\n",
      "   dia  \n",
      "0    1  \n"
     ]
    }
   ],
   "source": [
    "# loader = PETsARD.Loader(filepath = '../[sunset]/data/[Adt Income] adult.csv'\n",
    "#                                ,na_values = {k : '?' for k in ['workclass'\n",
    "#                                                               ,'occupation'\n",
    "#                                                               ,'native-country'\n",
    "#                                                               ]\n",
    "#                                             }\n",
    "#                                )\n",
    "loader = PETsARD.Loader(filepath = '../[sunset]/data/[NHANES] B.csv'\n",
    "                               ,header_exist = False\n",
    "                               ,header_names = ['gen','age','race','edu','mar','bmi','dep','pir','gh','mets','qm','dia']\n",
    "                               )\n",
    "print(loader.data.head(1))"
   ]
  },
  {
   "cell_type": "code",
   "execution_count": null,
   "metadata": {
    "tags": []
   },
   "outputs": [
    {
     "name": "stdout",
     "output_type": "stream",
     "text": [
      "3352\n",
      "838\n",
      "    gen   age   race       edu      mar        bmi  dep  pir   gh  mets  qm  \\\n",
      "0  Male  62.0  White  Graduate  Married  27.799999    0    0  0.0   0.0  Q2   \n",
      "\n",
      "   dia  \n",
      "0    1  \n",
      "      gen   age     race      edu       mar        bmi  dep  pir   gh  mets  \\\n",
      "0  Female  38.0  Mexican  College  Divorced  29.299999    0    1  0.0   0.0   \n",
      "\n",
      "   qm  dia  \n",
      "0  Q3    0  \n"
     ]
    }
   ],
   "source": [
    "splitter = PETsARD.Splitter(data              = loader.data\n",
    "                                   ,num_samples       = 30\n",
    "                                   ,train_split_ratio = 0.8)\n",
    "print(splitter.data[1]['train'     ].shape[0])\n",
    "print(splitter.data[1]['validation'].shape[0])\n",
    "print(splitter.data[1]['train'     ].head(1) )\n",
    "print(splitter.data[1]['validation'].head(1) )"
   ]
  },
  {
   "cell_type": "code",
   "execution_count": null,
   "metadata": {
    "tags": []
   },
   "outputs": [
    {
     "name": "stdout",
     "output_type": "stream",
     "text": [
      "Preprocessor - Outlierist (IQR): No rows have been dropped on age."
     ]
    },
    {
     "name": "stdout",
     "output_type": "stream",
     "text": [
      "\n",
      "Preprocessor - Outlierist (IQR): Dropped   96 rows on bmi . Kept [12.100001335144043, 44.899996757507324] only.\n",
      "Preprocessor - Outlierist (IQR): Totally Dropped   96 in 3352 rows.\n",
      "Preprocessor - Encoder (Label): Column mar  been labelized from 0 to 5.\n",
      "Preprocessor - Encoder (Label): Column gen  been labelized from 0 to 1.\n",
      "Preprocessor - Encoder (Label): Column race been labelized from 0 to 4.\n",
      "Preprocessor - Encoder (Label): Column edu  been labelized from 0 to 4.\n",
      "Preprocessor - Encoder (Label): Column qm   been labelized from 0 to 3.\n",
      "Preprocessor - Scaler (MinMax): Column bmi been standardized.\n",
      "Preprocessor - Scaler (MinMax): Column age been standardized.\n",
      "\n",
      "\n",
      "\n",
      "\n",
      "   gen  age  race  edu  mar       bmi  dep  pir   gh  mets  qm  dia\n",
      "0    1  0.7     4    3    1  0.440397    0    0  0.0   0.0   1    1\n",
      "\n",
      "\n",
      "\n",
      "\n",
      "{'mar': LabelEncoder(), 'gen': LabelEncoder(), 'race': LabelEncoder(), 'edu': LabelEncoder(), 'qm': LabelEncoder()}\n",
      "\n",
      "\n",
      "\n",
      "\n",
      "{'bmi': MinMaxScaler(), 'age': MinMaxScaler()}\n"
     ]
    }
   ],
   "source": [
    "preproc = PETsARD.Preprocessor(\n",
    "     data = splitter.data[1]['train']\n",
    "    ,missing=True\n",
    "        ,missing_method  = 'drop'\n",
    "        ,missing_columns = None\n",
    "    ,outlier=True\n",
    "        ,outlier_method  = 'IQR'\n",
    "        # ,outlier_columns = {'ignore': ['hours-per-week']}\n",
    "        ,outlier_columns = {'ignore': ['dep','pir','gh','mets','dia']}\n",
    "    ,encoding=True\n",
    "        ,encoding_method  = 'Label'\n",
    "        ,encoding_columns = None\n",
    "    ,scaling=True\n",
    "        # ,scaling_method  = 'Standard'\n",
    "        ,scaling_method  = 'MinMax'\n",
    "        # ,scaling_columns = {'focus' : 'fnlwgt'}\n",
    "        ,scaling_columns = {'focus' : ['age','bmi']}\n",
    ")\n",
    "print('\\n\\n\\n')\n",
    "print(preproc.data.head(1))\n",
    "print('\\n\\n\\n')\n",
    "print(preproc.encoder)\n",
    "print('\\n\\n\\n')\n",
    "print(preproc.scaler)"
   ]
  },
  {
   "cell_type": "code",
   "execution_count": null,
   "metadata": {},
   "outputs": [
    {
     "name": "stdout",
     "output_type": "stream",
     "text": [
      "14\n",
      "[0.4403973  0.5397351  0.47350988 ... 0.54635763 0.38079467 0.2284768 ]\n",
      "0.47350988\n",
      "0.47350988\n",
      "0.4403973\n",
      "0.4403973\n",
      "0.2284768\n",
      "0.22847678\n",
      "[ True  True  True ...  True False False]\n",
      "float32\n"
     ]
    }
   ],
   "source": [
    "import pandas as pd\n",
    "\n",
    "import numpy as np\n",
    "import pandas as pd\n",
    "data = preproc.data['bmi'] # .astype('float64')\n",
    "data = np.array(data)\n",
    "roundable_data = data[~(np.isinf(data) | pd.isna(data))]\n",
    "\n",
    "# print(data)\n",
    "# print(roundable_data)\n",
    "MAX_DECIMALS = sys.float_info.dig - 1\n",
    "print(MAX_DECIMALS)\n",
    "print(roundable_data)\n",
    "temp = roundable_data.round(MAX_DECIMALS)\n",
    "print(roundable_data[2])\n",
    "print(temp[2])\n",
    "print(roundable_data[0])\n",
    "print(temp[0])\n",
    "print(roundable_data[-1])\n",
    "print(temp[-1])\n",
    "print((roundable_data == temp))\n",
    "if (roundable_data == temp).all():\n",
    "    for decimal in range(MAX_DECIMALS + 1):\n",
    "        print(decimal)\n",
    "        if (roundable_data == roundable_data.round(decimal)).all():\n",
    "            print('gotcha')\n",
    "print(data.dtype)"
   ]
  },
  {
   "cell_type": "code",
   "execution_count": null,
   "metadata": {},
   "outputs": [
    {
     "name": "stdout",
     "output_type": "stream",
     "text": [
      "[0.04679001]\n",
      "[0.04679001]\n",
      "float32\n"
     ]
    }
   ],
   "source": [
    "x = pd.Series(data=data[~(np.isinf(data) | pd.isna(data))][2])\n",
    "x = np.array(x)\n",
    "print(x)\n",
    "print(x.round(14))\n",
    "print(x.dtype)"
   ]
  },
  {
   "cell_type": "code",
   "execution_count": null,
   "metadata": {
    "tags": []
   },
   "outputs": [
    {
     "name": "stdout",
     "output_type": "stream",
     "text": [
      "Synthesizer (SDV - SingleTable): Metafile loading time: 0.017 sec.\n",
      "Synthesizer (SDV - SingleTable): Fitting  GaussianCoupula.\n"
     ]
    },
    {
     "name": "stderr",
     "output_type": "stream",
     "text": [
      "c:\\Program Files\\Python310\\lib\\site-packages\\rdt\\transformers\\numerical.py:112: UserWarning: No rounding scheme detected for column 'age'. Data will not be rounded.\n",
      "  warnings.warn(\n",
      "c:\\Program Files\\Python310\\lib\\site-packages\\rdt\\transformers\\numerical.py:112: UserWarning: No rounding scheme detected for column 'bmi'. Data will not be rounded.\n",
      "  warnings.warn(\n"
     ]
    },
    {
     "name": "stdout",
     "output_type": "stream",
     "text": [
      "Synthesizer (SDV - SingleTable): Fitting  GaussianCoupula spent 2.1059 sec.\n",
      "Synthesizer (SDV - SingleTable): Sampling GaussianCoupula # 3255 rows (same as raw) in 0.278 sec.\n",
      "   gen       age  race  edu  mar       bmi  dep  pir   gh  mets  qm  dia\n",
      "0    1  1.617181     3    4    1  0.266295    0    0  0.0   0.0   2    0\n"
     ]
    }
   ],
   "source": [
    "synthesizer = PETsARD.Synthesizer(data = preproc.data\n",
    "                                         ,synthesizing_method = 'sdv-singletable-gaussiancoupula'\n",
    "                                         )\n",
    "synthesizer.fit_sample()\n",
    "print(synthesizer.data_syn.head(1))"
   ]
  }
 ],
 "metadata": {
  "kernelspec": {
   "display_name": "Python 3",
   "language": "python",
   "name": "python3"
  },
  "language_info": {
   "codemirror_mode": {
    "name": "ipython",
    "version": 3
   },
   "file_extension": ".py",
   "mimetype": "text/x-python",
   "name": "python",
   "nbconvert_exporter": "python",
   "pygments_lexer": "ipython3",
   "version": "3.10.13"
  }
 },
 "nbformat": 4,
 "nbformat_minor": 4
}
