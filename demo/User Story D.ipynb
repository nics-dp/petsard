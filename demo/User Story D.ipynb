{
 "cells": [
  {
   "cell_type": "markdown",
   "metadata": {},
   "source": [
    "## User Story D\n",
    "**Research on Benchmark datasets**\n",
    "\n",
    "\n",
    "This demo will show how to use `PETsARD`'s benchmark datasets to evaluate synthetic algorithms.\n",
    "\n",
    "In this demonstration, as an advanced user with a basic understanding of different differential privacy/synthetic data technologies and their corresponding evaluation metrics, you aim to assess the differences between technologies and other academic and practical issues.\n",
    "\n",
    "PETsARD provides a complete platform that, by integrating commonly used benchmark datasets in academics, competitions, or practical applications, allows for easy setup of different benchmark datasets, execution on various synthetic algorithms, and execution of different evaluation combinations. This enables you to easily obtain comprehensive data support, focusing on your academic or development work.\n",
    "\n",
    "本示範將展示如何使用 `PETsARD` 的基準資料集來評估合成演算法。\n",
    "\n",
    "在這個示範中，您作為進階的使用者，對於不同的差分隱私/合成資料技術、以及對應的評測指標有初步理解，希望評估技術彼此之間的差異等學術與實務議題。\n",
    "\n",
    "而 `PETsARD` 將提供你完整的平台，藉由預先整合好的，在學術、比賽或實務上常用的基準資料集， `PETsARD` 能輕鬆設定不同基準資料集、執行在不同合成演算法上、並執行不同評測的實驗組合，讓您能輕鬆獲得綜合性資料的支持，專注在您的學術或開發工作上。"
   ]
  },
  {
   "cell_type": "markdown",
   "metadata": {},
   "source": [
    "---\n",
    "\n",
    "## Environment"
   ]
  },
  {
   "cell_type": "code",
   "execution_count": 1,
   "metadata": {},
   "outputs": [
    {
     "name": "stdout",
     "output_type": "stream",
     "text": [
      "d:\\Dropbox\\89_other_application\\GitHub\\PETsARD\n"
     ]
    }
   ],
   "source": [
    "import os\n",
    "import pprint\n",
    "import sys\n",
    "\n",
    "import yaml\n",
    "\n",
    "\n",
    "# Setting up the path to the PETsARD package\n",
    "path_petsard = os.path.dirname(os.getcwd())\n",
    "print(path_petsard)\n",
    "sys.path.append(path_petsard)\n",
    "\n",
    "\n",
    "from PETsARD import Executor"
   ]
  },
  {
   "cell_type": "markdown",
   "metadata": {},
   "source": [
    "> `Demo_UserStory` is a function created for demonstrating details and can be ignored.\n",
    ">\n",
    "> `Demo_UserStory` 是為了展現示範細節而建立的函式，可忽略。"
   ]
  },
  {
   "cell_type": "code",
   "execution_count": 2,
   "metadata": {},
   "outputs": [],
   "source": [
    "def Demo_UserStory(config_file: str):\n",
    "    print(f\"YAML file {config_file} is ...\")\n",
    "    print(f\"\")\n",
    "    pp = pprint.PrettyPrinter(depth=3, sort_dicts=False)\n",
    "    with open(config_file, 'r') as yaml_file:\n",
    "        yaml_raw: dict = yaml.safe_load(yaml_file)\n",
    "    pp.pprint(yaml_raw)\n",
    "\n",
    "    print(f\"\")\n",
    "    print(f\"\")\n",
    "    print(f\"Here's the execution...\")\n",
    "    print(f\"\")\n",
    "    exec = Executor(config=config_file)\n",
    "    exec.run()\n",
    "\n",
    "    print(f\"\")\n",
    "    print(f\"\")\n",
    "    print(f\"Here's the result...\")\n",
    "    print(f\"\")\n",
    "    pp.pprint(exec.get_result())"
   ]
  },
  {
   "cell_type": "markdown",
   "metadata": {},
   "source": [
    "---\n",
    "\n",
    "## User Story D-1\n",
    "**Synthesizing on default data**\n",
    "\n",
    "With a specified data generation algorithm, a default benchmark dataset collection will serve as inputs, and the pipeline will generate the corresponding privacy enhanced datasets as output, using the selected algorithm.\n",
    "\n",
    "指定資料生成演算法後，預設的經典資料集會用作輸入，並且該流程將使用該演算法輸出對應的隱私強化資料集。"
   ]
  },
  {
   "cell_type": "code",
   "execution_count": 3,
   "metadata": {},
   "outputs": [
    {
     "name": "stdout",
     "output_type": "stream",
     "text": [
      "YAML file user_story/User Story D-1.yaml is ...\n",
      "\n",
      "{'Loader': {'demo': {'method': 'default'}},\n",
      " 'Preprocessor': {'demo': {'method': 'default'}},\n",
      " 'Synthesizer': {'sdv-gaussian': {'method': 'sdv-single_table-gaussiancopula'}},\n",
      " 'Postprocessor': {'demo': {'method': 'default'}},\n",
      " 'Reporter': {'save_data': {'method': 'save_data',\n",
      "                            'output': 'UserStory_08',\n",
      "                            'source': 'Postprocessor'}}}\n",
      "\n",
      "\n",
      "Here's the execution...\n",
      "\n",
      "Now is Loader with demo...\n",
      "Loader - Benchmarker : Success download the benchmark dataset from https://petsard-benchmark.s3.amazonaws.com/adult-income.csv.\n",
      "Now is Preprocessor with demo...\n",
      "Now is Synthesizer with sdv-gaussian...\n",
      "Synthesizer (SDV - SingleTable): Metafile loading time: 0.0328 sec.\n",
      "Synthesizer (SDV - SingleTable): Fitting GaussianCopula.\n"
     ]
    },
    {
     "name": "stderr",
     "output_type": "stream",
     "text": [
      "d:\\Dropbox\\89_other_application\\GitHub\\PETsARD\\.venv\\lib\\site-packages\\sdv\\single_table\\base.py:79: UserWarning: We strongly recommend saving the metadata using 'save_to_json' for replicability in future SDV versions.\n",
      "  warnings.warn(\n"
     ]
    },
    {
     "name": "stdout",
     "output_type": "stream",
     "text": [
      "Synthesizer (SDV - SingleTable): Fitting  GaussianCopula spent 11.3368 sec.\n",
      "Synthesizer (SDV - SingleTable): Sampling GaussianCopula # 28558 rows (same as raw) in 1.7402 sec.\n",
      "Now is Postprocessor with demo...\n",
      "Now is Reporter with save_data...\n",
      "Now is UserStory_08_Loader[demo]_Preprocessor[demo]_Synthesizer[sdv-gaussian]_Postprocessor[demo] save to csv...\n",
      "\n",
      "\n",
      "Here's the result...\n",
      "\n",
      "{'Loader[demo]_Preprocessor[demo]_Synthesizer[sdv-gaussian]_Postprocessor[demo]_Reporter[save_data]': {'Loader[demo]_Preprocessor[demo]_Synthesizer[sdv-gaussian]_Postprocessor[demo]':              age     workclass         fnlwgt     education  educational-num  \\\n",
      "0      44.262005       Private  149382.882910       HS-grad        15.773848   \n",
      "1      35.889065       Private  200163.081419       HS-grad        10.696364   \n",
      "2      32.005830       Private  194471.515056     Bachelors         6.993173   \n",
      "3      37.649825       Private  142304.062201  Some-college        10.057643   \n",
      "4      23.896207     Local-gov  271526.679494     Assoc-voc        12.527032   \n",
      "...          ...           ...            ...           ...              ...   \n",
      "28553  33.418265     State-gov  205530.004342          11th         8.463460   \n",
      "28554  54.720995     Local-gov  300364.025636       HS-grad        11.900240   \n",
      "28555  42.184652  Self-emp-inc  171455.111592       HS-grad        13.232620   \n",
      "28556  53.620015       Private   70258.785055  Some-college         8.407585   \n",
      "28557  33.448112       Private  159787.294552     Bachelors        13.993446   \n",
      "\n",
      "           marital-status       occupation   relationship   race  gender  \\\n",
      "0      Married-civ-spouse     Adm-clerical  Not-in-family  White    Male   \n",
      "1           Never-married     Craft-repair        Husband  Black    Male   \n",
      "2                Divorced     Craft-repair      Own-child  White  Female   \n",
      "3      Married-civ-spouse  Farming-fishing  Not-in-family  White    Male   \n",
      "4                 Widowed   Prof-specialty      Own-child  White    Male   \n",
      "...                   ...              ...            ...    ...     ...   \n",
      "28553            Divorced  Exec-managerial  Not-in-family  White  Female   \n",
      "28554  Married-civ-spouse            Sales  Not-in-family  White  Female   \n",
      "28555       Never-married     Craft-repair        Husband  White  Female   \n",
      "28556       Never-married    Other-service        Husband  White    Male   \n",
      "28557  Married-civ-spouse   Prof-specialty        Husband  White    Male   \n",
      "\n",
      "       capital-gain  capital-loss  hours-per-week native-country income  \n",
      "0               0.0           0.0       42.820477  United-States  <=50K  \n",
      "1               0.0           0.0       39.692143  United-States  <=50K  \n",
      "2               0.0           0.0       45.567648  United-States  <=50K  \n",
      "3               0.0           0.0       38.374343  United-States  <=50K  \n",
      "4               0.0           0.0       43.759130  United-States  <=50K  \n",
      "...             ...           ...             ...            ...    ...  \n",
      "28553           0.0           0.0       47.454728  United-States   >50K  \n",
      "28554           0.0           0.0       49.087400  United-States   >50K  \n",
      "28555           0.0           0.0       36.350728  United-States  <=50K  \n",
      "28556           0.0           0.0       50.989120  United-States  <=50K  \n",
      "28557           0.0           0.0       34.215620  United-States  <=50K  \n",
      "\n",
      "[28558 rows x 15 columns]}}\n"
     ]
    }
   ],
   "source": [
    "config_file = '../yaml/User Story D-1.yaml'\n",
    "\n",
    "Demo_UserStory(config_file = config_file)"
   ]
  },
  {
   "cell_type": "markdown",
   "metadata": {},
   "source": [
    "---\n",
    "\n",
    "## User Story D-2\n",
    "**Synthesizing on default data**\n",
    "\n",
    "Following User Story D-1, the user can specify a list of datasets instead.\n",
    "\n",
    "根據用戶故事 D-1，使用者可以改為指定一個資料集列表。"
   ]
  },
  {
   "cell_type": "code",
   "execution_count": 4,
   "metadata": {},
   "outputs": [
    {
     "name": "stdout",
     "output_type": "stream",
     "text": [
      "YAML file user_story/User Story D-2.yaml is ...\n",
      "\n",
      "{'Loader': {'default': {'method': 'default'},\n",
      "            'adult': {'filepath': 'benchmark://adult', 'na_values': {...}}},\n",
      " 'Preprocessor': {'demo': {'method': 'default'}},\n",
      " 'Synthesizer': {'sdv-gaussian': {'method': 'sdv-single_table-gaussiancopula'}},\n",
      " 'Postprocessor': {'demo': {'method': 'default'}},\n",
      " 'Reporter': {'save_data': {'method': 'save_data',\n",
      "                            'output': 'User Story D-2',\n",
      "                            'source': 'Postprocessor'}}}\n",
      "\n",
      "\n",
      "Here's the execution...\n",
      "\n",
      "Now is Loader with default...\n",
      "Loader - Benchmarker: file benchmark\\adult-income.csv already exist and match SHA-256.\n",
      "                      PETsARD will ignore download and use local data directly.\n",
      "Now is Preprocessor with demo...\n",
      "Now is Synthesizer with sdv-gaussian...\n",
      "Synthesizer (SDV - SingleTable): Metafile loading time: 0.0313 sec.\n",
      "Synthesizer (SDV - SingleTable): Fitting GaussianCopula.\n"
     ]
    },
    {
     "name": "stderr",
     "output_type": "stream",
     "text": [
      "d:\\Dropbox\\89_other_application\\GitHub\\PETsARD\\.venv\\lib\\site-packages\\sdv\\single_table\\base.py:79: UserWarning: We strongly recommend saving the metadata using 'save_to_json' for replicability in future SDV versions.\n",
      "  warnings.warn(\n"
     ]
    },
    {
     "name": "stdout",
     "output_type": "stream",
     "text": [
      "Synthesizer (SDV - SingleTable): Fitting  GaussianCopula spent 10.7583 sec.\n",
      "Synthesizer (SDV - SingleTable): Sampling GaussianCopula # 28558 rows (same as raw) in 1.775 sec.\n",
      "Now is Postprocessor with demo...\n",
      "Now is Reporter with save_data...\n",
      "Now is User Story D-2_Loader[default]_Preprocessor[demo]_Synthesizer[sdv-gaussian]_Postprocessor[demo] save to csv...\n",
      "Now is Loader with adult...\n",
      "Loader - Benchmarker: file benchmark\\adult_uci.csv already exist and match SHA-256.\n",
      "                      PETsARD will ignore download and use local data directly.\n",
      "Now is Preprocessor with demo...\n",
      "Now is Synthesizer with sdv-gaussian...\n",
      "Synthesizer (SDV - SingleTable): Metafile loading time: 0.0352 sec.\n",
      "Synthesizer (SDV - SingleTable): Fitting GaussianCopula.\n"
     ]
    },
    {
     "name": "stderr",
     "output_type": "stream",
     "text": [
      "d:\\Dropbox\\89_other_application\\GitHub\\PETsARD\\.venv\\lib\\site-packages\\sdv\\single_table\\base.py:79: UserWarning: We strongly recommend saving the metadata using 'save_to_json' for replicability in future SDV versions.\n",
      "  warnings.warn(\n"
     ]
    },
    {
     "name": "stdout",
     "output_type": "stream",
     "text": [
      "Synthesizer (SDV - SingleTable): Fitting  GaussianCopula spent 6.7353 sec.\n",
      "Synthesizer (SDV - SingleTable): Sampling GaussianCopula # 18997 rows (same as raw) in 1.2054 sec.\n",
      "Now is Postprocessor with demo...\n",
      "Now is Reporter with save_data...\n",
      "Now is User Story D-2_Loader[adult]_Preprocessor[demo]_Synthesizer[sdv-gaussian]_Postprocessor[demo] save to csv...\n",
      "\n",
      "\n",
      "Here's the result...\n",
      "\n",
      "{'Loader[default]_Preprocessor[demo]_Synthesizer[sdv-gaussian]_Postprocessor[demo]_Reporter[save_data]': {'Loader[default]_Preprocessor[demo]_Synthesizer[sdv-gaussian]_Postprocessor[demo]':              age  workclass         fnlwgt     education  educational-num  \\\n",
      "0      53.034322    Private  295530.480319     Bachelors        15.119559   \n",
      "1      21.419505    Private  224816.718640       HS-grad        11.119809   \n",
      "2      24.263561    Private  367977.906073       HS-grad         7.586702   \n",
      "3      47.628559    Private  179975.294493  Some-college         9.868676   \n",
      "4      26.260571    Private   73542.533176    Assoc-acdm        12.336497   \n",
      "...          ...        ...            ...           ...              ...   \n",
      "28553  36.485062    Private   73050.856197       Masters         8.482407   \n",
      "28554  73.308501    Private  166157.028775     Bachelors        10.435404   \n",
      "28555  32.525780    Private   29328.597495  Some-college        13.246992   \n",
      "28556  41.366038  State-gov  289948.313820       HS-grad         9.200884   \n",
      "28557  37.182101    Private  131924.538591    Assoc-acdm        13.552485   \n",
      "\n",
      "           marital-status         occupation   relationship   race  gender  \\\n",
      "0      Married-civ-spouse      Other-service        Husband  White    Male   \n",
      "1      Married-civ-spouse   Transport-moving  Not-in-family  White    Male   \n",
      "2           Never-married     Prof-specialty      Own-child  White  Female   \n",
      "3      Married-civ-spouse  Machine-op-inspct        Husband  White    Male   \n",
      "4                 Widowed     Prof-specialty      Own-child  White    Male   \n",
      "...                   ...                ...            ...    ...     ...   \n",
      "28553           Separated     Prof-specialty  Not-in-family  White  Female   \n",
      "28554  Married-civ-spouse      Other-service  Not-in-family  White  Female   \n",
      "28555       Never-married      Other-service  Not-in-family  White  Female   \n",
      "28556       Never-married    Exec-managerial        Husband  White    Male   \n",
      "28557  Married-civ-spouse    Exec-managerial        Husband  White    Male   \n",
      "\n",
      "       capital-gain  capital-loss  hours-per-week native-country income  \n",
      "0               0.0           0.0       41.571570  United-States  <=50K  \n",
      "1               0.0           0.0       37.809607  United-States   >50K  \n",
      "2               0.0           0.0       40.409045  United-States  <=50K  \n",
      "3               0.0           0.0       38.820368  United-States  <=50K  \n",
      "4               0.0           0.0       46.942657  United-States  <=50K  \n",
      "...             ...           ...             ...            ...    ...  \n",
      "28553           0.0           0.0       50.293794  United-States  <=50K  \n",
      "28554           0.0           0.0       51.126269  United-States  <=50K  \n",
      "28555           0.0           0.0       36.720241  United-States  <=50K  \n",
      "28556           0.0           0.0       47.073017  United-States  <=50K  \n",
      "28557           0.0           0.0       33.971067  United-States   >50K  \n",
      "\n",
      "[28558 rows x 15 columns]},\n",
      " 'Loader[adult]_Preprocessor[demo]_Synthesizer[sdv-gaussian]_Postprocessor[demo]_Reporter[save_data]': {'Loader[adult]_Preprocessor[demo]_Synthesizer[sdv-gaussian]_Postprocessor[demo]':              age     workclass         fnlwgt      education  education-num  \\\n",
      "0      60.040644       Private  122647.412677   Some-college      14.906296   \n",
      "1      39.607365       Private  111522.651841   Some-college       9.862254   \n",
      "2      33.629282       Private   58291.271183        HS-grad       7.328319   \n",
      "3      33.618671       Private  192795.074462        HS-grad      10.471937   \n",
      "4      45.807456   Federal-gov  201975.415916           10th      11.178325   \n",
      "...          ...           ...            ...            ...            ...   \n",
      "18992  38.010062   Federal-gov  184373.600211      Bachelors      10.737964   \n",
      "18993  22.740695       Private  304883.216568        HS-grad       5.446983   \n",
      "18994  31.329499   Federal-gov  339795.145106      Bachelors      11.800025   \n",
      "18995  30.728418       Private  210217.560767      Assoc-voc       6.477919   \n",
      "18996  59.716161   Federal-gov   59533.873488   Some-college       9.029274   \n",
      "\n",
      "            marital-status        occupation    relationship    race      sex  \\\n",
      "0       Married-civ-spouse      Adm-clerical         Husband   White     Male   \n",
      "1            Never-married   Protective-serv   Not-in-family   White   Female   \n",
      "2                 Divorced      Craft-repair       Unmarried   White   Female   \n",
      "3       Married-civ-spouse             Sales         Husband   White     Male   \n",
      "4                 Divorced   Exec-managerial   Not-in-family   Black   Female   \n",
      "...                    ...               ...             ...     ...      ...   \n",
      "18992   Married-civ-spouse   Farming-fishing         Husband   White     Male   \n",
      "18993   Married-civ-spouse   Protective-serv   Not-in-family   White     Male   \n",
      "18994   Married-civ-spouse     Other-service         Husband   White   Female   \n",
      "18995   Married-civ-spouse     Other-service   Not-in-family   White     Male   \n",
      "18996        Never-married     Other-service         Husband   White   Female   \n",
      "\n",
      "       capital-gain  capital-loss  hours-per-week  native-country  income  \n",
      "0               0.0           0.0       42.575927   United-States   <=50K  \n",
      "1               0.0           0.0       40.798397   United-States   <=50K  \n",
      "2               0.0           0.0       41.089089   United-States   <=50K  \n",
      "3               0.0           0.0       40.677601   United-States   <=50K  \n",
      "4               0.0           0.0       39.902355   United-States   <=50K  \n",
      "...             ...           ...             ...             ...     ...  \n",
      "18992           0.0           0.0       52.000000   United-States   <=50K  \n",
      "18993           0.0           0.0       46.492110     Philippines   <=50K  \n",
      "18994           0.0           0.0       36.883094   United-States   <=50K  \n",
      "18995           0.0           0.0       41.684334               ?   <=50K  \n",
      "18996           0.0           0.0       45.357391   United-States   <=50K  \n",
      "\n",
      "[18997 rows x 15 columns]}}\n"
     ]
    }
   ],
   "source": [
    "config_file = '../yaml/User Story D-2.yaml'\n",
    "\n",
    "Demo_UserStory(config_file = config_file)"
   ]
  },
  {
   "cell_type": "markdown",
   "metadata": {},
   "source": [
    "---\n",
    "\n",
    "## User Story D-3\n",
    "**Synthesizing and Evaluating on default data**\n",
    "\n",
    "Following User Story D-1, if users enable the evaluation step,  the evaluation module will create a report covering default privacy risk and utility metrics for all datasets.\n",
    "\n",
    "根據用戶故事 D-1，如果使用者啟用評估步驟，評估模組將會產生一份涵蓋所有資料集的隱私風險與效用指標報告。"
   ]
  },
  {
   "cell_type": "code",
   "execution_count": 5,
   "metadata": {},
   "outputs": [
    {
     "name": "stdout",
     "output_type": "stream",
     "text": [
      "YAML file user_story/User Story D-3.yaml is ...\n",
      "\n",
      "{'Loader': {'demo': {'method': 'default'}},\n",
      " 'Preprocessor': {'demo': {'method': 'default'}},\n",
      " 'Synthesizer': {'sdv-gaussian': {'method': 'sdv-single_table-gaussiancopula'}},\n",
      " 'Postprocessor': {'demo': {'method': 'default'}},\n",
      " 'Evaluator': {'demo': {'method': 'default'}},\n",
      " 'Reporter': {'save_data': {'method': 'save_data',\n",
      "                            'output': 'User Story D-3',\n",
      "                            'source': 'Postprocessor'},\n",
      "              'save_report_global': {'method': 'save_report',\n",
      "                                     'output': 'User Story D-3',\n",
      "                                     'eval': 'demo',\n",
      "                                     'granularity': 'global'}}}\n",
      "\n",
      "\n",
      "Here's the execution...\n",
      "\n",
      "Now is Loader with demo...\n",
      "Loader - Benchmarker: file benchmark\\adult-income.csv already exist and match SHA-256.\n",
      "                      PETsARD will ignore download and use local data directly.\n",
      "Now is Preprocessor with demo...\n",
      "Now is Synthesizer with sdv-gaussian...\n",
      "Synthesizer (SDV - SingleTable): Metafile loading time: 0.0411 sec.\n",
      "Synthesizer (SDV - SingleTable): Fitting GaussianCopula.\n"
     ]
    },
    {
     "name": "stderr",
     "output_type": "stream",
     "text": [
      "d:\\Dropbox\\89_other_application\\GitHub\\PETsARD\\.venv\\lib\\site-packages\\sdv\\single_table\\base.py:79: UserWarning: We strongly recommend saving the metadata using 'save_to_json' for replicability in future SDV versions.\n",
      "  warnings.warn(\n"
     ]
    },
    {
     "name": "stdout",
     "output_type": "stream",
     "text": [
      "Synthesizer (SDV - SingleTable): Fitting  GaussianCopula spent 12.5061 sec.\n",
      "Synthesizer (SDV - SingleTable): Sampling GaussianCopula # 28558 rows (same as raw) in 1.7105 sec.\n",
      "Now is Postprocessor with demo...\n",
      "Now is Evaluator with demo...\n",
      "Generating report ...\n",
      "(1/2) Evaluating Column Shapes: : 100%|██████████| 15/15 [00:00<00:00, 67.31it/s]\n",
      "(2/2) Evaluating Column Pair Trends: : 100%|██████████| 105/105 [00:06<00:00, 16.14it/s]\n",
      "\n",
      "Overall Score: 77.55%\n",
      "\n",
      "Properties:\n",
      "- Column Shapes: 94.5%\n",
      "- Column Pair Trends: 60.6%\n",
      "Now is Reporter with save_data...\n",
      "Now is User Story D-3_Loader[demo]_Preprocessor[demo]_Synthesizer[sdv-gaussian]_Postprocessor[demo] save to csv...\n",
      "Now is Reporter with save_report_global...\n",
      "Now is User Story D-3[Report]_demo_[global] save to csv...\n",
      "\n",
      "\n",
      "Here's the result...\n",
      "\n",
      "{'Loader[demo]_Preprocessor[demo]_Synthesizer[sdv-gaussian]_Postprocessor[demo]_Evaluator[demo]_Reporter[save_data]': {'Loader[demo]_Preprocessor[demo]_Synthesizer[sdv-gaussian]_Postprocessor[demo]':              age  workclass         fnlwgt     education  educational-num  \\\n",
      "0      43.386704  Local-gov  192533.360729     Bachelors         9.156316   \n",
      "1      28.575108    Private  139199.399838       HS-grad         7.982572   \n",
      "2      57.947633    Private  233715.508572       HS-grad        10.709445   \n",
      "3      37.007122    Private  210188.029668  Some-college         7.917311   \n",
      "4      39.757555  Local-gov   72362.032916     Assoc-voc        13.435617   \n",
      "...          ...        ...            ...           ...              ...   \n",
      "28553  35.372508    Private  110972.393987     Assoc-voc        15.392179   \n",
      "28554  39.686900    Private   96436.025573       HS-grad        10.919906   \n",
      "28555  21.122456    Private  146233.020130       Masters        10.926538   \n",
      "28556  53.458217    Private  360206.789490       Masters         9.278047   \n",
      "28557  51.166191          ?  175954.029280       HS-grad        11.294299   \n",
      "\n",
      "           marital-status        occupation    relationship   race  gender  \\\n",
      "0      Married-civ-spouse    Prof-specialty         Husband  White    Male   \n",
      "1      Married-civ-spouse                 ?       Own-child  White  Female   \n",
      "2                Divorced   Farming-fishing       Own-child  White  Female   \n",
      "3      Married-civ-spouse      Adm-clerical         Husband  White    Male   \n",
      "4      Married-civ-spouse   Exec-managerial       Unmarried  Black  Female   \n",
      "...                   ...               ...             ...    ...     ...   \n",
      "28553  Married-civ-spouse      Adm-clerical       Unmarried  White    Male   \n",
      "28554       Never-married    Prof-specialty         Husband  White    Male   \n",
      "28555       Never-married      Craft-repair  Other-relative  White    Male   \n",
      "28556  Married-civ-spouse  Transport-moving         Husband  White    Male   \n",
      "28557  Married-civ-spouse      Craft-repair   Not-in-family  White    Male   \n",
      "\n",
      "       capital-gain  capital-loss  hours-per-week native-country income  \n",
      "0               0.0           0.0       42.283913  United-States   >50K  \n",
      "1               0.0           0.0       39.828116  United-States   >50K  \n",
      "2               0.0           0.0       33.507846  United-States  <=50K  \n",
      "3               0.0           0.0       44.999306  United-States  <=50K  \n",
      "4               0.0           0.0       39.355935          South  <=50K  \n",
      "...             ...           ...             ...            ...    ...  \n",
      "28553           0.0           0.0       36.297197  United-States  <=50K  \n",
      "28554           0.0           0.0       34.344462  United-States  <=50K  \n",
      "28555           0.0           0.0       46.176808       Portugal   >50K  \n",
      "28556           0.0           0.0       34.979886  United-States  <=50K  \n",
      "28557           0.0           0.0       51.575960  United-States   >50K  \n",
      "\n",
      "[28558 rows x 15 columns]},\n",
      " 'Loader[demo]_Preprocessor[demo]_Synthesizer[sdv-gaussian]_Postprocessor[demo]_Evaluator[demo]_Reporter[save_report_global]': {'demo_[global]':                                            full_expt_name     Score  \\\n",
      "result  Loader[demo]_Preprocessor[demo]_Synthesizer[sd...  0.775485   \n",
      "\n",
      "        Column Shapes  Column Pair Trends  \n",
      "result       0.944991            0.605978  }}\n"
     ]
    }
   ],
   "source": [
    "config_file = '../yaml/User Story D-3.yaml'\n",
    "\n",
    "Demo_UserStory(config_file = config_file)"
   ]
  }
 ],
 "metadata": {
  "kernelspec": {
   "display_name": ".venv",
   "language": "python",
   "name": "python3"
  },
  "language_info": {
   "codemirror_mode": {
    "name": "ipython",
    "version": 3
   },
   "file_extension": ".py",
   "mimetype": "text/x-python",
   "name": "python",
   "nbconvert_exporter": "python",
   "pygments_lexer": "ipython3",
   "version": "3.10.11"
  }
 },
 "nbformat": 4,
 "nbformat_minor": 2
}
