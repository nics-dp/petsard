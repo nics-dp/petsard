{
 "cells": [
  {
   "cell_type": "markdown",
   "metadata": {},
   "source": [
    "## User Story D\n",
    "**Research on Benchmark datasets**\n",
    "\n",
    "\n",
    "This demo will show how to use `PETsARD`'s benchmark datasets to evaluate synthetic algorithms.\n",
    "\n",
    "In this demonstration, as an advanced user with a basic understanding of different differential privacy/synthetic data technologies and their corresponding evaluation metrics, you aim to assess the differences between technologies and other academic and practical issues.\n",
    "\n",
    "PETsARD provides a complete platform that, by integrating commonly used benchmark datasets in academics, competitions, or practical applications, allows for easy setup of different benchmark datasets, execution on various synthetic algorithms, and execution of different evaluation combinations. This enables you to easily obtain comprehensive data support, focusing on your academic or development work.\n",
    "\n",
    "本示範將展示如何使用 `PETsARD` 的基準資料集來評估合成演算法。\n",
    "\n",
    "在這個示範中，您作為進階的使用者，對於不同的差分隱私/合成資料技術、以及對應的評測指標有初步理解，希望評估技術彼此之間的差異等學術與實務議題。\n",
    "\n",
    "而 `PETsARD` 將提供你完整的平台，藉由預先整合好的，在學術、比賽或實務上常用的基準資料集， `PETsARD` 能輕鬆設定不同基準資料集、執行在不同合成演算法上、並執行不同評測的實驗組合，讓您能輕鬆獲得綜合性資料的支持，專注在您的學術或開發工作上。"
   ]
  },
  {
   "cell_type": "markdown",
   "metadata": {},
   "source": [
    "---\n",
    "\n",
    "## Environment"
   ]
  },
  {
   "cell_type": "code",
   "execution_count": 1,
   "metadata": {},
   "outputs": [
    {
     "name": "stdout",
     "output_type": "stream",
     "text": [
      "d:\\Dropbox\\89_other_application\\GitHub\\PETsARD\n"
     ]
    }
   ],
   "source": [
    "import os\n",
    "import pprint\n",
    "import sys\n",
    "\n",
    "import yaml\n",
    "\n",
    "\n",
    "# Setting up the path to the PETsARD package\n",
    "path_petsard = os.path.dirname(os.getcwd())\n",
    "print(path_petsard)\n",
    "sys.path.append(path_petsard)\n",
    "# setting for pretty priny YAML\n",
    "pp = pprint.PrettyPrinter(depth=3, sort_dicts=False)\n",
    "\n",
    "\n",
    "from PETsARD import Executor"
   ]
  },
  {
   "cell_type": "markdown",
   "metadata": {},
   "source": [
    "---\n",
    "\n",
    "## User Story D-1\n",
    "**Synthesizing on default data**\n",
    "\n",
    "With a specified data generation algorithm, a default benchmark dataset collection will serve as inputs, and the pipeline will generate the corresponding privacy enhanced datasets as output, using the selected algorithm.\n",
    "\n",
    "指定資料生成演算法後，預設的經典資料集會用作輸入，並且該流程將使用該演算法輸出對應的隱私強化資料集。"
   ]
  },
  {
   "cell_type": "code",
   "execution_count": 2,
   "metadata": {},
   "outputs": [
    {
     "name": "stdout",
     "output_type": "stream",
     "text": [
      "{'Loader': {'demo': {'method': 'default'}},\n",
      " 'Preprocessor': {'demo': {'method': 'default'}},\n",
      " 'Synthesizer': {'sdv-gaussian': {'method': 'sdv-single_table-gaussiancopula'}},\n",
      " 'Postprocessor': {'demo': {'method': 'default'}},\n",
      " 'Reporter': {'save_data': {'method': 'save_data',\n",
      "                            'output': 'User Story D-1',\n",
      "                            'source': 'Postprocessor'}}}\n"
     ]
    }
   ],
   "source": [
    "config_file = '../yaml/User Story D-1.yaml'\n",
    "\n",
    "with open(config_file, 'r') as yaml_file:\n",
    "    yaml_raw: dict = yaml.safe_load(yaml_file)\n",
    "pp.pprint(yaml_raw)"
   ]
  },
  {
   "cell_type": "code",
   "execution_count": 3,
   "metadata": {},
   "outputs": [
    {
     "name": "stdout",
     "output_type": "stream",
     "text": [
      "Now is Loader with demo...\n",
      "Loader - Benchmarker: file benchmark\\adult-income.csv already exist and match SHA-256.\n",
      "                      PETsARD will ignore download and use local data directly.\n",
      "Now is Preprocessor with demo...\n",
      "Now is Synthesizer with sdv-gaussian...\n",
      "Synthesizer (SDV - SingleTable): Metafile loading time: 0.0668 sec.\n",
      "Synthesizer (SDV - SingleTable): Fitting GaussianCopula.\n"
     ]
    },
    {
     "name": "stderr",
     "output_type": "stream",
     "text": [
      "d:\\Dropbox\\89_other_application\\GitHub\\PETsARD\\.venv\\lib\\site-packages\\sdv\\single_table\\base.py:79: UserWarning: We strongly recommend saving the metadata using 'save_to_json' for replicability in future SDV versions.\n",
      "  warnings.warn(\n"
     ]
    },
    {
     "name": "stdout",
     "output_type": "stream",
     "text": [
      "Synthesizer (SDV - SingleTable): Fitting  GaussianCopula spent 10.3226 sec.\n",
      "Synthesizer (SDV - SingleTable): Sampling GaussianCopula # 28558 rows (same as raw) in 2.0695 sec.\n",
      "Now is Postprocessor with demo...\n",
      "Now is Reporter with save_data...\n",
      "Now is User Story D-1_Loader[demo]_Preprocessor[demo]_Synthesizer[sdv-gaussian]_Postprocessor[demo] save to csv...\n"
     ]
    }
   ],
   "source": [
    "exec = Executor(config=config_file)\n",
    "exec.run()"
   ]
  },
  {
   "cell_type": "code",
   "execution_count": 4,
   "metadata": {},
   "outputs": [
    {
     "name": "stdout",
     "output_type": "stream",
     "text": [
      "{'Loader[demo]_Preprocessor[demo]_Synthesizer[sdv-gaussian]_Postprocessor[demo]_Reporter[save_data]': {'Loader[demo]_Preprocessor[demo]_Synthesizer[sdv-gaussian]_Postprocessor[demo]':              age  workclass         fnlwgt     education  educational-num  \\\n",
      "0      41.300239  Local-gov  260041.632035     Bachelors         9.357748   \n",
      "1      38.307939    Private  300656.664397       HS-grad         7.804312   \n",
      "2      35.926336    Private  370704.146330     Bachelors        11.474106   \n",
      "3      36.448291    Private  139757.197871  Some-college         7.847397   \n",
      "4      21.507367    Private   98790.880130          11th        14.081383   \n",
      "...          ...        ...            ...           ...              ...   \n",
      "28553  31.414335    Private   53695.309925     Bachelors        14.792524   \n",
      "28554  42.516247    Private   76986.361495       HS-grad        11.159744   \n",
      "28555  35.612312    Private   61447.883304  Some-college        10.527065   \n",
      "28556  44.798094    Private  269301.558394       Masters         9.599167   \n",
      "28557  39.129710    Private  240009.142696  Some-college        11.456702   \n",
      "\n",
      "           marital-status        occupation   relationship   race  gender  \\\n",
      "0      Married-civ-spouse    Prof-specialty  Not-in-family  White    Male   \n",
      "1           Never-married    Prof-specialty        Husband  Black    Male   \n",
      "2                Divorced  Transport-moving  Not-in-family  White  Female   \n",
      "3      Married-civ-spouse                 ?  Not-in-family  White    Male   \n",
      "4               Separated    Prof-specialty      Own-child  White    Male   \n",
      "...                   ...               ...            ...    ...     ...   \n",
      "28553            Divorced     Other-service        Husband  White  Female   \n",
      "28554  Married-civ-spouse    Prof-specialty  Not-in-family  White  Female   \n",
      "28555            Divorced    Prof-specialty  Not-in-family  White  Female   \n",
      "28556  Married-civ-spouse     Other-service        Husband  White    Male   \n",
      "28557       Never-married    Prof-specialty        Husband  White    Male   \n",
      "\n",
      "       capital-gain  capital-loss  hours-per-week native-country income  \n",
      "0               0.0           0.0       41.887709  United-States   >50K  \n",
      "1               0.0           0.0       41.852185  United-States  <=50K  \n",
      "2               0.0           0.0       34.046313  United-States  <=50K  \n",
      "3               0.0           0.0       42.610805  United-States  <=50K  \n",
      "4               0.0           0.0       42.114592  United-States  <=50K  \n",
      "...             ...           ...             ...            ...    ...  \n",
      "28553           0.0           0.0       35.746910  United-States  <=50K  \n",
      "28554           0.0           0.0       33.789446  United-States   >50K  \n",
      "28555           0.0           0.0       49.219806  United-States  <=50K  \n",
      "28556           0.0           0.0       36.387668  United-States  <=50K  \n",
      "28557           0.0           0.0       51.753505  United-States   >50K  \n",
      "\n",
      "[28558 rows x 15 columns]}}\n"
     ]
    }
   ],
   "source": [
    "pp.pprint(exec.get_result())"
   ]
  },
  {
   "cell_type": "markdown",
   "metadata": {},
   "source": [
    "---\n",
    "\n",
    "## User Story D-2\n",
    "**Synthesizing on multiple data**\n",
    "\n",
    "Following User Story D-1, the user can specify a list of datasets instead.\n",
    "\n",
    "根據用戶故事 D-1，使用者可以改為指定一個資料集列表。"
   ]
  },
  {
   "cell_type": "code",
   "execution_count": 5,
   "metadata": {},
   "outputs": [
    {
     "name": "stdout",
     "output_type": "stream",
     "text": [
      "{'Loader': {'default': {'method': 'default'},\n",
      "            'adult': {'filepath': 'benchmark://adult', 'na_values': {...}}},\n",
      " 'Preprocessor': {'demo': {'method': 'default'}},\n",
      " 'Synthesizer': {'sdv-gaussian': {'method': 'sdv-single_table-gaussiancopula'}},\n",
      " 'Postprocessor': {'demo': {'method': 'default'}},\n",
      " 'Reporter': {'save_data': {'method': 'save_data',\n",
      "                            'output': 'User Story D-2',\n",
      "                            'source': 'Postprocessor'}}}\n"
     ]
    }
   ],
   "source": [
    "config_file = '../yaml/User Story D-2.yaml'\n",
    "\n",
    "with open(config_file, 'r') as yaml_file:\n",
    "    yaml_raw: dict = yaml.safe_load(yaml_file)\n",
    "pp.pprint(yaml_raw)"
   ]
  },
  {
   "cell_type": "code",
   "execution_count": 6,
   "metadata": {},
   "outputs": [
    {
     "name": "stdout",
     "output_type": "stream",
     "text": [
      "Now is Loader with default...\n",
      "Loader - Benchmarker: file benchmark\\adult-income.csv already exist and match SHA-256.\n",
      "                      PETsARD will ignore download and use local data directly.\n"
     ]
    },
    {
     "name": "stdout",
     "output_type": "stream",
     "text": [
      "Now is Preprocessor with demo...\n",
      "Now is Synthesizer with sdv-gaussian...\n",
      "Synthesizer (SDV - SingleTable): Metafile loading time: 0.0354 sec.\n",
      "Synthesizer (SDV - SingleTable): Fitting GaussianCopula.\n"
     ]
    },
    {
     "name": "stderr",
     "output_type": "stream",
     "text": [
      "d:\\Dropbox\\89_other_application\\GitHub\\PETsARD\\.venv\\lib\\site-packages\\sdv\\single_table\\base.py:79: UserWarning: We strongly recommend saving the metadata using 'save_to_json' for replicability in future SDV versions.\n",
      "  warnings.warn(\n"
     ]
    },
    {
     "name": "stdout",
     "output_type": "stream",
     "text": [
      "Synthesizer (SDV - SingleTable): Fitting  GaussianCopula spent 12.8732 sec.\n",
      "Synthesizer (SDV - SingleTable): Sampling GaussianCopula # 28558 rows (same as raw) in 2.0057 sec.\n",
      "Now is Postprocessor with demo...\n",
      "Now is Reporter with save_data...\n",
      "Now is User Story D-2_Loader[default]_Preprocessor[demo]_Synthesizer[sdv-gaussian]_Postprocessor[demo] save to csv...\n",
      "Now is Loader with adult...\n",
      "Loader - Benchmarker: file benchmark\\adult_uci.csv already exist and match SHA-256.\n",
      "                      PETsARD will ignore download and use local data directly.\n",
      "Now is Preprocessor with demo...\n",
      "Now is Synthesizer with sdv-gaussian...\n",
      "Synthesizer (SDV - SingleTable): Metafile loading time: 0.0675 sec.\n",
      "Synthesizer (SDV - SingleTable): Fitting GaussianCopula.\n"
     ]
    },
    {
     "name": "stderr",
     "output_type": "stream",
     "text": [
      "d:\\Dropbox\\89_other_application\\GitHub\\PETsARD\\.venv\\lib\\site-packages\\sdv\\single_table\\base.py:79: UserWarning: We strongly recommend saving the metadata using 'save_to_json' for replicability in future SDV versions.\n",
      "  warnings.warn(\n"
     ]
    },
    {
     "name": "stdout",
     "output_type": "stream",
     "text": [
      "Synthesizer (SDV - SingleTable): Fitting  GaussianCopula spent 7.4971 sec.\n",
      "Synthesizer (SDV - SingleTable): Sampling GaussianCopula # 18997 rows (same as raw) in 1.2266 sec.\n",
      "Now is Postprocessor with demo...\n",
      "Now is Reporter with save_data...\n",
      "Now is User Story D-2_Loader[adult]_Preprocessor[demo]_Synthesizer[sdv-gaussian]_Postprocessor[demo] save to csv...\n"
     ]
    }
   ],
   "source": [
    "exec = Executor(config=config_file)\n",
    "exec.run()"
   ]
  },
  {
   "cell_type": "code",
   "execution_count": 7,
   "metadata": {},
   "outputs": [
    {
     "name": "stdout",
     "output_type": "stream",
     "text": [
      "{'Loader[default]_Preprocessor[demo]_Synthesizer[sdv-gaussian]_Postprocessor[demo]_Reporter[save_data]': {'Loader[default]_Preprocessor[demo]_Synthesizer[sdv-gaussian]_Postprocessor[demo]':              age workclass         fnlwgt     education  educational-num  \\\n",
      "0      52.657660   Private  235761.599869       HS-grad        14.969192   \n",
      "1      27.596470   Private  221023.517485       HS-grad        11.026189   \n",
      "2      30.045651   Private  304731.381011  Some-college         7.305732   \n",
      "3      44.118947   Private  152724.650856  Some-college         9.770654   \n",
      "4      23.482847   Private  174168.801863          10th        13.395511   \n",
      "...          ...       ...            ...           ...              ...   \n",
      "28553  45.494394   Private  120104.363513          10th         8.645080   \n",
      "28554  63.001282   Private  147910.770055       HS-grad        10.886884   \n",
      "28555  23.537015   Private  105019.024470  Some-college        13.960612   \n",
      "28556  42.967905   Private  381918.934221  Some-college         9.175154   \n",
      "28557  31.626500   Private  149845.361809     Bachelors        14.480145   \n",
      "\n",
      "           marital-status         occupation relationship                race  \\\n",
      "0           Never-married    Exec-managerial      Husband               White   \n",
      "1      Married-civ-spouse                  ?    Own-child               White   \n",
      "2           Never-married       Adm-clerical    Unmarried               White   \n",
      "3           Never-married                  ?      Husband               White   \n",
      "4      Married-civ-spouse     Prof-specialty    Unmarried               White   \n",
      "...                   ...                ...          ...                 ...   \n",
      "28553       Never-married       Craft-repair         Wife               White   \n",
      "28554            Divorced     Prof-specialty      Husband               White   \n",
      "28555       Never-married    Exec-managerial         Wife  Asian-Pac-Islander   \n",
      "28556  Married-civ-spouse  Handlers-cleaners      Husband               White   \n",
      "28557  Married-civ-spouse     Prof-specialty      Husband               White   \n",
      "\n",
      "       gender  capital-gain  capital-loss  hours-per-week      native-country  \\\n",
      "0        Male           0.0           0.0       40.371430       United-States   \n",
      "1        Male           0.0           0.0       38.593347       United-States   \n",
      "2      Female           0.0           0.0       40.432697       United-States   \n",
      "3        Male           0.0           0.0       39.165517       United-States   \n",
      "4      Female           0.0           0.0       47.921413       United-States   \n",
      "...       ...           ...           ...             ...                 ...   \n",
      "28553    Male           0.0           0.0       50.029634       United-States   \n",
      "28554    Male           0.0           0.0       48.773691       United-States   \n",
      "28555    Male           0.0           0.0       35.241466  Dominican-Republic   \n",
      "28556    Male           0.0           0.0       46.608392       United-States   \n",
      "28557    Male           0.0           0.0       34.176788       United-States   \n",
      "\n",
      "      income  \n",
      "0      <=50K  \n",
      "1      <=50K  \n",
      "2       >50K  \n",
      "3      <=50K  \n",
      "4      <=50K  \n",
      "...      ...  \n",
      "28553  <=50K  \n",
      "28554  <=50K  \n",
      "28555  <=50K  \n",
      "28556   >50K  \n",
      "28557  <=50K  \n",
      "\n",
      "[28558 rows x 15 columns]},\n",
      " 'Loader[adult]_Preprocessor[demo]_Synthesizer[sdv-gaussian]_Postprocessor[demo]_Reporter[save_data]': {'Loader[adult]_Preprocessor[demo]_Synthesizer[sdv-gaussian]_Postprocessor[demo]':              age          workclass         fnlwgt    education  \\\n",
      "0      43.021315   Self-emp-not-inc   76514.446194   Assoc-acdm   \n",
      "1      21.169145            Private   77627.973721      HS-grad   \n",
      "2      33.659886   Self-emp-not-inc   44998.353082      HS-grad   \n",
      "3      42.248357            Private  188802.757091    Bachelors   \n",
      "4      52.575674          State-gov  297834.397519    Bachelors   \n",
      "...          ...                ...            ...          ...   \n",
      "18992  64.364146            Private  267980.693456      HS-grad   \n",
      "18993  19.308448            Private  274232.672335      HS-grad   \n",
      "18994  49.057818          Local-gov  400844.703425    Bachelors   \n",
      "18995  41.487856            Private  277879.641922      HS-grad   \n",
      "18996  56.789740                  ?   80337.221228      HS-grad   \n",
      "\n",
      "       education-num       marital-status        occupation    relationship  \\\n",
      "0           9.307027   Married-civ-spouse    Prof-specialty   Not-in-family   \n",
      "1           8.802709   Married-civ-spouse      Craft-repair         Husband   \n",
      "2          11.566713             Divorced      Tech-support       Own-child   \n",
      "3           7.654945   Married-civ-spouse     Other-service   Not-in-family   \n",
      "4          12.489473             Divorced   Exec-managerial   Not-in-family   \n",
      "...              ...                  ...               ...             ...   \n",
      "18992       9.222944   Married-civ-spouse      Adm-clerical         Husband   \n",
      "18993       5.630649   Married-civ-spouse   Protective-serv   Not-in-family   \n",
      "18994       8.880565   Married-civ-spouse      Adm-clerical         Husband   \n",
      "18995      10.303942   Married-civ-spouse     Other-service         Husband   \n",
      "18996      11.372739   Married-civ-spouse             Sales         Husband   \n",
      "\n",
      "         race      sex  capital-gain  capital-loss  hours-per-week  \\\n",
      "0       White     Male           0.0           0.0       44.808680   \n",
      "1       Black     Male           0.0           0.0       39.965557   \n",
      "2       White   Female           0.0           0.0       41.030041   \n",
      "3       White     Male           0.0           0.0       41.671795   \n",
      "4       Black   Female           0.0           0.0       39.514911   \n",
      "...       ...      ...           ...           ...             ...   \n",
      "18992   White   Female           0.0           0.0       45.734035   \n",
      "18993   Black     Male           0.0           0.0       42.314534   \n",
      "18994   White   Female           0.0           0.0       36.085770   \n",
      "18995   Black     Male           0.0           0.0       37.202365   \n",
      "18996   Other   Female           0.0           0.0       39.863117   \n",
      "\n",
      "       native-country  income  \n",
      "0       United-States   <=50K  \n",
      "1       United-States   <=50K  \n",
      "2       United-States   <=50K  \n",
      "3       United-States   <=50K  \n",
      "4       United-States   <=50K  \n",
      "...               ...     ...  \n",
      "18992   United-States    >50K  \n",
      "18993   United-States   <=50K  \n",
      "18994   United-States    >50K  \n",
      "18995   United-States   <=50K  \n",
      "18996   United-States    >50K  \n",
      "\n",
      "[18997 rows x 15 columns]}}\n"
     ]
    }
   ],
   "source": [
    "pp.pprint(exec.get_result())"
   ]
  },
  {
   "cell_type": "markdown",
   "metadata": {},
   "source": [
    "---\n",
    "\n",
    "## User Story D-3\n",
    "**Synthesizing and Evaluating on default data**\n",
    "\n",
    "Following User Story D-1, if users enable the evaluation step,  the evaluation module will create a report covering default privacy risk and utility metrics for all datasets.\n",
    "\n",
    "根據用戶故事 D-1，如果使用者啟用評估步驟，評估模組將會產生一份涵蓋所有資料集的隱私風險與效用指標報告。"
   ]
  },
  {
   "cell_type": "code",
   "execution_count": 8,
   "metadata": {},
   "outputs": [
    {
     "name": "stdout",
     "output_type": "stream",
     "text": [
      "{'Loader': {'demo': {'method': 'default'}},\n",
      " 'Preprocessor': {'demo': {'method': 'default'}},\n",
      " 'Synthesizer': {'sdv-gaussian': {'method': 'sdv-single_table-gaussiancopula'}},\n",
      " 'Postprocessor': {'demo': {'method': 'default'}},\n",
      " 'Evaluator': {'demo': {'method': 'default'}},\n",
      " 'Reporter': {'save_data': {'method': 'save_data',\n",
      "                            'output': 'User Story D-3',\n",
      "                            'source': 'Postprocessor'},\n",
      "              'save_report_global': {'method': 'save_report',\n",
      "                                     'output': 'User Story D-3',\n",
      "                                     'eval': 'demo',\n",
      "                                     'granularity': 'global'}}}\n"
     ]
    }
   ],
   "source": [
    "config_file = '../yaml/User Story D-3.yaml'\n",
    "\n",
    "with open(config_file, 'r') as yaml_file:\n",
    "    yaml_raw: dict = yaml.safe_load(yaml_file)\n",
    "pp.pprint(yaml_raw)"
   ]
  },
  {
   "cell_type": "code",
   "execution_count": 9,
   "metadata": {},
   "outputs": [
    {
     "name": "stdout",
     "output_type": "stream",
     "text": [
      "Now is Loader with demo...\n",
      "Loader - Benchmarker: file benchmark\\adult-income.csv already exist and match SHA-256.\n",
      "                      PETsARD will ignore download and use local data directly.\n",
      "Now is Preprocessor with demo...\n",
      "Now is Synthesizer with sdv-gaussian...\n",
      "Synthesizer (SDV - SingleTable): Metafile loading time: 0.0622 sec.\n",
      "Synthesizer (SDV - SingleTable): Fitting GaussianCopula.\n"
     ]
    },
    {
     "name": "stderr",
     "output_type": "stream",
     "text": [
      "d:\\Dropbox\\89_other_application\\GitHub\\PETsARD\\.venv\\lib\\site-packages\\sdv\\single_table\\base.py:79: UserWarning: We strongly recommend saving the metadata using 'save_to_json' for replicability in future SDV versions.\n",
      "  warnings.warn(\n"
     ]
    },
    {
     "name": "stdout",
     "output_type": "stream",
     "text": [
      "Synthesizer (SDV - SingleTable): Fitting  GaussianCopula spent 11.3317 sec.\n",
      "Synthesizer (SDV - SingleTable): Sampling GaussianCopula # 28558 rows (same as raw) in 2.1094 sec.\n",
      "Now is Postprocessor with demo...\n",
      "Now is Evaluator with demo...\n",
      "Generating report ...\n",
      "(1/2) Evaluating Column Shapes: : 100%|██████████| 15/15 [00:00<00:00, 70.47it/s]\n",
      "(2/2) Evaluating Column Pair Trends: : 100%|██████████| 105/105 [00:11<00:00,  9.44it/s]\n",
      "\n",
      "Overall Score: 77.49%\n",
      "\n",
      "Properties:\n",
      "- Column Shapes: 94.41%\n",
      "- Column Pair Trends: 60.58%\n",
      "Now is Reporter with save_data...\n",
      "Now is User Story D-3_Loader[demo]_Preprocessor[demo]_Synthesizer[sdv-gaussian]_Postprocessor[demo] save to csv...\n",
      "Now is Reporter with save_report_global...\n",
      "Now is User Story D-3[Report]_demo_[global] save to csv...\n"
     ]
    }
   ],
   "source": [
    "exec = Executor(config=config_file)\n",
    "exec.run()"
   ]
  },
  {
   "cell_type": "code",
   "execution_count": 10,
   "metadata": {},
   "outputs": [
    {
     "name": "stdout",
     "output_type": "stream",
     "text": [
      "{'Loader[demo]_Preprocessor[demo]_Synthesizer[sdv-gaussian]_Postprocessor[demo]_Evaluator[demo]_Reporter[save_data]': {'Loader[demo]_Preprocessor[demo]_Synthesizer[sdv-gaussian]_Postprocessor[demo]':              age         workclass         fnlwgt     education  \\\n",
      "0      41.887845           Private   74732.501369     Bachelors   \n",
      "1      41.879273           Private  130998.151124  Some-college   \n",
      "2      22.697555           Private   87530.503125  Some-college   \n",
      "3      35.820800           Private  145147.597971       HS-grad   \n",
      "4      33.255472           Private  380621.117785    Assoc-acdm   \n",
      "...          ...               ...            ...           ...   \n",
      "28553  37.672567  Self-emp-not-inc  297937.029849     Bachelors   \n",
      "28554  34.497576      Self-emp-inc  241131.708649          10th   \n",
      "28555  49.701021           Private  347759.329644       7th-8th   \n",
      "28556  30.407721           Private  149817.405338       HS-grad   \n",
      "28557  45.412698           Private  159729.941197   Prof-school   \n",
      "\n",
      "       educational-num      marital-status         occupation   relationship  \\\n",
      "0            15.133622       Never-married  Machine-op-inspct        Husband   \n",
      "1            10.567909       Never-married      Other-service  Not-in-family   \n",
      "2             7.828846       Never-married       Craft-repair      Unmarried   \n",
      "3            10.048509  Married-civ-spouse   Transport-moving        Husband   \n",
      "4            12.749196  Married-civ-spouse       Craft-repair      Unmarried   \n",
      "...                ...                 ...                ...            ...   \n",
      "28553         9.101361  Married-civ-spouse     Prof-specialty           Wife   \n",
      "28554        11.107518            Divorced       Tech-support        Husband   \n",
      "28555        12.469937            Divorced    Exec-managerial      Own-child   \n",
      "28556         9.943629  Married-civ-spouse    Exec-managerial        Husband   \n",
      "28557        13.436310  Married-civ-spouse    Exec-managerial        Husband   \n",
      "\n",
      "        race  gender  capital-gain  capital-loss  hours-per-week  \\\n",
      "0      White    Male           0.0           0.0       45.112906   \n",
      "1      White    Male           0.0           0.0       41.573605   \n",
      "2      White    Male           0.0           0.0       48.385915   \n",
      "3      White    Male           0.0           0.0       37.869242   \n",
      "4      White  Female           0.0           0.0       43.014721   \n",
      "...      ...     ...           ...           ...             ...   \n",
      "28553  White  Female           0.0           0.0       45.221252   \n",
      "28554  White    Male           0.0           0.0       51.108454   \n",
      "28555  White    Male           0.0           0.0       34.763029   \n",
      "28556  White    Male           0.0           0.0       51.299395   \n",
      "28557  White    Male           0.0           0.0       35.093004   \n",
      "\n",
      "      native-country income  \n",
      "0      United-States  <=50K  \n",
      "1      United-States  <=50K  \n",
      "2      United-States  <=50K  \n",
      "3      United-States  <=50K  \n",
      "4      United-States  <=50K  \n",
      "...              ...    ...  \n",
      "28553  United-States   >50K  \n",
      "28554  United-States   >50K  \n",
      "28555              ?  <=50K  \n",
      "28556           Cuba  <=50K  \n",
      "28557  United-States  <=50K  \n",
      "\n",
      "[28558 rows x 15 columns]},\n",
      " 'Loader[demo]_Preprocessor[demo]_Synthesizer[sdv-gaussian]_Postprocessor[demo]_Evaluator[demo]_Reporter[save_report_global]': {'demo_[global]':                                            full_expt_name     Score  \\\n",
      "result  Loader[demo]_Preprocessor[demo]_Synthesizer[sd...  0.774947   \n",
      "\n",
      "        Column Shapes  Column Pair Trends  \n",
      "result       0.944081            0.605814  }}\n"
     ]
    }
   ],
   "source": [
    "pp.pprint(exec.get_result())"
   ]
  }
 ],
 "metadata": {
  "kernelspec": {
   "display_name": ".venv",
   "language": "python",
   "name": "python3"
  },
  "language_info": {
   "codemirror_mode": {
    "name": "ipython",
    "version": 3
   },
   "file_extension": ".py",
   "mimetype": "text/x-python",
   "name": "python",
   "nbconvert_exporter": "python",
   "pygments_lexer": "ipython3",
   "version": "3.10.11"
  }
 },
 "nbformat": 4,
 "nbformat_minor": 2
}
