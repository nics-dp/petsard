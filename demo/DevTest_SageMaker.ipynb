{
 "cells": [
  {
   "cell_type": "code",
   "execution_count": 1,
   "metadata": {},
   "outputs": [
    {
     "name": "stdout",
     "output_type": "stream",
     "text": [
      "Ignoring appnope: markers 'python_version >= \"3.10\" and python_version < \"3.11\" and platform_system == \"Darwin\"' don't match your environment\n",
      "Ignoring cffi: markers 'python_version >= \"3.10\" and python_version < \"3.11\" and implementation_name == \"pypy\"' don't match your environment\n",
      "Ignoring nvidia-cublas-cu12: markers 'platform_system == \"Linux\" and platform_machine == \"x86_64\" and python_version >= \"3.10\" and python_version < \"3.11\"' don't match your environment\n",
      "Ignoring nvidia-cuda-cupti-cu12: markers 'platform_system == \"Linux\" and platform_machine == \"x86_64\" and python_version >= \"3.10\" and python_version < \"3.11\"' don't match your environment\n",
      "Ignoring nvidia-cuda-nvrtc-cu12: markers 'platform_system == \"Linux\" and platform_machine == \"x86_64\" and python_version >= \"3.10\" and python_version < \"3.11\"' don't match your environment\n",
      "Ignoring nvidia-cuda-runtime-cu12: markers 'platform_system == \"Linux\" and platform_machine == \"x86_64\" and python_version >= \"3.10\" and python_version < \"3.11\"' don't match your environment\n",
      "Ignoring nvidia-cudnn-cu12: markers 'platform_system == \"Linux\" and platform_machine == \"x86_64\" and python_version >= \"3.10\" and python_version < \"3.11\"' don't match your environment\n",
      "Ignoring nvidia-cufft-cu12: markers 'platform_system == \"Linux\" and platform_machine == \"x86_64\" and python_version >= \"3.10\" and python_version < \"3.11\"' don't match your environment\n",
      "Ignoring nvidia-curand-cu12: markers 'platform_system == \"Linux\" and platform_machine == \"x86_64\" and python_version >= \"3.10\" and python_version < \"3.11\"' don't match your environment\n",
      "Ignoring nvidia-cusolver-cu12: markers 'platform_system == \"Linux\" and platform_machine == \"x86_64\" and python_version >= \"3.10\" and python_version < \"3.11\"' don't match your environment\n",
      "Ignoring nvidia-cusparse-cu12: markers 'platform_system == \"Linux\" and platform_machine == \"x86_64\" and python_version >= \"3.10\" and python_version < \"3.11\"' don't match your environment\n",
      "Ignoring nvidia-nccl-cu12: markers 'platform_system == \"Linux\" and platform_machine == \"x86_64\" and python_version >= \"3.10\" and python_version < \"3.11\"' don't match your environment\n",
      "Ignoring nvidia-nvjitlink-cu12: markers 'platform_system == \"Linux\" and platform_machine == \"x86_64\" and python_version >= \"3.10\" and python_version < \"3.11\"' don't match your environment\n",
      "Ignoring nvidia-nvtx-cu12: markers 'platform_system == \"Linux\" and platform_machine == \"x86_64\" and python_version >= \"3.10\" and python_version < \"3.11\"' don't match your environment\n",
      "Ignoring pexpect: markers 'python_version >= \"3.10\" and python_version < \"3.11\" and sys_platform != \"win32\"' don't match your environment\n",
      "Ignoring ptyprocess: markers 'python_version >= \"3.10\" and python_version < \"3.11\" and sys_platform != \"win32\"' don't match your environment\n",
      "Ignoring pycparser: markers 'python_version >= \"3.10\" and python_version < \"3.11\" and implementation_name == \"pypy\"' don't match your environment\n",
      "Ignoring triton: markers 'platform_system == \"Linux\" and platform_machine == \"x86_64\" and python_version >= \"3.10\" and python_version < \"3.11\"' don't match your environment\n",
      "Requirement already satisfied: anonymeter==0.0.2 in d:\\dropbox\\89_其他應用\\github\\petsard\\.venv\\lib\\site-packages (from -r ../requirements.txt (line 1)) (0.0.2)\n",
      "Requirement already satisfied: asttokens==2.4.1 in d:\\dropbox\\89_其他應用\\github\\petsard\\.venv\\lib\\site-packages (from -r ../requirements.txt (line 7)) (2.4.1)\n",
      "Requirement already satisfied: boto3==1.34.17 in d:\\dropbox\\89_其他應用\\github\\petsard\\.venv\\lib\\site-packages (from -r ../requirements.txt (line 10)) (1.34.17)\n",
      "Requirement already satisfied: botocore==1.34.17 in d:\\dropbox\\89_其他應用\\github\\petsard\\.venv\\lib\\site-packages (from -r ../requirements.txt (line 13)) (1.34.17)\n",
      "Requirement already satisfied: certifi==2023.11.17 in d:\\dropbox\\89_其他應用\\github\\petsard\\.venv\\lib\\site-packages (from -r ../requirements.txt (line 16)) (2023.11.17)\n",
      "Requirement already satisfied: charset-normalizer==3.3.2 in d:\\dropbox\\89_其他應用\\github\\petsard\\.venv\\lib\\site-packages (from -r ../requirements.txt (line 72)) (3.3.2)\n",
      "Requirement already satisfied: cloudpickle==2.2.1 in d:\\dropbox\\89_其他應用\\github\\petsard\\.venv\\lib\\site-packages (from -r ../requirements.txt (line 163)) (2.2.1)\n",
      "Requirement already satisfied: colorama==0.4.6 in d:\\dropbox\\89_其他應用\\github\\petsard\\.venv\\lib\\site-packages (from -r ../requirements.txt (line 166)) (0.4.6)\n",
      "Requirement already satisfied: comm==0.2.1 in d:\\dropbox\\89_其他應用\\github\\petsard\\.venv\\lib\\site-packages (from -r ../requirements.txt (line 169)) (0.2.1)\n",
      "Requirement already satisfied: contourpy==1.2.0 in d:\\dropbox\\89_其他應用\\github\\petsard\\.venv\\lib\\site-packages (from -r ../requirements.txt (line 172)) (1.2.0)\n",
      "Requirement already satisfied: copulas==0.9.2 in d:\\dropbox\\89_其他應用\\github\\petsard\\.venv\\lib\\site-packages (from -r ../requirements.txt (line 217)) (0.9.2)\n",
      "Requirement already satisfied: ctgan==0.8.0 in d:\\dropbox\\89_其他應用\\github\\petsard\\.venv\\lib\\site-packages (from -r ../requirements.txt (line 220)) (0.8.0)\n",
      "Requirement already satisfied: cycler==0.12.1 in d:\\dropbox\\89_其他應用\\github\\petsard\\.venv\\lib\\site-packages (from -r ../requirements.txt (line 223)) (0.12.1)\n",
      "Requirement already satisfied: debugpy==1.8.0 in d:\\dropbox\\89_其他應用\\github\\petsard\\.venv\\lib\\site-packages (from -r ../requirements.txt (line 226)) (1.8.0)\n",
      "Requirement already satisfied: decorator==5.1.1 in d:\\dropbox\\89_其他應用\\github\\petsard\\.venv\\lib\\site-packages (from -r ../requirements.txt (line 245)) (5.1.1)\n",
      "Requirement already satisfied: deepecho==0.5.0 in d:\\dropbox\\89_其他應用\\github\\petsard\\.venv\\lib\\site-packages (from -r ../requirements.txt (line 248)) (0.5.0)\n",
      "Requirement already satisfied: exceptiongroup==1.2.0 in d:\\dropbox\\89_其他應用\\github\\petsard\\.venv\\lib\\site-packages (from -r ../requirements.txt (line 251)) (1.2.0)\n",
      "Requirement already satisfied: executing==2.0.1 in d:\\dropbox\\89_其他應用\\github\\petsard\\.venv\\lib\\site-packages (from -r ../requirements.txt (line 254)) (2.0.1)\n",
      "Requirement already satisfied: faker==19.13.0 in d:\\dropbox\\89_其他應用\\github\\petsard\\.venv\\lib\\site-packages (from -r ../requirements.txt (line 257)) (19.13.0)\n",
      "Requirement already satisfied: filelock==3.13.1 in d:\\dropbox\\89_其他應用\\github\\petsard\\.venv\\lib\\site-packages (from -r ../requirements.txt (line 260)) (3.13.1)\n",
      "Requirement already satisfied: fonttools==4.47.2 in d:\\dropbox\\89_其他應用\\github\\petsard\\.venv\\lib\\site-packages (from -r ../requirements.txt (line 263)) (4.47.2)\n",
      "Requirement already satisfied: fsspec==2023.12.2 in d:\\dropbox\\89_其他應用\\github\\petsard\\.venv\\lib\\site-packages (from -r ../requirements.txt (line 306)) (2023.12.2)\n",
      "Requirement already satisfied: graphviz==0.20.1 in d:\\dropbox\\89_其他應用\\github\\petsard\\.venv\\lib\\site-packages (from -r ../requirements.txt (line 309)) (0.20.1)\n",
      "Requirement already satisfied: idna==3.6 in d:\\dropbox\\89_其他應用\\github\\petsard\\.venv\\lib\\site-packages (from -r ../requirements.txt (line 312)) (3.6)\n",
      "Requirement already satisfied: ipykernel==6.28.0 in d:\\dropbox\\89_其他應用\\github\\petsard\\.venv\\lib\\site-packages (from -r ../requirements.txt (line 315)) (6.28.0)\n",
      "Requirement already satisfied: ipython==8.20.0 in d:\\dropbox\\89_其他應用\\github\\petsard\\.venv\\lib\\site-packages (from -r ../requirements.txt (line 318)) (8.20.0)\n",
      "Requirement already satisfied: jedi==0.19.1 in d:\\dropbox\\89_其他應用\\github\\petsard\\.venv\\lib\\site-packages (from -r ../requirements.txt (line 321)) (0.19.1)\n",
      "Requirement already satisfied: jinja2==3.1.3 in d:\\dropbox\\89_其他應用\\github\\petsard\\.venv\\lib\\site-packages (from -r ../requirements.txt (line 324)) (3.1.3)\n",
      "Requirement already satisfied: jmespath==1.0.1 in d:\\dropbox\\89_其他應用\\github\\petsard\\.venv\\lib\\site-packages (from -r ../requirements.txt (line 327)) (1.0.1)\n",
      "Requirement already satisfied: joblib==1.3.2 in d:\\dropbox\\89_其他應用\\github\\petsard\\.venv\\lib\\site-packages (from -r ../requirements.txt (line 330)) (1.3.2)\n",
      "Requirement already satisfied: jupyter-client==8.6.0 in d:\\dropbox\\89_其他應用\\github\\petsard\\.venv\\lib\\site-packages (from -r ../requirements.txt (line 333)) (8.6.0)\n",
      "Requirement already satisfied: jupyter-core==5.7.1 in d:\\dropbox\\89_其他應用\\github\\petsard\\.venv\\lib\\site-packages (from -r ../requirements.txt (line 336)) (5.7.1)\n",
      "Requirement already satisfied: kiwisolver==1.4.5 in d:\\dropbox\\89_其他應用\\github\\petsard\\.venv\\lib\\site-packages (from -r ../requirements.txt (line 339)) (1.4.5)\n",
      "Requirement already satisfied: llvmlite==0.41.1 in d:\\dropbox\\89_其他應用\\github\\petsard\\.venv\\lib\\site-packages (from -r ../requirements.txt (line 444)) (0.41.1)\n",
      "Requirement already satisfied: markupsafe==2.1.3 in d:\\dropbox\\89_其他應用\\github\\petsard\\.venv\\lib\\site-packages (from -r ../requirements.txt (line 469)) (2.1.3)\n",
      "Requirement already satisfied: matplotlib-inline==0.1.6 in d:\\dropbox\\89_其他應用\\github\\petsard\\.venv\\lib\\site-packages (from -r ../requirements.txt (line 530)) (0.1.6)\n",
      "Requirement already satisfied: matplotlib==3.8.2 in d:\\dropbox\\89_其他應用\\github\\petsard\\.venv\\lib\\site-packages (from -r ../requirements.txt (line 533)) (3.8.2)\n",
      "Requirement already satisfied: mpmath==1.3.0 in d:\\dropbox\\89_其他應用\\github\\petsard\\.venv\\lib\\site-packages (from -r ../requirements.txt (line 562)) (1.3.0)\n",
      "Requirement already satisfied: nest-asyncio==1.5.8 in d:\\dropbox\\89_其他應用\\github\\petsard\\.venv\\lib\\site-packages (from -r ../requirements.txt (line 565)) (1.5.8)\n",
      "Requirement already satisfied: networkx==3.2.1 in d:\\dropbox\\89_其他應用\\github\\petsard\\.venv\\lib\\site-packages (from -r ../requirements.txt (line 568)) (3.2.1)\n",
      "Requirement already satisfied: numba==0.58.1 in d:\\dropbox\\89_其他應用\\github\\petsard\\.venv\\lib\\site-packages (from -r ../requirements.txt (line 571)) (0.58.1)\n",
      "Requirement already satisfied: numpy==1.23.5 in d:\\dropbox\\89_其他應用\\github\\petsard\\.venv\\lib\\site-packages (from -r ../requirements.txt (line 593)) (1.23.5)\n",
      "Requirement already satisfied: packaging==23.2 in d:\\dropbox\\89_其他應用\\github\\petsard\\.venv\\lib\\site-packages (from -r ../requirements.txt (line 656)) (23.2)\n",
      "Requirement already satisfied: pandas==1.5.3 in d:\\dropbox\\89_其他應用\\github\\petsard\\.venv\\lib\\site-packages (from -r ../requirements.txt (line 659)) (1.5.3)\n",
      "Requirement already satisfied: parso==0.8.3 in d:\\dropbox\\89_其他應用\\github\\petsard\\.venv\\lib\\site-packages (from -r ../requirements.txt (line 687)) (0.8.3)\n",
      "Requirement already satisfied: pillow==10.2.0 in d:\\dropbox\\89_其他應用\\github\\petsard\\.venv\\lib\\site-packages (from -r ../requirements.txt (line 693)) (10.2.0)\n",
      "Requirement already satisfied: pip==23.3.2 in d:\\dropbox\\89_其他應用\\github\\petsard\\.venv\\lib\\site-packages (from -r ../requirements.txt (line 762)) (23.3.2)\n",
      "Requirement already satisfied: platformdirs==4.1.0 in d:\\dropbox\\89_其他應用\\github\\petsard\\.venv\\lib\\site-packages (from -r ../requirements.txt (line 765)) (4.1.0)\n",
      "Requirement already satisfied: plotly==5.18.0 in d:\\dropbox\\89_其他應用\\github\\petsard\\.venv\\lib\\site-packages (from -r ../requirements.txt (line 768)) (5.18.0)\n",
      "Requirement already satisfied: prompt-toolkit==3.0.43 in d:\\dropbox\\89_其他應用\\github\\petsard\\.venv\\lib\\site-packages (from -r ../requirements.txt (line 771)) (3.0.43)\n",
      "Requirement already satisfied: psutil==5.9.7 in d:\\dropbox\\89_其他應用\\github\\petsard\\.venv\\lib\\site-packages (from -r ../requirements.txt (line 774)) (5.9.7)\n",
      "Requirement already satisfied: pure-eval==0.2.2 in d:\\dropbox\\89_其他應用\\github\\petsard\\.venv\\lib\\site-packages (from -r ../requirements.txt (line 794)) (0.2.2)\n",
      "Requirement already satisfied: pygments==2.17.2 in d:\\dropbox\\89_其他應用\\github\\petsard\\.venv\\lib\\site-packages (from -r ../requirements.txt (line 800)) (2.17.2)\n",
      "Requirement already satisfied: pyparsing==3.1.1 in d:\\dropbox\\89_其他應用\\github\\petsard\\.venv\\lib\\site-packages (from -r ../requirements.txt (line 803)) (3.1.1)\n",
      "Requirement already satisfied: python-dateutil==2.8.2 in d:\\dropbox\\89_其他應用\\github\\petsard\\.venv\\lib\\site-packages (from -r ../requirements.txt (line 806)) (2.8.2)\n",
      "Requirement already satisfied: pytz==2023.3.post1 in d:\\dropbox\\89_其他應用\\github\\petsard\\.venv\\lib\\site-packages (from -r ../requirements.txt (line 809)) (2023.3.post1)\n",
      "Requirement already satisfied: pywin32==306 in d:\\dropbox\\89_其他應用\\github\\petsard\\.venv\\lib\\site-packages (from -r ../requirements.txt (line 812)) (306)\n",
      "Requirement already satisfied: pyyaml==6.0.1 in d:\\dropbox\\89_其他應用\\github\\petsard\\.venv\\lib\\site-packages (from -r ../requirements.txt (line 827)) (6.0.1)\n",
      "Requirement already satisfied: pyzmq==25.1.2 in d:\\dropbox\\89_其他應用\\github\\petsard\\.venv\\lib\\site-packages (from -r ../requirements.txt (line 878)) (25.1.2)\n",
      "Requirement already satisfied: rdt==1.9.1 in d:\\dropbox\\89_其他應用\\github\\petsard\\.venv\\lib\\site-packages (from -r ../requirements.txt (line 972)) (1.9.1)\n",
      "Requirement already satisfied: requests==2.31.0 in d:\\dropbox\\89_其他應用\\github\\petsard\\.venv\\lib\\site-packages (from -r ../requirements.txt (line 975)) (2.31.0)\n",
      "Requirement already satisfied: s3transfer==0.10.0 in d:\\dropbox\\89_其他應用\\github\\petsard\\.venv\\lib\\site-packages (from -r ../requirements.txt (line 978)) (0.10.0)\n",
      "Requirement already satisfied: scikit-learn==1.3.2 in d:\\dropbox\\89_其他應用\\github\\petsard\\.venv\\lib\\site-packages (from -r ../requirements.txt (line 981)) (1.3.2)\n",
      "Requirement already satisfied: scipy==1.11.4 in d:\\dropbox\\89_其他應用\\github\\petsard\\.venv\\lib\\site-packages (from -r ../requirements.txt (line 1008)) (1.11.4)\n",
      "Requirement already satisfied: sdmetrics==0.13.0 in d:\\dropbox\\89_其他應用\\github\\petsard\\.venv\\lib\\site-packages (from -r ../requirements.txt (line 1034)) (0.13.0)\n",
      "Requirement already satisfied: sdv==1.9.0 in d:\\dropbox\\89_其他應用\\github\\petsard\\.venv\\lib\\site-packages (from -r ../requirements.txt (line 1037)) (1.9.0)\n",
      "Requirement already satisfied: six==1.16.0 in d:\\dropbox\\89_其他應用\\github\\petsard\\.venv\\lib\\site-packages (from -r ../requirements.txt (line 1040)) (1.16.0)\n",
      "Requirement already satisfied: stack-data==0.6.3 in d:\\dropbox\\89_其他應用\\github\\petsard\\.venv\\lib\\site-packages (from -r ../requirements.txt (line 1043)) (0.6.3)\n",
      "Requirement already satisfied: sympy==1.12 in d:\\dropbox\\89_其他應用\\github\\petsard\\.venv\\lib\\site-packages (from -r ../requirements.txt (line 1046)) (1.12)\n",
      "Requirement already satisfied: tenacity==8.2.3 in d:\\dropbox\\89_其他應用\\github\\petsard\\.venv\\lib\\site-packages (from -r ../requirements.txt (line 1049)) (8.2.3)\n",
      "Requirement already satisfied: threadpoolctl==3.2.0 in d:\\dropbox\\89_其他應用\\github\\petsard\\.venv\\lib\\site-packages (from -r ../requirements.txt (line 1052)) (3.2.0)\n",
      "Requirement already satisfied: torch==2.1.2 in d:\\dropbox\\89_其他應用\\github\\petsard\\.venv\\lib\\site-packages (from -r ../requirements.txt (line 1055)) (2.1.2)\n",
      "Requirement already satisfied: tornado==6.4 in d:\\dropbox\\89_其他應用\\github\\petsard\\.venv\\lib\\site-packages (from -r ../requirements.txt (line 1076)) (6.4)\n",
      "Requirement already satisfied: tqdm==4.66.1 in d:\\dropbox\\89_其他應用\\github\\petsard\\.venv\\lib\\site-packages (from -r ../requirements.txt (line 1088)) (4.66.1)\n",
      "Requirement already satisfied: traitlets==5.14.1 in d:\\dropbox\\89_其他應用\\github\\petsard\\.venv\\lib\\site-packages (from -r ../requirements.txt (line 1091)) (5.14.1)\n",
      "Requirement already satisfied: typing-extensions==4.9.0 in d:\\dropbox\\89_其他應用\\github\\petsard\\.venv\\lib\\site-packages (from -r ../requirements.txt (line 1103)) (4.9.0)\n",
      "Requirement already satisfied: urllib3==1.25.11 in d:\\dropbox\\89_其他應用\\github\\petsard\\.venv\\lib\\site-packages (from -r ../requirements.txt (line 1106)) (1.25.11)\n",
      "Requirement already satisfied: wcwidth==0.2.13 in d:\\dropbox\\89_其他應用\\github\\petsard\\.venv\\lib\\site-packages (from -r ../requirements.txt (line 1109)) (0.2.13)\n"
     ]
    }
   ],
   "source": [
    "import os\n",
    "\n",
    "# requirement\n",
    "!pip install -r ../requirements.txt\n",
    "# Set path to config file\n",
    "os.environ[\"SAGEMAKER_USER_CONFIG_OVERRIDE\"] = os.getcwd()"
   ]
  },
  {
   "cell_type": "code",
   "execution_count": 2,
   "metadata": {},
   "outputs": [
    {
     "name": "stdout",
     "output_type": "stream",
     "text": [
      "sagemaker.config INFO - Not applying SDK defaults from location: C:\\ProgramData\\sagemaker\\sagemaker\\config.yaml\n",
      "sagemaker.config INFO - Fetched defaults config from location: d:\\Dropbox\\89_其他應用\\GitHub\\PETsARD\\demo\n"
     ]
    },
    {
     "name": "stderr",
     "output_type": "stream",
     "text": [
      "INFO:botocore.credentials:Found credentials in shared credentials file: ~/.aws/credentials\n"
     ]
    },
    {
     "name": "stdout",
     "output_type": "stream",
     "text": [
      "sagemaker.config INFO - Applied value from config key = SageMaker.PythonSDK.Modules.RemoteFunction.Dependencies\n",
      "sagemaker.config INFO - Applied value from config key = SageMaker.PythonSDK.Modules.RemoteFunction.InstanceType\n"
     ]
    },
    {
     "name": "stderr",
     "output_type": "stream",
     "text": [
      "WARNING:sagemaker:Couldn't call 'get_role' to get Role ARN from role name justyn.chen to get Role path.\n"
     ]
    },
    {
     "ename": "ValueError",
     "evalue": "The current AWS identity is not a role: arn:aws:iam::319617166344:user/justyn.chen, therefore it cannot be used as a SageMaker execution role",
     "output_type": "error",
     "traceback": [
      "\u001b[1;31m---------------------------------------------------------------------------\u001b[0m",
      "\u001b[1;31mValueError\u001b[0m                                Traceback (most recent call last)",
      "Cell \u001b[1;32mIn[2], line 5\u001b[0m\n\u001b[0;32m      1\u001b[0m \u001b[39mfrom\u001b[39;00m \u001b[39msagemaker\u001b[39;00m\u001b[39m.\u001b[39;00m\u001b[39mremote_function\u001b[39;00m \u001b[39mimport\u001b[39;00m remote\n\u001b[0;32m      4\u001b[0m \u001b[39m@remote\u001b[39;49m\n\u001b[1;32m----> 5\u001b[0m \u001b[39mdef\u001b[39;49;00m \u001b[39mdivide\u001b[39;49m(x, y):\n\u001b[0;32m      6\u001b[0m     \u001b[39mprint\u001b[39;49m(\u001b[39mf\u001b[39;49m\u001b[39m\"\u001b[39;49m\u001b[39mCalculating \u001b[39;49m\u001b[39m{\u001b[39;49;00mx\u001b[39m}\u001b[39;49;00m\u001b[39m/\u001b[39;49m\u001b[39m{\u001b[39;49;00my\u001b[39m}\u001b[39;49;00m\u001b[39m\"\u001b[39;49m)\n\u001b[0;32m      7\u001b[0m     \u001b[39mreturn\u001b[39;49;00m x \u001b[39m/\u001b[39;49m y\n",
      "File \u001b[1;32md:\\Dropbox\\89_其他應用\\GitHub\\PETsARD\\.venv\\lib\\site-packages\\sagemaker\\remote_function\\client.py:386\u001b[0m, in \u001b[0;36mremote\u001b[1;34m(_func, dependencies, pre_execution_commands, pre_execution_script, environment_variables, image_uri, include_local_workdir, custom_file_filter, instance_count, instance_type, job_conda_env, job_name_prefix, keep_alive_period_in_seconds, max_retry_attempts, max_runtime_in_seconds, role, s3_kms_key, s3_root_uri, sagemaker_session, security_group_ids, subnets, tags, volume_kms_key, volume_size, encrypt_inter_container_traffic, spark_config, use_spot_instances, max_wait_time_in_seconds)\u001b[0m\n\u001b[0;32m    384\u001b[0m \u001b[39mif\u001b[39;00m _func \u001b[39mis\u001b[39;00m \u001b[39mNone\u001b[39;00m:\n\u001b[0;32m    385\u001b[0m     \u001b[39mreturn\u001b[39;00m _remote\n\u001b[1;32m--> 386\u001b[0m \u001b[39mreturn\u001b[39;00m _remote(_func)\n",
      "File \u001b[1;32md:\\Dropbox\\89_其他應用\\GitHub\\PETsARD\\.venv\\lib\\site-packages\\sagemaker\\remote_function\\client.py:282\u001b[0m, in \u001b[0;36mremote.<locals>._remote\u001b[1;34m(func)\u001b[0m\n\u001b[0;32m    280\u001b[0m \u001b[39mdef\u001b[39;00m \u001b[39m_remote\u001b[39m(func):\n\u001b[1;32m--> 282\u001b[0m     job_settings \u001b[39m=\u001b[39m _JobSettings(\n\u001b[0;32m    283\u001b[0m         dependencies\u001b[39m=\u001b[39;49mdependencies,\n\u001b[0;32m    284\u001b[0m         pre_execution_commands\u001b[39m=\u001b[39;49mpre_execution_commands,\n\u001b[0;32m    285\u001b[0m         pre_execution_script\u001b[39m=\u001b[39;49mpre_execution_script,\n\u001b[0;32m    286\u001b[0m         environment_variables\u001b[39m=\u001b[39;49menvironment_variables,\n\u001b[0;32m    287\u001b[0m         image_uri\u001b[39m=\u001b[39;49mimage_uri,\n\u001b[0;32m    288\u001b[0m         include_local_workdir\u001b[39m=\u001b[39;49minclude_local_workdir,\n\u001b[0;32m    289\u001b[0m         custom_file_filter\u001b[39m=\u001b[39;49mcustom_file_filter,\n\u001b[0;32m    290\u001b[0m         instance_count\u001b[39m=\u001b[39;49minstance_count,\n\u001b[0;32m    291\u001b[0m         instance_type\u001b[39m=\u001b[39;49minstance_type,\n\u001b[0;32m    292\u001b[0m         job_conda_env\u001b[39m=\u001b[39;49mjob_conda_env,\n\u001b[0;32m    293\u001b[0m         job_name_prefix\u001b[39m=\u001b[39;49mjob_name_prefix,\n\u001b[0;32m    294\u001b[0m         keep_alive_period_in_seconds\u001b[39m=\u001b[39;49mkeep_alive_period_in_seconds,\n\u001b[0;32m    295\u001b[0m         max_retry_attempts\u001b[39m=\u001b[39;49mmax_retry_attempts,\n\u001b[0;32m    296\u001b[0m         max_runtime_in_seconds\u001b[39m=\u001b[39;49mmax_runtime_in_seconds,\n\u001b[0;32m    297\u001b[0m         role\u001b[39m=\u001b[39;49mrole,\n\u001b[0;32m    298\u001b[0m         s3_kms_key\u001b[39m=\u001b[39;49ms3_kms_key,\n\u001b[0;32m    299\u001b[0m         s3_root_uri\u001b[39m=\u001b[39;49ms3_root_uri,\n\u001b[0;32m    300\u001b[0m         sagemaker_session\u001b[39m=\u001b[39;49msagemaker_session,\n\u001b[0;32m    301\u001b[0m         security_group_ids\u001b[39m=\u001b[39;49msecurity_group_ids,\n\u001b[0;32m    302\u001b[0m         subnets\u001b[39m=\u001b[39;49msubnets,\n\u001b[0;32m    303\u001b[0m         tags\u001b[39m=\u001b[39;49mtags,\n\u001b[0;32m    304\u001b[0m         volume_kms_key\u001b[39m=\u001b[39;49mvolume_kms_key,\n\u001b[0;32m    305\u001b[0m         volume_size\u001b[39m=\u001b[39;49mvolume_size,\n\u001b[0;32m    306\u001b[0m         encrypt_inter_container_traffic\u001b[39m=\u001b[39;49mencrypt_inter_container_traffic,\n\u001b[0;32m    307\u001b[0m         spark_config\u001b[39m=\u001b[39;49mspark_config,\n\u001b[0;32m    308\u001b[0m         use_spot_instances\u001b[39m=\u001b[39;49muse_spot_instances,\n\u001b[0;32m    309\u001b[0m         max_wait_time_in_seconds\u001b[39m=\u001b[39;49mmax_wait_time_in_seconds,\n\u001b[0;32m    310\u001b[0m     )\n\u001b[0;32m    312\u001b[0m     \u001b[39m@functools\u001b[39m\u001b[39m.\u001b[39mwraps(func)\n\u001b[0;32m    313\u001b[0m     \u001b[39mdef\u001b[39;00m \u001b[39mwrapper\u001b[39m(\u001b[39m*\u001b[39margs, \u001b[39m*\u001b[39m\u001b[39m*\u001b[39mkwargs):\n\u001b[0;32m    315\u001b[0m         \u001b[39mif\u001b[39;00m instance_count \u001b[39m>\u001b[39m \u001b[39m1\u001b[39m \u001b[39mand\u001b[39;00m \u001b[39mnot\u001b[39;00m spark_config:\n",
      "File \u001b[1;32md:\\Dropbox\\89_其他應用\\GitHub\\PETsARD\\.venv\\lib\\site-packages\\sagemaker\\remote_function\\job.py:515\u001b[0m, in \u001b[0;36m_JobSettings.__init__\u001b[1;34m(self, dependencies, pre_execution_commands, pre_execution_script, environment_variables, image_uri, include_local_workdir, custom_file_filter, instance_count, instance_type, job_conda_env, job_name_prefix, keep_alive_period_in_seconds, max_retry_attempts, max_runtime_in_seconds, role, s3_kms_key, s3_root_uri, sagemaker_session, security_group_ids, subnets, tags, volume_kms_key, volume_size, encrypt_inter_container_traffic, spark_config, use_spot_instances, max_wait_time_in_seconds)\u001b[0m\n\u001b[0;32m    513\u001b[0m     \u001b[39mself\u001b[39m\u001b[39m.\u001b[39mrole \u001b[39m=\u001b[39m \u001b[39mself\u001b[39m\u001b[39m.\u001b[39msagemaker_session\u001b[39m.\u001b[39mexpand_role(_role)\n\u001b[0;32m    514\u001b[0m \u001b[39melse\u001b[39;00m:\n\u001b[1;32m--> 515\u001b[0m     \u001b[39mself\u001b[39m\u001b[39m.\u001b[39mrole \u001b[39m=\u001b[39m get_execution_role(\u001b[39mself\u001b[39;49m\u001b[39m.\u001b[39;49msagemaker_session)\n\u001b[0;32m    517\u001b[0m \u001b[39mself\u001b[39m\u001b[39m.\u001b[39ms3_root_uri \u001b[39m=\u001b[39m resolve_value_from_config(\n\u001b[0;32m    518\u001b[0m     direct_input\u001b[39m=\u001b[39ms3_root_uri,\n\u001b[0;32m    519\u001b[0m     config_path\u001b[39m=\u001b[39mREMOTE_FUNCTION_S3_ROOT_URI,\n\u001b[1;32m   (...)\u001b[0m\n\u001b[0;32m    525\u001b[0m     sagemaker_session\u001b[39m=\u001b[39m\u001b[39mself\u001b[39m\u001b[39m.\u001b[39msagemaker_session,\n\u001b[0;32m    526\u001b[0m )\n\u001b[0;32m    528\u001b[0m \u001b[39mself\u001b[39m\u001b[39m.\u001b[39ms3_kms_key \u001b[39m=\u001b[39m resolve_value_from_config(\n\u001b[0;32m    529\u001b[0m     direct_input\u001b[39m=\u001b[39ms3_kms_key,\n\u001b[0;32m    530\u001b[0m     config_path\u001b[39m=\u001b[39mREMOTE_FUNCTION_S3_KMS_KEY_ID,\n\u001b[0;32m    531\u001b[0m     sagemaker_session\u001b[39m=\u001b[39m\u001b[39mself\u001b[39m\u001b[39m.\u001b[39msagemaker_session,\n\u001b[0;32m    532\u001b[0m )\n",
      "File \u001b[1;32md:\\Dropbox\\89_其他應用\\GitHub\\PETsARD\\.venv\\lib\\site-packages\\sagemaker\\session.py:6968\u001b[0m, in \u001b[0;36mget_execution_role\u001b[1;34m(sagemaker_session, use_default)\u001b[0m\n\u001b[0;32m   6962\u001b[0m     \u001b[39mreturn\u001b[39;00m iam_client\u001b[39m.\u001b[39mget_role(RoleName\u001b[39m=\u001b[39mdefault_role_name)[\u001b[39m\"\u001b[39m\u001b[39mRole\u001b[39m\u001b[39m\"\u001b[39m][\u001b[39m\"\u001b[39m\u001b[39mArn\u001b[39m\u001b[39m\"\u001b[39m]\n\u001b[0;32m   6964\u001b[0m message \u001b[39m=\u001b[39m (\n\u001b[0;32m   6965\u001b[0m     \u001b[39m\"\u001b[39m\u001b[39mThe current AWS identity is not a role: \u001b[39m\u001b[39m{}\u001b[39;00m\u001b[39m, therefore it cannot be used as a \u001b[39m\u001b[39m\"\u001b[39m\n\u001b[0;32m   6966\u001b[0m     \u001b[39m\"\u001b[39m\u001b[39mSageMaker execution role\u001b[39m\u001b[39m\"\u001b[39m\n\u001b[0;32m   6967\u001b[0m )\n\u001b[1;32m-> 6968\u001b[0m \u001b[39mraise\u001b[39;00m \u001b[39mValueError\u001b[39;00m(message\u001b[39m.\u001b[39mformat(arn))\n",
      "\u001b[1;31mValueError\u001b[0m: The current AWS identity is not a role: arn:aws:iam::319617166344:user/justyn.chen, therefore it cannot be used as a SageMaker execution role"
     ]
    }
   ],
   "source": [
    "from sagemaker.remote_function import remote\n",
    "\n",
    "\n",
    "@remote\n",
    "def divide(x, y):\n",
    "    print(f\"Calculating {x}/{y}\")\n",
    "    return x / y\n",
    "\n",
    "\n",
    "divide(3, 2)"
   ]
  }
 ],
 "metadata": {
  "kernelspec": {
   "display_name": ".venv",
   "language": "python",
   "name": "python3"
  },
  "language_info": {
   "codemirror_mode": {
    "name": "ipython",
    "version": 3
   },
   "file_extension": ".py",
   "mimetype": "text/x-python",
   "name": "python",
   "nbconvert_exporter": "python",
   "pygments_lexer": "ipython3",
   "version": "3.10.13"
  },
  "orig_nbformat": 4
 },
 "nbformat": 4,
 "nbformat_minor": 2
}
