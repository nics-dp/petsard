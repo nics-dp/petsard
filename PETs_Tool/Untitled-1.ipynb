{
 "cells": [
  {
   "cell_type": "code",
   "execution_count": 1,
   "metadata": {},
   "outputs": [
    {
     "name": "stdout",
     "output_type": "stream",
     "text": [
      "{'age': 'int64', 'workclass': 'object', 'fnlwgt': 'int64', 'education': 'object', 'educational-num': 'int64', 'marital-status': 'object', 'occupation': 'object', 'relationship': 'object', 'race': 'object', 'gender': 'object', 'capital-gain': 'int64', 'capital-loss': 'int64', 'hours-per-week': 'int64', 'native-country': 'object', 'income': 'object'}\n"
     ]
    },
    {
     "ename": "AttributeError",
     "evalue": "'PETs_Describer' object has no attribute 'dtypes'",
     "output_type": "error",
     "traceback": [
      "\u001b[1;31m---------------------------------------------------------------------------\u001b[0m",
      "\u001b[1;31mAttributeError\u001b[0m                            Traceback (most recent call last)",
      "\u001b[1;32mc:\\Users\\justyn.chen\\Desktop\\PETs-Experiment\\PETs_Tool\\Untitled-1.ipynb Cell 1\u001b[0m line \u001b[0;36m1\n\u001b[0;32m     <a href='vscode-notebook-cell:/c%3A/Users/justyn.chen/Desktop/PETs-Experiment/PETs_Tool/Untitled-1.ipynb#W1sZmlsZQ%3D%3D?line=9'>10</a>\u001b[0m Loader \u001b[39m=\u001b[39m PETs_Tool\u001b[39m.\u001b[39mPETs_Loader(\u001b[39m'\u001b[39m\u001b[39mdata/[Adt Income] adult.csv\u001b[39m\u001b[39m'\u001b[39m\n\u001b[0;32m     <a href='vscode-notebook-cell:/c%3A/Users/justyn.chen/Desktop/PETs-Experiment/PETs_Tool/Untitled-1.ipynb#W1sZmlsZQ%3D%3D?line=10'>11</a>\u001b[0m                             ,{\u001b[39m'\u001b[39m\u001b[39mread_params\u001b[39m\u001b[39m'\u001b[39m: {\u001b[39m'\u001b[39m\u001b[39mdowncast\u001b[39m\u001b[39m'\u001b[39m       : \u001b[39m'\u001b[39m\u001b[39mN\u001b[39m\u001b[39m'\u001b[39m}\n\u001b[0;32m     <a href='vscode-notebook-cell:/c%3A/Users/justyn.chen/Desktop/PETs-Experiment/PETs_Tool/Untitled-1.ipynb#W1sZmlsZQ%3D%3D?line=11'>12</a>\u001b[0m                              }\n\u001b[0;32m     <a href='vscode-notebook-cell:/c%3A/Users/justyn.chen/Desktop/PETs-Experiment/PETs_Tool/Untitled-1.ipynb#W1sZmlsZQ%3D%3D?line=12'>13</a>\u001b[0m                             )\n\u001b[0;32m     <a href='vscode-notebook-cell:/c%3A/Users/justyn.chen/Desktop/PETs-Experiment/PETs_Tool/Untitled-1.ipynb#W1sZmlsZQ%3D%3D?line=13'>14</a>\u001b[0m \u001b[39mprint\u001b[39m(Loader\u001b[39m.\u001b[39mdtypes)\n\u001b[1;32m---> <a href='vscode-notebook-cell:/c%3A/Users/justyn.chen/Desktop/PETs-Experiment/PETs_Tool/Untitled-1.ipynb#W1sZmlsZQ%3D%3D?line=14'>15</a>\u001b[0m Describer \u001b[39m=\u001b[39m PETs_Tool\u001b[39m.\u001b[39;49mPETs_Describer(Loader)\n\u001b[0;32m     <a href='vscode-notebook-cell:/c%3A/Users/justyn.chen/Desktop/PETs-Experiment/PETs_Tool/Untitled-1.ipynb#W1sZmlsZQ%3D%3D?line=16'>17</a>\u001b[0m \u001b[39mfrom\u001b[39;00m \u001b[39mPETs_report_desc\u001b[39;00m \u001b[39mimport\u001b[39;00m PETs_Desc_Reporter\n\u001b[0;32m     <a href='vscode-notebook-cell:/c%3A/Users/justyn.chen/Desktop/PETs-Experiment/PETs_Tool/Untitled-1.ipynb#W1sZmlsZQ%3D%3D?line=17'>18</a>\u001b[0m PETs_Tool\u001b[39m.\u001b[39mPETs_Describer(Describer)\n",
      "File \u001b[1;32m~\\Desktop\\PETs-Experiment\\PETs_Tool\\PETs_desc_data.py:34\u001b[0m, in \u001b[0;36mPETs_Describer.__init__\u001b[1;34m(self, loader, params, **kwargs)\u001b[0m\n\u001b[0;32m     30\u001b[0m     \u001b[39m####### ####### #######\u001b[39;00m\n\u001b[0;32m     31\u001b[0m     \u001b[39m# init - describe     #\u001b[39;00m\n\u001b[0;32m     32\u001b[0m     \u001b[39m####### ####### #######\u001b[39;00m\n\u001b[0;32m     33\u001b[0m     \u001b[39mif\u001b[39;00m \u001b[39mself\u001b[39m\u001b[39m.\u001b[39mparams[\u001b[39m'\u001b[39m\u001b[39mdescribe\u001b[39m\u001b[39m'\u001b[39m] \u001b[39m==\u001b[39m \u001b[39m'\u001b[39m\u001b[39mY\u001b[39m\u001b[39m'\u001b[39m:\n\u001b[1;32m---> 34\u001b[0m         \u001b[39mself\u001b[39;49m\u001b[39m.\u001b[39;49mdescribe(\u001b[39m*\u001b[39;49m\u001b[39m*\u001b[39;49m\u001b[39mself\u001b[39;49m\u001b[39m.\u001b[39;49mparams[\u001b[39m'\u001b[39;49m\u001b[39mdescribe_params\u001b[39;49m\u001b[39m'\u001b[39;49m])\n\u001b[0;32m     35\u001b[0m \u001b[39melse\u001b[39;00m:\n\u001b[0;32m     36\u001b[0m     \u001b[39mimport\u001b[39;00m \u001b[39mwarnings\u001b[39;00m\n",
      "File \u001b[1;32m~\\Desktop\\PETs-Experiment\\PETs_Tool\\PETs_desc_data.py:57\u001b[0m, in \u001b[0;36mPETs_Describer.describe\u001b[1;34m(self, dist_fitting, correlation, collinearity, missing_level, **kwargs)\u001b[0m\n\u001b[0;32m     55\u001b[0m __describe \u001b[39m=\u001b[39m {}\n\u001b[0;32m     56\u001b[0m __missing  \u001b[39m=\u001b[39m {}\n\u001b[1;32m---> 57\u001b[0m \u001b[39mfor\u001b[39;00m __col ,__col_dtype \u001b[39min\u001b[39;00m \u001b[39mself\u001b[39;49m\u001b[39m.\u001b[39;49mdtypes\u001b[39m.\u001b[39mitems():\n\u001b[0;32m     58\u001b[0m     __col_value \u001b[39m=\u001b[39m \u001b[39mself\u001b[39m\u001b[39m.\u001b[39mdata[__col]\u001b[39m.\u001b[39mvalues\n\u001b[0;32m     60\u001b[0m     __col_describe \u001b[39m=\u001b[39m {}\n",
      "\u001b[1;31mAttributeError\u001b[0m: 'PETs_Describer' object has no attribute 'dtypes'"
     ]
    }
   ],
   "source": [
    "import os\n",
    "os.chdir('C:\\\\Users\\\\justyn.chen\\\\Desktop\\\\PETs-Experiment')\n",
    "\n",
    "# reload during dev\n",
    "from importlib import reload\n",
    "import PETs_Tool\n",
    "PETs_Tool = reload(PETs_Tool)\n",
    "\n",
    "\n",
    "Loader = PETs_Tool.PETs_Loader('data/[Adt Income] adult.csv'\n",
    "                            ,{'read_params': {'downcast'       : 'N'}\n",
    "                             }\n",
    "                            )\n",
    "Describer = PETs_Tool.PETs_Describer(Loader)\n",
    "\n",
    "from PETs_report_desc import PETs_Desc_Reporter\n",
    "PETs_Tool.PETs_Describer(Describer)"
   ]
  }
 ],
 "metadata": {
  "kernelspec": {
   "display_name": "Python 3",
   "language": "python",
   "name": "python3"
  },
  "language_info": {
   "codemirror_mode": {
    "name": "ipython",
    "version": 3
   },
   "file_extension": ".py",
   "mimetype": "text/x-python",
   "name": "python",
   "nbconvert_exporter": "python",
   "pygments_lexer": "ipython3",
   "version": "3.11.6"
  }
 },
 "nbformat": 4,
 "nbformat_minor": 2
}
